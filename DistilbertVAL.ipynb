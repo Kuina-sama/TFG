{
 "cells": [
  {
   "cell_type": "code",
   "execution_count": 1,
   "metadata": {},
   "outputs": [],
   "source": [
    "import torch\n",
    "from torch.utils.data import DataLoader\n",
    "from torch.optim import AdamW,SGD \n",
    "\n",
    "from datasets import load_dataset, load_metric\n",
    "\n",
    "import matplotlib.pyplot as plt\n",
    "\n",
    "import json\n",
    "\n",
    "\n",
    "from transformers import AutoTokenizer"
   ]
  },
  {
   "cell_type": "code",
   "execution_count": 2,
   "metadata": {},
   "outputs": [],
   "source": [
    "import dependency_model as dep"
   ]
  },
  {
   "attachments": {},
   "cell_type": "markdown",
   "metadata": {},
   "source": [
    "# Auxiliar"
   ]
  },
  {
   "cell_type": "code",
   "execution_count": 3,
   "metadata": {},
   "outputs": [
    {
     "data": {
      "text/plain": [
       "<torch._C.Generator at 0x1b39fc11550>"
      ]
     },
     "execution_count": 3,
     "metadata": {},
     "output_type": "execute_result"
    }
   ],
   "source": [
    "device = torch.device(\"cuda\") if torch.cuda.is_available() else torch.device(\"cpu\")\n",
    "torch.manual_seed(27)"
   ]
  },
  {
   "cell_type": "code",
   "execution_count": 4,
   "metadata": {},
   "outputs": [],
   "source": [
    "tokenizer = AutoTokenizer.from_pretrained(\"distilbert-base-uncased\")"
   ]
  },
  {
   "attachments": {},
   "cell_type": "markdown",
   "metadata": {},
   "source": [
    "# Procesado datos train: ConvAI2"
   ]
  },
  {
   "cell_type": "code",
   "execution_count": 5,
   "metadata": {},
   "outputs": [],
   "source": [
    "with open('Datasets\\ConvAI2\\convai_complete.json','r') as f:\n",
    "    data = json.load(f)"
   ]
  },
  {
   "cell_type": "code",
   "execution_count": 6,
   "metadata": {},
   "outputs": [],
   "source": [
    "# Utilizo convai2 para crear el vocabulario porque es el conjunto más grande de los usados\n",
    "vocab = dep.Vocabulary(data,'relative')\n",
    "convai_tokenized = dep.tokenize_dataset_with_dependencies(data,tokenizer,['to','as','about'],vocab)"
   ]
  },
  {
   "cell_type": "code",
   "execution_count": 7,
   "metadata": {},
   "outputs": [],
   "source": [
    "convai_size = len(convai_tokenized)"
   ]
  },
  {
   "cell_type": "code",
   "execution_count": 8,
   "metadata": {},
   "outputs": [],
   "source": [
    "val_size = round(convai_size *0.1)\n",
    "train_size = convai_size - val_size"
   ]
  },
  {
   "attachments": {},
   "cell_type": "markdown",
   "metadata": {},
   "source": [
    "# Procesado datos evaluación: md_gender"
   ]
  },
  {
   "cell_type": "code",
   "execution_count": 9,
   "metadata": {},
   "outputs": [],
   "source": [
    "with open('Datasets\\md_gender\\md_complete.json','r',encoding=\"utf8\") as f:\n",
    "    md_data = json.load(f)"
   ]
  },
  {
   "cell_type": "code",
   "execution_count": 10,
   "metadata": {},
   "outputs": [],
   "source": [
    "md_tokenized = dep.tokenize_dataset_with_dependencies(md_data,tokenizer,['to','as','about'],vocab)"
   ]
  },
  {
   "attachments": {},
   "cell_type": "markdown",
   "metadata": {},
   "source": [
    "# Creación dataloaders"
   ]
  },
  {
   "cell_type": "code",
   "execution_count": 11,
   "metadata": {},
   "outputs": [],
   "source": [
    "convai_dataset = dep.CustomDataset(convai_tokenized,['to','as','about'],eval=False)\n",
    "md_dataset = dep.CustomDataset(md_tokenized,['to','as','about'],eval=True)\n",
    "\n"
   ]
  },
  {
   "cell_type": "code",
   "execution_count": 12,
   "metadata": {},
   "outputs": [],
   "source": [
    "convai_train, convai_val = torch.utils.data.random_split(convai_dataset,[train_size,val_size])"
   ]
  },
  {
   "cell_type": "code",
   "execution_count": 13,
   "metadata": {},
   "outputs": [],
   "source": [
    "dl_train =DataLoader(convai_train,batch_size=64,shuffle=True,collate_fn=dep.collate_fn)\n",
    "dl_val =DataLoader(convai_val,batch_size=64,shuffle=False,collate_fn=dep.collate_fn)\n",
    "dl_eval =DataLoader(md_dataset,batch_size=64,shuffle=False,collate_fn=dep.collate_fn)"
   ]
  },
  {
   "attachments": {},
   "cell_type": "markdown",
   "metadata": {},
   "source": [
    "# Modelo"
   ]
  },
  {
   "cell_type": "code",
   "execution_count": 14,
   "metadata": {},
   "outputs": [],
   "source": [
    "# Parámetros\n",
    "hidden_dim = 128\n",
    "embedding_dim = 100\n",
    "model_name = \"distilbert-base-uncased\"\n",
    "num_labels = 3\n",
    "tasks = ['to','as','about']"
   ]
  },
  {
   "cell_type": "code",
   "execution_count": 15,
   "metadata": {},
   "outputs": [
    {
     "name": "stderr",
     "output_type": "stream",
     "text": [
      "Some weights of the model checkpoint at distilbert-base-uncased were not used when initializing DistilBertModel: ['vocab_transform.bias', 'vocab_layer_norm.bias', 'vocab_projector.weight', 'vocab_layer_norm.weight', 'vocab_transform.weight', 'vocab_projector.bias']\n",
      "- This IS expected if you are initializing DistilBertModel from the checkpoint of a model trained on another task or with another architecture (e.g. initializing a BertForSequenceClassification model from a BertForPreTraining model).\n",
      "- This IS NOT expected if you are initializing DistilBertModel from the checkpoint of a model that you expect to be exactly identical (initializing a BertForSequenceClassification model from a BertForSequenceClassification model).\n"
     ]
    }
   ],
   "source": [
    "model = dep.MultiWithDependencies(model_name, num_labels,tasks,vocab,embedding_dim,lstm_hidden_dim=hidden_dim).to(device)"
   ]
  },
  {
   "cell_type": "code",
   "execution_count": 16,
   "metadata": {},
   "outputs": [
    {
     "data": {
      "text/plain": [
       "{'to': {'accuracy': 0.45580808080808083},\n",
       " 'as': {'accuracy': 0.48239895697522817},\n",
       " 'about': {'accuracy': 0.38137755102040816}}"
      ]
     },
     "execution_count": 16,
     "metadata": {},
     "output_type": "execute_result"
    }
   ],
   "source": [
    "dep.eval_function_multi(model,dl_eval,tasks,\"accuracy\")"
   ]
  },
  {
   "cell_type": "code",
   "execution_count": 17,
   "metadata": {},
   "outputs": [],
   "source": [
    "\n",
    "# learning_rate = 5e-5\n",
    "# optimizer = AdamW(model.parameters(),learning_rate)\n",
    "# num_epochs = 30\n",
    "\n",
    "# train_loss, val_loss = dep.train_functionV(model,num_epochs,dl_train,dl_val,optimizer=optimizer)\n",
    "# torch.save(model.state_dict(),'distilbert_30_AW_DV')\n",
    "\n",
    "# dep.plot_losses(train_loss,val_loss)"
   ]
  },
  {
   "cell_type": "code",
   "execution_count": 18,
   "metadata": {},
   "outputs": [
    {
     "data": {
      "application/vnd.jupyter.widget-view+json": {
       "model_id": "152671c065154920b134c2569f0434c9",
       "version_major": 2,
       "version_minor": 0
      },
      "text/plain": [
       "  0%|          | 0/10330 [00:00<?, ?it/s]"
      ]
     },
     "metadata": {},
     "output_type": "display_data"
    },
    {
     "name": "stdout",
     "output_type": "stream",
     "text": [
      "Epoch 1 \t Training loss: 1.9869995334141484 \t Validation loss: 1.945712307225103 \n",
      " 10%|█         | 1033/10330 [02:01<18:10,  8.52it/s]\n",
      "Epoch 2 \t Training loss: 1.9444649595720378 \t Validation loss: 1.951569265904634 \n",
      " 20%|██        | 2066/10330 [04:05<16:14,  8.48it/s]\n",
      "Epoch 3 \t Training loss: 1.9221645127422928 \t Validation loss: 1.946203527243241 \n",
      " 30%|███       | 3099/10330 [06:09<14:12,  8.49it/s]\n",
      "Epoch 4 \t Training loss: 1.9079354003230462 \t Validation loss: 1.9569535131039826 \n",
      " 40%|████      | 4132/10330 [08:13<12:00,  8.61it/s]\n",
      "Epoch 5 \t Training loss: 1.891896160274369 \t Validation loss: 1.9476213589958522 \n",
      " 50%|█████     | 5165/10330 [10:16<09:58,  8.63it/s]\n",
      "Epoch 6 \t Training loss: 1.8806600705697945 \t Validation loss: 1.9532402857490208 \n",
      " 60%|██████    | 6198/10330 [12:19<08:00,  8.60it/s]\n",
      "Epoch 7 \t Training loss: 1.8699832129916978 \t Validation loss: 1.954552678439928 \n",
      " 70%|███████   | 7231/10330 [14:23<05:51,  8.81it/s]\n",
      "Epoch 8 \t Training loss: 1.862097647390892 \t Validation loss: 1.96249839844911 \n",
      " 80%|████████  | 8264/10330 [16:27<04:03,  8.47it/s]\n",
      "Epoch 9 \t Training loss: 1.8503778352395839 \t Validation loss: 1.9609250213788902 \n",
      " 90%|█████████ | 9297/10330 [18:31<02:00,  8.60it/s]\n",
      "Epoch 10 \t Training loss: 1.8456828820393831 \t Validation loss: 1.9644808416781219 \n",
      "100%|██████████| 10330/10330 [20:34<00:00,  8.58it/s]\n"
     ]
    },
    {
     "ename": "AttributeError",
     "evalue": "module 'dependency_model' has no attribute 'plot_losses'",
     "output_type": "error",
     "traceback": [
      "\u001b[1;31m---------------------------------------------------------------------------\u001b[0m",
      "\u001b[1;31mAttributeError\u001b[0m                            Traceback (most recent call last)",
      "\u001b[1;32m~\\AppData\\Local\\Temp\\ipykernel_8720\\173052733.py\u001b[0m in \u001b[0;36m<module>\u001b[1;34m\u001b[0m\n\u001b[0;32m      6\u001b[0m \u001b[0mtorch\u001b[0m\u001b[1;33m.\u001b[0m\u001b[0msave\u001b[0m\u001b[1;33m(\u001b[0m\u001b[0mmodel\u001b[0m\u001b[1;33m.\u001b[0m\u001b[0mstate_dict\u001b[0m\u001b[1;33m(\u001b[0m\u001b[1;33m)\u001b[0m\u001b[1;33m,\u001b[0m\u001b[1;34m'distilbert_10_AW_DV'\u001b[0m\u001b[1;33m)\u001b[0m\u001b[1;33m\u001b[0m\u001b[1;33m\u001b[0m\u001b[0m\n\u001b[0;32m      7\u001b[0m \u001b[1;33m\u001b[0m\u001b[0m\n\u001b[1;32m----> 8\u001b[1;33m \u001b[0mdep\u001b[0m\u001b[1;33m.\u001b[0m\u001b[0mplot_losses\u001b[0m\u001b[1;33m(\u001b[0m\u001b[0mtrain_loss\u001b[0m\u001b[1;33m,\u001b[0m\u001b[0mval_loss\u001b[0m\u001b[1;33m)\u001b[0m\u001b[1;33m\u001b[0m\u001b[1;33m\u001b[0m\u001b[0m\n\u001b[0m",
      "\u001b[1;31mAttributeError\u001b[0m: module 'dependency_model' has no attribute 'plot_losses'"
     ]
    }
   ],
   "source": [
    "learning_rate = 5e-5\n",
    "optimizer = AdamW(model.parameters(),learning_rate)\n",
    "num_epochs = 10\n",
    "\n",
    "train_loss, val_loss = dep.train_functionV(model,num_epochs,dl_train,dl_val,optimizer=optimizer)\n",
    "torch.save(model.state_dict(),'distilbert_10_AW_DV')\n"
   ]
  },
  {
   "cell_type": "code",
   "execution_count": 19,
   "metadata": {},
   "outputs": [
    {
     "data": {
      "image/png": "[encoded data removed]",
      "text/plain": [
       "<Figure size 640x480 with 1 Axes>"
      ]
     },
     "metadata": {},
     "output_type": "display_data"
    }
   ],
   "source": [
    "\n",
    "dep.plot_losses_val(train_loss,val_loss)"
   ]
  },
  {
   "cell_type": "code",
   "execution_count": 21,
   "metadata": {},
   "outputs": [
    {
     "name": "stdout",
     "output_type": "stream",
     "text": [
      "accuracy\n",
      "{'to': {'accuracy': 0.7411616161616161}, 'as': {'accuracy': 0.7040417209908736}, 'about': {'accuracy': 0.826530612244898}}\n",
      "\n",
      "\n",
      "f1\n",
      "{'to': {'f1': 0.7515151515151516}, 'as': {'f1': 0.7130214917825537}, 'about': {'f1': 0.8251928020565553}}\n",
      "\n",
      "\n",
      "precision\n",
      "{'to': {'precision': 0.748792270531401}, 'as': {'precision': 0.7139240506329114}, 'about': {'precision': 0.8147208121827412}}\n",
      "\n",
      "\n",
      "recall\n",
      "{'to': {'recall': 0.754257907542579}, 'as': {'recall': 0.7121212121212122}, 'about': {'recall': 0.8359375}}\n",
      "\n",
      "\n"
     ]
    }
   ],
   "source": [
    "metrics = [\"accuracy\",\"f1\",\"precision\",\"recall\"]\n",
    "for metric in metrics:\n",
    "    print(metric)\n",
    "    print(dep.eval_function_multi(model,dl_eval,tasks,metric))\n",
    "    print('\\n')"
   ]
  },
  {
   "cell_type": "code",
   "execution_count": null,
   "metadata": {},
   "outputs": [],
   "source": [
    "# model = dep.MultiWithDependencies(model_name, num_labels,tasks,vocab,embedding_dim,lstm_hidden_dim=hidden_dim).to(device)\n",
    "\n",
    "\n",
    "\n",
    "\n",
    "# learning_rate = lr=5e-5\n",
    "# optimizer = SGD(model.parameters(), lr=learning_rate, momentum=0.9)\n",
    "# num_epochs = 30\n",
    "\n",
    "# train_loss, val_loss = dep.train_function(model,num_epochs,dl_train,optimizer=optimizer)\n",
    "# torch.save(model.state_dict(),'distilbert_30_SGD_DV')\n",
    "# dep.plot_losses(train_loss,val_loss)\n"
   ]
  },
  {
   "cell_type": "code",
   "execution_count": null,
   "metadata": {},
   "outputs": [],
   "source": [
    "# metrics = [\"accuracy\",\"f1\",\"precision\",\"recall\"]\n",
    "# for metric in metrics:\n",
    "#     print(metric)\n",
    "#     print(dep.eval_function_multi(model,dl_eval,tasks,metric))\n",
    "#     print('\\n')"
   ]
  }
 ],
 "metadata": {
  "kernelspec": {
   "display_name": "tfg",
   "language": "python",
   "name": "python3"
  },
  "language_info": {
   "codemirror_mode": {
    "name": "ipython",
    "version": 3
   },
   "file_extension": ".py",
   "mimetype": "text/x-python",
   "name": "python",
   "nbconvert_exporter": "python",
   "pygments_lexer": "ipython3",
   "version": "3.9.13"
  },
  "orig_nbformat": 4,
  "vscode": {
   "interpreter": {
    "hash": "35e8332e99bdf485583869dfbdef293dcf2f9293b1663ec5daea0a573af457c3"
   }
  }
 },
 "nbformat": 4,
 "nbformat_minor": 2
}
