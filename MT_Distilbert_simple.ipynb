{
 "cells": [
  {
   "cell_type": "code",
   "execution_count": 1,
   "metadata": {},
   "outputs": [],
   "source": [
    "import torch\n",
    "from torch.utils.data import DataLoader\n",
    "from torch.optim import SGD \n",
    "\n",
    "from datasets import load_dataset, load_metric\n",
    "\n",
    "import matplotlib.pyplot as plt\n",
    "\n",
    "import json\n"
   ]
  },
  {
   "cell_type": "code",
   "execution_count": 2,
   "metadata": {},
   "outputs": [],
   "source": [
    "import utils_generic as generic\n",
    "import multitask_simple as mt\n",
    "import model_confs as confs"
   ]
  },
  {
   "cell_type": "code",
   "execution_count": 3,
   "metadata": {},
   "outputs": [],
   "source": [
    "device = torch.device(\"cuda\") if torch.cuda.is_available() else torch.device(\"cpu\")\n",
    "torch.manual_seed(27)\n",
    "tasks = ['to','as','about']"
   ]
  },
  {
   "attachments": {},
   "cell_type": "markdown",
   "metadata": {},
   "source": [
    "# Datos ConvAI"
   ]
  },
  {
   "cell_type": "code",
   "execution_count": 4,
   "metadata": {},
   "outputs": [],
   "source": [
    "with open('Datasets\\ConvAI2\\convai2_complete.json','r') as f:\n",
    "    data = json.load(f)"
   ]
  },
  {
   "cell_type": "code",
   "execution_count": 5,
   "metadata": {},
   "outputs": [],
   "source": [
    "convai_train = data['train']\n",
    "convai_val = data['validation']\n",
    "\n",
    "\n",
    "\n",
    "convai_train_token = generic.tokenize_dataset(convai_train,tasks,\"distilbert-base-uncased\") \n",
    "convai_val_token = generic.tokenize_dataset(convai_val,tasks,\"distilbert-base-uncased\") "
   ]
  },
  {
   "cell_type": "code",
   "execution_count": 6,
   "metadata": {},
   "outputs": [],
   "source": [
    "convai_train_dataset = mt.DatasetMultiTaskSimple(convai_train_token,tasks,eval=False)\n",
    "convai_val_dataset = mt.DatasetMultiTaskSimple(convai_val_token,tasks,eval=False)"
   ]
  },
  {
   "attachments": {},
   "cell_type": "markdown",
   "metadata": {},
   "source": [
    "# Datos md_gender"
   ]
  },
  {
   "cell_type": "code",
   "execution_count": 7,
   "metadata": {},
   "outputs": [],
   "source": [
    "with open('Datasets\\md_gender\\md_complete.json','r',encoding=\"utf8\") as f:\n",
    "    md_data = json.load(f)"
   ]
  },
  {
   "cell_type": "code",
   "execution_count": 8,
   "metadata": {},
   "outputs": [],
   "source": [
    "md_tokenized = generic.tokenize_dataset(md_data,tasks,\"distilbert-base-uncased\") \n",
    "md_dataset = mt.DatasetMultiTaskSimple(md_tokenized,tasks,eval=True)"
   ]
  },
  {
   "attachments": {},
   "cell_type": "markdown",
   "metadata": {},
   "source": [
    "# Creación dataloaders"
   ]
  },
  {
   "cell_type": "code",
   "execution_count": 9,
   "metadata": {},
   "outputs": [],
   "source": [
    "dl_train =DataLoader(convai_train_dataset,batch_size=128,shuffle=True,collate_fn=mt.collate_fn)\n",
    "dl_val =DataLoader(convai_val_dataset,batch_size=128,shuffle=True,collate_fn=mt.collate_fn)\n",
    "dl_eval = DataLoader(md_dataset,batch_size=128,shuffle=False,collate_fn=mt.collate_fn)"
   ]
  },
  {
   "attachments": {},
   "cell_type": "markdown",
   "metadata": {},
   "source": [
    "# Modelo multitask"
   ]
  },
  {
   "cell_type": "code",
   "execution_count": 10,
   "metadata": {},
   "outputs": [
    {
     "name": "stderr",
     "output_type": "stream",
     "text": [
      "Some weights of the model checkpoint at distilbert-base-uncased were not used when initializing DistilBertModel: ['vocab_transform.bias', 'vocab_layer_norm.bias', 'vocab_projector.weight', 'vocab_transform.weight', 'vocab_projector.bias', 'vocab_layer_norm.weight']\n",
      "- This IS expected if you are initializing DistilBertModel from the checkpoint of a model trained on another task or with another architecture (e.g. initializing a BertForSequenceClassification model from a BertForPreTraining model).\n",
      "- This IS NOT expected if you are initializing DistilBertModel from the checkpoint of a model that you expect to be exactly identical (initializing a BertForSequenceClassification model from a BertForSequenceClassification model).\n"
     ]
    }
   ],
   "source": [
    "model = mt.MultiTaskSimple(confs.distilbert_conf).to(device)"
   ]
  },
  {
   "cell_type": "code",
   "execution_count": 11,
   "metadata": {},
   "outputs": [
    {
     "name": "stdout",
     "output_type": "stream",
     "text": [
      "Accuracy evaluando en todas las etiquetas\n",
      "{'to': {'accuracy': 0.49242424242424243}, 'as': {'accuracy': 0.5097783572359843}, 'about': {'accuracy': 0.461734693877551}}\n",
      "Accuracy evaluando en etiquetas female\n",
      "{'to': {'accuracy': 0.10498687664041995}, 'as': {'accuracy': 0.1105121293800539}, 'about': {'accuracy': 0.1575}}\n",
      "Accuracy evaluando en etiquetas male\n",
      "{'to': {'accuracy': 0.851581508515815}, 'as': {'accuracy': 0.8838383838383839}, 'about': {'accuracy': 0.7786458333333334}}\n"
     ]
    }
   ],
   "source": [
    "print(\"Accuracy evaluando en todas las etiquetas\")\n",
    "print(mt.eval_function_multi(model,dl_eval,['to','as','about'],\"accuracy\"))\n",
    "print(\"Accuracy evaluando en etiquetas female\")\n",
    "print(mt.eval_function_gender(model,dl_eval,['to','as','about'],\"accuracy\",'female'))\n",
    "print(\"Accuracy evaluando en etiquetas male\")\n",
    "print(mt.eval_function_gender(model,dl_eval,['to','as','about'],\"accuracy\",'male'))"
   ]
  },
  {
   "cell_type": "code",
   "execution_count": 12,
   "metadata": {},
   "outputs": [
    {
     "data": {
      "application/vnd.jupyter.widget-view+json": {
       "model_id": "df70a871b108488882badc4eeccef83a",
       "version_major": 2,
       "version_minor": 0
      },
      "text/plain": [
       "  0%|          | 0/57400 [00:00<?, ?it/s]"
      ]
     },
     "metadata": {},
     "output_type": "display_data"
    },
    {
     "name": "stdout",
     "output_type": "stream",
     "text": [
      "Epoch 1 \t Training loss: 2.1338375441288697 \t Validation loss: 2.074514659784608 \n",
      "  1%|          | 574/57400 [02:01<3:42:37,  4.25it/s]\n",
      "Epoch 2 \t Training loss: 2.055813313776608 \t Validation loss: 2.031903382075035 \n",
      "  2%|▏         | 1148/57400 [04:04<2:57:51,  5.27it/s]\n",
      "Epoch 3 \t Training loss: 2.016588253841998 \t Validation loss: 2.000011918908459 \n",
      "  3%|▎         | 1722/57400 [06:22<3:38:31,  4.25it/s]\n",
      "Epoch 4 \t Training loss: 1.9956636071620502 \t Validation loss: 1.991640585964009 \n",
      "  4%|▍         | 2296/57400 [09:03<3:02:54,  5.02it/s]\n",
      "Epoch 5 \t Training loss: 1.987916190865148 \t Validation loss: 1.9876776186086365 \n",
      "  5%|▌         | 2870/57400 [11:23<4:03:38,  3.73it/s]\n",
      "Epoch 6 \t Training loss: 1.9825791581582524 \t Validation loss: 1.9826764615915589 \n",
      "  6%|▌         | 3444/57400 [14:15<4:51:22,  3.09it/s]\n",
      "Epoch 7 \t Training loss: 1.97997161735641 \t Validation loss: 1.9819104125944234 \n",
      "  7%|▋         | 4018/57400 [17:01<2:18:06,  6.44it/s]\n",
      "Epoch 8 \t Training loss: 1.977936599935804 \t Validation loss: 1.9815518492359225 \n",
      "  8%|▊         | 4592/57400 [18:52<2:57:21,  4.96it/s]\n",
      "Epoch 9 \t Training loss: 1.9763580828593583 \t Validation loss: 1.9888184333251695 \n",
      "\n",
      "1 epoch without improvement\n",
      "  9%|▉         | 5166/57400 [20:41<2:46:23,  5.23it/s]\n",
      "Epoch 10 \t Training loss: 1.972643536765401 \t Validation loss: 1.9771510645494623 \n",
      " 10%|█         | 5740/57400 [22:36<2:43:12,  5.28it/s]\n",
      "Epoch 11 \t Training loss: 1.9725894446156997 \t Validation loss: 1.9792544033567785 \n",
      "\n",
      "1 epoch without improvement\n",
      " 11%|█         | 6314/57400 [24:33<2:14:56,  6.31it/s]\n",
      "Epoch 12 \t Training loss: 1.9701969035826494 \t Validation loss: 1.9813732595767004 \n",
      "\n",
      "2 epoch without improvement\n",
      " 12%|█▏        | 6888/57400 [26:33<3:00:48,  4.66it/s]\n",
      "Epoch 13 \t Training loss: 1.9689521446875995 \t Validation loss: 1.9762021323381844 \n",
      " 13%|█▎        | 7462/57400 [28:38<2:11:50,  6.31it/s]\n",
      "Epoch 14 \t Training loss: 1.9657666217990037 \t Validation loss: 1.9760153657298978 \n",
      " 14%|█▍        | 8036/57400 [30:30<2:12:16,  6.22it/s]\n",
      "Epoch 15 \t Training loss: 1.9665717395340525 \t Validation loss: 1.9673897694733182 \n",
      " 15%|█▌        | 8610/57400 [32:22<2:41:15,  5.04it/s]\n",
      "Epoch 16 \t Training loss: 1.9659738050520628 \t Validation loss: 1.9752789816613925 \n",
      "\n",
      "1 epoch without improvement\n",
      " 16%|█▌        | 9184/57400 [34:13<2:13:07,  6.04it/s]\n",
      "Epoch 17 \t Training loss: 1.9653274082556003 \t Validation loss: 1.9635689945544226 \n",
      " 17%|█▋        | 9758/57400 [36:05<3:22:34,  3.92it/s]\n",
      "Epoch 18 \t Training loss: 1.9632028054692603 \t Validation loss: 1.9690310651973142 \n",
      "\n",
      "1 epoch without improvement\n",
      " 18%|█▊        | 10332/57400 [38:00<2:48:23,  4.66it/s]\n",
      "Epoch 19 \t Training loss: 1.9646997970986448 \t Validation loss: 1.9692931720765972 \n",
      "\n",
      "2 epoch without improvement\n",
      " 19%|█▉        | 10906/57400 [39:57<3:12:00,  4.04it/s]\n",
      "Epoch 20 \t Training loss: 1.965340718990419 \t Validation loss: 1.9730645882881295 \n",
      "\n",
      "3 epoch without improvement\n",
      " 20%|██        | 11480/57400 [41:56<2:49:37,  4.51it/s]\n",
      "Epoch 21 \t Training loss: 1.9635796866765836 \t Validation loss: 1.9708914352675615 \n",
      "\n",
      "4 epoch without improvement\n",
      " 21%|██        | 12054/57400 [44:01<2:33:28,  4.92it/s]\n",
      "Epoch 22 \t Training loss: 1.960717928741867 \t Validation loss: 1.968913393505549 \n",
      "\n",
      "5 epoch without improvement\n",
      " 22%|██▏       | 12628/57400 [46:02<2:22:46,  5.23it/s]\n",
      "Epoch 23 \t Training loss: 1.959327746766785 \t Validation loss: 1.971937120971033 \n",
      "\n",
      "6 epoch without improvement\n",
      " 23%|██▎       | 13202/57400 [47:58<2:21:57,  5.19it/s]\n",
      "Epoch 24 \t Training loss: 1.9598666471055992 \t Validation loss: 1.964383541527441 \n",
      " 24%|██▍       | 13776/57400 [49:57<2:19:18,  5.22it/s]\n",
      "Epoch 25 \t Training loss: 1.960596374310683 \t Validation loss: 1.9709202919976185 \n",
      "\n",
      "7 epoch without improvement\n",
      " 25%|██▌       | 14350/57400 [51:57<2:14:55,  5.32it/s]\n",
      "Epoch 26 \t Training loss: 1.959563897046478 \t Validation loss: 1.9746934175491333 \n",
      "\n",
      "8 epoch without improvement\n",
      " 26%|██▌       | 14924/57400 [53:56<2:20:59,  5.02it/s]\n",
      "Epoch 27 \t Training loss: 1.9578549340626918 \t Validation loss: 1.9642942456875818 \n",
      " 27%|██▋       | 15498/57400 [55:52<2:10:03,  5.37it/s]\n",
      "Epoch 28 \t Training loss: 1.9574941623086297 \t Validation loss: 1.9657925124895774 \n",
      "\n",
      "9 epoch without improvement\n",
      " 28%|██▊       | 16072/57400 [57:49<2:45:23,  4.16it/s]\n",
      "Epoch 29 \t Training loss: 1.956626171849746 \t Validation loss: 1.9673882662239721 \n",
      "\n",
      "10 epoch without improvement\n",
      "Validation_loss hasn't improve in 10 epoch. Stopping training after 29 epochs...\n"
     ]
    },
    {
     "data": {
      "image/png": "[encoded data removed]",
      "text/plain": [
       "<Figure size 640x480 with 1 Axes>"
      ]
     },
     "metadata": {},
     "output_type": "display_data"
    }
   ],
   "source": [
    "learning_rate = 5e-5\n",
    "optimizer = SGD(model.parameters(), lr=learning_rate, momentum=0.9)\n",
    "num_epochs = 100\n",
    "mt.train_function_early_stop(model,num_epochs,dl_train,optimizer,early_stop = 10,dl_val = dl_val,save_path='m1_distilbert_simple_MULTI')"
   ]
  },
  {
   "cell_type": "code",
   "execution_count": 13,
   "metadata": {},
   "outputs": [
    {
     "name": "stdout",
     "output_type": "stream",
     "text": [
      "Accuracy evaluando en todas las etiquetas\n",
      "{'to': {'accuracy': 0.7146464646464646}, 'as': {'accuracy': 0.7079530638852672}, 'about': {'accuracy': 0.8469387755102041}}\n",
      "Accuracy evaluando en etiquetas female\n",
      "{'to': {'accuracy': 0.6902887139107612}, 'as': {'accuracy': 0.7142857142857143}, 'about': {'accuracy': 0.845}}\n",
      "Accuracy evaluando en etiquetas male\n",
      "{'to': {'accuracy': 0.7372262773722628}, 'as': {'accuracy': 0.702020202020202}, 'about': {'accuracy': 0.8489583333333334}}\n"
     ]
    }
   ],
   "source": [
    "print(\"Accuracy evaluando en todas las etiquetas\")\n",
    "print(mt.eval_function_multi(model,dl_eval,['to','as','about'],\"accuracy\"))\n",
    "print(\"Accuracy evaluando en etiquetas female\")\n",
    "print(mt.eval_function_gender(model,dl_eval,['to','as','about'],\"accuracy\",'female'))\n",
    "print(\"Accuracy evaluando en etiquetas male\")\n",
    "print(mt.eval_function_gender(model,dl_eval,['to','as','about'],\"accuracy\",'male'))"
   ]
  }
 ],
 "metadata": {
  "kernelspec": {
   "display_name": "tfg",
   "language": "python",
   "name": "python3"
  },
  "language_info": {
   "codemirror_mode": {
    "name": "ipython",
    "version": 3
   },
   "file_extension": ".py",
   "mimetype": "text/x-python",
   "name": "python",
   "nbconvert_exporter": "python",
   "pygments_lexer": "ipython3",
   "version": "3.9.13"
  },
  "orig_nbformat": 4,
  "vscode": {
   "interpreter": {
    "hash": "35e8332e99bdf485583869dfbdef293dcf2f9293b1663ec5daea0a573af457c3"
   }
  }
 },
 "nbformat": 4,
 "nbformat_minor": 2
}
