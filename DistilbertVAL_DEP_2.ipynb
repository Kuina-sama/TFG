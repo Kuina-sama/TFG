{
 "cells": [
  {
   "cell_type": "code",
   "execution_count": 1,
   "metadata": {},
   "outputs": [],
   "source": [
    "import torch\n",
    "from torch.utils.data import DataLoader\n",
    "from torch.optim import AdamW,SGD \n",
    "\n",
    "from datasets import load_dataset, load_metric\n",
    "\n",
    "import matplotlib.pyplot as plt\n",
    "\n",
    "import json\n",
    "\n",
    "\n",
    "from transformers import AutoTokenizer"
   ]
  },
  {
   "cell_type": "code",
   "execution_count": 2,
   "metadata": {},
   "outputs": [],
   "source": [
    "import dependency_model as dep\n",
    "import utils_generic as utils"
   ]
  },
  {
   "attachments": {},
   "cell_type": "markdown",
   "metadata": {},
   "source": [
    "# Auxiliar"
   ]
  },
  {
   "cell_type": "code",
   "execution_count": 3,
   "metadata": {},
   "outputs": [
    {
     "data": {
      "text/plain": [
       "<torch._C.Generator at 0x1bc281e8530>"
      ]
     },
     "execution_count": 3,
     "metadata": {},
     "output_type": "execute_result"
    }
   ],
   "source": [
    "device = torch.device(\"cuda\") if torch.cuda.is_available() else torch.device(\"cpu\")\n",
    "torch.manual_seed(27)"
   ]
  },
  {
   "cell_type": "code",
   "execution_count": 4,
   "metadata": {},
   "outputs": [],
   "source": [
    "tokenizer = AutoTokenizer.from_pretrained(\"distilbert-base-uncased\")"
   ]
  },
  {
   "attachments": {},
   "cell_type": "markdown",
   "metadata": {},
   "source": [
    "# Procesado datos train: ConvAI2"
   ]
  },
  {
   "cell_type": "code",
   "execution_count": 5,
   "metadata": {},
   "outputs": [],
   "source": [
    "with open('Datasets\\ConvAI2\\convai_complete.json','r') as f:\n",
    "    data = json.load(f)"
   ]
  },
  {
   "cell_type": "code",
   "execution_count": 6,
   "metadata": {},
   "outputs": [],
   "source": [
    "# Utilizo convai2 para crear el vocabulario porque es el conjunto más grande de los usados\n",
    "vocab = dep.Vocabulary(data,'relative')\n",
    "convai_tokenized = dep.tokenize_dataset_with_dependencies(data,tokenizer,['to','as','about'],vocab)"
   ]
  },
  {
   "cell_type": "code",
   "execution_count": 7,
   "metadata": {},
   "outputs": [],
   "source": [
    "convai_size = len(convai_tokenized)"
   ]
  },
  {
   "cell_type": "code",
   "execution_count": 8,
   "metadata": {},
   "outputs": [],
   "source": [
    "val_size = round(convai_size *0.1)\n",
    "train_size = convai_size - val_size"
   ]
  },
  {
   "attachments": {},
   "cell_type": "markdown",
   "metadata": {},
   "source": [
    "# Procesado datos evaluación: md_gender"
   ]
  },
  {
   "cell_type": "code",
   "execution_count": 9,
   "metadata": {},
   "outputs": [],
   "source": [
    "with open('Datasets\\md_gender\\md_complete.json','r',encoding=\"utf8\") as f:\n",
    "    md_data = json.load(f)"
   ]
  },
  {
   "cell_type": "code",
   "execution_count": 10,
   "metadata": {},
   "outputs": [],
   "source": [
    "md_tokenized = dep.tokenize_dataset_with_dependencies(md_data,tokenizer,['to','as','about'],vocab)"
   ]
  },
  {
   "attachments": {},
   "cell_type": "markdown",
   "metadata": {},
   "source": [
    "# Creación dataloaders"
   ]
  },
  {
   "cell_type": "code",
   "execution_count": 11,
   "metadata": {},
   "outputs": [],
   "source": [
    "convai_dataset = dep.CustomDataset(convai_tokenized,['to','as','about'],eval=False)\n",
    "md_dataset = dep.CustomDataset(md_tokenized,['to','as','about'],eval=True)\n",
    "\n"
   ]
  },
  {
   "cell_type": "code",
   "execution_count": 12,
   "metadata": {},
   "outputs": [],
   "source": [
    "convai_train, convai_val = torch.utils.data.random_split(convai_dataset,[train_size,val_size])"
   ]
  },
  {
   "cell_type": "code",
   "execution_count": 13,
   "metadata": {},
   "outputs": [],
   "source": [
    "dl_train =DataLoader(convai_train,batch_size=128,shuffle=True,collate_fn=dep.collate_fn)\n",
    "dl_val =DataLoader(convai_val,batch_size=128,shuffle=False,collate_fn=dep.collate_fn)\n",
    "dl_eval =DataLoader(md_dataset,batch_size=32,shuffle=False,collate_fn=dep.collate_fn)"
   ]
  },
  {
   "attachments": {},
   "cell_type": "markdown",
   "metadata": {},
   "source": [
    "# Modelo"
   ]
  },
  {
   "cell_type": "code",
   "execution_count": 14,
   "metadata": {},
   "outputs": [],
   "source": [
    "# Parámetros\n",
    "hidden_dim = 128\n",
    "embedding_dim = 100\n",
    "model_name = \"distilbert-base-uncased\"\n",
    "num_labels = 3\n",
    "tasks = ['to','as','about']"
   ]
  },
  {
   "cell_type": "code",
   "execution_count": 15,
   "metadata": {},
   "outputs": [
    {
     "name": "stderr",
     "output_type": "stream",
     "text": [
      "Some weights of the model checkpoint at distilbert-base-uncased were not used when initializing DistilBertModel: ['vocab_layer_norm.weight', 'vocab_layer_norm.bias', 'vocab_projector.bias', 'vocab_transform.weight', 'vocab_transform.bias', 'vocab_projector.weight']\n",
      "- This IS expected if you are initializing DistilBertModel from the checkpoint of a model trained on another task or with another architecture (e.g. initializing a BertForSequenceClassification model from a BertForPreTraining model).\n",
      "- This IS NOT expected if you are initializing DistilBertModel from the checkpoint of a model that you expect to be exactly identical (initializing a BertForSequenceClassification model from a BertForSequenceClassification model).\n"
     ]
    }
   ],
   "source": [
    "model = dep.MultiWithDependencies(model_name, num_labels,tasks,vocab,embedding_dim,lstm_hidden_dim=hidden_dim).to(device)"
   ]
  },
  {
   "cell_type": "code",
   "execution_count": 16,
   "metadata": {},
   "outputs": [],
   "source": [
    "# model.load_state_dict(torch.load('distilbert_100_SGD_DV'))"
   ]
  },
  {
   "cell_type": "code",
   "execution_count": 17,
   "metadata": {},
   "outputs": [
    {
     "name": "stderr",
     "output_type": "stream",
     "text": [
      "Some weights of the model checkpoint at distilbert-base-uncased were not used when initializing DistilBertModel: ['vocab_layer_norm.weight', 'vocab_layer_norm.bias', 'vocab_projector.bias', 'vocab_transform.weight', 'vocab_transform.bias', 'vocab_projector.weight']\n",
      "- This IS expected if you are initializing DistilBertModel from the checkpoint of a model trained on another task or with another architecture (e.g. initializing a BertForSequenceClassification model from a BertForPreTraining model).\n",
      "- This IS NOT expected if you are initializing DistilBertModel from the checkpoint of a model that you expect to be exactly identical (initializing a BertForSequenceClassification model from a BertForSequenceClassification model).\n"
     ]
    },
    {
     "data": {
      "application/vnd.jupyter.widget-view+json": {
       "model_id": "fe5dc73d7aad4dbe98ac1b34e4698a23",
       "version_major": 2,
       "version_minor": 0
      },
      "text/plain": [
       "  0%|          | 0/103400 [00:00<?, ?it/s]"
      ]
     },
     "metadata": {},
     "output_type": "display_data"
    },
    {
     "name": "stdout",
     "output_type": "stream",
     "text": [
      "Epoch 1 \t Training loss: 2.15930208800148 \t Validation loss: 2.06981059600567 \n",
      "  0%|          | 517/103400 [01:43<5:48:37,  4.92it/s]\n",
      "Epoch 2 \t Training loss: 2.0556391057931247 \t Validation loss: 2.022285058580596 \n",
      "  1%|          | 1034/103400 [03:29<4:35:50,  6.19it/s]\n",
      "Epoch 3 \t Training loss: 2.014697462723841 \t Validation loss: 1.9884170293807983 \n",
      "  2%|▏         | 1551/103400 [05:17<5:48:53,  4.87it/s]\n",
      "Epoch 4 \t Training loss: 1.9949828434728332 \t Validation loss: 1.9830414138991257 \n",
      "  2%|▏         | 2068/103400 [07:04<5:52:56,  4.79it/s]\n",
      "Epoch 5 \t Training loss: 1.9863104391374717 \t Validation loss: 1.972491467821187 \n",
      "  2%|▎         | 2585/103400 [08:50<4:33:19,  6.15it/s]\n",
      "Epoch 6 \t Training loss: 1.9805860217350826 \t Validation loss: 1.9623643447612893 \n",
      "  3%|▎         | 3102/103400 [10:35<5:42:29,  4.88it/s]\n",
      "Epoch 7 \t Training loss: 1.980252067171167 \t Validation loss: 1.97388022932513 \n",
      "  4%|▎         | 3619/103400 [12:19<5:49:48,  4.75it/s]\n",
      "Epoch 8 \t Training loss: 1.9777795581338022 \t Validation loss: 1.967298534409753 \n",
      "  4%|▍         | 4136/103400 [14:04<4:37:04,  5.97it/s]\n",
      "Epoch 9 \t Training loss: 1.976889392624049 \t Validation loss: 1.963420370529438 \n",
      "  4%|▍         | 4653/103400 [15:50<5:30:34,  4.98it/s]\n",
      "Epoch 10 \t Training loss: 1.974233100907715 \t Validation loss: 1.9559769609878803 \n",
      "  5%|▌         | 5170/103400 [17:35<4:26:58,  6.13it/s]\n",
      "Epoch 11 \t Training loss: 1.9718679975956044 \t Validation loss: 1.9724555899356973 \n",
      "  6%|▌         | 5687/103400 [19:21<5:49:41,  4.66it/s]\n",
      "Epoch 12 \t Training loss: 1.9718823587410224 \t Validation loss: 1.9606409011216 \n",
      "  6%|▌         | 6204/103400 [21:06<4:17:08,  6.30it/s]\n",
      "Epoch 13 \t Training loss: 1.9694574232027655 \t Validation loss: 1.9568862730059131 \n",
      "  6%|▋         | 6721/103400 [22:52<4:26:42,  6.04it/s]\n",
      "Epoch 14 \t Training loss: 1.9695053713925803 \t Validation loss: 1.9578074216842651 \n",
      "  7%|▋         | 7238/103400 [24:37<5:13:55,  5.11it/s]\n",
      "Epoch 15 \t Training loss: 1.9683082431151282 \t Validation loss: 1.9584399338426262 \n",
      "  8%|▊         | 7755/103400 [26:23<5:13:17,  5.09it/s]\n",
      "Epoch 16 \t Training loss: 1.9663292294083528 \t Validation loss: 1.956323753143179 \n",
      "  8%|▊         | 8272/103400 [28:07<5:42:37,  4.63it/s]\n",
      "Epoch 17 \t Training loss: 1.9689998626708984 \t Validation loss: 1.9630207481055424 \n",
      "  8%|▊         | 8789/103400 [29:51<5:06:44,  5.14it/s]\n",
      "Epoch 18 \t Training loss: 1.9664987175792052 \t Validation loss: 1.956040201515987 \n",
      "  9%|▉         | 9306/103400 [31:37<5:18:58,  4.92it/s]\n",
      "Epoch 19 \t Training loss: 1.9641227731391124 \t Validation loss: 1.9566052432717949 \n",
      " 10%|▉         | 9823/103400 [33:23<5:32:47,  4.69it/s]\n",
      "Epoch 20 \t Training loss: 1.9641653024942778 \t Validation loss: 1.9543003213816676 \n",
      " 10%|█         | 10340/103400 [35:10<4:22:02,  5.92it/s]\n",
      "Epoch 21 \t Training loss: 1.9633884305419036 \t Validation loss: 1.963276953532778 \n",
      " 10%|█         | 10857/103400 [36:58<5:07:27,  5.02it/s]\n",
      "Epoch 22 \t Training loss: 1.9601043792481119 \t Validation loss: 1.9516717092744236 \n",
      " 11%|█         | 11374/103400 [38:43<4:10:15,  6.13it/s]\n",
      "Epoch 23 \t Training loss: 1.9614880836678659 \t Validation loss: 1.9516108364894473 \n",
      " 12%|█▏        | 11891/103400 [40:28<5:04:12,  5.01it/s]\n",
      "Epoch 24 \t Training loss: 1.9605715602232825 \t Validation loss: 1.9571994728055493 \n",
      " 12%|█▏        | 12408/103400 [42:14<5:09:54,  4.89it/s]\n",
      "Epoch 25 \t Training loss: 1.9591775380896415 \t Validation loss: 1.9611434998183415 \n",
      " 12%|█▎        | 12925/103400 [43:59<5:14:54,  4.79it/s]\n",
      "Epoch 26 \t Training loss: 1.9590063616201079 \t Validation loss: 1.9465373939481274 \n",
      " 13%|█▎        | 13442/103400 [45:44<4:49:27,  5.18it/s]\n",
      "Epoch 27 \t Training loss: 1.960832284313106 \t Validation loss: 1.9539323264154895 \n",
      " 14%|█▎        | 13959/103400 [47:28<5:11:38,  4.78it/s]\n",
      "Epoch 28 \t Training loss: 1.956922302854822 \t Validation loss: 1.9542499903974861 \n",
      " 14%|█▍        | 14476/103400 [49:15<3:59:15,  6.19it/s]\n",
      "Epoch 29 \t Training loss: 1.9588726558353269 \t Validation loss: 1.956601371025217 \n",
      " 14%|█▍        | 14993/103400 [50:59<4:52:50,  5.03it/s]\n",
      "Epoch 30 \t Training loss: 1.957715909301197 \t Validation loss: 1.9470337300465024 \n",
      " 15%|█▌        | 15510/103400 [52:43<4:06:26,  5.94it/s]\n",
      "Epoch 31 \t Training loss: 1.9564835335807136 \t Validation loss: 1.9486315908103153 \n",
      " 16%|█▌        | 16027/103400 [54:28<4:00:43,  6.05it/s]\n",
      "Epoch 32 \t Training loss: 1.9575994515096196 \t Validation loss: 1.9513333727573525 \n",
      " 16%|█▌        | 16544/103400 [56:13<5:16:54,  4.57it/s]\n",
      "Epoch 33 \t Training loss: 1.9548626072863315 \t Validation loss: 1.947387123930043 \n",
      " 16%|█▋        | 17061/103400 [57:57<3:51:41,  6.21it/s]\n",
      "Epoch 34 \t Training loss: 1.9574821917646397 \t Validation loss: 1.9528169981364547 \n",
      " 17%|█▋        | 17578/103400 [59:41<4:57:30,  4.81it/s]\n",
      "Epoch 35 \t Training loss: 1.9556127263222258 \t Validation loss: 1.9489301299226696 \n",
      " 18%|█▊        | 18095/103400 [1:01:26<4:37:37,  5.12it/s]\n",
      "Epoch 36 \t Training loss: 1.954527693514206 \t Validation loss: 1.9548473111514388 \n",
      " 18%|█▊        | 18612/103400 [1:03:11<5:01:20,  4.69it/s]\n",
      "Epoch 37 \t Training loss: 1.9539226853870562 \t Validation loss: 1.951589857709819 \n",
      " 18%|█▊        | 19129/103400 [1:04:56<4:41:24,  4.99it/s]\n",
      "Epoch 38 \t Training loss: 1.954752679719685 \t Validation loss: 1.94597268721153 \n",
      " 19%|█▉        | 19646/103400 [1:06:40<4:37:46,  5.03it/s]\n",
      "Epoch 39 \t Training loss: 1.953071900447056 \t Validation loss: 1.9521192969947025 \n",
      " 20%|█▉        | 20163/103400 [1:08:25<3:41:26,  6.26it/s]\n",
      "Epoch 40 \t Training loss: 1.9528598393416265 \t Validation loss: 1.948644440749596 \n",
      " 20%|██        | 20680/103400 [1:10:09<4:33:10,  5.05it/s]\n",
      "Epoch 41 \t Training loss: 1.9514154080496073 \t Validation loss: 1.944849801474604 \n",
      " 20%|██        | 21197/103400 [1:11:54<4:39:21,  4.90it/s]\n",
      "Epoch 42 \t Training loss: 1.9527676907913827 \t Validation loss: 1.9339581378575028 \n",
      " 21%|██        | 21714/103400 [1:13:39<3:42:25,  6.12it/s]\n",
      "Epoch 43 \t Training loss: 1.9512831915739195 \t Validation loss: 1.946276609239907 \n",
      " 22%|██▏       | 22231/103400 [1:15:23<4:22:25,  5.16it/s]\n",
      "Epoch 44 \t Training loss: 1.9522676776871228 \t Validation loss: 1.942336160561134 \n",
      " 22%|██▏       | 22748/103400 [1:17:07<4:37:34,  4.84it/s]\n",
      "Epoch 45 \t Training loss: 1.9513199340905165 \t Validation loss: 1.9427078551259533 \n",
      " 22%|██▎       | 23265/103400 [1:18:53<4:32:03,  4.91it/s]\n",
      "Epoch 46 \t Training loss: 1.9528996197351864 \t Validation loss: 1.946399514017434 \n",
      " 23%|██▎       | 23782/103400 [1:20:39<3:38:01,  6.09it/s]\n",
      "Epoch 47 \t Training loss: 1.949113647988502 \t Validation loss: 1.9528008206137295 \n",
      " 24%|██▎       | 24299/103400 [1:22:26<3:41:35,  5.95it/s]\n",
      "Epoch 48 \t Training loss: 1.9504634303327224 \t Validation loss: 1.9410452205559303 \n",
      " 24%|██▍       | 24816/103400 [1:24:12<3:38:27,  6.00it/s]\n",
      "Epoch 49 \t Training loss: 1.9481872935820825 \t Validation loss: 1.9423904912225132 \n",
      " 24%|██▍       | 25333/103400 [1:25:56<3:31:06,  6.16it/s]\n",
      "Epoch 50 \t Training loss: 1.9514188005569133 \t Validation loss: 1.953913180992521 \n",
      " 25%|██▌       | 25850/103400 [1:27:40<3:26:06,  6.27it/s]\n",
      "Epoch 51 \t Training loss: 1.9488438856670889 \t Validation loss: 1.9509139903660477 \n",
      " 26%|██▌       | 26367/103400 [1:29:25<3:36:30,  5.93it/s]\n",
      "Epoch 52 \t Training loss: 1.9471115436498616 \t Validation loss: 1.9503227924478466 \n",
      " 26%|██▌       | 26884/103400 [1:31:10<3:22:30,  6.30it/s]\n",
      "Epoch 53 \t Training loss: 1.9454499782861085 \t Validation loss: 1.9466746757770408 \n",
      " 26%|██▋       | 27401/103400 [1:32:54<4:10:50,  5.05it/s]\n",
      "Epoch 54 \t Training loss: 1.9501409705879609 \t Validation loss: 1.9442133204690342 \n",
      " 27%|██▋       | 27918/103400 [1:34:38<4:16:24,  4.91it/s]\n",
      "Epoch 55 \t Training loss: 1.9490151898773311 \t Validation loss: 1.948896854088224 \n",
      " 28%|██▊       | 28435/103400 [1:36:23<3:22:37,  6.17it/s]\n",
      "Epoch 56 \t Training loss: 1.9480473734654586 \t Validation loss: 1.9478201249550129 \n",
      " 28%|██▊       | 28952/103400 [1:38:08<4:11:38,  4.93it/s]\n",
      "Epoch 57 \t Training loss: 1.9481488576940689 \t Validation loss: 1.9456423397721916 \n",
      " 28%|██▊       | 29469/103400 [1:39:52<3:18:02,  6.22it/s]\n",
      "Epoch 58 \t Training loss: 1.9448149504006715 \t Validation loss: 1.93996354218187 \n",
      " 29%|██▉       | 29986/103400 [1:41:37<3:10:32,  6.42it/s]\n",
      "Epoch 59 \t Training loss: 1.9463898501497634 \t Validation loss: 1.939954897453045 \n",
      " 30%|██▉       | 30503/103400 [1:43:21<3:15:50,  6.20it/s]\n",
      "Epoch 60 \t Training loss: 1.9447970929874443 \t Validation loss: 1.9445944716190469 \n",
      " 30%|███       | 31020/103400 [1:45:06<3:18:11,  6.09it/s]\n",
      "Epoch 61 \t Training loss: 1.9467214336708851 \t Validation loss: 1.9454244560208813 \n",
      " 30%|███       | 31537/103400 [1:46:50<3:17:19,  6.07it/s]\n",
      "Epoch 62 \t Training loss: 1.947462667348998 \t Validation loss: 1.9432765245437622 \n",
      " 31%|███       | 32054/103400 [1:48:36<3:19:51,  5.95it/s]\n",
      "Epoch 63 \t Training loss: 1.9452965478601953 \t Validation loss: 1.942915190910471 \n",
      " 32%|███▏      | 32571/103400 [1:50:21<4:03:05,  4.86it/s]\n",
      "Epoch 64 \t Training loss: 1.945961079698928 \t Validation loss: 1.94656922488377 \n",
      " 32%|███▏      | 33088/103400 [1:52:05<3:55:21,  4.98it/s]\n",
      "Epoch 65 \t Training loss: 1.942238820360062 \t Validation loss: 1.943199897634572 \n",
      " 32%|███▎      | 33605/103400 [1:53:49<3:52:00,  5.01it/s]\n",
      "Epoch 66 \t Training loss: 1.9450118769990636 \t Validation loss: 1.9399099534955517 \n",
      " 33%|███▎      | 34122/103400 [1:55:34<3:49:10,  5.04it/s]\n",
      "Epoch 67 \t Training loss: 1.9445598948624425 \t Validation loss: 1.9362624678118476 \n",
      " 34%|███▎      | 34639/103400 [1:57:19<3:16:25,  5.83it/s]\n",
      "Epoch 68 \t Training loss: 1.9450435267195711 \t Validation loss: 1.9442588810263008 \n",
      " 34%|███▍      | 35156/103400 [1:59:04<3:05:30,  6.13it/s]\n",
      "Epoch 69 \t Training loss: 1.9457060472185883 \t Validation loss: 1.9459408521652222 \n",
      " 34%|███▍      | 35673/103400 [2:00:48<3:03:50,  6.14it/s]\n",
      "Epoch 70 \t Training loss: 1.9416099885907347 \t Validation loss: 1.938207574959459 \n",
      " 35%|███▌      | 36190/103400 [2:02:32<3:01:58,  6.16it/s]\n",
      "Epoch 71 \t Training loss: 1.9431057790261865 \t Validation loss: 1.9420763213058998 \n",
      " 36%|███▌      | 36707/103400 [2:04:17<4:09:33,  4.45it/s]\n",
      "Epoch 72 \t Training loss: 1.9430755556667336 \t Validation loss: 1.9423825823027512 \n",
      " 36%|███▌      | 37224/103400 [2:06:32<6:18:22,  2.91it/s]\n",
      "Epoch 73 \t Training loss: 1.9453778511320368 \t Validation loss: 1.9426593205024456 \n",
      " 36%|███▋      | 37741/103400 [2:08:47<4:36:55,  3.95it/s]\n",
      "Epoch 74 \t Training loss: 1.9431246477584543 \t Validation loss: 1.9410346910871308 \n",
      " 37%|███▋      | 38258/103400 [2:10:49<3:34:47,  5.05it/s]\n",
      "Epoch 75 \t Training loss: 1.9423460012708917 \t Validation loss: 1.948684558786195 \n",
      " 38%|███▊      | 38775/103400 [2:12:33<3:39:18,  4.91it/s]\n",
      "Epoch 76 \t Training loss: 1.9447323835564767 \t Validation loss: 1.945732568872386 \n",
      " 38%|███▊      | 39292/103400 [2:14:18<2:48:29,  6.34it/s]\n",
      "Epoch 77 \t Training loss: 1.9419573386356495 \t Validation loss: 1.9392760642643632 \n",
      " 38%|███▊      | 39809/103400 [2:16:03<2:57:31,  5.97it/s]\n",
      "Epoch 78 \t Training loss: 1.9455045722208817 \t Validation loss: 1.937544647989602 \n",
      " 39%|███▉      | 40326/103400 [2:17:48<3:39:54,  4.78it/s]\n",
      "Epoch 79 \t Training loss: 1.943286777926137 \t Validation loss: 1.9358872586283191 \n",
      " 40%|███▉      | 40843/103400 [2:19:33<2:50:39,  6.11it/s]\n",
      "Epoch 80 \t Training loss: 1.9444878301952517 \t Validation loss: 1.9468092322349548 \n",
      " 40%|████      | 41360/103400 [2:21:16<3:23:41,  5.08it/s]\n",
      "Epoch 81 \t Training loss: 1.9415174510538924 \t Validation loss: 1.9389132405149525 \n",
      " 40%|████      | 41877/103400 [2:23:01<2:49:26,  6.05it/s]\n",
      "Epoch 82 \t Training loss: 1.9405090038734893 \t Validation loss: 1.9413461541307384 \n",
      " 41%|████      | 42394/103400 [2:24:46<3:28:27,  4.88it/s]\n",
      "Epoch 83 \t Training loss: 1.9411269400982147 \t Validation loss: 1.9432425848368942 \n",
      " 42%|████▏     | 42911/103400 [2:26:30<3:30:22,  4.79it/s]\n",
      "Epoch 84 \t Training loss: 1.939274031604051 \t Validation loss: 1.936669896388876 \n",
      " 42%|████▏     | 43428/103400 [2:28:14<3:14:56,  5.13it/s]\n",
      "Epoch 85 \t Training loss: 1.9402747080450593 \t Validation loss: 1.9415851831436157 \n",
      " 42%|████▎     | 43945/103400 [2:29:59<3:22:17,  4.90it/s]\n",
      "Epoch 86 \t Training loss: 1.942325669054367 \t Validation loss: 1.931326150894165 \n",
      " 43%|████▎     | 44462/103400 [2:31:44<2:40:44,  6.11it/s]\n",
      "Epoch 87 \t Training loss: 1.941060662961329 \t Validation loss: 1.935868583876511 \n",
      " 44%|████▎     | 44979/103400 [2:33:29<2:43:11,  5.97it/s]\n",
      "Epoch 88 \t Training loss: 1.9415826373220182 \t Validation loss: 1.941324780727255 \n",
      " 44%|████▍     | 45496/103400 [2:35:14<3:20:28,  4.81it/s]\n",
      "Epoch 89 \t Training loss: 1.9403593371869057 \t Validation loss: 1.935048456849723 \n",
      " 44%|████▍     | 46013/103400 [2:36:58<2:34:28,  6.19it/s]\n",
      "Epoch 90 \t Training loss: 1.9399276757378643 \t Validation loss: 1.9364421552625195 \n",
      " 45%|████▌     | 46530/103400 [2:38:42<2:31:17,  6.26it/s]\n",
      "Epoch 91 \t Training loss: 1.9390002828040944 \t Validation loss: 1.9452577315527817 \n",
      " 46%|████▌     | 47047/103400 [2:40:27<3:18:24,  4.73it/s]\n",
      "Epoch 92 \t Training loss: 1.937878125410246 \t Validation loss: 1.943502650178712 \n",
      " 46%|████▌     | 47564/103400 [2:42:12<2:32:14,  6.11it/s]\n",
      "Epoch 93 \t Training loss: 1.9420109821242106 \t Validation loss: 1.9415578102243358 \n",
      " 46%|████▋     | 48081/103400 [2:43:56<3:02:04,  5.06it/s]\n",
      "Epoch 94 \t Training loss: 1.938462986706304 \t Validation loss: 1.9412264926680203 \n",
      " 47%|████▋     | 48598/103400 [2:45:40<3:15:42,  4.67it/s]\n",
      "Epoch 95 \t Training loss: 1.9369336590314972 \t Validation loss: 1.9397446944795806 \n",
      " 48%|████▊     | 49115/103400 [2:47:25<2:26:54,  6.16it/s]\n",
      "Epoch 96 \t Training loss: 1.93895715140743 \t Validation loss: 1.946205837973233 \n",
      " 48%|████▊     | 49632/103400 [2:49:10<2:29:58,  5.98it/s]\n",
      "Epoch 97 \t Training loss: 1.9410469017822 \t Validation loss: 1.9412395193659027 \n",
      " 48%|████▊     | 50149/103400 [2:50:55<3:06:40,  4.75it/s]\n",
      "Epoch 98 \t Training loss: 1.9391802371816431 \t Validation loss: 1.9408882835815693 \n",
      " 49%|████▉     | 50666/103400 [2:52:40<2:57:27,  4.95it/s]\n",
      "Epoch 99 \t Training loss: 1.9393033508636504 \t Validation loss: 1.9498702657633815 \n",
      " 50%|████▉     | 51183/103400 [2:54:24<3:08:10,  4.62it/s]\n",
      "Epoch 100 \t Training loss: 1.9370011347174876 \t Validation loss: 1.9410819431831097 \n",
      " 50%|█████     | 51700/103400 [2:56:08<2:21:38,  6.08it/s]\n",
      "Epoch 101 \t Training loss: 1.938548410192449 \t Validation loss: 1.9371055302948788 \n",
      " 50%|█████     | 52217/103400 [2:57:53<2:19:02,  6.13it/s]\n",
      "Epoch 102 \t Training loss: 1.939004416161395 \t Validation loss: 1.9348730794314681 \n",
      " 51%|█████     | 52734/103400 [2:59:38<2:17:32,  6.14it/s]\n",
      "Epoch 103 \t Training loss: 1.9398344711362738 \t Validation loss: 1.9426395153177196 \n",
      " 52%|█████▏    | 53251/103400 [3:01:22<2:44:59,  5.07it/s]\n",
      "Epoch 104 \t Training loss: 1.9397606146404776 \t Validation loss: 1.9499690594344303 \n",
      " 52%|█████▏    | 53768/103400 [3:03:06<2:47:20,  4.94it/s]\n",
      "Epoch 105 \t Training loss: 1.938211217839667 \t Validation loss: 1.9412972618793618 \n",
      " 52%|█████▎    | 54285/103400 [3:04:51<2:13:50,  6.12it/s]\n",
      "Epoch 106 \t Training loss: 1.935014082799797 \t Validation loss: 1.9416443993305337 \n",
      " 53%|█████▎    | 54802/103400 [3:06:38<2:42:44,  4.98it/s]\n",
      "Epoch 107 \t Training loss: 1.9392157431036177 \t Validation loss: 1.9333237347931698 \n",
      " 54%|█████▎    | 55319/103400 [3:08:25<2:15:04,  5.93it/s]\n",
      "Epoch 108 \t Training loss: 1.9383546653522514 \t Validation loss: 1.9438801901093845 \n",
      " 54%|█████▍    | 55836/103400 [3:10:11<2:10:06,  6.09it/s]\n",
      "Epoch 109 \t Training loss: 1.9358569065422337 \t Validation loss: 1.9420069353333835 \n",
      " 55%|█████▍    | 56353/103400 [3:11:57<2:32:14,  5.15it/s]\n",
      "Epoch 110 \t Training loss: 1.9352828882187894 \t Validation loss: 1.946631485018237 \n",
      " 55%|█████▌    | 56870/103400 [3:13:41<2:34:54,  5.01it/s]\n",
      "Epoch 111 \t Training loss: 1.9386714434024213 \t Validation loss: 1.9415255045068676 \n",
      " 56%|█████▌    | 57387/103400 [3:15:25<2:30:29,  5.10it/s]\n",
      "Epoch 112 \t Training loss: 1.9374961846109977 \t Validation loss: 1.9454664464654594 \n",
      " 56%|█████▌    | 57904/103400 [3:17:10<2:27:31,  5.14it/s]\n",
      "Epoch 113 \t Training loss: 1.93706290703447 \t Validation loss: 1.93564949570031 \n",
      " 56%|█████▋    | 58421/103400 [3:18:55<2:01:11,  6.19it/s]\n",
      "Epoch 114 \t Training loss: 1.9354970697277518 \t Validation loss: 1.942061740776588 \n",
      " 57%|█████▋    | 58938/103400 [3:20:40<2:02:22,  6.06it/s]\n",
      "Epoch 115 \t Training loss: 1.9373373014553372 \t Validation loss: 1.9395272587907726 \n",
      " 57%|█████▊    | 59455/103400 [3:22:24<2:29:59,  4.88it/s]\n",
      "Epoch 116 \t Training loss: 1.9338807905204523 \t Validation loss: 1.94002156422056 \n",
      " 58%|█████▊    | 59972/103400 [3:24:09<2:01:21,  5.96it/s]\n",
      "Epoch 117 \t Training loss: 1.935464872612944 \t Validation loss: 1.9329481248197884 \n",
      " 58%|█████▊    | 60489/103400 [3:25:53<2:32:25,  4.69it/s]\n",
      "Epoch 118 \t Training loss: 1.9387818976112676 \t Validation loss: 1.9340577413295876 \n",
      " 59%|█████▉    | 61006/103400 [3:27:38<2:25:59,  4.84it/s]\n",
      "Epoch 119 \t Training loss: 1.9374118902697093 \t Validation loss: 1.941502049051482 \n",
      " 60%|█████▉    | 61523/103400 [3:29:23<2:21:08,  4.95it/s]\n",
      "Epoch 120 \t Training loss: 1.9320330751241983 \t Validation loss: 1.9359898443879753 \n",
      " 60%|██████    | 62040/103400 [3:31:07<1:50:12,  6.25it/s]\n",
      "Epoch 121 \t Training loss: 1.9350415687265894 \t Validation loss: 1.9416597691075554 \n",
      " 60%|██████    | 62557/103400 [3:32:51<2:14:01,  5.08it/s]\n",
      "Epoch 122 \t Training loss: 1.9365686311943158 \t Validation loss: 1.9417018561527646 \n",
      " 61%|██████    | 63074/103400 [3:34:36<1:50:52,  6.06it/s]\n",
      "Epoch 123 \t Training loss: 1.9352275250728173 \t Validation loss: 1.9360302481158027 \n",
      " 62%|██████▏   | 63591/103400 [3:36:21<2:10:16,  5.09it/s]\n",
      "Epoch 124 \t Training loss: 1.93355456311652 \t Validation loss: 1.9399678850996083 \n",
      " 62%|██████▏   | 64108/103400 [3:38:05<2:13:32,  4.90it/s]\n",
      "Epoch 125 \t Training loss: 1.9355567979628159 \t Validation loss: 1.943881713110825 \n",
      " 62%|██████▎   | 64625/103400 [3:39:49<2:11:32,  4.91it/s]\n",
      "Epoch 126 \t Training loss: 1.9379397054244287 \t Validation loss: 1.9430303491395096 \n",
      " 63%|██████▎   | 65142/103400 [3:41:33<1:47:49,  5.91it/s]\n",
      "Epoch 127 \t Training loss: 1.9358936806481397 \t Validation loss: 1.9357186453095798 \n",
      " 64%|██████▎   | 65659/103400 [3:43:18<2:05:26,  5.01it/s]\n",
      "Epoch 128 \t Training loss: 1.935168975095915 \t Validation loss: 1.9433783107790454 \n",
      " 64%|██████▍   | 66176/103400 [3:45:03<2:05:50,  4.93it/s]\n",
      "Epoch 129 \t Training loss: 1.9340070848077593 \t Validation loss: 1.938211895268539 \n",
      " 64%|██████▍   | 66693/103400 [3:46:48<1:38:11,  6.23it/s]\n",
      "Epoch 130 \t Training loss: 1.935856098824359 \t Validation loss: 1.9351597716068398 \n",
      " 65%|██████▌   | 67210/103400 [3:48:32<2:05:44,  4.80it/s]\n",
      "Epoch 131 \t Training loss: 1.9354369545812995 \t Validation loss: 1.9291323937218765 \n",
      " 66%|██████▌   | 67727/103400 [3:50:16<1:35:56,  6.20it/s]\n",
      "Epoch 132 \t Training loss: 1.935306242402333 \t Validation loss: 1.9338417937015664 \n",
      " 66%|██████▌   | 68244/103400 [3:52:01<1:58:39,  4.94it/s]\n",
      "Epoch 133 \t Training loss: 1.9370949388242091 \t Validation loss: 1.9439899613117348 \n",
      " 66%|██████▋   | 68761/103400 [3:53:46<1:32:38,  6.23it/s]\n",
      "Epoch 134 \t Training loss: 1.9325320720672607 \t Validation loss: 1.9382913379833615 \n",
      " 67%|██████▋   | 69278/103400 [3:55:30<1:33:29,  6.08it/s]\n",
      "Epoch 135 \t Training loss: 1.9335008068748785 \t Validation loss: 1.9364646673202515 \n",
      " 68%|██████▊   | 69795/103400 [3:57:14<1:56:17,  4.82it/s]\n",
      "Epoch 136 \t Training loss: 1.9336116221702768 \t Validation loss: 1.9405264443364636 \n",
      " 68%|██████▊   | 70312/103400 [3:58:59<1:49:18,  5.05it/s]\n",
      "Epoch 137 \t Training loss: 1.9329232249545867 \t Validation loss: 1.9395093650653445 \n",
      " 68%|██████▊   | 70829/103400 [4:00:45<1:52:13,  4.84it/s]\n",
      "Epoch 138 \t Training loss: 1.9359635096223489 \t Validation loss: 1.94669443574445 \n",
      " 69%|██████▉   | 71346/103400 [4:02:31<1:29:10,  5.99it/s]\n",
      "Epoch 139 \t Training loss: 1.9320913954445196 \t Validation loss: 1.9320018229813412 \n",
      " 70%|██████▉   | 71863/103400 [4:04:18<1:28:15,  5.96it/s]\n",
      "Epoch 140 \t Training loss: 1.933767586197106 \t Validation loss: 1.9421002412664479 \n",
      " 70%|███████   | 72380/103400 [4:06:03<1:49:53,  4.70it/s]\n",
      "Epoch 141 \t Training loss: 1.935819365530918 \t Validation loss: 1.948678448282439 \n",
      " 70%|███████   | 72897/103400 [4:07:47<1:44:33,  4.86it/s]\n",
      "Epoch 142 \t Training loss: 1.9348529194494282 \t Validation loss: 1.946169596293877 \n",
      " 71%|███████   | 73414/103400 [4:09:32<1:39:27,  5.02it/s]\n",
      "Epoch 143 \t Training loss: 1.935038161692813 \t Validation loss: 1.9476654570678185 \n",
      " 72%|███████▏  | 73931/103400 [4:11:16<1:35:46,  5.13it/s]\n",
      "Epoch 144 \t Training loss: 1.9356782713065526 \t Validation loss: 1.943290601516592 \n",
      " 72%|███████▏  | 74448/103400 [4:13:01<1:15:39,  6.38it/s]\n",
      "Epoch 145 \t Training loss: 1.9343601705027271 \t Validation loss: 1.941584089706684 \n",
      " 72%|███████▎  | 74965/103400 [4:14:45<1:15:10,  6.30it/s]\n",
      "Epoch 146 \t Training loss: 1.9331676099932171 \t Validation loss: 1.9386473647479354 \n",
      " 73%|███████▎  | 75482/103400 [4:16:29<1:31:30,  5.08it/s]\n",
      "Epoch 147 \t Training loss: 1.9343397582753254 \t Validation loss: 1.9312143613552224 \n",
      " 74%|███████▎  | 75999/103400 [4:18:14<1:12:11,  6.33it/s]\n",
      "Epoch 148 \t Training loss: 1.9340496637373874 \t Validation loss: 1.9417359582309066 \n",
      " 74%|███████▍  | 76516/103400 [4:19:59<1:32:17,  4.85it/s]\n",
      "Epoch 149 \t Training loss: 1.9342268142755534 \t Validation loss: 1.9428825830591137 \n",
      " 74%|███████▍  | 77033/103400 [4:21:44<1:13:44,  5.96it/s]\n",
      "Epoch 150 \t Training loss: 1.9320135658437556 \t Validation loss: 1.9324264834667075 \n",
      " 75%|███████▌  | 77550/103400 [4:23:28<1:29:16,  4.83it/s]\n",
      "Epoch 151 \t Training loss: 1.9353641845732639 \t Validation loss: 1.9373189519191611 \n",
      " 76%|███████▌  | 78067/103400 [4:25:13<1:10:57,  5.95it/s]\n",
      "Epoch 152 \t Training loss: 1.933159496383003 \t Validation loss: 1.9359169561287453 \n",
      " 76%|███████▌  | 78584/103400 [4:26:57<1:22:01,  5.04it/s]\n",
      "Epoch 153 \t Training loss: 1.9366137485670167 \t Validation loss: 1.9473286517735184 \n",
      " 76%|███████▋  | 79101/103400 [4:28:42<1:04:21,  6.29it/s]\n",
      "Epoch 154 \t Training loss: 1.9325564620112081 \t Validation loss: 1.9368783769936397 \n",
      " 77%|███████▋  | 79618/103400 [4:30:26<1:23:43,  4.73it/s]\n",
      "Epoch 155 \t Training loss: 1.9332597440169905 \t Validation loss: 1.9444032989699265 \n",
      " 78%|███████▊  | 80135/103400 [4:32:10<1:06:02,  5.87it/s]\n",
      "Epoch 156 \t Training loss: 1.9328507613859047 \t Validation loss: 1.9472489521421235 \n",
      " 78%|███████▊  | 80652/103400 [4:33:55<1:01:20,  6.18it/s]\n",
      "Epoch 157 \t Training loss: 1.9317604254938416 \t Validation loss: 1.9376737619268483 \n",
      " 78%|███████▊  | 81169/103400 [4:35:40<1:15:49,  4.89it/s]\n",
      "Epoch 158 \t Training loss: 1.9348817789347075 \t Validation loss: 1.9415002568014736 \n",
      " 79%|███████▉  | 81686/103400 [4:37:25<1:12:42,  4.98it/s]\n",
      "Epoch 159 \t Training loss: 1.9367856776460688 \t Validation loss: 1.9427481005931724 \n",
      " 80%|███████▉  | 82203/103400 [4:39:10<1:11:05,  4.97it/s]\n",
      "Epoch 160 \t Training loss: 1.9327695404307292 \t Validation loss: 1.9370474445408787 \n",
      " 80%|████████  | 82720/103400 [4:40:55<1:07:54,  5.08it/s]\n",
      "Epoch 161 \t Training loss: 1.9331636239758312 \t Validation loss: 1.941737477121682 \n",
      " 80%|████████  | 83237/103400 [4:42:38<1:02:58,  5.34it/s]\n",
      "Epoch 162 \t Training loss: 1.9314740891613398 \t Validation loss: 1.9381878972053528 \n",
      " 81%|████████  | 83754/103400 [4:44:22<52:44,  6.21it/s]\n",
      "Epoch 163 \t Training loss: 1.931640225637351 \t Validation loss: 1.9415079067493308 \n",
      " 82%|████████▏ | 84271/103400 [4:46:07<1:02:54,  5.07it/s]\n",
      "Epoch 164 \t Training loss: 1.933211712588194 \t Validation loss: 1.930953309453767 \n",
      " 82%|████████▏ | 84788/103400 [4:47:52<1:02:37,  4.95it/s]\n",
      "Epoch 165 \t Training loss: 1.9307437065261015 \t Validation loss: 1.9385912685558713 \n",
      " 82%|████████▎ | 85305/103400 [4:49:36<48:50,  6.17it/s]\n",
      "Epoch 166 \t Training loss: 1.9337425483264592 \t Validation loss: 1.9350854754447937 \n",
      " 83%|████████▎ | 85822/103400 [4:51:20<58:48,  4.98it/s]\n",
      "Epoch 167 \t Training loss: 1.9342645321408831 \t Validation loss: 1.9363204466885533 \n",
      " 84%|████████▎ | 86339/103400 [4:53:06<45:48,  6.21it/s]\n",
      "Epoch 168 \t Training loss: 1.933504380386618 \t Validation loss: 1.9395586087785919 \n",
      " 84%|████████▍ | 86856/103400 [4:54:54<55:20,  4.98it/s]\n",
      "Epoch 169 \t Training loss: 1.9320160109023752 \t Validation loss: 1.9370950337114006 \n",
      " 84%|████████▍ | 87373/103400 [4:56:38<52:33,  5.08it/s]\n",
      "Epoch 170 \t Training loss: 1.9314639423064153 \t Validation loss: 1.9354482210915664 \n",
      " 85%|████████▌ | 87890/103400 [4:58:22<54:08,  4.78it/s]\n",
      "Epoch 171 \t Training loss: 1.9304265590885392 \t Validation loss: 1.937573190393119 \n",
      " 86%|████████▌ | 88407/103400 [5:00:06<38:46,  6.45it/s]\n",
      "Epoch 172 \t Training loss: 1.9344443869083485 \t Validation loss: 1.9331604900031254 \n",
      " 86%|████████▌ | 88924/103400 [5:01:50<39:27,  6.11it/s]\n",
      "Epoch 173 \t Training loss: 1.93202188213282 \t Validation loss: 1.9387940517787277 \n",
      " 86%|████████▋ | 89441/103400 [5:03:35<46:51,  4.96it/s]\n",
      "Epoch 174 \t Training loss: 1.9309268050774846 \t Validation loss: 1.9350640568239936 \n",
      " 87%|████████▋ | 89958/103400 [5:05:20<36:27,  6.15it/s]\n",
      "Epoch 175 \t Training loss: 1.9332431953695803 \t Validation loss: 1.9469971944545876 \n",
      " 88%|████████▊ | 90475/103400 [5:07:04<41:32,  5.18it/s]\n",
      "Epoch 176 \t Training loss: 1.933560834631929 \t Validation loss: 1.9295439637940506 \n",
      " 88%|████████▊ | 90992/103400 [5:08:48<41:22,  5.00it/s]\n",
      "Epoch 177 \t Training loss: 1.930264068526041 \t Validation loss: 1.9349253465389382 \n",
      " 88%|████████▊ | 91509/103400 [5:10:33<39:28,  5.02it/s]\n",
      "Epoch 178 \t Training loss: 1.931455057179213 \t Validation loss: 1.939621520453486 \n",
      " 89%|████████▉ | 92026/103400 [5:12:18<31:47,  5.96it/s]\n",
      "Epoch 179 \t Training loss: 1.931899726736707 \t Validation loss: 1.9357699094147518 \n",
      " 90%|████████▉ | 92543/103400 [5:14:02<29:52,  6.06it/s]\n",
      "Epoch 180 \t Training loss: 1.934187813469243 \t Validation loss: 1.9416574979650563 \n",
      " 90%|█████████ | 93060/103400 [5:15:46<28:20,  6.08it/s]\n",
      "Epoch 181 \t Training loss: 1.9319614052080785 \t Validation loss: 1.943641892794905 \n",
      " 90%|█████████ | 93577/103400 [5:17:30<27:26,  5.97it/s]\n",
      "Epoch 182 \t Training loss: 1.9314167584856428 \t Validation loss: 1.936150756375543 \n",
      " 91%|█████████ | 94094/103400 [5:19:14<24:18,  6.38it/s]\n",
      "Epoch 183 \t Training loss: 1.9347379622653098 \t Validation loss: 1.9421214687413182 \n",
      " 92%|█████████▏| 94611/103400 [5:20:59<30:23,  4.82it/s]\n",
      "Epoch 184 \t Training loss: 1.933864957820516 \t Validation loss: 1.9347926501570076 \n",
      " 92%|█████████▏| 95128/103400 [5:22:44<22:42,  6.07it/s]\n",
      "Epoch 185 \t Training loss: 1.9313530841233422 \t Validation loss: 1.9246560211839348 \n",
      " 92%|█████████▎| 95645/103400 [5:24:28<25:15,  5.12it/s]\n",
      "Epoch 186 \t Training loss: 1.933736327768986 \t Validation loss: 1.940115042801561 \n",
      " 93%|█████████▎| 96162/103400 [5:26:12<19:37,  6.15it/s]\n",
      "Epoch 187 \t Training loss: 1.9323032923777745 \t Validation loss: 1.9513741464450443 \n",
      " 94%|█████████▎| 96679/103400 [5:27:57<23:22,  4.79it/s]\n",
      "Epoch 188 \t Training loss: 1.9323848259979337 \t Validation loss: 1.9372787578352566 \n",
      " 94%|█████████▍| 97196/103400 [5:29:41<17:20,  5.96it/s]\n",
      "Epoch 189 \t Training loss: 1.9300068413957636 \t Validation loss: 1.9460192466604298 \n",
      " 94%|█████████▍| 97713/103400 [5:31:26<19:00,  4.98it/s]\n",
      "Epoch 190 \t Training loss: 1.9297249642285434 \t Validation loss: 1.9428544250027886 \n",
      " 95%|█████████▌| 98230/103400 [5:33:10<13:58,  6.16it/s]\n",
      "Epoch 191 \t Training loss: 1.92991105039069 \t Validation loss: 1.9325070298951248 \n",
      " 96%|█████████▌| 98747/103400 [5:34:54<15:35,  4.97it/s]\n",
      "Epoch 192 \t Training loss: 1.9309677655738373 \t Validation loss: 1.941288596597211 \n",
      " 96%|█████████▌| 99264/103400 [5:36:38<13:51,  4.97it/s]\n",
      "Epoch 193 \t Training loss: 1.9315065807253986 \t Validation loss: 1.935378387056548 \n",
      " 96%|█████████▋| 99781/103400 [5:38:23<12:22,  4.88it/s]\n",
      "Epoch 194 \t Training loss: 1.9309849683735771 \t Validation loss: 1.9431816894432594 \n",
      " 97%|█████████▋| 100298/103400 [5:40:08<10:11,  5.07it/s]\n",
      "Epoch 195 \t Training loss: 1.9288292971063168 \t Validation loss: 1.9362853066674595 \n",
      " 98%|█████████▊| 100815/103400 [5:41:53<07:04,  6.09it/s]\n",
      "Epoch 196 \t Training loss: 1.935030942498139 \t Validation loss: 1.942671572339946 \n",
      " 98%|█████████▊| 101332/103400 [5:43:36<07:00,  4.92it/s]\n",
      "Epoch 197 \t Training loss: 1.9319896167666584 \t Validation loss: 1.9412881259260506 \n",
      " 98%|█████████▊| 101849/103400 [5:45:21<04:16,  6.05it/s]\n",
      "Epoch 198 \t Training loss: 1.9324492352151779 \t Validation loss: 1.9350666280450493 \n",
      " 99%|█████████▉| 102366/103400 [5:47:06<02:50,  6.08it/s]\n",
      "Epoch 199 \t Training loss: 1.9326483285634615 \t Validation loss: 1.9325555501313045 \n",
      "100%|█████████▉| 102883/103400 [5:48:50<01:25,  6.02it/s]\n",
      "Epoch 200 \t Training loss: 1.9308833725447812 \t Validation loss: 1.937762708499514 \n",
      "100%|██████████| 103400/103400 [5:50:34<00:00,  4.25it/s]\n"
     ]
    },
    {
     "data": {
      "image/png": "[encoded data removed]",
      "text/plain": [
       "<Figure size 640x480 with 1 Axes>"
      ]
     },
     "metadata": {},
     "output_type": "display_data"
    }
   ],
   "source": [
    "model = dep.MultiWithDependencies(model_name, num_labels,tasks,vocab,embedding_dim,lstm_hidden_dim=hidden_dim).to(device)\n",
    "\n",
    "\n",
    "\n",
    "\n",
    "learning_rate = 5e-5\n",
    "optimizer = SGD(model.parameters(), lr=learning_rate, momentum=0.9)\n",
    "num_epochs = 200\n",
    "\n",
    "train_loss, val_loss = dep.train_functionV(model,num_epochs,dl_train,optimizer=optimizer,dl_val=dl_val)\n",
    "torch.save(model.state_dict(),'distilbert_200_SGD_DV')\n",
    "utils.plot_losses_val(train_loss,val_loss)\n"
   ]
  },
  {
   "cell_type": "code",
   "execution_count": 20,
   "metadata": {},
   "outputs": [
    {
     "name": "stdout",
     "output_type": "stream",
     "text": [
      "accuracy\n",
      "{'to': {'accuracy': 0.7196969696969697}, 'as': {'accuracy': 0.7235984354628422}, 'about': {'accuracy': 0.8392857142857143}}\n",
      "\n",
      "\n",
      "f1\n",
      "{'to': {'f1': 0.7305825242718447}, 'as': {'f1': 0.7260981912144703}, 'about': {'f1': 0.8350785340314136}}\n",
      "\n",
      "\n",
      "precision\n",
      "{'to': {'precision': 0.7288135593220338}, 'as': {'precision': 0.7433862433862434}, 'about': {'precision': 0.8394736842105263}}\n",
      "\n",
      "\n",
      "recall\n",
      "{'to': {'recall': 0.732360097323601}, 'as': {'recall': 0.7095959595959596}, 'about': {'recall': 0.8307291666666666}}\n",
      "\n",
      "\n"
     ]
    }
   ],
   "source": [
    "metrics = [\"accuracy\",\"f1\",\"precision\",\"recall\"]\n",
    "for metric in metrics:\n",
    "    print(metric)\n",
    "    print(dep.eval_function_multi(model,dl_eval,tasks,metric))\n",
    "    print('\\n')"
   ]
  }
 ],
 "metadata": {
  "kernelspec": {
   "display_name": "tfg",
   "language": "python",
   "name": "python3"
  },
  "language_info": {
   "codemirror_mode": {
    "name": "ipython",
    "version": 3
   },
   "file_extension": ".py",
   "mimetype": "text/x-python",
   "name": "python",
   "nbconvert_exporter": "python",
   "pygments_lexer": "ipython3",
   "version": "3.9.13 (main, Aug 25 2022, 23:51:50) [MSC v.1916 64 bit (AMD64)]"
  },
  "orig_nbformat": 4,
  "vscode": {
   "interpreter": {
    "hash": "35e8332e99bdf485583869dfbdef293dcf2f9293b1663ec5daea0a573af457c3"
   }
  }
 },
 "nbformat": 4,
 "nbformat_minor": 2
}
