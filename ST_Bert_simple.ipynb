{
 "cells": [
  {
   "cell_type": "code",
   "execution_count": 1,
   "metadata": {},
   "outputs": [
    {
     "name": "stderr",
     "output_type": "stream",
     "text": [
      "c:\\Users\\FarinhOso\\anaconda3\\envs\\tfg\\lib\\site-packages\\tqdm\\auto.py:22: TqdmWarning: IProgress not found. Please update jupyter and ipywidgets. See https://ipywidgets.readthedocs.io/en/stable/user_install.html\n",
      "  from .autonotebook import tqdm as notebook_tqdm\n"
     ]
    }
   ],
   "source": [
    "import numpy as np\n",
    "import torch\n",
    "\n",
    "\n",
    "import json\n",
    "from torch.utils.data import DataLoader\n",
    "from torch.optim import SGD \n",
    "from torch import nn"
   ]
  },
  {
   "cell_type": "code",
   "execution_count": 2,
   "metadata": {},
   "outputs": [],
   "source": [
    "import utils_generic as generic\n",
    "import singletask_simple as st\n",
    "import model_confs as confs"
   ]
  },
  {
   "cell_type": "code",
   "execution_count": 3,
   "metadata": {},
   "outputs": [
    {
     "data": {
      "text/plain": [
       "<torch._C.Generator at 0x1a1619c9630>"
      ]
     },
     "execution_count": 3,
     "metadata": {},
     "output_type": "execute_result"
    }
   ],
   "source": [
    "device = torch.device(\"cuda\") if torch.cuda.is_available() else torch.device(\"cpu\")\n",
    "torch.manual_seed(27)"
   ]
  },
  {
   "attachments": {},
   "cell_type": "markdown",
   "metadata": {},
   "source": [
    "# Datos ConvAI2"
   ]
  },
  {
   "cell_type": "code",
   "execution_count": 4,
   "metadata": {},
   "outputs": [],
   "source": [
    "with open('Datasets\\ConvAI2\\convai2_complete.json','r') as f:\n",
    "    data = json.load(f)"
   ]
  },
  {
   "cell_type": "code",
   "execution_count": 5,
   "metadata": {},
   "outputs": [],
   "source": [
    "convai_train = data['train']\n",
    "convai_val = data['validation']\n",
    "\n",
    "\n",
    "\n",
    "convai_train_token = generic.tokenize_dataset(convai_train,['about','to','as'],\"bert-base-uncased\") \n",
    "convai_val_token = generic.tokenize_dataset(convai_val,['about','to','as'],\"bert-base-uncased\") "
   ]
  },
  {
   "cell_type": "code",
   "execution_count": 6,
   "metadata": {},
   "outputs": [],
   "source": [
    "convai_train_dataset = {}\n",
    "for task in ['to','as','about']:\n",
    "    convai_train_dataset[task] = st.DatasetSingleTaskSimple(convai_train_token,task,eval=False)"
   ]
  },
  {
   "cell_type": "code",
   "execution_count": 7,
   "metadata": {},
   "outputs": [],
   "source": [
    "convai_val_dataset = {}\n",
    "for task in ['to','as','about']:\n",
    "    convai_val_dataset[task] = st.DatasetSingleTaskSimple(convai_val_token,task,eval=False)"
   ]
  },
  {
   "attachments": {},
   "cell_type": "markdown",
   "metadata": {},
   "source": [
    "## Datos md_gender"
   ]
  },
  {
   "cell_type": "code",
   "execution_count": 8,
   "metadata": {},
   "outputs": [],
   "source": [
    "with open('Datasets\\md_gender\\md_complete.json','r',encoding=\"utf8\") as f:\n",
    "    md_data = json.load(f)"
   ]
  },
  {
   "cell_type": "code",
   "execution_count": 9,
   "metadata": {},
   "outputs": [],
   "source": [
    "md_tokenized = generic.tokenize_dataset(md_data,['about','to','as'],\"bert-base-uncased\") \n",
    "\n",
    "\n",
    "md_dataset = {}\n",
    "for task in ['to','as','about']:\n",
    "    md_dataset[task] = st.DatasetSingleTaskSimple(md_tokenized,task,eval=True)"
   ]
  },
  {
   "attachments": {},
   "cell_type": "markdown",
   "metadata": {},
   "source": [
    "# Creación dataloaders"
   ]
  },
  {
   "cell_type": "code",
   "execution_count": 10,
   "metadata": {},
   "outputs": [],
   "source": [
    "dl_train = {}\n",
    "for task in ['to','as','about']:\n",
    "    dl_train[task] = DataLoader(convai_train_dataset[task],batch_size=128,shuffle=True,collate_fn=st.collate_fn)"
   ]
  },
  {
   "cell_type": "code",
   "execution_count": 11,
   "metadata": {},
   "outputs": [],
   "source": [
    "dl_val = {}\n",
    "for task in ['to','as','about']:\n",
    "    dl_val[task] = DataLoader(convai_val_dataset[task],batch_size=128,shuffle=True,collate_fn=st.collate_fn)"
   ]
  },
  {
   "cell_type": "code",
   "execution_count": 12,
   "metadata": {},
   "outputs": [],
   "source": [
    "dl_eval = {}\n",
    "for task in ['to','as','about']:\n",
    "    dl_eval[task] = DataLoader(md_dataset[task],batch_size=128,shuffle=False,collate_fn=st.collate_fn)"
   ]
  },
  {
   "attachments": {},
   "cell_type": "markdown",
   "metadata": {},
   "source": [
    "# ABOUT"
   ]
  },
  {
   "cell_type": "code",
   "execution_count": 13,
   "metadata": {},
   "outputs": [
    {
     "name": "stderr",
     "output_type": "stream",
     "text": [
      "Some weights of the model checkpoint at distilbert-base-uncased were not used when initializing DistilBertModel: ['vocab_layer_norm.bias', 'vocab_projector.weight', 'vocab_transform.weight', 'vocab_projector.bias', 'vocab_transform.bias', 'vocab_layer_norm.weight']\n",
      "- This IS expected if you are initializing DistilBertModel from the checkpoint of a model trained on another task or with another architecture (e.g. initializing a BertForSequenceClassification model from a BertForPreTraining model).\n",
      "- This IS NOT expected if you are initializing DistilBertModel from the checkpoint of a model that you expect to be exactly identical (initializing a BertForSequenceClassification model from a BertForSequenceClassification model).\n"
     ]
    }
   ],
   "source": [
    "model = st.SingleTaskSimple(confs.bert_conf).to(device)"
   ]
  },
  {
   "cell_type": "code",
   "execution_count": 14,
   "metadata": {},
   "outputs": [
    {
     "name": "stderr",
     "output_type": "stream",
     "text": [
      "  1%|          | 572/57400 [00:40<1:02:38, 15.12it/s]"
     ]
    },
    {
     "name": "stdout",
     "output_type": "stream",
     "text": [
      "Epoch 1 \t Training loss: 0.7197910133969908 \t Validation loss: 0.6730313149549193 \n"
     ]
    },
    {
     "name": "stderr",
     "output_type": "stream",
     "text": [
      "  1%|          | 577/57400 [00:41<3:11:48,  4.94it/s]"
     ]
    },
    {
     "name": "stdout",
     "output_type": "stream",
     "text": [
      "  1%|          | 574/57400 [00:41<1:02:38, 15.12it/s]\n"
     ]
    },
    {
     "name": "stderr",
     "output_type": "stream",
     "text": [
      "  2%|▏         | 1147/57400 [01:18<57:57, 16.18it/s]  "
     ]
    },
    {
     "name": "stdout",
     "output_type": "stream",
     "text": [
      "Epoch 2 \t Training loss: 0.6391846066152592 \t Validation loss: 0.5714475674144293 \n"
     ]
    },
    {
     "name": "stderr",
     "output_type": "stream",
     "text": [
      "  2%|▏         | 1151/57400 [01:20<3:36:11,  4.34it/s]"
     ]
    },
    {
     "name": "stdout",
     "output_type": "stream",
     "text": [
      "  2%|▏         | 1148/57400 [01:20<57:57, 16.18it/s]\n"
     ]
    },
    {
     "name": "stderr",
     "output_type": "stream",
     "text": [
      "  3%|▎         | 1721/57400 [01:58<1:01:08, 15.18it/s]"
     ]
    },
    {
     "name": "stdout",
     "output_type": "stream",
     "text": [
      "Epoch 3 \t Training loss: 0.49713490581470915 \t Validation loss: 0.42568988214104864 \n"
     ]
    },
    {
     "name": "stderr",
     "output_type": "stream",
     "text": [
      "  3%|▎         | 1725/57400 [01:59<3:35:40,  4.30it/s]"
     ]
    },
    {
     "name": "stdout",
     "output_type": "stream",
     "text": [
      "  3%|▎         | 1722/57400 [01:59<1:01:08, 15.18it/s]\n"
     ]
    },
    {
     "name": "stderr",
     "output_type": "stream",
     "text": [
      "  4%|▍         | 2295/57400 [02:37<1:03:27, 14.47it/s]"
     ]
    },
    {
     "name": "stdout",
     "output_type": "stream",
     "text": [
      "Epoch 4 \t Training loss: 0.40525624005429006 \t Validation loss: 0.3734900102776996 \n"
     ]
    },
    {
     "name": "stderr",
     "output_type": "stream",
     "text": [
      "  4%|▍         | 2299/57400 [02:39<3:35:53,  4.25it/s]"
     ]
    },
    {
     "name": "stdout",
     "output_type": "stream",
     "text": [
      "  4%|▍         | 2296/57400 [02:38<1:03:27, 14.47it/s]\n"
     ]
    },
    {
     "name": "stderr",
     "output_type": "stream",
     "text": [
      "  5%|▍         | 2869/57400 [03:16<1:09:42, 13.04it/s]"
     ]
    },
    {
     "name": "stdout",
     "output_type": "stream",
     "text": [
      "Epoch 5 \t Training loss: 0.3694874882075014 \t Validation loss: 0.35080607008125825 \n"
     ]
    },
    {
     "name": "stderr",
     "output_type": "stream",
     "text": [
      "  5%|▌         | 2873/57400 [03:18<3:32:07,  4.28it/s]"
     ]
    },
    {
     "name": "stdout",
     "output_type": "stream",
     "text": [
      "  5%|▌         | 2870/57400 [03:18<1:09:42, 13.04it/s]\n"
     ]
    },
    {
     "name": "stderr",
     "output_type": "stream",
     "text": [
      "  6%|▌         | 3443/57400 [03:56<58:55, 15.26it/s]  "
     ]
    },
    {
     "name": "stdout",
     "output_type": "stream",
     "text": [
      "Epoch 6 \t Training loss: 0.34951479642129524 \t Validation loss: 0.33134004296892783 \n"
     ]
    },
    {
     "name": "stderr",
     "output_type": "stream",
     "text": [
      "  6%|▌         | 3445/57400 [03:57<4:11:27,  3.58it/s]"
     ]
    },
    {
     "name": "stdout",
     "output_type": "stream",
     "text": [
      "  6%|▌         | 3444/57400 [03:57<58:55, 15.26it/s]\n"
     ]
    },
    {
     "name": "stderr",
     "output_type": "stream",
     "text": [
      "  7%|▋         | 4018/57400 [04:35<53:43, 16.56it/s]  "
     ]
    },
    {
     "name": "stdout",
     "output_type": "stream",
     "text": [
      "Epoch 7 \t Training loss: 0.33471406118795016 \t Validation loss: 0.321418947587579 \n"
     ]
    },
    {
     "name": "stderr",
     "output_type": "stream",
     "text": [
      "  7%|▋         | 4020/57400 [04:37<4:20:20,  3.42it/s]"
     ]
    },
    {
     "name": "stdout",
     "output_type": "stream",
     "text": [
      "  7%|▋         | 4018/57400 [04:37<53:43, 16.56it/s]\n"
     ]
    },
    {
     "name": "stderr",
     "output_type": "stream",
     "text": [
      "  8%|▊         | 4591/57400 [05:15<1:00:22, 14.58it/s]"
     ]
    },
    {
     "name": "stdout",
     "output_type": "stream",
     "text": [
      "Epoch 8 \t Training loss: 0.32760367791723294 \t Validation loss: 0.31335621895426413 \n"
     ]
    },
    {
     "name": "stderr",
     "output_type": "stream",
     "text": [
      "  8%|▊         | 4593/57400 [05:16<4:24:21,  3.33it/s]"
     ]
    },
    {
     "name": "stdout",
     "output_type": "stream",
     "text": [
      "  8%|▊         | 4592/57400 [05:16<1:00:21, 14.58it/s]\n"
     ]
    },
    {
     "name": "stderr",
     "output_type": "stream",
     "text": [
      "  9%|▉         | 5165/57400 [05:54<56:44, 15.34it/s]  "
     ]
    },
    {
     "name": "stdout",
     "output_type": "stream",
     "text": [
      "Epoch 9 \t Training loss: 0.31947599483803174 \t Validation loss: 0.3068339587268183 \n"
     ]
    },
    {
     "name": "stderr",
     "output_type": "stream",
     "text": [
      "  9%|▉         | 5169/57400 [05:56<3:25:10,  4.24it/s]"
     ]
    },
    {
     "name": "stdout",
     "output_type": "stream",
     "text": [
      "  9%|▉         | 5166/57400 [05:56<56:44, 15.34it/s]\n"
     ]
    },
    {
     "name": "stderr",
     "output_type": "stream",
     "text": [
      " 10%|█         | 5740/57400 [06:34<54:24, 15.83it/s]  "
     ]
    },
    {
     "name": "stdout",
     "output_type": "stream",
     "text": [
      "Epoch 10 \t Training loss: 0.31146489971606156 \t Validation loss: 0.3001707466477055 \n"
     ]
    },
    {
     "name": "stderr",
     "output_type": "stream",
     "text": [
      " 10%|█         | 5742/57400 [06:35<4:22:28,  3.28it/s]"
     ]
    },
    {
     "name": "stdout",
     "output_type": "stream",
     "text": [
      " 10%|█         | 5740/57400 [06:35<54:24, 15.83it/s]\n"
     ]
    },
    {
     "name": "stderr",
     "output_type": "stream",
     "text": [
      " 11%|█         | 6313/57400 [07:13<55:29, 15.34it/s]  "
     ]
    },
    {
     "name": "stdout",
     "output_type": "stream",
     "text": [
      "Epoch 11 \t Training loss: 0.30439116081501966 \t Validation loss: 0.297566682100296 \n"
     ]
    },
    {
     "name": "stderr",
     "output_type": "stream",
     "text": [
      " 11%|█         | 6317/57400 [07:15<3:19:48,  4.26it/s]"
     ]
    },
    {
     "name": "stdout",
     "output_type": "stream",
     "text": [
      " 11%|█         | 6314/57400 [07:15<55:29, 15.34it/s]\n"
     ]
    },
    {
     "name": "stderr",
     "output_type": "stream",
     "text": [
      " 12%|█▏        | 6886/57400 [07:53<55:48, 15.09it/s]  "
     ]
    },
    {
     "name": "stdout",
     "output_type": "stream",
     "text": [
      "Epoch 12 \t Training loss: 0.3000693858604398 \t Validation loss: 0.2917554502264928 \n"
     ]
    },
    {
     "name": "stderr",
     "output_type": "stream",
     "text": [
      " 12%|█▏        | 6891/57400 [07:55<2:56:36,  4.77it/s]"
     ]
    },
    {
     "name": "stdout",
     "output_type": "stream",
     "text": [
      " 12%|█▏        | 6888/57400 [07:55<55:48, 15.09it/s]\n"
     ]
    },
    {
     "name": "stderr",
     "output_type": "stream",
     "text": [
      " 13%|█▎        | 7461/57400 [08:35<54:44, 15.20it/s]  "
     ]
    },
    {
     "name": "stdout",
     "output_type": "stream",
     "text": [
      "Epoch 13 \t Training loss: 0.295041652480692 \t Validation loss: 0.28939995346433023 \n"
     ]
    },
    {
     "name": "stderr",
     "output_type": "stream",
     "text": [
      " 13%|█▎        | 7465/57400 [08:37<3:23:40,  4.09it/s]"
     ]
    },
    {
     "name": "stdout",
     "output_type": "stream",
     "text": [
      " 13%|█▎        | 7462/57400 [08:36<54:44, 15.20it/s]\n"
     ]
    },
    {
     "name": "stderr",
     "output_type": "stream",
     "text": [
      " 14%|█▍        | 8036/57400 [09:15<52:23, 15.70it/s]  "
     ]
    },
    {
     "name": "stdout",
     "output_type": "stream",
     "text": [
      "Epoch 14 \t Training loss: 0.28984763218862253 \t Validation loss: 0.2867630851470818 \n"
     ]
    },
    {
     "name": "stderr",
     "output_type": "stream",
     "text": [
      " 14%|█▍        | 8038/57400 [09:17<4:21:40,  3.14it/s]"
     ]
    },
    {
     "name": "stdout",
     "output_type": "stream",
     "text": [
      " 14%|█▍        | 8036/57400 [09:17<52:23, 15.70it/s]\n"
     ]
    },
    {
     "name": "stderr",
     "output_type": "stream",
     "text": [
      " 15%|█▌        | 8610/57400 [09:55<49:24, 16.46it/s]  "
     ]
    },
    {
     "name": "stdout",
     "output_type": "stream",
     "text": [
      "Epoch 15 \t Training loss: 0.2873732724100455 \t Validation loss: 0.28535741517099283 \n"
     ]
    },
    {
     "name": "stderr",
     "output_type": "stream",
     "text": [
      " 15%|█▌        | 8612/57400 [09:57<4:14:21,  3.20it/s]"
     ]
    },
    {
     "name": "stdout",
     "output_type": "stream",
     "text": [
      " 15%|█▌        | 8610/57400 [09:56<49:24, 16.46it/s]\n"
     ]
    },
    {
     "name": "stderr",
     "output_type": "stream",
     "text": [
      " 16%|█▌        | 9183/57400 [10:34<51:12, 15.69it/s]  "
     ]
    },
    {
     "name": "stdout",
     "output_type": "stream",
     "text": [
      "Epoch 16 \t Training loss: 0.2826307163628967 \t Validation loss: 0.2823800722421226 \n"
     ]
    },
    {
     "name": "stderr",
     "output_type": "stream",
     "text": [
      " 16%|█▌        | 9185/57400 [10:36<4:09:58,  3.21it/s]"
     ]
    },
    {
     "name": "stdout",
     "output_type": "stream",
     "text": [
      " 16%|█▌        | 9184/57400 [10:36<51:12, 15.69it/s]\n"
     ]
    },
    {
     "name": "stderr",
     "output_type": "stream",
     "text": [
      " 17%|█▋        | 9757/57400 [11:14<48:51, 16.25it/s]  "
     ]
    },
    {
     "name": "stdout",
     "output_type": "stream",
     "text": [
      "Epoch 17 \t Training loss: 0.2794107764907415 \t Validation loss: 0.281279043373415 \n"
     ]
    },
    {
     "name": "stderr",
     "output_type": "stream",
     "text": [
      " 17%|█▋        | 9759/57400 [11:16<3:55:32,  3.37it/s]"
     ]
    },
    {
     "name": "stdout",
     "output_type": "stream",
     "text": [
      " 17%|█▋        | 9758/57400 [11:16<48:51, 16.25it/s]\n"
     ]
    },
    {
     "name": "stderr",
     "output_type": "stream",
     "text": [
      " 18%|█▊        | 10332/57400 [11:54<51:01, 15.37it/s]  "
     ]
    },
    {
     "name": "stdout",
     "output_type": "stream",
     "text": [
      "Epoch 18 \t Training loss: 0.2780084070532164 \t Validation loss: 0.27756305316747243 \n"
     ]
    },
    {
     "name": "stderr",
     "output_type": "stream",
     "text": [
      " 18%|█▊        | 10334/57400 [11:56<4:03:05,  3.23it/s]"
     ]
    },
    {
     "name": "stdout",
     "output_type": "stream",
     "text": [
      " 18%|█▊        | 10332/57400 [11:56<51:01, 15.37it/s]\n"
     ]
    },
    {
     "name": "stderr",
     "output_type": "stream",
     "text": [
      " 19%|█▉        | 10909/57400 [12:36<2:40:56,  4.81it/s]"
     ]
    },
    {
     "name": "stdout",
     "output_type": "stream",
     "text": [
      "Epoch 19 \t Training loss: 0.27503353796042634 \t Validation loss: 0.2786740433361571 \n",
      "\n",
      "1 epoch without improvement\n",
      " 19%|█▉        | 10906/57400 [12:36<50:14, 15.42it/s]\n"
     ]
    },
    {
     "name": "stderr",
     "output_type": "stream",
     "text": [
      " 20%|█▉        | 11478/57400 [13:14<52:23, 14.61it/s]  "
     ]
    },
    {
     "name": "stdout",
     "output_type": "stream",
     "text": [
      "Epoch 20 \t Training loss: 0.27161121415136585 \t Validation loss: 0.2774297100002483 \n"
     ]
    },
    {
     "name": "stderr",
     "output_type": "stream",
     "text": [
      " 20%|██        | 11483/57400 [13:16<2:50:08,  4.50it/s]"
     ]
    },
    {
     "name": "stdout",
     "output_type": "stream",
     "text": [
      " 20%|██        | 11480/57400 [13:16<52:22, 14.61it/s]\n"
     ]
    },
    {
     "name": "stderr",
     "output_type": "stream",
     "text": [
      " 21%|██        | 12053/57400 [13:54<50:21, 15.01it/s]  "
     ]
    },
    {
     "name": "stdout",
     "output_type": "stream",
     "text": [
      "Epoch 21 \t Training loss: 0.2690578611366425 \t Validation loss: 0.27365888453136056 \n"
     ]
    },
    {
     "name": "stderr",
     "output_type": "stream",
     "text": [
      " 21%|██        | 12057/57400 [13:56<2:54:24,  4.33it/s]"
     ]
    },
    {
     "name": "stdout",
     "output_type": "stream",
     "text": [
      " 21%|██        | 12054/57400 [13:55<50:21, 15.01it/s]\n"
     ]
    },
    {
     "name": "stderr",
     "output_type": "stream",
     "text": [
      " 22%|██▏       | 12628/57400 [14:34<46:27, 16.06it/s]  "
     ]
    },
    {
     "name": "stdout",
     "output_type": "stream",
     "text": [
      "Epoch 22 \t Training loss: 0.26789024178886245 \t Validation loss: 0.2721617135961177 \n"
     ]
    },
    {
     "name": "stderr",
     "output_type": "stream",
     "text": [
      " 22%|██▏       | 12630/57400 [14:35<3:46:26,  3.30it/s]"
     ]
    },
    {
     "name": "stdout",
     "output_type": "stream",
     "text": [
      " 22%|██▏       | 12628/57400 [14:35<46:27, 16.06it/s]\n"
     ]
    },
    {
     "name": "stderr",
     "output_type": "stream",
     "text": [
      " 23%|██▎       | 13201/57400 [15:13<51:08, 14.40it/s]  "
     ]
    },
    {
     "name": "stdout",
     "output_type": "stream",
     "text": [
      "Epoch 23 \t Training loss: 0.2644553934499777 \t Validation loss: 0.27176360659680127 \n"
     ]
    },
    {
     "name": "stderr",
     "output_type": "stream",
     "text": [
      " 23%|██▎       | 13203/57400 [15:15<3:40:40,  3.34it/s]"
     ]
    },
    {
     "name": "stdout",
     "output_type": "stream",
     "text": [
      " 23%|██▎       | 13202/57400 [15:15<51:08, 14.40it/s]\n"
     ]
    },
    {
     "name": "stderr",
     "output_type": "stream",
     "text": [
      " 24%|██▍       | 13775/57400 [15:52<45:25, 16.01it/s]  "
     ]
    },
    {
     "name": "stdout",
     "output_type": "stream",
     "text": [
      "Epoch 24 \t Training loss: 0.2614690197521386 \t Validation loss: 0.2700839093175985 \n"
     ]
    },
    {
     "name": "stderr",
     "output_type": "stream",
     "text": [
      " 24%|██▍       | 13777/57400 [15:54<3:33:32,  3.40it/s]"
     ]
    },
    {
     "name": "stdout",
     "output_type": "stream",
     "text": [
      " 24%|██▍       | 13776/57400 [15:54<45:25, 16.01it/s]\n"
     ]
    },
    {
     "name": "stderr",
     "output_type": "stream",
     "text": [
      " 25%|██▌       | 14353/57400 [16:33<2:11:46,  5.44it/s]"
     ]
    },
    {
     "name": "stdout",
     "output_type": "stream",
     "text": [
      "Epoch 25 \t Training loss: 0.25969958115849345 \t Validation loss: 0.2719592459626117 \n",
      "\n",
      "1 epoch without improvement\n",
      " 25%|██▌       | 14350/57400 [16:33<46:22, 15.47it/s]\n"
     ]
    },
    {
     "name": "stderr",
     "output_type": "stream",
     "text": [
      " 26%|██▌       | 14922/57400 [17:10<47:14, 14.99it/s]  "
     ]
    },
    {
     "name": "stdout",
     "output_type": "stream",
     "text": [
      "Epoch 26 \t Training loss: 0.25760068157720234 \t Validation loss: 0.26871773903652774 \n"
     ]
    },
    {
     "name": "stderr",
     "output_type": "stream",
     "text": [
      " 26%|██▌       | 14925/57400 [17:12<3:11:05,  3.70it/s]"
     ]
    },
    {
     "name": "stdout",
     "output_type": "stream",
     "text": [
      " 26%|██▌       | 14924/57400 [17:12<47:14, 14.99it/s]\n"
     ]
    },
    {
     "name": "stderr",
     "output_type": "stream",
     "text": [
      " 27%|██▋       | 15501/57400 [17:51<2:16:59,  5.10it/s]"
     ]
    },
    {
     "name": "stdout",
     "output_type": "stream",
     "text": [
      "Epoch 27 \t Training loss: 0.2564473418772013 \t Validation loss: 0.26878244593992073 \n",
      " 27%|██▋       | 15498/57400 [17:50<45:37, 15.31it/s]\n"
     ]
    },
    {
     "name": "stderr",
     "output_type": "stream",
     "text": [
      " 28%|██▊       | 16071/57400 [18:28<42:31, 16.20it/s]  "
     ]
    },
    {
     "name": "stdout",
     "output_type": "stream",
     "text": [
      "Epoch 28 \t Training loss: 0.254173284000636 \t Validation loss: 0.26670832199565436 \n"
     ]
    },
    {
     "name": "stderr",
     "output_type": "stream",
     "text": [
      " 28%|██▊       | 16075/57400 [18:30<2:32:40,  4.51it/s]"
     ]
    },
    {
     "name": "stdout",
     "output_type": "stream",
     "text": [
      " 28%|██▊       | 16072/57400 [18:29<42:31, 16.20it/s]\n"
     ]
    },
    {
     "name": "stderr",
     "output_type": "stream",
     "text": [
      " 29%|██▉       | 16649/57400 [19:08<2:12:59,  5.11it/s]"
     ]
    },
    {
     "name": "stdout",
     "output_type": "stream",
     "text": [
      "Epoch 29 \t Training loss: 0.2537124395785847 \t Validation loss: 0.26740623454926377 \n",
      " 29%|██▉       | 16646/57400 [19:08<44:21, 15.31it/s]\n"
     ]
    },
    {
     "name": "stderr",
     "output_type": "stream",
     "text": [
      " 30%|██▉       | 17219/57400 [19:45<43:55, 15.24it/s]  "
     ]
    },
    {
     "name": "stdout",
     "output_type": "stream",
     "text": [
      "Epoch 30 \t Training loss: 0.25171244759696704 \t Validation loss: 0.2657338355557393 \n"
     ]
    },
    {
     "name": "stderr",
     "output_type": "stream",
     "text": [
      " 30%|███       | 17223/57400 [19:47<2:32:03,  4.40it/s]"
     ]
    },
    {
     "name": "stdout",
     "output_type": "stream",
     "text": [
      " 30%|███       | 17220/57400 [19:47<43:55, 15.24it/s]\n"
     ]
    },
    {
     "name": "stderr",
     "output_type": "stream",
     "text": [
      " 31%|███       | 17793/57400 [20:26<45:46, 14.42it/s]  "
     ]
    },
    {
     "name": "stdout",
     "output_type": "stream",
     "text": [
      "Epoch 31 \t Training loss: 0.24982187621788696 \t Validation loss: 0.26567345125190284 \n"
     ]
    },
    {
     "name": "stderr",
     "output_type": "stream",
     "text": [
      " 31%|███       | 17795/57400 [20:28<3:26:57,  3.19it/s]"
     ]
    },
    {
     "name": "stdout",
     "output_type": "stream",
     "text": [
      " 31%|███       | 17794/57400 [20:28<45:46, 14.42it/s]\n"
     ]
    },
    {
     "name": "stderr",
     "output_type": "stream",
     "text": [
      " 32%|███▏      | 18367/57400 [21:07<40:43, 15.97it/s]  "
     ]
    },
    {
     "name": "stdout",
     "output_type": "stream",
     "text": [
      "Epoch 32 \t Training loss: 0.24876872616258647 \t Validation loss: 0.2632568915516643 \n"
     ]
    },
    {
     "name": "stderr",
     "output_type": "stream",
     "text": [
      " 32%|███▏      | 18369/57400 [21:09<3:16:47,  3.31it/s]"
     ]
    },
    {
     "name": "stdout",
     "output_type": "stream",
     "text": [
      " 32%|███▏      | 18368/57400 [21:09<40:43, 15.97it/s]\n"
     ]
    },
    {
     "name": "stderr",
     "output_type": "stream",
     "text": [
      " 33%|███▎      | 18945/57400 [21:49<2:02:32,  5.23it/s]"
     ]
    },
    {
     "name": "stdout",
     "output_type": "stream",
     "text": [
      "Epoch 33 \t Training loss: 0.24525330392221956 \t Validation loss: 0.2649432471243002 \n",
      "\n",
      "1 epoch without improvement\n",
      " 33%|███▎      | 18942/57400 [21:48<44:43, 14.33it/s]\n"
     ]
    },
    {
     "name": "stderr",
     "output_type": "stream",
     "text": [
      " 34%|███▍      | 19518/57400 [22:28<2:38:08,  3.99it/s]"
     ]
    },
    {
     "name": "stdout",
     "output_type": "stream",
     "text": [
      "Epoch 34 \t Training loss: 0.24566126461643792 \t Validation loss: 0.26351361456563915 \n",
      " 34%|███▍      | 19516/57400 [22:28<37:52, 16.67it/s]\n"
     ]
    },
    {
     "name": "stderr",
     "output_type": "stream",
     "text": [
      " 35%|███▍      | 20089/57400 [23:06<44:54, 13.85it/s]  "
     ]
    },
    {
     "name": "stdout",
     "output_type": "stream",
     "text": [
      "Epoch 35 \t Training loss: 0.2430695879179011 \t Validation loss: 0.26256197690963745 \n"
     ]
    },
    {
     "name": "stderr",
     "output_type": "stream",
     "text": [
      " 35%|███▌      | 20093/57400 [23:08<2:27:25,  4.22it/s]"
     ]
    },
    {
     "name": "stdout",
     "output_type": "stream",
     "text": [
      " 35%|███▌      | 20090/57400 [23:08<44:54, 13.85it/s]\n"
     ]
    },
    {
     "name": "stderr",
     "output_type": "stream",
     "text": [
      " 36%|███▌      | 20667/57400 [23:47<2:06:38,  4.83it/s]"
     ]
    },
    {
     "name": "stdout",
     "output_type": "stream",
     "text": [
      "Epoch 36 \t Training loss: 0.24102945682894478 \t Validation loss: 0.26275830324423516 \n",
      " 36%|███▌      | 20664/57400 [23:47<42:56, 14.26it/s]\n"
     ]
    },
    {
     "name": "stderr",
     "output_type": "stream",
     "text": [
      " 37%|███▋      | 21237/57400 [24:25<37:40, 16.00it/s]  "
     ]
    },
    {
     "name": "stdout",
     "output_type": "stream",
     "text": [
      "Epoch 37 \t Training loss: 0.2408590351559144 \t Validation loss: 0.2622880094637305 \n"
     ]
    },
    {
     "name": "stderr",
     "output_type": "stream",
     "text": [
      " 37%|███▋      | 21241/57400 [24:27<2:17:20,  4.39it/s]"
     ]
    },
    {
     "name": "stdout",
     "output_type": "stream",
     "text": [
      " 37%|███▋      | 21238/57400 [24:27<37:40, 16.00it/s]\n"
     ]
    },
    {
     "name": "stderr",
     "output_type": "stream",
     "text": [
      " 38%|███▊      | 21813/57400 [25:07<2:21:45,  4.18it/s]"
     ]
    },
    {
     "name": "stdout",
     "output_type": "stream",
     "text": [
      "Epoch 38 \t Training loss: 0.23897177824679153 \t Validation loss: 0.26558808982372284 \n",
      "\n",
      "1 epoch without improvement\n",
      " 38%|███▊      | 21812/57400 [25:07<42:25, 13.98it/s]\n"
     ]
    },
    {
     "name": "stderr",
     "output_type": "stream",
     "text": [
      " 39%|███▉      | 22385/57400 [25:45<39:45, 14.68it/s]  "
     ]
    },
    {
     "name": "stdout",
     "output_type": "stream",
     "text": [
      "Epoch 39 \t Training loss: 0.23741700674183278 \t Validation loss: 0.26120906007491934 \n"
     ]
    },
    {
     "name": "stderr",
     "output_type": "stream",
     "text": [
      " 39%|███▉      | 22387/57400 [25:46<2:55:12,  3.33it/s]"
     ]
    },
    {
     "name": "stdout",
     "output_type": "stream",
     "text": [
      " 39%|███▉      | 22386/57400 [25:46<39:45, 14.68it/s]\n"
     ]
    },
    {
     "name": "stderr",
     "output_type": "stream",
     "text": [
      " 40%|████      | 22962/57400 [26:26<2:32:43,  3.76it/s]"
     ]
    },
    {
     "name": "stdout",
     "output_type": "stream",
     "text": [
      "Epoch 40 \t Training loss: 0.2383440836666976 \t Validation loss: 0.26224121426121666 \n",
      "\n",
      "1 epoch without improvement\n",
      " 40%|████      | 22960/57400 [26:26<36:02, 15.93it/s]\n"
     ]
    },
    {
     "name": "stderr",
     "output_type": "stream",
     "text": [
      " 41%|████      | 23537/57400 [27:06<1:55:20,  4.89it/s]"
     ]
    },
    {
     "name": "stdout",
     "output_type": "stream",
     "text": [
      "Epoch 41 \t Training loss: 0.23468195369227007 \t Validation loss: 0.2615587420887866 \n",
      " 41%|████      | 23534/57400 [27:05<38:08, 14.80it/s]\n"
     ]
    },
    {
     "name": "stderr",
     "output_type": "stream",
     "text": [
      " 42%|████▏     | 24106/57400 [27:43<37:08, 14.94it/s]  "
     ]
    },
    {
     "name": "stdout",
     "output_type": "stream",
     "text": [
      "Epoch 42 \t Training loss: 0.23452320073176344 \t Validation loss: 0.26068797682301476 \n"
     ]
    },
    {
     "name": "stderr",
     "output_type": "stream",
     "text": [
      " 42%|████▏     | 24109/57400 [27:45<2:30:52,  3.68it/s]"
     ]
    },
    {
     "name": "stdout",
     "output_type": "stream",
     "text": [
      " 42%|████▏     | 24108/57400 [27:45<37:08, 14.94it/s]\n"
     ]
    },
    {
     "name": "stderr",
     "output_type": "stream",
     "text": [
      " 43%|████▎     | 24685/57400 [28:25<1:54:01,  4.78it/s]"
     ]
    },
    {
     "name": "stdout",
     "output_type": "stream",
     "text": [
      "Epoch 43 \t Training loss: 0.23312209676367066 \t Validation loss: 0.26453529727661 \n",
      "\n",
      "1 epoch without improvement\n",
      " 43%|████▎     | 24682/57400 [28:25<39:33, 13.79it/s]\n"
     ]
    },
    {
     "name": "stderr",
     "output_type": "stream",
     "text": [
      " 44%|████▍     | 25259/57400 [29:04<1:47:21,  4.99it/s]"
     ]
    },
    {
     "name": "stdout",
     "output_type": "stream",
     "text": [
      "Epoch 44 \t Training loss: 0.23168980888373344 \t Validation loss: 0.26104514124029776 \n",
      " 44%|████▍     | 25256/57400 [29:04<36:02, 14.87it/s]\n"
     ]
    },
    {
     "name": "stderr",
     "output_type": "stream",
     "text": [
      " 45%|████▍     | 25829/57400 [29:42<37:04, 14.19it/s]  "
     ]
    },
    {
     "name": "stdout",
     "output_type": "stream",
     "text": [
      "Epoch 45 \t Training loss: 0.23057505414409088 \t Validation loss: 0.25976683325686695 \n"
     ]
    },
    {
     "name": "stderr",
     "output_type": "stream",
     "text": [
      " 45%|████▌     | 25831/57400 [29:44<2:41:19,  3.26it/s]"
     ]
    },
    {
     "name": "stdout",
     "output_type": "stream",
     "text": [
      " 45%|████▌     | 25830/57400 [29:44<37:04, 14.19it/s]\n"
     ]
    },
    {
     "name": "stderr",
     "output_type": "stream",
     "text": [
      " 46%|████▌     | 26407/57400 [30:24<1:46:09,  4.87it/s]"
     ]
    },
    {
     "name": "stdout",
     "output_type": "stream",
     "text": [
      "Epoch 46 \t Training loss: 0.2308814530536688 \t Validation loss: 0.2610541619991852 \n",
      "\n",
      "1 epoch without improvement\n",
      " 46%|████▌     | 26404/57400 [30:23<37:09, 13.90it/s]\n"
     ]
    },
    {
     "name": "stderr",
     "output_type": "stream",
     "text": [
      " 47%|████▋     | 26976/57400 [31:02<34:53, 14.53it/s]  "
     ]
    },
    {
     "name": "stdout",
     "output_type": "stream",
     "text": [
      "Epoch 47 \t Training loss: 0.22864430361404653 \t Validation loss: 0.25923792992608025 \n"
     ]
    },
    {
     "name": "stderr",
     "output_type": "stream",
     "text": [
      " 47%|████▋     | 26979/57400 [31:03<2:17:04,  3.70it/s]"
     ]
    },
    {
     "name": "stdout",
     "output_type": "stream",
     "text": [
      " 47%|████▋     | 26978/57400 [31:03<34:53, 14.53it/s]\n"
     ]
    },
    {
     "name": "stderr",
     "output_type": "stream",
     "text": [
      " 48%|████▊     | 27550/57400 [31:41<33:58, 14.64it/s]  "
     ]
    },
    {
     "name": "stdout",
     "output_type": "stream",
     "text": [
      "Epoch 48 \t Training loss: 0.22642097629944208 \t Validation loss: 0.25914496739031906 \n"
     ]
    },
    {
     "name": "stderr",
     "output_type": "stream",
     "text": [
      " 48%|████▊     | 27555/57400 [31:43<1:46:25,  4.67it/s]"
     ]
    },
    {
     "name": "stdout",
     "output_type": "stream",
     "text": [
      " 48%|████▊     | 27552/57400 [31:43<33:58, 14.64it/s]\n"
     ]
    },
    {
     "name": "stderr",
     "output_type": "stream",
     "text": [
      " 49%|████▉     | 28124/57400 [32:21<32:23, 15.06it/s]  "
     ]
    },
    {
     "name": "stdout",
     "output_type": "stream",
     "text": [
      "Epoch 49 \t Training loss: 0.22615098635234485 \t Validation loss: 0.259015291929245 \n"
     ]
    },
    {
     "name": "stderr",
     "output_type": "stream",
     "text": [
      " 49%|████▉     | 28129/57400 [32:23<1:43:53,  4.70it/s]"
     ]
    },
    {
     "name": "stdout",
     "output_type": "stream",
     "text": [
      " 49%|████▉     | 28126/57400 [32:23<32:23, 15.06it/s]\n"
     ]
    },
    {
     "name": "stderr",
     "output_type": "stream",
     "text": [
      " 50%|█████     | 28700/57400 [33:01<29:18, 16.32it/s]  "
     ]
    },
    {
     "name": "stdout",
     "output_type": "stream",
     "text": [
      "Epoch 50 \t Training loss: 0.2253137801478549 \t Validation loss: 0.2587695437467704 \n"
     ]
    },
    {
     "name": "stderr",
     "output_type": "stream",
     "text": [
      " 50%|█████     | 28702/57400 [33:03<2:13:34,  3.58it/s]"
     ]
    },
    {
     "name": "stdout",
     "output_type": "stream",
     "text": [
      " 50%|█████     | 28700/57400 [33:03<29:18, 16.32it/s]\n"
     ]
    },
    {
     "name": "stderr",
     "output_type": "stream",
     "text": [
      " 51%|█████     | 29273/57400 [33:41<32:28, 14.43it/s]  "
     ]
    },
    {
     "name": "stdout",
     "output_type": "stream",
     "text": [
      "Epoch 51 \t Training loss: 0.2240765229360775 \t Validation loss: 0.25818154367349916 \n"
     ]
    },
    {
     "name": "stderr",
     "output_type": "stream",
     "text": [
      " 51%|█████     | 29277/57400 [33:43<1:48:53,  4.30it/s]"
     ]
    },
    {
     "name": "stdout",
     "output_type": "stream",
     "text": [
      " 51%|█████     | 29274/57400 [33:42<32:28, 14.43it/s]\n"
     ]
    },
    {
     "name": "stderr",
     "output_type": "stream",
     "text": [
      " 52%|█████▏    | 29851/57400 [34:22<1:25:55,  5.34it/s]"
     ]
    },
    {
     "name": "stdout",
     "output_type": "stream",
     "text": [
      "Epoch 52 \t Training loss: 0.2244716499662773 \t Validation loss: 0.2588946547801212 \n",
      " 52%|█████▏    | 29848/57400 [34:22<31:01, 14.80it/s]\n"
     ]
    },
    {
     "name": "stderr",
     "output_type": "stream",
     "text": [
      " 53%|█████▎    | 30423/57400 [35:01<1:56:44,  3.85it/s]"
     ]
    },
    {
     "name": "stdout",
     "output_type": "stream",
     "text": [
      "Epoch 53 \t Training loss: 0.2222033457421675 \t Validation loss: 0.2589954940949456 \n",
      " 53%|█████▎    | 30422/57400 [35:01<31:02, 14.48it/s]\n"
     ]
    },
    {
     "name": "stderr",
     "output_type": "stream",
     "text": [
      " 54%|█████▍    | 30999/57400 [35:41<1:22:08,  5.36it/s]"
     ]
    },
    {
     "name": "stdout",
     "output_type": "stream",
     "text": [
      "Epoch 54 \t Training loss: 0.22269180470279284 \t Validation loss: 0.2592056855811911 \n",
      "\n",
      "1 epoch without improvement\n",
      " 54%|█████▍    | 30996/57400 [35:41<28:47, 15.28it/s]\n"
     ]
    },
    {
     "name": "stderr",
     "output_type": "stream",
     "text": [
      " 55%|█████▌    | 31573/57400 [36:19<1:25:55,  5.01it/s]"
     ]
    },
    {
     "name": "stdout",
     "output_type": "stream",
     "text": [
      "Epoch 55 \t Training loss: 0.22079201014095898 \t Validation loss: 0.25842858573137706 \n",
      " 55%|█████▌    | 31570/57400 [36:19<26:27, 16.28it/s]\n"
     ]
    },
    {
     "name": "stderr",
     "output_type": "stream",
     "text": [
      " 56%|█████▌    | 32145/57400 [36:58<1:46:52,  3.94it/s]"
     ]
    },
    {
     "name": "stdout",
     "output_type": "stream",
     "text": [
      "Epoch 56 \t Training loss: 0.21884822648161378 \t Validation loss: 0.25958105290340167 \n",
      "\n",
      "2 epoch without improvement\n",
      " 56%|█████▌    | 32144/57400 [36:58<27:28, 15.32it/s]\n"
     ]
    },
    {
     "name": "stderr",
     "output_type": "stream",
     "text": [
      " 57%|█████▋    | 32720/57400 [37:36<1:37:34,  4.22it/s]"
     ]
    },
    {
     "name": "stdout",
     "output_type": "stream",
     "text": [
      "Epoch 57 \t Training loss: 0.21952177658157898 \t Validation loss: 0.2605132855853792 \n",
      "\n",
      "3 epoch without improvement\n",
      " 57%|█████▋    | 32718/57400 [37:36<24:50, 16.56it/s]\n"
     ]
    },
    {
     "name": "stderr",
     "output_type": "stream",
     "text": [
      " 58%|█████▊    | 33294/57400 [38:15<1:44:16,  3.85it/s]"
     ]
    },
    {
     "name": "stdout",
     "output_type": "stream",
     "text": [
      "Epoch 58 \t Training loss: 0.21823375576049192 \t Validation loss: 0.2603472765471976 \n",
      "\n",
      "4 epoch without improvement\n",
      " 58%|█████▊    | 33292/57400 [38:15<27:02, 14.86it/s]\n"
     ]
    },
    {
     "name": "stderr",
     "output_type": "stream",
     "text": [
      " 59%|█████▉    | 33867/57400 [38:54<1:39:52,  3.93it/s]"
     ]
    },
    {
     "name": "stdout",
     "output_type": "stream",
     "text": [
      "Epoch 59 \t Training loss: 0.21717758013344393 \t Validation loss: 0.2591220986540035 \n",
      " 59%|█████▉    | 33866/57400 [38:54<25:27, 15.40it/s]\n"
     ]
    },
    {
     "name": "stderr",
     "output_type": "stream",
     "text": [
      " 60%|█████▉    | 34439/57400 [39:31<26:44, 14.31it/s]  "
     ]
    },
    {
     "name": "stdout",
     "output_type": "stream",
     "text": [
      "Epoch 60 \t Training loss: 0.21518882040830023 \t Validation loss: 0.25817901855808195 \n"
     ]
    },
    {
     "name": "stderr",
     "output_type": "stream",
     "text": [
      " 60%|██████    | 34443/57400 [39:33<1:26:38,  4.42it/s]"
     ]
    },
    {
     "name": "stdout",
     "output_type": "stream",
     "text": [
      " 60%|██████    | 34440/57400 [39:33<26:43, 14.31it/s]\n"
     ]
    },
    {
     "name": "stderr",
     "output_type": "stream",
     "text": [
      " 61%|██████    | 35015/57400 [40:12<1:32:24,  4.04it/s]"
     ]
    },
    {
     "name": "stdout",
     "output_type": "stream",
     "text": [
      "Epoch 61 \t Training loss: 0.21769723245543054 \t Validation loss: 0.26161175865237996 \n",
      "\n",
      "1 epoch without improvement\n",
      " 61%|██████    | 35014/57400 [40:11<24:33, 15.19it/s]\n"
     ]
    },
    {
     "name": "stderr",
     "output_type": "stream",
     "text": [
      " 62%|██████▏   | 35591/57400 [40:50<1:11:44,  5.07it/s]"
     ]
    },
    {
     "name": "stdout",
     "output_type": "stream",
     "text": [
      "Epoch 62 \t Training loss: 0.2159137060989071 \t Validation loss: 0.26092919682042076 \n",
      "\n",
      "2 epoch without improvement\n",
      " 62%|██████▏   | 35588/57400 [40:50<25:16, 14.38it/s]\n"
     ]
    },
    {
     "name": "stderr",
     "output_type": "stream",
     "text": [
      " 63%|██████▎   | 36162/57400 [41:28<21:16, 16.64it/s]  "
     ]
    },
    {
     "name": "stdout",
     "output_type": "stream",
     "text": [
      "Epoch 63 \t Training loss: 0.21422181105831775 \t Validation loss: 0.2577395797786066 \n"
     ]
    },
    {
     "name": "stderr",
     "output_type": "stream",
     "text": [
      " 63%|██████▎   | 36164/57400 [41:29<1:42:33,  3.45it/s]"
     ]
    },
    {
     "name": "stdout",
     "output_type": "stream",
     "text": [
      " 63%|██████▎   | 36162/57400 [41:29<21:16, 16.64it/s]\n"
     ]
    },
    {
     "name": "stderr",
     "output_type": "stream",
     "text": [
      " 64%|██████▍   | 36738/57400 [42:08<1:29:12,  3.86it/s]"
     ]
    },
    {
     "name": "stdout",
     "output_type": "stream",
     "text": [
      "Epoch 64 \t Training loss: 0.21539926070732937 \t Validation loss: 0.2584442311929444 \n",
      " 64%|██████▍   | 36736/57400 [42:08<21:54, 15.71it/s]\n"
     ]
    },
    {
     "name": "stderr",
     "output_type": "stream",
     "text": [
      " 65%|██████▌   | 37311/57400 [42:47<1:18:39,  4.26it/s]"
     ]
    },
    {
     "name": "stdout",
     "output_type": "stream",
     "text": [
      "Epoch 65 \t Training loss: 0.21293886669161843 \t Validation loss: 0.25952610247215985 \n",
      "\n",
      "1 epoch without improvement\n",
      " 65%|██████▌   | 37310/57400 [42:47<23:22, 14.33it/s]\n"
     ]
    },
    {
     "name": "stderr",
     "output_type": "stream",
     "text": [
      " 66%|██████▌   | 37887/57400 [43:26<1:05:10,  4.99it/s]"
     ]
    },
    {
     "name": "stdout",
     "output_type": "stream",
     "text": [
      "Epoch 66 \t Training loss: 0.2120321963099237 \t Validation loss: 0.26137910808547066 \n",
      "\n",
      "2 epoch without improvement\n",
      " 66%|██████▌   | 37884/57400 [43:25<20:57, 15.52it/s]\n"
     ]
    },
    {
     "name": "stderr",
     "output_type": "stream",
     "text": [
      " 67%|██████▋   | 38461/57400 [44:04<1:02:56,  5.01it/s]"
     ]
    },
    {
     "name": "stdout",
     "output_type": "stream",
     "text": [
      "Epoch 67 \t Training loss: 0.21239343857983264 \t Validation loss: 0.25804060470249696 \n",
      " 67%|██████▋   | 38458/57400 [44:04<19:25, 16.26it/s]\n"
     ]
    },
    {
     "name": "stderr",
     "output_type": "stream",
     "text": [
      " 68%|██████▊   | 39032/57400 [44:42<18:59, 16.12it/s]  "
     ]
    },
    {
     "name": "stdout",
     "output_type": "stream",
     "text": [
      "Epoch 68 \t Training loss: 0.20883796229075888 \t Validation loss: 0.2574465070235527 \n"
     ]
    },
    {
     "name": "stderr",
     "output_type": "stream",
     "text": [
      " 68%|██████▊   | 39034/57400 [44:43<1:30:11,  3.39it/s]"
     ]
    },
    {
     "name": "stdout",
     "output_type": "stream",
     "text": [
      " 68%|██████▊   | 39032/57400 [44:43<18:59, 16.12it/s]\n"
     ]
    },
    {
     "name": "stderr",
     "output_type": "stream",
     "text": [
      " 69%|██████▉   | 39608/57400 [45:22<1:11:20,  4.16it/s]"
     ]
    },
    {
     "name": "stdout",
     "output_type": "stream",
     "text": [
      "Epoch 69 \t Training loss: 0.2104971259702581 \t Validation loss: 0.25829584113622117 \n",
      " 69%|██████▉   | 39606/57400 [45:22<18:06, 16.38it/s]\n"
     ]
    },
    {
     "name": "stderr",
     "output_type": "stream",
     "text": [
      " 70%|███████   | 40183/57400 [46:01<53:26,  5.37it/s]  "
     ]
    },
    {
     "name": "stdout",
     "output_type": "stream",
     "text": [
      "Epoch 70 \t Training loss: 0.209298360495721 \t Validation loss: 0.2583006024360657 \n",
      " 70%|███████   | 40180/57400 [46:00<19:02, 15.08it/s]\n"
     ]
    },
    {
     "name": "stderr",
     "output_type": "stream",
     "text": [
      " 71%|███████   | 40757/57400 [46:39<48:53,  5.67it/s]  "
     ]
    },
    {
     "name": "stdout",
     "output_type": "stream",
     "text": [
      "Epoch 71 \t Training loss: 0.20977277465761746 \t Validation loss: 0.2575501491457729 \n",
      " 71%|███████   | 40754/57400 [46:39<18:48, 14.75it/s]\n"
     ]
    },
    {
     "name": "stderr",
     "output_type": "stream",
     "text": [
      " 72%|███████▏  | 41331/57400 [47:18<46:22,  5.77it/s]"
     ]
    },
    {
     "name": "stdout",
     "output_type": "stream",
     "text": [
      "Epoch 72 \t Training loss: 0.2094548637443303 \t Validation loss: 0.25903610177969527 \n",
      "\n",
      "1 epoch without improvement\n",
      " 72%|███████▏  | 41328/57400 [47:18<17:36, 15.21it/s]\n"
     ]
    },
    {
     "name": "stderr",
     "output_type": "stream",
     "text": [
      " 73%|███████▎  | 41905/57400 [47:57<51:33,  5.01it/s]  "
     ]
    },
    {
     "name": "stdout",
     "output_type": "stream",
     "text": [
      "Epoch 73 \t Training loss: 0.20729272625691383 \t Validation loss: 0.25820665945441035 \n",
      " 73%|███████▎  | 41902/57400 [47:57<18:34, 13.91it/s]\n"
     ]
    },
    {
     "name": "stderr",
     "output_type": "stream",
     "text": [
      " 74%|███████▍  | 42478/57400 [48:35<1:04:39,  3.85it/s]"
     ]
    },
    {
     "name": "stdout",
     "output_type": "stream",
     "text": [
      "Epoch 74 \t Training loss: 0.20572688790096638 \t Validation loss: 0.2584541447586932 \n",
      "\n",
      "2 epoch without improvement\n",
      " 74%|███████▍  | 42476/57400 [48:35<15:07, 16.45it/s]\n"
     ]
    },
    {
     "name": "stderr",
     "output_type": "stream",
     "text": [
      " 75%|███████▌  | 43053/57400 [49:14<43:50,  5.45it/s]  "
     ]
    },
    {
     "name": "stdout",
     "output_type": "stream",
     "text": [
      "Epoch 75 \t Training loss: 0.2070582997612006 \t Validation loss: 0.25891610096066686 \n",
      "\n",
      "3 epoch without improvement\n",
      " 75%|███████▌  | 43050/57400 [49:14<16:17, 14.68it/s]\n"
     ]
    },
    {
     "name": "stderr",
     "output_type": "stream",
     "text": [
      " 76%|███████▌  | 43627/57400 [49:53<43:12,  5.31it/s]"
     ]
    },
    {
     "name": "stdout",
     "output_type": "stream",
     "text": [
      "Epoch 76 \t Training loss: 0.20567840181992028 \t Validation loss: 0.25987259816315217 \n",
      "\n",
      "4 epoch without improvement\n",
      " 76%|███████▌  | 43624/57400 [49:53<15:04, 15.24it/s]\n"
     ]
    },
    {
     "name": "stderr",
     "output_type": "stream",
     "text": [
      " 77%|███████▋  | 44200/57400 [50:32<56:59,  3.86it/s]"
     ]
    },
    {
     "name": "stdout",
     "output_type": "stream",
     "text": [
      "Epoch 77 \t Training loss: 0.20434800531546413 \t Validation loss: 0.25901178055900637 \n",
      "\n",
      "5 epoch without improvement\n",
      " 77%|███████▋  | 44198/57400 [50:31<13:21, 16.46it/s]\n"
     ]
    },
    {
     "name": "stderr",
     "output_type": "stream",
     "text": [
      " 78%|███████▊  | 44775/57400 [51:10<39:25,  5.34it/s]"
     ]
    },
    {
     "name": "stdout",
     "output_type": "stream",
     "text": [
      "Epoch 78 \t Training loss: 0.2051117856068478 \t Validation loss: 0.25822730943308037 \n",
      " 78%|███████▊  | 44772/57400 [51:10<13:54, 15.14it/s]\n"
     ]
    },
    {
     "name": "stderr",
     "output_type": "stream",
     "text": [
      " 79%|███████▉  | 45349/57400 [51:49<36:54,  5.44it/s]"
     ]
    },
    {
     "name": "stdout",
     "output_type": "stream",
     "text": [
      "Epoch 79 \t Training loss: 0.20545796598291563 \t Validation loss: 0.2582597305714074 \n",
      " 79%|███████▉  | 45346/57400 [51:49<13:35, 14.78it/s]\n"
     ]
    },
    {
     "name": "stderr",
     "output_type": "stream",
     "text": [
      " 80%|████████  | 45923/57400 [52:27<38:25,  4.98it/s]"
     ]
    },
    {
     "name": "stdout",
     "output_type": "stream",
     "text": [
      "Epoch 80 \t Training loss: 0.20558272290468632 \t Validation loss: 0.2577791792356362 \n",
      " 80%|████████  | 45920/57400 [52:27<12:24, 15.42it/s]\n"
     ]
    },
    {
     "name": "stderr",
     "output_type": "stream",
     "text": [
      " 81%|████████  | 46497/57400 [53:06<34:49,  5.22it/s]"
     ]
    },
    {
     "name": "stdout",
     "output_type": "stream",
     "text": [
      "Epoch 81 \t Training loss: 0.2048772596056453 \t Validation loss: 0.25816568707005455 \n",
      " 81%|████████  | 46494/57400 [53:06<11:04, 16.42it/s]\n"
     ]
    },
    {
     "name": "stderr",
     "output_type": "stream",
     "text": [
      " 82%|████████▏ | 47071/57400 [53:45<30:28,  5.65it/s]"
     ]
    },
    {
     "name": "stdout",
     "output_type": "stream",
     "text": [
      "Epoch 82 \t Training loss: 0.20364530063931952 \t Validation loss: 0.2576345634662499 \n",
      " 82%|████████▏ | 47068/57400 [53:45<11:18, 15.23it/s]\n"
     ]
    },
    {
     "name": "stderr",
     "output_type": "stream",
     "text": [
      " 83%|████████▎ | 47643/57400 [54:23<40:50,  3.98it/s]"
     ]
    },
    {
     "name": "stdout",
     "output_type": "stream",
     "text": [
      "Epoch 83 \t Training loss: 0.20430960394571882 \t Validation loss: 0.2582563252772315 \n",
      " 83%|████████▎ | 47642/57400 [54:23<10:04, 16.15it/s]\n"
     ]
    },
    {
     "name": "stderr",
     "output_type": "stream",
     "text": [
      " 84%|████████▍ | 48215/57400 [55:01<09:21, 16.36it/s]"
     ]
    },
    {
     "name": "stdout",
     "output_type": "stream",
     "text": [
      "Epoch 84 \t Training loss: 0.20367888668844095 \t Validation loss: 0.2573722191786362 \n"
     ]
    },
    {
     "name": "stderr",
     "output_type": "stream",
     "text": [
      " 84%|████████▍ | 48219/57400 [55:02<33:09,  4.61it/s]"
     ]
    },
    {
     "name": "stdout",
     "output_type": "stream",
     "text": [
      " 84%|████████▍ | 48216/57400 [55:02<09:21, 16.36it/s]\n"
     ]
    },
    {
     "name": "stderr",
     "output_type": "stream",
     "text": [
      " 85%|████████▌ | 48793/57400 [55:41<27:35,  5.20it/s]"
     ]
    },
    {
     "name": "stdout",
     "output_type": "stream",
     "text": [
      "Epoch 85 \t Training loss: 0.2038592923990733 \t Validation loss: 0.2575082003565158 \n",
      " 85%|████████▌ | 48790/57400 [55:41<08:47, 16.32it/s]\n"
     ]
    },
    {
     "name": "stderr",
     "output_type": "stream",
     "text": [
      " 86%|████████▌ | 49367/57400 [56:20<24:24,  5.49it/s]"
     ]
    },
    {
     "name": "stdout",
     "output_type": "stream",
     "text": [
      "Epoch 86 \t Training loss: 0.20286576121474392 \t Validation loss: 0.25747997351622176 \n",
      " 86%|████████▌ | 49364/57400 [56:20<08:53, 15.07it/s]\n"
     ]
    },
    {
     "name": "stderr",
     "output_type": "stream",
     "text": [
      " 87%|████████▋ | 49941/57400 [56:58<22:26,  5.54it/s]"
     ]
    },
    {
     "name": "stdout",
     "output_type": "stream",
     "text": [
      "Epoch 87 \t Training loss: 0.2039064968634358 \t Validation loss: 0.25775688507799377 \n",
      " 87%|████████▋ | 49938/57400 [56:58<08:18, 14.96it/s]\n"
     ]
    },
    {
     "name": "stderr",
     "output_type": "stream",
     "text": [
      " 88%|████████▊ | 50515/57400 [57:37<22:48,  5.03it/s]"
     ]
    },
    {
     "name": "stdout",
     "output_type": "stream",
     "text": [
      "Epoch 88 \t Training loss: 0.20266098866583163 \t Validation loss: 0.25906114558042104 \n",
      "\n",
      "1 epoch without improvement\n",
      " 88%|████████▊ | 50512/57400 [57:37<07:04, 16.21it/s]\n"
     ]
    },
    {
     "name": "stderr",
     "output_type": "stream",
     "text": [
      " 89%|████████▉ | 51088/57400 [58:16<24:22,  4.31it/s]"
     ]
    },
    {
     "name": "stdout",
     "output_type": "stream",
     "text": [
      "Epoch 89 \t Training loss: 0.20174993326699278 \t Validation loss: 0.2586084887132806 \n",
      "\n",
      "2 epoch without improvement\n",
      " 89%|████████▉ | 51086/57400 [58:15<06:17, 16.73it/s]\n"
     ]
    },
    {
     "name": "stderr",
     "output_type": "stream",
     "text": [
      " 90%|█████████ | 51662/57400 [58:54<25:09,  3.80it/s]"
     ]
    },
    {
     "name": "stdout",
     "output_type": "stream",
     "text": [
      "Epoch 90 \t Training loss: 0.20262892183422626 \t Validation loss: 0.25837436141604087 \n",
      "\n",
      "3 epoch without improvement\n",
      " 90%|█████████ | 51660/57400 [58:54<06:00, 15.90it/s]\n"
     ]
    },
    {
     "name": "stderr",
     "output_type": "stream",
     "text": [
      " 91%|█████████ | 52236/57400 [59:33<21:16,  4.05it/s]"
     ]
    },
    {
     "name": "stdout",
     "output_type": "stream",
     "text": [
      "Epoch 91 \t Training loss: 0.201524295886323 \t Validation loss: 0.257463089995465 \n",
      " 91%|█████████ | 52234/57400 [59:33<05:09, 16.68it/s]\n"
     ]
    },
    {
     "name": "stderr",
     "output_type": "stream",
     "text": [
      " 92%|█████████▏| 52811/57400 [1:00:12<14:12,  5.38it/s]"
     ]
    },
    {
     "name": "stdout",
     "output_type": "stream",
     "text": [
      "Epoch 92 \t Training loss: 0.2030610329883647 \t Validation loss: 0.2577345684423285 \n",
      " 92%|█████████▏| 52808/57400 [1:00:11<04:59, 15.33it/s]\n"
     ]
    },
    {
     "name": "stderr",
     "output_type": "stream",
     "text": [
      " 93%|█████████▎| 53381/57400 [1:00:49<04:31, 14.83it/s]"
     ]
    },
    {
     "name": "stdout",
     "output_type": "stream",
     "text": [
      "Epoch 93 \t Training loss: 0.20159666228533207 \t Validation loss: 0.25724042497449 \n"
     ]
    },
    {
     "name": "stderr",
     "output_type": "stream",
     "text": [
      " 93%|█████████▎| 53385/57400 [1:00:51<15:06,  4.43it/s]"
     ]
    },
    {
     "name": "stdout",
     "output_type": "stream",
     "text": [
      " 93%|█████████▎| 53382/57400 [1:00:51<04:30, 14.83it/s]\n"
     ]
    },
    {
     "name": "stderr",
     "output_type": "stream",
     "text": [
      " 94%|█████████▍| 53957/57400 [1:01:29<14:19,  4.01it/s]"
     ]
    },
    {
     "name": "stdout",
     "output_type": "stream",
     "text": [
      "Epoch 94 \t Training loss: 0.20192108797850508 \t Validation loss: 0.2581115698410293 \n",
      " 94%|█████████▍| 53956/57400 [1:01:29<04:07, 13.94it/s]\n"
     ]
    },
    {
     "name": "stderr",
     "output_type": "stream",
     "text": [
      " 95%|█████████▌| 54531/57400 [1:02:08<12:21,  3.87it/s]"
     ]
    },
    {
     "name": "stdout",
     "output_type": "stream",
     "text": [
      "Epoch 95 \t Training loss: 0.2023643638406481 \t Validation loss: 0.25763114074529225 \n",
      " 95%|█████████▌| 54530/57400 [1:02:08<03:00, 15.93it/s]\n"
     ]
    },
    {
     "name": "stderr",
     "output_type": "stream",
     "text": [
      " 96%|█████████▌| 55105/57400 [1:02:47<09:49,  3.90it/s]"
     ]
    },
    {
     "name": "stdout",
     "output_type": "stream",
     "text": [
      "Epoch 96 \t Training loss: 0.20112267932254263 \t Validation loss: 0.2584613508592218 \n",
      "\n",
      "1 epoch without improvement\n",
      " 96%|█████████▌| 55104/57400 [1:02:47<02:23, 16.02it/s]\n"
     ]
    },
    {
     "name": "stderr",
     "output_type": "stream",
     "text": [
      " 97%|█████████▋| 55681/57400 [1:03:26<05:44,  5.00it/s]"
     ]
    },
    {
     "name": "stdout",
     "output_type": "stream",
     "text": [
      "Epoch 97 \t Training loss: 0.20033729207484563 \t Validation loss: 0.25765751984159824 \n",
      " 97%|█████████▋| 55678/57400 [1:03:25<01:55, 14.97it/s]\n"
     ]
    },
    {
     "name": "stderr",
     "output_type": "stream",
     "text": [
      " 98%|█████████▊| 56254/57400 [1:04:04<04:49,  3.96it/s]"
     ]
    },
    {
     "name": "stdout",
     "output_type": "stream",
     "text": [
      "Epoch 98 \t Training loss: 0.19873805738699976 \t Validation loss: 0.2579711647862095 \n",
      " 98%|█████████▊| 56252/57400 [1:04:04<01:09, 16.59it/s]\n"
     ]
    },
    {
     "name": "stderr",
     "output_type": "stream",
     "text": [
      " 99%|█████████▉| 56828/57400 [1:04:43<02:20,  4.07it/s]"
     ]
    },
    {
     "name": "stdout",
     "output_type": "stream",
     "text": [
      "Epoch 99 \t Training loss: 0.20000105927526327 \t Validation loss: 0.25764123969158886 \n",
      " 99%|█████████▉| 56826/57400 [1:04:43<00:34, 16.81it/s]\n"
     ]
    },
    {
     "name": "stderr",
     "output_type": "stream",
     "text": [
      "100%|█████████▉| 57398/57400 [1:05:20<00:00, 15.31it/s]"
     ]
    },
    {
     "name": "stdout",
     "output_type": "stream",
     "text": [
      "Epoch 100 \t Training loss: 0.2010261727178969 \t Validation loss: 0.2578032398122852 \n",
      "100%|██████████| 57400/57400 [1:05:21<00:00, 15.31it/s]\n"
     ]
    },
    {
     "data": {
      "image/png": "[encoded data removed]",
      "text/plain": [
       "<Figure size 640x480 with 1 Axes>"
      ]
     },
     "metadata": {},
     "output_type": "display_data"
    },
    {
     "name": "stderr",
     "output_type": "stream",
     "text": [
      "100%|██████████| 57400/57400 [1:05:22<00:00, 14.64it/s]\n"
     ]
    }
   ],
   "source": [
    "learning_rate = 5e-5\n",
    "optimizer = SGD(model.parameters(), lr=learning_rate, momentum=0.9)\n",
    "num_epochs = 100\n",
    "\n",
    "st.train_function_early_stop(model,num_epochs,dl_train['about'],optimizer,early_stop=10,dl_val=dl_val['about'],save_path='m1_bert_simple_ABOUT_best')"
   ]
  },
  {
   "attachments": {},
   "cell_type": "markdown",
   "metadata": {},
   "source": [
    "# TO"
   ]
  },
  {
   "cell_type": "code",
   "execution_count": 15,
   "metadata": {},
   "outputs": [
    {
     "name": "stderr",
     "output_type": "stream",
     "text": [
      "Some weights of the model checkpoint at distilbert-base-uncased were not used when initializing DistilBertModel: ['vocab_layer_norm.bias', 'vocab_projector.weight', 'vocab_transform.weight', 'vocab_projector.bias', 'vocab_transform.bias', 'vocab_layer_norm.weight']\n",
      "- This IS expected if you are initializing DistilBertModel from the checkpoint of a model trained on another task or with another architecture (e.g. initializing a BertForSequenceClassification model from a BertForPreTraining model).\n",
      "- This IS NOT expected if you are initializing DistilBertModel from the checkpoint of a model that you expect to be exactly identical (initializing a BertForSequenceClassification model from a BertForSequenceClassification model).\n"
     ]
    }
   ],
   "source": [
    "model = st.SingleTaskSimple(confs.bert_conf).to(device)"
   ]
  },
  {
   "cell_type": "code",
   "execution_count": 16,
   "metadata": {},
   "outputs": [
    {
     "name": "stderr",
     "output_type": "stream",
     "text": [
      "  1%|          | 573/57400 [00:37<1:03:20, 14.95it/s]"
     ]
    },
    {
     "name": "stdout",
     "output_type": "stream",
     "text": [
      "Epoch 1 \t Training loss: 0.7470334182632925 \t Validation loss: 0.7043205782518549 \n"
     ]
    },
    {
     "name": "stderr",
     "output_type": "stream",
     "text": [
      "  1%|          | 577/57400 [00:39<3:41:47,  4.27it/s]"
     ]
    },
    {
     "name": "stdout",
     "output_type": "stream",
     "text": [
      "  1%|          | 574/57400 [00:39<1:03:20, 14.95it/s]\n"
     ]
    },
    {
     "name": "stderr",
     "output_type": "stream",
     "text": [
      "  2%|▏         | 1147/57400 [01:17<1:07:31, 13.88it/s]"
     ]
    },
    {
     "name": "stdout",
     "output_type": "stream",
     "text": [
      "Epoch 2 \t Training loss: 0.7050231734634692 \t Validation loss: 0.6984736070794574 \n"
     ]
    },
    {
     "name": "stderr",
     "output_type": "stream",
     "text": [
      "  2%|▏         | 1149/57400 [01:18<4:46:24,  3.27it/s]"
     ]
    },
    {
     "name": "stdout",
     "output_type": "stream",
     "text": [
      "  2%|▏         | 1148/57400 [01:18<1:07:31, 13.88it/s]\n"
     ]
    },
    {
     "name": "stderr",
     "output_type": "stream",
     "text": [
      "  3%|▎         | 1721/57400 [01:56<1:05:46, 14.11it/s]"
     ]
    },
    {
     "name": "stdout",
     "output_type": "stream",
     "text": [
      "Epoch 3 \t Training loss: 0.7006437835585365 \t Validation loss: 0.6966145836700828 \n"
     ]
    },
    {
     "name": "stderr",
     "output_type": "stream",
     "text": [
      "  3%|▎         | 1725/57400 [01:58<3:38:05,  4.25it/s]"
     ]
    },
    {
     "name": "stdout",
     "output_type": "stream",
     "text": [
      "  3%|▎         | 1722/57400 [01:57<1:05:46, 14.11it/s]\n"
     ]
    },
    {
     "name": "stderr",
     "output_type": "stream",
     "text": [
      "  4%|▍         | 2294/57400 [02:35<1:01:46, 14.87it/s]"
     ]
    },
    {
     "name": "stdout",
     "output_type": "stream",
     "text": [
      "Epoch 4 \t Training loss: 0.6991102104610682 \t Validation loss: 0.69502436306517 \n"
     ]
    },
    {
     "name": "stderr",
     "output_type": "stream",
     "text": [
      "  4%|▍         | 2299/57400 [02:37<3:23:31,  4.51it/s]"
     ]
    },
    {
     "name": "stdout",
     "output_type": "stream",
     "text": [
      "  4%|▍         | 2296/57400 [02:37<1:01:46, 14.87it/s]\n"
     ]
    },
    {
     "name": "stderr",
     "output_type": "stream",
     "text": [
      "  5%|▌         | 2873/57400 [03:16<3:07:47,  4.84it/s]"
     ]
    },
    {
     "name": "stdout",
     "output_type": "stream",
     "text": [
      "Epoch 5 \t Training loss: 0.697867774485711 \t Validation loss: 0.6964143524735661 \n",
      "\n",
      "1 epoch without improvement\n",
      "  5%|▌         | 2870/57400 [03:16<58:25, 15.56it/s]\n"
     ]
    },
    {
     "name": "stderr",
     "output_type": "stream",
     "text": [
      "  6%|▌         | 3444/57400 [03:54<56:22, 15.95it/s]  "
     ]
    },
    {
     "name": "stdout",
     "output_type": "stream",
     "text": [
      "Epoch 6 \t Training loss: 0.6971471844442215 \t Validation loss: 0.6947337409197274 \n"
     ]
    },
    {
     "name": "stderr",
     "output_type": "stream",
     "text": [
      "  6%|▌         | 3446/57400 [03:55<4:34:31,  3.28it/s]"
     ]
    },
    {
     "name": "stdout",
     "output_type": "stream",
     "text": [
      "  6%|▌         | 3444/57400 [03:55<56:22, 15.95it/s]\n"
     ]
    },
    {
     "name": "stderr",
     "output_type": "stream",
     "text": [
      "  7%|▋         | 4020/57400 [04:34<3:46:10,  3.93it/s]"
     ]
    },
    {
     "name": "stdout",
     "output_type": "stream",
     "text": [
      "Epoch 7 \t Training loss: 0.6968739101280319 \t Validation loss: 0.6952353705794124 \n",
      "  7%|▋         | 4018/57400 [04:34<54:40, 16.27it/s]\n"
     ]
    },
    {
     "name": "stderr",
     "output_type": "stream",
     "text": [
      "  8%|▊         | 4592/57400 [05:12<55:10, 15.95it/s]  "
     ]
    },
    {
     "name": "stdout",
     "output_type": "stream",
     "text": [
      "Epoch 8 \t Training loss: 0.6965566305540996 \t Validation loss: 0.6937237452652495 \n"
     ]
    },
    {
     "name": "stderr",
     "output_type": "stream",
     "text": [
      "  8%|▊         | 4594/57400 [05:14<4:34:04,  3.21it/s]"
     ]
    },
    {
     "name": "stdout",
     "output_type": "stream",
     "text": [
      "  8%|▊         | 4592/57400 [05:14<55:10, 15.95it/s]\n"
     ]
    },
    {
     "name": "stderr",
     "output_type": "stream",
     "text": [
      "  9%|▉         | 5167/57400 [05:53<3:50:59,  3.77it/s]"
     ]
    },
    {
     "name": "stdout",
     "output_type": "stream",
     "text": [
      "Epoch 9 \t Training loss: 0.6961839616506357 \t Validation loss: 0.6946321372258462 \n",
      "  9%|▉         | 5166/57400 [05:53<57:36, 15.11it/s]\n"
     ]
    },
    {
     "name": "stderr",
     "output_type": "stream",
     "text": [
      " 10%|█         | 5743/57400 [06:32<2:57:47,  4.84it/s]"
     ]
    },
    {
     "name": "stdout",
     "output_type": "stream",
     "text": [
      "Epoch 10 \t Training loss: 0.6960597755809279 \t Validation loss: 0.6945727315999694 \n",
      " 10%|█         | 5740/57400 [06:32<53:14, 16.17it/s]\n"
     ]
    },
    {
     "name": "stderr",
     "output_type": "stream",
     "text": [
      " 11%|█         | 6317/57400 [07:11<2:52:35,  4.93it/s]"
     ]
    },
    {
     "name": "stdout",
     "output_type": "stream",
     "text": [
      "Epoch 11 \t Training loss: 0.6956571263718688 \t Validation loss: 0.6948646509041221 \n",
      "\n",
      "1 epoch without improvement\n",
      " 11%|█         | 6314/57400 [07:11<53:48, 15.82it/s]\n"
     ]
    },
    {
     "name": "stderr",
     "output_type": "stream",
     "text": [
      " 12%|█▏        | 6890/57400 [07:50<3:40:53,  3.81it/s]"
     ]
    },
    {
     "name": "stdout",
     "output_type": "stream",
     "text": [
      "Epoch 12 \t Training loss: 0.6955017863873405 \t Validation loss: 0.6939201506517702 \n",
      " 12%|█▏        | 6888/57400 [07:50<52:35, 16.01it/s]\n"
     ]
    },
    {
     "name": "stderr",
     "output_type": "stream",
     "text": [
      " 13%|█▎        | 7464/57400 [08:29<3:39:32,  3.79it/s]"
     ]
    },
    {
     "name": "stdout",
     "output_type": "stream",
     "text": [
      "Epoch 13 \t Training loss: 0.6953997919368412 \t Validation loss: 0.6945709767988173 \n",
      " 13%|█▎        | 7462/57400 [08:29<49:37, 16.77it/s]\n"
     ]
    },
    {
     "name": "stderr",
     "output_type": "stream",
     "text": [
      " 14%|█▍        | 8038/57400 [09:08<3:23:09,  4.05it/s]"
     ]
    },
    {
     "name": "stdout",
     "output_type": "stream",
     "text": [
      "Epoch 14 \t Training loss: 0.6950749939742404 \t Validation loss: 0.6942333710395684 \n",
      " 14%|█▍        | 8036/57400 [09:08<48:51, 16.84it/s]\n"
     ]
    },
    {
     "name": "stderr",
     "output_type": "stream",
     "text": [
      " 15%|█▍        | 8608/57400 [09:46<55:50, 14.56it/s]  "
     ]
    },
    {
     "name": "stdout",
     "output_type": "stream",
     "text": [
      "Epoch 15 \t Training loss: 0.6950544219606845 \t Validation loss: 0.6930274862354084 \n"
     ]
    },
    {
     "name": "stderr",
     "output_type": "stream",
     "text": [
      " 15%|█▌        | 8613/57400 [09:48<2:57:47,  4.57it/s]"
     ]
    },
    {
     "name": "stdout",
     "output_type": "stream",
     "text": [
      " 15%|█▌        | 8610/57400 [09:47<55:50, 14.56it/s]\n"
     ]
    },
    {
     "name": "stderr",
     "output_type": "stream",
     "text": [
      " 16%|█▌        | 9185/57400 [10:26<3:29:25,  3.84it/s]"
     ]
    },
    {
     "name": "stdout",
     "output_type": "stream",
     "text": [
      "Epoch 16 \t Training loss: 0.6949268508871258 \t Validation loss: 0.6941220669423119 \n",
      "\n",
      "1 epoch without improvement\n",
      " 16%|█▌        | 9184/57400 [10:26<50:05, 16.05it/s]\n"
     ]
    },
    {
     "name": "stderr",
     "output_type": "stream",
     "text": [
      " 17%|█▋        | 9761/57400 [11:05<2:39:54,  4.97it/s]"
     ]
    },
    {
     "name": "stdout",
     "output_type": "stream",
     "text": [
      "Epoch 17 \t Training loss: 0.6948782093433553 \t Validation loss: 0.6937980864007595 \n",
      " 17%|█▋        | 9758/57400 [11:05<50:01, 15.87it/s]\n"
     ]
    },
    {
     "name": "stderr",
     "output_type": "stream",
     "text": [
      " 18%|█▊        | 10335/57400 [11:44<2:43:09,  4.81it/s]"
     ]
    },
    {
     "name": "stdout",
     "output_type": "stream",
     "text": [
      "Epoch 18 \t Training loss: 0.6945957433471281 \t Validation loss: 0.693860263137494 \n",
      " 18%|█▊        | 10332/57400 [11:44<53:24, 14.69it/s]\n"
     ]
    },
    {
     "name": "stderr",
     "output_type": "stream",
     "text": [
      " 19%|█▉        | 10908/57400 [12:24<3:25:12,  3.78it/s]"
     ]
    },
    {
     "name": "stdout",
     "output_type": "stream",
     "text": [
      "Epoch 19 \t Training loss: 0.6947759219578334 \t Validation loss: 0.6932606535442805 \n",
      " 19%|█▉        | 10906/57400 [12:23<49:07, 15.77it/s]\n"
     ]
    },
    {
     "name": "stderr",
     "output_type": "stream",
     "text": [
      " 20%|██        | 11483/57400 [13:03<2:23:30,  5.33it/s]"
     ]
    },
    {
     "name": "stdout",
     "output_type": "stream",
     "text": [
      "Epoch 20 \t Training loss: 0.6946482889951314 \t Validation loss: 0.6942309201773951 \n",
      "\n",
      "2 epoch without improvement\n",
      " 20%|██        | 11480/57400 [13:02<50:32, 15.14it/s]\n"
     ]
    },
    {
     "name": "stderr",
     "output_type": "stream",
     "text": [
      " 21%|██        | 12054/57400 [13:40<46:58, 16.09it/s]  "
     ]
    },
    {
     "name": "stdout",
     "output_type": "stream",
     "text": [
      "Epoch 21 \t Training loss: 0.6949855952105041 \t Validation loss: 0.6926842392501185 \n"
     ]
    },
    {
     "name": "stderr",
     "output_type": "stream",
     "text": [
      " 21%|██        | 12056/57400 [13:42<3:51:46,  3.26it/s]"
     ]
    },
    {
     "name": "stdout",
     "output_type": "stream",
     "text": [
      " 21%|██        | 12054/57400 [13:42<46:58, 16.09it/s]\n"
     ]
    },
    {
     "name": "stderr",
     "output_type": "stream",
     "text": [
      " 22%|██▏       | 12631/57400 [14:21<2:18:43,  5.38it/s]"
     ]
    },
    {
     "name": "stdout",
     "output_type": "stream",
     "text": [
      "Epoch 22 \t Training loss: 0.6947587334943566 \t Validation loss: 0.6930989865529336 \n",
      " 22%|██▏       | 12628/57400 [14:21<49:28, 15.08it/s]\n"
     ]
    },
    {
     "name": "stderr",
     "output_type": "stream",
     "text": [
      " 23%|██▎       | 13205/57400 [15:00<2:27:37,  4.99it/s]"
     ]
    },
    {
     "name": "stdout",
     "output_type": "stream",
     "text": [
      "Epoch 23 \t Training loss: 0.6945980283649126 \t Validation loss: 0.6947043053174423 \n",
      "\n",
      "1 epoch without improvement\n",
      " 23%|██▎       | 13202/57400 [15:00<48:22, 15.23it/s]\n"
     ]
    },
    {
     "name": "stderr",
     "output_type": "stream",
     "text": [
      " 24%|██▍       | 13779/57400 [15:39<2:19:44,  5.20it/s]"
     ]
    },
    {
     "name": "stdout",
     "output_type": "stream",
     "text": [
      "Epoch 24 \t Training loss: 0.6945400897426472 \t Validation loss: 0.6935525233462706 \n",
      " 24%|██▍       | 13776/57400 [15:39<49:18, 14.74it/s]\n"
     ]
    },
    {
     "name": "stderr",
     "output_type": "stream",
     "text": [
      " 25%|██▌       | 14353/57400 [16:18<2:24:16,  4.97it/s]"
     ]
    },
    {
     "name": "stdout",
     "output_type": "stream",
     "text": [
      "Epoch 25 \t Training loss: 0.6944397986973619 \t Validation loss: 0.6942453616756504 \n",
      "\n",
      "2 epoch without improvement\n",
      " 25%|██▌       | 14350/57400 [16:18<48:29, 14.80it/s]\n"
     ]
    },
    {
     "name": "stderr",
     "output_type": "stream",
     "text": [
      " 26%|██▌       | 14925/57400 [16:57<3:06:49,  3.79it/s]"
     ]
    },
    {
     "name": "stdout",
     "output_type": "stream",
     "text": [
      "Epoch 26 \t Training loss: 0.6945292137641109 \t Validation loss: 0.69463376069473 \n",
      "\n",
      "3 epoch without improvement\n",
      " 26%|██▌       | 14924/57400 [16:57<43:40, 16.21it/s]\n"
     ]
    },
    {
     "name": "stderr",
     "output_type": "stream",
     "text": [
      " 27%|██▋       | 15501/57400 [17:36<2:12:47,  5.26it/s]"
     ]
    },
    {
     "name": "stdout",
     "output_type": "stream",
     "text": [
      "Epoch 27 \t Training loss: 0.6944377188690863 \t Validation loss: 0.694367640099283 \n",
      "\n",
      "4 epoch without improvement\n",
      " 27%|██▋       | 15498/57400 [17:36<48:40, 14.35it/s]\n"
     ]
    },
    {
     "name": "stderr",
     "output_type": "stream",
     "text": [
      " 28%|██▊       | 16075/57400 [18:15<2:18:51,  4.96it/s]"
     ]
    },
    {
     "name": "stdout",
     "output_type": "stream",
     "text": [
      "Epoch 28 \t Training loss: 0.694402429077268 \t Validation loss: 0.6939026107222347 \n",
      "\n",
      "5 epoch without improvement\n",
      " 28%|██▊       | 16072/57400 [18:15<46:54, 14.68it/s]\n"
     ]
    },
    {
     "name": "stderr",
     "output_type": "stream",
     "text": [
      " 29%|██▉       | 16649/57400 [18:54<2:09:45,  5.23it/s]"
     ]
    },
    {
     "name": "stdout",
     "output_type": "stream",
     "text": [
      "Epoch 29 \t Training loss: 0.694265076299993 \t Validation loss: 0.6944768438904972 \n",
      "\n",
      "6 epoch without improvement\n",
      " 29%|██▉       | 16646/57400 [18:54<46:50, 14.50it/s]\n"
     ]
    },
    {
     "name": "stderr",
     "output_type": "stream",
     "text": [
      " 30%|███       | 17221/57400 [19:33<2:57:33,  3.77it/s]"
     ]
    },
    {
     "name": "stdout",
     "output_type": "stream",
     "text": [
      "Epoch 30 \t Training loss: 0.6944243072009668 \t Validation loss: 0.6946457402180817 \n",
      "\n",
      "7 epoch without improvement\n",
      " 30%|███       | 17220/57400 [19:33<45:06, 14.84it/s]\n"
     ]
    },
    {
     "name": "stderr",
     "output_type": "stream",
     "text": [
      " 31%|███       | 17797/57400 [20:12<2:12:38,  4.98it/s]"
     ]
    },
    {
     "name": "stdout",
     "output_type": "stream",
     "text": [
      "Epoch 31 \t Training loss: 0.6944204757853252 \t Validation loss: 0.6946120393478264 \n",
      "\n",
      "8 epoch without improvement\n",
      " 31%|███       | 17794/57400 [20:12<40:49, 16.17it/s]\n"
     ]
    },
    {
     "name": "stderr",
     "output_type": "stream",
     "text": [
      " 32%|███▏      | 18370/57400 [20:52<2:53:19,  3.75it/s]"
     ]
    },
    {
     "name": "stdout",
     "output_type": "stream",
     "text": [
      "Epoch 32 \t Training loss: 0.694657386491523 \t Validation loss: 0.6935011259580063 \n",
      " 32%|███▏      | 18368/57400 [20:51<39:43, 16.38it/s]\n"
     ]
    },
    {
     "name": "stderr",
     "output_type": "stream",
     "text": [
      " 33%|███▎      | 18945/57400 [21:32<2:11:22,  4.88it/s]"
     ]
    },
    {
     "name": "stdout",
     "output_type": "stream",
     "text": [
      "Epoch 33 \t Training loss: 0.6941957933769825 \t Validation loss: 0.6929834747718553 \n",
      " 33%|███▎      | 18942/57400 [21:32<46:27, 13.79it/s]\n"
     ]
    },
    {
     "name": "stderr",
     "output_type": "stream",
     "text": [
      " 34%|███▍      | 19519/57400 [22:14<2:18:15,  4.57it/s]"
     ]
    },
    {
     "name": "stdout",
     "output_type": "stream",
     "text": [
      "Epoch 34 \t Training loss: 0.6942620004303364 \t Validation loss: 0.6931685653783507 \n",
      " 34%|███▍      | 19516/57400 [22:14<49:12, 12.83it/s]\n"
     ]
    },
    {
     "name": "stderr",
     "output_type": "stream",
     "text": [
      " 35%|███▍      | 20089/57400 [22:53<39:29, 15.75it/s]  "
     ]
    },
    {
     "name": "stdout",
     "output_type": "stream",
     "text": [
      "Epoch 35 \t Training loss: 0.6942286558890592 \t Validation loss: 0.692628170474101 \n"
     ]
    },
    {
     "name": "stderr",
     "output_type": "stream",
     "text": [
      " 35%|███▌      | 20093/57400 [22:55<2:30:34,  4.13it/s]"
     ]
    },
    {
     "name": "stdout",
     "output_type": "stream",
     "text": [
      " 35%|███▌      | 20090/57400 [22:55<39:29, 15.75it/s]\n"
     ]
    },
    {
     "name": "stderr",
     "output_type": "stream",
     "text": [
      " 36%|███▌      | 20667/57400 [23:35<2:00:11,  5.09it/s]"
     ]
    },
    {
     "name": "stdout",
     "output_type": "stream",
     "text": [
      "Epoch 36 \t Training loss: 0.6943375568979708 \t Validation loss: 0.6929112420243732 \n",
      " 36%|███▌      | 20664/57400 [23:35<46:46, 13.09it/s]\n"
     ]
    },
    {
     "name": "stderr",
     "output_type": "stream",
     "text": [
      " 37%|███▋      | 21240/57400 [24:15<2:43:05,  3.70it/s]"
     ]
    },
    {
     "name": "stdout",
     "output_type": "stream",
     "text": [
      "Epoch 37 \t Training loss: 0.694239331766288 \t Validation loss: 0.6927437459008169 \n",
      " 37%|███▋      | 21238/57400 [24:15<36:48, 16.37it/s]\n"
     ]
    },
    {
     "name": "stderr",
     "output_type": "stream",
     "text": [
      " 38%|███▊      | 21812/57400 [24:53<39:06, 15.16it/s]  "
     ]
    },
    {
     "name": "stdout",
     "output_type": "stream",
     "text": [
      "Epoch 38 \t Training loss: 0.6939314448044275 \t Validation loss: 0.6924940529516188 \n"
     ]
    },
    {
     "name": "stderr",
     "output_type": "stream",
     "text": [
      " 38%|███▊      | 21814/57400 [24:55<3:08:42,  3.14it/s]"
     ]
    },
    {
     "name": "stdout",
     "output_type": "stream",
     "text": [
      " 38%|███▊      | 21812/57400 [24:55<39:06, 15.16it/s]\n"
     ]
    },
    {
     "name": "stderr",
     "output_type": "stream",
     "text": [
      " 39%|███▉      | 22389/57400 [25:35<1:59:28,  4.88it/s]"
     ]
    },
    {
     "name": "stdout",
     "output_type": "stream",
     "text": [
      "Epoch 39 \t Training loss: 0.6943808152285187 \t Validation loss: 0.6936761837894634 \n",
      "\n",
      "1 epoch without improvement\n",
      " 39%|███▉      | 22386/57400 [25:35<37:44, 15.46it/s]\n"
     ]
    },
    {
     "name": "stderr",
     "output_type": "stream",
     "text": [
      " 40%|████      | 22963/57400 [26:15<1:58:39,  4.84it/s]"
     ]
    },
    {
     "name": "stdout",
     "output_type": "stream",
     "text": [
      "Epoch 40 \t Training loss: 0.6938882576048582 \t Validation loss: 0.6931933932385203 \n",
      " 40%|████      | 22960/57400 [26:15<40:03, 14.33it/s]\n"
     ]
    },
    {
     "name": "stderr",
     "output_type": "stream",
     "text": [
      " 41%|████      | 23536/57400 [26:55<2:35:43,  3.62it/s]"
     ]
    },
    {
     "name": "stdout",
     "output_type": "stream",
     "text": [
      "Epoch 41 \t Training loss: 0.6941393581624645 \t Validation loss: 0.6933882165763338 \n",
      " 41%|████      | 23534/57400 [26:55<37:34, 15.02it/s]\n"
     ]
    },
    {
     "name": "stderr",
     "output_type": "stream",
     "text": [
      " 42%|████▏     | 24108/57400 [27:34<37:03, 14.97it/s]  "
     ]
    },
    {
     "name": "stdout",
     "output_type": "stream",
     "text": [
      "Epoch 42 \t Training loss: 0.6939087782171961 \t Validation loss: 0.6919324933472326 \n"
     ]
    },
    {
     "name": "stderr",
     "output_type": "stream",
     "text": [
      " 42%|████▏     | 24110/57400 [27:35<2:51:17,  3.24it/s]"
     ]
    },
    {
     "name": "stdout",
     "output_type": "stream",
     "text": [
      " 42%|████▏     | 24108/57400 [27:35<37:03, 14.97it/s]\n"
     ]
    },
    {
     "name": "stderr",
     "output_type": "stream",
     "text": [
      " 43%|████▎     | 24685/57400 [28:15<1:43:43,  5.26it/s]"
     ]
    },
    {
     "name": "stdout",
     "output_type": "stream",
     "text": [
      "Epoch 43 \t Training loss: 0.6941379732371208 \t Validation loss: 0.692384533962961 \n",
      " 43%|████▎     | 24682/57400 [28:15<34:47, 15.67it/s]\n"
     ]
    },
    {
     "name": "stderr",
     "output_type": "stream",
     "text": [
      " 44%|████▍     | 25258/57400 [28:55<2:27:23,  3.63it/s]"
     ]
    },
    {
     "name": "stdout",
     "output_type": "stream",
     "text": [
      "Epoch 44 \t Training loss: 0.6941691371206623 \t Validation loss: 0.6926182660005861 \n",
      " 44%|████▍     | 25256/57400 [28:55<33:02, 16.21it/s]\n"
     ]
    },
    {
     "name": "stderr",
     "output_type": "stream",
     "text": [
      " 45%|████▌     | 25831/57400 [29:35<2:21:31,  3.72it/s]"
     ]
    },
    {
     "name": "stdout",
     "output_type": "stream",
     "text": [
      "Epoch 45 \t Training loss: 0.6941678931073445 \t Validation loss: 0.6936089861190925 \n",
      "\n",
      "1 epoch without improvement\n",
      " 45%|████▌     | 25830/57400 [29:35<33:41, 15.62it/s]\n"
     ]
    },
    {
     "name": "stderr",
     "output_type": "stream",
     "text": [
      " 46%|████▌     | 26406/57400 [30:15<2:18:33,  3.73it/s]"
     ]
    },
    {
     "name": "stdout",
     "output_type": "stream",
     "text": [
      "Epoch 46 \t Training loss: 0.6938395153354685 \t Validation loss: 0.6936266715243712 \n",
      "\n",
      "2 epoch without improvement\n",
      " 46%|████▌     | 26404/57400 [30:15<32:27, 15.91it/s]\n"
     ]
    },
    {
     "name": "stderr",
     "output_type": "stream",
     "text": [
      " 47%|████▋     | 26979/57400 [30:55<2:09:44,  3.91it/s]"
     ]
    },
    {
     "name": "stdout",
     "output_type": "stream",
     "text": [
      "Epoch 47 \t Training loss: 0.694031235336842 \t Validation loss: 0.6939289064730628 \n",
      "\n",
      "3 epoch without improvement\n",
      " 47%|████▋     | 26978/57400 [30:55<32:05, 15.80it/s]\n"
     ]
    },
    {
     "name": "stderr",
     "output_type": "stream",
     "text": [
      " 48%|████▊     | 27555/57400 [31:35<1:39:59,  4.97it/s]"
     ]
    },
    {
     "name": "stdout",
     "output_type": "stream",
     "text": [
      "Epoch 48 \t Training loss: 0.693841927246765 \t Validation loss: 0.6926365120936249 \n",
      " 48%|████▊     | 27552/57400 [31:35<37:38, 13.21it/s]\n"
     ]
    },
    {
     "name": "stderr",
     "output_type": "stream",
     "text": [
      " 49%|████▉     | 28127/57400 [32:15<2:13:10,  3.66it/s]"
     ]
    },
    {
     "name": "stdout",
     "output_type": "stream",
     "text": [
      "Epoch 49 \t Training loss: 0.6941003651984478 \t Validation loss: 0.6934798925609912 \n",
      "\n",
      "4 epoch without improvement\n",
      " 49%|████▉     | 28126/57400 [32:15<33:33, 14.54it/s]\n"
     ]
    },
    {
     "name": "stderr",
     "output_type": "stream",
     "text": [
      " 50%|█████     | 28702/57400 [32:55<2:11:45,  3.63it/s]"
     ]
    },
    {
     "name": "stdout",
     "output_type": "stream",
     "text": [
      "Epoch 50 \t Training loss: 0.693803062630032 \t Validation loss: 0.6941739340959969 \n",
      "\n",
      "5 epoch without improvement\n",
      " 50%|█████     | 28700/57400 [32:55<31:37, 15.12it/s]\n"
     ]
    },
    {
     "name": "stderr",
     "output_type": "stream",
     "text": [
      " 51%|█████     | 29276/57400 [33:35<2:08:46,  3.64it/s]"
     ]
    },
    {
     "name": "stdout",
     "output_type": "stream",
     "text": [
      "Epoch 51 \t Training loss: 0.6941253775503577 \t Validation loss: 0.6936014456264044 \n",
      "\n",
      "6 epoch without improvement\n",
      " 51%|█████     | 29274/57400 [33:35<29:47, 15.74it/s]\n"
     ]
    },
    {
     "name": "stderr",
     "output_type": "stream",
     "text": [
      " 52%|█████▏    | 29850/57400 [34:15<2:06:06,  3.64it/s]"
     ]
    },
    {
     "name": "stdout",
     "output_type": "stream",
     "text": [
      "Epoch 52 \t Training loss: 0.6938686848517495 \t Validation loss: 0.6936953007164648 \n",
      "\n",
      "7 epoch without improvement\n",
      " 52%|█████▏    | 29848/57400 [34:15<29:53, 15.36it/s]\n"
     ]
    },
    {
     "name": "stderr",
     "output_type": "stream",
     "text": [
      " 53%|█████▎    | 30423/57400 [34:55<2:02:20,  3.68it/s]"
     ]
    },
    {
     "name": "stdout",
     "output_type": "stream",
     "text": [
      "Epoch 53 \t Training loss: 0.6937023600634797 \t Validation loss: 0.6927475343316288 \n",
      " 53%|█████▎    | 30422/57400 [34:55<28:37, 15.71it/s]\n"
     ]
    },
    {
     "name": "stderr",
     "output_type": "stream",
     "text": [
      " 54%|█████▍    | 30998/57400 [35:35<2:00:23,  3.66it/s]"
     ]
    },
    {
     "name": "stdout",
     "output_type": "stream",
     "text": [
      "Epoch 54 \t Training loss: 0.6936688787638102 \t Validation loss: 0.6924034276251065 \n",
      " 54%|█████▍    | 30996/57400 [35:35<28:31, 15.43it/s]\n"
     ]
    },
    {
     "name": "stderr",
     "output_type": "stream",
     "text": [
      " 55%|█████▌    | 31573/57400 [36:15<1:27:56,  4.90it/s]"
     ]
    },
    {
     "name": "stdout",
     "output_type": "stream",
     "text": [
      "Epoch 55 \t Training loss: 0.6937805237670394 \t Validation loss: 0.6928469558893624 \n",
      " 55%|█████▌    | 31570/57400 [36:14<29:02, 14.82it/s]\n"
     ]
    },
    {
     "name": "stderr",
     "output_type": "stream",
     "text": [
      " 56%|█████▌    | 32145/57400 [36:54<1:55:34,  3.64it/s]"
     ]
    },
    {
     "name": "stdout",
     "output_type": "stream",
     "text": [
      "Epoch 56 \t Training loss: 0.6938191990819127 \t Validation loss: 0.6929258067729109 \n",
      " 56%|█████▌    | 32144/57400 [36:54<27:21, 15.39it/s]\n"
     ]
    },
    {
     "name": "stderr",
     "output_type": "stream",
     "text": [
      " 57%|█████▋    | 32720/57400 [37:34<1:45:56,  3.88it/s]"
     ]
    },
    {
     "name": "stdout",
     "output_type": "stream",
     "text": [
      "Epoch 57 \t Training loss: 0.6936823663395871 \t Validation loss: 0.6933309688406476 \n",
      "\n",
      "8 epoch without improvement\n",
      " 57%|█████▋    | 32718/57400 [37:34<25:08, 16.37it/s]\n"
     ]
    },
    {
     "name": "stderr",
     "output_type": "stream",
     "text": [
      " 58%|█████▊    | 33294/57400 [38:13<1:42:58,  3.90it/s]"
     ]
    },
    {
     "name": "stdout",
     "output_type": "stream",
     "text": [
      "Epoch 58 \t Training loss: 0.693947908043446 \t Validation loss: 0.6939103835720127 \n",
      "\n",
      "9 epoch without improvement\n",
      " 58%|█████▊    | 33292/57400 [38:13<24:15, 16.57it/s]\n"
     ]
    },
    {
     "name": "stderr",
     "output_type": "stream",
     "text": [
      " 59%|█████▉    | 33865/57400 [38:50<26:33, 14.77it/s]  "
     ]
    },
    {
     "name": "stdout",
     "output_type": "stream",
     "text": [
      "Epoch 59 \t Training loss: 0.6938464861713636 \t Validation loss: 0.6933847261687457 \n",
      "\n",
      "10 epoch without improvement\n",
      "Validation_loss hasn't improve in 10 epoch. Stopping training after 59 epochs...\n"
     ]
    },
    {
     "data": {
      "image/png": "[encoded data removed]",
      "text/plain": [
       "<Figure size 640x480 with 1 Axes>"
      ]
     },
     "metadata": {},
     "output_type": "display_data"
    },
    {
     "name": "stderr",
     "output_type": "stream",
     "text": [
      " 59%|█████▉    | 33866/57400 [38:52<27:00, 14.52it/s]\n"
     ]
    }
   ],
   "source": [
    "learning_rate = 5e-5\n",
    "optimizer = SGD(model.parameters(), lr=learning_rate, momentum=0.9)\n",
    "num_epochs = 100\n",
    "\n",
    "st.train_function_early_stop(model,num_epochs,dl_train['to'],optimizer,early_stop=10,dl_val=dl_val['to'],save_path='m1_bert_simple_TO_best')"
   ]
  },
  {
   "attachments": {},
   "cell_type": "markdown",
   "metadata": {},
   "source": [
    "# AS"
   ]
  },
  {
   "cell_type": "code",
   "execution_count": 17,
   "metadata": {},
   "outputs": [
    {
     "name": "stderr",
     "output_type": "stream",
     "text": [
      "Some weights of the model checkpoint at distilbert-base-uncased were not used when initializing DistilBertModel: ['vocab_layer_norm.bias', 'vocab_projector.weight', 'vocab_transform.weight', 'vocab_projector.bias', 'vocab_transform.bias', 'vocab_layer_norm.weight']\n",
      "- This IS expected if you are initializing DistilBertModel from the checkpoint of a model trained on another task or with another architecture (e.g. initializing a BertForSequenceClassification model from a BertForPreTraining model).\n",
      "- This IS NOT expected if you are initializing DistilBertModel from the checkpoint of a model that you expect to be exactly identical (initializing a BertForSequenceClassification model from a BertForSequenceClassification model).\n"
     ]
    }
   ],
   "source": [
    "model = st.SingleTaskSimple(confs.bert_conf).to(device)"
   ]
  },
  {
   "cell_type": "code",
   "execution_count": 18,
   "metadata": {},
   "outputs": [
    {
     "name": "stderr",
     "output_type": "stream",
     "text": [
      "  1%|          | 574/57400 [00:37<57:27, 16.49it/s]  "
     ]
    },
    {
     "name": "stdout",
     "output_type": "stream",
     "text": [
      "Epoch 1 \t Training loss: 0.7536676745173823 \t Validation loss: 0.7020601296828965 \n"
     ]
    },
    {
     "name": "stderr",
     "output_type": "stream",
     "text": [
      "  1%|          | 576/57400 [00:39<4:47:32,  3.29it/s]"
     ]
    },
    {
     "name": "stdout",
     "output_type": "stream",
     "text": [
      "  1%|          | 574/57400 [00:39<57:27, 16.49it/s]\n"
     ]
    },
    {
     "name": "stderr",
     "output_type": "stream",
     "text": [
      "  2%|▏         | 1147/57400 [01:16<1:03:25, 14.78it/s]"
     ]
    },
    {
     "name": "stdout",
     "output_type": "stream",
     "text": [
      "Epoch 2 \t Training loss: 0.7045149192577456 \t Validation loss: 0.6959219928515159 \n"
     ]
    },
    {
     "name": "stderr",
     "output_type": "stream",
     "text": [
      "  2%|▏         | 1151/57400 [01:18<3:38:11,  4.30it/s]"
     ]
    },
    {
     "name": "stdout",
     "output_type": "stream",
     "text": [
      "  2%|▏         | 1148/57400 [01:18<1:03:25, 14.78it/s]\n"
     ]
    },
    {
     "name": "stderr",
     "output_type": "stream",
     "text": [
      "  3%|▎         | 1724/57400 [01:57<3:51:28,  4.01it/s]"
     ]
    },
    {
     "name": "stdout",
     "output_type": "stream",
     "text": [
      "Epoch 3 \t Training loss: 0.6996768071261017 \t Validation loss: 0.6960560497591051 \n",
      "  3%|▎         | 1722/57400 [01:57<56:19, 16.48it/s]\n"
     ]
    },
    {
     "name": "stderr",
     "output_type": "stream",
     "text": [
      "  4%|▍         | 2294/57400 [02:35<58:54, 15.59it/s]  "
     ]
    },
    {
     "name": "stdout",
     "output_type": "stream",
     "text": [
      "Epoch 4 \t Training loss: 0.6971542621323455 \t Validation loss: 0.694577330249851 \n"
     ]
    },
    {
     "name": "stderr",
     "output_type": "stream",
     "text": [
      "  4%|▍         | 2299/57400 [02:37<3:18:32,  4.63it/s]"
     ]
    },
    {
     "name": "stdout",
     "output_type": "stream",
     "text": [
      "  4%|▍         | 2296/57400 [02:37<58:54, 15.59it/s]\n"
     ]
    },
    {
     "name": "stderr",
     "output_type": "stream",
     "text": [
      "  5%|▍         | 2869/57400 [03:14<58:25, 15.56it/s]  "
     ]
    },
    {
     "name": "stdout",
     "output_type": "stream",
     "text": [
      "Epoch 5 \t Training loss: 0.6961337148312492 \t Validation loss: 0.6936525692374019 \n"
     ]
    },
    {
     "name": "stderr",
     "output_type": "stream",
     "text": [
      "  5%|▌         | 2873/57400 [03:16<3:33:01,  4.27it/s]"
     ]
    },
    {
     "name": "stdout",
     "output_type": "stream",
     "text": [
      "  5%|▌         | 2870/57400 [03:16<58:25, 15.56it/s]\n"
     ]
    },
    {
     "name": "stderr",
     "output_type": "stream",
     "text": [
      "  6%|▌         | 3444/57400 [03:54<54:18, 16.56it/s]  "
     ]
    },
    {
     "name": "stdout",
     "output_type": "stream",
     "text": [
      "Epoch 6 \t Training loss: 0.6954400827037333 \t Validation loss: 0.6931115974814205 \n"
     ]
    },
    {
     "name": "stderr",
     "output_type": "stream",
     "text": [
      "  6%|▌         | 3446/57400 [03:55<4:39:01,  3.22it/s]"
     ]
    },
    {
     "name": "stdout",
     "output_type": "stream",
     "text": [
      "  6%|▌         | 3444/57400 [03:55<54:18, 16.56it/s]\n"
     ]
    },
    {
     "name": "stderr",
     "output_type": "stream",
     "text": [
      "  7%|▋         | 4021/57400 [04:35<3:03:25,  4.85it/s]"
     ]
    },
    {
     "name": "stdout",
     "output_type": "stream",
     "text": [
      "Epoch 7 \t Training loss: 0.694382420296453 \t Validation loss: 0.694504901514215 \n",
      "\n",
      "1 epoch without improvement\n",
      "  7%|▋         | 4018/57400 [04:34<56:12, 15.83it/s]\n"
     ]
    },
    {
     "name": "stderr",
     "output_type": "stream",
     "text": [
      "  8%|▊         | 4590/57400 [05:12<1:00:50, 14.47it/s]"
     ]
    },
    {
     "name": "stdout",
     "output_type": "stream",
     "text": [
      "Epoch 8 \t Training loss: 0.6943474386004206 \t Validation loss: 0.6924909828072887 \n"
     ]
    },
    {
     "name": "stderr",
     "output_type": "stream",
     "text": [
      "  8%|▊         | 4593/57400 [05:14<4:06:50,  3.57it/s]"
     ]
    },
    {
     "name": "stdout",
     "output_type": "stream",
     "text": [
      "  8%|▊         | 4592/57400 [05:14<1:00:50, 14.47it/s]\n"
     ]
    },
    {
     "name": "stderr",
     "output_type": "stream",
     "text": [
      "  9%|▉         | 5166/57400 [05:51<54:41, 15.92it/s]  "
     ]
    },
    {
     "name": "stdout",
     "output_type": "stream",
     "text": [
      "Epoch 9 \t Training loss: 0.6935681109852077 \t Validation loss: 0.6923717381590504 \n"
     ]
    },
    {
     "name": "stderr",
     "output_type": "stream",
     "text": [
      "  9%|▉         | 5168/57400 [05:53<4:28:00,  3.25it/s]"
     ]
    },
    {
     "name": "stdout",
     "output_type": "stream",
     "text": [
      "  9%|▉         | 5166/57400 [05:53<54:41, 15.92it/s]\n"
     ]
    },
    {
     "name": "stderr",
     "output_type": "stream",
     "text": [
      " 10%|█         | 5742/57400 [06:32<3:52:38,  3.70it/s]"
     ]
    },
    {
     "name": "stdout",
     "output_type": "stream",
     "text": [
      "Epoch 10 \t Training loss: 0.6931948251632863 \t Validation loss: 0.6927005002054117 \n",
      " 10%|█         | 5740/57400 [06:32<52:25, 16.42it/s]\n"
     ]
    },
    {
     "name": "stderr",
     "output_type": "stream",
     "text": [
      " 11%|█         | 6315/57400 [07:11<3:25:46,  4.14it/s]"
     ]
    },
    {
     "name": "stdout",
     "output_type": "stream",
     "text": [
      "Epoch 11 \t Training loss: 0.6924704020447017 \t Validation loss: 0.6936575911812863 \n",
      "\n",
      "1 epoch without improvement\n",
      " 11%|█         | 6314/57400 [07:11<57:14, 14.87it/s]\n"
     ]
    },
    {
     "name": "stderr",
     "output_type": "stream",
     "text": [
      " 12%|█▏        | 6888/57400 [07:49<53:38, 15.69it/s]  "
     ]
    },
    {
     "name": "stdout",
     "output_type": "stream",
     "text": [
      "Epoch 12 \t Training loss: 0.6924600456857515 \t Validation loss: 0.6911944817688506 \n"
     ]
    },
    {
     "name": "stderr",
     "output_type": "stream",
     "text": [
      " 12%|█▏        | 6890/57400 [07:51<4:22:50,  3.20it/s]"
     ]
    },
    {
     "name": "stdout",
     "output_type": "stream",
     "text": [
      " 12%|█▏        | 6888/57400 [07:51<53:38, 15.69it/s]\n"
     ]
    },
    {
     "name": "stderr",
     "output_type": "stream",
     "text": [
      " 13%|█▎        | 7465/57400 [08:30<2:49:30,  4.91it/s]"
     ]
    },
    {
     "name": "stdout",
     "output_type": "stream",
     "text": [
      "Epoch 13 \t Training loss: 0.6921584930154089 \t Validation loss: 0.6923008652056678 \n",
      "\n",
      "1 epoch without improvement\n",
      " 13%|█▎        | 7462/57400 [08:30<52:33, 15.84it/s]\n"
     ]
    },
    {
     "name": "stderr",
     "output_type": "stream",
     "text": [
      " 14%|█▍        | 8038/57400 [09:09<3:32:15,  3.88it/s]"
     ]
    },
    {
     "name": "stdout",
     "output_type": "stream",
     "text": [
      "Epoch 14 \t Training loss: 0.6919807391922649 \t Validation loss: 0.6932811767367993 \n",
      "\n",
      "2 epoch without improvement\n",
      " 14%|█▍        | 8036/57400 [09:09<51:23, 16.01it/s]\n"
     ]
    },
    {
     "name": "stderr",
     "output_type": "stream",
     "text": [
      " 15%|█▌        | 8613/57400 [09:48<2:49:47,  4.79it/s]"
     ]
    },
    {
     "name": "stdout",
     "output_type": "stream",
     "text": [
      "Epoch 15 \t Training loss: 0.6918953202327369 \t Validation loss: 0.6921807214365168 \n",
      " 15%|█▌        | 8610/57400 [09:48<52:43, 15.43it/s]\n"
     ]
    },
    {
     "name": "stderr",
     "output_type": "stream",
     "text": [
      " 16%|█▌        | 9183/57400 [10:25<51:42, 15.54it/s]  "
     ]
    },
    {
     "name": "stdout",
     "output_type": "stream",
     "text": [
      "Epoch 16 \t Training loss: 0.6913180084386353 \t Validation loss: 0.6899145952725815 \n"
     ]
    },
    {
     "name": "stderr",
     "output_type": "stream",
     "text": [
      " 16%|█▌        | 9187/57400 [10:27<3:07:32,  4.28it/s]"
     ]
    },
    {
     "name": "stdout",
     "output_type": "stream",
     "text": [
      " 16%|█▌        | 9184/57400 [10:27<51:42, 15.54it/s]\n"
     ]
    },
    {
     "name": "stderr",
     "output_type": "stream",
     "text": [
      " 17%|█▋        | 9760/57400 [11:06<3:35:54,  3.68it/s]"
     ]
    },
    {
     "name": "stdout",
     "output_type": "stream",
     "text": [
      "Epoch 17 \t Training loss: 0.6908315763863953 \t Validation loss: 0.6907383213608952 \n",
      " 17%|█▋        | 9758/57400 [11:06<52:39, 15.08it/s]\n"
     ]
    },
    {
     "name": "stderr",
     "output_type": "stream",
     "text": [
      " 18%|█▊        | 10335/57400 [11:45<2:42:11,  4.84it/s]"
     ]
    },
    {
     "name": "stdout",
     "output_type": "stream",
     "text": [
      "Epoch 18 \t Training loss: 0.6907938405196425 \t Validation loss: 0.6903316934229964 \n",
      " 18%|█▊        | 10332/57400 [11:45<48:58, 16.02it/s]\n"
     ]
    },
    {
     "name": "stderr",
     "output_type": "stream",
     "text": [
      " 19%|█▉        | 10909/57400 [12:25<2:34:23,  5.02it/s]"
     ]
    },
    {
     "name": "stdout",
     "output_type": "stream",
     "text": [
      "Epoch 19 \t Training loss: 0.6909138535373303 \t Validation loss: 0.6907909957029051 \n",
      " 19%|█▉        | 10906/57400 [12:24<48:34, 15.95it/s]\n"
     ]
    },
    {
     "name": "stderr",
     "output_type": "stream",
     "text": [
      " 20%|██        | 11480/57400 [13:02<45:40, 16.76it/s]  "
     ]
    },
    {
     "name": "stdout",
     "output_type": "stream",
     "text": [
      "Epoch 20 \t Training loss: 0.691200537756345 \t Validation loss: 0.6890031008397118 \n"
     ]
    },
    {
     "name": "stderr",
     "output_type": "stream",
     "text": [
      " 20%|██        | 11482/57400 [13:04<3:56:36,  3.23it/s]"
     ]
    },
    {
     "name": "stdout",
     "output_type": "stream",
     "text": [
      " 20%|██        | 11480/57400 [13:04<45:40, 16.76it/s]\n"
     ]
    },
    {
     "name": "stderr",
     "output_type": "stream",
     "text": [
      " 21%|██        | 12057/57400 [13:43<2:31:38,  4.98it/s]"
     ]
    },
    {
     "name": "stdout",
     "output_type": "stream",
     "text": [
      "Epoch 21 \t Training loss: 0.6903451668676184 \t Validation loss: 0.6920265868558722 \n",
      "\n",
      "1 epoch without improvement\n",
      " 21%|██        | 12054/57400 [13:43<47:12, 16.01it/s]\n"
     ]
    },
    {
     "name": "stderr",
     "output_type": "stream",
     "text": [
      " 22%|██▏       | 12631/57400 [14:22<2:26:07,  5.11it/s]"
     ]
    },
    {
     "name": "stdout",
     "output_type": "stream",
     "text": [
      "Epoch 22 \t Training loss: 0.690278092327849 \t Validation loss: 0.6924399541596234 \n",
      "\n",
      "2 epoch without improvement\n",
      " 22%|██▏       | 12628/57400 [14:22<50:48, 14.69it/s]\n"
     ]
    },
    {
     "name": "stderr",
     "output_type": "stream",
     "text": [
      " 23%|██▎       | 13205/57400 [15:01<2:18:07,  5.33it/s]"
     ]
    },
    {
     "name": "stdout",
     "output_type": "stream",
     "text": [
      "Epoch 23 \t Training loss: 0.6902912975603696 \t Validation loss: 0.6923412488678754 \n",
      "\n",
      "3 epoch without improvement\n",
      " 23%|██▎       | 13202/57400 [15:01<49:07, 14.99it/s]\n"
     ]
    },
    {
     "name": "stderr",
     "output_type": "stream",
     "text": [
      " 24%|██▍       | 13779/57400 [15:40<2:17:41,  5.28it/s]"
     ]
    },
    {
     "name": "stdout",
     "output_type": "stream",
     "text": [
      "Epoch 24 \t Training loss: 0.6900894301278251 \t Validation loss: 0.6910855850930941 \n",
      "\n",
      "4 epoch without improvement\n",
      " 24%|██▍       | 13776/57400 [15:40<49:11, 14.78it/s]\n"
     ]
    },
    {
     "name": "stderr",
     "output_type": "stream",
     "text": [
      " 25%|██▌       | 14353/57400 [16:19<2:14:51,  5.32it/s]"
     ]
    },
    {
     "name": "stdout",
     "output_type": "stream",
     "text": [
      "Epoch 25 \t Training loss: 0.6901249418275281 \t Validation loss: 0.6917549412129289 \n",
      "\n",
      "5 epoch without improvement\n",
      " 25%|██▌       | 14350/57400 [16:19<48:26, 14.81it/s]\n"
     ]
    },
    {
     "name": "stderr",
     "output_type": "stream",
     "text": [
      " 26%|██▌       | 14926/57400 [16:58<2:57:52,  3.98it/s]"
     ]
    },
    {
     "name": "stdout",
     "output_type": "stream",
     "text": [
      "Epoch 26 \t Training loss: 0.6895611098211402 \t Validation loss: 0.6929571547750699 \n",
      "\n",
      "6 epoch without improvement\n",
      " 26%|██▌       | 14924/57400 [16:58<43:20, 16.34it/s]\n"
     ]
    },
    {
     "name": "stderr",
     "output_type": "stream",
     "text": [
      " 27%|██▋       | 15501/57400 [17:37<2:21:50,  4.92it/s]"
     ]
    },
    {
     "name": "stdout",
     "output_type": "stream",
     "text": [
      "Epoch 27 \t Training loss: 0.6894070488442943 \t Validation loss: 0.6927750696570186 \n",
      "\n",
      "7 epoch without improvement\n",
      " 27%|██▋       | 15498/57400 [17:37<48:08, 14.51it/s]\n"
     ]
    },
    {
     "name": "stderr",
     "output_type": "stream",
     "text": [
      " 28%|██▊       | 16074/57400 [18:16<3:04:48,  3.73it/s]"
     ]
    },
    {
     "name": "stdout",
     "output_type": "stream",
     "text": [
      "Epoch 28 \t Training loss: 0.6893264004370061 \t Validation loss: 0.6913349446603807 \n",
      "\n",
      "8 epoch without improvement\n",
      " 28%|██▊       | 16072/57400 [18:16<42:21, 16.26it/s]\n"
     ]
    },
    {
     "name": "stderr",
     "output_type": "stream",
     "text": [
      " 29%|██▉       | 16648/57400 [18:55<3:07:31,  3.62it/s]"
     ]
    },
    {
     "name": "stdout",
     "output_type": "stream",
     "text": [
      "Epoch 29 \t Training loss: 0.6892863305395904 \t Validation loss: 0.692931004499985 \n",
      "\n",
      "9 epoch without improvement\n",
      " 29%|██▉       | 16646/57400 [18:55<43:11, 15.72it/s]\n"
     ]
    },
    {
     "name": "stderr",
     "output_type": "stream",
     "text": [
      " 30%|██▉       | 17218/57400 [19:33<44:28, 15.06it/s]  "
     ]
    },
    {
     "name": "stdout",
     "output_type": "stream",
     "text": [
      "Epoch 30 \t Training loss: 0.6892298590846178 \t Validation loss: 0.6912916272373523 \n",
      "\n",
      "10 epoch without improvement\n",
      "Validation_loss hasn't improve in 10 epoch. Stopping training after 30 epochs...\n"
     ]
    },
    {
     "data": {
      "image/png": "[encoded data removed]",
      "text/plain": [
       "<Figure size 640x480 with 1 Axes>"
      ]
     },
     "metadata": {},
     "output_type": "display_data"
    },
    {
     "name": "stderr",
     "output_type": "stream",
     "text": [
      " 30%|███       | 17220/57400 [19:34<45:41, 14.66it/s]\n"
     ]
    }
   ],
   "source": [
    "learning_rate = 5e-5\n",
    "optimizer = SGD(model.parameters(), lr=learning_rate, momentum=0.9)\n",
    "num_epochs = 100\n",
    "\n",
    "st.train_function_early_stop(model,num_epochs,dl_train['as'],optimizer,early_stop=10,dl_val=dl_val['as'],save_path='m1_bert_simple_AS_best')"
   ]
  },
  {
   "attachments": {},
   "cell_type": "markdown",
   "metadata": {},
   "source": [
    "# EVALUACIÓN MODELOS"
   ]
  },
  {
   "cell_type": "code",
   "execution_count": 19,
   "metadata": {},
   "outputs": [
    {
     "name": "stderr",
     "output_type": "stream",
     "text": [
      "Some weights of the model checkpoint at distilbert-base-uncased were not used when initializing DistilBertModel: ['vocab_layer_norm.bias', 'vocab_projector.weight', 'vocab_transform.weight', 'vocab_projector.bias', 'vocab_transform.bias', 'vocab_layer_norm.weight']\n",
      "- This IS expected if you are initializing DistilBertModel from the checkpoint of a model trained on another task or with another architecture (e.g. initializing a BertForSequenceClassification model from a BertForPreTraining model).\n",
      "- This IS NOT expected if you are initializing DistilBertModel from the checkpoint of a model that you expect to be exactly identical (initializing a BertForSequenceClassification model from a BertForSequenceClassification model).\n"
     ]
    },
    {
     "name": "stdout",
     "output_type": "stream",
     "text": [
      "ABOUT\n",
      "\n",
      "Evaluación en la tarea about\n",
      "Using huggingface datasets accuracy\n"
     ]
    },
    {
     "name": "stderr",
     "output_type": "stream",
     "text": [
      "c:\\Users\\FarinhOso\\Desktop\\Kuina TFG\\Codigo\\singletask_simple.py:354: FutureWarning: load_metric is deprecated and will be removed in the next major version of datasets. Use 'evaluate.load' instead, from the new library 🤗 Evaluate: https://huggingface.co/docs/evaluate\n",
      "  metric = load_metric(metric_name) # Se podria modificar en funcion del tipo de tarea\n"
     ]
    },
    {
     "name": "stdout",
     "output_type": "stream",
     "text": [
      "{'accuracy': 0.8533163265306123}\n",
      "Using scikit learn accuracy\n",
      "0.8533163265306123 \n",
      "\n",
      "Evaluación en la tarea to\n",
      "Using huggingface datasets accuracy\n",
      "{'accuracy': 0.7159090909090909}\n",
      "Using scikit learn accuracy\n",
      "0.7159090909090909 \n",
      "\n",
      "Evaluación en la tarea as\n",
      "Using huggingface datasets accuracy\n",
      "{'accuracy': 0.6805736636245111}\n",
      "Using scikit learn accuracy\n",
      "0.6805736636245111 \n",
      "\n"
     ]
    },
    {
     "name": "stderr",
     "output_type": "stream",
     "text": [
      "Some weights of the model checkpoint at distilbert-base-uncased were not used when initializing DistilBertModel: ['vocab_layer_norm.bias', 'vocab_projector.weight', 'vocab_transform.weight', 'vocab_projector.bias', 'vocab_transform.bias', 'vocab_layer_norm.weight']\n",
      "- This IS expected if you are initializing DistilBertModel from the checkpoint of a model trained on another task or with another architecture (e.g. initializing a BertForSequenceClassification model from a BertForPreTraining model).\n",
      "- This IS NOT expected if you are initializing DistilBertModel from the checkpoint of a model that you expect to be exactly identical (initializing a BertForSequenceClassification model from a BertForSequenceClassification model).\n"
     ]
    },
    {
     "name": "stdout",
     "output_type": "stream",
     "text": [
      "TO\n",
      "\n",
      "Evaluación en la tarea about\n",
      "Using huggingface datasets accuracy\n",
      "{'accuracy': 0.5267857142857143}\n",
      "Using scikit learn accuracy\n",
      "0.5267857142857143 \n",
      "\n",
      "Evaluación en la tarea to\n",
      "Using huggingface datasets accuracy\n",
      "{'accuracy': 0.5075757575757576}\n",
      "Using scikit learn accuracy\n",
      "0.5075757575757576 \n",
      "\n",
      "Evaluación en la tarea as\n",
      "Using huggingface datasets accuracy\n",
      "{'accuracy': 0.5032594524119948}\n",
      "Using scikit learn accuracy\n",
      "0.5032594524119948 \n",
      "\n"
     ]
    },
    {
     "name": "stderr",
     "output_type": "stream",
     "text": [
      "Some weights of the model checkpoint at distilbert-base-uncased were not used when initializing DistilBertModel: ['vocab_layer_norm.bias', 'vocab_projector.weight', 'vocab_transform.weight', 'vocab_projector.bias', 'vocab_transform.bias', 'vocab_layer_norm.weight']\n",
      "- This IS expected if you are initializing DistilBertModel from the checkpoint of a model trained on another task or with another architecture (e.g. initializing a BertForSequenceClassification model from a BertForPreTraining model).\n",
      "- This IS NOT expected if you are initializing DistilBertModel from the checkpoint of a model that you expect to be exactly identical (initializing a BertForSequenceClassification model from a BertForSequenceClassification model).\n"
     ]
    },
    {
     "name": "stdout",
     "output_type": "stream",
     "text": [
      "AS\n",
      "\n",
      "Evaluación en la tarea about\n",
      "Using huggingface datasets accuracy\n",
      "{'accuracy': 0.798469387755102}\n",
      "Using scikit learn accuracy\n",
      "0.798469387755102 \n",
      "\n",
      "Evaluación en la tarea to\n",
      "Using huggingface datasets accuracy\n",
      "{'accuracy': 0.7474747474747475}\n",
      "Using scikit learn accuracy\n",
      "0.7474747474747475 \n",
      "\n",
      "Evaluación en la tarea as\n",
      "Using huggingface datasets accuracy\n",
      "{'accuracy': 0.7014341590612777}\n",
      "Using scikit learn accuracy\n",
      "0.7014341590612777 \n",
      "\n"
     ]
    }
   ],
   "source": [
    "model = st.SingleTaskSimple(confs.bert_conf).to(device)\n",
    "model.load_state_dict(torch.load('m1_bert_simple_ABOUT_best'))\n",
    "\n",
    "print('ABOUT\\n')\n",
    "for task in ['about','to','as']:\n",
    "    print(f'Evaluación en la tarea {task}')\n",
    "    print(\"Using huggingface datasets accuracy\")\n",
    "    print(st.eval_function_single(model,dl_eval[task],'accuracy'))\n",
    "    print(\"Using scikit learn accuracy\")\n",
    "    print(st.eval_function_single_sk(model,dl_eval[task]),'\\n')\n",
    "\n",
    "model = st.SingleTaskSimple(confs.bert_conf).to(device)\n",
    "model.load_state_dict(torch.load('m1_bert_simple_TO_best'))\n",
    "print('TO\\n')\n",
    "for task in ['about','to','as']:\n",
    "    print(f'Evaluación en la tarea {task}')\n",
    "    print(\"Using huggingface datasets accuracy\")\n",
    "    print(st.eval_function_single(model,dl_eval[task],'accuracy'))\n",
    "    print(\"Using scikit learn accuracy\")\n",
    "    print(st.eval_function_single_sk(model,dl_eval[task]),'\\n')\n",
    "\n",
    "model = st.SingleTaskSimple(confs.bert_conf).to(device)\n",
    "model.load_state_dict(torch.load('m1_bert_simple_AS_best'))\n",
    "print('AS\\n')\n",
    "for task in ['about','to','as']:\n",
    "    print(f'Evaluación en la tarea {task}')\n",
    "    print(\"Using huggingface datasets accuracy\")\n",
    "    print(st.eval_function_single(model,dl_eval[task],'accuracy'))\n",
    "    print(\"Using scikit learn accuracy\")\n",
    "    print(st.eval_function_single_sk(model,dl_eval[task]),'\\n')"
   ]
  }
 ],
 "metadata": {
  "kernelspec": {
   "display_name": "tfg",
   "language": "python",
   "name": "python3"
  },
  "language_info": {
   "codemirror_mode": {
    "name": "ipython",
    "version": 3
   },
   "file_extension": ".py",
   "mimetype": "text/x-python",
   "name": "python",
   "nbconvert_exporter": "python",
   "pygments_lexer": "ipython3",
   "version": "3.9.13"
  },
  "orig_nbformat": 4,
  "vscode": {
   "interpreter": {
    "hash": "b2012626cca2d66e84dc87dc317222963c31dcd31e180f1257b027de73883164"
   }
  }
 },
 "nbformat": 4,
 "nbformat_minor": 2
}
