{
 "cells": [
  {
   "cell_type": "code",
   "execution_count": 1,
   "metadata": {},
   "outputs": [
    {
     "data": {
      "text/plain": [
       "['c:\\\\Users\\\\kuina\\\\OneDrive\\\\TFG\\\\Codigo\\\\DependencyDataset\\\\ConvAI2',\n",
       " 'C:\\\\Users\\\\kuina\\\\Desktop\\\\CoDeLin-main\\\\CoDeLin-main',\n",
       " 'c:\\\\Users\\\\kuina\\\\OneDrive\\\\TFG\\\\Codigo\\\\DependencyDataset\\\\ConvAI2',\n",
       " 'c:\\\\Users\\\\kuina\\\\anaconda3\\\\envs\\\\tfg\\\\python39.zip',\n",
       " 'c:\\\\Users\\\\kuina\\\\anaconda3\\\\envs\\\\tfg\\\\DLLs',\n",
       " 'c:\\\\Users\\\\kuina\\\\anaconda3\\\\envs\\\\tfg\\\\lib',\n",
       " 'c:\\\\Users\\\\kuina\\\\anaconda3\\\\envs\\\\tfg',\n",
       " '',\n",
       " 'c:\\\\Users\\\\kuina\\\\anaconda3\\\\envs\\\\tfg\\\\lib\\\\site-packages',\n",
       " 'c:\\\\Users\\\\kuina\\\\anaconda3\\\\envs\\\\tfg\\\\lib\\\\site-packages\\\\huggingface_hub-0.9.1-py3.8.egg',\n",
       " 'c:\\\\Users\\\\kuina\\\\anaconda3\\\\envs\\\\tfg\\\\lib\\\\site-packages\\\\win32',\n",
       " 'c:\\\\Users\\\\kuina\\\\anaconda3\\\\envs\\\\tfg\\\\lib\\\\site-packages\\\\win32\\\\lib',\n",
       " 'c:\\\\Users\\\\kuina\\\\anaconda3\\\\envs\\\\tfg\\\\lib\\\\site-packages\\\\Pythonwin',\n",
       " 'c:\\\\Users\\\\kuina\\\\anaconda3\\\\envs\\\\tfg\\\\lib\\\\site-packages\\\\sacremoses-0.0.43-py3.8.egg',\n",
       " 'c:\\\\Users\\\\kuina\\\\anaconda3\\\\envs\\\\tfg\\\\lib\\\\site-packages\\\\IPython\\\\extensions',\n",
       " 'C:\\\\Users\\\\kuina\\\\.ipython',\n",
       " 'C:\\\\Users\\\\kuina\\\\OneDrive\\\\TFG\\\\Codigo']"
      ]
     },
     "execution_count": 1,
     "metadata": {},
     "output_type": "execute_result"
    }
   ],
   "source": [
    "import sys\n",
    "sys.path.append(r'C:\\Users\\kuina\\OneDrive\\TFG\\Codigo')\n",
    "sys.path"
   ]
  },
  {
   "cell_type": "code",
   "execution_count": 2,
   "metadata": {},
   "outputs": [],
   "source": [
    "import json\n",
    "from dependency_utils import create_dependency_conllu, create_dependency_labels"
   ]
  },
  {
   "cell_type": "code",
   "execution_count": 3,
   "metadata": {},
   "outputs": [],
   "source": [
    "with open('convai_all_labels_revised.json','r') as f: \n",
    "    data = json.load(f)"
   ]
  },
  {
   "cell_type": "code",
   "execution_count": 4,
   "metadata": {},
   "outputs": [
    {
     "name": "stdout",
     "output_type": "stream",
     "text": [
      "Comenzando a generar fichero...\n",
      "Proceso terminado: El archivo conllu ha sido creado en un tiempo de:   18.514452254772188\n"
     ]
    }
   ],
   "source": [
    "create_dependency_conllu(data,'convai_dependency.conllu')"
   ]
  },
  {
   "cell_type": "code",
   "execution_count": 5,
   "metadata": {},
   "outputs": [],
   "source": [
    "new_data = create_dependency_labels(data,'convai_dependency.conllu','relative','_')"
   ]
  },
  {
   "cell_type": "code",
   "execution_count": 7,
   "metadata": {},
   "outputs": [],
   "source": [
    "with open('convai_complete.json','w') as f:\n",
    "    json.dump(new_data,f)"
   ]
  }
 ],
 "metadata": {
  "kernelspec": {
   "display_name": "Python 3.9.13 ('tfg')",
   "language": "python",
   "name": "python3"
  },
  "language_info": {
   "codemirror_mode": {
    "name": "ipython",
    "version": 3
   },
   "file_extension": ".py",
   "mimetype": "text/x-python",
   "name": "python",
   "nbconvert_exporter": "python",
   "pygments_lexer": "ipython3",
   "version": "3.9.13"
  },
  "orig_nbformat": 4,
  "vscode": {
   "interpreter": {
    "hash": "35e8332e99bdf485583869dfbdef293dcf2f9293b1663ec5daea0a573af457c3"
   }
  }
 },
 "nbformat": 4,
 "nbformat_minor": 2
}
