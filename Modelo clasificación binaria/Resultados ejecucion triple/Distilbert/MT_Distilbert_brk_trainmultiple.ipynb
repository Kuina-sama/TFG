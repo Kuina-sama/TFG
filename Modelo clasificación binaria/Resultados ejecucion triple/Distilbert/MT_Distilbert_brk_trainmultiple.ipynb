{
 "cells": [
  {
   "cell_type": "code",
   "execution_count": 1,
   "metadata": {},
   "outputs": [],
   "source": [
    "import torch\n",
    "from torch.utils.data import DataLoader\n",
    "from torch.optim import SGD ,AdamW\n",
    "\n",
    "from datasets import load_dataset, load_metric\n",
    "\n",
    "import matplotlib.pyplot as plt\n",
    "\n",
    "import json\n",
    "from statistics import mean\n"
   ]
  },
  {
   "cell_type": "code",
   "execution_count": 2,
   "metadata": {},
   "outputs": [],
   "source": [
    "import utils_generic as generic\n",
    "import multitask_dep as mt\n",
    "import model_confs as confs\n",
    "import train"
   ]
  },
  {
   "cell_type": "code",
   "execution_count": 3,
   "metadata": {},
   "outputs": [],
   "source": [
    "device = torch.device(\"cuda\") if torch.cuda.is_available() else torch.device(\"cpu\")\n",
    "tasks = ['to','as','about']"
   ]
  },
  {
   "cell_type": "code",
   "execution_count": 4,
   "metadata": {},
   "outputs": [],
   "source": [
    "model_conf = confs.distilbert_conf\n",
    "encoding_type = 'brk'"
   ]
  },
  {
   "attachments": {},
   "cell_type": "markdown",
   "metadata": {},
   "source": [
    "# Datos ConvAI"
   ]
  },
  {
   "cell_type": "code",
   "execution_count": 5,
   "metadata": {},
   "outputs": [],
   "source": [
    "with open('Datasets\\ConvAI2\\convai2_complete.json','r') as f:\n",
    "    data = json.load(f)"
   ]
  },
  {
   "cell_type": "code",
   "execution_count": 6,
   "metadata": {},
   "outputs": [],
   "source": [
    "vocab = mt.Vocabulary(data['train'],encoding_type)\n",
    "\n",
    "convai_train = data['train']\n",
    "convai_val = data['validation']\n",
    "\n",
    "\n",
    "\n",
    "convai_train_token = generic.tokenize_dataset_with_dependencies(convai_train,['about','to','as'],vocab,model_conf) \n",
    "convai_val_token = generic.tokenize_dataset_with_dependencies(convai_val,['about','to','as'],vocab,model_conf) "
   ]
  },
  {
   "cell_type": "code",
   "execution_count": 7,
   "metadata": {},
   "outputs": [],
   "source": [
    "convai_train_dataset = mt.DatasetMultitaskDep(convai_train_token,tasks,eval=False)\n",
    "convai_val_dataset = mt.DatasetMultitaskDep(convai_val_token,tasks,eval=False)"
   ]
  },
  {
   "attachments": {},
   "cell_type": "markdown",
   "metadata": {},
   "source": [
    "# Datos md_gender"
   ]
  },
  {
   "cell_type": "code",
   "execution_count": 8,
   "metadata": {},
   "outputs": [],
   "source": [
    "with open('Datasets\\md_gender\\md_complete.json','r',encoding=\"utf8\") as f:\n",
    "    md_data = json.load(f)"
   ]
  },
  {
   "cell_type": "code",
   "execution_count": 9,
   "metadata": {},
   "outputs": [],
   "source": [
    "md_tokenized = generic.tokenize_dataset_with_dependencies(md_data,['about','to','as'],vocab,model_conf) \n",
    "md_dataset = mt.DatasetMultitaskDep(md_tokenized,tasks,eval=True)"
   ]
  },
  {
   "attachments": {},
   "cell_type": "markdown",
   "metadata": {},
   "source": [
    "# Creación dataloaders"
   ]
  },
  {
   "cell_type": "code",
   "execution_count": 10,
   "metadata": {},
   "outputs": [],
   "source": [
    "dl_train =DataLoader(convai_train_dataset,batch_size=128,shuffle=True,collate_fn=mt.collate_fn)\n",
    "dl_val =DataLoader(convai_val_dataset,batch_size=128,shuffle=True,collate_fn=mt.collate_fn)\n",
    "dl_eval = DataLoader(md_dataset,batch_size=128,shuffle=False,collate_fn=mt.collate_fn)"
   ]
  },
  {
   "attachments": {},
   "cell_type": "markdown",
   "metadata": {},
   "source": [
    "# Modelo multitask"
   ]
  },
  {
   "cell_type": "code",
   "execution_count": 11,
   "metadata": {},
   "outputs": [],
   "source": [
    "num_epochs = 100\n",
    "learning_rate = 1e-6\n",
    "\n",
    "global_metrics = {'about':{'global':{'recall': [], 'precision': [],'f1': [], 'accuracy': []},\n",
    "                            'male':{'recall': [], 'precision': [],'f1': [], 'accuracy': []},\n",
    "                            'female':{'recall': [], 'precision': [],'f1': [], 'accuracy': []}},\n",
    "                    'as':{'global':{'recall': [], 'precision': [],'f1': [], 'accuracy': []},\n",
    "                            'male':{'recall': [], 'precision': [],'f1': [], 'accuracy': []},\n",
    "                            'female':{'recall': [], 'precision': [],'f1': [], 'accuracy': []}},\n",
    "                    'to':{'global':{'recall': [], 'precision': [],'f1': [], 'accuracy': []},\n",
    "                            'male':{'recall': [], 'precision': [],'f1': [], 'accuracy': []},\n",
    "                            'female':{'recall': [], 'precision': [],'f1': [], 'accuracy': []}}}"
   ]
  },
  {
   "cell_type": "code",
   "execution_count": 12,
   "metadata": {},
   "outputs": [
    {
     "name": "stderr",
     "output_type": "stream",
     "text": [
      "Some weights of the model checkpoint at distilbert-base-cased were not used when initializing DistilBertModel: ['vocab_layer_norm.bias', 'vocab_layer_norm.weight', 'vocab_projector.weight', 'vocab_transform.bias', 'vocab_projector.bias', 'vocab_transform.weight']\n",
      "- This IS expected if you are initializing DistilBertModel from the checkpoint of a model trained on another task or with another architecture (e.g. initializing a BertForSequenceClassification model from a BertForPreTraining model).\n",
      "- This IS NOT expected if you are initializing DistilBertModel from the checkpoint of a model that you expect to be exactly identical (initializing a BertForSequenceClassification model from a BertForSequenceClassification model).\n"
     ]
    },
    {
     "data": {
      "application/vnd.jupyter.widget-view+json": {
       "model_id": "c3683d0cb8344ceb9d0e8b57fac8a6f4",
       "version_major": 2,
       "version_minor": 0
      },
      "text/plain": [
       "  0%|          | 0/57400 [00:00<?, ?it/s]"
      ]
     },
     "metadata": {},
     "output_type": "display_data"
    },
    {
     "name": "stdout",
     "output_type": "stream",
     "text": [
      "Epoch 1 \t Training loss: 2.0470234776623157 \t Validation loss: 2.003600233692234 \t \n",
      "  1%|          | 574/57400 [03:27<4:43:26,  3.34it/s]\n",
      "Epoch 2 \t Training loss: 1.988685743110936 \t Validation loss: 1.986882619938608 \t \n",
      "  2%|▏         | 1148/57400 [06:53<3:49:52,  4.08it/s]\n",
      "Epoch 3 \t Training loss: 1.97717895865025 \t Validation loss: 1.9731130822230194 \t \n",
      "  3%|▎         | 1722/57400 [09:26<3:48:05,  4.07it/s]\n",
      "Epoch 4 \t Training loss: 1.972028025351335 \t Validation loss: 1.980798602104187 \t \n",
      "\n",
      "1 epoch without improvement\n",
      "  4%|▍         | 2296/57400 [11:57<3:02:41,  5.03it/s]\n",
      "Epoch 5 \t Training loss: 1.970047486991417 \t Validation loss: 1.9725898524462167 \t \n",
      "  5%|▌         | 2870/57400 [14:54<5:38:04,  2.69it/s]\n",
      "Epoch 6 \t Training loss: 1.9652569898329546 \t Validation loss: 1.9724514888504805 \t \n",
      "  6%|▌         | 3444/57400 [18:41<5:33:21,  2.70it/s]\n",
      "Epoch 7 \t Training loss: 1.9624384016525456 \t Validation loss: 1.9760576365357738 \t \n",
      "\n",
      "1 epoch without improvement\n",
      "  7%|▋         | 4018/57400 [21:47<4:42:25,  3.15it/s]\n",
      "Epoch 8 \t Training loss: 1.9587629319068032 \t Validation loss: 1.9696888236676233 \t \n",
      "  8%|▊         | 4592/57400 [24:51<3:43:30,  3.94it/s]\n",
      "Epoch 9 \t Training loss: 1.9572836864700716 \t Validation loss: 1.9720418594651303 \t \n",
      "\n",
      "1 epoch without improvement\n",
      "  9%|▉         | 5166/57400 [27:55<4:23:58,  3.30it/s]\n",
      "Epoch 10 \t Training loss: 1.9536218792719293 \t Validation loss: 1.9730494648723278 \t \n",
      "\n",
      "2 epoch without improvement\n",
      " 10%|█         | 5740/57400 [31:37<4:17:15,  3.35it/s]\n",
      "Epoch 11 \t Training loss: 1.9509279977153817 \t Validation loss: 1.9670917199829878 \t \n",
      " 11%|█         | 6314/57400 [34:51<4:24:34,  3.22it/s]\n",
      "Epoch 12 \t Training loss: 1.9487229618876654 \t Validation loss: 1.9716257685321872 \t \n",
      "\n",
      "1 epoch without improvement\n",
      " 12%|█▏        | 6888/57400 [37:56<6:15:09,  2.24it/s]\n",
      "Epoch 13 \t Training loss: 1.9506781969336267 \t Validation loss: 1.9742946059016857 \t \n",
      "\n",
      "2 epoch without improvement\n",
      " 13%|█▎        | 7462/57400 [41:39<4:24:04,  3.15it/s]\n",
      "Epoch 14 \t Training loss: 1.947331848667889 \t Validation loss: 1.9726793988276337 \t \n",
      "\n",
      "3 epoch without improvement\n",
      " 14%|█▍        | 8036/57400 [44:43<3:28:06,  3.95it/s]\n",
      "Epoch 15 \t Training loss: 1.9441283245535261 \t Validation loss: 1.9697885594125522 \t \n",
      "\n",
      "4 epoch without improvement\n",
      " 15%|█▌        | 8610/57400 [47:45<4:23:11,  3.09it/s]\n",
      "Epoch 16 \t Training loss: 1.9441688962099029 \t Validation loss: 1.9601681333477214 \t \n",
      " 16%|█▌        | 9184/57400 [50:48<4:17:19,  3.12it/s]\n",
      "Epoch 17 \t Training loss: 1.940744568454264 \t Validation loss: 1.9721724340471172 \t \n",
      "\n",
      "1 epoch without improvement\n",
      " 17%|█▋        | 9758/57400 [53:56<4:28:55,  2.95it/s]\n",
      "Epoch 18 \t Training loss: 1.941582715885149 \t Validation loss: 1.9693599191762634 \t \n",
      "\n",
      "2 epoch without improvement\n",
      " 18%|█▊        | 10332/57400 [57:14<4:41:04,  2.79it/s]\n",
      "Epoch 19 \t Training loss: 1.9405072908783623 \t Validation loss: 1.9652624797012845 \t \n",
      "\n",
      "3 epoch without improvement\n",
      " 19%|█▉        | 10906/57400 [1:00:38<3:58:16,  3.25it/s]\n",
      "Epoch 20 \t Training loss: 1.9378037311474205 \t Validation loss: 1.9693615800243314 \t \n",
      "\n",
      "4 epoch without improvement\n",
      " 20%|██        | 11480/57400 [1:03:27<3:46:05,  3.39it/s]\n",
      "Epoch 21 \t Training loss: 1.938319444656372 \t Validation loss: 1.9628983554193529 \t \n",
      "\n",
      "5 epoch without improvement\n",
      " 21%|██        | 12054/57400 [1:06:15<2:59:10,  4.22it/s]\n",
      "Epoch 22 \t Training loss: 1.935226331812164 \t Validation loss: 1.9679621256003945 \t \n",
      "\n",
      "6 epoch without improvement\n",
      " 22%|██▏       | 12628/57400 [1:09:04<3:30:05,  3.55it/s]\n",
      "Epoch 23 \t Training loss: 1.9349294504222139 \t Validation loss: 1.967468415276479 \t \n",
      "\n",
      "7 epoch without improvement\n",
      " 23%|██▎       | 13202/57400 [1:12:15<3:28:32,  3.53it/s]\n",
      "Epoch 24 \t Training loss: 1.9326556094432126 \t Validation loss: 1.962163488743669 \t \n",
      "\n",
      "8 epoch without improvement\n",
      " 24%|██▍       | 13776/57400 [1:15:20<3:22:50,  3.58it/s]\n",
      "Epoch 25 \t Training loss: 1.9335884757158233 \t Validation loss: 1.9635978229975297 \t \n",
      "\n",
      "9 epoch without improvement\n",
      " 25%|██▌       | 14350/57400 [1:18:09<3:22:14,  3.55it/s]\n",
      "Epoch 26 \t Training loss: 1.932772532365048 \t Validation loss: 1.9611836065680295 \t \n",
      "\n",
      "10 epoch without improvement\n",
      "Validation_loss hasn't improve in 10 epoch. Stopping training after 26 epochs...\n"
     ]
    },
    {
     "data": {
      "image/png": "[encoded data removed]",
      "text/plain": [
       "<Figure size 640x480 with 1 Axes>"
      ]
     },
     "metadata": {},
     "output_type": "display_data"
    }
   ],
   "source": [
    "model = mt.MultiWithDependencies(model_conf,vocab).to(device)\n",
    "optimizer = AdamW(model.parameters(), lr=learning_rate,weight_decay=0.1)\n",
    "save_path='distilbert_multitask_brk_1'\n",
    "train.train_function_multi(model,num_epochs,dl_train,optimizer,early_stop = 10,dl_val = dl_val,save_path=save_path,es_threshold=0)"
   ]
  },
  {
   "cell_type": "code",
   "execution_count": 13,
   "metadata": {},
   "outputs": [
    {
     "name": "stderr",
     "output_type": "stream",
     "text": [
      "Some weights of the model checkpoint at distilbert-base-cased were not used when initializing DistilBertModel: ['vocab_layer_norm.bias', 'vocab_layer_norm.weight', 'vocab_projector.weight', 'vocab_transform.bias', 'vocab_projector.bias', 'vocab_transform.weight']\n",
      "- This IS expected if you are initializing DistilBertModel from the checkpoint of a model trained on another task or with another architecture (e.g. initializing a BertForSequenceClassification model from a BertForPreTraining model).\n",
      "- This IS NOT expected if you are initializing DistilBertModel from the checkpoint of a model that you expect to be exactly identical (initializing a BertForSequenceClassification model from a BertForSequenceClassification model).\n"
     ]
    },
    {
     "name": "stdout",
     "output_type": "stream",
     "text": [
      "Evaluación del modelo\n",
      "{'to': {'recall': 0.6565656565656566, 'precision': 0.6565656565656566, 'f1': 0.6565656565656566, 'accuracy': 0.6565656565656566}, 'as': {'recall': 0.7209908735332464, 'precision': 0.7209908735332464, 'f1': 0.7209908735332464, 'accuracy': 0.7209908735332464}, 'about': {'recall': 0.8150510204081632, 'precision': 0.8150510204081632, 'f1': 0.8150510204081632, 'accuracy': 0.8150510204081632}} \n",
      "\n",
      "Evaluación en etiquetas male\n",
      "{'to': {'recall': 0.7031630170316302, 'precision': 0.7031630170316302, 'f1': 0.7031630170316302, 'accuracy': 0.7031630170316302}, 'as': {'recall': 0.7070707070707071, 'precision': 0.7070707070707071, 'f1': 0.7070707070707071, 'accuracy': 0.7070707070707071}, 'about': {'recall': 0.84375, 'precision': 0.84375, 'f1': 0.84375, 'accuracy': 0.84375}} \n",
      "\n",
      "Evaluación en etiquetas female\n",
      "{'to': {'recall': 0.6062992125984252, 'precision': 0.6062992125984252, 'f1': 0.6062992125984252, 'accuracy': 0.6062992125984252}, 'as': {'recall': 0.7358490566037735, 'precision': 0.7358490566037735, 'f1': 0.7358490566037735, 'accuracy': 0.7358490566037735}, 'about': {'recall': 0.7875, 'precision': 0.7875, 'f1': 0.7875, 'accuracy': 0.7875}} \n",
      "\n"
     ]
    }
   ],
   "source": [
    "model = mt.MultiWithDependencies(model_conf,vocab).to(device)\n",
    "model.load_state_dict(torch.load(save_path))\n",
    "\n",
    "print(\"Evaluación del modelo\")\n",
    "result_global = train.eval_func_multi(model,dl_eval,tasks,gender=None)\n",
    "generic.update_global_metric_multi(result_global,global_metrics,mtype='global')\n",
    "print(result_global,'\\n')\n",
    "print(\"Evaluación en etiquetas male\")\n",
    "result_global = train.eval_func_multi(model,dl_eval,tasks,gender='male')\n",
    "generic.update_global_metric_multi(result_global,global_metrics,mtype='male')\n",
    "print(result_global,'\\n')\n",
    "print(\"Evaluación en etiquetas female\")\n",
    "result_global = train.eval_func_multi(model,dl_eval,tasks,gender='female')\n",
    "generic.update_global_metric_multi(result_global,global_metrics,mtype='female')\n",
    "print(result_global,'\\n')\n"
   ]
  },
  {
   "cell_type": "code",
   "execution_count": 14,
   "metadata": {},
   "outputs": [
    {
     "name": "stderr",
     "output_type": "stream",
     "text": [
      "Some weights of the model checkpoint at distilbert-base-cased were not used when initializing DistilBertModel: ['vocab_layer_norm.bias', 'vocab_layer_norm.weight', 'vocab_projector.weight', 'vocab_transform.bias', 'vocab_projector.bias', 'vocab_transform.weight']\n",
      "- This IS expected if you are initializing DistilBertModel from the checkpoint of a model trained on another task or with another architecture (e.g. initializing a BertForSequenceClassification model from a BertForPreTraining model).\n",
      "- This IS NOT expected if you are initializing DistilBertModel from the checkpoint of a model that you expect to be exactly identical (initializing a BertForSequenceClassification model from a BertForSequenceClassification model).\n"
     ]
    },
    {
     "data": {
      "application/vnd.jupyter.widget-view+json": {
       "model_id": "fddb57a21919429abad5ff52cb234cd9",
       "version_major": 2,
       "version_minor": 0
      },
      "text/plain": [
       "  0%|          | 0/57400 [00:00<?, ?it/s]"
      ]
     },
     "metadata": {},
     "output_type": "display_data"
    },
    {
     "name": "stdout",
     "output_type": "stream",
     "text": [
      "Epoch 1 \t Training loss: 2.0449471361545735 \t Validation loss: 2.006536128157276 \t \n",
      "  1%|          | 574/57400 [02:58<4:35:35,  3.44it/s]\n",
      "Epoch 2 \t Training loss: 1.9906914882128246 \t Validation loss: 1.9951032137466689 \t \n",
      "  2%|▏         | 1148/57400 [05:45<4:49:12,  3.24it/s]\n",
      "Epoch 3 \t Training loss: 1.9805022480180454 \t Validation loss: 1.994995010101189 \t \n",
      "  3%|▎         | 1722/57400 [08:31<4:15:19,  3.63it/s]\n",
      "Epoch 4 \t Training loss: 1.9725844143575078 \t Validation loss: 1.9768025834681624 \t \n",
      "  4%|▍         | 2296/57400 [11:23<3:42:28,  4.13it/s]\n",
      "Epoch 5 \t Training loss: 1.9685939193187274 \t Validation loss: 1.9767589144787545 \t \n",
      "  5%|▌         | 2870/57400 [15:09<4:56:32,  3.06it/s]\n",
      "Epoch 6 \t Training loss: 1.9635857576277198 \t Validation loss: 1.9819974535602634 \t \n",
      "\n",
      "1 epoch without improvement\n",
      "  6%|▌         | 3444/57400 [18:42<4:25:47,  3.38it/s]\n",
      "Epoch 7 \t Training loss: 1.9608621098853984 \t Validation loss: 1.9645925376374842 \t \n",
      "  7%|▋         | 4018/57400 [21:57<4:40:36,  3.17it/s]\n",
      "Epoch 8 \t Training loss: 1.9610158254875953 \t Validation loss: 1.9799959659576416 \t \n",
      "\n",
      "1 epoch without improvement\n",
      "  8%|▊         | 4592/57400 [24:46<4:03:00,  3.62it/s]\n",
      "Epoch 9 \t Training loss: 1.958026722333157 \t Validation loss: 1.9696178517099154 \t \n",
      "\n",
      "2 epoch without improvement\n",
      "  9%|▉         | 5166/57400 [27:48<5:07:12,  2.83it/s]\n",
      "Epoch 10 \t Training loss: 1.95404994923894 \t Validation loss: 1.9714424347473403 \t \n",
      "\n",
      "3 epoch without improvement\n",
      " 10%|█         | 5740/57400 [31:10<4:31:13,  3.17it/s]\n",
      "Epoch 11 \t Training loss: 1.953006963904311 \t Validation loss: 1.9595146866168005 \t \n",
      " 11%|█         | 6314/57400 [33:59<4:11:48,  3.38it/s]\n",
      "Epoch 12 \t Training loss: 1.9501378505072111 \t Validation loss: 1.9744097822803561 \t \n",
      "\n",
      "1 epoch without improvement\n",
      " 12%|█▏        | 6888/57400 [36:48<3:14:35,  4.33it/s]\n",
      "Epoch 13 \t Training loss: 1.9505133707764257 \t Validation loss: 1.9805573608915685 \t \n",
      "\n",
      "2 epoch without improvement\n",
      " 13%|█▎        | 7462/57400 [40:01<3:55:28,  3.53it/s]\n",
      "Epoch 14 \t Training loss: 1.9469627029804402 \t Validation loss: 1.9610654984490345 \t \n",
      "\n",
      "3 epoch without improvement\n",
      " 14%|█▍        | 8036/57400 [42:53<4:16:25,  3.21it/s]\n",
      "Epoch 15 \t Training loss: 1.9440170813105249 \t Validation loss: 1.9730160721277787 \t \n",
      "\n",
      "4 epoch without improvement\n",
      " 15%|█▌        | 8610/57400 [45:45<3:58:17,  3.41it/s]\n",
      "Epoch 16 \t Training loss: 1.9444957705740313 \t Validation loss: 1.9714714733220764 \t \n",
      "\n",
      "5 epoch without improvement\n",
      " 16%|█▌        | 9184/57400 [48:38<3:32:06,  3.79it/s]\n",
      "Epoch 17 \t Training loss: 1.9450147147793388 \t Validation loss: 1.972446742704359 \t \n",
      "\n",
      "6 epoch without improvement\n",
      " 17%|█▋        | 9758/57400 [52:00<3:32:58,  3.73it/s]\n",
      "Epoch 18 \t Training loss: 1.9433430495577821 \t Validation loss: 1.9583048295166532 \t \n",
      " 18%|█▊        | 10332/57400 [55:01<3:52:31,  3.37it/s]\n",
      "Epoch 19 \t Training loss: 1.9393057056835719 \t Validation loss: 1.9706437385688393 \t \n",
      "\n",
      "1 epoch without improvement\n",
      " 19%|█▉        | 10906/57400 [57:56<3:57:20,  3.26it/s]\n",
      "Epoch 20 \t Training loss: 1.9387140917861088 \t Validation loss: 1.9687717203366555 \t \n",
      "\n",
      "2 epoch without improvement\n",
      " 20%|██        | 11480/57400 [1:00:45<3:09:15,  4.04it/s]\n",
      "Epoch 21 \t Training loss: 1.9362145205408023 \t Validation loss: 1.9691630278603505 \t \n",
      "\n",
      "3 epoch without improvement\n",
      " 21%|██        | 12054/57400 [1:03:36<2:52:43,  4.38it/s]\n",
      "Epoch 22 \t Training loss: 1.9381596560262222 \t Validation loss: 1.9703036708346868 \t \n",
      "\n",
      "4 epoch without improvement\n",
      " 22%|██▏       | 12628/57400 [1:06:24<3:31:10,  3.53it/s]\n",
      "Epoch 23 \t Training loss: 1.939862356991718 \t Validation loss: 1.9733614982184717 \t \n",
      "\n",
      "5 epoch without improvement\n",
      " 23%|██▎       | 13202/57400 [1:09:13<3:06:44,  3.94it/s]\n",
      "Epoch 24 \t Training loss: 1.9355653028039568 \t Validation loss: 1.967172323647192 \t \n",
      "\n",
      "6 epoch without improvement\n",
      " 24%|██▍       | 13776/57400 [1:12:19<3:46:16,  3.21it/s]\n",
      "Epoch 25 \t Training loss: 1.9326220896185897 \t Validation loss: 1.9674320200742301 \t \n",
      "\n",
      "7 epoch without improvement\n",
      " 25%|██▌       | 14350/57400 [1:15:45<3:33:11,  3.37it/s]\n",
      "Epoch 26 \t Training loss: 1.9324559087537307 \t Validation loss: 1.9644907773551294 \t \n",
      "\n",
      "8 epoch without improvement\n",
      " 26%|██▌       | 14924/57400 [1:18:38<3:23:18,  3.48it/s]\n",
      "Epoch 27 \t Training loss: 1.9319223472880984 \t Validation loss: 1.96946543960248 \t \n",
      "\n",
      "9 epoch without improvement\n",
      " 27%|██▋       | 15498/57400 [1:21:34<3:27:34,  3.36it/s]\n",
      "Epoch 28 \t Training loss: 1.9271575987131337 \t Validation loss: 1.966318665924719 \t \n",
      "\n",
      "10 epoch without improvement\n",
      "Validation_loss hasn't improve in 10 epoch. Stopping training after 28 epochs...\n"
     ]
    },
    {
     "data": {
      "image/png": "[encoded data removed]",
      "text/plain": [
       "<Figure size 640x480 with 1 Axes>"
      ]
     },
     "metadata": {},
     "output_type": "display_data"
    }
   ],
   "source": [
    "model = mt.MultiWithDependencies(model_conf,vocab).to(device)\n",
    "optimizer = AdamW(model.parameters(), lr=learning_rate,weight_decay=0.1)\n",
    "save_path='distilbert_multitask_brk_2'\n",
    "train.train_function_multi(model,num_epochs,dl_train,optimizer,early_stop = 10,dl_val = dl_val,save_path=save_path,es_threshold=0)"
   ]
  },
  {
   "cell_type": "code",
   "execution_count": 15,
   "metadata": {},
   "outputs": [
    {
     "name": "stderr",
     "output_type": "stream",
     "text": [
      "Some weights of the model checkpoint at distilbert-base-cased were not used when initializing DistilBertModel: ['vocab_layer_norm.bias', 'vocab_layer_norm.weight', 'vocab_projector.weight', 'vocab_transform.bias', 'vocab_projector.bias', 'vocab_transform.weight']\n",
      "- This IS expected if you are initializing DistilBertModel from the checkpoint of a model trained on another task or with another architecture (e.g. initializing a BertForSequenceClassification model from a BertForPreTraining model).\n",
      "- This IS NOT expected if you are initializing DistilBertModel from the checkpoint of a model that you expect to be exactly identical (initializing a BertForSequenceClassification model from a BertForSequenceClassification model).\n"
     ]
    },
    {
     "name": "stdout",
     "output_type": "stream",
     "text": [
      "Evaluación del modelo\n",
      "{'to': {'recall': 0.6654040404040404, 'precision': 0.6654040404040404, 'f1': 0.6654040404040404, 'accuracy': 0.6654040404040404}, 'as': {'recall': 0.7183833116036505, 'precision': 0.7183833116036505, 'f1': 0.7183833116036505, 'accuracy': 0.7183833116036505}, 'about': {'recall': 0.8048469387755102, 'precision': 0.8048469387755102, 'f1': 0.8048469387755102, 'accuracy': 0.8048469387755102}} \n",
      "\n",
      "Evaluación en etiquetas male\n",
      "{'to': {'recall': 0.7007299270072993, 'precision': 0.7007299270072993, 'f1': 0.7007299270072993, 'accuracy': 0.7007299270072993}, 'as': {'recall': 0.6893939393939394, 'precision': 0.6893939393939394, 'f1': 0.6893939393939394, 'accuracy': 0.6893939393939394}, 'about': {'recall': 0.8255208333333334, 'precision': 0.8255208333333334, 'f1': 0.8255208333333334, 'accuracy': 0.8255208333333334}} \n",
      "\n",
      "Evaluación en etiquetas female\n",
      "{'to': {'recall': 0.6272965879265092, 'precision': 0.6272965879265092, 'f1': 0.6272965879265092, 'accuracy': 0.6272965879265092}, 'as': {'recall': 0.7493261455525606, 'precision': 0.7493261455525606, 'f1': 0.7493261455525606, 'accuracy': 0.7493261455525606}, 'about': {'recall': 0.785, 'precision': 0.785, 'f1': 0.785, 'accuracy': 0.785}} \n",
      "\n"
     ]
    }
   ],
   "source": [
    "model = mt.MultiWithDependencies(model_conf,vocab).to(device)\n",
    "model.load_state_dict(torch.load(save_path))\n",
    "\n",
    "print(\"Evaluación del modelo\")\n",
    "result_global = train.eval_func_multi(model,dl_eval,tasks,gender=None)\n",
    "generic.update_global_metric_multi(result_global,global_metrics,mtype='global')\n",
    "print(result_global,'\\n')\n",
    "print(\"Evaluación en etiquetas male\")\n",
    "result_global = train.eval_func_multi(model,dl_eval,tasks,gender='male')\n",
    "generic.update_global_metric_multi(result_global,global_metrics,mtype='male')\n",
    "print(result_global,'\\n')\n",
    "print(\"Evaluación en etiquetas female\")\n",
    "result_global = train.eval_func_multi(model,dl_eval,tasks,gender='female')\n",
    "generic.update_global_metric_multi(result_global,global_metrics,mtype='female')\n",
    "print(result_global,'\\n')\n"
   ]
  },
  {
   "cell_type": "code",
   "execution_count": 16,
   "metadata": {},
   "outputs": [
    {
     "name": "stderr",
     "output_type": "stream",
     "text": [
      "Some weights of the model checkpoint at distilbert-base-cased were not used when initializing DistilBertModel: ['vocab_layer_norm.bias', 'vocab_layer_norm.weight', 'vocab_projector.weight', 'vocab_transform.bias', 'vocab_projector.bias', 'vocab_transform.weight']\n",
      "- This IS expected if you are initializing DistilBertModel from the checkpoint of a model trained on another task or with another architecture (e.g. initializing a BertForSequenceClassification model from a BertForPreTraining model).\n",
      "- This IS NOT expected if you are initializing DistilBertModel from the checkpoint of a model that you expect to be exactly identical (initializing a BertForSequenceClassification model from a BertForSequenceClassification model).\n"
     ]
    },
    {
     "data": {
      "application/vnd.jupyter.widget-view+json": {
       "model_id": "2aaeeda8be934962add734bfb977f003",
       "version_major": 2,
       "version_minor": 0
      },
      "text/plain": [
       "  0%|          | 0/57400 [00:00<?, ?it/s]"
      ]
     },
     "metadata": {},
     "output_type": "display_data"
    },
    {
     "name": "stdout",
     "output_type": "stream",
     "text": [
      "Epoch 1 \t Training loss: 2.0567740160413734 \t Validation loss: 2.0126573231260654 \t \n",
      "  1%|          | 574/57400 [03:20<4:14:32,  3.72it/s]\n",
      "Epoch 2 \t Training loss: 1.99288160107277 \t Validation loss: 1.989177111851967 \t \n",
      "  2%|▏         | 1148/57400 [06:19<3:32:47,  4.41it/s]\n",
      "Epoch 3 \t Training loss: 1.9785902761831515 \t Validation loss: 1.9758496122845148 \t \n",
      "  3%|▎         | 1722/57400 [09:04<4:12:35,  3.67it/s]\n",
      "Epoch 4 \t Training loss: 1.9720837465562056 \t Validation loss: 1.981515225717577 \t \n",
      "\n",
      "1 epoch without improvement\n",
      "  4%|▍         | 2296/57400 [11:50<4:23:05,  3.49it/s]\n",
      "Epoch 5 \t Training loss: 1.9676110806780824 \t Validation loss: 1.9809252407591222 \t \n",
      "\n",
      "2 epoch without improvement\n",
      "  5%|▌         | 2870/57400 [14:39<4:33:36,  3.32it/s]\n",
      "Epoch 6 \t Training loss: 1.9651106018637947 \t Validation loss: 1.9787439936298434 \t \n",
      "\n",
      "3 epoch without improvement\n",
      "  6%|▌         | 3444/57400 [18:00<5:11:36,  2.89it/s]\n",
      "Epoch 7 \t Training loss: 1.9606826313696673 \t Validation loss: 1.9868836039203708 \t \n",
      "\n",
      "4 epoch without improvement\n",
      "  7%|▋         | 4018/57400 [20:46<4:12:12,  3.53it/s]\n",
      "Epoch 8 \t Training loss: 1.9595835915010564 \t Validation loss: 1.9665330001863384 \t \n",
      "  8%|▊         | 4592/57400 [23:35<4:28:44,  3.27it/s]\n",
      "Epoch 9 \t Training loss: 1.9578335825159159 \t Validation loss: 1.9723710205595373 \t \n",
      "\n",
      "1 epoch without improvement\n",
      "  9%|▉         | 5166/57400 [26:30<4:11:15,  3.46it/s]\n",
      "Epoch 10 \t Training loss: 1.954813040922743 \t Validation loss: 1.9691013340222634 \t \n",
      "\n",
      "2 epoch without improvement\n",
      " 10%|█         | 5740/57400 [29:16<4:00:45,  3.58it/s]\n",
      "Epoch 11 \t Training loss: 1.9512849043055278 \t Validation loss: 1.9658940565788139 \t \n",
      " 11%|█         | 6314/57400 [32:02<4:02:20,  3.51it/s]\n",
      "Epoch 12 \t Training loss: 1.9520092479858664 \t Validation loss: 1.9693326586383884 \t \n",
      "\n",
      "1 epoch without improvement\n",
      " 12%|█▏        | 6888/57400 [34:48<3:09:33,  4.44it/s]\n",
      "Epoch 13 \t Training loss: 1.9498454130900447 \t Validation loss: 1.9620361914068967 \t \n",
      " 13%|█▎        | 7462/57400 [37:43<3:48:39,  3.64it/s]\n",
      "Epoch 14 \t Training loss: 1.9491435002782203 \t Validation loss: 1.9696090766939067 \t \n",
      "\n",
      "1 epoch without improvement\n",
      " 14%|█▍        | 8036/57400 [40:50<3:21:38,  4.08it/s]\n",
      "Epoch 15 \t Training loss: 1.944369498030234 \t Validation loss: 1.9714886717877145 \t \n",
      "\n",
      "2 epoch without improvement\n",
      " 15%|█▌        | 8610/57400 [43:12<3:14:48,  4.17it/s]\n",
      "Epoch 16 \t Training loss: 1.9479461789961892 \t Validation loss: 1.9682450476339308 \t \n",
      "\n",
      "3 epoch without improvement\n",
      " 16%|█▌        | 9184/57400 [45:34<3:06:08,  4.32it/s]\n",
      "Epoch 17 \t Training loss: 1.9423030708309665 \t Validation loss: 1.9632537061885251 \t \n",
      "\n",
      "4 epoch without improvement\n",
      " 17%|█▋        | 9758/57400 [47:55<2:34:44,  5.13it/s]\n",
      "Epoch 18 \t Training loss: 1.942658914298546 \t Validation loss: 1.9645041611235021 \t \n",
      "\n",
      "5 epoch without improvement\n",
      " 18%|█▊        | 10332/57400 [50:17<3:13:54,  4.05it/s]\n",
      "Epoch 19 \t Training loss: 1.9423114667786123 \t Validation loss: 1.9707498267545538 \t \n",
      "\n",
      "6 epoch without improvement\n",
      " 19%|█▉        | 10906/57400 [52:39<3:10:01,  4.08it/s]\n",
      "Epoch 20 \t Training loss: 1.939341641676966 \t Validation loss: 1.9621989828045086 \t \n",
      "\n",
      "7 epoch without improvement\n",
      " 20%|██        | 11480/57400 [55:01<2:30:56,  5.07it/s]\n",
      "Epoch 21 \t Training loss: 1.937854517835358 \t Validation loss: 1.966971926769968 \t \n",
      "\n",
      "8 epoch without improvement\n",
      " 21%|██        | 12054/57400 [57:23<2:27:35,  5.12it/s]\n",
      "Epoch 22 \t Training loss: 1.9341569623880686 \t Validation loss: 1.9622030076334032 \t \n",
      "\n",
      "9 epoch without improvement\n",
      " 22%|██▏       | 12628/57400 [59:44<2:55:14,  4.26it/s]\n",
      "Epoch 23 \t Training loss: 1.9347755830047022 \t Validation loss: 1.9627392877966672 \t \n",
      "\n",
      "10 epoch without improvement\n",
      "Validation_loss hasn't improve in 10 epoch. Stopping training after 23 epochs...\n"
     ]
    },
    {
     "data": {
      "image/png": "[encoded data removed]",
      "text/plain": [
       "<Figure size 640x480 with 1 Axes>"
      ]
     },
     "metadata": {},
     "output_type": "display_data"
    }
   ],
   "source": [
    "model = mt.MultiWithDependencies(model_conf,vocab).to(device)\n",
    "optimizer = AdamW(model.parameters(), lr=learning_rate,weight_decay=0.1)\n",
    "save_path='distilbert_multitask_brk_3'\n",
    "train.train_function_multi(model,num_epochs,dl_train,optimizer,early_stop = 10,dl_val = dl_val,save_path=save_path,es_threshold=0)"
   ]
  },
  {
   "cell_type": "code",
   "execution_count": 17,
   "metadata": {},
   "outputs": [
    {
     "name": "stderr",
     "output_type": "stream",
     "text": [
      "Some weights of the model checkpoint at distilbert-base-cased were not used when initializing DistilBertModel: ['vocab_layer_norm.bias', 'vocab_layer_norm.weight', 'vocab_projector.weight', 'vocab_transform.bias', 'vocab_projector.bias', 'vocab_transform.weight']\n",
      "- This IS expected if you are initializing DistilBertModel from the checkpoint of a model trained on another task or with another architecture (e.g. initializing a BertForSequenceClassification model from a BertForPreTraining model).\n",
      "- This IS NOT expected if you are initializing DistilBertModel from the checkpoint of a model that you expect to be exactly identical (initializing a BertForSequenceClassification model from a BertForSequenceClassification model).\n"
     ]
    },
    {
     "name": "stdout",
     "output_type": "stream",
     "text": [
      "Evaluación del modelo\n",
      "{'to': {'recall': 0.6616161616161617, 'precision': 0.6616161616161617, 'f1': 0.6616161616161617, 'accuracy': 0.6616161616161617}, 'as': {'recall': 0.7092568448500652, 'precision': 0.7092568448500652, 'f1': 0.7092568448500652, 'accuracy': 0.7092568448500652}, 'about': {'recall': 0.8163265306122449, 'precision': 0.8163265306122449, 'f1': 0.8163265306122449, 'accuracy': 0.8163265306122449}} \n",
      "\n",
      "Evaluación en etiquetas male\n",
      "{'to': {'recall': 0.7007299270072993, 'precision': 0.7007299270072993, 'f1': 0.7007299270072993, 'accuracy': 0.7007299270072993}, 'as': {'recall': 0.702020202020202, 'precision': 0.702020202020202, 'f1': 0.702020202020202, 'accuracy': 0.702020202020202}, 'about': {'recall': 0.8411458333333334, 'precision': 0.8411458333333334, 'f1': 0.8411458333333333, 'accuracy': 0.8411458333333334}} \n",
      "\n",
      "Evaluación en etiquetas female\n",
      "{'to': {'recall': 0.6194225721784777, 'precision': 0.6194225721784777, 'f1': 0.6194225721784777, 'accuracy': 0.6194225721784777}, 'as': {'recall': 0.7169811320754716, 'precision': 0.7169811320754716, 'f1': 0.7169811320754716, 'accuracy': 0.7169811320754716}, 'about': {'recall': 0.7925, 'precision': 0.7925, 'f1': 0.7925, 'accuracy': 0.7925}} \n",
      "\n"
     ]
    }
   ],
   "source": [
    "model = mt.MultiWithDependencies(model_conf,vocab).to(device)\n",
    "model.load_state_dict(torch.load(save_path))\n",
    "\n",
    "print(\"Evaluación del modelo\")\n",
    "result_global = train.eval_func_multi(model,dl_eval,tasks,gender=None)\n",
    "generic.update_global_metric_multi(result_global,global_metrics,mtype='global')\n",
    "print(result_global,'\\n')\n",
    "print(\"Evaluación en etiquetas male\")\n",
    "result_global = train.eval_func_multi(model,dl_eval,tasks,gender='male')\n",
    "generic.update_global_metric_multi(result_global,global_metrics,mtype='male')\n",
    "print(result_global,'\\n')\n",
    "print(\"Evaluación en etiquetas female\")\n",
    "result_global = train.eval_func_multi(model,dl_eval,tasks,gender='female')\n",
    "generic.update_global_metric_multi(result_global,global_metrics,mtype='female')\n",
    "print(result_global,'\\n')\n"
   ]
  },
  {
   "cell_type": "code",
   "execution_count": 18,
   "metadata": {},
   "outputs": [
    {
     "name": "stdout",
     "output_type": "stream",
     "text": [
      "Métricas globales: \n",
      "\n",
      "\n",
      " about\n",
      "Resultado global: {'recall': 0.8120748299319728, 'precision': 0.8120748299319728, 'f1': 0.8120748299319728, 'accuracy': 0.8120748299319728}\n",
      "Métricas etiqueta male: {'recall': 0.8368055555555556, 'precision': 0.8368055555555556, 'f1': 0.8368055555555556, 'accuracy': 0.8368055555555556}\n",
      "Métricas etiqueta female:  {'recall': 0.7883333333333333, 'precision': 0.7883333333333333, 'f1': 0.7883333333333333, 'accuracy': 0.7883333333333333}\n",
      "\n",
      " to\n",
      "Resultado global: {'recall': 0.6611952861952862, 'precision': 0.6611952861952862, 'f1': 0.6611952861952862, 'accuracy': 0.6611952861952862}\n",
      "Métricas etiqueta male: {'recall': 0.7015409570154096, 'precision': 0.7015409570154096, 'f1': 0.7015409570154096, 'accuracy': 0.7015409570154096}\n",
      "Métricas etiqueta female:  {'recall': 0.6176727909011374, 'precision': 0.6176727909011374, 'f1': 0.6176727909011374, 'accuracy': 0.6176727909011374}\n",
      "\n",
      " as\n",
      "Resultado global: {'recall': 0.7162103433289874, 'precision': 0.7162103433289874, 'f1': 0.7162103433289874, 'accuracy': 0.7162103433289874}\n",
      "Métricas etiqueta male: {'recall': 0.6994949494949495, 'precision': 0.6994949494949495, 'f1': 0.6994949494949495, 'accuracy': 0.6994949494949495}\n",
      "Métricas etiqueta female:  {'recall': 0.7340521114106019, 'precision': 0.7340521114106019, 'f1': 0.7340521114106019, 'accuracy': 0.7340521114106019}\n"
     ]
    }
   ],
   "source": [
    "\n",
    "print('Métricas globales: \\n')\n",
    "\n",
    "for task in ['about','to','as']:\n",
    "    print('\\n',task)\n",
    "    print('Resultado global:',{m:mean(values) for m,values in global_metrics[task]['global'].items()})\n",
    "    print(f'Métricas etiqueta male:',{m:mean(values) for m,values in global_metrics[task]['male'].items()})\n",
    "    print('Métricas etiqueta female: ',{m:mean(values) for m,values in global_metrics[task]['female'].items()})\n"
   ]
  }
 ],
 "metadata": {
  "kernelspec": {
   "display_name": "tfg",
   "language": "python",
   "name": "python3"
  },
  "language_info": {
   "codemirror_mode": {
    "name": "ipython",
    "version": 3
   },
   "file_extension": ".py",
   "mimetype": "text/x-python",
   "name": "python",
   "nbconvert_exporter": "python",
   "pygments_lexer": "ipython3",
   "version": "3.9.13"
  },
  "orig_nbformat": 4,
  "vscode": {
   "interpreter": {
    "hash": "35e8332e99bdf485583869dfbdef293dcf2f9293b1663ec5daea0a573af457c3"
   }
  }
 },
 "nbformat": 4,
 "nbformat_minor": 2
}
