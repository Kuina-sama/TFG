{
 "cells": [
  {
   "cell_type": "code",
   "execution_count": 1,
   "metadata": {},
   "outputs": [],
   "source": [
    "import torch\n",
    "from torch.utils.data import DataLoader\n",
    "from torch.optim import SGD ,AdamW\n",
    "\n",
    "from datasets import load_dataset, load_metric\n",
    "\n",
    "import matplotlib.pyplot as plt\n",
    "\n",
    "import json\n",
    "from statistics import mean\n"
   ]
  },
  {
   "cell_type": "code",
   "execution_count": 2,
   "metadata": {},
   "outputs": [],
   "source": [
    "import utils_generic as generic\n",
    "import multitask_dep as mt\n",
    "import model_confs as confs\n",
    "import train"
   ]
  },
  {
   "cell_type": "code",
   "execution_count": 3,
   "metadata": {},
   "outputs": [],
   "source": [
    "device = torch.device(\"cuda\") if torch.cuda.is_available() else torch.device(\"cpu\")\n",
    "tasks = ['to','as','about']"
   ]
  },
  {
   "cell_type": "code",
   "execution_count": 4,
   "metadata": {},
   "outputs": [],
   "source": [
    "model_conf = confs.distilbert_conf\n",
    "encoding_type = 'relative'"
   ]
  },
  {
   "attachments": {},
   "cell_type": "markdown",
   "metadata": {},
   "source": [
    "# Datos ConvAI"
   ]
  },
  {
   "cell_type": "code",
   "execution_count": 5,
   "metadata": {},
   "outputs": [],
   "source": [
    "with open('Datasets\\ConvAI2\\convai2_complete.json','r') as f:\n",
    "    data = json.load(f)"
   ]
  },
  {
   "cell_type": "code",
   "execution_count": 6,
   "metadata": {},
   "outputs": [],
   "source": [
    "vocab = mt.Vocabulary(data['train'],encoding_type)\n",
    "\n",
    "convai_train = data['train']\n",
    "convai_val = data['validation']\n",
    "\n",
    "\n",
    "\n",
    "convai_train_token = generic.tokenize_dataset_with_dependencies(convai_train,['about','to','as'],vocab,model_conf) \n",
    "convai_val_token = generic.tokenize_dataset_with_dependencies(convai_val,['about','to','as'],vocab,model_conf) "
   ]
  },
  {
   "cell_type": "code",
   "execution_count": 7,
   "metadata": {},
   "outputs": [],
   "source": [
    "convai_train_dataset = mt.DatasetMultitaskDep(convai_train_token,tasks,eval=False)\n",
    "convai_val_dataset = mt.DatasetMultitaskDep(convai_val_token,tasks,eval=False)"
   ]
  },
  {
   "attachments": {},
   "cell_type": "markdown",
   "metadata": {},
   "source": [
    "# Datos md_gender"
   ]
  },
  {
   "cell_type": "code",
   "execution_count": 8,
   "metadata": {},
   "outputs": [],
   "source": [
    "with open('Datasets\\md_gender\\md_complete.json','r',encoding=\"utf8\") as f:\n",
    "    md_data = json.load(f)"
   ]
  },
  {
   "cell_type": "code",
   "execution_count": 9,
   "metadata": {},
   "outputs": [],
   "source": [
    "md_tokenized = generic.tokenize_dataset_with_dependencies(md_data,['about','to','as'],vocab,model_conf) \n",
    "md_dataset = mt.DatasetMultitaskDep(md_tokenized,tasks,eval=True)"
   ]
  },
  {
   "attachments": {},
   "cell_type": "markdown",
   "metadata": {},
   "source": [
    "# Creación dataloaders"
   ]
  },
  {
   "cell_type": "code",
   "execution_count": 10,
   "metadata": {},
   "outputs": [],
   "source": [
    "dl_train =DataLoader(convai_train_dataset,batch_size=128,shuffle=True,collate_fn=mt.collate_fn)\n",
    "dl_val =DataLoader(convai_val_dataset,batch_size=128,shuffle=True,collate_fn=mt.collate_fn)\n",
    "dl_eval = DataLoader(md_dataset,batch_size=128,shuffle=False,collate_fn=mt.collate_fn)"
   ]
  },
  {
   "attachments": {},
   "cell_type": "markdown",
   "metadata": {},
   "source": [
    "# Modelo multitask"
   ]
  },
  {
   "cell_type": "code",
   "execution_count": 11,
   "metadata": {},
   "outputs": [],
   "source": [
    "num_epochs = 100\n",
    "learning_rate = 1e-6\n",
    "\n",
    "global_metrics = {'about':{'global':{'recall': [], 'precision': [],'f1': [], 'accuracy': []},\n",
    "                            'male':{'recall': [], 'precision': [],'f1': [], 'accuracy': []},\n",
    "                            'female':{'recall': [], 'precision': [],'f1': [], 'accuracy': []}},\n",
    "                    'as':{'global':{'recall': [], 'precision': [],'f1': [], 'accuracy': []},\n",
    "                            'male':{'recall': [], 'precision': [],'f1': [], 'accuracy': []},\n",
    "                            'female':{'recall': [], 'precision': [],'f1': [], 'accuracy': []}},\n",
    "                    'to':{'global':{'recall': [], 'precision': [],'f1': [], 'accuracy': []},\n",
    "                            'male':{'recall': [], 'precision': [],'f1': [], 'accuracy': []},\n",
    "                            'female':{'recall': [], 'precision': [],'f1': [], 'accuracy': []}}}"
   ]
  },
  {
   "cell_type": "code",
   "execution_count": 12,
   "metadata": {},
   "outputs": [
    {
     "name": "stderr",
     "output_type": "stream",
     "text": [
      "Some weights of the model checkpoint at distilbert-base-cased were not used when initializing DistilBertModel: ['vocab_projector.weight', 'vocab_projector.bias', 'vocab_layer_norm.bias', 'vocab_transform.weight', 'vocab_layer_norm.weight', 'vocab_transform.bias']\n",
      "- This IS expected if you are initializing DistilBertModel from the checkpoint of a model trained on another task or with another architecture (e.g. initializing a BertForSequenceClassification model from a BertForPreTraining model).\n",
      "- This IS NOT expected if you are initializing DistilBertModel from the checkpoint of a model that you expect to be exactly identical (initializing a BertForSequenceClassification model from a BertForSequenceClassification model).\n"
     ]
    },
    {
     "data": {
      "application/vnd.jupyter.widget-view+json": {
       "model_id": "9fe12ef89af6461c9ceeb4f56e9b3cbb",
       "version_major": 2,
       "version_minor": 0
      },
      "text/plain": [
       "  0%|          | 0/57400 [00:00<?, ?it/s]"
      ]
     },
     "metadata": {},
     "output_type": "display_data"
    },
    {
     "name": "stdout",
     "output_type": "stream",
     "text": [
      "Epoch 1 \t Training loss: 2.0437170258797837 \t Validation loss: 2.0070776131193515 \t \n",
      "  1%|          | 574/57400 [02:48<4:36:42,  3.42it/s]\n",
      "Epoch 2 \t Training loss: 1.9859077868145933 \t Validation loss: 1.9902663028846352 \t \n",
      "  2%|▏         | 1148/57400 [05:02<3:33:02,  4.40it/s]\n",
      "Epoch 3 \t Training loss: 1.975972664273159 \t Validation loss: 1.983560840962297 \t \n",
      "  3%|▎         | 1722/57400 [07:21<3:58:38,  3.89it/s]\n",
      "Epoch 4 \t Training loss: 1.9714668604970393 \t Validation loss: 1.9820234815953142 \t \n",
      "  4%|▍         | 2296/57400 [09:38<4:46:59,  3.20it/s]\n",
      "Epoch 5 \t Training loss: 1.9673607633919665 \t Validation loss: 1.9818092119895805 \t \n",
      "  5%|▌         | 2870/57400 [11:56<3:23:49,  4.46it/s]\n",
      "Epoch 6 \t Training loss: 1.9643598275732912 \t Validation loss: 1.9708254256490934 \t \n",
      "  6%|▌         | 3444/57400 [14:10<3:17:27,  4.55it/s]\n",
      "Epoch 7 \t Training loss: 1.9635338571428838 \t Validation loss: 1.9782488729994177 \t \n",
      "\n",
      "1 epoch without improvement\n",
      "  7%|▋         | 4018/57400 [16:22<3:19:16,  4.46it/s]\n",
      "Epoch 8 \t Training loss: 1.9598102004685884 \t Validation loss: 1.9751874370090032 \t \n",
      "\n",
      "2 epoch without improvement\n",
      "  8%|▊         | 4592/57400 [18:34<3:14:19,  4.53it/s]\n",
      "Epoch 9 \t Training loss: 1.9555014594091356 \t Validation loss: 1.9750285613334786 \t \n",
      "\n",
      "3 epoch without improvement\n",
      "  9%|▉         | 5166/57400 [20:46<3:13:36,  4.50it/s]\n",
      "Epoch 10 \t Training loss: 1.9564044097574746 \t Validation loss: 1.9717983027635995 \t \n",
      "\n",
      "4 epoch without improvement\n",
      " 10%|█         | 5740/57400 [23:05<3:15:32,  4.40it/s]\n",
      "Epoch 11 \t Training loss: 1.950758609414516 \t Validation loss: 1.9731584423679416 \t \n",
      "\n",
      "5 epoch without improvement\n",
      " 11%|█         | 6314/57400 [25:18<2:40:23,  5.31it/s]\n",
      "Epoch 12 \t Training loss: 1.9512308669837926 \t Validation loss: 1.9652573375378626 \t \n",
      " 12%|█▏        | 6888/57400 [27:31<3:16:44,  4.28it/s]\n",
      "Epoch 13 \t Training loss: 1.9502292248430153 \t Validation loss: 1.9668949620198395 \t \n",
      "\n",
      "1 epoch without improvement\n",
      " 13%|█▎        | 7462/57400 [29:43<3:00:37,  4.61it/s]\n",
      "Epoch 14 \t Training loss: 1.9488882821196047 \t Validation loss: 1.970078599655022 \t \n",
      "\n",
      "2 epoch without improvement\n",
      " 14%|█▍        | 8036/57400 [31:54<2:59:16,  4.59it/s]\n",
      "Epoch 15 \t Training loss: 1.9461640277390697 \t Validation loss: 1.9675190812450345 \t \n",
      "\n",
      "3 epoch without improvement\n",
      " 15%|█▌        | 8610/57400 [34:25<3:37:01,  3.75it/s]\n",
      "Epoch 16 \t Training loss: 1.945217876276488 \t Validation loss: 1.9653610960911896 \t \n",
      "\n",
      "4 epoch without improvement\n",
      " 16%|█▌        | 9184/57400 [36:50<2:39:13,  5.05it/s]\n",
      "Epoch 17 \t Training loss: 1.9431132586990916 \t Validation loss: 1.9696095454490792 \t \n",
      "\n",
      "5 epoch without improvement\n",
      " 17%|█▋        | 9758/57400 [39:14<3:20:56,  3.95it/s]\n",
      "Epoch 18 \t Training loss: 1.9384720670221574 \t Validation loss: 1.972722538446976 \t \n",
      "\n",
      "6 epoch without improvement\n",
      " 18%|█▊        | 10332/57400 [41:38<2:34:04,  5.09it/s]\n",
      "Epoch 19 \t Training loss: 1.9413703457819045 \t Validation loss: 1.9712598909765988 \t \n",
      "\n",
      "7 epoch without improvement\n",
      " 19%|█▉        | 10906/57400 [44:02<3:13:02,  4.01it/s]\n",
      "Epoch 20 \t Training loss: 1.9391295668970832 \t Validation loss: 1.968135664018534 \t \n",
      "\n",
      "8 epoch without improvement\n",
      " 20%|██        | 11480/57400 [46:27<3:03:37,  4.17it/s]\n",
      "Epoch 21 \t Training loss: 1.9382376189015884 \t Validation loss: 1.9610301195564916 \t \n",
      " 21%|██        | 12054/57400 [48:51<3:02:10,  4.15it/s]\n",
      "Epoch 22 \t Training loss: 1.937310204896362 \t Validation loss: 1.9598451105214783 \t \n",
      " 22%|██▏       | 12628/57400 [51:15<3:02:50,  4.08it/s]\n",
      "Epoch 23 \t Training loss: 1.9378999066685134 \t Validation loss: 1.9654643111309762 \t \n",
      "\n",
      "1 epoch without improvement\n",
      " 23%|██▎       | 13202/57400 [53:40<3:17:51,  3.72it/s]\n",
      "Epoch 24 \t Training loss: 1.9350553196481712 \t Validation loss: 1.9593092243550188 \t \n",
      " 24%|██▍       | 13776/57400 [56:04<2:56:51,  4.11it/s]\n",
      "Epoch 25 \t Training loss: 1.9351274753281464 \t Validation loss: 1.9725893857115406 \t \n",
      "\n",
      "1 epoch without improvement\n",
      " 25%|██▌       | 14350/57400 [58:29<2:23:14,  5.01it/s]\n",
      "Epoch 26 \t Training loss: 1.9311474501463595 \t Validation loss: 1.9676398483373352 \t \n",
      "\n",
      "2 epoch without improvement\n",
      " 26%|██▌       | 14924/57400 [1:00:53<2:51:05,  4.14it/s]\n",
      "Epoch 27 \t Training loss: 1.9306468903395357 \t Validation loss: 1.9678969100370245 \t \n",
      "\n",
      "3 epoch without improvement\n",
      " 27%|██▋       | 15498/57400 [1:03:17<2:55:40,  3.98it/s]\n",
      "Epoch 28 \t Training loss: 1.9307686815278455 \t Validation loss: 1.95878428725873 \t \n",
      " 28%|██▊       | 16072/57400 [1:05:41<2:50:43,  4.03it/s]\n",
      "Epoch 29 \t Training loss: 1.9292409162488133 \t Validation loss: 1.961893623158083 \t \n",
      "\n",
      "1 epoch without improvement\n",
      " 29%|██▉       | 16646/57400 [1:08:05<2:17:15,  4.95it/s]\n",
      "Epoch 30 \t Training loss: 1.9304413533792264 \t Validation loss: 1.962614744396533 \t \n",
      "\n",
      "2 epoch without improvement\n",
      " 30%|███       | 17220/57400 [1:10:29<2:55:04,  3.82it/s]\n",
      "Epoch 31 \t Training loss: 1.9285830871984102 \t Validation loss: 1.965387845443467 \t \n",
      "\n",
      "3 epoch without improvement\n",
      " 31%|███       | 17794/57400 [1:12:53<2:36:50,  4.21it/s]\n",
      "Epoch 32 \t Training loss: 1.9268569655534697 \t Validation loss: 1.9667594069141452 \t \n",
      "\n",
      "4 epoch without improvement\n",
      " 32%|███▏      | 18368/57400 [1:15:16<2:39:46,  4.07it/s]\n",
      "Epoch 33 \t Training loss: 1.9272102283683803 \t Validation loss: 1.9609802355200558 \t \n",
      "\n",
      "5 epoch without improvement\n",
      " 33%|███▎      | 18942/57400 [1:17:40<2:06:51,  5.05it/s]\n",
      "Epoch 34 \t Training loss: 1.9272163502015303 \t Validation loss: 1.9597097352399664 \t \n",
      "\n",
      "6 epoch without improvement\n",
      " 34%|███▍      | 19516/57400 [1:20:04<2:40:32,  3.93it/s]\n",
      "Epoch 35 \t Training loss: 1.9259766628933286 \t Validation loss: 1.9647589376417256 \t \n",
      "\n",
      "7 epoch without improvement\n",
      " 35%|███▌      | 20090/57400 [1:22:29<2:04:19,  5.00it/s]\n",
      "Epoch 36 \t Training loss: 1.9234772598701901 \t Validation loss: 1.9686761569168607 \t \n",
      "\n",
      "8 epoch without improvement\n",
      " 36%|███▌      | 20664/57400 [1:24:53<2:23:00,  4.28it/s]\n",
      "Epoch 37 \t Training loss: 1.9249764394261695 \t Validation loss: 1.9602841300479437 \t \n",
      "\n",
      "9 epoch without improvement\n",
      " 37%|███▋      | 21238/57400 [1:27:17<2:29:18,  4.04it/s]\n",
      "Epoch 38 \t Training loss: 1.922500358849037 \t Validation loss: 1.9657138606249276 \t \n",
      "\n",
      "10 epoch without improvement\n",
      "Validation_loss hasn't improve in 10 epoch. Stopping training after 38 epochs...\n"
     ]
    },
    {
     "data": {
      "image/png": "[encoded data removed]",
      "text/plain": [
       "<Figure size 640x480 with 1 Axes>"
      ]
     },
     "metadata": {},
     "output_type": "display_data"
    }
   ],
   "source": [
    "model = mt.MultiWithDependencies(model_conf,vocab).to(device)\n",
    "optimizer = AdamW(model.parameters(), lr=learning_rate,weight_decay=0.1)\n",
    "save_path='distilbert_multitask_relative_1'\n",
    "train.train_function_multi(model,num_epochs,dl_train,optimizer,early_stop = 10,dl_val = dl_val,save_path=save_path,es_threshold=0)"
   ]
  },
  {
   "cell_type": "code",
   "execution_count": 13,
   "metadata": {},
   "outputs": [
    {
     "name": "stderr",
     "output_type": "stream",
     "text": [
      "Some weights of the model checkpoint at distilbert-base-cased were not used when initializing DistilBertModel: ['vocab_projector.weight', 'vocab_projector.bias', 'vocab_layer_norm.bias', 'vocab_transform.weight', 'vocab_layer_norm.weight', 'vocab_transform.bias']\n",
      "- This IS expected if you are initializing DistilBertModel from the checkpoint of a model trained on another task or with another architecture (e.g. initializing a BertForSequenceClassification model from a BertForPreTraining model).\n",
      "- This IS NOT expected if you are initializing DistilBertModel from the checkpoint of a model that you expect to be exactly identical (initializing a BertForSequenceClassification model from a BertForSequenceClassification model).\n"
     ]
    },
    {
     "name": "stdout",
     "output_type": "stream",
     "text": [
      "Evaluación del modelo\n",
      "{'to': {'recall': 0.6616161616161617, 'precision': 0.6616161616161617, 'f1': 0.6616161616161617, 'accuracy': 0.6616161616161617}, 'as': {'recall': 0.7183833116036505, 'precision': 0.7183833116036505, 'f1': 0.7183833116036505, 'accuracy': 0.7183833116036505}, 'about': {'recall': 0.8176020408163265, 'precision': 0.8176020408163265, 'f1': 0.8176020408163265, 'accuracy': 0.8176020408163265}} \n",
      "\n",
      "Evaluación en etiquetas male\n",
      "{'to': {'recall': 0.7055961070559611, 'precision': 0.7055961070559611, 'f1': 0.7055961070559611, 'accuracy': 0.7055961070559611}, 'as': {'recall': 0.7045454545454546, 'precision': 0.7045454545454546, 'f1': 0.7045454545454546, 'accuracy': 0.7045454545454546}, 'about': {'recall': 0.8489583333333334, 'precision': 0.8489583333333334, 'f1': 0.8489583333333334, 'accuracy': 0.8489583333333334}} \n",
      "\n",
      "Evaluación en etiquetas female\n",
      "{'to': {'recall': 0.6141732283464567, 'precision': 0.6141732283464567, 'f1': 0.6141732283464567, 'accuracy': 0.6141732283464567}, 'as': {'recall': 0.7331536388140162, 'precision': 0.7331536388140162, 'f1': 0.7331536388140162, 'accuracy': 0.7331536388140162}, 'about': {'recall': 0.7875, 'precision': 0.7875, 'f1': 0.7875, 'accuracy': 0.7875}} \n",
      "\n"
     ]
    }
   ],
   "source": [
    "model = mt.MultiWithDependencies(model_conf,vocab).to(device)\n",
    "model.load_state_dict(torch.load(save_path))\n",
    "\n",
    "print(\"Evaluación del modelo\")\n",
    "result_global = train.eval_func_multi(model,dl_eval,tasks,gender=None)\n",
    "generic.update_global_metric_multi(result_global,global_metrics,mtype='global')\n",
    "print(result_global,'\\n')\n",
    "print(\"Evaluación en etiquetas male\")\n",
    "result_global = train.eval_func_multi(model,dl_eval,tasks,gender='male')\n",
    "generic.update_global_metric_multi(result_global,global_metrics,mtype='male')\n",
    "print(result_global,'\\n')\n",
    "print(\"Evaluación en etiquetas female\")\n",
    "result_global = train.eval_func_multi(model,dl_eval,tasks,gender='female')\n",
    "generic.update_global_metric_multi(result_global,global_metrics,mtype='female')\n",
    "print(result_global,'\\n')\n"
   ]
  },
  {
   "cell_type": "code",
   "execution_count": 14,
   "metadata": {},
   "outputs": [
    {
     "name": "stderr",
     "output_type": "stream",
     "text": [
      "Some weights of the model checkpoint at distilbert-base-cased were not used when initializing DistilBertModel: ['vocab_projector.weight', 'vocab_projector.bias', 'vocab_layer_norm.bias', 'vocab_transform.weight', 'vocab_layer_norm.weight', 'vocab_transform.bias']\n",
      "- This IS expected if you are initializing DistilBertModel from the checkpoint of a model trained on another task or with another architecture (e.g. initializing a BertForSequenceClassification model from a BertForPreTraining model).\n",
      "- This IS NOT expected if you are initializing DistilBertModel from the checkpoint of a model that you expect to be exactly identical (initializing a BertForSequenceClassification model from a BertForSequenceClassification model).\n"
     ]
    },
    {
     "data": {
      "application/vnd.jupyter.widget-view+json": {
       "model_id": "885919185e1a4fe5859bd381c8616ae1",
       "version_major": 2,
       "version_minor": 0
      },
      "text/plain": [
       "  0%|          | 0/57400 [00:00<?, ?it/s]"
      ]
     },
     "metadata": {},
     "output_type": "display_data"
    },
    {
     "name": "stdout",
     "output_type": "stream",
     "text": [
      "Epoch 1 \t Training loss: 2.0497228229087403 \t Validation loss: 2.004827131659298 \t \n",
      "  1%|          | 574/57400 [02:24<3:12:01,  4.93it/s]\n",
      "Epoch 2 \t Training loss: 1.9919504180602496 \t Validation loss: 1.9878936965586775 \t \n",
      "  2%|▏         | 1148/57400 [04:48<4:03:23,  3.85it/s]\n",
      "Epoch 3 \t Training loss: 1.9795050321971082 \t Validation loss: 1.9867200023036893 \t \n",
      "  3%|▎         | 1722/57400 [07:12<3:42:19,  4.17it/s]\n",
      "Epoch 4 \t Training loss: 1.9711408671186361 \t Validation loss: 1.9873042268268133 \t \n",
      "\n",
      "1 epoch without improvement\n",
      "  4%|▍         | 2296/57400 [09:36<3:40:40,  4.16it/s]\n",
      "Epoch 5 \t Training loss: 1.9681802230014203 \t Validation loss: 1.9769736669831357 \t \n",
      "  5%|▌         | 2870/57400 [12:00<3:40:30,  4.12it/s]\n",
      "Epoch 6 \t Training loss: 1.9675721266543824 \t Validation loss: 1.977502065189814 \t \n",
      "\n",
      "1 epoch without improvement\n",
      "  6%|▌         | 3444/57400 [14:24<3:37:15,  4.14it/s]\n",
      "Epoch 7 \t Training loss: 1.9619657945549862 \t Validation loss: 1.9890982559171773 \t \n",
      "\n",
      "2 epoch without improvement\n",
      "  7%|▋         | 4018/57400 [16:49<3:41:50,  4.01it/s]\n",
      "Epoch 8 \t Training loss: 1.9614379308364949 \t Validation loss: 1.974253791873738 \t \n",
      "  8%|▊         | 4592/57400 [19:13<3:28:35,  4.22it/s]\n",
      "Epoch 9 \t Training loss: 1.9545668035434098 \t Validation loss: 1.964509083052813 \t \n",
      "  9%|▉         | 5166/57400 [21:37<3:29:02,  4.16it/s]\n",
      "Epoch 10 \t Training loss: 1.9551485689674937 \t Validation loss: 1.9668860738560305 \t \n",
      "\n",
      "1 epoch without improvement\n",
      " 10%|█         | 5740/57400 [24:01<3:27:05,  4.16it/s]\n",
      "Epoch 11 \t Training loss: 1.9516290378487484 \t Validation loss: 1.9703723374059645 \t \n",
      "\n",
      "2 epoch without improvement\n",
      " 11%|█         | 6314/57400 [26:25<3:39:24,  3.88it/s]\n",
      "Epoch 12 \t Training loss: 1.9522736219994283 \t Validation loss: 1.967743451312437 \t \n",
      "\n",
      "3 epoch without improvement\n",
      " 12%|█▏        | 6888/57400 [28:48<3:37:05,  3.88it/s]\n",
      "Epoch 13 \t Training loss: 1.9499019880743391 \t Validation loss: 1.967665326797356 \t \n",
      "\n",
      "4 epoch without improvement\n",
      " 13%|█▎        | 7462/57400 [31:12<2:49:34,  4.91it/s]\n",
      "Epoch 14 \t Training loss: 1.948676329664237 \t Validation loss: 1.970938135001619 \t \n",
      "\n",
      "5 epoch without improvement\n",
      " 14%|█▍        | 8036/57400 [33:36<3:53:34,  3.52it/s]\n",
      "Epoch 15 \t Training loss: 1.9449596793394055 \t Validation loss: 1.9698807768902535 \t \n",
      "\n",
      "6 epoch without improvement\n",
      " 15%|█▌        | 8610/57400 [36:02<3:30:02,  3.87it/s]\n",
      "Epoch 16 \t Training loss: 1.943747372369733 \t Validation loss: 1.9621565341949463 \t \n",
      " 16%|█▌        | 9184/57400 [38:37<3:35:45,  3.72it/s]\n",
      "Epoch 17 \t Training loss: 1.944415843860613 \t Validation loss: 1.9673202785394959 \t \n",
      "\n",
      "1 epoch without improvement\n",
      " 17%|█▋        | 9758/57400 [41:12<3:32:17,  3.74it/s]\n",
      "Epoch 18 \t Training loss: 1.9418645413910471 \t Validation loss: 1.9735198202779738 \t \n",
      "\n",
      "2 epoch without improvement\n",
      " 18%|█▊        | 10332/57400 [43:47<3:32:27,  3.69it/s]\n",
      "Epoch 19 \t Training loss: 1.9398415497786492 \t Validation loss: 1.9691217167902801 \t \n",
      "\n",
      "3 epoch without improvement\n",
      " 19%|█▉        | 10906/57400 [46:22<3:28:35,  3.71it/s]\n",
      "Epoch 20 \t Training loss: 1.9407784573292484 \t Validation loss: 1.97663057052483 \t \n",
      "\n",
      "4 epoch without improvement\n",
      " 20%|██        | 11480/57400 [49:10<3:29:23,  3.66it/s]\n",
      "Epoch 21 \t Training loss: 1.9401021992287986 \t Validation loss: 1.9671996953123707 \t \n",
      "\n",
      "5 epoch without improvement\n",
      " 21%|██        | 12054/57400 [51:53<2:52:51,  4.37it/s]\n",
      "Epoch 22 \t Training loss: 1.9384235380418624 \t Validation loss: 1.966011839397883 \t \n",
      "\n",
      "6 epoch without improvement\n",
      " 22%|██▏       | 12628/57400 [54:37<2:48:55,  4.42it/s]\n",
      "Epoch 23 \t Training loss: 1.9350019446233424 \t Validation loss: 1.9668248912035409 \t \n",
      "\n",
      "7 epoch without improvement\n",
      " 23%|██▎       | 13202/57400 [57:20<2:37:15,  4.68it/s]\n",
      "Epoch 24 \t Training loss: 1.9340145884905957 \t Validation loss: 1.9620451785750308 \t \n",
      " 24%|██▍       | 13776/57400 [59:57<2:33:36,  4.73it/s]\n",
      "Epoch 25 \t Training loss: 1.935335165947572 \t Validation loss: 1.9612410230151678 \t \n",
      " 25%|██▌       | 14350/57400 [1:02:35<3:09:14,  3.79it/s]\n",
      "Epoch 26 \t Training loss: 1.9318624622730427 \t Validation loss: 1.9603197109901298 \t \n",
      " 26%|██▌       | 14924/57400 [1:05:13<3:11:18,  3.70it/s]\n",
      "Epoch 27 \t Training loss: 1.9313082506016988 \t Validation loss: 1.9646405749401803 \t \n",
      "\n",
      "1 epoch without improvement\n",
      " 27%|██▋       | 15498/57400 [1:07:51<3:09:57,  3.68it/s]\n",
      "Epoch 28 \t Training loss: 1.93417313580729 \t Validation loss: 1.9596688222076932 \t \n",
      " 28%|██▊       | 16072/57400 [1:10:29<3:12:03,  3.59it/s]\n",
      "Epoch 29 \t Training loss: 1.9313617464972705 \t Validation loss: 1.967131808652716 \t \n",
      "\n",
      "1 epoch without improvement\n",
      " 29%|██▉       | 16646/57400 [1:13:06<2:23:54,  4.72it/s]\n",
      "Epoch 30 \t Training loss: 1.9289611210391082 \t Validation loss: 1.9651713795581107 \t \n",
      "\n",
      "2 epoch without improvement\n",
      " 30%|███       | 17220/57400 [1:15:43<3:04:20,  3.63it/s]\n",
      "Epoch 31 \t Training loss: 1.927363894750017 \t Validation loss: 1.9627187009585105 \t \n",
      "\n",
      "3 epoch without improvement\n",
      " 31%|███       | 17794/57400 [1:18:20<2:51:34,  3.85it/s]\n",
      "Epoch 32 \t Training loss: 1.9274868659856843 \t Validation loss: 1.9673970614449452 \t \n",
      "\n",
      "4 epoch without improvement\n",
      " 32%|███▏      | 18368/57400 [1:20:58<3:06:54,  3.48it/s]\n",
      "Epoch 33 \t Training loss: 1.9271535950255312 \t Validation loss: 1.9612471915907779 \t \n",
      "\n",
      "5 epoch without improvement\n",
      " 33%|███▎      | 18942/57400 [1:23:35<2:56:59,  3.62it/s]\n",
      "Epoch 34 \t Training loss: 1.9239852785648786 \t Validation loss: 1.967451750221899 \t \n",
      "\n",
      "6 epoch without improvement\n",
      " 34%|███▍      | 19516/57400 [1:26:12<2:50:50,  3.70it/s]\n",
      "Epoch 35 \t Training loss: 1.9234839846032836 \t Validation loss: 1.9633309962385792 \t \n",
      "\n",
      "7 epoch without improvement\n",
      " 35%|███▌      | 20090/57400 [1:28:49<2:17:31,  4.52it/s]\n",
      "Epoch 36 \t Training loss: 1.9236974493967116 \t Validation loss: 1.9609794939978649 \t \n",
      "\n",
      "8 epoch without improvement\n",
      " 36%|███▌      | 20664/57400 [1:31:27<2:49:53,  3.60it/s]\n",
      "Epoch 37 \t Training loss: 1.9233311672243922 \t Validation loss: 1.9647500636213917 \t \n",
      "\n",
      "9 epoch without improvement\n",
      " 37%|███▋      | 21238/57400 [1:34:04<2:11:22,  4.59it/s]\n",
      "Epoch 38 \t Training loss: 1.920714165690884 \t Validation loss: 1.964359467312441 \t \n",
      "\n",
      "10 epoch without improvement\n",
      "Validation_loss hasn't improve in 10 epoch. Stopping training after 38 epochs...\n"
     ]
    },
    {
     "data": {
      "image/png": "[encoded data removed]",
      "text/plain": [
       "<Figure size 640x480 with 1 Axes>"
      ]
     },
     "metadata": {},
     "output_type": "display_data"
    }
   ],
   "source": [
    "model = mt.MultiWithDependencies(model_conf,vocab).to(device)\n",
    "optimizer = AdamW(model.parameters(), lr=learning_rate,weight_decay=0.1)\n",
    "save_path='distilbert_multitask_relative_2'\n",
    "train.train_function_multi(model,num_epochs,dl_train,optimizer,early_stop = 10,dl_val = dl_val,save_path=save_path,es_threshold=0)"
   ]
  },
  {
   "cell_type": "code",
   "execution_count": 15,
   "metadata": {},
   "outputs": [
    {
     "name": "stderr",
     "output_type": "stream",
     "text": [
      "Some weights of the model checkpoint at distilbert-base-cased were not used when initializing DistilBertModel: ['vocab_projector.weight', 'vocab_projector.bias', 'vocab_layer_norm.bias', 'vocab_transform.weight', 'vocab_layer_norm.weight', 'vocab_transform.bias']\n",
      "- This IS expected if you are initializing DistilBertModel from the checkpoint of a model trained on another task or with another architecture (e.g. initializing a BertForSequenceClassification model from a BertForPreTraining model).\n",
      "- This IS NOT expected if you are initializing DistilBertModel from the checkpoint of a model that you expect to be exactly identical (initializing a BertForSequenceClassification model from a BertForSequenceClassification model).\n"
     ]
    },
    {
     "name": "stdout",
     "output_type": "stream",
     "text": [
      "Evaluación del modelo\n",
      "{'to': {'recall': 0.6654040404040404, 'precision': 0.6654040404040404, 'f1': 0.6654040404040404, 'accuracy': 0.6654040404040404}, 'as': {'recall': 0.7170795306388527, 'precision': 0.7170795306388527, 'f1': 0.7170795306388528, 'accuracy': 0.7170795306388527}, 'about': {'recall': 0.8150510204081632, 'precision': 0.8150510204081632, 'f1': 0.8150510204081632, 'accuracy': 0.8150510204081632}} \n",
      "\n",
      "Evaluación en etiquetas male\n",
      "{'to': {'recall': 0.7055961070559611, 'precision': 0.7055961070559611, 'f1': 0.7055961070559611, 'accuracy': 0.7055961070559611}, 'as': {'recall': 0.7121212121212122, 'precision': 0.7121212121212122, 'f1': 0.7121212121212122, 'accuracy': 0.7121212121212122}, 'about': {'recall': 0.8333333333333334, 'precision': 0.8333333333333334, 'f1': 0.8333333333333334, 'accuracy': 0.8333333333333334}} \n",
      "\n",
      "Evaluación en etiquetas female\n",
      "{'to': {'recall': 0.6220472440944882, 'precision': 0.6220472440944882, 'f1': 0.6220472440944882, 'accuracy': 0.6220472440944882}, 'as': {'recall': 0.7223719676549866, 'precision': 0.7223719676549866, 'f1': 0.7223719676549866, 'accuracy': 0.7223719676549866}, 'about': {'recall': 0.7975, 'precision': 0.7975, 'f1': 0.7975, 'accuracy': 0.7975}} \n",
      "\n"
     ]
    }
   ],
   "source": [
    "model = mt.MultiWithDependencies(model_conf,vocab).to(device)\n",
    "model.load_state_dict(torch.load(save_path))\n",
    "\n",
    "print(\"Evaluación del modelo\")\n",
    "result_global = train.eval_func_multi(model,dl_eval,tasks,gender=None)\n",
    "generic.update_global_metric_multi(result_global,global_metrics,mtype='global')\n",
    "print(result_global,'\\n')\n",
    "print(\"Evaluación en etiquetas male\")\n",
    "result_global = train.eval_func_multi(model,dl_eval,tasks,gender='male')\n",
    "generic.update_global_metric_multi(result_global,global_metrics,mtype='male')\n",
    "print(result_global,'\\n')\n",
    "print(\"Evaluación en etiquetas female\")\n",
    "result_global = train.eval_func_multi(model,dl_eval,tasks,gender='female')\n",
    "generic.update_global_metric_multi(result_global,global_metrics,mtype='female')\n",
    "print(result_global,'\\n')\n"
   ]
  },
  {
   "cell_type": "code",
   "execution_count": 16,
   "metadata": {},
   "outputs": [
    {
     "name": "stderr",
     "output_type": "stream",
     "text": [
      "Some weights of the model checkpoint at distilbert-base-cased were not used when initializing DistilBertModel: ['vocab_projector.weight', 'vocab_projector.bias', 'vocab_layer_norm.bias', 'vocab_transform.weight', 'vocab_layer_norm.weight', 'vocab_transform.bias']\n",
      "- This IS expected if you are initializing DistilBertModel from the checkpoint of a model trained on another task or with another architecture (e.g. initializing a BertForSequenceClassification model from a BertForPreTraining model).\n",
      "- This IS NOT expected if you are initializing DistilBertModel from the checkpoint of a model that you expect to be exactly identical (initializing a BertForSequenceClassification model from a BertForSequenceClassification model).\n"
     ]
    },
    {
     "data": {
      "application/vnd.jupyter.widget-view+json": {
       "model_id": "39c9465c43a04b5b8f5b0e1869ddf032",
       "version_major": 2,
       "version_minor": 0
      },
      "text/plain": [
       "  0%|          | 0/57400 [00:00<?, ?it/s]"
      ]
     },
     "metadata": {},
     "output_type": "display_data"
    },
    {
     "name": "stdout",
     "output_type": "stream",
     "text": [
      "Epoch 1 \t Training loss: 2.0488126780513274 \t Validation loss: 2.009504591004323 \t \n",
      "  1%|          | 574/57400 [03:55<5:00:14,  3.15it/s]\n",
      "Epoch 2 \t Training loss: 1.9959723469687671 \t Validation loss: 1.9977201930547164 \t \n",
      "  2%|▏         | 1148/57400 [07:51<4:51:28,  3.22it/s]\n",
      "Epoch 3 \t Training loss: 1.9807251104079058 \t Validation loss: 1.9924322972863406 \t \n",
      "  3%|▎         | 1722/57400 [11:21<4:05:19,  3.78it/s]\n",
      "Epoch 4 \t Training loss: 1.9736283585584953 \t Validation loss: 1.9821277351702673 \t \n",
      "  4%|▍         | 2296/57400 [14:41<4:48:01,  3.19it/s]\n",
      "Epoch 5 \t Training loss: 1.971422458774952 \t Validation loss: 1.9884788909200894 \t \n",
      "\n",
      "1 epoch without improvement\n",
      "  5%|▌         | 2870/57400 [18:38<5:06:06,  2.97it/s]\n",
      "Epoch 6 \t Training loss: 1.9665316536451467 \t Validation loss: 1.9768451714919786 \t \n",
      "  6%|▌         | 3444/57400 [21:52<4:57:12,  3.03it/s]\n",
      "Epoch 7 \t Training loss: 1.962932446900145 \t Validation loss: 1.9743972834894212 \t \n",
      "  7%|▋         | 4018/57400 [25:19<4:57:26,  2.99it/s]\n",
      "Epoch 8 \t Training loss: 1.9595872429605146 \t Validation loss: 1.9759764449071076 \t \n",
      "\n",
      "1 epoch without improvement\n",
      "  8%|▊         | 4592/57400 [29:16<4:46:23,  3.07it/s]\n",
      "Epoch 9 \t Training loss: 1.9584210398720532 \t Validation loss: 1.9721751192868766 \t \n",
      "  9%|▉         | 5166/57400 [33:06<4:45:22,  3.05it/s]\n",
      "Epoch 10 \t Training loss: 1.956081963166958 \t Validation loss: 1.9735290337417086 \t \n",
      "\n",
      "1 epoch without improvement\n",
      " 10%|█         | 5740/57400 [36:18<4:59:40,  2.87it/s]\n",
      "Epoch 11 \t Training loss: 1.954812375718293 \t Validation loss: 1.9718796136015553 \t \n",
      " 11%|█         | 6314/57400 [39:57<5:29:19,  2.59it/s]\n",
      "Epoch 12 \t Training loss: 1.9536151890139961 \t Validation loss: 1.9703842381299552 \t \n",
      " 12%|█▏        | 6888/57400 [43:31<4:34:32,  3.07it/s]\n",
      "Epoch 13 \t Training loss: 1.9466978010400247 \t Validation loss: 1.973462080551406 \t \n",
      "\n",
      "1 epoch without improvement\n",
      " 13%|█▎        | 7462/57400 [46:44<4:50:12,  2.87it/s]\n",
      "Epoch 14 \t Training loss: 1.9467506408691406 \t Validation loss: 1.972190695293879 \t \n",
      "\n",
      "2 epoch without improvement\n",
      " 14%|█▍        | 8036/57400 [50:39<5:35:47,  2.45it/s]\n",
      "Epoch 15 \t Training loss: 1.9485534846990367 \t Validation loss: 1.9734932083194539 \t \n",
      "\n",
      "3 epoch without improvement\n",
      " 15%|█▌        | 8610/57400 [54:35<5:10:03,  2.62it/s]\n",
      "Epoch 16 \t Training loss: 1.9436360778293542 \t Validation loss: 1.975471625893803 \t \n",
      "\n",
      "4 epoch without improvement\n",
      " 16%|█▌        | 9184/57400 [58:01<4:42:50,  2.84it/s]\n",
      "Epoch 17 \t Training loss: 1.9438854626246862 \t Validation loss: 1.9731034121270907 \t \n",
      "\n",
      "5 epoch without improvement\n",
      " 17%|█▋        | 9758/57400 [1:01:22<4:11:29,  3.16it/s]\n",
      "Epoch 18 \t Training loss: 1.9422833425242727 \t Validation loss: 1.9707687507241458 \t \n",
      "\n",
      "6 epoch without improvement\n",
      " 18%|█▊        | 10332/57400 [1:05:17<4:48:45,  2.72it/s]\n",
      "Epoch 19 \t Training loss: 1.939146285896102 \t Validation loss: 1.9679665161391435 \t \n",
      " 19%|█▉        | 10906/57400 [1:08:29<3:24:11,  3.80it/s]\n",
      "Epoch 20 \t Training loss: 1.9369629899799201 \t Validation loss: 1.9712610406390692 \t \n",
      "\n",
      "1 epoch without improvement\n",
      " 20%|██        | 11480/57400 [1:12:05<4:00:00,  3.19it/s]\n",
      "Epoch 21 \t Training loss: 1.9383410805193804 \t Validation loss: 1.9686535920126964 \t \n",
      "\n",
      "2 epoch without improvement\n",
      " 21%|██        | 12054/57400 [1:16:01<3:56:10,  3.20it/s]\n",
      "Epoch 22 \t Training loss: 1.9380091349837671 \t Validation loss: 1.9663700552309973 \t \n",
      " 22%|██▏       | 12628/57400 [1:19:49<3:11:29,  3.90it/s]\n",
      "Epoch 23 \t Training loss: 1.9370311646095968 \t Validation loss: 1.956991120920343 \t \n",
      " 23%|██▎       | 13202/57400 [1:23:01<4:02:28,  3.04it/s]\n",
      "Epoch 24 \t Training loss: 1.9353067731608082 \t Validation loss: 1.9581310607619205 \t \n",
      "\n",
      "1 epoch without improvement\n",
      " 24%|██▍       | 13776/57400 [1:26:46<3:55:53,  3.08it/s]\n",
      "Epoch 25 \t Training loss: 1.9367353504958469 \t Validation loss: 1.9630319284180464 \t \n",
      "\n",
      "2 epoch without improvement\n",
      " 25%|██▌       | 14350/57400 [1:30:17<3:52:52,  3.08it/s]\n",
      "Epoch 26 \t Training loss: 1.9314349866910263 \t Validation loss: 1.966113385507616 \t \n",
      "\n",
      "3 epoch without improvement\n",
      " 26%|██▌       | 14924/57400 [1:33:35<3:44:45,  3.15it/s]\n",
      "Epoch 27 \t Training loss: 1.9329327754027337 \t Validation loss: 1.9593397985070438 \t \n",
      "\n",
      "4 epoch without improvement\n",
      " 27%|██▋       | 15498/57400 [1:37:30<3:49:06,  3.05it/s]\n",
      "Epoch 28 \t Training loss: 1.9321179894620117 \t Validation loss: 1.9639015945337586 \t \n",
      "\n",
      "5 epoch without improvement\n",
      " 28%|██▊       | 16072/57400 [1:41:27<4:24:44,  2.60it/s]\n",
      "Epoch 29 \t Training loss: 1.9304649829864502 \t Validation loss: 1.964842523558665 \t \n",
      "\n",
      "6 epoch without improvement\n",
      " 29%|██▉       | 16646/57400 [1:44:51<3:05:10,  3.67it/s]\n",
      "Epoch 30 \t Training loss: 1.9283325827910924 \t Validation loss: 1.9620364177024971 \t \n",
      "\n",
      "7 epoch without improvement\n",
      " 30%|███       | 17220/57400 [1:48:17<3:36:07,  3.10it/s]\n",
      "Epoch 31 \t Training loss: 1.9270826495067583 \t Validation loss: 1.9650484687190946 \t \n",
      "\n",
      "8 epoch without improvement\n",
      " 31%|███       | 17794/57400 [1:52:08<2:51:21,  3.85it/s]\n",
      "Epoch 32 \t Training loss: 1.9282772468357552 \t Validation loss: 1.960795022673526 \t \n",
      "\n",
      "9 epoch without improvement\n",
      " 32%|███▏      | 18368/57400 [1:55:20<3:53:57,  2.78it/s]\n",
      "Epoch 33 \t Training loss: 1.9246617474622427 \t Validation loss: 1.9618106656155343 \t \n",
      "\n",
      "10 epoch without improvement\n",
      "Validation_loss hasn't improve in 10 epoch. Stopping training after 33 epochs...\n"
     ]
    },
    {
     "data": {
      "image/png": "[encoded data removed]",
      "text/plain": [
       "<Figure size 640x480 with 1 Axes>"
      ]
     },
     "metadata": {},
     "output_type": "display_data"
    }
   ],
   "source": [
    "model = mt.MultiWithDependencies(model_conf,vocab).to(device)\n",
    "optimizer = AdamW(model.parameters(), lr=learning_rate,weight_decay=0.1)\n",
    "save_path='distilbert_multitask_relative_3'\n",
    "train.train_function_multi(model,num_epochs,dl_train,optimizer,early_stop = 10,dl_val = dl_val,save_path=save_path,es_threshold=0)"
   ]
  },
  {
   "cell_type": "code",
   "execution_count": 17,
   "metadata": {},
   "outputs": [
    {
     "name": "stderr",
     "output_type": "stream",
     "text": [
      "Some weights of the model checkpoint at distilbert-base-cased were not used when initializing DistilBertModel: ['vocab_projector.weight', 'vocab_projector.bias', 'vocab_layer_norm.bias', 'vocab_transform.weight', 'vocab_layer_norm.weight', 'vocab_transform.bias']\n",
      "- This IS expected if you are initializing DistilBertModel from the checkpoint of a model trained on another task or with another architecture (e.g. initializing a BertForSequenceClassification model from a BertForPreTraining model).\n",
      "- This IS NOT expected if you are initializing DistilBertModel from the checkpoint of a model that you expect to be exactly identical (initializing a BertForSequenceClassification model from a BertForSequenceClassification model).\n"
     ]
    },
    {
     "name": "stdout",
     "output_type": "stream",
     "text": [
      "Evaluación del modelo\n",
      "{'to': {'recall': 0.6628787878787878, 'precision': 0.6628787878787878, 'f1': 0.6628787878787878, 'accuracy': 0.6628787878787878}, 'as': {'recall': 0.7209908735332464, 'precision': 0.7209908735332464, 'f1': 0.7209908735332464, 'accuracy': 0.7209908735332464}, 'about': {'recall': 0.8303571428571429, 'precision': 0.8303571428571429, 'f1': 0.8303571428571429, 'accuracy': 0.8303571428571429}} \n",
      "\n",
      "Evaluación en etiquetas male\n",
      "{'to': {'recall': 0.6982968369829684, 'precision': 0.6982968369829684, 'f1': 0.6982968369829684, 'accuracy': 0.6982968369829684}, 'as': {'recall': 0.6994949494949495, 'precision': 0.6994949494949495, 'f1': 0.6994949494949495, 'accuracy': 0.6994949494949495}, 'about': {'recall': 0.8463541666666666, 'precision': 0.8463541666666666, 'f1': 0.8463541666666666, 'accuracy': 0.8463541666666666}} \n",
      "\n",
      "Evaluación en etiquetas female\n",
      "{'to': {'recall': 0.6246719160104987, 'precision': 0.6246719160104987, 'f1': 0.6246719160104987, 'accuracy': 0.6246719160104987}, 'as': {'recall': 0.7439353099730458, 'precision': 0.7439353099730458, 'f1': 0.7439353099730458, 'accuracy': 0.7439353099730458}, 'about': {'recall': 0.815, 'precision': 0.815, 'f1': 0.815, 'accuracy': 0.815}} \n",
      "\n"
     ]
    }
   ],
   "source": [
    "model = mt.MultiWithDependencies(model_conf,vocab).to(device)\n",
    "model.load_state_dict(torch.load(save_path))\n",
    "\n",
    "print(\"Evaluación del modelo\")\n",
    "result_global = train.eval_func_multi(model,dl_eval,tasks,gender=None)\n",
    "generic.update_global_metric_multi(result_global,global_metrics,mtype='global')\n",
    "print(result_global,'\\n')\n",
    "print(\"Evaluación en etiquetas male\")\n",
    "result_global = train.eval_func_multi(model,dl_eval,tasks,gender='male')\n",
    "generic.update_global_metric_multi(result_global,global_metrics,mtype='male')\n",
    "print(result_global,'\\n')\n",
    "print(\"Evaluación en etiquetas female\")\n",
    "result_global = train.eval_func_multi(model,dl_eval,tasks,gender='female')\n",
    "generic.update_global_metric_multi(result_global,global_metrics,mtype='female')\n",
    "print(result_global,'\\n')\n"
   ]
  },
  {
   "cell_type": "code",
   "execution_count": 18,
   "metadata": {},
   "outputs": [
    {
     "name": "stdout",
     "output_type": "stream",
     "text": [
      "Métricas globales: \n",
      "\n",
      "\n",
      " about\n",
      "Resultado global: {'recall': 0.8210034013605442, 'precision': 0.8210034013605442, 'f1': 0.8210034013605442, 'accuracy': 0.8210034013605442}\n",
      "Métricas etiqueta male: {'recall': 0.8428819444444444, 'precision': 0.8428819444444444, 'f1': 0.8428819444444444, 'accuracy': 0.8428819444444444}\n",
      "Métricas etiqueta female:  {'recall': 0.7999999999999999, 'precision': 0.7999999999999999, 'f1': 0.7999999999999999, 'accuracy': 0.7999999999999999}\n",
      "\n",
      " to\n",
      "Resultado global: {'recall': 0.6632996632996633, 'precision': 0.6632996632996633, 'f1': 0.6632996632996633, 'accuracy': 0.6632996632996633}\n",
      "Métricas etiqueta male: {'recall': 0.7031630170316302, 'precision': 0.7031630170316302, 'f1': 0.7031630170316302, 'accuracy': 0.7031630170316302}\n",
      "Métricas etiqueta female:  {'recall': 0.6202974628171478, 'precision': 0.6202974628171478, 'f1': 0.6202974628171478, 'accuracy': 0.6202974628171478}\n",
      "\n",
      " as\n",
      "Resultado global: {'recall': 0.7188179052585832, 'precision': 0.7188179052585832, 'f1': 0.7188179052585832, 'accuracy': 0.7188179052585832}\n",
      "Métricas etiqueta male: {'recall': 0.7053872053872055, 'precision': 0.7053872053872055, 'f1': 0.7053872053872055, 'accuracy': 0.7053872053872055}\n",
      "Métricas etiqueta female:  {'recall': 0.7331536388140162, 'precision': 0.7331536388140162, 'f1': 0.7331536388140162, 'accuracy': 0.7331536388140162}\n"
     ]
    }
   ],
   "source": [
    "\n",
    "print('Métricas globales: \\n')\n",
    "\n",
    "for task in ['about','to','as']:\n",
    "    print('\\n',task)\n",
    "    print('Resultado global:',{m:mean(values) for m,values in global_metrics[task]['global'].items()})\n",
    "    print(f'Métricas etiqueta male:',{m:mean(values) for m,values in global_metrics[task]['male'].items()})\n",
    "    print('Métricas etiqueta female: ',{m:mean(values) for m,values in global_metrics[task]['female'].items()})\n"
   ]
  }
 ],
 "metadata": {
  "kernelspec": {
   "display_name": "tfg",
   "language": "python",
   "name": "python3"
  },
  "language_info": {
   "codemirror_mode": {
    "name": "ipython",
    "version": 3
   },
   "file_extension": ".py",
   "mimetype": "text/x-python",
   "name": "python",
   "nbconvert_exporter": "python",
   "pygments_lexer": "ipython3",
   "version": "3.9.13"
  },
  "orig_nbformat": 4,
  "vscode": {
   "interpreter": {
    "hash": "35e8332e99bdf485583869dfbdef293dcf2f9293b1663ec5daea0a573af457c3"
   }
  }
 },
 "nbformat": 4,
 "nbformat_minor": 2
}
