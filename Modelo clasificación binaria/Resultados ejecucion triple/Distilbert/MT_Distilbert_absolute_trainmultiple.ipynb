{
 "cells": [
  {
   "cell_type": "code",
   "execution_count": 1,
   "metadata": {},
   "outputs": [],
   "source": [
    "import torch\n",
    "from torch.utils.data import DataLoader\n",
    "from torch.optim import AdamW\n",
    "\n",
    "from datasets import load_dataset, load_metric\n",
    "\n",
    "import matplotlib.pyplot as plt\n",
    "\n",
    "import json\n",
    "from statistics import mean\n"
   ]
  },
  {
   "cell_type": "code",
   "execution_count": 2,
   "metadata": {},
   "outputs": [],
   "source": [
    "import utils_generic as generic\n",
    "import multitask_dep as mt\n",
    "import model_confs as confs\n",
    "import train"
   ]
  },
  {
   "cell_type": "code",
   "execution_count": 3,
   "metadata": {},
   "outputs": [],
   "source": [
    "device = torch.device(\"cuda\") if torch.cuda.is_available() else torch.device(\"cpu\")\n",
    "tasks = ['to','as','about']"
   ]
  },
  {
   "cell_type": "code",
   "execution_count": 4,
   "metadata": {},
   "outputs": [],
   "source": [
    "model_conf = confs.distilbert_conf\n",
    "encoding_type = 'absolute'"
   ]
  },
  {
   "attachments": {},
   "cell_type": "markdown",
   "metadata": {},
   "source": [
    "# Datos ConvAI"
   ]
  },
  {
   "cell_type": "code",
   "execution_count": 5,
   "metadata": {},
   "outputs": [],
   "source": [
    "with open('Datasets\\ConvAI2\\convai2_complete.json','r') as f:\n",
    "    data = json.load(f)"
   ]
  },
  {
   "cell_type": "code",
   "execution_count": 6,
   "metadata": {},
   "outputs": [],
   "source": [
    "vocab = mt.Vocabulary(data['train'],encoding_type)\n",
    "\n",
    "convai_train = data['train']\n",
    "convai_val = data['validation']\n",
    "\n",
    "\n",
    "\n",
    "convai_train_token = generic.tokenize_dataset_with_dependencies(convai_train,['about','to','as'],vocab,model_conf) \n",
    "convai_val_token = generic.tokenize_dataset_with_dependencies(convai_val,['about','to','as'],vocab,model_conf) "
   ]
  },
  {
   "cell_type": "code",
   "execution_count": 7,
   "metadata": {},
   "outputs": [],
   "source": [
    "convai_train_dataset = mt.DatasetMultitaskDep(convai_train_token,tasks,eval=False)\n",
    "convai_val_dataset = mt.DatasetMultitaskDep(convai_val_token,tasks,eval=False)"
   ]
  },
  {
   "attachments": {},
   "cell_type": "markdown",
   "metadata": {},
   "source": [
    "# Datos md_gender"
   ]
  },
  {
   "cell_type": "code",
   "execution_count": 8,
   "metadata": {},
   "outputs": [],
   "source": [
    "with open('Datasets\\md_gender\\md_complete.json','r',encoding=\"utf8\") as f:\n",
    "    md_data = json.load(f)"
   ]
  },
  {
   "cell_type": "code",
   "execution_count": 9,
   "metadata": {},
   "outputs": [],
   "source": [
    "md_tokenized = generic.tokenize_dataset_with_dependencies(md_data,['about','to','as'],vocab,model_conf) \n",
    "md_dataset = mt.DatasetMultitaskDep(md_tokenized,tasks,eval=True)"
   ]
  },
  {
   "attachments": {},
   "cell_type": "markdown",
   "metadata": {},
   "source": [
    "# Creación dataloaders"
   ]
  },
  {
   "cell_type": "code",
   "execution_count": 10,
   "metadata": {},
   "outputs": [],
   "source": [
    "dl_train =DataLoader(convai_train_dataset,batch_size=128,shuffle=True,collate_fn=mt.collate_fn)\n",
    "dl_val =DataLoader(convai_val_dataset,batch_size=128,shuffle=True,collate_fn=mt.collate_fn)\n",
    "dl_eval = DataLoader(md_dataset,batch_size=128,shuffle=False,collate_fn=mt.collate_fn)"
   ]
  },
  {
   "attachments": {},
   "cell_type": "markdown",
   "metadata": {},
   "source": [
    "# Modelo multitask"
   ]
  },
  {
   "cell_type": "code",
   "execution_count": 11,
   "metadata": {},
   "outputs": [],
   "source": [
    "num_epochs = 100\n",
    "learning_rate = 1e-6\n",
    "\n",
    "global_metrics = {'about':{'global':{'recall': [], 'precision': [],'f1': [], 'accuracy': []},\n",
    "                            'male':{'recall': [], 'precision': [],'f1': [], 'accuracy': []},\n",
    "                            'female':{'recall': [], 'precision': [],'f1': [], 'accuracy': []}},\n",
    "                    'as':{'global':{'recall': [], 'precision': [],'f1': [], 'accuracy': []},\n",
    "                            'male':{'recall': [], 'precision': [],'f1': [], 'accuracy': []},\n",
    "                            'female':{'recall': [], 'precision': [],'f1': [], 'accuracy': []}},\n",
    "                    'to':{'global':{'recall': [], 'precision': [],'f1': [], 'accuracy': []},\n",
    "                            'male':{'recall': [], 'precision': [],'f1': [], 'accuracy': []},\n",
    "                            'female':{'recall': [], 'precision': [],'f1': [], 'accuracy': []}}}"
   ]
  },
  {
   "cell_type": "code",
   "execution_count": 12,
   "metadata": {},
   "outputs": [
    {
     "name": "stderr",
     "output_type": "stream",
     "text": [
      "Some weights of the model checkpoint at distilbert-base-cased were not used when initializing DistilBertModel: ['vocab_layer_norm.weight', 'vocab_projector.weight', 'vocab_layer_norm.bias', 'vocab_projector.bias', 'vocab_transform.weight', 'vocab_transform.bias']\n",
      "- This IS expected if you are initializing DistilBertModel from the checkpoint of a model trained on another task or with another architecture (e.g. initializing a BertForSequenceClassification model from a BertForPreTraining model).\n",
      "- This IS NOT expected if you are initializing DistilBertModel from the checkpoint of a model that you expect to be exactly identical (initializing a BertForSequenceClassification model from a BertForSequenceClassification model).\n"
     ]
    },
    {
     "data": {
      "application/vnd.jupyter.widget-view+json": {
       "model_id": "dc56af2001fd4740aa16e0023a186d1f",
       "version_major": 2,
       "version_minor": 0
      },
      "text/plain": [
       "  0%|          | 0/57400 [00:00<?, ?it/s]"
      ]
     },
     "metadata": {},
     "output_type": "display_data"
    },
    {
     "name": "stdout",
     "output_type": "stream",
     "text": [
      "Epoch 1 \t Training loss: 2.0527070343286735 \t Validation loss: 2.0130698761697543 \t \n",
      "  1%|          | 574/57400 [02:56<4:57:52,  3.18it/s]\n",
      "Epoch 2 \t Training loss: 1.9987519605649888 \t Validation loss: 1.9982628155562838 \t \n",
      "  2%|▏         | 1148/57400 [06:01<4:00:19,  3.90it/s]\n",
      "Epoch 3 \t Training loss: 1.9861068754661373 \t Validation loss: 1.9907544831098136 \t \n",
      "  3%|▎         | 1722/57400 [09:04<4:39:39,  3.32it/s]\n",
      "Epoch 4 \t Training loss: 1.9769905381917123 \t Validation loss: 1.9829049009387776 \t \n",
      "  4%|▍         | 2296/57400 [12:30<4:31:32,  3.38it/s]\n",
      "Epoch 5 \t Training loss: 1.9708774141733654 \t Validation loss: 1.9842640585818534 \t \n",
      "\n",
      "1 epoch without improvement\n",
      "  5%|▌         | 2870/57400 [16:06<4:16:05,  3.55it/s]\n",
      "Epoch 6 \t Training loss: 1.965905956482638 \t Validation loss: 1.9725116390292927 \t \n",
      "  6%|▌         | 3444/57400 [19:10<4:33:31,  3.29it/s]\n",
      "Epoch 7 \t Training loss: 1.9658099541680738 \t Validation loss: 1.9753637798761918 \t \n",
      "\n",
      "1 epoch without improvement\n",
      "  7%|▋         | 4018/57400 [22:14<3:42:20,  4.00it/s]\n",
      "Epoch 8 \t Training loss: 1.9596391650442462 \t Validation loss: 1.9681188555087072 \t \n",
      "  8%|▊         | 4592/57400 [25:17<4:35:54,  3.19it/s]\n",
      "Epoch 9 \t Training loss: 1.9596284044328882 \t Validation loss: 1.9713488999059645 \t \n",
      "\n",
      "1 epoch without improvement\n",
      "  9%|▉         | 5166/57400 [28:20<4:36:08,  3.15it/s]\n",
      "Epoch 10 \t Training loss: 1.956144598925986 \t Validation loss: 1.9735698800975994 \t \n",
      "\n",
      "2 epoch without improvement\n",
      " 10%|█         | 5740/57400 [31:24<4:34:18,  3.14it/s]\n",
      "Epoch 11 \t Training loss: 1.9519320479253444 \t Validation loss: 1.9772178985304751 \t \n",
      "\n",
      "3 epoch without improvement\n",
      " 11%|█         | 6314/57400 [34:40<4:37:20,  3.07it/s]\n",
      "Epoch 12 \t Training loss: 1.9538679461445958 \t Validation loss: 1.9783418724092388 \t \n",
      "\n",
      "4 epoch without improvement\n",
      " 12%|█▏        | 6888/57400 [38:28<5:20:14,  2.63it/s]\n",
      "Epoch 13 \t Training loss: 1.9506015976962312 \t Validation loss: 1.9734459327439131 \t \n",
      "\n",
      "5 epoch without improvement\n",
      " 13%|█▎        | 7462/57400 [41:30<3:40:51,  3.77it/s]\n",
      "Epoch 14 \t Training loss: 1.9487646519099378 \t Validation loss: 1.972707566568407 \t \n",
      "\n",
      "6 epoch without improvement\n",
      " 14%|█▍        | 8036/57400 [44:34<4:19:13,  3.17it/s]\n",
      "Epoch 15 \t Training loss: 1.9483059729848589 \t Validation loss: 1.9661215867026378 \t \n",
      " 15%|█▌        | 8610/57400 [47:38<3:25:01,  3.97it/s]\n",
      "Epoch 16 \t Training loss: 1.9447194514374284 \t Validation loss: 1.969468056145361 \t \n",
      "\n",
      "1 epoch without improvement\n",
      " 16%|█▌        | 9184/57400 [50:42<4:07:13,  3.25it/s]\n",
      "Epoch 17 \t Training loss: 1.946850322472509 \t Validation loss: 1.973399673478078 \t \n",
      "\n",
      "2 epoch without improvement\n",
      " 17%|█▋        | 9758/57400 [53:45<4:07:49,  3.20it/s]\n",
      "Epoch 18 \t Training loss: 1.9436754459703425 \t Validation loss: 1.9649026313070523 \t \n",
      " 18%|█▊        | 10332/57400 [56:49<4:15:05,  3.08it/s]\n",
      "Epoch 19 \t Training loss: 1.9415980174566396 \t Validation loss: 1.9704624535673756 \t \n",
      "\n",
      "1 epoch without improvement\n",
      " 19%|█▉        | 10906/57400 [1:00:34<5:12:07,  2.48it/s]\n",
      "Epoch 20 \t Training loss: 1.9436680228037286 \t Validation loss: 1.959634435378899 \t \n",
      " 20%|██        | 11480/57400 [1:03:48<4:03:13,  3.15it/s]\n",
      "Epoch 21 \t Training loss: 1.9402994754422418 \t Validation loss: 1.9690563274642168 \t \n",
      "\n",
      "1 epoch without improvement\n",
      " 21%|██        | 12054/57400 [1:06:52<3:46:09,  3.34it/s]\n",
      "Epoch 22 \t Training loss: 1.9380559067692906 \t Validation loss: 1.9696995262372292 \t \n",
      "\n",
      "2 epoch without improvement\n",
      " 22%|██▏       | 12628/57400 [1:09:56<3:10:01,  3.93it/s]\n",
      "Epoch 23 \t Training loss: 1.9371826077587513 \t Validation loss: 1.961179256439209 \t \n",
      "\n",
      "3 epoch without improvement\n",
      " 23%|██▎       | 13202/57400 [1:13:00<3:04:16,  4.00it/s]\n",
      "Epoch 24 \t Training loss: 1.9378747325325676 \t Validation loss: 1.9651665424896498 \t \n",
      "\n",
      "4 epoch without improvement\n",
      " 24%|██▍       | 13776/57400 [1:16:04<3:35:49,  3.37it/s]\n",
      "Epoch 25 \t Training loss: 1.9354168646011618 \t Validation loss: 1.9670951507859311 \t \n",
      "\n",
      "5 epoch without improvement\n",
      " 25%|██▌       | 14350/57400 [1:19:07<3:08:00,  3.82it/s]\n",
      "Epoch 26 \t Training loss: 1.9346094607060795 \t Validation loss: 1.9658618842141102 \t \n",
      "\n",
      "6 epoch without improvement\n",
      " 26%|██▌       | 14924/57400 [1:22:38<3:46:41,  3.12it/s]\n",
      "Epoch 27 \t Training loss: 1.9341280109375611 \t Validation loss: 1.970946677660538 \t \n",
      "\n",
      "7 epoch without improvement\n",
      " 27%|██▋       | 15498/57400 [1:26:08<3:38:07,  3.20it/s]\n",
      "Epoch 28 \t Training loss: 1.934251956615714 \t Validation loss: 1.9557807162656622 \t \n",
      " 28%|██▊       | 16072/57400 [1:29:11<2:48:26,  4.09it/s]\n",
      "Epoch 29 \t Training loss: 1.932997129104694 \t Validation loss: 1.9671477160211337 \t \n",
      "\n",
      "1 epoch without improvement\n",
      " 29%|██▉       | 16646/57400 [1:32:21<3:32:30,  3.20it/s]\n",
      "Epoch 30 \t Training loss: 1.9301674773053425 \t Validation loss: 1.9614766250222415 \t \n",
      "\n",
      "2 epoch without improvement\n",
      " 30%|███       | 17220/57400 [1:35:34<3:39:02,  3.06it/s]\n",
      "Epoch 31 \t Training loss: 1.9290967847412057 \t Validation loss: 1.9605841171943534 \t \n",
      "\n",
      "3 epoch without improvement\n",
      " 31%|███       | 17794/57400 [1:38:48<3:40:18,  3.00it/s]\n",
      "Epoch 32 \t Training loss: 1.9296235033028633 \t Validation loss: 1.9731073076442136 \t \n",
      "\n",
      "4 epoch without improvement\n",
      " 32%|███▏      | 18368/57400 [1:42:01<3:37:13,  2.99it/s]\n",
      "Epoch 33 \t Training loss: 1.9275835758717634 \t Validation loss: 1.962982145406432 \t \n",
      "\n",
      "5 epoch without improvement\n",
      " 33%|███▎      | 18942/57400 [1:45:42<3:48:16,  2.81it/s]\n",
      "Epoch 34 \t Training loss: 1.9257969542662856 \t Validation loss: 1.9667128748812919 \t \n",
      "\n",
      "6 epoch without improvement\n",
      " 34%|███▍      | 19516/57400 [1:49:27<3:33:30,  2.96it/s]\n",
      "Epoch 35 \t Training loss: 1.9265190059715032 \t Validation loss: 1.9594048867791385 \t \n",
      "\n",
      "7 epoch without improvement\n",
      " 35%|███▌      | 20090/57400 [1:52:38<3:25:49,  3.02it/s]\n",
      "Epoch 36 \t Training loss: 1.9244605097205796 \t Validation loss: 1.9639505127728996 \t \n",
      "\n",
      "8 epoch without improvement\n",
      " 36%|███▌      | 20664/57400 [1:55:41<2:30:52,  4.06it/s]\n",
      "Epoch 37 \t Training loss: 1.925244669465653 \t Validation loss: 1.9563698910050473 \t \n",
      "\n",
      "9 epoch without improvement\n",
      " 37%|███▋      | 21238/57400 [1:58:44<3:05:28,  3.25it/s]\n",
      "Epoch 38 \t Training loss: 1.920823603556962 \t Validation loss: 1.9566038058975996 \t \n",
      "\n",
      "10 epoch without improvement\n",
      "Validation_loss hasn't improve in 10 epoch. Stopping training after 38 epochs...\n"
     ]
    },
    {
     "data": {
      "image/png": "[encoded data removed]",
      "text/plain": [
       "<Figure size 640x480 with 1 Axes>"
      ]
     },
     "metadata": {},
     "output_type": "display_data"
    }
   ],
   "source": [
    "model = mt.MultiWithDependencies(model_conf,vocab).to(device)\n",
    "optimizer = AdamW(model.parameters(), lr=learning_rate,weight_decay=0.1)\n",
    "save_path='distilbert_multitask_absolute_1'\n",
    "train.train_function_multi(model,num_epochs,dl_train,optimizer,early_stop = 10,dl_val = dl_val,save_path=save_path,es_threshold=0)"
   ]
  },
  {
   "cell_type": "code",
   "execution_count": 13,
   "metadata": {},
   "outputs": [
    {
     "name": "stderr",
     "output_type": "stream",
     "text": [
      "Some weights of the model checkpoint at distilbert-base-cased were not used when initializing DistilBertModel: ['vocab_layer_norm.weight', 'vocab_projector.weight', 'vocab_layer_norm.bias', 'vocab_projector.bias', 'vocab_transform.weight', 'vocab_transform.bias']\n",
      "- This IS expected if you are initializing DistilBertModel from the checkpoint of a model trained on another task or with another architecture (e.g. initializing a BertForSequenceClassification model from a BertForPreTraining model).\n",
      "- This IS NOT expected if you are initializing DistilBertModel from the checkpoint of a model that you expect to be exactly identical (initializing a BertForSequenceClassification model from a BertForSequenceClassification model).\n"
     ]
    },
    {
     "name": "stdout",
     "output_type": "stream",
     "text": [
      "Evaluación del modelo\n",
      "{'to': {'recall': 0.6578282828282829, 'precision': 0.6578282828282829, 'f1': 0.6578282828282829, 'accuracy': 0.6578282828282829}, 'as': {'recall': 0.7222946544980443, 'precision': 0.7222946544980443, 'f1': 0.7222946544980443, 'accuracy': 0.7222946544980443}, 'about': {'recall': 0.826530612244898, 'precision': 0.826530612244898, 'f1': 0.826530612244898, 'accuracy': 0.826530612244898}} \n",
      "\n",
      "Evaluación en etiquetas male\n",
      "{'to': {'recall': 0.7055961070559611, 'precision': 0.7055961070559611, 'f1': 0.7055961070559611, 'accuracy': 0.7055961070559611}, 'as': {'recall': 0.7196969696969697, 'precision': 0.7196969696969697, 'f1': 0.7196969696969698, 'accuracy': 0.7196969696969697}, 'about': {'recall': 0.8385416666666666, 'precision': 0.8385416666666666, 'f1': 0.8385416666666666, 'accuracy': 0.8385416666666666}} \n",
      "\n",
      "Evaluación en etiquetas female\n",
      "{'to': {'recall': 0.6062992125984252, 'precision': 0.6062992125984252, 'f1': 0.6062992125984252, 'accuracy': 0.6062992125984252}, 'as': {'recall': 0.7250673854447439, 'precision': 0.7250673854447439, 'f1': 0.725067385444744, 'accuracy': 0.7250673854447439}, 'about': {'recall': 0.815, 'precision': 0.815, 'f1': 0.815, 'accuracy': 0.815}} \n",
      "\n"
     ]
    }
   ],
   "source": [
    "model = mt.MultiWithDependencies(model_conf,vocab).to(device)\n",
    "model.load_state_dict(torch.load(save_path))\n",
    "\n",
    "print(\"Evaluación del modelo\")\n",
    "result_global = train.eval_func_multi(model,dl_eval,tasks,gender=None)\n",
    "generic.update_global_metric_multi(result_global,global_metrics,mtype='global')\n",
    "print(result_global,'\\n')\n",
    "print(\"Evaluación en etiquetas male\")\n",
    "result_global = train.eval_func_multi(model,dl_eval,tasks,gender='male')\n",
    "generic.update_global_metric_multi(result_global,global_metrics,mtype='male')\n",
    "print(result_global,'\\n')\n",
    "print(\"Evaluación en etiquetas female\")\n",
    "result_global = train.eval_func_multi(model,dl_eval,tasks,gender='female')\n",
    "generic.update_global_metric_multi(result_global,global_metrics,mtype='female')\n",
    "print(result_global,'\\n')\n"
   ]
  },
  {
   "cell_type": "code",
   "execution_count": 14,
   "metadata": {},
   "outputs": [
    {
     "name": "stderr",
     "output_type": "stream",
     "text": [
      "Some weights of the model checkpoint at distilbert-base-cased were not used when initializing DistilBertModel: ['vocab_layer_norm.weight', 'vocab_projector.weight', 'vocab_layer_norm.bias', 'vocab_projector.bias', 'vocab_transform.weight', 'vocab_transform.bias']\n",
      "- This IS expected if you are initializing DistilBertModel from the checkpoint of a model trained on another task or with another architecture (e.g. initializing a BertForSequenceClassification model from a BertForPreTraining model).\n",
      "- This IS NOT expected if you are initializing DistilBertModel from the checkpoint of a model that you expect to be exactly identical (initializing a BertForSequenceClassification model from a BertForSequenceClassification model).\n"
     ]
    },
    {
     "data": {
      "application/vnd.jupyter.widget-view+json": {
       "model_id": "785902d603294e04bbf802515d0fe1d2",
       "version_major": 2,
       "version_minor": 0
      },
      "text/plain": [
       "  0%|          | 0/57400 [00:00<?, ?it/s]"
      ]
     },
     "metadata": {},
     "output_type": "display_data"
    },
    {
     "name": "stdout",
     "output_type": "stream",
     "text": [
      "Epoch 1 \t Training loss: 2.0529939634043997 \t Validation loss: 2.018875473636692 \t \n",
      "  1%|          | 574/57400 [03:04<4:51:21,  3.25it/s]\n",
      "Epoch 2 \t Training loss: 1.9947276028191172 \t Validation loss: 1.9974591812845004 \t \n",
      "  2%|▏         | 1148/57400 [06:37<5:01:28,  3.11it/s]\n",
      "Epoch 3 \t Training loss: 1.978673772321761 \t Validation loss: 1.9850857096203303 \t \n",
      "  3%|▎         | 1722/57400 [10:12<4:50:23,  3.20it/s]\n",
      "Epoch 4 \t Training loss: 1.9718582133798235 \t Validation loss: 1.9771485874208354 \t \n",
      "  4%|▍         | 2296/57400 [13:19<4:46:30,  3.21it/s]\n",
      "Epoch 5 \t Training loss: 1.9675400664166707 \t Validation loss: 1.9796689425484608 \t \n",
      "\n",
      "1 epoch without improvement\n",
      "  5%|▌         | 2870/57400 [16:27<4:57:01,  3.06it/s]\n",
      "Epoch 6 \t Training loss: 1.9643857952609711 \t Validation loss: 1.970078310724032 \t \n",
      "  6%|▌         | 3444/57400 [19:34<4:36:08,  3.26it/s]\n",
      "Epoch 7 \t Training loss: 1.961480143385897 \t Validation loss: 1.978801573737193 \t \n",
      "\n",
      "1 epoch without improvement\n",
      "  7%|▋         | 4018/57400 [22:41<3:45:58,  3.94it/s]\n",
      "Epoch 8 \t Training loss: 1.960555824876247 \t Validation loss: 1.9798200554766898 \t \n",
      "\n",
      "2 epoch without improvement\n",
      "  8%|▊         | 4592/57400 [25:47<3:54:20,  3.76it/s]\n",
      "Epoch 9 \t Training loss: 1.957309905037232 \t Validation loss: 1.9706652851428015 \t \n",
      "\n",
      "3 epoch without improvement\n",
      "  9%|▉         | 5166/57400 [29:11<4:27:13,  3.26it/s]\n",
      "Epoch 10 \t Training loss: 1.9566203993371971 \t Validation loss: 1.9795348886716164 \t \n",
      "\n",
      "4 epoch without improvement\n",
      " 10%|█         | 5740/57400 [32:52<4:29:52,  3.19it/s]\n",
      "Epoch 11 \t Training loss: 1.950088507414695 \t Validation loss: 1.966251086380522 \t \n",
      " 11%|█         | 6314/57400 [36:00<4:42:45,  3.01it/s]\n",
      "Epoch 12 \t Training loss: 1.9512199092825115 \t Validation loss: 1.9652881117190344 \t \n",
      " 12%|█▏        | 6888/57400 [39:06<4:23:04,  3.20it/s]\n",
      "Epoch 13 \t Training loss: 1.9495950604980417 \t Validation loss: 1.9723992064847784 \t \n",
      "\n",
      "1 epoch without improvement\n",
      " 13%|█▎        | 7462/57400 [42:13<4:19:59,  3.20it/s]\n",
      "Epoch 14 \t Training loss: 1.9466254364322702 \t Validation loss: 1.9686693337004064 \t \n",
      "\n",
      "2 epoch without improvement\n",
      " 14%|█▍        | 8036/57400 [45:20<4:27:18,  3.08it/s]\n",
      "Epoch 15 \t Training loss: 1.946884941140949 \t Validation loss: 1.9648432145684451 \t \n",
      " 15%|█▌        | 8610/57400 [48:26<5:33:04,  2.44it/s]\n",
      "Epoch 16 \t Training loss: 1.9444333217285237 \t Validation loss: 1.9591607542361242 \t \n",
      " 16%|█▌        | 9184/57400 [51:55<4:27:56,  3.00it/s]\n",
      "Epoch 17 \t Training loss: 1.9430229526778962 \t Validation loss: 1.963788111331099 \t \n",
      "\n",
      "1 epoch without improvement\n",
      " 17%|█▋        | 9758/57400 [55:39<4:11:43,  3.15it/s]\n",
      "Epoch 18 \t Training loss: 1.9431266425378646 \t Validation loss: 1.967869002940291 \t \n",
      "\n",
      "2 epoch without improvement\n",
      " 18%|█▊        | 10332/57400 [58:45<4:23:18,  2.98it/s]\n",
      "Epoch 19 \t Training loss: 1.9387125050980039 \t Validation loss: 1.9647169234388966 \t \n",
      "\n",
      "3 epoch without improvement\n",
      " 19%|█▉        | 10906/57400 [1:01:52<4:20:16,  2.98it/s]\n",
      "Epoch 20 \t Training loss: 1.9374962386769286 \t Validation loss: 1.963569962372214 \t \n",
      "\n",
      "4 epoch without improvement\n",
      " 20%|██        | 11480/57400 [1:04:59<4:09:49,  3.06it/s]\n",
      "Epoch 21 \t Training loss: 1.9361810353990216 \t Validation loss: 1.9556811946933552 \t \n",
      " 21%|██        | 12054/57400 [1:08:05<4:10:37,  3.02it/s]\n",
      "Epoch 22 \t Training loss: 1.9354314471786447 \t Validation loss: 1.9649566876686226 \t \n",
      "\n",
      "1 epoch without improvement\n",
      " 22%|██▏       | 12628/57400 [1:11:12<3:58:45,  3.13it/s]\n",
      "Epoch 23 \t Training loss: 1.9343502378214528 \t Validation loss: 1.9739476907051217 \t \n",
      "\n",
      "2 epoch without improvement\n",
      " 23%|██▎       | 13202/57400 [1:14:38<4:59:51,  2.46it/s]\n",
      "Epoch 24 \t Training loss: 1.9344208041134612 \t Validation loss: 1.9621886419037642 \t \n",
      "\n",
      "3 epoch without improvement\n",
      " 24%|██▍       | 13776/57400 [1:18:23<4:04:57,  2.97it/s]\n",
      "Epoch 25 \t Training loss: 1.9330650308406312 \t Validation loss: 1.979928839004646 \t \n",
      "\n",
      "4 epoch without improvement\n",
      " 25%|██▌       | 14350/57400 [1:21:31<3:10:14,  3.77it/s]\n",
      "Epoch 26 \t Training loss: 1.9330299492497063 \t Validation loss: 1.9657347444760598 \t \n",
      "\n",
      "5 epoch without improvement\n",
      " 26%|██▌       | 14924/57400 [1:24:41<4:03:46,  2.90it/s]\n",
      "Epoch 27 \t Training loss: 1.9315077456863083 \t Validation loss: 1.968287692231647 \t \n",
      "\n",
      "6 epoch without improvement\n",
      " 27%|██▋       | 15498/57400 [1:27:50<3:50:40,  3.03it/s]\n",
      "Epoch 28 \t Training loss: 1.9312751735544371 \t Validation loss: 1.9671794357946364 \t \n",
      "\n",
      "7 epoch without improvement\n",
      " 28%|██▊       | 16072/57400 [1:30:57<3:37:18,  3.17it/s]\n",
      "Epoch 29 \t Training loss: 1.9306007181310487 \t Validation loss: 1.9662821050417625 \t \n",
      "\n",
      "8 epoch without improvement\n",
      " 29%|██▉       | 16646/57400 [1:34:03<3:40:49,  3.08it/s]\n",
      "Epoch 30 \t Training loss: 1.9301048450769032 \t Validation loss: 1.9639426954722001 \t \n",
      "\n",
      "9 epoch without improvement\n",
      " 30%|███       | 17220/57400 [1:37:32<4:41:48,  2.38it/s]\n",
      "Epoch 31 \t Training loss: 1.9297216065253946 \t Validation loss: 1.964508355674097 \t \n",
      "\n",
      "10 epoch without improvement\n",
      "Validation_loss hasn't improve in 10 epoch. Stopping training after 31 epochs...\n"
     ]
    },
    {
     "data": {
      "image/png": "[encoded data removed]",
      "text/plain": [
       "<Figure size 640x480 with 1 Axes>"
      ]
     },
     "metadata": {},
     "output_type": "display_data"
    }
   ],
   "source": [
    "model = mt.MultiWithDependencies(model_conf,vocab).to(device)\n",
    "optimizer = AdamW(model.parameters(), lr=learning_rate,weight_decay=0.1)\n",
    "save_path='distilbert_multitask_absolute_2'\n",
    "train.train_function_multi(model,num_epochs,dl_train,optimizer,early_stop = 10,dl_val = dl_val,save_path=save_path,es_threshold=0)"
   ]
  },
  {
   "cell_type": "code",
   "execution_count": 15,
   "metadata": {},
   "outputs": [
    {
     "name": "stderr",
     "output_type": "stream",
     "text": [
      "Some weights of the model checkpoint at distilbert-base-cased were not used when initializing DistilBertModel: ['vocab_layer_norm.weight', 'vocab_projector.weight', 'vocab_layer_norm.bias', 'vocab_projector.bias', 'vocab_transform.weight', 'vocab_transform.bias']\n",
      "- This IS expected if you are initializing DistilBertModel from the checkpoint of a model trained on another task or with another architecture (e.g. initializing a BertForSequenceClassification model from a BertForPreTraining model).\n",
      "- This IS NOT expected if you are initializing DistilBertModel from the checkpoint of a model that you expect to be exactly identical (initializing a BertForSequenceClassification model from a BertForSequenceClassification model).\n"
     ]
    },
    {
     "name": "stdout",
     "output_type": "stream",
     "text": [
      "Evaluación del modelo\n",
      "{'to': {'recall': 0.6590909090909091, 'precision': 0.6590909090909091, 'f1': 0.6590909090909091, 'accuracy': 0.6590909090909091}, 'as': {'recall': 0.7105606258148631, 'precision': 0.7105606258148631, 'f1': 0.710560625814863, 'accuracy': 0.7105606258148631}, 'about': {'recall': 0.8176020408163265, 'precision': 0.8176020408163265, 'f1': 0.8176020408163265, 'accuracy': 0.8176020408163265}} \n",
      "\n",
      "Evaluación en etiquetas male\n",
      "{'to': {'recall': 0.6763990267639902, 'precision': 0.6763990267639902, 'f1': 0.6763990267639902, 'accuracy': 0.6763990267639902}, 'as': {'recall': 0.6893939393939394, 'precision': 0.6893939393939394, 'f1': 0.6893939393939394, 'accuracy': 0.6893939393939394}, 'about': {'recall': 0.8255208333333334, 'precision': 0.8255208333333334, 'f1': 0.8255208333333334, 'accuracy': 0.8255208333333334}} \n",
      "\n",
      "Evaluación en etiquetas female\n",
      "{'to': {'recall': 0.6404199475065617, 'precision': 0.6404199475065617, 'f1': 0.6404199475065617, 'accuracy': 0.6404199475065617}, 'as': {'recall': 0.7331536388140162, 'precision': 0.7331536388140162, 'f1': 0.7331536388140162, 'accuracy': 0.7331536388140162}, 'about': {'recall': 0.81, 'precision': 0.81, 'f1': 0.81, 'accuracy': 0.81}} \n",
      "\n"
     ]
    }
   ],
   "source": [
    "model = mt.MultiWithDependencies(model_conf,vocab).to(device)\n",
    "model.load_state_dict(torch.load(save_path))\n",
    "\n",
    "print(\"Evaluación del modelo\")\n",
    "result_global = train.eval_func_multi(model,dl_eval,tasks,gender=None)\n",
    "generic.update_global_metric_multi(result_global,global_metrics,mtype='global')\n",
    "print(result_global,'\\n')\n",
    "print(\"Evaluación en etiquetas male\")\n",
    "result_global = train.eval_func_multi(model,dl_eval,tasks,gender='male')\n",
    "generic.update_global_metric_multi(result_global,global_metrics,mtype='male')\n",
    "print(result_global,'\\n')\n",
    "print(\"Evaluación en etiquetas female\")\n",
    "result_global = train.eval_func_multi(model,dl_eval,tasks,gender='female')\n",
    "generic.update_global_metric_multi(result_global,global_metrics,mtype='female')\n",
    "print(result_global,'\\n')\n"
   ]
  },
  {
   "cell_type": "code",
   "execution_count": 16,
   "metadata": {},
   "outputs": [
    {
     "name": "stderr",
     "output_type": "stream",
     "text": [
      "Some weights of the model checkpoint at distilbert-base-cased were not used when initializing DistilBertModel: ['vocab_layer_norm.weight', 'vocab_projector.weight', 'vocab_layer_norm.bias', 'vocab_projector.bias', 'vocab_transform.weight', 'vocab_transform.bias']\n",
      "- This IS expected if you are initializing DistilBertModel from the checkpoint of a model trained on another task or with another architecture (e.g. initializing a BertForSequenceClassification model from a BertForPreTraining model).\n",
      "- This IS NOT expected if you are initializing DistilBertModel from the checkpoint of a model that you expect to be exactly identical (initializing a BertForSequenceClassification model from a BertForSequenceClassification model).\n"
     ]
    },
    {
     "data": {
      "application/vnd.jupyter.widget-view+json": {
       "model_id": "2c00c5d2abb04428a75169e476b7da91",
       "version_major": 2,
       "version_minor": 0
      },
      "text/plain": [
       "  0%|          | 0/57400 [00:00<?, ?it/s]"
      ]
     },
     "metadata": {},
     "output_type": "display_data"
    },
    {
     "name": "stdout",
     "output_type": "stream",
     "text": [
      "Epoch 1 \t Training loss: 2.0580057539175614 \t Validation loss: 2.0118015014519126 \t \n",
      "  1%|          | 574/57400 [03:06<4:03:04,  3.90it/s]\n",
      "Epoch 2 \t Training loss: 1.9923249464417168 \t Validation loss: 1.9885648771867914 \t \n",
      "  2%|▏         | 1148/57400 [06:13<4:10:17,  3.75it/s]\n",
      "Epoch 3 \t Training loss: 1.9782070966132426 \t Validation loss: 1.985366534378569 \t \n",
      "  3%|▎         | 1722/57400 [09:21<3:59:11,  3.88it/s]\n",
      "Epoch 4 \t Training loss: 1.9728645584724507 \t Validation loss: 1.9748832856194447 \t \n",
      "  4%|▍         | 2296/57400 [12:27<4:02:45,  3.78it/s]\n",
      "Epoch 5 \t Training loss: 1.9676730383563956 \t Validation loss: 1.9799437805757685 \t \n",
      "\n",
      "1 epoch without improvement\n",
      "  5%|▌         | 2870/57400 [15:34<4:57:51,  3.05it/s]\n",
      "Epoch 6 \t Training loss: 1.9655105469534206 \t Validation loss: 1.9777981022656974 \t \n",
      "\n",
      "2 epoch without improvement\n",
      "  6%|▌         | 3444/57400 [19:04<4:36:53,  3.25it/s]\n",
      "Epoch 7 \t Training loss: 1.9609281742614322 \t Validation loss: 1.9800491716902135 \t \n",
      "\n",
      "3 epoch without improvement\n",
      "  7%|▋         | 4018/57400 [22:41<3:43:49,  3.98it/s]\n",
      "Epoch 8 \t Training loss: 1.9576791703493337 \t Validation loss: 1.973630167670169 \t \n",
      "  8%|▊         | 4592/57400 [25:48<4:55:57,  2.97it/s]\n",
      "Epoch 9 \t Training loss: 1.9555955493907065 \t Validation loss: 1.9682458255250574 \t \n",
      "  9%|▉         | 5166/57400 [28:55<4:42:28,  3.08it/s]\n",
      "Epoch 10 \t Training loss: 1.9534008494652937 \t Validation loss: 1.9654028799574255 \t \n",
      " 10%|█         | 5740/57400 [32:02<4:30:28,  3.18it/s]\n",
      "Epoch 11 \t Training loss: 1.9525108121413388 \t Validation loss: 1.962949243642516 \t \n",
      " 11%|█         | 6314/57400 [35:09<4:46:08,  2.98it/s]\n",
      "Epoch 12 \t Training loss: 1.9492411139950103 \t Validation loss: 1.9740934048668812 \t \n",
      "\n",
      "1 epoch without improvement\n",
      " 12%|█▏        | 6888/57400 [38:16<3:39:22,  3.84it/s]\n",
      "Epoch 13 \t Training loss: 1.9497439209177103 \t Validation loss: 1.9623453960580342 \t \n",
      " 13%|█▎        | 7462/57400 [41:47<5:24:38,  2.56it/s]\n",
      "Epoch 14 \t Training loss: 1.9479512260765979 \t Validation loss: 1.973851175631507 \t \n",
      "\n",
      "1 epoch without improvement\n",
      " 14%|█▍        | 8036/57400 [45:25<3:26:37,  3.98it/s]\n",
      "Epoch 15 \t Training loss: 1.9460207109667282 \t Validation loss: 1.9674083681429846 \t \n",
      "\n",
      "2 epoch without improvement\n",
      " 15%|█▌        | 8610/57400 [48:32<4:15:44,  3.18it/s]\n",
      "Epoch 16 \t Training loss: 1.9438551082843687 \t Validation loss: 1.9682504201339464 \t \n",
      "\n",
      "3 epoch without improvement\n",
      " 16%|█▌        | 9184/57400 [51:40<4:27:45,  3.00it/s]\n",
      "Epoch 17 \t Training loss: 1.943466015809089 \t Validation loss: 1.9702467574911602 \t \n",
      "\n",
      "4 epoch without improvement\n",
      " 17%|█▋        | 9758/57400 [54:47<3:21:43,  3.94it/s]\n",
      "Epoch 18 \t Training loss: 1.9405222080310462 \t Validation loss: 1.9654793213989774 \t \n",
      "\n",
      "5 epoch without improvement\n",
      " 18%|█▊        | 10332/57400 [57:54<4:10:30,  3.13it/s]\n",
      "Epoch 19 \t Training loss: 1.9405286559244481 \t Validation loss: 1.964768997693466 \t \n",
      "\n",
      "6 epoch without improvement\n",
      " 19%|█▉        | 10906/57400 [1:01:00<5:17:43,  2.44it/s]\n",
      "Epoch 20 \t Training loss: 1.9408403749249954 \t Validation loss: 1.9643636840884968 \t \n",
      "\n",
      "7 epoch without improvement\n",
      " 20%|██        | 11480/57400 [1:05:18<5:14:59,  2.43it/s]\n",
      "Epoch 21 \t Training loss: 1.93765335818201 \t Validation loss: 1.9668636503866164 \t \n",
      "\n",
      "8 epoch without improvement\n",
      " 21%|██        | 12054/57400 [1:08:54<4:39:29,  2.70it/s]\n",
      "Epoch 22 \t Training loss: 1.9368973667197942 \t Validation loss: 1.9640600943969468 \t \n",
      "\n",
      "9 epoch without improvement\n",
      " 22%|██▏       | 12628/57400 [1:12:13<4:16:18,  2.91it/s]\n",
      "Epoch 23 \t Training loss: 1.934729199168574 \t Validation loss: 1.9641007568876623 \t \n",
      "\n",
      "10 epoch without improvement\n",
      "Validation_loss hasn't improve in 10 epoch. Stopping training after 23 epochs...\n"
     ]
    },
    {
     "data": {
      "image/png": "[encoded data removed]",
      "text/plain": [
       "<Figure size 640x480 with 1 Axes>"
      ]
     },
     "metadata": {},
     "output_type": "display_data"
    }
   ],
   "source": [
    "model = mt.MultiWithDependencies(model_conf,vocab).to(device)\n",
    "optimizer = AdamW(model.parameters(), lr=learning_rate,weight_decay=0.1)\n",
    "save_path='distilbert_multitask_absolute_3'\n",
    "train.train_function_multi(model,num_epochs,dl_train,optimizer,early_stop = 10,dl_val = dl_val,save_path=save_path,es_threshold=0)"
   ]
  },
  {
   "cell_type": "code",
   "execution_count": 17,
   "metadata": {},
   "outputs": [
    {
     "name": "stderr",
     "output_type": "stream",
     "text": [
      "Some weights of the model checkpoint at distilbert-base-cased were not used when initializing DistilBertModel: ['vocab_layer_norm.weight', 'vocab_projector.weight', 'vocab_layer_norm.bias', 'vocab_projector.bias', 'vocab_transform.weight', 'vocab_transform.bias']\n",
      "- This IS expected if you are initializing DistilBertModel from the checkpoint of a model trained on another task or with another architecture (e.g. initializing a BertForSequenceClassification model from a BertForPreTraining model).\n",
      "- This IS NOT expected if you are initializing DistilBertModel from the checkpoint of a model that you expect to be exactly identical (initializing a BertForSequenceClassification model from a BertForSequenceClassification model).\n"
     ]
    },
    {
     "name": "stdout",
     "output_type": "stream",
     "text": [
      "Evaluación del modelo\n",
      "{'to': {'recall': 0.6603535353535354, 'precision': 0.6603535353535354, 'f1': 0.6603535353535354, 'accuracy': 0.6603535353535354}, 'as': {'recall': 0.7131681877444589, 'precision': 0.7131681877444589, 'f1': 0.713168187744459, 'accuracy': 0.7131681877444589}, 'about': {'recall': 0.8188775510204082, 'precision': 0.8188775510204082, 'f1': 0.8188775510204082, 'accuracy': 0.8188775510204082}} \n",
      "\n",
      "Evaluación en etiquetas male\n",
      "{'to': {'recall': 0.7031630170316302, 'precision': 0.7031630170316302, 'f1': 0.7031630170316302, 'accuracy': 0.7031630170316302}, 'as': {'recall': 0.6994949494949495, 'precision': 0.6994949494949495, 'f1': 0.6994949494949495, 'accuracy': 0.6994949494949495}, 'about': {'recall': 0.8463541666666666, 'precision': 0.8463541666666666, 'f1': 0.8463541666666666, 'accuracy': 0.8463541666666666}} \n",
      "\n",
      "Evaluación en etiquetas female\n",
      "{'to': {'recall': 0.6141732283464567, 'precision': 0.6141732283464567, 'f1': 0.6141732283464567, 'accuracy': 0.6141732283464567}, 'as': {'recall': 0.7277628032345014, 'precision': 0.7277628032345014, 'f1': 0.7277628032345014, 'accuracy': 0.7277628032345014}, 'about': {'recall': 0.7925, 'precision': 0.7925, 'f1': 0.7925, 'accuracy': 0.7925}} \n",
      "\n"
     ]
    }
   ],
   "source": [
    "model = mt.MultiWithDependencies(model_conf,vocab).to(device)\n",
    "model.load_state_dict(torch.load(save_path))\n",
    "\n",
    "print(\"Evaluación del modelo\")\n",
    "result_global = train.eval_func_multi(model,dl_eval,tasks,gender=None)\n",
    "generic.update_global_metric_multi(result_global,global_metrics,mtype='global')\n",
    "print(result_global,'\\n')\n",
    "print(\"Evaluación en etiquetas male\")\n",
    "result_global = train.eval_func_multi(model,dl_eval,tasks,gender='male')\n",
    "generic.update_global_metric_multi(result_global,global_metrics,mtype='male')\n",
    "print(result_global,'\\n')\n",
    "print(\"Evaluación en etiquetas female\")\n",
    "result_global = train.eval_func_multi(model,dl_eval,tasks,gender='female')\n",
    "generic.update_global_metric_multi(result_global,global_metrics,mtype='female')\n",
    "print(result_global,'\\n')\n"
   ]
  },
  {
   "cell_type": "code",
   "execution_count": 18,
   "metadata": {},
   "outputs": [
    {
     "name": "stdout",
     "output_type": "stream",
     "text": [
      "Métricas globales: \n",
      "\n",
      "\n",
      " about\n",
      "Resultado global: {'recall': 0.8210034013605442, 'precision': 0.8210034013605442, 'f1': 0.8210034013605442, 'accuracy': 0.8210034013605442}\n",
      "Métricas etiqueta male: {'recall': 0.8368055555555556, 'precision': 0.8368055555555556, 'f1': 0.8368055555555556, 'accuracy': 0.8368055555555556}\n",
      "Métricas etiqueta female:  {'recall': 0.8058333333333333, 'precision': 0.8058333333333333, 'f1': 0.8058333333333333, 'accuracy': 0.8058333333333333}\n",
      "\n",
      " to\n",
      "Resultado global: {'recall': 0.6590909090909091, 'precision': 0.6590909090909091, 'f1': 0.6590909090909091, 'accuracy': 0.6590909090909091}\n",
      "Métricas etiqueta male: {'recall': 0.6950527169505272, 'precision': 0.6950527169505272, 'f1': 0.6950527169505272, 'accuracy': 0.6950527169505272}\n",
      "Métricas etiqueta female:  {'recall': 0.6202974628171479, 'precision': 0.6202974628171479, 'f1': 0.6202974628171479, 'accuracy': 0.6202974628171479}\n",
      "\n",
      " as\n",
      "Resultado global: {'recall': 0.7153411560191221, 'precision': 0.7153411560191221, 'f1': 0.7153411560191221, 'accuracy': 0.7153411560191221}\n",
      "Métricas etiqueta male: {'recall': 0.7028619528619529, 'precision': 0.7028619528619529, 'f1': 0.702861952861953, 'accuracy': 0.7028619528619529}\n",
      "Métricas etiqueta female:  {'recall': 0.7286612758310872, 'precision': 0.7286612758310872, 'f1': 0.7286612758310872, 'accuracy': 0.7286612758310872}\n"
     ]
    }
   ],
   "source": [
    "\n",
    "print('Métricas globales: \\n')\n",
    "\n",
    "for task in ['about','to','as']:\n",
    "    print('\\n',task)\n",
    "    print('Resultado global:',{m:mean(values) for m,values in global_metrics[task]['global'].items()})\n",
    "    print(f'Métricas etiqueta male:',{m:mean(values) for m,values in global_metrics[task]['male'].items()})\n",
    "    print('Métricas etiqueta female: ',{m:mean(values) for m,values in global_metrics[task]['female'].items()})\n"
   ]
  }
 ],
 "metadata": {
  "kernelspec": {
   "display_name": "tfg",
   "language": "python",
   "name": "python3"
  },
  "language_info": {
   "codemirror_mode": {
    "name": "ipython",
    "version": 3
   },
   "file_extension": ".py",
   "mimetype": "text/x-python",
   "name": "python",
   "nbconvert_exporter": "python",
   "pygments_lexer": "ipython3",
   "version": "3.9.13"
  },
  "orig_nbformat": 4,
  "vscode": {
   "interpreter": {
    "hash": "35e8332e99bdf485583869dfbdef293dcf2f9293b1663ec5daea0a573af457c3"
   }
  }
 },
 "nbformat": 4,
 "nbformat_minor": 2
}
