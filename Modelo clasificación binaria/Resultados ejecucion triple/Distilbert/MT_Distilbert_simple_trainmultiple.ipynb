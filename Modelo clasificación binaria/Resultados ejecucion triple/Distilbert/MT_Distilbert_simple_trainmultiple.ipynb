{
 "cells": [
  {
   "cell_type": "code",
   "execution_count": 31,
   "metadata": {},
   "outputs": [],
   "source": [
    "import torch\n",
    "from torch.utils.data import DataLoader\n",
    "from torch.optim import SGD ,AdamW\n",
    "\n",
    "from datasets import load_dataset, load_metric\n",
    "\n",
    "import matplotlib.pyplot as plt\n",
    "\n",
    "import json\n",
    "from statistics import mean"
   ]
  },
  {
   "cell_type": "code",
   "execution_count": 14,
   "metadata": {},
   "outputs": [],
   "source": [
    "import utils_generic as generic\n",
    "import multitask_simple as mt\n",
    "import model_confs as confs\n",
    "import train"
   ]
  },
  {
   "cell_type": "code",
   "execution_count": 15,
   "metadata": {},
   "outputs": [],
   "source": [
    "device = torch.device(\"cuda\") if torch.cuda.is_available() else torch.device(\"cpu\")\n",
    "tasks = ['to','as','about']"
   ]
  },
  {
   "cell_type": "code",
   "execution_count": 16,
   "metadata": {},
   "outputs": [],
   "source": [
    "model_conf = confs.distilbert_conf"
   ]
  },
  {
   "attachments": {},
   "cell_type": "markdown",
   "metadata": {},
   "source": [
    "# Datos ConvAI"
   ]
  },
  {
   "cell_type": "code",
   "execution_count": 17,
   "metadata": {},
   "outputs": [],
   "source": [
    "with open('Datasets\\ConvAI2\\convai2_complete.json','r') as f:\n",
    "    data = json.load(f)"
   ]
  },
  {
   "cell_type": "code",
   "execution_count": 18,
   "metadata": {},
   "outputs": [],
   "source": [
    "convai_train = data['train']\n",
    "convai_val = data['validation']\n",
    "\n",
    "\n",
    "\n",
    "convai_train_token = generic.tokenize_dataset(convai_train,tasks,model_conf) \n",
    "convai_val_token = generic.tokenize_dataset(convai_val,tasks,model_conf) "
   ]
  },
  {
   "cell_type": "code",
   "execution_count": 19,
   "metadata": {},
   "outputs": [],
   "source": [
    "convai_train_dataset = mt.DatasetMultiTaskSimple(convai_train_token,tasks,eval=False)\n",
    "convai_val_dataset = mt.DatasetMultiTaskSimple(convai_val_token,tasks,eval=False)"
   ]
  },
  {
   "attachments": {},
   "cell_type": "markdown",
   "metadata": {},
   "source": [
    "# Datos md_gender"
   ]
  },
  {
   "cell_type": "code",
   "execution_count": 20,
   "metadata": {},
   "outputs": [],
   "source": [
    "with open('Datasets\\md_gender\\md_complete.json','r',encoding=\"utf8\") as f:\n",
    "    md_data = json.load(f)"
   ]
  },
  {
   "cell_type": "code",
   "execution_count": 21,
   "metadata": {},
   "outputs": [],
   "source": [
    "md_tokenized = generic.tokenize_dataset(md_data,tasks,model_conf) \n",
    "md_dataset = mt.DatasetMultiTaskSimple(md_tokenized,tasks,eval=True)"
   ]
  },
  {
   "attachments": {},
   "cell_type": "markdown",
   "metadata": {},
   "source": [
    "# Creación dataloaders"
   ]
  },
  {
   "cell_type": "code",
   "execution_count": 22,
   "metadata": {},
   "outputs": [],
   "source": [
    "dl_train =DataLoader(convai_train_dataset,batch_size=128,shuffle=True,collate_fn=mt.collate_fn)\n",
    "dl_val =DataLoader(convai_val_dataset,batch_size=128,shuffle=True,collate_fn=mt.collate_fn)\n",
    "dl_eval = DataLoader(md_dataset,batch_size=128,shuffle=False,collate_fn=mt.collate_fn)"
   ]
  },
  {
   "attachments": {},
   "cell_type": "markdown",
   "metadata": {},
   "source": [
    "# Modelo multitask"
   ]
  },
  {
   "cell_type": "code",
   "execution_count": 23,
   "metadata": {},
   "outputs": [],
   "source": [
    "num_epochs = 100\n",
    "learning_rate = 1e-6\n",
    "\n",
    "global_metrics = {'about':{'global':{'recall': [], 'precision': [],'f1': [], 'accuracy': []},\n",
    "                            'male':{'recall': [], 'precision': [],'f1': [], 'accuracy': []},\n",
    "                            'female':{'recall': [], 'precision': [],'f1': [], 'accuracy': []}},\n",
    "                    'as':{'global':{'recall': [], 'precision': [],'f1': [], 'accuracy': []},\n",
    "                            'male':{'recall': [], 'precision': [],'f1': [], 'accuracy': []},\n",
    "                            'female':{'recall': [], 'precision': [],'f1': [], 'accuracy': []}},\n",
    "                    'to':{'global':{'recall': [], 'precision': [],'f1': [], 'accuracy': []},\n",
    "                            'male':{'recall': [], 'precision': [],'f1': [], 'accuracy': []},\n",
    "                            'female':{'recall': [], 'precision': [],'f1': [], 'accuracy': []}}}"
   ]
  },
  {
   "cell_type": "code",
   "execution_count": 24,
   "metadata": {},
   "outputs": [
    {
     "name": "stderr",
     "output_type": "stream",
     "text": [
      "Some weights of the model checkpoint at distilbert-base-cased were not used when initializing DistilBertModel: ['vocab_projector.bias', 'vocab_transform.weight', 'vocab_projector.weight', 'vocab_transform.bias', 'vocab_layer_norm.bias', 'vocab_layer_norm.weight']\n",
      "- This IS expected if you are initializing DistilBertModel from the checkpoint of a model trained on another task or with another architecture (e.g. initializing a BertForSequenceClassification model from a BertForPreTraining model).\n",
      "- This IS NOT expected if you are initializing DistilBertModel from the checkpoint of a model that you expect to be exactly identical (initializing a BertForSequenceClassification model from a BertForSequenceClassification model).\n"
     ]
    },
    {
     "data": {
      "application/vnd.jupyter.widget-view+json": {
       "model_id": "6f0c0ef9c9884c81ab1f235b3528ed7f",
       "version_major": 2,
       "version_minor": 0
      },
      "text/plain": [
       "  0%|          | 0/57400 [00:00<?, ?it/s]"
      ]
     },
     "metadata": {},
     "output_type": "display_data"
    },
    {
     "name": "stdout",
     "output_type": "stream",
     "text": [
      "Epoch 1 \t Training loss: 2.0460137371817533 \t Validation loss: 2.008292224447606 \t \n",
      "  1%|          | 574/57400 [02:16<3:24:23,  4.63it/s]\n",
      "Epoch 2 \t Training loss: 1.9954669581473081 \t Validation loss: 1.9923823991064298 \t \n",
      "  2%|▏         | 1148/57400 [04:52<4:02:16,  3.87it/s]\n",
      "Epoch 3 \t Training loss: 1.9801716659127213 \t Validation loss: 1.9855626195164051 \t \n",
      "  3%|▎         | 1722/57400 [07:33<4:25:03,  3.50it/s]\n",
      "Epoch 4 \t Training loss: 1.9750663515582734 \t Validation loss: 1.9880940429234908 \t \n",
      "\n",
      "1 epoch without improvement\n",
      "  4%|▍         | 2296/57400 [10:15<4:17:00,  3.57it/s]\n",
      "Epoch 5 \t Training loss: 1.9719064675972438 \t Validation loss: 1.9859158447233296 \t \n",
      "\n",
      "2 epoch without improvement\n",
      "  5%|▌         | 2870/57400 [13:26<4:48:53,  3.15it/s]\n",
      "Epoch 6 \t Training loss: 1.9654237036090279 \t Validation loss: 1.979166790590448 \t \n",
      "  6%|▌         | 3444/57400 [16:13<4:15:41,  3.52it/s]\n",
      "Epoch 7 \t Training loss: 1.9628305549405594 \t Validation loss: 1.9782694840835313 \t \n",
      "  7%|▋         | 4018/57400 [18:49<3:16:42,  4.52it/s]\n",
      "Epoch 8 \t Training loss: 1.9603280470761688 \t Validation loss: 1.9776299403885664 \t \n",
      "  8%|▊         | 4592/57400 [21:49<4:48:24,  3.05it/s]\n",
      "Epoch 9 \t Training loss: 1.9589735140783862 \t Validation loss: 1.978889077396716 \t \n",
      "\n",
      "1 epoch without improvement\n",
      "  9%|▉         | 5166/57400 [24:40<3:53:09,  3.73it/s]\n",
      "Epoch 10 \t Training loss: 1.9559408509357465 \t Validation loss: 1.9766750355898324 \t \n",
      " 10%|█         | 5740/57400 [27:16<3:03:47,  4.68it/s]\n",
      "Epoch 11 \t Training loss: 1.953890578256667 \t Validation loss: 1.9699341220370794 \t \n",
      " 11%|█         | 6314/57400 [29:58<3:56:34,  3.60it/s]\n",
      "Epoch 12 \t Training loss: 1.949443638117056 \t Validation loss: 1.9815210851572327 \t \n",
      "\n",
      "1 epoch without improvement\n",
      " 12%|█▏        | 6888/57400 [32:40<3:52:29,  3.62it/s]\n",
      "Epoch 13 \t Training loss: 1.9504541339359216 \t Validation loss: 1.9733639470601485 \t \n",
      "\n",
      "2 epoch without improvement\n",
      " 13%|█▎        | 7462/57400 [35:26<3:17:25,  4.22it/s]\n",
      "Epoch 14 \t Training loss: 1.9484360913781755 \t Validation loss: 1.965244976140685 \t \n",
      " 14%|█▍        | 8036/57400 [38:06<3:32:50,  3.87it/s]\n",
      "Epoch 15 \t Training loss: 1.944459090041782 \t Validation loss: 1.9624614028607386 \t \n",
      " 15%|█▌        | 8610/57400 [40:43<3:54:19,  3.47it/s]\n",
      "Epoch 16 \t Training loss: 1.9458835070972242 \t Validation loss: 1.9693606809034185 \t \n",
      "\n",
      "1 epoch without improvement\n",
      " 16%|█▌        | 9184/57400 [43:25<3:01:27,  4.43it/s]\n",
      "Epoch 17 \t Training loss: 1.9462154665475109 \t Validation loss: 1.97177990412308 \t \n",
      "\n",
      "2 epoch without improvement\n",
      " 17%|█▋        | 9758/57400 [45:55<2:59:34,  4.42it/s]\n",
      "Epoch 18 \t Training loss: 1.9431797764442524 \t Validation loss: 1.9691349187139737 \t \n",
      "\n",
      "3 epoch without improvement\n",
      " 18%|█▊        | 10332/57400 [48:05<2:53:00,  4.53it/s]\n",
      "Epoch 19 \t Training loss: 1.9438285015601315 \t Validation loss: 1.9632262274370356 \t \n",
      "\n",
      "4 epoch without improvement\n",
      " 19%|█▉        | 10906/57400 [50:16<2:53:09,  4.47it/s]\n",
      "Epoch 20 \t Training loss: 1.9418565101324474 \t Validation loss: 1.958935171870862 \t \n",
      " 20%|██        | 11480/57400 [52:26<2:44:22,  4.66it/s]\n",
      "Epoch 21 \t Training loss: 1.9409474092908852 \t Validation loss: 1.9513896723925057 \t \n",
      " 21%|██        | 12054/57400 [54:37<2:51:23,  4.41it/s]\n",
      "Epoch 22 \t Training loss: 1.9380688843826799 \t Validation loss: 1.963108339552152 \t \n",
      "\n",
      "1 epoch without improvement\n",
      " 22%|██▏       | 12628/57400 [56:48<2:18:52,  5.37it/s]\n",
      "Epoch 23 \t Training loss: 1.9373760939890499 \t Validation loss: 1.958039178686627 \t \n",
      "\n",
      "2 epoch without improvement\n",
      " 23%|██▎       | 13202/57400 [58:58<2:41:07,  4.57it/s]\n",
      "Epoch 24 \t Training loss: 1.9355200562327581 \t Validation loss: 1.965721518306409 \t \n",
      "\n",
      "3 epoch without improvement\n",
      " 24%|██▍       | 13776/57400 [1:01:14<2:48:12,  4.32it/s]\n",
      "Epoch 25 \t Training loss: 1.9353794380762852 \t Validation loss: 1.9754399727966825 \t \n",
      "\n",
      "4 epoch without improvement\n",
      " 25%|██▌       | 14350/57400 [1:03:28<2:30:12,  4.78it/s]\n",
      "Epoch 26 \t Training loss: 1.9328366252188067 \t Validation loss: 1.9640566090405998 \t \n",
      "\n",
      "5 epoch without improvement\n",
      " 26%|██▌       | 14924/57400 [1:05:41<2:35:53,  4.54it/s]\n",
      "Epoch 27 \t Training loss: 1.932894994780577 \t Validation loss: 1.959488729299125 \t \n",
      "\n",
      "6 epoch without improvement\n",
      " 27%|██▋       | 15498/57400 [1:07:48<2:36:50,  4.45it/s]\n",
      "Epoch 28 \t Training loss: 1.9337098538252535 \t Validation loss: 1.9630032393891932 \t \n",
      "\n",
      "7 epoch without improvement\n",
      " 28%|██▊       | 16072/57400 [1:09:59<2:27:10,  4.68it/s]\n",
      "Epoch 29 \t Training loss: 1.930806874398155 \t Validation loss: 1.9625650300817974 \t \n",
      "\n",
      "8 epoch without improvement\n",
      " 29%|██▉       | 16646/57400 [1:12:09<2:49:38,  4.00it/s]\n",
      "Epoch 30 \t Training loss: 1.929880678653717 \t Validation loss: 1.9640191025653129 \t \n",
      "\n",
      "9 epoch without improvement\n",
      " 30%|███       | 17220/57400 [1:14:17<2:27:33,  4.54it/s]\n",
      "Epoch 31 \t Training loss: 1.9289461515506385 \t Validation loss: 1.9597768318855155 \t \n",
      "\n",
      "10 epoch without improvement\n",
      "Validation_loss hasn't improve in 10 epoch. Stopping training after 31 epochs...\n"
     ]
    },
    {
     "data": {
      "image/png": "[encoded data removed]",
      "text/plain": [
       "<Figure size 640x480 with 1 Axes>"
      ]
     },
     "metadata": {},
     "output_type": "display_data"
    }
   ],
   "source": [
    "model = mt.MultiTaskSimple(model_conf).to(device)\n",
    "optimizer = AdamW(model.parameters(), lr=learning_rate,weight_decay=0.1)\n",
    "save_path='distilbert_multitask_simple_1'\n",
    "train.train_function_multi(model,num_epochs,dl_train,optimizer,early_stop = 10,dl_val = dl_val,save_path=save_path,es_threshold=0)"
   ]
  },
  {
   "cell_type": "code",
   "execution_count": 25,
   "metadata": {},
   "outputs": [
    {
     "name": "stderr",
     "output_type": "stream",
     "text": [
      "Some weights of the model checkpoint at distilbert-base-cased were not used when initializing DistilBertModel: ['vocab_projector.bias', 'vocab_transform.weight', 'vocab_projector.weight', 'vocab_transform.bias', 'vocab_layer_norm.bias', 'vocab_layer_norm.weight']\n",
      "- This IS expected if you are initializing DistilBertModel from the checkpoint of a model trained on another task or with another architecture (e.g. initializing a BertForSequenceClassification model from a BertForPreTraining model).\n",
      "- This IS NOT expected if you are initializing DistilBertModel from the checkpoint of a model that you expect to be exactly identical (initializing a BertForSequenceClassification model from a BertForSequenceClassification model).\n"
     ]
    },
    {
     "name": "stdout",
     "output_type": "stream",
     "text": [
      "Evaluación del modelo\n",
      "{'to': {'recall': 0.6565656565656566, 'precision': 0.6565656565656566, 'f1': 0.6565656565656566, 'accuracy': 0.6565656565656566}, 'as': {'recall': 0.7170795306388527, 'precision': 0.7170795306388527, 'f1': 0.7170795306388528, 'accuracy': 0.7170795306388527}, 'about': {'recall': 0.8188775510204082, 'precision': 0.8188775510204082, 'f1': 0.8188775510204082, 'accuracy': 0.8188775510204082}} \n",
      "\n",
      "Evaluación en etiquetas male\n",
      "{'to': {'recall': 0.6739659367396593, 'precision': 0.6739659367396593, 'f1': 0.6739659367396593, 'accuracy': 0.6739659367396593}, 'as': {'recall': 0.6767676767676768, 'precision': 0.6767676767676768, 'f1': 0.6767676767676768, 'accuracy': 0.6767676767676768}, 'about': {'recall': 0.8151041666666666, 'precision': 0.8151041666666666, 'f1': 0.8151041666666666, 'accuracy': 0.8151041666666666}} \n",
      "\n",
      "Evaluación en etiquetas female\n",
      "{'to': {'recall': 0.6377952755905512, 'precision': 0.6377952755905512, 'f1': 0.6377952755905512, 'accuracy': 0.6377952755905512}, 'as': {'recall': 0.7601078167115903, 'precision': 0.7601078167115903, 'f1': 0.7601078167115903, 'accuracy': 0.7601078167115903}, 'about': {'recall': 0.8225, 'precision': 0.8225, 'f1': 0.8225, 'accuracy': 0.8225}} \n",
      "\n"
     ]
    }
   ],
   "source": [
    "model = mt.MultiTaskSimple(model_conf).to(device)\n",
    "model.load_state_dict(torch.load('distilbert_multitask_simple_1'))\n",
    "\n",
    "print(\"Evaluación del modelo\")\n",
    "result_global = train.eval_func_multi(model,dl_eval,tasks,gender=None)\n",
    "generic.update_global_metric_multi(result_global,global_metrics,mtype='global')\n",
    "print(result_global,'\\n')\n",
    "print(\"Evaluación en etiquetas male\")\n",
    "result_global = train.eval_func_multi(model,dl_eval,tasks,gender='male')\n",
    "generic.update_global_metric_multi(result_global,global_metrics,mtype='male')\n",
    "print(result_global,'\\n')\n",
    "print(\"Evaluación en etiquetas female\")\n",
    "result_global = train.eval_func_multi(model,dl_eval,tasks,gender='female')\n",
    "generic.update_global_metric_multi(result_global,global_metrics,mtype='female')\n",
    "print(result_global,'\\n')\n"
   ]
  },
  {
   "cell_type": "code",
   "execution_count": 26,
   "metadata": {},
   "outputs": [
    {
     "name": "stderr",
     "output_type": "stream",
     "text": [
      "Some weights of the model checkpoint at distilbert-base-cased were not used when initializing DistilBertModel: ['vocab_projector.bias', 'vocab_transform.weight', 'vocab_projector.weight', 'vocab_transform.bias', 'vocab_layer_norm.bias', 'vocab_layer_norm.weight']\n",
      "- This IS expected if you are initializing DistilBertModel from the checkpoint of a model trained on another task or with another architecture (e.g. initializing a BertForSequenceClassification model from a BertForPreTraining model).\n",
      "- This IS NOT expected if you are initializing DistilBertModel from the checkpoint of a model that you expect to be exactly identical (initializing a BertForSequenceClassification model from a BertForSequenceClassification model).\n"
     ]
    },
    {
     "data": {
      "application/vnd.jupyter.widget-view+json": {
       "model_id": "997299c69b9e42169debd2d3bd5157b6",
       "version_major": 2,
       "version_minor": 0
      },
      "text/plain": [
       "  0%|          | 0/57400 [00:00<?, ?it/s]"
      ]
     },
     "metadata": {},
     "output_type": "display_data"
    },
    {
     "name": "stdout",
     "output_type": "stream",
     "text": [
      "Epoch 1 \t Training loss: 2.053028464940367 \t Validation loss: 2.0212745060354975 \t \n",
      "  1%|          | 574/57400 [02:08<3:39:25,  4.32it/s]\n",
      "Epoch 2 \t Training loss: 1.9926879966715902 \t Validation loss: 1.9956677970239671 \t \n",
      "  2%|▏         | 1148/57400 [04:15<2:50:28,  5.50it/s]\n",
      "Epoch 3 \t Training loss: 1.9806977400380976 \t Validation loss: 1.9790226322109417 \t \n",
      "  3%|▎         | 1722/57400 [06:22<3:26:31,  4.49it/s]\n",
      "Epoch 4 \t Training loss: 1.9743665087098443 \t Validation loss: 1.976284701945418 \t \n",
      "  4%|▍         | 2296/57400 [08:30<2:34:46,  5.93it/s]\n",
      "Epoch 5 \t Training loss: 1.9707406015761637 \t Validation loss: 1.9788167395834195 \t \n",
      "\n",
      "1 epoch without improvement\n",
      "  5%|▌         | 2870/57400 [10:37<3:10:45,  4.76it/s]\n",
      "Epoch 6 \t Training loss: 1.9660440631444447 \t Validation loss: 1.98192655838142 \t \n",
      "\n",
      "2 epoch without improvement\n",
      "  6%|▌         | 3444/57400 [12:47<2:39:52,  5.62it/s]\n",
      "Epoch 7 \t Training loss: 1.9623010800275238 \t Validation loss: 1.9801555750733715 \t \n",
      "\n",
      "3 epoch without improvement\n",
      "  7%|▋         | 4018/57400 [14:55<2:42:54,  5.46it/s]\n",
      "Epoch 8 \t Training loss: 1.958370201679057 \t Validation loss: 1.9737401412705244 \t \n",
      "  8%|▊         | 4592/57400 [17:05<2:38:07,  5.57it/s]\n",
      "Epoch 9 \t Training loss: 1.9573320740191362 \t Validation loss: 1.9676306550785647 \t \n",
      "  9%|▉         | 5166/57400 [19:10<2:58:26,  4.88it/s]\n",
      "Epoch 10 \t Training loss: 1.9557062499614544 \t Validation loss: 1.972269151170375 \t \n",
      "\n",
      "1 epoch without improvement\n",
      " 10%|█         | 5740/57400 [21:17<2:28:08,  5.81it/s]\n",
      "Epoch 11 \t Training loss: 1.9546447514656944 \t Validation loss: 1.970087445388406 \t \n",
      "\n",
      "2 epoch without improvement\n",
      " 11%|█         | 6314/57400 [23:20<2:49:54,  5.01it/s]\n",
      "Epoch 12 \t Training loss: 1.9540827953441633 \t Validation loss: 1.9754877817832817 \t \n",
      "\n",
      "3 epoch without improvement\n",
      " 12%|█▏        | 6888/57400 [25:28<2:58:16,  4.72it/s]\n",
      "Epoch 13 \t Training loss: 1.952306648164676 \t Validation loss: 1.9647154444355075 \t \n",
      " 13%|█▎        | 7462/57400 [27:34<3:12:17,  4.33it/s]\n",
      "Epoch 14 \t Training loss: 1.9504835825763929 \t Validation loss: 1.9738331305778634 \t \n",
      "\n",
      "1 epoch without improvement\n",
      " 14%|█▍        | 8036/57400 [29:44<2:51:26,  4.80it/s]\n",
      "Epoch 15 \t Training loss: 1.9456825019590531 \t Validation loss: 1.9684800374305855 \t \n",
      "\n",
      "2 epoch without improvement\n",
      " 15%|█▌        | 8610/57400 [31:50<2:48:53,  4.81it/s]\n",
      "Epoch 16 \t Training loss: 1.944145464938692 \t Validation loss: 1.9686139296677152 \t \n",
      "\n",
      "3 epoch without improvement\n",
      " 16%|█▌        | 9184/57400 [33:59<2:51:08,  4.70it/s]\n",
      "Epoch 17 \t Training loss: 1.9464140071270772 \t Validation loss: 1.9660588260424339 \t \n",
      "\n",
      "4 epoch without improvement\n",
      " 17%|█▋        | 9758/57400 [36:07<2:43:45,  4.85it/s]\n",
      "Epoch 18 \t Training loss: 1.9423368731026867 \t Validation loss: 1.9643944380647045 \t \n",
      " 18%|█▊        | 10332/57400 [38:14<2:50:39,  4.60it/s]\n",
      "Epoch 19 \t Training loss: 1.942595436805632 \t Validation loss: 1.9706988152811082 \t \n",
      "\n",
      "1 epoch without improvement\n",
      " 19%|█▉        | 10906/57400 [40:23<2:24:31,  5.36it/s]\n",
      "Epoch 20 \t Training loss: 1.9421846679694146 \t Validation loss: 1.973650439310882 \t \n",
      "\n",
      "2 epoch without improvement\n",
      " 20%|██        | 11480/57400 [42:32<2:38:51,  4.82it/s]\n",
      "Epoch 21 \t Training loss: 1.9411396677070378 \t Validation loss: 1.9655557567790403 \t \n",
      "\n",
      "3 epoch without improvement\n",
      " 21%|██        | 12054/57400 [44:39<2:31:08,  5.00it/s]\n",
      "Epoch 22 \t Training loss: 1.937805292706041 \t Validation loss: 1.9594505479780293 \t \n",
      " 22%|██▏       | 12628/57400 [46:47<2:47:07,  4.47it/s]\n",
      "Epoch 23 \t Training loss: 1.9374392076236446 \t Validation loss: 1.9669567750672163 \t \n",
      "\n",
      "1 epoch without improvement\n",
      " 23%|██▎       | 13202/57400 [49:02<2:16:12,  5.41it/s]\n",
      "Epoch 24 \t Training loss: 1.93850986924321 \t Validation loss: 1.970281524173284 \t \n",
      "\n",
      "2 epoch without improvement\n",
      " 24%|██▍       | 13776/57400 [51:10<2:03:30,  5.89it/s]\n",
      "Epoch 25 \t Training loss: 1.9371149463105284 \t Validation loss: 1.9638491283028812 \t \n",
      "\n",
      "3 epoch without improvement\n",
      " 25%|██▌       | 14350/57400 [53:20<2:43:16,  4.39it/s]\n",
      "Epoch 26 \t Training loss: 1.9374038847065969 \t Validation loss: 1.9707425893363306 \t \n",
      "\n",
      "4 epoch without improvement\n",
      " 26%|██▌       | 14924/57400 [55:29<2:45:08,  4.29it/s]\n",
      "Epoch 27 \t Training loss: 1.9335236414384342 \t Validation loss: 1.9675262479458826 \t \n",
      "\n",
      "5 epoch without improvement\n",
      " 27%|██▋       | 15498/57400 [57:37<3:26:04,  3.39it/s]\n",
      "Epoch 28 \t Training loss: 1.9320074280379957 \t Validation loss: 1.9659036963672962 \t \n",
      "\n",
      "6 epoch without improvement\n",
      " 28%|██▊       | 16072/57400 [59:38<1:57:11,  5.88it/s]\n",
      "Epoch 29 \t Training loss: 1.9301019151036332 \t Validation loss: 1.9723167116359128 \t \n",
      "\n",
      "7 epoch without improvement\n",
      " 29%|██▉       | 16646/57400 [1:02:01<2:26:10,  4.65it/s]\n",
      "Epoch 30 \t Training loss: 1.9319413981371225 \t Validation loss: 1.9646960254442893 \t \n",
      "\n",
      "8 epoch without improvement\n",
      " 30%|███       | 17220/57400 [1:04:55<3:52:45,  2.88it/s]\n",
      "Epoch 31 \t Training loss: 1.927561482278312 \t Validation loss: 1.9611822730403836 \t \n",
      "\n",
      "9 epoch without improvement\n",
      " 31%|███       | 17794/57400 [1:08:22<2:57:56,  3.71it/s]\n",
      "Epoch 32 \t Training loss: 1.9286431749107946 \t Validation loss: 1.963784555257377 \t \n",
      "\n",
      "10 epoch without improvement\n",
      "Validation_loss hasn't improve in 10 epoch. Stopping training after 32 epochs...\n"
     ]
    },
    {
     "data": {
      "image/png": "[encoded data removed]",
      "text/plain": [
       "<Figure size 640x480 with 1 Axes>"
      ]
     },
     "metadata": {},
     "output_type": "display_data"
    }
   ],
   "source": [
    "model = mt.MultiTaskSimple(model_conf).to(device)\n",
    "optimizer = AdamW(model.parameters(), lr=learning_rate,weight_decay=0.1)\n",
    "save_path='distilbert_multitask_simple_2'\n",
    "train.train_function_multi(model,num_epochs,dl_train,optimizer,early_stop = 10,dl_val = dl_val,save_path=save_path,es_threshold=0)"
   ]
  },
  {
   "cell_type": "code",
   "execution_count": 27,
   "metadata": {},
   "outputs": [
    {
     "name": "stderr",
     "output_type": "stream",
     "text": [
      "Some weights of the model checkpoint at distilbert-base-cased were not used when initializing DistilBertModel: ['vocab_projector.bias', 'vocab_transform.weight', 'vocab_projector.weight', 'vocab_transform.bias', 'vocab_layer_norm.bias', 'vocab_layer_norm.weight']\n",
      "- This IS expected if you are initializing DistilBertModel from the checkpoint of a model trained on another task or with another architecture (e.g. initializing a BertForSequenceClassification model from a BertForPreTraining model).\n",
      "- This IS NOT expected if you are initializing DistilBertModel from the checkpoint of a model that you expect to be exactly identical (initializing a BertForSequenceClassification model from a BertForSequenceClassification model).\n"
     ]
    },
    {
     "name": "stdout",
     "output_type": "stream",
     "text": [
      "Evaluación del modelo\n",
      "{'to': {'recall': 0.6578282828282829, 'precision': 0.6578282828282829, 'f1': 0.6578282828282829, 'accuracy': 0.6578282828282829}, 'as': {'recall': 0.7196870925684485, 'precision': 0.7196870925684485, 'f1': 0.7196870925684485, 'accuracy': 0.7196870925684485}, 'about': {'recall': 0.8125, 'precision': 0.8125, 'f1': 0.8125, 'accuracy': 0.8125}} \n",
      "\n",
      "Evaluación en etiquetas male\n",
      "{'to': {'recall': 0.6593673965936739, 'precision': 0.6593673965936739, 'f1': 0.6593673965936739, 'accuracy': 0.6593673965936739}, 'as': {'recall': 0.6691919191919192, 'precision': 0.6691919191919192, 'f1': 0.6691919191919192, 'accuracy': 0.6691919191919192}, 'about': {'recall': 0.7994791666666666, 'precision': 0.7994791666666666, 'f1': 0.7994791666666666, 'accuracy': 0.7994791666666666}} \n",
      "\n",
      "Evaluación en etiquetas female\n",
      "{'to': {'recall': 0.6561679790026247, 'precision': 0.6561679790026247, 'f1': 0.6561679790026247, 'accuracy': 0.6561679790026247}, 'as': {'recall': 0.7735849056603774, 'precision': 0.7735849056603774, 'f1': 0.7735849056603775, 'accuracy': 0.7735849056603774}, 'about': {'recall': 0.825, 'precision': 0.825, 'f1': 0.825, 'accuracy': 0.825}} \n",
      "\n"
     ]
    }
   ],
   "source": [
    "model = mt.MultiTaskSimple(model_conf).to(device)\n",
    "model.load_state_dict(torch.load(save_path))\n",
    "\n",
    "print(\"Evaluación del modelo\")\n",
    "result_global = train.eval_func_multi(model,dl_eval,tasks,gender=None)\n",
    "generic.update_global_metric_multi(result_global,global_metrics,mtype='global')\n",
    "print(result_global,'\\n')\n",
    "print(\"Evaluación en etiquetas male\")\n",
    "result_global = train.eval_func_multi(model,dl_eval,tasks,gender='male')\n",
    "generic.update_global_metric_multi(result_global,global_metrics,mtype='male')\n",
    "print(result_global,'\\n')\n",
    "print(\"Evaluación en etiquetas female\")\n",
    "result_global = train.eval_func_multi(model,dl_eval,tasks,gender='female')\n",
    "generic.update_global_metric_multi(result_global,global_metrics,mtype='female')\n",
    "print(result_global,'\\n')\n"
   ]
  },
  {
   "cell_type": "code",
   "execution_count": 28,
   "metadata": {},
   "outputs": [
    {
     "name": "stderr",
     "output_type": "stream",
     "text": [
      "Some weights of the model checkpoint at distilbert-base-cased were not used when initializing DistilBertModel: ['vocab_projector.bias', 'vocab_transform.weight', 'vocab_projector.weight', 'vocab_transform.bias', 'vocab_layer_norm.bias', 'vocab_layer_norm.weight']\n",
      "- This IS expected if you are initializing DistilBertModel from the checkpoint of a model trained on another task or with another architecture (e.g. initializing a BertForSequenceClassification model from a BertForPreTraining model).\n",
      "- This IS NOT expected if you are initializing DistilBertModel from the checkpoint of a model that you expect to be exactly identical (initializing a BertForSequenceClassification model from a BertForSequenceClassification model).\n"
     ]
    },
    {
     "data": {
      "application/vnd.jupyter.widget-view+json": {
       "model_id": "d5312833550b475fa52be8cefccb690a",
       "version_major": 2,
       "version_minor": 0
      },
      "text/plain": [
       "  0%|          | 0/57400 [00:00<?, ?it/s]"
      ]
     },
     "metadata": {},
     "output_type": "display_data"
    },
    {
     "name": "stdout",
     "output_type": "stream",
     "text": [
      "Epoch 1 \t Training loss: 2.046503994107662 \t Validation loss: 2.008144392805584 \t \n",
      "  1%|          | 574/57400 [03:12<4:23:46,  3.59it/s]\n",
      "Epoch 2 \t Training loss: 1.992902584607593 \t Validation loss: 1.998273132211071 \t \n",
      "  2%|▏         | 1148/57400 [06:21<4:39:18,  3.36it/s]\n",
      "Epoch 3 \t Training loss: 1.9830199033541132 \t Validation loss: 1.9876103744668476 \t \n",
      "  3%|▎         | 1722/57400 [09:22<3:46:09,  4.10it/s]\n",
      "Epoch 4 \t Training loss: 1.9750693924335652 \t Validation loss: 1.9807635889214985 \t \n",
      "  4%|▍         | 2296/57400 [12:10<5:45:09,  2.66it/s]\n",
      "Epoch 5 \t Training loss: 1.970376918332502 \t Validation loss: 1.9879700854673223 \t \n",
      "\n",
      "1 epoch without improvement\n",
      "  5%|▌         | 2870/57400 [15:04<4:25:27,  3.42it/s]\n",
      "Epoch 6 \t Training loss: 1.9683079410097741 \t Validation loss: 1.975454419346179 \t \n",
      "  6%|▌         | 3444/57400 [17:56<4:19:00,  3.47it/s]\n",
      "Epoch 7 \t Training loss: 1.9635294148315536 \t Validation loss: 1.9684062448598572 \t \n",
      "  7%|▋         | 4018/57400 [20:51<5:55:07,  2.51it/s]\n",
      "Epoch 8 \t Training loss: 1.960398024382907 \t Validation loss: 1.9651613841622562 \t \n",
      "  8%|▊         | 4592/57400 [23:45<3:41:20,  3.98it/s]\n",
      "Epoch 9 \t Training loss: 1.9575605467221462 \t Validation loss: 1.9721228025727353 \t \n",
      "\n",
      "1 epoch without improvement\n",
      "  9%|▉         | 5166/57400 [26:21<4:21:32,  3.33it/s]\n",
      "Epoch 10 \t Training loss: 1.9569614290775739 \t Validation loss: 1.9729929435051095 \t \n",
      "\n",
      "2 epoch without improvement\n",
      " 10%|█         | 5740/57400 [29:00<3:56:25,  3.64it/s]\n",
      "Epoch 11 \t Training loss: 1.9540549468911068 \t Validation loss: 1.9700200537503776 \t \n",
      "\n",
      "3 epoch without improvement\n",
      " 11%|█         | 6314/57400 [31:45<3:43:22,  3.81it/s]\n",
      "Epoch 12 \t Training loss: 1.9528153630083862 \t Validation loss: 1.9689736871396082 \t \n",
      "\n",
      "4 epoch without improvement\n",
      " 12%|█▏        | 6888/57400 [34:29<3:50:52,  3.65it/s]\n",
      "Epoch 13 \t Training loss: 1.9510017772584842 \t Validation loss: 1.9656369302232386 \t \n",
      "\n",
      "5 epoch without improvement\n",
      " 13%|█▎        | 7462/57400 [37:09<3:00:01,  4.62it/s]\n",
      "Epoch 14 \t Training loss: 1.948519106318311 \t Validation loss: 1.9721749839136156 \t \n",
      "\n",
      "6 epoch without improvement\n",
      " 14%|█▍        | 8036/57400 [39:48<3:38:57,  3.76it/s]\n",
      "Epoch 15 \t Training loss: 1.9497013661088844 \t Validation loss: 1.9645361375000516 \t \n",
      " 15%|█▌        | 8610/57400 [42:09<2:44:04,  4.96it/s]\n",
      "Epoch 16 \t Training loss: 1.9453878006037935 \t Validation loss: 1.9730657116841461 \t \n",
      "\n",
      "1 epoch without improvement\n",
      " 16%|█▌        | 9184/57400 [44:18<3:03:03,  4.39it/s]\n",
      "Epoch 17 \t Training loss: 1.9435887858011998 \t Validation loss: 1.9741506940227445 \t \n",
      "\n",
      "2 epoch without improvement\n",
      " 17%|█▋        | 9758/57400 [46:27<2:52:40,  4.60it/s]\n",
      "Epoch 18 \t Training loss: 1.9427782851644508 \t Validation loss: 1.9644148915500965 \t \n",
      " 18%|█▊        | 10332/57400 [48:38<3:12:47,  4.07it/s]\n",
      "Epoch 19 \t Training loss: 1.9394019854608728 \t Validation loss: 1.966655032109406 \t \n",
      "\n",
      "1 epoch without improvement\n",
      " 19%|█▉        | 10906/57400 [50:46<2:43:00,  4.75it/s]\n",
      "Epoch 20 \t Training loss: 1.9398064665262706 \t Validation loss: 1.96125492807162 \t \n",
      " 20%|██        | 11480/57400 [53:00<2:34:53,  4.94it/s]\n",
      "Epoch 21 \t Training loss: 1.9414480621391057 \t Validation loss: 1.9696789454605619 \t \n",
      "\n",
      "1 epoch without improvement\n",
      " 21%|██        | 12054/57400 [55:11<2:12:06,  5.72it/s]\n",
      "Epoch 22 \t Training loss: 1.9352195362596147 \t Validation loss: 1.967728540048761 \t \n",
      "\n",
      "2 epoch without improvement\n",
      " 22%|██▏       | 12628/57400 [57:44<4:02:24,  3.08it/s]\n",
      "Epoch 23 \t Training loss: 1.9347964575066383 \t Validation loss: 1.95819022695897 \t \n",
      " 23%|██▎       | 13202/57400 [1:00:44<3:26:51,  3.56it/s]\n",
      "Epoch 24 \t Training loss: 1.936118641173798 \t Validation loss: 1.9617530834876884 \t \n",
      "\n",
      "1 epoch without improvement\n",
      " 24%|██▍       | 13776/57400 [1:03:47<3:35:15,  3.38it/s]\n",
      "Epoch 25 \t Training loss: 1.9357472041342731 \t Validation loss: 1.9671208818080061 \t \n",
      "\n",
      "2 epoch without improvement\n",
      " 25%|██▌       | 14350/57400 [1:06:33<3:31:07,  3.40it/s]\n",
      "Epoch 26 \t Training loss: 1.9342716525240642 \t Validation loss: 1.9718884593349393 \t \n",
      "\n",
      "3 epoch without improvement\n",
      " 26%|██▌       | 14924/57400 [1:09:19<3:17:38,  3.58it/s]\n",
      "Epoch 27 \t Training loss: 1.9316875816222268 \t Validation loss: 1.9635278188576133 \t \n",
      "\n",
      "4 epoch without improvement\n",
      " 27%|██▋       | 15498/57400 [1:12:26<3:36:02,  3.23it/s]\n",
      "Epoch 28 \t Training loss: 1.9321299504735328 \t Validation loss: 1.9676140405363955 \t \n",
      "\n",
      "5 epoch without improvement\n",
      " 28%|██▊       | 16072/57400 [1:14:52<2:41:57,  4.25it/s]\n",
      "Epoch 29 \t Training loss: 1.932125355100798 \t Validation loss: 1.9610384743092424 \t \n",
      "\n",
      "6 epoch without improvement\n",
      " 29%|██▉       | 16646/57400 [1:17:19<2:08:59,  5.27it/s]\n",
      "Epoch 30 \t Training loss: 1.9291044413420382 \t Validation loss: 1.9751266281483537 \t \n",
      "\n",
      "7 epoch without improvement\n",
      " 30%|███       | 17220/57400 [1:19:37<2:23:58,  4.65it/s]\n",
      "Epoch 31 \t Training loss: 1.931876984415154 \t Validation loss: 1.9659647557695032 \t \n",
      "\n",
      "8 epoch without improvement\n",
      " 31%|███       | 17794/57400 [1:22:18<2:31:12,  4.37it/s]\n",
      "Epoch 32 \t Training loss: 1.9285461661707648 \t Validation loss: 1.9714306451506534 \t \n",
      "\n",
      "9 epoch without improvement\n",
      " 32%|███▏      | 18368/57400 [1:25:17<3:03:24,  3.55it/s]\n",
      "Epoch 33 \t Training loss: 1.9277709811822048 \t Validation loss: 1.9644646604182356 \t \n",
      "\n",
      "10 epoch without improvement\n",
      "Validation_loss hasn't improve in 10 epoch. Stopping training after 33 epochs...\n"
     ]
    },
    {
     "data": {
      "image/png": "[encoded data removed]",
      "text/plain": [
       "<Figure size 640x480 with 1 Axes>"
      ]
     },
     "metadata": {},
     "output_type": "display_data"
    }
   ],
   "source": [
    "model = mt.MultiTaskSimple(model_conf).to(device)\n",
    "optimizer = AdamW(model.parameters(), lr=learning_rate,weight_decay=0.1)\n",
    "save_path='distilbert_multitask_simple_3'\n",
    "train.train_function_multi(model,num_epochs,dl_train,optimizer,early_stop = 10,dl_val = dl_val,save_path=save_path,es_threshold=0)"
   ]
  },
  {
   "cell_type": "code",
   "execution_count": 29,
   "metadata": {},
   "outputs": [
    {
     "name": "stderr",
     "output_type": "stream",
     "text": [
      "Some weights of the model checkpoint at distilbert-base-cased were not used when initializing DistilBertModel: ['vocab_projector.bias', 'vocab_transform.weight', 'vocab_projector.weight', 'vocab_transform.bias', 'vocab_layer_norm.bias', 'vocab_layer_norm.weight']\n",
      "- This IS expected if you are initializing DistilBertModel from the checkpoint of a model trained on another task or with another architecture (e.g. initializing a BertForSequenceClassification model from a BertForPreTraining model).\n",
      "- This IS NOT expected if you are initializing DistilBertModel from the checkpoint of a model that you expect to be exactly identical (initializing a BertForSequenceClassification model from a BertForSequenceClassification model).\n"
     ]
    },
    {
     "name": "stdout",
     "output_type": "stream",
     "text": [
      "Evaluación del modelo\n",
      "{'to': {'recall': 0.6603535353535354, 'precision': 0.6603535353535354, 'f1': 0.6603535353535354, 'accuracy': 0.6603535353535354}, 'as': {'recall': 0.7209908735332464, 'precision': 0.7209908735332464, 'f1': 0.7209908735332464, 'accuracy': 0.7209908735332464}, 'about': {'recall': 0.8073979591836735, 'precision': 0.8073979591836735, 'f1': 0.8073979591836735, 'accuracy': 0.8073979591836735}} \n",
      "\n",
      "Evaluación en etiquetas male\n",
      "{'to': {'recall': 0.656934306569343, 'precision': 0.656934306569343, 'f1': 0.656934306569343, 'accuracy': 0.656934306569343}, 'as': {'recall': 0.6641414141414141, 'precision': 0.6641414141414141, 'f1': 0.6641414141414141, 'accuracy': 0.6641414141414141}, 'about': {'recall': 0.7942708333333334, 'precision': 0.7942708333333334, 'f1': 0.7942708333333333, 'accuracy': 0.7942708333333334}} \n",
      "\n",
      "Evaluación en etiquetas female\n",
      "{'to': {'recall': 0.6640419947506562, 'precision': 0.6640419947506562, 'f1': 0.6640419947506562, 'accuracy': 0.6640419947506562}, 'as': {'recall': 0.7816711590296496, 'precision': 0.7816711590296496, 'f1': 0.7816711590296496, 'accuracy': 0.7816711590296496}, 'about': {'recall': 0.82, 'precision': 0.82, 'f1': 0.82, 'accuracy': 0.82}} \n",
      "\n"
     ]
    }
   ],
   "source": [
    "model = mt.MultiTaskSimple(model_conf).to(device)\n",
    "model.load_state_dict(torch.load(save_path))\n",
    "\n",
    "print(\"Evaluación del modelo\")\n",
    "result_global = train.eval_func_multi(model,dl_eval,tasks,gender=None)\n",
    "generic.update_global_metric_multi(result_global,global_metrics,mtype='global')\n",
    "print(result_global,'\\n')\n",
    "print(\"Evaluación en etiquetas male\")\n",
    "result_global = train.eval_func_multi(model,dl_eval,tasks,gender='male')\n",
    "generic.update_global_metric_multi(result_global,global_metrics,mtype='male')\n",
    "print(result_global,'\\n')\n",
    "print(\"Evaluación en etiquetas female\")\n",
    "result_global = train.eval_func_multi(model,dl_eval,tasks,gender='female')\n",
    "generic.update_global_metric_multi(result_global,global_metrics,mtype='female')\n",
    "print(result_global,'\\n')\n"
   ]
  },
  {
   "cell_type": "code",
   "execution_count": 32,
   "metadata": {},
   "outputs": [
    {
     "name": "stdout",
     "output_type": "stream",
     "text": [
      "Métricas globales: \n",
      "\n",
      "\n",
      " about\n",
      "Resultado global: {'recall': 0.8129251700680272, 'precision': 0.8129251700680272, 'f1': 0.8129251700680272, 'accuracy': 0.8129251700680272}\n",
      "Métricas etiqueta male: {'recall': 0.8029513888888888, 'precision': 0.8029513888888888, 'f1': 0.8029513888888888, 'accuracy': 0.8029513888888888}\n",
      "Métricas etiqueta female:  {'recall': 0.8225, 'precision': 0.8225, 'f1': 0.8225, 'accuracy': 0.8225}\n",
      "\n",
      " to\n",
      "Resultado global: {'recall': 0.6582491582491583, 'precision': 0.6582491582491583, 'f1': 0.6582491582491583, 'accuracy': 0.6582491582491583}\n",
      "Métricas etiqueta male: {'recall': 0.6634225466342254, 'precision': 0.6634225466342254, 'f1': 0.6634225466342254, 'accuracy': 0.6634225466342254}\n",
      "Métricas etiqueta female:  {'recall': 0.652668416447944, 'precision': 0.652668416447944, 'f1': 0.652668416447944, 'accuracy': 0.652668416447944}\n",
      "\n",
      " as\n",
      "Resultado global: {'recall': 0.7192524989135158, 'precision': 0.7192524989135158, 'f1': 0.719252498913516, 'accuracy': 0.7192524989135158}\n",
      "Métricas etiqueta male: {'recall': 0.6700336700336701, 'precision': 0.6700336700336701, 'f1': 0.6700336700336701, 'accuracy': 0.6700336700336701}\n",
      "Métricas etiqueta female:  {'recall': 0.7717879604672058, 'precision': 0.7717879604672058, 'f1': 0.7717879604672058, 'accuracy': 0.7717879604672058}\n"
     ]
    }
   ],
   "source": [
    "\n",
    "print('Métricas globales: \\n')\n",
    "\n",
    "for task in ['about','to','as']:\n",
    "    print('\\n',task)\n",
    "    print('Resultado global:',{m:mean(values) for m,values in global_metrics[task]['global'].items()})\n",
    "    print(f'Métricas etiqueta male:',{m:mean(values) for m,values in global_metrics[task]['male'].items()})\n",
    "    print('Métricas etiqueta female: ',{m:mean(values) for m,values in global_metrics[task]['female'].items()})\n"
   ]
  }
 ],
 "metadata": {
  "kernelspec": {
   "display_name": "tfg",
   "language": "python",
   "name": "python3"
  },
  "language_info": {
   "codemirror_mode": {
    "name": "ipython",
    "version": 3
   },
   "file_extension": ".py",
   "mimetype": "text/x-python",
   "name": "python",
   "nbconvert_exporter": "python",
   "pygments_lexer": "ipython3",
   "version": "3.9.13"
  },
  "orig_nbformat": 4,
  "vscode": {
   "interpreter": {
    "hash": "35e8332e99bdf485583869dfbdef293dcf2f9293b1663ec5daea0a573af457c3"
   }
  }
 },
 "nbformat": 4,
 "nbformat_minor": 2
}
