{
 "cells": [
  {
   "cell_type": "code",
   "execution_count": 1,
   "metadata": {},
   "outputs": [],
   "source": [
    "import torch\n",
    "from torch.utils.data import DataLoader\n",
    "from torch.optim import SGD ,AdamW\n",
    "\n",
    "from datasets import load_dataset, load_metric\n",
    "\n",
    "import matplotlib.pyplot as plt\n",
    "\n",
    "import json\n",
    "from statistics import mean\n"
   ]
  },
  {
   "cell_type": "code",
   "execution_count": 2,
   "metadata": {},
   "outputs": [],
   "source": [
    "import utils_generic as generic\n",
    "import multitask_dep as mt\n",
    "import model_confs as confs\n",
    "import train"
   ]
  },
  {
   "cell_type": "code",
   "execution_count": 3,
   "metadata": {},
   "outputs": [],
   "source": [
    "device = torch.device(\"cuda\") if torch.cuda.is_available() else torch.device(\"cpu\")\n",
    "tasks = ['to','as','about']"
   ]
  },
  {
   "cell_type": "code",
   "execution_count": 4,
   "metadata": {},
   "outputs": [],
   "source": [
    "model_conf = confs.distilbert_conf\n",
    "encoding_type = 'pos'"
   ]
  },
  {
   "attachments": {},
   "cell_type": "markdown",
   "metadata": {},
   "source": [
    "# Datos ConvAI"
   ]
  },
  {
   "cell_type": "code",
   "execution_count": 5,
   "metadata": {},
   "outputs": [],
   "source": [
    "with open('Datasets\\ConvAI2\\convai2_complete.json','r') as f:\n",
    "    data = json.load(f)"
   ]
  },
  {
   "cell_type": "code",
   "execution_count": 6,
   "metadata": {},
   "outputs": [],
   "source": [
    "vocab = mt.Vocabulary(data['train'],encoding_type)\n",
    "\n",
    "convai_train = data['train']\n",
    "convai_val = data['validation']\n",
    "\n",
    "\n",
    "\n",
    "convai_train_token = generic.tokenize_dataset_with_dependencies(convai_train,['about','to','as'],vocab,model_conf) \n",
    "convai_val_token = generic.tokenize_dataset_with_dependencies(convai_val,['about','to','as'],vocab,model_conf) "
   ]
  },
  {
   "cell_type": "code",
   "execution_count": 7,
   "metadata": {},
   "outputs": [],
   "source": [
    "convai_train_dataset = mt.DatasetMultitaskDep(convai_train_token,tasks,eval=False)\n",
    "convai_val_dataset = mt.DatasetMultitaskDep(convai_val_token,tasks,eval=False)"
   ]
  },
  {
   "attachments": {},
   "cell_type": "markdown",
   "metadata": {},
   "source": [
    "# Datos md_gender"
   ]
  },
  {
   "cell_type": "code",
   "execution_count": 8,
   "metadata": {},
   "outputs": [],
   "source": [
    "with open('Datasets\\md_gender\\md_complete.json','r',encoding=\"utf8\") as f:\n",
    "    md_data = json.load(f)"
   ]
  },
  {
   "cell_type": "code",
   "execution_count": 9,
   "metadata": {},
   "outputs": [],
   "source": [
    "md_tokenized = generic.tokenize_dataset_with_dependencies(md_data,['about','to','as'],vocab,model_conf) \n",
    "md_dataset = mt.DatasetMultitaskDep(md_tokenized,tasks,eval=True)"
   ]
  },
  {
   "attachments": {},
   "cell_type": "markdown",
   "metadata": {},
   "source": [
    "# Creación dataloaders"
   ]
  },
  {
   "cell_type": "code",
   "execution_count": 10,
   "metadata": {},
   "outputs": [],
   "source": [
    "dl_train =DataLoader(convai_train_dataset,batch_size=128,shuffle=True,collate_fn=mt.collate_fn)\n",
    "dl_val =DataLoader(convai_val_dataset,batch_size=128,shuffle=True,collate_fn=mt.collate_fn)\n",
    "dl_eval = DataLoader(md_dataset,batch_size=128,shuffle=False,collate_fn=mt.collate_fn)"
   ]
  },
  {
   "attachments": {},
   "cell_type": "markdown",
   "metadata": {},
   "source": [
    "# Modelo multitask"
   ]
  },
  {
   "cell_type": "code",
   "execution_count": 11,
   "metadata": {},
   "outputs": [],
   "source": [
    "num_epochs = 100\n",
    "learning_rate = 1e-6\n",
    "\n",
    "global_metrics = {'about':{'global':{'recall': [], 'precision': [],'f1': [], 'accuracy': []},\n",
    "                            'male':{'recall': [], 'precision': [],'f1': [], 'accuracy': []},\n",
    "                            'female':{'recall': [], 'precision': [],'f1': [], 'accuracy': []}},\n",
    "                    'as':{'global':{'recall': [], 'precision': [],'f1': [], 'accuracy': []},\n",
    "                            'male':{'recall': [], 'precision': [],'f1': [], 'accuracy': []},\n",
    "                            'female':{'recall': [], 'precision': [],'f1': [], 'accuracy': []}},\n",
    "                    'to':{'global':{'recall': [], 'precision': [],'f1': [], 'accuracy': []},\n",
    "                            'male':{'recall': [], 'precision': [],'f1': [], 'accuracy': []},\n",
    "                            'female':{'recall': [], 'precision': [],'f1': [], 'accuracy': []}}}"
   ]
  },
  {
   "cell_type": "code",
   "execution_count": 12,
   "metadata": {},
   "outputs": [
    {
     "name": "stderr",
     "output_type": "stream",
     "text": [
      "Some weights of the model checkpoint at distilbert-base-cased were not used when initializing DistilBertModel: ['vocab_projector.bias', 'vocab_transform.bias', 'vocab_projector.weight', 'vocab_transform.weight', 'vocab_layer_norm.bias', 'vocab_layer_norm.weight']\n",
      "- This IS expected if you are initializing DistilBertModel from the checkpoint of a model trained on another task or with another architecture (e.g. initializing a BertForSequenceClassification model from a BertForPreTraining model).\n",
      "- This IS NOT expected if you are initializing DistilBertModel from the checkpoint of a model that you expect to be exactly identical (initializing a BertForSequenceClassification model from a BertForSequenceClassification model).\n"
     ]
    },
    {
     "data": {
      "application/vnd.jupyter.widget-view+json": {
       "model_id": "ab0db9d11e544885accfc9416a7f4e3a",
       "version_major": 2,
       "version_minor": 0
      },
      "text/plain": [
       "  0%|          | 0/57400 [00:00<?, ?it/s]"
      ]
     },
     "metadata": {},
     "output_type": "display_data"
    },
    {
     "name": "stdout",
     "output_type": "stream",
     "text": [
      "Epoch 1 \t Training loss: 2.052170430118614 \t Validation loss: 2.0172665018146323 \t \n",
      "  1%|          | 574/57400 [02:30<4:19:40,  3.65it/s]\n",
      "Epoch 2 \t Training loss: 2.002119121028156 \t Validation loss: 2.000664890822718 \t \n",
      "  2%|▏         | 1148/57400 [05:16<4:20:57,  3.59it/s]\n",
      "Epoch 3 \t Training loss: 1.9899202198932395 \t Validation loss: 1.997979000463324 \t \n",
      "  3%|▎         | 1722/57400 [08:03<3:37:11,  4.27it/s]\n",
      "Epoch 4 \t Training loss: 1.9790634629203052 \t Validation loss: 1.9830192489139105 \t \n",
      "  4%|▍         | 2296/57400 [10:55<6:20:38,  2.41it/s]\n",
      "Epoch 5 \t Training loss: 1.9741369261558879 \t Validation loss: 1.9858190993131217 \t \n",
      "\n",
      "1 epoch without improvement\n",
      "  5%|▌         | 2870/57400 [14:19<5:13:45,  2.90it/s]\n",
      "Epoch 6 \t Training loss: 1.9667800758358494 \t Validation loss: 1.9804834430500613 \t \n",
      "  6%|▌         | 3444/57400 [17:07<4:10:32,  3.59it/s]\n",
      "Epoch 7 \t Training loss: 1.9658047891244657 \t Validation loss: 1.9775508561376798 \t \n",
      "  7%|▋         | 4018/57400 [19:53<3:29:47,  4.24it/s]\n",
      "Epoch 8 \t Training loss: 1.9602365504158499 \t Validation loss: 1.9688230591305231 \t \n",
      "  8%|▊         | 4592/57400 [22:40<3:26:59,  4.25it/s]\n",
      "Epoch 9 \t Training loss: 1.9596188352913806 \t Validation loss: 1.9835460024364924 \t \n",
      "\n",
      "1 epoch without improvement\n",
      "  9%|▉         | 5166/57400 [25:27<4:14:17,  3.42it/s]\n",
      "Epoch 10 \t Training loss: 1.9586713056531102 \t Validation loss: 1.970814207852897 \t \n",
      "\n",
      "2 epoch without improvement\n",
      " 10%|█         | 5740/57400 [28:13<3:22:15,  4.26it/s]\n",
      "Epoch 11 \t Training loss: 1.9539483567563498 \t Validation loss: 1.9693346003354606 \t \n",
      "\n",
      "3 epoch without improvement\n",
      " 11%|█         | 6314/57400 [30:50<3:33:24,  3.99it/s]\n",
      "Epoch 12 \t Training loss: 1.9553979963375716 \t Validation loss: 1.972916403059232 \t \n",
      "\n",
      "4 epoch without improvement\n",
      " 12%|█▏        | 6888/57400 [33:18<3:32:09,  3.97it/s]\n",
      "Epoch 13 \t Training loss: 1.9506537683749448 \t Validation loss: 1.966911788714134 \t \n",
      " 13%|█▎        | 7462/57400 [35:46<3:26:00,  4.04it/s]\n",
      "Epoch 14 \t Training loss: 1.9501845716184025 \t Validation loss: 1.9744699789305864 \t \n",
      "\n",
      "1 epoch without improvement\n",
      " 14%|█▍        | 8036/57400 [38:13<2:59:48,  4.58it/s]\n",
      "Epoch 15 \t Training loss: 1.9491947908019356 \t Validation loss: 1.9709215487464 \t \n",
      "\n",
      "2 epoch without improvement\n",
      " 15%|█▌        | 8610/57400 [40:26<2:34:15,  5.27it/s]\n",
      "Epoch 16 \t Training loss: 1.9451348895810623 \t Validation loss: 1.9677720271934898 \t \n",
      "\n",
      "3 epoch without improvement\n",
      " 16%|█▌        | 9184/57400 [42:47<3:17:37,  4.07it/s]\n",
      "Epoch 17 \t Training loss: 1.94527456403194 \t Validation loss: 1.9675600205437611 \t \n",
      "\n",
      "4 epoch without improvement\n",
      " 17%|█▋        | 9758/57400 [45:06<3:36:35,  3.67it/s]\n",
      "Epoch 18 \t Training loss: 1.9465486635729827 \t Validation loss: 1.9698909925202193 \t \n",
      "\n",
      "5 epoch without improvement\n",
      " 18%|█▊        | 10332/57400 [47:25<3:12:02,  4.08it/s]\n",
      "Epoch 19 \t Training loss: 1.9435692689144652 \t Validation loss: 1.97280242281445 \t \n",
      "\n",
      "6 epoch without improvement\n",
      " 19%|█▉        | 10906/57400 [50:06<3:46:26,  3.42it/s]\n",
      "Epoch 20 \t Training loss: 1.9397734085857246 \t Validation loss: 1.9693780309062894 \t \n",
      "\n",
      "7 epoch without improvement\n",
      " 20%|██        | 11480/57400 [52:49<3:41:17,  3.46it/s]\n",
      "Epoch 21 \t Training loss: 1.93890208234355 \t Validation loss: 1.9630395618535705 \t \n",
      " 21%|██        | 12054/57400 [55:32<2:50:26,  4.43it/s]\n",
      "Epoch 22 \t Training loss: 1.9390243061328183 \t Validation loss: 1.967415815692837 \t \n",
      "\n",
      "1 epoch without improvement\n",
      " 22%|██▏       | 12628/57400 [58:15<3:29:03,  3.57it/s]\n",
      "Epoch 23 \t Training loss: 1.935518553240374 \t Validation loss: 1.9705803434727556 \t \n",
      "\n",
      "2 epoch without improvement\n",
      " 23%|██▎       | 13202/57400 [1:00:58<3:24:35,  3.60it/s]\n",
      "Epoch 24 \t Training loss: 1.9391605218528456 \t Validation loss: 1.9664613634853039 \t \n",
      "\n",
      "3 epoch without improvement\n",
      " 24%|██▍       | 13776/57400 [1:03:42<3:26:29,  3.52it/s]\n",
      "Epoch 25 \t Training loss: 1.9361062957434705 \t Validation loss: 1.9623519141795271 \t \n",
      " 25%|██▌       | 14350/57400 [1:06:26<3:30:41,  3.41it/s]\n",
      "Epoch 26 \t Training loss: 1.9331820218820606 \t Validation loss: 1.9707182059853763 \t \n",
      "\n",
      "1 epoch without improvement\n",
      " 26%|██▌       | 14924/57400 [1:09:09<3:21:00,  3.52it/s]\n",
      "Epoch 27 \t Training loss: 1.9337074119039528 \t Validation loss: 1.9703432341753426 \t \n",
      "\n",
      "2 epoch without improvement\n",
      " 27%|██▋       | 15498/57400 [1:11:52<3:20:41,  3.48it/s]\n",
      "Epoch 28 \t Training loss: 1.9349183521204294 \t Validation loss: 1.9592824184288413 \t \n",
      " 28%|██▊       | 16072/57400 [1:14:35<3:15:24,  3.53it/s]\n",
      "Epoch 29 \t Training loss: 1.9327740326575702 \t Validation loss: 1.96703553805917 \t \n",
      "\n",
      "1 epoch without improvement\n",
      " 29%|██▉       | 16646/57400 [1:17:18<3:14:22,  3.49it/s]\n",
      "Epoch 30 \t Training loss: 1.9318858187788455 \t Validation loss: 1.963780281907421 \t \n",
      "\n",
      "2 epoch without improvement\n",
      " 30%|███       | 17220/57400 [1:20:01<3:12:23,  3.48it/s]\n",
      "Epoch 31 \t Training loss: 1.9308252266059769 \t Validation loss: 1.9734681137537553 \t \n",
      "\n",
      "3 epoch without improvement\n",
      " 31%|███       | 17794/57400 [1:22:44<2:59:39,  3.67it/s]\n",
      "Epoch 32 \t Training loss: 1.9297780569006757 \t Validation loss: 1.9638849193766965 \t \n",
      "\n",
      "4 epoch without improvement\n",
      " 32%|███▏      | 18368/57400 [1:25:27<2:29:34,  4.35it/s]\n",
      "Epoch 33 \t Training loss: 1.927710476237307 \t Validation loss: 1.9684766692630316 \t \n",
      "\n",
      "5 epoch without improvement\n",
      " 33%|███▎      | 18942/57400 [1:28:10<2:54:52,  3.67it/s]\n",
      "Epoch 34 \t Training loss: 1.9260600421071468 \t Validation loss: 1.9675740387480138 \t \n",
      "\n",
      "6 epoch without improvement\n",
      " 34%|███▍      | 19516/57400 [1:30:53<2:16:29,  4.63it/s]\n",
      "Epoch 35 \t Training loss: 1.925774607093492 \t Validation loss: 1.9688286094342249 \t \n",
      "\n",
      "7 epoch without improvement\n",
      " 35%|███▌      | 20090/57400 [1:33:36<2:55:35,  3.54it/s]\n",
      "Epoch 36 \t Training loss: 1.925845810968286 \t Validation loss: 1.9615546990249118 \t \n",
      "\n",
      "8 epoch without improvement\n",
      " 36%|███▌      | 20664/57400 [1:36:10<2:45:17,  3.70it/s]\n",
      "Epoch 37 \t Training loss: 1.9263125849102432 \t Validation loss: 1.9701962915517517 \t \n",
      "\n",
      "9 epoch without improvement\n",
      " 37%|███▋      | 21238/57400 [1:38:33<2:25:31,  4.14it/s]\n",
      "Epoch 38 \t Training loss: 1.92474151052249 \t Validation loss: 1.9698356814303641 \t \n",
      "\n",
      "10 epoch without improvement\n",
      "Validation_loss hasn't improve in 10 epoch. Stopping training after 38 epochs...\n"
     ]
    },
    {
     "data": {
      "image/png": "[encoded data removed]",
      "text/plain": [
       "<Figure size 640x480 with 1 Axes>"
      ]
     },
     "metadata": {},
     "output_type": "display_data"
    }
   ],
   "source": [
    "model = mt.MultiWithDependencies(model_conf,vocab).to(device)\n",
    "optimizer = AdamW(model.parameters(), lr=learning_rate,weight_decay=0.1)\n",
    "save_path='distilbert_multitask_pos_1'\n",
    "train.train_function_multi(model,num_epochs,dl_train,optimizer,early_stop = 10,dl_val = dl_val,save_path=save_path,es_threshold=0)"
   ]
  },
  {
   "cell_type": "code",
   "execution_count": 13,
   "metadata": {},
   "outputs": [
    {
     "name": "stderr",
     "output_type": "stream",
     "text": [
      "Some weights of the model checkpoint at distilbert-base-cased were not used when initializing DistilBertModel: ['vocab_projector.bias', 'vocab_transform.bias', 'vocab_projector.weight', 'vocab_transform.weight', 'vocab_layer_norm.bias', 'vocab_layer_norm.weight']\n",
      "- This IS expected if you are initializing DistilBertModel from the checkpoint of a model trained on another task or with another architecture (e.g. initializing a BertForSequenceClassification model from a BertForPreTraining model).\n",
      "- This IS NOT expected if you are initializing DistilBertModel from the checkpoint of a model that you expect to be exactly identical (initializing a BertForSequenceClassification model from a BertForSequenceClassification model).\n"
     ]
    },
    {
     "name": "stdout",
     "output_type": "stream",
     "text": [
      "Evaluación del modelo\n",
      "{'to': {'recall': 0.6654040404040404, 'precision': 0.6654040404040404, 'f1': 0.6654040404040404, 'accuracy': 0.6654040404040404}, 'as': {'recall': 0.7222946544980443, 'precision': 0.7222946544980443, 'f1': 0.7222946544980443, 'accuracy': 0.7222946544980443}, 'about': {'recall': 0.8239795918367347, 'precision': 0.8239795918367347, 'f1': 0.8239795918367347, 'accuracy': 0.8239795918367347}} \n",
      "\n",
      "Evaluación en etiquetas male\n",
      "{'to': {'recall': 0.6958637469586375, 'precision': 0.6958637469586375, 'f1': 0.6958637469586375, 'accuracy': 0.6958637469586375}, 'as': {'recall': 0.6994949494949495, 'precision': 0.6994949494949495, 'f1': 0.6994949494949495, 'accuracy': 0.6994949494949495}, 'about': {'recall': 0.84375, 'precision': 0.84375, 'f1': 0.84375, 'accuracy': 0.84375}} \n",
      "\n",
      "Evaluación en etiquetas female\n",
      "{'to': {'recall': 0.6325459317585301, 'precision': 0.6325459317585301, 'f1': 0.6325459317585301, 'accuracy': 0.6325459317585301}, 'as': {'recall': 0.7466307277628033, 'precision': 0.7466307277628033, 'f1': 0.7466307277628033, 'accuracy': 0.7466307277628033}, 'about': {'recall': 0.805, 'precision': 0.805, 'f1': 0.805, 'accuracy': 0.805}} \n",
      "\n"
     ]
    }
   ],
   "source": [
    "model = mt.MultiWithDependencies(model_conf,vocab).to(device)\n",
    "model.load_state_dict(torch.load(save_path))\n",
    "\n",
    "print(\"Evaluación del modelo\")\n",
    "result_global = train.eval_func_multi(model,dl_eval,tasks,gender=None)\n",
    "generic.update_global_metric_multi(result_global,global_metrics,mtype='global')\n",
    "print(result_global,'\\n')\n",
    "print(\"Evaluación en etiquetas male\")\n",
    "result_global = train.eval_func_multi(model,dl_eval,tasks,gender='male')\n",
    "generic.update_global_metric_multi(result_global,global_metrics,mtype='male')\n",
    "print(result_global,'\\n')\n",
    "print(\"Evaluación en etiquetas female\")\n",
    "result_global = train.eval_func_multi(model,dl_eval,tasks,gender='female')\n",
    "generic.update_global_metric_multi(result_global,global_metrics,mtype='female')\n",
    "print(result_global,'\\n')\n"
   ]
  },
  {
   "cell_type": "code",
   "execution_count": 14,
   "metadata": {},
   "outputs": [
    {
     "name": "stderr",
     "output_type": "stream",
     "text": [
      "Some weights of the model checkpoint at distilbert-base-cased were not used when initializing DistilBertModel: ['vocab_projector.bias', 'vocab_transform.bias', 'vocab_projector.weight', 'vocab_transform.weight', 'vocab_layer_norm.bias', 'vocab_layer_norm.weight']\n",
      "- This IS expected if you are initializing DistilBertModel from the checkpoint of a model trained on another task or with another architecture (e.g. initializing a BertForSequenceClassification model from a BertForPreTraining model).\n",
      "- This IS NOT expected if you are initializing DistilBertModel from the checkpoint of a model that you expect to be exactly identical (initializing a BertForSequenceClassification model from a BertForSequenceClassification model).\n"
     ]
    },
    {
     "data": {
      "application/vnd.jupyter.widget-view+json": {
       "model_id": "aa3aef4146d3442abacc26fe0c281d49",
       "version_major": 2,
       "version_minor": 0
      },
      "text/plain": [
       "  0%|          | 0/57400 [00:00<?, ?it/s]"
      ]
     },
     "metadata": {},
     "output_type": "display_data"
    },
    {
     "name": "stdout",
     "output_type": "stream",
     "text": [
      "Epoch 1 \t Training loss: 2.05427559472958 \t Validation loss: 2.01396699072951 \t \n",
      "  1%|          | 574/57400 [02:18<3:03:49,  5.15it/s]\n",
      "Epoch 2 \t Training loss: 1.9939742401917222 \t Validation loss: 1.9953024003465296 \t \n",
      "  2%|▏         | 1148/57400 [04:37<3:46:04,  4.15it/s]\n",
      "Epoch 3 \t Training loss: 1.9832338586916907 \t Validation loss: 1.9901374113761772 \t \n",
      "  3%|▎         | 1722/57400 [06:56<3:39:51,  4.22it/s]\n",
      "Epoch 4 \t Training loss: 1.9769236609495475 \t Validation loss: 1.9807261996350045 \t \n",
      "  4%|▍         | 2296/57400 [09:14<3:41:53,  4.14it/s]\n",
      "Epoch 5 \t Training loss: 1.9706370024730935 \t Validation loss: 1.9709195080450026 \t \n",
      "  5%|▌         | 2870/57400 [11:33<3:32:17,  4.28it/s]\n",
      "Epoch 6 \t Training loss: 1.9673696883048746 \t Validation loss: 1.978448538456933 \t \n",
      "\n",
      "1 epoch without improvement\n",
      "  6%|▌         | 3444/57400 [13:51<3:26:54,  4.35it/s]\n",
      "Epoch 7 \t Training loss: 1.963876581358162 \t Validation loss: 1.9813929068840157 \t \n",
      "\n",
      "2 epoch without improvement\n",
      "  7%|▋         | 4018/57400 [16:10<3:33:27,  4.17it/s]\n",
      "Epoch 8 \t Training loss: 1.9626678801579758 \t Validation loss: 1.9740351438522339 \t \n",
      "\n",
      "3 epoch without improvement\n",
      "  8%|▊         | 4592/57400 [18:28<3:30:55,  4.17it/s]\n",
      "Epoch 9 \t Training loss: 1.9595885731617333 \t Validation loss: 1.9632111302876876 \t \n",
      "  9%|▉         | 5166/57400 [20:47<3:26:22,  4.22it/s]\n",
      "Epoch 10 \t Training loss: 1.9583622383323696 \t Validation loss: 1.9659149464914354 \t \n",
      "\n",
      "1 epoch without improvement\n",
      " 10%|█         | 5740/57400 [23:05<3:20:39,  4.29it/s]\n",
      "Epoch 11 \t Training loss: 1.95423114154397 \t Validation loss: 1.9731484914230089 \t \n",
      "\n",
      "2 epoch without improvement\n",
      " 11%|█         | 6314/57400 [25:24<2:39:07,  5.35it/s]\n",
      "Epoch 12 \t Training loss: 1.953296267404789 \t Validation loss: 1.963189389746068 \t \n",
      " 12%|█▏        | 6888/57400 [27:42<3:20:35,  4.20it/s]\n",
      "Epoch 13 \t Training loss: 1.9496001104859941 \t Validation loss: 1.965977080797745 \t \n",
      "\n",
      "1 epoch without improvement\n",
      " 13%|█▎        | 7462/57400 [30:08<3:16:07,  4.24it/s]\n",
      "Epoch 14 \t Training loss: 1.9479196001012982 \t Validation loss: 1.9701988232337821 \t \n",
      "\n",
      "2 epoch without improvement\n",
      " 14%|█▍        | 8036/57400 [32:31<2:45:00,  4.99it/s]\n",
      "Epoch 15 \t Training loss: 1.9488671201862109 \t Validation loss: 1.970142400870889 \t \n",
      "\n",
      "3 epoch without improvement\n",
      " 15%|█▌        | 8610/57400 [34:54<3:14:00,  4.19it/s]\n",
      "Epoch 16 \t Training loss: 1.9463357757192872 \t Validation loss: 1.9675520456443398 \t \n",
      "\n",
      "4 epoch without improvement\n",
      " 16%|█▌        | 9184/57400 [37:22<3:13:04,  4.16it/s]\n",
      "Epoch 17 \t Training loss: 1.9460702793938773 \t Validation loss: 1.9631598783751665 \t \n",
      " 17%|█▋        | 9758/57400 [39:50<3:23:07,  3.91it/s]\n",
      "Epoch 18 \t Training loss: 1.9430224100056426 \t Validation loss: 1.9666183075662387 \t \n",
      "\n",
      "1 epoch without improvement\n",
      " 18%|█▊        | 10332/57400 [42:36<3:41:31,  3.54it/s]\n",
      "Epoch 19 \t Training loss: 1.9421223696931313 \t Validation loss: 1.9669715671216028 \t \n",
      "\n",
      "2 epoch without improvement\n",
      " 19%|█▉        | 10906/57400 [45:22<3:01:16,  4.27it/s]\n",
      "Epoch 20 \t Training loss: 1.9418893639218933 \t Validation loss: 1.969849103588169 \t \n",
      "\n",
      "3 epoch without improvement\n",
      " 20%|██        | 11480/57400 [48:08<3:40:42,  3.47it/s]\n",
      "Epoch 21 \t Training loss: 1.9397375926323468 \t Validation loss: 1.9634760739439625 \t \n",
      "\n",
      "4 epoch without improvement\n",
      " 21%|██        | 12054/57400 [50:55<3:34:02,  3.53it/s]\n",
      "Epoch 22 \t Training loss: 1.9387837887225665 \t Validation loss: 1.9688112109394398 \t \n",
      "\n",
      "5 epoch without improvement\n",
      " 22%|██▏       | 12628/57400 [53:42<3:36:13,  3.45it/s]\n",
      "Epoch 23 \t Training loss: 1.9381154393485198 \t Validation loss: 1.9629673775980028 \t \n",
      " 23%|██▎       | 13202/57400 [56:29<3:38:18,  3.37it/s]\n",
      "Epoch 24 \t Training loss: 1.9369413678239031 \t Validation loss: 1.966326131659039 \t \n",
      "\n",
      "1 epoch without improvement\n",
      " 24%|██▍       | 13776/57400 [59:15<2:44:00,  4.43it/s]\n",
      "Epoch 25 \t Training loss: 1.9359184721621072 \t Validation loss: 1.9617263745453397 \t \n",
      " 25%|██▌       | 14350/57400 [1:02:02<2:45:14,  4.34it/s]\n",
      "Epoch 26 \t Training loss: 1.933973692227739 \t Validation loss: 1.961042228391615 \t \n",
      " 26%|██▌       | 14924/57400 [1:04:48<3:21:39,  3.51it/s]\n",
      "Epoch 27 \t Training loss: 1.9343992126943343 \t Validation loss: 1.9641277305150435 \t \n",
      "\n",
      "1 epoch without improvement\n",
      " 27%|██▋       | 15498/57400 [1:07:34<3:11:02,  3.66it/s]\n",
      "Epoch 28 \t Training loss: 1.9351319822284818 \t Validation loss: 1.9718265270782729 \t \n",
      "\n",
      "2 epoch without improvement\n",
      " 28%|██▊       | 16072/57400 [1:10:21<3:08:16,  3.66it/s]\n",
      "Epoch 29 \t Training loss: 1.931971624753201 \t Validation loss: 1.9620744515273532 \t \n",
      "\n",
      "3 epoch without improvement\n",
      " 29%|██▉       | 16646/57400 [1:13:07<3:10:55,  3.56it/s]\n",
      "Epoch 30 \t Training loss: 1.9311783899413584 \t Validation loss: 1.9625159360594668 \t \n",
      "\n",
      "4 epoch without improvement\n",
      " 30%|███       | 17220/57400 [1:15:53<3:15:57,  3.42it/s]\n",
      "Epoch 31 \t Training loss: 1.931325880284924 \t Validation loss: 1.9725791256306535 \t \n",
      "\n",
      "5 epoch without improvement\n",
      " 31%|███       | 17794/57400 [1:18:39<3:07:03,  3.53it/s]\n",
      "Epoch 32 \t Training loss: 1.9281444892235333 \t Validation loss: 1.9562237181905973 \t \n",
      " 32%|███▏      | 18368/57400 [1:21:26<3:05:31,  3.51it/s]\n",
      "Epoch 33 \t Training loss: 1.9295592281045815 \t Validation loss: 1.9602976209026273 \t \n",
      "\n",
      "1 epoch without improvement\n",
      " 33%|███▎      | 18942/57400 [1:23:54<2:52:44,  3.71it/s]\n",
      "Epoch 34 \t Training loss: 1.9265852518613331 \t Validation loss: 1.9715378870398312 \t \n",
      "\n",
      "2 epoch without improvement\n",
      " 34%|███▍      | 19516/57400 [1:26:21<2:05:50,  5.02it/s]\n",
      "Epoch 35 \t Training loss: 1.9257109181806185 \t Validation loss: 1.9643280970848214 \t \n",
      "\n",
      "3 epoch without improvement\n",
      " 35%|███▌      | 20090/57400 [1:28:48<2:42:29,  3.83it/s]\n",
      "Epoch 36 \t Training loss: 1.9269859115836512 \t Validation loss: 1.9687484583612216 \t \n",
      "\n",
      "4 epoch without improvement\n",
      " 36%|███▌      | 20664/57400 [1:31:16<2:34:04,  3.97it/s]\n",
      "Epoch 37 \t Training loss: 1.9245041650346764 \t Validation loss: 1.9684358653375658 \t \n",
      "\n",
      "5 epoch without improvement\n",
      " 37%|███▋      | 21238/57400 [1:33:43<2:28:12,  4.07it/s]\n",
      "Epoch 38 \t Training loss: 1.925470433376392 \t Validation loss: 1.963824264073776 \t \n",
      "\n",
      "6 epoch without improvement\n",
      " 38%|███▊      | 21812/57400 [1:36:11<2:28:53,  3.98it/s]\n",
      "Epoch 39 \t Training loss: 1.9212255538132963 \t Validation loss: 1.9613631499015678 \t \n",
      "\n",
      "7 epoch without improvement\n",
      " 39%|███▉      | 22386/57400 [1:38:38<2:23:54,  4.06it/s]\n",
      "Epoch 40 \t Training loss: 1.9228672599127898 \t Validation loss: 1.966959844201298 \t \n",
      "\n",
      "8 epoch without improvement\n",
      " 40%|████      | 22960/57400 [1:41:06<2:24:34,  3.97it/s]\n",
      "Epoch 41 \t Training loss: 1.920975055844111 \t Validation loss: 1.9682310031632246 \t \n",
      "\n",
      "9 epoch without improvement\n",
      " 41%|████      | 23534/57400 [1:43:33<2:22:27,  3.96it/s]\n",
      "Epoch 42 \t Training loss: 1.9204700452110077 \t Validation loss: 1.9592031604152615 \t \n",
      "\n",
      "10 epoch without improvement\n",
      "Validation_loss hasn't improve in 10 epoch. Stopping training after 42 epochs...\n"
     ]
    },
    {
     "data": {
      "image/png": "[encoded data removed]",
      "text/plain": [
       "<Figure size 640x480 with 1 Axes>"
      ]
     },
     "metadata": {},
     "output_type": "display_data"
    }
   ],
   "source": [
    "model = mt.MultiWithDependencies(model_conf,vocab).to(device)\n",
    "optimizer = AdamW(model.parameters(), lr=learning_rate,weight_decay=0.1)\n",
    "save_path='distilbert_multitask_pos_2'\n",
    "train.train_function_multi(model,num_epochs,dl_train,optimizer,early_stop = 10,dl_val = dl_val,save_path=save_path,es_threshold=0)"
   ]
  },
  {
   "cell_type": "code",
   "execution_count": 15,
   "metadata": {},
   "outputs": [
    {
     "name": "stderr",
     "output_type": "stream",
     "text": [
      "Some weights of the model checkpoint at distilbert-base-cased were not used when initializing DistilBertModel: ['vocab_projector.bias', 'vocab_transform.bias', 'vocab_projector.weight', 'vocab_transform.weight', 'vocab_layer_norm.bias', 'vocab_layer_norm.weight']\n",
      "- This IS expected if you are initializing DistilBertModel from the checkpoint of a model trained on another task or with another architecture (e.g. initializing a BertForSequenceClassification model from a BertForPreTraining model).\n",
      "- This IS NOT expected if you are initializing DistilBertModel from the checkpoint of a model that you expect to be exactly identical (initializing a BertForSequenceClassification model from a BertForSequenceClassification model).\n"
     ]
    },
    {
     "name": "stdout",
     "output_type": "stream",
     "text": [
      "Evaluación del modelo\n",
      "{'to': {'recall': 0.6603535353535354, 'precision': 0.6603535353535354, 'f1': 0.6603535353535354, 'accuracy': 0.6603535353535354}, 'as': {'recall': 0.7327249022164276, 'precision': 0.7327249022164276, 'f1': 0.7327249022164276, 'accuracy': 0.7327249022164276}, 'about': {'recall': 0.8125, 'precision': 0.8125, 'f1': 0.8125, 'accuracy': 0.8125}} \n",
      "\n",
      "Evaluación en etiquetas male\n",
      "{'to': {'recall': 0.6885644768856448, 'precision': 0.6885644768856448, 'f1': 0.6885644768856448, 'accuracy': 0.6885644768856448}, 'as': {'recall': 0.7045454545454546, 'precision': 0.7045454545454546, 'f1': 0.7045454545454546, 'accuracy': 0.7045454545454546}, 'about': {'recall': 0.8203125, 'precision': 0.8203125, 'f1': 0.8203125, 'accuracy': 0.8203125}} \n",
      "\n",
      "Evaluación en etiquetas female\n",
      "{'to': {'recall': 0.6299212598425197, 'precision': 0.6299212598425197, 'f1': 0.6299212598425197, 'accuracy': 0.6299212598425197}, 'as': {'recall': 0.7628032345013477, 'precision': 0.7628032345013477, 'f1': 0.7628032345013477, 'accuracy': 0.7628032345013477}, 'about': {'recall': 0.805, 'precision': 0.805, 'f1': 0.805, 'accuracy': 0.805}} \n",
      "\n"
     ]
    }
   ],
   "source": [
    "model = mt.MultiWithDependencies(model_conf,vocab).to(device)\n",
    "model.load_state_dict(torch.load(save_path))\n",
    "\n",
    "print(\"Evaluación del modelo\")\n",
    "result_global = train.eval_func_multi(model,dl_eval,tasks,gender=None)\n",
    "generic.update_global_metric_multi(result_global,global_metrics,mtype='global')\n",
    "print(result_global,'\\n')\n",
    "print(\"Evaluación en etiquetas male\")\n",
    "result_global = train.eval_func_multi(model,dl_eval,tasks,gender='male')\n",
    "generic.update_global_metric_multi(result_global,global_metrics,mtype='male')\n",
    "print(result_global,'\\n')\n",
    "print(\"Evaluación en etiquetas female\")\n",
    "result_global = train.eval_func_multi(model,dl_eval,tasks,gender='female')\n",
    "generic.update_global_metric_multi(result_global,global_metrics,mtype='female')\n",
    "print(result_global,'\\n')\n"
   ]
  },
  {
   "cell_type": "code",
   "execution_count": 16,
   "metadata": {},
   "outputs": [
    {
     "name": "stderr",
     "output_type": "stream",
     "text": [
      "Some weights of the model checkpoint at distilbert-base-cased were not used when initializing DistilBertModel: ['vocab_projector.bias', 'vocab_transform.bias', 'vocab_projector.weight', 'vocab_transform.weight', 'vocab_layer_norm.bias', 'vocab_layer_norm.weight']\n",
      "- This IS expected if you are initializing DistilBertModel from the checkpoint of a model trained on another task or with another architecture (e.g. initializing a BertForSequenceClassification model from a BertForPreTraining model).\n",
      "- This IS NOT expected if you are initializing DistilBertModel from the checkpoint of a model that you expect to be exactly identical (initializing a BertForSequenceClassification model from a BertForSequenceClassification model).\n"
     ]
    },
    {
     "data": {
      "application/vnd.jupyter.widget-view+json": {
       "model_id": "0b6c5565ac984282b5784cf751409679",
       "version_major": 2,
       "version_minor": 0
      },
      "text/plain": [
       "  0%|          | 0/57400 [00:00<?, ?it/s]"
      ]
     },
     "metadata": {},
     "output_type": "display_data"
    },
    {
     "name": "stdout",
     "output_type": "stream",
     "text": [
      "Epoch 1 \t Training loss: 2.0360793257424223 \t Validation loss: 2.0026045593164734 \t \n",
      "  1%|          | 574/57400 [02:25<3:12:38,  4.92it/s]\n",
      "Epoch 2 \t Training loss: 1.9879397241080679 \t Validation loss: 1.9819348121093492 \t \n",
      "  2%|▏         | 1148/57400 [04:50<4:00:29,  3.90it/s]\n",
      "Epoch 3 \t Training loss: 1.975422027219048 \t Validation loss: 1.979980660697161 \t \n",
      "  3%|▎         | 1722/57400 [07:16<3:49:30,  4.04it/s]\n",
      "Epoch 4 \t Training loss: 1.9721251863220428 \t Validation loss: 1.9770785065020544 \t \n",
      "  4%|▍         | 2296/57400 [09:42<3:44:34,  4.09it/s]\n",
      "Epoch 5 \t Training loss: 1.9673954346038738 \t Validation loss: 1.9704203241962497 \t \n",
      "  5%|▌         | 2870/57400 [12:07<3:44:49,  4.04it/s]\n",
      "Epoch 6 \t Training loss: 1.9656372512674498 \t Validation loss: 1.9745097342184035 \t \n",
      "\n",
      "1 epoch without improvement\n",
      "  6%|▌         | 3444/57400 [14:32<3:44:23,  4.01it/s]\n",
      "Epoch 7 \t Training loss: 1.962392054160713 \t Validation loss: 1.9644539154182046 \t \n",
      "  7%|▋         | 4018/57400 [16:58<3:53:43,  3.81it/s]\n",
      "Epoch 8 \t Training loss: 1.9582142042781419 \t Validation loss: 1.9729176274800704 \t \n",
      "\n",
      "1 epoch without improvement\n",
      "  8%|▊         | 4592/57400 [19:24<2:59:24,  4.91it/s]\n",
      "Epoch 9 \t Training loss: 1.9554761452957312 \t Validation loss: 1.9746425252849773 \t \n",
      "\n",
      "2 epoch without improvement\n",
      "  9%|▉         | 5166/57400 [21:49<3:55:16,  3.70it/s]\n",
      "Epoch 10 \t Training loss: 1.9541743131880145 \t Validation loss: 1.9720720335588617 \t \n",
      "\n",
      "3 epoch without improvement\n",
      " 10%|█         | 5740/57400 [24:14<3:35:38,  3.99it/s]\n",
      "Epoch 11 \t Training loss: 1.953212071586569 \t Validation loss: 1.970206515263703 \t \n",
      "\n",
      "4 epoch without improvement\n",
      " 11%|█         | 6314/57400 [26:39<3:27:13,  4.11it/s]\n",
      "Epoch 12 \t Training loss: 1.9489998817443848 \t Validation loss: 1.9687448073241671 \t \n",
      "\n",
      "5 epoch without improvement\n",
      " 12%|█▏        | 6888/57400 [29:04<3:28:26,  4.04it/s]\n",
      "Epoch 13 \t Training loss: 1.9490483311825928 \t Validation loss: 1.96955983315484 \t \n",
      "\n",
      "6 epoch without improvement\n",
      " 13%|█▎        | 7462/57400 [31:48<3:50:01,  3.62it/s]\n",
      "Epoch 14 \t Training loss: 1.946208267054076 \t Validation loss: 1.9681017520064015 \t \n",
      "\n",
      "7 epoch without improvement\n",
      " 14%|█▍        | 8036/57400 [34:36<4:02:40,  3.39it/s]\n",
      "Epoch 15 \t Training loss: 1.9438856408155754 \t Validation loss: 1.9663182456614607 \t \n",
      "\n",
      "8 epoch without improvement\n",
      " 15%|█▌        | 8610/57400 [37:25<4:02:51,  3.35it/s]\n",
      "Epoch 16 \t Training loss: 1.9432977294672658 \t Validation loss: 1.9704790559865661 \t \n",
      "\n",
      "9 epoch without improvement\n",
      " 16%|█▌        | 9184/57400 [40:13<3:56:17,  3.40it/s]\n",
      "Epoch 17 \t Training loss: 1.944633046093718 \t Validation loss: 1.966148107738818 \t \n",
      "\n",
      "10 epoch without improvement\n",
      "Validation_loss hasn't improve in 10 epoch. Stopping training after 17 epochs...\n"
     ]
    },
    {
     "data": {
      "image/png": "[encoded data removed]",
      "text/plain": [
       "<Figure size 640x480 with 1 Axes>"
      ]
     },
     "metadata": {},
     "output_type": "display_data"
    }
   ],
   "source": [
    "model = mt.MultiWithDependencies(model_conf,vocab).to(device)\n",
    "optimizer = AdamW(model.parameters(), lr=learning_rate,weight_decay=0.1)\n",
    "save_path='distilbert_multitask_pos_3'\n",
    "train.train_function_multi(model,num_epochs,dl_train,optimizer,early_stop = 10,dl_val = dl_val,save_path=save_path,es_threshold=0)"
   ]
  },
  {
   "cell_type": "code",
   "execution_count": 17,
   "metadata": {},
   "outputs": [
    {
     "name": "stderr",
     "output_type": "stream",
     "text": [
      "Some weights of the model checkpoint at distilbert-base-cased were not used when initializing DistilBertModel: ['vocab_projector.bias', 'vocab_transform.bias', 'vocab_projector.weight', 'vocab_transform.weight', 'vocab_layer_norm.bias', 'vocab_layer_norm.weight']\n",
      "- This IS expected if you are initializing DistilBertModel from the checkpoint of a model trained on another task or with another architecture (e.g. initializing a BertForSequenceClassification model from a BertForPreTraining model).\n",
      "- This IS NOT expected if you are initializing DistilBertModel from the checkpoint of a model that you expect to be exactly identical (initializing a BertForSequenceClassification model from a BertForSequenceClassification model).\n"
     ]
    },
    {
     "name": "stdout",
     "output_type": "stream",
     "text": [
      "Evaluación del modelo\n",
      "{'to': {'recall': 0.6527777777777778, 'precision': 0.6527777777777778, 'f1': 0.6527777777777778, 'accuracy': 0.6527777777777778}, 'as': {'recall': 0.6923076923076923, 'precision': 0.6923076923076923, 'f1': 0.6923076923076923, 'accuracy': 0.6923076923076923}, 'about': {'recall': 0.8201530612244898, 'precision': 0.8201530612244898, 'f1': 0.8201530612244898, 'accuracy': 0.8201530612244898}} \n",
      "\n",
      "Evaluación en etiquetas male\n",
      "{'to': {'recall': 0.6666666666666666, 'precision': 0.6666666666666666, 'f1': 0.6666666666666666, 'accuracy': 0.6666666666666666}, 'as': {'recall': 0.6540404040404041, 'precision': 0.6540404040404041, 'f1': 0.6540404040404041, 'accuracy': 0.6540404040404041}, 'about': {'recall': 0.828125, 'precision': 0.828125, 'f1': 0.828125, 'accuracy': 0.828125}} \n",
      "\n",
      "Evaluación en etiquetas female\n",
      "{'to': {'recall': 0.6377952755905512, 'precision': 0.6377952755905512, 'f1': 0.6377952755905512, 'accuracy': 0.6377952755905512}, 'as': {'recall': 0.7331536388140162, 'precision': 0.7331536388140162, 'f1': 0.7331536388140162, 'accuracy': 0.7331536388140162}, 'about': {'recall': 0.8125, 'precision': 0.8125, 'f1': 0.8125, 'accuracy': 0.8125}} \n",
      "\n"
     ]
    }
   ],
   "source": [
    "model = mt.MultiWithDependencies(model_conf,vocab).to(device)\n",
    "model.load_state_dict(torch.load(save_path))\n",
    "\n",
    "print(\"Evaluación del modelo\")\n",
    "result_global = train.eval_func_multi(model,dl_eval,tasks,gender=None)\n",
    "generic.update_global_metric_multi(result_global,global_metrics,mtype='global')\n",
    "print(result_global,'\\n')\n",
    "print(\"Evaluación en etiquetas male\")\n",
    "result_global = train.eval_func_multi(model,dl_eval,tasks,gender='male')\n",
    "generic.update_global_metric_multi(result_global,global_metrics,mtype='male')\n",
    "print(result_global,'\\n')\n",
    "print(\"Evaluación en etiquetas female\")\n",
    "result_global = train.eval_func_multi(model,dl_eval,tasks,gender='female')\n",
    "generic.update_global_metric_multi(result_global,global_metrics,mtype='female')\n",
    "print(result_global,'\\n')\n"
   ]
  },
  {
   "cell_type": "code",
   "execution_count": 18,
   "metadata": {},
   "outputs": [
    {
     "name": "stdout",
     "output_type": "stream",
     "text": [
      "Métricas globales: \n",
      "\n",
      "\n",
      " about\n",
      "Resultado global: {'recall': 0.8188775510204082, 'precision': 0.8188775510204082, 'f1': 0.8188775510204082, 'accuracy': 0.8188775510204082}\n",
      "Métricas etiqueta male: {'recall': 0.8307291666666666, 'precision': 0.8307291666666666, 'f1': 0.8307291666666666, 'accuracy': 0.8307291666666666}\n",
      "Métricas etiqueta female:  {'recall': 0.8075, 'precision': 0.8075, 'f1': 0.8075, 'accuracy': 0.8075}\n",
      "\n",
      " to\n",
      "Resultado global: {'recall': 0.6595117845117845, 'precision': 0.6595117845117845, 'f1': 0.6595117845117845, 'accuracy': 0.6595117845117845}\n",
      "Métricas etiqueta male: {'recall': 0.683698296836983, 'precision': 0.683698296836983, 'f1': 0.683698296836983, 'accuracy': 0.683698296836983}\n",
      "Métricas etiqueta female:  {'recall': 0.6334208223972003, 'precision': 0.6334208223972003, 'f1': 0.6334208223972003, 'accuracy': 0.6334208223972003}\n",
      "\n",
      " as\n",
      "Resultado global: {'recall': 0.7157757496740548, 'precision': 0.7157757496740548, 'f1': 0.7157757496740548, 'accuracy': 0.7157757496740548}\n",
      "Métricas etiqueta male: {'recall': 0.6860269360269361, 'precision': 0.6860269360269361, 'f1': 0.6860269360269361, 'accuracy': 0.6860269360269361}\n",
      "Métricas etiqueta female:  {'recall': 0.7475292003593891, 'precision': 0.7475292003593891, 'f1': 0.7475292003593891, 'accuracy': 0.7475292003593891}\n"
     ]
    }
   ],
   "source": [
    "\n",
    "print('Métricas globales: \\n')\n",
    "\n",
    "for task in ['about','to','as']:\n",
    "    print('\\n',task)\n",
    "    print('Resultado global:',{m:mean(values) for m,values in global_metrics[task]['global'].items()})\n",
    "    print(f'Métricas etiqueta male:',{m:mean(values) for m,values in global_metrics[task]['male'].items()})\n",
    "    print('Métricas etiqueta female: ',{m:mean(values) for m,values in global_metrics[task]['female'].items()})\n"
   ]
  }
 ],
 "metadata": {
  "kernelspec": {
   "display_name": "tfg",
   "language": "python",
   "name": "python3"
  },
  "language_info": {
   "codemirror_mode": {
    "name": "ipython",
    "version": 3
   },
   "file_extension": ".py",
   "mimetype": "text/x-python",
   "name": "python",
   "nbconvert_exporter": "python",
   "pygments_lexer": "ipython3",
   "version": "3.9.13"
  },
  "orig_nbformat": 4,
  "vscode": {
   "interpreter": {
    "hash": "35e8332e99bdf485583869dfbdef293dcf2f9293b1663ec5daea0a573af457c3"
   }
  }
 },
 "nbformat": 4,
 "nbformat_minor": 2
}
