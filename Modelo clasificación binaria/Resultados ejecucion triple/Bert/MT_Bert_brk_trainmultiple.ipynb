{
 "cells": [
  {
   "cell_type": "code",
   "execution_count": 1,
   "metadata": {},
   "outputs": [],
   "source": [
    "import torch\n",
    "from torch.utils.data import DataLoader\n",
    "from torch.optim import SGD ,AdamW\n",
    "\n",
    "from datasets import load_dataset, load_metric\n",
    "\n",
    "import matplotlib.pyplot as plt\n",
    "\n",
    "import json\n",
    "from statistics import mean"
   ]
  },
  {
   "cell_type": "code",
   "execution_count": 2,
   "metadata": {},
   "outputs": [],
   "source": [
    "import utils_generic as generic\n",
    "import multitask_dep as mt\n",
    "import model_confs as confs\n",
    "import train"
   ]
  },
  {
   "cell_type": "code",
   "execution_count": 3,
   "metadata": {},
   "outputs": [],
   "source": [
    "device = torch.device(\"cuda\") if torch.cuda.is_available() else torch.device(\"cpu\")\n",
    "tasks = ['to','as','about']"
   ]
  },
  {
   "cell_type": "code",
   "execution_count": 4,
   "metadata": {},
   "outputs": [],
   "source": [
    "model_conf = confs.bert_conf\n",
    "encoding_type = 'brk'"
   ]
  },
  {
   "attachments": {},
   "cell_type": "markdown",
   "metadata": {},
   "source": [
    "# Datos ConvAI"
   ]
  },
  {
   "cell_type": "code",
   "execution_count": 5,
   "metadata": {},
   "outputs": [],
   "source": [
    "with open('Datasets\\ConvAI2\\convai2_complete.json','r') as f:\n",
    "    data = json.load(f)"
   ]
  },
  {
   "cell_type": "code",
   "execution_count": 6,
   "metadata": {},
   "outputs": [],
   "source": [
    "vocab = mt.Vocabulary(data['train'],encoding_type)\n",
    "\n",
    "convai_train = data['train']\n",
    "convai_val = data['validation']\n",
    "\n",
    "\n",
    "\n",
    "convai_train_token = generic.tokenize_dataset_with_dependencies(convai_train,['about','to','as'],vocab,model_conf) \n",
    "convai_val_token = generic.tokenize_dataset_with_dependencies(convai_val,['about','to','as'],vocab,model_conf) "
   ]
  },
  {
   "cell_type": "code",
   "execution_count": 7,
   "metadata": {},
   "outputs": [],
   "source": [
    "convai_train_dataset = mt.DatasetMultitaskDep(convai_train_token,tasks,eval=False)\n",
    "convai_val_dataset = mt.DatasetMultitaskDep(convai_val_token,tasks,eval=False)"
   ]
  },
  {
   "attachments": {},
   "cell_type": "markdown",
   "metadata": {},
   "source": [
    "# Datos md_gender"
   ]
  },
  {
   "cell_type": "code",
   "execution_count": 8,
   "metadata": {},
   "outputs": [],
   "source": [
    "with open('Datasets\\md_gender\\md_complete.json','r',encoding=\"utf8\") as f:\n",
    "    md_data = json.load(f)"
   ]
  },
  {
   "cell_type": "code",
   "execution_count": 9,
   "metadata": {},
   "outputs": [],
   "source": [
    "md_tokenized = generic.tokenize_dataset_with_dependencies(md_data,['about','to','as'],vocab,model_conf) \n",
    "md_dataset = mt.DatasetMultitaskDep(md_tokenized,tasks,eval=True)"
   ]
  },
  {
   "attachments": {},
   "cell_type": "markdown",
   "metadata": {},
   "source": [
    "# Creación dataloaders"
   ]
  },
  {
   "cell_type": "code",
   "execution_count": 10,
   "metadata": {},
   "outputs": [],
   "source": [
    "dl_train =DataLoader(convai_train_dataset,batch_size=128,shuffle=True,collate_fn=mt.collate_fn)\n",
    "dl_val =DataLoader(convai_val_dataset,batch_size=128,shuffle=True,collate_fn=mt.collate_fn)\n",
    "dl_eval = DataLoader(md_dataset,batch_size=128,shuffle=False,collate_fn=mt.collate_fn)"
   ]
  },
  {
   "attachments": {},
   "cell_type": "markdown",
   "metadata": {},
   "source": [
    "# Modelo multitask"
   ]
  },
  {
   "cell_type": "code",
   "execution_count": 11,
   "metadata": {},
   "outputs": [],
   "source": [
    "num_epochs = 100\n",
    "learning_rate = 1e-6\n",
    "\n",
    "global_metrics = {'about':{'global':{'recall': [], 'precision': [],'f1': [], 'accuracy': []},\n",
    "                            'male':{'recall': [], 'precision': [],'f1': [], 'accuracy': []},\n",
    "                            'female':{'recall': [], 'precision': [],'f1': [], 'accuracy': []}},\n",
    "                    'as':{'global':{'recall': [], 'precision': [],'f1': [], 'accuracy': []},\n",
    "                            'male':{'recall': [], 'precision': [],'f1': [], 'accuracy': []},\n",
    "                            'female':{'recall': [], 'precision': [],'f1': [], 'accuracy': []}},\n",
    "                    'to':{'global':{'recall': [], 'precision': [],'f1': [], 'accuracy': []},\n",
    "                            'male':{'recall': [], 'precision': [],'f1': [], 'accuracy': []},\n",
    "                            'female':{'recall': [], 'precision': [],'f1': [], 'accuracy': []}}}"
   ]
  },
  {
   "cell_type": "code",
   "execution_count": 12,
   "metadata": {},
   "outputs": [
    {
     "name": "stderr",
     "output_type": "stream",
     "text": [
      "Some weights of the model checkpoint at bert-base-cased were not used when initializing BertModel: ['cls.predictions.transform.dense.weight', 'cls.predictions.transform.LayerNorm.bias', 'cls.predictions.bias', 'cls.seq_relationship.bias', 'cls.predictions.decoder.weight', 'cls.predictions.transform.LayerNorm.weight', 'cls.predictions.transform.dense.bias', 'cls.seq_relationship.weight']\n",
      "- This IS expected if you are initializing BertModel from the checkpoint of a model trained on another task or with another architecture (e.g. initializing a BertForSequenceClassification model from a BertForPreTraining model).\n",
      "- This IS NOT expected if you are initializing BertModel from the checkpoint of a model that you expect to be exactly identical (initializing a BertForSequenceClassification model from a BertForSequenceClassification model).\n"
     ]
    },
    {
     "data": {
      "application/vnd.jupyter.widget-view+json": {
       "model_id": "fed97357bf174dbe9646c1b5a297ebb1",
       "version_major": 2,
       "version_minor": 0
      },
      "text/plain": [
       "  0%|          | 0/57400 [00:00<?, ?it/s]"
      ]
     },
     "metadata": {},
     "output_type": "display_data"
    },
    {
     "name": "stdout",
     "output_type": "stream",
     "text": [
      "Epoch 1 \t Training loss: 2.0644656749967916 \t Validation loss: 2.0216768050597884 \t \n",
      "  1%|          | 574/57400 [01:47<2:44:02,  5.77it/s]\n",
      "Epoch 2 \t Training loss: 2.0007752115718165 \t Validation loss: 1.9955547765149908 \t \n",
      "  2%|▏         | 1148/57400 [03:29<2:30:30,  6.23it/s]\n",
      "Epoch 3 \t Training loss: 1.9806711158685983 \t Validation loss: 1.99008531893714 \t \n",
      "  3%|▎         | 1722/57400 [05:12<2:35:09,  5.98it/s]\n",
      "Epoch 4 \t Training loss: 1.9710374513984972 \t Validation loss: 1.9804895813182248 \t \n",
      "  4%|▍         | 2296/57400 [06:55<2:52:10,  5.33it/s]\n",
      "Epoch 5 \t Training loss: 1.967207769691321 \t Validation loss: 1.9729353472337885 \t \n",
      "  5%|▌         | 2870/57400 [08:37<2:29:05,  6.10it/s]\n",
      "Epoch 6 \t Training loss: 1.9616634035775056 \t Validation loss: 1.9631782850976718 \t \n",
      "  6%|▌         | 3444/57400 [10:19<2:23:44,  6.26it/s]\n",
      "Epoch 7 \t Training loss: 1.9601954589322053 \t Validation loss: 1.9745557712296309 \t \n",
      "\n",
      "1 epoch without improvement\n",
      "  7%|▋         | 4018/57400 [12:02<2:47:43,  5.30it/s]\n",
      "Epoch 8 \t Training loss: 1.9576459080500055 \t Validation loss: 1.9666742268255202 \t \n",
      "\n",
      "2 epoch without improvement\n",
      "  8%|▊         | 4592/57400 [13:45<2:22:34,  6.17it/s]\n",
      "Epoch 9 \t Training loss: 1.9535020448604943 \t Validation loss: 1.971371885073387 \t \n",
      "\n",
      "3 epoch without improvement\n",
      "  9%|▉         | 5166/57400 [15:27<2:19:54,  6.22it/s]\n",
      "Epoch 10 \t Training loss: 1.9513215003113298 \t Validation loss: 1.9722684520786091 \t \n",
      "\n",
      "4 epoch without improvement\n",
      " 10%|█         | 5740/57400 [17:07<2:33:46,  5.60it/s]\n",
      "Epoch 11 \t Training loss: 1.9467701054200894 \t Validation loss: 1.9682014291569339 \t \n",
      "\n",
      "5 epoch without improvement\n",
      " 11%|█         | 6314/57400 [18:46<2:17:50,  6.18it/s]\n",
      "Epoch 12 \t Training loss: 1.9454571916251233 \t Validation loss: 1.9662942462048287 \t \n",
      "\n",
      "6 epoch without improvement\n",
      " 12%|█▏        | 6888/57400 [20:27<2:16:49,  6.15it/s]\n",
      "Epoch 13 \t Training loss: 1.943591875274007 \t Validation loss: 1.9676456754490481 \t \n",
      "\n",
      "7 epoch without improvement\n",
      " 13%|█▎        | 7462/57400 [22:07<2:14:45,  6.18it/s]\n",
      "Epoch 14 \t Training loss: 1.9409790724412075 \t Validation loss: 1.9660432055845098 \t \n",
      "\n",
      "8 epoch without improvement\n",
      " 14%|█▍        | 8036/57400 [23:48<2:24:40,  5.69it/s]\n",
      "Epoch 15 \t Training loss: 1.9421174700667219 \t Validation loss: 1.972881266626261 \t \n",
      "\n",
      "9 epoch without improvement\n",
      " 15%|█▌        | 8610/57400 [25:28<2:12:16,  6.15it/s]\n",
      "Epoch 16 \t Training loss: 1.9372557235511754 \t Validation loss: 1.9724968752618564 \t \n",
      "\n",
      "10 epoch without improvement\n",
      "Validation_loss hasn't improve in 10 epoch. Stopping training after 16 epochs...\n"
     ]
    },
    {
     "data": {
      "image/png": "[encoded data removed]",
      "text/plain": [
       "<Figure size 640x480 with 1 Axes>"
      ]
     },
     "metadata": {},
     "output_type": "display_data"
    }
   ],
   "source": [
    "model = mt.MultiWithDependencies(model_conf,vocab).to(device)\n",
    "optimizer = AdamW(model.parameters(), lr=learning_rate,weight_decay=0.1)\n",
    "save_path='bert_multitask_brk_1'\n",
    "train.train_function_multi(model,num_epochs,dl_train,optimizer,early_stop = 10,dl_val = dl_val,save_path=save_path,es_threshold=0)"
   ]
  },
  {
   "cell_type": "code",
   "execution_count": 12,
   "metadata": {},
   "outputs": [
    {
     "name": "stderr",
     "output_type": "stream",
     "text": [
      "Some weights of the model checkpoint at bert-base-cased were not used when initializing BertModel: ['cls.seq_relationship.bias', 'cls.predictions.transform.LayerNorm.weight', 'cls.predictions.transform.LayerNorm.bias', 'cls.predictions.bias', 'cls.seq_relationship.weight', 'cls.predictions.decoder.weight', 'cls.predictions.transform.dense.bias', 'cls.predictions.transform.dense.weight']\n",
      "- This IS expected if you are initializing BertModel from the checkpoint of a model trained on another task or with another architecture (e.g. initializing a BertForSequenceClassification model from a BertForPreTraining model).\n",
      "- This IS NOT expected if you are initializing BertModel from the checkpoint of a model that you expect to be exactly identical (initializing a BertForSequenceClassification model from a BertForSequenceClassification model).\n"
     ]
    },
    {
     "name": "stdout",
     "output_type": "stream",
     "text": [
      "Evaluación del modelo\n",
      "{'to': {'recall': 0.6755050505050505, 'precision': 0.6755050505050505, 'f1': 0.6755050505050505, 'accuracy': 0.6755050505050505}, 'as': {'recall': 0.7144719687092569, 'precision': 0.7144719687092569, 'f1': 0.7144719687092569, 'accuracy': 0.7144719687092569}, 'about': {'recall': 0.8214285714285714, 'precision': 0.8214285714285714, 'f1': 0.8214285714285714, 'accuracy': 0.8214285714285714}} \n",
      "\n",
      "Evaluación en etiquetas male\n",
      "{'to': {'recall': 0.7274939172749392, 'precision': 0.7274939172749392, 'f1': 0.7274939172749392, 'accuracy': 0.7274939172749392}, 'as': {'recall': 0.7373737373737373, 'precision': 0.7373737373737373, 'f1': 0.7373737373737375, 'accuracy': 0.7373737373737373}, 'about': {'recall': 0.8541666666666666, 'precision': 0.8541666666666666, 'f1': 0.8541666666666666, 'accuracy': 0.8541666666666666}} \n",
      "\n",
      "Evaluación en etiquetas female\n",
      "{'to': {'recall': 0.6194225721784777, 'precision': 0.6194225721784777, 'f1': 0.6194225721784777, 'accuracy': 0.6194225721784777}, 'as': {'recall': 0.6900269541778976, 'precision': 0.6900269541778976, 'f1': 0.6900269541778976, 'accuracy': 0.6900269541778976}, 'about': {'recall': 0.79, 'precision': 0.79, 'f1': 0.79, 'accuracy': 0.79}} \n",
      "\n"
     ]
    }
   ],
   "source": [
    "model = mt.MultiWithDependencies(model_conf,vocab).to(device)\n",
    "model.load_state_dict(torch.load('bert_multitask_brk_1'))\n",
    "\n",
    "print(\"Evaluación del modelo\")\n",
    "result_global = train.eval_func_multi(model,dl_eval,tasks,gender=None)\n",
    "generic.update_global_metric_multi(result_global,global_metrics,mtype='global')\n",
    "print(result_global,'\\n')\n",
    "print(\"Evaluación en etiquetas male\")\n",
    "result_global = train.eval_func_multi(model,dl_eval,tasks,gender='male')\n",
    "generic.update_global_metric_multi(result_global,global_metrics,mtype='male')\n",
    "print(result_global,'\\n')\n",
    "print(\"Evaluación en etiquetas female\")\n",
    "result_global = train.eval_func_multi(model,dl_eval,tasks,gender='female')\n",
    "generic.update_global_metric_multi(result_global,global_metrics,mtype='female')\n",
    "print(result_global,'\\n')\n"
   ]
  },
  {
   "cell_type": "code",
   "execution_count": 14,
   "metadata": {},
   "outputs": [
    {
     "name": "stderr",
     "output_type": "stream",
     "text": [
      "Some weights of the model checkpoint at bert-base-cased were not used when initializing BertModel: ['cls.predictions.transform.dense.weight', 'cls.predictions.transform.LayerNorm.bias', 'cls.predictions.bias', 'cls.seq_relationship.bias', 'cls.predictions.decoder.weight', 'cls.predictions.transform.LayerNorm.weight', 'cls.predictions.transform.dense.bias', 'cls.seq_relationship.weight']\n",
      "- This IS expected if you are initializing BertModel from the checkpoint of a model trained on another task or with another architecture (e.g. initializing a BertForSequenceClassification model from a BertForPreTraining model).\n",
      "- This IS NOT expected if you are initializing BertModel from the checkpoint of a model that you expect to be exactly identical (initializing a BertForSequenceClassification model from a BertForSequenceClassification model).\n"
     ]
    },
    {
     "data": {
      "application/vnd.jupyter.widget-view+json": {
       "model_id": "57c450439f7a430a861b51ad70df7460",
       "version_major": 2,
       "version_minor": 0
      },
      "text/plain": [
       "  0%|          | 0/57400 [00:00<?, ?it/s]"
      ]
     },
     "metadata": {},
     "output_type": "display_data"
    },
    {
     "name": "stdout",
     "output_type": "stream",
     "text": [
      "Epoch 1 \t Training loss: 2.0591281243317634 \t Validation loss: 2.013973985688161 \t \n",
      "  1%|          | 574/57400 [01:40<2:38:56,  5.96it/s]\n",
      "Epoch 2 \t Training loss: 1.9971172664223649 \t Validation loss: 1.9881069963261233 \t \n",
      "  2%|▏         | 1148/57400 [03:20<2:13:21,  7.03it/s]\n",
      "Epoch 3 \t Training loss: 1.9793878095905955 \t Validation loss: 1.9868216635817189 \t \n",
      "  3%|▎         | 1722/57400 [05:00<2:51:06,  5.42it/s]\n",
      "Epoch 4 \t Training loss: 1.9723434510546693 \t Validation loss: 1.9804610902980222 \t \n",
      "  4%|▍         | 2296/57400 [06:41<2:36:48,  5.86it/s]\n",
      "Epoch 5 \t Training loss: 1.964684993547845 \t Validation loss: 1.9772499941163144 \t \n",
      "  5%|▌         | 2870/57400 [08:22<2:37:28,  5.77it/s]\n",
      "Epoch 6 \t Training loss: 1.9620865683107012 \t Validation loss: 1.973017478393296 \t \n",
      "  6%|▌         | 3444/57400 [10:02<2:43:22,  5.50it/s]\n",
      "Epoch 7 \t Training loss: 1.9582449797969246 \t Validation loss: 1.9689805790529413 \t \n",
      "  7%|▋         | 4018/57400 [11:42<2:22:03,  6.26it/s]\n",
      "Epoch 8 \t Training loss: 1.9554499011837232 \t Validation loss: 1.973884408756838 \t \n",
      "\n",
      "1 epoch without improvement\n",
      "  8%|▊         | 4592/57400 [13:23<2:36:30,  5.62it/s]\n",
      "Epoch 9 \t Training loss: 1.9539327272554723 \t Validation loss: 1.9697371034298914 \t \n",
      "\n",
      "2 epoch without improvement\n",
      "  9%|▉         | 5166/57400 [15:04<2:21:58,  6.13it/s]\n",
      "Epoch 10 \t Training loss: 1.9501141712640635 \t Validation loss: 1.9701462135476582 \t \n",
      "\n",
      "3 epoch without improvement\n",
      " 10%|█         | 5740/57400 [16:44<2:27:39,  5.83it/s]\n",
      "Epoch 11 \t Training loss: 1.9508006400347586 \t Validation loss: 1.9654717728243036 \t \n",
      " 11%|█         | 6314/57400 [18:25<2:27:56,  5.76it/s]\n",
      "Epoch 12 \t Training loss: 1.947547077717266 \t Validation loss: 1.9643720630872048 \t \n",
      " 12%|█▏        | 6888/57400 [20:05<2:16:19,  6.18it/s]\n",
      "Epoch 13 \t Training loss: 1.9410751194073348 \t Validation loss: 1.9685108762676433 \t \n",
      "\n",
      "1 epoch without improvement\n",
      " 13%|█▎        | 7462/57400 [21:46<2:14:24,  6.19it/s]\n",
      "Epoch 14 \t Training loss: 1.9423553046449136 \t Validation loss: 1.9615714630838168 \t \n",
      " 14%|█▍        | 8036/57400 [23:27<2:13:15,  6.17it/s]\n",
      "Epoch 15 \t Training loss: 1.942490146758249 \t Validation loss: 1.9633814601574915 \t \n",
      "\n",
      "1 epoch without improvement\n",
      " 15%|█▌        | 8610/57400 [25:08<2:32:24,  5.34it/s]\n",
      "Epoch 16 \t Training loss: 1.9381695759421027 \t Validation loss: 1.962398476519827 \t \n",
      "\n",
      "2 epoch without improvement\n",
      " 16%|█▌        | 9184/57400 [26:48<2:12:55,  6.05it/s]\n",
      "Epoch 17 \t Training loss: 1.9399406644110064 \t Validation loss: 1.9721957909858834 \t \n",
      "\n",
      "3 epoch without improvement\n",
      " 17%|█▋        | 9758/57400 [28:28<2:19:48,  5.68it/s]\n",
      "Epoch 18 \t Training loss: 1.935490665120115 \t Validation loss: 1.9657569012399447 \t \n",
      "\n",
      "4 epoch without improvement\n",
      " 18%|█▊        | 10332/57400 [30:09<1:52:33,  6.97it/s]\n",
      "Epoch 19 \t Training loss: 1.9323127957171264 \t Validation loss: 1.9632267123561795 \t \n",
      "\n",
      "5 epoch without improvement\n",
      " 19%|█▉        | 10906/57400 [31:49<2:09:39,  5.98it/s]\n",
      "Epoch 20 \t Training loss: 1.936217646565587 \t Validation loss: 1.9669962171780861 \t \n",
      "\n",
      "6 epoch without improvement\n",
      " 20%|██        | 11480/57400 [33:28<2:14:19,  5.70it/s]\n",
      "Epoch 21 \t Training loss: 1.9346493287368933 \t Validation loss: 1.9620708712076738 \t \n",
      "\n",
      "7 epoch without improvement\n",
      " 21%|██        | 12054/57400 [35:08<2:03:57,  6.10it/s]\n",
      "Epoch 22 \t Training loss: 1.9294576416447602 \t Validation loss: 1.9594096692941956 \t \n",
      " 22%|██▏       | 12628/57400 [36:49<2:05:33,  5.94it/s]\n",
      "Epoch 23 \t Training loss: 1.9317167434542852 \t Validation loss: 1.958001033734467 \t \n",
      " 23%|██▎       | 13202/57400 [38:31<1:57:39,  6.26it/s]\n",
      "Epoch 24 \t Training loss: 1.930173831326621 \t Validation loss: 1.9587770094305783 \t \n",
      "\n",
      "1 epoch without improvement\n",
      " 24%|██▍       | 13776/57400 [40:12<2:22:34,  5.10it/s]\n",
      "Epoch 25 \t Training loss: 1.9261027198635328 \t Validation loss: 1.96085818541252 \t \n",
      "\n",
      "2 epoch without improvement\n",
      " 25%|██▌       | 14350/57400 [41:51<1:57:16,  6.12it/s]\n",
      "Epoch 26 \t Training loss: 1.92453613576158 \t Validation loss: 1.9711952209472656 \t \n",
      "\n",
      "3 epoch without improvement\n",
      " 26%|██▌       | 14924/57400 [43:32<2:18:07,  5.13it/s]\n",
      "Epoch 27 \t Training loss: 1.9254298876802265 \t Validation loss: 1.9612548795797058 \t \n",
      "\n",
      "4 epoch without improvement\n",
      " 27%|██▋       | 15498/57400 [45:12<1:56:27,  6.00it/s]\n",
      "Epoch 28 \t Training loss: 1.923446116547136 \t Validation loss: 1.968705864275916 \t \n",
      "\n",
      "5 epoch without improvement\n",
      " 28%|██▊       | 16072/57400 [46:53<2:00:45,  5.70it/s]\n",
      "Epoch 29 \t Training loss: 1.9210161487815272 \t Validation loss: 1.9633168083126262 \t \n",
      "\n",
      "6 epoch without improvement\n",
      " 29%|██▉       | 16646/57400 [48:33<2:05:18,  5.42it/s]\n",
      "Epoch 30 \t Training loss: 1.9241306098496043 \t Validation loss: 1.9556900040578034 \t \n",
      " 30%|███       | 17220/57400 [50:14<1:45:46,  6.33it/s]\n",
      "Epoch 31 \t Training loss: 1.9205792278362899 \t Validation loss: 1.9687587305650873 \t \n",
      "\n",
      "1 epoch without improvement\n",
      " 31%|███       | 17794/57400 [51:55<1:57:48,  5.60it/s]\n",
      "Epoch 32 \t Training loss: 1.9201361748814998 \t Validation loss: 1.9688346446570704 \t \n",
      "\n",
      "2 epoch without improvement\n",
      " 32%|███▏      | 18368/57400 [53:35<1:47:56,  6.03it/s]\n",
      "Epoch 33 \t Training loss: 1.916908784610469 \t Validation loss: 1.960319361444247 \t \n",
      "\n",
      "3 epoch without improvement\n",
      " 33%|███▎      | 18942/57400 [55:16<1:51:33,  5.75it/s]\n",
      "Epoch 34 \t Training loss: 1.9181188743704287 \t Validation loss: 1.9641093278335313 \t \n",
      "\n",
      "4 epoch without improvement\n",
      " 34%|███▍      | 19516/57400 [56:56<1:40:37,  6.27it/s]\n",
      "Epoch 35 \t Training loss: 1.9153167962612592 \t Validation loss: 1.9727984767849163 \t \n",
      "\n",
      "5 epoch without improvement\n",
      " 35%|███▌      | 20090/57400 [58:37<1:41:01,  6.16it/s]\n",
      "Epoch 36 \t Training loss: 1.9146727342223457 \t Validation loss: 1.9629417051703244 \t \n",
      "\n",
      "6 epoch without improvement\n",
      " 36%|███▌      | 20664/57400 [1:00:17<1:35:27,  6.41it/s]\n",
      "Epoch 37 \t Training loss: 1.9147536166868975 \t Validation loss: 1.965721677925627 \t \n",
      "\n",
      "7 epoch without improvement\n",
      " 37%|███▋      | 21238/57400 [1:01:58<1:40:53,  5.97it/s]\n",
      "Epoch 38 \t Training loss: 1.9150022577741004 \t Validation loss: 1.9664198685500582 \t \n",
      "\n",
      "8 epoch without improvement\n",
      " 38%|███▊      | 21812/57400 [1:03:37<1:43:49,  5.71it/s]\n",
      "Epoch 39 \t Training loss: 1.9140002874962545 \t Validation loss: 1.9660589028212985 \t \n",
      "\n",
      "9 epoch without improvement\n",
      " 39%|███▉      | 22386/57400 [1:05:17<1:35:14,  6.13it/s]\n",
      "Epoch 40 \t Training loss: 1.9148621490608109 \t Validation loss: 1.9631205049611755 \t \n",
      "\n",
      "10 epoch without improvement\n",
      "Validation_loss hasn't improve in 10 epoch. Stopping training after 40 epochs...\n"
     ]
    },
    {
     "data": {
      "image/png": "[encoded data removed]",
      "text/plain": [
       "<Figure size 640x480 with 1 Axes>"
      ]
     },
     "metadata": {},
     "output_type": "display_data"
    }
   ],
   "source": [
    "model = mt.MultiWithDependencies(model_conf,vocab).to(device)\n",
    "optimizer = AdamW(model.parameters(), lr=learning_rate,weight_decay=0.1)\n",
    "save_path='bert_multitask_brk_2'\n",
    "train.train_function_multi(model,num_epochs,dl_train,optimizer,early_stop = 10,dl_val = dl_val,save_path=save_path,es_threshold=0)"
   ]
  },
  {
   "cell_type": "code",
   "execution_count": 13,
   "metadata": {},
   "outputs": [
    {
     "name": "stderr",
     "output_type": "stream",
     "text": [
      "Some weights of the model checkpoint at bert-base-cased were not used when initializing BertModel: ['cls.seq_relationship.bias', 'cls.predictions.transform.LayerNorm.weight', 'cls.predictions.transform.LayerNorm.bias', 'cls.predictions.bias', 'cls.seq_relationship.weight', 'cls.predictions.decoder.weight', 'cls.predictions.transform.dense.bias', 'cls.predictions.transform.dense.weight']\n",
      "- This IS expected if you are initializing BertModel from the checkpoint of a model trained on another task or with another architecture (e.g. initializing a BertForSequenceClassification model from a BertForPreTraining model).\n",
      "- This IS NOT expected if you are initializing BertModel from the checkpoint of a model that you expect to be exactly identical (initializing a BertForSequenceClassification model from a BertForSequenceClassification model).\n"
     ]
    },
    {
     "name": "stdout",
     "output_type": "stream",
     "text": [
      "Evaluación del modelo\n",
      "{'to': {'recall': 0.6982323232323232, 'precision': 0.6982323232323232, 'f1': 0.6982323232323232, 'accuracy': 0.6982323232323232}, 'as': {'recall': 0.727509778357236, 'precision': 0.727509778357236, 'f1': 0.727509778357236, 'accuracy': 0.727509778357236}, 'about': {'recall': 0.8354591836734694, 'precision': 0.8354591836734694, 'f1': 0.8354591836734694, 'accuracy': 0.8354591836734694}} \n",
      "\n",
      "Evaluación en etiquetas male\n",
      "{'to': {'recall': 0.7347931873479319, 'precision': 0.7347931873479319, 'f1': 0.7347931873479319, 'accuracy': 0.7347931873479319}, 'as': {'recall': 0.73989898989899, 'precision': 0.73989898989899, 'f1': 0.73989898989899, 'accuracy': 0.73989898989899}, 'about': {'recall': 0.8541666666666666, 'precision': 0.8541666666666666, 'f1': 0.8541666666666666, 'accuracy': 0.8541666666666666}} \n",
      "\n",
      "Evaluación en etiquetas female\n",
      "{'to': {'recall': 0.6587926509186351, 'precision': 0.6587926509186351, 'f1': 0.6587926509186351, 'accuracy': 0.6587926509186351}, 'as': {'recall': 0.7142857142857143, 'precision': 0.7142857142857143, 'f1': 0.7142857142857143, 'accuracy': 0.7142857142857143}, 'about': {'recall': 0.8175, 'precision': 0.8175, 'f1': 0.8175, 'accuracy': 0.8175}} \n",
      "\n"
     ]
    }
   ],
   "source": [
    "model = mt.MultiWithDependencies(model_conf,vocab).to(device)\n",
    "model.load_state_dict(torch.load('bert_multitask_brk_3'))\n",
    "\n",
    "print(\"Evaluación del modelo\")\n",
    "result_global = train.eval_func_multi(model,dl_eval,tasks,gender=None)\n",
    "generic.update_global_metric_multi(result_global,global_metrics,mtype='global')\n",
    "print(result_global,'\\n')\n",
    "print(\"Evaluación en etiquetas male\")\n",
    "result_global = train.eval_func_multi(model,dl_eval,tasks,gender='male')\n",
    "generic.update_global_metric_multi(result_global,global_metrics,mtype='male')\n",
    "print(result_global,'\\n')\n",
    "print(\"Evaluación en etiquetas female\")\n",
    "result_global = train.eval_func_multi(model,dl_eval,tasks,gender='female')\n",
    "generic.update_global_metric_multi(result_global,global_metrics,mtype='female')\n",
    "print(result_global,'\\n')\n"
   ]
  },
  {
   "cell_type": "code",
   "execution_count": 14,
   "metadata": {},
   "outputs": [
    {
     "name": "stderr",
     "output_type": "stream",
     "text": [
      "Some weights of the model checkpoint at bert-base-cased were not used when initializing BertModel: ['cls.seq_relationship.bias', 'cls.predictions.transform.LayerNorm.weight', 'cls.predictions.transform.LayerNorm.bias', 'cls.predictions.bias', 'cls.seq_relationship.weight', 'cls.predictions.decoder.weight', 'cls.predictions.transform.dense.bias', 'cls.predictions.transform.dense.weight']\n",
      "- This IS expected if you are initializing BertModel from the checkpoint of a model trained on another task or with another architecture (e.g. initializing a BertForSequenceClassification model from a BertForPreTraining model).\n",
      "- This IS NOT expected if you are initializing BertModel from the checkpoint of a model that you expect to be exactly identical (initializing a BertForSequenceClassification model from a BertForSequenceClassification model).\n"
     ]
    },
    {
     "data": {
      "application/vnd.jupyter.widget-view+json": {
       "model_id": "9a84c0d157f54129a147d2b46df6c579",
       "version_major": 2,
       "version_minor": 0
      },
      "text/plain": [
       "  0%|          | 0/57400 [00:00<?, ?it/s]"
      ]
     },
     "metadata": {},
     "output_type": "display_data"
    },
    {
     "name": "stdout",
     "output_type": "stream",
     "text": [
      "Epoch 1 \t Training loss: 2.0518648946326783 \t Validation loss: 2.016511904991279 \t \n",
      "  1%|          | 574/57400 [01:42<2:41:01,  5.88it/s]\n",
      "Epoch 2 \t Training loss: 1.991614246825308 \t Validation loss: 1.991076069363093 \t \n",
      "  2%|▏         | 1148/57400 [03:22<2:15:44,  6.91it/s]\n",
      "Epoch 3 \t Training loss: 1.9742871093002345 \t Validation loss: 1.9833558939271054 \t \n",
      "  3%|▎         | 1722/57400 [05:02<2:27:49,  6.28it/s]\n",
      "Epoch 4 \t Training loss: 1.9670532975047308 \t Validation loss: 1.9805250693175753 \t \n",
      "  4%|▍         | 2296/57400 [06:47<2:37:35,  5.83it/s]\n",
      "Epoch 5 \t Training loss: 1.9633782979503327 \t Validation loss: 1.9708269955748219 \t \n",
      "  5%|▌         | 2870/57400 [08:34<2:20:46,  6.46it/s]\n",
      "Epoch 6 \t Training loss: 1.9600447522223203 \t Validation loss: 1.9740878666861583 \t \n",
      "\n",
      "1 epoch without improvement\n",
      "  6%|▌         | 3444/57400 [10:20<2:13:43,  6.73it/s]\n",
      "Epoch 7 \t Training loss: 1.958570057299079 \t Validation loss: 1.9726908853498555 \t \n",
      "\n",
      "2 epoch without improvement\n",
      "  7%|▋         | 4018/57400 [12:06<2:37:27,  5.65it/s]\n",
      "Epoch 8 \t Training loss: 1.9547066977215146 \t Validation loss: 1.9675946316476596 \t \n",
      "  8%|▊         | 4592/57400 [13:53<2:27:47,  5.96it/s]\n",
      "Epoch 9 \t Training loss: 1.9502417243731562 \t Validation loss: 1.9681959354271323 \t \n",
      "\n",
      "1 epoch without improvement\n",
      "  9%|▉         | 5166/57400 [15:40<2:34:26,  5.64it/s]\n",
      "Epoch 10 \t Training loss: 1.9493208940851563 \t Validation loss: 1.966741834656667 \t \n",
      " 10%|█         | 5740/57400 [17:26<2:29:55,  5.74it/s]\n",
      "Epoch 11 \t Training loss: 1.9439173540171846 \t Validation loss: 1.966531753540039 \t \n",
      " 11%|█         | 6314/57400 [19:14<3:03:38,  4.64it/s]\n",
      "Epoch 12 \t Training loss: 1.9439647212261106 \t Validation loss: 1.9676561759690108 \t \n",
      "\n",
      "1 epoch without improvement\n",
      " 12%|█▏        | 6888/57400 [20:59<2:18:31,  6.08it/s]\n",
      "Epoch 13 \t Training loss: 1.9421633137227767 \t Validation loss: 1.9593897007279477 \t \n",
      " 13%|█▎        | 7462/57400 [22:49<2:09:41,  6.42it/s]\n",
      "Epoch 14 \t Training loss: 1.9384236896494955 \t Validation loss: 1.964903174820593 \t \n",
      "\n",
      "1 epoch without improvement\n",
      " 14%|█▍        | 8036/57400 [24:30<2:16:19,  6.04it/s]\n",
      "Epoch 15 \t Training loss: 1.9375806085324039 \t Validation loss: 1.9607741893348047 \t \n",
      "\n",
      "2 epoch without improvement\n",
      " 15%|█▌        | 8610/57400 [26:10<2:02:27,  6.64it/s]\n",
      "Epoch 16 \t Training loss: 1.9374561957781322 \t Validation loss: 1.9538099280858443 \t \n",
      " 16%|█▌        | 9184/57400 [27:50<2:12:44,  6.05it/s]\n",
      "Epoch 17 \t Training loss: 1.934373319356699 \t Validation loss: 1.9624445135310544 \t \n",
      "\n",
      "1 epoch without improvement\n",
      " 17%|█▋        | 9758/57400 [29:30<2:14:40,  5.90it/s]\n",
      "Epoch 18 \t Training loss: 1.9324459138647605 \t Validation loss: 1.965442693839639 \t \n",
      "\n",
      "2 epoch without improvement\n",
      " 18%|█▊        | 10332/57400 [31:09<2:12:19,  5.93it/s]\n",
      "Epoch 19 \t Training loss: 1.9343434719673849 \t Validation loss: 1.9605232093293787 \t \n",
      "\n",
      "3 epoch without improvement\n",
      " 19%|█▉        | 10906/57400 [32:49<2:14:15,  5.77it/s]\n",
      "Epoch 20 \t Training loss: 1.9316258002656677 \t Validation loss: 1.964595289553626 \t \n",
      "\n",
      "4 epoch without improvement\n",
      " 20%|██        | 11480/57400 [34:29<2:03:10,  6.21it/s]\n",
      "Epoch 21 \t Training loss: 1.9302681146598444 \t Validation loss: 1.9592357995146412 \t \n",
      "\n",
      "5 epoch without improvement\n",
      " 21%|██        | 12054/57400 [36:09<2:05:47,  6.01it/s]\n",
      "Epoch 22 \t Training loss: 1.927479588611616 \t Validation loss: 1.964018995479002 \t \n",
      "\n",
      "6 epoch without improvement\n",
      " 22%|██▏       | 12628/57400 [37:49<2:02:33,  6.09it/s]\n",
      "Epoch 23 \t Training loss: 1.9266431962986856 \t Validation loss: 1.9642033779014976 \t \n",
      "\n",
      "7 epoch without improvement\n",
      " 23%|██▎       | 13202/57400 [39:28<2:06:47,  5.81it/s]\n",
      "Epoch 24 \t Training loss: 1.9251739349514765 \t Validation loss: 1.9622366832474532 \t \n",
      "\n",
      "8 epoch without improvement\n",
      " 24%|██▍       | 13776/57400 [41:08<2:03:40,  5.88it/s]\n",
      "Epoch 25 \t Training loss: 1.92372997276459 \t Validation loss: 1.9600193561133692 \t \n",
      "\n",
      "9 epoch without improvement\n",
      " 25%|██▌       | 14350/57400 [42:48<2:02:07,  5.88it/s]\n",
      "Epoch 26 \t Training loss: 1.922347408138501 \t Validation loss: 1.963475744603044 \t \n",
      "\n",
      "10 epoch without improvement\n",
      "Validation_loss hasn't improve in 10 epoch. Stopping training after 26 epochs...\n"
     ]
    },
    {
     "data": {
      "image/png": "[encoded data removed]",
      "text/plain": [
       "<Figure size 640x480 with 1 Axes>"
      ]
     },
     "metadata": {},
     "output_type": "display_data"
    }
   ],
   "source": [
    "model = mt.MultiWithDependencies(model_conf,vocab).to(device)\n",
    "optimizer = AdamW(model.parameters(), lr=learning_rate,weight_decay=0.1)\n",
    "save_path='bert_multitask_brk_3'\n",
    "train.train_function_multi(model,num_epochs,dl_train,optimizer,early_stop = 10,dl_val = dl_val,save_path=save_path,es_threshold=0)"
   ]
  },
  {
   "cell_type": "code",
   "execution_count": 15,
   "metadata": {},
   "outputs": [
    {
     "name": "stderr",
     "output_type": "stream",
     "text": [
      "Some weights of the model checkpoint at bert-base-cased were not used when initializing BertModel: ['cls.seq_relationship.bias', 'cls.predictions.transform.LayerNorm.weight', 'cls.predictions.transform.LayerNorm.bias', 'cls.predictions.bias', 'cls.seq_relationship.weight', 'cls.predictions.decoder.weight', 'cls.predictions.transform.dense.bias', 'cls.predictions.transform.dense.weight']\n",
      "- This IS expected if you are initializing BertModel from the checkpoint of a model trained on another task or with another architecture (e.g. initializing a BertForSequenceClassification model from a BertForPreTraining model).\n",
      "- This IS NOT expected if you are initializing BertModel from the checkpoint of a model that you expect to be exactly identical (initializing a BertForSequenceClassification model from a BertForSequenceClassification model).\n"
     ]
    },
    {
     "name": "stdout",
     "output_type": "stream",
     "text": [
      "Evaluación del modelo\n",
      "{'to': {'recall': 0.6957070707070707, 'precision': 0.6957070707070707, 'f1': 0.6957070707070707, 'accuracy': 0.6957070707070707}, 'as': {'recall': 0.7196870925684485, 'precision': 0.7196870925684485, 'f1': 0.7196870925684485, 'accuracy': 0.7196870925684485}, 'about': {'recall': 0.8392857142857143, 'precision': 0.8392857142857143, 'f1': 0.8392857142857143, 'accuracy': 0.8392857142857143}} \n",
      "\n",
      "Evaluación en etiquetas male\n",
      "{'to': {'recall': 0.7128953771289538, 'precision': 0.7128953771289538, 'f1': 0.7128953771289537, 'accuracy': 0.7128953771289538}, 'as': {'recall': 0.7222222222222222, 'precision': 0.7222222222222222, 'f1': 0.7222222222222222, 'accuracy': 0.7222222222222222}, 'about': {'recall': 0.8411458333333334, 'precision': 0.8411458333333334, 'f1': 0.8411458333333333, 'accuracy': 0.8411458333333334}} \n",
      "\n",
      "Evaluación en etiquetas female\n",
      "{'to': {'recall': 0.6771653543307087, 'precision': 0.6771653543307087, 'f1': 0.6771653543307087, 'accuracy': 0.6771653543307087}, 'as': {'recall': 0.7169811320754716, 'precision': 0.7169811320754716, 'f1': 0.7169811320754716, 'accuracy': 0.7169811320754716}, 'about': {'recall': 0.8375, 'precision': 0.8375, 'f1': 0.8375, 'accuracy': 0.8375}} \n",
      "\n"
     ]
    }
   ],
   "source": [
    "model = mt.MultiWithDependencies(model_conf,vocab).to(device)\n",
    "model.load_state_dict(torch.load(save_path))\n",
    "\n",
    "print(\"Evaluación del modelo\")\n",
    "result_global = train.eval_func_multi(model,dl_eval,tasks,gender=None)\n",
    "generic.update_global_metric_multi(result_global,global_metrics,mtype='global')\n",
    "print(result_global,'\\n')\n",
    "print(\"Evaluación en etiquetas male\")\n",
    "result_global = train.eval_func_multi(model,dl_eval,tasks,gender='male')\n",
    "generic.update_global_metric_multi(result_global,global_metrics,mtype='male')\n",
    "print(result_global,'\\n')\n",
    "print(\"Evaluación en etiquetas female\")\n",
    "result_global = train.eval_func_multi(model,dl_eval,tasks,gender='female')\n",
    "generic.update_global_metric_multi(result_global,global_metrics,mtype='female')\n",
    "print(result_global,'\\n')\n"
   ]
  },
  {
   "cell_type": "code",
   "execution_count": 16,
   "metadata": {},
   "outputs": [
    {
     "name": "stdout",
     "output_type": "stream",
     "text": [
      "Métricas globales: \n",
      "\n",
      "\n",
      " about\n",
      "Resultado global: {'recall': 0.8320578231292517, 'precision': 0.8320578231292517, 'f1': 0.8320578231292517, 'accuracy': 0.8320578231292517}\n",
      "Métricas etiqueta male: {'recall': 0.8498263888888888, 'precision': 0.8498263888888888, 'f1': 0.8498263888888888, 'accuracy': 0.8498263888888888}\n",
      "Métricas etiqueta female:  {'recall': 0.8150000000000001, 'precision': 0.8150000000000001, 'f1': 0.8150000000000001, 'accuracy': 0.8150000000000001}\n",
      "\n",
      " to\n",
      "Resultado global: {'recall': 0.6898148148148148, 'precision': 0.6898148148148148, 'f1': 0.6898148148148148, 'accuracy': 0.6898148148148148}\n",
      "Métricas etiqueta male: {'recall': 0.7250608272506083, 'precision': 0.7250608272506083, 'f1': 0.7250608272506083, 'accuracy': 0.7250608272506083}\n",
      "Métricas etiqueta female:  {'recall': 0.6517935258092739, 'precision': 0.6517935258092739, 'f1': 0.6517935258092739, 'accuracy': 0.6517935258092739}\n",
      "\n",
      " as\n",
      "Resultado global: {'recall': 0.7205562798783138, 'precision': 0.7205562798783138, 'f1': 0.7205562798783138, 'accuracy': 0.7205562798783138}\n",
      "Métricas etiqueta male: {'recall': 0.7331649831649831, 'precision': 0.7331649831649831, 'f1': 0.7331649831649832, 'accuracy': 0.7331649831649831}\n",
      "Métricas etiqueta female:  {'recall': 0.7070979335130279, 'precision': 0.7070979335130279, 'f1': 0.7070979335130279, 'accuracy': 0.7070979335130279}\n"
     ]
    }
   ],
   "source": [
    "\n",
    "print('Métricas globales: \\n')\n",
    "\n",
    "for task in ['about','to','as']:\n",
    "    print('\\n',task)\n",
    "    print('Resultado global:',{m:mean(values) for m,values in global_metrics[task]['global'].items()})\n",
    "    print(f'Métricas etiqueta male:',{m:mean(values) for m,values in global_metrics[task]['male'].items()})\n",
    "    print('Métricas etiqueta female: ',{m:mean(values) for m,values in global_metrics[task]['female'].items()})\n"
   ]
  }
 ],
 "metadata": {
  "kernelspec": {
   "display_name": "tfg",
   "language": "python",
   "name": "python3"
  },
  "language_info": {
   "codemirror_mode": {
    "name": "ipython",
    "version": 3
   },
   "file_extension": ".py",
   "mimetype": "text/x-python",
   "name": "python",
   "nbconvert_exporter": "python",
   "pygments_lexer": "ipython3",
   "version": "3.9.13"
  },
  "orig_nbformat": 4,
  "vscode": {
   "interpreter": {
    "hash": "35e8332e99bdf485583869dfbdef293dcf2f9293b1663ec5daea0a573af457c3"
   }
  }
 },
 "nbformat": 4,
 "nbformat_minor": 2
}
