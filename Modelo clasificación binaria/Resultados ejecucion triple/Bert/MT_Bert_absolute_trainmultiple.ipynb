{
 "cells": [
  {
   "cell_type": "code",
   "execution_count": 1,
   "metadata": {},
   "outputs": [],
   "source": [
    "import torch\n",
    "from torch.utils.data import DataLoader\n",
    "from torch.optim import SGD ,AdamW\n",
    "\n",
    "from datasets import load_dataset, load_metric\n",
    "\n",
    "import matplotlib.pyplot as plt\n",
    "\n",
    "import json\n",
    "from statistics import mean"
   ]
  },
  {
   "cell_type": "code",
   "execution_count": 2,
   "metadata": {},
   "outputs": [],
   "source": [
    "import utils_generic as generic\n",
    "import multitask_dep as mt\n",
    "import model_confs as confs\n",
    "import train"
   ]
  },
  {
   "cell_type": "code",
   "execution_count": 3,
   "metadata": {},
   "outputs": [],
   "source": [
    "device = torch.device(\"cuda\") if torch.cuda.is_available() else torch.device(\"cpu\")\n",
    "tasks = ['to','as','about']"
   ]
  },
  {
   "cell_type": "code",
   "execution_count": 4,
   "metadata": {},
   "outputs": [],
   "source": [
    "model_conf = confs.bert_conf\n",
    "encoding_type = 'absolute'"
   ]
  },
  {
   "attachments": {},
   "cell_type": "markdown",
   "metadata": {},
   "source": [
    "# Datos ConvAI"
   ]
  },
  {
   "cell_type": "code",
   "execution_count": 5,
   "metadata": {},
   "outputs": [],
   "source": [
    "with open('Datasets\\ConvAI2\\convai2_complete.json','r') as f:\n",
    "    data = json.load(f)"
   ]
  },
  {
   "cell_type": "code",
   "execution_count": 6,
   "metadata": {},
   "outputs": [],
   "source": [
    "vocab = mt.Vocabulary(data['train'],encoding_type)\n",
    "\n",
    "convai_train = data['train']\n",
    "convai_val = data['validation']\n",
    "\n",
    "\n",
    "\n",
    "convai_train_token = generic.tokenize_dataset_with_dependencies(convai_train,['about','to','as'],vocab,model_conf) \n",
    "convai_val_token = generic.tokenize_dataset_with_dependencies(convai_val,['about','to','as'],vocab,model_conf) "
   ]
  },
  {
   "cell_type": "code",
   "execution_count": 7,
   "metadata": {},
   "outputs": [],
   "source": [
    "convai_train_dataset = mt.DatasetMultitaskDep(convai_train_token,tasks,eval=False)\n",
    "convai_val_dataset = mt.DatasetMultitaskDep(convai_val_token,tasks,eval=False)"
   ]
  },
  {
   "attachments": {},
   "cell_type": "markdown",
   "metadata": {},
   "source": [
    "# Datos md_gender"
   ]
  },
  {
   "cell_type": "code",
   "execution_count": 8,
   "metadata": {},
   "outputs": [],
   "source": [
    "with open('Datasets\\md_gender\\md_complete.json','r',encoding=\"utf8\") as f:\n",
    "    md_data = json.load(f)"
   ]
  },
  {
   "cell_type": "code",
   "execution_count": 9,
   "metadata": {},
   "outputs": [],
   "source": [
    "md_tokenized = generic.tokenize_dataset_with_dependencies(md_data,['about','to','as'],vocab,model_conf) \n",
    "md_dataset = mt.DatasetMultitaskDep(md_tokenized,tasks,eval=True)"
   ]
  },
  {
   "attachments": {},
   "cell_type": "markdown",
   "metadata": {},
   "source": [
    "# Creación dataloaders"
   ]
  },
  {
   "cell_type": "code",
   "execution_count": 10,
   "metadata": {},
   "outputs": [],
   "source": [
    "dl_train =DataLoader(convai_train_dataset,batch_size=128,shuffle=True,collate_fn=mt.collate_fn)\n",
    "dl_val =DataLoader(convai_val_dataset,batch_size=128,shuffle=True,collate_fn=mt.collate_fn)\n",
    "dl_eval = DataLoader(md_dataset,batch_size=128,shuffle=False,collate_fn=mt.collate_fn)"
   ]
  },
  {
   "attachments": {},
   "cell_type": "markdown",
   "metadata": {},
   "source": [
    "# Modelo multitask"
   ]
  },
  {
   "cell_type": "code",
   "execution_count": 11,
   "metadata": {},
   "outputs": [],
   "source": [
    "num_epochs = 100\n",
    "learning_rate = 1e-6\n",
    "\n",
    "global_metrics = {'about':{'global':{'recall': [], 'precision': [],'f1': [], 'accuracy': []},\n",
    "                            'male':{'recall': [], 'precision': [],'f1': [], 'accuracy': []},\n",
    "                            'female':{'recall': [], 'precision': [],'f1': [], 'accuracy': []}},\n",
    "                    'as':{'global':{'recall': [], 'precision': [],'f1': [], 'accuracy': []},\n",
    "                            'male':{'recall': [], 'precision': [],'f1': [], 'accuracy': []},\n",
    "                            'female':{'recall': [], 'precision': [],'f1': [], 'accuracy': []}},\n",
    "                    'to':{'global':{'recall': [], 'precision': [],'f1': [], 'accuracy': []},\n",
    "                            'male':{'recall': [], 'precision': [],'f1': [], 'accuracy': []},\n",
    "                            'female':{'recall': [], 'precision': [],'f1': [], 'accuracy': []}}}"
   ]
  },
  {
   "cell_type": "code",
   "execution_count": 12,
   "metadata": {},
   "outputs": [
    {
     "name": "stderr",
     "output_type": "stream",
     "text": [
      "Some weights of the model checkpoint at bert-base-cased were not used when initializing BertModel: ['cls.seq_relationship.bias', 'cls.predictions.transform.LayerNorm.bias', 'cls.predictions.transform.LayerNorm.weight', 'cls.predictions.transform.dense.bias', 'cls.predictions.bias', 'cls.predictions.decoder.weight', 'cls.seq_relationship.weight', 'cls.predictions.transform.dense.weight']\n",
      "- This IS expected if you are initializing BertModel from the checkpoint of a model trained on another task or with another architecture (e.g. initializing a BertForSequenceClassification model from a BertForPreTraining model).\n",
      "- This IS NOT expected if you are initializing BertModel from the checkpoint of a model that you expect to be exactly identical (initializing a BertForSequenceClassification model from a BertForSequenceClassification model).\n"
     ]
    },
    {
     "data": {
      "application/vnd.jupyter.widget-view+json": {
       "model_id": "4e3dc96fb2c84414843f76f88d9dcc47",
       "version_major": 2,
       "version_minor": 0
      },
      "text/plain": [
       "  0%|          | 0/57400 [00:00<?, ?it/s]"
      ]
     },
     "metadata": {},
     "output_type": "display_data"
    },
    {
     "name": "stdout",
     "output_type": "stream",
     "text": [
      "Epoch 1 \t Training loss: 2.054735640823218 \t Validation loss: 2.005918225999606 \t \n",
      "  1%|          | 574/57400 [01:56<2:28:57,  6.36it/s]\n",
      "Epoch 2 \t Training loss: 1.9874629046028085 \t Validation loss: 1.9905389830217524 \t \n",
      "  2%|▏         | 1148/57400 [03:40<2:16:00,  6.89it/s]\n",
      "Epoch 3 \t Training loss: 1.9732929345622712 \t Validation loss: 1.98286584272223 \t \n",
      "  3%|▎         | 1722/57400 [05:25<2:25:42,  6.37it/s]\n",
      "Epoch 4 \t Training loss: 1.9680796145146733 \t Validation loss: 1.976640727560399 \t \n",
      "  4%|▍         | 2296/57400 [07:12<2:37:50,  5.82it/s]\n",
      "Epoch 5 \t Training loss: 1.9640117752842787 \t Validation loss: 1.9717146946211992 \t \n",
      "  5%|▌         | 2870/57400 [08:58<2:34:29,  5.88it/s]\n",
      "Epoch 6 \t Training loss: 1.960318544808165 \t Validation loss: 1.9756106037204548 \t \n",
      "\n",
      "1 epoch without improvement\n",
      "  6%|▌         | 3444/57400 [10:43<2:13:25,  6.74it/s]\n",
      "Epoch 7 \t Training loss: 1.9573599494708125 \t Validation loss: 1.9693103947881925 \t \n",
      "  7%|▋         | 4018/57400 [12:29<2:25:08,  6.13it/s]\n",
      "Epoch 8 \t Training loss: 1.9489305391128886 \t Validation loss: 1.9707300137665311 \t \n",
      "\n",
      "1 epoch without improvement\n",
      "  8%|▊         | 4592/57400 [14:15<2:26:24,  6.01it/s]\n",
      "Epoch 9 \t Training loss: 1.9505106798447798 \t Validation loss: 1.9775206133470697 \t \n",
      "\n",
      "2 epoch without improvement\n",
      "  9%|▉         | 5166/57400 [15:55<2:41:49,  5.38it/s]\n",
      "Epoch 10 \t Training loss: 1.9469793644516311 \t Validation loss: 1.9679222268573309 \t \n",
      " 10%|█         | 5740/57400 [17:35<2:24:05,  5.98it/s]\n",
      "Epoch 11 \t Training loss: 1.9485930767208857 \t Validation loss: 1.9609537286273504 \t \n",
      " 11%|█         | 6314/57400 [19:15<2:24:16,  5.90it/s]\n",
      "Epoch 12 \t Training loss: 1.9427703473626114 \t Validation loss: 1.9636440297304574 \t \n",
      "\n",
      "1 epoch without improvement\n",
      " 12%|█▏        | 6888/57400 [20:55<2:22:52,  5.89it/s]\n",
      "Epoch 13 \t Training loss: 1.9446628247403932 \t Validation loss: 1.9625088158300368 \t \n",
      "\n",
      "2 epoch without improvement\n",
      " 13%|█▎        | 7462/57400 [22:34<2:17:55,  6.03it/s]\n",
      "Epoch 14 \t Training loss: 1.939335008739179 \t Validation loss: 1.971099144321377 \t \n",
      "\n",
      "3 epoch without improvement\n",
      " 14%|█▍        | 8036/57400 [24:14<2:22:20,  5.78it/s]\n",
      "Epoch 15 \t Training loss: 1.9378582548596717 \t Validation loss: 1.9695675938816395 \t \n",
      "\n",
      "4 epoch without improvement\n",
      " 15%|█▌        | 8610/57400 [25:54<2:20:26,  5.79it/s]\n",
      "Epoch 16 \t Training loss: 1.9384260997954976 \t Validation loss: 1.9622246996831085 \t \n",
      "\n",
      "5 epoch without improvement\n",
      " 16%|█▌        | 9184/57400 [27:34<2:14:32,  5.97it/s]\n",
      "Epoch 17 \t Training loss: 1.9365847409809924 \t Validation loss: 1.9689142542370295 \t \n",
      "\n",
      "6 epoch without improvement\n",
      " 17%|█▋        | 9758/57400 [29:13<2:10:19,  6.09it/s]\n",
      "Epoch 18 \t Training loss: 1.9309900880690651 \t Validation loss: 1.9670376151295033 \t \n",
      "\n",
      "7 epoch without improvement\n",
      " 18%|█▊        | 10332/57400 [30:53<2:07:29,  6.15it/s]\n",
      "Epoch 19 \t Training loss: 1.9343035945908948 \t Validation loss: 1.9581371626611483 \t \n",
      " 19%|█▉        | 10906/57400 [32:33<2:09:32,  5.98it/s]\n",
      "Epoch 20 \t Training loss: 1.930370680754193 \t Validation loss: 1.9616548772585594 \t \n",
      "\n",
      "1 epoch without improvement\n",
      " 20%|██        | 11480/57400 [34:12<2:08:50,  5.94it/s]\n",
      "Epoch 21 \t Training loss: 1.9299708775111608 \t Validation loss: 1.971094586081424 \t \n",
      "\n",
      "2 epoch without improvement\n",
      " 21%|██        | 12054/57400 [35:51<2:02:58,  6.15it/s]\n",
      "Epoch 22 \t Training loss: 1.9305940264193437 \t Validation loss: 1.9665917319766546 \t \n",
      "\n",
      "3 epoch without improvement\n",
      " 22%|██▏       | 12628/57400 [37:31<1:51:10,  6.71it/s]\n",
      "Epoch 23 \t Training loss: 1.9256239408815363 \t Validation loss: 1.9605576688960447 \t \n",
      "\n",
      "4 epoch without improvement\n",
      " 23%|██▎       | 13202/57400 [39:12<1:57:08,  6.29it/s]\n",
      "Epoch 24 \t Training loss: 1.9247839182926803 \t Validation loss: 1.957560583696527 \t \n",
      " 24%|██▍       | 13776/57400 [40:53<2:06:25,  5.75it/s]\n",
      "Epoch 25 \t Training loss: 1.9225149777708153 \t Validation loss: 1.9566689244771407 \t \n",
      " 25%|██▌       | 14350/57400 [42:33<2:05:11,  5.73it/s]\n",
      "Epoch 26 \t Training loss: 1.9255622070840843 \t Validation loss: 1.9601910094083366 \t \n",
      "\n",
      "1 epoch without improvement\n",
      " 26%|██▌       | 14924/57400 [44:12<1:52:52,  6.27it/s]\n",
      "Epoch 27 \t Training loss: 1.92154544508831 \t Validation loss: 1.968530083106736 \t \n",
      "\n",
      "2 epoch without improvement\n",
      " 27%|██▋       | 15498/57400 [45:52<1:58:15,  5.91it/s]\n",
      "Epoch 28 \t Training loss: 1.9194536558011683 \t Validation loss: 1.9653051303604903 \t \n",
      "\n",
      "3 epoch without improvement\n",
      " 28%|██▊       | 16072/57400 [47:32<1:45:15,  6.54it/s]\n",
      "Epoch 29 \t Training loss: 1.9202964550942079 \t Validation loss: 1.9634296873868522 \t \n",
      "\n",
      "4 epoch without improvement\n",
      " 29%|██▉       | 16646/57400 [49:12<1:47:36,  6.31it/s]\n",
      "Epoch 30 \t Training loss: 1.9192840949168188 \t Validation loss: 1.9713698544744718 \t \n",
      "\n",
      "5 epoch without improvement\n",
      " 30%|███       | 17220/57400 [50:52<1:44:34,  6.40it/s]\n",
      "Epoch 31 \t Training loss: 1.9189457262019247 \t Validation loss: 1.9533665200411263 \t \n",
      " 31%|███       | 17794/57400 [52:31<1:49:32,  6.03it/s]\n",
      "Epoch 32 \t Training loss: 1.9149799739442221 \t Validation loss: 1.96381223605851 \t \n",
      "\n",
      "1 epoch without improvement\n",
      " 32%|███▏      | 18368/57400 [54:11<1:51:36,  5.83it/s]\n",
      "Epoch 33 \t Training loss: 1.9161404346339794 \t Validation loss: 1.968357619592699 \t \n",
      "\n",
      "2 epoch without improvement\n",
      " 33%|███▎      | 18942/57400 [55:51<1:45:34,  6.07it/s]\n",
      "Epoch 34 \t Training loss: 1.9134614644150285 \t Validation loss: 1.9580859248921023 \t \n",
      "\n",
      "3 epoch without improvement\n",
      " 34%|███▍      | 19516/57400 [57:31<1:45:39,  5.98it/s]\n",
      "Epoch 35 \t Training loss: 1.9149444153084572 \t Validation loss: 1.9584369639218864 \t \n",
      "\n",
      "4 epoch without improvement\n",
      " 35%|███▌      | 20090/57400 [59:11<1:52:02,  5.55it/s]\n",
      "Epoch 36 \t Training loss: 1.9139329529390103 \t Validation loss: 1.9619459681591744 \t \n",
      "\n",
      "5 epoch without improvement\n",
      " 36%|███▌      | 20664/57400 [1:00:50<1:30:56,  6.73it/s]\n",
      "Epoch 37 \t Training loss: 1.9110863900350776 \t Validation loss: 1.9643741987519345 \t \n",
      "\n",
      "6 epoch without improvement\n",
      " 37%|███▋      | 21238/57400 [1:02:29<1:43:44,  5.81it/s]\n",
      "Epoch 38 \t Training loss: 1.9143102100501908 \t Validation loss: 1.9713674743296736 \t \n",
      "\n",
      "7 epoch without improvement\n",
      " 38%|███▊      | 21812/57400 [1:04:09<1:40:32,  5.90it/s]\n",
      "Epoch 39 \t Training loss: 1.910910449584602 \t Validation loss: 1.9668105194124126 \t \n",
      "\n",
      "8 epoch without improvement\n",
      " 39%|███▉      | 22386/57400 [1:05:49<1:34:48,  6.15it/s]\n",
      "Epoch 40 \t Training loss: 1.9130698990738766 \t Validation loss: 1.962476825310012 \t \n",
      "\n",
      "9 epoch without improvement\n",
      " 40%|████      | 22960/57400 [1:07:29<1:39:23,  5.77it/s]\n",
      "Epoch 41 \t Training loss: 1.9088436394202999 \t Validation loss: 1.953194573774176 \t \n",
      " 41%|████      | 23534/57400 [1:09:08<1:33:13,  6.05it/s]\n",
      "Epoch 42 \t Training loss: 1.9093823640604053 \t Validation loss: 1.9585491034944178 \t \n",
      "\n",
      "1 epoch without improvement\n",
      " 42%|████▏     | 24108/57400 [1:10:48<1:34:26,  5.88it/s]\n",
      "Epoch 43 \t Training loss: 1.9093168201346846 \t Validation loss: 1.963872576163987 \t \n",
      "\n",
      "2 epoch without improvement\n",
      " 43%|████▎     | 24682/57400 [1:12:28<1:35:09,  5.73it/s]\n",
      "Epoch 44 \t Training loss: 1.910062982437918 \t Validation loss: 1.9653164006895938 \t \n",
      "\n",
      "3 epoch without improvement\n",
      " 44%|████▍     | 25256/57400 [1:14:09<1:30:34,  5.91it/s]\n",
      "Epoch 45 \t Training loss: 1.906734790743851 \t Validation loss: 1.9681038836301383 \t \n",
      "\n",
      "4 epoch without improvement\n",
      " 45%|████▌     | 25830/57400 [1:15:49<1:29:36,  5.87it/s]\n",
      "Epoch 46 \t Training loss: 1.903201453984822 \t Validation loss: 1.9675924818394548 \t \n",
      "\n",
      "5 epoch without improvement\n",
      " 46%|████▌     | 26404/57400 [1:17:28<1:45:51,  4.88it/s]\n",
      "Epoch 47 \t Training loss: 1.9050073025533962 \t Validation loss: 1.9592543517128895 \t \n",
      "\n",
      "6 epoch without improvement\n",
      " 47%|████▋     | 26978/57400 [1:19:07<1:23:36,  6.06it/s]\n",
      "Epoch 48 \t Training loss: 1.9054762955742015 \t Validation loss: 1.9656870870266931 \t \n",
      "\n",
      "7 epoch without improvement\n",
      " 48%|████▊     | 27552/57400 [1:20:47<1:15:38,  6.58it/s]\n",
      "Epoch 49 \t Training loss: 1.9057156653354392 \t Validation loss: 1.97349309719215 \t \n",
      "\n",
      "8 epoch without improvement\n",
      " 49%|████▉     | 28126/57400 [1:22:28<1:25:51,  5.68it/s]\n",
      "Epoch 50 \t Training loss: 1.9024704686440657 \t Validation loss: 1.9688107442047635 \t \n",
      "\n",
      "9 epoch without improvement\n",
      " 50%|█████     | 28700/57400 [1:24:08<1:19:41,  6.00it/s]\n",
      "Epoch 51 \t Training loss: 1.9044057151581768 \t Validation loss: 1.9703904996484012 \t \n",
      "\n",
      "10 epoch without improvement\n",
      "Validation_loss hasn't improve in 10 epoch. Stopping training after 51 epochs...\n"
     ]
    },
    {
     "data": {
      "image/png": "[encoded data removed]",
      "text/plain": [
       "<Figure size 640x480 with 1 Axes>"
      ]
     },
     "metadata": {},
     "output_type": "display_data"
    }
   ],
   "source": [
    "model = mt.MultiWithDependencies(model_conf,vocab).to(device)\n",
    "optimizer = AdamW(model.parameters(), lr=learning_rate,weight_decay=0.1)\n",
    "save_path='bert_multitask_absolute_1'\n",
    "train.train_function_multi(model,num_epochs,dl_train,optimizer,early_stop = 10,dl_val = dl_val,save_path=save_path,es_threshold=0)"
   ]
  },
  {
   "cell_type": "code",
   "execution_count": 12,
   "metadata": {},
   "outputs": [
    {
     "name": "stderr",
     "output_type": "stream",
     "text": [
      "Some weights of the model checkpoint at bert-base-cased were not used when initializing BertModel: ['cls.predictions.bias', 'cls.seq_relationship.bias', 'cls.predictions.transform.LayerNorm.bias', 'cls.predictions.transform.dense.bias', 'cls.seq_relationship.weight', 'cls.predictions.transform.LayerNorm.weight', 'cls.predictions.decoder.weight', 'cls.predictions.transform.dense.weight']\n",
      "- This IS expected if you are initializing BertModel from the checkpoint of a model trained on another task or with another architecture (e.g. initializing a BertForSequenceClassification model from a BertForPreTraining model).\n",
      "- This IS NOT expected if you are initializing BertModel from the checkpoint of a model that you expect to be exactly identical (initializing a BertForSequenceClassification model from a BertForSequenceClassification model).\n"
     ]
    },
    {
     "name": "stdout",
     "output_type": "stream",
     "text": [
      "Evaluación del modelo\n",
      "{'to': {'recall': 0.7184343434343434, 'precision': 0.7184343434343434, 'f1': 0.7184343434343435, 'accuracy': 0.7184343434343434}, 'as': {'recall': 0.7249022164276402, 'precision': 0.7249022164276402, 'f1': 0.7249022164276402, 'accuracy': 0.7249022164276402}, 'about': {'recall': 0.8418367346938775, 'precision': 0.8418367346938775, 'f1': 0.8418367346938774, 'accuracy': 0.8418367346938775}} \n",
      "\n",
      "Evaluación en etiquetas male\n",
      "{'to': {'recall': 0.7396593673965937, 'precision': 0.7396593673965937, 'f1': 0.7396593673965937, 'accuracy': 0.7396593673965937}, 'as': {'recall': 0.7222222222222222, 'precision': 0.7222222222222222, 'f1': 0.7222222222222222, 'accuracy': 0.7222222222222222}, 'about': {'recall': 0.84375, 'precision': 0.84375, 'f1': 0.84375, 'accuracy': 0.84375}} \n",
      "\n",
      "Evaluación en etiquetas female\n",
      "{'to': {'recall': 0.6955380577427821, 'precision': 0.6955380577427821, 'f1': 0.6955380577427821, 'accuracy': 0.6955380577427821}, 'as': {'recall': 0.7277628032345014, 'precision': 0.7277628032345014, 'f1': 0.7277628032345014, 'accuracy': 0.7277628032345014}, 'about': {'recall': 0.84, 'precision': 0.84, 'f1': 0.8399999999999999, 'accuracy': 0.84}} \n",
      "\n"
     ]
    }
   ],
   "source": [
    "model = mt.MultiWithDependencies(model_conf,vocab).to(device)\n",
    "model.load_state_dict(torch.load('bert_multitask_absolute_1'))\n",
    "\n",
    "print(\"Evaluación del modelo\")\n",
    "result_global = train.eval_func_multi(model,dl_eval,tasks,gender=None)\n",
    "generic.update_global_metric_multi(result_global,global_metrics,mtype='global')\n",
    "print(result_global,'\\n')\n",
    "print(\"Evaluación en etiquetas male\")\n",
    "result_global = train.eval_func_multi(model,dl_eval,tasks,gender='male')\n",
    "generic.update_global_metric_multi(result_global,global_metrics,mtype='male')\n",
    "print(result_global,'\\n')\n",
    "print(\"Evaluación en etiquetas female\")\n",
    "result_global = train.eval_func_multi(model,dl_eval,tasks,gender='female')\n",
    "generic.update_global_metric_multi(result_global,global_metrics,mtype='female')\n",
    "print(result_global,'\\n')\n"
   ]
  },
  {
   "cell_type": "code",
   "execution_count": 13,
   "metadata": {},
   "outputs": [
    {
     "name": "stderr",
     "output_type": "stream",
     "text": [
      "Some weights of the model checkpoint at bert-base-cased were not used when initializing BertModel: ['cls.predictions.bias', 'cls.seq_relationship.bias', 'cls.predictions.transform.LayerNorm.bias', 'cls.predictions.transform.dense.bias', 'cls.seq_relationship.weight', 'cls.predictions.transform.LayerNorm.weight', 'cls.predictions.decoder.weight', 'cls.predictions.transform.dense.weight']\n",
      "- This IS expected if you are initializing BertModel from the checkpoint of a model trained on another task or with another architecture (e.g. initializing a BertForSequenceClassification model from a BertForPreTraining model).\n",
      "- This IS NOT expected if you are initializing BertModel from the checkpoint of a model that you expect to be exactly identical (initializing a BertForSequenceClassification model from a BertForSequenceClassification model).\n"
     ]
    },
    {
     "data": {
      "application/vnd.jupyter.widget-view+json": {
       "model_id": "0e4d2777bf544cafbb360fb73aef74d2",
       "version_major": 2,
       "version_minor": 0
      },
      "text/plain": [
       "  0%|          | 0/57400 [00:00<?, ?it/s]"
      ]
     },
     "metadata": {},
     "output_type": "display_data"
    },
    {
     "name": "stdout",
     "output_type": "stream",
     "text": [
      "Epoch 1 \t Training loss: 2.058935512441376 \t Validation loss: 2.0137856653181174 \t \n",
      "  1%|          | 574/57400 [01:42<2:28:37,  6.37it/s]\n",
      "Epoch 2 \t Training loss: 1.996869651282706 \t Validation loss: 1.988383790193978 \t \n",
      "  2%|▏         | 1148/57400 [03:24<2:38:56,  5.90it/s]\n",
      "Epoch 3 \t Training loss: 1.981246549701026 \t Validation loss: 1.982185913344561 \t \n",
      "  3%|▎         | 1722/57400 [05:07<2:29:30,  6.21it/s]\n",
      "Epoch 4 \t Training loss: 1.9712095769440257 \t Validation loss: 1.9711665177749376 \t \n",
      "  4%|▍         | 2296/57400 [06:51<2:29:15,  6.15it/s]\n",
      "Epoch 5 \t Training loss: 1.9671331519449213 \t Validation loss: 1.9772122593249304 \t \n",
      "\n",
      "1 epoch without improvement\n",
      "  5%|▌         | 2870/57400 [08:35<2:26:56,  6.18it/s]\n",
      "Epoch 6 \t Training loss: 1.9643695443764797 \t Validation loss: 1.971831444966591 \t \n",
      "\n",
      "2 epoch without improvement\n",
      "  6%|▌         | 3444/57400 [10:17<2:37:47,  5.70it/s]\n",
      "Epoch 7 \t Training loss: 1.959882425306566 \t Validation loss: 1.977570527690952 \t \n",
      "\n",
      "3 epoch without improvement\n",
      "  7%|▋         | 4018/57400 [12:01<2:23:26,  6.20it/s]\n",
      "Epoch 8 \t Training loss: 1.959679630367598 \t Validation loss: 1.9675365908671234 \t \n",
      "  8%|▊         | 4592/57400 [13:45<2:52:46,  5.09it/s]\n",
      "Epoch 9 \t Training loss: 1.955039379904079 \t Validation loss: 1.974642206046541 \t \n",
      "\n",
      "1 epoch without improvement\n",
      "  9%|▉         | 5166/57400 [15:27<2:20:03,  6.22it/s]\n",
      "Epoch 10 \t Training loss: 1.952166467593522 \t Validation loss: 1.9823204743660103 \t \n",
      "\n",
      "2 epoch without improvement\n",
      " 10%|█         | 5740/57400 [17:10<2:16:59,  6.28it/s]\n",
      "Epoch 11 \t Training loss: 1.948556479261312 \t Validation loss: 1.9675909987950728 \t \n",
      "\n",
      "3 epoch without improvement\n",
      " 11%|█         | 6314/57400 [18:53<2:19:00,  6.12it/s]\n",
      "Epoch 12 \t Training loss: 1.9500278288479052 \t Validation loss: 1.970694657099449 \t \n",
      "\n",
      "4 epoch without improvement\n",
      " 12%|█▏        | 6888/57400 [20:35<2:06:31,  6.65it/s]\n",
      "Epoch 13 \t Training loss: 1.944840194663935 \t Validation loss: 1.966114654379376 \t \n",
      " 13%|█▎        | 7462/57400 [22:17<2:31:41,  5.49it/s]\n",
      "Epoch 14 \t Training loss: 1.9433634088014475 \t Validation loss: 1.9614264480138228 \t \n",
      " 14%|█▍        | 8036/57400 [23:59<2:38:06,  5.20it/s]\n",
      "Epoch 15 \t Training loss: 1.9404530238606787 \t Validation loss: 1.968777032221778 \t \n",
      "\n",
      "1 epoch without improvement\n",
      " 15%|█▌        | 8610/57400 [25:40<2:07:54,  6.36it/s]\n",
      "Epoch 16 \t Training loss: 1.937498766163085 \t Validation loss: 1.9672675334801109 \t \n",
      "\n",
      "2 epoch without improvement\n",
      " 16%|█▌        | 9184/57400 [27:23<2:23:54,  5.58it/s]\n",
      "Epoch 17 \t Training loss: 1.9378524106969401 \t Validation loss: 1.962949849791446 \t \n",
      "\n",
      "3 epoch without improvement\n",
      " 17%|█▋        | 9758/57400 [29:05<2:11:45,  6.03it/s]\n",
      "Epoch 18 \t Training loss: 1.9329823338611616 \t Validation loss: 1.968927833993556 \t \n",
      "\n",
      "4 epoch without improvement\n",
      " 18%|█▊        | 10332/57400 [30:49<2:20:01,  5.60it/s]\n",
      "Epoch 19 \t Training loss: 1.9366510643360921 \t Validation loss: 1.9719999220411657 \t \n",
      "\n",
      "5 epoch without improvement\n",
      " 19%|█▉        | 10906/57400 [32:31<2:30:55,  5.13it/s]\n",
      "Epoch 20 \t Training loss: 1.9329027878282792 \t Validation loss: 1.9561174239142467 \t \n",
      " 20%|██        | 11480/57400 [34:13<2:12:22,  5.78it/s]\n",
      "Epoch 21 \t Training loss: 1.930217921110811 \t Validation loss: 1.9713371709241705 \t \n",
      "\n",
      "1 epoch without improvement\n",
      " 21%|██        | 12054/57400 [35:55<2:08:54,  5.86it/s]\n",
      "Epoch 22 \t Training loss: 1.9312246520760168 \t Validation loss: 1.9653972084239377 \t \n",
      "\n",
      "2 epoch without improvement\n",
      " 22%|██▏       | 12628/57400 [37:38<2:03:13,  6.06it/s]\n",
      "Epoch 23 \t Training loss: 1.9297511841361947 \t Validation loss: 1.9617378004526689 \t \n",
      "\n",
      "3 epoch without improvement\n",
      " 23%|██▎       | 13202/57400 [39:19<2:01:42,  6.05it/s]\n",
      "Epoch 24 \t Training loss: 1.9284151354317882 \t Validation loss: 1.9672883062039392 \t \n",
      "\n",
      "4 epoch without improvement\n",
      " 24%|██▍       | 13776/57400 [41:02<2:04:53,  5.82it/s]\n",
      "Epoch 25 \t Training loss: 1.9298171359487526 \t Validation loss: 1.9592822042562195 \t \n",
      "\n",
      "5 epoch without improvement\n",
      " 25%|██▌       | 14350/57400 [42:44<2:01:03,  5.93it/s]\n",
      "Epoch 26 \t Training loss: 1.9231678077152796 \t Validation loss: 1.9559859098014185 \t \n",
      " 26%|██▌       | 14924/57400 [44:26<1:53:26,  6.24it/s]\n",
      "Epoch 27 \t Training loss: 1.9246620818297622 \t Validation loss: 1.9680323883638544 \t \n",
      "\n",
      "1 epoch without improvement\n",
      " 27%|██▋       | 15498/57400 [46:09<1:56:53,  5.97it/s]\n",
      "Epoch 28 \t Training loss: 1.9239364374390047 \t Validation loss: 1.9544467158236747 \t \n",
      " 28%|██▊       | 16072/57400 [47:52<1:51:23,  6.18it/s]\n",
      "Epoch 29 \t Training loss: 1.9215176354717294 \t Validation loss: 1.9735566539279485 \t \n",
      "\n",
      "1 epoch without improvement\n",
      " 29%|██▉       | 16646/57400 [49:35<1:46:32,  6.38it/s]\n",
      "Epoch 30 \t Training loss: 1.9264008652042428 \t Validation loss: 1.9684154219546561 \t \n",
      "\n",
      "2 epoch without improvement\n",
      " 30%|███       | 17220/57400 [51:18<1:52:52,  5.93it/s]\n",
      "Epoch 31 \t Training loss: 1.9185626398810942 \t Validation loss: 1.9665561692189362 \t \n",
      "\n",
      "3 epoch without improvement\n",
      " 31%|███       | 17794/57400 [53:00<1:47:20,  6.15it/s]\n",
      "Epoch 32 \t Training loss: 1.9184389799729458 \t Validation loss: 1.9582866854586845 \t \n",
      "\n",
      "4 epoch without improvement\n",
      " 32%|███▏      | 18368/57400 [54:42<1:35:25,  6.82it/s]\n",
      "Epoch 33 \t Training loss: 1.9164595105506816 \t Validation loss: 1.9720064563266302 \t \n",
      "\n",
      "5 epoch without improvement\n",
      " 33%|███▎      | 18942/57400 [56:25<1:45:37,  6.07it/s]\n",
      "Epoch 34 \t Training loss: 1.9172713474114182 \t Validation loss: 1.966707688266948 \t \n",
      "\n",
      "6 epoch without improvement\n",
      " 34%|███▍      | 19516/57400 [58:08<1:53:46,  5.55it/s]\n",
      "Epoch 35 \t Training loss: 1.9152687046586014 \t Validation loss: 1.9713549795797316 \t \n",
      "\n",
      "7 epoch without improvement\n",
      " 35%|███▌      | 20090/57400 [59:51<1:39:49,  6.23it/s]\n",
      "Epoch 36 \t Training loss: 1.9158045747138897 \t Validation loss: 1.9612469329672344 \t \n",
      "\n",
      "8 epoch without improvement\n",
      " 36%|███▌      | 20664/57400 [1:01:32<1:33:40,  6.54it/s]\n",
      "Epoch 37 \t Training loss: 1.9150301070578837 \t Validation loss: 1.9665304361763647 \t \n",
      "\n",
      "9 epoch without improvement\n",
      " 37%|███▋      | 21238/57400 [1:03:15<1:34:42,  6.36it/s]\n",
      "Epoch 38 \t Training loss: 1.9128886031356838 \t Validation loss: 1.9700153520551777 \t \n",
      "\n",
      "10 epoch without improvement\n",
      "Validation_loss hasn't improve in 10 epoch. Stopping training after 38 epochs...\n"
     ]
    },
    {
     "data": {
      "image/png": "[encoded data removed]",
      "text/plain": [
       "<Figure size 640x480 with 1 Axes>"
      ]
     },
     "metadata": {},
     "output_type": "display_data"
    }
   ],
   "source": [
    "model = mt.MultiWithDependencies(model_conf,vocab).to(device)\n",
    "optimizer = AdamW(model.parameters(), lr=learning_rate,weight_decay=0.1)\n",
    "save_path='bert_multitask_absolute_2'\n",
    "train.train_function_multi(model,num_epochs,dl_train,optimizer,early_stop = 10,dl_val = dl_val,save_path=save_path,es_threshold=0)"
   ]
  },
  {
   "cell_type": "code",
   "execution_count": 14,
   "metadata": {},
   "outputs": [
    {
     "name": "stderr",
     "output_type": "stream",
     "text": [
      "Some weights of the model checkpoint at bert-base-cased were not used when initializing BertModel: ['cls.predictions.bias', 'cls.seq_relationship.bias', 'cls.predictions.transform.LayerNorm.bias', 'cls.predictions.transform.dense.bias', 'cls.seq_relationship.weight', 'cls.predictions.transform.LayerNorm.weight', 'cls.predictions.decoder.weight', 'cls.predictions.transform.dense.weight']\n",
      "- This IS expected if you are initializing BertModel from the checkpoint of a model trained on another task or with another architecture (e.g. initializing a BertForSequenceClassification model from a BertForPreTraining model).\n",
      "- This IS NOT expected if you are initializing BertModel from the checkpoint of a model that you expect to be exactly identical (initializing a BertForSequenceClassification model from a BertForSequenceClassification model).\n"
     ]
    },
    {
     "name": "stdout",
     "output_type": "stream",
     "text": [
      "Evaluación del modelo\n",
      "{'to': {'recall': 0.6944444444444444, 'precision': 0.6944444444444444, 'f1': 0.6944444444444444, 'accuracy': 0.6944444444444444}, 'as': {'recall': 0.7235984354628422, 'precision': 0.7235984354628422, 'f1': 0.7235984354628422, 'accuracy': 0.7235984354628422}, 'about': {'recall': 0.826530612244898, 'precision': 0.826530612244898, 'f1': 0.826530612244898, 'accuracy': 0.826530612244898}} \n",
      "\n",
      "Evaluación en etiquetas male\n",
      "{'to': {'recall': 0.7201946472019465, 'precision': 0.7201946472019465, 'f1': 0.7201946472019465, 'accuracy': 0.7201946472019465}, 'as': {'recall': 0.7297979797979798, 'precision': 0.7297979797979798, 'f1': 0.7297979797979797, 'accuracy': 0.7297979797979798}, 'about': {'recall': 0.828125, 'precision': 0.828125, 'f1': 0.828125, 'accuracy': 0.828125}} \n",
      "\n",
      "Evaluación en etiquetas female\n",
      "{'to': {'recall': 0.6666666666666666, 'precision': 0.6666666666666666, 'f1': 0.6666666666666666, 'accuracy': 0.6666666666666666}, 'as': {'recall': 0.7169811320754716, 'precision': 0.7169811320754716, 'f1': 0.7169811320754716, 'accuracy': 0.7169811320754716}, 'about': {'recall': 0.825, 'precision': 0.825, 'f1': 0.825, 'accuracy': 0.825}} \n",
      "\n"
     ]
    }
   ],
   "source": [
    "model = mt.MultiWithDependencies(model_conf,vocab).to(device)\n",
    "model.load_state_dict(torch.load(save_path))\n",
    "\n",
    "print(\"Evaluación del modelo\")\n",
    "result_global = train.eval_func_multi(model,dl_eval,tasks,gender=None)\n",
    "generic.update_global_metric_multi(result_global,global_metrics,mtype='global')\n",
    "print(result_global,'\\n')\n",
    "print(\"Evaluación en etiquetas male\")\n",
    "result_global = train.eval_func_multi(model,dl_eval,tasks,gender='male')\n",
    "generic.update_global_metric_multi(result_global,global_metrics,mtype='male')\n",
    "print(result_global,'\\n')\n",
    "print(\"Evaluación en etiquetas female\")\n",
    "result_global = train.eval_func_multi(model,dl_eval,tasks,gender='female')\n",
    "generic.update_global_metric_multi(result_global,global_metrics,mtype='female')\n",
    "print(result_global,'\\n')\n"
   ]
  },
  {
   "cell_type": "code",
   "execution_count": 15,
   "metadata": {},
   "outputs": [
    {
     "name": "stderr",
     "output_type": "stream",
     "text": [
      "Some weights of the model checkpoint at bert-base-cased were not used when initializing BertModel: ['cls.predictions.bias', 'cls.seq_relationship.bias', 'cls.predictions.transform.LayerNorm.bias', 'cls.predictions.transform.dense.bias', 'cls.seq_relationship.weight', 'cls.predictions.transform.LayerNorm.weight', 'cls.predictions.decoder.weight', 'cls.predictions.transform.dense.weight']\n",
      "- This IS expected if you are initializing BertModel from the checkpoint of a model trained on another task or with another architecture (e.g. initializing a BertForSequenceClassification model from a BertForPreTraining model).\n",
      "- This IS NOT expected if you are initializing BertModel from the checkpoint of a model that you expect to be exactly identical (initializing a BertForSequenceClassification model from a BertForSequenceClassification model).\n"
     ]
    },
    {
     "data": {
      "application/vnd.jupyter.widget-view+json": {
       "model_id": "006a04af98fb40a19ceaba90f831aac1",
       "version_major": 2,
       "version_minor": 0
      },
      "text/plain": [
       "  0%|          | 0/57400 [00:00<?, ?it/s]"
      ]
     },
     "metadata": {},
     "output_type": "display_data"
    },
    {
     "name": "stdout",
     "output_type": "stream",
     "text": [
      "Epoch 1 \t Training loss: 2.0554824591929073 \t Validation loss: 2.0153317188812516 \t \n",
      "  1%|          | 574/57400 [01:42<2:37:34,  6.01it/s]\n",
      "Epoch 2 \t Training loss: 1.9953446490008657 \t Validation loss: 1.990886025509592 \t \n",
      "  2%|▏         | 1148/57400 [03:25<2:37:29,  5.95it/s]\n",
      "Epoch 3 \t Training loss: 1.9790169617440228 \t Validation loss: 1.9803385875992856 \t \n",
      "  3%|▎         | 1722/57400 [05:09<2:36:28,  5.93it/s]\n",
      "Epoch 4 \t Training loss: 1.971493217795568 \t Validation loss: 1.9762783454636397 \t \n",
      "  4%|▍         | 2296/57400 [06:52<2:49:12,  5.43it/s]\n",
      "Epoch 5 \t Training loss: 1.9664190143658309 \t Validation loss: 1.9809477531303794 \t \n",
      "\n",
      "1 epoch without improvement\n",
      "  5%|▌         | 2870/57400 [08:33<2:32:35,  5.96it/s]\n",
      "Epoch 6 \t Training loss: 1.9626345445470113 \t Validation loss: 1.9733166856280828 \t \n",
      "  6%|▌         | 3444/57400 [10:17<2:32:32,  5.90it/s]\n",
      "Epoch 7 \t Training loss: 1.9594842139436808 \t Validation loss: 1.9738103292756162 \t \n",
      "\n",
      "1 epoch without improvement\n",
      "  7%|▋         | 4018/57400 [12:00<2:29:11,  5.96it/s]\n",
      "Epoch 8 \t Training loss: 1.9577245502521767 \t Validation loss: 1.9692069029403945 \t \n",
      "  8%|▊         | 4592/57400 [13:42<2:18:34,  6.35it/s]\n",
      "Epoch 9 \t Training loss: 1.9515447244826924 \t Validation loss: 1.9746914859545432 \t \n",
      "\n",
      "1 epoch without improvement\n",
      "  9%|▉         | 5166/57400 [15:24<2:52:44,  5.04it/s]\n",
      "Epoch 10 \t Training loss: 1.9516182207479709 \t Validation loss: 1.9710068197573645 \t \n",
      "\n",
      "2 epoch without improvement\n",
      " 10%|█         | 5740/57400 [17:07<2:10:12,  6.61it/s]\n",
      "Epoch 11 \t Training loss: 1.9504791518952374 \t Validation loss: 1.969715659901247 \t \n",
      "\n",
      "3 epoch without improvement\n",
      " 11%|█         | 6314/57400 [18:49<2:18:44,  6.14it/s]\n",
      "Epoch 12 \t Training loss: 1.9471737171299366 \t Validation loss: 1.9637004682573223 \t \n",
      " 12%|█▏        | 6888/57400 [20:33<2:31:49,  5.54it/s]\n",
      "Epoch 13 \t Training loss: 1.9435936592597165 \t Validation loss: 1.9669249158794597 \t \n",
      "\n",
      "1 epoch without improvement\n",
      " 13%|█▎        | 7462/57400 [22:16<2:18:45,  6.00it/s]\n",
      "Epoch 14 \t Training loss: 1.943172278096867 \t Validation loss: 1.957462092577401 \t \n",
      " 14%|█▍        | 8036/57400 [23:58<2:19:18,  5.91it/s]\n",
      "Epoch 15 \t Training loss: 1.9381772479113801 \t Validation loss: 1.9662126585588617 \t \n",
      "\n",
      "1 epoch without improvement\n",
      " 15%|█▌        | 8610/57400 [25:41<2:15:30,  6.00it/s]\n",
      "Epoch 16 \t Training loss: 1.938193734306907 \t Validation loss: 1.9729355937343533 \t \n",
      "\n",
      "2 epoch without improvement\n",
      " 16%|█▌        | 9184/57400 [27:24<2:08:40,  6.25it/s]\n",
      "Epoch 17 \t Training loss: 1.9363067507328473 \t Validation loss: 1.9539819672956305 \t \n",
      " 17%|█▋        | 9758/57400 [29:08<2:15:07,  5.88it/s]\n",
      "Epoch 18 \t Training loss: 1.9347670354494235 \t Validation loss: 1.9613910307318478 \t \n",
      "\n",
      "1 epoch without improvement\n",
      " 18%|█▊        | 10332/57400 [30:51<2:24:51,  5.42it/s]\n",
      "Epoch 19 \t Training loss: 1.9339190432834292 \t Validation loss: 1.957513401063822 \t \n",
      "\n",
      "2 epoch without improvement\n",
      " 19%|█▉        | 10906/57400 [32:33<2:04:42,  6.21it/s]\n",
      "Epoch 20 \t Training loss: 1.9325395834985926 \t Validation loss: 1.964766053830163 \t \n",
      "\n",
      "3 epoch without improvement\n",
      " 20%|██        | 11480/57400 [34:16<2:01:24,  6.30it/s]\n",
      "Epoch 21 \t Training loss: 1.9303740167451653 \t Validation loss: 1.9630218299768738 \t \n",
      "\n",
      "4 epoch without improvement\n",
      " 21%|██        | 12054/57400 [35:59<2:11:51,  5.73it/s]\n",
      "Epoch 22 \t Training loss: 1.9288513442365134 \t Validation loss: 1.9655867431123377 \t \n",
      "\n",
      "5 epoch without improvement\n",
      " 22%|██▏       | 12628/57400 [37:42<2:04:08,  6.01it/s]\n",
      "Epoch 23 \t Training loss: 1.92685832420708 \t Validation loss: 1.9610571921881983 \t \n",
      "\n",
      "6 epoch without improvement\n",
      " 23%|██▎       | 13202/57400 [39:24<2:23:58,  5.12it/s]\n",
      "Epoch 24 \t Training loss: 1.9282616740319787 \t Validation loss: 1.9595175092503176 \t \n",
      "\n",
      "7 epoch without improvement\n",
      " 24%|██▍       | 13776/57400 [41:06<2:15:43,  5.36it/s]\n",
      "Epoch 25 \t Training loss: 1.9256567930095287 \t Validation loss: 1.9570366164385262 \t \n",
      "\n",
      "8 epoch without improvement\n",
      " 25%|██▌       | 14350/57400 [42:48<1:56:53,  6.14it/s]\n",
      "Epoch 26 \t Training loss: 1.9262637583220876 \t Validation loss: 1.9644989320787334 \t \n",
      "\n",
      "9 epoch without improvement\n",
      " 26%|██▌       | 14924/57400 [44:30<1:56:11,  6.09it/s]\n",
      "Epoch 27 \t Training loss: 1.923650777921444 \t Validation loss: 1.9631787275863906 \t \n",
      "\n",
      "10 epoch without improvement\n",
      "Validation_loss hasn't improve in 10 epoch. Stopping training after 27 epochs...\n"
     ]
    },
    {
     "data": {
      "image/png": "[encoded data removed]",
      "text/plain": [
       "<Figure size 640x480 with 1 Axes>"
      ]
     },
     "metadata": {},
     "output_type": "display_data"
    }
   ],
   "source": [
    "model = mt.MultiWithDependencies(model_conf,vocab).to(device)\n",
    "optimizer = AdamW(model.parameters(), lr=learning_rate,weight_decay=0.1)\n",
    "save_path='bert_multitask_absolute_3'\n",
    "train.train_function_multi(model,num_epochs,dl_train,optimizer,early_stop = 10,dl_val = dl_val,save_path=save_path,es_threshold=0)"
   ]
  },
  {
   "cell_type": "code",
   "execution_count": 16,
   "metadata": {},
   "outputs": [
    {
     "name": "stderr",
     "output_type": "stream",
     "text": [
      "Some weights of the model checkpoint at bert-base-cased were not used when initializing BertModel: ['cls.predictions.bias', 'cls.seq_relationship.bias', 'cls.predictions.transform.LayerNorm.bias', 'cls.predictions.transform.dense.bias', 'cls.seq_relationship.weight', 'cls.predictions.transform.LayerNorm.weight', 'cls.predictions.decoder.weight', 'cls.predictions.transform.dense.weight']\n",
      "- This IS expected if you are initializing BertModel from the checkpoint of a model trained on another task or with another architecture (e.g. initializing a BertForSequenceClassification model from a BertForPreTraining model).\n",
      "- This IS NOT expected if you are initializing BertModel from the checkpoint of a model that you expect to be exactly identical (initializing a BertForSequenceClassification model from a BertForSequenceClassification model).\n"
     ]
    },
    {
     "name": "stdout",
     "output_type": "stream",
     "text": [
      "Evaluación del modelo\n",
      "{'to': {'recall': 0.6906565656565656, 'precision': 0.6906565656565656, 'f1': 0.6906565656565656, 'accuracy': 0.6906565656565656}, 'as': {'recall': 0.727509778357236, 'precision': 0.727509778357236, 'f1': 0.727509778357236, 'accuracy': 0.727509778357236}, 'about': {'recall': 0.8303571428571429, 'precision': 0.8303571428571429, 'f1': 0.8303571428571429, 'accuracy': 0.8303571428571429}} \n",
      "\n",
      "Evaluación en etiquetas male\n",
      "{'to': {'recall': 0.7372262773722628, 'precision': 0.7372262773722628, 'f1': 0.7372262773722628, 'accuracy': 0.7372262773722628}, 'as': {'recall': 0.7449494949494949, 'precision': 0.7449494949494949, 'f1': 0.7449494949494948, 'accuracy': 0.7449494949494949}, 'about': {'recall': 0.8489583333333334, 'precision': 0.8489583333333334, 'f1': 0.8489583333333334, 'accuracy': 0.8489583333333334}} \n",
      "\n",
      "Evaluación en etiquetas female\n",
      "{'to': {'recall': 0.6404199475065617, 'precision': 0.6404199475065617, 'f1': 0.6404199475065617, 'accuracy': 0.6404199475065617}, 'as': {'recall': 0.7088948787061995, 'precision': 0.7088948787061995, 'f1': 0.7088948787061995, 'accuracy': 0.7088948787061995}, 'about': {'recall': 0.8125, 'precision': 0.8125, 'f1': 0.8125, 'accuracy': 0.8125}} \n",
      "\n"
     ]
    }
   ],
   "source": [
    "model = mt.MultiWithDependencies(model_conf,vocab).to(device)\n",
    "model.load_state_dict(torch.load(save_path))\n",
    "\n",
    "print(\"Evaluación del modelo\")\n",
    "result_global = train.eval_func_multi(model,dl_eval,tasks,gender=None)\n",
    "generic.update_global_metric_multi(result_global,global_metrics,mtype='global')\n",
    "print(result_global,'\\n')\n",
    "print(\"Evaluación en etiquetas male\")\n",
    "result_global = train.eval_func_multi(model,dl_eval,tasks,gender='male')\n",
    "generic.update_global_metric_multi(result_global,global_metrics,mtype='male')\n",
    "print(result_global,'\\n')\n",
    "print(\"Evaluación en etiquetas female\")\n",
    "result_global = train.eval_func_multi(model,dl_eval,tasks,gender='female')\n",
    "generic.update_global_metric_multi(result_global,global_metrics,mtype='female')\n",
    "print(result_global,'\\n')\n"
   ]
  },
  {
   "cell_type": "code",
   "execution_count": 17,
   "metadata": {},
   "outputs": [
    {
     "name": "stdout",
     "output_type": "stream",
     "text": [
      "Métricas globales: \n",
      "\n",
      "\n",
      " about\n",
      "Resultado global: {'recall': 0.8329081632653061, 'precision': 0.8329081632653061, 'f1': 0.8329081632653061, 'accuracy': 0.8329081632653061}\n",
      "Métricas etiqueta male: {'recall': 0.8402777777777778, 'precision': 0.8402777777777778, 'f1': 0.8402777777777778, 'accuracy': 0.8402777777777778}\n",
      "Métricas etiqueta female:  {'recall': 0.8258333333333333, 'precision': 0.8258333333333333, 'f1': 0.8258333333333333, 'accuracy': 0.8258333333333333}\n",
      "\n",
      " to\n",
      "Resultado global: {'recall': 0.7011784511784511, 'precision': 0.7011784511784511, 'f1': 0.7011784511784512, 'accuracy': 0.7011784511784511}\n",
      "Métricas etiqueta male: {'recall': 0.732360097323601, 'precision': 0.732360097323601, 'f1': 0.732360097323601, 'accuracy': 0.732360097323601}\n",
      "Métricas etiqueta female:  {'recall': 0.6675415573053368, 'precision': 0.6675415573053368, 'f1': 0.6675415573053368, 'accuracy': 0.6675415573053368}\n",
      "\n",
      " as\n",
      "Resultado global: {'recall': 0.7253368100825728, 'precision': 0.7253368100825728, 'f1': 0.7253368100825728, 'accuracy': 0.7253368100825728}\n",
      "Métricas etiqueta male: {'recall': 0.7323232323232323, 'precision': 0.7323232323232323, 'f1': 0.7323232323232323, 'accuracy': 0.7323232323232323}\n",
      "Métricas etiqueta female:  {'recall': 0.7178796046720575, 'precision': 0.7178796046720575, 'f1': 0.7178796046720575, 'accuracy': 0.7178796046720575}\n"
     ]
    }
   ],
   "source": [
    "\n",
    "print('Métricas globales: \\n')\n",
    "\n",
    "for task in ['about','to','as']:\n",
    "    print('\\n',task)\n",
    "    print('Resultado global:',{m:mean(values) for m,values in global_metrics[task]['global'].items()})\n",
    "    print(f'Métricas etiqueta male:',{m:mean(values) for m,values in global_metrics[task]['male'].items()})\n",
    "    print('Métricas etiqueta female: ',{m:mean(values) for m,values in global_metrics[task]['female'].items()})\n"
   ]
  }
 ],
 "metadata": {
  "kernelspec": {
   "display_name": "tfg",
   "language": "python",
   "name": "python3"
  },
  "language_info": {
   "codemirror_mode": {
    "name": "ipython",
    "version": 3
   },
   "file_extension": ".py",
   "mimetype": "text/x-python",
   "name": "python",
   "nbconvert_exporter": "python",
   "pygments_lexer": "ipython3",
   "version": "3.9.13"
  },
  "orig_nbformat": 4,
  "vscode": {
   "interpreter": {
    "hash": "35e8332e99bdf485583869dfbdef293dcf2f9293b1663ec5daea0a573af457c3"
   }
  }
 },
 "nbformat": 4,
 "nbformat_minor": 2
}
