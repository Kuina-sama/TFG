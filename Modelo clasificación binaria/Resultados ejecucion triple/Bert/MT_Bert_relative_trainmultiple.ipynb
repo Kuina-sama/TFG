{
 "cells": [
  {
   "cell_type": "code",
   "execution_count": 1,
   "metadata": {},
   "outputs": [],
   "source": [
    "import torch\n",
    "from torch.utils.data import DataLoader\n",
    "from torch.optim import SGD ,AdamW\n",
    "\n",
    "from datasets import load_dataset, load_metric\n",
    "\n",
    "import matplotlib.pyplot as plt\n",
    "\n",
    "import json\n",
    "from statistics import mean"
   ]
  },
  {
   "cell_type": "code",
   "execution_count": 2,
   "metadata": {},
   "outputs": [],
   "source": [
    "import utils_generic as generic\n",
    "import multitask_dep as mt\n",
    "import model_confs as confs\n",
    "import train"
   ]
  },
  {
   "cell_type": "code",
   "execution_count": 3,
   "metadata": {},
   "outputs": [],
   "source": [
    "device = torch.device(\"cuda\") if torch.cuda.is_available() else torch.device(\"cpu\")\n",
    "tasks = ['to','as','about']"
   ]
  },
  {
   "cell_type": "code",
   "execution_count": 4,
   "metadata": {},
   "outputs": [],
   "source": [
    "model_conf = confs.bert_conf\n",
    "encoding_type = 'relative'"
   ]
  },
  {
   "attachments": {},
   "cell_type": "markdown",
   "metadata": {},
   "source": [
    "# Datos ConvAI"
   ]
  },
  {
   "cell_type": "code",
   "execution_count": 5,
   "metadata": {},
   "outputs": [],
   "source": [
    "with open('Datasets\\ConvAI2\\convai2_complete.json','r') as f:\n",
    "    data = json.load(f)"
   ]
  },
  {
   "cell_type": "code",
   "execution_count": 6,
   "metadata": {},
   "outputs": [],
   "source": [
    "vocab = mt.Vocabulary(data['train'],encoding_type)\n",
    "\n",
    "convai_train = data['train']\n",
    "convai_val = data['validation']\n",
    "\n",
    "\n",
    "\n",
    "convai_train_token = generic.tokenize_dataset_with_dependencies(convai_train,['about','to','as'],vocab,model_conf) \n",
    "convai_val_token = generic.tokenize_dataset_with_dependencies(convai_val,['about','to','as'],vocab,model_conf) "
   ]
  },
  {
   "cell_type": "code",
   "execution_count": 7,
   "metadata": {},
   "outputs": [],
   "source": [
    "convai_train_dataset = mt.DatasetMultitaskDep(convai_train_token,tasks,eval=False)\n",
    "convai_val_dataset = mt.DatasetMultitaskDep(convai_val_token,tasks,eval=False)"
   ]
  },
  {
   "attachments": {},
   "cell_type": "markdown",
   "metadata": {},
   "source": [
    "# Datos md_gender"
   ]
  },
  {
   "cell_type": "code",
   "execution_count": 8,
   "metadata": {},
   "outputs": [],
   "source": [
    "with open('Datasets\\md_gender\\md_complete.json','r',encoding=\"utf8\") as f:\n",
    "    md_data = json.load(f)"
   ]
  },
  {
   "cell_type": "code",
   "execution_count": 9,
   "metadata": {},
   "outputs": [],
   "source": [
    "md_tokenized = generic.tokenize_dataset_with_dependencies(md_data,['about','to','as'],vocab,model_conf) \n",
    "md_dataset = mt.DatasetMultitaskDep(md_tokenized,tasks,eval=True)"
   ]
  },
  {
   "attachments": {},
   "cell_type": "markdown",
   "metadata": {},
   "source": [
    "# Creación dataloaders"
   ]
  },
  {
   "cell_type": "code",
   "execution_count": 10,
   "metadata": {},
   "outputs": [],
   "source": [
    "dl_train =DataLoader(convai_train_dataset,batch_size=128,shuffle=True,collate_fn=mt.collate_fn)\n",
    "dl_val =DataLoader(convai_val_dataset,batch_size=128,shuffle=True,collate_fn=mt.collate_fn)\n",
    "dl_eval = DataLoader(md_dataset,batch_size=128,shuffle=False,collate_fn=mt.collate_fn)"
   ]
  },
  {
   "attachments": {},
   "cell_type": "markdown",
   "metadata": {},
   "source": [
    "# Modelo multitask"
   ]
  },
  {
   "cell_type": "code",
   "execution_count": 11,
   "metadata": {},
   "outputs": [],
   "source": [
    "num_epochs = 100\n",
    "learning_rate = 1e-6\n",
    "\n",
    "global_metrics = {'about':{'global':{'recall': [], 'precision': [],'f1': [], 'accuracy': []},\n",
    "                            'male':{'recall': [], 'precision': [],'f1': [], 'accuracy': []},\n",
    "                            'female':{'recall': [], 'precision': [],'f1': [], 'accuracy': []}},\n",
    "                    'as':{'global':{'recall': [], 'precision': [],'f1': [], 'accuracy': []},\n",
    "                            'male':{'recall': [], 'precision': [],'f1': [], 'accuracy': []},\n",
    "                            'female':{'recall': [], 'precision': [],'f1': [], 'accuracy': []}},\n",
    "                    'to':{'global':{'recall': [], 'precision': [],'f1': [], 'accuracy': []},\n",
    "                            'male':{'recall': [], 'precision': [],'f1': [], 'accuracy': []},\n",
    "                            'female':{'recall': [], 'precision': [],'f1': [], 'accuracy': []}}}"
   ]
  },
  {
   "cell_type": "code",
   "execution_count": 12,
   "metadata": {},
   "outputs": [
    {
     "name": "stderr",
     "output_type": "stream",
     "text": [
      "Some weights of the model checkpoint at bert-base-cased were not used when initializing BertModel: ['cls.predictions.transform.dense.bias', 'cls.predictions.transform.LayerNorm.weight', 'cls.predictions.transform.dense.weight', 'cls.predictions.transform.LayerNorm.bias', 'cls.predictions.decoder.weight', 'cls.seq_relationship.bias', 'cls.predictions.bias', 'cls.seq_relationship.weight']\n",
      "- This IS expected if you are initializing BertModel from the checkpoint of a model trained on another task or with another architecture (e.g. initializing a BertForSequenceClassification model from a BertForPreTraining model).\n",
      "- This IS NOT expected if you are initializing BertModel from the checkpoint of a model that you expect to be exactly identical (initializing a BertForSequenceClassification model from a BertForSequenceClassification model).\n"
     ]
    },
    {
     "data": {
      "application/vnd.jupyter.widget-view+json": {
       "model_id": "846ec9a2c9944aa1af6f118edce63cb5",
       "version_major": 2,
       "version_minor": 0
      },
      "text/plain": [
       "  0%|          | 0/57400 [00:00<?, ?it/s]"
      ]
     },
     "metadata": {},
     "output_type": "display_data"
    },
    {
     "name": "stdout",
     "output_type": "stream",
     "text": [
      "Epoch 1 \t Training loss: 2.0495766800039736 \t Validation loss: 2.0060414621385476 \t \n",
      "  1%|          | 574/57400 [02:05<2:32:29,  6.21it/s]\n",
      "Epoch 2 \t Training loss: 1.993028396513404 \t Validation loss: 1.9921048374499304 \t \n",
      "  2%|▏         | 1148/57400 [03:50<3:04:20,  5.09it/s]\n",
      "Epoch 3 \t Training loss: 1.9765430821774312 \t Validation loss: 1.9789548688015695 \t \n",
      "  3%|▎         | 1722/57400 [05:37<2:44:52,  5.63it/s]\n",
      "Epoch 4 \t Training loss: 1.9718826413154602 \t Validation loss: 1.9738539558345989 \t \n",
      "  4%|▍         | 2296/57400 [07:25<2:46:59,  5.50it/s]\n",
      "Epoch 5 \t Training loss: 1.9658162728834652 \t Validation loss: 1.9807675915249323 \t \n",
      "\n",
      "1 epoch without improvement\n",
      "  5%|▌         | 2870/57400 [09:12<2:35:15,  5.85it/s]\n",
      "Epoch 6 \t Training loss: 1.9645903459409388 \t Validation loss: 1.9717152644011935 \t \n",
      "  6%|▌         | 3444/57400 [10:58<2:20:42,  6.39it/s]\n",
      "Epoch 7 \t Training loss: 1.9578169067146887 \t Validation loss: 1.9720347877276145 \t \n",
      "\n",
      "1 epoch without improvement\n",
      "  7%|▋         | 4018/57400 [12:44<3:04:33,  4.82it/s]\n",
      "Epoch 8 \t Training loss: 1.9545803580965315 \t Validation loss: 1.9799420106208931 \t \n",
      "\n",
      "2 epoch without improvement\n",
      "  8%|▊         | 4592/57400 [14:30<2:38:34,  5.55it/s]\n",
      "Epoch 9 \t Training loss: 1.952569065401363 \t Validation loss: 1.9685187279167822 \t \n",
      "  9%|▉         | 5166/57400 [16:14<2:28:05,  5.88it/s]\n",
      "Epoch 10 \t Training loss: 1.9513474356006661 \t Validation loss: 1.959075489286649 \t \n",
      " 10%|█         | 5740/57400 [17:56<2:22:29,  6.04it/s]\n",
      "Epoch 11 \t Training loss: 1.9456770525992124 \t Validation loss: 1.9633103124165938 \t \n",
      "\n",
      "1 epoch without improvement\n",
      " 11%|█         | 6314/57400 [19:38<2:27:45,  5.76it/s]\n",
      "Epoch 12 \t Training loss: 1.944819640822527 \t Validation loss: 1.9653507935798775 \t \n",
      "\n",
      "2 epoch without improvement\n",
      " 12%|█▏        | 6888/57400 [21:20<2:34:29,  5.45it/s]\n",
      "Epoch 13 \t Training loss: 1.9443965313326605 \t Validation loss: 1.9629565032862 \t \n",
      "\n",
      "3 epoch without improvement\n",
      " 13%|█▎        | 7462/57400 [23:02<2:00:00,  6.94it/s]\n",
      "Epoch 14 \t Training loss: 1.942731680770369 \t Validation loss: 1.960216279757225 \t \n",
      "\n",
      "4 epoch without improvement\n",
      " 14%|█▍        | 8036/57400 [24:45<2:22:06,  5.79it/s]\n",
      "Epoch 15 \t Training loss: 1.942890850716767 \t Validation loss: 1.9754898184436862 \t \n",
      "\n",
      "5 epoch without improvement\n",
      " 15%|█▌        | 8610/57400 [26:26<2:10:14,  6.24it/s]\n",
      "Epoch 16 \t Training loss: 1.9384222358776717 \t Validation loss: 1.9603264998581449 \t \n",
      "\n",
      "6 epoch without improvement\n",
      " 16%|█▌        | 9184/57400 [28:07<2:14:37,  5.97it/s]\n",
      "Epoch 17 \t Training loss: 1.9363078356619912 \t Validation loss: 1.959736583596569 \t \n",
      "\n",
      "7 epoch without improvement\n",
      " 17%|█▋        | 9758/57400 [29:49<2:22:37,  5.57it/s]\n",
      "Epoch 18 \t Training loss: 1.9332629442214966 \t Validation loss: 1.9576870041378474 \t \n",
      " 18%|█▊        | 10332/57400 [31:31<2:11:24,  5.97it/s]\n",
      "Epoch 19 \t Training loss: 1.9337727101422353 \t Validation loss: 1.9640040963383045 \t \n",
      "\n",
      "1 epoch without improvement\n",
      " 19%|█▉        | 10906/57400 [33:13<2:09:17,  5.99it/s]\n",
      "Epoch 20 \t Training loss: 1.931932744871864 \t Validation loss: 1.9614880004171598 \t \n",
      "\n",
      "2 epoch without improvement\n",
      " 20%|██        | 11480/57400 [34:55<2:15:36,  5.64it/s]\n",
      "Epoch 21 \t Training loss: 1.9327084910163481 \t Validation loss: 1.9604843410394959 \t \n",
      "\n",
      "3 epoch without improvement\n",
      " 21%|██        | 12054/57400 [36:36<2:08:59,  5.86it/s]\n",
      "Epoch 22 \t Training loss: 1.9280152804760151 \t Validation loss: 1.9702300641496302 \t \n",
      "\n",
      "4 epoch without improvement\n",
      " 22%|██▏       | 12628/57400 [38:18<2:06:55,  5.88it/s]\n",
      "Epoch 23 \t Training loss: 1.9278079694987174 \t Validation loss: 1.9689894389298002 \t \n",
      "\n",
      "5 epoch without improvement\n",
      " 23%|██▎       | 13202/57400 [40:00<2:08:41,  5.72it/s]\n",
      "Epoch 24 \t Training loss: 1.9269388666967067 \t Validation loss: 1.9593266571982433 \t \n",
      "\n",
      "6 epoch without improvement\n",
      " 24%|██▍       | 13776/57400 [41:42<1:58:48,  6.12it/s]\n",
      "Epoch 25 \t Training loss: 1.9244580019641837 \t Validation loss: 1.9637605174113129 \t \n",
      "\n",
      "7 epoch without improvement\n",
      " 25%|██▌       | 14350/57400 [43:25<2:04:30,  5.76it/s]\n",
      "Epoch 26 \t Training loss: 1.923709253193194 \t Validation loss: 1.966414241467492 \t \n",
      "\n",
      "8 epoch without improvement\n",
      " 26%|██▌       | 14924/57400 [45:07<2:18:30,  5.11it/s]\n",
      "Epoch 27 \t Training loss: 1.9242123305174532 \t Validation loss: 1.9633187055587769 \t \n",
      "\n",
      "9 epoch without improvement\n",
      " 27%|██▋       | 15498/57400 [46:48<1:57:01,  5.97it/s]\n",
      "Epoch 28 \t Training loss: 1.9220073104735451 \t Validation loss: 1.9729629007436462 \t \n",
      "\n",
      "10 epoch without improvement\n",
      "Validation_loss hasn't improve in 10 epoch. Stopping training after 28 epochs...\n"
     ]
    },
    {
     "data": {
      "image/png": "[encoded data removed]",
      "text/plain": [
       "<Figure size 640x480 with 1 Axes>"
      ]
     },
     "metadata": {},
     "output_type": "display_data"
    }
   ],
   "source": [
    "model = mt.MultiWithDependencies(model_conf,vocab).to(device)\n",
    "optimizer = AdamW(model.parameters(), lr=learning_rate,weight_decay=0.1)\n",
    "save_path='bert_multitask_relative_1'\n",
    "train.train_function_multi(model,num_epochs,dl_train,optimizer,early_stop = 10,dl_val = dl_val,save_path=save_path,es_threshold=0)"
   ]
  },
  {
   "cell_type": "code",
   "execution_count": 13,
   "metadata": {},
   "outputs": [
    {
     "name": "stderr",
     "output_type": "stream",
     "text": [
      "Some weights of the model checkpoint at bert-base-cased were not used when initializing BertModel: ['cls.predictions.transform.dense.bias', 'cls.predictions.transform.LayerNorm.weight', 'cls.predictions.transform.dense.weight', 'cls.predictions.transform.LayerNorm.bias', 'cls.predictions.decoder.weight', 'cls.seq_relationship.bias', 'cls.predictions.bias', 'cls.seq_relationship.weight']\n",
      "- This IS expected if you are initializing BertModel from the checkpoint of a model trained on another task or with another architecture (e.g. initializing a BertForSequenceClassification model from a BertForPreTraining model).\n",
      "- This IS NOT expected if you are initializing BertModel from the checkpoint of a model that you expect to be exactly identical (initializing a BertForSequenceClassification model from a BertForSequenceClassification model).\n"
     ]
    },
    {
     "name": "stdout",
     "output_type": "stream",
     "text": [
      "Evaluación del modelo\n",
      "{'to': {'recall': 0.6982323232323232, 'precision': 0.6982323232323232, 'f1': 0.6982323232323232, 'accuracy': 0.6982323232323232}, 'as': {'recall': 0.7301173402868318, 'precision': 0.7301173402868318, 'f1': 0.7301173402868318, 'accuracy': 0.7301173402868318}, 'about': {'recall': 0.8329081632653061, 'precision': 0.8329081632653061, 'f1': 0.8329081632653061, 'accuracy': 0.8329081632653061}} \n",
      "\n",
      "Evaluación en etiquetas male\n",
      "{'to': {'recall': 0.7396593673965937, 'precision': 0.7396593673965937, 'f1': 0.7396593673965937, 'accuracy': 0.7396593673965937}, 'as': {'recall': 0.7424242424242424, 'precision': 0.7424242424242424, 'f1': 0.7424242424242424, 'accuracy': 0.7424242424242424}, 'about': {'recall': 0.8489583333333334, 'precision': 0.8489583333333334, 'f1': 0.8489583333333334, 'accuracy': 0.8489583333333334}} \n",
      "\n",
      "Evaluación en etiquetas female\n",
      "{'to': {'recall': 0.6535433070866141, 'precision': 0.6535433070866141, 'f1': 0.6535433070866141, 'accuracy': 0.6535433070866141}, 'as': {'recall': 0.7169811320754716, 'precision': 0.7169811320754716, 'f1': 0.7169811320754716, 'accuracy': 0.7169811320754716}, 'about': {'recall': 0.8175, 'precision': 0.8175, 'f1': 0.8175, 'accuracy': 0.8175}} \n",
      "\n"
     ]
    }
   ],
   "source": [
    "model = mt.MultiWithDependencies(model_conf,vocab).to(device)\n",
    "model.load_state_dict(torch.load(save_path))\n",
    "\n",
    "print(\"Evaluación del modelo\")\n",
    "result_global = train.eval_func_multi(model,dl_eval,tasks,gender=None)\n",
    "generic.update_global_metric_multi(result_global,global_metrics,mtype='global')\n",
    "print(result_global,'\\n')\n",
    "print(\"Evaluación en etiquetas male\")\n",
    "result_global = train.eval_func_multi(model,dl_eval,tasks,gender='male')\n",
    "generic.update_global_metric_multi(result_global,global_metrics,mtype='male')\n",
    "print(result_global,'\\n')\n",
    "print(\"Evaluación en etiquetas female\")\n",
    "result_global = train.eval_func_multi(model,dl_eval,tasks,gender='female')\n",
    "generic.update_global_metric_multi(result_global,global_metrics,mtype='female')\n",
    "print(result_global,'\\n')\n"
   ]
  },
  {
   "cell_type": "code",
   "execution_count": 14,
   "metadata": {},
   "outputs": [
    {
     "name": "stderr",
     "output_type": "stream",
     "text": [
      "Some weights of the model checkpoint at bert-base-cased were not used when initializing BertModel: ['cls.predictions.transform.dense.bias', 'cls.predictions.transform.LayerNorm.weight', 'cls.predictions.transform.dense.weight', 'cls.predictions.transform.LayerNorm.bias', 'cls.predictions.decoder.weight', 'cls.seq_relationship.bias', 'cls.predictions.bias', 'cls.seq_relationship.weight']\n",
      "- This IS expected if you are initializing BertModel from the checkpoint of a model trained on another task or with another architecture (e.g. initializing a BertForSequenceClassification model from a BertForPreTraining model).\n",
      "- This IS NOT expected if you are initializing BertModel from the checkpoint of a model that you expect to be exactly identical (initializing a BertForSequenceClassification model from a BertForSequenceClassification model).\n"
     ]
    },
    {
     "data": {
      "application/vnd.jupyter.widget-view+json": {
       "model_id": "97b3d1b162fb492c8126b7e107297cf3",
       "version_major": 2,
       "version_minor": 0
      },
      "text/plain": [
       "  0%|          | 0/57400 [00:00<?, ?it/s]"
      ]
     },
     "metadata": {},
     "output_type": "display_data"
    },
    {
     "name": "stdout",
     "output_type": "stream",
     "text": [
      "Epoch 1 \t Training loss: 2.057423519963587 \t Validation loss: 2.0187154705241577 \t \n",
      "  1%|          | 574/57400 [01:41<2:58:44,  5.30it/s]\n",
      "Epoch 2 \t Training loss: 1.9981672107550326 \t Validation loss: 1.991065007145122 \t \n",
      "  2%|▏         | 1148/57400 [03:23<2:31:54,  6.17it/s]\n",
      "Epoch 3 \t Training loss: 1.9784790653384936 \t Validation loss: 1.987537747722561 \t \n",
      "  3%|▎         | 1722/57400 [05:04<2:35:57,  5.95it/s]\n",
      "Epoch 4 \t Training loss: 1.9706692595930464 \t Validation loss: 1.9806280903897042 \t \n",
      "  4%|▍         | 2296/57400 [06:46<2:31:08,  6.08it/s]\n",
      "Epoch 5 \t Training loss: 1.9653853666076262 \t Validation loss: 1.9693499258009053 \t \n",
      "  5%|▌         | 2870/57400 [08:28<2:15:53,  6.69it/s]\n",
      "Epoch 6 \t Training loss: 1.9586598941673385 \t Validation loss: 1.9739824109158273 \t \n",
      "\n",
      "1 epoch without improvement\n",
      "  6%|▌         | 3444/57400 [10:09<2:28:17,  6.06it/s]\n",
      "Epoch 7 \t Training loss: 1.9594409862461821 \t Validation loss: 1.9705188213768652 \t \n",
      "\n",
      "2 epoch without improvement\n",
      "  7%|▋         | 4018/57400 [11:51<2:32:59,  5.82it/s]\n",
      "Epoch 8 \t Training loss: 1.9564816594539203 \t Validation loss: 1.9685361304525602 \t \n",
      "  8%|▊         | 4592/57400 [13:32<2:42:11,  5.43it/s]\n",
      "Epoch 9 \t Training loss: 1.9525706311136173 \t Validation loss: 1.968738909495079 \t \n",
      "\n",
      "1 epoch without improvement\n",
      "  9%|▉         | 5166/57400 [15:14<2:30:11,  5.80it/s]\n",
      "Epoch 10 \t Training loss: 1.9495858996587347 \t Validation loss: 1.97152449114848 \t \n",
      "\n",
      "2 epoch without improvement\n",
      " 10%|█         | 5740/57400 [16:56<2:18:12,  6.23it/s]\n",
      "Epoch 11 \t Training loss: 1.9479935927258136 \t Validation loss: 1.9726164361177865 \t \n",
      "\n",
      "3 epoch without improvement\n",
      " 11%|█         | 6314/57400 [18:38<2:16:29,  6.24it/s]\n",
      "Epoch 12 \t Training loss: 1.9452190606851611 \t Validation loss: 1.9602950609336465 \t \n",
      " 12%|█▏        | 6888/57400 [20:19<2:26:35,  5.74it/s]\n",
      "Epoch 13 \t Training loss: 1.9434681156786477 \t Validation loss: 1.9685060412196789 \t \n",
      "\n",
      "1 epoch without improvement\n",
      " 13%|█▎        | 7462/57400 [22:00<2:18:18,  6.02it/s]\n",
      "Epoch 14 \t Training loss: 1.940927136650484 \t Validation loss: 1.9705826407772 \t \n",
      "\n",
      "2 epoch without improvement\n",
      " 14%|█▍        | 8036/57400 [23:42<2:13:52,  6.15it/s]\n",
      "Epoch 15 \t Training loss: 1.9410324991787768 \t Validation loss: 1.9694026668192977 \t \n",
      "\n",
      "3 epoch without improvement\n",
      " 15%|█▌        | 8610/57400 [25:23<2:21:42,  5.74it/s]\n",
      "Epoch 16 \t Training loss: 1.9374000070817794 \t Validation loss: 1.9578971539513539 \t \n",
      " 16%|█▌        | 9184/57400 [27:05<2:14:31,  5.97it/s]\n",
      "Epoch 17 \t Training loss: 1.935476164784581 \t Validation loss: 1.9645274776523396 \t \n",
      "\n",
      "1 epoch without improvement\n",
      " 17%|█▋        | 9758/57400 [28:47<2:11:45,  6.03it/s]\n",
      "Epoch 18 \t Training loss: 1.9342603461252272 \t Validation loss: 1.9638736207606429 \t \n",
      "\n",
      "2 epoch without improvement\n",
      " 18%|█▊        | 10332/57400 [30:29<2:33:43,  5.10it/s]\n",
      "Epoch 19 \t Training loss: 1.9331707221290375 \t Validation loss: 1.9750637058484353 \t \n",
      "\n",
      "3 epoch without improvement\n",
      " 19%|█▉        | 10906/57400 [32:10<2:07:57,  6.06it/s]\n",
      "Epoch 20 \t Training loss: 1.930696506741155 \t Validation loss: 1.9652804944474818 \t \n",
      "\n",
      "4 epoch without improvement\n",
      " 20%|██        | 11480/57400 [33:52<2:18:18,  5.53it/s]\n",
      "Epoch 21 \t Training loss: 1.9296401464980655 \t Validation loss: 1.9611315686823958 \t \n",
      "\n",
      "5 epoch without improvement\n",
      " 21%|██        | 12054/57400 [35:34<2:06:32,  5.97it/s]\n",
      "Epoch 22 \t Training loss: 1.9275894401796188 \t Validation loss: 1.959036475521023 \t \n",
      "\n",
      "6 epoch without improvement\n",
      " 22%|██▏       | 12628/57400 [37:16<2:05:16,  5.96it/s]\n",
      "Epoch 23 \t Training loss: 1.9276189110420308 \t Validation loss: 1.9646236856104964 \t \n",
      "\n",
      "7 epoch without improvement\n",
      " 23%|██▎       | 13202/57400 [38:58<1:51:54,  6.58it/s]\n",
      "Epoch 24 \t Training loss: 1.924355056435389 \t Validation loss: 1.9697303610332941 \t \n",
      "\n",
      "8 epoch without improvement\n",
      " 24%|██▍       | 13776/57400 [40:39<2:20:35,  5.17it/s]\n",
      "Epoch 25 \t Training loss: 1.9266335017174379 \t Validation loss: 1.9632493641416906 \t \n",
      "\n",
      "9 epoch without improvement\n",
      " 25%|██▌       | 14350/57400 [42:21<1:58:55,  6.03it/s]\n",
      "Epoch 26 \t Training loss: 1.9220887763159615 \t Validation loss: 1.963045023255429 \t \n",
      "\n",
      "10 epoch without improvement\n",
      "Validation_loss hasn't improve in 10 epoch. Stopping training after 26 epochs...\n"
     ]
    },
    {
     "data": {
      "image/png": "[encoded data removed]",
      "text/plain": [
       "<Figure size 640x480 with 1 Axes>"
      ]
     },
     "metadata": {},
     "output_type": "display_data"
    }
   ],
   "source": [
    "model = mt.MultiWithDependencies(model_conf,vocab).to(device)\n",
    "optimizer = AdamW(model.parameters(), lr=learning_rate,weight_decay=0.1)\n",
    "save_path='bert_multitask_relative_2'\n",
    "train.train_function_multi(model,num_epochs,dl_train,optimizer,early_stop = 10,dl_val = dl_val,save_path=save_path,es_threshold=0)"
   ]
  },
  {
   "cell_type": "code",
   "execution_count": 15,
   "metadata": {},
   "outputs": [
    {
     "name": "stderr",
     "output_type": "stream",
     "text": [
      "Some weights of the model checkpoint at bert-base-cased were not used when initializing BertModel: ['cls.predictions.transform.dense.bias', 'cls.predictions.transform.LayerNorm.weight', 'cls.predictions.transform.dense.weight', 'cls.predictions.transform.LayerNorm.bias', 'cls.predictions.decoder.weight', 'cls.seq_relationship.bias', 'cls.predictions.bias', 'cls.seq_relationship.weight']\n",
      "- This IS expected if you are initializing BertModel from the checkpoint of a model trained on another task or with another architecture (e.g. initializing a BertForSequenceClassification model from a BertForPreTraining model).\n",
      "- This IS NOT expected if you are initializing BertModel from the checkpoint of a model that you expect to be exactly identical (initializing a BertForSequenceClassification model from a BertForSequenceClassification model).\n"
     ]
    },
    {
     "name": "stdout",
     "output_type": "stream",
     "text": [
      "Evaluación del modelo\n",
      "{'to': {'recall': 0.7095959595959596, 'precision': 0.7095959595959596, 'f1': 0.7095959595959596, 'accuracy': 0.7095959595959596}, 'as': {'recall': 0.7327249022164276, 'precision': 0.7327249022164276, 'f1': 0.7327249022164276, 'accuracy': 0.7327249022164276}, 'about': {'recall': 0.8431122448979592, 'precision': 0.8431122448979592, 'f1': 0.8431122448979592, 'accuracy': 0.8431122448979592}} \n",
      "\n",
      "Evaluación en etiquetas male\n",
      "{'to': {'recall': 0.7347931873479319, 'precision': 0.7347931873479319, 'f1': 0.7347931873479319, 'accuracy': 0.7347931873479319}, 'as': {'recall': 0.7348484848484849, 'precision': 0.7348484848484849, 'f1': 0.7348484848484848, 'accuracy': 0.7348484848484849}, 'about': {'recall': 0.8489583333333334, 'precision': 0.8489583333333334, 'f1': 0.8489583333333334, 'accuracy': 0.8489583333333334}} \n",
      "\n",
      "Evaluación en etiquetas female\n",
      "{'to': {'recall': 0.6824146981627297, 'precision': 0.6824146981627297, 'f1': 0.6824146981627297, 'accuracy': 0.6824146981627297}, 'as': {'recall': 0.7304582210242587, 'precision': 0.7304582210242587, 'f1': 0.7304582210242587, 'accuracy': 0.7304582210242587}, 'about': {'recall': 0.8375, 'precision': 0.8375, 'f1': 0.8375, 'accuracy': 0.8375}} \n",
      "\n"
     ]
    }
   ],
   "source": [
    "model = mt.MultiWithDependencies(model_conf,vocab).to(device)\n",
    "model.load_state_dict(torch.load(save_path))\n",
    "\n",
    "print(\"Evaluación del modelo\")\n",
    "result_global = train.eval_func_multi(model,dl_eval,tasks,gender=None)\n",
    "generic.update_global_metric_multi(result_global,global_metrics,mtype='global')\n",
    "print(result_global,'\\n')\n",
    "print(\"Evaluación en etiquetas male\")\n",
    "result_global = train.eval_func_multi(model,dl_eval,tasks,gender='male')\n",
    "generic.update_global_metric_multi(result_global,global_metrics,mtype='male')\n",
    "print(result_global,'\\n')\n",
    "print(\"Evaluación en etiquetas female\")\n",
    "result_global = train.eval_func_multi(model,dl_eval,tasks,gender='female')\n",
    "generic.update_global_metric_multi(result_global,global_metrics,mtype='female')\n",
    "print(result_global,'\\n')\n"
   ]
  },
  {
   "cell_type": "code",
   "execution_count": 16,
   "metadata": {},
   "outputs": [
    {
     "name": "stderr",
     "output_type": "stream",
     "text": [
      "Some weights of the model checkpoint at bert-base-cased were not used when initializing BertModel: ['cls.predictions.transform.dense.bias', 'cls.predictions.transform.LayerNorm.weight', 'cls.predictions.transform.dense.weight', 'cls.predictions.transform.LayerNorm.bias', 'cls.predictions.decoder.weight', 'cls.seq_relationship.bias', 'cls.predictions.bias', 'cls.seq_relationship.weight']\n",
      "- This IS expected if you are initializing BertModel from the checkpoint of a model trained on another task or with another architecture (e.g. initializing a BertForSequenceClassification model from a BertForPreTraining model).\n",
      "- This IS NOT expected if you are initializing BertModel from the checkpoint of a model that you expect to be exactly identical (initializing a BertForSequenceClassification model from a BertForSequenceClassification model).\n"
     ]
    },
    {
     "data": {
      "application/vnd.jupyter.widget-view+json": {
       "model_id": "7994df7bca2b415fa70359b5190d0064",
       "version_major": 2,
       "version_minor": 0
      },
      "text/plain": [
       "  0%|          | 0/57400 [00:00<?, ?it/s]"
      ]
     },
     "metadata": {},
     "output_type": "display_data"
    },
    {
     "name": "stdout",
     "output_type": "stream",
     "text": [
      "Epoch 1 \t Training loss: 2.0611723032147213 \t Validation loss: 2.0202784780728615 \t \n",
      "  1%|          | 574/57400 [01:42<3:08:42,  5.02it/s]\n",
      "Epoch 2 \t Training loss: 1.9965764998558921 \t Validation loss: 1.998553884231438 \t \n",
      "  2%|▏         | 1148/57400 [03:23<2:31:26,  6.19it/s]\n",
      "Epoch 3 \t Training loss: 1.9769480629249732 \t Validation loss: 1.984355540598853 \t \n",
      "  3%|▎         | 1722/57400 [05:05<2:30:30,  6.17it/s]\n",
      "Epoch 4 \t Training loss: 1.9712147588098505 \t Validation loss: 1.9740098997697992 \t \n",
      "  4%|▍         | 2296/57400 [06:47<2:20:48,  6.52it/s]\n",
      "Epoch 5 \t Training loss: 1.9663401185843172 \t Validation loss: 1.9722146907095182 \t \n",
      "  5%|▌         | 2870/57400 [08:29<2:29:33,  6.08it/s]\n",
      "Epoch 6 \t Training loss: 1.9621330306505076 \t Validation loss: 1.9730464543326427 \t \n",
      "\n",
      "1 epoch without improvement\n",
      "  6%|▌         | 3444/57400 [10:11<2:49:52,  5.29it/s]\n",
      "Epoch 7 \t Training loss: 1.957878549547561 \t Validation loss: 1.9722226938958896 \t \n",
      "\n",
      "2 epoch without improvement\n",
      "  7%|▋         | 4018/57400 [11:52<2:27:27,  6.03it/s]\n",
      "Epoch 8 \t Training loss: 1.9540664179815233 \t Validation loss: 1.9781764644687458 \t \n",
      "\n",
      "3 epoch without improvement\n",
      "  8%|▊         | 4592/57400 [13:33<2:23:53,  6.12it/s]\n",
      "Epoch 9 \t Training loss: 1.954806631865817 \t Validation loss: 1.9718240721751068 \t \n",
      "  9%|▉         | 5166/57400 [15:16<2:33:32,  5.67it/s]\n",
      "Epoch 10 \t Training loss: 1.947071007942904 \t Validation loss: 1.9704872874890345 \t \n",
      " 10%|█         | 5740/57400 [16:58<2:23:35,  6.00it/s]\n",
      "Epoch 11 \t Training loss: 1.94581313311846 \t Validation loss: 1.97469226384567 \t \n",
      "\n",
      "1 epoch without improvement\n",
      " 11%|█         | 6314/57400 [18:40<2:21:35,  6.01it/s]\n",
      "Epoch 12 \t Training loss: 1.944917839786317 \t Validation loss: 1.964994406296035 \t \n",
      " 12%|█▏        | 6888/57400 [20:24<2:17:07,  6.14it/s]\n",
      "Epoch 13 \t Training loss: 1.9432104310922922 \t Validation loss: 1.9602526406110343 \t \n",
      " 13%|█▎        | 7462/57400 [22:05<2:16:50,  6.08it/s]\n",
      "Epoch 14 \t Training loss: 1.9402672490591786 \t Validation loss: 1.9736865960945518 \t \n",
      "\n",
      "1 epoch without improvement\n",
      " 14%|█▍        | 8036/57400 [23:47<2:15:24,  6.08it/s]\n",
      "Epoch 15 \t Training loss: 1.9397564333075015 \t Validation loss: 1.9654296070842419 \t \n",
      "\n",
      "2 epoch without improvement\n",
      " 15%|█▌        | 8610/57400 [25:30<2:36:20,  5.20it/s]\n",
      "Epoch 16 \t Training loss: 1.935084436413303 \t Validation loss: 1.9603742502503476 \t \n",
      "\n",
      "3 epoch without improvement\n",
      " 16%|█▌        | 9184/57400 [27:11<2:15:06,  5.95it/s]\n",
      "Epoch 17 \t Training loss: 1.9388296637385565 \t Validation loss: 1.9579413381673523 \t \n",
      " 17%|█▋        | 9758/57400 [28:54<2:08:14,  6.19it/s]\n",
      "Epoch 18 \t Training loss: 1.9333480295403909 \t Validation loss: 1.9666664519552457 \t \n",
      "\n",
      "1 epoch without improvement\n",
      " 18%|█▊        | 10332/57400 [30:36<2:31:05,  5.19it/s]\n",
      "Epoch 19 \t Training loss: 1.9294196105584867 \t Validation loss: 1.9660399929951813 \t \n",
      "\n",
      "2 epoch without improvement\n",
      " 19%|█▉        | 10906/57400 [32:17<2:19:38,  5.55it/s]\n",
      "Epoch 20 \t Training loss: 1.9304240366723064 \t Validation loss: 1.9638754250639576 \t \n",
      "\n",
      "3 epoch without improvement\n",
      " 20%|██        | 11480/57400 [33:58<2:24:05,  5.31it/s]\n",
      "Epoch 21 \t Training loss: 1.9314312631660222 \t Validation loss: 1.9674613415184667 \t \n",
      "\n",
      "4 epoch without improvement\n",
      " 21%|██        | 12054/57400 [35:42<2:05:46,  6.01it/s]\n",
      "Epoch 22 \t Training loss: 1.92840179894444 \t Validation loss: 1.968176865981797 \t \n",
      "\n",
      "5 epoch without improvement\n",
      " 22%|██▏       | 12628/57400 [37:25<2:04:41,  5.98it/s]\n",
      "Epoch 23 \t Training loss: 1.9277738262136639 \t Validation loss: 1.9609661223524708 \t \n",
      "\n",
      "6 epoch without improvement\n",
      " 23%|██▎       | 13202/57400 [39:07<1:49:52,  6.70it/s]\n",
      "Epoch 24 \t Training loss: 1.9272036550352383 \t Validation loss: 1.96760255603467 \t \n",
      "\n",
      "7 epoch without improvement\n",
      " 24%|██▍       | 13776/57400 [40:49<2:28:05,  4.91it/s]\n",
      "Epoch 25 \t Training loss: 1.925220855021726 \t Validation loss: 1.9568961757724568 \t \n",
      " 25%|██▌       | 14350/57400 [42:31<1:55:43,  6.20it/s]\n",
      "Epoch 26 \t Training loss: 1.9250412791032825 \t Validation loss: 1.9596614777031591 \t \n",
      "\n",
      "1 epoch without improvement\n",
      " 26%|██▌       | 14924/57400 [44:12<1:43:55,  6.81it/s]\n",
      "Epoch 27 \t Training loss: 1.922111917871216 \t Validation loss: 1.9664636082568412 \t \n",
      "\n",
      "2 epoch without improvement\n",
      " 27%|██▋       | 15498/57400 [45:54<2:02:58,  5.68it/s]\n",
      "Epoch 28 \t Training loss: 1.919725119029188 \t Validation loss: 1.964696583101305 \t \n",
      "\n",
      "3 epoch without improvement\n",
      " 28%|██▊       | 16072/57400 [47:35<1:37:21,  7.08it/s]\n",
      "Epoch 29 \t Training loss: 1.9184251986314196 \t Validation loss: 1.9733568268307184 \t \n",
      "\n",
      "4 epoch without improvement\n",
      " 29%|██▉       | 16646/57400 [49:17<1:39:47,  6.81it/s]\n",
      "Epoch 30 \t Training loss: 1.9179452666006853 \t Validation loss: 1.9616247072058208 \t \n",
      "\n",
      "5 epoch without improvement\n",
      " 30%|███       | 17220/57400 [50:58<2:08:37,  5.21it/s]\n",
      "Epoch 31 \t Training loss: 1.919535951954978 \t Validation loss: 1.960146744372481 \t \n",
      "\n",
      "6 epoch without improvement\n",
      " 31%|███       | 17794/57400 [52:42<1:37:49,  6.75it/s]\n",
      "Epoch 32 \t Training loss: 1.9171179113487749 \t Validation loss: 1.9610273373329032 \t \n",
      "\n",
      "7 epoch without improvement\n",
      " 32%|███▏      | 18368/57400 [54:29<1:50:50,  5.87it/s]\n",
      "Epoch 33 \t Training loss: 1.917515031967429 \t Validation loss: 1.9683975486432093 \t \n",
      "\n",
      "8 epoch without improvement\n",
      " 33%|███▎      | 18942/57400 [56:16<1:52:37,  5.69it/s]\n",
      "Epoch 34 \t Training loss: 1.9166006290123438 \t Validation loss: 1.960004705493733 \t \n",
      "\n",
      "9 epoch without improvement\n",
      " 34%|███▍      | 19516/57400 [58:03<2:00:14,  5.25it/s]\n",
      "Epoch 35 \t Training loss: 1.9147958543657841 \t Validation loss: 1.970664517354157 \t \n",
      "\n",
      "10 epoch without improvement\n",
      "Validation_loss hasn't improve in 10 epoch. Stopping training after 35 epochs...\n"
     ]
    },
    {
     "data": {
      "image/png": "[encoded data removed]",
      "text/plain": [
       "<Figure size 640x480 with 1 Axes>"
      ]
     },
     "metadata": {},
     "output_type": "display_data"
    }
   ],
   "source": [
    "model = mt.MultiWithDependencies(model_conf,vocab).to(device)\n",
    "optimizer = AdamW(model.parameters(), lr=learning_rate,weight_decay=0.1)\n",
    "save_path='bert_multitask_relative_3'\n",
    "train.train_function_multi(model,num_epochs,dl_train,optimizer,early_stop = 10,dl_val = dl_val,save_path=save_path,es_threshold=0)"
   ]
  },
  {
   "cell_type": "code",
   "execution_count": 17,
   "metadata": {},
   "outputs": [
    {
     "name": "stderr",
     "output_type": "stream",
     "text": [
      "Some weights of the model checkpoint at bert-base-cased were not used when initializing BertModel: ['cls.predictions.transform.dense.bias', 'cls.predictions.transform.LayerNorm.weight', 'cls.predictions.transform.dense.weight', 'cls.predictions.transform.LayerNorm.bias', 'cls.predictions.decoder.weight', 'cls.seq_relationship.bias', 'cls.predictions.bias', 'cls.seq_relationship.weight']\n",
      "- This IS expected if you are initializing BertModel from the checkpoint of a model trained on another task or with another architecture (e.g. initializing a BertForSequenceClassification model from a BertForPreTraining model).\n",
      "- This IS NOT expected if you are initializing BertModel from the checkpoint of a model that you expect to be exactly identical (initializing a BertForSequenceClassification model from a BertForSequenceClassification model).\n"
     ]
    },
    {
     "name": "stdout",
     "output_type": "stream",
     "text": [
      "Evaluación del modelo\n",
      "{'to': {'recall': 0.6982323232323232, 'precision': 0.6982323232323232, 'f1': 0.6982323232323232, 'accuracy': 0.6982323232323232}, 'as': {'recall': 0.727509778357236, 'precision': 0.727509778357236, 'f1': 0.727509778357236, 'accuracy': 0.727509778357236}, 'about': {'recall': 0.8316326530612245, 'precision': 0.8316326530612245, 'f1': 0.8316326530612244, 'accuracy': 0.8316326530612245}} \n",
      "\n",
      "Evaluación en etiquetas male\n",
      "{'to': {'recall': 0.7347931873479319, 'precision': 0.7347931873479319, 'f1': 0.7347931873479319, 'accuracy': 0.7347931873479319}, 'as': {'recall': 0.7449494949494949, 'precision': 0.7449494949494949, 'f1': 0.7449494949494948, 'accuracy': 0.7449494949494949}, 'about': {'recall': 0.84375, 'precision': 0.84375, 'f1': 0.84375, 'accuracy': 0.84375}} \n",
      "\n",
      "Evaluación en etiquetas female\n",
      "{'to': {'recall': 0.6587926509186351, 'precision': 0.6587926509186351, 'f1': 0.6587926509186351, 'accuracy': 0.6587926509186351}, 'as': {'recall': 0.7088948787061995, 'precision': 0.7088948787061995, 'f1': 0.7088948787061995, 'accuracy': 0.7088948787061995}, 'about': {'recall': 0.82, 'precision': 0.82, 'f1': 0.82, 'accuracy': 0.82}} \n",
      "\n"
     ]
    }
   ],
   "source": [
    "model = mt.MultiWithDependencies(model_conf,vocab).to(device)\n",
    "model.load_state_dict(torch.load(save_path))\n",
    "\n",
    "print(\"Evaluación del modelo\")\n",
    "result_global = train.eval_func_multi(model,dl_eval,tasks,gender=None)\n",
    "generic.update_global_metric_multi(result_global,global_metrics,mtype='global')\n",
    "print(result_global,'\\n')\n",
    "print(\"Evaluación en etiquetas male\")\n",
    "result_global = train.eval_func_multi(model,dl_eval,tasks,gender='male')\n",
    "generic.update_global_metric_multi(result_global,global_metrics,mtype='male')\n",
    "print(result_global,'\\n')\n",
    "print(\"Evaluación en etiquetas female\")\n",
    "result_global = train.eval_func_multi(model,dl_eval,tasks,gender='female')\n",
    "generic.update_global_metric_multi(result_global,global_metrics,mtype='female')\n",
    "print(result_global,'\\n')\n"
   ]
  },
  {
   "cell_type": "code",
   "execution_count": 18,
   "metadata": {},
   "outputs": [
    {
     "name": "stdout",
     "output_type": "stream",
     "text": [
      "Métricas globales: \n",
      "\n",
      "\n",
      " about\n",
      "Resultado global: {'recall': 0.8358843537414966, 'precision': 0.8358843537414966, 'f1': 0.8358843537414966, 'accuracy': 0.8358843537414966}\n",
      "Métricas etiqueta male: {'recall': 0.8472222222222222, 'precision': 0.8472222222222222, 'f1': 0.8472222222222222, 'accuracy': 0.8472222222222222}\n",
      "Métricas etiqueta female:  {'recall': 0.825, 'precision': 0.825, 'f1': 0.825, 'accuracy': 0.825}\n",
      "\n",
      " to\n",
      "Resultado global: {'recall': 0.702020202020202, 'precision': 0.702020202020202, 'f1': 0.702020202020202, 'accuracy': 0.702020202020202}\n",
      "Métricas etiqueta male: {'recall': 0.7364152473641524, 'precision': 0.7364152473641524, 'f1': 0.7364152473641524, 'accuracy': 0.7364152473641524}\n",
      "Métricas etiqueta female:  {'recall': 0.6649168853893264, 'precision': 0.6649168853893264, 'f1': 0.6649168853893264, 'accuracy': 0.6649168853893264}\n",
      "\n",
      " as\n",
      "Resultado global: {'recall': 0.7301173402868318, 'precision': 0.7301173402868318, 'f1': 0.7301173402868318, 'accuracy': 0.7301173402868318}\n",
      "Métricas etiqueta male: {'recall': 0.7407407407407407, 'precision': 0.7407407407407407, 'f1': 0.7407407407407407, 'accuracy': 0.7407407407407407}\n",
      "Métricas etiqueta female:  {'recall': 0.7187780772686433, 'precision': 0.7187780772686433, 'f1': 0.7187780772686433, 'accuracy': 0.7187780772686433}\n"
     ]
    }
   ],
   "source": [
    "\n",
    "print('Métricas globales: \\n')\n",
    "\n",
    "for task in ['about','to','as']:\n",
    "    print('\\n',task)\n",
    "    print('Resultado global:',{m:mean(values) for m,values in global_metrics[task]['global'].items()})\n",
    "    print(f'Métricas etiqueta male:',{m:mean(values) for m,values in global_metrics[task]['male'].items()})\n",
    "    print('Métricas etiqueta female: ',{m:mean(values) for m,values in global_metrics[task]['female'].items()})\n"
   ]
  }
 ],
 "metadata": {
  "kernelspec": {
   "display_name": "tfg",
   "language": "python",
   "name": "python3"
  },
  "language_info": {
   "codemirror_mode": {
    "name": "ipython",
    "version": 3
   },
   "file_extension": ".py",
   "mimetype": "text/x-python",
   "name": "python",
   "nbconvert_exporter": "python",
   "pygments_lexer": "ipython3",
   "version": "3.9.13"
  },
  "orig_nbformat": 4,
  "vscode": {
   "interpreter": {
    "hash": "35e8332e99bdf485583869dfbdef293dcf2f9293b1663ec5daea0a573af457c3"
   }
  }
 },
 "nbformat": 4,
 "nbformat_minor": 2
}
