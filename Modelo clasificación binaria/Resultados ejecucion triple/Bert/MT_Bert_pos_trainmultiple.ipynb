{
 "cells": [
  {
   "cell_type": "code",
   "execution_count": 1,
   "metadata": {},
   "outputs": [],
   "source": [
    "import torch\n",
    "from torch.utils.data import DataLoader\n",
    "from torch.optim import SGD ,AdamW\n",
    "\n",
    "from datasets import load_dataset, load_metric\n",
    "\n",
    "import matplotlib.pyplot as plt\n",
    "\n",
    "import json\n",
    "from statistics import mean"
   ]
  },
  {
   "cell_type": "code",
   "execution_count": 2,
   "metadata": {},
   "outputs": [],
   "source": [
    "import utils_generic as generic\n",
    "import multitask_dep as mt\n",
    "import model_confs as confs\n",
    "import train"
   ]
  },
  {
   "cell_type": "code",
   "execution_count": 3,
   "metadata": {},
   "outputs": [],
   "source": [
    "device = torch.device(\"cuda\") if torch.cuda.is_available() else torch.device(\"cpu\")\n",
    "tasks = ['to','as','about']"
   ]
  },
  {
   "cell_type": "code",
   "execution_count": 4,
   "metadata": {},
   "outputs": [],
   "source": [
    "model_conf = confs.bert_conf\n",
    "encoding_type = 'pos'"
   ]
  },
  {
   "attachments": {},
   "cell_type": "markdown",
   "metadata": {},
   "source": [
    "# Datos ConvAI"
   ]
  },
  {
   "cell_type": "code",
   "execution_count": 5,
   "metadata": {},
   "outputs": [],
   "source": [
    "with open('Datasets\\ConvAI2\\convai2_complete.json','r') as f:\n",
    "    data = json.load(f)"
   ]
  },
  {
   "cell_type": "code",
   "execution_count": 6,
   "metadata": {},
   "outputs": [],
   "source": [
    "vocab = mt.Vocabulary(data['train'],encoding_type)\n",
    "\n",
    "convai_train = data['train']\n",
    "convai_val = data['validation']\n",
    "\n",
    "\n",
    "\n",
    "convai_train_token = generic.tokenize_dataset_with_dependencies(convai_train,['about','to','as'],vocab,model_conf) \n",
    "convai_val_token = generic.tokenize_dataset_with_dependencies(convai_val,['about','to','as'],vocab,model_conf) "
   ]
  },
  {
   "cell_type": "code",
   "execution_count": 7,
   "metadata": {},
   "outputs": [],
   "source": [
    "convai_train_dataset = mt.DatasetMultitaskDep(convai_train_token,tasks,eval=False)\n",
    "convai_val_dataset = mt.DatasetMultitaskDep(convai_val_token,tasks,eval=False)"
   ]
  },
  {
   "attachments": {},
   "cell_type": "markdown",
   "metadata": {},
   "source": [
    "# Datos md_gender"
   ]
  },
  {
   "cell_type": "code",
   "execution_count": 8,
   "metadata": {},
   "outputs": [],
   "source": [
    "with open('Datasets\\md_gender\\md_complete.json','r',encoding=\"utf8\") as f:\n",
    "    md_data = json.load(f)"
   ]
  },
  {
   "cell_type": "code",
   "execution_count": 9,
   "metadata": {},
   "outputs": [],
   "source": [
    "md_tokenized = generic.tokenize_dataset_with_dependencies(md_data,['about','to','as'],vocab,model_conf) \n",
    "md_dataset = mt.DatasetMultitaskDep(md_tokenized,tasks,eval=True)"
   ]
  },
  {
   "attachments": {},
   "cell_type": "markdown",
   "metadata": {},
   "source": [
    "# Creación dataloaders"
   ]
  },
  {
   "cell_type": "code",
   "execution_count": 10,
   "metadata": {},
   "outputs": [],
   "source": [
    "dl_train =DataLoader(convai_train_dataset,batch_size=128,shuffle=True,collate_fn=mt.collate_fn)\n",
    "dl_val =DataLoader(convai_val_dataset,batch_size=128,shuffle=True,collate_fn=mt.collate_fn)\n",
    "dl_eval = DataLoader(md_dataset,batch_size=128,shuffle=False,collate_fn=mt.collate_fn)"
   ]
  },
  {
   "attachments": {},
   "cell_type": "markdown",
   "metadata": {},
   "source": [
    "# Modelo multitask"
   ]
  },
  {
   "cell_type": "code",
   "execution_count": 11,
   "metadata": {},
   "outputs": [],
   "source": [
    "num_epochs = 100\n",
    "learning_rate = 1e-6\n",
    "\n",
    "global_metrics = {'about':{'global':{'recall': [], 'precision': [],'f1': [], 'accuracy': []},\n",
    "                            'male':{'recall': [], 'precision': [],'f1': [], 'accuracy': []},\n",
    "                            'female':{'recall': [], 'precision': [],'f1': [], 'accuracy': []}},\n",
    "                    'as':{'global':{'recall': [], 'precision': [],'f1': [], 'accuracy': []},\n",
    "                            'male':{'recall': [], 'precision': [],'f1': [], 'accuracy': []},\n",
    "                            'female':{'recall': [], 'precision': [],'f1': [], 'accuracy': []}},\n",
    "                    'to':{'global':{'recall': [], 'precision': [],'f1': [], 'accuracy': []},\n",
    "                            'male':{'recall': [], 'precision': [],'f1': [], 'accuracy': []},\n",
    "                            'female':{'recall': [], 'precision': [],'f1': [], 'accuracy': []}}}"
   ]
  },
  {
   "cell_type": "code",
   "execution_count": 12,
   "metadata": {},
   "outputs": [
    {
     "name": "stderr",
     "output_type": "stream",
     "text": [
      "Some weights of the model checkpoint at bert-base-cased were not used when initializing BertModel: ['cls.seq_relationship.weight', 'cls.predictions.transform.LayerNorm.bias', 'cls.predictions.transform.dense.bias', 'cls.predictions.decoder.weight', 'cls.seq_relationship.bias', 'cls.predictions.transform.dense.weight', 'cls.predictions.bias', 'cls.predictions.transform.LayerNorm.weight']\n",
      "- This IS expected if you are initializing BertModel from the checkpoint of a model trained on another task or with another architecture (e.g. initializing a BertForSequenceClassification model from a BertForPreTraining model).\n",
      "- This IS NOT expected if you are initializing BertModel from the checkpoint of a model that you expect to be exactly identical (initializing a BertForSequenceClassification model from a BertForSequenceClassification model).\n"
     ]
    },
    {
     "data": {
      "application/vnd.jupyter.widget-view+json": {
       "model_id": "2f174ea29a5f43b5b1bf246efe9e36f7",
       "version_major": 2,
       "version_minor": 0
      },
      "text/plain": [
       "  0%|          | 0/57400 [00:00<?, ?it/s]"
      ]
     },
     "metadata": {},
     "output_type": "display_data"
    },
    {
     "name": "stdout",
     "output_type": "stream",
     "text": [
      "Epoch 1 \t Training loss: 2.0477077043014953 \t Validation loss: 2.0104450270281 \t \n",
      "  1%|          | 574/57400 [01:45<2:38:20,  5.98it/s]\n",
      "Epoch 2 \t Training loss: 1.9942836852854553 \t Validation loss: 2.0018860930103366 \t \n",
      "  2%|▏         | 1148/57400 [03:33<2:24:33,  6.49it/s]\n",
      "Epoch 3 \t Training loss: 1.9794730616778862 \t Validation loss: 1.9814534712645968 \t \n",
      "  3%|▎         | 1722/57400 [05:21<2:36:55,  5.91it/s]\n",
      "Epoch 4 \t Training loss: 1.969799769880049 \t Validation loss: 1.979619030225075 \t \n",
      "  4%|▍         | 2296/57400 [07:09<2:18:29,  6.63it/s]\n",
      "Epoch 5 \t Training loss: 1.9673238240883326 \t Validation loss: 1.9693729958291781 \t \n",
      "  5%|▌         | 2870/57400 [08:57<2:24:56,  6.27it/s]\n",
      "Epoch 6 \t Training loss: 1.9612583731940398 \t Validation loss: 1.9749873411857475 \t \n",
      "\n",
      "1 epoch without improvement\n",
      "  6%|▌         | 3444/57400 [10:46<2:13:59,  6.71it/s]\n",
      "Epoch 7 \t Training loss: 1.9577631370946504 \t Validation loss: 1.970709568363125 \t \n",
      "\n",
      "2 epoch without improvement\n",
      "  7%|▋         | 4018/57400 [12:33<2:59:29,  4.96it/s]\n",
      "Epoch 8 \t Training loss: 1.9550832445613182 \t Validation loss: 1.9751713437549139 \t \n",
      "\n",
      "3 epoch without improvement\n",
      "  8%|▊         | 4592/57400 [14:22<2:56:43,  4.98it/s]\n",
      "Epoch 9 \t Training loss: 1.9513521643050455 \t Validation loss: 1.9731765520774711 \t \n",
      "\n",
      "4 epoch without improvement\n",
      "  9%|▉         | 5166/57400 [16:07<2:25:58,  5.96it/s]\n",
      "Epoch 10 \t Training loss: 1.950163789534818 \t Validation loss: 1.9656820176011425 \t \n",
      " 10%|█         | 5740/57400 [17:53<2:53:34,  4.96it/s]\n",
      "Epoch 11 \t Training loss: 1.9453329512466537 \t Validation loss: 1.9664164135011577 \t \n",
      "\n",
      "1 epoch without improvement\n",
      " 11%|█         | 6314/57400 [19:37<2:07:27,  6.68it/s]\n",
      "Epoch 12 \t Training loss: 1.9423697306304029 \t Validation loss: 1.9772813178725162 \t \n",
      "\n",
      "2 epoch without improvement\n",
      " 12%|█▏        | 6888/57400 [21:23<2:21:57,  5.93it/s]\n",
      "Epoch 13 \t Training loss: 1.9429478186348175 \t Validation loss: 1.9668585243871657 \t \n",
      "\n",
      "3 epoch without improvement\n",
      " 13%|█▎        | 7462/57400 [23:10<2:26:24,  5.68it/s]\n",
      "Epoch 14 \t Training loss: 1.9390197543732381 \t Validation loss: 1.973206033140926 \t \n",
      "\n",
      "4 epoch without improvement\n",
      " 14%|█▍        | 8036/57400 [24:55<2:19:58,  5.88it/s]\n",
      "Epoch 15 \t Training loss: 1.9379518661349493 \t Validation loss: 1.963009709018772 \t \n",
      " 15%|█▌        | 8610/57400 [26:41<2:13:58,  6.07it/s]\n",
      "Epoch 16 \t Training loss: 1.937864981669582 \t Validation loss: 1.9713765382766724 \t \n",
      "\n",
      "1 epoch without improvement\n",
      " 16%|█▌        | 9184/57400 [28:27<2:31:06,  5.32it/s]\n",
      "Epoch 17 \t Training loss: 1.9373333545512024 \t Validation loss: 1.97498434883053 \t \n",
      "\n",
      "2 epoch without improvement\n",
      " 17%|█▋        | 9758/57400 [30:13<2:35:47,  5.10it/s]\n",
      "Epoch 18 \t Training loss: 1.9334008384249353 \t Validation loss: 1.9737958382751981 \t \n",
      "\n",
      "3 epoch without improvement\n",
      " 18%|█▊        | 10332/57400 [31:58<2:14:01,  5.85it/s]\n",
      "Epoch 19 \t Training loss: 1.931678314657577 \t Validation loss: 1.9702020358231107 \t \n",
      "\n",
      "4 epoch without improvement\n",
      " 19%|█▉        | 10906/57400 [33:43<2:34:23,  5.02it/s]\n",
      "Epoch 20 \t Training loss: 1.9319737233766696 \t Validation loss: 1.9646632287461878 \t \n",
      "\n",
      "5 epoch without improvement\n",
      " 20%|██        | 11480/57400 [35:28<2:11:05,  5.84it/s]\n",
      "Epoch 21 \t Training loss: 1.9276909921642795 \t Validation loss: 1.9639601384179066 \t \n",
      "\n",
      "6 epoch without improvement\n",
      " 21%|██        | 12054/57400 [37:13<2:03:46,  6.11it/s]\n",
      "Epoch 22 \t Training loss: 1.9300054720885247 \t Validation loss: 1.964651000701775 \t \n",
      "\n",
      "7 epoch without improvement\n",
      " 22%|██▏       | 12628/57400 [38:58<2:03:13,  6.06it/s]\n",
      "Epoch 23 \t Training loss: 1.9281403852256749 \t Validation loss: 1.9555259215629708 \t \n",
      " 23%|██▎       | 13202/57400 [40:43<1:59:08,  6.18it/s]\n",
      "Epoch 24 \t Training loss: 1.9242260831989062 \t Validation loss: 1.9640760805647253 \t \n",
      "\n",
      "1 epoch without improvement\n",
      " 24%|██▍       | 13776/57400 [42:30<2:01:10,  6.00it/s]\n",
      "Epoch 25 \t Training loss: 1.925573750863092 \t Validation loss: 1.9711776810177302 \t \n",
      "\n",
      "2 epoch without improvement\n",
      " 25%|██▌       | 14350/57400 [44:15<1:58:54,  6.03it/s]\n",
      "Epoch 26 \t Training loss: 1.9235994080633236 \t Validation loss: 1.9685470694202487 \t \n",
      "\n",
      "3 epoch without improvement\n",
      " 26%|██▌       | 14924/57400 [46:01<2:07:27,  5.55it/s]\n",
      "Epoch 27 \t Training loss: 1.9258354326989178 \t Validation loss: 1.9675389306019928 \t \n",
      "\n",
      "4 epoch without improvement\n",
      " 27%|██▋       | 15498/57400 [47:46<2:09:09,  5.41it/s]\n",
      "Epoch 28 \t Training loss: 1.9218212773160237 \t Validation loss: 1.9674765417131328 \t \n",
      "\n",
      "5 epoch without improvement\n",
      " 28%|██▊       | 16072/57400 [49:33<2:02:26,  5.63it/s]\n",
      "Epoch 29 \t Training loss: 1.9202217075467525 \t Validation loss: 1.9630446292586246 \t \n",
      "\n",
      "6 epoch without improvement\n",
      " 29%|██▉       | 16646/57400 [51:17<1:57:14,  5.79it/s]\n",
      "Epoch 30 \t Training loss: 1.920974545362519 \t Validation loss: 1.9627163854695984 \t \n",
      "\n",
      "7 epoch without improvement\n",
      " 30%|███       | 17220/57400 [53:02<2:03:48,  5.41it/s]\n",
      "Epoch 31 \t Training loss: 1.9188533714008664 \t Validation loss: 1.9661831815363997 \t \n",
      "\n",
      "8 epoch without improvement\n",
      " 31%|███       | 17794/57400 [54:47<1:58:07,  5.59it/s]\n",
      "Epoch 32 \t Training loss: 1.9172413488298343 \t Validation loss: 1.96572782225528 \t \n",
      "\n",
      "9 epoch without improvement\n",
      " 32%|███▏      | 18368/57400 [56:32<1:54:13,  5.70it/s]\n",
      "Epoch 33 \t Training loss: 1.913673315521732 \t Validation loss: 1.9604146399740445 \t \n",
      "\n",
      "10 epoch without improvement\n",
      "Validation_loss hasn't improve in 10 epoch. Stopping training after 33 epochs...\n"
     ]
    },
    {
     "data": {
      "image/png": "[encoded data removed]",
      "text/plain": [
       "<Figure size 640x480 with 1 Axes>"
      ]
     },
     "metadata": {},
     "output_type": "display_data"
    }
   ],
   "source": [
    "model = mt.MultiWithDependencies(model_conf,vocab).to(device)\n",
    "optimizer = AdamW(model.parameters(), lr=learning_rate,weight_decay=0.1)\n",
    "save_path='bert_multitask_pos_1'\n",
    "train.train_function_multi(model,num_epochs,dl_train,optimizer,early_stop = 10,dl_val = dl_val,save_path=save_path,es_threshold=0)"
   ]
  },
  {
   "cell_type": "code",
   "execution_count": 12,
   "metadata": {},
   "outputs": [
    {
     "name": "stderr",
     "output_type": "stream",
     "text": [
      "Some weights of the model checkpoint at bert-base-cased were not used when initializing BertModel: ['cls.predictions.transform.dense.bias', 'cls.seq_relationship.weight', 'cls.predictions.transform.LayerNorm.bias', 'cls.seq_relationship.bias', 'cls.predictions.bias', 'cls.predictions.transform.dense.weight', 'cls.predictions.decoder.weight', 'cls.predictions.transform.LayerNorm.weight']\n",
      "- This IS expected if you are initializing BertModel from the checkpoint of a model trained on another task or with another architecture (e.g. initializing a BertForSequenceClassification model from a BertForPreTraining model).\n",
      "- This IS NOT expected if you are initializing BertModel from the checkpoint of a model that you expect to be exactly identical (initializing a BertForSequenceClassification model from a BertForSequenceClassification model).\n"
     ]
    },
    {
     "name": "stdout",
     "output_type": "stream",
     "text": [
      "Evaluación del modelo\n",
      "{'to': {'recall': 0.6856060606060606, 'precision': 0.6856060606060606, 'f1': 0.6856060606060606, 'accuracy': 0.6856060606060606}, 'as': {'recall': 0.7183833116036505, 'precision': 0.7183833116036505, 'f1': 0.7183833116036505, 'accuracy': 0.7183833116036505}, 'about': {'recall': 0.8392857142857143, 'precision': 0.8392857142857143, 'f1': 0.8392857142857143, 'accuracy': 0.8392857142857143}} \n",
      "\n",
      "Evaluación en etiquetas male\n",
      "{'to': {'recall': 0.7128953771289538, 'precision': 0.7128953771289538, 'f1': 0.7128953771289537, 'accuracy': 0.7128953771289538}, 'as': {'recall': 0.7272727272727273, 'precision': 0.7272727272727273, 'f1': 0.7272727272727273, 'accuracy': 0.7272727272727273}, 'about': {'recall': 0.8489583333333334, 'precision': 0.8489583333333334, 'f1': 0.8489583333333334, 'accuracy': 0.8489583333333334}} \n",
      "\n",
      "Evaluación en etiquetas female\n",
      "{'to': {'recall': 0.6561679790026247, 'precision': 0.6561679790026247, 'f1': 0.6561679790026247, 'accuracy': 0.6561679790026247}, 'as': {'recall': 0.7088948787061995, 'precision': 0.7088948787061995, 'f1': 0.7088948787061995, 'accuracy': 0.7088948787061995}, 'about': {'recall': 0.83, 'precision': 0.83, 'f1': 0.83, 'accuracy': 0.83}} \n",
      "\n"
     ]
    }
   ],
   "source": [
    "model = mt.MultiWithDependencies(model_conf,vocab).to(device)\n",
    "model.load_state_dict(torch.load('bert_multitask_pos_1'))\n",
    "\n",
    "print(\"Evaluación del modelo\")\n",
    "result_global = train.eval_func_multi(model,dl_eval,tasks,gender=None)\n",
    "generic.update_global_metric_multi(result_global,global_metrics,mtype='global')\n",
    "print(result_global,'\\n')\n",
    "print(\"Evaluación en etiquetas male\")\n",
    "result_global = train.eval_func_multi(model,dl_eval,tasks,gender='male')\n",
    "generic.update_global_metric_multi(result_global,global_metrics,mtype='male')\n",
    "print(result_global,'\\n')\n",
    "print(\"Evaluación en etiquetas female\")\n",
    "result_global = train.eval_func_multi(model,dl_eval,tasks,gender='female')\n",
    "generic.update_global_metric_multi(result_global,global_metrics,mtype='female')\n",
    "print(result_global,'\\n')\n"
   ]
  },
  {
   "cell_type": "code",
   "execution_count": 14,
   "metadata": {},
   "outputs": [
    {
     "name": "stderr",
     "output_type": "stream",
     "text": [
      "Some weights of the model checkpoint at bert-base-cased were not used when initializing BertModel: ['cls.seq_relationship.weight', 'cls.predictions.transform.LayerNorm.bias', 'cls.predictions.transform.dense.bias', 'cls.predictions.decoder.weight', 'cls.seq_relationship.bias', 'cls.predictions.transform.dense.weight', 'cls.predictions.bias', 'cls.predictions.transform.LayerNorm.weight']\n",
      "- This IS expected if you are initializing BertModel from the checkpoint of a model trained on another task or with another architecture (e.g. initializing a BertForSequenceClassification model from a BertForPreTraining model).\n",
      "- This IS NOT expected if you are initializing BertModel from the checkpoint of a model that you expect to be exactly identical (initializing a BertForSequenceClassification model from a BertForSequenceClassification model).\n"
     ]
    },
    {
     "data": {
      "application/vnd.jupyter.widget-view+json": {
       "model_id": "b5a34bc2fd78441a8f46aae98c89d4cc",
       "version_major": 2,
       "version_minor": 0
      },
      "text/plain": [
       "  0%|          | 0/57400 [00:00<?, ?it/s]"
      ]
     },
     "metadata": {},
     "output_type": "display_data"
    },
    {
     "name": "stdout",
     "output_type": "stream",
     "text": [
      "Epoch 1 \t Training loss: 2.0521602335707234 \t Validation loss: 2.009063171128095 \t \n",
      "  1%|          | 574/57400 [01:47<2:49:44,  5.58it/s]\n",
      "Epoch 2 \t Training loss: 1.990901694688232 \t Validation loss: 1.9885515055413974 \t \n",
      "  2%|▏         | 1148/57400 [03:33<2:35:03,  6.05it/s]\n",
      "Epoch 3 \t Training loss: 1.973936164628338 \t Validation loss: 1.9832223148669226 \t \n",
      "  3%|▎         | 1722/57400 [05:19<2:52:50,  5.37it/s]\n",
      "Epoch 4 \t Training loss: 1.9708344377707105 \t Validation loss: 1.9751820927959378 \t \n",
      "  4%|▍         | 2296/57400 [07:05<2:24:30,  6.36it/s]\n",
      "Epoch 5 \t Training loss: 1.9638680113732607 \t Validation loss: 1.9805264836650784 \t \n",
      "\n",
      "1 epoch without improvement\n",
      "  5%|▌         | 2870/57400 [08:51<3:01:01,  5.02it/s]\n",
      "Epoch 6 \t Training loss: 1.9620886264362403 \t Validation loss: 1.9673031528117293 \t \n",
      "  6%|▌         | 3444/57400 [10:37<2:33:37,  5.85it/s]\n",
      "Epoch 7 \t Training loss: 1.958698894088692 \t Validation loss: 1.9731784654875932 \t \n",
      "\n",
      "1 epoch without improvement\n",
      "  7%|▋         | 4018/57400 [12:22<2:18:29,  6.42it/s]\n",
      "Epoch 8 \t Training loss: 1.9540375456577395 \t Validation loss: 1.9687714920205586 \t \n",
      "\n",
      "2 epoch without improvement\n",
      "  8%|▊         | 4592/57400 [14:08<2:40:35,  5.48it/s]\n",
      "Epoch 9 \t Training loss: 1.9547717972084204 \t Validation loss: 1.97343883676044 \t \n",
      "\n",
      "3 epoch without improvement\n",
      "  9%|▉         | 5166/57400 [15:53<2:25:19,  5.99it/s]\n",
      "Epoch 10 \t Training loss: 1.9478225388178012 \t Validation loss: 1.9745278843378617 \t \n",
      "\n",
      "4 epoch without improvement\n",
      " 10%|█         | 5740/57400 [17:39<2:45:04,  5.22it/s]\n",
      "Epoch 11 \t Training loss: 1.9474048759879135 \t Validation loss: 1.9734200218976554 \t \n",
      "\n",
      "5 epoch without improvement\n",
      " 11%|█         | 6314/57400 [19:24<2:09:52,  6.56it/s]\n",
      "Epoch 12 \t Training loss: 1.9456897319816961 \t Validation loss: 1.9683733127884946 \t \n",
      "\n",
      "6 epoch without improvement\n",
      " 12%|█▏        | 6888/57400 [21:10<2:32:42,  5.51it/s]\n",
      "Epoch 13 \t Training loss: 1.9440144722054644 \t Validation loss: 1.9695955797777338 \t \n",
      "\n",
      "7 epoch without improvement\n",
      " 13%|█▎        | 7462/57400 [22:56<2:06:35,  6.57it/s]\n",
      "Epoch 14 \t Training loss: 1.9414490536114895 \t Validation loss: 1.9730974112526845 \t \n",
      "\n",
      "8 epoch without improvement\n",
      " 14%|█▍        | 8036/57400 [24:42<2:30:49,  5.45it/s]\n",
      "Epoch 15 \t Training loss: 1.9385054792676653 \t Validation loss: 1.9643021640131029 \t \n",
      " 15%|█▌        | 8610/57400 [26:28<2:13:11,  6.10it/s]\n",
      "Epoch 16 \t Training loss: 1.9368797488744252 \t Validation loss: 1.9747320029695155 \t \n",
      "\n",
      "1 epoch without improvement\n",
      " 16%|█▌        | 9184/57400 [28:14<2:44:44,  4.88it/s]\n",
      "Epoch 17 \t Training loss: 1.9346923892506325 \t Validation loss: 1.9685403775360624 \t \n",
      "\n",
      "2 epoch without improvement\n",
      " 17%|█▋        | 9758/57400 [30:00<2:24:50,  5.48it/s]\n",
      "Epoch 18 \t Training loss: 1.9342283648065575 \t Validation loss: 1.963464949090602 \t \n",
      " 18%|█▊        | 10332/57400 [31:46<2:18:02,  5.68it/s]\n",
      "Epoch 19 \t Training loss: 1.9322743741892772 \t Validation loss: 1.9657136747392558 \t \n",
      "\n",
      "1 epoch without improvement\n",
      " 19%|█▉        | 10906/57400 [33:32<2:08:31,  6.03it/s]\n",
      "Epoch 20 \t Training loss: 1.9344502338548986 \t Validation loss: 1.96287200006388 \t \n",
      " 20%|██        | 11480/57400 [35:18<2:18:23,  5.53it/s]\n",
      "Epoch 21 \t Training loss: 1.9275166172183764 \t Validation loss: 1.9721958556417691 \t \n",
      "\n",
      "1 epoch without improvement\n",
      " 21%|██        | 12054/57400 [37:04<2:19:03,  5.44it/s]\n",
      "Epoch 22 \t Training loss: 1.9286789838029947 \t Validation loss: 1.9601140790066476 \t \n",
      " 22%|██▏       | 12628/57400 [38:51<2:14:56,  5.53it/s]\n",
      "Epoch 23 \t Training loss: 1.9273808725204202 \t Validation loss: 1.969173126301523 \t \n",
      "\n",
      "1 epoch without improvement\n",
      " 23%|██▎       | 13202/57400 [40:37<2:12:46,  5.55it/s]\n",
      "Epoch 24 \t Training loss: 1.9258019238814243 \t Validation loss: 1.9727084192179016 \t \n",
      "\n",
      "2 epoch without improvement\n",
      " 24%|██▍       | 13776/57400 [42:23<1:55:34,  6.29it/s]\n",
      "Epoch 25 \t Training loss: 1.9241904996413388 \t Validation loss: 1.9699421131004722 \t \n",
      "\n",
      "3 epoch without improvement\n",
      " 25%|██▌       | 14350/57400 [44:09<1:57:41,  6.10it/s]\n",
      "Epoch 26 \t Training loss: 1.9251957141148504 \t Validation loss: 1.9599412356392811 \t \n",
      " 26%|██▌       | 14924/57400 [45:56<1:50:04,  6.43it/s]\n",
      "Epoch 27 \t Training loss: 1.9239910109948613 \t Validation loss: 1.962473750114441 \t \n",
      "\n",
      "1 epoch without improvement\n",
      " 27%|██▋       | 15498/57400 [47:41<2:09:33,  5.39it/s]\n",
      "Epoch 28 \t Training loss: 1.921392336124327 \t Validation loss: 1.9633699332253407 \t \n",
      "\n",
      "2 epoch without improvement\n",
      " 28%|██▊       | 16072/57400 [49:27<1:51:32,  6.18it/s]\n",
      "Epoch 29 \t Training loss: 1.9200540022982953 \t Validation loss: 1.9575080972606853 \t \n",
      " 29%|██▉       | 16646/57400 [51:14<1:54:51,  5.91it/s]\n",
      "Epoch 30 \t Training loss: 1.921612459192708 \t Validation loss: 1.9547179371623669 \t \n",
      " 30%|███       | 17220/57400 [53:01<2:07:14,  5.26it/s]\n",
      "Epoch 31 \t Training loss: 1.9176188092613884 \t Validation loss: 1.9725247560921362 \t \n",
      "\n",
      "1 epoch without improvement\n",
      " 31%|███       | 17794/57400 [54:47<2:03:13,  5.36it/s]\n",
      "Epoch 32 \t Training loss: 1.9196901020272683 \t Validation loss: 1.9581713070303708 \t \n",
      "\n",
      "2 epoch without improvement\n",
      " 32%|███▏      | 18368/57400 [56:34<1:57:03,  5.56it/s]\n",
      "Epoch 33 \t Training loss: 1.9161626497212187 \t Validation loss: 1.9717702784780728 \t \n",
      "\n",
      "3 epoch without improvement\n",
      " 33%|███▎      | 18942/57400 [58:20<1:49:09,  5.87it/s]\n",
      "Epoch 34 \t Training loss: 1.9170704797585252 \t Validation loss: 1.968719183388403 \t \n",
      "\n",
      "4 epoch without improvement\n",
      " 34%|███▍      | 19516/57400 [1:00:05<1:59:48,  5.27it/s]\n",
      "Epoch 35 \t Training loss: 1.916017439307236 \t Validation loss: 1.9553207482321788 \t \n",
      "\n",
      "5 epoch without improvement\n",
      " 35%|███▌      | 20090/57400 [1:01:52<1:52:09,  5.54it/s]\n",
      "Epoch 36 \t Training loss: 1.9128013926100649 \t Validation loss: 1.970359448659218 \t \n",
      "\n",
      "6 epoch without improvement\n",
      " 36%|███▌      | 20664/57400 [1:03:37<1:42:47,  5.96it/s]\n",
      "Epoch 37 \t Training loss: 1.9115502788630097 \t Validation loss: 1.9595595194121538 \t \n",
      "\n",
      "7 epoch without improvement\n",
      " 37%|███▋      | 21238/57400 [1:05:23<1:42:16,  5.89it/s]\n",
      "Epoch 38 \t Training loss: 1.9079049325155464 \t Validation loss: 1.9681451886387196 \t \n",
      "\n",
      "8 epoch without improvement\n",
      " 38%|███▊      | 21812/57400 [1:07:09<1:42:46,  5.77it/s]\n",
      "Epoch 39 \t Training loss: 1.9113537079365828 \t Validation loss: 1.9508511575601868 \t \n",
      " 39%|███▉      | 22386/57400 [1:08:55<1:38:54,  5.90it/s]\n",
      "Epoch 40 \t Training loss: 1.9116795067172432 \t Validation loss: 1.9670849290944763 \t \n",
      "\n",
      "1 epoch without improvement\n",
      " 40%|████      | 22960/57400 [1:10:42<1:39:02,  5.80it/s]\n",
      "Epoch 41 \t Training loss: 1.9078280250785242 \t Validation loss: 1.9686887062202065 \t \n",
      "\n",
      "2 epoch without improvement\n",
      " 41%|████      | 23534/57400 [1:12:27<1:32:48,  6.08it/s]\n",
      "Epoch 42 \t Training loss: 1.9113139275474416 \t Validation loss: 1.961447210635169 \t \n",
      "\n",
      "3 epoch without improvement\n",
      " 42%|████▏     | 24108/57400 [1:14:13<1:35:08,  5.83it/s]\n",
      "Epoch 43 \t Training loss: 1.9049735825236251 \t Validation loss: 1.9658789553884732 \t \n",
      "\n",
      "4 epoch without improvement\n",
      " 43%|████▎     | 24682/57400 [1:15:59<1:31:28,  5.96it/s]\n",
      "Epoch 44 \t Training loss: 1.9056783374593649 \t Validation loss: 1.9684965590299186 \t \n",
      "\n",
      "5 epoch without improvement\n",
      " 44%|████▍     | 25256/57400 [1:17:46<1:21:24,  6.58it/s]\n",
      "Epoch 45 \t Training loss: 1.90734138472155 \t Validation loss: 1.973858706021713 \t \n",
      "\n",
      "6 epoch without improvement\n",
      " 45%|████▌     | 25830/57400 [1:19:32<1:29:38,  5.87it/s]\n",
      "Epoch 46 \t Training loss: 1.9043470562958136 \t Validation loss: 1.9625870716773857 \t \n",
      "\n",
      "7 epoch without improvement\n",
      " 46%|████▌     | 26404/57400 [1:21:18<1:27:11,  5.92it/s]\n",
      "Epoch 47 \t Training loss: 1.9081445915773771 \t Validation loss: 1.9644640502283128 \t \n",
      "\n",
      "8 epoch without improvement\n",
      " 47%|████▋     | 26978/57400 [1:23:04<1:27:25,  5.80it/s]\n",
      "Epoch 48 \t Training loss: 1.9042815370842139 \t Validation loss: 1.9676253553164207 \t \n",
      "\n",
      "9 epoch without improvement\n",
      " 48%|████▊     | 27552/57400 [1:24:51<1:25:22,  5.83it/s]\n",
      "Epoch 49 \t Training loss: 1.904687916567932 \t Validation loss: 1.9597648442801783 \t \n",
      "\n",
      "10 epoch without improvement\n",
      "Validation_loss hasn't improve in 10 epoch. Stopping training after 49 epochs...\n"
     ]
    },
    {
     "data": {
      "image/png": "[encoded data removed]",
      "text/plain": [
       "<Figure size 640x480 with 1 Axes>"
      ]
     },
     "metadata": {},
     "output_type": "display_data"
    }
   ],
   "source": [
    "model = mt.MultiWithDependencies(model_conf,vocab).to(device)\n",
    "optimizer = AdamW(model.parameters(), lr=learning_rate,weight_decay=0.1)\n",
    "save_path='bert_multitask_pos_2'\n",
    "train.train_function_multi(model,num_epochs,dl_train,optimizer,early_stop = 10,dl_val = dl_val,save_path=save_path,es_threshold=0)"
   ]
  },
  {
   "cell_type": "code",
   "execution_count": 13,
   "metadata": {},
   "outputs": [
    {
     "name": "stderr",
     "output_type": "stream",
     "text": [
      "Some weights of the model checkpoint at bert-base-cased were not used when initializing BertModel: ['cls.predictions.transform.dense.bias', 'cls.seq_relationship.weight', 'cls.predictions.transform.LayerNorm.bias', 'cls.seq_relationship.bias', 'cls.predictions.bias', 'cls.predictions.transform.dense.weight', 'cls.predictions.decoder.weight', 'cls.predictions.transform.LayerNorm.weight']\n",
      "- This IS expected if you are initializing BertModel from the checkpoint of a model trained on another task or with another architecture (e.g. initializing a BertForSequenceClassification model from a BertForPreTraining model).\n",
      "- This IS NOT expected if you are initializing BertModel from the checkpoint of a model that you expect to be exactly identical (initializing a BertForSequenceClassification model from a BertForSequenceClassification model).\n"
     ]
    },
    {
     "name": "stdout",
     "output_type": "stream",
     "text": [
      "Evaluación del modelo\n",
      "{'to': {'recall': 0.7058080808080808, 'precision': 0.7058080808080808, 'f1': 0.7058080808080808, 'accuracy': 0.7058080808080808}, 'as': {'recall': 0.7183833116036505, 'precision': 0.7183833116036505, 'f1': 0.7183833116036505, 'accuracy': 0.7183833116036505}, 'about': {'recall': 0.8354591836734694, 'precision': 0.8354591836734694, 'f1': 0.8354591836734694, 'accuracy': 0.8354591836734694}} \n",
      "\n",
      "Evaluación en etiquetas male\n",
      "{'to': {'recall': 0.7372262773722628, 'precision': 0.7372262773722628, 'f1': 0.7372262773722628, 'accuracy': 0.7372262773722628}, 'as': {'recall': 0.7348484848484849, 'precision': 0.7348484848484849, 'f1': 0.7348484848484848, 'accuracy': 0.7348484848484849}, 'about': {'recall': 0.8385416666666666, 'precision': 0.8385416666666666, 'f1': 0.8385416666666666, 'accuracy': 0.8385416666666666}} \n",
      "\n",
      "Evaluación en etiquetas female\n",
      "{'to': {'recall': 0.6719160104986877, 'precision': 0.6719160104986877, 'f1': 0.6719160104986877, 'accuracy': 0.6719160104986877}, 'as': {'recall': 0.7008086253369272, 'precision': 0.7008086253369272, 'f1': 0.7008086253369272, 'accuracy': 0.7008086253369272}, 'about': {'recall': 0.8325, 'precision': 0.8325, 'f1': 0.8325, 'accuracy': 0.8325}} \n",
      "\n"
     ]
    }
   ],
   "source": [
    "model = mt.MultiWithDependencies(model_conf,vocab).to(device)\n",
    "model.load_state_dict(torch.load('bert_multitask_pos_2'))\n",
    "\n",
    "print(\"Evaluación del modelo\")\n",
    "result_global = train.eval_func_multi(model,dl_eval,tasks,gender=None)\n",
    "generic.update_global_metric_multi(result_global,global_metrics,mtype='global')\n",
    "print(result_global,'\\n')\n",
    "print(\"Evaluación en etiquetas male\")\n",
    "result_global = train.eval_func_multi(model,dl_eval,tasks,gender='male')\n",
    "generic.update_global_metric_multi(result_global,global_metrics,mtype='male')\n",
    "print(result_global,'\\n')\n",
    "print(\"Evaluación en etiquetas female\")\n",
    "result_global = train.eval_func_multi(model,dl_eval,tasks,gender='female')\n",
    "generic.update_global_metric_multi(result_global,global_metrics,mtype='female')\n",
    "print(result_global,'\\n')\n"
   ]
  },
  {
   "cell_type": "code",
   "execution_count": 14,
   "metadata": {},
   "outputs": [
    {
     "name": "stderr",
     "output_type": "stream",
     "text": [
      "Some weights of the model checkpoint at bert-base-cased were not used when initializing BertModel: ['cls.predictions.transform.dense.bias', 'cls.seq_relationship.weight', 'cls.predictions.transform.LayerNorm.bias', 'cls.seq_relationship.bias', 'cls.predictions.bias', 'cls.predictions.transform.dense.weight', 'cls.predictions.decoder.weight', 'cls.predictions.transform.LayerNorm.weight']\n",
      "- This IS expected if you are initializing BertModel from the checkpoint of a model trained on another task or with another architecture (e.g. initializing a BertForSequenceClassification model from a BertForPreTraining model).\n",
      "- This IS NOT expected if you are initializing BertModel from the checkpoint of a model that you expect to be exactly identical (initializing a BertForSequenceClassification model from a BertForSequenceClassification model).\n"
     ]
    },
    {
     "data": {
      "application/vnd.jupyter.widget-view+json": {
       "model_id": "9894dce4fbce4c5eafbe983d03b6acec",
       "version_major": 2,
       "version_minor": 0
      },
      "text/plain": [
       "  0%|          | 0/57400 [00:00<?, ?it/s]"
      ]
     },
     "metadata": {},
     "output_type": "display_data"
    },
    {
     "name": "stdout",
     "output_type": "stream",
     "text": [
      "Epoch 1 \t Training loss: 2.052297884578904 \t Validation loss: 2.004829998743736 \t \n",
      "  1%|          | 574/57400 [02:02<2:46:38,  5.68it/s]\n",
      "Epoch 2 \t Training loss: 1.9912396266485342 \t Validation loss: 1.9906248359356897 \t \n",
      "  2%|▏         | 1148/57400 [04:10<2:46:45,  5.62it/s]\n",
      "Epoch 3 \t Training loss: 1.9761550492941296 \t Validation loss: 1.9847807076017736 \t \n",
      "  3%|▎         | 1722/57400 [06:18<2:50:37,  5.44it/s]\n",
      "Epoch 4 \t Training loss: 1.9712637509203124 \t Validation loss: 1.9803006406557762 \t \n",
      "  4%|▍         | 2296/57400 [08:27<2:45:18,  5.56it/s]\n",
      "Epoch 5 \t Training loss: 1.9664527422875062 \t Validation loss: 1.9715152089878665 \t \n",
      "  5%|▌         | 2870/57400 [10:34<2:40:56,  5.65it/s]\n",
      "Epoch 6 \t Training loss: 1.965687858310726 \t Validation loss: 1.971118371365434 \t \n",
      "  6%|▌         | 3444/57400 [12:42<2:36:48,  5.73it/s]\n",
      "Epoch 7 \t Training loss: 1.9590070615246735 \t Validation loss: 1.9750194973864799 \t \n",
      "\n",
      "1 epoch without improvement\n",
      "  7%|▋         | 4018/57400 [14:50<2:49:37,  5.24it/s]\n",
      "Epoch 8 \t Training loss: 1.9540389803228477 \t Validation loss: 1.9655858500529144 \t \n",
      "  8%|▊         | 4592/57400 [16:42<2:20:02,  6.28it/s]\n",
      "Epoch 9 \t Training loss: 1.9543069291613244 \t Validation loss: 1.9717818377381664 \t \n",
      "\n",
      "1 epoch without improvement\n",
      "  9%|▉         | 5166/57400 [18:32<2:21:19,  6.16it/s]\n",
      "Epoch 10 \t Training loss: 1.9522940881991635 \t Validation loss: 1.9620664705664426 \t \n",
      " 10%|█         | 5740/57400 [20:22<2:36:30,  5.50it/s]\n",
      "Epoch 11 \t Training loss: 1.9492268298561148 \t Validation loss: 1.9633250357741017 \t \n",
      "\n",
      "1 epoch without improvement\n",
      " 11%|█         | 6314/57400 [22:11<2:17:17,  6.20it/s]\n",
      "Epoch 12 \t Training loss: 1.9485671175481551 \t Validation loss: 1.9603883694794217 \t \n",
      " 12%|█▏        | 6888/57400 [24:02<3:39:00,  3.84it/s]\n",
      "Epoch 13 \t Training loss: 1.9447741865696393 \t Validation loss: 1.9779047218419739 \t \n",
      "\n",
      "1 epoch without improvement\n",
      " 13%|█▎        | 7462/57400 [25:52<2:12:57,  6.26it/s]\n",
      "Epoch 14 \t Training loss: 1.943088169712638 \t Validation loss: 1.9673547906390692 \t \n",
      "\n",
      "2 epoch without improvement\n",
      " 14%|█▍        | 8036/57400 [27:41<2:27:03,  5.59it/s]\n",
      "Epoch 15 \t Training loss: 1.9411157473454492 \t Validation loss: 1.9702059959961196 \t \n",
      "\n",
      "3 epoch without improvement\n",
      " 15%|█▌        | 8610/57400 [29:30<2:12:54,  6.12it/s]\n",
      "Epoch 16 \t Training loss: 1.938934736343211 \t Validation loss: 1.9709023014973786 \t \n",
      "\n",
      "4 epoch without improvement\n",
      " 16%|█▌        | 9184/57400 [31:20<2:10:46,  6.15it/s]\n",
      "Epoch 17 \t Training loss: 1.9401325149403217 \t Validation loss: 1.9593293565814778 \t \n",
      " 17%|█▋        | 9758/57400 [33:10<2:22:16,  5.58it/s]\n",
      "Epoch 18 \t Training loss: 1.9354905646021774 \t Validation loss: 1.9675871780363179 \t \n",
      "\n",
      "1 epoch without improvement\n",
      " 18%|█▊        | 10332/57400 [35:00<2:22:35,  5.50it/s]\n",
      "Epoch 19 \t Training loss: 1.9323789253052104 \t Validation loss: 1.972728828252372 \t \n",
      "\n",
      "2 epoch without improvement\n",
      " 19%|█▉        | 10906/57400 [36:50<2:04:30,  6.22it/s]\n",
      "Epoch 20 \t Training loss: 1.930379044511177 \t Validation loss: 1.961684156272371 \t \n",
      "\n",
      "3 epoch without improvement\n",
      " 20%|██        | 11480/57400 [38:39<2:18:07,  5.54it/s]\n",
      "Epoch 21 \t Training loss: 1.9338098764419556 \t Validation loss: 1.9651153067411002 \t \n",
      "\n",
      "4 epoch without improvement\n",
      " 21%|██        | 12054/57400 [40:29<2:02:54,  6.15it/s]\n",
      "Epoch 22 \t Training loss: 1.9319156744754273 \t Validation loss: 1.9718490737979695 \t \n",
      "\n",
      "5 epoch without improvement\n",
      " 22%|██▏       | 12628/57400 [42:19<1:58:28,  6.30it/s]\n",
      "Epoch 23 \t Training loss: 1.927922042404733 \t Validation loss: 1.9621668589317192 \t \n",
      "\n",
      "6 epoch without improvement\n",
      " 23%|██▎       | 13202/57400 [44:09<1:55:49,  6.36it/s]\n",
      "Epoch 24 \t Training loss: 1.9298513159934652 \t Validation loss: 1.9647027678408866 \t \n",
      "\n",
      "7 epoch without improvement\n",
      " 24%|██▍       | 13776/57400 [45:59<1:53:32,  6.40it/s]\n",
      "Epoch 25 \t Training loss: 1.925082086063013 \t Validation loss: 1.9663179728944422 \t \n",
      "\n",
      "8 epoch without improvement\n",
      " 25%|██▌       | 14350/57400 [47:50<2:02:04,  5.88it/s]\n",
      "Epoch 26 \t Training loss: 1.9267909952572413 \t Validation loss: 1.9607472641993378 \t \n",
      "\n",
      "9 epoch without improvement\n",
      " 26%|██▌       | 14924/57400 [49:40<1:59:33,  5.92it/s]\n",
      "Epoch 27 \t Training loss: 1.924668703552738 \t Validation loss: 1.9718463643122528 \t \n",
      "\n",
      "10 epoch without improvement\n",
      "Validation_loss hasn't improve in 10 epoch. Stopping training after 27 epochs...\n"
     ]
    },
    {
     "data": {
      "image/png": "[encoded data removed]",
      "text/plain": [
       "<Figure size 640x480 with 1 Axes>"
      ]
     },
     "metadata": {},
     "output_type": "display_data"
    }
   ],
   "source": [
    "model = mt.MultiWithDependencies(model_conf,vocab).to(device)\n",
    "optimizer = AdamW(model.parameters(), lr=learning_rate,weight_decay=0.1)\n",
    "save_path='bert_multitask_pos_3'\n",
    "train.train_function_multi(model,num_epochs,dl_train,optimizer,early_stop = 10,dl_val = dl_val,save_path=save_path,es_threshold=0)"
   ]
  },
  {
   "cell_type": "code",
   "execution_count": 15,
   "metadata": {},
   "outputs": [
    {
     "name": "stderr",
     "output_type": "stream",
     "text": [
      "Some weights of the model checkpoint at bert-base-cased were not used when initializing BertModel: ['cls.predictions.transform.dense.bias', 'cls.seq_relationship.weight', 'cls.predictions.transform.LayerNorm.bias', 'cls.seq_relationship.bias', 'cls.predictions.bias', 'cls.predictions.transform.dense.weight', 'cls.predictions.decoder.weight', 'cls.predictions.transform.LayerNorm.weight']\n",
      "- This IS expected if you are initializing BertModel from the checkpoint of a model trained on another task or with another architecture (e.g. initializing a BertForSequenceClassification model from a BertForPreTraining model).\n",
      "- This IS NOT expected if you are initializing BertModel from the checkpoint of a model that you expect to be exactly identical (initializing a BertForSequenceClassification model from a BertForSequenceClassification model).\n"
     ]
    },
    {
     "name": "stdout",
     "output_type": "stream",
     "text": [
      "Evaluación del modelo\n",
      "{'to': {'recall': 0.702020202020202, 'precision': 0.702020202020202, 'f1': 0.702020202020202, 'accuracy': 0.702020202020202}, 'as': {'recall': 0.727509778357236, 'precision': 0.727509778357236, 'f1': 0.727509778357236, 'accuracy': 0.727509778357236}, 'about': {'recall': 0.8354591836734694, 'precision': 0.8354591836734694, 'f1': 0.8354591836734694, 'accuracy': 0.8354591836734694}} \n",
      "\n",
      "Evaluación en etiquetas male\n",
      "{'to': {'recall': 0.7445255474452555, 'precision': 0.7445255474452555, 'f1': 0.7445255474452555, 'accuracy': 0.7445255474452555}, 'as': {'recall': 0.7449494949494949, 'precision': 0.7449494949494949, 'f1': 0.7449494949494948, 'accuracy': 0.7449494949494949}, 'about': {'recall': 0.8567708333333334, 'precision': 0.8567708333333334, 'f1': 0.8567708333333334, 'accuracy': 0.8567708333333334}} \n",
      "\n",
      "Evaluación en etiquetas female\n",
      "{'to': {'recall': 0.6561679790026247, 'precision': 0.6561679790026247, 'f1': 0.6561679790026247, 'accuracy': 0.6561679790026247}, 'as': {'recall': 0.7088948787061995, 'precision': 0.7088948787061995, 'f1': 0.7088948787061995, 'accuracy': 0.7088948787061995}, 'about': {'recall': 0.815, 'precision': 0.815, 'f1': 0.815, 'accuracy': 0.815}} \n",
      "\n"
     ]
    }
   ],
   "source": [
    "model = mt.MultiWithDependencies(model_conf,vocab).to(device)\n",
    "model.load_state_dict(torch.load(save_path))\n",
    "\n",
    "print(\"Evaluación del modelo\")\n",
    "result_global = train.eval_func_multi(model,dl_eval,tasks,gender=None)\n",
    "generic.update_global_metric_multi(result_global,global_metrics,mtype='global')\n",
    "print(result_global,'\\n')\n",
    "print(\"Evaluación en etiquetas male\")\n",
    "result_global = train.eval_func_multi(model,dl_eval,tasks,gender='male')\n",
    "generic.update_global_metric_multi(result_global,global_metrics,mtype='male')\n",
    "print(result_global,'\\n')\n",
    "print(\"Evaluación en etiquetas female\")\n",
    "result_global = train.eval_func_multi(model,dl_eval,tasks,gender='female')\n",
    "generic.update_global_metric_multi(result_global,global_metrics,mtype='female')\n",
    "print(result_global,'\\n')\n"
   ]
  },
  {
   "cell_type": "code",
   "execution_count": 16,
   "metadata": {},
   "outputs": [
    {
     "name": "stdout",
     "output_type": "stream",
     "text": [
      "Métricas globales: \n",
      "\n",
      "\n",
      " about\n",
      "Resultado global: {'recall': 0.8367346938775511, 'precision': 0.8367346938775511, 'f1': 0.8367346938775511, 'accuracy': 0.8367346938775511}\n",
      "Métricas etiqueta male: {'recall': 0.8480902777777778, 'precision': 0.8480902777777778, 'f1': 0.8480902777777778, 'accuracy': 0.8480902777777778}\n",
      "Métricas etiqueta female:  {'recall': 0.8258333333333333, 'precision': 0.8258333333333333, 'f1': 0.8258333333333333, 'accuracy': 0.8258333333333333}\n",
      "\n",
      " to\n",
      "Resultado global: {'recall': 0.6978114478114478, 'precision': 0.6978114478114478, 'f1': 0.6978114478114478, 'accuracy': 0.6978114478114478}\n",
      "Métricas etiqueta male: {'recall': 0.7315490673154906, 'precision': 0.7315490673154906, 'f1': 0.7315490673154906, 'accuracy': 0.7315490673154906}\n",
      "Métricas etiqueta female:  {'recall': 0.6614173228346457, 'precision': 0.6614173228346457, 'f1': 0.6614173228346457, 'accuracy': 0.6614173228346457}\n",
      "\n",
      " as\n",
      "Resultado global: {'recall': 0.721425467188179, 'precision': 0.721425467188179, 'f1': 0.721425467188179, 'accuracy': 0.721425467188179}\n",
      "Métricas etiqueta male: {'recall': 0.7356902356902357, 'precision': 0.7356902356902357, 'f1': 0.7356902356902356, 'accuracy': 0.7356902356902357}\n",
      "Métricas etiqueta female:  {'recall': 0.706199460916442, 'precision': 0.706199460916442, 'f1': 0.706199460916442, 'accuracy': 0.706199460916442}\n"
     ]
    }
   ],
   "source": [
    "\n",
    "print('Métricas globales: \\n')\n",
    "\n",
    "for task in ['about','to','as']:\n",
    "    print('\\n',task)\n",
    "    print('Resultado global:',{m:mean(values) for m,values in global_metrics[task]['global'].items()})\n",
    "    print(f'Métricas etiqueta male:',{m:mean(values) for m,values in global_metrics[task]['male'].items()})\n",
    "    print('Métricas etiqueta female: ',{m:mean(values) for m,values in global_metrics[task]['female'].items()})\n"
   ]
  }
 ],
 "metadata": {
  "kernelspec": {
   "display_name": "tfg",
   "language": "python",
   "name": "python3"
  },
  "language_info": {
   "codemirror_mode": {
    "name": "ipython",
    "version": 3
   },
   "file_extension": ".py",
   "mimetype": "text/x-python",
   "name": "python",
   "nbconvert_exporter": "python",
   "pygments_lexer": "ipython3",
   "version": "3.9.13"
  },
  "orig_nbformat": 4,
  "vscode": {
   "interpreter": {
    "hash": "35e8332e99bdf485583869dfbdef293dcf2f9293b1663ec5daea0a573af457c3"
   }
  }
 },
 "nbformat": 4,
 "nbformat_minor": 2
}
