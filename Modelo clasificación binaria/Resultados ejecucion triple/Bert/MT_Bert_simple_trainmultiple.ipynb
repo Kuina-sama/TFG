{
 "cells": [
  {
   "cell_type": "code",
   "execution_count": 1,
   "metadata": {},
   "outputs": [],
   "source": [
    "import torch\n",
    "from torch.utils.data import DataLoader\n",
    "from torch.optim import SGD ,AdamW\n",
    "\n",
    "from datasets import load_dataset, load_metric\n",
    "\n",
    "import matplotlib.pyplot as plt\n",
    "\n",
    "import json\n",
    "from statistics import mean"
   ]
  },
  {
   "cell_type": "code",
   "execution_count": 2,
   "metadata": {},
   "outputs": [],
   "source": [
    "import utils_generic as generic\n",
    "import multitask_simple as mt\n",
    "import model_confs as confs\n",
    "import train"
   ]
  },
  {
   "cell_type": "code",
   "execution_count": 3,
   "metadata": {},
   "outputs": [],
   "source": [
    "device = torch.device(\"cuda\") if torch.cuda.is_available() else torch.device(\"cpu\")\n",
    "tasks = ['to','as','about']"
   ]
  },
  {
   "cell_type": "code",
   "execution_count": 4,
   "metadata": {},
   "outputs": [],
   "source": [
    "model_conf = confs.bert_conf"
   ]
  },
  {
   "attachments": {},
   "cell_type": "markdown",
   "metadata": {},
   "source": [
    "# Datos ConvAI"
   ]
  },
  {
   "cell_type": "code",
   "execution_count": 5,
   "metadata": {},
   "outputs": [],
   "source": [
    "with open('Datasets\\ConvAI2\\convai2_complete.json','r') as f:\n",
    "    data = json.load(f)"
   ]
  },
  {
   "cell_type": "code",
   "execution_count": 6,
   "metadata": {},
   "outputs": [],
   "source": [
    "convai_train = data['train']\n",
    "convai_val = data['validation']\n",
    "\n",
    "\n",
    "\n",
    "convai_train_token = generic.tokenize_dataset(convai_train,tasks,model_conf) \n",
    "convai_val_token = generic.tokenize_dataset(convai_val,tasks,model_conf) "
   ]
  },
  {
   "cell_type": "code",
   "execution_count": 7,
   "metadata": {},
   "outputs": [],
   "source": [
    "convai_train_dataset = mt.DatasetMultiTaskSimple(convai_train_token,tasks,eval=False)\n",
    "convai_val_dataset = mt.DatasetMultiTaskSimple(convai_val_token,tasks,eval=False)"
   ]
  },
  {
   "attachments": {},
   "cell_type": "markdown",
   "metadata": {},
   "source": [
    "# Datos md_gender"
   ]
  },
  {
   "cell_type": "code",
   "execution_count": 8,
   "metadata": {},
   "outputs": [],
   "source": [
    "with open('Datasets\\md_gender\\md_complete.json','r',encoding=\"utf8\") as f:\n",
    "    md_data = json.load(f)"
   ]
  },
  {
   "cell_type": "code",
   "execution_count": 9,
   "metadata": {},
   "outputs": [],
   "source": [
    "md_tokenized = generic.tokenize_dataset(md_data,tasks,model_conf) \n",
    "md_dataset = mt.DatasetMultiTaskSimple(md_tokenized,tasks,eval=True)"
   ]
  },
  {
   "attachments": {},
   "cell_type": "markdown",
   "metadata": {},
   "source": [
    "# Creación dataloaders"
   ]
  },
  {
   "cell_type": "code",
   "execution_count": 10,
   "metadata": {},
   "outputs": [],
   "source": [
    "dl_train =DataLoader(convai_train_dataset,batch_size=128,shuffle=True,collate_fn=mt.collate_fn)\n",
    "dl_val =DataLoader(convai_val_dataset,batch_size=128,shuffle=True,collate_fn=mt.collate_fn)\n",
    "dl_eval = DataLoader(md_dataset,batch_size=128,shuffle=False,collate_fn=mt.collate_fn)"
   ]
  },
  {
   "attachments": {},
   "cell_type": "markdown",
   "metadata": {},
   "source": [
    "# Modelo multitask"
   ]
  },
  {
   "cell_type": "code",
   "execution_count": 14,
   "metadata": {},
   "outputs": [],
   "source": [
    "num_epochs = 100\n",
    "learning_rate = 1e-6\n",
    "\n",
    "global_metrics = {'about':{'global':{'recall': [], 'precision': [],'f1': [], 'accuracy': []},\n",
    "                            'male':{'recall': [], 'precision': [],'f1': [], 'accuracy': []},\n",
    "                            'female':{'recall': [], 'precision': [],'f1': [], 'accuracy': []}},\n",
    "                    'as':{'global':{'recall': [], 'precision': [],'f1': [], 'accuracy': []},\n",
    "                            'male':{'recall': [], 'precision': [],'f1': [], 'accuracy': []},\n",
    "                            'female':{'recall': [], 'precision': [],'f1': [], 'accuracy': []}},\n",
    "                    'to':{'global':{'recall': [], 'precision': [],'f1': [], 'accuracy': []},\n",
    "                            'male':{'recall': [], 'precision': [],'f1': [], 'accuracy': []},\n",
    "                            'female':{'recall': [], 'precision': [],'f1': [], 'accuracy': []}}}"
   ]
  },
  {
   "cell_type": "code",
   "execution_count": 12,
   "metadata": {},
   "outputs": [
    {
     "name": "stderr",
     "output_type": "stream",
     "text": [
      "Some weights of the model checkpoint at bert-base-cased were not used when initializing BertModel: ['cls.predictions.transform.dense.weight', 'cls.predictions.transform.LayerNorm.bias', 'cls.seq_relationship.weight', 'cls.seq_relationship.bias', 'cls.predictions.decoder.weight', 'cls.predictions.bias', 'cls.predictions.transform.LayerNorm.weight', 'cls.predictions.transform.dense.bias']\n",
      "- This IS expected if you are initializing BertModel from the checkpoint of a model trained on another task or with another architecture (e.g. initializing a BertForSequenceClassification model from a BertForPreTraining model).\n",
      "- This IS NOT expected if you are initializing BertModel from the checkpoint of a model that you expect to be exactly identical (initializing a BertForSequenceClassification model from a BertForSequenceClassification model).\n"
     ]
    },
    {
     "data": {
      "application/vnd.jupyter.widget-view+json": {
       "model_id": "12c131756dc44dccad4a90f47944f5af",
       "version_major": 2,
       "version_minor": 0
      },
      "text/plain": [
       "  0%|          | 0/57400 [00:00<?, ?it/s]"
      ]
     },
     "metadata": {},
     "output_type": "display_data"
    },
    {
     "name": "stdout",
     "output_type": "stream",
     "text": [
      "Epoch 1 \t Training loss: 2.0493930202327952 \t Validation loss: 2.0122393692954113 \t \n",
      "  1%|          | 574/57400 [01:40<2:35:55,  6.07it/s]\n",
      "Epoch 2 \t Training loss: 1.9935068888946692 \t Validation loss: 1.9915621098825487 \t \n",
      "  2%|▏         | 1148/57400 [03:17<2:32:49,  6.13it/s]\n",
      "Epoch 3 \t Training loss: 1.9742581563959554 \t Validation loss: 1.9850804603705972 \t \n",
      "  3%|▎         | 1722/57400 [04:56<2:28:58,  6.23it/s]\n",
      "Epoch 4 \t Training loss: 1.9713812707193221 \t Validation loss: 1.9807737419160747 \t \n",
      "  4%|▍         | 2296/57400 [06:35<2:45:30,  5.55it/s]\n",
      "Epoch 5 \t Training loss: 1.9652006061234957 \t Validation loss: 1.9725779032303115 \t \n",
      "  5%|▌         | 2870/57400 [08:13<2:23:21,  6.34it/s]\n",
      "Epoch 6 \t Training loss: 1.965037179117834 \t Validation loss: 1.9801544658208297 \t \n",
      "\n",
      "1 epoch without improvement\n",
      "  6%|▌         | 3444/57400 [09:51<2:29:52,  6.00it/s]\n",
      "Epoch 7 \t Training loss: 1.9571325662659436 \t Validation loss: 1.9791477777190127 \t \n",
      "\n",
      "2 epoch without improvement\n",
      "  7%|▋         | 4018/57400 [11:30<2:20:11,  6.35it/s]\n",
      "Epoch 8 \t Training loss: 1.9557288071004355 \t Validation loss: 1.9697170641462682 \t \n",
      "  8%|▊         | 4592/57400 [13:09<2:16:48,  6.43it/s]\n",
      "Epoch 9 \t Training loss: 1.949989516768306 \t Validation loss: 1.978635296983234 \t \n",
      "\n",
      "1 epoch without improvement\n",
      "  9%|▉         | 5166/57400 [14:48<2:24:20,  6.03it/s]\n",
      "Epoch 10 \t Training loss: 1.948122266277619 \t Validation loss: 1.9710293220261397 \t \n",
      "\n",
      "2 epoch without improvement\n",
      " 10%|█         | 5740/57400 [16:24<2:22:35,  6.04it/s]\n",
      "Epoch 11 \t Training loss: 1.9454731748079173 \t Validation loss: 1.9679145004789709 \t \n",
      " 11%|█         | 6314/57400 [18:01<2:11:48,  6.46it/s]\n",
      "Epoch 12 \t Training loss: 1.9447853237078996 \t Validation loss: 1.966869057235071 \t \n",
      " 12%|█▏        | 6888/57400 [19:38<2:13:10,  6.32it/s]\n",
      "Epoch 13 \t Training loss: 1.9424401465608683 \t Validation loss: 1.9610659368967607 \t \n",
      " 13%|█▎        | 7462/57400 [21:15<2:15:40,  6.13it/s]\n",
      "Epoch 14 \t Training loss: 1.9378578808249496 \t Validation loss: 1.9597511594578372 \t \n",
      " 14%|█▍        | 8036/57400 [22:52<2:26:27,  5.62it/s]\n",
      "Epoch 15 \t Training loss: 1.9404447577140889 \t Validation loss: 1.9669633497626096 \t \n",
      "\n",
      "1 epoch without improvement\n",
      " 15%|█▌        | 8610/57400 [24:29<2:11:13,  6.20it/s]\n",
      "Epoch 16 \t Training loss: 1.936859770934341 \t Validation loss: 1.9646101927353163 \t \n",
      "\n",
      "2 epoch without improvement\n",
      " 16%|█▌        | 9184/57400 [26:05<1:59:40,  6.71it/s]\n",
      "Epoch 17 \t Training loss: 1.9347723315401775 \t Validation loss: 1.9646328485618203 \t \n",
      "\n",
      "3 epoch without improvement\n",
      " 17%|█▋        | 9758/57400 [27:41<2:08:39,  6.17it/s]\n",
      "Epoch 18 \t Training loss: 1.9333763122558594 \t Validation loss: 1.9670934273024736 \t \n",
      "\n",
      "4 epoch without improvement\n",
      " 18%|█▊        | 10332/57400 [29:17<2:17:20,  5.71it/s]\n",
      "Epoch 19 \t Training loss: 1.9337380638521307 \t Validation loss: 1.9664933216773857 \t \n",
      "\n",
      "5 epoch without improvement\n",
      " 19%|█▉        | 10906/57400 [30:52<2:01:26,  6.38it/s]\n",
      "Epoch 20 \t Training loss: 1.9323269785073576 \t Validation loss: 1.963827222080554 \t \n",
      "\n",
      "6 epoch without improvement\n",
      " 20%|██        | 11480/57400 [32:28<2:02:13,  6.26it/s]\n",
      "Epoch 21 \t Training loss: 1.9286749877996145 \t Validation loss: 1.9647699513677823 \t \n",
      "\n",
      "7 epoch without improvement\n",
      " 21%|██        | 12054/57400 [34:03<2:10:23,  5.80it/s]\n",
      "Epoch 22 \t Training loss: 1.929592663195075 \t Validation loss: 1.9691591040562775 \t \n",
      "\n",
      "8 epoch without improvement\n",
      " 22%|██▏       | 12628/57400 [35:39<2:02:51,  6.07it/s]\n",
      "Epoch 23 \t Training loss: 1.9313913737439943 \t Validation loss: 1.968614501468206 \t \n",
      "\n",
      "9 epoch without improvement\n",
      " 23%|██▎       | 13202/57400 [37:15<1:51:30,  6.61it/s]\n",
      "Epoch 24 \t Training loss: 1.9246135518110588 \t Validation loss: 1.968046905630726 \t \n",
      "\n",
      "10 epoch without improvement\n",
      "Validation_loss hasn't improve in 10 epoch. Stopping training after 24 epochs...\n"
     ]
    },
    {
     "data": {
      "image/png": "[encoded data removed]",
      "text/plain": [
       "<Figure size 640x480 with 1 Axes>"
      ]
     },
     "metadata": {},
     "output_type": "display_data"
    }
   ],
   "source": [
    "model = mt.MultiTaskSimple(model_conf).to(device)\n",
    "optimizer = AdamW(model.parameters(), lr=learning_rate,weight_decay=0.1)\n",
    "save_path='bert_multitask_simple_1'\n",
    "train.train_function_multi(model,num_epochs,dl_train,optimizer,early_stop = 10,dl_val = dl_val,save_path=save_path,es_threshold=0)"
   ]
  },
  {
   "cell_type": "code",
   "execution_count": 15,
   "metadata": {},
   "outputs": [
    {
     "name": "stderr",
     "output_type": "stream",
     "text": [
      "Some weights of the model checkpoint at bert-base-cased were not used when initializing BertModel: ['cls.predictions.bias', 'cls.predictions.transform.dense.bias', 'cls.predictions.transform.LayerNorm.weight', 'cls.seq_relationship.weight', 'cls.seq_relationship.bias', 'cls.predictions.decoder.weight', 'cls.predictions.transform.dense.weight', 'cls.predictions.transform.LayerNorm.bias']\n",
      "- This IS expected if you are initializing BertModel from the checkpoint of a model trained on another task or with another architecture (e.g. initializing a BertForSequenceClassification model from a BertForPreTraining model).\n",
      "- This IS NOT expected if you are initializing BertModel from the checkpoint of a model that you expect to be exactly identical (initializing a BertForSequenceClassification model from a BertForSequenceClassification model).\n"
     ]
    },
    {
     "name": "stdout",
     "output_type": "stream",
     "text": [
      "Evaluación del modelo\n",
      "{'to': {'recall': 0.6931818181818182, 'precision': 0.6931818181818182, 'f1': 0.6931818181818182, 'accuracy': 0.6931818181818182}, 'as': {'recall': 0.7327249022164276, 'precision': 0.7327249022164276, 'f1': 0.7327249022164276, 'accuracy': 0.7327249022164276}, 'about': {'recall': 0.8392857142857143, 'precision': 0.8392857142857143, 'f1': 0.8392857142857143, 'accuracy': 0.8392857142857143}} \n",
      "\n",
      "Evaluación en etiquetas male\n",
      "{'to': {'recall': 0.7031630170316302, 'precision': 0.7031630170316302, 'f1': 0.7031630170316302, 'accuracy': 0.7031630170316302}, 'as': {'recall': 0.7247474747474747, 'precision': 0.7247474747474747, 'f1': 0.7247474747474747, 'accuracy': 0.7247474747474747}, 'about': {'recall': 0.8307291666666666, 'precision': 0.8307291666666666, 'f1': 0.8307291666666666, 'accuracy': 0.8307291666666666}} \n",
      "\n",
      "Evaluación en etiquetas female\n",
      "{'to': {'recall': 0.6824146981627297, 'precision': 0.6824146981627297, 'f1': 0.6824146981627297, 'accuracy': 0.6824146981627297}, 'as': {'recall': 0.7412398921832885, 'precision': 0.7412398921832885, 'f1': 0.7412398921832885, 'accuracy': 0.7412398921832885}, 'about': {'recall': 0.8475, 'precision': 0.8475, 'f1': 0.8475, 'accuracy': 0.8475}} \n",
      "\n"
     ]
    }
   ],
   "source": [
    "model = mt.MultiTaskSimple(model_conf).to(device)\n",
    "model.load_state_dict(torch.load('bert_multitask_simple_1'))\n",
    "\n",
    "print(\"Evaluación del modelo\")\n",
    "result_global = train.eval_func_multi(model,dl_eval,tasks,gender=None)\n",
    "generic.update_global_metric_multi(result_global,global_metrics,mtype='global')\n",
    "print(result_global,'\\n')\n",
    "print(\"Evaluación en etiquetas male\")\n",
    "result_global = train.eval_func_multi(model,dl_eval,tasks,gender='male')\n",
    "generic.update_global_metric_multi(result_global,global_metrics,mtype='male')\n",
    "print(result_global,'\\n')\n",
    "print(\"Evaluación en etiquetas female\")\n",
    "result_global = train.eval_func_multi(model,dl_eval,tasks,gender='female')\n",
    "generic.update_global_metric_multi(result_global,global_metrics,mtype='female')\n",
    "print(result_global,'\\n')\n"
   ]
  },
  {
   "cell_type": "code",
   "execution_count": 14,
   "metadata": {},
   "outputs": [
    {
     "name": "stderr",
     "output_type": "stream",
     "text": [
      "Some weights of the model checkpoint at bert-base-cased were not used when initializing BertModel: ['cls.predictions.transform.dense.weight', 'cls.predictions.transform.LayerNorm.bias', 'cls.seq_relationship.weight', 'cls.seq_relationship.bias', 'cls.predictions.decoder.weight', 'cls.predictions.bias', 'cls.predictions.transform.LayerNorm.weight', 'cls.predictions.transform.dense.bias']\n",
      "- This IS expected if you are initializing BertModel from the checkpoint of a model trained on another task or with another architecture (e.g. initializing a BertForSequenceClassification model from a BertForPreTraining model).\n",
      "- This IS NOT expected if you are initializing BertModel from the checkpoint of a model that you expect to be exactly identical (initializing a BertForSequenceClassification model from a BertForSequenceClassification model).\n"
     ]
    },
    {
     "data": {
      "application/vnd.jupyter.widget-view+json": {
       "model_id": "18c031a2bc4f4d84bd45d0e20c374d9e",
       "version_major": 2,
       "version_minor": 0
      },
      "text/plain": [
       "  0%|          | 0/57400 [00:00<?, ?it/s]"
      ]
     },
     "metadata": {},
     "output_type": "display_data"
    },
    {
     "name": "stdout",
     "output_type": "stream",
     "text": [
      "Epoch 1 \t Training loss: 2.055431701165043 \t Validation loss: 2.0189014026674172 \t \n",
      "  1%|          | 574/57400 [01:38<2:37:51,  6.00it/s]\n",
      "Epoch 2 \t Training loss: 1.997565320767592 \t Validation loss: 1.9893328658605025 \t \n",
      "  2%|▏         | 1148/57400 [03:16<2:31:38,  6.18it/s]\n",
      "Epoch 3 \t Training loss: 1.9795819346497698 \t Validation loss: 1.984380178532358 \t \n",
      "  3%|▎         | 1722/57400 [04:55<2:36:28,  5.93it/s]\n",
      "Epoch 4 \t Training loss: 1.9741082779206465 \t Validation loss: 1.9859263492842851 \t \n",
      "\n",
      "1 epoch without improvement\n",
      "  4%|▍         | 2296/57400 [06:33<2:23:34,  6.40it/s]\n",
      "Epoch 5 \t Training loss: 1.9647476922344247 \t Validation loss: 1.9711830656407243 \t \n",
      "  5%|▌         | 2870/57400 [08:12<2:21:47,  6.41it/s]\n",
      "Epoch 6 \t Training loss: 1.9606818656472795 \t Validation loss: 1.973184920973697 \t \n",
      "\n",
      "1 epoch without improvement\n",
      "  6%|▌         | 3444/57400 [09:51<2:03:01,  7.31it/s]\n",
      "Epoch 7 \t Training loss: 1.9579645858409098 \t Validation loss: 1.9730710700406866 \t \n",
      "\n",
      "2 epoch without improvement\n",
      "  7%|▋         | 4018/57400 [11:30<2:39:35,  5.58it/s]\n",
      "Epoch 8 \t Training loss: 1.9563666185435518 \t Validation loss: 1.9702614444797322 \t \n",
      "  8%|▊         | 4592/57400 [13:08<2:18:28,  6.36it/s]\n",
      "Epoch 9 \t Training loss: 1.9533880834795456 \t Validation loss: 1.9699910050731595 \t \n",
      "  9%|▉         | 5166/57400 [14:46<2:24:41,  6.02it/s]\n",
      "Epoch 10 \t Training loss: 1.950378792834199 \t Validation loss: 1.971268864001258 \t \n",
      "\n",
      "1 epoch without improvement\n",
      " 10%|█         | 5740/57400 [16:22<2:10:47,  6.58it/s]\n",
      "Epoch 11 \t Training loss: 1.9445885909974368 \t Validation loss: 1.974060497041476 \t \n",
      "\n",
      "2 epoch without improvement\n",
      " 11%|█         | 6314/57400 [17:57<2:11:17,  6.48it/s]\n",
      "Epoch 12 \t Training loss: 1.9450195440016558 \t Validation loss: 1.9656910269947376 \t \n",
      " 12%|█▏        | 6888/57400 [19:33<2:08:13,  6.57it/s]\n",
      "Epoch 13 \t Training loss: 1.9413872801468348 \t Validation loss: 1.967061735815921 \t \n",
      "\n",
      "1 epoch without improvement\n",
      " 13%|█▎        | 7462/57400 [21:07<2:17:42,  6.04it/s]\n",
      "Epoch 14 \t Training loss: 1.939236137094398 \t Validation loss: 1.9620824688571994 \t \n",
      " 14%|█▍        | 8036/57400 [22:43<2:12:25,  6.21it/s]\n",
      "Epoch 15 \t Training loss: 1.9401823678913848 \t Validation loss: 1.968175736524291 \t \n",
      "\n",
      "1 epoch without improvement\n",
      " 15%|█▌        | 8610/57400 [24:18<2:08:35,  6.32it/s]\n",
      "Epoch 16 \t Training loss: 1.9345010793167539 \t Validation loss: 1.9675025293382549 \t \n",
      "\n",
      "2 epoch without improvement\n",
      " 16%|█▌        | 9184/57400 [25:53<2:04:34,  6.45it/s]\n",
      "Epoch 17 \t Training loss: 1.9367910129267996 \t Validation loss: 1.9698062427973344 \t \n",
      "\n",
      "3 epoch without improvement\n",
      " 17%|█▋        | 9758/57400 [27:28<2:16:36,  5.81it/s]\n",
      "Epoch 18 \t Training loss: 1.9348763403992204 \t Validation loss: 1.9581334409067186 \t \n",
      " 18%|█▊        | 10332/57400 [29:04<1:57:08,  6.70it/s]\n",
      "Epoch 19 \t Training loss: 1.930894550753803 \t Validation loss: 1.965204558130038 \t \n",
      "\n",
      "1 epoch without improvement\n",
      " 19%|█▉        | 10906/57400 [30:40<1:58:28,  6.54it/s]\n",
      "Epoch 20 \t Training loss: 1.9317265439531945 \t Validation loss: 1.974260706012532 \t \n",
      "\n",
      "2 epoch without improvement\n",
      " 20%|██        | 11480/57400 [32:15<2:01:01,  6.32it/s]\n",
      "Epoch 21 \t Training loss: 1.9288536650793893 \t Validation loss: 1.9657737420777144 \t \n",
      "\n",
      "3 epoch without improvement\n",
      " 21%|██        | 12054/57400 [33:50<2:12:32,  5.70it/s]\n",
      "Epoch 22 \t Training loss: 1.9274241022947358 \t Validation loss: 1.9683446176981523 \t \n",
      "\n",
      "4 epoch without improvement\n",
      " 22%|██▏       | 12628/57400 [35:26<1:58:30,  6.30it/s]\n",
      "Epoch 23 \t Training loss: 1.9263888705482881 \t Validation loss: 1.9669945381455503 \t \n",
      "\n",
      "5 epoch without improvement\n",
      " 23%|██▎       | 13202/57400 [37:02<1:53:22,  6.50it/s]\n",
      "Epoch 24 \t Training loss: 1.9255730669672897 \t Validation loss: 1.9616612519248058 \t \n",
      "\n",
      "6 epoch without improvement\n",
      " 24%|██▍       | 13776/57400 [38:38<1:56:23,  6.25it/s]\n",
      "Epoch 25 \t Training loss: 1.9242285892938487 \t Validation loss: 1.9646857047485093 \t \n",
      "\n",
      "7 epoch without improvement\n",
      " 25%|██▌       | 14350/57400 [40:13<2:08:10,  5.60it/s]\n",
      "Epoch 26 \t Training loss: 1.922022488266749 \t Validation loss: 1.96550481602297 \t \n",
      "\n",
      "8 epoch without improvement\n",
      " 26%|██▌       | 14924/57400 [41:50<1:55:09,  6.15it/s]\n",
      "Epoch 27 \t Training loss: 1.922605518056956 \t Validation loss: 1.9642276117357158 \t \n",
      "\n",
      "9 epoch without improvement\n",
      " 27%|██▋       | 15498/57400 [43:26<1:41:42,  6.87it/s]\n",
      "Epoch 28 \t Training loss: 1.9220783612869343 \t Validation loss: 1.971247159828574 \t \n",
      "\n",
      "10 epoch without improvement\n",
      "Validation_loss hasn't improve in 10 epoch. Stopping training after 28 epochs...\n"
     ]
    },
    {
     "data": {
      "image/png": "[encoded data removed]",
      "text/plain": [
       "<Figure size 640x480 with 1 Axes>"
      ]
     },
     "metadata": {},
     "output_type": "display_data"
    }
   ],
   "source": [
    "model = mt.MultiTaskSimple(model_conf).to(device)\n",
    "optimizer = AdamW(model.parameters(), lr=learning_rate,weight_decay=0.1)\n",
    "save_path='bert_multitask_simple_2'\n",
    "train.train_function_multi(model,num_epochs,dl_train,optimizer,early_stop = 10,dl_val = dl_val,save_path=save_path,es_threshold=0)"
   ]
  },
  {
   "cell_type": "code",
   "execution_count": 16,
   "metadata": {},
   "outputs": [
    {
     "name": "stderr",
     "output_type": "stream",
     "text": [
      "Some weights of the model checkpoint at bert-base-cased were not used when initializing BertModel: ['cls.predictions.bias', 'cls.predictions.transform.dense.bias', 'cls.predictions.transform.LayerNorm.weight', 'cls.seq_relationship.weight', 'cls.seq_relationship.bias', 'cls.predictions.decoder.weight', 'cls.predictions.transform.dense.weight', 'cls.predictions.transform.LayerNorm.bias']\n",
      "- This IS expected if you are initializing BertModel from the checkpoint of a model trained on another task or with another architecture (e.g. initializing a BertForSequenceClassification model from a BertForPreTraining model).\n",
      "- This IS NOT expected if you are initializing BertModel from the checkpoint of a model that you expect to be exactly identical (initializing a BertForSequenceClassification model from a BertForSequenceClassification model).\n"
     ]
    },
    {
     "name": "stdout",
     "output_type": "stream",
     "text": [
      "Evaluación del modelo\n",
      "{'to': {'recall': 0.6994949494949495, 'precision': 0.6994949494949495, 'f1': 0.6994949494949495, 'accuracy': 0.6994949494949495}, 'as': {'recall': 0.7327249022164276, 'precision': 0.7327249022164276, 'f1': 0.7327249022164276, 'accuracy': 0.7327249022164276}, 'about': {'recall': 0.8278061224489796, 'precision': 0.8278061224489796, 'f1': 0.8278061224489796, 'accuracy': 0.8278061224489796}} \n",
      "\n",
      "Evaluación en etiquetas male\n",
      "{'to': {'recall': 0.6909975669099757, 'precision': 0.6909975669099757, 'f1': 0.6909975669099757, 'accuracy': 0.6909975669099757}, 'as': {'recall': 0.7222222222222222, 'precision': 0.7222222222222222, 'f1': 0.7222222222222222, 'accuracy': 0.7222222222222222}, 'about': {'recall': 0.8255208333333334, 'precision': 0.8255208333333334, 'f1': 0.8255208333333334, 'accuracy': 0.8255208333333334}} \n",
      "\n",
      "Evaluación en etiquetas female\n",
      "{'to': {'recall': 0.7086614173228346, 'precision': 0.7086614173228346, 'f1': 0.7086614173228346, 'accuracy': 0.7086614173228346}, 'as': {'recall': 0.7439353099730458, 'precision': 0.7439353099730458, 'f1': 0.7439353099730458, 'accuracy': 0.7439353099730458}, 'about': {'recall': 0.83, 'precision': 0.83, 'f1': 0.83, 'accuracy': 0.83}} \n",
      "\n"
     ]
    }
   ],
   "source": [
    "model = mt.MultiTaskSimple(model_conf).to(device)\n",
    "model.load_state_dict(torch.load('bert_multitask_simple_2'))\n",
    "\n",
    "print(\"Evaluación del modelo\")\n",
    "result_global = train.eval_func_multi(model,dl_eval,tasks,gender=None)\n",
    "generic.update_global_metric_multi(result_global,global_metrics,mtype='global')\n",
    "print(result_global,'\\n')\n",
    "print(\"Evaluación en etiquetas male\")\n",
    "result_global = train.eval_func_multi(model,dl_eval,tasks,gender='male')\n",
    "generic.update_global_metric_multi(result_global,global_metrics,mtype='male')\n",
    "print(result_global,'\\n')\n",
    "print(\"Evaluación en etiquetas female\")\n",
    "result_global = train.eval_func_multi(model,dl_eval,tasks,gender='female')\n",
    "generic.update_global_metric_multi(result_global,global_metrics,mtype='female')\n",
    "print(result_global,'\\n')\n"
   ]
  },
  {
   "cell_type": "code",
   "execution_count": 15,
   "metadata": {},
   "outputs": [
    {
     "name": "stderr",
     "output_type": "stream",
     "text": [
      "Some weights of the model checkpoint at bert-base-cased were not used when initializing BertModel: ['cls.predictions.transform.dense.weight', 'cls.predictions.transform.LayerNorm.bias', 'cls.seq_relationship.weight', 'cls.seq_relationship.bias', 'cls.predictions.decoder.weight', 'cls.predictions.bias', 'cls.predictions.transform.LayerNorm.weight', 'cls.predictions.transform.dense.bias']\n",
      "- This IS expected if you are initializing BertModel from the checkpoint of a model trained on another task or with another architecture (e.g. initializing a BertForSequenceClassification model from a BertForPreTraining model).\n",
      "- This IS NOT expected if you are initializing BertModel from the checkpoint of a model that you expect to be exactly identical (initializing a BertForSequenceClassification model from a BertForSequenceClassification model).\n"
     ]
    },
    {
     "data": {
      "application/vnd.jupyter.widget-view+json": {
       "model_id": "bda32d6edc2241cdb83b4c8cc5d3311a",
       "version_major": 2,
       "version_minor": 0
      },
      "text/plain": [
       "  0%|          | 0/57400 [00:00<?, ?it/s]"
      ]
     },
     "metadata": {},
     "output_type": "display_data"
    },
    {
     "name": "stdout",
     "output_type": "stream",
     "text": [
      "Epoch 1 \t Training loss: 2.054699756957928 \t Validation loss: 2.0085012730905567 \t \n",
      "  1%|          | 574/57400 [01:35<2:42:04,  5.84it/s]\n",
      "Epoch 2 \t Training loss: 1.993545838557054 \t Validation loss: 1.9862983933949874 \t \n",
      "  2%|▏         | 1148/57400 [03:11<2:25:05,  6.46it/s]\n",
      "Epoch 3 \t Training loss: 1.9803886060515348 \t Validation loss: 1.9728581460855774 \t \n",
      "  3%|▎         | 1722/57400 [04:47<2:23:05,  6.49it/s]\n",
      "Epoch 4 \t Training loss: 1.9708391934737095 \t Validation loss: 1.9694530681028204 \t \n",
      "  4%|▍         | 2296/57400 [06:23<2:18:21,  6.64it/s]\n",
      "Epoch 5 \t Training loss: 1.9669206524559846 \t Validation loss: 1.9734104103961234 \t \n",
      "\n",
      "1 epoch without improvement\n",
      "  5%|▌         | 2870/57400 [07:59<2:23:50,  6.32it/s]\n",
      "Epoch 6 \t Training loss: 1.9634525105097569 \t Validation loss: 1.966177518084898 \t \n",
      "  6%|▌         | 3444/57400 [09:35<2:22:51,  6.29it/s]\n",
      "Epoch 7 \t Training loss: 1.9584461357120022 \t Validation loss: 1.972114310426227 \t \n",
      "\n",
      "1 epoch without improvement\n",
      "  7%|▋         | 4018/57400 [11:12<2:20:36,  6.33it/s]\n",
      "Epoch 8 \t Training loss: 1.9576149182037195 \t Validation loss: 1.9729887065240892 \t \n",
      "\n",
      "2 epoch without improvement\n",
      "  8%|▊         | 4592/57400 [12:47<2:13:41,  6.58it/s]\n",
      "Epoch 9 \t Training loss: 1.952765864154603 \t Validation loss: 1.9730090589846594 \t \n",
      "\n",
      "3 epoch without improvement\n",
      "  9%|▉         | 5166/57400 [14:23<2:16:31,  6.38it/s]\n",
      "Epoch 10 \t Training loss: 1.9523374552510757 \t Validation loss: 1.9755027718463187 \t \n",
      "\n",
      "4 epoch without improvement\n",
      " 10%|█         | 5740/57400 [15:59<2:19:21,  6.18it/s]\n",
      "Epoch 11 \t Training loss: 1.949200713260664 \t Validation loss: 1.964625754598844 \t \n",
      " 11%|█         | 6314/57400 [17:35<2:02:39,  6.94it/s]\n",
      "Epoch 12 \t Training loss: 1.9480033381890751 \t Validation loss: 1.9607676611108296 \t \n",
      " 12%|█▏        | 6888/57400 [19:12<2:12:07,  6.37it/s]\n",
      "Epoch 13 \t Training loss: 1.9466826566835729 \t Validation loss: 1.97435981338307 \t \n",
      "\n",
      "1 epoch without improvement\n",
      " 13%|█▎        | 7462/57400 [20:47<2:08:38,  6.47it/s]\n",
      "Epoch 14 \t Training loss: 1.9394869148108187 \t Validation loss: 1.970348802663512 \t \n",
      "\n",
      "2 epoch without improvement\n",
      " 14%|█▍        | 8036/57400 [22:23<2:04:11,  6.62it/s]\n",
      "Epoch 15 \t Training loss: 1.940610744811932 \t Validation loss: 1.962430505429284 \t \n",
      "\n",
      "3 epoch without improvement\n",
      " 15%|█▌        | 8610/57400 [23:58<2:19:16,  5.84it/s]\n",
      "Epoch 16 \t Training loss: 1.940716998917716 \t Validation loss: 1.9681309178724127 \t \n",
      "\n",
      "4 epoch without improvement\n",
      " 16%|█▌        | 9184/57400 [25:34<2:02:28,  6.56it/s]\n",
      "Epoch 17 \t Training loss: 1.9385088592871556 \t Validation loss: 1.9694182832362288 \t \n",
      "\n",
      "5 epoch without improvement\n",
      " 17%|█▋        | 9758/57400 [27:09<2:05:26,  6.33it/s]\n",
      "Epoch 18 \t Training loss: 1.9334173036369298 \t Validation loss: 1.9691946930804496 \t \n",
      "\n",
      "6 epoch without improvement\n",
      " 18%|█▊        | 10332/57400 [28:45<2:13:05,  5.89it/s]\n",
      "Epoch 19 \t Training loss: 1.9330441795990443 \t Validation loss: 1.9661746570619487 \t \n",
      "\n",
      "7 epoch without improvement\n",
      " 19%|█▉        | 10906/57400 [30:20<1:59:58,  6.46it/s]\n",
      "Epoch 20 \t Training loss: 1.9311926987943748 \t Validation loss: 1.969830250335952 \t \n",
      "\n",
      "8 epoch without improvement\n",
      " 20%|██        | 11480/57400 [31:56<2:03:46,  6.18it/s]\n",
      "Epoch 21 \t Training loss: 1.9338048497143523 \t Validation loss: 1.9665010520967388 \t \n",
      "\n",
      "9 epoch without improvement\n",
      " 21%|██        | 12054/57400 [33:31<2:16:52,  5.52it/s]\n",
      "Epoch 22 \t Training loss: 1.9292317587324135 \t Validation loss: 1.9570739451101271 \t \n",
      " 22%|██▏       | 12628/57400 [35:07<2:09:14,  5.77it/s]\n",
      "Epoch 23 \t Training loss: 1.9272520407151676 \t Validation loss: 1.972084124209517 \t \n",
      "\n",
      "1 epoch without improvement\n",
      " 23%|██▎       | 13202/57400 [36:42<1:59:59,  6.14it/s]\n",
      "Epoch 24 \t Training loss: 1.9271241785757218 \t Validation loss: 1.957315659118911 \t \n",
      "\n",
      "2 epoch without improvement\n",
      " 24%|██▍       | 13776/57400 [38:18<1:50:19,  6.59it/s]\n",
      "Epoch 25 \t Training loss: 1.9242851300106647 \t Validation loss: 1.9613664756386966 \t \n",
      "\n",
      "3 epoch without improvement\n",
      " 25%|██▌       | 14350/57400 [39:54<1:53:22,  6.33it/s]\n",
      "Epoch 26 \t Training loss: 1.9258547443961433 \t Validation loss: 1.9631378286975925 \t \n",
      "\n",
      "4 epoch without improvement\n",
      " 26%|██▌       | 14924/57400 [41:30<1:52:16,  6.31it/s]\n",
      "Epoch 27 \t Training loss: 1.9251757652502026 \t Validation loss: 1.9646163188805015 \t \n",
      "\n",
      "5 epoch without improvement\n",
      " 27%|██▋       | 15498/57400 [43:06<1:53:31,  6.15it/s]\n",
      "Epoch 28 \t Training loss: 1.9238214123124444 \t Validation loss: 1.9573481284965903 \t \n",
      "\n",
      "6 epoch without improvement\n",
      " 28%|██▊       | 16072/57400 [44:41<1:47:16,  6.42it/s]\n",
      "Epoch 29 \t Training loss: 1.922046952131318 \t Validation loss: 1.9705271094532337 \t \n",
      "\n",
      "7 epoch without improvement\n",
      " 29%|██▉       | 16646/57400 [46:17<1:44:58,  6.47it/s]\n",
      "Epoch 30 \t Training loss: 1.9224510882374302 \t Validation loss: 1.968746524746135 \t \n",
      "\n",
      "8 epoch without improvement\n",
      " 30%|███       | 17220/57400 [47:53<1:56:58,  5.72it/s]\n",
      "Epoch 31 \t Training loss: 1.9203379594490504 \t Validation loss: 1.9675056732307046 \t \n",
      "\n",
      "9 epoch without improvement\n",
      " 31%|███       | 17794/57400 [49:29<1:50:39,  5.97it/s]\n",
      "Epoch 32 \t Training loss: 1.9188254984413706 \t Validation loss: 1.9738286066863497 \t \n",
      "\n",
      "10 epoch without improvement\n",
      "Validation_loss hasn't improve in 10 epoch. Stopping training after 32 epochs...\n"
     ]
    },
    {
     "data": {
      "image/png": "[encoded data removed]",
      "text/plain": [
       "<Figure size 640x480 with 1 Axes>"
      ]
     },
     "metadata": {},
     "output_type": "display_data"
    }
   ],
   "source": [
    "model = mt.MultiTaskSimple(model_conf).to(device)\n",
    "optimizer = AdamW(model.parameters(), lr=learning_rate,weight_decay=0.1)\n",
    "save_path='bert_multitask_simple_3'\n",
    "train.train_function_multi(model,num_epochs,dl_train,optimizer,early_stop = 10,dl_val = dl_val,save_path=save_path,es_threshold=0)"
   ]
  },
  {
   "cell_type": "code",
   "execution_count": 17,
   "metadata": {},
   "outputs": [
    {
     "name": "stderr",
     "output_type": "stream",
     "text": [
      "Some weights of the model checkpoint at bert-base-cased were not used when initializing BertModel: ['cls.predictions.bias', 'cls.predictions.transform.dense.bias', 'cls.predictions.transform.LayerNorm.weight', 'cls.seq_relationship.weight', 'cls.seq_relationship.bias', 'cls.predictions.decoder.weight', 'cls.predictions.transform.dense.weight', 'cls.predictions.transform.LayerNorm.bias']\n",
      "- This IS expected if you are initializing BertModel from the checkpoint of a model trained on another task or with another architecture (e.g. initializing a BertForSequenceClassification model from a BertForPreTraining model).\n",
      "- This IS NOT expected if you are initializing BertModel from the checkpoint of a model that you expect to be exactly identical (initializing a BertForSequenceClassification model from a BertForSequenceClassification model).\n"
     ]
    },
    {
     "name": "stdout",
     "output_type": "stream",
     "text": [
      "Evaluación del modelo\n",
      "{'to': {'recall': 0.7007575757575758, 'precision': 0.7007575757575758, 'f1': 0.7007575757575758, 'accuracy': 0.7007575757575758}, 'as': {'recall': 0.7183833116036505, 'precision': 0.7183833116036505, 'f1': 0.7183833116036505, 'accuracy': 0.7183833116036505}, 'about': {'recall': 0.8354591836734694, 'precision': 0.8354591836734694, 'f1': 0.8354591836734694, 'accuracy': 0.8354591836734694}} \n",
      "\n",
      "Evaluación en etiquetas male\n",
      "{'to': {'recall': 0.7055961070559611, 'precision': 0.7055961070559611, 'f1': 0.7055961070559611, 'accuracy': 0.7055961070559611}, 'as': {'recall': 0.7146464646464646, 'precision': 0.7146464646464646, 'f1': 0.7146464646464646, 'accuracy': 0.7146464646464646}, 'about': {'recall': 0.8255208333333334, 'precision': 0.8255208333333334, 'f1': 0.8255208333333334, 'accuracy': 0.8255208333333334}} \n",
      "\n",
      "Evaluación en etiquetas female\n",
      "{'to': {'recall': 0.6955380577427821, 'precision': 0.6955380577427821, 'f1': 0.6955380577427821, 'accuracy': 0.6955380577427821}, 'as': {'recall': 0.7223719676549866, 'precision': 0.7223719676549866, 'f1': 0.7223719676549866, 'accuracy': 0.7223719676549866}, 'about': {'recall': 0.845, 'precision': 0.845, 'f1': 0.845, 'accuracy': 0.845}} \n",
      "\n"
     ]
    }
   ],
   "source": [
    "model = mt.MultiTaskSimple(model_conf).to(device)\n",
    "model.load_state_dict(torch.load('bert_multitask_simple_3'))\n",
    "\n",
    "print(\"Evaluación del modelo\")\n",
    "result_global = train.eval_func_multi(model,dl_eval,tasks,gender=None)\n",
    "generic.update_global_metric_multi(result_global,global_metrics,mtype='global')\n",
    "print(result_global,'\\n')\n",
    "print(\"Evaluación en etiquetas male\")\n",
    "result_global = train.eval_func_multi(model,dl_eval,tasks,gender='male')\n",
    "generic.update_global_metric_multi(result_global,global_metrics,mtype='male')\n",
    "print(result_global,'\\n')\n",
    "print(\"Evaluación en etiquetas female\")\n",
    "result_global = train.eval_func_multi(model,dl_eval,tasks,gender='female')\n",
    "generic.update_global_metric_multi(result_global,global_metrics,mtype='female')\n",
    "print(result_global,'\\n')\n"
   ]
  },
  {
   "cell_type": "code",
   "execution_count": 18,
   "metadata": {},
   "outputs": [
    {
     "name": "stdout",
     "output_type": "stream",
     "text": [
      "Métricas globales: \n",
      "\n",
      "\n",
      " about\n",
      "Resultado global: {'recall': 0.8341836734693877, 'precision': 0.8341836734693877, 'f1': 0.8341836734693877, 'accuracy': 0.8341836734693877}\n",
      "Métricas etiqueta male: {'recall': 0.8272569444444444, 'precision': 0.8272569444444444, 'f1': 0.8272569444444444, 'accuracy': 0.8272569444444444}\n",
      "Métricas etiqueta female:  {'recall': 0.8408333333333333, 'precision': 0.8408333333333333, 'f1': 0.8408333333333333, 'accuracy': 0.8408333333333333}\n",
      "\n",
      " to\n",
      "Resultado global: {'recall': 0.6978114478114479, 'precision': 0.6978114478114479, 'f1': 0.6978114478114479, 'accuracy': 0.6978114478114479}\n",
      "Métricas etiqueta male: {'recall': 0.699918896999189, 'precision': 0.699918896999189, 'f1': 0.699918896999189, 'accuracy': 0.699918896999189}\n",
      "Métricas etiqueta female:  {'recall': 0.6955380577427821, 'precision': 0.6955380577427821, 'f1': 0.6955380577427821, 'accuracy': 0.6955380577427821}\n",
      "\n",
      " as\n",
      "Resultado global: {'recall': 0.7279443720121686, 'precision': 0.7279443720121686, 'f1': 0.7279443720121686, 'accuracy': 0.7279443720121686}\n",
      "Métricas etiqueta male: {'recall': 0.7205387205387205, 'precision': 0.7205387205387205, 'f1': 0.7205387205387205, 'accuracy': 0.7205387205387205}\n",
      "Métricas etiqueta female:  {'recall': 0.7358490566037736, 'precision': 0.7358490566037736, 'f1': 0.7358490566037736, 'accuracy': 0.7358490566037736}\n"
     ]
    }
   ],
   "source": [
    "\n",
    "print('Métricas globales: \\n')\n",
    "\n",
    "for task in ['about','to','as']:\n",
    "    print('\\n',task)\n",
    "    print('Resultado global:',{m:mean(values) for m,values in global_metrics[task]['global'].items()})\n",
    "    print(f'Métricas etiqueta male:',{m:mean(values) for m,values in global_metrics[task]['male'].items()})\n",
    "    print('Métricas etiqueta female: ',{m:mean(values) for m,values in global_metrics[task]['female'].items()})\n"
   ]
  }
 ],
 "metadata": {
  "kernelspec": {
   "display_name": "tfg",
   "language": "python",
   "name": "python3"
  },
  "language_info": {
   "codemirror_mode": {
    "name": "ipython",
    "version": 3
   },
   "file_extension": ".py",
   "mimetype": "text/x-python",
   "name": "python",
   "nbconvert_exporter": "python",
   "pygments_lexer": "ipython3",
   "version": "3.9.13"
  },
  "orig_nbformat": 4,
  "vscode": {
   "interpreter": {
    "hash": "35e8332e99bdf485583869dfbdef293dcf2f9293b1663ec5daea0a573af457c3"
   }
  }
 },
 "nbformat": 4,
 "nbformat_minor": 2
}
