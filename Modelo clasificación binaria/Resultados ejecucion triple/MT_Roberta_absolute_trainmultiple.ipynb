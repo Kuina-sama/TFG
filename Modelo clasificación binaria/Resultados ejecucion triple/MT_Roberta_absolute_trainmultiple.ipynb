{
 "cells": [
  {
   "cell_type": "code",
   "execution_count": 1,
   "metadata": {},
   "outputs": [],
   "source": [
    "import torch\n",
    "from torch.utils.data import DataLoader\n",
    "from torch.optim import SGD ,AdamW\n",
    "\n",
    "from datasets import load_dataset, load_metric\n",
    "\n",
    "import matplotlib.pyplot as plt\n",
    "\n",
    "import json\n",
    "from statistics import mean"
   ]
  },
  {
   "cell_type": "code",
   "execution_count": 2,
   "metadata": {},
   "outputs": [],
   "source": [
    "import utils_generic as generic\n",
    "import multitask_dep as mt\n",
    "import model_confs as confs\n",
    "import train"
   ]
  },
  {
   "cell_type": "code",
   "execution_count": 3,
   "metadata": {},
   "outputs": [],
   "source": [
    "device = torch.device(\"cuda\") if torch.cuda.is_available() else torch.device(\"cpu\")\n",
    "tasks = ['to','as','about']"
   ]
  },
  {
   "cell_type": "code",
   "execution_count": 4,
   "metadata": {},
   "outputs": [],
   "source": [
    "model_conf = confs.roberta_conf\n",
    "encoding_type = 'absolute'"
   ]
  },
  {
   "attachments": {},
   "cell_type": "markdown",
   "metadata": {},
   "source": [
    "# Datos ConvAI"
   ]
  },
  {
   "cell_type": "code",
   "execution_count": 5,
   "metadata": {},
   "outputs": [],
   "source": [
    "with open('Datasets\\ConvAI2\\convai2_complete.json','r') as f:\n",
    "    data = json.load(f)"
   ]
  },
  {
   "cell_type": "code",
   "execution_count": 6,
   "metadata": {},
   "outputs": [],
   "source": [
    "vocab = mt.Vocabulary(data['train'],encoding_type)\n",
    "\n",
    "convai_train = data['train']\n",
    "convai_val = data['validation']\n",
    "\n",
    "\n",
    "\n",
    "convai_train_token = generic.tokenize_dataset_with_dependencies(convai_train,['about','to','as'],vocab,model_conf) \n",
    "convai_val_token = generic.tokenize_dataset_with_dependencies(convai_val,['about','to','as'],vocab,model_conf) "
   ]
  },
  {
   "cell_type": "code",
   "execution_count": 7,
   "metadata": {},
   "outputs": [],
   "source": [
    "convai_train_dataset = mt.DatasetMultitaskDep(convai_train_token,tasks,eval=False)\n",
    "convai_val_dataset = mt.DatasetMultitaskDep(convai_val_token,tasks,eval=False)"
   ]
  },
  {
   "attachments": {},
   "cell_type": "markdown",
   "metadata": {},
   "source": [
    "# Datos md_gender"
   ]
  },
  {
   "cell_type": "code",
   "execution_count": 8,
   "metadata": {},
   "outputs": [],
   "source": [
    "with open('Datasets\\md_gender\\md_complete.json','r',encoding=\"utf8\") as f:\n",
    "    md_data = json.load(f)"
   ]
  },
  {
   "cell_type": "code",
   "execution_count": 9,
   "metadata": {},
   "outputs": [],
   "source": [
    "md_tokenized = generic.tokenize_dataset_with_dependencies(md_data,['about','to','as'],vocab,model_conf) \n",
    "md_dataset = mt.DatasetMultitaskDep(md_tokenized,tasks,eval=True)"
   ]
  },
  {
   "attachments": {},
   "cell_type": "markdown",
   "metadata": {},
   "source": [
    "# Creación dataloaders"
   ]
  },
  {
   "cell_type": "code",
   "execution_count": 10,
   "metadata": {},
   "outputs": [],
   "source": [
    "dl_train =DataLoader(convai_train_dataset,batch_size=128,shuffle=True,collate_fn=mt.collate_fn)\n",
    "dl_val =DataLoader(convai_val_dataset,batch_size=128,shuffle=True,collate_fn=mt.collate_fn)\n",
    "dl_eval = DataLoader(md_dataset,batch_size=128,shuffle=False,collate_fn=mt.collate_fn)"
   ]
  },
  {
   "attachments": {},
   "cell_type": "markdown",
   "metadata": {},
   "source": [
    "# Modelo multitask"
   ]
  },
  {
   "cell_type": "code",
   "execution_count": 11,
   "metadata": {},
   "outputs": [],
   "source": [
    "num_epochs = 100\n",
    "learning_rate = 1e-6\n",
    "\n",
    "global_metrics = {'about':{'global':{'recall': [], 'precision': [],'f1': [], 'accuracy': []},\n",
    "                            'male':{'recall': [], 'precision': [],'f1': [], 'accuracy': []},\n",
    "                            'female':{'recall': [], 'precision': [],'f1': [], 'accuracy': []}},\n",
    "                    'as':{'global':{'recall': [], 'precision': [],'f1': [], 'accuracy': []},\n",
    "                            'male':{'recall': [], 'precision': [],'f1': [], 'accuracy': []},\n",
    "                            'female':{'recall': [], 'precision': [],'f1': [], 'accuracy': []}},\n",
    "                    'to':{'global':{'recall': [], 'precision': [],'f1': [], 'accuracy': []},\n",
    "                            'male':{'recall': [], 'precision': [],'f1': [], 'accuracy': []},\n",
    "                            'female':{'recall': [], 'precision': [],'f1': [], 'accuracy': []}}}"
   ]
  },
  {
   "cell_type": "code",
   "execution_count": 12,
   "metadata": {},
   "outputs": [
    {
     "name": "stderr",
     "output_type": "stream",
     "text": [
      "Some weights of the model checkpoint at roberta-base were not used when initializing RobertaModel: ['lm_head.decoder.weight', 'lm_head.dense.weight', 'lm_head.layer_norm.bias', 'lm_head.layer_norm.weight', 'lm_head.dense.bias', 'lm_head.bias']\n",
      "- This IS expected if you are initializing RobertaModel from the checkpoint of a model trained on another task or with another architecture (e.g. initializing a BertForSequenceClassification model from a BertForPreTraining model).\n",
      "- This IS NOT expected if you are initializing RobertaModel from the checkpoint of a model that you expect to be exactly identical (initializing a BertForSequenceClassification model from a BertForSequenceClassification model).\n"
     ]
    },
    {
     "data": {
      "application/vnd.jupyter.widget-view+json": {
       "model_id": "128472b18f09487fbc8e39b62de25418",
       "version_major": 2,
       "version_minor": 0
      },
      "text/plain": [
       "  0%|          | 0/57400 [00:00<?, ?it/s]"
      ]
     },
     "metadata": {},
     "output_type": "display_data"
    },
    {
     "name": "stdout",
     "output_type": "stream",
     "text": [
      "Epoch 1 \t Training loss: 2.0524545667063485 \t Validation loss: 1.9940728737136064 \t \n",
      "  1%|          | 574/57400 [01:46<2:25:16,  6.52it/s]\n",
      "Epoch 2 \t Training loss: 1.989700520080141 \t Validation loss: 1.9851264569718958 \t \n",
      "  2%|▏         | 1148/57400 [03:25<2:15:45,  6.91it/s]\n",
      "Epoch 3 \t Training loss: 1.9771610778798625 \t Validation loss: 1.990573329440618 \t \n",
      "\n",
      "1 epoch without improvement\n",
      "  3%|▎         | 1722/57400 [05:05<2:36:23,  5.93it/s]\n",
      "Epoch 4 \t Training loss: 1.9737271467152373 \t Validation loss: 1.977122444217488 \t \n",
      "  4%|▍         | 2296/57400 [06:45<2:36:49,  5.86it/s]\n",
      "Epoch 5 \t Training loss: 1.9696236985901092 \t Validation loss: 1.9719946020740573 \t \n",
      "  5%|▌         | 2870/57400 [08:25<2:42:02,  5.61it/s]\n",
      "Epoch 6 \t Training loss: 1.9653687865476575 \t Validation loss: 1.9657981294696614 \t \n",
      "  6%|▌         | 3444/57400 [10:04<2:21:18,  6.36it/s]\n",
      "Epoch 7 \t Training loss: 1.9625008388678786 \t Validation loss: 1.9732632960303356 \t \n",
      "\n",
      "1 epoch without improvement\n",
      "  7%|▋         | 4018/57400 [11:44<2:29:27,  5.95it/s]\n",
      "Epoch 8 \t Training loss: 1.9603926418965703 \t Validation loss: 1.9636925418498152 \t \n",
      "  8%|▊         | 4592/57400 [13:25<2:09:45,  6.78it/s]\n",
      "Epoch 9 \t Training loss: 1.9585716238420599 \t Validation loss: 1.9678061250912942 \t \n",
      "\n",
      "1 epoch without improvement\n",
      "  9%|▉         | 5166/57400 [15:05<2:22:29,  6.11it/s]\n",
      "Epoch 10 \t Training loss: 1.956321904468204 \t Validation loss: 1.9698173292612626 \t \n",
      "\n",
      "2 epoch without improvement\n",
      " 10%|█         | 5740/57400 [16:43<2:19:25,  6.18it/s]\n",
      "Epoch 11 \t Training loss: 1.9530391013996111 \t Validation loss: 1.9722992363622633 \t \n",
      "\n",
      "3 epoch without improvement\n",
      " 11%|█         | 6314/57400 [18:21<1:59:33,  7.12it/s]\n",
      "Epoch 12 \t Training loss: 1.9525047031844533 \t Validation loss: 1.9696517293736087 \t \n",
      "\n",
      "4 epoch without improvement\n",
      " 12%|█▏        | 6888/57400 [19:57<2:21:33,  5.95it/s]\n",
      "Epoch 13 \t Training loss: 1.95082635705064 \t Validation loss: 1.9718624171564134 \t \n",
      "\n",
      "5 epoch without improvement\n",
      " 13%|█▎        | 7462/57400 [21:35<2:32:09,  5.47it/s]\n",
      "Epoch 14 \t Training loss: 1.9502256221887542 \t Validation loss: 1.9650303468865864 \t \n",
      "\n",
      "6 epoch without improvement\n",
      " 14%|█▍        | 8036/57400 [23:12<1:58:40,  6.93it/s]\n",
      "Epoch 15 \t Training loss: 1.9464435515088072 \t Validation loss: 1.9665411326844813 \t \n",
      "\n",
      "7 epoch without improvement\n",
      " 15%|█▌        | 8610/57400 [24:49<2:19:16,  5.84it/s]\n",
      "Epoch 16 \t Training loss: 1.9453473392263938 \t Validation loss: 1.9600315013174283 \t \n",
      " 16%|█▌        | 9184/57400 [26:28<2:08:55,  6.23it/s]\n",
      "Epoch 17 \t Training loss: 1.9448849189156854 \t Validation loss: 1.9627490043640137 \t \n",
      "\n",
      "1 epoch without improvement\n",
      " 17%|█▋        | 9758/57400 [28:05<2:11:21,  6.05it/s]\n",
      "Epoch 18 \t Training loss: 1.9465917483854793 \t Validation loss: 1.9617518610873466 \t \n",
      "\n",
      "2 epoch without improvement\n",
      " 18%|█▊        | 10332/57400 [29:41<2:03:18,  6.36it/s]\n",
      "Epoch 19 \t Training loss: 1.9444213750470392 \t Validation loss: 1.9590669870376587 \t \n",
      " 19%|█▉        | 10906/57400 [31:20<2:16:06,  5.69it/s]\n",
      "Epoch 20 \t Training loss: 1.945314204858986 \t Validation loss: 1.9663939516423112 \t \n",
      "\n",
      "1 epoch without improvement\n",
      " 20%|██        | 11480/57400 [32:57<2:04:06,  6.17it/s]\n",
      "Epoch 21 \t Training loss: 1.9394544940376945 \t Validation loss: 1.9672509492453882 \t \n",
      "\n",
      "2 epoch without improvement\n",
      " 21%|██        | 12054/57400 [34:34<2:06:03,  6.00it/s]\n",
      "Epoch 22 \t Training loss: 1.9386006263490339 \t Validation loss: 1.9624840889946888 \t \n",
      "\n",
      "3 epoch without improvement\n",
      " 22%|██▏       | 12628/57400 [36:11<1:53:15,  6.59it/s]\n",
      "Epoch 23 \t Training loss: 1.939351354741884 \t Validation loss: 1.968659156459873 \t \n",
      "\n",
      "4 epoch without improvement\n",
      " 23%|██▎       | 13202/57400 [37:50<2:03:14,  5.98it/s]\n",
      "Epoch 24 \t Training loss: 1.93890832837035 \t Validation loss: 1.9756237228037947 \t \n",
      "\n",
      "5 epoch without improvement\n",
      " 24%|██▍       | 13776/57400 [39:31<2:07:00,  5.72it/s]\n",
      "Epoch 25 \t Training loss: 1.9375724242123993 \t Validation loss: 1.976573034868402 \t \n",
      "\n",
      "6 epoch without improvement\n",
      " 25%|██▌       | 14350/57400 [41:11<2:04:49,  5.75it/s]\n",
      "Epoch 26 \t Training loss: 1.9365795150866492 \t Validation loss: 1.956514186778311 \t \n",
      " 26%|██▌       | 14924/57400 [42:53<2:27:05,  4.81it/s]\n",
      "Epoch 27 \t Training loss: 1.9350277320433162 \t Validation loss: 1.9636785095020877 \t \n",
      "\n",
      "1 epoch without improvement\n",
      " 27%|██▋       | 15498/57400 [44:33<1:56:07,  6.01it/s]\n",
      "Epoch 28 \t Training loss: 1.9348415989909022 \t Validation loss: 1.967233106241388 \t \n",
      "\n",
      "2 epoch without improvement\n",
      " 28%|██▊       | 16072/57400 [46:14<1:56:56,  5.89it/s]\n",
      "Epoch 29 \t Training loss: 1.9324692915540955 \t Validation loss: 1.958977652808367 \t \n",
      "\n",
      "3 epoch without improvement\n",
      " 29%|██▉       | 16646/57400 [47:55<1:53:44,  5.97it/s]\n",
      "Epoch 30 \t Training loss: 1.9302706462996346 \t Validation loss: 1.9624838061251884 \t \n",
      "\n",
      "4 epoch without improvement\n",
      " 30%|███       | 17220/57400 [49:36<2:05:03,  5.36it/s]\n",
      "Epoch 31 \t Training loss: 1.9344716668128967 \t Validation loss: 1.9673458176144099 \t \n",
      "\n",
      "5 epoch without improvement\n",
      " 31%|███       | 17794/57400 [51:16<1:56:02,  5.69it/s]\n",
      "Epoch 32 \t Training loss: 1.9318461029787097 \t Validation loss: 1.9695862390227237 \t \n",
      "\n",
      "6 epoch without improvement\n",
      " 32%|███▏      | 18368/57400 [52:56<1:36:16,  6.76it/s]\n",
      "Epoch 33 \t Training loss: 1.9300645282459592 \t Validation loss: 1.967277583429369 \t \n",
      "\n",
      "7 epoch without improvement\n",
      " 33%|███▎      | 18942/57400 [54:36<1:44:35,  6.13it/s]\n",
      "Epoch 34 \t Training loss: 1.9299769341322603 \t Validation loss: 1.9613084025302177 \t \n",
      "\n",
      "8 epoch without improvement\n",
      " 34%|███▍      | 19516/57400 [56:14<1:45:33,  5.98it/s]\n",
      "Epoch 35 \t Training loss: 1.9310447338981496 \t Validation loss: 1.9682009947502006 \t \n",
      "\n",
      "9 epoch without improvement\n",
      " 35%|███▌      | 20090/57400 [57:51<1:51:08,  5.60it/s]\n",
      "Epoch 36 \t Training loss: 1.9293450453555543 \t Validation loss: 1.9725754018557273 \t \n",
      "\n",
      "10 epoch without improvement\n",
      "Validation_loss hasn't improve in 10 epoch. Stopping training after 36 epochs...\n"
     ]
    },
    {
     "data": {
      "image/png": "[encoded data removed]",
      "text/plain": [
       "<Figure size 640x480 with 1 Axes>"
      ]
     },
     "metadata": {},
     "output_type": "display_data"
    }
   ],
   "source": [
    "model = mt.MultiWithDependencies(model_conf,vocab).to(device)\n",
    "optimizer = AdamW(model.parameters(), lr=learning_rate,weight_decay=0.1)\n",
    "save_path='roberta_multitask_abs_1'\n",
    "train.train_function_multi(model,num_epochs,dl_train,optimizer,early_stop = 10,dl_val = dl_val,save_path=save_path,es_threshold=0)"
   ]
  },
  {
   "cell_type": "code",
   "execution_count": 12,
   "metadata": {},
   "outputs": [
    {
     "name": "stderr",
     "output_type": "stream",
     "text": [
      "Some weights of the model checkpoint at roberta-base were not used when initializing RobertaModel: ['lm_head.decoder.weight', 'lm_head.layer_norm.weight', 'lm_head.layer_norm.bias', 'lm_head.bias', 'lm_head.dense.weight', 'lm_head.dense.bias']\n",
      "- This IS expected if you are initializing RobertaModel from the checkpoint of a model trained on another task or with another architecture (e.g. initializing a BertForSequenceClassification model from a BertForPreTraining model).\n",
      "- This IS NOT expected if you are initializing RobertaModel from the checkpoint of a model that you expect to be exactly identical (initializing a BertForSequenceClassification model from a BertForSequenceClassification model).\n"
     ]
    },
    {
     "name": "stdout",
     "output_type": "stream",
     "text": [
      "Evaluación del modelo\n",
      "{'to': {'recall': 0.7348484848484849, 'precision': 0.7348484848484849, 'f1': 0.7348484848484848, 'accuracy': 0.7348484848484849}, 'as': {'recall': 0.7431551499348109, 'precision': 0.7431551499348109, 'f1': 0.7431551499348109, 'accuracy': 0.7431551499348109}, 'about': {'recall': 0.8456632653061225, 'precision': 0.8456632653061225, 'f1': 0.8456632653061225, 'accuracy': 0.8456632653061225}} \n",
      "\n",
      "Evaluación en etiquetas male\n",
      "{'to': {'recall': 0.7396593673965937, 'precision': 0.7396593673965937, 'f1': 0.7396593673965937, 'accuracy': 0.7396593673965937}, 'as': {'recall': 0.7348484848484849, 'precision': 0.7348484848484849, 'f1': 0.7348484848484848, 'accuracy': 0.7348484848484849}, 'about': {'recall': 0.84375, 'precision': 0.84375, 'f1': 0.84375, 'accuracy': 0.84375}} \n",
      "\n",
      "Evaluación en etiquetas female\n",
      "{'to': {'recall': 0.7296587926509186, 'precision': 0.7296587926509186, 'f1': 0.7296587926509186, 'accuracy': 0.7296587926509186}, 'as': {'recall': 0.7520215633423181, 'precision': 0.7520215633423181, 'f1': 0.7520215633423181, 'accuracy': 0.7520215633423181}, 'about': {'recall': 0.8475, 'precision': 0.8475, 'f1': 0.8475, 'accuracy': 0.8475}} \n",
      "\n"
     ]
    }
   ],
   "source": [
    "model = mt.MultiWithDependencies(model_conf,vocab).to(device)\n",
    "model.load_state_dict(torch.load('roberta_multitask_abs_1'))\n",
    "\n",
    "print(\"Evaluación del modelo\")\n",
    "result_global = train.eval_func_multi(model,dl_eval,tasks,gender=None)\n",
    "generic.update_global_metric_multi(result_global,global_metrics,mtype='global')\n",
    "print(result_global,'\\n')\n",
    "print(\"Evaluación en etiquetas male\")\n",
    "result_global = train.eval_func_multi(model,dl_eval,tasks,gender='male')\n",
    "generic.update_global_metric_multi(result_global,global_metrics,mtype='male')\n",
    "print(result_global,'\\n')\n",
    "print(\"Evaluación en etiquetas female\")\n",
    "result_global = train.eval_func_multi(model,dl_eval,tasks,gender='female')\n",
    "generic.update_global_metric_multi(result_global,global_metrics,mtype='female')\n",
    "print(result_global,'\\n')\n"
   ]
  },
  {
   "cell_type": "code",
   "execution_count": 13,
   "metadata": {},
   "outputs": [
    {
     "name": "stderr",
     "output_type": "stream",
     "text": [
      "Some weights of the model checkpoint at roberta-base were not used when initializing RobertaModel: ['lm_head.decoder.weight', 'lm_head.layer_norm.weight', 'lm_head.layer_norm.bias', 'lm_head.bias', 'lm_head.dense.weight', 'lm_head.dense.bias']\n",
      "- This IS expected if you are initializing RobertaModel from the checkpoint of a model trained on another task or with another architecture (e.g. initializing a BertForSequenceClassification model from a BertForPreTraining model).\n",
      "- This IS NOT expected if you are initializing RobertaModel from the checkpoint of a model that you expect to be exactly identical (initializing a BertForSequenceClassification model from a BertForSequenceClassification model).\n"
     ]
    },
    {
     "data": {
      "application/vnd.jupyter.widget-view+json": {
       "model_id": "ed3de83f6ee94d38aa2eedf202a11865",
       "version_major": 2,
       "version_minor": 0
      },
      "text/plain": [
       "  0%|          | 0/57400 [00:00<?, ?it/s]"
      ]
     },
     "metadata": {},
     "output_type": "display_data"
    },
    {
     "name": "stdout",
     "output_type": "stream",
     "text": [
      "Epoch 1 \t Training loss: 2.0651125712677163 \t Validation loss: 2.005660055047375 \t \n",
      "  1%|          | 574/57400 [01:40<2:29:08,  6.35it/s]\n",
      "Epoch 2 \t Training loss: 1.996617834950158 \t Validation loss: 1.9920317641759322 \t \n",
      "  2%|▏         | 1148/57400 [03:19<2:44:09,  5.71it/s]\n",
      "Epoch 3 \t Training loss: 1.9843037952944793 \t Validation loss: 1.9853617902529441 \t \n",
      "  3%|▎         | 1722/57400 [04:56<2:33:31,  6.04it/s]\n",
      "Epoch 4 \t Training loss: 1.9776618243925248 \t Validation loss: 1.9732467784719951 \t \n",
      "  4%|▍         | 2296/57400 [06:36<2:14:27,  6.83it/s]\n",
      "Epoch 5 \t Training loss: 1.9716537175278215 \t Validation loss: 1.9795670569953272 \t \n",
      "\n",
      "1 epoch without improvement\n",
      "  5%|▌         | 2870/57400 [08:16<2:24:12,  6.30it/s]\n",
      "Epoch 6 \t Training loss: 1.969232816729396 \t Validation loss: 1.9628004744901495 \t \n",
      "  6%|▌         | 3444/57400 [09:55<2:26:59,  6.12it/s]\n",
      "Epoch 7 \t Training loss: 1.9651670767455152 \t Validation loss: 1.9724740739596092 \t \n",
      "\n",
      "1 epoch without improvement\n",
      "  7%|▋         | 4018/57400 [11:32<2:21:45,  6.28it/s]\n",
      "Epoch 8 \t Training loss: 1.9642657575291624 \t Validation loss: 1.967212802272732 \t \n",
      "\n",
      "2 epoch without improvement\n",
      "  8%|▊         | 4592/57400 [13:10<2:15:21,  6.50it/s]\n",
      "Epoch 9 \t Training loss: 1.9601574467449654 \t Validation loss: 1.9677800041134075 \t \n",
      "\n",
      "3 epoch without improvement\n",
      "  9%|▉         | 5166/57400 [14:48<2:16:45,  6.37it/s]\n",
      "Epoch 10 \t Training loss: 1.9572815396644512 \t Validation loss: 1.9703907421079732 \t \n",
      "\n",
      "4 epoch without improvement\n",
      " 10%|█         | 5740/57400 [16:25<2:06:58,  6.78it/s]\n",
      "Epoch 11 \t Training loss: 1.953914090108373 \t Validation loss: 1.9657233630196522 \t \n",
      "\n",
      "5 epoch without improvement\n",
      " 11%|█         | 6314/57400 [18:00<2:11:10,  6.49it/s]\n",
      "Epoch 12 \t Training loss: 1.9541655633507706 \t Validation loss: 1.972777354515205 \t \n",
      "\n",
      "6 epoch without improvement\n",
      " 12%|█▏        | 6888/57400 [19:37<2:01:48,  6.91it/s]\n",
      "Epoch 13 \t Training loss: 1.9523458109084737 \t Validation loss: 1.9720751956357794 \t \n",
      "\n",
      "7 epoch without improvement\n",
      " 13%|█▎        | 7462/57400 [21:13<2:11:22,  6.34it/s]\n",
      "Epoch 14 \t Training loss: 1.9518287877587908 \t Validation loss: 1.9658849178734472 \t \n",
      "\n",
      "8 epoch without improvement\n",
      " 14%|█▍        | 8036/57400 [22:51<2:29:01,  5.52it/s]\n",
      "Epoch 15 \t Training loss: 1.9505600052843526 \t Validation loss: 1.969560043286469 \t \n",
      "\n",
      "9 epoch without improvement\n",
      " 15%|█▌        | 8610/57400 [24:27<2:22:24,  5.71it/s]\n",
      "Epoch 16 \t Training loss: 1.950455098409686 \t Validation loss: 1.9605269027968584 \t \n",
      " 16%|█▌        | 9184/57400 [26:04<2:08:43,  6.24it/s]\n",
      "Epoch 17 \t Training loss: 1.9472170972657952 \t Validation loss: 1.9651549933320385 \t \n",
      "\n",
      "1 epoch without improvement\n",
      " 17%|█▋        | 9758/57400 [27:40<1:56:17,  6.83it/s]\n",
      "Epoch 18 \t Training loss: 1.947481542721858 \t Validation loss: 1.967825570348966 \t \n",
      "\n",
      "2 epoch without improvement\n",
      " 18%|█▊        | 10332/57400 [29:16<1:59:00,  6.59it/s]\n",
      "Epoch 19 \t Training loss: 1.9453461053894787 \t Validation loss: 1.9741028224007557 \t \n",
      "\n",
      "3 epoch without improvement\n",
      " 19%|█▉        | 10906/57400 [30:53<2:15:34,  5.72it/s]\n",
      "Epoch 20 \t Training loss: 1.9450296167712593 \t Validation loss: 1.9675599841748255 \t \n",
      "\n",
      "4 epoch without improvement\n",
      " 20%|██        | 11480/57400 [32:30<2:04:08,  6.17it/s]\n",
      "Epoch 21 \t Training loss: 1.9422710600214967 \t Validation loss: 1.9636146921222493 \t \n",
      "\n",
      "5 epoch without improvement\n",
      " 21%|██        | 12054/57400 [34:06<1:55:30,  6.54it/s]\n",
      "Epoch 22 \t Training loss: 1.940415869398815 \t Validation loss: 1.9628104537220326 \t \n",
      "\n",
      "6 epoch without improvement\n",
      " 22%|██▏       | 12628/57400 [35:43<1:54:25,  6.52it/s]\n",
      "Epoch 23 \t Training loss: 1.9418833097929737 \t Validation loss: 1.9639388343035165 \t \n",
      "\n",
      "7 epoch without improvement\n",
      " 23%|██▎       | 13202/57400 [37:19<1:55:21,  6.39it/s]\n",
      "Epoch 24 \t Training loss: 1.93905425279398 \t Validation loss: 1.9773973367981992 \t \n",
      "\n",
      "8 epoch without improvement\n",
      " 24%|██▍       | 13776/57400 [38:57<1:53:49,  6.39it/s]\n",
      "Epoch 25 \t Training loss: 1.9374499121609465 \t Validation loss: 1.9651165493464067 \t \n",
      "\n",
      "9 epoch without improvement\n",
      " 25%|██▌       | 14350/57400 [40:33<1:55:10,  6.23it/s]\n",
      "Epoch 26 \t Training loss: 1.9388595379188085 \t Validation loss: 1.963933956825127 \t \n",
      "\n",
      "10 epoch without improvement\n",
      "Validation_loss hasn't improve in 10 epoch. Stopping training after 26 epochs...\n"
     ]
    },
    {
     "data": {
      "image/png": "[encoded data removed]",
      "text/plain": [
       "<Figure size 640x480 with 1 Axes>"
      ]
     },
     "metadata": {},
     "output_type": "display_data"
    }
   ],
   "source": [
    "model = mt.MultiWithDependencies(model_conf,vocab).to(device)\n",
    "optimizer = AdamW(model.parameters(), lr=learning_rate,weight_decay=0.1)\n",
    "save_path='roberta_multitask_abs_2'\n",
    "train.train_function_multi(model,num_epochs,dl_train,optimizer,early_stop = 10,dl_val = dl_val,save_path=save_path,es_threshold=0)"
   ]
  },
  {
   "cell_type": "code",
   "execution_count": 14,
   "metadata": {},
   "outputs": [
    {
     "name": "stderr",
     "output_type": "stream",
     "text": [
      "Some weights of the model checkpoint at roberta-base were not used when initializing RobertaModel: ['lm_head.decoder.weight', 'lm_head.layer_norm.weight', 'lm_head.layer_norm.bias', 'lm_head.bias', 'lm_head.dense.weight', 'lm_head.dense.bias']\n",
      "- This IS expected if you are initializing RobertaModel from the checkpoint of a model trained on another task or with another architecture (e.g. initializing a BertForSequenceClassification model from a BertForPreTraining model).\n",
      "- This IS NOT expected if you are initializing RobertaModel from the checkpoint of a model that you expect to be exactly identical (initializing a BertForSequenceClassification model from a BertForSequenceClassification model).\n"
     ]
    },
    {
     "name": "stdout",
     "output_type": "stream",
     "text": [
      "Evaluación del modelo\n",
      "{'to': {'recall': 0.7095959595959596, 'precision': 0.7095959595959596, 'f1': 0.7095959595959596, 'accuracy': 0.7095959595959596}, 'as': {'recall': 0.7222946544980443, 'precision': 0.7222946544980443, 'f1': 0.7222946544980443, 'accuracy': 0.7222946544980443}, 'about': {'recall': 0.8418367346938775, 'precision': 0.8418367346938775, 'f1': 0.8418367346938774, 'accuracy': 0.8418367346938775}} \n",
      "\n",
      "Evaluación en etiquetas male\n",
      "{'to': {'recall': 0.7372262773722628, 'precision': 0.7372262773722628, 'f1': 0.7372262773722628, 'accuracy': 0.7372262773722628}, 'as': {'recall': 0.7297979797979798, 'precision': 0.7297979797979798, 'f1': 0.7297979797979797, 'accuracy': 0.7297979797979798}, 'about': {'recall': 0.8489583333333334, 'precision': 0.8489583333333334, 'f1': 0.8489583333333334, 'accuracy': 0.8489583333333334}} \n",
      "\n",
      "Evaluación en etiquetas female\n",
      "{'to': {'recall': 0.6797900262467191, 'precision': 0.6797900262467191, 'f1': 0.6797900262467191, 'accuracy': 0.6797900262467191}, 'as': {'recall': 0.7142857142857143, 'precision': 0.7142857142857143, 'f1': 0.7142857142857143, 'accuracy': 0.7142857142857143}, 'about': {'recall': 0.835, 'precision': 0.835, 'f1': 0.835, 'accuracy': 0.835}} \n",
      "\n"
     ]
    }
   ],
   "source": [
    "model = mt.MultiWithDependencies(model_conf,vocab).to(device)\n",
    "model.load_state_dict(torch.load(save_path))\n",
    "\n",
    "print(\"Evaluación del modelo\")\n",
    "result_global = train.eval_func_multi(model,dl_eval,tasks,gender=None)\n",
    "generic.update_global_metric_multi(result_global,global_metrics,mtype='global')\n",
    "print(result_global,'\\n')\n",
    "print(\"Evaluación en etiquetas male\")\n",
    "result_global = train.eval_func_multi(model,dl_eval,tasks,gender='male')\n",
    "generic.update_global_metric_multi(result_global,global_metrics,mtype='male')\n",
    "print(result_global,'\\n')\n",
    "print(\"Evaluación en etiquetas female\")\n",
    "result_global = train.eval_func_multi(model,dl_eval,tasks,gender='female')\n",
    "generic.update_global_metric_multi(result_global,global_metrics,mtype='female')\n",
    "print(result_global,'\\n')\n"
   ]
  },
  {
   "cell_type": "code",
   "execution_count": 15,
   "metadata": {},
   "outputs": [
    {
     "name": "stderr",
     "output_type": "stream",
     "text": [
      "Some weights of the model checkpoint at roberta-base were not used when initializing RobertaModel: ['lm_head.decoder.weight', 'lm_head.layer_norm.weight', 'lm_head.layer_norm.bias', 'lm_head.bias', 'lm_head.dense.weight', 'lm_head.dense.bias']\n",
      "- This IS expected if you are initializing RobertaModel from the checkpoint of a model trained on another task or with another architecture (e.g. initializing a BertForSequenceClassification model from a BertForPreTraining model).\n",
      "- This IS NOT expected if you are initializing RobertaModel from the checkpoint of a model that you expect to be exactly identical (initializing a BertForSequenceClassification model from a BertForSequenceClassification model).\n"
     ]
    },
    {
     "data": {
      "application/vnd.jupyter.widget-view+json": {
       "model_id": "7bcc09479d44448589d40e1f69e84b80",
       "version_major": 2,
       "version_minor": 0
      },
      "text/plain": [
       "  0%|          | 0/57400 [00:00<?, ?it/s]"
      ]
     },
     "metadata": {},
     "output_type": "display_data"
    },
    {
     "name": "stdout",
     "output_type": "stream",
     "text": [
      "Epoch 1 \t Training loss: 2.0413248079994415 \t Validation loss: 1.9930260989625574 \t \n",
      "  1%|          | 574/57400 [01:37<2:24:28,  6.56it/s]\n",
      "Epoch 2 \t Training loss: 1.9899265961364587 \t Validation loss: 1.982152209443561 \t \n",
      "  2%|▏         | 1148/57400 [03:16<2:16:48,  6.85it/s]\n",
      "Epoch 3 \t Training loss: 1.98139080000256 \t Validation loss: 1.9799775269071935 \t \n",
      "  3%|▎         | 1722/57400 [04:54<2:29:34,  6.20it/s]\n",
      "Epoch 4 \t Training loss: 1.9727605973801963 \t Validation loss: 1.9831221285512892 \t \n",
      "\n",
      "1 epoch without improvement\n",
      "  4%|▍         | 2296/57400 [06:31<2:50:16,  5.39it/s]\n",
      "Epoch 5 \t Training loss: 1.9702694590498762 \t Validation loss: 1.9745794979192444 \t \n",
      "  5%|▌         | 2870/57400 [08:09<2:23:39,  6.33it/s]\n",
      "Epoch 6 \t Training loss: 1.969140046149596 \t Validation loss: 1.9725353051040133 \t \n",
      "  6%|▌         | 3444/57400 [09:47<2:22:19,  6.32it/s]\n",
      "Epoch 7 \t Training loss: 1.964547675453412 \t Validation loss: 1.9737059605323661 \t \n",
      "\n",
      "1 epoch without improvement\n",
      "  7%|▋         | 4018/57400 [11:26<2:53:57,  5.11it/s]\n",
      "Epoch 8 \t Training loss: 1.962770645626746 \t Validation loss: 1.9675122358031192 \t \n",
      "  8%|▊         | 4592/57400 [13:05<2:21:11,  6.23it/s]\n",
      "Epoch 9 \t Training loss: 1.9600383028751467 \t Validation loss: 1.9650278172250522 \t \n",
      "  9%|▉         | 5166/57400 [14:43<2:16:43,  6.37it/s]\n",
      "Epoch 10 \t Training loss: 1.9583667670392824 \t Validation loss: 1.9703796495825558 \t \n",
      "\n",
      "1 epoch without improvement\n",
      " 10%|█         | 5740/57400 [16:21<2:15:35,  6.35it/s]\n",
      "Epoch 11 \t Training loss: 1.9590465206302417 \t Validation loss: 1.9605887906026032 \t \n",
      " 11%|█         | 6314/57400 [17:59<2:15:20,  6.29it/s]\n",
      "Epoch 12 \t Training loss: 1.9536711610983473 \t Validation loss: 1.9630779492653023 \t \n",
      "\n",
      "1 epoch without improvement\n",
      " 12%|█▏        | 6888/57400 [19:38<2:14:49,  6.24it/s]\n",
      "Epoch 13 \t Training loss: 1.9528326662159963 \t Validation loss: 1.9625329264139726 \t \n",
      "\n",
      "2 epoch without improvement\n",
      " 13%|█▎        | 7462/57400 [21:17<2:21:40,  5.87it/s]\n",
      "Epoch 14 \t Training loss: 1.9501827830636957 \t Validation loss: 1.9762579020807298 \t \n",
      "\n",
      "3 epoch without improvement\n",
      " 14%|█▍        | 8036/57400 [22:54<2:06:57,  6.48it/s]\n",
      "Epoch 15 \t Training loss: 1.9493492420126752 \t Validation loss: 1.9608205395229792 \t \n",
      "\n",
      "4 epoch without improvement\n",
      " 15%|█▌        | 8610/57400 [24:33<2:12:46,  6.12it/s]\n",
      "Epoch 16 \t Training loss: 1.9453554851252859 \t Validation loss: 1.9566295551041426 \t \n",
      " 16%|█▌        | 9184/57400 [26:12<2:13:17,  6.03it/s]\n",
      "Epoch 17 \t Training loss: 1.9460000534921573 \t Validation loss: 1.9624868833412559 \t \n",
      "\n",
      "1 epoch without improvement\n",
      " 17%|█▋        | 9758/57400 [27:50<2:00:41,  6.58it/s]\n",
      "Epoch 18 \t Training loss: 1.9463256620363907 \t Validation loss: 1.9658081268860121 \t \n",
      "\n",
      "2 epoch without improvement\n",
      " 18%|█▊        | 10332/57400 [29:28<2:01:13,  6.47it/s]\n",
      "Epoch 19 \t Training loss: 1.9424843003110188 \t Validation loss: 1.9612897674916154 \t \n",
      "\n",
      "3 epoch without improvement\n",
      " 19%|█▉        | 10906/57400 [31:07<2:07:28,  6.08it/s]\n",
      "Epoch 20 \t Training loss: 1.9427526967035353 \t Validation loss: 1.9694757805032246 \t \n",
      "\n",
      "4 epoch without improvement\n",
      " 20%|██        | 11480/57400 [32:45<1:50:51,  6.90it/s]\n",
      "Epoch 21 \t Training loss: 1.9419983783250072 \t Validation loss: 1.9604475195124997 \t \n",
      "\n",
      "5 epoch without improvement\n",
      " 21%|██        | 12054/57400 [34:24<2:04:47,  6.06it/s]\n",
      "Epoch 22 \t Training loss: 1.9416374009660728 \t Validation loss: 1.9495527299783997 \t \n",
      " 22%|██▏       | 12628/57400 [36:02<1:47:33,  6.94it/s]\n",
      "Epoch 23 \t Training loss: 1.938944986680659 \t Validation loss: 1.965037689370624 \t \n",
      "\n",
      "1 epoch without improvement\n",
      " 23%|██▎       | 13202/57400 [37:41<1:59:56,  6.14it/s]\n",
      "Epoch 24 \t Training loss: 1.940426755449913 \t Validation loss: 1.9671644356291174 \t \n",
      "\n",
      "2 epoch without improvement\n",
      " 24%|██▍       | 13776/57400 [39:19<1:52:12,  6.48it/s]\n",
      "Epoch 25 \t Training loss: 1.9404448293642715 \t Validation loss: 1.9634193040556827 \t \n",
      "\n",
      "3 epoch without improvement\n",
      " 25%|██▌       | 14350/57400 [40:57<1:41:47,  7.05it/s]\n",
      "Epoch 26 \t Training loss: 1.93805795264161 \t Validation loss: 1.9594386028031172 \t \n",
      "\n",
      "4 epoch without improvement\n",
      " 26%|██▌       | 14924/57400 [42:36<2:08:55,  5.49it/s]\n",
      "Epoch 27 \t Training loss: 1.9341952219242002 \t Validation loss: 1.9722462973352206 \t \n",
      "\n",
      "5 epoch without improvement\n",
      " 27%|██▋       | 15498/57400 [44:13<1:51:48,  6.25it/s]\n",
      "Epoch 28 \t Training loss: 1.9341430618372528 \t Validation loss: 1.9672704066260387 \t \n",
      "\n",
      "6 epoch without improvement\n",
      " 28%|██▊       | 16072/57400 [45:50<1:49:08,  6.31it/s]\n",
      "Epoch 29 \t Training loss: 1.9338873356892257 \t Validation loss: 1.9659240528688593 \t \n",
      "\n",
      "7 epoch without improvement\n",
      " 29%|██▉       | 16646/57400 [47:29<1:51:11,  6.11it/s]\n",
      "Epoch 30 \t Training loss: 1.9309252363464142 \t Validation loss: 1.9617739612773313 \t \n",
      "\n",
      "8 epoch without improvement\n",
      " 30%|███       | 17220/57400 [49:06<2:06:02,  5.31it/s]\n",
      "Epoch 31 \t Training loss: 1.93436191680124 \t Validation loss: 1.9664564900479073 \t \n",
      "\n",
      "9 epoch without improvement\n",
      " 31%|███       | 17794/57400 [50:43<1:43:45,  6.36it/s]\n",
      "Epoch 32 \t Training loss: 1.9317118193214364 \t Validation loss: 1.969357425883665 \t \n",
      "\n",
      "10 epoch without improvement\n",
      "Validation_loss hasn't improve in 10 epoch. Stopping training after 32 epochs...\n"
     ]
    },
    {
     "data": {
      "image/png": "[encoded data removed]",
      "text/plain": [
       "<Figure size 640x480 with 1 Axes>"
      ]
     },
     "metadata": {},
     "output_type": "display_data"
    }
   ],
   "source": [
    "model = mt.MultiWithDependencies(model_conf,vocab).to(device)\n",
    "optimizer = AdamW(model.parameters(), lr=learning_rate,weight_decay=0.1)\n",
    "save_path='roberta_multitask_abs_3'\n",
    "train.train_function_multi(model,num_epochs,dl_train,optimizer,early_stop = 10,dl_val = dl_val,save_path=save_path,es_threshold=0)"
   ]
  },
  {
   "cell_type": "code",
   "execution_count": 16,
   "metadata": {},
   "outputs": [
    {
     "name": "stderr",
     "output_type": "stream",
     "text": [
      "Some weights of the model checkpoint at roberta-base were not used when initializing RobertaModel: ['lm_head.decoder.weight', 'lm_head.layer_norm.weight', 'lm_head.layer_norm.bias', 'lm_head.bias', 'lm_head.dense.weight', 'lm_head.dense.bias']\n",
      "- This IS expected if you are initializing RobertaModel from the checkpoint of a model trained on another task or with another architecture (e.g. initializing a BertForSequenceClassification model from a BertForPreTraining model).\n",
      "- This IS NOT expected if you are initializing RobertaModel from the checkpoint of a model that you expect to be exactly identical (initializing a BertForSequenceClassification model from a BertForSequenceClassification model).\n"
     ]
    },
    {
     "name": "stdout",
     "output_type": "stream",
     "text": [
      "Evaluación del modelo\n",
      "{'to': {'recall': 0.7272727272727273, 'precision': 0.7272727272727273, 'f1': 0.7272727272727273, 'accuracy': 0.7272727272727273}, 'as': {'recall': 0.7444589308996089, 'precision': 0.7444589308996089, 'f1': 0.7444589308996089, 'accuracy': 0.7444589308996089}, 'about': {'recall': 0.8482142857142857, 'precision': 0.8482142857142857, 'f1': 0.8482142857142857, 'accuracy': 0.8482142857142857}} \n",
      "\n",
      "Evaluación en etiquetas male\n",
      "{'to': {'recall': 0.732360097323601, 'precision': 0.732360097323601, 'f1': 0.732360097323601, 'accuracy': 0.732360097323601}, 'as': {'recall': 0.7424242424242424, 'precision': 0.7424242424242424, 'f1': 0.7424242424242424, 'accuracy': 0.7424242424242424}, 'about': {'recall': 0.84375, 'precision': 0.84375, 'f1': 0.84375, 'accuracy': 0.84375}} \n",
      "\n",
      "Evaluación en etiquetas female\n",
      "{'to': {'recall': 0.7217847769028871, 'precision': 0.7217847769028871, 'f1': 0.7217847769028871, 'accuracy': 0.7217847769028871}, 'as': {'recall': 0.7466307277628033, 'precision': 0.7466307277628033, 'f1': 0.7466307277628033, 'accuracy': 0.7466307277628033}, 'about': {'recall': 0.8525, 'precision': 0.8525, 'f1': 0.8525, 'accuracy': 0.8525}} \n",
      "\n"
     ]
    }
   ],
   "source": [
    "model = mt.MultiWithDependencies(model_conf,vocab).to(device)\n",
    "model.load_state_dict(torch.load(save_path))\n",
    "\n",
    "print(\"Evaluación del modelo\")\n",
    "result_global = train.eval_func_multi(model,dl_eval,tasks,gender=None)\n",
    "generic.update_global_metric_multi(result_global,global_metrics,mtype='global')\n",
    "print(result_global,'\\n')\n",
    "print(\"Evaluación en etiquetas male\")\n",
    "result_global = train.eval_func_multi(model,dl_eval,tasks,gender='male')\n",
    "generic.update_global_metric_multi(result_global,global_metrics,mtype='male')\n",
    "print(result_global,'\\n')\n",
    "print(\"Evaluación en etiquetas female\")\n",
    "result_global = train.eval_func_multi(model,dl_eval,tasks,gender='female')\n",
    "generic.update_global_metric_multi(result_global,global_metrics,mtype='female')\n",
    "print(result_global,'\\n')\n"
   ]
  },
  {
   "cell_type": "code",
   "execution_count": 17,
   "metadata": {},
   "outputs": [
    {
     "name": "stdout",
     "output_type": "stream",
     "text": [
      "Métricas globales: \n",
      "\n",
      "\n",
      " about\n",
      "Resultado global: {'recall': 0.8452380952380952, 'precision': 0.8452380952380952, 'f1': 0.8452380952380952, 'accuracy': 0.8452380952380952}\n",
      "Métricas etiqueta male: {'recall': 0.8454861111111112, 'precision': 0.8454861111111112, 'f1': 0.8454861111111112, 'accuracy': 0.8454861111111112}\n",
      "Métricas etiqueta female:  {'recall': 0.845, 'precision': 0.845, 'f1': 0.845, 'accuracy': 0.845}\n",
      "\n",
      " to\n",
      "Resultado global: {'recall': 0.7239057239057239, 'precision': 0.7239057239057239, 'f1': 0.7239057239057238, 'accuracy': 0.7239057239057239}\n",
      "Métricas etiqueta male: {'recall': 0.7364152473641524, 'precision': 0.7364152473641524, 'f1': 0.7364152473641524, 'accuracy': 0.7364152473641524}\n",
      "Métricas etiqueta female:  {'recall': 0.710411198600175, 'precision': 0.710411198600175, 'f1': 0.710411198600175, 'accuracy': 0.710411198600175}\n",
      "\n",
      " as\n",
      "Resultado global: {'recall': 0.7366362451108214, 'precision': 0.7366362451108214, 'f1': 0.7366362451108214, 'accuracy': 0.7366362451108214}\n",
      "Métricas etiqueta male: {'recall': 0.7356902356902357, 'precision': 0.7356902356902357, 'f1': 0.7356902356902356, 'accuracy': 0.7356902356902357}\n",
      "Métricas etiqueta female:  {'recall': 0.7376460017969452, 'precision': 0.7376460017969452, 'f1': 0.7376460017969452, 'accuracy': 0.7376460017969452}\n"
     ]
    }
   ],
   "source": [
    "\n",
    "print('Métricas globales: \\n')\n",
    "\n",
    "for task in ['about','to','as']:\n",
    "    print('\\n',task)\n",
    "    print('Resultado global:',{m:mean(values) for m,values in global_metrics[task]['global'].items()})\n",
    "    print(f'Métricas etiqueta male:',{m:mean(values) for m,values in global_metrics[task]['male'].items()})\n",
    "    print('Métricas etiqueta female: ',{m:mean(values) for m,values in global_metrics[task]['female'].items()})\n"
   ]
  }
 ],
 "metadata": {
  "kernelspec": {
   "display_name": "tfg",
   "language": "python",
   "name": "python3"
  },
  "language_info": {
   "codemirror_mode": {
    "name": "ipython",
    "version": 3
   },
   "file_extension": ".py",
   "mimetype": "text/x-python",
   "name": "python",
   "nbconvert_exporter": "python",
   "pygments_lexer": "ipython3",
   "version": "3.9.13"
  },
  "orig_nbformat": 4,
  "vscode": {
   "interpreter": {
    "hash": "35e8332e99bdf485583869dfbdef293dcf2f9293b1663ec5daea0a573af457c3"
   }
  }
 },
 "nbformat": 4,
 "nbformat_minor": 2
}
