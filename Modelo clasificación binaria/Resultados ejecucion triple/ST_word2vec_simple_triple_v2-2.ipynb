{
 "cells": [
  {
   "cell_type": "code",
   "execution_count": 3,
   "metadata": {},
   "outputs": [],
   "source": [
    "import numpy as np\n",
    "import torch\n",
    "\n",
    "\n",
    "import json\n",
    "from torch.utils.data import DataLoader\n",
    "from torch.optim import AdamW,SGD\n",
    "from torch import nn\n",
    "\n",
    "\n",
    "from statistics import mean"
   ]
  },
  {
   "cell_type": "code",
   "execution_count": 4,
   "metadata": {},
   "outputs": [
    {
     "name": "stderr",
     "output_type": "stream",
     "text": [
      "c:\\Users\\kuina\\anaconda3\\envs\\tfg\\lib\\site-packages\\paramiko\\transport.py:219: CryptographyDeprecationWarning: Blowfish has been deprecated\n",
      "  \"class\": algorithms.Blowfish,\n"
     ]
    }
   ],
   "source": [
    "import utils_generic as generic\n",
    "import rrnn_modelo as rrnn\n",
    "import model_confs as confs\n",
    "\n",
    "\n",
    "import train\n",
    "\n",
    "from gensim.models import KeyedVectors"
   ]
  },
  {
   "cell_type": "code",
   "execution_count": 5,
   "metadata": {},
   "outputs": [],
   "source": [
    "device = torch.device(\"cuda\") if torch.cuda.is_available() else torch.device(\"cpu\")\n",
    "\n",
    "word2vec_path = r\"C:\\Users\\kuina\\gensim-data\\word2vec-google-news-300\\word2vec-google-news-300.gz\"\n",
    "word2vec_model =  KeyedVectors.load_word2vec_format(word2vec_path, binary=True)"
   ]
  },
  {
   "attachments": {},
   "cell_type": "markdown",
   "metadata": {},
   "source": [
    "# Datos ConvAI2"
   ]
  },
  {
   "cell_type": "code",
   "execution_count": 6,
   "metadata": {},
   "outputs": [],
   "source": [
    "with open('Datasets\\ConvAI2\\convai2_complete.json','r') as f:\n",
    "    data = json.load(f)"
   ]
  },
  {
   "cell_type": "code",
   "execution_count": 7,
   "metadata": {},
   "outputs": [],
   "source": [
    "convai_train = data['train']\n",
    "convai_val = data['validation']\n",
    "\n",
    "\n",
    "vocabulary = set(generic.create_word_to_index(convai_train).keys()) & set(word2vec_model.key_to_index.keys())\n",
    "word_to_index = {}\n",
    "emb_weights = []\n",
    "for new_id, word in zip(range(len(vocabulary)),vocabulary):\n",
    "    word_to_index[word] = new_id\n",
    "    emb_weights.append(word2vec_model[word])\n",
    "\n",
    "emb_weights = np.array(emb_weights)\n",
    "\n"
   ]
  },
  {
   "cell_type": "code",
   "execution_count": 8,
   "metadata": {},
   "outputs": [],
   "source": [
    "convai_train_token = generic.tokenize_dataset_rrnn(convai_train,['about','to','as'],word_to_index) \n",
    "convai_val_token = generic.tokenize_dataset_rrnn(convai_val,['about','to','as'],word_to_index) "
   ]
  },
  {
   "cell_type": "code",
   "execution_count": 9,
   "metadata": {},
   "outputs": [],
   "source": [
    "convai_train_dataset = {}\n",
    "for task in ['to','as','about']:\n",
    "    convai_train_dataset[task] =rrnn.DatasetSingleTaskRRNN(convai_train_token,task,eval=False)"
   ]
  },
  {
   "cell_type": "code",
   "execution_count": 10,
   "metadata": {},
   "outputs": [],
   "source": [
    "convai_val_dataset = {}\n",
    "for task in ['to','as','about']:\n",
    "    convai_val_dataset[task] = rrnn.DatasetSingleTaskRRNN(convai_val_token,task,eval=False)"
   ]
  },
  {
   "attachments": {},
   "cell_type": "markdown",
   "metadata": {},
   "source": [
    "# Datos md_gender"
   ]
  },
  {
   "cell_type": "code",
   "execution_count": 11,
   "metadata": {},
   "outputs": [],
   "source": [
    "with open('Datasets\\md_gender\\md_complete.json','r',encoding=\"utf8\") as f:\n",
    "    md_data = json.load(f)"
   ]
  },
  {
   "cell_type": "code",
   "execution_count": 12,
   "metadata": {},
   "outputs": [],
   "source": [
    "md_tokenized = generic.tokenize_dataset_rrnn(md_data,['about','to','as'],word_to_index) \n",
    "\n",
    "\n",
    "md_dataset = {}\n",
    "for task in ['to','as','about']:\n",
    "    md_dataset[task] = rrnn.DatasetSingleTaskRRNN(md_tokenized,task,eval=True)"
   ]
  },
  {
   "attachments": {},
   "cell_type": "markdown",
   "metadata": {},
   "source": [
    "# Creación dataloaders"
   ]
  },
  {
   "cell_type": "code",
   "execution_count": 13,
   "metadata": {},
   "outputs": [],
   "source": [
    "dl_train = {}\n",
    "for task in ['to','as','about']:\n",
    "    dl_train[task] = DataLoader(convai_train_dataset[task],batch_size=128,shuffle=True,collate_fn=rrnn.collate_fn)"
   ]
  },
  {
   "cell_type": "code",
   "execution_count": 14,
   "metadata": {},
   "outputs": [],
   "source": [
    "dl_val = {}\n",
    "for task in ['to','as','about']:\n",
    "    dl_val[task] = DataLoader(convai_val_dataset[task],batch_size=128,shuffle=True,collate_fn=rrnn.collate_fn)"
   ]
  },
  {
   "cell_type": "code",
   "execution_count": 15,
   "metadata": {},
   "outputs": [],
   "source": [
    "dl_eval = {}\n",
    "for task in ['to','as','about']:\n",
    "    dl_eval[task] = DataLoader(md_dataset[task],batch_size=128,shuffle=False,collate_fn=rrnn.collate_fn)"
   ]
  },
  {
   "attachments": {},
   "cell_type": "markdown",
   "metadata": {},
   "source": [
    "# Hiperparámetros"
   ]
  },
  {
   "cell_type": "code",
   "execution_count": 16,
   "metadata": {},
   "outputs": [],
   "source": [
    "vocab_size = len(vocabulary)\n",
    "lstm_hidden_dim = 128"
   ]
  },
  {
   "attachments": {},
   "cell_type": "markdown",
   "metadata": {},
   "source": [
    "# ABOUT"
   ]
  },
  {
   "cell_type": "code",
   "execution_count": null,
   "metadata": {},
   "outputs": [],
   "source": [
    "learning_rate = 5e-5\n",
    "num_epochs = 100\n",
    "\n",
    "global_metrics = {'about':{'global':{'recall': [], 'precision': [],'f1': [], 'accuracy': []},\n",
    "                            'male':{'recall': [], 'precision': [],'f1': [], 'accuracy': []},\n",
    "                            'female':{'recall': [], 'precision': [],'f1': [], 'accuracy': []}},\n",
    "                    'as':{'global':{'recall': [], 'precision': [],'f1': [], 'accuracy': []},\n",
    "                            'male':{'recall': [], 'precision': [],'f1': [], 'accuracy': []},\n",
    "                            'female':{'recall': [], 'precision': [],'f1': [], 'accuracy': []}},\n",
    "                    'to':{'global':{'recall': [], 'precision': [],'f1': [], 'accuracy': []},\n",
    "                            'male':{'recall': [], 'precision': [],'f1': [], 'accuracy': []},\n",
    "                            'female':{'recall': [], 'precision': [],'f1': [], 'accuracy': []}}}"
   ]
  },
  {
   "cell_type": "code",
   "execution_count": null,
   "metadata": {},
   "outputs": [],
   "source": [
    "model = rrnn.SingleTaskRRNN(vocab_size = vocab_size,emb_dim=emb_dim,lstm_hidden_dim = lstm_hidden_dim,emb_weights=emb_weights).to(device)\n",
    "save_path='m1_w2v_simple_about_1'\n",
    "\n",
    "\n",
    "optimizer = AdamW(model.parameters(), lr=learning_rate,weight_decay=0.1)\n",
    "train.train_function(model,num_epochs,dl_train['about'],optimizer,early_stop=10,dl_val=dl_val['about'],save_path=save_path,es_threshold=0)"
   ]
  },
  {
   "cell_type": "code",
   "execution_count": null,
   "metadata": {},
   "outputs": [],
   "source": [
    "model = rrnn.SingleTaskRRNN(vocab_size = vocab_size,emb_dim=emb_dim,lstm_hidden_dim = lstm_hidden_dim,emb_weights=emb_weights).to(device)\n",
    "\n",
    "model.load_state_dict(torch.load(save_path))\n",
    "for task in ['about','to','as']:\n",
    "   \n",
    "    print(f\"Evaluación en el conjunto el conjunto {task}\")\n",
    "    metric_result = train.eval_func(model,dl_eval[task])\n",
    "    generic.update_global_metric(metric_result,global_metrics[task]['global'])\n",
    "    print(f\"GLOBAL: {metric_result}\")\n",
    "    metric_result = train.eval_func(model,dl_eval[task],gender='male')\n",
    "    generic.update_global_metric(metric_result,global_metrics[task]['male'])\n",
    "    print(f\"MALE {metric_result}\")\n",
    "    metric_result = train.eval_func(model,dl_eval[task],gender='female')\n",
    "    generic.update_global_metric(metric_result,global_metrics[task]['female'])\n",
    "    print(f\"FEMALE {metric_result}\",'\\n')"
   ]
  },
  {
   "cell_type": "code",
   "execution_count": null,
   "metadata": {},
   "outputs": [],
   "source": [
    "model = rrnn.SingleTaskRRNN(vocab_size = vocab_size,emb_dim=emb_dim,lstm_hidden_dim = lstm_hidden_dim,emb_weights=emb_weights).to(device)\n",
    "save_path='m1_w2v_simple_about_2'\n",
    "\n",
    "\n",
    "optimizer =AdamW(model.parameters(), lr=learning_rate,weight_decay=0.1)\n",
    "train.train_function(model,num_epochs,dl_train['about'],optimizer,early_stop=10,dl_val=dl_val['about'],save_path=save_path,es_threshold=0)"
   ]
  },
  {
   "cell_type": "code",
   "execution_count": null,
   "metadata": {},
   "outputs": [],
   "source": [
    "model = rrnn.SingleTaskRRNN(vocab_size = vocab_size,emb_dim=emb_dim,lstm_hidden_dim = lstm_hidden_dim,emb_weights=emb_weights).to(device)\n",
    "\n",
    "model.load_state_dict(torch.load(save_path))\n",
    "for task in ['about','to','as']:\n",
    "   \n",
    "    print(f\"Evaluación en el conjunto el conjunto {task}\")\n",
    "    metric_result = train.eval_func(model,dl_eval[task])\n",
    "    generic.update_global_metric(metric_result,global_metrics[task]['global'])\n",
    "    print(f\"GLOBAL: {metric_result}\")\n",
    "    metric_result = train.eval_func(model,dl_eval[task],gender='male')\n",
    "    generic.update_global_metric(metric_result,global_metrics[task]['male'])\n",
    "    print(f\"MALE {metric_result}\")\n",
    "    metric_result = train.eval_func(model,dl_eval[task],gender='female')\n",
    "    generic.update_global_metric(metric_result,global_metrics[task]['female'])\n",
    "    print(f\"FEMALE {metric_result}\",'\\n')"
   ]
  },
  {
   "cell_type": "code",
   "execution_count": null,
   "metadata": {},
   "outputs": [],
   "source": [
    "del model\n",
    "torch.cuda.empty_cache()"
   ]
  },
  {
   "cell_type": "code",
   "execution_count": null,
   "metadata": {},
   "outputs": [],
   "source": [
    "model = rrnn.SingleTaskRRNN(vocab_size = vocab_size,emb_dim=emb_dim,lstm_hidden_dim = lstm_hidden_dim,emb_weights=emb_weights).to(device)\n",
    "save_path='m1_w2v_simple_about_3'\n",
    "\n",
    "\n",
    "optimizer = AdamW(model.parameters(), lr=learning_rate,weight_decay=0.1)\n",
    "train.train_function(model,num_epochs,dl_train['about'],optimizer,early_stop=10,dl_val=dl_val['about'],save_path=save_path,es_threshold=0)"
   ]
  },
  {
   "cell_type": "code",
   "execution_count": null,
   "metadata": {},
   "outputs": [],
   "source": [
    "del model\n",
    "torch.cuda.empty_cache()"
   ]
  },
  {
   "cell_type": "code",
   "execution_count": null,
   "metadata": {},
   "outputs": [],
   "source": [
    "model = rrnn.SingleTaskRRNN(vocab_size = vocab_size,emb_dim=emb_dim,lstm_hidden_dim = lstm_hidden_dim,emb_weights=emb_weights).to(device)\n",
    "\n",
    "model.load_state_dict(torch.load(save_path))\n",
    "for task in ['about','to','as']:\n",
    "   \n",
    "    print(f\"Evaluación en el conjunto el conjunto {task}\")\n",
    "    metric_result = train.eval_func(model,dl_eval[task])\n",
    "    generic.update_global_metric(metric_result,global_metrics[task]['global'])\n",
    "    print(f\"GLOBAL: {metric_result}\")\n",
    "    metric_result = train.eval_func(model,dl_eval[task],gender='male')\n",
    "    generic.update_global_metric(metric_result,global_metrics[task]['male'])\n",
    "    print(f\"MALE {metric_result}\")\n",
    "    metric_result = train.eval_func(model,dl_eval[task],gender='female')\n",
    "    generic.update_global_metric(metric_result,global_metrics[task]['female'])\n",
    "    print(f\"FEMALE {metric_result}\",'\\n')"
   ]
  },
  {
   "cell_type": "code",
   "execution_count": null,
   "metadata": {},
   "outputs": [],
   "source": [
    "del model\n",
    "torch.cuda.empty_cache()"
   ]
  },
  {
   "cell_type": "code",
   "execution_count": null,
   "metadata": {},
   "outputs": [],
   "source": [
    "\n",
    "print('Métricas globales: \\n')\n",
    "\n",
    "for task in ['about','to','as']:\n",
    "    print('\\n',task)\n",
    "    print('Resultado global:',{m:mean(values) for m,values in global_metrics[task]['global'].items()})\n",
    "    print(f'Métricas etiqueta male:',{m:mean(values) for m,values in global_metrics[task]['male'].items()})\n",
    "    print('Métricas etiqueta female: ',{m:mean(values) for m,values in global_metrics[task]['female'].items()})\n"
   ]
  },
  {
   "attachments": {},
   "cell_type": "markdown",
   "metadata": {},
   "source": [
    "# TO"
   ]
  },
  {
   "cell_type": "code",
   "execution_count": 17,
   "metadata": {},
   "outputs": [],
   "source": [
    "lstm_hidden_dim = 256"
   ]
  },
  {
   "cell_type": "code",
   "execution_count": 18,
   "metadata": {},
   "outputs": [],
   "source": [
    "learning_rate = 1e-6\n",
    "num_epochs = 100\n",
    "\n",
    "global_metrics = {'about':{'global':{'recall': [], 'precision': [],'f1': [], 'accuracy': []},\n",
    "                            'male':{'recall': [], 'precision': [],'f1': [], 'accuracy': []},\n",
    "                            'female':{'recall': [], 'precision': [],'f1': [], 'accuracy': []}},\n",
    "                    'as':{'global':{'recall': [], 'precision': [],'f1': [], 'accuracy': []},\n",
    "                            'male':{'recall': [], 'precision': [],'f1': [], 'accuracy': []},\n",
    "                            'female':{'recall': [], 'precision': [],'f1': [], 'accuracy': []}},\n",
    "                    'to':{'global':{'recall': [], 'precision': [],'f1': [], 'accuracy': []},\n",
    "                            'male':{'recall': [], 'precision': [],'f1': [], 'accuracy': []},\n",
    "                            'female':{'recall': [], 'precision': [],'f1': [], 'accuracy': []}}}"
   ]
  },
  {
   "cell_type": "code",
   "execution_count": 19,
   "metadata": {},
   "outputs": [
    {
     "data": {
      "application/vnd.jupyter.widget-view+json": {
       "model_id": "7592216f9a4d4e13983b26ba9a58bb3c",
       "version_major": 2,
       "version_minor": 0
      },
      "text/plain": [
       "  0%|          | 0/57400 [00:00<?, ?it/s]"
      ]
     },
     "metadata": {},
     "output_type": "display_data"
    },
    {
     "name": "stdout",
     "output_type": "stream",
     "text": [
      "Epoch 1 \t Training loss: 0.6944313304764884 \t Validation loss: 0.6951113272521455 \t \n",
      "  1%|          | 574/57400 [00:04<06:44, 140.63it/s]\n",
      "Epoch 2 \t Training loss: 0.693452760836804 \t Validation loss: 0.6940032465983246 \t \n",
      "  2%|▏         | 1148/57400 [00:08<06:34, 142.52it/s]\n",
      "Epoch 3 \t Training loss: 0.6932751584136112 \t Validation loss: 0.6933026455216489 \t \n",
      "  3%|▎         | 1722/57400 [00:13<06:43, 138.14it/s]\n",
      "Epoch 4 \t Training loss: 0.6932016726362581 \t Validation loss: 0.6930396738698927 \t \n",
      "  4%|▍         | 2296/57400 [00:17<06:26, 142.72it/s]\n",
      "Epoch 5 \t Training loss: 0.6931938040962617 \t Validation loss: 0.6930148480302196 \t \n",
      "  5%|▌         | 2870/57400 [00:21<06:08, 147.96it/s]\n",
      "Epoch 6 \t Training loss: 0.6931781081372437 \t Validation loss: 0.6928949436898959 \t \n",
      "  6%|▌         | 3444/57400 [00:25<06:07, 146.94it/s]\n",
      "Epoch 7 \t Training loss: 0.6931875533966237 \t Validation loss: 0.6928053387140823 \t \n",
      "  7%|▋         | 4018/57400 [00:29<06:01, 147.50it/s]\n",
      "Epoch 8 \t Training loss: 0.6931925824087256 \t Validation loss: 0.6927180633706561 \t \n",
      "  8%|▊         | 4592/57400 [00:33<05:57, 147.53it/s]\n",
      "Epoch 9 \t Training loss: 0.6931523385778953 \t Validation loss: 0.6926106719647424 \t \n",
      "  9%|▉         | 5166/57400 [00:38<06:02, 143.92it/s]\n",
      "Epoch 10 \t Training loss: 0.6931305778981917 \t Validation loss: 0.6926029354839002 \t \n",
      " 10%|█         | 5740/57400 [00:42<05:52, 146.71it/s]\n",
      "Epoch 11 \t Training loss: 0.6931691020207953 \t Validation loss: 0.6926731053045241 \t \n",
      "\n",
      "1 epoch without improvement\n",
      " 11%|█         | 6314/57400 [00:46<05:43, 148.67it/s]\n",
      "Epoch 12 \t Training loss: 0.693173519202641 \t Validation loss: 0.6929010698350809 \t \n",
      "\n",
      "2 epoch without improvement\n",
      " 12%|█▏        | 6888/57400 [00:50<05:59, 140.58it/s]\n",
      "Epoch 13 \t Training loss: 0.6931585078663112 \t Validation loss: 0.692730897563999 \t \n",
      "\n",
      "3 epoch without improvement\n",
      " 13%|█▎        | 7462/57400 [00:55<05:45, 144.35it/s]\n",
      "Epoch 14 \t Training loss: 0.6932240050636518 \t Validation loss: 0.6929437609042152 \t \n",
      "\n",
      "4 epoch without improvement\n",
      " 14%|█▍        | 8036/57400 [00:59<06:09, 133.48it/s]\n",
      "Epoch 15 \t Training loss: 0.6931283340013816 \t Validation loss: 0.6926280906644918 \t \n",
      "\n",
      "5 epoch without improvement\n",
      " 15%|█▌        | 8610/57400 [01:03<05:35, 145.37it/s]\n",
      "Epoch 16 \t Training loss: 0.693220591918932 \t Validation loss: 0.6927404848195738 \t \n",
      "\n",
      "6 epoch without improvement\n",
      " 16%|█▌        | 9184/57400 [01:07<05:30, 146.06it/s]\n",
      "Epoch 17 \t Training loss: 0.6931767180198576 \t Validation loss: 0.6927984195240473 \t \n",
      "\n",
      "7 epoch without improvement\n",
      " 17%|█▋        | 9758/57400 [01:12<05:28, 145.23it/s]\n",
      "Epoch 18 \t Training loss: 0.6931863496735536 \t Validation loss: 0.6928698380114668 \t \n",
      "\n",
      "8 epoch without improvement\n",
      " 18%|█▊        | 10332/57400 [01:16<05:29, 142.87it/s]\n",
      "Epoch 19 \t Training loss: 0.6931059221357418 \t Validation loss: 0.6927680757086155 \t \n",
      "\n",
      "9 epoch without improvement\n",
      " 19%|█▉        | 10906/57400 [01:20<05:17, 146.33it/s]\n",
      "Epoch 20 \t Training loss: 0.6931856915302809 \t Validation loss: 0.6930691205849082 \t \n",
      "\n",
      "10 epoch without improvement\n",
      "Validation_loss hasn't improve in 10 epoch. Stopping training after 20 epochs...\n"
     ]
    },
    {
     "data": {
      "image/png": "[encoded data removed]",
      "text/plain": [
       "<Figure size 640x480 with 1 Axes>"
      ]
     },
     "metadata": {},
     "output_type": "display_data"
    }
   ],
   "source": [
    "model = rrnn.SingleTaskRRNN2(vocab_size = vocab_size,lstm_hidden_dim = lstm_hidden_dim,emb_weights=emb_weights,dropout=0.2).to(device)\n",
    "save_path='m1_w2v_simple_to_1'\n",
    "# optimizer = SGD(model.parameters(), lr=learning_rate, momentum=0.9)\n",
    "\n",
    "optimizer = AdamW(model.parameters(), lr=learning_rate)\n",
    "train.train_function(model,num_epochs,dl_train['to'],optimizer,early_stop=10,dl_val=dl_val['to'],save_path=save_path)"
   ]
  },
  {
   "cell_type": "code",
   "execution_count": 23,
   "metadata": {},
   "outputs": [],
   "source": [
    "del model\n",
    "torch.cuda.empty_cache()"
   ]
  },
  {
   "cell_type": "code",
   "execution_count": 21,
   "metadata": {},
   "outputs": [
    {
     "name": "stdout",
     "output_type": "stream",
     "text": [
      "Evaluación en el conjunto el conjunto about\n",
      "GLOBAL: {'recall': 0.5102040816326531, 'precision': 0.5102040816326531, 'f1': 0.5102040816326531, 'accuracy': 0.5102040816326531}\n",
      "MALE {'recall': 0.015625, 'precision': 0.015625, 'f1': 0.015625, 'accuracy': 0.015625}\n",
      "FEMALE {'recall': 0.985, 'precision': 0.985, 'f1': 0.985, 'accuracy': 0.985} \n",
      "\n",
      "Evaluación en el conjunto el conjunto to\n",
      "GLOBAL: {'recall': 0.47474747474747475, 'precision': 0.47474747474747475, 'f1': 0.47474747474747475, 'accuracy': 0.47474747474747475}\n",
      "MALE {'recall': 0.0072992700729927005, 'precision': 0.0072992700729927005, 'f1': 0.0072992700729927005, 'accuracy': 0.0072992700729927005}\n",
      "FEMALE {'recall': 0.979002624671916, 'precision': 0.979002624671916, 'f1': 0.979002624671916, 'accuracy': 0.979002624671916} \n",
      "\n",
      "Evaluación en el conjunto el conjunto as\n",
      "GLOBAL: {'recall': 0.4810951760104302, 'precision': 0.4810951760104302, 'f1': 0.4810951760104302, 'accuracy': 0.4810951760104302}\n",
      "MALE {'recall': 0.027777777777777776, 'precision': 0.027777777777777776, 'f1': 0.027777777777777776, 'accuracy': 0.027777777777777776}\n",
      "FEMALE {'recall': 0.9649595687331537, 'precision': 0.9649595687331537, 'f1': 0.9649595687331537, 'accuracy': 0.9649595687331537} \n",
      "\n"
     ]
    }
   ],
   "source": [
    "model = rrnn.SingleTaskRRNN2(vocab_size = vocab_size,lstm_hidden_dim = lstm_hidden_dim,emb_weights=emb_weights).to(device)\n",
    "\n",
    "model.load_state_dict(torch.load(save_path))\n",
    "for task in ['about','to','as']:\n",
    "   \n",
    "    print(f\"Evaluación en el conjunto el conjunto {task}\")\n",
    "    metric_result = train.eval_func(model,dl_eval[task])\n",
    "    generic.update_global_metric(metric_result,global_metrics[task]['global'])\n",
    "    print(f\"GLOBAL: {metric_result}\")\n",
    "    metric_result = train.eval_func(model,dl_eval[task],gender='male')\n",
    "    generic.update_global_metric(metric_result,global_metrics[task]['male'])\n",
    "    print(f\"MALE {metric_result}\")\n",
    "    metric_result = train.eval_func(model,dl_eval[task],gender='female')\n",
    "    generic.update_global_metric(metric_result,global_metrics[task]['female'])\n",
    "    print(f\"FEMALE {metric_result}\",'\\n')"
   ]
  },
  {
   "cell_type": "code",
   "execution_count": null,
   "metadata": {},
   "outputs": [],
   "source": [
    "model = rrnn.SingleTaskRRNN(vocab_size = vocab_size,emb_dim=emb_dim,lstm_hidden_dim = lstm_hidden_dim,emb_weights=emb_weights).to(device)\n",
    "save_path='m1_w2v_simple_to_2'\n",
    "\n",
    "\n",
    "optimizer = SGD(model.parameters(), lr=learning_rate, momentum=0.9)\n",
    "train.train_function(model,num_epochs,dl_train['to'],optimizer,early_stop=10,dl_val=dl_val['to'],save_path=save_path,es_threshold=0)"
   ]
  },
  {
   "cell_type": "code",
   "execution_count": null,
   "metadata": {},
   "outputs": [],
   "source": [
    "del model\n",
    "torch.cuda.empty_cache()"
   ]
  },
  {
   "cell_type": "code",
   "execution_count": null,
   "metadata": {},
   "outputs": [],
   "source": [
    "model = rrnn.SingleTaskRRNN(vocab_size = vocab_size,emb_dim=emb_dim,lstm_hidden_dim = lstm_hidden_dim,emb_weights=emb_weights).to(device)\n",
    "\n",
    "model.load_state_dict(torch.load(save_path))\n",
    "for task in ['about','to','as']:\n",
    "   \n",
    "    print(f\"Evaluación en el conjunto el conjunto {task}\")\n",
    "    metric_result = train.eval_func(model,dl_eval[task])\n",
    "    generic.update_global_metric(metric_result,global_metrics[task]['global'])\n",
    "    print(f\"GLOBAL: {metric_result}\")\n",
    "    metric_result = train.eval_func(model,dl_eval[task],gender='male')\n",
    "    generic.update_global_metric(metric_result,global_metrics[task]['male'])\n",
    "    print(f\"MALE {metric_result}\")\n",
    "    metric_result = train.eval_func(model,dl_eval[task],gender='female')\n",
    "    generic.update_global_metric(metric_result,global_metrics[task]['female'])\n",
    "    print(f\"FEMALE {metric_result}\",'\\n')"
   ]
  },
  {
   "cell_type": "code",
   "execution_count": null,
   "metadata": {},
   "outputs": [],
   "source": [
    "del model\n",
    "torch.cuda.empty_cache()"
   ]
  },
  {
   "cell_type": "code",
   "execution_count": null,
   "metadata": {},
   "outputs": [],
   "source": [
    "model = rrnn.SingleTaskRRNN(vocab_size = vocab_size,emb_dim=emb_dim,lstm_hidden_dim = lstm_hidden_dim,emb_weights=emb_weights).to(device)\n",
    "save_path='m1_w2v_simple_to_3'\n",
    "\n",
    "\n",
    "optimizer = SGD(model.parameters(), lr=learning_rate, momentum=0.9)\n",
    "train.train_function(model,num_epochs,dl_train['to'],optimizer,early_stop=10,dl_val=dl_val['to'],save_path=save_path,es_threshold=0)"
   ]
  },
  {
   "cell_type": "code",
   "execution_count": null,
   "metadata": {},
   "outputs": [],
   "source": [
    "model = rrnn.SingleTaskRRNN(vocab_size = vocab_size,emb_dim=emb_dim,lstm_hidden_dim = lstm_hidden_dim,emb_weights=emb_weights).to(device)\n",
    "\n",
    "model.load_state_dict(torch.load(save_path))\n",
    "for task in ['about','to','as']:\n",
    "   \n",
    "    print(f\"Evaluación en el conjunto el conjunto {task}\")\n",
    "    metric_result = train.eval_func(model,dl_eval[task])\n",
    "    generic.update_global_metric(metric_result,global_metrics[task]['global'])\n",
    "    print(f\"GLOBAL: {metric_result}\")\n",
    "    metric_result = train.eval_func(model,dl_eval[task],gender='male')\n",
    "    generic.update_global_metric(metric_result,global_metrics[task]['male'])\n",
    "    print(f\"MALE {metric_result}\")\n",
    "    metric_result = train.eval_func(model,dl_eval[task],gender='female')\n",
    "    generic.update_global_metric(metric_result,global_metrics[task]['female'])\n",
    "    print(f\"FEMALE {metric_result}\",'\\n')"
   ]
  },
  {
   "cell_type": "code",
   "execution_count": null,
   "metadata": {},
   "outputs": [],
   "source": [
    "del model\n",
    "torch.cuda.empty_cache()"
   ]
  },
  {
   "cell_type": "code",
   "execution_count": null,
   "metadata": {},
   "outputs": [],
   "source": [
    "\n",
    "print('Métricas globales: \\n')\n",
    "\n",
    "for task in ['about','to','as']:\n",
    "    print('\\n',task)\n",
    "    print('Resultado global:',{m:mean(values) for m,values in global_metrics[task]['global'].items()})\n",
    "    print(f'Métricas etiqueta male:',{m:mean(values) for m,values in global_metrics[task]['male'].items()})\n",
    "    print('Métricas etiqueta female: ',{m:mean(values) for m,values in global_metrics[task]['female'].items()})\n"
   ]
  },
  {
   "attachments": {},
   "cell_type": "markdown",
   "metadata": {},
   "source": [
    "# AS"
   ]
  },
  {
   "cell_type": "code",
   "execution_count": null,
   "metadata": {},
   "outputs": [],
   "source": [
    "learning_rate = 5e-5\n",
    "num_epochs = 100\n",
    "\n",
    "global_metrics = {'about':{'global':{'recall': [], 'precision': [],'f1': [], 'accuracy': []},\n",
    "                            'male':{'recall': [], 'precision': [],'f1': [], 'accuracy': []},\n",
    "                            'female':{'recall': [], 'precision': [],'f1': [], 'accuracy': []}},\n",
    "                    'as':{'global':{'recall': [], 'precision': [],'f1': [], 'accuracy': []},\n",
    "                            'male':{'recall': [], 'precision': [],'f1': [], 'accuracy': []},\n",
    "                            'female':{'recall': [], 'precision': [],'f1': [], 'accuracy': []}},\n",
    "                    'to':{'global':{'recall': [], 'precision': [],'f1': [], 'accuracy': []},\n",
    "                            'male':{'recall': [], 'precision': [],'f1': [], 'accuracy': []},\n",
    "                            'female':{'recall': [], 'precision': [],'f1': [], 'accuracy': []}}}"
   ]
  },
  {
   "cell_type": "code",
   "execution_count": null,
   "metadata": {},
   "outputs": [],
   "source": [
    "model = rrnn.SingleTaskRRNN(vocab_size = vocab_size,emb_dim=emb_dim,lstm_hidden_dim = lstm_hidden_dim,emb_weights=emb_weights).to(device)\n",
    "save_path='m1_w2v_simple_as_1'\n",
    "\n",
    "optimizer = AdamW(model.parameters(), lr=learning_rate,weight_decay=0.1)\n",
    "train.train_function(model,num_epochs,dl_train['as'],optimizer,early_stop=10,dl_val=dl_val['as'],save_path=save_path,es_threshold=0)"
   ]
  },
  {
   "cell_type": "code",
   "execution_count": null,
   "metadata": {},
   "outputs": [],
   "source": [
    "model = rrnn.SingleTaskRRNN(vocab_size = vocab_size,emb_dim=emb_dim,lstm_hidden_dim = lstm_hidden_dim,emb_weights=emb_weights).to(device)\n",
    "\n",
    "model.load_state_dict(torch.load(save_path))\n",
    "for task in ['about','to','as']:\n",
    "   \n",
    "    print(f\"Evaluación en el conjunto el conjunto {task}\")\n",
    "    metric_result = train.eval_func(model,dl_eval[task])\n",
    "    generic.update_global_metric(metric_result,global_metrics[task]['global'])\n",
    "    print(f\"GLOBAL: {metric_result}\")\n",
    "    metric_result = train.eval_func(model,dl_eval[task],gender='male')\n",
    "    generic.update_global_metric(metric_result,global_metrics[task]['male'])\n",
    "    print(f\"MALE {metric_result}\")\n",
    "    metric_result = train.eval_func(model,dl_eval[task],gender='female')\n",
    "    generic.update_global_metric(metric_result,global_metrics[task]['female'])\n",
    "    print(f\"FEMALE {metric_result}\",'\\n')"
   ]
  },
  {
   "cell_type": "code",
   "execution_count": null,
   "metadata": {},
   "outputs": [],
   "source": [
    "model = rrnn.SingleTaskRRNN(vocab_size = vocab_size,emb_dim=emb_dim,lstm_hidden_dim = lstm_hidden_dim,emb_weights=emb_weights).to(device)\n",
    "save_path='m1_w2v_simple_as_2'\n",
    "\n",
    "\n",
    "optimizer = AdamW(model.parameters(), lr=learning_rate,weight_decay=0.1)\n",
    "train.train_function(model,num_epochs,dl_train['as'],optimizer,early_stop=10,dl_val=dl_val['as'],save_path=save_path,es_threshold=0)"
   ]
  },
  {
   "cell_type": "code",
   "execution_count": null,
   "metadata": {},
   "outputs": [],
   "source": [
    "model = rrnn.SingleTaskRRNN(vocab_size = vocab_size,emb_dim=emb_dim,lstm_hidden_dim = lstm_hidden_dim,emb_weights=emb_weights).to(device)\n",
    "\n",
    "model.load_state_dict(torch.load(save_path))\n",
    "for task in ['about','to','as']:\n",
    "   \n",
    "    print(f\"Evaluación en el conjunto el conjunto {task}\")\n",
    "    metric_result = train.eval_func(model,dl_eval[task])\n",
    "    generic.update_global_metric(metric_result,global_metrics[task]['global'])\n",
    "    print(f\"GLOBAL: {metric_result}\")\n",
    "    metric_result = train.eval_func(model,dl_eval[task],gender='male')\n",
    "    generic.update_global_metric(metric_result,global_metrics[task]['male'])\n",
    "    print(f\"MALE {metric_result}\")\n",
    "    metric_result = train.eval_func(model,dl_eval[task],gender='female')\n",
    "    generic.update_global_metric(metric_result,global_metrics[task]['female'])\n",
    "    print(f\"FEMALE {metric_result}\",'\\n')"
   ]
  },
  {
   "cell_type": "code",
   "execution_count": null,
   "metadata": {},
   "outputs": [],
   "source": [
    "model = rrnn.SingleTaskRRNN(vocab_size = vocab_size,emb_dim=emb_dim,lstm_hidden_dim = lstm_hidden_dim,emb_weights=emb_weights).to(device)\n",
    "save_path='m1_w2v_simple_as_3'\n",
    "\n",
    "\n",
    "optimizer = AdamW(model.parameters(), lr=learning_rate,weight_decay=0.1)\n",
    "train.train_function(model,num_epochs,dl_train['as'],optimizer,early_stop=10,dl_val=dl_val['as'],save_path=save_path,es_threshold=0)"
   ]
  },
  {
   "cell_type": "code",
   "execution_count": null,
   "metadata": {},
   "outputs": [],
   "source": [
    "model = rrnn.SingleTaskRRNN(vocab_size = vocab_size,emb_dim=emb_dim,lstm_hidden_dim = lstm_hidden_dim,emb_weights=emb_weights).to(device)\n",
    "\n",
    "model.load_state_dict(torch.load(save_path))\n",
    "for task in ['about','to','as']:\n",
    "   \n",
    "    print(f\"Evaluación en el conjunto el conjunto {task}\")\n",
    "    metric_result = train.eval_func(model,dl_eval[task])\n",
    "    generic.update_global_metric(metric_result,global_metrics[task]['global'])\n",
    "    print(f\"GLOBAL: {metric_result}\")\n",
    "    metric_result = train.eval_func(model,dl_eval[task],gender='male')\n",
    "    generic.update_global_metric(metric_result,global_metrics[task]['male'])\n",
    "    print(f\"MALE {metric_result}\")\n",
    "    metric_result = train.eval_func(model,dl_eval[task],gender='female')\n",
    "    generic.update_global_metric(metric_result,global_metrics[task]['female'])\n",
    "    print(f\"FEMALE {metric_result}\",'\\n')"
   ]
  },
  {
   "cell_type": "code",
   "execution_count": null,
   "metadata": {},
   "outputs": [],
   "source": [
    "\n",
    "print('Métricas globales: \\n')\n",
    "\n",
    "for task in ['about','to','as']:\n",
    "    print('\\n',task)\n",
    "    print('Resultado global:',{m:mean(values) for m,values in global_metrics[task]['global'].items()})\n",
    "    print(f'Métricas etiqueta male:',{m:mean(values) for m,values in global_metrics[task]['male'].items()})\n",
    "    print('Métricas etiqueta female: ',{m:mean(values) for m,values in global_metrics[task]['female'].items()})\n"
   ]
  }
 ],
 "metadata": {
  "kernelspec": {
   "display_name": "tfg",
   "language": "python",
   "name": "python3"
  },
  "language_info": {
   "codemirror_mode": {
    "name": "ipython",
    "version": 3
   },
   "file_extension": ".py",
   "mimetype": "text/x-python",
   "name": "python",
   "nbconvert_exporter": "python",
   "pygments_lexer": "ipython3",
   "version": "3.9.13"
  },
  "orig_nbformat": 4
 },
 "nbformat": 4,
 "nbformat_minor": 2
}
