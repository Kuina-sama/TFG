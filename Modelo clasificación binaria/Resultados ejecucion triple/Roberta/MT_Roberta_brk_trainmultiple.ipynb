{
 "cells": [
  {
   "cell_type": "code",
   "execution_count": 1,
   "metadata": {},
   "outputs": [],
   "source": [
    "import torch\n",
    "from torch.utils.data import DataLoader\n",
    "from torch.optim import SGD ,AdamW\n",
    "\n",
    "from datasets import load_dataset, load_metric\n",
    "\n",
    "import matplotlib.pyplot as plt\n",
    "\n",
    "import json\n",
    "from statistics import mean"
   ]
  },
  {
   "cell_type": "code",
   "execution_count": 2,
   "metadata": {},
   "outputs": [],
   "source": [
    "import utils_generic as generic\n",
    "import multitask_dep as mt\n",
    "import model_confs as confs\n",
    "import train"
   ]
  },
  {
   "cell_type": "code",
   "execution_count": 3,
   "metadata": {},
   "outputs": [],
   "source": [
    "device = torch.device(\"cuda\") if torch.cuda.is_available() else torch.device(\"cpu\")\n",
    "tasks = ['to','as','about']"
   ]
  },
  {
   "cell_type": "code",
   "execution_count": 4,
   "metadata": {},
   "outputs": [],
   "source": [
    "model_conf = confs.roberta_conf\n",
    "encoding_type = 'brk'"
   ]
  },
  {
   "attachments": {},
   "cell_type": "markdown",
   "metadata": {},
   "source": [
    "# Datos ConvAI"
   ]
  },
  {
   "cell_type": "code",
   "execution_count": 5,
   "metadata": {},
   "outputs": [],
   "source": [
    "with open('Datasets\\ConvAI2\\convai2_complete.json','r') as f:\n",
    "    data = json.load(f)"
   ]
  },
  {
   "cell_type": "code",
   "execution_count": 6,
   "metadata": {},
   "outputs": [],
   "source": [
    "vocab = mt.Vocabulary(data['train'],encoding_type)\n",
    "\n",
    "convai_train = data['train']\n",
    "convai_val = data['validation']\n",
    "\n",
    "\n",
    "\n",
    "convai_train_token = generic.tokenize_dataset_with_dependencies(convai_train,['about','to','as'],vocab,model_conf) \n",
    "convai_val_token = generic.tokenize_dataset_with_dependencies(convai_val,['about','to','as'],vocab,model_conf) "
   ]
  },
  {
   "cell_type": "code",
   "execution_count": 7,
   "metadata": {},
   "outputs": [],
   "source": [
    "convai_train_dataset = mt.DatasetMultitaskDep(convai_train_token,tasks,eval=False)\n",
    "convai_val_dataset = mt.DatasetMultitaskDep(convai_val_token,tasks,eval=False)"
   ]
  },
  {
   "attachments": {},
   "cell_type": "markdown",
   "metadata": {},
   "source": [
    "# Datos md_gender"
   ]
  },
  {
   "cell_type": "code",
   "execution_count": 8,
   "metadata": {},
   "outputs": [],
   "source": [
    "with open('Datasets\\md_gender\\md_complete.json','r',encoding=\"utf8\") as f:\n",
    "    md_data = json.load(f)"
   ]
  },
  {
   "cell_type": "code",
   "execution_count": 9,
   "metadata": {},
   "outputs": [],
   "source": [
    "md_tokenized = generic.tokenize_dataset_with_dependencies(md_data,['about','to','as'],vocab,model_conf) \n",
    "md_dataset = mt.DatasetMultitaskDep(md_tokenized,tasks,eval=True)"
   ]
  },
  {
   "attachments": {},
   "cell_type": "markdown",
   "metadata": {},
   "source": [
    "# Creación dataloaders"
   ]
  },
  {
   "cell_type": "code",
   "execution_count": 10,
   "metadata": {},
   "outputs": [],
   "source": [
    "dl_train =DataLoader(convai_train_dataset,batch_size=128,shuffle=True,collate_fn=mt.collate_fn)\n",
    "dl_val =DataLoader(convai_val_dataset,batch_size=128,shuffle=True,collate_fn=mt.collate_fn)\n",
    "dl_eval = DataLoader(md_dataset,batch_size=128,shuffle=False,collate_fn=mt.collate_fn)"
   ]
  },
  {
   "attachments": {},
   "cell_type": "markdown",
   "metadata": {},
   "source": [
    "# Modelo multitask"
   ]
  },
  {
   "cell_type": "code",
   "execution_count": 11,
   "metadata": {},
   "outputs": [],
   "source": [
    "num_epochs = 100\n",
    "learning_rate = 1e-6\n",
    "\n",
    "global_metrics = {'about':{'global':{'recall': [], 'precision': [],'f1': [], 'accuracy': []},\n",
    "                            'male':{'recall': [], 'precision': [],'f1': [], 'accuracy': []},\n",
    "                            'female':{'recall': [], 'precision': [],'f1': [], 'accuracy': []}},\n",
    "                    'as':{'global':{'recall': [], 'precision': [],'f1': [], 'accuracy': []},\n",
    "                            'male':{'recall': [], 'precision': [],'f1': [], 'accuracy': []},\n",
    "                            'female':{'recall': [], 'precision': [],'f1': [], 'accuracy': []}},\n",
    "                    'to':{'global':{'recall': [], 'precision': [],'f1': [], 'accuracy': []},\n",
    "                            'male':{'recall': [], 'precision': [],'f1': [], 'accuracy': []},\n",
    "                            'female':{'recall': [], 'precision': [],'f1': [], 'accuracy': []}}}"
   ]
  },
  {
   "cell_type": "code",
   "execution_count": 12,
   "metadata": {},
   "outputs": [
    {
     "name": "stderr",
     "output_type": "stream",
     "text": [
      "Some weights of the model checkpoint at roberta-base were not used when initializing RobertaModel: ['lm_head.dense.weight', 'lm_head.bias', 'lm_head.layer_norm.weight', 'lm_head.dense.bias', 'lm_head.layer_norm.bias', 'lm_head.decoder.weight']\n",
      "- This IS expected if you are initializing RobertaModel from the checkpoint of a model trained on another task or with another architecture (e.g. initializing a BertForSequenceClassification model from a BertForPreTraining model).\n",
      "- This IS NOT expected if you are initializing RobertaModel from the checkpoint of a model that you expect to be exactly identical (initializing a BertForSequenceClassification model from a BertForSequenceClassification model).\n"
     ]
    },
    {
     "data": {
      "application/vnd.jupyter.widget-view+json": {
       "model_id": "55040e3aed544743b9fbeb8ff21f1291",
       "version_major": 2,
       "version_minor": 0
      },
      "text/plain": [
       "  0%|          | 0/57400 [00:00<?, ?it/s]"
      ]
     },
     "metadata": {},
     "output_type": "display_data"
    },
    {
     "name": "stdout",
     "output_type": "stream",
     "text": [
      "Epoch 1 \t Training loss: 2.0493103446445398 \t Validation loss: 1.9974822250463196 \t \n",
      "  1%|          | 574/57400 [01:38<2:43:24,  5.80it/s]\n",
      "Epoch 2 \t Training loss: 1.9920722138175566 \t Validation loss: 1.981296131166361 \t \n",
      "  2%|▏         | 1148/57400 [03:18<2:16:24,  6.87it/s]\n",
      "Epoch 3 \t Training loss: 1.9856174883111428 \t Validation loss: 1.9699206473463673 \t \n",
      "  3%|▎         | 1722/57400 [04:58<2:41:25,  5.75it/s]\n",
      "Epoch 4 \t Training loss: 1.9776090690898562 \t Validation loss: 1.9731337923114582 \t \n",
      "\n",
      "1 epoch without improvement\n",
      "  4%|▍         | 2296/57400 [06:38<2:15:37,  6.77it/s]\n",
      "Epoch 5 \t Training loss: 1.9727402055305057 \t Validation loss: 1.9703322709616968 \t \n",
      "\n",
      "2 epoch without improvement\n",
      "  5%|▌         | 2870/57400 [08:17<2:23:32,  6.33it/s]\n",
      "Epoch 6 \t Training loss: 1.9688049174767337 \t Validation loss: 1.9722705210669567 \t \n",
      "\n",
      "3 epoch without improvement\n",
      "  6%|▌         | 3444/57400 [09:58<2:47:35,  5.37it/s]\n",
      "Epoch 7 \t Training loss: 1.9660295478558292 \t Validation loss: 1.9696202965105993 \t \n",
      "  7%|▋         | 4018/57400 [11:37<2:27:20,  6.04it/s]\n",
      "Epoch 8 \t Training loss: 1.962397644744102 \t Validation loss: 1.9758493435584892 \t \n",
      "\n",
      "1 epoch without improvement\n",
      "  8%|▊         | 4592/57400 [13:16<2:18:13,  6.37it/s]\n",
      "Epoch 9 \t Training loss: 1.9587603086793879 \t Validation loss: 1.9648768901824951 \t \n",
      "  9%|▉         | 5166/57400 [14:55<2:19:26,  6.24it/s]\n",
      "Epoch 10 \t Training loss: 1.960816519185641 \t Validation loss: 1.964673969705226 \t \n",
      " 10%|█         | 5740/57400 [16:33<2:01:30,  7.09it/s]\n",
      "Epoch 11 \t Training loss: 1.9570574365841802 \t Validation loss: 1.9646247948630382 \t \n",
      " 11%|█         | 6314/57400 [18:11<2:11:34,  6.47it/s]\n",
      "Epoch 12 \t Training loss: 1.9553089523980012 \t Validation loss: 1.9615417294583077 \t \n",
      " 12%|█▏        | 6888/57400 [19:49<2:31:57,  5.54it/s]\n",
      "Epoch 13 \t Training loss: 1.9532342499141493 \t Validation loss: 1.9658974772792752 \t \n",
      "\n",
      "1 epoch without improvement\n",
      " 13%|█▎        | 7462/57400 [21:26<2:06:08,  6.60it/s]\n",
      "Epoch 14 \t Training loss: 1.9538147545026985 \t Validation loss: 1.9644141540688984 \t \n",
      "\n",
      "2 epoch without improvement\n",
      " 14%|█▍        | 8036/57400 [23:04<2:06:50,  6.49it/s]\n",
      "Epoch 15 \t Training loss: 1.951799737036436 \t Validation loss: 1.9672925674309165 \t \n",
      "\n",
      "3 epoch without improvement\n",
      " 15%|█▌        | 8610/57400 [24:41<2:10:54,  6.21it/s]\n",
      "Epoch 16 \t Training loss: 1.952249652001916 \t Validation loss: 1.9645566172518973 \t \n",
      "\n",
      "4 epoch without improvement\n",
      " 16%|█▌        | 9184/57400 [26:17<1:51:47,  7.19it/s]\n",
      "Epoch 17 \t Training loss: 1.9482990391163044 \t Validation loss: 1.9644554307905293 \t \n",
      "\n",
      "5 epoch without improvement\n",
      " 17%|█▋        | 9758/57400 [27:54<1:53:21,  7.01it/s]\n",
      "Epoch 18 \t Training loss: 1.9458006904931018 \t Validation loss: 1.962912646390624 \t \n",
      "\n",
      "6 epoch without improvement\n",
      " 18%|█▊        | 10332/57400 [29:30<2:06:23,  6.21it/s]\n",
      "Epoch 19 \t Training loss: 1.945784775845265 \t Validation loss: 1.9550518363209095 \t \n",
      " 19%|█▉        | 10906/57400 [31:07<2:06:28,  6.13it/s]\n",
      "Epoch 20 \t Training loss: 1.9463848382338413 \t Validation loss: 1.9682175668619446 \t \n",
      "\n",
      "1 epoch without improvement\n",
      " 20%|██        | 11480/57400 [32:44<1:57:22,  6.52it/s]\n",
      "Epoch 21 \t Training loss: 1.944076398108479 \t Validation loss: 1.9679839631258431 \t \n",
      "\n",
      "2 epoch without improvement\n",
      " 21%|██        | 12054/57400 [34:21<2:12:47,  5.69it/s]\n",
      "Epoch 22 \t Training loss: 1.9405325696858795 \t Validation loss: 1.9672515412508431 \t \n",
      "\n",
      "3 epoch without improvement\n",
      " 22%|██▏       | 12628/57400 [35:58<1:57:23,  6.36it/s]\n",
      "Epoch 23 \t Training loss: 1.9404757442374678 \t Validation loss: 1.9535694081904524 \t \n",
      " 23%|██▎       | 13202/57400 [37:36<1:56:49,  6.31it/s]\n",
      "Epoch 24 \t Training loss: 1.9400613399332824 \t Validation loss: 1.9691132286847648 \t \n",
      "\n",
      "1 epoch without improvement\n",
      " 24%|██▍       | 13776/57400 [39:13<1:52:32,  6.46it/s]\n",
      "Epoch 25 \t Training loss: 1.9388682630419316 \t Validation loss: 1.9611587888103421 \t \n",
      "\n",
      "2 epoch without improvement\n",
      " 25%|██▌       | 14350/57400 [40:51<1:50:17,  6.51it/s]\n",
      "Epoch 26 \t Training loss: 1.9372532573311172 \t Validation loss: 1.9533492730835738 \t \n",
      " 26%|██▌       | 14924/57400 [42:29<1:54:36,  6.18it/s]\n",
      "Epoch 27 \t Training loss: 1.9382327990249475 \t Validation loss: 1.9645982879703328 \t \n",
      "\n",
      "1 epoch without improvement\n",
      " 27%|██▋       | 15498/57400 [44:06<2:09:24,  5.40it/s]\n",
      "Epoch 28 \t Training loss: 1.9347103011732734 \t Validation loss: 1.959088576042046 \t \n",
      "\n",
      "2 epoch without improvement\n",
      " 28%|██▊       | 16072/57400 [45:43<2:00:24,  5.72it/s]\n",
      "Epoch 29 \t Training loss: 1.933248707641708 \t Validation loss: 1.9668486380981187 \t \n",
      "\n",
      "3 epoch without improvement\n",
      " 29%|██▉       | 16646/57400 [47:21<1:49:22,  6.21it/s]\n",
      "Epoch 30 \t Training loss: 1.9341171165791953 \t Validation loss: 1.9565209291749082 \t \n",
      "\n",
      "4 epoch without improvement\n",
      " 30%|███       | 17220/57400 [48:58<1:56:16,  5.76it/s]\n",
      "Epoch 31 \t Training loss: 1.9312563328792824 \t Validation loss: 1.955806897858442 \t \n",
      "\n",
      "5 epoch without improvement\n",
      " 31%|███       | 17794/57400 [50:35<1:43:49,  6.36it/s]\n",
      "Epoch 32 \t Training loss: 1.9327947310454339 \t Validation loss: 1.9574497513851876 \t \n",
      "\n",
      "6 epoch without improvement\n",
      " 32%|███▏      | 18368/57400 [52:14<1:52:40,  5.77it/s]\n",
      "Epoch 33 \t Training loss: 1.9326329916611782 \t Validation loss: 1.9646194809574191 \t \n",
      "\n",
      "7 epoch without improvement\n",
      " 33%|███▎      | 18942/57400 [53:51<1:37:57,  6.54it/s]\n",
      "Epoch 34 \t Training loss: 1.9323941406887999 \t Validation loss: 1.9658376524003887 \t \n",
      "\n",
      "8 epoch without improvement\n",
      " 34%|███▍      | 19516/57400 [55:28<1:44:14,  6.06it/s]\n",
      "Epoch 35 \t Training loss: 1.9326434181126984 \t Validation loss: 1.961264169822305 \t \n",
      "\n",
      "9 epoch without improvement\n",
      " 35%|███▌      | 20090/57400 [57:06<1:40:35,  6.18it/s]\n",
      "Epoch 36 \t Training loss: 1.9312694708229357 \t Validation loss: 1.9627008761389781 \t \n",
      "\n",
      "10 epoch without improvement\n",
      "Validation_loss hasn't improve in 10 epoch. Stopping training after 36 epochs...\n"
     ]
    },
    {
     "data": {
      "image/png": "[encoded data removed]",
      "text/plain": [
       "<Figure size 640x480 with 1 Axes>"
      ]
     },
     "metadata": {},
     "output_type": "display_data"
    }
   ],
   "source": [
    "model = mt.MultiWithDependencies(model_conf,vocab).to(device)\n",
    "optimizer = AdamW(model.parameters(), lr=learning_rate,weight_decay=0.1)\n",
    "save_path='roberta_multitask_brk_1'\n",
    "train.train_function_multi(model,num_epochs,dl_train,optimizer,early_stop = 10,dl_val = dl_val,save_path=save_path,es_threshold=0)"
   ]
  },
  {
   "cell_type": "code",
   "execution_count": 13,
   "metadata": {},
   "outputs": [
    {
     "name": "stderr",
     "output_type": "stream",
     "text": [
      "Some weights of the model checkpoint at roberta-base were not used when initializing RobertaModel: ['lm_head.dense.weight', 'lm_head.bias', 'lm_head.layer_norm.weight', 'lm_head.dense.bias', 'lm_head.layer_norm.bias', 'lm_head.decoder.weight']\n",
      "- This IS expected if you are initializing RobertaModel from the checkpoint of a model trained on another task or with another architecture (e.g. initializing a BertForSequenceClassification model from a BertForPreTraining model).\n",
      "- This IS NOT expected if you are initializing RobertaModel from the checkpoint of a model that you expect to be exactly identical (initializing a BertForSequenceClassification model from a BertForSequenceClassification model).\n"
     ]
    },
    {
     "name": "stdout",
     "output_type": "stream",
     "text": [
      "Evaluación del modelo\n",
      "{'to': {'recall': 0.7171717171717171, 'precision': 0.7171717171717171, 'f1': 0.7171717171717171, 'accuracy': 0.7171717171717171}, 'as': {'recall': 0.7222946544980443, 'precision': 0.7222946544980443, 'f1': 0.7222946544980443, 'accuracy': 0.7222946544980443}, 'about': {'recall': 0.8507653061224489, 'precision': 0.8507653061224489, 'f1': 0.8507653061224489, 'accuracy': 0.8507653061224489}} \n",
      "\n",
      "Evaluación en etiquetas male\n",
      "{'to': {'recall': 0.7445255474452555, 'precision': 0.7445255474452555, 'f1': 0.7445255474452555, 'accuracy': 0.7445255474452555}, 'as': {'recall': 0.75, 'precision': 0.75, 'f1': 0.75, 'accuracy': 0.75}, 'about': {'recall': 0.8567708333333334, 'precision': 0.8567708333333334, 'f1': 0.8567708333333334, 'accuracy': 0.8567708333333334}} \n",
      "\n",
      "Evaluación en etiquetas female\n",
      "{'to': {'recall': 0.6876640419947506, 'precision': 0.6876640419947506, 'f1': 0.6876640419947506, 'accuracy': 0.6876640419947506}, 'as': {'recall': 0.692722371967655, 'precision': 0.692722371967655, 'f1': 0.692722371967655, 'accuracy': 0.692722371967655}, 'about': {'recall': 0.845, 'precision': 0.845, 'f1': 0.845, 'accuracy': 0.845}} \n",
      "\n"
     ]
    }
   ],
   "source": [
    "model = mt.MultiWithDependencies(model_conf,vocab).to(device)\n",
    "model.load_state_dict(torch.load(save_path))\n",
    "\n",
    "print(\"Evaluación del modelo\")\n",
    "result_global = train.eval_func_multi(model,dl_eval,tasks,gender=None)\n",
    "generic.update_global_metric_multi(result_global,global_metrics,mtype='global')\n",
    "print(result_global,'\\n')\n",
    "print(\"Evaluación en etiquetas male\")\n",
    "result_global = train.eval_func_multi(model,dl_eval,tasks,gender='male')\n",
    "generic.update_global_metric_multi(result_global,global_metrics,mtype='male')\n",
    "print(result_global,'\\n')\n",
    "print(\"Evaluación en etiquetas female\")\n",
    "result_global = train.eval_func_multi(model,dl_eval,tasks,gender='female')\n",
    "generic.update_global_metric_multi(result_global,global_metrics,mtype='female')\n",
    "print(result_global,'\\n')\n"
   ]
  },
  {
   "cell_type": "code",
   "execution_count": 14,
   "metadata": {},
   "outputs": [
    {
     "name": "stderr",
     "output_type": "stream",
     "text": [
      "Some weights of the model checkpoint at roberta-base were not used when initializing RobertaModel: ['lm_head.dense.weight', 'lm_head.bias', 'lm_head.layer_norm.weight', 'lm_head.dense.bias', 'lm_head.layer_norm.bias', 'lm_head.decoder.weight']\n",
      "- This IS expected if you are initializing RobertaModel from the checkpoint of a model trained on another task or with another architecture (e.g. initializing a BertForSequenceClassification model from a BertForPreTraining model).\n",
      "- This IS NOT expected if you are initializing RobertaModel from the checkpoint of a model that you expect to be exactly identical (initializing a BertForSequenceClassification model from a BertForSequenceClassification model).\n"
     ]
    },
    {
     "data": {
      "application/vnd.jupyter.widget-view+json": {
       "model_id": "6d56acfc1e8e40479b0e887515c54e11",
       "version_major": 2,
       "version_minor": 0
      },
      "text/plain": [
       "  0%|          | 0/57400 [00:00<?, ?it/s]"
      ]
     },
     "metadata": {},
     "output_type": "display_data"
    },
    {
     "name": "stdout",
     "output_type": "stream",
     "text": [
      "Epoch 1 \t Training loss: 2.0589122205245785 \t Validation loss: 2.008188084020453 \t \n",
      "  1%|          | 574/57400 [01:36<2:28:44,  6.37it/s]\n",
      "Epoch 2 \t Training loss: 1.9944924321739517 \t Validation loss: 1.9830077583506955 \t \n",
      "  2%|▏         | 1148/57400 [03:14<2:26:10,  6.41it/s]\n",
      "Epoch 3 \t Training loss: 1.9825221131902955 \t Validation loss: 1.9900726625474834 \t \n",
      "\n",
      "1 epoch without improvement\n",
      "  3%|▎         | 1722/57400 [04:50<2:24:59,  6.40it/s]\n",
      "Epoch 4 \t Training loss: 1.9787951388010165 \t Validation loss: 1.9743511414123793 \t \n",
      "  4%|▍         | 2296/57400 [06:27<2:27:17,  6.24it/s]\n",
      "Epoch 5 \t Training loss: 1.9729408366339547 \t Validation loss: 1.9742644520129187 \t \n",
      "  5%|▌         | 2870/57400 [08:04<2:21:23,  6.43it/s]\n",
      "Epoch 6 \t Training loss: 1.969811030173551 \t Validation loss: 1.9699641829830106 \t \n",
      "  6%|▌         | 3444/57400 [09:41<2:17:48,  6.53it/s]\n",
      "Epoch 7 \t Training loss: 1.9659644840901738 \t Validation loss: 1.9683747352179835 \t \n",
      "  7%|▋         | 4018/57400 [11:19<2:26:21,  6.08it/s]\n",
      "Epoch 8 \t Training loss: 1.9628593196852282 \t Validation loss: 1.9684152057615376 \t \n",
      "\n",
      "1 epoch without improvement\n",
      "  8%|▊         | 4592/57400 [12:55<2:20:29,  6.26it/s]\n",
      "Epoch 9 \t Training loss: 1.961582136071102 \t Validation loss: 1.973333427461527 \t \n",
      "\n",
      "2 epoch without improvement\n",
      "  9%|▉         | 5166/57400 [14:33<2:17:18,  6.34it/s]\n",
      "Epoch 10 \t Training loss: 1.956457513757699 \t Validation loss: 1.9671128907446134 \t \n",
      " 10%|█         | 5740/57400 [16:11<2:11:01,  6.57it/s]\n",
      "Epoch 11 \t Training loss: 1.9581358719370507 \t Validation loss: 1.9750830096713567 \t \n",
      "\n",
      "1 epoch without improvement\n",
      " 11%|█         | 6314/57400 [17:48<2:05:26,  6.79it/s]\n",
      "Epoch 12 \t Training loss: 1.956338295953199 \t Validation loss: 1.9537398128186243 \t \n",
      " 12%|█▏        | 6888/57400 [19:25<2:11:17,  6.41it/s]\n",
      "Epoch 13 \t Training loss: 1.9522778026318302 \t Validation loss: 1.9652021961697077 \t \n",
      "\n",
      "1 epoch without improvement\n",
      " 13%|█▎        | 7462/57400 [21:03<2:17:44,  6.04it/s]\n",
      "Epoch 14 \t Training loss: 1.9516474191320068 \t Validation loss: 1.9701594477992947 \t \n",
      "\n",
      "2 epoch without improvement\n",
      " 14%|█▍        | 8036/57400 [22:40<2:19:54,  5.88it/s]\n",
      "Epoch 15 \t Training loss: 1.9503065235523396 \t Validation loss: 1.9600285998845504 \t \n",
      "\n",
      "3 epoch without improvement\n",
      " 15%|█▌        | 8610/57400 [24:16<2:04:11,  6.55it/s]\n",
      "Epoch 16 \t Training loss: 1.9500662777897373 \t Validation loss: 1.9620394625906217 \t \n",
      "\n",
      "4 epoch without improvement\n",
      " 16%|█▌        | 9184/57400 [25:53<2:03:36,  6.50it/s]\n",
      "Epoch 17 \t Training loss: 1.9484318762706132 \t Validation loss: 1.9578031442933164 \t \n",
      "\n",
      "5 epoch without improvement\n",
      " 17%|█▋        | 9758/57400 [27:30<2:28:30,  5.35it/s]\n",
      "Epoch 18 \t Training loss: 1.9456740108931936 \t Validation loss: 1.972538830870289 \t \n",
      "\n",
      "6 epoch without improvement\n",
      " 18%|█▊        | 10332/57400 [29:07<1:50:30,  7.10it/s]\n",
      "Epoch 19 \t Training loss: 1.9461649832825212 \t Validation loss: 1.9667002831475209 \t \n",
      "\n",
      "7 epoch without improvement\n",
      " 19%|█▉        | 10906/57400 [30:44<2:11:00,  5.92it/s]\n",
      "Epoch 20 \t Training loss: 1.9409642996272973 \t Validation loss: 1.9637501057931932 \t \n",
      "\n",
      "8 epoch without improvement\n",
      " 20%|██        | 11480/57400 [32:21<1:59:04,  6.43it/s]\n",
      "Epoch 21 \t Training loss: 1.9453080774184304 \t Validation loss: 1.9635481389902405 \t \n",
      "\n",
      "9 epoch without improvement\n",
      " 21%|██        | 12054/57400 [33:58<1:51:05,  6.80it/s]\n",
      "Epoch 22 \t Training loss: 1.9423844606618847 \t Validation loss: 1.9595340429726293 \t \n",
      "\n",
      "10 epoch without improvement\n",
      "Validation_loss hasn't improve in 10 epoch. Stopping training after 22 epochs...\n"
     ]
    },
    {
     "data": {
      "image/png": "[encoded data removed]",
      "text/plain": [
       "<Figure size 640x480 with 1 Axes>"
      ]
     },
     "metadata": {},
     "output_type": "display_data"
    }
   ],
   "source": [
    "model = mt.MultiWithDependencies(model_conf,vocab).to(device)\n",
    "optimizer = AdamW(model.parameters(), lr=learning_rate,weight_decay=0.1)\n",
    "save_path='roberta_multitask_brk_2'\n",
    "train.train_function_multi(model,num_epochs,dl_train,optimizer,early_stop = 10,dl_val = dl_val,save_path=save_path,es_threshold=0)"
   ]
  },
  {
   "cell_type": "code",
   "execution_count": 15,
   "metadata": {},
   "outputs": [
    {
     "name": "stderr",
     "output_type": "stream",
     "text": [
      "Some weights of the model checkpoint at roberta-base were not used when initializing RobertaModel: ['lm_head.dense.weight', 'lm_head.bias', 'lm_head.layer_norm.weight', 'lm_head.dense.bias', 'lm_head.layer_norm.bias', 'lm_head.decoder.weight']\n",
      "- This IS expected if you are initializing RobertaModel from the checkpoint of a model trained on another task or with another architecture (e.g. initializing a BertForSequenceClassification model from a BertForPreTraining model).\n",
      "- This IS NOT expected if you are initializing RobertaModel from the checkpoint of a model that you expect to be exactly identical (initializing a BertForSequenceClassification model from a BertForSequenceClassification model).\n"
     ]
    },
    {
     "name": "stdout",
     "output_type": "stream",
     "text": [
      "Evaluación del modelo\n",
      "{'to': {'recall': 0.7234848484848485, 'precision': 0.7234848484848485, 'f1': 0.7234848484848485, 'accuracy': 0.7234848484848485}, 'as': {'recall': 0.7353324641460235, 'precision': 0.7353324641460235, 'f1': 0.7353324641460234, 'accuracy': 0.7353324641460235}, 'about': {'recall': 0.8329081632653061, 'precision': 0.8329081632653061, 'f1': 0.8329081632653061, 'accuracy': 0.8329081632653061}} \n",
      "\n",
      "Evaluación en etiquetas male\n",
      "{'to': {'recall': 0.7372262773722628, 'precision': 0.7372262773722628, 'f1': 0.7372262773722628, 'accuracy': 0.7372262773722628}, 'as': {'recall': 0.7449494949494949, 'precision': 0.7449494949494949, 'f1': 0.7449494949494948, 'accuracy': 0.7449494949494949}, 'about': {'recall': 0.8463541666666666, 'precision': 0.8463541666666666, 'f1': 0.8463541666666666, 'accuracy': 0.8463541666666666}} \n",
      "\n",
      "Evaluación en etiquetas female\n",
      "{'to': {'recall': 0.7086614173228346, 'precision': 0.7086614173228346, 'f1': 0.7086614173228346, 'accuracy': 0.7086614173228346}, 'as': {'recall': 0.7250673854447439, 'precision': 0.7250673854447439, 'f1': 0.725067385444744, 'accuracy': 0.7250673854447439}, 'about': {'recall': 0.82, 'precision': 0.82, 'f1': 0.82, 'accuracy': 0.82}} \n",
      "\n"
     ]
    }
   ],
   "source": [
    "model = mt.MultiWithDependencies(model_conf,vocab).to(device)\n",
    "model.load_state_dict(torch.load(save_path))\n",
    "\n",
    "print(\"Evaluación del modelo\")\n",
    "result_global = train.eval_func_multi(model,dl_eval,tasks,gender=None)\n",
    "generic.update_global_metric_multi(result_global,global_metrics,mtype='global')\n",
    "print(result_global,'\\n')\n",
    "print(\"Evaluación en etiquetas male\")\n",
    "result_global = train.eval_func_multi(model,dl_eval,tasks,gender='male')\n",
    "generic.update_global_metric_multi(result_global,global_metrics,mtype='male')\n",
    "print(result_global,'\\n')\n",
    "print(\"Evaluación en etiquetas female\")\n",
    "result_global = train.eval_func_multi(model,dl_eval,tasks,gender='female')\n",
    "generic.update_global_metric_multi(result_global,global_metrics,mtype='female')\n",
    "print(result_global,'\\n')\n"
   ]
  },
  {
   "cell_type": "code",
   "execution_count": 16,
   "metadata": {},
   "outputs": [
    {
     "name": "stderr",
     "output_type": "stream",
     "text": [
      "Some weights of the model checkpoint at roberta-base were not used when initializing RobertaModel: ['lm_head.dense.weight', 'lm_head.bias', 'lm_head.layer_norm.weight', 'lm_head.dense.bias', 'lm_head.layer_norm.bias', 'lm_head.decoder.weight']\n",
      "- This IS expected if you are initializing RobertaModel from the checkpoint of a model trained on another task or with another architecture (e.g. initializing a BertForSequenceClassification model from a BertForPreTraining model).\n",
      "- This IS NOT expected if you are initializing RobertaModel from the checkpoint of a model that you expect to be exactly identical (initializing a BertForSequenceClassification model from a BertForSequenceClassification model).\n"
     ]
    },
    {
     "data": {
      "application/vnd.jupyter.widget-view+json": {
       "model_id": "71c3c5adcc364d0ab67a1a898b1762ab",
       "version_major": 2,
       "version_minor": 0
      },
      "text/plain": [
       "  0%|          | 0/57400 [00:00<?, ?it/s]"
      ]
     },
     "metadata": {},
     "output_type": "display_data"
    },
    {
     "name": "stdout",
     "output_type": "stream",
     "text": [
      "Epoch 1 \t Training loss: 2.056660860465379 \t Validation loss: 1.9916214478217948 \t \n",
      "  1%|          | 574/57400 [01:37<2:43:12,  5.80it/s]\n",
      "Epoch 2 \t Training loss: 1.9904094822315388 \t Validation loss: 1.9871715771949898 \t \n",
      "  2%|▏         | 1148/57400 [03:15<2:28:50,  6.30it/s]\n",
      "Epoch 3 \t Training loss: 1.9787494708436706 \t Validation loss: 1.9780403456445468 \t \n",
      "  3%|▎         | 1722/57400 [04:52<2:37:15,  5.90it/s]\n",
      "Epoch 4 \t Training loss: 1.9738073382228094 \t Validation loss: 1.9743553177785065 \t \n",
      "  4%|▍         | 2296/57400 [06:28<2:19:22,  6.59it/s]\n",
      "Epoch 5 \t Training loss: 1.9714429930942814 \t Validation loss: 1.9696735891245178 \t \n",
      "  5%|▌         | 2870/57400 [08:05<2:12:43,  6.85it/s]\n",
      "Epoch 6 \t Training loss: 1.969180274300459 \t Validation loss: 1.9703383728609247 \t \n",
      "\n",
      "1 epoch without improvement\n",
      "  6%|▌         | 3444/57400 [09:42<2:23:15,  6.28it/s]\n",
      "Epoch 7 \t Training loss: 1.964894138146776 \t Validation loss: 1.9659920425738318 \t \n",
      "  7%|▋         | 4018/57400 [11:19<2:43:25,  5.44it/s]\n",
      "Epoch 8 \t Training loss: 1.9614760722017455 \t Validation loss: 1.9661779686556025 \t \n",
      "\n",
      "1 epoch without improvement\n",
      "  8%|▊         | 4592/57400 [12:55<2:15:09,  6.51it/s]\n",
      "Epoch 9 \t Training loss: 1.9573395005086573 \t Validation loss: 1.9723672988051075 \t \n",
      "\n",
      "2 epoch without improvement\n",
      "  9%|▉         | 5166/57400 [14:31<2:18:12,  6.30it/s]\n",
      "Epoch 10 \t Training loss: 1.9573641332184397 \t Validation loss: 1.9588361857301098 \t \n",
      " 10%|█         | 5740/57400 [16:09<2:20:48,  6.11it/s]\n",
      "Epoch 11 \t Training loss: 1.955334127156992 \t Validation loss: 1.9609827591201006 \t \n",
      "\n",
      "1 epoch without improvement\n",
      " 11%|█         | 6314/57400 [17:45<2:23:59,  5.91it/s]\n",
      "Epoch 12 \t Training loss: 1.9539166522773717 \t Validation loss: 1.9626870013899722 \t \n",
      "\n",
      "2 epoch without improvement\n",
      " 12%|█▏        | 6888/57400 [19:22<2:18:10,  6.09it/s]\n",
      "Epoch 13 \t Training loss: 1.951052130099373 \t Validation loss: 1.9571439633935184 \t \n",
      " 13%|█▎        | 7462/57400 [20:59<2:08:38,  6.47it/s]\n",
      "Epoch 14 \t Training loss: 1.9498070108765924 \t Validation loss: 1.9662344698178567 \t \n",
      "\n",
      "1 epoch without improvement\n",
      " 14%|█▍        | 8036/57400 [22:36<1:59:56,  6.86it/s]\n",
      "Epoch 15 \t Training loss: 1.9485687345577865 \t Validation loss: 1.9726449897733784 \t \n",
      "\n",
      "2 epoch without improvement\n",
      " 15%|█▌        | 8610/57400 [24:12<2:09:16,  6.29it/s]\n",
      "Epoch 16 \t Training loss: 1.9482442522713532 \t Validation loss: 1.9643227508512593 \t \n",
      "\n",
      "3 epoch without improvement\n",
      " 16%|█▌        | 9184/57400 [25:49<2:15:32,  5.93it/s]\n",
      "Epoch 17 \t Training loss: 1.9454087872538417 \t Validation loss: 1.9580938937300343 \t \n",
      "\n",
      "4 epoch without improvement\n",
      " 17%|█▋        | 9758/57400 [27:26<2:00:46,  6.57it/s]\n",
      "Epoch 18 \t Training loss: 1.944117994258628 \t Validation loss: 1.965161677134239 \t \n",
      "\n",
      "5 epoch without improvement\n",
      " 18%|█▊        | 10332/57400 [29:03<2:04:08,  6.32it/s]\n",
      "Epoch 19 \t Training loss: 1.9423210880482238 \t Validation loss: 1.96551548222364 \t \n",
      "\n",
      "6 epoch without improvement\n",
      " 19%|█▉        | 10906/57400 [30:40<1:58:21,  6.55it/s]\n",
      "Epoch 20 \t Training loss: 1.944496517812749 \t Validation loss: 1.9531640016426475 \t \n",
      " 20%|██        | 11480/57400 [32:18<2:11:35,  5.82it/s]\n",
      "Epoch 21 \t Training loss: 1.93935071612069 \t Validation loss: 1.9687658750404746 \t \n",
      "\n",
      "1 epoch without improvement\n",
      " 21%|██        | 12054/57400 [33:55<1:57:06,  6.45it/s]\n",
      "Epoch 22 \t Training loss: 1.940123766972213 \t Validation loss: 1.9637172626236739 \t \n",
      "\n",
      "2 epoch without improvement\n",
      " 22%|██▏       | 12628/57400 [35:33<1:59:14,  6.26it/s]\n",
      "Epoch 23 \t Training loss: 1.9397360823711036 \t Validation loss: 1.9631203150345107 \t \n",
      "\n",
      "3 epoch without improvement\n",
      " 23%|██▎       | 13202/57400 [37:10<1:55:54,  6.36it/s]\n",
      "Epoch 24 \t Training loss: 1.9362804395396536 \t Validation loss: 1.9631605512004788 \t \n",
      "\n",
      "4 epoch without improvement\n",
      " 24%|██▍       | 13776/57400 [38:47<1:58:54,  6.11it/s]\n",
      "Epoch 25 \t Training loss: 1.937389566715586 \t Validation loss: 1.9611124184172033 \t \n",
      "\n",
      "5 epoch without improvement\n",
      " 25%|██▌       | 14350/57400 [40:24<1:41:07,  7.10it/s]\n",
      "Epoch 26 \t Training loss: 1.9391963999030482 \t Validation loss: 1.9606940847332195 \t \n",
      "\n",
      "6 epoch without improvement\n",
      " 26%|██▌       | 14924/57400 [42:01<2:04:23,  5.69it/s]\n",
      "Epoch 27 \t Training loss: 1.9351942495601933 \t Validation loss: 1.9610138828471555 \t \n",
      "\n",
      "7 epoch without improvement\n",
      " 27%|██▋       | 15498/57400 [43:37<1:38:03,  7.12it/s]\n",
      "Epoch 28 \t Training loss: 1.9344161674120701 \t Validation loss: 1.9598321611598386 \t \n",
      "\n",
      "8 epoch without improvement\n",
      " 28%|██▊       | 16072/57400 [45:15<1:44:09,  6.61it/s]\n",
      "Epoch 29 \t Training loss: 1.932447071897859 \t Validation loss: 1.9646264193421703 \t \n",
      "\n",
      "9 epoch without improvement\n",
      " 29%|██▉       | 16646/57400 [46:52<2:05:21,  5.42it/s]\n",
      "Epoch 30 \t Training loss: 1.9337743140679202 \t Validation loss: 1.9586219282473547 \t \n",
      "\n",
      "10 epoch without improvement\n",
      "Validation_loss hasn't improve in 10 epoch. Stopping training after 30 epochs...\n"
     ]
    },
    {
     "data": {
      "image/png": "[encoded data removed]",
      "text/plain": [
       "<Figure size 640x480 with 1 Axes>"
      ]
     },
     "metadata": {},
     "output_type": "display_data"
    }
   ],
   "source": [
    "model = mt.MultiWithDependencies(model_conf,vocab).to(device)\n",
    "optimizer = AdamW(model.parameters(), lr=learning_rate,weight_decay=0.1)\n",
    "save_path='roberta_multitask_brk_3'\n",
    "train.train_function_multi(model,num_epochs,dl_train,optimizer,early_stop = 10,dl_val = dl_val,save_path=save_path,es_threshold=0)"
   ]
  },
  {
   "cell_type": "code",
   "execution_count": 17,
   "metadata": {},
   "outputs": [
    {
     "name": "stderr",
     "output_type": "stream",
     "text": [
      "Some weights of the model checkpoint at roberta-base were not used when initializing RobertaModel: ['lm_head.dense.weight', 'lm_head.bias', 'lm_head.layer_norm.weight', 'lm_head.dense.bias', 'lm_head.layer_norm.bias', 'lm_head.decoder.weight']\n",
      "- This IS expected if you are initializing RobertaModel from the checkpoint of a model trained on another task or with another architecture (e.g. initializing a BertForSequenceClassification model from a BertForPreTraining model).\n",
      "- This IS NOT expected if you are initializing RobertaModel from the checkpoint of a model that you expect to be exactly identical (initializing a BertForSequenceClassification model from a BertForSequenceClassification model).\n"
     ]
    },
    {
     "name": "stdout",
     "output_type": "stream",
     "text": [
      "Evaluación del modelo\n",
      "{'to': {'recall': 0.7209595959595959, 'precision': 0.7209595959595959, 'f1': 0.7209595959595958, 'accuracy': 0.7209595959595959}, 'as': {'recall': 0.7314211212516297, 'precision': 0.7314211212516297, 'f1': 0.7314211212516297, 'accuracy': 0.7314211212516297}, 'about': {'recall': 0.8520408163265306, 'precision': 0.8520408163265306, 'f1': 0.8520408163265306, 'accuracy': 0.8520408163265306}} \n",
      "\n",
      "Evaluación en etiquetas male\n",
      "{'to': {'recall': 0.7299270072992701, 'precision': 0.7299270072992701, 'f1': 0.72992700729927, 'accuracy': 0.7299270072992701}, 'as': {'recall': 0.7449494949494949, 'precision': 0.7449494949494949, 'f1': 0.7449494949494948, 'accuracy': 0.7449494949494949}, 'about': {'recall': 0.8463541666666666, 'precision': 0.8463541666666666, 'f1': 0.8463541666666666, 'accuracy': 0.8463541666666666}} \n",
      "\n",
      "Evaluación en etiquetas female\n",
      "{'to': {'recall': 0.7112860892388452, 'precision': 0.7112860892388452, 'f1': 0.7112860892388452, 'accuracy': 0.7112860892388452}, 'as': {'recall': 0.7169811320754716, 'precision': 0.7169811320754716, 'f1': 0.7169811320754716, 'accuracy': 0.7169811320754716}, 'about': {'recall': 0.8575, 'precision': 0.8575, 'f1': 0.8575, 'accuracy': 0.8575}} \n",
      "\n"
     ]
    }
   ],
   "source": [
    "model = mt.MultiWithDependencies(model_conf,vocab).to(device)\n",
    "model.load_state_dict(torch.load(save_path))\n",
    "\n",
    "print(\"Evaluación del modelo\")\n",
    "result_global = train.eval_func_multi(model,dl_eval,tasks,gender=None)\n",
    "generic.update_global_metric_multi(result_global,global_metrics,mtype='global')\n",
    "print(result_global,'\\n')\n",
    "print(\"Evaluación en etiquetas male\")\n",
    "result_global = train.eval_func_multi(model,dl_eval,tasks,gender='male')\n",
    "generic.update_global_metric_multi(result_global,global_metrics,mtype='male')\n",
    "print(result_global,'\\n')\n",
    "print(\"Evaluación en etiquetas female\")\n",
    "result_global = train.eval_func_multi(model,dl_eval,tasks,gender='female')\n",
    "generic.update_global_metric_multi(result_global,global_metrics,mtype='female')\n",
    "print(result_global,'\\n')\n"
   ]
  },
  {
   "cell_type": "code",
   "execution_count": 18,
   "metadata": {},
   "outputs": [
    {
     "name": "stdout",
     "output_type": "stream",
     "text": [
      "Métricas globales: \n",
      "\n",
      "\n",
      " about\n",
      "Resultado global: {'recall': 0.8452380952380952, 'precision': 0.8452380952380952, 'f1': 0.8452380952380952, 'accuracy': 0.8452380952380952}\n",
      "Métricas etiqueta male: {'recall': 0.8498263888888888, 'precision': 0.8498263888888888, 'f1': 0.8498263888888888, 'accuracy': 0.8498263888888888}\n",
      "Métricas etiqueta female:  {'recall': 0.8408333333333333, 'precision': 0.8408333333333333, 'f1': 0.8408333333333333, 'accuracy': 0.8408333333333333}\n",
      "\n",
      " to\n",
      "Resultado global: {'recall': 0.7205387205387205, 'precision': 0.7205387205387205, 'f1': 0.7205387205387205, 'accuracy': 0.7205387205387205}\n",
      "Métricas etiqueta male: {'recall': 0.7372262773722628, 'precision': 0.7372262773722628, 'f1': 0.7372262773722628, 'accuracy': 0.7372262773722628}\n",
      "Métricas etiqueta female:  {'recall': 0.7025371828521435, 'precision': 0.7025371828521435, 'f1': 0.7025371828521435, 'accuracy': 0.7025371828521435}\n",
      "\n",
      " as\n",
      "Resultado global: {'recall': 0.7296827466318991, 'precision': 0.7296827466318991, 'f1': 0.7296827466318991, 'accuracy': 0.7296827466318991}\n",
      "Métricas etiqueta male: {'recall': 0.7466329966329966, 'precision': 0.7466329966329966, 'f1': 0.7466329966329965, 'accuracy': 0.7466329966329966}\n",
      "Métricas etiqueta female:  {'recall': 0.7115902964959568, 'precision': 0.7115902964959568, 'f1': 0.7115902964959568, 'accuracy': 0.7115902964959568}\n"
     ]
    }
   ],
   "source": [
    "\n",
    "print('Métricas globales: \\n')\n",
    "\n",
    "for task in ['about','to','as']:\n",
    "    print('\\n',task)\n",
    "    print('Resultado global:',{m:mean(values) for m,values in global_metrics[task]['global'].items()})\n",
    "    print(f'Métricas etiqueta male:',{m:mean(values) for m,values in global_metrics[task]['male'].items()})\n",
    "    print('Métricas etiqueta female: ',{m:mean(values) for m,values in global_metrics[task]['female'].items()})\n"
   ]
  }
 ],
 "metadata": {
  "kernelspec": {
   "display_name": "tfg",
   "language": "python",
   "name": "python3"
  },
  "language_info": {
   "codemirror_mode": {
    "name": "ipython",
    "version": 3
   },
   "file_extension": ".py",
   "mimetype": "text/x-python",
   "name": "python",
   "nbconvert_exporter": "python",
   "pygments_lexer": "ipython3",
   "version": "3.9.13"
  },
  "orig_nbformat": 4,
  "vscode": {
   "interpreter": {
    "hash": "35e8332e99bdf485583869dfbdef293dcf2f9293b1663ec5daea0a573af457c3"
   }
  }
 },
 "nbformat": 4,
 "nbformat_minor": 2
}
