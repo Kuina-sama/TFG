{
 "cells": [
  {
   "cell_type": "code",
   "execution_count": 1,
   "metadata": {},
   "outputs": [],
   "source": [
    "import torch\n",
    "from torch.utils.data import DataLoader\n",
    "from torch.optim import SGD ,AdamW\n",
    "\n",
    "from datasets import load_dataset, load_metric\n",
    "\n",
    "import matplotlib.pyplot as plt\n",
    "\n",
    "import json\n",
    "from statistics import mean"
   ]
  },
  {
   "cell_type": "code",
   "execution_count": 2,
   "metadata": {},
   "outputs": [],
   "source": [
    "import utils_generic as generic\n",
    "import multitask_dep as mt\n",
    "import model_confs as confs\n",
    "import train"
   ]
  },
  {
   "cell_type": "code",
   "execution_count": 3,
   "metadata": {},
   "outputs": [],
   "source": [
    "device = torch.device(\"cuda\") if torch.cuda.is_available() else torch.device(\"cpu\")\n",
    "tasks = ['to','as','about']"
   ]
  },
  {
   "cell_type": "code",
   "execution_count": 4,
   "metadata": {},
   "outputs": [],
   "source": [
    "model_conf = confs.roberta_conf\n",
    "encoding_type = 'pos'"
   ]
  },
  {
   "attachments": {},
   "cell_type": "markdown",
   "metadata": {},
   "source": [
    "# Datos ConvAI"
   ]
  },
  {
   "cell_type": "code",
   "execution_count": 5,
   "metadata": {},
   "outputs": [],
   "source": [
    "with open('Datasets\\ConvAI2\\convai2_complete.json','r') as f:\n",
    "    data = json.load(f)"
   ]
  },
  {
   "cell_type": "code",
   "execution_count": 6,
   "metadata": {},
   "outputs": [],
   "source": [
    "vocab = mt.Vocabulary(data['train'],encoding_type)\n",
    "\n",
    "convai_train = data['train']\n",
    "convai_val = data['validation']\n",
    "\n",
    "\n",
    "\n",
    "convai_train_token = generic.tokenize_dataset_with_dependencies(convai_train,['about','to','as'],vocab,model_conf) \n",
    "convai_val_token = generic.tokenize_dataset_with_dependencies(convai_val,['about','to','as'],vocab,model_conf) "
   ]
  },
  {
   "cell_type": "code",
   "execution_count": 7,
   "metadata": {},
   "outputs": [],
   "source": [
    "convai_train_dataset = mt.DatasetMultitaskDep(convai_train_token,tasks,eval=False)\n",
    "convai_val_dataset = mt.DatasetMultitaskDep(convai_val_token,tasks,eval=False)"
   ]
  },
  {
   "attachments": {},
   "cell_type": "markdown",
   "metadata": {},
   "source": [
    "# Datos md_gender"
   ]
  },
  {
   "cell_type": "code",
   "execution_count": 8,
   "metadata": {},
   "outputs": [],
   "source": [
    "with open('Datasets\\md_gender\\md_complete.json','r',encoding=\"utf8\") as f:\n",
    "    md_data = json.load(f)"
   ]
  },
  {
   "cell_type": "code",
   "execution_count": 9,
   "metadata": {},
   "outputs": [],
   "source": [
    "md_tokenized = generic.tokenize_dataset_with_dependencies(md_data,['about','to','as'],vocab,model_conf) \n",
    "md_dataset = mt.DatasetMultitaskDep(md_tokenized,tasks,eval=True)"
   ]
  },
  {
   "attachments": {},
   "cell_type": "markdown",
   "metadata": {},
   "source": [
    "# Creación dataloaders"
   ]
  },
  {
   "cell_type": "code",
   "execution_count": 10,
   "metadata": {},
   "outputs": [],
   "source": [
    "dl_train =DataLoader(convai_train_dataset,batch_size=128,shuffle=True,collate_fn=mt.collate_fn)\n",
    "dl_val =DataLoader(convai_val_dataset,batch_size=128,shuffle=True,collate_fn=mt.collate_fn)\n",
    "dl_eval = DataLoader(md_dataset,batch_size=128,shuffle=False,collate_fn=mt.collate_fn)"
   ]
  },
  {
   "attachments": {},
   "cell_type": "markdown",
   "metadata": {},
   "source": [
    "# Modelo multitask"
   ]
  },
  {
   "cell_type": "code",
   "execution_count": 11,
   "metadata": {},
   "outputs": [],
   "source": [
    "num_epochs = 100\n",
    "learning_rate = 1e-6\n",
    "\n",
    "global_metrics = {'about':{'global':{'recall': [], 'precision': [],'f1': [], 'accuracy': []},\n",
    "                            'male':{'recall': [], 'precision': [],'f1': [], 'accuracy': []},\n",
    "                            'female':{'recall': [], 'precision': [],'f1': [], 'accuracy': []}},\n",
    "                    'as':{'global':{'recall': [], 'precision': [],'f1': [], 'accuracy': []},\n",
    "                            'male':{'recall': [], 'precision': [],'f1': [], 'accuracy': []},\n",
    "                            'female':{'recall': [], 'precision': [],'f1': [], 'accuracy': []}},\n",
    "                    'to':{'global':{'recall': [], 'precision': [],'f1': [], 'accuracy': []},\n",
    "                            'male':{'recall': [], 'precision': [],'f1': [], 'accuracy': []},\n",
    "                            'female':{'recall': [], 'precision': [],'f1': [], 'accuracy': []}}}"
   ]
  },
  {
   "cell_type": "code",
   "execution_count": 12,
   "metadata": {},
   "outputs": [
    {
     "name": "stderr",
     "output_type": "stream",
     "text": [
      "Some weights of the model checkpoint at roberta-base were not used when initializing RobertaModel: ['lm_head.dense.weight', 'lm_head.dense.bias', 'lm_head.layer_norm.weight', 'lm_head.layer_norm.bias', 'lm_head.decoder.weight', 'lm_head.bias']\n",
      "- This IS expected if you are initializing RobertaModel from the checkpoint of a model trained on another task or with another architecture (e.g. initializing a BertForSequenceClassification model from a BertForPreTraining model).\n",
      "- This IS NOT expected if you are initializing RobertaModel from the checkpoint of a model that you expect to be exactly identical (initializing a BertForSequenceClassification model from a BertForSequenceClassification model).\n"
     ]
    },
    {
     "data": {
      "application/vnd.jupyter.widget-view+json": {
       "model_id": "3886e4da398f4903a6731ae093b46356",
       "version_major": 2,
       "version_minor": 0
      },
      "text/plain": [
       "  0%|          | 0/57400 [00:00<?, ?it/s]"
      ]
     },
     "metadata": {},
     "output_type": "display_data"
    },
    {
     "name": "stdout",
     "output_type": "stream",
     "text": [
      "Epoch 1 \t Training loss: 2.056532934152291 \t Validation loss: 1.9957204450995236 \t \n",
      "  1%|          | 574/57400 [01:41<2:31:08,  6.27it/s]\n",
      "Epoch 2 \t Training loss: 1.9950191638195556 \t Validation loss: 1.9788553755162126 \t \n",
      "  2%|▏         | 1148/57400 [03:24<2:33:12,  6.12it/s]\n",
      "Epoch 3 \t Training loss: 1.9858330770652053 \t Validation loss: 1.9733183000047327 \t \n",
      "  3%|▎         | 1722/57400 [05:05<2:41:12,  5.76it/s]\n",
      "Epoch 4 \t Training loss: 1.9821403153266641 \t Validation loss: 1.9743073895826178 \t \n",
      "\n",
      "1 epoch without improvement\n",
      "  4%|▍         | 2296/57400 [06:47<2:32:17,  6.03it/s]\n",
      "Epoch 5 \t Training loss: 1.9761684848456433 \t Validation loss: 1.972072524539495 \t \n",
      "  5%|▌         | 2870/57400 [08:30<2:27:48,  6.15it/s]\n",
      "Epoch 6 \t Training loss: 1.9714031192483803 \t Validation loss: 1.9615627587851832 \t \n",
      "  6%|▌         | 3444/57400 [10:10<2:26:17,  6.15it/s]\n",
      "Epoch 7 \t Training loss: 1.9694765818659021 \t Validation loss: 1.9655938087883642 \t \n",
      "\n",
      "1 epoch without improvement\n",
      "  7%|▋         | 4018/57400 [11:49<2:27:48,  6.02it/s]\n",
      "Epoch 8 \t Training loss: 1.9646616019438368 \t Validation loss: 1.9682071572643216 \t \n",
      "\n",
      "2 epoch without improvement\n",
      "  8%|▊         | 4592/57400 [13:29<2:25:20,  6.06it/s]\n",
      "Epoch 9 \t Training loss: 1.962327714165744 \t Validation loss: 1.9690622677237302 \t \n",
      "\n",
      "3 epoch without improvement\n",
      "  9%|▉         | 5166/57400 [15:09<2:10:18,  6.68it/s]\n",
      "Epoch 10 \t Training loss: 1.9589754403260526 \t Validation loss: 1.9695460493281736 \t \n",
      "\n",
      "4 epoch without improvement\n",
      " 10%|█         | 5740/57400 [16:46<2:21:19,  6.09it/s]\n",
      "Epoch 11 \t Training loss: 1.956746622245071 \t Validation loss: 1.969789864653248 \t \n",
      "\n",
      "5 epoch without improvement\n",
      " 11%|█         | 6314/57400 [18:24<2:56:43,  4.82it/s]\n",
      "Epoch 12 \t Training loss: 1.9549810427406524 \t Validation loss: 1.9691531637967643 \t \n",
      "\n",
      "6 epoch without improvement\n",
      " 12%|█▏        | 6888/57400 [20:02<2:16:59,  6.15it/s]\n",
      "Epoch 13 \t Training loss: 1.9541401557806062 \t Validation loss: 1.9662759869785633 \t \n",
      "\n",
      "7 epoch without improvement\n",
      " 13%|█▎        | 7462/57400 [21:41<2:20:27,  5.93it/s]\n",
      "Epoch 14 \t Training loss: 1.9553708029125625 \t Validation loss: 1.9607472035844447 \t \n",
      " 14%|█▍        | 8036/57400 [23:20<2:06:47,  6.49it/s]\n",
      "Epoch 15 \t Training loss: 1.9549694383185916 \t Validation loss: 1.9654139906673107 \t \n",
      "\n",
      "1 epoch without improvement\n",
      " 15%|█▌        | 8610/57400 [24:58<2:24:00,  5.65it/s]\n",
      "Epoch 16 \t Training loss: 1.9498873936590002 \t Validation loss: 1.9738721019130643 \t \n",
      "\n",
      "2 epoch without improvement\n",
      " 16%|█▌        | 9184/57400 [26:36<2:04:34,  6.45it/s]\n",
      "Epoch 17 \t Training loss: 1.9488464201368936 \t Validation loss: 1.9576021372261694 \t \n",
      " 17%|█▋        | 9758/57400 [28:14<2:06:34,  6.27it/s]\n",
      "Epoch 18 \t Training loss: 1.9472568267729224 \t Validation loss: 1.959543713068558 \t \n",
      "\n",
      "1 epoch without improvement\n",
      " 18%|█▊        | 10332/57400 [29:51<2:09:22,  6.06it/s]\n",
      "Epoch 19 \t Training loss: 1.9477964259606204 \t Validation loss: 1.9648022247573076 \t \n",
      "\n",
      "2 epoch without improvement\n",
      " 19%|█▉        | 10906/57400 [31:29<2:17:07,  5.65it/s]\n",
      "Epoch 20 \t Training loss: 1.9452744014171772 \t Validation loss: 1.9588216421967846 \t \n",
      "\n",
      "3 epoch without improvement\n",
      " 20%|██        | 11480/57400 [33:06<1:58:16,  6.47it/s]\n",
      "Epoch 21 \t Training loss: 1.9427299568046676 \t Validation loss: 1.9636045169022123 \t \n",
      "\n",
      "4 epoch without improvement\n",
      " 21%|██        | 12054/57400 [34:43<2:06:15,  5.99it/s]\n",
      "Epoch 22 \t Training loss: 1.9457847054411725 \t Validation loss: 1.962681980456336 \t \n",
      "\n",
      "5 epoch without improvement\n",
      " 22%|██▏       | 12628/57400 [36:21<1:52:46,  6.62it/s]\n",
      "Epoch 23 \t Training loss: 1.939759839910248 \t Validation loss: 1.961982595718513 \t \n",
      "\n",
      "6 epoch without improvement\n",
      " 23%|██▎       | 13202/57400 [37:58<1:57:47,  6.25it/s]\n",
      "Epoch 24 \t Training loss: 1.9418883736955994 \t Validation loss: 1.9661806336903975 \t \n",
      "\n",
      "7 epoch without improvement\n",
      " 24%|██▍       | 13776/57400 [39:36<1:52:16,  6.48it/s]\n",
      "Epoch 25 \t Training loss: 1.9394483026311788 \t Validation loss: 1.9630263740733518 \t \n",
      "\n",
      "8 epoch without improvement\n",
      " 25%|██▌       | 14350/57400 [41:14<1:47:37,  6.67it/s]\n",
      "Epoch 26 \t Training loss: 1.9411487446429423 \t Validation loss: 1.9635607670929471 \t \n",
      "\n",
      "9 epoch without improvement\n",
      " 26%|██▌       | 14924/57400 [42:52<2:01:13,  5.84it/s]\n",
      "Epoch 27 \t Training loss: 1.9379080887040194 \t Validation loss: 1.9669729349976879 \t \n",
      "\n",
      "10 epoch without improvement\n",
      "Validation_loss hasn't improve in 10 epoch. Stopping training after 27 epochs...\n"
     ]
    },
    {
     "data": {
      "image/png": "[encoded data removed]",
      "text/plain": [
       "<Figure size 640x480 with 1 Axes>"
      ]
     },
     "metadata": {},
     "output_type": "display_data"
    }
   ],
   "source": [
    "model = mt.MultiWithDependencies(model_conf,vocab).to(device)\n",
    "optimizer = AdamW(model.parameters(), lr=learning_rate,weight_decay=0.1)\n",
    "save_path='roberta_multitask_pos_1'\n",
    "train.train_function_multi(model,num_epochs,dl_train,optimizer,early_stop = 10,dl_val = dl_val,save_path=save_path,es_threshold=0)"
   ]
  },
  {
   "cell_type": "code",
   "execution_count": 13,
   "metadata": {},
   "outputs": [
    {
     "name": "stderr",
     "output_type": "stream",
     "text": [
      "Some weights of the model checkpoint at roberta-base were not used when initializing RobertaModel: ['lm_head.dense.weight', 'lm_head.dense.bias', 'lm_head.layer_norm.weight', 'lm_head.layer_norm.bias', 'lm_head.decoder.weight', 'lm_head.bias']\n",
      "- This IS expected if you are initializing RobertaModel from the checkpoint of a model trained on another task or with another architecture (e.g. initializing a BertForSequenceClassification model from a BertForPreTraining model).\n",
      "- This IS NOT expected if you are initializing RobertaModel from the checkpoint of a model that you expect to be exactly identical (initializing a BertForSequenceClassification model from a BertForSequenceClassification model).\n"
     ]
    },
    {
     "name": "stdout",
     "output_type": "stream",
     "text": [
      "Evaluación del modelo\n",
      "{'to': {'recall': 0.7121212121212122, 'precision': 0.7121212121212122, 'f1': 0.7121212121212122, 'accuracy': 0.7121212121212122}, 'as': {'recall': 0.7314211212516297, 'precision': 0.7314211212516297, 'f1': 0.7314211212516297, 'accuracy': 0.7314211212516297}, 'about': {'recall': 0.8405612244897959, 'precision': 0.8405612244897959, 'f1': 0.8405612244897959, 'accuracy': 0.8405612244897959}} \n",
      "\n",
      "Evaluación en etiquetas male\n",
      "{'to': {'recall': 0.7177615571776156, 'precision': 0.7177615571776156, 'f1': 0.7177615571776156, 'accuracy': 0.7177615571776156}, 'as': {'recall': 0.7272727272727273, 'precision': 0.7272727272727273, 'f1': 0.7272727272727273, 'accuracy': 0.7272727272727273}, 'about': {'recall': 0.8411458333333334, 'precision': 0.8411458333333334, 'f1': 0.8411458333333333, 'accuracy': 0.8411458333333334}} \n",
      "\n",
      "Evaluación en etiquetas female\n",
      "{'to': {'recall': 0.7060367454068242, 'precision': 0.7060367454068242, 'f1': 0.7060367454068242, 'accuracy': 0.7060367454068242}, 'as': {'recall': 0.7358490566037735, 'precision': 0.7358490566037735, 'f1': 0.7358490566037735, 'accuracy': 0.7358490566037735}, 'about': {'recall': 0.84, 'precision': 0.84, 'f1': 0.8399999999999999, 'accuracy': 0.84}} \n",
      "\n"
     ]
    }
   ],
   "source": [
    "model = mt.MultiWithDependencies(model_conf,vocab).to(device)\n",
    "model.load_state_dict(torch.load(save_path))\n",
    "\n",
    "print(\"Evaluación del modelo\")\n",
    "result_global = train.eval_func_multi(model,dl_eval,tasks,gender=None)\n",
    "generic.update_global_metric_multi(result_global,global_metrics,mtype='global')\n",
    "print(result_global,'\\n')\n",
    "print(\"Evaluación en etiquetas male\")\n",
    "result_global = train.eval_func_multi(model,dl_eval,tasks,gender='male')\n",
    "generic.update_global_metric_multi(result_global,global_metrics,mtype='male')\n",
    "print(result_global,'\\n')\n",
    "print(\"Evaluación en etiquetas female\")\n",
    "result_global = train.eval_func_multi(model,dl_eval,tasks,gender='female')\n",
    "generic.update_global_metric_multi(result_global,global_metrics,mtype='female')\n",
    "print(result_global,'\\n')\n"
   ]
  },
  {
   "cell_type": "code",
   "execution_count": 14,
   "metadata": {},
   "outputs": [
    {
     "name": "stderr",
     "output_type": "stream",
     "text": [
      "Some weights of the model checkpoint at roberta-base were not used when initializing RobertaModel: ['lm_head.dense.weight', 'lm_head.dense.bias', 'lm_head.layer_norm.weight', 'lm_head.layer_norm.bias', 'lm_head.decoder.weight', 'lm_head.bias']\n",
      "- This IS expected if you are initializing RobertaModel from the checkpoint of a model trained on another task or with another architecture (e.g. initializing a BertForSequenceClassification model from a BertForPreTraining model).\n",
      "- This IS NOT expected if you are initializing RobertaModel from the checkpoint of a model that you expect to be exactly identical (initializing a BertForSequenceClassification model from a BertForSequenceClassification model).\n"
     ]
    },
    {
     "data": {
      "application/vnd.jupyter.widget-view+json": {
       "model_id": "8e77a389123d44ad89720b72fab2eee2",
       "version_major": 2,
       "version_minor": 0
      },
      "text/plain": [
       "  0%|          | 0/57400 [00:00<?, ?it/s]"
      ]
     },
     "metadata": {},
     "output_type": "display_data"
    },
    {
     "name": "stdout",
     "output_type": "stream",
     "text": [
      "Epoch 1 \t Training loss: 2.0400553432906547 \t Validation loss: 2.0039500119322438 \t \n",
      "  1%|          | 574/57400 [01:38<2:31:57,  6.23it/s]\n",
      "Epoch 2 \t Training loss: 1.9908950895797917 \t Validation loss: 1.9784882614168071 \t \n",
      "  2%|▏         | 1148/57400 [03:17<2:31:49,  6.17it/s]\n",
      "Epoch 3 \t Training loss: 1.9831244891528883 \t Validation loss: 1.9726425954851055 \t \n",
      "  3%|▎         | 1722/57400 [04:55<2:32:58,  6.07it/s]\n",
      "Epoch 4 \t Training loss: 1.9744990584326954 \t Validation loss: 1.9730078668917639 \t \n",
      "\n",
      "1 epoch without improvement\n",
      "  4%|▍         | 2296/57400 [06:33<2:18:18,  6.64it/s]\n",
      "Epoch 5 \t Training loss: 1.9723768792916674 \t Validation loss: 1.97462615320238 \t \n",
      "\n",
      "2 epoch without improvement\n",
      "  5%|▌         | 2870/57400 [08:10<2:18:23,  6.57it/s]\n",
      "Epoch 6 \t Training loss: 1.969285010460777 \t Validation loss: 1.973778989355443 \t \n",
      "\n",
      "3 epoch without improvement\n",
      "  6%|▌         | 3444/57400 [09:49<2:12:21,  6.79it/s]\n",
      "Epoch 7 \t Training loss: 1.966930007269989 \t Validation loss: 1.974261019189479 \t \n",
      "\n",
      "4 epoch without improvement\n",
      "  7%|▋         | 4018/57400 [11:27<2:18:32,  6.42it/s]\n",
      "Epoch 8 \t Training loss: 1.9625076637035463 \t Validation loss: 1.9682560209500588 \t \n",
      "  8%|▊         | 4592/57400 [13:05<2:49:45,  5.18it/s]\n",
      "Epoch 9 \t Training loss: 1.9612653851509094 \t Validation loss: 1.9649855100502402 \t \n",
      "  9%|▉         | 5166/57400 [14:42<2:15:44,  6.41it/s]\n",
      "Epoch 10 \t Training loss: 1.9583956914911702 \t Validation loss: 1.9740382554167408 \t \n",
      "\n",
      "1 epoch without improvement\n",
      " 10%|█         | 5740/57400 [16:20<2:17:25,  6.27it/s]\n",
      "Epoch 11 \t Training loss: 1.9583685825926087 \t Validation loss: 1.9721595796488098 \t \n",
      "\n",
      "2 epoch without improvement\n",
      " 11%|█         | 6314/57400 [17:58<2:15:59,  6.26it/s]\n",
      "Epoch 12 \t Training loss: 1.9563497979881872 \t Validation loss: 1.9640256065433308 \t \n",
      " 12%|█▏        | 6888/57400 [19:36<2:43:31,  5.15it/s]\n",
      "Epoch 13 \t Training loss: 1.9539621364364226 \t Validation loss: 1.9604323132563446 \t \n",
      " 13%|█▎        | 7462/57400 [21:14<2:09:04,  6.45it/s]\n",
      "Epoch 14 \t Training loss: 1.9492779810254166 \t Validation loss: 1.9661693512383154 \t \n",
      "\n",
      "1 epoch without improvement\n",
      " 14%|█▍        | 8036/57400 [22:52<2:17:26,  5.99it/s]\n",
      "Epoch 15 \t Training loss: 1.950093510881949 \t Validation loss: 1.9635008613942033 \t \n",
      "\n",
      "2 epoch without improvement\n",
      " 15%|█▌        | 8610/57400 [24:29<1:58:32,  6.86it/s]\n",
      "Epoch 16 \t Training loss: 1.950123017673293 \t Validation loss: 1.957875492209095 \t \n",
      " 16%|█▌        | 9184/57400 [26:07<2:05:15,  6.42it/s]\n",
      "Epoch 17 \t Training loss: 1.9495815591114323 \t Validation loss: 1.9673384710893793 \t \n",
      "\n",
      "1 epoch without improvement\n",
      " 17%|█▋        | 9758/57400 [27:44<2:07:16,  6.24it/s]\n",
      "Epoch 18 \t Training loss: 1.948942439065993 \t Validation loss: 1.9585890870983318 \t \n",
      "\n",
      "2 epoch without improvement\n",
      " 18%|█▊        | 10332/57400 [29:22<2:07:23,  6.16it/s]\n",
      "Epoch 19 \t Training loss: 1.9452878097623898 \t Validation loss: 1.9717658758163452 \t \n",
      "\n",
      "3 epoch without improvement\n",
      " 19%|█▉        | 10906/57400 [30:59<2:07:00,  6.10it/s]\n",
      "Epoch 20 \t Training loss: 1.9417109614049932 \t Validation loss: 1.9627603635949604 \t \n",
      "\n",
      "4 epoch without improvement\n",
      " 20%|██        | 11480/57400 [32:37<2:03:05,  6.22it/s]\n",
      "Epoch 21 \t Training loss: 1.9424521476549554 \t Validation loss: 1.9643052270856953 \t \n",
      "\n",
      "5 epoch without improvement\n",
      " 21%|██        | 12054/57400 [34:14<1:58:10,  6.40it/s]\n",
      "Epoch 22 \t Training loss: 1.9417453929522313 \t Validation loss: 1.9564497955774858 \t \n",
      " 22%|██▏       | 12628/57400 [35:52<2:07:02,  5.87it/s]\n",
      "Epoch 23 \t Training loss: 1.937416493684988 \t Validation loss: 1.9692013283907357 \t \n",
      "\n",
      "1 epoch without improvement\n",
      " 23%|██▎       | 13202/57400 [37:30<2:01:54,  6.04it/s]\n",
      "Epoch 24 \t Training loss: 1.9400390538189054 \t Validation loss: 1.9689888812727847 \t \n",
      "\n",
      "2 epoch without improvement\n",
      " 24%|██▍       | 13776/57400 [39:08<2:03:55,  5.87it/s]\n",
      "Epoch 25 \t Training loss: 1.9376894308299553 \t Validation loss: 1.9568149053444297 \t \n",
      "\n",
      "3 epoch without improvement\n",
      " 25%|██▌       | 14350/57400 [40:45<2:38:02,  4.54it/s]\n",
      "Epoch 26 \t Training loss: 1.9379267823405382 \t Validation loss: 1.9622472019518835 \t \n",
      "\n",
      "4 epoch without improvement\n",
      " 26%|██▌       | 14924/57400 [42:23<1:59:17,  5.93it/s]\n",
      "Epoch 27 \t Training loss: 1.9388473330889844 \t Validation loss: 1.972773206436028 \t \n",
      "\n",
      "5 epoch without improvement\n",
      " 27%|██▋       | 15498/57400 [44:00<2:02:43,  5.69it/s]\n",
      "Epoch 28 \t Training loss: 1.9357402717194907 \t Validation loss: 1.9623350410138147 \t \n",
      "\n",
      "6 epoch without improvement\n",
      " 28%|██▊       | 16072/57400 [45:39<1:50:16,  6.25it/s]\n",
      "Epoch 29 \t Training loss: 1.936878369452646 \t Validation loss: 1.9697560294199798 \t \n",
      "\n",
      "7 epoch without improvement\n",
      " 29%|██▉       | 16646/57400 [47:17<1:48:46,  6.24it/s]\n",
      "Epoch 30 \t Training loss: 1.935672103112583 \t Validation loss: 1.9669624021497822 \t \n",
      "\n",
      "8 epoch without improvement\n",
      " 30%|███       | 17220/57400 [48:55<1:41:51,  6.57it/s]\n",
      "Epoch 31 \t Training loss: 1.9346315565840293 \t Validation loss: 1.9667269658234159 \t \n",
      "\n",
      "9 epoch without improvement\n",
      " 31%|███       | 17794/57400 [50:33<1:46:56,  6.17it/s]\n",
      "Epoch 32 \t Training loss: 1.934607350660118 \t Validation loss: 1.9677150451530845 \t \n",
      "\n",
      "10 epoch without improvement\n",
      "Validation_loss hasn't improve in 10 epoch. Stopping training after 32 epochs...\n"
     ]
    },
    {
     "data": {
      "image/png": "[encoded data removed]",
      "text/plain": [
       "<Figure size 640x480 with 1 Axes>"
      ]
     },
     "metadata": {},
     "output_type": "display_data"
    }
   ],
   "source": [
    "model = mt.MultiWithDependencies(model_conf,vocab).to(device)\n",
    "optimizer = AdamW(model.parameters(), lr=learning_rate,weight_decay=0.1)\n",
    "save_path='roberta_multitask_pos_2'\n",
    "train.train_function_multi(model,num_epochs,dl_train,optimizer,early_stop = 10,dl_val = dl_val,save_path=save_path,es_threshold=0)"
   ]
  },
  {
   "cell_type": "code",
   "execution_count": 15,
   "metadata": {},
   "outputs": [
    {
     "name": "stderr",
     "output_type": "stream",
     "text": [
      "Some weights of the model checkpoint at roberta-base were not used when initializing RobertaModel: ['lm_head.dense.weight', 'lm_head.dense.bias', 'lm_head.layer_norm.weight', 'lm_head.layer_norm.bias', 'lm_head.decoder.weight', 'lm_head.bias']\n",
      "- This IS expected if you are initializing RobertaModel from the checkpoint of a model trained on another task or with another architecture (e.g. initializing a BertForSequenceClassification model from a BertForPreTraining model).\n",
      "- This IS NOT expected if you are initializing RobertaModel from the checkpoint of a model that you expect to be exactly identical (initializing a BertForSequenceClassification model from a BertForSequenceClassification model).\n"
     ]
    },
    {
     "name": "stdout",
     "output_type": "stream",
     "text": [
      "Evaluación del modelo\n",
      "{'to': {'recall': 0.7108585858585859, 'precision': 0.7108585858585859, 'f1': 0.7108585858585859, 'accuracy': 0.7108585858585859}, 'as': {'recall': 0.727509778357236, 'precision': 0.727509778357236, 'f1': 0.727509778357236, 'accuracy': 0.727509778357236}, 'about': {'recall': 0.8418367346938775, 'precision': 0.8418367346938775, 'f1': 0.8418367346938774, 'accuracy': 0.8418367346938775}} \n",
      "\n",
      "Evaluación en etiquetas male\n",
      "{'to': {'recall': 0.7347931873479319, 'precision': 0.7347931873479319, 'f1': 0.7347931873479319, 'accuracy': 0.7347931873479319}, 'as': {'recall': 0.7424242424242424, 'precision': 0.7424242424242424, 'f1': 0.7424242424242424, 'accuracy': 0.7424242424242424}, 'about': {'recall': 0.8541666666666666, 'precision': 0.8541666666666666, 'f1': 0.8541666666666666, 'accuracy': 0.8541666666666666}} \n",
      "\n",
      "Evaluación en etiquetas female\n",
      "{'to': {'recall': 0.6850393700787402, 'precision': 0.6850393700787402, 'f1': 0.6850393700787402, 'accuracy': 0.6850393700787402}, 'as': {'recall': 0.7115902964959568, 'precision': 0.7115902964959568, 'f1': 0.7115902964959567, 'accuracy': 0.7115902964959568}, 'about': {'recall': 0.83, 'precision': 0.83, 'f1': 0.83, 'accuracy': 0.83}} \n",
      "\n"
     ]
    }
   ],
   "source": [
    "model = mt.MultiWithDependencies(model_conf,vocab).to(device)\n",
    "model.load_state_dict(torch.load(save_path))\n",
    "\n",
    "print(\"Evaluación del modelo\")\n",
    "result_global = train.eval_func_multi(model,dl_eval,tasks,gender=None)\n",
    "generic.update_global_metric_multi(result_global,global_metrics,mtype='global')\n",
    "print(result_global,'\\n')\n",
    "print(\"Evaluación en etiquetas male\")\n",
    "result_global = train.eval_func_multi(model,dl_eval,tasks,gender='male')\n",
    "generic.update_global_metric_multi(result_global,global_metrics,mtype='male')\n",
    "print(result_global,'\\n')\n",
    "print(\"Evaluación en etiquetas female\")\n",
    "result_global = train.eval_func_multi(model,dl_eval,tasks,gender='female')\n",
    "generic.update_global_metric_multi(result_global,global_metrics,mtype='female')\n",
    "print(result_global,'\\n')\n"
   ]
  },
  {
   "cell_type": "code",
   "execution_count": 16,
   "metadata": {},
   "outputs": [
    {
     "name": "stderr",
     "output_type": "stream",
     "text": [
      "Some weights of the model checkpoint at roberta-base were not used when initializing RobertaModel: ['lm_head.dense.weight', 'lm_head.dense.bias', 'lm_head.layer_norm.weight', 'lm_head.layer_norm.bias', 'lm_head.decoder.weight', 'lm_head.bias']\n",
      "- This IS expected if you are initializing RobertaModel from the checkpoint of a model trained on another task or with another architecture (e.g. initializing a BertForSequenceClassification model from a BertForPreTraining model).\n",
      "- This IS NOT expected if you are initializing RobertaModel from the checkpoint of a model that you expect to be exactly identical (initializing a BertForSequenceClassification model from a BertForSequenceClassification model).\n"
     ]
    },
    {
     "data": {
      "application/vnd.jupyter.widget-view+json": {
       "model_id": "d9030c3459494dabaff299c7104773c0",
       "version_major": 2,
       "version_minor": 0
      },
      "text/plain": [
       "  0%|          | 0/57400 [00:00<?, ?it/s]"
      ]
     },
     "metadata": {},
     "output_type": "display_data"
    },
    {
     "name": "stdout",
     "output_type": "stream",
     "text": [
      "Epoch 1 \t Training loss: 2.0496950731044863 \t Validation loss: 1.998800120111239 \t \n",
      "  1%|          | 574/57400 [01:37<2:27:32,  6.42it/s]\n",
      "Epoch 2 \t Training loss: 1.9916617079063574 \t Validation loss: 1.984838675644438 \t \n",
      "  2%|▏         | 1148/57400 [03:15<2:20:00,  6.70it/s]\n",
      "Epoch 3 \t Training loss: 1.982284870920281 \t Validation loss: 1.9850552162881625 \t \n",
      "\n",
      "1 epoch without improvement\n",
      "  3%|▎         | 1722/57400 [04:54<2:25:56,  6.36it/s]\n",
      "Epoch 4 \t Training loss: 1.9764576699675582 \t Validation loss: 1.9737069505756184 \t \n",
      "  4%|▍         | 2296/57400 [06:32<2:19:06,  6.60it/s]\n",
      "Epoch 5 \t Training loss: 1.9721839135116817 \t Validation loss: 1.9739831403150396 \t \n",
      "\n",
      "1 epoch without improvement\n",
      "  5%|▌         | 2870/57400 [08:09<2:33:01,  5.94it/s]\n",
      "Epoch 6 \t Training loss: 1.9697019017531896 \t Validation loss: 1.9678740258944236 \t \n",
      "  6%|▌         | 3444/57400 [09:46<2:15:53,  6.62it/s]\n",
      "Epoch 7 \t Training loss: 1.9662760890734736 \t Validation loss: 1.9744354850154813 \t \n",
      "\n",
      "1 epoch without improvement\n",
      "  7%|▋         | 4018/57400 [11:24<2:29:26,  5.95it/s]\n",
      "Epoch 8 \t Training loss: 1.965871507490138 \t Validation loss: 1.967302041538691 \t \n",
      "  8%|▊         | 4592/57400 [13:02<2:22:41,  6.17it/s]\n",
      "Epoch 9 \t Training loss: 1.9611978765564098 \t Validation loss: 1.972069804951296 \t \n",
      "\n",
      "1 epoch without improvement\n",
      "  9%|▉         | 5166/57400 [14:39<2:21:39,  6.15it/s]\n",
      "Epoch 10 \t Training loss: 1.9600954242699653 \t Validation loss: 1.9702162985074319 \t \n",
      "\n",
      "2 epoch without improvement\n",
      " 10%|█         | 5740/57400 [16:15<2:10:27,  6.60it/s]\n",
      "Epoch 11 \t Training loss: 1.9580274992703561 \t Validation loss: 1.9658338013341872 \t \n",
      " 11%|█         | 6314/57400 [17:53<2:22:05,  5.99it/s]\n",
      "Epoch 12 \t Training loss: 1.9566114673631116 \t Validation loss: 1.9693326485359062 \t \n",
      "\n",
      "1 epoch without improvement\n",
      " 12%|█▏        | 6888/57400 [19:31<2:16:06,  6.19it/s]\n",
      "Epoch 13 \t Training loss: 1.9526374373286444 \t Validation loss: 1.96143480478707 \t \n",
      " 13%|█▎        | 7462/57400 [21:10<2:10:11,  6.39it/s]\n",
      "Epoch 14 \t Training loss: 1.9523842781262946 \t Validation loss: 1.964486142336312 \t \n",
      "\n",
      "1 epoch without improvement\n",
      " 14%|█▍        | 8036/57400 [22:48<2:06:49,  6.49it/s]\n",
      "Epoch 15 \t Training loss: 1.9515213025571578 \t Validation loss: 1.967126092668307 \t \n",
      "\n",
      "2 epoch without improvement\n",
      " 15%|█▌        | 8610/57400 [24:26<2:08:06,  6.35it/s]\n",
      "Epoch 16 \t Training loss: 1.9493362538075198 \t Validation loss: 1.9651151855113143 \t \n",
      "\n",
      "3 epoch without improvement\n",
      " 16%|█▌        | 9184/57400 [26:04<2:06:12,  6.37it/s]\n",
      "Epoch 17 \t Training loss: 1.9476898399794973 \t Validation loss: 1.9617653479010373 \t \n",
      "\n",
      "4 epoch without improvement\n",
      " 17%|█▋        | 9758/57400 [27:43<2:15:17,  5.87it/s]\n",
      "Epoch 18 \t Training loss: 1.9491992779725105 \t Validation loss: 1.9593267885305115 \t \n",
      " 18%|█▊        | 10332/57400 [29:21<1:52:20,  6.98it/s]\n",
      "Epoch 19 \t Training loss: 1.9471534766801974 \t Validation loss: 1.96038694300894 \t \n",
      "\n",
      "1 epoch without improvement\n",
      " 19%|█▉        | 10906/57400 [30:59<2:07:45,  6.07it/s]\n",
      "Epoch 20 \t Training loss: 1.9460471145782736 \t Validation loss: 1.964067784406371 \t \n",
      "\n",
      "2 epoch without improvement\n",
      " 20%|██        | 11480/57400 [32:37<2:06:00,  6.07it/s]\n",
      "Epoch 21 \t Training loss: 1.9430646146631407 \t Validation loss: 1.9650682291742099 \t \n",
      "\n",
      "3 epoch without improvement\n",
      " 21%|██        | 12054/57400 [34:15<1:51:25,  6.78it/s]\n",
      "Epoch 22 \t Training loss: 1.9410458568496571 \t Validation loss: 1.9629833233558525 \t \n",
      "\n",
      "4 epoch without improvement\n",
      " 22%|██▏       | 12628/57400 [35:52<1:57:12,  6.37it/s]\n",
      "Epoch 23 \t Training loss: 1.9399238158186138 \t Validation loss: 1.9651937909045463 \t \n",
      "\n",
      "5 epoch without improvement\n",
      " 23%|██▎       | 13202/57400 [37:30<2:04:47,  5.90it/s]\n",
      "Epoch 24 \t Training loss: 1.9422020615185596 \t Validation loss: 1.957030237731287 \t \n",
      " 24%|██▍       | 13776/57400 [39:08<2:12:14,  5.50it/s]\n",
      "Epoch 25 \t Training loss: 1.9396970448593644 \t Validation loss: 1.9526483709529294 \t \n",
      " 25%|██▌       | 14350/57400 [40:46<2:07:37,  5.62it/s]\n",
      "Epoch 26 \t Training loss: 1.9368421834104983 \t Validation loss: 1.967638779494722 \t \n",
      "\n",
      "1 epoch without improvement\n",
      " 26%|██▌       | 14924/57400 [42:23<1:54:24,  6.19it/s]\n",
      "Epoch 27 \t Training loss: 1.9393073845823467 \t Validation loss: 1.9596842325339883 \t \n",
      "\n",
      "2 epoch without improvement\n",
      " 27%|██▋       | 15498/57400 [44:01<1:51:04,  6.29it/s]\n",
      "Epoch 28 \t Training loss: 1.937038849455139 \t Validation loss: 1.9589163711515523 \t \n",
      "\n",
      "3 epoch without improvement\n",
      " 28%|██▊       | 16072/57400 [45:38<1:52:16,  6.13it/s]\n",
      "Epoch 29 \t Training loss: 1.9354891257834352 \t Validation loss: 1.9702320765640775 \t \n",
      "\n",
      "4 epoch without improvement\n",
      " 29%|██▉       | 16646/57400 [47:15<1:45:59,  6.41it/s]\n",
      "Epoch 30 \t Training loss: 1.9358179170495542 \t Validation loss: 1.9738108849121352 \t \n",
      "\n",
      "5 epoch without improvement\n",
      " 30%|███       | 17220/57400 [48:52<1:48:12,  6.19it/s]\n",
      "Epoch 31 \t Training loss: 1.9340578571013873 \t Validation loss: 1.9711907516091556 \t \n",
      "\n",
      "6 epoch without improvement\n",
      " 31%|███       | 17794/57400 [50:29<1:40:14,  6.58it/s]\n",
      "Epoch 32 \t Training loss: 1.9342547698718746 \t Validation loss: 1.9722401328006034 \t \n",
      "\n",
      "7 epoch without improvement\n",
      " 32%|███▏      | 18368/57400 [52:06<1:54:43,  5.67it/s]\n",
      "Epoch 33 \t Training loss: 1.931816568565701 \t Validation loss: 1.9662355002710374 \t \n",
      "\n",
      "8 epoch without improvement\n",
      " 33%|███▎      | 18942/57400 [53:48<1:36:55,  6.61it/s]\n",
      "Epoch 34 \t Training loss: 1.9289774633035428 \t Validation loss: 1.9640243073641244 \t \n",
      "\n",
      "9 epoch without improvement\n",
      " 34%|███▍      | 19516/57400 [55:29<1:47:40,  5.86it/s]\n",
      "Epoch 35 \t Training loss: 1.9280250381924964 \t Validation loss: 1.9804199449086592 \t \n",
      "\n",
      "10 epoch without improvement\n",
      "Validation_loss hasn't improve in 10 epoch. Stopping training after 35 epochs...\n"
     ]
    },
    {
     "data": {
      "image/png": "[encoded data removed]",
      "text/plain": [
       "<Figure size 640x480 with 1 Axes>"
      ]
     },
     "metadata": {},
     "output_type": "display_data"
    }
   ],
   "source": [
    "model = mt.MultiWithDependencies(model_conf,vocab).to(device)\n",
    "optimizer = AdamW(model.parameters(), lr=learning_rate,weight_decay=0.1)\n",
    "save_path='roberta_multitask_pos_3'\n",
    "train.train_function_multi(model,num_epochs,dl_train,optimizer,early_stop = 10,dl_val = dl_val,save_path=save_path,es_threshold=0)"
   ]
  },
  {
   "cell_type": "code",
   "execution_count": 17,
   "metadata": {},
   "outputs": [
    {
     "name": "stderr",
     "output_type": "stream",
     "text": [
      "Some weights of the model checkpoint at roberta-base were not used when initializing RobertaModel: ['lm_head.dense.weight', 'lm_head.dense.bias', 'lm_head.layer_norm.weight', 'lm_head.layer_norm.bias', 'lm_head.decoder.weight', 'lm_head.bias']\n",
      "- This IS expected if you are initializing RobertaModel from the checkpoint of a model trained on another task or with another architecture (e.g. initializing a BertForSequenceClassification model from a BertForPreTraining model).\n",
      "- This IS NOT expected if you are initializing RobertaModel from the checkpoint of a model that you expect to be exactly identical (initializing a BertForSequenceClassification model from a BertForSequenceClassification model).\n"
     ]
    },
    {
     "name": "stdout",
     "output_type": "stream",
     "text": [
      "Evaluación del modelo\n",
      "{'to': {'recall': 0.7222222222222222, 'precision': 0.7222222222222222, 'f1': 0.7222222222222222, 'accuracy': 0.7222222222222222}, 'as': {'recall': 0.7301173402868318, 'precision': 0.7301173402868318, 'f1': 0.7301173402868318, 'accuracy': 0.7301173402868318}, 'about': {'recall': 0.8469387755102041, 'precision': 0.8469387755102041, 'f1': 0.8469387755102041, 'accuracy': 0.8469387755102041}} \n",
      "\n",
      "Evaluación en etiquetas male\n",
      "{'to': {'recall': 0.7372262773722628, 'precision': 0.7372262773722628, 'f1': 0.7372262773722628, 'accuracy': 0.7372262773722628}, 'as': {'recall': 0.7348484848484849, 'precision': 0.7348484848484849, 'f1': 0.7348484848484848, 'accuracy': 0.7348484848484849}, 'about': {'recall': 0.8515625, 'precision': 0.8515625, 'f1': 0.8515625, 'accuracy': 0.8515625}} \n",
      "\n",
      "Evaluación en etiquetas female\n",
      "{'to': {'recall': 0.7060367454068242, 'precision': 0.7060367454068242, 'f1': 0.7060367454068242, 'accuracy': 0.7060367454068242}, 'as': {'recall': 0.7250673854447439, 'precision': 0.7250673854447439, 'f1': 0.725067385444744, 'accuracy': 0.7250673854447439}, 'about': {'recall': 0.8425, 'precision': 0.8425, 'f1': 0.8425, 'accuracy': 0.8425}} \n",
      "\n"
     ]
    }
   ],
   "source": [
    "model = mt.MultiWithDependencies(model_conf,vocab).to(device)\n",
    "model.load_state_dict(torch.load(save_path))\n",
    "\n",
    "print(\"Evaluación del modelo\")\n",
    "result_global = train.eval_func_multi(model,dl_eval,tasks,gender=None)\n",
    "generic.update_global_metric_multi(result_global,global_metrics,mtype='global')\n",
    "print(result_global,'\\n')\n",
    "print(\"Evaluación en etiquetas male\")\n",
    "result_global = train.eval_func_multi(model,dl_eval,tasks,gender='male')\n",
    "generic.update_global_metric_multi(result_global,global_metrics,mtype='male')\n",
    "print(result_global,'\\n')\n",
    "print(\"Evaluación en etiquetas female\")\n",
    "result_global = train.eval_func_multi(model,dl_eval,tasks,gender='female')\n",
    "generic.update_global_metric_multi(result_global,global_metrics,mtype='female')\n",
    "print(result_global,'\\n')\n"
   ]
  },
  {
   "cell_type": "code",
   "execution_count": 18,
   "metadata": {},
   "outputs": [
    {
     "name": "stdout",
     "output_type": "stream",
     "text": [
      "Métricas globales: \n",
      "\n",
      "\n",
      " about\n",
      "Resultado global: {'recall': 0.8431122448979592, 'precision': 0.8431122448979592, 'f1': 0.8431122448979591, 'accuracy': 0.8431122448979592}\n",
      "Métricas etiqueta male: {'recall': 0.8489583333333334, 'precision': 0.8489583333333334, 'f1': 0.8489583333333333, 'accuracy': 0.8489583333333334}\n",
      "Métricas etiqueta female:  {'recall': 0.8375, 'precision': 0.8375, 'f1': 0.8374999999999999, 'accuracy': 0.8375}\n",
      "\n",
      " to\n",
      "Resultado global: {'recall': 0.7150673400673401, 'precision': 0.7150673400673401, 'f1': 0.7150673400673401, 'accuracy': 0.7150673400673401}\n",
      "Métricas etiqueta male: {'recall': 0.7299270072992701, 'precision': 0.7299270072992701, 'f1': 0.7299270072992701, 'accuracy': 0.7299270072992701}\n",
      "Métricas etiqueta female:  {'recall': 0.6990376202974629, 'precision': 0.6990376202974629, 'f1': 0.6990376202974629, 'accuracy': 0.6990376202974629}\n",
      "\n",
      " as\n",
      "Resultado global: {'recall': 0.7296827466318991, 'precision': 0.7296827466318991, 'f1': 0.7296827466318991, 'accuracy': 0.7296827466318991}\n",
      "Métricas etiqueta male: {'recall': 0.7348484848484849, 'precision': 0.7348484848484849, 'f1': 0.7348484848484849, 'accuracy': 0.7348484848484849}\n",
      "Métricas etiqueta female:  {'recall': 0.7241689128481581, 'precision': 0.7241689128481581, 'f1': 0.7241689128481581, 'accuracy': 0.7241689128481581}\n"
     ]
    }
   ],
   "source": [
    "\n",
    "print('Métricas globales: \\n')\n",
    "\n",
    "for task in ['about','to','as']:\n",
    "    print('\\n',task)\n",
    "    print('Resultado global:',{m:mean(values) for m,values in global_metrics[task]['global'].items()})\n",
    "    print(f'Métricas etiqueta male:',{m:mean(values) for m,values in global_metrics[task]['male'].items()})\n",
    "    print('Métricas etiqueta female: ',{m:mean(values) for m,values in global_metrics[task]['female'].items()})\n"
   ]
  }
 ],
 "metadata": {
  "kernelspec": {
   "display_name": "tfg",
   "language": "python",
   "name": "python3"
  },
  "language_info": {
   "codemirror_mode": {
    "name": "ipython",
    "version": 3
   },
   "file_extension": ".py",
   "mimetype": "text/x-python",
   "name": "python",
   "nbconvert_exporter": "python",
   "pygments_lexer": "ipython3",
   "version": "3.9.13"
  },
  "orig_nbformat": 4,
  "vscode": {
   "interpreter": {
    "hash": "35e8332e99bdf485583869dfbdef293dcf2f9293b1663ec5daea0a573af457c3"
   }
  }
 },
 "nbformat": 4,
 "nbformat_minor": 2
}
