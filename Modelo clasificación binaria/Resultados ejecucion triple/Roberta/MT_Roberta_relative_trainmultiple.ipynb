{
 "cells": [
  {
   "cell_type": "code",
   "execution_count": 1,
   "metadata": {},
   "outputs": [],
   "source": [
    "import torch\n",
    "from torch.utils.data import DataLoader\n",
    "from torch.optim import SGD ,AdamW\n",
    "\n",
    "from datasets import load_dataset, load_metric\n",
    "\n",
    "import matplotlib.pyplot as plt\n",
    "\n",
    "import json\n",
    "from statistics import mean"
   ]
  },
  {
   "cell_type": "code",
   "execution_count": 2,
   "metadata": {},
   "outputs": [],
   "source": [
    "import utils_generic as generic\n",
    "import multitask_dep as mt\n",
    "import model_confs as confs\n",
    "import train"
   ]
  },
  {
   "cell_type": "code",
   "execution_count": 3,
   "metadata": {},
   "outputs": [],
   "source": [
    "device = torch.device(\"cuda\") if torch.cuda.is_available() else torch.device(\"cpu\")\n",
    "tasks = ['to','as','about']"
   ]
  },
  {
   "cell_type": "code",
   "execution_count": 4,
   "metadata": {},
   "outputs": [],
   "source": [
    "model_conf = confs.roberta_conf\n",
    "encoding_type = 'relative'"
   ]
  },
  {
   "attachments": {},
   "cell_type": "markdown",
   "metadata": {},
   "source": [
    "# Datos ConvAI"
   ]
  },
  {
   "cell_type": "code",
   "execution_count": 5,
   "metadata": {},
   "outputs": [],
   "source": [
    "with open('Datasets\\ConvAI2\\convai2_complete.json','r') as f:\n",
    "    data = json.load(f)"
   ]
  },
  {
   "cell_type": "code",
   "execution_count": 6,
   "metadata": {},
   "outputs": [],
   "source": [
    "vocab = mt.Vocabulary(data['train'],encoding_type)\n",
    "\n",
    "convai_train = data['train']\n",
    "convai_val = data['validation']\n",
    "\n",
    "\n",
    "\n",
    "convai_train_token = generic.tokenize_dataset_with_dependencies(convai_train,['about','to','as'],vocab,model_conf) \n",
    "convai_val_token = generic.tokenize_dataset_with_dependencies(convai_val,['about','to','as'],vocab,model_conf) "
   ]
  },
  {
   "cell_type": "code",
   "execution_count": 7,
   "metadata": {},
   "outputs": [],
   "source": [
    "convai_train_dataset = mt.DatasetMultitaskDep(convai_train_token,tasks,eval=False)\n",
    "convai_val_dataset = mt.DatasetMultitaskDep(convai_val_token,tasks,eval=False)"
   ]
  },
  {
   "attachments": {},
   "cell_type": "markdown",
   "metadata": {},
   "source": [
    "# Datos md_gender"
   ]
  },
  {
   "cell_type": "code",
   "execution_count": 8,
   "metadata": {},
   "outputs": [],
   "source": [
    "with open('Datasets\\md_gender\\md_complete.json','r',encoding=\"utf8\") as f:\n",
    "    md_data = json.load(f)"
   ]
  },
  {
   "cell_type": "code",
   "execution_count": 9,
   "metadata": {},
   "outputs": [],
   "source": [
    "md_tokenized = generic.tokenize_dataset_with_dependencies(md_data,['about','to','as'],vocab,model_conf) \n",
    "md_dataset = mt.DatasetMultitaskDep(md_tokenized,tasks,eval=True)"
   ]
  },
  {
   "attachments": {},
   "cell_type": "markdown",
   "metadata": {},
   "source": [
    "# Creación dataloaders"
   ]
  },
  {
   "cell_type": "code",
   "execution_count": 10,
   "metadata": {},
   "outputs": [],
   "source": [
    "dl_train =DataLoader(convai_train_dataset,batch_size=128,shuffle=True,collate_fn=mt.collate_fn)\n",
    "dl_val =DataLoader(convai_val_dataset,batch_size=128,shuffle=True,collate_fn=mt.collate_fn)\n",
    "dl_eval = DataLoader(md_dataset,batch_size=128,shuffle=False,collate_fn=mt.collate_fn)"
   ]
  },
  {
   "attachments": {},
   "cell_type": "markdown",
   "metadata": {},
   "source": [
    "# Modelo multitask"
   ]
  },
  {
   "cell_type": "code",
   "execution_count": 11,
   "metadata": {},
   "outputs": [],
   "source": [
    "num_epochs = 100\n",
    "learning_rate = 1e-6\n",
    "\n",
    "global_metrics = {'about':{'global':{'recall': [], 'precision': [],'f1': [], 'accuracy': []},\n",
    "                            'male':{'recall': [], 'precision': [],'f1': [], 'accuracy': []},\n",
    "                            'female':{'recall': [], 'precision': [],'f1': [], 'accuracy': []}},\n",
    "                    'as':{'global':{'recall': [], 'precision': [],'f1': [], 'accuracy': []},\n",
    "                            'male':{'recall': [], 'precision': [],'f1': [], 'accuracy': []},\n",
    "                            'female':{'recall': [], 'precision': [],'f1': [], 'accuracy': []}},\n",
    "                    'to':{'global':{'recall': [], 'precision': [],'f1': [], 'accuracy': []},\n",
    "                            'male':{'recall': [], 'precision': [],'f1': [], 'accuracy': []},\n",
    "                            'female':{'recall': [], 'precision': [],'f1': [], 'accuracy': []}}}"
   ]
  },
  {
   "cell_type": "code",
   "execution_count": 12,
   "metadata": {},
   "outputs": [
    {
     "name": "stderr",
     "output_type": "stream",
     "text": [
      "Some weights of the model checkpoint at roberta-base were not used when initializing RobertaModel: ['lm_head.dense.bias', 'lm_head.layer_norm.weight', 'lm_head.bias', 'lm_head.layer_norm.bias', 'lm_head.dense.weight', 'lm_head.decoder.weight']\n",
      "- This IS expected if you are initializing RobertaModel from the checkpoint of a model trained on another task or with another architecture (e.g. initializing a BertForSequenceClassification model from a BertForPreTraining model).\n",
      "- This IS NOT expected if you are initializing RobertaModel from the checkpoint of a model that you expect to be exactly identical (initializing a BertForSequenceClassification model from a BertForSequenceClassification model).\n"
     ]
    },
    {
     "data": {
      "application/vnd.jupyter.widget-view+json": {
       "model_id": "becb84a00532448e979efce6b421954b",
       "version_major": 2,
       "version_minor": 0
      },
      "text/plain": [
       "  0%|          | 0/57400 [00:00<?, ?it/s]"
      ]
     },
     "metadata": {},
     "output_type": "display_data"
    },
    {
     "name": "stdout",
     "output_type": "stream",
     "text": [
      "Epoch 1 \t Training loss: 2.048578994407056 \t Validation loss: 2.0032535084223344 \t \n",
      "  1%|          | 574/57400 [01:44<2:42:40,  5.82it/s]\n",
      "Epoch 2 \t Training loss: 1.9887661601608224 \t Validation loss: 1.9943990182068387 \t \n",
      "  2%|▏         | 1148/57400 [03:41<2:37:05,  5.97it/s]\n",
      "Epoch 3 \t Training loss: 1.9809838182419435 \t Validation loss: 1.98113659074751 \t \n",
      "  3%|▎         | 1722/57400 [05:37<2:34:09,  6.02it/s]\n",
      "Epoch 4 \t Training loss: 1.9757852249029206 \t Validation loss: 1.9751843557519428 \t \n",
      "  4%|▍         | 2296/57400 [07:34<2:37:09,  5.84it/s]\n",
      "Epoch 5 \t Training loss: 1.9717930623878586 \t Validation loss: 1.9720019465785916 \t \n",
      "  5%|▌         | 2870/57400 [09:31<2:41:21,  5.63it/s]\n",
      "Epoch 6 \t Training loss: 1.9668253512748026 \t Validation loss: 1.975437772476067 \t \n",
      "\n",
      "1 epoch without improvement\n",
      "  6%|▌         | 3444/57400 [11:27<2:25:33,  6.18it/s]\n",
      "Epoch 7 \t Training loss: 1.9653464620121681 \t Validation loss: 1.9740194850048776 \t \n",
      "\n",
      "2 epoch without improvement\n",
      "  7%|▋         | 4018/57400 [13:23<2:27:27,  6.03it/s]\n",
      "Epoch 8 \t Training loss: 1.961528604246598 \t Validation loss: 1.9648417941594527 \t \n",
      "  8%|▊         | 4592/57400 [15:16<2:12:59,  6.62it/s]\n",
      "Epoch 9 \t Training loss: 1.9583684297388855 \t Validation loss: 1.9724097898450947 \t \n",
      "\n",
      "1 epoch without improvement\n",
      "  9%|▉         | 5166/57400 [17:00<2:29:55,  5.81it/s]\n",
      "Epoch 10 \t Training loss: 1.957572843347277 \t Validation loss: 1.9756288690082098 \t \n",
      "\n",
      "2 epoch without improvement\n",
      " 10%|█         | 5740/57400 [18:45<2:32:07,  5.66it/s]\n",
      "Epoch 11 \t Training loss: 1.954837249754198 \t Validation loss: 1.9647374415801744 \t \n",
      " 11%|█         | 6314/57400 [20:31<2:22:30,  5.97it/s]\n",
      "Epoch 12 \t Training loss: 1.9524645695287592 \t Validation loss: 1.9638059199866602 \t \n",
      " 12%|█▏        | 6888/57400 [22:16<2:14:51,  6.24it/s]\n",
      "Epoch 13 \t Training loss: 1.9528918006694276 \t Validation loss: 1.9745704804436635 \t \n",
      "\n",
      "1 epoch without improvement\n",
      " 13%|█▎        | 7462/57400 [24:00<2:19:01,  5.99it/s]\n",
      "Epoch 14 \t Training loss: 1.9520349664555194 \t Validation loss: 1.970852106304492 \t \n",
      "\n",
      "2 epoch without improvement\n",
      " 14%|█▍        | 8036/57400 [25:46<2:10:27,  6.31it/s]\n",
      "Epoch 15 \t Training loss: 1.9458317669426524 \t Validation loss: 1.969273617712118 \t \n",
      "\n",
      "3 epoch without improvement\n",
      " 15%|█▌        | 8610/57400 [27:31<2:47:45,  4.85it/s]\n",
      "Epoch 16 \t Training loss: 1.9460032733890653 \t Validation loss: 1.9759742102380526 \t \n",
      "\n",
      "4 epoch without improvement\n",
      " 16%|█▌        | 9184/57400 [29:16<2:02:06,  6.58it/s]\n",
      "Epoch 17 \t Training loss: 1.9467258833426633 \t Validation loss: 1.9657087750354056 \t \n",
      "\n",
      "5 epoch without improvement\n",
      " 17%|█▋        | 9758/57400 [31:01<2:18:22,  5.74it/s]\n",
      "Epoch 18 \t Training loss: 1.9424039532498616 \t Validation loss: 1.9589686858451973 \t \n",
      " 18%|█▊        | 10332/57400 [32:47<2:25:54,  5.38it/s]\n",
      "Epoch 19 \t Training loss: 1.944717821759214 \t Validation loss: 1.9639762357129888 \t \n",
      "\n",
      "1 epoch without improvement\n",
      " 19%|█▉        | 10906/57400 [34:32<2:04:35,  6.22it/s]\n",
      "Epoch 20 \t Training loss: 1.941611497244353 \t Validation loss: 1.9643844143819 \t \n",
      "\n",
      "2 epoch without improvement\n",
      " 20%|██        | 11480/57400 [36:16<2:04:39,  6.14it/s]\n",
      "Epoch 21 \t Training loss: 1.9418267177787807 \t Validation loss: 1.9744675987857883 \t \n",
      "\n",
      "3 epoch without improvement\n",
      " 21%|██        | 12054/57400 [38:02<2:23:13,  5.28it/s]\n",
      "Epoch 22 \t Training loss: 1.938689464060687 \t Validation loss: 1.973361900297262 \t \n",
      "\n",
      "4 epoch without improvement\n",
      " 22%|██▏       | 12628/57400 [39:47<2:07:13,  5.87it/s]\n",
      "Epoch 23 \t Training loss: 1.9388011542346835 \t Validation loss: 1.958183448193437 \t \n",
      " 23%|██▎       | 13202/57400 [41:32<2:05:00,  5.89it/s]\n",
      "Epoch 24 \t Training loss: 1.9346696038694746 \t Validation loss: 1.9675413006443088 \t \n",
      "\n",
      "1 epoch without improvement\n",
      " 24%|██▍       | 13776/57400 [43:17<1:51:04,  6.55it/s]\n",
      "Epoch 25 \t Training loss: 1.936511384277809 \t Validation loss: 1.9596316087043892 \t \n",
      "\n",
      "2 epoch without improvement\n",
      " 25%|██▌       | 14350/57400 [45:03<1:51:23,  6.44it/s]\n",
      "Epoch 26 \t Training loss: 1.937169894108789 \t Validation loss: 1.9646711814201485 \t \n",
      "\n",
      "3 epoch without improvement\n",
      " 26%|██▌       | 14924/57400 [46:49<1:46:45,  6.63it/s]\n",
      "Epoch 27 \t Training loss: 1.935272745969819 \t Validation loss: 1.9621441323878401 \t \n",
      "\n",
      "4 epoch without improvement\n",
      " 27%|██▋       | 15498/57400 [48:34<1:46:47,  6.54it/s]\n",
      "Epoch 28 \t Training loss: 1.9349474462482572 \t Validation loss: 1.9641950878046326 \t \n",
      "\n",
      "5 epoch without improvement\n",
      " 28%|██▊       | 16072/57400 [50:19<1:44:57,  6.56it/s]\n",
      "Epoch 29 \t Training loss: 1.9311234778643485 \t Validation loss: 1.9614385629104356 \t \n",
      "\n",
      "6 epoch without improvement\n",
      " 29%|██▉       | 16646/57400 [52:04<1:43:53,  6.54it/s]\n",
      "Epoch 30 \t Training loss: 1.9325317470454173 \t Validation loss: 1.9569294937586381 \t \n",
      " 30%|███       | 17220/57400 [53:50<1:40:46,  6.65it/s]\n",
      "Epoch 31 \t Training loss: 1.9304889926511652 \t Validation loss: 1.9737633749590082 \t \n",
      "\n",
      "1 epoch without improvement\n",
      " 31%|███       | 17794/57400 [55:35<1:44:37,  6.31it/s]\n",
      "Epoch 32 \t Training loss: 1.934017891044816 \t Validation loss: 1.9617928852469235 \t \n",
      "\n",
      "2 epoch without improvement\n",
      " 32%|███▏      | 18368/57400 [57:20<1:51:44,  5.82it/s]\n",
      "Epoch 33 \t Training loss: 1.9316321513794026 \t Validation loss: 1.9639179039809664 \t \n",
      "\n",
      "3 epoch without improvement\n",
      " 33%|███▎      | 18942/57400 [59:06<1:51:04,  5.77it/s]\n",
      "Epoch 34 \t Training loss: 1.928603420897228 \t Validation loss: 1.9634437076116011 \t \n",
      "\n",
      "4 epoch without improvement\n",
      " 34%|███▍      | 19516/57400 [1:00:50<1:49:07,  5.79it/s]\n",
      "Epoch 35 \t Training loss: 1.9287559250921322 \t Validation loss: 1.9714857137809365 \t \n",
      "\n",
      "5 epoch without improvement\n",
      " 35%|███▌      | 20090/57400 [1:02:36<1:49:31,  5.68it/s]\n",
      "Epoch 36 \t Training loss: 1.9289940614318184 \t Validation loss: 1.9644856311507144 \t \n",
      "\n",
      "6 epoch without improvement\n",
      " 36%|███▌      | 20664/57400 [1:04:21<1:41:39,  6.02it/s]\n",
      "Epoch 37 \t Training loss: 1.9279172997856804 \t Validation loss: 1.9694470874333785 \t \n",
      "\n",
      "7 epoch without improvement\n",
      " 37%|███▋      | 21238/57400 [1:06:08<1:45:31,  5.71it/s]\n",
      "Epoch 38 \t Training loss: 1.924846372537912 \t Validation loss: 1.9634222984313965 \t \n",
      "\n",
      "8 epoch without improvement\n",
      " 38%|███▊      | 21812/57400 [1:07:53<1:49:03,  5.44it/s]\n",
      "Epoch 39 \t Training loss: 1.9257788676833443 \t Validation loss: 1.9668636604890986 \t \n",
      "\n",
      "9 epoch without improvement\n",
      " 39%|███▉      | 22386/57400 [1:09:38<1:48:02,  5.40it/s]\n",
      "Epoch 40 \t Training loss: 1.9267408949572866 \t Validation loss: 1.9530978142204931 \t \n",
      " 40%|████      | 22960/57400 [1:11:23<1:40:17,  5.72it/s]\n",
      "Epoch 41 \t Training loss: 1.9247749235987248 \t Validation loss: 1.9659270815930123 \t \n",
      "\n",
      "1 epoch without improvement\n",
      " 41%|████      | 23534/57400 [1:13:07<1:25:13,  6.62it/s]\n",
      "Epoch 42 \t Training loss: 1.9253475310910455 \t Validation loss: 1.9656449374506029 \t \n",
      "\n",
      "2 epoch without improvement\n",
      " 42%|████▏     | 24108/57400 [1:14:52<1:23:21,  6.66it/s]\n",
      "Epoch 43 \t Training loss: 1.925727670824071 \t Validation loss: 1.9570688635615978 \t \n",
      "\n",
      "3 epoch without improvement\n",
      " 43%|████▎     | 24682/57400 [1:16:37<1:34:59,  5.74it/s]\n",
      "Epoch 44 \t Training loss: 1.92209193847736 \t Validation loss: 1.961721313201775 \t \n",
      "\n",
      "4 epoch without improvement\n",
      " 44%|████▍     | 25256/57400 [1:18:22<1:29:54,  5.96it/s]\n",
      "Epoch 45 \t Training loss: 1.9223080736419464 \t Validation loss: 1.9552380776001235 \t \n",
      "\n",
      "5 epoch without improvement\n",
      " 45%|████▌     | 25830/57400 [1:20:07<1:31:32,  5.75it/s]\n",
      "Epoch 46 \t Training loss: 1.9205804338438586 \t Validation loss: 1.9618659484184395 \t \n",
      "\n",
      "6 epoch without improvement\n",
      " 46%|████▌     | 26404/57400 [1:21:51<1:20:39,  6.40it/s]\n",
      "Epoch 47 \t Training loss: 1.9207855984308995 \t Validation loss: 1.964341816255602 \t \n",
      "\n",
      "7 epoch without improvement\n",
      " 47%|████▋     | 26978/57400 [1:23:36<1:28:13,  5.75it/s]\n",
      "Epoch 48 \t Training loss: 1.9251718589653122 \t Validation loss: 1.9596603502661496 \t \n",
      "\n",
      "8 epoch without improvement\n",
      " 48%|████▊     | 27552/57400 [1:25:20<1:14:10,  6.71it/s]\n",
      "Epoch 49 \t Training loss: 1.9205944953479834 \t Validation loss: 1.9662857682017956 \t \n",
      "\n",
      "9 epoch without improvement\n",
      " 49%|████▉     | 28126/57400 [1:27:06<1:12:45,  6.71it/s]\n",
      "Epoch 50 \t Training loss: 1.9205006892672813 \t Validation loss: 1.9688268172538888 \t \n",
      "\n",
      "10 epoch without improvement\n",
      "Validation_loss hasn't improve in 10 epoch. Stopping training after 50 epochs...\n"
     ]
    },
    {
     "data": {
      "image/png": "[encoded data removed]",
      "text/plain": [
       "<Figure size 640x480 with 1 Axes>"
      ]
     },
     "metadata": {},
     "output_type": "display_data"
    }
   ],
   "source": [
    "model = mt.MultiWithDependencies(model_conf,vocab).to(device)\n",
    "optimizer = AdamW(model.parameters(), lr=learning_rate,weight_decay=0.1)\n",
    "save_path='roberta_multitask_relative_1'\n",
    "train.train_function_multi(model,num_epochs,dl_train,optimizer,early_stop = 10,dl_val = dl_val,save_path=save_path,es_threshold=0)"
   ]
  },
  {
   "cell_type": "code",
   "execution_count": 13,
   "metadata": {},
   "outputs": [
    {
     "name": "stderr",
     "output_type": "stream",
     "text": [
      "Some weights of the model checkpoint at roberta-base were not used when initializing RobertaModel: ['lm_head.dense.bias', 'lm_head.layer_norm.weight', 'lm_head.bias', 'lm_head.layer_norm.bias', 'lm_head.dense.weight', 'lm_head.decoder.weight']\n",
      "- This IS expected if you are initializing RobertaModel from the checkpoint of a model trained on another task or with another architecture (e.g. initializing a BertForSequenceClassification model from a BertForPreTraining model).\n",
      "- This IS NOT expected if you are initializing RobertaModel from the checkpoint of a model that you expect to be exactly identical (initializing a BertForSequenceClassification model from a BertForSequenceClassification model).\n"
     ]
    },
    {
     "name": "stdout",
     "output_type": "stream",
     "text": [
      "Evaluación del modelo\n",
      "{'to': {'recall': 0.7184343434343434, 'precision': 0.7184343434343434, 'f1': 0.7184343434343435, 'accuracy': 0.7184343434343434}, 'as': {'recall': 0.7314211212516297, 'precision': 0.7314211212516297, 'f1': 0.7314211212516297, 'accuracy': 0.7314211212516297}, 'about': {'recall': 0.8443877551020408, 'precision': 0.8443877551020408, 'f1': 0.8443877551020407, 'accuracy': 0.8443877551020408}} \n",
      "\n",
      "Evaluación en etiquetas male\n",
      "{'to': {'recall': 0.7493917274939172, 'precision': 0.7493917274939172, 'f1': 0.7493917274939172, 'accuracy': 0.7493917274939172}, 'as': {'recall': 0.7525252525252525, 'precision': 0.7525252525252525, 'f1': 0.7525252525252525, 'accuracy': 0.7525252525252525}, 'about': {'recall': 0.8541666666666666, 'precision': 0.8541666666666666, 'f1': 0.8541666666666666, 'accuracy': 0.8541666666666666}} \n",
      "\n",
      "Evaluación en etiquetas female\n",
      "{'to': {'recall': 0.6850393700787402, 'precision': 0.6850393700787402, 'f1': 0.6850393700787402, 'accuracy': 0.6850393700787402}, 'as': {'recall': 0.7088948787061995, 'precision': 0.7088948787061995, 'f1': 0.7088948787061995, 'accuracy': 0.7088948787061995}, 'about': {'recall': 0.835, 'precision': 0.835, 'f1': 0.835, 'accuracy': 0.835}} \n",
      "\n"
     ]
    }
   ],
   "source": [
    "model = mt.MultiWithDependencies(model_conf,vocab).to(device)\n",
    "model.load_state_dict(torch.load(save_path))\n",
    "\n",
    "print(\"Evaluación del modelo\")\n",
    "result_global = train.eval_func_multi(model,dl_eval,tasks,gender=None)\n",
    "generic.update_global_metric_multi(result_global,global_metrics,mtype='global')\n",
    "print(result_global,'\\n')\n",
    "print(\"Evaluación en etiquetas male\")\n",
    "result_global = train.eval_func_multi(model,dl_eval,tasks,gender='male')\n",
    "generic.update_global_metric_multi(result_global,global_metrics,mtype='male')\n",
    "print(result_global,'\\n')\n",
    "print(\"Evaluación en etiquetas female\")\n",
    "result_global = train.eval_func_multi(model,dl_eval,tasks,gender='female')\n",
    "generic.update_global_metric_multi(result_global,global_metrics,mtype='female')\n",
    "print(result_global,'\\n')\n"
   ]
  },
  {
   "cell_type": "code",
   "execution_count": 14,
   "metadata": {},
   "outputs": [
    {
     "name": "stderr",
     "output_type": "stream",
     "text": [
      "Some weights of the model checkpoint at roberta-base were not used when initializing RobertaModel: ['lm_head.dense.bias', 'lm_head.layer_norm.weight', 'lm_head.bias', 'lm_head.layer_norm.bias', 'lm_head.dense.weight', 'lm_head.decoder.weight']\n",
      "- This IS expected if you are initializing RobertaModel from the checkpoint of a model trained on another task or with another architecture (e.g. initializing a BertForSequenceClassification model from a BertForPreTraining model).\n",
      "- This IS NOT expected if you are initializing RobertaModel from the checkpoint of a model that you expect to be exactly identical (initializing a BertForSequenceClassification model from a BertForSequenceClassification model).\n"
     ]
    },
    {
     "data": {
      "application/vnd.jupyter.widget-view+json": {
       "model_id": "9b8f09104e24402ea2fd3c74b1eb1bcc",
       "version_major": 2,
       "version_minor": 0
      },
      "text/plain": [
       "  0%|          | 0/57400 [00:00<?, ?it/s]"
      ]
     },
     "metadata": {},
     "output_type": "display_data"
    },
    {
     "name": "stdout",
     "output_type": "stream",
     "text": [
      "Epoch 1 \t Training loss: 2.0585245745522633 \t Validation loss: 2.0028914556664934 \t \n",
      "  1%|          | 574/57400 [01:45<2:42:18,  5.83it/s]\n",
      "Epoch 2 \t Training loss: 1.9976504181320243 \t Validation loss: 1.9862678919808339 \t \n",
      "  2%|▏         | 1148/57400 [03:30<2:42:34,  5.77it/s]\n",
      "Epoch 3 \t Training loss: 1.9866888442105948 \t Validation loss: 1.983093835539737 \t \n",
      "  3%|▎         | 1722/57400 [05:16<2:20:02,  6.63it/s]\n",
      "Epoch 4 \t Training loss: 1.980019681960448 \t Validation loss: 1.9770666967004031 \t \n",
      "  4%|▍         | 2296/57400 [07:01<2:29:55,  6.13it/s]\n",
      "Epoch 5 \t Training loss: 1.9735349603646308 \t Validation loss: 1.9788187903872991 \t \n",
      "\n",
      "1 epoch without improvement\n",
      "  5%|▌         | 2870/57400 [08:47<2:16:03,  6.68it/s]\n",
      "Epoch 6 \t Training loss: 1.9704038241183717 \t Validation loss: 1.9742788722959614 \t \n",
      "  6%|▌         | 3444/57400 [10:32<2:39:36,  5.63it/s]\n",
      "Epoch 7 \t Training loss: 1.9672246957489838 \t Validation loss: 1.9711172621128923 \t \n",
      "  7%|▋         | 4018/57400 [12:17<2:19:45,  6.37it/s]\n",
      "Epoch 8 \t Training loss: 1.9639882580328487 \t Validation loss: 1.9711950269796081 \t \n",
      "\n",
      "1 epoch without improvement\n",
      "  8%|▊         | 4592/57400 [14:01<2:32:35,  5.77it/s]\n",
      "Epoch 9 \t Training loss: 1.9623203155055695 \t Validation loss: 1.9656224331613315 \t \n",
      "  9%|▉         | 5166/57400 [15:47<2:39:54,  5.44it/s]\n",
      "Epoch 10 \t Training loss: 1.9594690450807897 \t Validation loss: 1.9755095910217801 \t \n",
      "\n",
      "1 epoch without improvement\n",
      " 10%|█         | 5740/57400 [17:31<2:41:57,  5.32it/s]\n",
      "Epoch 11 \t Training loss: 1.9595543185592943 \t Validation loss: 1.9695306066739358 \t \n",
      "\n",
      "2 epoch without improvement\n",
      " 11%|█         | 6314/57400 [19:17<2:27:20,  5.78it/s]\n",
      "Epoch 12 \t Training loss: 1.959810546050919 \t Validation loss: 1.9672165058426938 \t \n",
      "\n",
      "3 epoch without improvement\n",
      " 12%|█▏        | 6888/57400 [21:02<2:26:40,  5.74it/s]\n",
      "Epoch 13 \t Training loss: 1.9566301229938812 \t Validation loss: 1.9682293382741638 \t \n",
      "\n",
      "4 epoch without improvement\n",
      " 13%|█▎        | 7462/57400 [22:47<2:14:53,  6.17it/s]\n",
      "Epoch 14 \t Training loss: 1.9537487831680618 \t Validation loss: 1.9614703493603205 \t \n",
      " 14%|█▍        | 8036/57400 [24:33<2:23:44,  5.72it/s]\n",
      "Epoch 15 \t Training loss: 1.951412295422903 \t Validation loss: 1.9652163820751642 \t \n",
      "\n",
      "1 epoch without improvement\n",
      " 15%|█▌        | 8610/57400 [26:18<2:18:49,  5.86it/s]\n",
      "Epoch 16 \t Training loss: 1.949278869903046 \t Validation loss: 1.9656126074871774 \t \n",
      "\n",
      "2 epoch without improvement\n",
      " 16%|█▌        | 9184/57400 [28:03<2:02:42,  6.55it/s]\n",
      "Epoch 17 \t Training loss: 1.9512083711109094 \t Validation loss: 1.9677012875928717 \t \n",
      "\n",
      "3 epoch without improvement\n",
      " 17%|█▋        | 9758/57400 [29:47<2:19:51,  5.68it/s]\n",
      "Epoch 18 \t Training loss: 1.949302874791082 \t Validation loss: 1.9610946057206493 \t \n",
      " 18%|█▊        | 10332/57400 [31:33<2:16:14,  5.76it/s]\n",
      "Epoch 19 \t Training loss: 1.9476454962006013 \t Validation loss: 1.9559019521131353 \t \n",
      " 19%|█▉        | 10906/57400 [33:18<1:54:38,  6.76it/s]\n",
      "Epoch 20 \t Training loss: 1.9468001785593996 \t Validation loss: 1.9647342976877245 \t \n",
      "\n",
      "1 epoch without improvement\n",
      " 20%|██        | 11480/57400 [35:03<2:14:21,  5.70it/s]\n",
      "Epoch 21 \t Training loss: 1.9465007630374789 \t Validation loss: 1.9663991645231085 \t \n",
      "\n",
      "2 epoch without improvement\n",
      " 21%|██        | 12054/57400 [36:48<2:12:59,  5.68it/s]\n",
      "Epoch 22 \t Training loss: 1.9442730539767168 \t Validation loss: 1.958375744900461 \t \n",
      "\n",
      "3 epoch without improvement\n",
      " 22%|██▏       | 12628/57400 [38:32<2:17:09,  5.44it/s]\n",
      "Epoch 23 \t Training loss: 1.9427559795279952 \t Validation loss: 1.9755893662824469 \t \n",
      "\n",
      "4 epoch without improvement\n",
      " 23%|██▎       | 13202/57400 [40:18<2:02:32,  6.01it/s]\n",
      "Epoch 24 \t Training loss: 1.9413542629118996 \t Validation loss: 1.9645964594210608 \t \n",
      "\n",
      "5 epoch without improvement\n",
      " 24%|██▍       | 13776/57400 [42:03<2:04:21,  5.85it/s]\n",
      "Epoch 25 \t Training loss: 1.939268333363616 \t Validation loss: 1.9633957652722376 \t \n",
      "\n",
      "6 epoch without improvement\n",
      " 25%|██▌       | 14350/57400 [43:48<1:45:17,  6.81it/s]\n",
      "Epoch 26 \t Training loss: 1.9398254162343123 \t Validation loss: 1.9654124874179646 \t \n",
      "\n",
      "7 epoch without improvement\n",
      " 26%|██▌       | 14924/57400 [45:33<1:45:25,  6.72it/s]\n",
      "Epoch 27 \t Training loss: 1.9365432542790935 \t Validation loss: 1.9613966275069674 \t \n",
      "\n",
      "8 epoch without improvement\n",
      " 27%|██▋       | 15498/57400 [47:18<1:54:14,  6.11it/s]\n",
      "Epoch 28 \t Training loss: 1.9374526755735018 \t Validation loss: 1.9651975268024509 \t \n",
      "\n",
      "9 epoch without improvement\n",
      " 28%|██▊       | 16072/57400 [49:03<1:46:21,  6.48it/s]\n",
      "Epoch 29 \t Training loss: 1.9374792546760746 \t Validation loss: 1.9545973983861633 \t \n",
      " 29%|██▉       | 16646/57400 [50:48<2:01:36,  5.59it/s]\n",
      "Epoch 30 \t Training loss: 1.9329474915195426 \t Validation loss: 1.9605186672533972 \t \n",
      "\n",
      "1 epoch without improvement\n",
      " 30%|███       | 17220/57400 [52:33<1:57:07,  5.72it/s]\n",
      "Epoch 31 \t Training loss: 1.9363883017247563 \t Validation loss: 1.9658818204524153 \t \n",
      "\n",
      "2 epoch without improvement\n",
      " 31%|███       | 17794/57400 [54:18<1:38:59,  6.67it/s]\n",
      "Epoch 32 \t Training loss: 1.9337580837439161 \t Validation loss: 1.960775595600322 \t \n",
      "\n",
      "3 epoch without improvement\n",
      " 32%|███▏      | 18368/57400 [56:04<1:51:56,  5.81it/s]\n",
      "Epoch 33 \t Training loss: 1.935286271447504 \t Validation loss: 1.9615244380498336 \t \n",
      "\n",
      "4 epoch without improvement\n",
      " 33%|███▎      | 18942/57400 [57:48<1:43:25,  6.20it/s]\n",
      "Epoch 34 \t Training loss: 1.9341105349387857 \t Validation loss: 1.9660484285677893 \t \n",
      "\n",
      "5 epoch without improvement\n",
      " 34%|███▍      | 19516/57400 [59:32<1:49:06,  5.79it/s]\n",
      "Epoch 35 \t Training loss: 1.9305955616023898 \t Validation loss: 1.9597228563438027 \t \n",
      "\n",
      "6 epoch without improvement\n",
      " 35%|███▌      | 20090/57400 [1:01:17<1:36:51,  6.42it/s]\n",
      "Epoch 36 \t Training loss: 1.9307691986552513 \t Validation loss: 1.9541309061696974 \t \n",
      " 36%|███▌      | 20664/57400 [1:03:02<1:46:31,  5.75it/s]\n",
      "Epoch 37 \t Training loss: 1.9334554809311126 \t Validation loss: 1.9665236978207605 \t \n",
      "\n",
      "1 epoch without improvement\n",
      " 37%|███▋      | 21238/57400 [1:04:47<2:17:13,  4.39it/s]\n",
      "Epoch 38 \t Training loss: 1.9314122316313953 \t Validation loss: 1.9607510364661782 \t \n",
      "\n",
      "2 epoch without improvement\n",
      " 38%|███▊      | 21812/57400 [1:06:32<1:43:01,  5.76it/s]\n",
      "Epoch 39 \t Training loss: 1.9279854949758444 \t Validation loss: 1.9672507310317735 \t \n",
      "\n",
      "3 epoch without improvement\n",
      " 39%|███▉      | 22386/57400 [1:08:17<1:27:14,  6.69it/s]\n",
      "Epoch 40 \t Training loss: 1.9284810504846872 \t Validation loss: 1.9571856260299683 \t \n",
      "\n",
      "4 epoch without improvement\n",
      " 40%|████      | 22960/57400 [1:10:02<1:39:33,  5.77it/s]\n",
      "Epoch 41 \t Training loss: 1.9290679693222046 \t Validation loss: 1.9607829663713099 \t \n",
      "\n",
      "5 epoch without improvement\n",
      " 41%|████      | 23534/57400 [1:11:46<1:27:18,  6.47it/s]\n",
      "Epoch 42 \t Training loss: 1.9270555258627968 \t Validation loss: 1.9652473704289581 \t \n",
      "\n",
      "6 epoch without improvement\n",
      " 42%|████▏     | 24108/57400 [1:13:30<1:29:44,  6.18it/s]\n",
      "Epoch 43 \t Training loss: 1.9283250333540116 \t Validation loss: 1.9610321036839888 \t \n",
      "\n",
      "7 epoch without improvement\n",
      " 43%|████▎     | 24682/57400 [1:15:15<1:29:58,  6.06it/s]\n",
      "Epoch 44 \t Training loss: 1.9274334768385006 \t Validation loss: 1.9645567243382083 \t \n",
      "\n",
      "8 epoch without improvement\n",
      " 44%|████▍     | 25256/57400 [1:16:59<1:29:31,  5.98it/s]\n",
      "Epoch 45 \t Training loss: 1.9255546921221636 \t Validation loss: 1.9589824535078921 \t \n",
      "\n",
      "9 epoch without improvement\n",
      " 45%|████▌     | 25830/57400 [1:18:44<1:26:36,  6.07it/s]\n",
      "Epoch 46 \t Training loss: 1.925817069068603 \t Validation loss: 1.9686876090906433 \t \n",
      "\n",
      "10 epoch without improvement\n",
      "Validation_loss hasn't improve in 10 epoch. Stopping training after 46 epochs...\n"
     ]
    },
    {
     "data": {
      "image/png": "[encoded data removed]",
      "text/plain": [
       "<Figure size 640x480 with 1 Axes>"
      ]
     },
     "metadata": {},
     "output_type": "display_data"
    }
   ],
   "source": [
    "model = mt.MultiWithDependencies(model_conf,vocab).to(device)\n",
    "optimizer = AdamW(model.parameters(), lr=learning_rate,weight_decay=0.1)\n",
    "save_path='roberta_multitask_relative_2'\n",
    "train.train_function_multi(model,num_epochs,dl_train,optimizer,early_stop = 10,dl_val = dl_val,save_path=save_path,es_threshold=0)"
   ]
  },
  {
   "cell_type": "code",
   "execution_count": 15,
   "metadata": {},
   "outputs": [
    {
     "name": "stderr",
     "output_type": "stream",
     "text": [
      "Some weights of the model checkpoint at roberta-base were not used when initializing RobertaModel: ['lm_head.dense.bias', 'lm_head.layer_norm.weight', 'lm_head.bias', 'lm_head.layer_norm.bias', 'lm_head.dense.weight', 'lm_head.decoder.weight']\n",
      "- This IS expected if you are initializing RobertaModel from the checkpoint of a model trained on another task or with another architecture (e.g. initializing a BertForSequenceClassification model from a BertForPreTraining model).\n",
      "- This IS NOT expected if you are initializing RobertaModel from the checkpoint of a model that you expect to be exactly identical (initializing a BertForSequenceClassification model from a BertForSequenceClassification model).\n"
     ]
    },
    {
     "name": "stdout",
     "output_type": "stream",
     "text": [
      "Evaluación del modelo\n",
      "{'to': {'recall': 0.7184343434343434, 'precision': 0.7184343434343434, 'f1': 0.7184343434343435, 'accuracy': 0.7184343434343434}, 'as': {'recall': 0.7249022164276402, 'precision': 0.7249022164276402, 'f1': 0.7249022164276402, 'accuracy': 0.7249022164276402}, 'about': {'recall': 0.8431122448979592, 'precision': 0.8431122448979592, 'f1': 0.8431122448979592, 'accuracy': 0.8431122448979592}} \n",
      "\n",
      "Evaluación en etiquetas male\n",
      "{'to': {'recall': 0.732360097323601, 'precision': 0.732360097323601, 'f1': 0.732360097323601, 'accuracy': 0.732360097323601}, 'as': {'recall': 0.7373737373737373, 'precision': 0.7373737373737373, 'f1': 0.7373737373737375, 'accuracy': 0.7373737373737373}, 'about': {'recall': 0.8515625, 'precision': 0.8515625, 'f1': 0.8515625, 'accuracy': 0.8515625}} \n",
      "\n",
      "Evaluación en etiquetas female\n",
      "{'to': {'recall': 0.7034120734908137, 'precision': 0.7034120734908137, 'f1': 0.7034120734908137, 'accuracy': 0.7034120734908137}, 'as': {'recall': 0.7115902964959568, 'precision': 0.7115902964959568, 'f1': 0.7115902964959567, 'accuracy': 0.7115902964959568}, 'about': {'recall': 0.835, 'precision': 0.835, 'f1': 0.835, 'accuracy': 0.835}} \n",
      "\n"
     ]
    }
   ],
   "source": [
    "model = mt.MultiWithDependencies(model_conf,vocab).to(device)\n",
    "model.load_state_dict(torch.load(save_path))\n",
    "\n",
    "print(\"Evaluación del modelo\")\n",
    "result_global = train.eval_func_multi(model,dl_eval,tasks,gender=None)\n",
    "generic.update_global_metric_multi(result_global,global_metrics,mtype='global')\n",
    "print(result_global,'\\n')\n",
    "print(\"Evaluación en etiquetas male\")\n",
    "result_global = train.eval_func_multi(model,dl_eval,tasks,gender='male')\n",
    "generic.update_global_metric_multi(result_global,global_metrics,mtype='male')\n",
    "print(result_global,'\\n')\n",
    "print(\"Evaluación en etiquetas female\")\n",
    "result_global = train.eval_func_multi(model,dl_eval,tasks,gender='female')\n",
    "generic.update_global_metric_multi(result_global,global_metrics,mtype='female')\n",
    "print(result_global,'\\n')\n"
   ]
  },
  {
   "cell_type": "code",
   "execution_count": 16,
   "metadata": {},
   "outputs": [
    {
     "name": "stderr",
     "output_type": "stream",
     "text": [
      "Some weights of the model checkpoint at roberta-base were not used when initializing RobertaModel: ['lm_head.dense.bias', 'lm_head.layer_norm.weight', 'lm_head.bias', 'lm_head.layer_norm.bias', 'lm_head.dense.weight', 'lm_head.decoder.weight']\n",
      "- This IS expected if you are initializing RobertaModel from the checkpoint of a model trained on another task or with another architecture (e.g. initializing a BertForSequenceClassification model from a BertForPreTraining model).\n",
      "- This IS NOT expected if you are initializing RobertaModel from the checkpoint of a model that you expect to be exactly identical (initializing a BertForSequenceClassification model from a BertForSequenceClassification model).\n"
     ]
    },
    {
     "data": {
      "application/vnd.jupyter.widget-view+json": {
       "model_id": "6bd715dbad404590bf3740e2b59e3332",
       "version_major": 2,
       "version_minor": 0
      },
      "text/plain": [
       "  0%|          | 0/57400 [00:00<?, ?it/s]"
      ]
     },
     "metadata": {},
     "output_type": "display_data"
    },
    {
     "name": "stdout",
     "output_type": "stream",
     "text": [
      "Epoch 1 \t Training loss: 2.0403252700895385 \t Validation loss: 2.003806855718968 \t \n",
      "  1%|          | 574/57400 [01:47<2:19:45,  6.78it/s]\n",
      "Epoch 2 \t Training loss: 1.9901951225377126 \t Validation loss: 1.9751164327233524 \t \n",
      "  2%|▏         | 1148/57400 [03:34<2:40:39,  5.84it/s]\n",
      "Epoch 3 \t Training loss: 1.9802017718657383 \t Validation loss: 1.972472071647644 \t \n",
      "  3%|▎         | 1722/57400 [05:20<2:37:38,  5.89it/s]\n",
      "Epoch 4 \t Training loss: 1.9760624920034242 \t Validation loss: 1.9705112364332555 \t \n",
      "  4%|▍         | 2296/57400 [07:07<2:56:31,  5.20it/s]\n",
      "Epoch 5 \t Training loss: 1.9726752595203678 \t Validation loss: 1.9710514909130032 \t \n",
      "\n",
      "1 epoch without improvement\n",
      "  5%|▌         | 2870/57400 [08:53<2:42:20,  5.60it/s]\n",
      "Epoch 6 \t Training loss: 1.9680346819581886 \t Validation loss: 1.9761002265800864 \t \n",
      "\n",
      "2 epoch without improvement\n",
      "  6%|▌         | 3444/57400 [10:39<2:42:28,  5.53it/s]\n",
      "Epoch 7 \t Training loss: 1.9643616591181075 \t Validation loss: 1.9675449233944133 \t \n",
      "  7%|▋         | 4018/57400 [12:26<2:34:40,  5.75it/s]\n",
      "Epoch 8 \t Training loss: 1.9623929677524634 \t Validation loss: 1.9671576912120237 \t \n",
      "  8%|▊         | 4592/57400 [14:13<2:30:01,  5.87it/s]\n",
      "Epoch 9 \t Training loss: 1.9623071227339501 \t Validation loss: 1.961597842685247 \t \n",
      "  9%|▉         | 5166/57400 [15:59<2:25:34,  5.98it/s]\n",
      "Epoch 10 \t Training loss: 1.9604192112381034 \t Validation loss: 1.965748318171097 \t \n",
      "\n",
      "1 epoch without improvement\n",
      " 10%|█         | 5740/57400 [17:46<2:38:02,  5.45it/s]\n",
      "Epoch 11 \t Training loss: 1.9591389904869558 \t Validation loss: 1.9580380391266385 \t \n",
      " 11%|█         | 6314/57400 [19:33<2:08:59,  6.60it/s]\n",
      "Epoch 12 \t Training loss: 1.9560710845924005 \t Validation loss: 1.9668514607316356 \t \n",
      "\n",
      "1 epoch without improvement\n",
      " 12%|█▏        | 6888/57400 [21:19<2:07:49,  6.59it/s]\n",
      "Epoch 13 \t Training loss: 1.9551695809547078 \t Validation loss: 1.9643474291946927 \t \n",
      "\n",
      "2 epoch without improvement\n",
      " 13%|█▎        | 7462/57400 [23:06<2:25:38,  5.71it/s]\n",
      "Epoch 14 \t Training loss: 1.9514450605322675 \t Validation loss: 1.9635748923835108 \t \n",
      "\n",
      "3 epoch without improvement\n",
      " 14%|█▍        | 8036/57400 [24:52<2:00:53,  6.81it/s]\n",
      "Epoch 15 \t Training loss: 1.9517510419107895 \t Validation loss: 1.966167641898333 \t \n",
      "\n",
      "4 epoch without improvement\n",
      " 15%|█▌        | 8610/57400 [26:38<2:08:09,  6.35it/s]\n",
      "Epoch 16 \t Training loss: 1.9490924743409772 \t Validation loss: 1.9730206303677316 \t \n",
      "\n",
      "5 epoch without improvement\n",
      " 16%|█▌        | 9184/57400 [28:24<1:58:58,  6.75it/s]\n",
      "Epoch 17 \t Training loss: 1.9471083945928966 \t Validation loss: 1.9572873398409052 \t \n",
      " 17%|█▋        | 9758/57400 [30:10<2:08:20,  6.19it/s]\n",
      "Epoch 18 \t Training loss: 1.9462378367729718 \t Validation loss: 1.9723421375630266 \t \n",
      "\n",
      "1 epoch without improvement\n",
      " 18%|█▊        | 10332/57400 [31:55<2:26:55,  5.34it/s]\n",
      "Epoch 19 \t Training loss: 1.9463329134502478 \t Validation loss: 1.9711869773218187 \t \n",
      "\n",
      "2 epoch without improvement\n",
      " 19%|█▉        | 10906/57400 [33:41<2:03:18,  6.28it/s]\n",
      "Epoch 20 \t Training loss: 1.9415778575873957 \t Validation loss: 1.966313776323351 \t \n",
      "\n",
      "3 epoch without improvement\n",
      " 20%|██        | 11480/57400 [35:27<2:04:40,  6.14it/s]\n",
      "Epoch 21 \t Training loss: 1.9431591102470505 \t Validation loss: 1.9622755596193218 \t \n",
      "\n",
      "4 epoch without improvement\n",
      " 21%|██        | 12054/57400 [37:14<2:12:29,  5.70it/s]\n",
      "Epoch 22 \t Training loss: 1.9423716113957794 \t Validation loss: 1.967873696553505 \t \n",
      "\n",
      "5 epoch without improvement\n",
      " 22%|██▏       | 12628/57400 [39:00<2:10:51,  5.70it/s]\n",
      "Epoch 23 \t Training loss: 1.9430263482735133 \t Validation loss: 1.960498161235098 \t \n",
      "\n",
      "6 epoch without improvement\n",
      " 23%|██▎       | 13202/57400 [40:46<1:52:49,  6.53it/s]\n",
      "Epoch 24 \t Training loss: 1.9417361660701473 \t Validation loss: 1.9618473457077803 \t \n",
      "\n",
      "7 epoch without improvement\n",
      " 24%|██▍       | 13776/57400 [42:32<1:53:26,  6.41it/s]\n",
      "Epoch 25 \t Training loss: 1.939303479751228 \t Validation loss: 1.9658562490495586 \t \n",
      "\n",
      "8 epoch without improvement\n",
      " 25%|██▌       | 14350/57400 [44:18<2:13:56,  5.36it/s]\n",
      "Epoch 26 \t Training loss: 1.9404343605456866 \t Validation loss: 1.954876544111866 \t \n",
      " 26%|██▌       | 14924/57400 [46:05<1:46:19,  6.66it/s]\n",
      "Epoch 27 \t Training loss: 1.937205592306649 \t Validation loss: 1.95704635725183 \t \n",
      "\n",
      "1 epoch without improvement\n",
      " 27%|██▋       | 15498/57400 [47:51<1:47:27,  6.50it/s]\n",
      "Epoch 28 \t Training loss: 1.938471899630716 \t Validation loss: 1.9576785321963035 \t \n",
      "\n",
      "2 epoch without improvement\n",
      " 28%|██▊       | 16072/57400 [49:36<2:06:20,  5.45it/s]\n",
      "Epoch 29 \t Training loss: 1.9344552553904597 \t Validation loss: 1.9599108392909421 \t \n",
      "\n",
      "3 epoch without improvement\n",
      " 29%|██▉       | 16646/57400 [51:23<1:43:52,  6.54it/s]\n",
      "Epoch 30 \t Training loss: 1.9330970833941203 \t Validation loss: 1.9658224643287012 \t \n",
      "\n",
      "4 epoch without improvement\n",
      " 30%|███       | 17220/57400 [53:09<1:52:33,  5.95it/s]\n",
      "Epoch 31 \t Training loss: 1.9366144654227466 \t Validation loss: 1.9607161950256864 \t \n",
      "\n",
      "5 epoch without improvement\n",
      " 31%|███       | 17794/57400 [54:56<1:41:41,  6.49it/s]\n",
      "Epoch 32 \t Training loss: 1.9357515469660742 \t Validation loss: 1.9583424976316548 \t \n",
      "\n",
      "6 epoch without improvement\n",
      " 32%|███▏      | 18368/57400 [56:42<1:54:14,  5.69it/s]\n",
      "Epoch 33 \t Training loss: 1.929937386969656 \t Validation loss: 1.9587921570923368 \t \n",
      "\n",
      "7 epoch without improvement\n",
      " 33%|███▎      | 18942/57400 [58:27<2:09:39,  4.94it/s]\n",
      "Epoch 34 \t Training loss: 1.9325009135834432 \t Validation loss: 1.9648483021784637 \t \n",
      "\n",
      "8 epoch without improvement\n",
      " 34%|███▍      | 19516/57400 [1:00:14<2:04:57,  5.05it/s]\n",
      "Epoch 35 \t Training loss: 1.9338466352702017 \t Validation loss: 1.9590090028310225 \t \n",
      "\n",
      "9 epoch without improvement\n",
      " 35%|███▌      | 20090/57400 [1:02:00<1:56:00,  5.36it/s]\n",
      "Epoch 36 \t Training loss: 1.9294145362717765 \t Validation loss: 1.9685350110975361 \t \n",
      "\n",
      "10 epoch without improvement\n",
      "Validation_loss hasn't improve in 10 epoch. Stopping training after 36 epochs...\n"
     ]
    },
    {
     "data": {
      "image/png": "[encoded data removed]",
      "text/plain": [
       "<Figure size 640x480 with 1 Axes>"
      ]
     },
     "metadata": {},
     "output_type": "display_data"
    }
   ],
   "source": [
    "model = mt.MultiWithDependencies(model_conf,vocab).to(device)\n",
    "optimizer = AdamW(model.parameters(), lr=learning_rate,weight_decay=0.1)\n",
    "save_path='roberta_multitask_relative_3'\n",
    "train.train_function_multi(model,num_epochs,dl_train,optimizer,early_stop = 10,dl_val = dl_val,save_path=save_path,es_threshold=0)"
   ]
  },
  {
   "cell_type": "code",
   "execution_count": 17,
   "metadata": {},
   "outputs": [
    {
     "name": "stderr",
     "output_type": "stream",
     "text": [
      "Some weights of the model checkpoint at roberta-base were not used when initializing RobertaModel: ['lm_head.dense.bias', 'lm_head.layer_norm.weight', 'lm_head.bias', 'lm_head.layer_norm.bias', 'lm_head.dense.weight', 'lm_head.decoder.weight']\n",
      "- This IS expected if you are initializing RobertaModel from the checkpoint of a model trained on another task or with another architecture (e.g. initializing a BertForSequenceClassification model from a BertForPreTraining model).\n",
      "- This IS NOT expected if you are initializing RobertaModel from the checkpoint of a model that you expect to be exactly identical (initializing a BertForSequenceClassification model from a BertForSequenceClassification model).\n"
     ]
    },
    {
     "name": "stdout",
     "output_type": "stream",
     "text": [
      "Evaluación del modelo\n",
      "{'to': {'recall': 0.7184343434343434, 'precision': 0.7184343434343434, 'f1': 0.7184343434343435, 'accuracy': 0.7184343434343434}, 'as': {'recall': 0.7327249022164276, 'precision': 0.7327249022164276, 'f1': 0.7327249022164276, 'accuracy': 0.7327249022164276}, 'about': {'recall': 0.8545918367346939, 'precision': 0.8545918367346939, 'f1': 0.8545918367346939, 'accuracy': 0.8545918367346939}} \n",
      "\n",
      "Evaluación en etiquetas male\n",
      "{'to': {'recall': 0.7347931873479319, 'precision': 0.7347931873479319, 'f1': 0.7347931873479319, 'accuracy': 0.7347931873479319}, 'as': {'recall': 0.73989898989899, 'precision': 0.73989898989899, 'f1': 0.73989898989899, 'accuracy': 0.73989898989899}, 'about': {'recall': 0.8645833333333334, 'precision': 0.8645833333333334, 'f1': 0.8645833333333333, 'accuracy': 0.8645833333333334}} \n",
      "\n",
      "Evaluación en etiquetas female\n",
      "{'to': {'recall': 0.7007874015748031, 'precision': 0.7007874015748031, 'f1': 0.7007874015748031, 'accuracy': 0.7007874015748031}, 'as': {'recall': 0.7250673854447439, 'precision': 0.7250673854447439, 'f1': 0.725067385444744, 'accuracy': 0.7250673854447439}, 'about': {'recall': 0.845, 'precision': 0.845, 'f1': 0.845, 'accuracy': 0.845}} \n",
      "\n"
     ]
    }
   ],
   "source": [
    "model = mt.MultiWithDependencies(model_conf,vocab).to(device)\n",
    "model.load_state_dict(torch.load(save_path))\n",
    "\n",
    "print(\"Evaluación del modelo\")\n",
    "result_global = train.eval_func_multi(model,dl_eval,tasks,gender=None)\n",
    "generic.update_global_metric_multi(result_global,global_metrics,mtype='global')\n",
    "print(result_global,'\\n')\n",
    "print(\"Evaluación en etiquetas male\")\n",
    "result_global = train.eval_func_multi(model,dl_eval,tasks,gender='male')\n",
    "generic.update_global_metric_multi(result_global,global_metrics,mtype='male')\n",
    "print(result_global,'\\n')\n",
    "print(\"Evaluación en etiquetas female\")\n",
    "result_global = train.eval_func_multi(model,dl_eval,tasks,gender='female')\n",
    "generic.update_global_metric_multi(result_global,global_metrics,mtype='female')\n",
    "print(result_global,'\\n')\n"
   ]
  },
  {
   "cell_type": "code",
   "execution_count": 18,
   "metadata": {},
   "outputs": [
    {
     "name": "stdout",
     "output_type": "stream",
     "text": [
      "Métricas globales: \n",
      "\n",
      "\n",
      " about\n",
      "Resultado global: {'recall': 0.8473639455782312, 'precision': 0.8473639455782312, 'f1': 0.8473639455782312, 'accuracy': 0.8473639455782312}\n",
      "Métricas etiqueta male: {'recall': 0.8567708333333334, 'precision': 0.8567708333333334, 'f1': 0.8567708333333333, 'accuracy': 0.8567708333333334}\n",
      "Métricas etiqueta female:  {'recall': 0.8383333333333333, 'precision': 0.8383333333333333, 'f1': 0.8383333333333333, 'accuracy': 0.8383333333333333}\n",
      "\n",
      " to\n",
      "Resultado global: {'recall': 0.7184343434343434, 'precision': 0.7184343434343434, 'f1': 0.7184343434343435, 'accuracy': 0.7184343434343434}\n",
      "Métricas etiqueta male: {'recall': 0.7388483373884833, 'precision': 0.7388483373884833, 'f1': 0.7388483373884833, 'accuracy': 0.7388483373884833}\n",
      "Métricas etiqueta female:  {'recall': 0.6964129483814523, 'precision': 0.6964129483814523, 'f1': 0.6964129483814523, 'accuracy': 0.6964129483814523}\n",
      "\n",
      " as\n",
      "Resultado global: {'recall': 0.7296827466318991, 'precision': 0.7296827466318991, 'f1': 0.7296827466318991, 'accuracy': 0.7296827466318991}\n",
      "Métricas etiqueta male: {'recall': 0.7432659932659933, 'precision': 0.7432659932659933, 'f1': 0.7432659932659933, 'accuracy': 0.7432659932659933}\n",
      "Métricas etiqueta female:  {'recall': 0.7151841868823001, 'precision': 0.7151841868823001, 'f1': 0.7151841868823001, 'accuracy': 0.7151841868823001}\n"
     ]
    }
   ],
   "source": [
    "\n",
    "print('Métricas globales: \\n')\n",
    "\n",
    "for task in ['about','to','as']:\n",
    "    print('\\n',task)\n",
    "    print('Resultado global:',{m:mean(values) for m,values in global_metrics[task]['global'].items()})\n",
    "    print(f'Métricas etiqueta male:',{m:mean(values) for m,values in global_metrics[task]['male'].items()})\n",
    "    print('Métricas etiqueta female: ',{m:mean(values) for m,values in global_metrics[task]['female'].items()})\n"
   ]
  }
 ],
 "metadata": {
  "kernelspec": {
   "display_name": "tfg",
   "language": "python",
   "name": "python3"
  },
  "language_info": {
   "codemirror_mode": {
    "name": "ipython",
    "version": 3
   },
   "file_extension": ".py",
   "mimetype": "text/x-python",
   "name": "python",
   "nbconvert_exporter": "python",
   "pygments_lexer": "ipython3",
   "version": "3.9.13"
  },
  "orig_nbformat": 4,
  "vscode": {
   "interpreter": {
    "hash": "35e8332e99bdf485583869dfbdef293dcf2f9293b1663ec5daea0a573af457c3"
   }
  }
 },
 "nbformat": 4,
 "nbformat_minor": 2
}
