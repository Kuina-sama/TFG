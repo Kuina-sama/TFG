{
 "cells": [
  {
   "cell_type": "code",
   "execution_count": 1,
   "metadata": {},
   "outputs": [],
   "source": [
    "import torch\n",
    "from torch.utils.data import DataLoader\n",
    "from torch.optim import SGD ,AdamW\n",
    "\n",
    "from datasets import load_dataset, load_metric\n",
    "\n",
    "import matplotlib.pyplot as plt\n",
    "\n",
    "import json\n",
    "from statistics import mean"
   ]
  },
  {
   "cell_type": "code",
   "execution_count": 2,
   "metadata": {},
   "outputs": [],
   "source": [
    "import utils_generic as generic\n",
    "import multitask_simple as mt\n",
    "import model_confs as confs\n",
    "import train"
   ]
  },
  {
   "cell_type": "code",
   "execution_count": 3,
   "metadata": {},
   "outputs": [],
   "source": [
    "device = torch.device(\"cuda\") if torch.cuda.is_available() else torch.device(\"cpu\")\n",
    "tasks = ['to','as','about']"
   ]
  },
  {
   "cell_type": "code",
   "execution_count": 4,
   "metadata": {},
   "outputs": [],
   "source": [
    "model_conf = confs.roberta_conf"
   ]
  },
  {
   "attachments": {},
   "cell_type": "markdown",
   "metadata": {},
   "source": [
    "# Datos ConvAI"
   ]
  },
  {
   "cell_type": "code",
   "execution_count": 5,
   "metadata": {},
   "outputs": [],
   "source": [
    "with open('Datasets\\ConvAI2\\convai2_complete.json','r') as f:\n",
    "    data = json.load(f)"
   ]
  },
  {
   "cell_type": "code",
   "execution_count": 6,
   "metadata": {},
   "outputs": [],
   "source": [
    "convai_train = data['train']\n",
    "convai_val = data['validation']\n",
    "\n",
    "\n",
    "\n",
    "convai_train_token = generic.tokenize_dataset(convai_train,tasks,model_conf) \n",
    "convai_val_token = generic.tokenize_dataset(convai_val,tasks,model_conf) "
   ]
  },
  {
   "cell_type": "code",
   "execution_count": 7,
   "metadata": {},
   "outputs": [],
   "source": [
    "convai_train_dataset = mt.DatasetMultiTaskSimple(convai_train_token,tasks,eval=False)\n",
    "convai_val_dataset = mt.DatasetMultiTaskSimple(convai_val_token,tasks,eval=False)"
   ]
  },
  {
   "attachments": {},
   "cell_type": "markdown",
   "metadata": {},
   "source": [
    "# Datos md_gender"
   ]
  },
  {
   "cell_type": "code",
   "execution_count": 8,
   "metadata": {},
   "outputs": [],
   "source": [
    "with open('Datasets\\md_gender\\md_complete.json','r',encoding=\"utf8\") as f:\n",
    "    md_data = json.load(f)"
   ]
  },
  {
   "cell_type": "code",
   "execution_count": 9,
   "metadata": {},
   "outputs": [],
   "source": [
    "md_tokenized = generic.tokenize_dataset(md_data,tasks,model_conf) \n",
    "md_dataset = mt.DatasetMultiTaskSimple(md_tokenized,tasks,eval=True)"
   ]
  },
  {
   "attachments": {},
   "cell_type": "markdown",
   "metadata": {},
   "source": [
    "# Creación dataloaders"
   ]
  },
  {
   "cell_type": "code",
   "execution_count": 10,
   "metadata": {},
   "outputs": [],
   "source": [
    "dl_train =DataLoader(convai_train_dataset,batch_size=128,shuffle=True,collate_fn=mt.collate_fn)\n",
    "dl_val =DataLoader(convai_val_dataset,batch_size=128,shuffle=True,collate_fn=mt.collate_fn)\n",
    "dl_eval = DataLoader(md_dataset,batch_size=128,shuffle=False,collate_fn=mt.collate_fn)"
   ]
  },
  {
   "attachments": {},
   "cell_type": "markdown",
   "metadata": {},
   "source": [
    "# Modelo multitask"
   ]
  },
  {
   "cell_type": "code",
   "execution_count": 11,
   "metadata": {},
   "outputs": [],
   "source": [
    "num_epochs = 100\n",
    "learning_rate = 1e-6\n",
    "\n",
    "global_metrics = {'about':{'global':{'recall': [], 'precision': [],'f1': [], 'accuracy': []},\n",
    "                            'male':{'recall': [], 'precision': [],'f1': [], 'accuracy': []},\n",
    "                            'female':{'recall': [], 'precision': [],'f1': [], 'accuracy': []}},\n",
    "                    'as':{'global':{'recall': [], 'precision': [],'f1': [], 'accuracy': []},\n",
    "                            'male':{'recall': [], 'precision': [],'f1': [], 'accuracy': []},\n",
    "                            'female':{'recall': [], 'precision': [],'f1': [], 'accuracy': []}},\n",
    "                    'to':{'global':{'recall': [], 'precision': [],'f1': [], 'accuracy': []},\n",
    "                            'male':{'recall': [], 'precision': [],'f1': [], 'accuracy': []},\n",
    "                            'female':{'recall': [], 'precision': [],'f1': [], 'accuracy': []}}}"
   ]
  },
  {
   "cell_type": "code",
   "execution_count": 12,
   "metadata": {},
   "outputs": [
    {
     "name": "stderr",
     "output_type": "stream",
     "text": [
      "Some weights of the model checkpoint at roberta-base were not used when initializing RobertaModel: ['lm_head.bias', 'lm_head.layer_norm.weight', 'lm_head.dense.bias', 'lm_head.decoder.weight', 'lm_head.layer_norm.bias', 'lm_head.dense.weight']\n",
      "- This IS expected if you are initializing RobertaModel from the checkpoint of a model trained on another task or with another architecture (e.g. initializing a BertForSequenceClassification model from a BertForPreTraining model).\n",
      "- This IS NOT expected if you are initializing RobertaModel from the checkpoint of a model that you expect to be exactly identical (initializing a BertForSequenceClassification model from a BertForSequenceClassification model).\n"
     ]
    },
    {
     "data": {
      "application/vnd.jupyter.widget-view+json": {
       "model_id": "31ac2b84cdea4a59b16b7f072825466e",
       "version_major": 2,
       "version_minor": 0
      },
      "text/plain": [
       "  0%|          | 0/57400 [00:00<?, ?it/s]"
      ]
     },
     "metadata": {},
     "output_type": "display_data"
    },
    {
     "name": "stdout",
     "output_type": "stream",
     "text": [
      "Epoch 1 \t Training loss: 2.056024410168053 \t Validation loss: 2.0042981576111356 \t \n",
      "  1%|          | 574/57400 [01:36<3:11:15,  4.95it/s]\n",
      "Epoch 2 \t Training loss: 1.9961548929430466 \t Validation loss: 1.9842265844345093 \t \n",
      "  2%|▏         | 1148/57400 [03:12<2:33:42,  6.10it/s]\n",
      "Epoch 3 \t Training loss: 1.9862131856459775 \t Validation loss: 1.9789534120236414 \t \n",
      "  3%|▎         | 1722/57400 [04:47<2:32:47,  6.07it/s]\n",
      "Epoch 4 \t Training loss: 1.9804423416117758 \t Validation loss: 1.9696399155309645 \t \n",
      "  4%|▍         | 2296/57400 [06:23<2:17:48,  6.66it/s]\n",
      "Epoch 5 \t Training loss: 1.9749172637271548 \t Validation loss: 1.9666064937235945 \t \n",
      "  5%|▌         | 2870/57400 [07:58<2:17:26,  6.61it/s]\n",
      "Epoch 6 \t Training loss: 1.9732648181998356 \t Validation loss: 1.9682780827506114 \t \n",
      "\n",
      "1 epoch without improvement\n",
      "  6%|▌         | 3444/57400 [09:33<2:57:47,  5.06it/s]\n",
      "Epoch 7 \t Training loss: 1.9721907483160703 \t Validation loss: 1.9720788103038982 \t \n",
      "\n",
      "2 epoch without improvement\n",
      "  7%|▋         | 4018/57400 [11:07<2:15:21,  6.57it/s]\n",
      "Epoch 8 \t Training loss: 1.9663948491475307 \t Validation loss: 1.9668719142170277 \t \n",
      "\n",
      "3 epoch without improvement\n",
      "  8%|▊         | 4592/57400 [12:41<2:14:04,  6.56it/s]\n",
      "Epoch 9 \t Training loss: 1.9661003475820562 \t Validation loss: 1.9567607317940663 \t \n",
      "  9%|▉         | 5166/57400 [14:17<2:16:31,  6.38it/s]\n",
      "Epoch 10 \t Training loss: 1.962014855408087 \t Validation loss: 1.9710770219059315 \t \n",
      "\n",
      "1 epoch without improvement\n",
      " 10%|█         | 5740/57400 [15:51<2:21:36,  6.08it/s]\n",
      "Epoch 11 \t Training loss: 1.961026664602632 \t Validation loss: 1.9676198858325764 \t \n",
      "\n",
      "2 epoch without improvement\n",
      " 11%|█         | 6314/57400 [17:26<2:18:53,  6.13it/s]\n",
      "Epoch 12 \t Training loss: 1.9604927741692042 \t Validation loss: 1.9728747868942003 \t \n",
      "\n",
      "3 epoch without improvement\n",
      " 12%|█▏        | 6888/57400 [19:01<2:07:13,  6.62it/s]\n",
      "Epoch 13 \t Training loss: 1.9564256537251357 \t Validation loss: 1.9642005976984056 \t \n",
      "\n",
      "4 epoch without improvement\n",
      " 13%|█▎        | 7462/57400 [20:36<2:08:52,  6.46it/s]\n",
      "Epoch 14 \t Training loss: 1.9540856331067633 \t Validation loss: 1.9654265440116494 \t \n",
      "\n",
      "5 epoch without improvement\n",
      " 14%|█▍        | 8036/57400 [22:11<2:07:54,  6.43it/s]\n",
      "Epoch 15 \t Training loss: 1.956085245160691 \t Validation loss: 1.9699344816854445 \t \n",
      "\n",
      "6 epoch without improvement\n",
      " 15%|█▌        | 8610/57400 [23:45<2:09:25,  6.28it/s]\n",
      "Epoch 16 \t Training loss: 1.950161302546591 \t Validation loss: 1.971127986907959 \t \n",
      "\n",
      "7 epoch without improvement\n",
      " 16%|█▌        | 9184/57400 [25:19<2:23:54,  5.58it/s]\n",
      "Epoch 17 \t Training loss: 1.9534508027266126 \t Validation loss: 1.9655826455455716 \t \n",
      "\n",
      "8 epoch without improvement\n",
      " 17%|█▋        | 9758/57400 [26:54<2:06:38,  6.27it/s]\n",
      "Epoch 18 \t Training loss: 1.9472311120415398 \t Validation loss: 1.9705730878700645 \t \n",
      "\n",
      "9 epoch without improvement\n",
      " 18%|█▊        | 10332/57400 [28:29<2:08:33,  6.10it/s]\n",
      "Epoch 19 \t Training loss: 1.9487123854899655 \t Validation loss: 1.9651189840446084 \t \n",
      "\n",
      "10 epoch without improvement\n",
      "Validation_loss hasn't improve in 10 epoch. Stopping training after 19 epochs...\n"
     ]
    },
    {
     "data": {
      "image/png": "[encoded data removed]",
      "text/plain": [
       "<Figure size 640x480 with 1 Axes>"
      ]
     },
     "metadata": {},
     "output_type": "display_data"
    }
   ],
   "source": [
    "model = mt.MultiTaskSimple(model_conf).to(device)\n",
    "optimizer = AdamW(model.parameters(), lr=learning_rate,weight_decay=0.1)\n",
    "save_path='roberta_multitask_simple_1'\n",
    "train.train_function_multi(model,num_epochs,dl_train,optimizer,early_stop = 10,dl_val = dl_val,save_path=save_path,es_threshold=0)"
   ]
  },
  {
   "cell_type": "code",
   "execution_count": 13,
   "metadata": {},
   "outputs": [
    {
     "name": "stderr",
     "output_type": "stream",
     "text": [
      "Some weights of the model checkpoint at roberta-base were not used when initializing RobertaModel: ['lm_head.bias', 'lm_head.layer_norm.weight', 'lm_head.dense.bias', 'lm_head.decoder.weight', 'lm_head.layer_norm.bias', 'lm_head.dense.weight']\n",
      "- This IS expected if you are initializing RobertaModel from the checkpoint of a model trained on another task or with another architecture (e.g. initializing a BertForSequenceClassification model from a BertForPreTraining model).\n",
      "- This IS NOT expected if you are initializing RobertaModel from the checkpoint of a model that you expect to be exactly identical (initializing a BertForSequenceClassification model from a BertForSequenceClassification model).\n"
     ]
    },
    {
     "name": "stdout",
     "output_type": "stream",
     "text": [
      "Evaluación del modelo\n",
      "{'to': {'recall': 0.7209595959595959, 'precision': 0.7209595959595959, 'f1': 0.7209595959595958, 'accuracy': 0.7209595959595959}, 'as': {'recall': 0.7405475880052151, 'precision': 0.7405475880052151, 'f1': 0.7405475880052153, 'accuracy': 0.7405475880052151}, 'about': {'recall': 0.8418367346938775, 'precision': 0.8418367346938775, 'f1': 0.8418367346938774, 'accuracy': 0.8418367346938775}} \n",
      "\n",
      "Evaluación en etiquetas male\n",
      "{'to': {'recall': 0.7372262773722628, 'precision': 0.7372262773722628, 'f1': 0.7372262773722628, 'accuracy': 0.7372262773722628}, 'as': {'recall': 0.7474747474747475, 'precision': 0.7474747474747475, 'f1': 0.7474747474747475, 'accuracy': 0.7474747474747475}, 'about': {'recall': 0.8515625, 'precision': 0.8515625, 'f1': 0.8515625, 'accuracy': 0.8515625}} \n",
      "\n",
      "Evaluación en etiquetas female\n",
      "{'to': {'recall': 0.7034120734908137, 'precision': 0.7034120734908137, 'f1': 0.7034120734908137, 'accuracy': 0.7034120734908137}, 'as': {'recall': 0.7331536388140162, 'precision': 0.7331536388140162, 'f1': 0.7331536388140162, 'accuracy': 0.7331536388140162}, 'about': {'recall': 0.8325, 'precision': 0.8325, 'f1': 0.8325, 'accuracy': 0.8325}} \n",
      "\n"
     ]
    }
   ],
   "source": [
    "model = mt.MultiTaskSimple(model_conf).to(device)\n",
    "model.load_state_dict(torch.load(save_path))\n",
    "\n",
    "print(\"Evaluación del modelo\")\n",
    "result_global = train.eval_func_multi(model,dl_eval,tasks,gender=None)\n",
    "generic.update_global_metric_multi(result_global,global_metrics,mtype='global')\n",
    "print(result_global,'\\n')\n",
    "print(\"Evaluación en etiquetas male\")\n",
    "result_global = train.eval_func_multi(model,dl_eval,tasks,gender='male')\n",
    "generic.update_global_metric_multi(result_global,global_metrics,mtype='male')\n",
    "print(result_global,'\\n')\n",
    "print(\"Evaluación en etiquetas female\")\n",
    "result_global = train.eval_func_multi(model,dl_eval,tasks,gender='female')\n",
    "generic.update_global_metric_multi(result_global,global_metrics,mtype='female')\n",
    "print(result_global,'\\n')\n"
   ]
  },
  {
   "cell_type": "code",
   "execution_count": 14,
   "metadata": {},
   "outputs": [
    {
     "name": "stderr",
     "output_type": "stream",
     "text": [
      "Some weights of the model checkpoint at roberta-base were not used when initializing RobertaModel: ['lm_head.bias', 'lm_head.layer_norm.weight', 'lm_head.dense.bias', 'lm_head.decoder.weight', 'lm_head.layer_norm.bias', 'lm_head.dense.weight']\n",
      "- This IS expected if you are initializing RobertaModel from the checkpoint of a model trained on another task or with another architecture (e.g. initializing a BertForSequenceClassification model from a BertForPreTraining model).\n",
      "- This IS NOT expected if you are initializing RobertaModel from the checkpoint of a model that you expect to be exactly identical (initializing a BertForSequenceClassification model from a BertForSequenceClassification model).\n"
     ]
    },
    {
     "data": {
      "application/vnd.jupyter.widget-view+json": {
       "model_id": "9134d54ae6ec4da2bc4c4ae0e87d7441",
       "version_major": 2,
       "version_minor": 0
      },
      "text/plain": [
       "  0%|          | 0/57400 [00:00<?, ?it/s]"
      ]
     },
     "metadata": {},
     "output_type": "display_data"
    },
    {
     "name": "stdout",
     "output_type": "stream",
     "text": [
      "Epoch 1 \t Training loss: 2.0431261131157026 \t Validation loss: 1.9857445894661596 \t \n",
      "  1%|          | 574/57400 [01:34<2:26:59,  6.44it/s]\n",
      "Epoch 2 \t Training loss: 1.9910940448996912 \t Validation loss: 1.983822618500661 \t \n",
      "  2%|▏         | 1148/57400 [03:09<2:29:18,  6.28it/s]\n",
      "Epoch 3 \t Training loss: 1.9855564975987743 \t Validation loss: 1.975986272601758 \t \n",
      "  3%|▎         | 1722/57400 [04:43<2:21:08,  6.57it/s]\n",
      "Epoch 4 \t Training loss: 1.975867245878492 \t Validation loss: 1.966260962567087 \t \n",
      "  4%|▍         | 2296/57400 [06:19<2:20:56,  6.52it/s]\n",
      "Epoch 5 \t Training loss: 1.9699566129608022 \t Validation loss: 1.970674595590365 \t \n",
      "\n",
      "1 epoch without improvement\n",
      "  5%|▌         | 2870/57400 [07:54<2:38:02,  5.75it/s]\n",
      "Epoch 6 \t Training loss: 1.970055606930098 \t Validation loss: 1.970234527426251 \t \n",
      "\n",
      "2 epoch without improvement\n",
      "  6%|▌         | 3444/57400 [09:27<2:22:02,  6.33it/s]\n",
      "Epoch 7 \t Training loss: 1.9670471125363473 \t Validation loss: 1.9705925210047577 \t \n",
      "\n",
      "3 epoch without improvement\n",
      "  7%|▋         | 4018/57400 [11:02<2:13:13,  6.68it/s]\n",
      "Epoch 8 \t Training loss: 1.9609989982864167 \t Validation loss: 1.9685648578708455 \t \n",
      "\n",
      "4 epoch without improvement\n",
      "  8%|▊         | 4592/57400 [12:36<2:13:05,  6.61it/s]\n",
      "Epoch 9 \t Training loss: 1.9598857172690203 \t Validation loss: 1.9639553356978854 \t \n",
      "  9%|▉         | 5166/57400 [14:10<2:17:54,  6.31it/s]\n",
      "Epoch 10 \t Training loss: 1.9596175165126548 \t Validation loss: 1.9695107957064095 \t \n",
      "\n",
      "1 epoch without improvement\n",
      " 10%|█         | 5740/57400 [15:45<2:21:23,  6.09it/s]\n",
      "Epoch 11 \t Training loss: 1.956963590005549 \t Validation loss: 1.9755574606232724 \t \n",
      "\n",
      "2 epoch without improvement\n",
      " 11%|█         | 6314/57400 [17:19<2:08:35,  6.62it/s]\n",
      "Epoch 12 \t Training loss: 1.956400922989596 \t Validation loss: 1.9597173484705261 \t \n",
      " 12%|█▏        | 6888/57400 [18:54<2:07:13,  6.62it/s]\n",
      "Epoch 13 \t Training loss: 1.9530048210446427 \t Validation loss: 1.9679284944372661 \t \n",
      "\n",
      "1 epoch without improvement\n",
      " 13%|█▎        | 7462/57400 [20:27<2:12:34,  6.28it/s]\n",
      "Epoch 14 \t Training loss: 1.9516490344801847 \t Validation loss: 1.961423807224985 \t \n",
      "\n",
      "2 epoch without improvement\n",
      " 14%|█▍        | 8036/57400 [22:02<2:05:46,  6.54it/s]\n",
      "Epoch 15 \t Training loss: 1.9519972900895708 \t Validation loss: 1.977772056046179 \t \n",
      "\n",
      "3 epoch without improvement\n",
      " 15%|█▌        | 8610/57400 [23:36<2:06:57,  6.41it/s]\n",
      "Epoch 16 \t Training loss: 1.947256360112167 \t Validation loss: 1.9559147256915852 \t \n",
      " 16%|█▌        | 9184/57400 [25:11<2:00:38,  6.66it/s]\n",
      "Epoch 17 \t Training loss: 1.9501084976079988 \t Validation loss: 1.9663180577552926 \t \n",
      "\n",
      "1 epoch without improvement\n",
      " 17%|█▋        | 9758/57400 [26:45<2:05:51,  6.31it/s]\n",
      "Epoch 18 \t Training loss: 1.943644330891998 \t Validation loss: 1.9631963362128049 \t \n",
      "\n",
      "2 epoch without improvement\n",
      " 18%|█▊        | 10332/57400 [28:20<1:56:25,  6.74it/s]\n",
      "Epoch 19 \t Training loss: 1.9441400270013445 \t Validation loss: 1.967567605487371 \t \n",
      "\n",
      "3 epoch without improvement\n",
      " 19%|█▉        | 10906/57400 [29:55<2:03:21,  6.28it/s]\n",
      "Epoch 20 \t Training loss: 1.943822451584846 \t Validation loss: 1.9652175175941597 \t \n",
      "\n",
      "4 epoch without improvement\n",
      " 20%|██        | 11480/57400 [31:29<1:52:19,  6.81it/s]\n",
      "Epoch 21 \t Training loss: 1.9447438041922938 \t Validation loss: 1.9608215174432528 \t \n",
      "\n",
      "5 epoch without improvement\n",
      " 21%|██        | 12054/57400 [33:04<1:43:24,  7.31it/s]\n",
      "Epoch 22 \t Training loss: 1.9398171025286153 \t Validation loss: 1.9626270209328602 \t \n",
      "\n",
      "6 epoch without improvement\n",
      " 22%|██▏       | 12628/57400 [34:38<1:59:34,  6.24it/s]\n",
      "Epoch 23 \t Training loss: 1.9413277301223435 \t Validation loss: 1.9567303273637415 \t \n",
      "\n",
      "7 epoch without improvement\n",
      " 23%|██▎       | 13202/57400 [36:12<1:42:00,  7.22it/s]\n",
      "Epoch 24 \t Training loss: 1.9402765590139381 \t Validation loss: 1.9533258373454465 \t \n",
      " 24%|██▍       | 13776/57400 [37:48<1:51:04,  6.55it/s]\n",
      "Epoch 25 \t Training loss: 1.936476553151001 \t Validation loss: 1.9615206758854753 \t \n",
      "\n",
      "1 epoch without improvement\n",
      " 25%|██▌       | 14350/57400 [39:22<1:51:07,  6.46it/s]\n",
      "Epoch 26 \t Training loss: 1.938882920592504 \t Validation loss: 1.9619848000801217 \t \n",
      "\n",
      "2 epoch without improvement\n",
      " 26%|██▌       | 14924/57400 [40:57<1:38:15,  7.20it/s]\n",
      "Epoch 27 \t Training loss: 1.9370940884231276 \t Validation loss: 1.9654185670917317 \t \n",
      "\n",
      "3 epoch without improvement\n",
      " 27%|██▋       | 15498/57400 [42:32<1:37:02,  7.20it/s]\n",
      "Epoch 28 \t Training loss: 1.9366815318629302 \t Validation loss: 1.9588319487490897 \t \n",
      "\n",
      "4 epoch without improvement\n",
      " 28%|██▊       | 16072/57400 [44:06<1:51:02,  6.20it/s]\n",
      "Epoch 29 \t Training loss: 1.937166079619205 \t Validation loss: 1.9745963225930423 \t \n",
      "\n",
      "5 epoch without improvement\n",
      " 29%|██▉       | 16646/57400 [45:40<1:51:14,  6.11it/s]\n",
      "Epoch 30 \t Training loss: 1.934672184937507 \t Validation loss: 1.9662847640150685 \t \n",
      "\n",
      "6 epoch without improvement\n",
      " 30%|███       | 17220/57400 [47:14<1:43:11,  6.49it/s]\n",
      "Epoch 31 \t Training loss: 1.9323045526232039 \t Validation loss: 1.9628167516094144 \t \n",
      "\n",
      "7 epoch without improvement\n",
      " 31%|███       | 17794/57400 [48:49<1:43:04,  6.40it/s]\n",
      "Epoch 32 \t Training loss: 1.9341655878239807 \t Validation loss: 1.9576011552649029 \t \n",
      "\n",
      "8 epoch without improvement\n",
      " 32%|███▏      | 18368/57400 [50:23<1:35:02,  6.84it/s]\n",
      "Epoch 33 \t Training loss: 1.9311410194905378 \t Validation loss: 1.968325651298135 \t \n",
      "\n",
      "9 epoch without improvement\n",
      " 33%|███▎      | 18942/57400 [51:57<1:36:50,  6.62it/s]\n",
      "Epoch 34 \t Training loss: 1.932585192889702 \t Validation loss: 1.9610755665827606 \t \n",
      "\n",
      "10 epoch without improvement\n",
      "Validation_loss hasn't improve in 10 epoch. Stopping training after 34 epochs...\n"
     ]
    },
    {
     "data": {
      "image/png": "[encoded data removed]",
      "text/plain": [
       "<Figure size 640x480 with 1 Axes>"
      ]
     },
     "metadata": {},
     "output_type": "display_data"
    }
   ],
   "source": [
    "model = mt.MultiTaskSimple(model_conf).to(device)\n",
    "optimizer = AdamW(model.parameters(), lr=learning_rate,weight_decay=0.1)\n",
    "save_path='roberta_multitask_simple_2'\n",
    "train.train_function_multi(model,num_epochs,dl_train,optimizer,early_stop = 10,dl_val = dl_val,save_path=save_path,es_threshold=0)"
   ]
  },
  {
   "cell_type": "code",
   "execution_count": 15,
   "metadata": {},
   "outputs": [
    {
     "name": "stderr",
     "output_type": "stream",
     "text": [
      "Some weights of the model checkpoint at roberta-base were not used when initializing RobertaModel: ['lm_head.bias', 'lm_head.layer_norm.weight', 'lm_head.dense.bias', 'lm_head.decoder.weight', 'lm_head.layer_norm.bias', 'lm_head.dense.weight']\n",
      "- This IS expected if you are initializing RobertaModel from the checkpoint of a model trained on another task or with another architecture (e.g. initializing a BertForSequenceClassification model from a BertForPreTraining model).\n",
      "- This IS NOT expected if you are initializing RobertaModel from the checkpoint of a model that you expect to be exactly identical (initializing a BertForSequenceClassification model from a BertForSequenceClassification model).\n"
     ]
    },
    {
     "name": "stdout",
     "output_type": "stream",
     "text": [
      "Evaluación del modelo\n",
      "{'to': {'recall': 0.7171717171717171, 'precision': 0.7171717171717171, 'f1': 0.7171717171717171, 'accuracy': 0.7171717171717171}, 'as': {'recall': 0.7379400260756193, 'precision': 0.7379400260756193, 'f1': 0.7379400260756194, 'accuracy': 0.7379400260756193}, 'about': {'recall': 0.8456632653061225, 'precision': 0.8456632653061225, 'f1': 0.8456632653061225, 'accuracy': 0.8456632653061225}} \n",
      "\n",
      "Evaluación en etiquetas male\n",
      "{'to': {'recall': 0.7201946472019465, 'precision': 0.7201946472019465, 'f1': 0.7201946472019465, 'accuracy': 0.7201946472019465}, 'as': {'recall': 0.7146464646464646, 'precision': 0.7146464646464646, 'f1': 0.7146464646464646, 'accuracy': 0.7146464646464646}, 'about': {'recall': 0.8307291666666666, 'precision': 0.8307291666666666, 'f1': 0.8307291666666666, 'accuracy': 0.8307291666666666}} \n",
      "\n",
      "Evaluación en etiquetas female\n",
      "{'to': {'recall': 0.7139107611548556, 'precision': 0.7139107611548556, 'f1': 0.7139107611548556, 'accuracy': 0.7139107611548556}, 'as': {'recall': 0.7628032345013477, 'precision': 0.7628032345013477, 'f1': 0.7628032345013477, 'accuracy': 0.7628032345013477}, 'about': {'recall': 0.86, 'precision': 0.86, 'f1': 0.8599999999999999, 'accuracy': 0.86}} \n",
      "\n"
     ]
    }
   ],
   "source": [
    "model = mt.MultiTaskSimple(model_conf).to(device)\n",
    "model.load_state_dict(torch.load(save_path))\n",
    "\n",
    "print(\"Evaluación del modelo\")\n",
    "result_global = train.eval_func_multi(model,dl_eval,tasks,gender=None)\n",
    "generic.update_global_metric_multi(result_global,global_metrics,mtype='global')\n",
    "print(result_global,'\\n')\n",
    "print(\"Evaluación en etiquetas male\")\n",
    "result_global = train.eval_func_multi(model,dl_eval,tasks,gender='male')\n",
    "generic.update_global_metric_multi(result_global,global_metrics,mtype='male')\n",
    "print(result_global,'\\n')\n",
    "print(\"Evaluación en etiquetas female\")\n",
    "result_global = train.eval_func_multi(model,dl_eval,tasks,gender='female')\n",
    "generic.update_global_metric_multi(result_global,global_metrics,mtype='female')\n",
    "print(result_global,'\\n')\n"
   ]
  },
  {
   "cell_type": "code",
   "execution_count": 16,
   "metadata": {},
   "outputs": [
    {
     "name": "stderr",
     "output_type": "stream",
     "text": [
      "Some weights of the model checkpoint at roberta-base were not used when initializing RobertaModel: ['lm_head.bias', 'lm_head.layer_norm.weight', 'lm_head.dense.bias', 'lm_head.decoder.weight', 'lm_head.layer_norm.bias', 'lm_head.dense.weight']\n",
      "- This IS expected if you are initializing RobertaModel from the checkpoint of a model trained on another task or with another architecture (e.g. initializing a BertForSequenceClassification model from a BertForPreTraining model).\n",
      "- This IS NOT expected if you are initializing RobertaModel from the checkpoint of a model that you expect to be exactly identical (initializing a BertForSequenceClassification model from a BertForSequenceClassification model).\n"
     ]
    },
    {
     "data": {
      "application/vnd.jupyter.widget-view+json": {
       "model_id": "46d0cf5938a345b6a327bbb9d4bb0617",
       "version_major": 2,
       "version_minor": 0
      },
      "text/plain": [
       "  0%|          | 0/57400 [00:00<?, ?it/s]"
      ]
     },
     "metadata": {},
     "output_type": "display_data"
    },
    {
     "name": "stdout",
     "output_type": "stream",
     "text": [
      "Epoch 1 \t Training loss: 2.0461818004734424 \t Validation loss: 1.99498006650957 \t \n",
      "  1%|          | 574/57400 [01:34<2:07:38,  7.42it/s]\n",
      "Epoch 2 \t Training loss: 1.9945962412432097 \t Validation loss: 1.9899159387006597 \t \n",
      "  2%|▏         | 1148/57400 [03:08<2:40:59,  5.82it/s]\n",
      "Epoch 3 \t Training loss: 1.9860814955176376 \t Validation loss: 1.978458321700662 \t \n",
      "  3%|▎         | 1722/57400 [04:43<2:27:36,  6.29it/s]\n",
      "Epoch 4 \t Training loss: 1.9807441959397718 \t Validation loss: 1.9796582157328977 \t \n",
      "\n",
      "1 epoch without improvement\n",
      "  4%|▍         | 2296/57400 [06:17<2:15:44,  6.77it/s]\n",
      "Epoch 5 \t Training loss: 1.9743493735167208 \t Validation loss: 1.9731898812924402 \t \n",
      "  5%|▌         | 2870/57400 [07:50<2:16:38,  6.65it/s]\n",
      "Epoch 6 \t Training loss: 1.9706588568172387 \t Validation loss: 1.981470301999884 \t \n",
      "\n",
      "1 epoch without improvement\n",
      "  6%|▌         | 3444/57400 [09:24<2:26:29,  6.14it/s]\n",
      "Epoch 7 \t Training loss: 1.9678218252567463 \t Validation loss: 1.9696383799536754 \t \n",
      "  7%|▋         | 4018/57400 [10:58<2:28:51,  5.98it/s]\n",
      "Epoch 8 \t Training loss: 1.9673403011381834 \t Validation loss: 1.97654226068723 \t \n",
      "\n",
      "1 epoch without improvement\n",
      "  8%|▊         | 4592/57400 [12:32<2:27:52,  5.95it/s]\n",
      "Epoch 9 \t Training loss: 1.9637233947212271 \t Validation loss: 1.9666595580214161 \t \n",
      "  9%|▉         | 5166/57400 [14:06<2:14:23,  6.48it/s]\n",
      "Epoch 10 \t Training loss: 1.960582105747914 \t Validation loss: 1.9693510552584115 \t \n",
      "\n",
      "1 epoch without improvement\n",
      " 10%|█         | 5740/57400 [15:40<2:08:53,  6.68it/s]\n",
      "Epoch 11 \t Training loss: 1.958520439443688 \t Validation loss: 1.9619726043636516 \t \n",
      " 11%|█         | 6314/57400 [17:15<2:13:33,  6.38it/s]\n",
      "Epoch 12 \t Training loss: 1.95437682131857 \t Validation loss: 1.9609938678094896 \t \n",
      " 12%|█▏        | 6888/57400 [18:50<2:16:29,  6.17it/s]\n",
      "Epoch 13 \t Training loss: 1.9540055336021795 \t Validation loss: 1.974161208686182 \t \n",
      "\n",
      "1 epoch without improvement\n",
      " 13%|█▎        | 7462/57400 [20:24<2:07:31,  6.53it/s]\n",
      "Epoch 14 \t Training loss: 1.9542040112541943 \t Validation loss: 1.963965066408707 \t \n",
      "\n",
      "2 epoch without improvement\n",
      " 14%|█▍        | 8036/57400 [21:58<2:04:09,  6.63it/s]\n",
      "Epoch 15 \t Training loss: 1.953500250698382 \t Validation loss: 1.9655858520734109 \t \n",
      "\n",
      "3 epoch without improvement\n",
      " 15%|█▌        | 8610/57400 [23:32<2:21:58,  5.73it/s]\n",
      "Epoch 16 \t Training loss: 1.9495261066466674 \t Validation loss: 1.9709352638761877 \t \n",
      "\n",
      "4 epoch without improvement\n",
      " 16%|█▌        | 9184/57400 [25:05<2:16:58,  5.87it/s]\n",
      "Epoch 17 \t Training loss: 1.9486873278634473 \t Validation loss: 1.9688366651535034 \t \n",
      "\n",
      "5 epoch without improvement\n",
      " 17%|█▋        | 9758/57400 [26:40<2:19:34,  5.69it/s]\n",
      "Epoch 18 \t Training loss: 1.9508712208644854 \t Validation loss: 1.960146352396173 \t \n",
      " 18%|█▊        | 10332/57400 [28:14<2:04:00,  6.33it/s]\n",
      "Epoch 19 \t Training loss: 1.9474313394117855 \t Validation loss: 1.9706179630958427 \t \n",
      "\n",
      "1 epoch without improvement\n",
      " 19%|█▉        | 10906/57400 [29:48<2:01:07,  6.40it/s]\n",
      "Epoch 20 \t Training loss: 1.9449705317460702 \t Validation loss: 1.9673329894825564 \t \n",
      "\n",
      "2 epoch without improvement\n",
      " 20%|██        | 11480/57400 [31:21<1:53:46,  6.73it/s]\n",
      "Epoch 21 \t Training loss: 1.9439107775688171 \t Validation loss: 1.9626609511294608 \t \n",
      "\n",
      "3 epoch without improvement\n",
      " 21%|██        | 12054/57400 [32:55<1:55:22,  6.55it/s]\n",
      "Epoch 22 \t Training loss: 1.9434094850609942 \t Validation loss: 1.957869244834124 \t \n",
      " 22%|██▏       | 12628/57400 [34:29<2:04:27,  6.00it/s]\n",
      "Epoch 23 \t Training loss: 1.9400778159447247 \t Validation loss: 1.9665533789133622 \t \n",
      "\n",
      "1 epoch without improvement\n",
      " 23%|██▎       | 13202/57400 [36:02<1:54:36,  6.43it/s]\n",
      "Epoch 24 \t Training loss: 1.9431195703533053 \t Validation loss: 1.9751760272656458 \t \n",
      "\n",
      "2 epoch without improvement\n",
      " 24%|██▍       | 13776/57400 [37:36<1:37:34,  7.45it/s]\n",
      "Epoch 25 \t Training loss: 1.9384136833380323 \t Validation loss: 1.9678017446550273 \t \n",
      "\n",
      "3 epoch without improvement\n",
      " 25%|██▌       | 14350/57400 [39:10<1:54:45,  6.25it/s]\n",
      "Epoch 26 \t Training loss: 1.9418490828121997 \t Validation loss: 1.9604073156744748 \t \n",
      "\n",
      "4 epoch without improvement\n",
      " 26%|██▌       | 14924/57400 [40:44<1:44:33,  6.77it/s]\n",
      "Epoch 27 \t Training loss: 1.939731585024126 \t Validation loss: 1.9670003127243558 \t \n",
      "\n",
      "5 epoch without improvement\n",
      " 27%|██▋       | 15498/57400 [42:18<1:48:30,  6.44it/s]\n",
      "Epoch 28 \t Training loss: 1.9389443254221608 \t Validation loss: 1.957387382701292 \t \n",
      " 28%|██▊       | 16072/57400 [43:53<1:50:35,  6.23it/s]\n",
      "Epoch 29 \t Training loss: 1.9372308389235042 \t Validation loss: 1.9658151460906206 \t \n",
      "\n",
      "1 epoch without improvement\n",
      " 29%|██▉       | 16646/57400 [45:27<1:47:42,  6.31it/s]\n",
      "Epoch 30 \t Training loss: 1.9351797193184963 \t Validation loss: 1.9674035573409776 \t \n",
      "\n",
      "2 epoch without improvement\n",
      " 30%|███       | 17220/57400 [47:01<2:11:27,  5.09it/s]\n",
      "Epoch 31 \t Training loss: 1.9354508961534667 \t Validation loss: 1.9707113100310503 \t \n",
      "\n",
      "3 epoch without improvement\n",
      " 31%|███       | 17794/57400 [48:35<1:36:31,  6.84it/s]\n",
      "Epoch 32 \t Training loss: 1.932835868842095 \t Validation loss: 1.9635067875102414 \t \n",
      "\n",
      "4 epoch without improvement\n",
      " 32%|███▏      | 18368/57400 [50:10<1:37:21,  6.68it/s]\n",
      "Epoch 33 \t Training loss: 1.9334026658161176 \t Validation loss: 1.9653846530591028 \t \n",
      "\n",
      "5 epoch without improvement\n",
      " 33%|███▎      | 18942/57400 [51:44<1:48:45,  5.89it/s]\n",
      "Epoch 34 \t Training loss: 1.93326761685182 \t Validation loss: 1.9688054909140378 \t \n",
      "\n",
      "6 epoch without improvement\n",
      " 34%|███▍      | 19516/57400 [53:19<1:39:56,  6.32it/s]\n",
      "Epoch 35 \t Training loss: 1.934166780747603 \t Validation loss: 1.9669932106793937 \t \n",
      "\n",
      "7 epoch without improvement\n",
      " 35%|███▌      | 20090/57400 [54:52<1:33:26,  6.65it/s]\n",
      "Epoch 36 \t Training loss: 1.931450413702257 \t Validation loss: 1.9592709965625053 \t \n",
      "\n",
      "8 epoch without improvement\n",
      " 36%|███▌      | 20664/57400 [56:27<1:32:11,  6.64it/s]\n",
      "Epoch 37 \t Training loss: 1.9293313055503658 \t Validation loss: 1.9633299193139804 \t \n",
      "\n",
      "9 epoch without improvement\n",
      " 37%|███▋      | 21238/57400 [58:00<1:41:07,  5.96it/s]\n",
      "Epoch 38 \t Training loss: 1.9309929322697974 \t Validation loss: 1.9652742915234322 \t \n",
      "\n",
      "10 epoch without improvement\n",
      "Validation_loss hasn't improve in 10 epoch. Stopping training after 38 epochs...\n"
     ]
    },
    {
     "data": {
      "image/png": "[encoded data removed]",
      "text/plain": [
       "<Figure size 640x480 with 1 Axes>"
      ]
     },
     "metadata": {},
     "output_type": "display_data"
    }
   ],
   "source": [
    "model = mt.MultiTaskSimple(model_conf).to(device)\n",
    "optimizer = AdamW(model.parameters(), lr=learning_rate,weight_decay=0.1)\n",
    "save_path='roberta_multitask_simple_3'\n",
    "train.train_function_multi(model,num_epochs,dl_train,optimizer,early_stop = 10,dl_val = dl_val,save_path=save_path,es_threshold=0)"
   ]
  },
  {
   "cell_type": "code",
   "execution_count": 17,
   "metadata": {},
   "outputs": [
    {
     "name": "stderr",
     "output_type": "stream",
     "text": [
      "Some weights of the model checkpoint at roberta-base were not used when initializing RobertaModel: ['lm_head.bias', 'lm_head.layer_norm.weight', 'lm_head.dense.bias', 'lm_head.decoder.weight', 'lm_head.layer_norm.bias', 'lm_head.dense.weight']\n",
      "- This IS expected if you are initializing RobertaModel from the checkpoint of a model trained on another task or with another architecture (e.g. initializing a BertForSequenceClassification model from a BertForPreTraining model).\n",
      "- This IS NOT expected if you are initializing RobertaModel from the checkpoint of a model that you expect to be exactly identical (initializing a BertForSequenceClassification model from a BertForSequenceClassification model).\n"
     ]
    },
    {
     "name": "stdout",
     "output_type": "stream",
     "text": [
      "Evaluación del modelo\n",
      "{'to': {'recall': 0.7373737373737373, 'precision': 0.7373737373737373, 'f1': 0.7373737373737375, 'accuracy': 0.7373737373737373}, 'as': {'recall': 0.7366362451108214, 'precision': 0.7366362451108214, 'f1': 0.7366362451108214, 'accuracy': 0.7366362451108214}, 'about': {'recall': 0.8545918367346939, 'precision': 0.8545918367346939, 'f1': 0.8545918367346939, 'accuracy': 0.8545918367346939}} \n",
      "\n",
      "Evaluación en etiquetas male\n",
      "{'to': {'recall': 0.7274939172749392, 'precision': 0.7274939172749392, 'f1': 0.7274939172749392, 'accuracy': 0.7274939172749392}, 'as': {'recall': 0.7272727272727273, 'precision': 0.7272727272727273, 'f1': 0.7272727272727273, 'accuracy': 0.7272727272727273}, 'about': {'recall': 0.8489583333333334, 'precision': 0.8489583333333334, 'f1': 0.8489583333333334, 'accuracy': 0.8489583333333334}} \n",
      "\n",
      "Evaluación en etiquetas female\n",
      "{'to': {'recall': 0.7480314960629921, 'precision': 0.7480314960629921, 'f1': 0.7480314960629921, 'accuracy': 0.7480314960629921}, 'as': {'recall': 0.7466307277628033, 'precision': 0.7466307277628033, 'f1': 0.7466307277628033, 'accuracy': 0.7466307277628033}, 'about': {'recall': 0.86, 'precision': 0.86, 'f1': 0.8599999999999999, 'accuracy': 0.86}} \n",
      "\n"
     ]
    }
   ],
   "source": [
    "model = mt.MultiTaskSimple(model_conf).to(device)\n",
    "model.load_state_dict(torch.load(save_path))\n",
    "\n",
    "print(\"Evaluación del modelo\")\n",
    "result_global = train.eval_func_multi(model,dl_eval,tasks,gender=None)\n",
    "generic.update_global_metric_multi(result_global,global_metrics,mtype='global')\n",
    "print(result_global,'\\n')\n",
    "print(\"Evaluación en etiquetas male\")\n",
    "result_global = train.eval_func_multi(model,dl_eval,tasks,gender='male')\n",
    "generic.update_global_metric_multi(result_global,global_metrics,mtype='male')\n",
    "print(result_global,'\\n')\n",
    "print(\"Evaluación en etiquetas female\")\n",
    "result_global = train.eval_func_multi(model,dl_eval,tasks,gender='female')\n",
    "generic.update_global_metric_multi(result_global,global_metrics,mtype='female')\n",
    "print(result_global,'\\n')\n"
   ]
  },
  {
   "cell_type": "code",
   "execution_count": 18,
   "metadata": {},
   "outputs": [
    {
     "name": "stdout",
     "output_type": "stream",
     "text": [
      "Métricas globales: \n",
      "\n",
      "\n",
      " about\n",
      "Resultado global: {'recall': 0.8473639455782312, 'precision': 0.8473639455782312, 'f1': 0.8473639455782312, 'accuracy': 0.8473639455782312}\n",
      "Métricas etiqueta male: {'recall': 0.84375, 'precision': 0.84375, 'f1': 0.84375, 'accuracy': 0.84375}\n",
      "Métricas etiqueta female:  {'recall': 0.8508333333333333, 'precision': 0.8508333333333333, 'f1': 0.8508333333333332, 'accuracy': 0.8508333333333333}\n",
      "\n",
      " to\n",
      "Resultado global: {'recall': 0.7251683501683501, 'precision': 0.7251683501683501, 'f1': 0.7251683501683501, 'accuracy': 0.7251683501683501}\n",
      "Métricas etiqueta male: {'recall': 0.7283049472830495, 'precision': 0.7283049472830495, 'f1': 0.7283049472830495, 'accuracy': 0.7283049472830495}\n",
      "Métricas etiqueta female:  {'recall': 0.7217847769028871, 'precision': 0.7217847769028871, 'f1': 0.7217847769028871, 'accuracy': 0.7217847769028871}\n",
      "\n",
      " as\n",
      "Resultado global: {'recall': 0.738374619730552, 'precision': 0.738374619730552, 'f1': 0.738374619730552, 'accuracy': 0.738374619730552}\n",
      "Métricas etiqueta male: {'recall': 0.7297979797979798, 'precision': 0.7297979797979798, 'f1': 0.7297979797979798, 'accuracy': 0.7297979797979798}\n",
      "Métricas etiqueta female:  {'recall': 0.7475292003593891, 'precision': 0.7475292003593891, 'f1': 0.7475292003593891, 'accuracy': 0.7475292003593891}\n"
     ]
    }
   ],
   "source": [
    "\n",
    "print('Métricas globales: \\n')\n",
    "\n",
    "for task in ['about','to','as']:\n",
    "    print('\\n',task)\n",
    "    print('Resultado global:',{m:mean(values) for m,values in global_metrics[task]['global'].items()})\n",
    "    print(f'Métricas etiqueta male:',{m:mean(values) for m,values in global_metrics[task]['male'].items()})\n",
    "    print('Métricas etiqueta female: ',{m:mean(values) for m,values in global_metrics[task]['female'].items()})\n"
   ]
  }
 ],
 "metadata": {
  "kernelspec": {
   "display_name": "tfg",
   "language": "python",
   "name": "python3"
  },
  "language_info": {
   "codemirror_mode": {
    "name": "ipython",
    "version": 3
   },
   "file_extension": ".py",
   "mimetype": "text/x-python",
   "name": "python",
   "nbconvert_exporter": "python",
   "pygments_lexer": "ipython3",
   "version": "3.9.13"
  },
  "orig_nbformat": 4,
  "vscode": {
   "interpreter": {
    "hash": "35e8332e99bdf485583869dfbdef293dcf2f9293b1663ec5daea0a573af457c3"
   }
  }
 },
 "nbformat": 4,
 "nbformat_minor": 2
}
