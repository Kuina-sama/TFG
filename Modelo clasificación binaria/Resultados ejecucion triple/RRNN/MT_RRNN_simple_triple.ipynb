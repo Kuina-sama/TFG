{
 "cells": [
  {
   "cell_type": "code",
   "execution_count": 1,
   "metadata": {},
   "outputs": [],
   "source": [
    "import numpy as np\n",
    "import torch\n",
    "\n",
    "\n",
    "import json\n",
    "from torch.utils.data import DataLoader\n",
    "from torch.optim import AdamW\n",
    "from torch import nn\n",
    "\n",
    "from statistics import mean"
   ]
  },
  {
   "cell_type": "code",
   "execution_count": 2,
   "metadata": {},
   "outputs": [],
   "source": [
    "import utils_generic as generic\n",
    "import rrnn_modelo as rrnn\n",
    "\n",
    "import train"
   ]
  },
  {
   "cell_type": "code",
   "execution_count": 3,
   "metadata": {},
   "outputs": [],
   "source": [
    "device = torch.device(\"cuda\") if torch.cuda.is_available() else torch.device(\"cpu\")\n",
    "tasks = ['to','as','about']"
   ]
  },
  {
   "attachments": {},
   "cell_type": "markdown",
   "metadata": {},
   "source": [
    "# Datos ConvAI2"
   ]
  },
  {
   "cell_type": "code",
   "execution_count": 4,
   "metadata": {},
   "outputs": [],
   "source": [
    "with open('Datasets\\ConvAI2\\convai2_complete.json','r') as f:\n",
    "    data = json.load(f)"
   ]
  },
  {
   "cell_type": "code",
   "execution_count": 5,
   "metadata": {},
   "outputs": [],
   "source": [
    "convai_train = data['train']\n",
    "convai_val = data['validation']\n",
    "\n",
    "\n",
    "word_to_index = generic.create_word_to_index(convai_train)\n",
    "\n",
    "convai_train_token = generic.tokenize_dataset_rrnn(convai_train,['about','to','as'],word_to_index) \n",
    "convai_val_token = generic.tokenize_dataset_rrnn(convai_val,['about','to','as'],word_to_index) "
   ]
  },
  {
   "cell_type": "code",
   "execution_count": 6,
   "metadata": {},
   "outputs": [],
   "source": [
    "convai_train_dataset =rrnn.DatasetMultiTaskRRNN(convai_train_token,tasks,eval=False)"
   ]
  },
  {
   "cell_type": "code",
   "execution_count": 7,
   "metadata": {},
   "outputs": [],
   "source": [
    "convai_val_dataset = rrnn.DatasetMultiTaskRRNN(convai_val_token,tasks,eval=False)"
   ]
  },
  {
   "attachments": {},
   "cell_type": "markdown",
   "metadata": {},
   "source": [
    "# Datos md_gender"
   ]
  },
  {
   "cell_type": "code",
   "execution_count": 8,
   "metadata": {},
   "outputs": [],
   "source": [
    "with open('Datasets\\md_gender\\md_complete.json','r',encoding=\"utf8\") as f:\n",
    "    md_data = json.load(f)"
   ]
  },
  {
   "cell_type": "code",
   "execution_count": 9,
   "metadata": {},
   "outputs": [],
   "source": [
    "md_tokenized = generic.tokenize_dataset_rrnn(md_data,['about','to','as'],word_to_index) \n",
    "\n",
    "\n",
    "md_dataset  = rrnn.DatasetMultiTaskRRNN(md_tokenized,tasks,eval=True)"
   ]
  },
  {
   "attachments": {},
   "cell_type": "markdown",
   "metadata": {},
   "source": [
    "# Creación dataloaders"
   ]
  },
  {
   "cell_type": "code",
   "execution_count": 10,
   "metadata": {},
   "outputs": [],
   "source": [
    "dl_train =  DataLoader(convai_train_dataset,batch_size=128,shuffle=True,collate_fn=rrnn.collate_fn_multi)\n",
    "dl_val = DataLoader(convai_val_dataset,batch_size=128,shuffle=True,collate_fn=rrnn.collate_fn_multi)\n",
    "dl_eval  = DataLoader(md_dataset,batch_size=128,shuffle=False,collate_fn=rrnn.collate_fn_multi)"
   ]
  },
  {
   "attachments": {},
   "cell_type": "markdown",
   "metadata": {},
   "source": [
    "# Pruebas hiperparámetros 1"
   ]
  },
  {
   "cell_type": "code",
   "execution_count": 11,
   "metadata": {},
   "outputs": [],
   "source": [
    "emb_dim = 20\n",
    "vocab_size = len(word_to_index)\n",
    "lstm_hidden_dim = 128"
   ]
  },
  {
   "cell_type": "code",
   "execution_count": 12,
   "metadata": {},
   "outputs": [],
   "source": [
    "num_epochs = 100\n",
    "learning_rate = 5e-5\n",
    "\n",
    "global_metrics = {'about':{'global':{'recall': [], 'precision': [],'f1': [], 'accuracy': []},\n",
    "                            'male':{'recall': [], 'precision': [],'f1': [], 'accuracy': []},\n",
    "                            'female':{'recall': [], 'precision': [],'f1': [], 'accuracy': []}},\n",
    "                    'as':{'global':{'recall': [], 'precision': [],'f1': [], 'accuracy': []},\n",
    "                            'male':{'recall': [], 'precision': [],'f1': [], 'accuracy': []},\n",
    "                            'female':{'recall': [], 'precision': [],'f1': [], 'accuracy': []}},\n",
    "                    'to':{'global':{'recall': [], 'precision': [],'f1': [], 'accuracy': []},\n",
    "                            'male':{'recall': [], 'precision': [],'f1': [], 'accuracy': []},\n",
    "                            'female':{'recall': [], 'precision': [],'f1': [], 'accuracy': []}}}"
   ]
  },
  {
   "cell_type": "code",
   "execution_count": 13,
   "metadata": {},
   "outputs": [
    {
     "data": {
      "application/vnd.jupyter.widget-view+json": {
       "model_id": "56f6891beae5456e89d6cfe581f385b1",
       "version_major": 2,
       "version_minor": 0
      },
      "text/plain": [
       "  0%|          | 0/57400 [00:00<?, ?it/s]"
      ]
     },
     "metadata": {},
     "output_type": "display_data"
    },
    {
     "name": "stdout",
     "output_type": "stream",
     "text": [
      "Epoch 1 \t Training loss: 2.0759968387955987 \t Validation loss: 2.080381914720697 \t \n",
      "  1%|          | 574/57400 [00:05<06:31, 145.31it/s]\n",
      "Epoch 2 \t Training loss: 2.0746627003473685 \t Validation loss: 2.0801034418203064 \t \n",
      "  2%|▏         | 1148/57400 [00:10<08:25, 111.22it/s]\n",
      "Epoch 3 \t Training loss: 2.072045480748087 \t Validation loss: 2.073893745066756 \t \n",
      "  3%|▎         | 1722/57400 [00:16<08:28, 109.44it/s]\n",
      "Epoch 4 \t Training loss: 2.0686204213298574 \t Validation loss: 2.070172592744989 \t \n",
      "  4%|▍         | 2296/57400 [00:22<08:36, 106.60it/s]\n",
      "Epoch 5 \t Training loss: 2.067140631144055 \t Validation loss: 2.0697196903875317 \t \n",
      "  5%|▌         | 2870/57400 [00:28<08:14, 110.27it/s]\n",
      "Epoch 6 \t Training loss: 2.064863943472141 \t Validation loss: 2.0695198996592374 \t \n",
      "  6%|▌         | 3444/57400 [00:33<06:28, 138.87it/s]\n",
      "Epoch 7 \t Training loss: 2.0626193584050037 \t Validation loss: 2.069767289242502 \t \n",
      "\n",
      "1 epoch without improvement\n",
      "  7%|▋         | 4018/57400 [00:37<06:21, 139.77it/s]\n",
      "Epoch 8 \t Training loss: 2.0609502094547922 \t Validation loss: 2.071436465796778 \t \n",
      "\n",
      "2 epoch without improvement\n",
      "  8%|▊         | 4592/57400 [00:42<06:10, 142.35it/s]\n",
      "Epoch 9 \t Training loss: 2.0579926174276797 \t Validation loss: 2.0606867943779896 \t \n",
      "  9%|▉         | 5166/57400 [00:46<06:12, 140.36it/s]\n",
      "Epoch 10 \t Training loss: 2.055892974242101 \t Validation loss: 2.0685925039194397 \t \n",
      "\n",
      "1 epoch without improvement\n",
      " 10%|█         | 5740/57400 [00:51<06:19, 136.29it/s]\n",
      "Epoch 11 \t Training loss: 2.054257462248985 \t Validation loss: 2.0627072665650967 \t \n",
      "\n",
      "2 epoch without improvement\n",
      " 11%|█         | 6314/57400 [00:55<06:06, 139.53it/s]\n",
      "Epoch 12 \t Training loss: 2.0526139036288247 \t Validation loss: 2.0596721738071766 \t \n",
      " 12%|█▏        | 6888/57400 [00:59<05:44, 146.72it/s]\n",
      "Epoch 13 \t Training loss: 2.049499080779245 \t Validation loss: 2.0579582917488226 \t \n",
      " 13%|█▎        | 7462/57400 [01:04<05:42, 145.96it/s]\n",
      "Epoch 14 \t Training loss: 2.048761622000239 \t Validation loss: 2.0595288599951793 \t \n",
      "\n",
      "1 epoch without improvement\n",
      " 14%|█▍        | 8036/57400 [01:08<05:33, 147.93it/s]\n",
      "Epoch 15 \t Training loss: 2.0468741146529594 \t Validation loss: 2.0545155759585105 \t \n",
      " 15%|█▌        | 8610/57400 [01:12<05:34, 145.93it/s]\n",
      "Epoch 16 \t Training loss: 2.0451453818261416 \t Validation loss: 2.0648675288184215 \t \n",
      "\n",
      "1 epoch without improvement\n",
      " 16%|█▌        | 9184/57400 [01:16<05:28, 146.66it/s]\n",
      "Epoch 17 \t Training loss: 2.0430964657238553 \t Validation loss: 2.0568839048935197 \t \n",
      "\n",
      "2 epoch without improvement\n",
      " 17%|█▋        | 9758/57400 [01:20<05:21, 148.26it/s]\n",
      "Epoch 18 \t Training loss: 2.042671068620183 \t Validation loss: 2.0572353257971296 \t \n",
      "\n",
      "3 epoch without improvement\n",
      " 18%|█▊        | 10332/57400 [01:25<05:19, 147.10it/s]\n",
      "Epoch 19 \t Training loss: 2.0392409469607817 \t Validation loss: 2.058621467170069 \t \n",
      "\n",
      "4 epoch without improvement\n",
      " 19%|█▉        | 10906/57400 [01:29<05:15, 147.21it/s]\n",
      "Epoch 20 \t Training loss: 2.0382193474404073 \t Validation loss: 2.04661733821287 \t \n",
      " 20%|██        | 11480/57400 [01:33<05:15, 145.47it/s]\n",
      "Epoch 21 \t Training loss: 2.038426450736016 \t Validation loss: 2.049821449538409 \t \n",
      "\n",
      "1 epoch without improvement\n",
      " 21%|██        | 12054/57400 [01:37<05:04, 148.92it/s]\n",
      "Epoch 22 \t Training loss: 2.0364164618664917 \t Validation loss: 2.044742992368795 \t \n",
      " 22%|██▏       | 12628/57400 [01:41<05:05, 146.43it/s]\n",
      "Epoch 23 \t Training loss: 2.0353501623931245 \t Validation loss: 2.047338594824581 \t \n",
      "\n",
      "1 epoch without improvement\n",
      " 23%|██▎       | 13202/57400 [01:46<05:03, 145.45it/s]\n",
      "Epoch 24 \t Training loss: 2.0332495989699813 \t Validation loss: 2.0421974719580955 \t \n",
      " 24%|██▍       | 13776/57400 [01:50<04:56, 147.01it/s]\n",
      "Epoch 25 \t Training loss: 2.032145519289821 \t Validation loss: 2.0453558372238936 \t \n",
      "\n",
      "1 epoch without improvement\n",
      " 25%|██▌       | 14350/57400 [01:54<04:51, 147.63it/s]\n",
      "Epoch 26 \t Training loss: 2.032155882813789 \t Validation loss: 2.04723726288747 \t \n",
      "\n",
      "2 epoch without improvement\n",
      " 26%|██▌       | 14924/57400 [01:58<04:47, 147.86it/s]\n",
      "Epoch 27 \t Training loss: 2.029504716811695 \t Validation loss: 2.0442345708103504 \t \n",
      "\n",
      "3 epoch without improvement\n",
      " 27%|██▋       | 15498/57400 [02:02<04:44, 147.47it/s]\n",
      "Epoch 28 \t Training loss: 2.0300738387822275 \t Validation loss: 2.05026252188925 \t \n",
      "\n",
      "4 epoch without improvement\n",
      " 28%|██▊       | 16072/57400 [02:07<04:42, 146.11it/s]\n",
      "Epoch 29 \t Training loss: 2.028087266646196 \t Validation loss: 2.046637252225714 \t \n",
      "\n",
      "5 epoch without improvement\n",
      " 29%|██▉       | 16646/57400 [02:11<04:34, 148.40it/s]\n",
      "Epoch 30 \t Training loss: 2.027501028173892 \t Validation loss: 2.045527714793965 \t \n",
      "\n",
      "6 epoch without improvement\n",
      " 30%|███       | 17220/57400 [02:15<04:31, 148.10it/s]\n",
      "Epoch 31 \t Training loss: 2.0269727717293264 \t Validation loss: 2.0480535050569952 \t \n",
      "\n",
      "7 epoch without improvement\n",
      " 31%|███       | 17794/57400 [02:19<04:26, 148.48it/s]\n",
      "Epoch 32 \t Training loss: 2.025576522126015 \t Validation loss: 2.0389987048456226 \t \n",
      " 32%|███▏      | 18368/57400 [02:23<04:25, 147.17it/s]\n",
      "Epoch 33 \t Training loss: 2.0252251521220193 \t Validation loss: 2.0444221658221746 \t \n",
      "\n",
      "1 epoch without improvement\n",
      " 33%|███▎      | 18942/57400 [02:28<04:21, 146.97it/s]\n",
      "Epoch 34 \t Training loss: 2.023700634776923 \t Validation loss: 2.0470321663355424 \t \n",
      "\n",
      "2 epoch without improvement\n",
      " 34%|███▍      | 19516/57400 [02:32<04:18, 146.53it/s]\n",
      "Epoch 35 \t Training loss: 2.022277800671315 \t Validation loss: 2.0424861119965376 \t \n",
      "\n",
      "3 epoch without improvement\n",
      " 35%|███▌      | 20090/57400 [02:36<04:10, 149.06it/s]\n",
      "Epoch 36 \t Training loss: 2.024267678061429 \t Validation loss: 2.0403132660914274 \t \n",
      "\n",
      "4 epoch without improvement\n",
      " 36%|███▌      | 20664/57400 [02:40<04:12, 145.65it/s]\n",
      "Epoch 37 \t Training loss: 2.0220603207677916 \t Validation loss: 2.041099297798286 \t \n",
      "\n",
      "5 epoch without improvement\n",
      " 37%|███▋      | 21238/57400 [02:44<04:04, 147.74it/s]\n",
      "Epoch 38 \t Training loss: 2.022284635891067 \t Validation loss: 2.0503463462247686 \t \n",
      "\n",
      "6 epoch without improvement\n",
      " 38%|███▊      | 21812/57400 [02:49<03:59, 148.54it/s]\n",
      "Epoch 39 \t Training loss: 2.021891153855606 \t Validation loss: 2.0296723620366244 \t \n",
      " 39%|███▉      | 22386/57400 [02:53<03:57, 147.26it/s]\n",
      "Epoch 40 \t Training loss: 2.0213619059386567 \t Validation loss: 2.03921692048089 \t \n",
      "\n",
      "1 epoch without improvement\n",
      " 40%|████      | 22960/57400 [02:57<03:52, 147.90it/s]\n",
      "Epoch 41 \t Training loss: 2.020115197120228 \t Validation loss: 2.0396305989410917 \t \n",
      "\n",
      "2 epoch without improvement\n",
      " 41%|████      | 23534/57400 [03:01<03:49, 147.46it/s]\n",
      "Epoch 42 \t Training loss: 2.018247949744766 \t Validation loss: 2.037145808591681 \t \n",
      "\n",
      "3 epoch without improvement\n",
      " 42%|████▏     | 24108/57400 [03:05<03:49, 145.20it/s]\n",
      "Epoch 43 \t Training loss: 2.0160659057338064 \t Validation loss: 2.039051641852169 \t \n",
      "\n",
      "4 epoch without improvement\n",
      " 43%|████▎     | 24682/57400 [03:10<03:41, 147.95it/s]\n",
      "Epoch 44 \t Training loss: 2.0180467838609677 \t Validation loss: 2.0366668984041376 \t \n",
      "\n",
      "5 epoch without improvement\n",
      " 44%|████▍     | 25256/57400 [03:14<03:38, 147.26it/s]\n",
      "Epoch 45 \t Training loss: 2.015245253408412 \t Validation loss: 2.036752919019279 \t \n",
      "\n",
      "6 epoch without improvement\n",
      " 45%|████▌     | 25830/57400 [03:18<03:33, 147.85it/s]\n",
      "Epoch 46 \t Training loss: 2.0166774624731483 \t Validation loss: 2.0403797909364862 \t \n",
      "\n",
      "7 epoch without improvement\n",
      " 46%|████▌     | 26404/57400 [03:22<03:33, 145.00it/s]\n",
      "Epoch 47 \t Training loss: 2.0134697924092255 \t Validation loss: 2.030567896568169 \t \n",
      "\n",
      "8 epoch without improvement\n",
      " 47%|████▋     | 26978/57400 [03:26<03:25, 148.11it/s]\n",
      "Epoch 48 \t Training loss: 2.015121603884348 \t Validation loss: 2.034796771356615 \t \n",
      "\n",
      "9 epoch without improvement\n",
      " 48%|████▊     | 27552/57400 [03:31<03:25, 145.45it/s]\n",
      "Epoch 49 \t Training loss: 2.0149590447804653 \t Validation loss: 2.0343192411681352 \t \n",
      "\n",
      "10 epoch without improvement\n",
      "Validation_loss hasn't improve in 10 epoch. Stopping training after 49 epochs...\n"
     ]
    },
    {
     "data": {
      "image/png": "[encoded data removed]",
      "text/plain": [
       "<Figure size 640x480 with 1 Axes>"
      ]
     },
     "metadata": {},
     "output_type": "display_data"
    }
   ],
   "source": [
    "model = rrnn.MultiTaskRRNN(emb_dim=emb_dim,vocab_size=vocab_size,lstm_hidden_dim=lstm_hidden_dim).to(device)\n",
    "save_path='m1_rrnn_multi_v1_1'\n",
    "optimizer = AdamW(model.parameters(), lr=learning_rate)\n",
    "train.train_function_multi(model,num_epochs,dl_train,optimizer,early_stop = 10,dl_val = dl_val,save_path=save_path,es_threshold=0)"
   ]
  },
  {
   "cell_type": "code",
   "execution_count": 14,
   "metadata": {},
   "outputs": [
    {
     "name": "stdout",
     "output_type": "stream",
     "text": [
      "Evaluación del modelo\n",
      "{'to': {'recall': 0.5277777777777778, 'precision': 0.5277777777777778, 'f1': 0.5277777777777778, 'accuracy': 0.5277777777777778}, 'as': {'recall': 0.5488917861799217, 'precision': 0.5488917861799217, 'f1': 0.5488917861799217, 'accuracy': 0.5488917861799217}, 'about': {'recall': 0.6262755102040817, 'precision': 0.6262755102040817, 'f1': 0.6262755102040817, 'accuracy': 0.6262755102040817}} \n",
      "\n",
      "Evaluación en etiquetas male\n",
      "{'to': {'recall': 0.8223844282238443, 'precision': 0.8223844282238443, 'f1': 0.8223844282238444, 'accuracy': 0.8223844282238443}, 'as': {'recall': 0.8409090909090909, 'precision': 0.8409090909090909, 'f1': 0.8409090909090909, 'accuracy': 0.8409090909090909}, 'about': {'recall': 0.9010416666666666, 'precision': 0.9010416666666666, 'f1': 0.9010416666666666, 'accuracy': 0.9010416666666666}} \n",
      "\n",
      "Evaluación en etiquetas female\n",
      "{'to': {'recall': 0.2099737532808399, 'precision': 0.2099737532808399, 'f1': 0.2099737532808399, 'accuracy': 0.2099737532808399}, 'as': {'recall': 0.2371967654986523, 'precision': 0.2371967654986523, 'f1': 0.2371967654986523, 'accuracy': 0.2371967654986523}, 'about': {'recall': 0.3625, 'precision': 0.3625, 'f1': 0.36250000000000004, 'accuracy': 0.3625}} \n",
      "\n"
     ]
    }
   ],
   "source": [
    "model = rrnn.MultiTaskRRNN(emb_dim=emb_dim,vocab_size=vocab_size,lstm_hidden_dim=lstm_hidden_dim).to(device)\n",
    "model.load_state_dict(torch.load(save_path))\n",
    "\n",
    "print(\"Evaluación del modelo\")\n",
    "result_global = train.eval_func_multi(model,dl_eval,tasks,gender=None)\n",
    "generic.update_global_metric_multi(result_global,global_metrics,mtype='global')\n",
    "print(result_global,'\\n')\n",
    "print(\"Evaluación en etiquetas male\")\n",
    "result_global = train.eval_func_multi(model,dl_eval,tasks,gender='male')\n",
    "generic.update_global_metric_multi(result_global,global_metrics,mtype='male')\n",
    "print(result_global,'\\n')\n",
    "print(\"Evaluación en etiquetas female\")\n",
    "result_global = train.eval_func_multi(model,dl_eval,tasks,gender='female')\n",
    "generic.update_global_metric_multi(result_global,global_metrics,mtype='female')\n",
    "print(result_global,'\\n')\n"
   ]
  },
  {
   "cell_type": "code",
   "execution_count": 15,
   "metadata": {},
   "outputs": [
    {
     "data": {
      "application/vnd.jupyter.widget-view+json": {
       "model_id": "e521c10bedc84f64843b121ab578a795",
       "version_major": 2,
       "version_minor": 0
      },
      "text/plain": [
       "  0%|          | 0/57400 [00:00<?, ?it/s]"
      ]
     },
     "metadata": {},
     "output_type": "display_data"
    },
    {
     "name": "stdout",
     "output_type": "stream",
     "text": [
      "Epoch 1 \t Training loss: 2.075549179668626 \t Validation loss: 2.0805833582150735 \t \n",
      "  1%|          | 574/57400 [00:04<06:27, 146.63it/s]\n",
      "Epoch 2 \t Training loss: 2.0744787745359465 \t Validation loss: 2.0778125140626553 \t \n",
      "  2%|▏         | 1148/57400 [00:08<06:24, 146.44it/s]\n",
      "Epoch 3 \t Training loss: 2.0728729988224415 \t Validation loss: 2.0792539968328962 \t \n",
      "\n",
      "1 epoch without improvement\n",
      "  3%|▎         | 1722/57400 [00:12<06:27, 143.69it/s]\n",
      "Epoch 4 \t Training loss: 2.070576671523915 \t Validation loss: 2.074012138075748 \t \n",
      "  4%|▍         | 2296/57400 [00:17<06:19, 145.39it/s]\n",
      "Epoch 5 \t Training loss: 2.06817802776443 \t Validation loss: 2.073557833493766 \t \n",
      "  5%|▌         | 2870/57400 [00:21<06:11, 146.74it/s]\n",
      "Epoch 6 \t Training loss: 2.0666099624766705 \t Validation loss: 2.0682245351500432 \t \n",
      "  6%|▌         | 3444/57400 [00:25<06:11, 145.34it/s]\n",
      "Epoch 7 \t Training loss: 2.0646966388416623 \t Validation loss: 2.0697858656867076 \t \n",
      "\n",
      "1 epoch without improvement\n",
      "  7%|▋         | 4018/57400 [00:29<06:08, 144.68it/s]\n",
      "Epoch 8 \t Training loss: 2.0622938846461865 \t Validation loss: 2.0683738821643893 \t \n",
      "\n",
      "2 epoch without improvement\n",
      "  8%|▊         | 4592/57400 [00:34<06:01, 146.16it/s]\n",
      "Epoch 9 \t Training loss: 2.05997775822151 \t Validation loss: 2.0661928290027682 \t \n",
      "  9%|▉         | 5166/57400 [00:38<05:59, 145.49it/s]\n",
      "Epoch 10 \t Training loss: 2.057667449168627 \t Validation loss: 2.066409870729608 \t \n",
      "\n",
      "1 epoch without improvement\n",
      " 10%|█         | 5740/57400 [00:42<05:57, 144.42it/s]\n",
      "Epoch 11 \t Training loss: 2.0553207713137107 \t Validation loss: 2.0663796521849553 \t \n",
      "\n",
      "2 epoch without improvement\n",
      " 11%|█         | 6314/57400 [00:46<05:50, 145.70it/s]\n",
      "Epoch 12 \t Training loss: 2.0522875495073274 \t Validation loss: 2.054944915286565 \t \n",
      " 12%|█▏        | 6888/57400 [00:51<05:47, 145.36it/s]\n",
      "Epoch 13 \t Training loss: 2.050664058130377 \t Validation loss: 2.0572621862767106 \t \n",
      "\n",
      "1 epoch without improvement\n",
      " 13%|█▎        | 7462/57400 [00:55<05:45, 144.56it/s]\n",
      "Epoch 14 \t Training loss: 2.0482284214853825 \t Validation loss: 2.0680996118965798 \t \n",
      "\n",
      "2 epoch without improvement\n",
      " 14%|█▍        | 8036/57400 [00:59<05:45, 142.67it/s]\n",
      "Epoch 15 \t Training loss: 2.046979511864094 \t Validation loss: 2.0576046482991366 \t \n",
      "\n",
      "3 epoch without improvement\n",
      " 15%|█▌        | 8610/57400 [01:03<05:32, 146.58it/s]\n",
      "Epoch 16 \t Training loss: 2.044219040912203 \t Validation loss: 2.057624974493253 \t \n",
      "\n",
      "4 epoch without improvement\n",
      " 16%|█▌        | 9184/57400 [01:08<05:31, 145.37it/s]\n",
      "Epoch 17 \t Training loss: 2.0419459882928934 \t Validation loss: 2.0482951220819507 \t \n",
      " 17%|█▋        | 9758/57400 [01:12<05:27, 145.38it/s]\n",
      "Epoch 18 \t Training loss: 2.042475976179701 \t Validation loss: 2.051859120191154 \t \n",
      "\n",
      "1 epoch without improvement\n",
      " 18%|█▊        | 10332/57400 [01:16<05:19, 147.24it/s]\n",
      "Epoch 19 \t Training loss: 2.0402246472727548 \t Validation loss: 2.0475730774766308 \t \n",
      " 19%|█▉        | 10906/57400 [01:20<05:15, 147.39it/s]\n",
      "Epoch 20 \t Training loss: 2.0387427522330333 \t Validation loss: 2.0485638885174766 \t \n",
      "\n",
      "1 epoch without improvement\n",
      " 20%|██        | 11480/57400 [01:25<05:14, 146.16it/s]\n",
      "Epoch 21 \t Training loss: 2.0375771674129606 \t Validation loss: 2.0531929428294555 \t \n",
      "\n",
      "2 epoch without improvement\n",
      " 21%|██        | 12054/57400 [01:29<05:11, 145.63it/s]\n",
      "Epoch 22 \t Training loss: 2.0355707309387285 \t Validation loss: 2.045242750038535 \t \n",
      " 22%|██▏       | 12628/57400 [01:33<05:09, 144.49it/s]\n",
      "Epoch 23 \t Training loss: 2.0342813892231586 \t Validation loss: 2.038913169149625 \t \n",
      " 23%|██▎       | 13202/57400 [01:37<05:00, 146.91it/s]\n",
      "Epoch 24 \t Training loss: 2.03379390858607 \t Validation loss: 2.04046734510842 \t \n",
      "\n",
      "1 epoch without improvement\n",
      " 24%|██▍       | 13776/57400 [01:42<04:57, 146.51it/s]\n",
      "Epoch 25 \t Training loss: 2.0328563426845165 \t Validation loss: 2.0376965858168523 \t \n",
      " 25%|██▌       | 14350/57400 [01:46<04:56, 145.20it/s]\n",
      "Epoch 26 \t Training loss: 2.030491822480325 \t Validation loss: 2.040943658958047 \t \n",
      "\n",
      "1 epoch without improvement\n",
      " 26%|██▌       | 14924/57400 [01:50<04:52, 145.18it/s]\n",
      "Epoch 27 \t Training loss: 2.028712082199934 \t Validation loss: 2.041376433130038 \t \n",
      "\n",
      "2 epoch without improvement\n",
      " 27%|██▋       | 15498/57400 [01:54<04:47, 145.77it/s]\n",
      "Epoch 28 \t Training loss: 2.029587337364303 \t Validation loss: 2.040881979263435 \t \n",
      "\n",
      "3 epoch without improvement\n",
      " 28%|██▊       | 16072/57400 [02:00<23:30, 29.29it/s]\n",
      "Epoch 29 \t Training loss: 2.027172979785175 \t Validation loss: 2.0447743787603865 \t \n",
      "\n",
      "4 epoch without improvement\n",
      " 29%|██▉       | 16646/57400 [02:04<04:37, 146.91it/s]\n",
      "Epoch 30 \t Training loss: 2.027842982305467 \t Validation loss: 2.042398208278721 \t \n",
      "\n",
      "5 epoch without improvement\n",
      " 30%|███       | 17220/57400 [02:08<04:34, 146.26it/s]\n",
      "Epoch 31 \t Training loss: 2.026426688303931 \t Validation loss: 2.044144484956386 \t \n",
      "\n",
      "6 epoch without improvement\n",
      " 31%|███       | 17794/57400 [02:13<04:31, 146.06it/s]\n",
      "Epoch 32 \t Training loss: 2.026978665527982 \t Validation loss: 2.0460362373772316 \t \n",
      "\n",
      "7 epoch without improvement\n",
      " 32%|███▏      | 18368/57400 [02:17<04:22, 148.59it/s]\n",
      "Epoch 33 \t Training loss: 2.0245523976116644 \t Validation loss: 2.0422089847467713 \t \n",
      "\n",
      "8 epoch without improvement\n",
      " 33%|███▎      | 18942/57400 [02:21<04:21, 147.18it/s]\n",
      "Epoch 34 \t Training loss: 2.0241357578217776 \t Validation loss: 2.0378380811820596 \t \n",
      "\n",
      "9 epoch without improvement\n",
      " 34%|███▍      | 19516/57400 [02:25<04:27, 141.72it/s]\n",
      "Epoch 35 \t Training loss: 2.022174785361473 \t Validation loss: 2.040906968763319 \t \n",
      "\n",
      "10 epoch without improvement\n",
      "Validation_loss hasn't improve in 10 epoch. Stopping training after 35 epochs...\n"
     ]
    },
    {
     "data": {
      "image/png": "[encoded data removed]",
      "text/plain": [
       "<Figure size 640x480 with 1 Axes>"
      ]
     },
     "metadata": {},
     "output_type": "display_data"
    }
   ],
   "source": [
    "model = rrnn.MultiTaskRRNN(emb_dim=emb_dim,vocab_size=vocab_size,lstm_hidden_dim=lstm_hidden_dim).to(device)\n",
    "save_path='m1_rrnn_multi_v1_2'\n",
    "optimizer = AdamW(model.parameters(), lr=learning_rate)\n",
    "train.train_function_multi(model,num_epochs,dl_train,optimizer,early_stop = 10,dl_val = dl_val,save_path=save_path,es_threshold=0)"
   ]
  },
  {
   "cell_type": "code",
   "execution_count": 16,
   "metadata": {},
   "outputs": [
    {
     "name": "stdout",
     "output_type": "stream",
     "text": [
      "Evaluación del modelo\n",
      "{'to': {'recall': 0.5037878787878788, 'precision': 0.5037878787878788, 'f1': 0.5037878787878788, 'accuracy': 0.5037878787878788}, 'as': {'recall': 0.5449804432855281, 'precision': 0.5449804432855281, 'f1': 0.5449804432855281, 'accuracy': 0.5449804432855281}, 'about': {'recall': 0.6301020408163265, 'precision': 0.6301020408163265, 'f1': 0.6301020408163265, 'accuracy': 0.6301020408163265}} \n",
      "\n",
      "Evaluación en etiquetas male\n",
      "{'to': {'recall': 0.31630170316301703, 'precision': 0.31630170316301703, 'f1': 0.31630170316301703, 'accuracy': 0.31630170316301703}, 'as': {'recall': 0.34595959595959597, 'precision': 0.34595959595959597, 'f1': 0.34595959595959597, 'accuracy': 0.34595959595959597}, 'about': {'recall': 0.4557291666666667, 'precision': 0.4557291666666667, 'f1': 0.45572916666666663, 'accuracy': 0.4557291666666667}} \n",
      "\n",
      "Evaluación en etiquetas female\n",
      "{'to': {'recall': 0.7060367454068242, 'precision': 0.7060367454068242, 'f1': 0.7060367454068242, 'accuracy': 0.7060367454068242}, 'as': {'recall': 0.7574123989218329, 'precision': 0.7574123989218329, 'f1': 0.7574123989218329, 'accuracy': 0.7574123989218329}, 'about': {'recall': 0.7975, 'precision': 0.7975, 'f1': 0.7975, 'accuracy': 0.7975}} \n",
      "\n"
     ]
    }
   ],
   "source": [
    "model = rrnn.MultiTaskRRNN(emb_dim=emb_dim,vocab_size=vocab_size,lstm_hidden_dim=lstm_hidden_dim).to(device)\n",
    "model.load_state_dict(torch.load(save_path))\n",
    "\n",
    "print(\"Evaluación del modelo\")\n",
    "result_global = train.eval_func_multi(model,dl_eval,tasks,gender=None)\n",
    "generic.update_global_metric_multi(result_global,global_metrics,mtype='global')\n",
    "print(result_global,'\\n')\n",
    "print(\"Evaluación en etiquetas male\")\n",
    "result_global = train.eval_func_multi(model,dl_eval,tasks,gender='male')\n",
    "generic.update_global_metric_multi(result_global,global_metrics,mtype='male')\n",
    "print(result_global,'\\n')\n",
    "print(\"Evaluación en etiquetas female\")\n",
    "result_global = train.eval_func_multi(model,dl_eval,tasks,gender='female')\n",
    "generic.update_global_metric_multi(result_global,global_metrics,mtype='female')\n",
    "print(result_global,'\\n')\n"
   ]
  },
  {
   "cell_type": "code",
   "execution_count": 17,
   "metadata": {},
   "outputs": [
    {
     "data": {
      "application/vnd.jupyter.widget-view+json": {
       "model_id": "8fd63213c52f4b05beebf1d89d0431e3",
       "version_major": 2,
       "version_minor": 0
      },
      "text/plain": [
       "  0%|          | 0/57400 [00:00<?, ?it/s]"
      ]
     },
     "metadata": {},
     "output_type": "display_data"
    },
    {
     "name": "stdout",
     "output_type": "stream",
     "text": [
      "Epoch 1 \t Training loss: 2.07582691031466 \t Validation loss: 2.0797780408697615 \t \n",
      "  1%|          | 574/57400 [00:04<06:37, 142.79it/s]\n",
      "Epoch 2 \t Training loss: 2.0744901509235127 \t Validation loss: 2.081011275113639 \t \n",
      "\n",
      "1 epoch without improvement\n",
      "  2%|▏         | 1148/57400 [00:08<06:25, 145.86it/s]\n",
      "Epoch 3 \t Training loss: 2.071900797637913 \t Validation loss: 2.0767485570099393 \t \n",
      "  3%|▎         | 1722/57400 [00:12<06:24, 144.76it/s]\n",
      "Epoch 4 \t Training loss: 2.0682736223998384 \t Validation loss: 2.074329958123676 \t \n",
      "  4%|▍         | 2296/57400 [00:17<06:18, 145.44it/s]\n",
      "Epoch 5 \t Training loss: 2.0666963219227275 \t Validation loss: 2.074351953247846 \t \n",
      "\n",
      "1 epoch without improvement\n",
      "  5%|▌         | 2870/57400 [00:21<06:15, 145.40it/s]\n",
      "Epoch 6 \t Training loss: 2.06525046983247 \t Validation loss: 2.0733208939180536 \t \n",
      "  6%|▌         | 3444/57400 [00:25<06:12, 144.86it/s]\n",
      "Epoch 7 \t Training loss: 2.063045874705298 \t Validation loss: 2.0718942739195745 \t \n",
      "  7%|▋         | 4018/57400 [00:30<06:09, 144.37it/s]\n",
      "Epoch 8 \t Training loss: 2.0620907756925044 \t Validation loss: 2.0697035102520958 \t \n",
      "  8%|▊         | 4592/57400 [00:34<06:05, 144.34it/s]\n",
      "Epoch 9 \t Training loss: 2.060418182756843 \t Validation loss: 2.065150527630822 \t \n",
      "  9%|▉         | 5166/57400 [00:38<06:05, 142.94it/s]\n",
      "Epoch 10 \t Training loss: 2.0581814893862096 \t Validation loss: 2.0637060302799033 \t \n",
      " 10%|█         | 5740/57400 [00:42<05:56, 144.86it/s]\n",
      "Epoch 11 \t Training loss: 2.0550640063418744 \t Validation loss: 2.0655929355298057 \t \n",
      "\n",
      "1 epoch without improvement\n",
      " 11%|█         | 6314/57400 [00:47<05:50, 145.68it/s]\n",
      "Epoch 12 \t Training loss: 2.053770054715851 \t Validation loss: 2.059776233414472 \t \n",
      " 12%|█▏        | 6888/57400 [00:51<05:54, 142.60it/s]\n",
      "Epoch 13 \t Training loss: 2.052093501290378 \t Validation loss: 2.063492221347356 \t \n",
      "\n",
      "1 epoch without improvement\n",
      " 13%|█▎        | 7462/57400 [00:55<05:46, 144.11it/s]\n",
      "Epoch 14 \t Training loss: 2.051079130338875 \t Validation loss: 2.0600794897241106 \t \n",
      "\n",
      "2 epoch without improvement\n",
      " 14%|█▍        | 8036/57400 [01:00<05:40, 145.14it/s]\n",
      "Epoch 15 \t Training loss: 2.048445864836929 \t Validation loss: 2.060015763266612 \t \n",
      "\n",
      "3 epoch without improvement\n",
      " 15%|█▌        | 8610/57400 [01:04<05:36, 144.98it/s]\n",
      "Epoch 16 \t Training loss: 2.0470064157808285 \t Validation loss: 2.0589616985644326 \t \n",
      " 16%|█▌        | 9184/57400 [01:08<05:32, 145.16it/s]\n",
      "Epoch 17 \t Training loss: 2.0458554482210802 \t Validation loss: 2.0533798872414284 \t \n",
      " 17%|█▋        | 9758/57400 [01:12<05:26, 145.89it/s]\n",
      "Epoch 18 \t Training loss: 2.042783055363632 \t Validation loss: 2.05362804865433 \t \n",
      "\n",
      "1 epoch without improvement\n",
      " 18%|█▊        | 10332/57400 [01:17<05:29, 142.85it/s]\n",
      "Epoch 19 \t Training loss: 2.041682655595321 \t Validation loss: 2.047754332170648 \t \n",
      " 19%|█▉        | 10906/57400 [01:21<05:21, 144.55it/s]\n",
      "Epoch 20 \t Training loss: 2.0407071616176116 \t Validation loss: 2.047762147450851 \t \n",
      "\n",
      "1 epoch without improvement\n",
      " 20%|██        | 11480/57400 [01:25<05:22, 142.30it/s]\n",
      "Epoch 21 \t Training loss: 2.03969693806944 \t Validation loss: 2.0496441469354143 \t \n",
      "\n",
      "2 epoch without improvement\n",
      " 21%|██        | 12054/57400 [01:30<05:12, 144.96it/s]\n",
      "Epoch 22 \t Training loss: 2.0389154933470883 \t Validation loss: 2.048262878999872 \t \n",
      "\n",
      "3 epoch without improvement\n",
      " 22%|██▏       | 12628/57400 [01:34<05:06, 146.24it/s]\n",
      "Epoch 23 \t Training loss: 2.037394454462603 \t Validation loss: 2.046537001254195 \t \n",
      " 23%|██▎       | 13202/57400 [01:38<05:05, 144.68it/s]\n",
      "Epoch 24 \t Training loss: 2.035236704224909 \t Validation loss: 2.0413089909795987 \t \n",
      " 24%|██▍       | 13776/57400 [01:42<05:04, 143.41it/s]\n",
      "Epoch 25 \t Training loss: 2.034435336182757 \t Validation loss: 2.0501281831224087 \t \n",
      "\n",
      "1 epoch without improvement\n",
      " 25%|██▌       | 14350/57400 [01:47<04:58, 144.46it/s]\n",
      "Epoch 26 \t Training loss: 2.0320850114373794 \t Validation loss: 2.045014547089399 \t \n",
      "\n",
      "2 epoch without improvement\n",
      " 26%|██▌       | 14924/57400 [01:51<04:53, 144.74it/s]\n",
      "Epoch 27 \t Training loss: 2.033119151193506 \t Validation loss: 2.0471681659504517 \t \n",
      "\n",
      "3 epoch without improvement\n",
      " 27%|██▋       | 15498/57400 [01:55<04:49, 144.56it/s]\n",
      "Epoch 28 \t Training loss: 2.0312011100689293 \t Validation loss: 2.0420726234630004 \t \n",
      "\n",
      "4 epoch without improvement\n",
      " 28%|██▊       | 16072/57400 [02:00<04:46, 144.47it/s]\n",
      "Epoch 29 \t Training loss: 2.030373037276783 \t Validation loss: 2.04457100367142 \t \n",
      "\n",
      "5 epoch without improvement\n",
      " 29%|██▉       | 16646/57400 [02:04<04:48, 141.04it/s]\n",
      "Epoch 30 \t Training loss: 2.0287372393059813 \t Validation loss: 2.045497764975338 \t \n",
      "\n",
      "6 epoch without improvement\n",
      " 30%|███       | 17220/57400 [02:08<04:37, 145.04it/s]\n",
      "Epoch 31 \t Training loss: 2.0273440224783763 \t Validation loss: 2.0424284975407487 \t \n",
      "\n",
      "7 epoch without improvement\n",
      " 31%|███       | 17794/57400 [02:12<04:32, 145.49it/s]\n",
      "Epoch 32 \t Training loss: 2.0274830358784373 \t Validation loss: 2.0416391178713007 \t \n",
      "\n",
      "8 epoch without improvement\n",
      " 32%|███▏      | 18368/57400 [02:17<04:31, 143.92it/s]\n",
      "Epoch 33 \t Training loss: 2.0255583726155217 \t Validation loss: 2.036947149341389 \t \n",
      " 33%|███▎      | 18942/57400 [02:21<04:24, 145.67it/s]\n",
      "Epoch 34 \t Training loss: 2.024931055120475 \t Validation loss: 2.0374478162345238 \t \n",
      "\n",
      "1 epoch without improvement\n",
      " 34%|███▍      | 19516/57400 [02:25<04:19, 146.00it/s]\n",
      "Epoch 35 \t Training loss: 2.0243676753409647 \t Validation loss: 2.0376701435800326 \t \n",
      "\n",
      "2 epoch without improvement\n",
      " 35%|███▌      | 20090/57400 [02:30<04:19, 143.84it/s]\n",
      "Epoch 36 \t Training loss: 2.0237486979271893 \t Validation loss: 2.0350545988244524 \t \n",
      " 36%|███▌      | 20664/57400 [02:34<04:13, 145.09it/s]\n",
      "Epoch 37 \t Training loss: 2.02164823460662 \t Validation loss: 2.0487235622890925 \t \n",
      "\n",
      "1 epoch without improvement\n",
      " 37%|███▋      | 21238/57400 [02:38<04:09, 144.99it/s]\n",
      "Epoch 38 \t Training loss: 2.021731608420714 \t Validation loss: 2.0337975914195434 \t \n",
      " 38%|███▊      | 21812/57400 [02:42<04:13, 140.39it/s]\n",
      "Epoch 39 \t Training loss: 2.0207934047286935 \t Validation loss: 2.0394013210878534 \t \n",
      "\n",
      "1 epoch without improvement\n",
      " 39%|███▉      | 22386/57400 [02:47<04:04, 143.39it/s]\n",
      "Epoch 40 \t Training loss: 2.021198287450478 \t Validation loss: 2.0281080553087136 \t \n",
      " 40%|████      | 22960/57400 [02:51<03:58, 144.57it/s]\n",
      "Epoch 41 \t Training loss: 2.0201656135117134 \t Validation loss: 2.0430720943515586 \t \n",
      "\n",
      "1 epoch without improvement\n",
      " 41%|████      | 23534/57400 [02:55<03:52, 145.77it/s]\n",
      "Epoch 42 \t Training loss: 2.0205870642479287 \t Validation loss: 2.0342473034131325 \t \n",
      "\n",
      "2 epoch without improvement\n",
      " 42%|████▏     | 24108/57400 [03:00<03:51, 144.08it/s]\n",
      "Epoch 43 \t Training loss: 2.0194762255671965 \t Validation loss: 2.035621348073927 \t \n",
      "\n",
      "3 epoch without improvement\n",
      " 43%|████▎     | 24682/57400 [03:04<03:51, 141.48it/s]\n",
      "Epoch 44 \t Training loss: 2.017871272896225 \t Validation loss: 2.031334652739056 \t \n",
      "\n",
      "4 epoch without improvement\n",
      " 44%|████▍     | 25256/57400 [03:08<03:51, 139.03it/s]\n",
      "Epoch 45 \t Training loss: 2.0178126703155996 \t Validation loss: 2.0360786995645297 \t \n",
      "\n",
      "5 epoch without improvement\n",
      " 45%|████▌     | 25830/57400 [03:13<03:43, 141.09it/s]\n",
      "Epoch 46 \t Training loss: 2.0162566378972255 \t Validation loss: 2.0296314651683227 \t \n",
      "\n",
      "6 epoch without improvement\n",
      " 46%|████▌     | 26404/57400 [03:17<03:38, 141.90it/s]\n",
      "Epoch 47 \t Training loss: 2.0157999925912464 \t Validation loss: 2.043321350873527 \t \n",
      "\n",
      "7 epoch without improvement\n",
      " 47%|████▋     | 26978/57400 [03:21<03:31, 143.57it/s]\n",
      "Epoch 48 \t Training loss: 2.0169989312982723 \t Validation loss: 2.03119943303577 \t \n",
      "\n",
      "8 epoch without improvement\n",
      " 48%|████▊     | 27552/57400 [03:26<03:32, 140.44it/s]\n",
      "Epoch 49 \t Training loss: 2.014955336208543 \t Validation loss: 2.035192952317707 \t \n",
      "\n",
      "9 epoch without improvement\n",
      " 49%|████▉     | 28126/57400 [03:30<03:27, 141.07it/s]\n",
      "Epoch 50 \t Training loss: 2.0134408895562337 \t Validation loss: 2.0322119482492997 \t \n",
      "\n",
      "10 epoch without improvement\n",
      "Validation_loss hasn't improve in 10 epoch. Stopping training after 50 epochs...\n"
     ]
    },
    {
     "data": {
      "image/png": "[encoded data removed]",
      "text/plain": [
       "<Figure size 640x480 with 1 Axes>"
      ]
     },
     "metadata": {},
     "output_type": "display_data"
    }
   ],
   "source": [
    "model = rrnn.MultiTaskRRNN(emb_dim=emb_dim,vocab_size=vocab_size,lstm_hidden_dim=lstm_hidden_dim).to(device)\n",
    "save_path='m1_rrnn_multi_v1_3'\n",
    "optimizer = AdamW(model.parameters(), lr=learning_rate)\n",
    "train.train_function_multi(model,num_epochs,dl_train,optimizer,early_stop = 10,dl_val = dl_val,save_path=save_path,es_threshold=0)"
   ]
  },
  {
   "cell_type": "code",
   "execution_count": 18,
   "metadata": {},
   "outputs": [
    {
     "name": "stdout",
     "output_type": "stream",
     "text": [
      "Evaluación del modelo\n",
      "{'to': {'recall': 0.5202020202020202, 'precision': 0.5202020202020202, 'f1': 0.5202020202020202, 'accuracy': 0.5202020202020202}, 'as': {'recall': 0.5397653194263363, 'precision': 0.5397653194263363, 'f1': 0.5397653194263363, 'accuracy': 0.5397653194263363}, 'about': {'recall': 0.6020408163265306, 'precision': 0.6020408163265306, 'f1': 0.6020408163265306, 'accuracy': 0.6020408163265306}} \n",
      "\n",
      "Evaluación en etiquetas male\n",
      "{'to': {'recall': 0.8321167883211679, 'precision': 0.8321167883211679, 'f1': 0.8321167883211679, 'accuracy': 0.8321167883211679}, 'as': {'recall': 0.8636363636363636, 'precision': 0.8636363636363636, 'f1': 0.8636363636363636, 'accuracy': 0.8636363636363636}, 'about': {'recall': 0.90625, 'precision': 0.90625, 'f1': 0.90625, 'accuracy': 0.90625}} \n",
      "\n",
      "Evaluación en etiquetas female\n",
      "{'to': {'recall': 0.1837270341207349, 'precision': 0.1837270341207349, 'f1': 0.1837270341207349, 'accuracy': 0.1837270341207349}, 'as': {'recall': 0.1940700808625337, 'precision': 0.1940700808625337, 'f1': 0.1940700808625337, 'accuracy': 0.1940700808625337}, 'about': {'recall': 0.31, 'precision': 0.31, 'f1': 0.31, 'accuracy': 0.31}} \n",
      "\n"
     ]
    }
   ],
   "source": [
    "model = rrnn.MultiTaskRRNN(emb_dim=emb_dim,vocab_size=vocab_size,lstm_hidden_dim=lstm_hidden_dim).to(device)\n",
    "model.load_state_dict(torch.load(save_path))\n",
    "\n",
    "print(\"Evaluación del modelo\")\n",
    "result_global = train.eval_func_multi(model,dl_eval,tasks,gender=None)\n",
    "generic.update_global_metric_multi(result_global,global_metrics,mtype='global')\n",
    "print(result_global,'\\n')\n",
    "print(\"Evaluación en etiquetas male\")\n",
    "result_global = train.eval_func_multi(model,dl_eval,tasks,gender='male')\n",
    "generic.update_global_metric_multi(result_global,global_metrics,mtype='male')\n",
    "print(result_global,'\\n')\n",
    "print(\"Evaluación en etiquetas female\")\n",
    "result_global = train.eval_func_multi(model,dl_eval,tasks,gender='female')\n",
    "generic.update_global_metric_multi(result_global,global_metrics,mtype='female')\n",
    "print(result_global,'\\n')\n"
   ]
  },
  {
   "cell_type": "code",
   "execution_count": 19,
   "metadata": {},
   "outputs": [
    {
     "name": "stdout",
     "output_type": "stream",
     "text": [
      "Métricas globales: \n",
      "\n",
      "\n",
      " about\n",
      "Resultado global: {'recall': 0.6194727891156463, 'precision': 0.6194727891156463, 'f1': 0.6194727891156463, 'accuracy': 0.6194727891156463}\n",
      "Métricas etiqueta male: {'recall': 0.7543402777777778, 'precision': 0.7543402777777778, 'f1': 0.7543402777777778, 'accuracy': 0.7543402777777778}\n",
      "Métricas etiqueta female:  {'recall': 0.49, 'precision': 0.49, 'f1': 0.49, 'accuracy': 0.49}\n",
      "\n",
      " to\n",
      "Resultado global: {'recall': 0.5172558922558923, 'precision': 0.5172558922558923, 'f1': 0.5172558922558923, 'accuracy': 0.5172558922558923}\n",
      "Métricas etiqueta male: {'recall': 0.656934306569343, 'precision': 0.656934306569343, 'f1': 0.6569343065693432, 'accuracy': 0.656934306569343}\n",
      "Métricas etiqueta female:  {'recall': 0.3665791776027997, 'precision': 0.3665791776027997, 'f1': 0.3665791776027997, 'accuracy': 0.3665791776027997}\n",
      "\n",
      " as\n",
      "Resultado global: {'recall': 0.5445458496305954, 'precision': 0.5445458496305954, 'f1': 0.5445458496305954, 'accuracy': 0.5445458496305954}\n",
      "Métricas etiqueta male: {'recall': 0.6835016835016835, 'precision': 0.6835016835016835, 'f1': 0.6835016835016835, 'accuracy': 0.6835016835016835}\n",
      "Métricas etiqueta female:  {'recall': 0.39622641509433965, 'precision': 0.39622641509433965, 'f1': 0.39622641509433965, 'accuracy': 0.39622641509433965}\n"
     ]
    }
   ],
   "source": [
    "\n",
    "print('Métricas globales: \\n')\n",
    "\n",
    "for task in ['about','to','as']:\n",
    "    print('\\n',task)\n",
    "    print('Resultado global:',{m:mean(values) for m,values in global_metrics[task]['global'].items()})\n",
    "    print(f'Métricas etiqueta male:',{m:mean(values) for m,values in global_metrics[task]['male'].items()})\n",
    "    print('Métricas etiqueta female: ',{m:mean(values) for m,values in global_metrics[task]['female'].items()})\n"
   ]
  }
 ],
 "metadata": {
  "kernelspec": {
   "display_name": "tfg",
   "language": "python",
   "name": "python3"
  },
  "language_info": {
   "codemirror_mode": {
    "name": "ipython",
    "version": 3
   },
   "file_extension": ".py",
   "mimetype": "text/x-python",
   "name": "python",
   "nbconvert_exporter": "python",
   "pygments_lexer": "ipython3",
   "version": "3.9.13"
  },
  "orig_nbformat": 4
 },
 "nbformat": 4,
 "nbformat_minor": 2
}
