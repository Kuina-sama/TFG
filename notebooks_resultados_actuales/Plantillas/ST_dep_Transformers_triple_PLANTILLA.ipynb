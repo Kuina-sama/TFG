{
 "cells": [
  {
   "cell_type": "code",
   "execution_count": null,
   "metadata": {},
   "outputs": [],
   "source": [
    "import torch\n",
    "from torch.utils.data import DataLoader\n",
    "from torch.optim import AdamW\n",
    "\n",
    "import json\n",
    "\n",
    "from statistics import mean\n",
    "import pickle"
   ]
  },
  {
   "cell_type": "code",
   "execution_count": null,
   "metadata": {},
   "outputs": [],
   "source": [
    "import utils_generic as generic\n",
    "import st_dep as st\n",
    "import model_confs as confs\n",
    "\n",
    "\n",
    "import train_datamaps as train\n",
    "\n",
    "from train import eval_func"
   ]
  },
  {
   "cell_type": "code",
   "execution_count": null,
   "metadata": {},
   "outputs": [],
   "source": [
    "device = torch.device(\"cuda\") if torch.cuda.is_available() else torch.device(\"cpu\")"
   ]
  },
  {
   "cell_type": "code",
   "execution_count": null,
   "metadata": {},
   "outputs": [],
   "source": [
    "model_conf = confs.distilbert_conf\n",
    "encoding_type = ''\n",
    "model_name = 'distilbert'"
   ]
  },
  {
   "attachments": {},
   "cell_type": "markdown",
   "metadata": {},
   "source": [
    "# Datos ConvAI2"
   ]
  },
  {
   "cell_type": "code",
   "execution_count": null,
   "metadata": {},
   "outputs": [],
   "source": [
    "with open('Datasets\\ConvAI2\\convai2_complete.json','r') as f:\n",
    "    data = json.load(f)"
   ]
  },
  {
   "cell_type": "code",
   "execution_count": null,
   "metadata": {},
   "outputs": [],
   "source": [
    "convai_train = data['train']\n",
    "convai_val = data['validation']\n",
    "\n",
    "# Cargo clase vocabulary\n",
    "with open(f'vocab_{encoding_type}.pkl','rb') as f:\n",
    "    vocab = pickle.load(f)\n",
    "\n",
    "convai_train_token = generic.tokenize_dataset_with_dependencies(convai_train,['about','to','as'],vocab,model_conf) \n",
    "convai_val_token = generic.tokenize_dataset_with_dependencies(convai_val,['about','to','as'],vocab,model_conf) "
   ]
  },
  {
   "cell_type": "code",
   "execution_count": null,
   "metadata": {},
   "outputs": [],
   "source": [
    "convai_train_dataset = {}\n",
    "for task in ['to','as','about']:\n",
    "    convai_train_dataset[task] = st.DatasetSingleTaskDep(convai_train_token,task,eval=False)"
   ]
  },
  {
   "cell_type": "code",
   "execution_count": null,
   "metadata": {},
   "outputs": [],
   "source": [
    "convai_val_dataset = {}\n",
    "for task in ['to','as','about']:\n",
    "    convai_val_dataset[task] = st.DatasetSingleTaskDep(convai_val_token,task,eval=False)"
   ]
  },
  {
   "attachments": {},
   "cell_type": "markdown",
   "metadata": {},
   "source": [
    "# Datos md_gender"
   ]
  },
  {
   "cell_type": "code",
   "execution_count": null,
   "metadata": {},
   "outputs": [],
   "source": [
    "with open('Datasets\\md_gender\\md_complete.json','r',encoding=\"utf8\") as f:\n",
    "    md_data = json.load(f)"
   ]
  },
  {
   "cell_type": "code",
   "execution_count": null,
   "metadata": {},
   "outputs": [],
   "source": [
    "md_tokenized = generic.tokenize_dataset_with_dependencies(md_data,['about','to','as'],vocab,model_conf) \n",
    "\n",
    "\n",
    "md_dataset = {}\n",
    "for task in ['to','as','about']:\n",
    "    md_dataset[task] = st.DatasetSingleTaskDep(md_tokenized,task,eval=True)"
   ]
  },
  {
   "attachments": {},
   "cell_type": "markdown",
   "metadata": {},
   "source": [
    "# Creación dataloaders"
   ]
  },
  {
   "cell_type": "code",
   "execution_count": null,
   "metadata": {},
   "outputs": [],
   "source": [
    "dl_train = {}\n",
    "for task in ['to','as','about']:\n",
    "    dl_train[task] = DataLoader(convai_train_dataset[task],batch_size=128,shuffle=True,collate_fn=st.collate_fn)"
   ]
  },
  {
   "cell_type": "code",
   "execution_count": null,
   "metadata": {},
   "outputs": [],
   "source": [
    "dl_val = {}\n",
    "for task in ['to','as','about']:\n",
    "    dl_val[task] = DataLoader(convai_val_dataset[task],batch_size=128,shuffle=True,collate_fn=st.collate_fn)"
   ]
  },
  {
   "cell_type": "code",
   "execution_count": null,
   "metadata": {},
   "outputs": [],
   "source": [
    "dl_eval = {}\n",
    "for task in ['to','as','about']:\n",
    "    dl_eval[task] = DataLoader(md_dataset[task],batch_size=128,shuffle=False,collate_fn=st.collate_fn)"
   ]
  },
  {
   "attachments": {},
   "cell_type": "markdown",
   "metadata": {},
   "source": [
    "# ABOUT"
   ]
  },
  {
   "cell_type": "code",
   "execution_count": null,
   "metadata": {},
   "outputs": [],
   "source": [
    "learning_rate = 1e-6\n",
    "num_epochs = 100\n",
    "task_name = 'about'\n",
    "global_metrics = {'about':{'recall':{'weighted_avg':[],'average':[],'female':[],'male':[]},\n",
    "                            'precision':{'weighted_avg':[],'average':[],'female':[],'male':[]},\n",
    "                            'f1':{'weighted_avg':[],'average':[],'female':[],'male':[]},\n",
    "                            'acc':[]},\n",
    "                    'to':{'recall':{'weighted_avg':[],'average':[],'female':[],'male':[]},\n",
    "                            'precision':{'weighted_avg':[],'average':[],'female':[],'male':[]},\n",
    "                            'f1':{'weighted_avg':[],'average':[],'female':[],'male':[]},\n",
    "                            'acc':[]},\n",
    "                    'as':{'recall':{'weighted_avg':[],'average':[],'female':[],'male':[]},\n",
    "                            'precision':{'weighted_avg':[],'average':[],'female':[],'male':[]},\n",
    "                            'f1':{'weighted_avg':[],'average':[],'female':[],'male':[]},\n",
    "                            'acc':[]}}"
   ]
  },
  {
   "cell_type": "code",
   "execution_count": null,
   "metadata": {},
   "outputs": [],
   "source": [
    "model = st.SingleTaskDep(model_conf,vocab,num_labels=2).to(device)\n",
    "save_path=f'{model_name}_{encoding_type}_{task_name}_1'"
   ]
  },
  {
   "cell_type": "code",
   "execution_count": null,
   "metadata": {},
   "outputs": [],
   "source": [
    "optimizer = AdamW(model.parameters(), lr=learning_rate,weight_decay=0.1)\n",
    "p, c, epochs = train.train_function(model,num_epochs,dl_train[task_name],optimizer,early_stop=10,dl_val=dl_val[task_name],save_path=save_path,es_threshold=0)\n",
    "torch.save(p,save_path+'_probs'+'.pt')\n",
    "torch.save(c,save_path+'_corr'+'.pt')"
   ]
  },
  {
   "cell_type": "code",
   "execution_count": null,
   "metadata": {},
   "outputs": [],
   "source": [
    "train.get_datamap_complete_graph(p,correctness_vector=c,num_epochs=epochs)\n",
    "train.get_datamap_complete_graph(p,correctness_vector=c,num_epochs=epochs,show_samples=True)"
   ]
  },
  {
   "cell_type": "code",
   "execution_count": null,
   "metadata": {},
   "outputs": [],
   "source": [
    "model = st.SingleTaskDep(model_conf,vocab,num_labels=2).to(device)\n",
    "model.load_state_dict(torch.load(save_path))\n",
    "for task in ['about','to','as']:\n",
    "    print('\\n')\n",
    "    print(f\"Evaluación en el conjunto el conjunto {task}\")\n",
    "    metric_result = eval_func(model,dl_eval[task])\n",
    "    for metric, value in metric_result.items():\n",
    "        if metric=='accuracy':\n",
    "            global_metrics[task]['acc'].append(value) \n",
    "        else:\n",
    "            for g,v in value.items():\n",
    "                global_metrics[task][metric][g].append(v)\n",
    "\n",
    "        print(metric,metric_result[metric])\n"
   ]
  },
  {
   "cell_type": "code",
   "execution_count": null,
   "metadata": {},
   "outputs": [],
   "source": [
    "model = st.SingleTaskDep(model_conf,vocab,num_labels=2).to(device)\n",
    "save_path=f'{model_name}_{encoding_type}_{task_name}_2'\n",
    "\n",
    "optimizer = AdamW(model.parameters(), lr=learning_rate,weight_decay=0.1)\n",
    "p, c, epochs = train.train_function(model,num_epochs,dl_train[task_name],optimizer,early_stop=10,dl_val=dl_val[task_name],save_path=save_path,es_threshold=0)\n",
    "torch.save(p,save_path+'_probs'+'.pt')\n",
    "torch.save(c,save_path+'_corr'+'.pt')"
   ]
  },
  {
   "cell_type": "code",
   "execution_count": null,
   "metadata": {},
   "outputs": [],
   "source": [
    "train.get_datamap_complete_graph(p,correctness_vector=c,num_epochs=epochs)\n",
    "train.get_datamap_complete_graph(p,correctness_vector=c,num_epochs=epochs,show_samples=True)"
   ]
  },
  {
   "cell_type": "code",
   "execution_count": null,
   "metadata": {},
   "outputs": [],
   "source": [
    "model = st.SingleTaskDep(model_conf,vocab,num_labels=2).to(device)\n",
    "model.load_state_dict(torch.load(save_path))\n",
    "for task in ['about','to','as']:\n",
    "    print('\\n')\n",
    "    print(f\"Evaluación en el conjunto el conjunto {task}\")\n",
    "    metric_result = eval_func(model,dl_eval[task])\n",
    "    for metric, value in metric_result.items():\n",
    "        if metric=='accuracy':\n",
    "            global_metrics[task]['acc'].append(value) \n",
    "        else:\n",
    "            for g,v in value.items():\n",
    "                global_metrics[task][metric][g].append(v)\n",
    "\n",
    "        print(metric,metric_result[metric])\n"
   ]
  },
  {
   "cell_type": "code",
   "execution_count": null,
   "metadata": {},
   "outputs": [],
   "source": [
    "model = st.SingleTaskDep(model_conf,vocab,num_labels=2).to(device)\n",
    "save_path=f'{model_name}_{encoding_type}_{task_name}_3'\n",
    "\n",
    "optimizer = AdamW(model.parameters(), lr=learning_rate,weight_decay=0.1)\n",
    "p, c, epochs = train.train_function(model,num_epochs,dl_train[task_name],optimizer,early_stop=10,dl_val=dl_val[task_name],save_path=save_path,es_threshold=0)\n",
    "torch.save(p,save_path+'_probs'+'.pt')\n",
    "torch.save(c,save_path+'_corr'+'.pt')"
   ]
  },
  {
   "cell_type": "code",
   "execution_count": null,
   "metadata": {},
   "outputs": [],
   "source": [
    "train.get_datamap_complete_graph(p,correctness_vector=c,num_epochs=epochs)\n",
    "train.get_datamap_complete_graph(p,correctness_vector=c,num_epochs=epochs,show_samples=True)"
   ]
  },
  {
   "cell_type": "code",
   "execution_count": null,
   "metadata": {},
   "outputs": [],
   "source": [
    "model = st.SingleTaskDep(model_conf,vocab,num_labels=2).to(device)\n",
    "model.load_state_dict(torch.load(save_path))\n",
    "for task in ['about','to','as']:\n",
    "    print('\\n')\n",
    "    print(f\"Evaluación en el conjunto el conjunto {task}\")\n",
    "    metric_result = eval_func(model,dl_eval[task])\n",
    "    for metric, value in metric_result.items():\n",
    "        if metric=='accuracy':\n",
    "            global_metrics[task]['acc'].append(value) \n",
    "        else:\n",
    "            for g,v in value.items():\n",
    "                global_metrics[task][metric][g].append(v)\n",
    "\n",
    "        print(metric,metric_result[metric])\n"
   ]
  },
  {
   "attachments": {},
   "cell_type": "markdown",
   "metadata": {},
   "source": [
    "Resultados finales"
   ]
  },
  {
   "cell_type": "code",
   "execution_count": null,
   "metadata": {},
   "outputs": [],
   "source": [
    "for metric in ['f1','recall','precision']:\n",
    "    print(f'{metric} medio de los 3 modelos: \\n')\n",
    "    for task in ['about','to','as']:\n",
    "        print(task.upper())\n",
    "        print(f'Resultado global {metric}:',mean(global_metrics[task][metric]['average']))\n",
    "        print(f'Resultado global ponderado{metric}:',mean(global_metrics[task][metric]['weighted_avg']))\n",
    "        print(f'{metric} etiqueta male:',mean(global_metrics[task][metric]['male']))\n",
    "        print(f'{metric} etiqueta female: ',mean(global_metrics[task][metric]['female']))\n",
    "        print('\\n')\n",
    "\n",
    "print(f'Accuracy medio de los 3 modelos: \\n')\n",
    "for task in ['about','to','as']:\n",
    "    print('\\n',task.upper())\n",
    "    print('Resultado global accuracy:',mean(global_metrics[task]['acc']))"
   ]
  },
  {
   "attachments": {},
   "cell_type": "markdown",
   "metadata": {},
   "source": [
    "# TO"
   ]
  },
  {
   "cell_type": "code",
   "execution_count": null,
   "metadata": {},
   "outputs": [],
   "source": [
    "learning_rate = 1e-6\n",
    "num_epochs = 100\n",
    "task_name='to'\n",
    "global_metrics = {'about':{'recall':{'weighted_avg':[],'average':[],'female':[],'male':[]},\n",
    "                            'precision':{'weighted_avg':[],'average':[],'female':[],'male':[]},\n",
    "                            'f1':{'weighted_avg':[],'average':[],'female':[],'male':[]},\n",
    "                            'acc':[]},\n",
    "                    'to':{'recall':{'weighted_avg':[],'average':[],'female':[],'male':[]},\n",
    "                            'precision':{'weighted_avg':[],'average':[],'female':[],'male':[]},\n",
    "                            'f1':{'weighted_avg':[],'average':[],'female':[],'male':[]},\n",
    "                            'acc':[]},\n",
    "                    'as':{'recall':{'weighted_avg':[],'average':[],'female':[],'male':[]},\n",
    "                            'precision':{'weighted_avg':[],'average':[],'female':[],'male':[]},\n",
    "                            'f1':{'weighted_avg':[],'average':[],'female':[],'male':[]},\n",
    "                            'acc':[]}}"
   ]
  },
  {
   "cell_type": "code",
   "execution_count": null,
   "metadata": {},
   "outputs": [],
   "source": [
    "model = st.SingleTaskDep(model_conf,vocab,num_labels=2).to(device)\n",
    "save_path=f'{model_name}_{encoding_type}_{task_name}_1'\n",
    "\n",
    "optimizer = AdamW(model.parameters(), lr=learning_rate,weight_decay=0.1)\n",
    "p, c, epochs = train.train_function(model,num_epochs,dl_train[task_name],optimizer,early_stop=10,dl_val=dl_val[task_name],save_path=save_path,es_threshold=0)\n",
    "torch.save(p,save_path+'_probs'+'.pt')\n",
    "torch.save(c,save_path+'_corr'+'.pt')"
   ]
  },
  {
   "cell_type": "code",
   "execution_count": null,
   "metadata": {},
   "outputs": [],
   "source": [
    "train.get_datamap_complete_graph(p,correctness_vector=c,num_epochs=epochs)\n",
    "train.get_datamap_complete_graph(p,correctness_vector=c,num_epochs=epochs,show_samples=True)"
   ]
  },
  {
   "cell_type": "code",
   "execution_count": null,
   "metadata": {},
   "outputs": [],
   "source": [
    "model = st.SingleTaskDep(model_conf,vocab,num_labels=2).to(device)\n",
    "model.load_state_dict(torch.load(save_path))\n",
    "for task in ['about','to','as']:\n",
    "    print('\\n')\n",
    "    print(f\"Evaluación en el conjunto el conjunto {task}\")\n",
    "    metric_result = eval_func(model,dl_eval[task])\n",
    "    for metric, value in metric_result.items():\n",
    "        if metric=='accuracy':\n",
    "            global_metrics[task]['acc'].append(value) \n",
    "        else:\n",
    "            for g,v in value.items():\n",
    "                global_metrics[task][metric][g].append(v)\n",
    "\n",
    "        print(metric,metric_result[metric])"
   ]
  },
  {
   "cell_type": "code",
   "execution_count": null,
   "metadata": {},
   "outputs": [],
   "source": [
    "model = st.SingleTaskDep(model_conf,vocab,num_labels=2).to(device)\n",
    "save_path=f'{model_name}_{encoding_type}_{task_name}_2'\n",
    "\n",
    "optimizer = AdamW(model.parameters(), lr=learning_rate,weight_decay=0.1)\n",
    "p, c, epochs = train.train_function(model,num_epochs,dl_train[task_name],optimizer,early_stop=10,dl_val=dl_val[task_name],save_path=save_path,es_threshold=0)\n",
    "torch.save(p,save_path+'_probs'+'.pt')\n",
    "torch.save(c,save_path+'_corr'+'.pt')"
   ]
  },
  {
   "cell_type": "code",
   "execution_count": null,
   "metadata": {},
   "outputs": [],
   "source": [
    "train.get_datamap_complete_graph(p,correctness_vector=c,num_epochs=epochs)"
   ]
  },
  {
   "cell_type": "code",
   "execution_count": null,
   "metadata": {},
   "outputs": [],
   "source": [
    "model = st.SingleTaskDep(model_conf,vocab,num_labels=2).to(device)\n",
    "model.load_state_dict(torch.load(save_path))\n",
    "for task in ['about','to','as']:\n",
    "    print('\\n')\n",
    "    print(f\"Evaluación en el conjunto el conjunto {task}\")\n",
    "    metric_result = eval_func(model,dl_eval[task])\n",
    "    for metric, value in metric_result.items():\n",
    "        if metric=='accuracy':\n",
    "            global_metrics[task]['acc'].append(value) \n",
    "        else:\n",
    "            for g,v in value.items():\n",
    "                global_metrics[task][metric][g].append(v)\n",
    "\n",
    "        print(metric,metric_result[metric])"
   ]
  },
  {
   "cell_type": "code",
   "execution_count": null,
   "metadata": {},
   "outputs": [],
   "source": [
    "model = st.SingleTaskDep(model_conf,vocab,num_labels=2).to(device)\n",
    "save_path=f'{model_name}_{encoding_type}_{task_name}_3'\n",
    "\n",
    "optimizer = AdamW(model.parameters(), lr=learning_rate,weight_decay=0.1)\n",
    "p, c, epochs = train.train_function(model,num_epochs,dl_train[task_name],optimizer,early_stop=10,dl_val=dl_val[task_name],save_path=save_path,es_threshold=0)\n",
    "torch.save(p,save_path+'_probs'+'.pt')\n",
    "torch.save(c,save_path+'_corr'+'.pt')"
   ]
  },
  {
   "cell_type": "code",
   "execution_count": null,
   "metadata": {},
   "outputs": [],
   "source": [
    "train.get_datamap_complete_graph(p,correctness_vector=c,num_epochs=epochs)\n",
    "train.get_datamap_complete_graph(p,correctness_vector=c,num_epochs=epochs,show_samples=True)"
   ]
  },
  {
   "cell_type": "code",
   "execution_count": null,
   "metadata": {},
   "outputs": [],
   "source": [
    "model = st.SingleTaskDep(model_conf,vocab,num_labels=2).to(device)\n",
    "model.load_state_dict(torch.load(save_path))\n",
    "for task in ['about','to','as']:\n",
    "    print('\\n')\n",
    "    print(f\"Evaluación en el conjunto el conjunto {task}\")\n",
    "    metric_result = eval_func(model,dl_eval[task])\n",
    "    for metric, value in metric_result.items():\n",
    "        if metric=='accuracy':\n",
    "            global_metrics[task]['acc'].append(value) \n",
    "        else:\n",
    "            for g,v in value.items():\n",
    "                global_metrics[task][metric][g].append(v)\n",
    "\n",
    "        print(metric,metric_result[metric])"
   ]
  },
  {
   "attachments": {},
   "cell_type": "markdown",
   "metadata": {},
   "source": [
    "Resultados finales"
   ]
  },
  {
   "cell_type": "code",
   "execution_count": null,
   "metadata": {},
   "outputs": [],
   "source": [
    "for metric in ['f1','recall','precision']:\n",
    "    print(f'{metric} medio de los 3 modelos: \\n')\n",
    "    for task in ['about','to','as']:\n",
    "        print(task.upper())\n",
    "        print(f'Resultado global {metric}:',mean(global_metrics[task][metric]['average']))\n",
    "        print(f'Resultado global ponderado{metric}:',mean(global_metrics[task][metric]['weighted_avg']))\n",
    "        print(f'{metric} etiqueta male:',mean(global_metrics[task][metric]['male']))\n",
    "        print(f'{metric} etiqueta female: ',mean(global_metrics[task][metric]['female']))\n",
    "        print('\\n')\n",
    "\n",
    "print(f'Accuracy medio de los 3 modelos: \\n')\n",
    "for task in ['about','to','as']:\n",
    "    print('\\n',task.upper())\n",
    "    print('Resultado global accuracy:',mean(global_metrics[task]['acc']))"
   ]
  },
  {
   "attachments": {},
   "cell_type": "markdown",
   "metadata": {},
   "source": [
    "# AS"
   ]
  },
  {
   "cell_type": "code",
   "execution_count": null,
   "metadata": {},
   "outputs": [],
   "source": [
    "learning_rate = 1e-6\n",
    "num_epochs = 100\n",
    "task_name='as'\n",
    "global_metrics = {'about':{'recall':{'weighted_avg':[],'average':[],'female':[],'male':[]},\n",
    "                            'precision':{'weighted_avg':[],'average':[],'female':[],'male':[]},\n",
    "                            'f1':{'weighted_avg':[],'average':[],'female':[],'male':[]},\n",
    "                            'acc':[]},\n",
    "                    'to':{'recall':{'weighted_avg':[],'average':[],'female':[],'male':[]},\n",
    "                            'precision':{'weighted_avg':[],'average':[],'female':[],'male':[]},\n",
    "                            'f1':{'weighted_avg':[],'average':[],'female':[],'male':[]},\n",
    "                            'acc':[]},\n",
    "                    'as':{'recall':{'weighted_avg':[],'average':[],'female':[],'male':[]},\n",
    "                            'precision':{'weighted_avg':[],'average':[],'female':[],'male':[]},\n",
    "                            'f1':{'weighted_avg':[],'average':[],'female':[],'male':[]},\n",
    "                            'acc':[]}}"
   ]
  },
  {
   "cell_type": "code",
   "execution_count": null,
   "metadata": {},
   "outputs": [],
   "source": [
    "model = st.SingleTaskDep(model_conf,vocab,num_labels=2).to(device)\n",
    "save_path=f'{model_name}_{encoding_type}_{task_name}_1'\n",
    "\n",
    "optimizer = AdamW(model.parameters(), lr=learning_rate,weight_decay=0.1)\n",
    "p, c, epochs = train.train_function(model,num_epochs,dl_train[task_name],optimizer,early_stop=10,dl_val=dl_val[task_name],save_path=save_path,es_threshold=0)\n",
    "torch.save(p,save_path+'_probs'+'.pt')\n",
    "torch.save(c,save_path+'_corr'+'.pt')"
   ]
  },
  {
   "cell_type": "code",
   "execution_count": null,
   "metadata": {},
   "outputs": [],
   "source": [
    "train.get_datamap_complete_graph(p,correctness_vector=c,num_epochs=epochs)\n",
    "train.get_datamap_complete_graph(p,correctness_vector=c,num_epochs=epochs,show_samples=True)"
   ]
  },
  {
   "cell_type": "code",
   "execution_count": null,
   "metadata": {},
   "outputs": [],
   "source": [
    "model = st.SingleTaskDep(model_conf,vocab,num_labels=2).to(device)\n",
    "model.load_state_dict(torch.load(save_path))\n",
    "for task in ['about','to','as']:\n",
    "    print('\\n')\n",
    "    print(f\"Evaluación en el conjunto el conjunto {task}\")\n",
    "    metric_result = eval_func(model,dl_eval[task])\n",
    "    for metric, value in metric_result.items():\n",
    "        if metric=='accuracy':\n",
    "            global_metrics[task]['acc'].append(value) \n",
    "        else:\n",
    "            for g,v in value.items():\n",
    "                global_metrics[task][metric][g].append(v)\n",
    "\n",
    "        print(metric,metric_result[metric])"
   ]
  },
  {
   "cell_type": "code",
   "execution_count": null,
   "metadata": {},
   "outputs": [],
   "source": [
    "model = st.SingleTaskDep(model_conf,vocab,num_labels=2).to(device)\n",
    "save_path=f'{model_name}_{encoding_type}_{task_name}_2'\n",
    "\n",
    "optimizer = AdamW(model.parameters(), lr=learning_rate,weight_decay=0.1)\n",
    "p, c, epochs = train.train_function(model,num_epochs,dl_train[task_name],optimizer,early_stop=10,dl_val=dl_val[task_name],save_path=save_path,es_threshold=0)\n",
    "torch.save(p,save_path+'_probs'+'.pt')\n",
    "torch.save(c,save_path+'_corr'+'.pt')"
   ]
  },
  {
   "cell_type": "code",
   "execution_count": null,
   "metadata": {},
   "outputs": [],
   "source": [
    "train.get_datamap_complete_graph(p,correctness_vector=c,num_epochs=epochs)\n",
    "train.get_datamap_complete_graph(p,correctness_vector=c,num_epochs=epochs,show_samples=True)"
   ]
  },
  {
   "cell_type": "code",
   "execution_count": null,
   "metadata": {},
   "outputs": [],
   "source": [
    "model = st.SingleTaskDep(model_conf,vocab,num_labels=2).to(device)\n",
    "model.load_state_dict(torch.load(save_path))\n",
    "for task in ['about','to','as']:\n",
    "    print('\\n')\n",
    "    print(f\"Evaluación en el conjunto el conjunto {task}\")\n",
    "    metric_result = eval_func(model,dl_eval[task])\n",
    "    for metric, value in metric_result.items():\n",
    "        if metric=='accuracy':\n",
    "            global_metrics[task]['acc'].append(value) \n",
    "        else:\n",
    "            for g,v in value.items():\n",
    "                global_metrics[task][metric][g].append(v)\n",
    "\n",
    "        print(metric,metric_result[metric])"
   ]
  },
  {
   "cell_type": "code",
   "execution_count": null,
   "metadata": {},
   "outputs": [],
   "source": [
    "model = st.SingleTaskDep(model_conf,vocab,num_labels=2).to(device)\n",
    "save_path=f'{model_name}_{encoding_type}_{task_name}_3'\n",
    "\n",
    "optimizer = AdamW(model.parameters(), lr=learning_rate,weight_decay=0.1)\n",
    "p, c, epochs = train.train_function(model,num_epochs,dl_train[task_name],optimizer,early_stop=10,dl_val=dl_val[task_name],save_path=save_path,es_threshold=0)\n",
    "torch.save(p,save_path+'_probs'+'.pt')\n",
    "torch.save(c,save_path+'_corr'+'.pt')"
   ]
  },
  {
   "cell_type": "code",
   "execution_count": null,
   "metadata": {},
   "outputs": [],
   "source": [
    "train.get_datamap_complete_graph(p,correctness_vector=c,num_epochs=epochs)\n",
    "train.get_datamap_complete_graph(p,correctness_vector=c,num_epochs=epochs,show_samples=True)"
   ]
  },
  {
   "cell_type": "code",
   "execution_count": null,
   "metadata": {},
   "outputs": [],
   "source": [
    "model = st.SingleTaskDep(model_conf,vocab,num_labels=2).to(device)\n",
    "model.load_state_dict(torch.load(save_path))\n",
    "for task in ['about','to','as']:\n",
    "    print('\\n')\n",
    "    print(f\"Evaluación en el conjunto el conjunto {task}\")\n",
    "    metric_result = eval_func(model,dl_eval[task])\n",
    "    for metric, value in metric_result.items():\n",
    "        if metric=='accuracy':\n",
    "            global_metrics[task]['acc'].append(value) \n",
    "        else:\n",
    "            for g,v in value.items():\n",
    "                global_metrics[task][metric][g].append(v)\n",
    "\n",
    "        print(metric,metric_result[metric])"
   ]
  },
  {
   "attachments": {},
   "cell_type": "markdown",
   "metadata": {},
   "source": [
    "Resultados finales"
   ]
  },
  {
   "cell_type": "code",
   "execution_count": null,
   "metadata": {},
   "outputs": [],
   "source": [
    "for metric in ['f1','recall','precision']:\n",
    "    print(f'{metric} medio de los 3 modelos: \\n')\n",
    "    for task in ['about','to','as']:\n",
    "        print(task.upper())\n",
    "        print(f'Resultado global {metric}:',mean(global_metrics[task][metric]['average']))\n",
    "        print(f'Resultado global ponderado{metric}:',mean(global_metrics[task][metric]['weighted_avg']))\n",
    "        print(f'{metric} etiqueta male:',mean(global_metrics[task][metric]['male']))\n",
    "        print(f'{metric} etiqueta female: ',mean(global_metrics[task][metric]['female']))\n",
    "        print('\\n')\n",
    "\n",
    "print(f'Accuracy medio de los 3 modelos: \\n')\n",
    "for task in ['about','to','as']:\n",
    "    print('\\n',task.upper())\n",
    "    print('Resultado global accuracy:',mean(global_metrics[task]['acc']))"
   ]
  }
 ],
 "metadata": {
  "kernelspec": {
   "display_name": "tfg",
   "language": "python",
   "name": "python3"
  },
  "language_info": {
   "codemirror_mode": {
    "name": "ipython",
    "version": 3
   },
   "file_extension": ".py",
   "mimetype": "text/x-python",
   "name": "python",
   "nbconvert_exporter": "python",
   "pygments_lexer": "ipython3",
   "version": "3.9.13"
  },
  "orig_nbformat": 4,
  "vscode": {
   "interpreter": {
    "hash": "35e8332e99bdf485583869dfbdef293dcf2f9293b1663ec5daea0a573af457c3"
   }
  }
 },
 "nbformat": 4,
 "nbformat_minor": 2
}
