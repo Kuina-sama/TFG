{
 "cells": [
  {
   "cell_type": "code",
   "execution_count": null,
   "metadata": {},
   "outputs": [],
   "source": [
    "import numpy as np\n",
    "import torch\n",
    "\n",
    "\n",
    "import json\n",
    "from torch.utils.data import DataLoader\n",
    "from torch.optim import AdamW\n",
    "from torch import nn\n",
    "\n",
    "from statistics import mean\n",
    "from sklearn.feature_extraction.text import CountVectorizer"
   ]
  },
  {
   "cell_type": "code",
   "execution_count": null,
   "metadata": {},
   "outputs": [],
   "source": [
    "import utils_generic as generic\n",
    "import rrnn_modelo as rrnn\n",
    "\n",
    "import train_datamaps as train\n",
    "\n",
    "from train import eval_func_multi"
   ]
  },
  {
   "cell_type": "code",
   "execution_count": null,
   "metadata": {},
   "outputs": [],
   "source": [
    "device = torch.device(\"cuda\") if torch.cuda.is_available() else torch.device(\"cpu\")\n"
   ]
  },
  {
   "cell_type": "code",
   "execution_count": null,
   "metadata": {},
   "outputs": [],
   "source": [
    "model_name = 'lr_multi'\n",
    "num_labels = 2\n",
    "encoding_type = 'absolute'\n",
    "tasks = ['to','as','about']\n"
   ]
  },
  {
   "attachments": {},
   "cell_type": "markdown",
   "metadata": {},
   "source": [
    "# Datos ConvAI2"
   ]
  },
  {
   "cell_type": "code",
   "execution_count": null,
   "metadata": {},
   "outputs": [],
   "source": [
    "with open('Datasets\\ConvAI2\\convai2_complete.json','r') as f:\n",
    "    data = json.load(f)"
   ]
  },
  {
   "cell_type": "code",
   "execution_count": null,
   "metadata": {},
   "outputs": [],
   "source": [
    "convai_train = data['train']\n",
    "convai_val = data['validation']\n",
    "\n",
    "for s in convai_train:\n",
    "    convai_train[s]['sentence_with_deps'] = convai_train[s]['tokenized'] +' '+ ' '.join(generic.split_sentence_dep_tags(convai_train[s][encoding_type]))\n",
    "\n",
    "sentences = [convai_train[s]['sentence_with_deps'] for s in convai_train]\n",
    "vectorizer = CountVectorizer()\n",
    "vectorizer.fit_transform(sentences)\n",
    "\n",
    "convai_train_token = generic.tokenize_dataset_with_dependencies_rrnn(convai_train,['about','to','as'],vect=vectorizer) \n"
   ]
  },
  {
   "cell_type": "code",
   "execution_count": null,
   "metadata": {},
   "outputs": [],
   "source": [
    "for s in convai_val:\n",
    "    convai_val[s]['sentence_with_deps'] = convai_val[s]['tokenized'] +' '+ ' '.join(generic.split_sentence_dep_tags(convai_val[s][encoding_type]))\n",
    "\n",
    "convai_val_token = generic.tokenize_dataset_with_dependencies_rrnn(convai_val,['about','to','as'],vect=vectorizer) "
   ]
  },
  {
   "cell_type": "code",
   "execution_count": null,
   "metadata": {},
   "outputs": [],
   "source": [
    "vocab_size = len(vectorizer.vocabulary_) # Para sacar el tamaño de vocabulario con las dependencias"
   ]
  },
  {
   "cell_type": "code",
   "execution_count": null,
   "metadata": {},
   "outputs": [],
   "source": [
    "convai_train_dataset =rrnn.DatasetMultiTaskRRNN(convai_train_token,tasks,eval=False)\n",
    "convai_val_dataset = rrnn.DatasetMultiTaskRRNN(convai_val_token,tasks,eval=False)\n",
    "#No le pongo deps=True porque va ya en la oración"
   ]
  },
  {
   "attachments": {},
   "cell_type": "markdown",
   "metadata": {},
   "source": [
    "# Datos md_gender"
   ]
  },
  {
   "cell_type": "code",
   "execution_count": null,
   "metadata": {},
   "outputs": [],
   "source": [
    "with open('Datasets\\md_gender\\md_complete.json','r',encoding=\"utf8\") as f:\n",
    "    md_data = json.load(f)"
   ]
  },
  {
   "cell_type": "code",
   "execution_count": null,
   "metadata": {},
   "outputs": [],
   "source": [
    "for s in md_data:\n",
    "    md_data[s]['sentence_with_deps'] = md_data[s]['tokenized'] +' '+ ' '.join(generic.split_sentence_dep_tags(md_data[s][encoding_type]))\n",
    "\n",
    "md_tokenized = generic.tokenize_dataset_with_dependencies_rrnn(md_data,['about','to','as'],vect=vectorizer) \n",
    "\n",
    "\n",
    "md_dataset  = rrnn.DatasetMultiTaskRRNN(md_tokenized,tasks,eval=True)"
   ]
  },
  {
   "attachments": {},
   "cell_type": "markdown",
   "metadata": {},
   "source": [
    "# Creación dataloaders"
   ]
  },
  {
   "cell_type": "code",
   "execution_count": null,
   "metadata": {},
   "outputs": [],
   "source": [
    "dl_train = DataLoader(convai_train_dataset,batch_size=128,shuffle=True,collate_fn=rrnn.collate_fn_no_pad_multi)\n",
    "dl_val = DataLoader(convai_val_dataset,batch_size=128,shuffle=True,collate_fn=rrnn.collate_fn_no_pad_multi)\n",
    "dl_eval = DataLoader(md_dataset,batch_size=128,shuffle=False,collate_fn=rrnn.collate_fn_no_pad_multi)"
   ]
  },
  {
   "attachments": {},
   "cell_type": "markdown",
   "metadata": {},
   "source": [
    "## MODELO"
   ]
  },
  {
   "cell_type": "code",
   "execution_count": null,
   "metadata": {},
   "outputs": [],
   "source": [
    "\n",
    "num_epochs = 100\n",
    "learning_rate = 5e-5\n",
    "\n",
    "global_metrics = {'about':{'recall':{'weighted_avg':[],'average':[],'female':[],'male':[]},\n",
    "                            'precision':{'weighted_avg':[],'average':[],'female':[],'male':[]},\n",
    "                            'f1':{'weighted_avg':[],'average':[],'female':[],'male':[]},\n",
    "                            'acc':[]},\n",
    "                    'to':{'recall':{'weighted_avg':[],'average':[],'female':[],'male':[]},\n",
    "                            'precision':{'weighted_avg':[],'average':[],'female':[],'male':[]},\n",
    "                            'f1':{'weighted_avg':[],'average':[],'female':[],'male':[]},\n",
    "                            'acc':[]},\n",
    "                    'as':{'recall':{'weighted_avg':[],'average':[],'female':[],'male':[]},\n",
    "                            'precision':{'weighted_avg':[],'average':[],'female':[],'male':[]},\n",
    "                            'f1':{'weighted_avg':[],'average':[],'female':[],'male':[]},\n",
    "                            'acc':[]}}"
   ]
  },
  {
   "cell_type": "code",
   "execution_count": null,
   "metadata": {},
   "outputs": [],
   "source": [
    "model = rrnn.MultiTaskLR(vocab_size = vocab_size,num_labels=2).to(device)\n",
    "save_path=f'm1_{model_name}_{encoding_type}_1'\n",
    "\n",
    "\n",
    "optimizer = AdamW(model.parameters(), lr=learning_rate,weight_decay=0.1)\n",
    "p, c, e = train.train_function_multi(model,num_epochs,dl_train,optimizer,early_stop=10,dl_val=dl_val,save_path=save_path,es_threshold=0)\n",
    "torch.save(p,save_path+'_probs'+'.pt')\n",
    "torch.save(c,save_path+'_corr'+'.pt')"
   ]
  },
  {
   "cell_type": "code",
   "execution_count": null,
   "metadata": {},
   "outputs": [],
   "source": [
    "for task in ['about','as','to']:\n",
    "    print(task.upper())\n",
    "    train.get_datamap_complete_graph(p[task],correctness_vector=c[task],num_epochs=e)"
   ]
  },
  {
   "cell_type": "code",
   "execution_count": null,
   "metadata": {},
   "outputs": [],
   "source": [
    "for task in ['about','as','to']:\n",
    "    print(task.upper())\n",
    "    train.get_datamap_complete_graph(p[task],correctness_vector=c[task],num_epochs=e,show_samples=True)"
   ]
  },
  {
   "cell_type": "code",
   "execution_count": null,
   "metadata": {},
   "outputs": [],
   "source": [
    "model = rrnn.MultiTaskLR(vocab_size = vocab_size,num_labels=2).to(device)\n",
    "\n",
    "model.load_state_dict(torch.load(save_path))\n",
    "\n",
    "\n",
    "metrics_results = eval_func_multi(model,dl_eval,['about','to','as'])\n",
    "for task, task_metrics in metrics_results.items():\n",
    "    print(f'Resultados en la tarea {task.upper()}:')\n",
    "    for metric, value in task_metrics.items():\n",
    "        if metric=='accuracy':\n",
    "            global_metrics[task]['acc'].append(value) \n",
    "        else:\n",
    "\n",
    "            for g,v in value.items():\n",
    "                global_metrics[task][metric][g].append(v)\n",
    "        print(metric,metrics_results[task][metric])\n",
    "    print('\\n')"
   ]
  },
  {
   "cell_type": "code",
   "execution_count": null,
   "metadata": {},
   "outputs": [],
   "source": [
    "model = rrnn.MultiTaskLR(vocab_size = vocab_size,num_labels=2).to(device)\n",
    "save_path=f'm1_{model_name}_{encoding_type}_2'\n",
    "\n",
    "\n",
    "optimizer = AdamW(model.parameters(), lr=learning_rate,weight_decay=0.1)\n",
    "p, c, e = train.train_function_multi(model,num_epochs,dl_train,optimizer,early_stop=10,dl_val=dl_val,save_path=save_path,es_threshold=0)\n",
    "torch.save(p,save_path+'_probs'+'.pt')\n",
    "torch.save(c,save_path+'_corr'+'.pt')"
   ]
  },
  {
   "cell_type": "code",
   "execution_count": null,
   "metadata": {},
   "outputs": [],
   "source": [
    "for task in ['about','as','to']:\n",
    "    print(task.upper())\n",
    "    train.get_datamap_complete_graph(p[task],correctness_vector=c[task],num_epochs=e)"
   ]
  },
  {
   "cell_type": "code",
   "execution_count": null,
   "metadata": {},
   "outputs": [],
   "source": [
    "for task in ['about','as','to']:\n",
    "    print(task.upper())\n",
    "    train.get_datamap_complete_graph(p[task],correctness_vector=c[task],num_epochs=e,show_samples=True)"
   ]
  },
  {
   "cell_type": "code",
   "execution_count": null,
   "metadata": {},
   "outputs": [],
   "source": [
    "model = rrnn.MultiTaskLR(vocab_size = vocab_size,num_labels=2).to(device)\n",
    "\n",
    "model.load_state_dict(torch.load(save_path))\n",
    "\n",
    "\n",
    "metrics_results = eval_func_multi(model,dl_eval,['about','to','as'])\n",
    "for task, task_metrics in metrics_results.items():\n",
    "    print(f'Resultados en la tarea {task.upper()}:')\n",
    "    for metric, value in task_metrics.items():\n",
    "        if metric=='accuracy':\n",
    "            global_metrics[task]['acc'].append(value) \n",
    "        else:\n",
    "\n",
    "            for g,v in value.items():\n",
    "                global_metrics[task][metric][g].append(v)\n",
    "        print(metric,metrics_results[task][metric])\n",
    "    print('\\n')"
   ]
  },
  {
   "cell_type": "code",
   "execution_count": null,
   "metadata": {},
   "outputs": [],
   "source": [
    "model = rrnn.MultiTaskLR(vocab_size = vocab_size,num_labels=2).to(device)\n",
    "save_path=f'm1_{model_name}_{encoding_type}_3'\n",
    "\n",
    "\n",
    "optimizer = AdamW(model.parameters(), lr=learning_rate,weight_decay=0.1)\n",
    "p, c, e = train.train_function_multi(model,num_epochs,dl_train,optimizer,early_stop=10,dl_val=dl_val,save_path=save_path,es_threshold=0)\n",
    "torch.save(p,save_path+'_probs'+'.pt')\n",
    "torch.save(c,save_path+'_corr'+'.pt')"
   ]
  },
  {
   "cell_type": "code",
   "execution_count": null,
   "metadata": {},
   "outputs": [],
   "source": [
    "for task in ['about','as','to']:\n",
    "    print(task.upper())\n",
    "    train.get_datamap_complete_graph(p[task],correctness_vector=c[task],num_epochs=e)"
   ]
  },
  {
   "cell_type": "code",
   "execution_count": null,
   "metadata": {},
   "outputs": [],
   "source": [
    "for task in ['about','as','to']:\n",
    "    print(task.upper())\n",
    "    train.get_datamap_complete_graph(p[task],correctness_vector=c[task],num_epochs=e,show_samples=True)"
   ]
  },
  {
   "cell_type": "code",
   "execution_count": null,
   "metadata": {},
   "outputs": [],
   "source": [
    "model = rrnn.MultiTaskLR(vocab_size = vocab_size,num_labels=2).to(device)\n",
    "\n",
    "model.load_state_dict(torch.load(save_path))\n",
    "\n",
    "\n",
    "metrics_results = eval_func_multi(model,dl_eval,['about','to','as'])\n",
    "for task, task_metrics in metrics_results.items():\n",
    "    print(f'Resultados en la tarea {task.upper()}:')\n",
    "    for metric, value in task_metrics.items():\n",
    "        if metric=='accuracy':\n",
    "            global_metrics[task]['acc'].append(value) \n",
    "        else:\n",
    "\n",
    "            for g,v in value.items():\n",
    "                global_metrics[task][metric][g].append(v)\n",
    "        print(metric,metrics_results[task][metric])\n",
    "    print('\\n')"
   ]
  },
  {
   "cell_type": "code",
   "execution_count": null,
   "metadata": {},
   "outputs": [],
   "source": [
    "for metric in ['f1','recall','precision']:\n",
    "    print(f'{metric} medio de los 3 modelos: \\n')\n",
    "    for task in ['about','to','as']:\n",
    "        print(task.upper())\n",
    "        print(f'Resultado global {metric}:',mean(global_metrics[task][metric]['average']))\n",
    "        print(f'Resultado global ponderado{metric}:',mean(global_metrics[task][metric]['weighted_avg']))\n",
    "        print(f'{metric} etiqueta male:',mean(global_metrics[task][metric]['male']))\n",
    "        print(f'{metric} etiqueta female: ',mean(global_metrics[task][metric]['female']))\n",
    "        print('\\n')\n",
    "\n",
    "print(f'Accuracy medio de los 3 modelos: \\n')\n",
    "for task in ['about','to','as']:\n",
    "    print('\\n',task.upper())\n",
    "    print('Resultado global accuracy:',mean(global_metrics[task]['acc']))"
   ]
  }
 ],
 "metadata": {
  "kernelspec": {
   "display_name": "tfg",
   "language": "python",
   "name": "python3"
  },
  "language_info": {
   "codemirror_mode": {
    "name": "ipython",
    "version": 3
   },
   "file_extension": ".py",
   "mimetype": "text/x-python",
   "name": "python",
   "nbconvert_exporter": "python",
   "pygments_lexer": "ipython3",
   "version": "3.9.13"
  },
  "orig_nbformat": 4
 },
 "nbformat": 4,
 "nbformat_minor": 2
}
