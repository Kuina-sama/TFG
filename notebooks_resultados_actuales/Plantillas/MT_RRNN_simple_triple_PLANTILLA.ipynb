{
 "cells": [
  {
   "cell_type": "code",
   "execution_count": null,
   "metadata": {},
   "outputs": [],
   "source": [
    "import numpy as np\n",
    "import torch\n",
    "\n",
    "\n",
    "import json\n",
    "from torch.utils.data import DataLoader\n",
    "from torch.optim import AdamW\n",
    "from torch import nn\n",
    "\n",
    "from statistics import mean"
   ]
  },
  {
   "cell_type": "code",
   "execution_count": null,
   "metadata": {},
   "outputs": [],
   "source": [
    "import utils_generic as generic\n",
    "import rrnn_modelo as rrnn\n",
    "\n",
    "import train_datamaps as train \n",
    "from train import eval_func_multi"
   ]
  },
  {
   "cell_type": "code",
   "execution_count": null,
   "metadata": {},
   "outputs": [],
   "source": [
    "device = torch.device(\"cuda\") if torch.cuda.is_available() else torch.device(\"cpu\")\n",
    "tasks = ['to','as','about']\n",
    "model_name = 'rrnn'\n",
    "num_labels = 2"
   ]
  },
  {
   "attachments": {},
   "cell_type": "markdown",
   "metadata": {},
   "source": [
    "# Datos ConvAI2"
   ]
  },
  {
   "cell_type": "code",
   "execution_count": null,
   "metadata": {},
   "outputs": [],
   "source": [
    "with open('Datasets\\ConvAI2\\convai2_complete.json','r') as f:\n",
    "    data = json.load(f)"
   ]
  },
  {
   "cell_type": "code",
   "execution_count": null,
   "metadata": {},
   "outputs": [],
   "source": [
    "convai_train = data['train']\n",
    "convai_val = data['validation']\n",
    "\n",
    "\n",
    "word_to_index = generic.create_word_to_index(convai_train)\n",
    "\n",
    "convai_train_token = generic.tokenize_dataset_rrnn(convai_train,['about','to','as'],word_to_index) \n",
    "convai_val_token = generic.tokenize_dataset_rrnn(convai_val,['about','to','as'],word_to_index) "
   ]
  },
  {
   "cell_type": "code",
   "execution_count": null,
   "metadata": {},
   "outputs": [],
   "source": [
    "convai_train_dataset =rrnn.DatasetMultiTaskRRNN(convai_train_token,tasks,eval=False)"
   ]
  },
  {
   "cell_type": "code",
   "execution_count": null,
   "metadata": {},
   "outputs": [],
   "source": [
    "convai_val_dataset = rrnn.DatasetMultiTaskRRNN(convai_val_token,tasks,eval=False)"
   ]
  },
  {
   "attachments": {},
   "cell_type": "markdown",
   "metadata": {},
   "source": [
    "# Datos md_gender"
   ]
  },
  {
   "cell_type": "code",
   "execution_count": null,
   "metadata": {},
   "outputs": [],
   "source": [
    "with open('Datasets\\md_gender\\md_complete.json','r',encoding=\"utf8\") as f:\n",
    "    md_data = json.load(f)"
   ]
  },
  {
   "cell_type": "code",
   "execution_count": null,
   "metadata": {},
   "outputs": [],
   "source": [
    "md_tokenized = generic.tokenize_dataset_rrnn(md_data,['about','to','as'],word_to_index) \n",
    "\n",
    "\n",
    "md_dataset  = rrnn.DatasetMultiTaskRRNN(md_tokenized,tasks,eval=True)"
   ]
  },
  {
   "attachments": {},
   "cell_type": "markdown",
   "metadata": {},
   "source": [
    "# Creación dataloaders"
   ]
  },
  {
   "cell_type": "code",
   "execution_count": null,
   "metadata": {},
   "outputs": [],
   "source": [
    "dl_train =  DataLoader(convai_train_dataset,batch_size=128,shuffle=True,collate_fn=rrnn.collate_fn_multi)\n",
    "dl_val = DataLoader(convai_val_dataset,batch_size=128,shuffle=True,collate_fn=rrnn.collate_fn_multi)\n",
    "dl_eval  = DataLoader(md_dataset,batch_size=128,shuffle=False,collate_fn=rrnn.collate_fn_multi)"
   ]
  },
  {
   "attachments": {},
   "cell_type": "markdown",
   "metadata": {},
   "source": [
    "# MODELO"
   ]
  },
  {
   "cell_type": "code",
   "execution_count": 13,
   "metadata": {},
   "outputs": [],
   "source": [
    "emb_dim = 100\n",
    "vocab_size = len(word_to_index)\n",
    "lstm_hidden_dim = 128"
   ]
  },
  {
   "cell_type": "code",
   "execution_count": null,
   "metadata": {},
   "outputs": [],
   "source": [
    "num_epochs = 100\n",
    "learning_rate = 5e-5\n",
    "\n",
    "global_metrics = {'about':{'recall':{'average':[],'female':[],'male':[]},\n",
    "                            'precision':{'average':[],'female':[],'male':[]},\n",
    "                            'f1':{'average':[],'female':[],'male':[]},\n",
    "                            'acc':[]},\n",
    "                    'to':{'recall':{'average':[],'female':[],'male':[]},\n",
    "                            'precision':{'average':[],'female':[],'male':[]},\n",
    "                            'f1':{'average':[],'female':[],'male':[]},\n",
    "                            'acc':[]},\n",
    "                    'as':{'recall':{'average':[],'female':[],'male':[]},\n",
    "                            'precision':{'average':[],'female':[],'male':[]},\n",
    "                            'f1':{'average':[],'female':[],'male':[]},\n",
    "                            'acc':[]}}\n"
   ]
  },
  {
   "cell_type": "code",
   "execution_count": 15,
   "metadata": {},
   "outputs": [
    {
     "data": {
      "application/vnd.jupyter.widget-view+json": {
       "model_id": "9d4bdbefe0784f70aefaee8a98b7b649",
       "version_major": 2,
       "version_minor": 0
      },
      "text/plain": [
       "  0%|          | 0/1148 [00:00<?, ?it/s]"
      ]
     },
     "metadata": {},
     "output_type": "display_data"
    },
    {
     "name": "stdout",
     "output_type": "stream",
     "text": [
      "Epoch 1 \t Training loss: 2.0754826774995916 \t Validation loss: 2.0785548646571272 \t \n",
      " 50%|█████     | 574/1148 [00:21<00:21, 26.58it/s]\n",
      "Epoch 2 \t Training loss: 2.0730605956154005 \t Validation loss: 2.078132851649139 \t \n",
      "100%|██████████| 1148/1148 [00:42<00:00, 29.64it/s]\n"
     ]
    },
    {
     "data": {
      "image/png": "[encoded data removed]",
      "text/plain": [
       "<Figure size 640x480 with 1 Axes>"
      ]
     },
     "metadata": {},
     "output_type": "display_data"
    }
   ],
   "source": [
    "model = rrnn.MultiTaskRRNN(emb_dim=emb_dim,vocab_size=vocab_size,lstm_hidden_dim=lstm_hidden_dim).to(device)\n",
    "save_path=f'm1_{model_name}_1'\n",
    "optimizer = AdamW(model.parameters(), lr=learning_rate)\n",
    "p, c, e = train.train_function_multi(model,num_epochs,dl_train,optimizer,early_stop = 10,dl_val = dl_val,save_path=save_path,es_threshold=0)\n",
    "torch.save(p,save_path+'_probs'+'.pt')\n",
    "torch.save(c,save_path+'_corr'+'.pt')"
   ]
  },
  {
   "cell_type": "code",
   "execution_count": null,
   "metadata": {},
   "outputs": [],
   "source": [
    "for task in ['about','as','to']:\n",
    "    print(task.upper())\n",
    "    train.get_datamap_complete_graph(p[task],correctness_vector=c[task],num_epochs=e)"
   ]
  },
  {
   "cell_type": "code",
   "execution_count": 17,
   "metadata": {},
   "outputs": [
    {
     "name": "stdout",
     "output_type": "stream",
     "text": [
      "Resultados en la tarea ABOUT:\n",
      "recall {'female': 0.06, 'male': 0.9817708333333334, 'average': 0.5208854166666667}\n",
      "precision {'female': 0.7741935483870968, 'male': 0.50066401062417, 'average': 0.6374287795056334}\n",
      "f1 {'female': 0.111368909512761, 'male': 0.6631486367634124, 'average': 0.3872587731380867}\n",
      "accuracy 0.5114795918367347\n",
      "\n",
      "\n",
      "Resultados en la tarea TO:\n",
      "recall {'female': 0.05249343832020997, 'male': 0.9537712895377128, 'average': 0.5031323639289614}\n",
      "precision {'female': 0.5128205128205128, 'male': 0.5205843293492696, 'average': 0.5167024210848912}\n",
      "f1 {'female': 0.09523809523809523, 'male': 0.6735395189003436, 'average': 0.3843888070692194}\n",
      "accuracy 0.5202020202020202\n",
      "\n",
      "\n",
      "Resultados en la tarea AS:\n",
      "recall {'female': 0.05121293800539083, 'male': 0.9595959595959596, 'average': 0.5054044488006751}\n",
      "precision {'female': 0.5428571428571428, 'male': 0.5191256830601093, 'average': 0.5309914129586261}\n",
      "f1 {'female': 0.09359605911330049, 'male': 0.6737588652482269, 'average': 0.3836774621807637}\n",
      "accuracy 0.5202086049543677\n",
      "\n",
      "\n"
     ]
    }
   ],
   "source": [
    "model = rrnn.MultiTaskRRNN(emb_dim=emb_dim,vocab_size=vocab_size,lstm_hidden_dim=lstm_hidden_dim).to(device)\n",
    "model.load_state_dict(torch.load(save_path))\n",
    "\n",
    "metrics_results = eval_func_multi(model,dl_eval,['about','to','as'])\n",
    "for task, task_metrics in metrics_results.items():\n",
    "    print(f'Resultados en la tarea {task.upper()}:')\n",
    "    for metric, value in task_metrics.items():\n",
    "        if metric=='accuracy':\n",
    "            global_metrics[task]['acc'].append(value) \n",
    "        else:\n",
    "\n",
    "            for g,v in value.items():\n",
    "                global_metrics[task][metric][g].append(v)\n",
    "        print(metric,metrics_results[task][metric])\n",
    "    print('\\n')\n",
    "\n"
   ]
  },
  {
   "cell_type": "code",
   "execution_count": null,
   "metadata": {},
   "outputs": [],
   "source": [
    "model = rrnn.MultiTaskRRNN(emb_dim=emb_dim,vocab_size=vocab_size,lstm_hidden_dim=lstm_hidden_dim).to(device)\n",
    "save_path=f'm1_{model_name}_2'\n",
    "optimizer = AdamW(model.parameters(), lr=learning_rate)\n",
    "p, c, e = train.train_function_multi(model,num_epochs,dl_train,optimizer,early_stop = 10,dl_val = dl_val,save_path=save_path,es_threshold=0)\n",
    "torch.save(p,save_path+'_probs'+'.pt')\n",
    "torch.save(c,save_path+'_corr'+'.pt')"
   ]
  },
  {
   "cell_type": "code",
   "execution_count": null,
   "metadata": {},
   "outputs": [],
   "source": [
    "for task in ['about','as','to']:\n",
    "    print(task.upper())\n",
    "    train.get_datamap_complete_graph(p[task],correctness_vector=c[task],num_epochs=e)"
   ]
  },
  {
   "cell_type": "code",
   "execution_count": null,
   "metadata": {},
   "outputs": [],
   "source": [
    "model = rrnn.MultiTaskRRNN(emb_dim=emb_dim,vocab_size=vocab_size,lstm_hidden_dim=lstm_hidden_dim).to(device)\n",
    "model.load_state_dict(torch.load(save_path))\n",
    "\n",
    "metrics_results = eval_func_multi(model,dl_eval,['about','to','as'])\n",
    "for task, task_metrics in metrics_results.items():\n",
    "    print(f'Resultados en la tarea {task.upper()}:')\n",
    "    for metric, value in task_metrics.items():\n",
    "        if metric=='accuracy':\n",
    "            global_metrics[task]['acc'].append(value) \n",
    "        else:\n",
    "\n",
    "            for g,v in value.items():\n",
    "                global_metrics[task][metric][g].append(v)\n",
    "        print(metric,metrics_results[task][metric])\n",
    "    print('\\n')\n"
   ]
  },
  {
   "cell_type": "code",
   "execution_count": null,
   "metadata": {},
   "outputs": [],
   "source": [
    "model = rrnn.MultiTaskRRNN(emb_dim=emb_dim,vocab_size=vocab_size,lstm_hidden_dim=lstm_hidden_dim).to(device)\n",
    "save_path=f'm1_{model_name}_3'\n",
    "optimizer = AdamW(model.parameters(), lr=learning_rate)\n",
    "p, c, e = train.train_function_multi(model,num_epochs,dl_train,optimizer,early_stop = 10,dl_val = dl_val,save_path=save_path,es_threshold=0)\n",
    "torch.save(p,save_path+'_probs'+'.pt')\n",
    "torch.save(c,save_path+'_corr'+'.pt')"
   ]
  },
  {
   "cell_type": "code",
   "execution_count": null,
   "metadata": {},
   "outputs": [],
   "source": [
    "for task in ['about','as','to']:\n",
    "    print(task.upper())\n",
    "    train.get_datamap_complete_graph(p[task],correctness_vector=c[task],num_epochs=e)"
   ]
  },
  {
   "cell_type": "code",
   "execution_count": null,
   "metadata": {},
   "outputs": [],
   "source": [
    "model = rrnn.MultiTaskRRNN(emb_dim=emb_dim,vocab_size=vocab_size,lstm_hidden_dim=lstm_hidden_dim).to(device)\n",
    "model.load_state_dict(torch.load(save_path))\n",
    "\n",
    "metrics_results = eval_func_multi(model,dl_eval,['about','to','as'])\n",
    "for task, task_metrics in metrics_results.items():\n",
    "    print(f'Resultados en la tarea {task.upper()}:')\n",
    "    for metric, value in task_metrics.items():\n",
    "        if metric=='accuracy':\n",
    "            global_metrics[task]['acc'].append(value) \n",
    "        else:\n",
    "\n",
    "            for g,v in value.items():\n",
    "                global_metrics[task][metric][g].append(v)\n",
    "        print(metric,metrics_results[task][metric])\n",
    "    print('\\n')\n"
   ]
  },
  {
   "cell_type": "code",
   "execution_count": null,
   "metadata": {},
   "outputs": [],
   "source": [
    "for metric in ['f1','recall','precision']:\n",
    "    print(f'{metric} medio de los 3 modelos: \\n')\n",
    "    for task in ['about','to','as']:\n",
    "        print(task.upper())\n",
    "        print(f'Resultado global {metric}:',mean(global_metrics[task][metric]['average']))\n",
    "        print(f'{metric} etiqueta male:',mean(global_metrics[task][metric]['male']))\n",
    "        print(f'{metric} etiqueta female: ',mean(global_metrics[task][metric]['female']))\n",
    "        print('\\n')\n",
    "\n",
    "print(f'Accuracy medio de los 3 modelos: \\n')\n",
    "for task in ['about','to','as']:\n",
    "    print('\\n',task.upper())\n",
    "    print('Resultado global accuracy:',mean(global_metrics[task]['acc']))"
   ]
  }
 ],
 "metadata": {
  "kernelspec": {
   "display_name": "tfg",
   "language": "python",
   "name": "python3"
  },
  "language_info": {
   "codemirror_mode": {
    "name": "ipython",
    "version": 3
   },
   "file_extension": ".py",
   "mimetype": "text/x-python",
   "name": "python",
   "nbconvert_exporter": "python",
   "pygments_lexer": "ipython3",
   "version": "3.9.13"
  },
  "orig_nbformat": 4
 },
 "nbformat": 4,
 "nbformat_minor": 2
}
