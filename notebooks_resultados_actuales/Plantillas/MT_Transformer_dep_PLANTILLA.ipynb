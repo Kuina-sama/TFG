{
 "cells": [
  {
   "cell_type": "code",
   "execution_count": null,
   "metadata": {},
   "outputs": [],
   "source": [
    "import torch\n",
    "from torch.utils.data import DataLoader\n",
    "from torch.optim import AdamW\n",
    "\n",
    "\n",
    "import matplotlib.pyplot as plt\n",
    "\n",
    "import json\n",
    "from statistics import mean\n",
    "import pickle\n"
   ]
  },
  {
   "cell_type": "code",
   "execution_count": null,
   "metadata": {},
   "outputs": [],
   "source": [
    "import utils_generic as generic\n",
    "import mt_dep as mt\n",
    "import model_confs as confs\n",
    "import train_datamaps as train \n",
    "from train import eval_func_multi"
   ]
  },
  {
   "cell_type": "code",
   "execution_count": null,
   "metadata": {},
   "outputs": [],
   "source": [
    "device = torch.device(\"cuda\") if torch.cuda.is_available() else torch.device(\"cpu\")\n",
    "tasks = ['to','as','about']"
   ]
  },
  {
   "cell_type": "code",
   "execution_count": null,
   "metadata": {},
   "outputs": [],
   "source": [
    "model_conf = confs.distilbert_conf\n",
    "model_name = 'distilbert'\n",
    "encoding_type = ''\n",
    "num_labels = 2"
   ]
  },
  {
   "attachments": {},
   "cell_type": "markdown",
   "metadata": {},
   "source": [
    "# Datos ConvAI"
   ]
  },
  {
   "cell_type": "code",
   "execution_count": null,
   "metadata": {},
   "outputs": [],
   "source": [
    "with open('Datasets\\ConvAI2\\convai2_complete.json','r') as f:\n",
    "    data = json.load(f)"
   ]
  },
  {
   "cell_type": "code",
   "execution_count": null,
   "metadata": {},
   "outputs": [],
   "source": [
    "\n",
    "\n",
    "convai_train = data['train']\n",
    "convai_val = data['validation']\n",
    "\n",
    "# Cargo clase vocabulary\n",
    "with open(f'vocab_{encoding_type}.pkl','rb') as f:\n",
    "    vocab = pickle.load(f)\n",
    "\n",
    "convai_train_token = generic.tokenize_dataset_with_dependencies(convai_train,['about','to','as'],vocab,model_conf) \n",
    "convai_val_token = generic.tokenize_dataset_with_dependencies(convai_val,['about','to','as'],vocab,model_conf) "
   ]
  },
  {
   "cell_type": "code",
   "execution_count": null,
   "metadata": {},
   "outputs": [],
   "source": [
    "convai_train_dataset = mt.DatasetMultitaskDep(convai_train_token,tasks,eval=False)\n",
    "convai_val_dataset = mt.DatasetMultitaskDep(convai_val_token,tasks,eval=False)"
   ]
  },
  {
   "attachments": {},
   "cell_type": "markdown",
   "metadata": {},
   "source": [
    "# Datos md_gender"
   ]
  },
  {
   "cell_type": "code",
   "execution_count": null,
   "metadata": {},
   "outputs": [],
   "source": [
    "with open('Datasets\\md_gender\\md_complete.json','r',encoding=\"utf8\") as f:\n",
    "    md_data = json.load(f)"
   ]
  },
  {
   "cell_type": "code",
   "execution_count": null,
   "metadata": {},
   "outputs": [],
   "source": [
    "md_tokenized = generic.tokenize_dataset_with_dependencies(md_data,['about','to','as'],vocab,model_conf) \n",
    "md_dataset = mt.DatasetMultitaskDep(md_tokenized,tasks,eval=True)"
   ]
  },
  {
   "attachments": {},
   "cell_type": "markdown",
   "metadata": {},
   "source": [
    "# Creación dataloaders"
   ]
  },
  {
   "cell_type": "code",
   "execution_count": null,
   "metadata": {},
   "outputs": [],
   "source": [
    "dl_train =DataLoader(convai_train_dataset,batch_size=128,shuffle=True,collate_fn=mt.collate_fn)\n",
    "dl_val =DataLoader(convai_val_dataset,batch_size=128,shuffle=True,collate_fn=mt.collate_fn)\n",
    "dl_eval = DataLoader(md_dataset,batch_size=128,shuffle=False,collate_fn=mt.collate_fn)"
   ]
  },
  {
   "attachments": {},
   "cell_type": "markdown",
   "metadata": {},
   "source": [
    "# Modelo multitask"
   ]
  },
  {
   "cell_type": "code",
   "execution_count": null,
   "metadata": {},
   "outputs": [],
   "source": [
    "num_epochs = 100\n",
    "learning_rate = 1e-6\n",
    "\n",
    "global_metrics = {'about':{'recall':{'weighted_avg':[],'average':[],'female':[],'male':[]},\n",
    "                            'precision':{'weighted_avg':[],'average':[],'female':[],'male':[]},\n",
    "                            'f1':{'weighted_avg':[],'average':[],'female':[],'male':[]},\n",
    "                            'acc':[]},\n",
    "                    'to':{'recall':{'weighted_avg':[],'average':[],'female':[],'male':[]},\n",
    "                            'precision':{'weighted_avg':[],'average':[],'female':[],'male':[]},\n",
    "                            'f1':{'weighted_avg':[],'average':[],'female':[],'male':[]},\n",
    "                            'acc':[]},\n",
    "                    'as':{'recall':{'weighted_avg':[],'average':[],'female':[],'male':[]},\n",
    "                            'precision':{'weighted_avg':[],'average':[],'female':[],'male':[]},\n",
    "                            'f1':{'weighted_avg':[],'average':[],'female':[],'male':[]},\n",
    "                            'acc':[]}}"
   ]
  },
  {
   "cell_type": "code",
   "execution_count": null,
   "metadata": {},
   "outputs": [],
   "source": [
    "model = mt.MultiWithDependencies(model_conf,vocab,num_labels=2).to(device)\n",
    "optimizer = AdamW(model.parameters(), lr=learning_rate,weight_decay=0.1)\n",
    "save_path=f'{model_name}_multitask_{encoding_type}_1'\n",
    "p, c, e = train.train_function_multi(model,num_epochs,dl_train,optimizer,early_stop = 10,dl_val = dl_val,save_path=save_path,es_threshold=0)\n",
    "torch.save(p,save_path+'_probs'+'.pt')\n",
    "torch.save(c,save_path+'_corr'+'.pt')"
   ]
  },
  {
   "cell_type": "code",
   "execution_count": null,
   "metadata": {},
   "outputs": [],
   "source": [
    "for task in ['about','as','to']:\n",
    "    print(task.upper())\n",
    "    train.get_datamap_complete_graph(p[task],correctness_vector=c[task],num_epochs=e)"
   ]
  },
  {
   "cell_type": "code",
   "execution_count": null,
   "metadata": {},
   "outputs": [],
   "source": [
    "for task in ['about','as','to']:\n",
    "    print(task.upper())\n",
    "    train.get_datamap_complete_graph(p[task],correctness_vector=c[task],num_epochs=e,show_samples=True)"
   ]
  },
  {
   "cell_type": "code",
   "execution_count": null,
   "metadata": {},
   "outputs": [],
   "source": [
    "model = mt.MultiWithDependencies(model_conf,vocab,num_labels=2).to(device)\n",
    "model.load_state_dict(torch.load(save_path))\n",
    "\n",
    "\n",
    "metrics_results = eval_func_multi(model,dl_eval,['about','to','as'])\n",
    "for task, task_metrics in metrics_results.items():\n",
    "    print(f'Resultados en la tarea {task.upper()}:')\n",
    "    for metric, value in task_metrics.items():\n",
    "        if metric=='accuracy':\n",
    "            global_metrics[task]['acc'].append(value) \n",
    "        else:\n",
    "\n",
    "            for g,v in value.items():\n",
    "                global_metrics[task][metric][g].append(v)\n",
    "        print(metric,metrics_results[task][metric])\n",
    "    print('\\n')\n",
    "\n"
   ]
  },
  {
   "cell_type": "code",
   "execution_count": null,
   "metadata": {},
   "outputs": [],
   "source": [
    "model = mt.MultiWithDependencies(model_conf,vocab,num_labels=2).to(device)\n",
    "optimizer = AdamW(model.parameters(), lr=learning_rate,weight_decay=0.1)\n",
    "save_path=f'{model_name}_multitask_{encoding_type}_2'\n",
    "p, c, e = train.train_function_multi(model,num_epochs,dl_train,optimizer,early_stop = 10,dl_val = dl_val,save_path=save_path,es_threshold=0)\n",
    "torch.save(p,save_path+'_probs'+'.pt')\n",
    "torch.save(c,save_path+'_corr'+'.pt')"
   ]
  },
  {
   "cell_type": "code",
   "execution_count": null,
   "metadata": {},
   "outputs": [],
   "source": [
    "for task in ['about','as','to']:\n",
    "    print(task.upper())\n",
    "    train.get_datamap_complete_graph(p[task],correctness_vector=c[task],num_epochs=e)"
   ]
  },
  {
   "cell_type": "code",
   "execution_count": null,
   "metadata": {},
   "outputs": [],
   "source": [
    "for task in ['about','as','to']:\n",
    "    print(task.upper())\n",
    "    train.get_datamap_complete_graph(p[task],correctness_vector=c[task],num_epochs=e,show_samples=True)"
   ]
  },
  {
   "cell_type": "code",
   "execution_count": null,
   "metadata": {},
   "outputs": [],
   "source": [
    "model = mt.MultiWithDependencies(model_conf,vocab,num_labels=2).to(device)\n",
    "model.load_state_dict(torch.load(save_path))\n",
    "\n",
    "\n",
    "metrics_results = eval_func_multi(model,dl_eval,['about','to','as'])\n",
    "for task, task_metrics in metrics_results.items():\n",
    "    print(f'Resultados en la tarea {task.upper()}:')\n",
    "    for metric, value in task_metrics.items():\n",
    "        if metric=='accuracy':\n",
    "            global_metrics[task]['acc'].append(value) \n",
    "        else:\n",
    "\n",
    "            for g,v in value.items():\n",
    "                global_metrics[task][metric][g].append(v)\n",
    "        print(metric,metrics_results[task][metric])\n",
    "    print('\\n')\n",
    "\n"
   ]
  },
  {
   "cell_type": "code",
   "execution_count": null,
   "metadata": {},
   "outputs": [],
   "source": [
    "model = mt.MultiWithDependencies(model_conf,vocab,num_labels=2).to(device)\n",
    "optimizer = AdamW(model.parameters(), lr=learning_rate,weight_decay=0.1)\n",
    "save_path=f'{model_name}_multitask_{encoding_type}_3'\n",
    "p, c, e = train.train_function_multi(model,num_epochs,dl_train,optimizer,early_stop = 10,dl_val = dl_val,save_path=save_path,es_threshold=0)\n",
    "torch.save(p,save_path+'_probs'+'.pt')\n",
    "torch.save(c,save_path+'_corr'+'.pt')"
   ]
  },
  {
   "cell_type": "code",
   "execution_count": null,
   "metadata": {},
   "outputs": [],
   "source": [
    "for task in ['about','as','to']:\n",
    "    print(task.upper())\n",
    "    train.get_datamap_complete_graph(p[task],correctness_vector=c[task],num_epochs=e)"
   ]
  },
  {
   "cell_type": "code",
   "execution_count": null,
   "metadata": {},
   "outputs": [],
   "source": [
    "for task in ['about','as','to']:\n",
    "    print(task.upper())\n",
    "    train.get_datamap_complete_graph(p[task],correctness_vector=c[task],num_epochs=e,show_samples=True)"
   ]
  },
  {
   "cell_type": "code",
   "execution_count": null,
   "metadata": {},
   "outputs": [],
   "source": [
    "model = mt.MultiWithDependencies(model_conf,vocab,num_labels=2).to(device)\n",
    "model.load_state_dict(torch.load(save_path))\n",
    "\n",
    "\n",
    "metrics_results = eval_func_multi(model,dl_eval,['about','to','as'])\n",
    "for task, task_metrics in metrics_results.items():\n",
    "    print(f'Resultados en la tarea {task.upper()}:')\n",
    "    for metric, value in task_metrics.items():\n",
    "        if metric=='accuracy':\n",
    "            global_metrics[task]['acc'].append(value) \n",
    "        else:\n",
    "\n",
    "            for g,v in value.items():\n",
    "                global_metrics[task][metric][g].append(v)\n",
    "        print(metric,metrics_results[task][metric])\n",
    "    print('\\n')\n",
    "\n"
   ]
  },
  {
   "cell_type": "code",
   "execution_count": null,
   "metadata": {},
   "outputs": [],
   "source": [
    "for metric in ['f1','recall','precision']:\n",
    "    print(f'{metric} medio de los 3 modelos: \\n')\n",
    "    for task in ['about','to','as']:\n",
    "        print(task.upper())\n",
    "        print(f'Resultado global {metric}:',mean(global_metrics[task][metric]['average']))\n",
    "        print(f'Resultado global ponderado{metric}:',mean(global_metrics[task][metric]['weighted_avg']))\n",
    "        print(f'{metric} etiqueta male:',mean(global_metrics[task][metric]['male']))\n",
    "        print(f'{metric} etiqueta female: ',mean(global_metrics[task][metric]['female']))\n",
    "        print('\\n')\n",
    "\n",
    "print(f'Accuracy medio de los 3 modelos: \\n')\n",
    "for task in ['about','to','as']:\n",
    "    print('\\n',task.upper())\n",
    "    print('Resultado global accuracy:',mean(global_metrics[task]['acc']))"
   ]
  }
 ],
 "metadata": {
  "kernelspec": {
   "display_name": "tfg",
   "language": "python",
   "name": "python3"
  },
  "language_info": {
   "codemirror_mode": {
    "name": "ipython",
    "version": 3
   },
   "file_extension": ".py",
   "mimetype": "text/x-python",
   "name": "python",
   "nbconvert_exporter": "python",
   "pygments_lexer": "ipython3",
   "version": "3.9.13"
  },
  "orig_nbformat": 4,
  "vscode": {
   "interpreter": {
    "hash": "35e8332e99bdf485583869dfbdef293dcf2f9293b1663ec5daea0a573af457c3"
   }
  }
 },
 "nbformat": 4,
 "nbformat_minor": 2
}
