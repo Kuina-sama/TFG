{
 "cells": [
  {
   "cell_type": "code",
   "execution_count": 1,
   "metadata": {},
   "outputs": [],
   "source": [
    "import torch\n",
    "from torch.utils.data import DataLoader\n",
    "from torch.optim import SGD ,AdamW\n",
    "\n",
    "from datasets import load_dataset, load_metric\n",
    "\n",
    "import matplotlib.pyplot as plt\n",
    "\n",
    "import json\n"
   ]
  },
  {
   "cell_type": "code",
   "execution_count": 2,
   "metadata": {},
   "outputs": [],
   "source": [
    "import utils_generic as generic\n",
    "import multitask_simple as mt\n",
    "import model_confs as confs\n",
    "import train"
   ]
  },
  {
   "cell_type": "code",
   "execution_count": 3,
   "metadata": {},
   "outputs": [],
   "source": [
    "device = torch.device(\"cuda\") if torch.cuda.is_available() else torch.device(\"cpu\")\n",
    "torch.manual_seed(27)\n",
    "tasks = ['to','as','about']"
   ]
  },
  {
   "cell_type": "code",
   "execution_count": 4,
   "metadata": {},
   "outputs": [],
   "source": [
    "model_conf = confs.roberta_conf"
   ]
  },
  {
   "attachments": {},
   "cell_type": "markdown",
   "metadata": {},
   "source": [
    "# Datos ConvAI"
   ]
  },
  {
   "cell_type": "code",
   "execution_count": 5,
   "metadata": {},
   "outputs": [],
   "source": [
    "with open('Datasets\\ConvAI2\\convai2_complete.json','r') as f:\n",
    "    data = json.load(f)"
   ]
  },
  {
   "cell_type": "code",
   "execution_count": 6,
   "metadata": {},
   "outputs": [],
   "source": [
    "convai_train = data['train']\n",
    "convai_val = data['validation']\n",
    "\n",
    "\n",
    "\n",
    "convai_train_token = generic.tokenize_dataset(convai_train,tasks,model_conf) \n",
    "convai_val_token = generic.tokenize_dataset(convai_val,tasks,model_conf) "
   ]
  },
  {
   "cell_type": "code",
   "execution_count": 7,
   "metadata": {},
   "outputs": [],
   "source": [
    "convai_train_dataset = mt.DatasetMultiTaskSimple(convai_train_token,tasks,eval=False)\n",
    "convai_val_dataset = mt.DatasetMultiTaskSimple(convai_val_token,tasks,eval=False)"
   ]
  },
  {
   "attachments": {},
   "cell_type": "markdown",
   "metadata": {},
   "source": [
    "# Datos md_gender"
   ]
  },
  {
   "cell_type": "code",
   "execution_count": 8,
   "metadata": {},
   "outputs": [],
   "source": [
    "with open('Datasets\\md_gender\\md_complete.json','r',encoding=\"utf8\") as f:\n",
    "    md_data = json.load(f)"
   ]
  },
  {
   "cell_type": "code",
   "execution_count": 9,
   "metadata": {},
   "outputs": [],
   "source": [
    "md_tokenized = generic.tokenize_dataset(md_data,tasks,model_conf) \n",
    "md_dataset = mt.DatasetMultiTaskSimple(md_tokenized,tasks,eval=True)"
   ]
  },
  {
   "attachments": {},
   "cell_type": "markdown",
   "metadata": {},
   "source": [
    "# Creación dataloaders"
   ]
  },
  {
   "cell_type": "code",
   "execution_count": 10,
   "metadata": {},
   "outputs": [],
   "source": [
    "dl_train =DataLoader(convai_train_dataset,batch_size=128,shuffle=True,collate_fn=mt.collate_fn)\n",
    "dl_val =DataLoader(convai_val_dataset,batch_size=128,shuffle=True,collate_fn=mt.collate_fn)\n",
    "dl_eval = DataLoader(md_dataset,batch_size=128,shuffle=False,collate_fn=mt.collate_fn)"
   ]
  },
  {
   "attachments": {},
   "cell_type": "markdown",
   "metadata": {},
   "source": [
    "# Modelo multitask"
   ]
  },
  {
   "attachments": {},
   "cell_type": "markdown",
   "metadata": {},
   "source": [
    "## SGD"
   ]
  },
  {
   "cell_type": "code",
   "execution_count": 11,
   "metadata": {},
   "outputs": [
    {
     "name": "stderr",
     "output_type": "stream",
     "text": [
      "Some weights of the model checkpoint at roberta-base were not used when initializing RobertaModel: ['lm_head.bias', 'lm_head.dense.bias', 'lm_head.layer_norm.weight', 'lm_head.layer_norm.bias', 'lm_head.dense.weight', 'lm_head.decoder.weight']\n",
      "- This IS expected if you are initializing RobertaModel from the checkpoint of a model trained on another task or with another architecture (e.g. initializing a BertForSequenceClassification model from a BertForPreTraining model).\n",
      "- This IS NOT expected if you are initializing RobertaModel from the checkpoint of a model that you expect to be exactly identical (initializing a BertForSequenceClassification model from a BertForSequenceClassification model).\n"
     ]
    }
   ],
   "source": [
    "model = mt.MultiTaskSimple(model_conf).to(device)\n",
    "save_path='m1_roberta_multi'"
   ]
  },
  {
   "cell_type": "code",
   "execution_count": 12,
   "metadata": {},
   "outputs": [
    {
     "name": "stdout",
     "output_type": "stream",
     "text": [
      "Accuracy evaluando en todas las etiquetas\n",
      "{'to': 0.4810606060606061, 'as': 0.48370273794002605, 'about': 0.5102040816326531}\n",
      "Accuracy evaluando en etiquetas female\n",
      "{'to': 1.0, 'as': 1.0, 'about': 1.0}\n",
      "Accuracy evaluando en etiquetas male\n",
      "{'to': 0.0, 'as': 0.0, 'about': 0.0}\n"
     ]
    }
   ],
   "source": [
    "print(\"Accuracy evaluando en todas las etiquetas\")\n",
    "print(train.eval_function_multi(model,dl_eval,tasks))\n",
    "print(\"Accuracy evaluando en etiquetas female\")\n",
    "print(train.eval_function_multi(model,dl_eval,tasks,'female'))\n",
    "print(\"Accuracy evaluando en etiquetas male\")\n",
    "print(train.eval_function_multi(model,dl_eval,tasks,'male'))"
   ]
  },
  {
   "cell_type": "code",
   "execution_count": 13,
   "metadata": {},
   "outputs": [
    {
     "data": {
      "application/vnd.jupyter.widget-view+json": {
       "model_id": "22285f4a571a4fb18cc548efcd892eb1",
       "version_major": 2,
       "version_minor": 0
      },
      "text/plain": [
       "  0%|          | 0/57400 [00:00<?, ?it/s]"
      ]
     },
     "metadata": {},
     "output_type": "display_data"
    },
    {
     "name": "stdout",
     "output_type": "stream",
     "text": [
      "Epoch 1 \t Training loss: 2.0791448230112057 \t Validation loss: 2.0800653473805575 \t \n",
      "  1%|          | 574/57400 [01:16<2:10:02,  7.28it/s]\n",
      "Epoch 2 \t Training loss: 2.0768084837584544 \t Validation loss: 2.0792733653117033 \t \n",
      "  2%|▏         | 1148/57400 [02:34<2:06:13,  7.43it/s]\n",
      "Epoch 3 \t Training loss: 2.0759534229384897 \t Validation loss: 2.0803551471839516 \t \n",
      "\n",
      "1 epoch without improvement\n",
      "  3%|▎         | 1722/57400 [03:52<1:48:10,  8.58it/s]\n",
      "Epoch 4 \t Training loss: 2.0750604693482564 \t Validation loss: 2.0790162692635747 \t \n",
      "  4%|▍         | 2296/57400 [05:11<2:03:53,  7.41it/s]\n",
      "Epoch 5 \t Training loss: 2.0735127738959283 \t Validation loss: 2.0765284400875283 \t \n",
      "  5%|▌         | 2870/57400 [06:30<1:47:01,  8.49it/s]\n",
      "Epoch 6 \t Training loss: 2.060605906858677 \t Validation loss: 2.0312163546933966 \t \n",
      "  6%|▌         | 3444/57400 [07:50<1:51:39,  8.05it/s]\n",
      "Epoch 7 \t Training loss: 2.0125351028990663 \t Validation loss: 2.0069835327439387 \t \n",
      "  7%|▋         | 4018/57400 [09:10<1:51:24,  7.99it/s]\n",
      "Epoch 8 \t Training loss: 1.9978891249733104 \t Validation loss: 1.9946000515404394 \t \n",
      "  8%|▊         | 4592/57400 [10:30<1:55:07,  7.64it/s]\n",
      "Epoch 9 \t Training loss: 1.9895519016096401 \t Validation loss: 1.9902358034909782 \t \n",
      "  9%|▉         | 5166/57400 [11:50<1:49:56,  7.92it/s]\n",
      "Epoch 10 \t Training loss: 1.9871940538027562 \t Validation loss: 1.9897597159369518 \t \n",
      " 10%|█         | 5740/57400 [13:09<1:58:18,  7.28it/s]\n",
      "Epoch 11 \t Training loss: 1.98326753053931 \t Validation loss: 1.9835322549787617 \t \n",
      " 11%|█         | 6314/57400 [14:28<1:45:49,  8.05it/s]\n",
      "Epoch 12 \t Training loss: 1.980439782973366 \t Validation loss: 1.982272380489414 \t \n",
      " 12%|█▏        | 6888/57400 [15:48<1:48:17,  7.77it/s]\n",
      "Epoch 13 \t Training loss: 1.9785726431770192 \t Validation loss: 1.9706538713584512 \t \n",
      " 13%|█▎        | 7462/57400 [17:06<1:45:17,  7.90it/s]\n",
      "Epoch 14 \t Training loss: 1.9758082773627303 \t Validation loss: 1.9842190095933818 \t \n",
      "\n",
      "1 epoch without improvement\n",
      " 14%|█▍        | 8036/57400 [18:24<1:50:29,  7.45it/s]\n",
      "Epoch 15 \t Training loss: 1.9751914085411444 \t Validation loss: 1.976986181938042 \t \n",
      "\n",
      "2 epoch without improvement\n",
      " 15%|█▌        | 8610/57400 [19:41<1:38:55,  8.22it/s]\n",
      "Epoch 16 \t Training loss: 1.9741156811498184 \t Validation loss: 1.9756080639564384 \t \n",
      "\n",
      "3 epoch without improvement\n",
      " 16%|█▌        | 9184/57400 [20:58<1:46:08,  7.57it/s]\n",
      "Epoch 17 \t Training loss: 1.9717136864462796 \t Validation loss: 1.9704870935213767 \t \n",
      " 17%|█▋        | 9758/57400 [22:15<1:36:55,  8.19it/s]\n",
      "Epoch 18 \t Training loss: 1.9719230042517393 \t Validation loss: 1.9771025665735795 \t \n",
      "\n",
      "1 epoch without improvement\n",
      " 18%|█▊        | 10332/57400 [23:32<1:41:09,  7.76it/s]\n",
      "Epoch 19 \t Training loss: 1.9692114564599892 \t Validation loss: 1.9714277982711792 \t \n",
      " 19%|█▉        | 10906/57400 [24:49<1:44:50,  7.39it/s]\n",
      "Epoch 20 \t Training loss: 1.9701268832858017 \t Validation loss: 1.9745684680292162 \t \n",
      "\n",
      "2 epoch without improvement\n",
      " 20%|██        | 11480/57400 [26:06<1:40:57,  7.58it/s]\n",
      "Epoch 21 \t Training loss: 1.972068395556473 \t Validation loss: 1.9756358902333147 \t \n",
      "\n",
      "3 epoch without improvement\n",
      " 21%|██        | 12054/57400 [27:24<1:42:02,  7.41it/s]\n",
      "Epoch 22 \t Training loss: 1.9689626332359447 \t Validation loss: 1.9768166036929113 \t \n",
      "\n",
      "4 epoch without improvement\n",
      " 22%|██▏       | 12628/57400 [28:41<1:32:49,  8.04it/s]\n",
      "Epoch 23 \t Training loss: 1.9684744363047104 \t Validation loss: 1.9727405006602658 \t \n",
      "\n",
      "5 epoch without improvement\n",
      " 23%|██▎       | 13202/57400 [29:58<1:30:26,  8.15it/s]\n",
      "Epoch 24 \t Training loss: 1.967103062191076 \t Validation loss: 1.972829622737432 \t \n",
      "\n",
      "6 epoch without improvement\n",
      " 24%|██▍       | 13776/57400 [31:15<1:39:22,  7.32it/s]\n",
      "Epoch 25 \t Training loss: 1.9666525588633708 \t Validation loss: 1.968428690554732 \t \n",
      " 25%|██▌       | 14350/57400 [32:33<1:27:20,  8.22it/s]\n",
      "Epoch 26 \t Training loss: 1.9647784505156274 \t Validation loss: 1.975614961931261 \t \n",
      "\n",
      "1 epoch without improvement\n",
      " 26%|██▌       | 14924/57400 [33:50<1:34:00,  7.53it/s]\n",
      "Epoch 27 \t Training loss: 1.9650983029541653 \t Validation loss: 1.975051653587212 \t \n",
      "\n",
      "2 epoch without improvement\n",
      " 27%|██▋       | 15498/57400 [35:07<1:26:47,  8.05it/s]\n",
      "Epoch 28 \t Training loss: 1.9645004174850544 \t Validation loss: 1.9692399037086357 \t \n",
      " 28%|██▊       | 16072/57400 [36:24<1:19:01,  8.72it/s]\n",
      "Epoch 29 \t Training loss: 1.965384790290939 \t Validation loss: 1.9660049616280248 \t \n",
      " 29%|██▉       | 16646/57400 [37:42<1:21:17,  8.36it/s]\n",
      "Epoch 30 \t Training loss: 1.9621876407583416 \t Validation loss: 1.9748762906607935 \t \n",
      "\n",
      "1 epoch without improvement\n",
      " 30%|███       | 17220/57400 [38:59<1:30:12,  7.42it/s]\n",
      "Epoch 31 \t Training loss: 1.963192103216457 \t Validation loss: 1.9669863430120178 \t \n",
      " 31%|███       | 17794/57400 [40:16<1:14:58,  8.80it/s]\n",
      "Epoch 32 \t Training loss: 1.9629310163886704 \t Validation loss: 1.968223236374936 \t \n",
      "\n",
      "2 epoch without improvement\n",
      " 32%|███▏      | 18368/57400 [41:33<1:26:54,  7.48it/s]\n",
      "Epoch 33 \t Training loss: 1.9618087855365633 \t Validation loss: 1.9742390503317624 \t \n",
      "\n",
      "3 epoch without improvement\n",
      " 33%|███▎      | 18942/57400 [42:51<1:25:57,  7.46it/s]\n",
      "Epoch 34 \t Training loss: 1.9611801671234157 \t Validation loss: 1.9716920913276026 \t \n",
      "\n",
      "4 epoch without improvement\n",
      " 34%|███▍      | 19516/57400 [44:08<1:26:17,  7.32it/s]\n",
      "Epoch 35 \t Training loss: 1.9611146811408864 \t Validation loss: 1.9691307867987682 \t \n",
      "\n",
      "5 epoch without improvement\n",
      " 35%|███▌      | 20090/57400 [45:25<1:11:12,  8.73it/s]\n",
      "Epoch 36 \t Training loss: 1.9607704310882381 \t Validation loss: 1.9678654064566403 \t \n",
      "\n",
      "6 epoch without improvement\n",
      " 36%|███▌      | 20664/57400 [46:43<1:20:59,  7.56it/s]\n",
      "Epoch 37 \t Training loss: 1.9617978429960456 \t Validation loss: 1.9749212143784862 \t \n",
      "\n",
      "7 epoch without improvement\n",
      " 37%|███▋      | 21238/57400 [48:00<1:22:58,  7.26it/s]\n",
      "Epoch 38 \t Training loss: 1.9607212506104845 \t Validation loss: 1.9647127834417053 \t \n",
      " 38%|███▊      | 21812/57400 [49:17<1:17:31,  7.65it/s]\n",
      "Epoch 39 \t Training loss: 1.9597199010932072 \t Validation loss: 1.9728463484069048 \t \n",
      "\n",
      "1 epoch without improvement\n",
      " 39%|███▉      | 22386/57400 [50:34<1:18:58,  7.39it/s]\n",
      "Epoch 40 \t Training loss: 1.9609642901071689 \t Validation loss: 1.9693435713396235 \t \n",
      "\n",
      "2 epoch without improvement\n",
      " 40%|████      | 22960/57400 [51:52<1:10:35,  8.13it/s]\n",
      "Epoch 41 \t Training loss: 1.9608493920818024 \t Validation loss: 1.9729092424198733 \t \n",
      "\n",
      "3 epoch without improvement\n",
      " 41%|████      | 23534/57400 [53:09<1:14:03,  7.62it/s]\n",
      "Epoch 42 \t Training loss: 1.9608334508507095 \t Validation loss: 1.9702674130261955 \t \n",
      "\n",
      "4 epoch without improvement\n",
      " 42%|████▏     | 24108/57400 [54:26<1:05:34,  8.46it/s]\n",
      "Epoch 43 \t Training loss: 1.9605342344955285 \t Validation loss: 1.9737721115855846 \t \n",
      "\n",
      "5 epoch without improvement\n",
      " 43%|████▎     | 24682/57400 [55:43<1:13:19,  7.44it/s]\n",
      "Epoch 44 \t Training loss: 1.9571370372373469 \t Validation loss: 1.9692477412142997 \t \n",
      "\n",
      "6 epoch without improvement\n",
      " 44%|████▍     | 25256/57400 [57:01<1:12:45,  7.36it/s]\n",
      "Epoch 45 \t Training loss: 1.959258182123563 \t Validation loss: 1.9749809261095725 \t \n",
      "\n",
      "7 epoch without improvement\n",
      " 45%|████▌     | 25830/57400 [58:18<1:09:27,  7.57it/s]\n",
      "Epoch 46 \t Training loss: 1.95910268170493 \t Validation loss: 1.9621268672458196 \t \n",
      " 46%|████▌     | 26404/57400 [59:36<1:11:35,  7.22it/s]\n",
      "Epoch 47 \t Training loss: 1.9595203937553778 \t Validation loss: 1.965513671858836 \t \n",
      "\n",
      "1 epoch without improvement\n",
      " 47%|████▋     | 26978/57400 [1:00:53<1:02:06,  8.16it/s]\n",
      "Epoch 48 \t Training loss: 1.9544200238865843 \t Validation loss: 1.967084737147315 \t \n",
      "\n",
      "2 epoch without improvement\n",
      " 48%|████▊     | 27552/57400 [1:02:10<1:05:35,  7.58it/s]\n",
      "Epoch 49 \t Training loss: 1.9552412591744799 \t Validation loss: 1.967756673441095 \t \n",
      "\n",
      "3 epoch without improvement\n",
      " 49%|████▉     | 28126/57400 [1:03:27<1:01:34,  7.92it/s]\n",
      "Epoch 50 \t Training loss: 1.954444529287491 \t Validation loss: 1.9649333691192885 \t \n",
      "\n",
      "4 epoch without improvement\n",
      " 50%|█████     | 28700/57400 [1:04:45<55:51,  8.56it/s]\n",
      "Epoch 51 \t Training loss: 1.958840499563915 \t Validation loss: 1.9623464063062506 \t \n",
      " 51%|█████     | 29274/57400 [1:06:02<1:01:41,  7.60it/s]\n",
      "Epoch 52 \t Training loss: 1.9583579575973935 \t Validation loss: 1.9700846086114139 \t \n",
      "\n",
      "5 epoch without improvement\n",
      " 52%|█████▏    | 29848/57400 [1:07:19<1:01:49,  7.43it/s]\n",
      "Epoch 53 \t Training loss: 1.9579854686501135 \t Validation loss: 1.971922926983591 \t \n",
      "\n",
      "6 epoch without improvement\n",
      " 53%|█████▎    | 30422/57400 [1:08:37<59:52,  7.51it/s]\n",
      "Epoch 54 \t Training loss: 1.9539396287256832 \t Validation loss: 1.9735072750156208 \t \n",
      "\n",
      "7 epoch without improvement\n",
      " 54%|█████▍    | 30996/57400 [1:09:54<55:29,  7.93it/s]\n",
      "Epoch 55 \t Training loss: 1.957826782602051 \t Validation loss: 1.96560027437695 \t \n",
      "\n",
      "8 epoch without improvement\n",
      " 55%|█████▌    | 31570/57400 [1:11:11<50:39,  8.50it/s]\n",
      "Epoch 56 \t Training loss: 1.9550582963830503 \t Validation loss: 1.97151907015655 \t \n",
      "\n",
      "9 epoch without improvement\n",
      " 56%|█████▌    | 32144/57400 [1:12:29<48:53,  8.61it/s]\n",
      "Epoch 57 \t Training loss: 1.9562156285558427 \t Validation loss: 1.9703346874754308 \t \n",
      "\n",
      "10 epoch without improvement\n",
      "Validation_loss hasn't improve in 10 epoch. Stopping training after 57 epochs...\n"
     ]
    },
    {
     "data": {
      "image/png": "[encoded data removed]",
      "text/plain": [
       "<Figure size 640x480 with 1 Axes>"
      ]
     },
     "metadata": {},
     "output_type": "display_data"
    }
   ],
   "source": [
    "learning_rate = 5e-5\n",
    "optimizer = SGD(model.parameters(), lr=learning_rate, momentum=0.9)\n",
    "num_epochs = 100\n",
    "train.train_function_multi(model,num_epochs,dl_train,optimizer,early_stop = 10,dl_val = dl_val,save_path=save_path)"
   ]
  },
  {
   "cell_type": "code",
   "execution_count": 14,
   "metadata": {},
   "outputs": [
    {
     "name": "stderr",
     "output_type": "stream",
     "text": [
      "Some weights of the model checkpoint at roberta-base were not used when initializing RobertaModel: ['lm_head.bias', 'lm_head.dense.bias', 'lm_head.layer_norm.weight', 'lm_head.layer_norm.bias', 'lm_head.dense.weight', 'lm_head.decoder.weight']\n",
      "- This IS expected if you are initializing RobertaModel from the checkpoint of a model trained on another task or with another architecture (e.g. initializing a BertForSequenceClassification model from a BertForPreTraining model).\n",
      "- This IS NOT expected if you are initializing RobertaModel from the checkpoint of a model that you expect to be exactly identical (initializing a BertForSequenceClassification model from a BertForSequenceClassification model).\n"
     ]
    },
    {
     "name": "stdout",
     "output_type": "stream",
     "text": [
      "Accuracy evaluando en todas las etiquetas\n",
      "{'to': 0.7272727272727273, 'as': 0.7209908735332464, 'about': 0.8482142857142857}\n",
      "Accuracy evaluando en etiquetas female\n",
      "{'to': 0.7165354330708661, 'as': 0.7358490566037735, 'about': 0.86}\n",
      "Accuracy evaluando en etiquetas male\n",
      "{'to': 0.7372262773722628, 'as': 0.7070707070707071, 'about': 0.8359375}\n"
     ]
    }
   ],
   "source": [
    "model = mt.MultiTaskSimple(model_conf).to(device)\n",
    "model.load_state_dict(torch.load(save_path))\n",
    "\n",
    "print(\"Accuracy evaluando en todas las etiquetas\")\n",
    "print(train.eval_function_multi(model,dl_eval,tasks))\n",
    "print(\"Accuracy evaluando en etiquetas female\")\n",
    "print(train.eval_function_multi(model,dl_eval,tasks,'female'))\n",
    "print(\"Accuracy evaluando en etiquetas male\")\n",
    "print(train.eval_function_multi(model,dl_eval,tasks,'male'))"
   ]
  },
  {
   "attachments": {},
   "cell_type": "markdown",
   "metadata": {},
   "source": [
    "## AdamW"
   ]
  },
  {
   "cell_type": "code",
   "execution_count": 15,
   "metadata": {},
   "outputs": [
    {
     "name": "stderr",
     "output_type": "stream",
     "text": [
      "Some weights of the model checkpoint at roberta-base were not used when initializing RobertaModel: ['lm_head.bias', 'lm_head.dense.bias', 'lm_head.layer_norm.weight', 'lm_head.layer_norm.bias', 'lm_head.dense.weight', 'lm_head.decoder.weight']\n",
      "- This IS expected if you are initializing RobertaModel from the checkpoint of a model trained on another task or with another architecture (e.g. initializing a BertForSequenceClassification model from a BertForPreTraining model).\n",
      "- This IS NOT expected if you are initializing RobertaModel from the checkpoint of a model that you expect to be exactly identical (initializing a BertForSequenceClassification model from a BertForSequenceClassification model).\n"
     ]
    }
   ],
   "source": [
    "model = mt.MultiTaskSimple(model_conf).to(device)\n",
    "save_path='m1_roberta_multi_adamW'"
   ]
  },
  {
   "cell_type": "code",
   "execution_count": 16,
   "metadata": {},
   "outputs": [
    {
     "data": {
      "application/vnd.jupyter.widget-view+json": {
       "model_id": "b01fa36b93fa49799b5fecdbca31d31c",
       "version_major": 2,
       "version_minor": 0
      },
      "text/plain": [
       "  0%|          | 0/57400 [00:00<?, ?it/s]"
      ]
     },
     "metadata": {},
     "output_type": "display_data"
    },
    {
     "name": "stdout",
     "output_type": "stream",
     "text": [
      "Epoch 1 \t Training loss: 2.0858932841530247 \t Validation loss: 2.084462868965278 \t \n",
      "  1%|          | 574/57400 [01:31<2:22:24,  6.65it/s]\n",
      "Epoch 2 \t Training loss: 2.0770823764468735 \t Validation loss: 2.0853666329787948 \t \n",
      "  2%|▏         | 1148/57400 [03:03<2:26:54,  6.38it/s]\n",
      "Epoch 3 \t Training loss: 2.0766109448276744 \t Validation loss: 2.080807047375178 \t \n",
      "  3%|▎         | 1722/57400 [04:35<2:26:55,  6.32it/s]\n",
      "Epoch 4 \t Training loss: 2.076511986164266 \t Validation loss: 2.079953367427244 \t \n",
      "  4%|▍         | 2296/57400 [06:07<2:30:49,  6.09it/s]\n",
      "Epoch 5 \t Training loss: 2.0767261944581406 \t Validation loss: 2.0805493168911693 \t \n",
      "  5%|▌         | 2870/57400 [07:38<2:15:28,  6.71it/s]\n",
      "Epoch 6 \t Training loss: 2.076209282625843 \t Validation loss: 2.0802589998406877 \t \n",
      "  6%|▌         | 3444/57400 [09:11<2:15:04,  6.66it/s]\n",
      "Epoch 7 \t Training loss: 2.075874313244836 \t Validation loss: 2.0823514986846408 \t \n",
      "\n",
      "1 epoch without improvement\n",
      "  7%|▋         | 4018/57400 [10:42<2:16:33,  6.52it/s]\n",
      "Epoch 8 \t Training loss: 2.076608252442257 \t Validation loss: 2.0909114894220386 \t \n",
      "\n",
      "2 epoch without improvement\n",
      "  8%|▊         | 4592/57400 [12:13<2:10:47,  6.73it/s]\n",
      "Epoch 9 \t Training loss: 2.0765331917108143 \t Validation loss: 2.0806955806279586 \t \n",
      "  9%|▉         | 5166/57400 [13:45<2:10:21,  6.68it/s]\n",
      "Epoch 10 \t Training loss: 2.076474161513591 \t Validation loss: 2.0792190907365184 \t \n",
      " 10%|█         | 5740/57400 [15:17<2:11:32,  6.55it/s]\n",
      "Epoch 11 \t Training loss: 2.076258030087275 \t Validation loss: 2.081508794073331 \t \n",
      "\n",
      "1 epoch without improvement\n",
      " 11%|█         | 6314/57400 [16:48<2:05:48,  6.77it/s]\n",
      "Epoch 12 \t Training loss: 2.076175077036283 \t Validation loss: 2.082748877800117 \t \n",
      "\n",
      "2 epoch without improvement\n",
      " 12%|█▏        | 6888/57400 [18:19<2:04:44,  6.75it/s]\n",
      "Epoch 13 \t Training loss: 2.076040811654998 \t Validation loss: 2.0816709348710916 \t \n",
      "\n",
      "3 epoch without improvement\n",
      " 13%|█▎        | 7462/57400 [19:49<2:04:05,  6.71it/s]\n",
      "Epoch 14 \t Training loss: 2.0762792630478066 \t Validation loss: 2.080179073042789 \t \n",
      " 14%|█▍        | 8036/57400 [21:20<2:03:36,  6.66it/s]\n",
      "Epoch 15 \t Training loss: 2.076352150598054 \t Validation loss: 2.08141510365373 \t \n",
      "\n",
      "4 epoch without improvement\n",
      " 15%|█▌        | 8610/57400 [22:51<2:10:26,  6.23it/s]\n",
      "Epoch 16 \t Training loss: 2.076410959406597 \t Validation loss: 2.0813826666039934 \t \n",
      "\n",
      "5 epoch without improvement\n",
      " 16%|█▌        | 9184/57400 [24:22<1:58:15,  6.80it/s]\n",
      "Epoch 17 \t Training loss: 2.076183182852609 \t Validation loss: 2.0822302002017783 \t \n",
      "\n",
      "6 epoch without improvement\n",
      " 17%|█▋        | 9758/57400 [25:53<2:17:41,  5.77it/s]\n",
      "Epoch 18 \t Training loss: 2.0760075294182276 \t Validation loss: 2.0816675323550986 \t \n",
      "\n",
      "7 epoch without improvement\n",
      " 18%|█▊        | 10332/57400 [27:24<2:11:15,  5.98it/s]\n",
      "Epoch 19 \t Training loss: 2.076531246564114 \t Validation loss: 2.081161866753788 \t \n",
      "\n",
      "8 epoch without improvement\n",
      " 19%|█▉        | 10906/57400 [28:55<2:05:06,  6.19it/s]\n",
      "Epoch 20 \t Training loss: 2.076554547618906 \t Validation loss: 2.0809463969731734 \t \n",
      "\n",
      "9 epoch without improvement\n",
      " 20%|██        | 11480/57400 [30:27<2:03:47,  6.18it/s]\n",
      "Epoch 21 \t Training loss: 2.0763255648496672 \t Validation loss: 2.0809422832424356 \t \n",
      "\n",
      "10 epoch without improvement\n",
      "Validation_loss hasn't improve in 10 epoch. Stopping training after 21 epochs...\n"
     ]
    },
    {
     "data": {
      "image/png": "[encoded data removed]",
      "text/plain": [
       "<Figure size 640x480 with 1 Axes>"
      ]
     },
     "metadata": {},
     "output_type": "display_data"
    }
   ],
   "source": [
    "learning_rate = 0.001\n",
    "optimizer = AdamW(model.parameters(), lr=learning_rate)\n",
    "num_epochs = 100\n",
    "train.train_function_multi(model,num_epochs,dl_train,optimizer,early_stop = 10,dl_val = dl_val,save_path=save_path)"
   ]
  },
  {
   "cell_type": "code",
   "execution_count": 17,
   "metadata": {},
   "outputs": [
    {
     "name": "stderr",
     "output_type": "stream",
     "text": [
      "Some weights of the model checkpoint at roberta-base were not used when initializing RobertaModel: ['lm_head.bias', 'lm_head.dense.bias', 'lm_head.layer_norm.weight', 'lm_head.layer_norm.bias', 'lm_head.dense.weight', 'lm_head.decoder.weight']\n",
      "- This IS expected if you are initializing RobertaModel from the checkpoint of a model trained on another task or with another architecture (e.g. initializing a BertForSequenceClassification model from a BertForPreTraining model).\n",
      "- This IS NOT expected if you are initializing RobertaModel from the checkpoint of a model that you expect to be exactly identical (initializing a BertForSequenceClassification model from a BertForSequenceClassification model).\n"
     ]
    },
    {
     "name": "stdout",
     "output_type": "stream",
     "text": [
      "Accuracy evaluando en todas las etiquetas\n",
      "{'to': 0.5189393939393939, 'as': 0.516297262059974, 'about': 0.4897959183673469}\n",
      "Accuracy evaluando en etiquetas female\n",
      "{'to': 0.0, 'as': 0.0, 'about': 0.0}\n",
      "Accuracy evaluando en etiquetas male\n",
      "{'to': 1.0, 'as': 1.0, 'about': 1.0}\n"
     ]
    }
   ],
   "source": [
    "model = mt.MultiTaskSimple(model_conf).to(device)\n",
    "model.load_state_dict(torch.load(save_path))\n",
    "\n",
    "print(\"Accuracy evaluando en todas las etiquetas\")\n",
    "print(train.eval_function_multi(model,dl_eval,tasks))\n",
    "print(\"Accuracy evaluando en etiquetas female\")\n",
    "print(train.eval_function_multi(model,dl_eval,tasks,'female'))\n",
    "print(\"Accuracy evaluando en etiquetas male\")\n",
    "print(train.eval_function_multi(model,dl_eval,tasks,'male'))"
   ]
  }
 ],
 "metadata": {
  "kernelspec": {
   "display_name": "tfg",
   "language": "python",
   "name": "python3"
  },
  "language_info": {
   "codemirror_mode": {
    "name": "ipython",
    "version": 3
   },
   "file_extension": ".py",
   "mimetype": "text/x-python",
   "name": "python",
   "nbconvert_exporter": "python",
   "pygments_lexer": "ipython3",
   "version": "3.9.13"
  },
  "orig_nbformat": 4,
  "vscode": {
   "interpreter": {
    "hash": "b2012626cca2d66e84dc87dc317222963c31dcd31e180f1257b027de73883164"
   }
  }
 },
 "nbformat": 4,
 "nbformat_minor": 2
}
