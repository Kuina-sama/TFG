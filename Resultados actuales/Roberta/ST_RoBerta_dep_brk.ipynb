{
 "cells": [
  {
   "cell_type": "code",
   "execution_count": 1,
   "metadata": {},
   "outputs": [],
   "source": [
    "import torch\n",
    "from torch.utils.data import DataLoader\n",
    "from torch.optim import AdamW, SGD \n",
    "\n",
    "\n",
    "\n",
    "\n",
    "import json\n",
    "\n"
   ]
  },
  {
   "cell_type": "code",
   "execution_count": 2,
   "metadata": {},
   "outputs": [],
   "source": [
    "import utils_generic as generic\n",
    "import singletask_dep as st\n",
    "import model_confs as confs\n",
    "\n",
    "\n",
    "import train_dep as train"
   ]
  },
  {
   "cell_type": "code",
   "execution_count": 3,
   "metadata": {},
   "outputs": [
    {
     "data": {
      "text/plain": [
       "<torch._C.Generator at 0x1a9c8bd5850>"
      ]
     },
     "execution_count": 3,
     "metadata": {},
     "output_type": "execute_result"
    }
   ],
   "source": [
    "device = torch.device(\"cuda\") if torch.cuda.is_available() else torch.device(\"cpu\")\n",
    "torch.manual_seed(27)"
   ]
  },
  {
   "cell_type": "code",
   "execution_count": 4,
   "metadata": {},
   "outputs": [],
   "source": [
    "model_conf = confs.roberta_conf\n",
    "encoding_type = 'brk'"
   ]
  },
  {
   "attachments": {},
   "cell_type": "markdown",
   "metadata": {},
   "source": [
    "# Datos ConvAI2"
   ]
  },
  {
   "cell_type": "code",
   "execution_count": 5,
   "metadata": {},
   "outputs": [],
   "source": [
    "with open('Datasets\\ConvAI2\\convai2_complete.json','r') as f:\n",
    "    data = json.load(f)"
   ]
  },
  {
   "cell_type": "code",
   "execution_count": 6,
   "metadata": {},
   "outputs": [],
   "source": [
    "vocab = st.Vocabulary(data['train'],encoding_type)"
   ]
  },
  {
   "cell_type": "code",
   "execution_count": 7,
   "metadata": {},
   "outputs": [],
   "source": [
    "convai_train = data['train']\n",
    "convai_val = data['validation']\n",
    "\n",
    "\n",
    "\n",
    "convai_train_token = generic.tokenize_dataset_with_dependencies(convai_train,['about','to','as'],vocab,model_conf) \n",
    "convai_val_token = generic.tokenize_dataset_with_dependencies(convai_val,['about','to','as'],vocab,model_conf) "
   ]
  },
  {
   "cell_type": "code",
   "execution_count": 8,
   "metadata": {},
   "outputs": [],
   "source": [
    "convai_train_dataset = {}\n",
    "for task in ['to','as','about']:\n",
    "    convai_train_dataset[task] = st.DatasetSingleTaskDep(convai_train_token,task,eval=False)"
   ]
  },
  {
   "cell_type": "code",
   "execution_count": 9,
   "metadata": {},
   "outputs": [],
   "source": [
    "convai_val_dataset = {}\n",
    "for task in ['to','as','about']:\n",
    "    convai_val_dataset[task] = st.DatasetSingleTaskDep(convai_val_token,task,eval=False)"
   ]
  },
  {
   "attachments": {},
   "cell_type": "markdown",
   "metadata": {},
   "source": [
    "# Datos md_gender"
   ]
  },
  {
   "cell_type": "code",
   "execution_count": 10,
   "metadata": {},
   "outputs": [],
   "source": [
    "with open('Datasets\\md_gender\\md_complete.json','r',encoding=\"utf8\") as f:\n",
    "    md_data = json.load(f)"
   ]
  },
  {
   "cell_type": "code",
   "execution_count": 11,
   "metadata": {},
   "outputs": [],
   "source": [
    "md_tokenized = generic.tokenize_dataset_with_dependencies(md_data,['about','to','as'],vocab,model_conf) \n",
    "\n",
    "\n",
    "md_dataset = {}\n",
    "for task in ['to','as','about']:\n",
    "    md_dataset[task] = st.DatasetSingleTaskDep(md_tokenized,task,eval=True)"
   ]
  },
  {
   "attachments": {},
   "cell_type": "markdown",
   "metadata": {},
   "source": [
    "# Creación dataloaders"
   ]
  },
  {
   "cell_type": "code",
   "execution_count": 12,
   "metadata": {},
   "outputs": [],
   "source": [
    "dl_train = {}\n",
    "for task in ['to','as','about']:\n",
    "    dl_train[task] = DataLoader(convai_train_dataset[task],batch_size=128,shuffle=True,collate_fn=st.collate_fn)"
   ]
  },
  {
   "cell_type": "code",
   "execution_count": 13,
   "metadata": {},
   "outputs": [],
   "source": [
    "dl_val = {}\n",
    "for task in ['to','as','about']:\n",
    "    dl_val[task] = DataLoader(convai_val_dataset[task],batch_size=128,shuffle=True,collate_fn=st.collate_fn)"
   ]
  },
  {
   "cell_type": "code",
   "execution_count": 14,
   "metadata": {},
   "outputs": [],
   "source": [
    "dl_eval = {}\n",
    "for task in ['to','as','about']:\n",
    "    dl_eval[task] = DataLoader(md_dataset[task],batch_size=128,shuffle=False,collate_fn=st.collate_fn)"
   ]
  },
  {
   "attachments": {},
   "cell_type": "markdown",
   "metadata": {},
   "source": [
    "# ABOUT"
   ]
  },
  {
   "cell_type": "code",
   "execution_count": 15,
   "metadata": {},
   "outputs": [
    {
     "name": "stderr",
     "output_type": "stream",
     "text": [
      "Some weights of the model checkpoint at roberta-base were not used when initializing RobertaModel: ['lm_head.decoder.weight', 'lm_head.bias', 'lm_head.layer_norm.weight', 'lm_head.layer_norm.bias', 'lm_head.dense.weight', 'lm_head.dense.bias']\n",
      "- This IS expected if you are initializing RobertaModel from the checkpoint of a model trained on another task or with another architecture (e.g. initializing a BertForSequenceClassification model from a BertForPreTraining model).\n",
      "- This IS NOT expected if you are initializing RobertaModel from the checkpoint of a model that you expect to be exactly identical (initializing a BertForSequenceClassification model from a BertForSequenceClassification model).\n"
     ]
    }
   ],
   "source": [
    "model = st.SingleTaskDep(model_conf,vocab).to(device)\n",
    "save_path='m1_dep_roberta_about_brk'"
   ]
  },
  {
   "cell_type": "code",
   "execution_count": 16,
   "metadata": {},
   "outputs": [
    {
     "name": "stdout",
     "output_type": "stream",
     "text": [
      "Using scikit learn accuracy por género en el conjunto about\n",
      "GLOBAL: 0.5102040816326531\n",
      "MALE 0.0\n",
      "FEMALE 1.0 \n",
      "\n",
      "Using scikit learn accuracy por género en el conjunto to\n",
      "GLOBAL: 0.4810606060606061\n",
      "MALE 0.0\n",
      "FEMALE 1.0 \n",
      "\n",
      "Using scikit learn accuracy por género en el conjunto as\n",
      "GLOBAL: 0.48370273794002605\n",
      "MALE 0.0\n",
      "FEMALE 1.0 \n",
      "\n"
     ]
    }
   ],
   "source": [
    "for task in ['about','to','as']:\n",
    "    print(f\"Using scikit learn accuracy por género en el conjunto {task}\")\n",
    "    print(f\"GLOBAL: {train.eval_function_single_sk(model,dl_eval[task])}\")\n",
    "    print(f\"MALE {train.eval_function_single_sk(model,dl_eval[task],gender='male')}\")\n",
    "    print(f\"FEMALE {train.eval_function_single_sk(model,dl_eval[task],gender='female')}\",'\\n')"
   ]
  },
  {
   "cell_type": "code",
   "execution_count": 17,
   "metadata": {},
   "outputs": [
    {
     "data": {
      "application/vnd.jupyter.widget-view+json": {
       "model_id": "8d206570d1f74be48ed99ec4b6f6111b",
       "version_major": 2,
       "version_minor": 0
      },
      "text/plain": [
       "  0%|          | 0/57400 [00:00<?, ?it/s]"
      ]
     },
     "metadata": {},
     "output_type": "display_data"
    },
    {
     "name": "stdout",
     "output_type": "stream",
     "text": [
      "Epoch 1 \t Training loss: 0.6859272563706708 \t Validation loss: 0.6837021971153001 \t \n",
      "  1%|          | 574/57400 [01:21<2:18:13,  6.85it/s]\n",
      "Epoch 2 \t Training loss: 0.6822198496462991 \t Validation loss: 0.6835587186328436 \t \n",
      "  2%|▏         | 1148/57400 [02:57<2:05:41,  7.46it/s]\n",
      "Epoch 3 \t Training loss: 0.6812512052183782 \t Validation loss: 0.6829241776870469 \t \n",
      "  3%|▎         | 1722/57400 [04:33<2:19:40,  6.64it/s]\n",
      "Epoch 4 \t Training loss: 0.6804073071853625 \t Validation loss: 0.6821772355144307 \t \n",
      "  4%|▍         | 2296/57400 [06:09<2:22:18,  6.45it/s]\n",
      "Epoch 5 \t Training loss: 0.6787158299613912 \t Validation loss: 0.6801627136893191 \t \n",
      "  5%|▌         | 2870/57400 [07:45<2:26:29,  6.20it/s]\n",
      "Epoch 6 \t Training loss: 0.6727355637616812 \t Validation loss: 0.6618410722684052 \t \n",
      "  6%|▌         | 3444/57400 [09:21<2:20:34,  6.40it/s]\n",
      "Epoch 7 \t Training loss: 0.5653923884916804 \t Validation loss: 0.45315004354816374 \t \n",
      "  7%|▋         | 4018/57400 [10:56<2:24:52,  6.14it/s]\n",
      "Epoch 8 \t Training loss: 0.44932851740499824 \t Validation loss: 0.40003340931262 \t \n",
      "  8%|▊         | 4592/57400 [12:32<2:16:12,  6.46it/s]\n",
      "Epoch 9 \t Training loss: 0.4125915477084781 \t Validation loss: 0.3741180341122514 \t \n",
      "  9%|▉         | 5166/57400 [14:08<2:11:10,  6.64it/s]\n",
      "Epoch 10 \t Training loss: 0.38957569563845723 \t Validation loss: 0.35680509674347055 \t \n",
      " 10%|█         | 5740/57400 [15:41<2:22:43,  6.03it/s]\n",
      "Epoch 11 \t Training loss: 0.37798027818834323 \t Validation loss: 0.3511660126811367 \t \n",
      " 11%|█         | 6314/57400 [17:09<2:07:05,  6.70it/s]\n",
      "Epoch 12 \t Training loss: 0.3679403435010528 \t Validation loss: 0.3532958727771953 \t \n",
      "\n",
      "1 epoch without improvement\n",
      " 12%|█▏        | 6888/57400 [18:36<2:06:49,  6.64it/s]\n",
      "Epoch 13 \t Training loss: 0.3619752345340593 \t Validation loss: 0.3335609067294557 \t \n",
      " 13%|█▎        | 7462/57400 [20:04<2:08:31,  6.48it/s]\n",
      "Epoch 14 \t Training loss: 0.35438161018833464 \t Validation loss: 0.3305524640669257 \t \n",
      " 14%|█▍        | 8036/57400 [21:32<1:50:52,  7.42it/s]\n",
      "Epoch 15 \t Training loss: 0.35089200641635404 \t Validation loss: 0.3251474077923823 \t \n",
      " 15%|█▌        | 8610/57400 [23:00<2:03:51,  6.57it/s]\n",
      "Epoch 16 \t Training loss: 0.34479256127458 \t Validation loss: 0.3282810666803586 \t \n",
      "\n",
      "1 epoch without improvement\n",
      " 16%|█▌        | 9184/57400 [24:28<1:59:02,  6.75it/s]\n",
      "Epoch 17 \t Training loss: 0.33895203302442406 \t Validation loss: 0.31892169658410346 \t \n",
      " 17%|█▋        | 9758/57400 [25:56<1:52:24,  7.06it/s]\n",
      "Epoch 18 \t Training loss: 0.33665379090072384 \t Validation loss: 0.3280763603368048 \t \n",
      "\n",
      "1 epoch without improvement\n",
      " 18%|█▊        | 10332/57400 [27:23<1:49:19,  7.18it/s]\n",
      "Epoch 19 \t Training loss: 0.3335224981143915 \t Validation loss: 0.32262006932396 \t \n",
      "\n",
      "2 epoch without improvement\n",
      " 19%|█▉        | 10906/57400 [28:51<1:59:52,  6.46it/s]\n",
      "Epoch 20 \t Training loss: 0.3295821274926023 \t Validation loss: 0.31737445951518367 \t \n",
      " 20%|██        | 11480/57400 [30:18<1:53:39,  6.73it/s]\n",
      "Epoch 21 \t Training loss: 0.32495416423065737 \t Validation loss: 0.3125180114628905 \t \n",
      " 21%|██        | 12054/57400 [31:45<2:05:09,  6.04it/s]\n",
      "Epoch 22 \t Training loss: 0.32376640562604114 \t Validation loss: 0.3184634025319148 \t \n",
      "\n",
      "1 epoch without improvement\n",
      " 22%|██▏       | 12628/57400 [33:13<1:52:41,  6.62it/s]\n",
      "Epoch 23 \t Training loss: 0.320846765220996 \t Validation loss: 0.3135864320447889 \t \n",
      "\n",
      "2 epoch without improvement\n",
      " 23%|██▎       | 13202/57400 [34:40<1:57:17,  6.28it/s]\n",
      "Epoch 24 \t Training loss: 0.31774976467940863 \t Validation loss: 0.30972053969310503 \t \n",
      " 24%|██▍       | 13776/57400 [36:07<1:47:45,  6.75it/s]\n",
      "Epoch 25 \t Training loss: 0.3171541299346432 \t Validation loss: 0.3198163734149125 \t \n",
      "\n",
      "1 epoch without improvement\n",
      " 25%|██▌       | 14350/57400 [37:35<1:36:12,  7.46it/s]\n",
      "Epoch 26 \t Training loss: 0.3155333397436225 \t Validation loss: 0.319356064675218 \t \n",
      "\n",
      "2 epoch without improvement\n",
      " 26%|██▌       | 14924/57400 [39:02<1:46:56,  6.62it/s]\n",
      "Epoch 27 \t Training loss: 0.3131614611954639 \t Validation loss: 0.30915703914933285 \t \n",
      " 27%|██▋       | 15498/57400 [40:30<1:47:31,  6.49it/s]\n",
      "Epoch 28 \t Training loss: 0.30940991401257 \t Validation loss: 0.30986347744020365 \t \n",
      " 28%|██▊       | 16072/57400 [41:57<1:41:28,  6.79it/s]\n",
      "Epoch 29 \t Training loss: 0.30991293702806744 \t Validation loss: 0.3089068097583318 \t \n",
      " 29%|██▉       | 16646/57400 [43:25<1:45:37,  6.43it/s]\n",
      "Epoch 30 \t Training loss: 0.3074744527296322 \t Validation loss: 0.31062003262972426 \t \n",
      "\n",
      "1 epoch without improvement\n",
      " 30%|███       | 17220/57400 [44:53<1:41:32,  6.59it/s]\n",
      "Epoch 31 \t Training loss: 0.30328822714838 \t Validation loss: 0.30458625393398736 \t \n",
      " 31%|███       | 17794/57400 [46:21<1:42:06,  6.46it/s]\n",
      "Epoch 32 \t Training loss: 0.30080806560009615 \t Validation loss: 0.3157327526201636 \t \n",
      "\n",
      "1 epoch without improvement\n",
      " 32%|███▏      | 18368/57400 [47:48<1:44:08,  6.25it/s]\n",
      "Epoch 33 \t Training loss: 0.300818641764154 \t Validation loss: 0.30533965437088983 \t \n",
      " 33%|███▎      | 18942/57400 [49:16<1:27:12,  7.35it/s]\n",
      "Epoch 34 \t Training loss: 0.3007727781966173 \t Validation loss: 0.30356893524274986 \t \n",
      " 34%|███▍      | 19516/57400 [50:44<1:28:55,  7.10it/s]\n",
      "Epoch 35 \t Training loss: 0.2981070814076616 \t Validation loss: 0.30698965237302295 \t \n",
      "\n",
      "1 epoch without improvement\n",
      " 35%|███▌      | 20090/57400 [52:11<1:26:45,  7.17it/s]\n",
      "Epoch 36 \t Training loss: 0.29730705919477585 \t Validation loss: 0.3035005596229586 \t \n",
      " 36%|███▌      | 20664/57400 [53:39<1:27:06,  7.03it/s]\n",
      "Epoch 37 \t Training loss: 0.295016586027702 \t Validation loss: 0.30126526800252623 \t \n",
      " 37%|███▋      | 21238/57400 [55:07<1:24:50,  7.10it/s]\n",
      "Epoch 38 \t Training loss: 0.29453553137359717 \t Validation loss: 0.30545357728408556 \t \n",
      "\n",
      "1 epoch without improvement\n",
      " 38%|███▊      | 21812/57400 [56:34<1:23:13,  7.13it/s]\n",
      "Epoch 39 \t Training loss: 0.2929136893527018 \t Validation loss: 0.3126310511665829 \t \n",
      "\n",
      "2 epoch without improvement\n",
      " 39%|███▉      | 22386/57400 [58:02<1:33:54,  6.21it/s]\n",
      "Epoch 40 \t Training loss: 0.2909652283382748 \t Validation loss: 0.3067371208788985 \t \n",
      "\n",
      "3 epoch without improvement\n",
      " 40%|████      | 22960/57400 [59:29<1:21:11,  7.07it/s]\n",
      "Epoch 41 \t Training loss: 0.2900876738520449 \t Validation loss: 0.3006803352954024 \t \n",
      " 41%|████      | 23534/57400 [1:00:57<1:16:34,  7.37it/s]\n",
      "Epoch 42 \t Training loss: 0.2902009571782388 \t Validation loss: 0.29946568987127076 \t \n",
      " 42%|████▏     | 24108/57400 [1:02:25<1:37:51,  5.67it/s]\n",
      "Epoch 43 \t Training loss: 0.28826178667437324 \t Validation loss: 0.306920065213058 \t \n",
      "\n",
      "1 epoch without improvement\n",
      " 43%|████▎     | 24682/57400 [1:03:52<1:14:38,  7.31it/s]\n",
      "Epoch 44 \t Training loss: 0.28537180521346966 \t Validation loss: 0.29985589117316874 \t \n",
      " 44%|████▍     | 25256/57400 [1:05:19<1:13:58,  7.24it/s]\n",
      "Epoch 45 \t Training loss: 0.2842310492325743 \t Validation loss: 0.300035214020034 \t \n",
      " 45%|████▌     | 25830/57400 [1:06:47<1:16:27,  6.88it/s]\n",
      "Epoch 46 \t Training loss: 0.2850372017675991 \t Validation loss: 0.29835310603602455 \t \n",
      " 46%|████▌     | 26404/57400 [1:08:14<1:19:34,  6.49it/s]\n",
      "Epoch 47 \t Training loss: 0.2818293789018737 \t Validation loss: 0.30136499718084175 \t \n",
      "\n",
      "1 epoch without improvement\n",
      " 47%|████▋     | 26978/57400 [1:09:42<1:10:27,  7.20it/s]\n",
      "Epoch 48 \t Training loss: 0.2817504616253052 \t Validation loss: 0.30535277370679176 \t \n",
      "\n",
      "2 epoch without improvement\n",
      " 48%|████▊     | 27552/57400 [1:11:09<1:07:44,  7.34it/s]\n",
      "Epoch 49 \t Training loss: 0.27812046316234906 \t Validation loss: 0.3011286016237938 \t \n",
      "\n",
      "3 epoch without improvement\n",
      " 49%|████▉     | 28126/57400 [1:12:37<1:17:27,  6.30it/s]\n",
      "Epoch 50 \t Training loss: 0.27978879691001013 \t Validation loss: 0.2974138906446554 \t \n",
      " 50%|█████     | 28700/57400 [1:14:04<1:05:50,  7.27it/s]\n",
      "Epoch 51 \t Training loss: 0.280249687385476 \t Validation loss: 0.2977185395814605 \t \n",
      " 51%|█████     | 29274/57400 [1:15:33<1:11:54,  6.52it/s]\n",
      "Epoch 52 \t Training loss: 0.27709497168712083 \t Validation loss: 0.30082449796846356 \t \n",
      "\n",
      "1 epoch without improvement\n",
      " 52%|█████▏    | 29848/57400 [1:17:01<1:12:06,  6.37it/s]\n",
      "Epoch 53 \t Training loss: 0.2761923023321072 \t Validation loss: 0.29976577526431974 \t \n",
      "\n",
      "2 epoch without improvement\n",
      " 53%|█████▎    | 30422/57400 [1:18:27<1:00:59,  7.37it/s]\n",
      "Epoch 54 \t Training loss: 0.2764222437340623 \t Validation loss: 0.2995629457093902 \t \n",
      "\n",
      "3 epoch without improvement\n",
      " 54%|█████▍    | 30996/57400 [1:19:54<1:02:09,  7.08it/s]\n",
      "Epoch 55 \t Training loss: 0.27462468023707226 \t Validation loss: 0.29783313633021663 \t \n",
      " 55%|█████▌    | 31570/57400 [1:21:21<1:07:37,  6.37it/s]\n",
      "Epoch 56 \t Training loss: 0.27354979933035084 \t Validation loss: 0.2991270635087611 \t \n",
      "\n",
      "4 epoch without improvement\n",
      " 56%|█████▌    | 32144/57400 [1:22:49<59:06,  7.12it/s]\n",
      "Epoch 57 \t Training loss: 0.2730594473641093 \t Validation loss: 0.2986813803850594 \t \n",
      "\n",
      "5 epoch without improvement\n",
      " 57%|█████▋    | 32718/57400 [1:24:16<1:00:48,  6.77it/s]\n",
      "Epoch 58 \t Training loss: 0.27235247202555063 \t Validation loss: 0.2980173217543101 \t \n",
      " 58%|█████▊    | 33292/57400 [1:25:43<56:45,  7.08it/s]\n",
      "Epoch 59 \t Training loss: 0.2710585982801607 \t Validation loss: 0.29850209996861926 \t \n",
      "\n",
      "6 epoch without improvement\n",
      " 59%|█████▉    | 33866/57400 [1:27:10<52:25,  7.48it/s]\n",
      "Epoch 60 \t Training loss: 0.27059484415976426 \t Validation loss: 0.300347000865613 \t \n",
      "\n",
      "7 epoch without improvement\n",
      " 60%|██████    | 34440/57400 [1:28:37<55:48,  6.86it/s]\n",
      "Epoch 61 \t Training loss: 0.2723918826893647 \t Validation loss: 0.29691044481123907 \t \n",
      " 61%|██████    | 35014/57400 [1:30:05<52:15,  7.14it/s]\n",
      "Epoch 62 \t Training loss: 0.2686026609058164 \t Validation loss: 0.30721653745336047 \t \n",
      "\n",
      "1 epoch without improvement\n",
      " 62%|██████▏   | 35588/57400 [1:31:32<54:59,  6.61it/s]\n",
      "Epoch 63 \t Training loss: 0.2692534458606085 \t Validation loss: 0.29899282071550015 \t \n",
      "\n",
      "2 epoch without improvement\n",
      " 63%|██████▎   | 36162/57400 [1:32:59<48:14,  7.34it/s]\n",
      "Epoch 64 \t Training loss: 0.26825985904354666 \t Validation loss: 0.29690570725222765 \t \n",
      " 64%|██████▍   | 36736/57400 [1:34:27<52:19,  6.58it/s]\n",
      "Epoch 65 \t Training loss: 0.2664620055190777 \t Validation loss: 0.2969137377153009 \t \n",
      " 65%|██████▌   | 37310/57400 [1:35:54<53:15,  6.29it/s]\n",
      "Epoch 66 \t Training loss: 0.26783176589406743 \t Validation loss: 0.30193604276341907 \t \n",
      "\n",
      "1 epoch without improvement\n",
      " 66%|██████▌   | 37884/57400 [1:37:21<43:57,  7.40it/s]\n",
      "Epoch 67 \t Training loss: 0.26470704875133594 \t Validation loss: 0.30010123197305 \t \n",
      "\n",
      "2 epoch without improvement\n",
      " 67%|██████▋   | 38458/57400 [1:38:48<48:51,  6.46it/s]\n",
      "Epoch 68 \t Training loss: 0.2669138502238727 \t Validation loss: 0.29913859094603584 \t \n",
      "\n",
      "3 epoch without improvement\n",
      " 68%|██████▊   | 39032/57400 [1:40:15<42:18,  7.24it/s]\n",
      "Epoch 69 \t Training loss: 0.2646783152887215 \t Validation loss: 0.299733271285639 \t \n",
      "\n",
      "4 epoch without improvement\n",
      " 69%|██████▉   | 39606/57400 [1:41:42<43:42,  6.78it/s]\n",
      "Epoch 70 \t Training loss: 0.26358374504158305 \t Validation loss: 0.30229581841977976 \t \n",
      "\n",
      "5 epoch without improvement\n",
      " 70%|███████   | 40180/57400 [1:43:09<39:56,  7.19it/s]\n",
      "Epoch 71 \t Training loss: 0.26326283602245176 \t Validation loss: 0.30035132422285565 \t \n",
      "\n",
      "6 epoch without improvement\n",
      " 71%|███████   | 40754/57400 [1:44:35<38:17,  7.24it/s]\n",
      "Epoch 72 \t Training loss: 0.2631962898508597 \t Validation loss: 0.3010051336328862 \t \n",
      "\n",
      "7 epoch without improvement\n",
      " 72%|███████▏  | 41328/57400 [1:46:02<37:10,  7.20it/s]\n",
      "Epoch 73 \t Training loss: 0.26207730309057736 \t Validation loss: 0.2981867701825449 \t \n",
      "\n",
      "8 epoch without improvement\n",
      " 73%|███████▎  | 41902/57400 [1:47:29<38:43,  6.67it/s]\n",
      "Epoch 74 \t Training loss: 0.26047014328245505 \t Validation loss: 0.29957910538729976 \t \n",
      "\n",
      "9 epoch without improvement\n",
      " 74%|███████▍  | 42476/57400 [1:48:57<34:59,  7.11it/s]\n",
      "Epoch 75 \t Training loss: 0.2625073760436387 \t Validation loss: 0.3008904866242813 \t \n",
      "\n",
      "10 epoch without improvement\n",
      "Validation_loss hasn't improve in 10 epoch. Stopping training after 75 epochs...\n"
     ]
    },
    {
     "data": {
      "image/png": "[encoded data removed]",
      "text/plain": [
       "<Figure size 640x480 with 1 Axes>"
      ]
     },
     "metadata": {},
     "output_type": "display_data"
    }
   ],
   "source": [
    "learning_rate = 5e-5\n",
    "optimizer = SGD(model.parameters(), lr=learning_rate, momentum=0.9)\n",
    "num_epochs = 100\n",
    "\n",
    "train.train_function(model,num_epochs,dl_train['about'],optimizer,early_stop=10,dl_val=dl_val['about'],save_path=save_path)"
   ]
  },
  {
   "cell_type": "code",
   "execution_count": 18,
   "metadata": {},
   "outputs": [
    {
     "name": "stderr",
     "output_type": "stream",
     "text": [
      "Some weights of the model checkpoint at roberta-base were not used when initializing RobertaModel: ['lm_head.decoder.weight', 'lm_head.bias', 'lm_head.layer_norm.weight', 'lm_head.layer_norm.bias', 'lm_head.dense.weight', 'lm_head.dense.bias']\n",
      "- This IS expected if you are initializing RobertaModel from the checkpoint of a model trained on another task or with another architecture (e.g. initializing a BertForSequenceClassification model from a BertForPreTraining model).\n",
      "- This IS NOT expected if you are initializing RobertaModel from the checkpoint of a model that you expect to be exactly identical (initializing a BertForSequenceClassification model from a BertForSequenceClassification model).\n"
     ]
    },
    {
     "name": "stdout",
     "output_type": "stream",
     "text": [
      "Using scikit learn accuracy por género en el conjunto about\n",
      "GLOBAL: 0.8635204081632653\n",
      "MALE 0.875\n",
      "FEMALE 0.8525 \n",
      "\n",
      "Using scikit learn accuracy por género en el conjunto to\n",
      "GLOBAL: 0.6919191919191919\n",
      "MALE 0.7128953771289538\n",
      "FEMALE 0.6692913385826772 \n",
      "\n",
      "Using scikit learn accuracy por género en el conjunto as\n",
      "GLOBAL: 0.6883963494132985\n",
      "MALE 0.7146464646464646\n",
      "FEMALE 0.660377358490566 \n",
      "\n"
     ]
    }
   ],
   "source": [
    "model = st.SingleTaskDep(model_conf,vocab).to(device)\n",
    "model.load_state_dict(torch.load(save_path))\n",
    "for task in ['about','to','as']:\n",
    "    print(f\"Using scikit learn accuracy por género en el conjunto {task}\")\n",
    "    print(f\"GLOBAL: {train.eval_function_single_sk(model,dl_eval[task])}\")\n",
    "    print(f\"MALE {train.eval_function_single_sk(model,dl_eval[task],gender='male')}\")\n",
    "    print(f\"FEMALE {train.eval_function_single_sk(model,dl_eval[task],gender='female')}\",'\\n')"
   ]
  },
  {
   "attachments": {},
   "cell_type": "markdown",
   "metadata": {},
   "source": [
    "# TO"
   ]
  },
  {
   "cell_type": "code",
   "execution_count": 15,
   "metadata": {},
   "outputs": [
    {
     "name": "stderr",
     "output_type": "stream",
     "text": [
      "Some weights of the model checkpoint at roberta-base were not used when initializing RobertaModel: ['lm_head.layer_norm.weight', 'lm_head.bias', 'lm_head.dense.bias', 'lm_head.dense.weight', 'lm_head.decoder.weight', 'lm_head.layer_norm.bias']\n",
      "- This IS expected if you are initializing RobertaModel from the checkpoint of a model trained on another task or with another architecture (e.g. initializing a BertForSequenceClassification model from a BertForPreTraining model).\n",
      "- This IS NOT expected if you are initializing RobertaModel from the checkpoint of a model that you expect to be exactly identical (initializing a BertForSequenceClassification model from a BertForSequenceClassification model).\n"
     ]
    }
   ],
   "source": [
    "model = st.SingleTaskDep(model_conf,vocab).to(device)\n",
    "save_path='m1_dep_roberta_to_brk'"
   ]
  },
  {
   "cell_type": "code",
   "execution_count": 16,
   "metadata": {},
   "outputs": [
    {
     "data": {
      "application/vnd.jupyter.widget-view+json": {
       "model_id": "f7f5c8ef860c4db3a5f1f48d1afe0218",
       "version_major": 2,
       "version_minor": 0
      },
      "text/plain": [
       "  0%|          | 0/57400 [00:00<?, ?it/s]"
      ]
     },
     "metadata": {},
     "output_type": "display_data"
    },
    {
     "name": "stdout",
     "output_type": "stream",
     "text": [
      "Epoch 1 \t Training loss: 0.6942615484111401 \t Validation loss: 0.693470756886369 \t \n",
      "  1%|          | 574/57400 [01:19<2:09:56,  7.29it/s]\n",
      "Epoch 2 \t Training loss: 0.6935176616761742 \t Validation loss: 0.6926593719902685 \t \n",
      "  2%|▏         | 1148/57400 [02:38<1:48:15,  8.66it/s]\n",
      "Epoch 3 \t Training loss: 0.6934332689757131 \t Validation loss: 0.6937301290237298 \t \n",
      "\n",
      "1 epoch without improvement\n",
      "  3%|▎         | 1722/57400 [03:57<1:55:04,  8.06it/s]\n",
      "Epoch 4 \t Training loss: 0.69346249331996 \t Validation loss: 0.6927775275909295 \t \n",
      "  4%|▍         | 2296/57400 [05:17<2:06:21,  7.27it/s]\n",
      "Epoch 5 \t Training loss: 0.6934282907417842 \t Validation loss: 0.6924555584535761 \t \n",
      "  5%|▌         | 2870/57400 [06:37<2:01:43,  7.47it/s]\n",
      "Epoch 6 \t Training loss: 0.693372455000462 \t Validation loss: 0.6936161538301888 \t \n",
      "\n",
      "1 epoch without improvement\n",
      "  6%|▌         | 3444/57400 [07:56<1:51:55,  8.03it/s]\n",
      "Epoch 7 \t Training loss: 0.6933199030181673 \t Validation loss: 0.6931843565682233 \t \n",
      "  7%|▋         | 4018/57400 [09:16<1:43:18,  8.61it/s]\n",
      "Epoch 8 \t Training loss: 0.6932761481207007 \t Validation loss: 0.6926642828068491 \t \n",
      "  8%|▊         | 4592/57400 [10:35<1:43:48,  8.48it/s]\n",
      "Epoch 9 \t Training loss: 0.693350945096398 \t Validation loss: 0.6929570921396805 \t \n",
      "  9%|▉         | 5166/57400 [11:55<1:52:20,  7.75it/s]\n",
      "Epoch 10 \t Training loss: 0.6933334350378256 \t Validation loss: 0.6935136823330895 \t \n",
      "\n",
      "2 epoch without improvement\n",
      " 10%|█         | 5740/57400 [13:15<1:46:23,  8.09it/s]\n",
      "Epoch 11 \t Training loss: 0.693248803503422 \t Validation loss: 0.693445207708973 \t \n",
      " 11%|█         | 6314/57400 [14:34<1:54:34,  7.43it/s]\n",
      "Epoch 12 \t Training loss: 0.6933474184536352 \t Validation loss: 0.6937350459017996 \t \n",
      "\n",
      "3 epoch without improvement\n",
      " 12%|█▏        | 6888/57400 [15:53<1:40:21,  8.39it/s]\n",
      "Epoch 13 \t Training loss: 0.693284231092041 \t Validation loss: 0.692655343120381 \t \n",
      " 13%|█▎        | 7462/57400 [17:12<1:43:22,  8.05it/s]\n",
      "Epoch 14 \t Training loss: 0.6932004495987909 \t Validation loss: 0.6926353038367579 \t \n",
      " 14%|█▍        | 8036/57400 [18:30<1:42:55,  7.99it/s]\n",
      "Epoch 15 \t Training loss: 0.6933793439059307 \t Validation loss: 0.6928418288796635 \t \n",
      " 15%|█▌        | 8610/57400 [19:48<1:44:46,  7.76it/s]\n",
      "Epoch 16 \t Training loss: 0.6933869756888014 \t Validation loss: 0.6925719006586883 \t \n",
      " 16%|█▌        | 9184/57400 [21:07<1:47:22,  7.48it/s]\n",
      "Epoch 17 \t Training loss: 0.6933077624658259 \t Validation loss: 0.6926085150848 \t \n",
      " 17%|█▋        | 9758/57400 [22:26<1:45:35,  7.52it/s]\n",
      "Epoch 18 \t Training loss: 0.6932838410658289 \t Validation loss: 0.6919893571885966 \t \n",
      " 18%|█▊        | 10332/57400 [23:45<1:44:57,  7.47it/s]\n",
      "Epoch 19 \t Training loss: 0.6933204876421221 \t Validation loss: 0.6936133908013166 \t \n",
      "\n",
      "1 epoch without improvement\n",
      " 19%|█▉        | 10906/57400 [25:03<1:45:38,  7.34it/s]\n",
      "Epoch 20 \t Training loss: 0.6932921223731822 \t Validation loss: 0.6926328166056488 \t \n",
      " 20%|██        | 11480/57400 [26:21<1:28:45,  8.62it/s]\n",
      "Epoch 21 \t Training loss: 0.6933411320327466 \t Validation loss: 0.6923428662752701 \t \n",
      " 21%|██        | 12054/57400 [27:40<1:43:15,  7.32it/s]\n",
      "Epoch 22 \t Training loss: 0.6932079473231312 \t Validation loss: 0.6926309880563768 \t \n",
      " 22%|██▏       | 12628/57400 [28:58<1:32:55,  8.03it/s]\n",
      "Epoch 23 \t Training loss: 0.6932675672325108 \t Validation loss: 0.6925198880292601 \t \n",
      " 23%|██▎       | 13202/57400 [30:17<1:33:19,  7.89it/s]\n",
      "Epoch 24 \t Training loss: 0.6931937030591201 \t Validation loss: 0.6929619958845236 \t \n",
      " 24%|██▍       | 13776/57400 [31:35<1:40:48,  7.21it/s]\n",
      "Epoch 25 \t Training loss: 0.6933039075821534 \t Validation loss: 0.6931606652372975 \t \n",
      "\n",
      "2 epoch without improvement\n",
      " 25%|██▌       | 14350/57400 [32:54<1:29:47,  7.99it/s]\n",
      "Epoch 26 \t Training loss: 0.6932021419968755 \t Validation loss: 0.6924159678362184 \t \n",
      " 26%|██▌       | 14924/57400 [34:12<1:35:27,  7.42it/s]\n",
      "Epoch 27 \t Training loss: 0.6932861739542426 \t Validation loss: 0.6929137939113682 \t \n",
      " 27%|██▋       | 15498/57400 [35:30<1:32:58,  7.51it/s]\n",
      "Epoch 28 \t Training loss: 0.6932181323446879 \t Validation loss: 0.6938229435581272 \t \n",
      "\n",
      "3 epoch without improvement\n",
      " 28%|██▊       | 16072/57400 [36:49<1:30:48,  7.58it/s]\n",
      "Epoch 29 \t Training loss: 0.6932337713989232 \t Validation loss: 0.6926739337080616 \t \n",
      " 29%|██▉       | 16646/57400 [38:07<1:26:11,  7.88it/s]\n",
      "Epoch 30 \t Training loss: 0.6933328432488525 \t Validation loss: 0.6927553021301658 \t \n",
      " 30%|███       | 17220/57400 [39:26<1:28:48,  7.54it/s]\n",
      "Epoch 31 \t Training loss: 0.6932758151031122 \t Validation loss: 0.69267079082586 \t \n",
      " 31%|███       | 17794/57400 [40:45<1:32:21,  7.15it/s]\n",
      "Epoch 32 \t Training loss: 0.6930867392011636 \t Validation loss: 0.6928338539802422 \t \n",
      " 32%|███▏      | 18368/57400 [42:03<1:26:51,  7.49it/s]\n",
      "Epoch 33 \t Training loss: 0.6932258281973597 \t Validation loss: 0.6930401173688597 \t \n",
      "\n",
      "4 epoch without improvement\n",
      " 33%|███▎      | 18942/57400 [43:21<1:13:50,  8.68it/s]\n",
      "Epoch 34 \t Training loss: 0.6933098122840975 \t Validation loss: 0.6928780685036869 \t \n",
      " 34%|███▍      | 19516/57400 [44:40<1:20:18,  7.86it/s]\n",
      "Epoch 35 \t Training loss: 0.6932397931294989 \t Validation loss: 0.6932061051918288 \t \n",
      "\n",
      "5 epoch without improvement\n",
      " 35%|███▌      | 20090/57400 [45:58<1:18:22,  7.93it/s]\n",
      "Epoch 36 \t Training loss: 0.6932976251072169 \t Validation loss: 0.6926077826548431 \t \n",
      " 36%|███▌      | 20664/57400 [47:17<1:23:19,  7.35it/s]\n",
      "Epoch 37 \t Training loss: 0.693192895385031 \t Validation loss: 0.6935982815289902 \t \n",
      "\n",
      "6 epoch without improvement\n",
      " 37%|███▋      | 21238/57400 [48:35<1:15:03,  8.03it/s]\n",
      "Epoch 38 \t Training loss: 0.6933154756599187 \t Validation loss: 0.6936002989946786 \t \n",
      "\n",
      "7 epoch without improvement\n",
      " 38%|███▊      | 21812/57400 [49:54<1:14:50,  7.93it/s]\n",
      "Epoch 39 \t Training loss: 0.6932492261356593 \t Validation loss: 0.6934888554831683 \t \n",
      "\n",
      "8 epoch without improvement\n",
      " 39%|███▉      | 22386/57400 [51:12<1:23:48,  6.96it/s]\n",
      "Epoch 40 \t Training loss: 0.6932676814574398 \t Validation loss: 0.6926108447171874 \t \n",
      " 40%|████      | 22960/57400 [52:30<1:12:27,  7.92it/s]\n",
      "Epoch 41 \t Training loss: 0.6931463820593697 \t Validation loss: 0.6933728597931943 \t \n",
      "\n",
      "9 epoch without improvement\n",
      " 41%|████      | 23534/57400 [53:49<1:14:18,  7.60it/s]\n",
      "Epoch 42 \t Training loss: 0.6932349778218552 \t Validation loss: 0.6927425356234534 \t \n",
      " 42%|████▏     | 24108/57400 [55:07<1:14:01,  7.50it/s]\n",
      "Epoch 43 \t Training loss: 0.693178309692323 \t Validation loss: 0.6933076401888314 \t \n",
      "\n",
      "10 epoch without improvement\n",
      "Validation_loss hasn't improve in 10 epoch. Stopping training after 43 epochs...\n"
     ]
    },
    {
     "data": {
      "image/png": "[encoded data removed]",
      "text/plain": [
       "<Figure size 640x480 with 1 Axes>"
      ]
     },
     "metadata": {},
     "output_type": "display_data"
    }
   ],
   "source": [
    "learning_rate = 5e-5\n",
    "optimizer = SGD(model.parameters(), lr=learning_rate, momentum=0.9)\n",
    "num_epochs = 100\n",
    "\n",
    "train.train_function(model,num_epochs,dl_train['to'],optimizer,early_stop=10,dl_val=dl_val['to'],save_path=save_path)"
   ]
  },
  {
   "cell_type": "code",
   "execution_count": 17,
   "metadata": {},
   "outputs": [
    {
     "name": "stderr",
     "output_type": "stream",
     "text": [
      "Some weights of the model checkpoint at roberta-base were not used when initializing RobertaModel: ['lm_head.layer_norm.weight', 'lm_head.bias', 'lm_head.dense.bias', 'lm_head.dense.weight', 'lm_head.decoder.weight', 'lm_head.layer_norm.bias']\n",
      "- This IS expected if you are initializing RobertaModel from the checkpoint of a model trained on another task or with another architecture (e.g. initializing a BertForSequenceClassification model from a BertForPreTraining model).\n",
      "- This IS NOT expected if you are initializing RobertaModel from the checkpoint of a model that you expect to be exactly identical (initializing a BertForSequenceClassification model from a BertForSequenceClassification model).\n"
     ]
    },
    {
     "name": "stdout",
     "output_type": "stream",
     "text": [
      "Using scikit learn accuracy por género en el conjunto about\n",
      "GLOBAL: 0.5051020408163265\n",
      "MALE 0.0026041666666666665\n",
      "FEMALE 0.9875 \n",
      "\n",
      "Using scikit learn accuracy por género en el conjunto to\n",
      "GLOBAL: 0.4772727272727273\n",
      "MALE 0.004866180048661801\n",
      "FEMALE 0.9868766404199475 \n",
      "\n",
      "Using scikit learn accuracy por género en el conjunto as\n",
      "GLOBAL: 0.48370273794002605\n",
      "MALE 0.022727272727272728\n",
      "FEMALE 0.9757412398921833 \n",
      "\n"
     ]
    }
   ],
   "source": [
    "model = st.SingleTaskDep(model_conf,vocab).to(device)\n",
    "model.load_state_dict(torch.load(save_path))\n",
    "for task in ['about','to','as']:\n",
    "    print(f\"Using scikit learn accuracy por género en el conjunto {task}\")\n",
    "    print(f\"GLOBAL: {train.eval_function_single_sk(model,dl_eval[task])}\")\n",
    "    print(f\"MALE {train.eval_function_single_sk(model,dl_eval[task],gender='male')}\")\n",
    "    print(f\"FEMALE {train.eval_function_single_sk(model,dl_eval[task],gender='female')}\",'\\n')"
   ]
  },
  {
   "attachments": {},
   "cell_type": "markdown",
   "metadata": {},
   "source": [
    "# AS"
   ]
  },
  {
   "cell_type": "code",
   "execution_count": 18,
   "metadata": {},
   "outputs": [
    {
     "name": "stderr",
     "output_type": "stream",
     "text": [
      "Some weights of the model checkpoint at roberta-base were not used when initializing RobertaModel: ['lm_head.layer_norm.weight', 'lm_head.bias', 'lm_head.dense.bias', 'lm_head.dense.weight', 'lm_head.decoder.weight', 'lm_head.layer_norm.bias']\n",
      "- This IS expected if you are initializing RobertaModel from the checkpoint of a model trained on another task or with another architecture (e.g. initializing a BertForSequenceClassification model from a BertForPreTraining model).\n",
      "- This IS NOT expected if you are initializing RobertaModel from the checkpoint of a model that you expect to be exactly identical (initializing a BertForSequenceClassification model from a BertForSequenceClassification model).\n"
     ]
    }
   ],
   "source": [
    "model = st.SingleTaskDep(model_conf,vocab).to(device)\n",
    "save_path='m1_dep_roberta_as_brk'"
   ]
  },
  {
   "cell_type": "code",
   "execution_count": 19,
   "metadata": {},
   "outputs": [
    {
     "data": {
      "application/vnd.jupyter.widget-view+json": {
       "model_id": "b5ba90f36ea14be8a7fcf3f69997c30c",
       "version_major": 2,
       "version_minor": 0
      },
      "text/plain": [
       "  0%|          | 0/57400 [00:00<?, ?it/s]"
      ]
     },
     "metadata": {},
     "output_type": "display_data"
    },
    {
     "name": "stdout",
     "output_type": "stream",
     "text": [
      "Epoch 1 \t Training loss: 0.6935585387284747 \t Validation loss: 0.6930940919003244 \t \n",
      "  1%|          | 574/57400 [01:18<1:55:05,  8.23it/s]\n",
      "Epoch 2 \t Training loss: 0.6934400507174302 \t Validation loss: 0.6930750224549892 \t \n",
      "  2%|▏         | 1148/57400 [02:37<2:05:07,  7.49it/s]\n",
      "Epoch 3 \t Training loss: 0.693545953529637 \t Validation loss: 0.6928897055528932 \t \n",
      "  3%|▎         | 1722/57400 [03:56<2:03:05,  7.54it/s]\n",
      "Epoch 4 \t Training loss: 0.6935135814578691 \t Validation loss: 0.6926078018495592 \t \n",
      "  4%|▍         | 2296/57400 [05:16<2:33:42,  5.98it/s]\n",
      "Epoch 5 \t Training loss: 0.6934799901907452 \t Validation loss: 0.6925430691848367 \t \n",
      "  5%|▌         | 2870/57400 [06:34<1:44:00,  8.74it/s]\n",
      "Epoch 6 \t Training loss: 0.6933255402260956 \t Validation loss: 0.6926154827667494 \t \n",
      "  6%|▌         | 3444/57400 [07:53<2:04:49,  7.20it/s]\n",
      "Epoch 7 \t Training loss: 0.6935176507728856 \t Validation loss: 0.6929892341969377 \t \n",
      "  7%|▋         | 4018/57400 [09:11<1:52:08,  7.93it/s]\n",
      "Epoch 8 \t Training loss: 0.6934488730355838 \t Validation loss: 0.6928345167030723 \t \n",
      "  8%|▊         | 4592/57400 [10:30<1:57:31,  7.49it/s]\n",
      "Epoch 9 \t Training loss: 0.6934275301075978 \t Validation loss: 0.6936308640544697 \t \n",
      "\n",
      "1 epoch without improvement\n",
      "  9%|▉         | 5166/57400 [11:48<1:49:40,  7.94it/s]\n",
      "Epoch 10 \t Training loss: 0.6933087098058508 \t Validation loss: 0.6928587919574672 \t \n",
      " 10%|█         | 5740/57400 [13:06<1:47:52,  7.98it/s]\n",
      "Epoch 11 \t Training loss: 0.693337277252915 \t Validation loss: 0.6935332185131008 \t \n",
      " 11%|█         | 6314/57400 [14:25<1:58:36,  7.18it/s]\n",
      "Epoch 12 \t Training loss: 0.6932913289252889 \t Validation loss: 0.6929597975844044 \t \n",
      " 12%|█▏        | 6888/57400 [15:44<1:43:49,  8.11it/s]\n",
      "Epoch 13 \t Training loss: 0.693271549840422 \t Validation loss: 0.6926107719793158 \t \n",
      " 13%|█▎        | 7462/57400 [17:02<1:35:09,  8.75it/s]\n",
      "Epoch 14 \t Training loss: 0.6933229736957816 \t Validation loss: 0.6930167937682847 \t \n",
      " 14%|█▍        | 8036/57400 [18:21<1:52:13,  7.33it/s]\n",
      "Epoch 15 \t Training loss: 0.6932742701590269 \t Validation loss: 0.6936900110568031 \t \n",
      "\n",
      "2 epoch without improvement\n",
      " 15%|█▌        | 8610/57400 [19:39<1:49:26,  7.43it/s]\n",
      "Epoch 16 \t Training loss: 0.6932711832822408 \t Validation loss: 0.6923514594465999 \t \n",
      " 16%|█▌        | 9184/57400 [20:58<1:46:42,  7.53it/s]\n",
      "Epoch 17 \t Training loss: 0.6932592530076097 \t Validation loss: 0.6923955396070318 \t \n",
      " 17%|█▋        | 9758/57400 [22:17<1:49:06,  7.28it/s]\n",
      "Epoch 18 \t Training loss: 0.6932789912830246 \t Validation loss: 0.6927529684567856 \t \n",
      " 18%|█▊        | 10332/57400 [23:35<1:40:07,  7.83it/s]\n",
      "Epoch 19 \t Training loss: 0.6932949571243977 \t Validation loss: 0.6932725775039802 \t \n",
      " 19%|█▉        | 10906/57400 [24:53<1:43:24,  7.49it/s]\n",
      "Epoch 20 \t Training loss: 0.6934149799031247 \t Validation loss: 0.6931602924557055 \t \n",
      " 20%|██        | 11480/57400 [26:12<1:43:31,  7.39it/s]\n",
      "Epoch 21 \t Training loss: 0.6932446863177761 \t Validation loss: 0.6924144878225812 \t \n",
      " 21%|██        | 12054/57400 [27:30<1:42:59,  7.34it/s]\n",
      "Epoch 22 \t Training loss: 0.6932506690041944 \t Validation loss: 0.6933036982002905 \t \n",
      " 22%|██▏       | 12628/57400 [28:49<1:26:19,  8.64it/s]\n",
      "Epoch 23 \t Training loss: 0.6931898575211236 \t Validation loss: 0.6928529941429526 \t \n",
      " 23%|██▎       | 13202/57400 [30:07<1:31:47,  8.02it/s]\n",
      "Epoch 24 \t Training loss: 0.6933284759106121 \t Validation loss: 0.692198447251724 \t \n",
      " 24%|██▍       | 13776/57400 [31:26<1:37:08,  7.48it/s]\n",
      "Epoch 25 \t Training loss: 0.6932268165545181 \t Validation loss: 0.6929565728720972 \t \n",
      " 25%|██▌       | 14350/57400 [32:45<1:22:28,  8.70it/s]\n",
      "Epoch 26 \t Training loss: 0.6932674621455761 \t Validation loss: 0.6923155309790272 \t \n",
      " 26%|██▌       | 14924/57400 [34:03<1:30:43,  7.80it/s]\n",
      "Epoch 27 \t Training loss: 0.693178471995563 \t Validation loss: 0.6930070630574631 \t \n",
      " 27%|██▋       | 15498/57400 [35:21<1:35:02,  7.35it/s]\n",
      "Epoch 28 \t Training loss: 0.6932564019533816 \t Validation loss: 0.6927587531380734 \t \n",
      " 28%|██▊       | 16072/57400 [36:39<1:19:49,  8.63it/s]\n",
      "Epoch 29 \t Training loss: 0.6931970676063245 \t Validation loss: 0.6923172110218113 \t \n",
      " 29%|██▉       | 16646/57400 [37:58<1:24:21,  8.05it/s]\n",
      "Epoch 30 \t Training loss: 0.6930557366862945 \t Validation loss: 0.6930879809088626 \t \n",
      " 30%|███       | 17220/57400 [39:16<1:17:04,  8.69it/s]\n",
      "Epoch 31 \t Training loss: 0.6932385844220683 \t Validation loss: 0.6929693666555113 \t \n",
      " 31%|███       | 17794/57400 [40:34<1:31:45,  7.19it/s]\n",
      "Epoch 32 \t Training loss: 0.6931279421060342 \t Validation loss: 0.6926912837109324 \t \n",
      " 32%|███▏      | 18368/57400 [41:53<1:28:52,  7.32it/s]\n",
      "Epoch 33 \t Training loss: 0.6931005621828684 \t Validation loss: 0.6923419742260949 \t \n",
      " 33%|███▎      | 18942/57400 [43:11<1:14:47,  8.57it/s]\n",
      "Epoch 34 \t Training loss: 0.6930979840223798 \t Validation loss: 0.6934991317280268 \t \n",
      "\n",
      "1 epoch without improvement\n",
      " 34%|███▍      | 19516/57400 [44:29<1:18:44,  8.02it/s]\n",
      "Epoch 35 \t Training loss: 0.6930722394886748 \t Validation loss: 0.6928845371230173 \t \n",
      " 35%|███▌      | 20090/57400 [45:48<1:17:13,  8.05it/s]\n",
      "Epoch 36 \t Training loss: 0.6931131075068218 \t Validation loss: 0.6923674658193426 \t \n",
      " 36%|███▌      | 20664/57400 [47:06<1:23:53,  7.30it/s]\n",
      "Epoch 37 \t Training loss: 0.6929424259720779 \t Validation loss: 0.692533837536634 \t \n",
      " 37%|███▋      | 21238/57400 [48:24<1:14:16,  8.11it/s]\n",
      "Epoch 38 \t Training loss: 0.6930108586462532 \t Validation loss: 0.6925566580335972 \t \n",
      " 38%|███▊      | 21812/57400 [49:42<1:13:58,  8.02it/s]\n",
      "Epoch 39 \t Training loss: 0.6930512111984479 \t Validation loss: 0.6932035674483089 \t \n",
      "\n",
      "2 epoch without improvement\n",
      " 39%|███▉      | 22386/57400 [51:01<1:18:22,  7.45it/s]\n",
      "Epoch 40 \t Training loss: 0.6930831185824364 \t Validation loss: 0.6924321772688526 \t \n",
      " 40%|████      | 22960/57400 [52:19<1:11:43,  8.00it/s]\n",
      "Epoch 41 \t Training loss: 0.6929325623379352 \t Validation loss: 0.691990800833298 \t \n",
      " 41%|████      | 23534/57400 [53:38<1:16:35,  7.37it/s]\n",
      "Epoch 42 \t Training loss: 0.6930207488636522 \t Validation loss: 0.692333917496568 \t \n",
      " 42%|████▏     | 24108/57400 [54:57<1:09:38,  7.97it/s]\n",
      "Epoch 43 \t Training loss: 0.6930393131144786 \t Validation loss: 0.6926495352033841 \t \n",
      " 43%|████▎     | 24682/57400 [56:15<1:12:08,  7.56it/s]\n",
      "Epoch 44 \t Training loss: 0.6928741732540862 \t Validation loss: 0.6929804137197592 \t \n",
      " 44%|████▍     | 25256/57400 [57:33<1:13:48,  7.26it/s]\n",
      "Epoch 45 \t Training loss: 0.6928140632159203 \t Validation loss: 0.6930955628217277 \t \n",
      "\n",
      "1 epoch without improvement\n",
      " 45%|████▌     | 25830/57400 [58:52<1:12:05,  7.30it/s]\n",
      "Epoch 46 \t Training loss: 0.6928472164823618 \t Validation loss: 0.6927282992055861 \t \n",
      " 46%|████▌     | 26404/57400 [1:00:10<1:04:15,  8.04it/s]\n",
      "Epoch 47 \t Training loss: 0.6927947357348864 \t Validation loss: 0.6927355315725682 \t \n",
      " 47%|████▋     | 26978/57400 [1:01:29<1:11:23,  7.10it/s]\n",
      "Epoch 48 \t Training loss: 0.692641040485495 \t Validation loss: 0.6919228969994238 \t \n",
      " 48%|████▊     | 27552/57400 [1:02:48<1:01:23,  8.10it/s]\n",
      "Epoch 49 \t Training loss: 0.6926100174101387 \t Validation loss: 0.6920409071243415 \t \n",
      " 49%|████▉     | 28126/57400 [1:04:06<1:01:45,  7.90it/s]\n",
      "Epoch 50 \t Training loss: 0.6927422466801434 \t Validation loss: 0.6927200858875856 \t \n",
      " 50%|█████     | 28700/57400 [1:05:24<1:06:08,  7.23it/s]\n",
      "Epoch 51 \t Training loss: 0.6926647389391989 \t Validation loss: 0.6923376897634086 \t \n",
      " 51%|█████     | 29274/57400 [1:06:43<1:02:59,  7.44it/s]\n",
      "Epoch 52 \t Training loss: 0.6925861010983431 \t Validation loss: 0.692488604682987 \t \n",
      " 52%|█████▏    | 29848/57400 [1:08:01<1:05:05,  7.06it/s]\n",
      "Epoch 53 \t Training loss: 0.6924977365894185 \t Validation loss: 0.6925706893710767 \t \n",
      " 53%|█████▎    | 30422/57400 [1:09:20<1:01:41,  7.29it/s]\n",
      "Epoch 54 \t Training loss: 0.6924394447005999 \t Validation loss: 0.692423328504724 \t \n",
      " 54%|█████▍    | 30996/57400 [1:10:38<58:36,  7.51it/s]\n",
      "Epoch 55 \t Training loss: 0.6926329707019421 \t Validation loss: 0.6925880868556136 \t \n",
      " 55%|█████▌    | 31570/57400 [1:11:57<57:59,  7.42it/s]\n",
      "Epoch 56 \t Training loss: 0.6923979909162488 \t Validation loss: 0.6923805788411932 \t \n",
      " 56%|█████▌    | 32144/57400 [1:13:16<48:08,  8.74it/s]\n",
      "Epoch 57 \t Training loss: 0.6923793591688734 \t Validation loss: 0.6922133544744071 \t \n",
      " 57%|█████▋    | 32718/57400 [1:14:35<51:10,  8.04it/s]\n",
      "Epoch 58 \t Training loss: 0.6923449772575591 \t Validation loss: 0.6925253888307992 \t \n",
      " 58%|█████▊    | 33292/57400 [1:15:53<55:09,  7.28it/s]\n",
      "Epoch 59 \t Training loss: 0.6922518716871946 \t Validation loss: 0.6918750981153068 \t \n",
      " 59%|█████▉    | 33866/57400 [1:17:12<49:11,  7.97it/s]\n",
      "Epoch 60 \t Training loss: 0.692248373600664 \t Validation loss: 0.6921011714612023 \t \n",
      " 60%|██████    | 34440/57400 [1:18:31<47:28,  8.06it/s]\n",
      "Epoch 61 \t Training loss: 0.6921930951731545 \t Validation loss: 0.6924305467282311 \t \n",
      " 61%|██████    | 35014/57400 [1:19:49<45:41,  8.17it/s]\n",
      "Epoch 62 \t Training loss: 0.6921933843699066 \t Validation loss: 0.6921192801604836 \t \n",
      " 62%|██████▏   | 35588/57400 [1:21:08<44:15,  8.21it/s]\n",
      "Epoch 63 \t Training loss: 0.6919395740854616 \t Validation loss: 0.6923921936649388 \t \n",
      " 63%|██████▎   | 36162/57400 [1:22:26<47:53,  7.39it/s]\n",
      "Epoch 64 \t Training loss: 0.6918050043466615 \t Validation loss: 0.6926447900675111 \t \n",
      " 64%|██████▍   | 36736/57400 [1:23:45<54:57,  6.27it/s]\n",
      "Epoch 65 \t Training loss: 0.6918373658266632 \t Validation loss: 0.6918849581379002 \t \n",
      " 65%|██████▌   | 37310/57400 [1:25:03<44:45,  7.48it/s]\n",
      "Epoch 66 \t Training loss: 0.6916900882529881 \t Validation loss: 0.6920577126034235 \t \n",
      " 66%|██████▌   | 37884/57400 [1:26:22<41:35,  7.82it/s]\n",
      "Epoch 67 \t Training loss: 0.6916976410129759 \t Validation loss: 0.6915864904048079 \t \n",
      " 67%|██████▋   | 38458/57400 [1:27:41<42:33,  7.42it/s]\n",
      "Epoch 68 \t Training loss: 0.6915699266390518 \t Validation loss: 0.6916364491996119 \t \n",
      " 68%|██████▊   | 39032/57400 [1:28:59<34:45,  8.81it/s]\n",
      "Epoch 69 \t Training loss: 0.6915122236316628 \t Validation loss: 0.6910503476353015 \t \n",
      " 69%|██████▉   | 39606/57400 [1:30:18<37:01,  8.01it/s]\n",
      "Epoch 70 \t Training loss: 0.6910959643146303 \t Validation loss: 0.6921719423795151 \t \n",
      "\n",
      "1 epoch without improvement\n",
      " 70%|███████   | 40180/57400 [1:31:37<38:12,  7.51it/s]\n",
      "Epoch 71 \t Training loss: 0.6911858736637992 \t Validation loss: 0.6921110577502493 \t \n",
      "\n",
      "2 epoch without improvement\n",
      " 71%|███████   | 40754/57400 [1:32:55<36:33,  7.59it/s]\n",
      "Epoch 72 \t Training loss: 0.6911717782037183 \t Validation loss: 0.6925024339708231 \t \n",
      "\n",
      "3 epoch without improvement\n",
      " 72%|███████▏  | 41328/57400 [1:34:14<37:29,  7.15it/s]\n",
      "Epoch 73 \t Training loss: 0.6909608984242749 \t Validation loss: 0.6922220890804872 \t \n",
      "\n",
      "4 epoch without improvement\n",
      " 73%|███████▎  | 41902/57400 [1:35:32<36:02,  7.17it/s]\n",
      "Epoch 74 \t Training loss: 0.6908174179987625 \t Validation loss: 0.6913328251596225 \t \n",
      " 74%|███████▍  | 42476/57400 [1:36:51<30:37,  8.12it/s]\n",
      "Epoch 75 \t Training loss: 0.690963760797155 \t Validation loss: 0.6916381787445586 \t \n",
      " 75%|███████▌  | 43050/57400 [1:38:10<34:06,  7.01it/s]\n",
      "Epoch 76 \t Training loss: 0.690963551038649 \t Validation loss: 0.691441045979322 \t \n",
      " 76%|███████▌  | 43624/57400 [1:39:28<32:31,  7.06it/s]\n",
      "Epoch 77 \t Training loss: 0.6905782113714916 \t Validation loss: 0.6918523948071367 \t \n",
      " 77%|███████▋  | 44198/57400 [1:40:47<30:03,  7.32it/s]\n",
      "Epoch 78 \t Training loss: 0.6905888391704094 \t Validation loss: 0.6913822909532967 \t \n",
      " 78%|███████▊  | 44772/57400 [1:42:05<24:31,  8.58it/s]\n",
      "Epoch 79 \t Training loss: 0.6904135229072504 \t Validation loss: 0.6918896780175677 \t \n",
      " 79%|███████▉  | 45346/57400 [1:43:24<26:31,  7.57it/s]\n",
      "Epoch 80 \t Training loss: 0.6901780247480612 \t Validation loss: 0.6909665263305276 \t \n",
      " 80%|████████  | 45920/57400 [1:44:43<25:38,  7.46it/s]\n",
      "Epoch 81 \t Training loss: 0.690515924102338 \t Validation loss: 0.6923890022908227 \t \n",
      "\n",
      "1 epoch without improvement\n",
      " 81%|████████  | 46494/57400 [1:46:01<22:04,  8.24it/s]\n",
      "Epoch 82 \t Training loss: 0.6901282221598077 \t Validation loss: 0.6926802588721453 \t \n",
      "\n",
      "2 epoch without improvement\n",
      " 82%|████████▏ | 47068/57400 [1:47:20<21:14,  8.11it/s]\n",
      "Epoch 83 \t Training loss: 0.6906024709811194 \t Validation loss: 0.6904580987105935 \t \n",
      " 83%|████████▎ | 47642/57400 [1:48:38<21:47,  7.47it/s]\n",
      "Epoch 84 \t Training loss: 0.6898820446966417 \t Validation loss: 0.6919055712425103 \t \n",
      "\n",
      "1 epoch without improvement\n",
      " 84%|████████▍ | 48216/57400 [1:49:57<20:32,  7.45it/s]\n",
      "Epoch 85 \t Training loss: 0.6898860915820357 \t Validation loss: 0.6918705216908859 \t \n",
      "\n",
      "2 epoch without improvement\n",
      " 85%|████████▌ | 48790/57400 [1:51:15<19:17,  7.44it/s]\n",
      "Epoch 86 \t Training loss: 0.6901466500676052 \t Validation loss: 0.692160315432791 \t \n",
      "\n",
      "3 epoch without improvement\n",
      " 86%|████████▌ | 49364/57400 [1:52:34<16:37,  8.06it/s]\n",
      "Epoch 87 \t Training loss: 0.6898601200522446 \t Validation loss: 0.6917794922650871 \t \n",
      "\n",
      "4 epoch without improvement\n",
      " 87%|████████▋ | 49938/57400 [1:53:53<18:25,  6.75it/s]\n",
      "Epoch 88 \t Training loss: 0.6900300275573332 \t Validation loss: 0.6908108167729136 \t \n",
      " 88%|████████▊ | 50512/57400 [1:55:11<15:59,  7.18it/s]\n",
      "Epoch 89 \t Training loss: 0.6899286419257055 \t Validation loss: 0.6907077472088701 \t \n",
      " 89%|████████▉ | 51086/57400 [1:56:30<15:46,  6.67it/s]\n",
      "Epoch 90 \t Training loss: 0.6898528891988748 \t Validation loss: 0.6917891108383567 \t \n",
      "\n",
      "5 epoch without improvement\n",
      " 90%|█████████ | 51660/57400 [1:57:48<12:10,  7.85it/s]\n",
      "Epoch 91 \t Training loss: 0.6901465340773818 \t Validation loss: 0.6912022707826 \t \n",
      " 91%|█████████ | 52234/57400 [1:59:07<12:00,  7.17it/s]\n",
      "Epoch 92 \t Training loss: 0.689375437199031 \t Validation loss: 0.6903571860264923 \t \n",
      " 92%|█████████▏| 52808/57400 [2:00:26<08:42,  8.78it/s]\n",
      "Epoch 93 \t Training loss: 0.68960694672754 \t Validation loss: 0.6913520208859848 \t \n",
      " 93%|█████████▎| 53382/57400 [2:01:45<09:14,  7.25it/s]\n",
      "Epoch 94 \t Training loss: 0.6895667337374405 \t Validation loss: 0.692105770111084 \t \n",
      "\n",
      "1 epoch without improvement\n",
      " 94%|█████████▍| 53956/57400 [2:03:03<06:56,  8.26it/s]\n",
      "Epoch 95 \t Training loss: 0.6899965768907128 \t Validation loss: 0.6916797979403351 \t \n",
      "\n",
      "2 epoch without improvement\n",
      " 95%|█████████▌| 54530/57400 [2:04:22<06:45,  7.08it/s]\n",
      "Epoch 96 \t Training loss: 0.6899578102997371 \t Validation loss: 0.6897686780509302 \t \n",
      " 96%|█████████▌| 55104/57400 [2:05:41<05:23,  7.10it/s]\n",
      "Epoch 97 \t Training loss: 0.6895496366539068 \t Validation loss: 0.6915054725388349 \t \n",
      "\n",
      "1 epoch without improvement\n",
      " 97%|█████████▋| 55678/57400 [2:07:00<03:57,  7.24it/s]\n",
      "Epoch 98 \t Training loss: 0.6896893610522307 \t Validation loss: 0.6922883179228184 \t \n",
      "\n",
      "2 epoch without improvement\n",
      " 98%|█████████▊| 56252/57400 [2:08:19<02:20,  8.18it/s]\n",
      "Epoch 99 \t Training loss: 0.6901338512681503 \t Validation loss: 0.6919383154077045 \t \n",
      "\n",
      "3 epoch without improvement\n",
      " 99%|█████████▉| 56826/57400 [2:09:38<01:07,  8.49it/s]\n",
      "Epoch 100 \t Training loss: 0.6899976587046314 \t Validation loss: 0.6921955791570372 \t \n",
      "\n",
      "4 epoch without improvement\n",
      "100%|██████████| 57400/57400 [2:10:56<00:00,  7.43it/s]\n"
     ]
    },
    {
     "data": {
      "image/png": "[encoded data removed]",
      "text/plain": [
       "<Figure size 640x480 with 1 Axes>"
      ]
     },
     "metadata": {},
     "output_type": "display_data"
    }
   ],
   "source": [
    "learning_rate = 5e-5\n",
    "optimizer = SGD(model.parameters(), lr=learning_rate, momentum=0.9)\n",
    "num_epochs = 100\n",
    "\n",
    "train.train_function(model,num_epochs,dl_train['as'],optimizer,early_stop=10,dl_val=dl_val['as'],save_path=save_path)"
   ]
  },
  {
   "cell_type": "code",
   "execution_count": 22,
   "metadata": {},
   "outputs": [
    {
     "name": "stderr",
     "output_type": "stream",
     "text": [
      "Some weights of the model checkpoint at roberta-base were not used when initializing RobertaModel: ['lm_head.layer_norm.weight', 'lm_head.bias', 'lm_head.dense.bias', 'lm_head.dense.weight', 'lm_head.decoder.weight', 'lm_head.layer_norm.bias']\n",
      "- This IS expected if you are initializing RobertaModel from the checkpoint of a model trained on another task or with another architecture (e.g. initializing a BertForSequenceClassification model from a BertForPreTraining model).\n",
      "- This IS NOT expected if you are initializing RobertaModel from the checkpoint of a model that you expect to be exactly identical (initializing a BertForSequenceClassification model from a BertForSequenceClassification model).\n"
     ]
    },
    {
     "name": "stdout",
     "output_type": "stream",
     "text": [
      "Using scikit learn accuracy por género en el conjunto about\n",
      "GLOBAL: 0.7283163265306123\n",
      "MALE 0.6953125\n",
      "FEMALE 0.76 \n",
      "\n",
      "Using scikit learn accuracy por género en el conjunto to\n",
      "GLOBAL: 0.6957070707070707\n",
      "MALE 0.6593673965936739\n",
      "FEMALE 0.7349081364829396 \n",
      "\n",
      "Using scikit learn accuracy por género en el conjunto as\n",
      "GLOBAL: 0.6910039113428944\n",
      "MALE 0.6085858585858586\n",
      "FEMALE 0.7789757412398922 \n",
      "\n"
     ]
    }
   ],
   "source": [
    "save_path='m1_dep_roberta_as_brk'\n",
    "model = st.SingleTaskDep(model_conf,vocab).to(device)\n",
    "model.load_state_dict(torch.load(save_path))\n",
    "for task in ['about','to','as']:\n",
    "    print(f\"Using scikit learn accuracy por género en el conjunto {task}\")\n",
    "    print(f\"GLOBAL: {train.eval_function_single_sk(model,dl_eval[task])}\")\n",
    "    print(f\"MALE {train.eval_function_single_sk(model,dl_eval[task],gender='male')}\")\n",
    "    print(f\"FEMALE {train.eval_function_single_sk(model,dl_eval[task],gender='female')}\",'\\n')"
   ]
  }
 ],
 "metadata": {
  "kernelspec": {
   "display_name": "tfg",
   "language": "python",
   "name": "python3"
  },
  "language_info": {
   "codemirror_mode": {
    "name": "ipython",
    "version": 3
   },
   "file_extension": ".py",
   "mimetype": "text/x-python",
   "name": "python",
   "nbconvert_exporter": "python",
   "pygments_lexer": "ipython3",
   "version": "3.9.13"
  },
  "orig_nbformat": 4,
  "vscode": {
   "interpreter": {
    "hash": "b2012626cca2d66e84dc87dc317222963c31dcd31e180f1257b027de73883164"
   }
  }
 },
 "nbformat": 4,
 "nbformat_minor": 2
}
