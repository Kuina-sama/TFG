{
 "cells": [
  {
   "cell_type": "code",
   "execution_count": 1,
   "metadata": {},
   "outputs": [],
   "source": [
    "import numpy as np\n",
    "import torch\n",
    "\n",
    "\n",
    "import json\n",
    "from torch.utils.data import DataLoader\n",
    "from torch.optim import SGD \n",
    "from torch import nn"
   ]
  },
  {
   "cell_type": "code",
   "execution_count": 2,
   "metadata": {},
   "outputs": [],
   "source": [
    "import utils_generic as generic\n",
    "import singletask_simple as st\n",
    "import model_confs as confs\n",
    "\n",
    "\n",
    "import train"
   ]
  },
  {
   "cell_type": "code",
   "execution_count": 3,
   "metadata": {},
   "outputs": [
    {
     "data": {
      "text/plain": [
       "<torch._C.Generator at 0x1978c76c390>"
      ]
     },
     "execution_count": 3,
     "metadata": {},
     "output_type": "execute_result"
    }
   ],
   "source": [
    "device = torch.device(\"cuda\") if torch.cuda.is_available() else torch.device(\"cpu\")\n",
    "torch.manual_seed(27)"
   ]
  },
  {
   "cell_type": "code",
   "execution_count": 4,
   "metadata": {},
   "outputs": [],
   "source": [
    "model_conf = confs.roberta_conf"
   ]
  },
  {
   "attachments": {},
   "cell_type": "markdown",
   "metadata": {},
   "source": [
    "# Datos ConvAI2"
   ]
  },
  {
   "cell_type": "code",
   "execution_count": 5,
   "metadata": {},
   "outputs": [],
   "source": [
    "with open('Datasets\\ConvAI2\\convai2_complete.json','r') as f:\n",
    "    data = json.load(f)"
   ]
  },
  {
   "cell_type": "code",
   "execution_count": 6,
   "metadata": {},
   "outputs": [],
   "source": [
    "convai_train = data['train']\n",
    "convai_val = data['validation']\n",
    "\n",
    "\n",
    "\n",
    "convai_train_token = generic.tokenize_dataset(convai_train,['about','to','as'],model_conf) \n",
    "convai_val_token = generic.tokenize_dataset(convai_val,['about','to','as'],model_conf) "
   ]
  },
  {
   "cell_type": "code",
   "execution_count": 7,
   "metadata": {},
   "outputs": [],
   "source": [
    "convai_train_dataset = {}\n",
    "for task in ['to','as','about']:\n",
    "    convai_train_dataset[task] = st.DatasetSingleTaskSimple(convai_train_token,task,eval=False)"
   ]
  },
  {
   "cell_type": "code",
   "execution_count": 8,
   "metadata": {},
   "outputs": [],
   "source": [
    "convai_val_dataset = {}\n",
    "for task in ['to','as','about']:\n",
    "    convai_val_dataset[task] = st.DatasetSingleTaskSimple(convai_val_token,task,eval=False)"
   ]
  },
  {
   "attachments": {},
   "cell_type": "markdown",
   "metadata": {},
   "source": [
    "## Datos md_gender"
   ]
  },
  {
   "cell_type": "code",
   "execution_count": 9,
   "metadata": {},
   "outputs": [],
   "source": [
    "with open('Datasets\\md_gender\\md_complete.json','r',encoding=\"utf8\") as f:\n",
    "    md_data = json.load(f)"
   ]
  },
  {
   "cell_type": "code",
   "execution_count": 10,
   "metadata": {},
   "outputs": [],
   "source": [
    "md_tokenized = generic.tokenize_dataset(md_data,['about','to','as'],model_conf) \n",
    "\n",
    "\n",
    "md_dataset = {}\n",
    "for task in ['to','as','about']:\n",
    "    md_dataset[task] = st.DatasetSingleTaskSimple(md_tokenized,task,eval=True)"
   ]
  },
  {
   "attachments": {},
   "cell_type": "markdown",
   "metadata": {},
   "source": [
    "# Creación dataloaders"
   ]
  },
  {
   "cell_type": "code",
   "execution_count": 11,
   "metadata": {},
   "outputs": [],
   "source": [
    "dl_train = {}\n",
    "for task in ['to','as','about']:\n",
    "    dl_train[task] = DataLoader(convai_train_dataset[task],batch_size=128,shuffle=True,collate_fn=st.collate_fn)"
   ]
  },
  {
   "cell_type": "code",
   "execution_count": 12,
   "metadata": {},
   "outputs": [],
   "source": [
    "dl_val = {}\n",
    "for task in ['to','as','about']:\n",
    "    dl_val[task] = DataLoader(convai_val_dataset[task],batch_size=128,shuffle=True,collate_fn=st.collate_fn)"
   ]
  },
  {
   "cell_type": "code",
   "execution_count": 13,
   "metadata": {},
   "outputs": [],
   "source": [
    "dl_eval = {}\n",
    "for task in ['to','as','about']:\n",
    "    dl_eval[task] = DataLoader(md_dataset[task],batch_size=128,shuffle=False,collate_fn=st.collate_fn)"
   ]
  },
  {
   "attachments": {},
   "cell_type": "markdown",
   "metadata": {},
   "source": [
    "# ABOUT"
   ]
  },
  {
   "cell_type": "code",
   "execution_count": 14,
   "metadata": {},
   "outputs": [
    {
     "data": {
      "application/vnd.jupyter.widget-view+json": {
       "model_id": "8ee8ac8a3f9f44ecb1021e185b71803f",
       "version_major": 2,
       "version_minor": 0
      },
      "text/plain": [
       "Downloading (…)\"pytorch_model.bin\";:   0%|          | 0.00/501M [00:00<?, ?B/s]"
      ]
     },
     "metadata": {},
     "output_type": "display_data"
    },
    {
     "name": "stderr",
     "output_type": "stream",
     "text": [
      "c:\\Users\\FarinhOso\\anaconda3\\envs\\tfg\\lib\\site-packages\\huggingface_hub-0.12.0rc0-py3.8.egg\\huggingface_hub\\file_download.py:129: UserWarning: `huggingface_hub` cache-system uses symlinks by default to efficiently store duplicated files but your machine does not support them in C:\\Users\\FarinhOso\\.cache\\huggingface\\hub. Caching files will still work but in a degraded version that might require more space on your disk. This warning can be disabled by setting the `HF_HUB_DISABLE_SYMLINKS_WARNING` environment variable. For more details, see https://huggingface.co/docs/huggingface_hub/how-to-cache#limitations.\n",
      "To support symlinks on Windows, you either need to activate Developer Mode or to run Python as an administrator. In order to see activate developer mode, see this article: https://docs.microsoft.com/en-us/windows/apps/get-started/enable-your-device-for-development\n",
      "Some weights of the model checkpoint at roberta-base were not used when initializing RobertaModel: ['lm_head.bias', 'lm_head.layer_norm.bias', 'lm_head.layer_norm.weight', 'lm_head.dense.weight', 'lm_head.dense.bias', 'lm_head.decoder.weight']\n",
      "- This IS expected if you are initializing RobertaModel from the checkpoint of a model trained on another task or with another architecture (e.g. initializing a BertForSequenceClassification model from a BertForPreTraining model).\n",
      "- This IS NOT expected if you are initializing RobertaModel from the checkpoint of a model that you expect to be exactly identical (initializing a BertForSequenceClassification model from a BertForSequenceClassification model).\n"
     ]
    }
   ],
   "source": [
    "model = st.SingleTaskSimple(model_conf).to(device)\n",
    "save_path='m1_roberta_ABOUT'"
   ]
  },
  {
   "cell_type": "code",
   "execution_count": 15,
   "metadata": {},
   "outputs": [
    {
     "name": "stdout",
     "output_type": "stream",
     "text": [
      "GLOBAL: 0.5102040816326531 \n",
      "\n",
      "Using scikit learn accuracy por género en el conjunto about\n",
      "MALE 0.0\n",
      "FEMALE 1.0 \n",
      "\n",
      "GLOBAL: 0.4810606060606061 \n",
      "\n",
      "Using scikit learn accuracy por género en el conjunto to\n",
      "MALE 0.0\n",
      "FEMALE 1.0 \n",
      "\n",
      "GLOBAL: 0.48370273794002605 \n",
      "\n",
      "Using scikit learn accuracy por género en el conjunto as\n",
      "MALE 0.0\n",
      "FEMALE 1.0 \n",
      "\n"
     ]
    }
   ],
   "source": [
    "for task in ['about','to','as']:\n",
    "    print(f\"GLOBAL: {train.eval_function_single_sk(model,dl_eval[task])}\",'\\n')\n",
    "    print(f\"Using scikit learn accuracy por género en el conjunto {task}\")\n",
    "    print(f\"MALE {train.eval_function_single_sk(model,dl_eval[task],gender='male')}\")\n",
    "    print(f\"FEMALE {train.eval_function_single_sk(model,dl_eval[task],gender='female')}\",'\\n')"
   ]
  },
  {
   "cell_type": "code",
   "execution_count": 16,
   "metadata": {},
   "outputs": [
    {
     "data": {
      "application/vnd.jupyter.widget-view+json": {
       "model_id": "8791d2eee8ee4ca0b859ada97a8e9a0b",
       "version_major": 2,
       "version_minor": 0
      },
      "text/plain": [
       "  0%|          | 0/57400 [00:00<?, ?it/s]"
      ]
     },
     "metadata": {},
     "output_type": "display_data"
    },
    {
     "name": "stdout",
     "output_type": "stream",
     "text": [
      "Epoch 1 \t Training loss: 0.686033239659532 \t Validation loss: 0.6841395830703993 \t \n",
      "  1%|          | 574/57400 [01:16<1:58:11,  8.01it/s]\n",
      "Epoch 2 \t Training loss: 0.6831125530839381 \t Validation loss: 0.6832521557807922 \t \n",
      "  2%|▏         | 1148/57400 [02:33<2:11:02,  7.15it/s]\n",
      "Epoch 3 \t Training loss: 0.6818744254652216 \t Validation loss: 0.6826529856455528 \t \n",
      "  3%|▎         | 1722/57400 [03:50<1:43:25,  8.97it/s]\n",
      "Epoch 4 \t Training loss: 0.680161997831657 \t Validation loss: 0.6804182812318964 \t \n",
      "  4%|▍         | 2296/57400 [05:08<2:06:43,  7.25it/s]\n",
      "Epoch 5 \t Training loss: 0.6737790517898387 \t Validation loss: 0.6627272276555077 \t \n",
      "  5%|▌         | 2870/57400 [06:25<1:52:30,  8.08it/s]\n",
      "Epoch 6 \t Training loss: 0.5563210750498423 \t Validation loss: 0.44513107204841357 \t \n",
      "  6%|▌         | 3444/57400 [07:43<2:00:04,  7.49it/s]\n",
      "Epoch 7 \t Training loss: 0.44202444159818444 \t Validation loss: 0.4192693773972786 \t \n",
      "  7%|▋         | 4018/57400 [09:01<2:02:53,  7.24it/s]\n",
      "Epoch 8 \t Training loss: 0.4085744251253713 \t Validation loss: 0.3831776456307557 \t \n",
      "  8%|▊         | 4592/57400 [10:18<1:51:37,  7.88it/s]\n",
      "Epoch 9 \t Training loss: 0.3883852620158046 \t Validation loss: 0.35036553518246794 \t \n",
      "  9%|▉         | 5166/57400 [11:36<1:43:00,  8.45it/s]\n",
      "Epoch 10 \t Training loss: 0.37561705944741647 \t Validation loss: 0.34197428721492573 \t \n",
      " 10%|█         | 5740/57400 [12:54<1:52:56,  7.62it/s]\n",
      "Epoch 11 \t Training loss: 0.36606608372739796 \t Validation loss: 0.33637985915450724 \t \n",
      " 11%|█         | 6314/57400 [14:12<1:56:01,  7.34it/s]\n",
      "Epoch 12 \t Training loss: 0.3592047120999376 \t Validation loss: 0.33270233010841627 \t \n",
      " 12%|█▏        | 6888/57400 [15:30<1:38:23,  8.56it/s]\n",
      "Epoch 13 \t Training loss: 0.35187773422081714 \t Validation loss: 0.331021258639077 \t \n",
      " 13%|█▎        | 7462/57400 [16:46<1:46:35,  7.81it/s]\n",
      "Epoch 14 \t Training loss: 0.34719007579084055 \t Validation loss: 0.3238612474021265 \t \n",
      " 14%|█▍        | 8036/57400 [18:02<1:41:18,  8.12it/s]\n",
      "Epoch 15 \t Training loss: 0.3427874692277626 \t Validation loss: 0.32293113131644363 \t \n",
      " 15%|█▌        | 8610/57400 [19:18<1:50:13,  7.38it/s]\n",
      "Epoch 16 \t Training loss: 0.3397700833318956 \t Validation loss: 0.32996290720115273 \t \n",
      "\n",
      "1 epoch without improvement\n",
      " 16%|█▌        | 9184/57400 [20:34<1:41:47,  7.89it/s]\n",
      "Epoch 17 \t Training loss: 0.33634514512189173 \t Validation loss: 0.32285155810542027 \t \n",
      " 17%|█▋        | 9758/57400 [21:51<1:40:13,  7.92it/s]\n",
      "Epoch 18 \t Training loss: 0.3320875545048548 \t Validation loss: 0.32104789680343565 \t \n",
      " 18%|█▊        | 10332/57400 [23:07<1:28:40,  8.85it/s]\n",
      "Epoch 19 \t Training loss: 0.3291492262004975 \t Validation loss: 0.31855618120250057 \t \n",
      " 19%|█▉        | 10906/57400 [24:23<1:29:53,  8.62it/s]\n",
      "Epoch 20 \t Training loss: 0.3259129182075374 \t Validation loss: 0.33809130449416275 \t \n",
      "\n",
      "1 epoch without improvement\n",
      " 20%|██        | 11480/57400 [25:39<1:39:03,  7.73it/s]\n",
      "Epoch 21 \t Training loss: 0.3220084554123131 \t Validation loss: 0.3113870416152275 \t \n",
      " 21%|██        | 12054/57400 [26:55<1:32:34,  8.16it/s]\n",
      "Epoch 22 \t Training loss: 0.3201106941969968 \t Validation loss: 0.3107795205156682 \t \n",
      " 22%|██▏       | 12628/57400 [28:11<1:24:29,  8.83it/s]\n",
      "Epoch 23 \t Training loss: 0.3179969840037283 \t Validation loss: 0.3098168959051876 \t \n",
      " 23%|██▎       | 13202/57400 [29:28<1:24:34,  8.71it/s]\n",
      "Epoch 24 \t Training loss: 0.31652686132267377 \t Validation loss: 0.31008482888593514 \t \n",
      " 24%|██▍       | 13776/57400 [30:43<1:23:24,  8.72it/s]\n",
      "Epoch 25 \t Training loss: 0.313356793741939 \t Validation loss: 0.30846055104570874 \t \n",
      " 25%|██▌       | 14350/57400 [32:00<1:27:04,  8.24it/s]\n",
      "Epoch 26 \t Training loss: 0.3124900616783298 \t Validation loss: 0.30651558632567777 \t \n",
      " 26%|██▌       | 14924/57400 [33:16<1:25:00,  8.33it/s]\n",
      "Epoch 27 \t Training loss: 0.3097084669026348 \t Validation loss: 0.3159256193597438 \t \n",
      "\n",
      "1 epoch without improvement\n",
      " 27%|██▋       | 15498/57400 [34:31<1:17:34,  9.00it/s]\n",
      "Epoch 28 \t Training loss: 0.30671647442861716 \t Validation loss: 0.30639073757802027 \t \n",
      " 28%|██▊       | 16072/57400 [35:48<1:25:00,  8.10it/s]\n",
      "Epoch 29 \t Training loss: 0.30512305421800145 \t Validation loss: 0.30788805929280944 \t \n",
      "\n",
      "1 epoch without improvement\n",
      " 29%|██▉       | 16646/57400 [37:04<1:43:36,  6.56it/s]\n",
      "Epoch 30 \t Training loss: 0.30412771140033773 \t Validation loss: 0.31233140194820147 \t \n",
      "\n",
      "2 epoch without improvement\n",
      " 30%|███       | 17220/57400 [38:19<1:17:23,  8.65it/s]\n",
      "Epoch 31 \t Training loss: 0.300373707628624 \t Validation loss: 0.3048953113414474 \t \n",
      " 31%|███       | 17794/57400 [39:36<1:30:11,  7.32it/s]\n",
      "Epoch 32 \t Training loss: 0.30183156320130783 \t Validation loss: 0.3082574449353299 \t \n",
      "\n",
      "1 epoch without improvement\n",
      " 32%|███▏      | 18368/57400 [40:51<1:13:31,  8.85it/s]\n",
      "Epoch 33 \t Training loss: 0.2987543428608765 \t Validation loss: 0.30414458730463256 \t \n",
      " 33%|███▎      | 18942/57400 [42:08<1:12:06,  8.89it/s]\n",
      "Epoch 34 \t Training loss: 0.29661580645041186 \t Validation loss: 0.3024806410579358 \t \n",
      " 34%|███▍      | 19516/57400 [43:24<1:21:38,  7.73it/s]\n",
      "Epoch 35 \t Training loss: 0.2958090653974005 \t Validation loss: 0.30685116527444223 \t \n",
      "\n",
      "1 epoch without improvement\n",
      " 35%|███▌      | 20090/57400 [44:40<1:20:19,  7.74it/s]\n",
      "Epoch 36 \t Training loss: 0.29491458716396673 \t Validation loss: 0.31334163905200313 \t \n",
      "\n",
      "2 epoch without improvement\n",
      " 36%|███▌      | 20664/57400 [45:55<1:18:43,  7.78it/s]\n",
      "Epoch 37 \t Training loss: 0.29457771090161095 \t Validation loss: 0.30107408080060605 \t \n",
      " 37%|███▋      | 21238/57400 [47:12<1:20:09,  7.52it/s]\n",
      "Epoch 38 \t Training loss: 0.29301203138321535 \t Validation loss: 0.3017676308498544 \t \n",
      " 38%|███▊      | 21812/57400 [48:31<1:11:08,  8.34it/s]\n",
      "Epoch 39 \t Training loss: 0.2907931995204932 \t Validation loss: 0.307703607920873 \t \n",
      "\n",
      "1 epoch without improvement\n",
      " 39%|███▉      | 22386/57400 [49:49<1:19:31,  7.34it/s]\n",
      "Epoch 40 \t Training loss: 0.2891953004465701 \t Validation loss: 0.3030010050131103 \t \n",
      "\n",
      "2 epoch without improvement\n",
      " 40%|████      | 22960/57400 [51:06<1:20:47,  7.10it/s]\n",
      "Epoch 41 \t Training loss: 0.28769986946719867 \t Validation loss: 0.30380809004023923 \t \n",
      "\n",
      "3 epoch without improvement\n",
      " 41%|████      | 23534/57400 [52:24<1:17:36,  7.27it/s]\n",
      "Epoch 42 \t Training loss: 0.28633077671095886 \t Validation loss: 0.29929983716900066 \t \n",
      " 42%|████▏     | 24108/57400 [53:42<1:14:47,  7.42it/s]\n",
      "Epoch 43 \t Training loss: 0.2859983147748256 \t Validation loss: 0.3000355284597914 \t \n",
      " 43%|████▎     | 24682/57400 [55:00<1:13:26,  7.43it/s]\n",
      "Epoch 44 \t Training loss: 0.2832781486083406 \t Validation loss: 0.30658131534770383 \t \n",
      "\n",
      "1 epoch without improvement\n",
      " 44%|████▍     | 25256/57400 [56:18<1:04:47,  8.27it/s]\n",
      "Epoch 45 \t Training loss: 0.28250500302800735 \t Validation loss: 0.3022586539135141 \t \n",
      "\n",
      "2 epoch without improvement\n",
      " 45%|████▌     | 25830/57400 [57:36<1:10:38,  7.45it/s]\n",
      "Epoch 46 \t Training loss: 0.2824722028463975 \t Validation loss: 0.2988950683403823 \t \n",
      " 46%|████▌     | 26404/57400 [58:54<1:11:18,  7.24it/s]\n",
      "Epoch 47 \t Training loss: 0.28008413052621206 \t Validation loss: 0.30729294000035623 \t \n",
      "\n",
      "1 epoch without improvement\n",
      " 47%|████▋     | 26978/57400 [1:00:12<59:55,  8.46it/s]\n",
      "Epoch 48 \t Training loss: 0.2785161462602715 \t Validation loss: 0.3025535481461024 \t \n",
      "\n",
      "2 epoch without improvement\n",
      " 48%|████▊     | 27552/57400 [1:01:29<1:05:22,  7.61it/s]\n",
      "Epoch 49 \t Training loss: 0.27908197909801263 \t Validation loss: 0.29897533054068937 \t \n",
      " 49%|████▉     | 28126/57400 [1:02:47<57:04,  8.55it/s]\n",
      "Epoch 50 \t Training loss: 0.2769128608319402 \t Validation loss: 0.2976940117650113 \t \n",
      " 50%|█████     | 28700/57400 [1:04:04<56:43,  8.43it/s]\n",
      "Epoch 51 \t Training loss: 0.276597831930433 \t Validation loss: 0.29856201854802794 \t \n",
      " 51%|█████     | 29274/57400 [1:05:20<55:31,  8.44it/s]\n",
      "Epoch 52 \t Training loss: 0.2764456198917449 \t Validation loss: 0.3028974454786818 \t \n",
      "\n",
      "1 epoch without improvement\n",
      " 52%|█████▏    | 29848/57400 [1:06:36<53:10,  8.64it/s]\n",
      "Epoch 53 \t Training loss: 0.2753139723105298 \t Validation loss: 0.29888008585420706 \t \n",
      "\n",
      "2 epoch without improvement\n",
      " 53%|█████▎    | 30422/57400 [1:07:52<51:01,  8.81it/s]\n",
      "Epoch 54 \t Training loss: 0.27358994965250066 \t Validation loss: 0.2973956940537792 \t \n",
      " 54%|█████▍    | 30996/57400 [1:09:08<49:51,  8.83it/s]\n",
      "Epoch 55 \t Training loss: 0.27389570351573234 \t Validation loss: 0.2991066991777743 \t \n",
      "\n",
      "1 epoch without improvement\n",
      " 55%|█████▌    | 31570/57400 [1:10:24<56:59,  7.55it/s]\n",
      "Epoch 56 \t Training loss: 0.2720173835650554 \t Validation loss: 0.29908443507501636 \t \n",
      "\n",
      "2 epoch without improvement\n",
      " 56%|█████▌    | 32144/57400 [1:11:40<54:28,  7.73it/s]\n",
      "Epoch 57 \t Training loss: 0.27124880508678717 \t Validation loss: 0.2982222306526313 \t \n",
      " 57%|█████▋    | 32718/57400 [1:12:56<52:15,  7.87it/s]\n",
      "Epoch 58 \t Training loss: 0.27130187378112447 \t Validation loss: 0.30048577462212517 \t \n",
      "\n",
      "3 epoch without improvement\n",
      " 58%|█████▊    | 33292/57400 [1:14:12<52:38,  7.63it/s]\n",
      "Epoch 59 \t Training loss: 0.2689800788145447 \t Validation loss: 0.2990721989486177 \t \n",
      "\n",
      "4 epoch without improvement\n",
      " 59%|█████▉    | 33866/57400 [1:15:28<48:36,  8.07it/s]\n",
      "Epoch 60 \t Training loss: 0.2681279886475008 \t Validation loss: 0.2980564383126922 \t \n",
      " 60%|██████    | 34440/57400 [1:16:44<49:31,  7.73it/s]\n",
      "Epoch 61 \t Training loss: 0.2677935880027997 \t Validation loss: 0.2990601709333517 \t \n",
      "\n",
      "5 epoch without improvement\n",
      " 61%|██████    | 35014/57400 [1:18:00<47:51,  7.80it/s]\n",
      "Epoch 62 \t Training loss: 0.26811959685348885 \t Validation loss: 0.29823487441418534 \t \n",
      " 62%|██████▏   | 35588/57400 [1:19:16<40:17,  9.02it/s]\n",
      "Epoch 63 \t Training loss: 0.264960971287734 \t Validation loss: 0.29911483975790315 \t \n",
      "\n",
      "6 epoch without improvement\n",
      " 63%|██████▎   | 36162/57400 [1:20:32<49:17,  7.18it/s]\n",
      "Epoch 64 \t Training loss: 0.2661668185521086 \t Validation loss: 0.3005751530497761 \t \n",
      "\n",
      "7 epoch without improvement\n",
      " 64%|██████▍   | 36736/57400 [1:21:47<39:02,  8.82it/s]\n",
      "Epoch 65 \t Training loss: 0.26558384963859666 \t Validation loss: 0.2974145134626809 \t \n",
      " 65%|██████▌   | 37310/57400 [1:23:03<43:55,  7.62it/s]\n",
      "Epoch 66 \t Training loss: 0.2639778506413154 \t Validation loss: 0.2995383257077912 \t \n",
      "\n",
      "8 epoch without improvement\n",
      " 66%|██████▌   | 37884/57400 [1:24:19<37:33,  8.66it/s]\n",
      "Epoch 67 \t Training loss: 0.2627085262215096 \t Validation loss: 0.3050854754144863 \t \n",
      "\n",
      "9 epoch without improvement\n",
      " 67%|██████▋   | 38458/57400 [1:25:35<39:21,  8.02it/s]\n",
      "Epoch 68 \t Training loss: 0.26331910514353873 \t Validation loss: 0.2991635258925163 \t \n",
      "\n",
      "10 epoch without improvement\n",
      "Validation_loss hasn't improve in 10 epoch. Stopping training after 68 epochs...\n"
     ]
    },
    {
     "data": {
      "image/png": "[encoded data removed]",
      "text/plain": [
       "<Figure size 640x480 with 1 Axes>"
      ]
     },
     "metadata": {},
     "output_type": "display_data"
    }
   ],
   "source": [
    "learning_rate = 5e-5\n",
    "optimizer = SGD(model.parameters(), lr=learning_rate, momentum=0.9)\n",
    "num_epochs = 100\n",
    "\n",
    "train.train_function(model,num_epochs,dl_train['about'],optimizer,early_stop=10,dl_val=dl_val['about'],save_path=save_path)"
   ]
  },
  {
   "cell_type": "code",
   "execution_count": 17,
   "metadata": {},
   "outputs": [
    {
     "name": "stderr",
     "output_type": "stream",
     "text": [
      "Some weights of the model checkpoint at roberta-base were not used when initializing RobertaModel: ['lm_head.bias', 'lm_head.layer_norm.bias', 'lm_head.layer_norm.weight', 'lm_head.dense.weight', 'lm_head.dense.bias', 'lm_head.decoder.weight']\n",
      "- This IS expected if you are initializing RobertaModel from the checkpoint of a model trained on another task or with another architecture (e.g. initializing a BertForSequenceClassification model from a BertForPreTraining model).\n",
      "- This IS NOT expected if you are initializing RobertaModel from the checkpoint of a model that you expect to be exactly identical (initializing a BertForSequenceClassification model from a BertForSequenceClassification model).\n"
     ]
    },
    {
     "name": "stdout",
     "output_type": "stream",
     "text": [
      "GLOBAL: 0.8596938775510204 \n",
      "\n",
      "Using scikit learn accuracy por género en el conjunto about\n",
      "MALE 0.8619791666666666\n",
      "FEMALE 0.8575 \n",
      "\n",
      "GLOBAL: 0.6906565656565656 \n",
      "\n",
      "Using scikit learn accuracy por género en el conjunto to\n",
      "MALE 0.7031630170316302\n",
      "FEMALE 0.6771653543307087 \n",
      "\n",
      "GLOBAL: 0.6857887874837028 \n",
      "\n",
      "Using scikit learn accuracy por género en el conjunto as\n",
      "MALE 0.696969696969697\n",
      "FEMALE 0.6738544474393531 \n",
      "\n"
     ]
    }
   ],
   "source": [
    "model = st.SingleTaskSimple(model_conf).to(device)\n",
    "model.load_state_dict(torch.load(save_path))\n",
    "\n",
    "for task in ['about','to','as']:\n",
    "    print(f\"GLOBAL: {train.eval_function_single_sk(model,dl_eval[task])}\",'\\n')\n",
    "    print(f\"Using scikit learn accuracy por género en el conjunto {task}\")\n",
    "    print(f\"MALE {train.eval_function_single_sk(model,dl_eval[task],gender='male')}\")\n",
    "    print(f\"FEMALE {train.eval_function_single_sk(model,dl_eval[task],gender='female')}\",'\\n')"
   ]
  },
  {
   "attachments": {},
   "cell_type": "markdown",
   "metadata": {},
   "source": [
    "# TO"
   ]
  },
  {
   "cell_type": "code",
   "execution_count": 14,
   "metadata": {},
   "outputs": [
    {
     "name": "stderr",
     "output_type": "stream",
     "text": [
      "Some weights of the model checkpoint at roberta-base were not used when initializing RobertaModel: ['lm_head.dense.bias', 'lm_head.layer_norm.weight', 'lm_head.dense.weight', 'lm_head.bias', 'lm_head.decoder.weight', 'lm_head.layer_norm.bias']\n",
      "- This IS expected if you are initializing RobertaModel from the checkpoint of a model trained on another task or with another architecture (e.g. initializing a BertForSequenceClassification model from a BertForPreTraining model).\n",
      "- This IS NOT expected if you are initializing RobertaModel from the checkpoint of a model that you expect to be exactly identical (initializing a BertForSequenceClassification model from a BertForSequenceClassification model).\n"
     ]
    }
   ],
   "source": [
    "model = st.SingleTaskSimple(model_conf).to(device)\n",
    "save_path='m1_roberta_TO'"
   ]
  },
  {
   "cell_type": "code",
   "execution_count": 15,
   "metadata": {},
   "outputs": [
    {
     "data": {
      "application/vnd.jupyter.widget-view+json": {
       "model_id": "6b60b655b7ba4ced9e7817a1fd3457e2",
       "version_major": 2,
       "version_minor": 0
      },
      "text/plain": [
       "  0%|          | 0/57400 [00:00<?, ?it/s]"
      ]
     },
     "metadata": {},
     "output_type": "display_data"
    },
    {
     "name": "stdout",
     "output_type": "stream",
     "text": [
      "Epoch 1 \t Training loss: 0.6942872606503423 \t Validation loss: 0.6939236784385423 \t \n",
      "  1%|          | 574/57400 [01:24<1:50:08,  8.60it/s]\n",
      "Epoch 2 \t Training loss: 0.6931853415866347 \t Validation loss: 0.6922079203492504 \t \n",
      "  2%|▏         | 1148/57400 [02:42<2:07:02,  7.38it/s]\n",
      "Epoch 3 \t Training loss: 0.6932969296850809 \t Validation loss: 0.6928154684729495 \t \n",
      "  3%|▎         | 1722/57400 [03:59<2:07:50,  7.26it/s]\n",
      "Epoch 4 \t Training loss: 0.6932285185059603 \t Validation loss: 0.6932526624808877 \t \n",
      "\n",
      "1 epoch without improvement\n",
      "  4%|▍         | 2296/57400 [05:17<1:56:00,  7.92it/s]\n",
      "Epoch 5 \t Training loss: 0.6933723391140795 \t Validation loss: 0.6928950962373766 \t \n",
      "  5%|▌         | 2870/57400 [06:36<2:01:39,  7.47it/s]\n",
      "Epoch 6 \t Training loss: 0.6933277049961821 \t Validation loss: 0.6919897895748333 \t \n",
      "  6%|▌         | 3444/57400 [07:55<2:02:06,  7.36it/s]\n",
      "Epoch 7 \t Training loss: 0.6932110672213059 \t Validation loss: 0.6932495781930826 \t \n",
      "\n",
      "1 epoch without improvement\n",
      "  7%|▋         | 4018/57400 [09:13<2:02:05,  7.29it/s]\n",
      "Epoch 8 \t Training loss: 0.6933976520852345 \t Validation loss: 0.6928316475981373 \t \n",
      "  8%|▊         | 4592/57400 [10:31<2:02:45,  7.17it/s]\n",
      "Epoch 9 \t Training loss: 0.6932143807826557 \t Validation loss: 0.6931279867382373 \t \n",
      "\n",
      "2 epoch without improvement\n",
      "  9%|▉         | 5166/57400 [11:50<1:58:00,  7.38it/s]\n",
      "Epoch 10 \t Training loss: 0.6932541944008671 \t Validation loss: 0.6928320446256864 \t \n",
      " 10%|█         | 5740/57400 [13:08<1:45:29,  8.16it/s]\n",
      "Epoch 11 \t Training loss: 0.6932939211042916 \t Validation loss: 0.692783315302962 \t \n",
      " 11%|█         | 6314/57400 [14:27<1:56:19,  7.32it/s]\n",
      "Epoch 12 \t Training loss: 0.6932702045822808 \t Validation loss: 0.6929982981439364 \t \n",
      "\n",
      "3 epoch without improvement\n",
      " 12%|█▏        | 6888/57400 [15:45<1:50:01,  7.65it/s]\n",
      "Epoch 13 \t Training loss: 0.6932995730576199 \t Validation loss: 0.6936112157369064 \t \n",
      "\n",
      "4 epoch without improvement\n",
      " 13%|█▎        | 7462/57400 [17:02<1:48:15,  7.69it/s]\n",
      "Epoch 14 \t Training loss: 0.6933606403006909 \t Validation loss: 0.6933010099297863 \t \n",
      "\n",
      "5 epoch without improvement\n",
      " 14%|█▍        | 8036/57400 [18:19<1:41:33,  8.10it/s]\n",
      "Epoch 15 \t Training loss: 0.6932861706313356 \t Validation loss: 0.6927968071678937 \t \n",
      " 15%|█▌        | 8610/57400 [19:36<1:39:15,  8.19it/s]\n",
      "Epoch 16 \t Training loss: 0.6932455520388972 \t Validation loss: 0.6935799525955976 \t \n",
      "\n",
      "6 epoch without improvement\n",
      " 16%|█▌        | 9184/57400 [20:52<1:44:07,  7.72it/s]\n",
      "Epoch 17 \t Training loss: 0.6933078346352128 \t Validation loss: 0.6932460928367357 \t \n",
      "\n",
      "7 epoch without improvement\n",
      " 17%|█▋        | 9758/57400 [22:08<1:38:47,  8.04it/s]\n",
      "Epoch 18 \t Training loss: 0.6932604209055884 \t Validation loss: 0.6927709468340469 \t \n",
      " 18%|█▊        | 10332/57400 [23:25<1:35:42,  8.20it/s]\n",
      "Epoch 19 \t Training loss: 0.6932884405921976 \t Validation loss: 0.6930354944730209 \t \n",
      "\n",
      "8 epoch without improvement\n",
      " 19%|█▉        | 10906/57400 [24:41<1:40:46,  7.69it/s]\n",
      "Epoch 20 \t Training loss: 0.6933103518411258 \t Validation loss: 0.6930833751872435 \t \n",
      "\n",
      "9 epoch without improvement\n",
      " 20%|██        | 11480/57400 [25:57<1:33:05,  8.22it/s]\n",
      "Epoch 21 \t Training loss: 0.6932185910096983 \t Validation loss: 0.6930116950455358 \t \n",
      "\n",
      "10 epoch without improvement\n",
      "Validation_loss hasn't improve in 10 epoch. Stopping training after 21 epochs...\n"
     ]
    },
    {
     "data": {
      "image/png": "[encoded data removed]",
      "text/plain": [
       "<Figure size 640x480 with 1 Axes>"
      ]
     },
     "metadata": {},
     "output_type": "display_data"
    }
   ],
   "source": [
    "learning_rate = 5e-5\n",
    "optimizer = SGD(model.parameters(), lr=learning_rate, momentum=0.9)\n",
    "num_epochs = 100\n",
    "\n",
    "train.train_function(model,num_epochs,dl_train['to'],optimizer,early_stop=10,dl_val=dl_val['to'],save_path=save_path)"
   ]
  },
  {
   "cell_type": "code",
   "execution_count": 16,
   "metadata": {},
   "outputs": [
    {
     "name": "stderr",
     "output_type": "stream",
     "text": [
      "Some weights of the model checkpoint at roberta-base were not used when initializing RobertaModel: ['lm_head.dense.bias', 'lm_head.layer_norm.weight', 'lm_head.dense.weight', 'lm_head.bias', 'lm_head.decoder.weight', 'lm_head.layer_norm.bias']\n",
      "- This IS expected if you are initializing RobertaModel from the checkpoint of a model trained on another task or with another architecture (e.g. initializing a BertForSequenceClassification model from a BertForPreTraining model).\n",
      "- This IS NOT expected if you are initializing RobertaModel from the checkpoint of a model that you expect to be exactly identical (initializing a BertForSequenceClassification model from a BertForSequenceClassification model).\n"
     ]
    },
    {
     "name": "stdout",
     "output_type": "stream",
     "text": [
      "GLOBAL: 0.5102040816326531 \n",
      "\n",
      "Using scikit learn accuracy por género en el conjunto about\n",
      "MALE 0.0\n",
      "FEMALE 1.0 \n",
      "\n",
      "GLOBAL: 0.4810606060606061 \n",
      "\n",
      "Using scikit learn accuracy por género en el conjunto to\n",
      "MALE 0.0\n",
      "FEMALE 1.0 \n",
      "\n",
      "GLOBAL: 0.48370273794002605 \n",
      "\n",
      "Using scikit learn accuracy por género en el conjunto as\n",
      "MALE 0.0\n",
      "FEMALE 1.0 \n",
      "\n"
     ]
    }
   ],
   "source": [
    "model = st.SingleTaskSimple(model_conf).to(device)\n",
    "model.load_state_dict(torch.load(save_path))\n",
    "\n",
    "for task in ['about','to','as']:\n",
    "    print(f\"GLOBAL: {train.eval_function_single_sk(model,dl_eval[task])}\",'\\n')\n",
    "    print(f\"Using scikit learn accuracy por género en el conjunto {task}\")\n",
    "    print(f\"MALE {train.eval_function_single_sk(model,dl_eval[task],gender='male')}\")\n",
    "    print(f\"FEMALE {train.eval_function_single_sk(model,dl_eval[task],gender='female')}\",'\\n')"
   ]
  },
  {
   "attachments": {},
   "cell_type": "markdown",
   "metadata": {},
   "source": [
    "# AS"
   ]
  },
  {
   "cell_type": "code",
   "execution_count": 17,
   "metadata": {},
   "outputs": [
    {
     "name": "stderr",
     "output_type": "stream",
     "text": [
      "Some weights of the model checkpoint at roberta-base were not used when initializing RobertaModel: ['lm_head.dense.bias', 'lm_head.layer_norm.weight', 'lm_head.dense.weight', 'lm_head.bias', 'lm_head.decoder.weight', 'lm_head.layer_norm.bias']\n",
      "- This IS expected if you are initializing RobertaModel from the checkpoint of a model trained on another task or with another architecture (e.g. initializing a BertForSequenceClassification model from a BertForPreTraining model).\n",
      "- This IS NOT expected if you are initializing RobertaModel from the checkpoint of a model that you expect to be exactly identical (initializing a BertForSequenceClassification model from a BertForSequenceClassification model).\n"
     ]
    }
   ],
   "source": [
    "model = st.SingleTaskSimple(model_conf).to(device)\n",
    "save_path='m1_roberta_AS'"
   ]
  },
  {
   "cell_type": "code",
   "execution_count": 18,
   "metadata": {},
   "outputs": [
    {
     "name": "stdout",
     "output_type": "stream",
     "text": [
      "GLOBAL: 0.4897959183673469 \n",
      "\n",
      "Using scikit learn accuracy por género en el conjunto about\n",
      "MALE 1.0\n",
      "FEMALE 0.0 \n",
      "\n",
      "GLOBAL: 0.5189393939393939 \n",
      "\n",
      "Using scikit learn accuracy por género en el conjunto to\n",
      "MALE 1.0\n",
      "FEMALE 0.0 \n",
      "\n",
      "GLOBAL: 0.516297262059974 \n",
      "\n",
      "Using scikit learn accuracy por género en el conjunto as\n",
      "MALE 1.0\n",
      "FEMALE 0.0 \n",
      "\n"
     ]
    }
   ],
   "source": [
    "\n",
    "for task in ['about','to','as']:\n",
    "    print(f\"GLOBAL: {train.eval_function_single_sk(model,dl_eval[task])}\",'\\n')\n",
    "    print(f\"Using scikit learn accuracy por género en el conjunto {task}\")\n",
    "    print(f\"MALE {train.eval_function_single_sk(model,dl_eval[task],gender='male')}\")\n",
    "    print(f\"FEMALE {train.eval_function_single_sk(model,dl_eval[task],gender='female')}\",'\\n')"
   ]
  },
  {
   "cell_type": "code",
   "execution_count": 19,
   "metadata": {},
   "outputs": [
    {
     "data": {
      "application/vnd.jupyter.widget-view+json": {
       "model_id": "d8eead9285f54dcf8304c2b2f18ae172",
       "version_major": 2,
       "version_minor": 0
      },
      "text/plain": [
       "  0%|          | 0/57400 [00:00<?, ?it/s]"
      ]
     },
     "metadata": {},
     "output_type": "display_data"
    },
    {
     "name": "stdout",
     "output_type": "stream",
     "text": [
      "Epoch 1 \t Training loss: 0.6936021196925266 \t Validation loss: 0.6921203611260753 \t \n",
      "  1%|          | 574/57400 [01:16<1:51:28,  8.50it/s]\n",
      "Epoch 2 \t Training loss: 0.6932367827834153 \t Validation loss: 0.6929820543628628 \t \n",
      "  2%|▏         | 1148/57400 [02:33<2:04:15,  7.54it/s]\n",
      "Epoch 3 \t Training loss: 0.6932882354026888 \t Validation loss: 0.6929358930911048 \t \n",
      "  3%|▎         | 1722/57400 [03:49<1:46:07,  8.74it/s]\n",
      "Epoch 4 \t Training loss: 0.6932867852652945 \t Validation loss: 0.6930099867158017 \t \n",
      "  4%|▍         | 2296/57400 [05:06<1:51:32,  8.23it/s]\n",
      "Epoch 5 \t Training loss: 0.6933090044023268 \t Validation loss: 0.6935169858447576 \t \n",
      "\n",
      "1 epoch without improvement\n",
      "  5%|▌         | 2870/57400 [06:22<1:41:57,  8.91it/s]\n",
      "Epoch 6 \t Training loss: 0.6932578461718476 \t Validation loss: 0.6934003961288323 \t \n",
      "\n",
      "2 epoch without improvement\n",
      "  6%|▌         | 3444/57400 [07:38<1:49:53,  8.18it/s]\n",
      "Epoch 7 \t Training loss: 0.6932875058169149 \t Validation loss: 0.6927974213988094 \t \n",
      "  7%|▋         | 4018/57400 [08:54<1:41:56,  8.73it/s]\n",
      "Epoch 8 \t Training loss: 0.6931747609314602 \t Validation loss: 0.693099740198103 \t \n",
      "  8%|▊         | 4592/57400 [10:11<1:46:08,  8.29it/s]\n",
      "Epoch 9 \t Training loss: 0.6932435434454409 \t Validation loss: 0.6925167673725193 \t \n",
      "  9%|▉         | 5166/57400 [11:27<2:00:39,  7.22it/s]\n",
      "Epoch 10 \t Training loss: 0.6931597800204978 \t Validation loss: 0.6923062023469957 \t \n",
      " 10%|█         | 5740/57400 [12:44<1:44:54,  8.21it/s]\n",
      "Epoch 11 \t Training loss: 0.6932345161454603 \t Validation loss: 0.6930389666961412 \t \n",
      " 11%|█         | 6314/57400 [14:00<1:38:21,  8.66it/s]\n",
      "Epoch 12 \t Training loss: 0.6931681491772057 \t Validation loss: 0.6926185933210082 \t \n",
      " 12%|█▏        | 6888/57400 [15:17<1:43:33,  8.13it/s]\n",
      "Epoch 13 \t Training loss: 0.693165977865146 \t Validation loss: 0.6929945814407478 \t \n",
      " 13%|█▎        | 7462/57400 [16:33<1:32:58,  8.95it/s]\n",
      "Epoch 14 \t Training loss: 0.6931274821949337 \t Validation loss: 0.6934754737352921 \t \n",
      "\n",
      "3 epoch without improvement\n",
      " 14%|█▍        | 8036/57400 [17:49<1:55:19,  7.13it/s]\n",
      "Epoch 15 \t Training loss: 0.693087789032102 \t Validation loss: 0.692801628072383 \t \n",
      " 15%|█▌        | 8610/57400 [19:06<1:42:49,  7.91it/s]\n",
      "Epoch 16 \t Training loss: 0.6930414741462947 \t Validation loss: 0.6924636505417905 \t \n",
      " 16%|█▌        | 9184/57400 [20:22<1:46:10,  7.57it/s]\n",
      "Epoch 17 \t Training loss: 0.6931244980167429 \t Validation loss: 0.6931784526776459 \t \n",
      "\n",
      "4 epoch without improvement\n",
      " 17%|█▋        | 9758/57400 [21:39<1:44:24,  7.60it/s]\n",
      "Epoch 18 \t Training loss: 0.6931321626133204 \t Validation loss: 0.6931169043153019 \t \n",
      " 18%|█▊        | 10332/57400 [22:55<1:48:07,  7.26it/s]\n",
      "Epoch 19 \t Training loss: 0.6930559766624863 \t Validation loss: 0.6933327286930407 \t \n",
      "\n",
      "5 epoch without improvement\n",
      " 19%|█▉        | 10906/57400 [24:12<1:33:50,  8.26it/s]\n",
      "Epoch 20 \t Training loss: 0.6930540529070001 \t Validation loss: 0.6926750530630855 \t \n",
      " 20%|██        | 11480/57400 [25:28<1:40:54,  7.58it/s]\n",
      "Epoch 21 \t Training loss: 0.6930865709789954 \t Validation loss: 0.6929510649988206 \t \n",
      " 21%|██        | 12054/57400 [26:44<1:32:22,  8.18it/s]\n",
      "Epoch 22 \t Training loss: 0.6929283061093985 \t Validation loss: 0.6924511709455716 \t \n",
      " 22%|██▏       | 12628/57400 [28:01<1:59:22,  6.25it/s]\n",
      "Epoch 23 \t Training loss: 0.6930416010398067 \t Validation loss: 0.6931830210200811 \t \n",
      "\n",
      "6 epoch without improvement\n",
      " 23%|██▎       | 13202/57400 [29:17<1:31:27,  8.05it/s]\n",
      "Epoch 24 \t Training loss: 0.6930162667812786 \t Validation loss: 0.693105749154495 \t \n",
      " 24%|██▍       | 13776/57400 [30:34<1:36:32,  7.53it/s]\n",
      "Epoch 25 \t Training loss: 0.6929691788003836 \t Validation loss: 0.6933117680630442 \t \n",
      "\n",
      "7 epoch without improvement\n",
      " 25%|██▌       | 14350/57400 [31:50<1:34:27,  7.60it/s]\n",
      "Epoch 26 \t Training loss: 0.6930060399118616 \t Validation loss: 0.693021623765008 \t \n",
      " 26%|██▌       | 14924/57400 [33:07<1:24:52,  8.34it/s]\n",
      "Epoch 27 \t Training loss: 0.6929706271724834 \t Validation loss: 0.692540206141391 \t \n",
      " 27%|██▋       | 15498/57400 [34:23<1:31:55,  7.60it/s]\n",
      "Epoch 28 \t Training loss: 0.692964086030003 \t Validation loss: 0.6927861389467271 \t \n",
      " 28%|██▊       | 16072/57400 [35:40<1:28:44,  7.76it/s]\n",
      "Epoch 29 \t Training loss: 0.6927886594878672 \t Validation loss: 0.6933764492051077 \t \n",
      "\n",
      "8 epoch without improvement\n",
      " 29%|██▉       | 16646/57400 [36:56<1:22:05,  8.27it/s]\n",
      "Epoch 30 \t Training loss: 0.6928830752181675 \t Validation loss: 0.6929425475961071 \t \n",
      " 30%|███       | 17220/57400 [38:13<1:22:03,  8.16it/s]\n",
      "Epoch 31 \t Training loss: 0.6928200206690134 \t Validation loss: 0.692303833314928 \t \n",
      " 31%|███       | 17794/57400 [39:29<1:20:27,  8.20it/s]\n",
      "Epoch 32 \t Training loss: 0.6927301778818257 \t Validation loss: 0.6926492139444513 \t \n",
      " 32%|███▏      | 18368/57400 [40:46<1:23:45,  7.77it/s]\n",
      "Epoch 33 \t Training loss: 0.6928205944935204 \t Validation loss: 0.6930953385466236 \t \n",
      " 33%|███▎      | 18942/57400 [42:02<1:28:10,  7.27it/s]\n",
      "Epoch 34 \t Training loss: 0.6927747763823133 \t Validation loss: 0.6926838846529945 \t \n",
      " 34%|███▍      | 19516/57400 [43:18<1:22:40,  7.64it/s]\n",
      "Epoch 35 \t Training loss: 0.692654006261028 \t Validation loss: 0.6929649175223658 \t \n",
      " 35%|███▌      | 20090/57400 [44:35<1:22:03,  7.58it/s]\n",
      "Epoch 36 \t Training loss: 0.6927578403559296 \t Validation loss: 0.6919865527395475 \t \n",
      " 36%|███▌      | 20664/57400 [45:52<1:11:23,  8.58it/s]\n",
      "Epoch 37 \t Training loss: 0.6925255264762387 \t Validation loss: 0.6929300366821936 \t \n",
      " 37%|███▋      | 21238/57400 [47:08<1:21:24,  7.40it/s]\n",
      "Epoch 38 \t Training loss: 0.6924751216110867 \t Validation loss: 0.6926547501046779 \t \n",
      " 38%|███▊      | 21812/57400 [48:24<1:13:30,  8.07it/s]\n",
      "Epoch 39 \t Training loss: 0.6923693936668622 \t Validation loss: 0.6927827374409821 \t \n",
      " 39%|███▉      | 22386/57400 [49:41<1:05:16,  8.94it/s]\n",
      "Epoch 40 \t Training loss: 0.6923200895146626 \t Validation loss: 0.6921558400331917 \t \n",
      " 40%|████      | 22960/57400 [50:57<1:18:17,  7.33it/s]\n",
      "Epoch 41 \t Training loss: 0.692278084854631 \t Validation loss: 0.6928166797605612 \t \n",
      " 41%|████      | 23534/57400 [52:14<1:13:09,  7.72it/s]\n",
      "Epoch 42 \t Training loss: 0.6921199595471292 \t Validation loss: 0.6926786950079061 \t \n",
      " 42%|████▏     | 24108/57400 [53:30<1:14:19,  7.47it/s]\n",
      "Epoch 43 \t Training loss: 0.6918173443772652 \t Validation loss: 0.6921804577617322 \t \n",
      " 43%|████▎     | 24682/57400 [54:46<1:13:01,  7.47it/s]\n",
      "Epoch 44 \t Training loss: 0.6917122004339504 \t Validation loss: 0.6917202614121518 \t \n",
      " 44%|████▍     | 25256/57400 [56:04<1:09:29,  7.71it/s]\n",
      "Epoch 45 \t Training loss: 0.6916815006151432 \t Validation loss: 0.6924495323229645 \t \n",
      " 45%|████▌     | 25830/57400 [57:20<1:04:51,  8.11it/s]\n",
      "Epoch 46 \t Training loss: 0.6916067103891007 \t Validation loss: 0.6919622350547273 \t \n",
      " 46%|████▌     | 26404/57400 [58:36<1:06:39,  7.75it/s]\n",
      "Epoch 47 \t Training loss: 0.6913948453677241 \t Validation loss: 0.6920442803431366 \t \n",
      " 47%|████▋     | 26978/57400 [59:53<1:00:32,  8.38it/s]\n",
      "Epoch 48 \t Training loss: 0.6910669134884346 \t Validation loss: 0.6908606502969387 \t \n",
      " 48%|████▊     | 27552/57400 [1:01:10<1:05:14,  7.62it/s]\n",
      "Epoch 49 \t Training loss: 0.6909188042534353 \t Validation loss: 0.6909521848468457 \t \n",
      " 49%|████▉     | 28126/57400 [1:02:26<56:25,  8.65it/s]\n",
      "Epoch 50 \t Training loss: 0.6909195443271344 \t Validation loss: 0.6913822757995735 \t \n",
      " 50%|█████     | 28700/57400 [1:03:43<53:41,  8.91it/s]\n",
      "Epoch 51 \t Training loss: 0.6903467074503882 \t Validation loss: 0.6905996203422546 \t \n",
      " 51%|█████     | 29274/57400 [1:05:00<1:01:13,  7.66it/s]\n",
      "Epoch 52 \t Training loss: 0.6905809964867834 \t Validation loss: 0.6927877957538023 \t \n",
      "\n",
      "1 epoch without improvement\n",
      " 52%|█████▏    | 29848/57400 [1:06:16<53:19,  8.61it/s]\n",
      "Epoch 53 \t Training loss: 0.6903362968865172 \t Validation loss: 0.6914677670446493 \t \n",
      " 53%|█████▎    | 30422/57400 [1:07:33<58:51,  7.64it/s]\n",
      "Epoch 54 \t Training loss: 0.6897816039128586 \t Validation loss: 0.6908396017753472 \t \n",
      " 54%|█████▍    | 30996/57400 [1:08:49<57:02,  7.71it/s]\n",
      "Epoch 55 \t Training loss: 0.6900822382147719 \t Validation loss: 0.6912343239380141 \t \n",
      " 55%|█████▌    | 31570/57400 [1:10:06<1:00:32,  7.11it/s]\n",
      "Epoch 56 \t Training loss: 0.6897390504539636 \t Validation loss: 0.690470157033306 \t \n",
      " 56%|█████▌    | 32144/57400 [1:11:23<54:25,  7.73it/s]\n",
      "Epoch 57 \t Training loss: 0.6893349555726666 \t Validation loss: 0.6928349480790607 \t \n",
      "\n",
      "1 epoch without improvement\n",
      " 57%|█████▋    | 32718/57400 [1:12:39<46:28,  8.85it/s]\n",
      "Epoch 58 \t Training loss: 0.6893912125962952 \t Validation loss: 0.690367219811779 \t \n",
      " 58%|█████▊    | 33292/57400 [1:13:56<52:44,  7.62it/s]\n",
      "Epoch 59 \t Training loss: 0.6897181195664489 \t Validation loss: 0.6896529874559176 \t \n",
      " 59%|█████▉    | 33866/57400 [1:15:13<48:39,  8.06it/s]\n",
      "Epoch 60 \t Training loss: 0.689206418467731 \t Validation loss: 0.6908268524428546 \t \n",
      "\n",
      "1 epoch without improvement\n",
      " 60%|██████    | 34440/57400 [1:16:30<44:05,  8.68it/s]\n",
      "Epoch 61 \t Training loss: 0.689202219247818 \t Validation loss: 0.6914615024954586 \t \n",
      "\n",
      "2 epoch without improvement\n",
      " 61%|██████    | 35014/57400 [1:17:46<43:01,  8.67it/s]\n",
      "Epoch 62 \t Training loss: 0.689222449832677 \t Validation loss: 0.6909568380501311 \t \n",
      "\n",
      "3 epoch without improvement\n",
      " 62%|██████▏   | 35588/57400 [1:19:03<44:16,  8.21it/s]\n",
      "Epoch 63 \t Training loss: 0.6890694547821005 \t Validation loss: 0.691397263842114 \t \n",
      "\n",
      "4 epoch without improvement\n",
      " 63%|██████▎   | 36162/57400 [1:20:20<46:16,  7.65it/s]\n",
      "Epoch 64 \t Training loss: 0.6888197475609463 \t Validation loss: 0.6910826836602163 \t \n",
      "\n",
      "5 epoch without improvement\n",
      " 64%|██████▍   | 36736/57400 [1:21:36<46:37,  7.39it/s]\n",
      "Epoch 65 \t Training loss: 0.689053098395311 \t Validation loss: 0.6910868004216986 \t \n",
      "\n",
      "6 epoch without improvement\n",
      " 65%|██████▌   | 37310/57400 [1:22:52<48:53,  6.85it/s]\n",
      "Epoch 66 \t Training loss: 0.688148272265956 \t Validation loss: 0.6907678640494912 \t \n",
      "\n",
      "7 epoch without improvement\n",
      " 66%|██████▌   | 37884/57400 [1:24:09<39:28,  8.24it/s]\n",
      "Epoch 67 \t Training loss: 0.6891012219809489 \t Validation loss: 0.6900551127175153 \t \n",
      " 67%|██████▋   | 38458/57400 [1:25:25<41:05,  7.68it/s]\n",
      "Epoch 68 \t Training loss: 0.6886168634226929 \t Validation loss: 0.6911642096810422 \t \n",
      "\n",
      "8 epoch without improvement\n",
      " 68%|██████▊   | 39032/57400 [1:26:42<34:52,  8.78it/s]\n",
      "Epoch 69 \t Training loss: 0.6886446175882626 \t Validation loss: 0.6909515271752568 \t \n",
      "\n",
      "9 epoch without improvement\n",
      " 69%|██████▉   | 39606/57400 [1:27:59<39:27,  7.51it/s]\n",
      "Epoch 70 \t Training loss: 0.6882752493698838 \t Validation loss: 0.6909122951960159 \t \n",
      "\n",
      "10 epoch without improvement\n",
      "Validation_loss hasn't improve in 10 epoch. Stopping training after 70 epochs...\n"
     ]
    },
    {
     "data": {
      "image/png": "[encoded data removed]",
      "text/plain": [
       "<Figure size 640x480 with 1 Axes>"
      ]
     },
     "metadata": {},
     "output_type": "display_data"
    }
   ],
   "source": [
    "learning_rate = 5e-5\n",
    "optimizer = SGD(model.parameters(), lr=learning_rate, momentum=0.9)\n",
    "num_epochs = 100\n",
    "\n",
    "train.train_function(model,num_epochs,dl_train['as'],optimizer,early_stop=10,dl_val=dl_val['as'],save_path=save_path)"
   ]
  },
  {
   "cell_type": "code",
   "execution_count": 20,
   "metadata": {},
   "outputs": [
    {
     "name": "stderr",
     "output_type": "stream",
     "text": [
      "Some weights of the model checkpoint at roberta-base were not used when initializing RobertaModel: ['lm_head.dense.bias', 'lm_head.layer_norm.weight', 'lm_head.dense.weight', 'lm_head.bias', 'lm_head.decoder.weight', 'lm_head.layer_norm.bias']\n",
      "- This IS expected if you are initializing RobertaModel from the checkpoint of a model trained on another task or with another architecture (e.g. initializing a BertForSequenceClassification model from a BertForPreTraining model).\n",
      "- This IS NOT expected if you are initializing RobertaModel from the checkpoint of a model that you expect to be exactly identical (initializing a BertForSequenceClassification model from a BertForSequenceClassification model).\n"
     ]
    },
    {
     "name": "stdout",
     "output_type": "stream",
     "text": [
      "GLOBAL: 0.6696428571428571 \n",
      "\n",
      "Using scikit learn accuracy por género en el conjunto about\n",
      "MALE 0.6354166666666666\n",
      "FEMALE 0.7025 \n",
      "\n",
      "GLOBAL: 0.6868686868686869 \n",
      "\n",
      "Using scikit learn accuracy por género en el conjunto to\n",
      "MALE 0.7177615571776156\n",
      "FEMALE 0.6535433070866141 \n",
      "\n",
      "GLOBAL: 0.6727509778357236 \n",
      "\n",
      "Using scikit learn accuracy por género en el conjunto as\n",
      "MALE 0.5959595959595959\n",
      "FEMALE 0.7547169811320755 \n",
      "\n"
     ]
    }
   ],
   "source": [
    "model = st.SingleTaskSimple(model_conf).to(device)\n",
    "model.load_state_dict(torch.load(save_path))\n",
    "\n",
    "for task in ['about','to','as']:\n",
    "    print(f\"GLOBAL: {train.eval_function_single_sk(model,dl_eval[task])}\",'\\n')\n",
    "    print(f\"Using scikit learn accuracy por género en el conjunto {task}\")\n",
    "    print(f\"MALE {train.eval_function_single_sk(model,dl_eval[task],gender='male')}\")\n",
    "    print(f\"FEMALE {train.eval_function_single_sk(model,dl_eval[task],gender='female')}\",'\\n')"
   ]
  }
 ],
 "metadata": {
  "kernelspec": {
   "display_name": "tfg",
   "language": "python",
   "name": "python3"
  },
  "language_info": {
   "codemirror_mode": {
    "name": "ipython",
    "version": 3
   },
   "file_extension": ".py",
   "mimetype": "text/x-python",
   "name": "python",
   "nbconvert_exporter": "python",
   "pygments_lexer": "ipython3",
   "version": "3.9.13"
  },
  "orig_nbformat": 4,
  "vscode": {
   "interpreter": {
    "hash": "b2012626cca2d66e84dc87dc317222963c31dcd31e180f1257b027de73883164"
   }
  }
 },
 "nbformat": 4,
 "nbformat_minor": 2
}
