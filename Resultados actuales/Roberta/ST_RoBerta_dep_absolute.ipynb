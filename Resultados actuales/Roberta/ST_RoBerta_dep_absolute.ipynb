{
 "cells": [
  {
   "cell_type": "code",
   "execution_count": 1,
   "metadata": {},
   "outputs": [],
   "source": [
    "import torch\n",
    "from torch.utils.data import DataLoader\n",
    "from torch.optim import AdamW, SGD \n",
    "\n",
    "\n",
    "\n",
    "\n",
    "import json\n",
    "\n"
   ]
  },
  {
   "cell_type": "code",
   "execution_count": 2,
   "metadata": {},
   "outputs": [],
   "source": [
    "import utils_generic as generic\n",
    "import singletask_dep as st\n",
    "import model_confs as confs\n",
    "\n",
    "\n",
    "import train_dep as train"
   ]
  },
  {
   "cell_type": "code",
   "execution_count": 3,
   "metadata": {},
   "outputs": [
    {
     "data": {
      "text/plain": [
       "<torch._C.Generator at 0x24bdc47a790>"
      ]
     },
     "execution_count": 3,
     "metadata": {},
     "output_type": "execute_result"
    }
   ],
   "source": [
    "device = torch.device(\"cuda\") if torch.cuda.is_available() else torch.device(\"cpu\")\n",
    "torch.manual_seed(27)"
   ]
  },
  {
   "cell_type": "code",
   "execution_count": 4,
   "metadata": {},
   "outputs": [],
   "source": [
    "model_conf = confs.roberta_conf\n",
    "encoding_type = 'absolute'"
   ]
  },
  {
   "attachments": {},
   "cell_type": "markdown",
   "metadata": {},
   "source": [
    "# Datos ConvAI2"
   ]
  },
  {
   "cell_type": "code",
   "execution_count": 5,
   "metadata": {},
   "outputs": [],
   "source": [
    "with open('Datasets\\ConvAI2\\convai2_complete.json','r') as f:\n",
    "    data = json.load(f)"
   ]
  },
  {
   "cell_type": "code",
   "execution_count": 6,
   "metadata": {},
   "outputs": [],
   "source": [
    "vocab = st.Vocabulary(data['train'],encoding_type)"
   ]
  },
  {
   "cell_type": "code",
   "execution_count": 7,
   "metadata": {},
   "outputs": [],
   "source": [
    "convai_train = data['train']\n",
    "convai_val = data['validation']\n",
    "\n",
    "\n",
    "\n",
    "convai_train_token = generic.tokenize_dataset_with_dependencies(convai_train,['about','to','as'],vocab,model_conf) \n",
    "convai_val_token = generic.tokenize_dataset_with_dependencies(convai_val,['about','to','as'],vocab,model_conf) "
   ]
  },
  {
   "cell_type": "code",
   "execution_count": 8,
   "metadata": {},
   "outputs": [],
   "source": [
    "convai_train_dataset = {}\n",
    "for task in ['to','as','about']:\n",
    "    convai_train_dataset[task] = st.DatasetSingleTaskDep(convai_train_token,task,eval=False)"
   ]
  },
  {
   "cell_type": "code",
   "execution_count": 9,
   "metadata": {},
   "outputs": [],
   "source": [
    "convai_val_dataset = {}\n",
    "for task in ['to','as','about']:\n",
    "    convai_val_dataset[task] = st.DatasetSingleTaskDep(convai_val_token,task,eval=False)"
   ]
  },
  {
   "attachments": {},
   "cell_type": "markdown",
   "metadata": {},
   "source": [
    "# Datos md_gender"
   ]
  },
  {
   "cell_type": "code",
   "execution_count": 10,
   "metadata": {},
   "outputs": [],
   "source": [
    "with open('Datasets\\md_gender\\md_complete.json','r',encoding=\"utf8\") as f:\n",
    "    md_data = json.load(f)"
   ]
  },
  {
   "cell_type": "code",
   "execution_count": 11,
   "metadata": {},
   "outputs": [],
   "source": [
    "md_tokenized = generic.tokenize_dataset_with_dependencies(md_data,['about','to','as'],vocab,model_conf) \n",
    "\n",
    "\n",
    "md_dataset = {}\n",
    "for task in ['to','as','about']:\n",
    "    md_dataset[task] = st.DatasetSingleTaskDep(md_tokenized,task,eval=True)"
   ]
  },
  {
   "attachments": {},
   "cell_type": "markdown",
   "metadata": {},
   "source": [
    "# Creación dataloaders"
   ]
  },
  {
   "cell_type": "code",
   "execution_count": 12,
   "metadata": {},
   "outputs": [],
   "source": [
    "dl_train = {}\n",
    "for task in ['to','as','about']:\n",
    "    dl_train[task] = DataLoader(convai_train_dataset[task],batch_size=128,shuffle=True,collate_fn=st.collate_fn)"
   ]
  },
  {
   "cell_type": "code",
   "execution_count": 13,
   "metadata": {},
   "outputs": [],
   "source": [
    "dl_val = {}\n",
    "for task in ['to','as','about']:\n",
    "    dl_val[task] = DataLoader(convai_val_dataset[task],batch_size=128,shuffle=True,collate_fn=st.collate_fn)"
   ]
  },
  {
   "cell_type": "code",
   "execution_count": 14,
   "metadata": {},
   "outputs": [],
   "source": [
    "dl_eval = {}\n",
    "for task in ['to','as','about']:\n",
    "    dl_eval[task] = DataLoader(md_dataset[task],batch_size=128,shuffle=False,collate_fn=st.collate_fn)"
   ]
  },
  {
   "attachments": {},
   "cell_type": "markdown",
   "metadata": {},
   "source": [
    "# ABOUT"
   ]
  },
  {
   "cell_type": "code",
   "execution_count": 15,
   "metadata": {},
   "outputs": [
    {
     "name": "stderr",
     "output_type": "stream",
     "text": [
      "Some weights of the model checkpoint at roberta-base were not used when initializing RobertaModel: ['lm_head.dense.bias', 'lm_head.layer_norm.weight', 'lm_head.bias', 'lm_head.dense.weight', 'lm_head.decoder.weight', 'lm_head.layer_norm.bias']\n",
      "- This IS expected if you are initializing RobertaModel from the checkpoint of a model trained on another task or with another architecture (e.g. initializing a BertForSequenceClassification model from a BertForPreTraining model).\n",
      "- This IS NOT expected if you are initializing RobertaModel from the checkpoint of a model that you expect to be exactly identical (initializing a BertForSequenceClassification model from a BertForSequenceClassification model).\n"
     ]
    }
   ],
   "source": [
    "model = st.SingleTaskDep(model_conf,vocab).to(device)\n",
    "save_path='m1_dep_roberta_about_abs'"
   ]
  },
  {
   "cell_type": "code",
   "execution_count": 16,
   "metadata": {},
   "outputs": [
    {
     "name": "stdout",
     "output_type": "stream",
     "text": [
      "Using scikit learn accuracy por género en el conjunto about\n",
      "GLOBAL: 0.5102040816326531\n",
      "MALE 0.0\n",
      "FEMALE 1.0 \n",
      "\n",
      "Using scikit learn accuracy por género en el conjunto to\n",
      "GLOBAL: 0.4810606060606061\n",
      "MALE 0.0\n",
      "FEMALE 1.0 \n",
      "\n",
      "Using scikit learn accuracy por género en el conjunto as\n",
      "GLOBAL: 0.48370273794002605\n",
      "MALE 0.0\n",
      "FEMALE 1.0 \n",
      "\n"
     ]
    }
   ],
   "source": [
    "for task in ['about','to','as']:\n",
    "    print(f\"Using scikit learn accuracy por género en el conjunto {task}\")\n",
    "    print(f\"GLOBAL: {train.eval_function_single_sk(model,dl_eval[task])}\")\n",
    "    print(f\"MALE {train.eval_function_single_sk(model,dl_eval[task],gender='male')}\")\n",
    "    print(f\"FEMALE {train.eval_function_single_sk(model,dl_eval[task],gender='female')}\",'\\n')"
   ]
  },
  {
   "cell_type": "code",
   "execution_count": 17,
   "metadata": {},
   "outputs": [
    {
     "data": {
      "application/vnd.jupyter.widget-view+json": {
       "model_id": "618f92bf8f35469f9863d38c04858b63",
       "version_major": 2,
       "version_minor": 0
      },
      "text/plain": [
       "  0%|          | 0/57400 [00:00<?, ?it/s]"
      ]
     },
     "metadata": {},
     "output_type": "display_data"
    },
    {
     "name": "stdout",
     "output_type": "stream",
     "text": [
      "Epoch 1 \t Training loss: 0.6839543406556292 \t Validation loss: 0.684440809791371 \t \n",
      "  1%|          | 574/57400 [01:19<1:59:21,  7.93it/s]\n",
      "Epoch 2 \t Training loss: 0.6818197676944401 \t Validation loss: 0.6841403912689726 \t \n",
      "  2%|▏         | 1148/57400 [02:39<1:58:57,  7.88it/s]\n",
      "Epoch 3 \t Training loss: 0.6813072034706222 \t Validation loss: 0.6839960672087588 \t \n",
      "  3%|▎         | 1722/57400 [03:59<1:56:50,  7.94it/s]\n",
      "Epoch 4 \t Training loss: 0.6807299190905036 \t Validation loss: 0.683020881677078 \t \n",
      "  4%|▍         | 2296/57400 [05:19<2:02:23,  7.50it/s]\n",
      "Epoch 5 \t Training loss: 0.6793864320587198 \t Validation loss: 0.6818731255450491 \t \n",
      "  5%|▌         | 2870/57400 [06:39<1:57:47,  7.72it/s]\n",
      "Epoch 6 \t Training loss: 0.6765173624824564 \t Validation loss: 0.6764198834613219 \t \n",
      "  6%|▌         | 3444/57400 [08:00<2:00:32,  7.46it/s]\n",
      "Epoch 7 \t Training loss: 0.6322146662436295 \t Validation loss: 0.5155422773401616 \t \n",
      "  7%|▋         | 4018/57400 [09:20<2:05:13,  7.10it/s]\n",
      "Epoch 8 \t Training loss: 0.4775954631355166 \t Validation loss: 0.4126983976970285 \t \n",
      "  8%|▊         | 4592/57400 [10:41<1:58:31,  7.43it/s]\n",
      "Epoch 9 \t Training loss: 0.42275288026091945 \t Validation loss: 0.38169608176764797 \t \n",
      "  9%|▉         | 5166/57400 [12:02<1:58:19,  7.36it/s]\n",
      "Epoch 10 \t Training loss: 0.3971644599211341 \t Validation loss: 0.36290960392709504 \t \n",
      " 10%|█         | 5740/57400 [13:23<1:49:49,  7.84it/s]\n",
      "Epoch 11 \t Training loss: 0.38160075117486697 \t Validation loss: 0.3519678290112544 \t \n",
      " 11%|█         | 6314/57400 [14:43<1:58:48,  7.17it/s]\n",
      "Epoch 12 \t Training loss: 0.3697178086285392 \t Validation loss: 0.34229484781370323 \t \n",
      " 12%|█▏        | 6888/57400 [16:03<1:38:58,  8.51it/s]\n",
      "Epoch 13 \t Training loss: 0.36271756082669365 \t Validation loss: 0.3344722973593211 \t \n",
      " 13%|█▎        | 7462/57400 [17:22<1:43:45,  8.02it/s]\n",
      "Epoch 14 \t Training loss: 0.35675430025269345 \t Validation loss: 0.3371603968790022 \t \n",
      "\n",
      "1 epoch without improvement\n",
      " 14%|█▍        | 8036/57400 [18:40<1:48:41,  7.57it/s]\n",
      "Epoch 15 \t Training loss: 0.35168114011192153 \t Validation loss: 0.3400047209303258 \t \n",
      "\n",
      "2 epoch without improvement\n",
      " 15%|█▌        | 8610/57400 [19:58<1:47:19,  7.58it/s]\n",
      "Epoch 16 \t Training loss: 0.3485983178694489 \t Validation loss: 0.32517936547934 \t \n",
      " 16%|█▌        | 9184/57400 [21:17<1:50:55,  7.24it/s]\n",
      "Epoch 17 \t Training loss: 0.34077343149986833 \t Validation loss: 0.3332791889117936 \t \n",
      "\n",
      "1 epoch without improvement\n",
      " 17%|█▋        | 9758/57400 [22:35<1:34:11,  8.43it/s]\n",
      "Epoch 18 \t Training loss: 0.33867402081394027 \t Validation loss: 0.32249981745824974 \t \n",
      " 18%|█▊        | 10332/57400 [23:54<1:43:33,  7.57it/s]\n",
      "Epoch 19 \t Training loss: 0.333880667123645 \t Validation loss: 0.31857421842672057 \t \n",
      " 19%|█▉        | 10906/57400 [25:13<1:36:30,  8.03it/s]\n",
      "Epoch 20 \t Training loss: 0.3317072773644318 \t Validation loss: 0.31501599868475383 \t \n",
      " 20%|██        | 11480/57400 [26:32<1:43:30,  7.39it/s]\n",
      "Epoch 21 \t Training loss: 0.3275038266898448 \t Validation loss: 0.31402597159652385 \t \n",
      " 21%|██        | 12054/57400 [27:51<1:34:04,  8.03it/s]\n",
      "Epoch 22 \t Training loss: 0.3256984924449738 \t Validation loss: 0.312849274883836 \t \n",
      " 22%|██▏       | 12628/57400 [29:10<1:28:55,  8.39it/s]\n",
      "Epoch 23 \t Training loss: 0.32191251438980734 \t Validation loss: 0.31328372429993195 \t \n",
      " 23%|██▎       | 13202/57400 [30:28<1:40:59,  7.29it/s]\n",
      "Epoch 24 \t Training loss: 0.3214266630934506 \t Validation loss: 0.31734601420871283 \t \n",
      "\n",
      "1 epoch without improvement\n",
      " 24%|██▍       | 13776/57400 [31:47<1:43:26,  7.03it/s]\n",
      "Epoch 25 \t Training loss: 0.3173155724119642 \t Validation loss: 0.30880018336288 \t \n",
      " 25%|██▌       | 14350/57400 [33:06<1:29:24,  8.02it/s]\n",
      "Epoch 26 \t Training loss: 0.31508782666942386 \t Validation loss: 0.3091303092443337 \t \n",
      " 26%|██▌       | 14924/57400 [34:24<1:21:51,  8.65it/s]\n",
      "Epoch 27 \t Training loss: 0.31556509557189844 \t Validation loss: 0.30800961235822255 \t \n",
      " 27%|██▋       | 15498/57400 [35:43<1:36:57,  7.20it/s]\n",
      "Epoch 28 \t Training loss: 0.3115126795885039 \t Validation loss: 0.3067398389517251 \t \n",
      " 28%|██▊       | 16072/57400 [37:01<1:36:09,  7.16it/s]\n",
      "Epoch 29 \t Training loss: 0.3080383103847088 \t Validation loss: 0.3108717475907277 \t \n",
      "\n",
      "1 epoch without improvement\n",
      " 29%|██▉       | 16646/57400 [38:20<1:33:17,  7.28it/s]\n",
      "Epoch 30 \t Training loss: 0.30783528715164404 \t Validation loss: 0.3049599588927576 \t \n",
      " 30%|███       | 17220/57400 [39:38<1:40:28,  6.66it/s]\n",
      "Epoch 31 \t Training loss: 0.304075442462225 \t Validation loss: 0.30534637302665385 \t \n",
      " 31%|███       | 17794/57400 [40:57<1:16:20,  8.65it/s]\n",
      "Epoch 32 \t Training loss: 0.30397123098373413 \t Validation loss: 0.30412191253597454 \t \n",
      " 32%|███▏      | 18368/57400 [42:16<1:35:17,  6.83it/s]\n",
      "Epoch 33 \t Training loss: 0.3009729831372404 \t Validation loss: 0.3043549396729065 \t \n",
      " 33%|███▎      | 18942/57400 [43:34<1:14:51,  8.56it/s]\n",
      "Epoch 34 \t Training loss: 0.29987858723888 \t Validation loss: 0.30378290202658054 \t \n",
      " 34%|███▍      | 19516/57400 [44:53<1:23:35,  7.55it/s]\n",
      "Epoch 35 \t Training loss: 0.2986964513044739 \t Validation loss: 0.30327089939077023 \t \n",
      " 35%|███▌      | 20090/57400 [46:12<1:19:38,  7.81it/s]\n",
      "Epoch 36 \t Training loss: 0.2969559578789651 \t Validation loss: 0.3051508814096451 \t \n",
      "\n",
      "1 epoch without improvement\n",
      " 36%|███▌      | 20664/57400 [47:30<1:10:07,  8.73it/s]\n",
      "Epoch 37 \t Training loss: 0.29678941419419513 \t Validation loss: 0.3021223292512409 \t \n",
      " 37%|███▋      | 21238/57400 [48:49<1:19:24,  7.59it/s]\n",
      "Epoch 38 \t Training loss: 0.2930403887083306 \t Validation loss: 0.30123924350334425 \t \n",
      " 38%|███▊      | 21812/57400 [50:08<1:19:54,  7.42it/s]\n",
      "Epoch 39 \t Training loss: 0.2926941580213736 \t Validation loss: 0.3027916287971755 \t \n",
      "\n",
      "1 epoch without improvement\n",
      " 39%|███▉      | 22386/57400 [51:26<1:17:40,  7.51it/s]\n",
      "Epoch 40 \t Training loss: 0.2915235586490365 \t Validation loss: 0.31025303976010465 \t \n",
      "\n",
      "2 epoch without improvement\n",
      " 40%|████      | 22960/57400 [52:45<1:20:54,  7.09it/s]\n",
      "Epoch 41 \t Training loss: 0.2903325514355188 \t Validation loss: 0.3056301618531599 \t \n",
      "\n",
      "3 epoch without improvement\n",
      " 41%|████      | 23534/57400 [54:03<1:09:52,  8.08it/s]\n",
      "Epoch 42 \t Training loss: 0.28873481938959417 \t Validation loss: 0.3019910189559904 \t \n",
      " 42%|████▏     | 24108/57400 [55:22<1:09:35,  7.97it/s]\n",
      "Epoch 43 \t Training loss: 0.2883900135028653 \t Validation loss: 0.3010498181743137 \t \n",
      " 43%|████▎     | 24682/57400 [56:41<1:08:26,  7.97it/s]\n",
      "Epoch 44 \t Training loss: 0.28776183005305533 \t Validation loss: 0.30106582606242877 \t \n",
      " 44%|████▍     | 25256/57400 [57:59<1:01:20,  8.73it/s]\n",
      "Epoch 45 \t Training loss: 0.2862828780445903 \t Validation loss: 0.2991760052361731 \t \n",
      " 45%|████▌     | 25830/57400 [59:18<1:10:17,  7.49it/s]\n",
      "Epoch 46 \t Training loss: 0.28365249765666933 \t Validation loss: 0.3018193548008547 \t \n",
      "\n",
      "1 epoch without improvement\n",
      " 46%|████▌     | 26404/57400 [1:00:36<1:11:37,  7.21it/s]\n",
      "Epoch 47 \t Training loss: 0.28412343886151964 \t Validation loss: 0.2984270882808556 \t \n",
      " 47%|████▋     | 26978/57400 [1:01:55<1:01:36,  8.23it/s]\n",
      "Epoch 48 \t Training loss: 0.2814804134883947 \t Validation loss: 0.30038160338240155 \t \n",
      "\n",
      "1 epoch without improvement\n",
      " 48%|████▊     | 27552/57400 [1:03:13<1:07:32,  7.36it/s]\n",
      "Epoch 49 \t Training loss: 0.2803287166803556 \t Validation loss: 0.2973456339815916 \t \n",
      " 49%|████▉     | 28126/57400 [1:04:32<1:00:22,  8.08it/s]\n",
      "Epoch 50 \t Training loss: 0.2794086333974313 \t Validation loss: 0.29852604562953367 \t \n",
      "\n",
      "1 epoch without improvement\n",
      " 50%|█████     | 28700/57400 [1:05:51<1:07:46,  7.06it/s]\n",
      "Epoch 51 \t Training loss: 0.278838365127816 \t Validation loss: 0.29862201289605284 \t \n",
      "\n",
      "2 epoch without improvement\n",
      " 51%|█████     | 29274/57400 [1:07:09<59:03,  7.94it/s]\n",
      "Epoch 52 \t Training loss: 0.27796616501301424 \t Validation loss: 0.30229180722923604 \t \n",
      "\n",
      "3 epoch without improvement\n",
      " 52%|█████▏    | 29848/57400 [1:08:28<52:58,  8.67it/s]\n",
      "Epoch 53 \t Training loss: 0.2777908254635459 \t Validation loss: 0.2973402574405832 \t \n",
      " 53%|█████▎    | 30422/57400 [1:09:47<51:43,  8.69it/s]\n",
      "Epoch 54 \t Training loss: 0.27813073276227357 \t Validation loss: 0.29924321780770513 \t \n",
      "\n",
      "1 epoch without improvement\n",
      " 54%|█████▍    | 30996/57400 [1:11:05<59:09,  7.44it/s]\n",
      "Epoch 55 \t Training loss: 0.27654945263671543 \t Validation loss: 0.29703611918425155 \t \n",
      " 55%|█████▌    | 31570/57400 [1:12:24<49:17,  8.73it/s]\n",
      "Epoch 56 \t Training loss: 0.27624363395083656 \t Validation loss: 0.2975341202849049 \t \n",
      " 56%|█████▌    | 32144/57400 [1:13:42<55:54,  7.53it/s]\n",
      "Epoch 57 \t Training loss: 0.27198912683575827 \t Validation loss: 0.29639302421424346 \t \n",
      " 57%|█████▋    | 32718/57400 [1:15:01<54:28,  7.55it/s]\n",
      "Epoch 58 \t Training loss: 0.273761946591143 \t Validation loss: 0.30053667900925973 \t \n",
      "\n",
      "1 epoch without improvement\n",
      " 58%|█████▊    | 33292/57400 [1:16:19<49:54,  8.05it/s]\n",
      "Epoch 59 \t Training loss: 0.2725685857470027 \t Validation loss: 0.3029514765840466 \t \n",
      "\n",
      "2 epoch without improvement\n",
      " 59%|█████▉    | 33866/57400 [1:17:38<54:24,  7.21it/s]\n",
      "Epoch 60 \t Training loss: 0.2704316079876149 \t Validation loss: 0.3001658479541035 \t \n",
      "\n",
      "3 epoch without improvement\n",
      " 60%|██████    | 34440/57400 [1:18:56<50:44,  7.54it/s]\n",
      "Epoch 61 \t Training loss: 0.26982169164805464 \t Validation loss: 0.29805229225401153 \t \n",
      "\n",
      "4 epoch without improvement\n",
      " 61%|██████    | 35014/57400 [1:20:14<49:16,  7.57it/s]\n",
      "Epoch 62 \t Training loss: 0.26836803340018833 \t Validation loss: 0.3007087197344182 \t \n",
      "\n",
      "5 epoch without improvement\n",
      " 62%|██████▏   | 35588/57400 [1:21:33<47:33,  7.65it/s]\n",
      "Epoch 63 \t Training loss: 0.26967259589907183 \t Validation loss: 0.2987517744807874 \t \n",
      "\n",
      "6 epoch without improvement\n",
      " 63%|██████▎   | 36162/57400 [1:22:51<40:39,  8.71it/s]\n",
      "Epoch 64 \t Training loss: 0.268282044250583 \t Validation loss: 0.298257491598695 \t \n",
      "\n",
      "7 epoch without improvement\n",
      " 64%|██████▍   | 36736/57400 [1:24:09<47:38,  7.23it/s]\n",
      "Epoch 65 \t Training loss: 0.2673760451350478 \t Validation loss: 0.29807273551064023 \t \n",
      "\n",
      "8 epoch without improvement\n",
      " 65%|██████▌   | 37310/57400 [1:25:27<41:53,  7.99it/s]\n",
      "Epoch 66 \t Training loss: 0.2655117278886174 \t Validation loss: 0.29650440837367104 \t \n",
      " 66%|██████▌   | 37884/57400 [1:26:45<43:13,  7.53it/s]\n",
      "Epoch 67 \t Training loss: 0.2674628482411132 \t Validation loss: 0.29841741338624794 \t \n",
      "\n",
      "9 epoch without improvement\n",
      " 67%|██████▋   | 38458/57400 [1:28:04<38:40,  8.16it/s]\n",
      "Epoch 68 \t Training loss: 0.26616445858719456 \t Validation loss: 0.2979095669116004 \t \n",
      "\n",
      "10 epoch without improvement\n",
      "Validation_loss hasn't improve in 10 epoch. Stopping training after 68 epochs...\n"
     ]
    },
    {
     "data": {
      "image/png": "[encoded data removed]",
      "text/plain": [
       "<Figure size 640x480 with 1 Axes>"
      ]
     },
     "metadata": {},
     "output_type": "display_data"
    }
   ],
   "source": [
    "learning_rate = 5e-5\n",
    "optimizer = SGD(model.parameters(), lr=learning_rate, momentum=0.9)\n",
    "num_epochs = 100\n",
    "\n",
    "train.train_function(model,num_epochs,dl_train['about'],optimizer,early_stop=10,dl_val=dl_val['about'],save_path=save_path)"
   ]
  },
  {
   "cell_type": "code",
   "execution_count": 18,
   "metadata": {},
   "outputs": [
    {
     "name": "stderr",
     "output_type": "stream",
     "text": [
      "Some weights of the model checkpoint at roberta-base were not used when initializing RobertaModel: ['lm_head.dense.bias', 'lm_head.layer_norm.weight', 'lm_head.bias', 'lm_head.dense.weight', 'lm_head.decoder.weight', 'lm_head.layer_norm.bias']\n",
      "- This IS expected if you are initializing RobertaModel from the checkpoint of a model trained on another task or with another architecture (e.g. initializing a BertForSequenceClassification model from a BertForPreTraining model).\n",
      "- This IS NOT expected if you are initializing RobertaModel from the checkpoint of a model that you expect to be exactly identical (initializing a BertForSequenceClassification model from a BertForSequenceClassification model).\n"
     ]
    },
    {
     "name": "stdout",
     "output_type": "stream",
     "text": [
      "Using scikit learn accuracy por género en el conjunto about\n",
      "GLOBAL: 0.8622448979591837\n",
      "MALE 0.8723958333333334\n",
      "FEMALE 0.8525 \n",
      "\n",
      "Using scikit learn accuracy por género en el conjunto to\n",
      "GLOBAL: 0.6944444444444444\n",
      "MALE 0.7104622871046229\n",
      "FEMALE 0.6771653543307087 \n",
      "\n",
      "Using scikit learn accuracy por género en el conjunto as\n",
      "GLOBAL: 0.6897001303780965\n",
      "MALE 0.702020202020202\n",
      "FEMALE 0.6765498652291105 \n",
      "\n"
     ]
    }
   ],
   "source": [
    "model = st.SingleTaskDep(model_conf,vocab).to(device)\n",
    "model.load_state_dict(torch.load(save_path))\n",
    "for task in ['about','to','as']:\n",
    "    print(f\"Using scikit learn accuracy por género en el conjunto {task}\")\n",
    "    print(f\"GLOBAL: {train.eval_function_single_sk(model,dl_eval[task])}\")\n",
    "    print(f\"MALE {train.eval_function_single_sk(model,dl_eval[task],gender='male')}\")\n",
    "    print(f\"FEMALE {train.eval_function_single_sk(model,dl_eval[task],gender='female')}\",'\\n')"
   ]
  },
  {
   "attachments": {},
   "cell_type": "markdown",
   "metadata": {},
   "source": [
    "# TO"
   ]
  },
  {
   "cell_type": "code",
   "execution_count": 19,
   "metadata": {},
   "outputs": [
    {
     "name": "stderr",
     "output_type": "stream",
     "text": [
      "Some weights of the model checkpoint at roberta-base were not used when initializing RobertaModel: ['lm_head.dense.bias', 'lm_head.layer_norm.weight', 'lm_head.bias', 'lm_head.dense.weight', 'lm_head.decoder.weight', 'lm_head.layer_norm.bias']\n",
      "- This IS expected if you are initializing RobertaModel from the checkpoint of a model trained on another task or with another architecture (e.g. initializing a BertForSequenceClassification model from a BertForPreTraining model).\n",
      "- This IS NOT expected if you are initializing RobertaModel from the checkpoint of a model that you expect to be exactly identical (initializing a BertForSequenceClassification model from a BertForSequenceClassification model).\n"
     ]
    }
   ],
   "source": [
    "model = st.SingleTaskDep(model_conf,vocab).to(device)\n",
    "save_path='m1_dep_roberta_to_abs'"
   ]
  },
  {
   "cell_type": "code",
   "execution_count": 20,
   "metadata": {},
   "outputs": [
    {
     "data": {
      "application/vnd.jupyter.widget-view+json": {
       "model_id": "73419de106a84ce2a25f75bf951435e2",
       "version_major": 2,
       "version_minor": 0
      },
      "text/plain": [
       "  0%|          | 0/57400 [00:00<?, ?it/s]"
      ]
     },
     "metadata": {},
     "output_type": "display_data"
    },
    {
     "name": "stdout",
     "output_type": "stream",
     "text": [
      "Epoch 1 \t Training loss: 0.69420454487568 \t Validation loss: 0.6933020615981798 \t \n",
      "  1%|          | 574/57400 [01:18<1:56:28,  8.13it/s]\n",
      "Epoch 2 \t Training loss: 0.6937642446378383 \t Validation loss: 0.6930530111668474 \t \n",
      "  2%|▏         | 1148/57400 [02:37<2:11:54,  7.11it/s]\n",
      "Epoch 3 \t Training loss: 0.6933746159284372 \t Validation loss: 0.6941941239066043 \t \n",
      "\n",
      "1 epoch without improvement\n",
      "  3%|▎         | 1722/57400 [03:55<1:54:44,  8.09it/s]\n",
      "Epoch 4 \t Training loss: 0.6933563644462346 \t Validation loss: 0.6926278249692108 \t \n",
      "  4%|▍         | 2296/57400 [05:14<1:45:55,  8.67it/s]\n",
      "Epoch 5 \t Training loss: 0.693439159762984 \t Validation loss: 0.6933466337494931 \t \n",
      "  5%|▌         | 2870/57400 [06:32<1:46:04,  8.57it/s]\n",
      "Epoch 6 \t Training loss: 0.6934038987350796 \t Validation loss: 0.6931824320453709 \t \n",
      "  6%|▌         | 3444/57400 [07:51<2:00:29,  7.46it/s]\n",
      "Epoch 7 \t Training loss: 0.6931851719106946 \t Validation loss: 0.6933757804207883 \t \n",
      "  7%|▋         | 4018/57400 [09:09<1:48:25,  8.21it/s]\n",
      "Epoch 8 \t Training loss: 0.6934280667570826 \t Validation loss: 0.6935604952149472 \t \n",
      "  8%|▊         | 4592/57400 [10:27<1:48:24,  8.12it/s]\n",
      "Epoch 9 \t Training loss: 0.6933148543801457 \t Validation loss: 0.6936959876852521 \t \n",
      "\n",
      "1 epoch without improvement\n",
      "  9%|▉         | 5166/57400 [11:46<1:39:35,  8.74it/s]\n",
      "Epoch 10 \t Training loss: 0.6933911782316214 \t Validation loss: 0.6933754460286286 \t \n",
      " 10%|█         | 5740/57400 [13:04<1:54:22,  7.53it/s]\n",
      "Epoch 11 \t Training loss: 0.6933010109417945 \t Validation loss: 0.6928973197937012 \t \n",
      " 11%|█         | 6314/57400 [14:23<1:53:50,  7.48it/s]\n",
      "Epoch 12 \t Training loss: 0.693452533633036 \t Validation loss: 0.693678057799905 \t \n",
      "\n",
      "2 epoch without improvement\n",
      " 12%|█▏        | 6888/57400 [15:41<1:36:24,  8.73it/s]\n",
      "Epoch 13 \t Training loss: 0.6932670153184219 \t Validation loss: 0.6926758521694248 \t \n",
      " 13%|█▎        | 7462/57400 [16:59<1:56:09,  7.17it/s]\n",
      "Epoch 14 \t Training loss: 0.6932880887794163 \t Validation loss: 0.6925259414365736 \t \n",
      " 14%|█▍        | 8036/57400 [18:18<1:41:21,  8.12it/s]\n",
      "Epoch 15 \t Training loss: 0.6932999257011281 \t Validation loss: 0.6935572078672506 \t \n",
      "\n",
      "1 epoch without improvement\n",
      " 15%|█▌        | 8610/57400 [19:37<1:40:07,  8.12it/s]\n",
      "Epoch 16 \t Training loss: 0.6933056778608714 \t Validation loss: 0.6930542871103449 \t \n",
      " 16%|█▌        | 9184/57400 [20:55<1:35:00,  8.46it/s]\n",
      "Epoch 17 \t Training loss: 0.6933216624974373 \t Validation loss: 0.6928065015097796 \t \n",
      " 17%|█▋        | 9758/57400 [22:14<1:38:37,  8.05it/s]\n",
      "Epoch 18 \t Training loss: 0.6935237095746429 \t Validation loss: 0.6935365159632796 \t \n",
      "\n",
      "2 epoch without improvement\n",
      " 18%|█▊        | 10332/57400 [23:32<1:49:17,  7.18it/s]\n",
      "Epoch 19 \t Training loss: 0.6933260037716258 \t Validation loss: 0.6940681398925135 \t \n",
      "\n",
      "3 epoch without improvement\n",
      " 19%|█▉        | 10906/57400 [24:51<1:45:34,  7.34it/s]\n",
      "Epoch 20 \t Training loss: 0.6932703371870393 \t Validation loss: 0.6932729088653953 \t \n",
      " 20%|██        | 11480/57400 [26:09<1:44:41,  7.31it/s]\n",
      "Epoch 21 \t Training loss: 0.6933477842849306 \t Validation loss: 0.6937571329585577 \t \n",
      "\n",
      "4 epoch without improvement\n",
      " 21%|██        | 12054/57400 [27:28<1:39:45,  7.58it/s]\n",
      "Epoch 22 \t Training loss: 0.693343868031319 \t Validation loss: 0.6930432390358489 \t \n",
      " 22%|██▏       | 12628/57400 [28:46<1:45:08,  7.10it/s]\n",
      "Epoch 23 \t Training loss: 0.6932801810914215 \t Validation loss: 0.6924488039340003 \t \n",
      " 23%|██▎       | 13202/57400 [30:05<1:30:57,  8.10it/s]\n",
      "Epoch 24 \t Training loss: 0.6932293568130985 \t Validation loss: 0.6931052096819473 \t \n",
      " 24%|██▍       | 13776/57400 [31:24<1:31:55,  7.91it/s]\n",
      "Epoch 25 \t Training loss: 0.6932694484132508 \t Validation loss: 0.6932525705483 \t \n",
      " 25%|██▌       | 14350/57400 [32:42<1:38:17,  7.30it/s]\n",
      "Epoch 26 \t Training loss: 0.6932717413229394 \t Validation loss: 0.6927757677385362 \t \n",
      " 26%|██▌       | 14924/57400 [34:01<1:34:26,  7.50it/s]\n",
      "Epoch 27 \t Training loss: 0.6932266873765075 \t Validation loss: 0.693092890715195 \t \n",
      " 27%|██▋       | 15498/57400 [35:19<1:27:25,  7.99it/s]\n",
      "Epoch 28 \t Training loss: 0.6932458268017719 \t Validation loss: 0.6933292999105939 \t \n",
      " 28%|██▊       | 16072/57400 [36:38<1:18:12,  8.81it/s]\n",
      "Epoch 29 \t Training loss: 0.6932397334210133 \t Validation loss: 0.6924017829410101 \t \n",
      " 29%|██▉       | 16646/57400 [37:57<1:25:33,  7.94it/s]\n",
      "Epoch 30 \t Training loss: 0.6933140510673722 \t Validation loss: 0.6935629491078652 \t \n",
      "\n",
      "1 epoch without improvement\n",
      " 30%|███       | 17220/57400 [39:16<1:29:08,  7.51it/s]\n",
      "Epoch 31 \t Training loss: 0.6932551646897186 \t Validation loss: 0.6933540257356935 \t \n",
      " 31%|███       | 17794/57400 [40:34<1:22:46,  7.97it/s]\n",
      "Epoch 32 \t Training loss: 0.6932305478675855 \t Validation loss: 0.6924790487451068 \t \n",
      " 32%|███▏      | 18368/57400 [41:53<1:15:53,  8.57it/s]\n",
      "Epoch 33 \t Training loss: 0.6933826493676947 \t Validation loss: 0.6932852732933174 \t \n",
      " 33%|███▎      | 18942/57400 [43:11<1:25:59,  7.45it/s]\n",
      "Epoch 34 \t Training loss: 0.6933487456434695 \t Validation loss: 0.6927635386838751 \t \n",
      " 34%|███▍      | 19516/57400 [44:29<1:24:15,  7.49it/s]\n",
      "Epoch 35 \t Training loss: 0.6930957722123907 \t Validation loss: 0.6929770859621339 \t \n",
      " 35%|███▌      | 20090/57400 [45:48<1:18:29,  7.92it/s]\n",
      "Epoch 36 \t Training loss: 0.693205711525907 \t Validation loss: 0.6926654688382553 \t \n",
      " 36%|███▌      | 20664/57400 [47:06<1:16:11,  8.04it/s]\n",
      "Epoch 37 \t Training loss: 0.693244962949786 \t Validation loss: 0.6928529001898684 \t \n",
      " 37%|███▋      | 21238/57400 [48:25<1:25:00,  7.09it/s]\n",
      "Epoch 38 \t Training loss: 0.6932900473215854 \t Validation loss: 0.6926970340437808 \t \n",
      " 38%|███▊      | 21812/57400 [49:44<1:12:45,  8.15it/s]\n",
      "Epoch 39 \t Training loss: 0.693223148480525 \t Validation loss: 0.6935635603080361 \t \n",
      "\n",
      "2 epoch without improvement\n",
      " 39%|███▉      | 22386/57400 [51:02<1:06:51,  8.73it/s]\n",
      "Epoch 40 \t Training loss: 0.6933243775201592 \t Validation loss: 0.693211247355251 \t \n",
      " 40%|████      | 22960/57400 [52:20<1:17:52,  7.37it/s]\n",
      "Epoch 41 \t Training loss: 0.6931554835017134 \t Validation loss: 0.6920923045126058 \t \n",
      " 41%|████      | 23534/57400 [53:40<1:15:17,  7.50it/s]\n",
      "Epoch 42 \t Training loss: 0.6933255552830181 \t Validation loss: 0.692866115246789 \t \n",
      " 42%|████▏     | 24108/57400 [54:58<1:15:39,  7.33it/s]\n",
      "Epoch 43 \t Training loss: 0.693152323417132 \t Validation loss: 0.6927818575147855 \t \n",
      " 43%|████▎     | 24682/57400 [56:17<1:13:24,  7.43it/s]\n",
      "Epoch 44 \t Training loss: 0.6932458451816014 \t Validation loss: 0.6926038709737486 \t \n",
      " 44%|████▍     | 25256/57400 [57:35<1:11:06,  7.53it/s]\n",
      "Epoch 45 \t Training loss: 0.6931416157646046 \t Validation loss: 0.6924070574469485 \t \n",
      " 45%|████▌     | 25830/57400 [58:54<1:05:58,  7.97it/s]\n",
      "Epoch 46 \t Training loss: 0.6932643816030815 \t Validation loss: 0.6923896549111705 \t \n",
      " 46%|████▌     | 26404/57400 [1:00:12<1:10:12,  7.36it/s]\n",
      "Epoch 47 \t Training loss: 0.6932341200964791 \t Validation loss: 0.6925129900544377 \t \n",
      " 47%|████▋     | 26978/57400 [1:01:30<1:09:04,  7.34it/s]\n",
      "Epoch 48 \t Training loss: 0.6932297075874714 \t Validation loss: 0.692581682892169 \t \n",
      " 48%|████▊     | 27552/57400 [1:02:49<1:08:36,  7.25it/s]\n",
      "Epoch 49 \t Training loss: 0.6932037627447772 \t Validation loss: 0.6936265886840174 \t \n",
      "\n",
      "1 epoch without improvement\n",
      " 49%|████▉     | 28126/57400 [1:04:08<1:07:42,  7.21it/s]\n",
      "Epoch 50 \t Training loss: 0.6934032006130817 \t Validation loss: 0.6932856935565754 \t \n",
      "\n",
      "2 epoch without improvement\n",
      " 50%|█████     | 28700/57400 [1:05:26<1:03:58,  7.48it/s]\n",
      "Epoch 51 \t Training loss: 0.693286501052903 \t Validation loss: 0.693162090697531 \t \n",
      "\n",
      "3 epoch without improvement\n",
      " 51%|█████     | 29274/57400 [1:06:44<1:05:21,  7.17it/s]\n",
      "Epoch 52 \t Training loss: 0.6933256100071432 \t Validation loss: 0.6933397489078974 \t \n",
      "\n",
      "4 epoch without improvement\n",
      " 52%|█████▏    | 29848/57400 [1:08:03<1:03:33,  7.23it/s]\n",
      "Epoch 53 \t Training loss: 0.6932579844878526 \t Validation loss: 0.6932292802859161 \t \n",
      "\n",
      "5 epoch without improvement\n",
      " 53%|█████▎    | 30422/57400 [1:09:21<1:00:15,  7.46it/s]\n",
      "Epoch 54 \t Training loss: 0.6932380519262175 \t Validation loss: 0.6926812994278083 \t \n",
      " 54%|█████▍    | 30996/57400 [1:10:40<59:08,  7.44it/s]\n",
      "Epoch 55 \t Training loss: 0.6932489049559271 \t Validation loss: 0.6933401661404108 \t \n",
      "\n",
      "6 epoch without improvement\n",
      " 55%|█████▌    | 31570/57400 [1:11:58<1:00:10,  7.15it/s]\n",
      "Epoch 56 \t Training loss: 0.693273382942851 \t Validation loss: 0.6933373293634189 \t \n",
      "\n",
      "7 epoch without improvement\n",
      " 56%|█████▌    | 32144/57400 [1:13:17<50:43,  8.30it/s]\n",
      "Epoch 57 \t Training loss: 0.693106010919664 \t Validation loss: 0.6929622433953366 \t \n",
      " 57%|█████▋    | 32718/57400 [1:14:35<51:52,  7.93it/s]\n",
      "Epoch 58 \t Training loss: 0.6932927278691468 \t Validation loss: 0.6935197397813959 \t \n",
      "\n",
      "8 epoch without improvement\n",
      " 58%|█████▊    | 33292/57400 [1:15:54<49:42,  8.08it/s]\n",
      "Epoch 59 \t Training loss: 0.6932811633219702 \t Validation loss: 0.693628681918322 \t \n",
      "\n",
      "9 epoch without improvement\n",
      " 59%|█████▉    | 33866/57400 [1:17:12<44:36,  8.79it/s]\n",
      "Epoch 60 \t Training loss: 0.6932674293318692 \t Validation loss: 0.6930458111278082 \t \n",
      " 60%|██████    | 34440/57400 [1:18:31<53:12,  7.19it/s]\n",
      "Epoch 61 \t Training loss: 0.6932971486854221 \t Validation loss: 0.6930100544024322 \t \n",
      " 61%|██████    | 35014/57400 [1:19:49<48:44,  7.65it/s]\n",
      "Epoch 62 \t Training loss: 0.6931965492328285 \t Validation loss: 0.6928373272136107 \t \n",
      " 62%|██████▏   | 35588/57400 [1:21:07<45:51,  7.93it/s]\n",
      "Epoch 63 \t Training loss: 0.693163047891876 \t Validation loss: 0.6929817492679015 \t \n",
      " 63%|██████▎   | 36162/57400 [1:22:26<41:52,  8.45it/s]\n",
      "Epoch 64 \t Training loss: 0.6931569516035738 \t Validation loss: 0.6931012383962082 \t \n",
      "\n",
      "10 epoch without improvement\n",
      "Validation_loss hasn't improve in 10 epoch. Stopping training after 64 epochs...\n"
     ]
    },
    {
     "data": {
      "image/png": "[encoded data removed]",
      "text/plain": [
       "<Figure size 640x480 with 1 Axes>"
      ]
     },
     "metadata": {},
     "output_type": "display_data"
    }
   ],
   "source": [
    "learning_rate = 5e-5\n",
    "optimizer = SGD(model.parameters(), lr=learning_rate, momentum=0.9)\n",
    "num_epochs = 100\n",
    "\n",
    "train.train_function(model,num_epochs,dl_train['to'],optimizer,early_stop=10,dl_val=dl_val['to'],save_path=save_path)"
   ]
  },
  {
   "cell_type": "code",
   "execution_count": 21,
   "metadata": {},
   "outputs": [
    {
     "name": "stderr",
     "output_type": "stream",
     "text": [
      "Some weights of the model checkpoint at roberta-base were not used when initializing RobertaModel: ['lm_head.dense.bias', 'lm_head.layer_norm.weight', 'lm_head.bias', 'lm_head.dense.weight', 'lm_head.decoder.weight', 'lm_head.layer_norm.bias']\n",
      "- This IS expected if you are initializing RobertaModel from the checkpoint of a model trained on another task or with another architecture (e.g. initializing a BertForSequenceClassification model from a BertForPreTraining model).\n",
      "- This IS NOT expected if you are initializing RobertaModel from the checkpoint of a model that you expect to be exactly identical (initializing a BertForSequenceClassification model from a BertForSequenceClassification model).\n"
     ]
    },
    {
     "name": "stdout",
     "output_type": "stream",
     "text": [
      "Using scikit learn accuracy por género en el conjunto about\n",
      "GLOBAL: 0.5408163265306123\n",
      "MALE 0.1015625\n",
      "FEMALE 0.9625 \n",
      "\n",
      "Using scikit learn accuracy por género en el conjunto to\n",
      "GLOBAL: 0.4936868686868687\n",
      "MALE 0.06326034063260341\n",
      "FEMALE 0.958005249343832 \n",
      "\n",
      "Using scikit learn accuracy por género en el conjunto as\n",
      "GLOBAL: 0.4941329856584094\n",
      "MALE 0.05808080808080808\n",
      "FEMALE 0.9595687331536388 \n",
      "\n"
     ]
    }
   ],
   "source": [
    "model = st.SingleTaskDep(model_conf,vocab).to(device)\n",
    "model.load_state_dict(torch.load(save_path))\n",
    "for task in ['about','to','as']:\n",
    "    print(f\"Using scikit learn accuracy por género en el conjunto {task}\")\n",
    "    print(f\"GLOBAL: {train.eval_function_single_sk(model,dl_eval[task])}\")\n",
    "    print(f\"MALE {train.eval_function_single_sk(model,dl_eval[task],gender='male')}\")\n",
    "    print(f\"FEMALE {train.eval_function_single_sk(model,dl_eval[task],gender='female')}\",'\\n')"
   ]
  },
  {
   "attachments": {},
   "cell_type": "markdown",
   "metadata": {},
   "source": [
    "# AS"
   ]
  },
  {
   "cell_type": "code",
   "execution_count": 22,
   "metadata": {},
   "outputs": [
    {
     "name": "stderr",
     "output_type": "stream",
     "text": [
      "Some weights of the model checkpoint at roberta-base were not used when initializing RobertaModel: ['lm_head.dense.bias', 'lm_head.layer_norm.weight', 'lm_head.bias', 'lm_head.dense.weight', 'lm_head.decoder.weight', 'lm_head.layer_norm.bias']\n",
      "- This IS expected if you are initializing RobertaModel from the checkpoint of a model trained on another task or with another architecture (e.g. initializing a BertForSequenceClassification model from a BertForPreTraining model).\n",
      "- This IS NOT expected if you are initializing RobertaModel from the checkpoint of a model that you expect to be exactly identical (initializing a BertForSequenceClassification model from a BertForSequenceClassification model).\n"
     ]
    }
   ],
   "source": [
    "model = st.SingleTaskDep(model_conf,vocab).to(device)\n",
    "save_path='m1_dep_roberta_as_abs'"
   ]
  },
  {
   "cell_type": "code",
   "execution_count": 23,
   "metadata": {},
   "outputs": [
    {
     "data": {
      "application/vnd.jupyter.widget-view+json": {
       "model_id": "dd45991dd5584cdcbff63761ba2095bf",
       "version_major": 2,
       "version_minor": 0
      },
      "text/plain": [
       "  0%|          | 0/57400 [00:00<?, ?it/s]"
      ]
     },
     "metadata": {},
     "output_type": "display_data"
    },
    {
     "name": "stdout",
     "output_type": "stream",
     "text": [
      "Epoch 1 \t Training loss: 0.6944895102171947 \t Validation loss: 0.6923839055885703 \t \n",
      "  1%|          | 574/57400 [01:18<1:56:43,  8.11it/s]\n",
      "Epoch 2 \t Training loss: 0.6935051780336825 \t Validation loss: 0.6931466621867681 \t \n",
      "  2%|▏         | 1148/57400 [02:36<2:01:19,  7.73it/s]\n",
      "Epoch 3 \t Training loss: 0.6933413263189668 \t Validation loss: 0.6930576966980756 \t \n",
      "  3%|▎         | 1722/57400 [03:54<1:55:33,  8.03it/s]\n",
      "Epoch 4 \t Training loss: 0.6934356739296731 \t Validation loss: 0.6928052164740481 \t \n",
      "  4%|▍         | 2296/57400 [05:12<1:53:18,  8.11it/s]\n",
      "Epoch 5 \t Training loss: 0.6934532788987774 \t Validation loss: 0.6933055358417963 \t \n",
      "  5%|▌         | 2870/57400 [06:31<1:57:21,  7.74it/s]\n",
      "Epoch 6 \t Training loss: 0.6933982460548653 \t Validation loss: 0.6926859132314133 \t \n",
      "  6%|▌         | 3444/57400 [07:49<2:01:35,  7.40it/s]\n",
      "Epoch 7 \t Training loss: 0.6933973912370329 \t Validation loss: 0.6928997464099172 \t \n",
      "  7%|▋         | 4018/57400 [09:07<1:50:53,  8.02it/s]\n",
      "Epoch 8 \t Training loss: 0.6933046692547482 \t Validation loss: 0.69227711831109 \t \n",
      "  8%|▊         | 4592/57400 [10:26<2:00:50,  7.28it/s]\n",
      "Epoch 9 \t Training loss: 0.6933954435981524 \t Validation loss: 0.6927970597299479 \t \n",
      "  9%|▉         | 5166/57400 [11:44<1:57:36,  7.40it/s]\n",
      "Epoch 10 \t Training loss: 0.6932656463845681 \t Validation loss: 0.6929637143167399 \t \n",
      " 10%|█         | 5740/57400 [13:02<1:53:17,  7.60it/s]\n",
      "Epoch 11 \t Training loss: 0.6933574834351756 \t Validation loss: 0.6928391204041949 \t \n",
      " 11%|█         | 6314/57400 [14:21<1:57:07,  7.27it/s]\n",
      "Epoch 12 \t Training loss: 0.693216657285491 \t Validation loss: 0.6924813925209692 \t \n",
      " 12%|█▏        | 6888/57400 [15:39<1:53:34,  7.41it/s]\n",
      "Epoch 13 \t Training loss: 0.6933833321212476 \t Validation loss: 0.6923588494123039 \t \n",
      " 13%|█▎        | 7462/57400 [16:57<1:53:36,  7.33it/s]\n",
      "Epoch 14 \t Training loss: 0.6934096831893256 \t Validation loss: 0.6925483184345698 \t \n",
      " 14%|█▍        | 8036/57400 [18:15<1:57:32,  7.00it/s]\n",
      "Epoch 15 \t Training loss: 0.6931743511754876 \t Validation loss: 0.6921121670027911 \t \n",
      " 15%|█▌        | 8610/57400 [19:34<1:42:15,  7.95it/s]\n",
      "Epoch 16 \t Training loss: 0.693215055955827 \t Validation loss: 0.692624905351865 \t \n",
      " 16%|█▌        | 9184/57400 [20:52<1:45:56,  7.59it/s]\n",
      "Epoch 17 \t Training loss: 0.69321386490134 \t Validation loss: 0.6925414760233992 \t \n",
      " 17%|█▋        | 9758/57400 [22:10<1:55:36,  6.87it/s]\n",
      "Epoch 18 \t Training loss: 0.6932699935776847 \t Validation loss: 0.6929942379563542 \t \n",
      " 18%|█▊        | 10332/57400 [23:28<1:37:12,  8.07it/s]\n",
      "Epoch 19 \t Training loss: 0.6932489220896665 \t Validation loss: 0.6925868604142787 \t \n",
      " 19%|█▉        | 10906/57400 [24:47<1:36:47,  8.01it/s]\n",
      "Epoch 20 \t Training loss: 0.6931590075484552 \t Validation loss: 0.6928365765991857 \t \n",
      " 20%|██        | 11480/57400 [26:05<1:40:58,  7.58it/s]\n",
      "Epoch 21 \t Training loss: 0.6932365167431715 \t Validation loss: 0.6926239041958825 \t \n",
      " 21%|██        | 12054/57400 [27:23<1:32:37,  8.16it/s]\n",
      "Epoch 22 \t Training loss: 0.6932750597648089 \t Validation loss: 0.6926468105639442 \t \n",
      " 22%|██▏       | 12628/57400 [28:42<1:26:45,  8.60it/s]\n",
      "Epoch 23 \t Training loss: 0.6931687754413393 \t Validation loss: 0.6919326519562026 \t \n",
      " 23%|██▎       | 13202/57400 [30:01<1:31:58,  8.01it/s]\n",
      "Epoch 24 \t Training loss: 0.6932018425198797 \t Validation loss: 0.6931231830079677 \t \n",
      "\n",
      "1 epoch without improvement\n",
      " 24%|██▍       | 13776/57400 [31:19<1:36:56,  7.50it/s]\n",
      "Epoch 25 \t Training loss: 0.693070069526546 \t Validation loss: 0.6925855157739025 \t \n",
      " 25%|██▌       | 14350/57400 [32:37<1:25:00,  8.44it/s]\n",
      "Epoch 26 \t Training loss: 0.6932321404746186 \t Validation loss: 0.6928183497008631 \t \n",
      " 26%|██▌       | 14924/57400 [33:55<1:33:37,  7.56it/s]\n",
      "Epoch 27 \t Training loss: 0.6931744342481633 \t Validation loss: 0.6927691758689234 \t \n",
      " 27%|██▋       | 15498/57400 [35:14<1:36:12,  7.26it/s]\n",
      "Epoch 28 \t Training loss: 0.6930911362378854 \t Validation loss: 0.6933379001536611 \t \n",
      "\n",
      "2 epoch without improvement\n",
      " 28%|██▊       | 16072/57400 [36:32<1:24:28,  8.15it/s]\n",
      "Epoch 29 \t Training loss: 0.6929429749786231 \t Validation loss: 0.6931531974824808 \t \n",
      "\n",
      "3 epoch without improvement\n",
      " 29%|██▉       | 16646/57400 [37:50<1:24:36,  8.03it/s]\n",
      "Epoch 30 \t Training loss: 0.6928614979213954 \t Validation loss: 0.6926844978736619 \t \n",
      " 30%|███       | 17220/57400 [39:08<1:23:47,  7.99it/s]\n",
      "Epoch 31 \t Training loss: 0.6930177358177065 \t Validation loss: 0.6930310322066485 \t \n",
      "\n",
      "4 epoch without improvement\n",
      " 31%|███       | 17794/57400 [40:27<1:26:34,  7.62it/s]\n",
      "Epoch 32 \t Training loss: 0.6929062654747781 \t Validation loss: 0.6920566811399945 \t \n",
      " 32%|███▏      | 18368/57400 [41:45<1:20:13,  8.11it/s]\n",
      "Epoch 33 \t Training loss: 0.6927096303747091 \t Validation loss: 0.6919887742753756 \t \n",
      " 33%|███▎      | 18942/57400 [43:03<1:24:37,  7.57it/s]\n",
      "Epoch 34 \t Training loss: 0.6928661017052388 \t Validation loss: 0.692291712356826 \t \n",
      " 34%|███▍      | 19516/57400 [44:21<1:26:08,  7.33it/s]\n",
      "Epoch 35 \t Training loss: 0.692647395545182 \t Validation loss: 0.6923917764324253 \t \n",
      " 35%|███▌      | 20090/57400 [45:40<1:18:44,  7.90it/s]\n",
      "Epoch 36 \t Training loss: 0.6925451056674797 \t Validation loss: 0.6931336148310516 \t \n",
      "\n",
      "5 epoch without improvement\n",
      " 36%|███▌      | 20664/57400 [46:58<1:10:40,  8.66it/s]\n",
      "Epoch 37 \t Training loss: 0.6926042664964855 \t Validation loss: 0.6923976358720811 \t \n",
      " 37%|███▋      | 21238/57400 [48:17<1:16:09,  7.91it/s]\n",
      "Epoch 38 \t Training loss: 0.6925439970626233 \t Validation loss: 0.6924115884101997 \t \n",
      " 38%|███▊      | 21812/57400 [49:35<1:14:46,  7.93it/s]\n",
      "Epoch 39 \t Training loss: 0.6924866017356567 \t Validation loss: 0.692349458144883 \t \n",
      " 39%|███▉      | 22386/57400 [50:53<1:12:59,  8.00it/s]\n",
      "Epoch 40 \t Training loss: 0.6922468388329815 \t Validation loss: 0.692154460034128 \t \n",
      " 40%|████      | 22960/57400 [52:12<1:20:54,  7.09it/s]\n",
      "Epoch 41 \t Training loss: 0.6921457248490032 \t Validation loss: 0.6926907371666472 \t \n",
      " 41%|████      | 23534/57400 [53:30<1:18:32,  7.19it/s]\n",
      "Epoch 42 \t Training loss: 0.6917598361753006 \t Validation loss: 0.6918164693703086 \t \n",
      " 42%|████▏     | 24108/57400 [54:49<1:03:02,  8.80it/s]\n",
      "Epoch 43 \t Training loss: 0.6918757678324338 \t Validation loss: 0.692064899509236 \t \n",
      " 43%|████▎     | 24682/57400 [56:07<1:13:04,  7.46it/s]\n",
      "Epoch 44 \t Training loss: 0.6917776992927445 \t Validation loss: 0.6922819695230258 \t \n",
      " 44%|████▍     | 25256/57400 [57:26<1:13:48,  7.26it/s]\n",
      "Epoch 45 \t Training loss: 0.6914070007693062 \t Validation loss: 0.6915682271375494 \t \n",
      " 45%|████▌     | 25830/57400 [58:45<1:10:55,  7.42it/s]\n",
      "Epoch 46 \t Training loss: 0.6911960244178772 \t Validation loss: 0.6910932427745754 \t \n",
      " 46%|████▌     | 26404/57400 [1:00:03<1:03:50,  8.09it/s]\n",
      "Epoch 47 \t Training loss: 0.6910350511713725 \t Validation loss: 0.6923961912171316 \t \n",
      "\n",
      "1 epoch without improvement\n",
      " 47%|████▋     | 26978/57400 [1:01:22<59:08,  8.57it/s]\n",
      "Epoch 48 \t Training loss: 0.6908214724645382 \t Validation loss: 0.6917069342176793 \t \n",
      " 48%|████▊     | 27552/57400 [1:02:40<1:06:27,  7.49it/s]\n",
      "Epoch 49 \t Training loss: 0.6908570958969901 \t Validation loss: 0.6918160975989649 \t \n",
      " 49%|████▉     | 28126/57400 [1:03:58<1:04:02,  7.62it/s]\n",
      "Epoch 50 \t Training loss: 0.6904224574773569 \t Validation loss: 0.6910537410590608 \t \n",
      " 50%|█████     | 28700/57400 [1:05:17<1:01:31,  7.77it/s]\n",
      "Epoch 51 \t Training loss: 0.690168896203257 \t Validation loss: 0.6920383259401484 \t \n",
      " 51%|█████     | 29274/57400 [1:06:36<54:35,  8.59it/s]\n",
      "Epoch 52 \t Training loss: 0.6903905307789713 \t Validation loss: 0.6913571499161801 \t \n",
      " 52%|█████▏    | 29848/57400 [1:07:54<1:01:09,  7.51it/s]\n",
      "Epoch 53 \t Training loss: 0.6903824513382197 \t Validation loss: 0.6917016324350389 \t \n",
      " 53%|█████▎    | 30422/57400 [1:09:13<57:09,  7.87it/s]\n",
      "Epoch 54 \t Training loss: 0.6900182638434168 \t Validation loss: 0.6916583079402729 \t \n",
      " 54%|█████▍    | 30996/57400 [1:10:31<59:03,  7.45it/s]\n",
      "Epoch 55 \t Training loss: 0.6897965623941986 \t Validation loss: 0.6923571774515055 \t \n",
      "\n",
      "1 epoch without improvement\n",
      " 55%|█████▌    | 31570/57400 [1:11:49<54:16,  7.93it/s]\n",
      "Epoch 56 \t Training loss: 0.6896643371739869 \t Validation loss: 0.6920113927226955 \t \n",
      " 56%|█████▌    | 32144/57400 [1:13:07<57:44,  7.29it/s]\n",
      "Epoch 57 \t Training loss: 0.6896880046831191 \t Validation loss: 0.6910391520645659 \t \n",
      " 57%|█████▋    | 32718/57400 [1:14:26<48:17,  8.52it/s]\n",
      "Epoch 58 \t Training loss: 0.6891116334793875 \t Validation loss: 0.6912859748985808 \t \n",
      " 58%|█████▊    | 33292/57400 [1:15:44<48:22,  8.31it/s]\n",
      "Epoch 59 \t Training loss: 0.689653165041362 \t Validation loss: 0.6919862547163236 \t \n",
      " 59%|█████▉    | 33866/57400 [1:17:02<48:41,  8.05it/s]\n",
      "Epoch 60 \t Training loss: 0.6891475854642716 \t Validation loss: 0.6898717920658952 \t \n",
      " 60%|██████    | 34440/57400 [1:18:21<48:27,  7.90it/s]\n",
      "Epoch 61 \t Training loss: 0.6890661678040069 \t Validation loss: 0.691849261017169 \t \n",
      "\n",
      "1 epoch without improvement\n",
      " 61%|██████    | 35014/57400 [1:19:39<55:43,  6.70it/s]\n",
      "Epoch 62 \t Training loss: 0.68858995846755 \t Validation loss: 0.6934421688823377 \t \n",
      "\n",
      "2 epoch without improvement\n",
      " 62%|██████▏   | 35588/57400 [1:20:58<49:28,  7.35it/s]\n",
      "Epoch 63 \t Training loss: 0.6891621473774262 \t Validation loss: 0.6908365659794565 \t \n",
      " 63%|██████▎   | 36162/57400 [1:22:16<46:17,  7.65it/s]\n",
      "Epoch 64 \t Training loss: 0.6891310016660325 \t Validation loss: 0.6907957176030692 \t \n",
      " 64%|██████▍   | 36736/57400 [1:23:34<39:43,  8.67it/s]\n",
      "Epoch 65 \t Training loss: 0.6890167925208288 \t Validation loss: 0.6914720090769105 \t \n",
      "\n",
      "3 epoch without improvement\n",
      " 65%|██████▌   | 37310/57400 [1:24:53<43:51,  7.63it/s]\n",
      "Epoch 66 \t Training loss: 0.6886699176831528 \t Validation loss: 0.6907398549176879 \t \n",
      " 66%|██████▌   | 37884/57400 [1:26:11<44:00,  7.39it/s]\n",
      "Epoch 67 \t Training loss: 0.6890609097190019 \t Validation loss: 0.6929413736876795 \t \n",
      "\n",
      "4 epoch without improvement\n",
      " 67%|██████▋   | 38458/57400 [1:27:29<39:16,  8.04it/s]\n",
      "Epoch 68 \t Training loss: 0.6888359306373663 \t Validation loss: 0.6913495407266131 \t \n",
      "\n",
      "5 epoch without improvement\n",
      " 68%|██████▊   | 39032/57400 [1:28:48<50:00,  6.12it/s]\n",
      "Epoch 69 \t Training loss: 0.6885886485152959 \t Validation loss: 0.6915784740852098 \t \n",
      "\n",
      "6 epoch without improvement\n",
      " 69%|██████▉   | 39606/57400 [1:30:06<39:25,  7.52it/s]\n",
      "Epoch 70 \t Training loss: 0.6892522298292831 \t Validation loss: 0.6927344788939266 \t \n",
      "\n",
      "7 epoch without improvement\n",
      " 70%|███████   | 40180/57400 [1:31:24<38:10,  7.52it/s]\n",
      "Epoch 71 \t Training loss: 0.6888390240561256 \t Validation loss: 0.6926132480976945 \t \n",
      "\n",
      "8 epoch without improvement\n",
      " 71%|███████   | 40754/57400 [1:32:42<35:44,  7.76it/s]\n",
      "Epoch 72 \t Training loss: 0.6882796743397929 \t Validation loss: 0.6888701622768983 \t \n",
      " 72%|███████▏  | 41328/57400 [1:34:01<30:27,  8.80it/s]\n",
      "Epoch 73 \t Training loss: 0.6883900698261394 \t Validation loss: 0.6911252343048484 \t \n",
      "\n",
      "1 epoch without improvement\n",
      " 73%|███████▎  | 41902/57400 [1:35:19<42:08,  6.13it/s]\n",
      "Epoch 74 \t Training loss: 0.6882743826103542 \t Validation loss: 0.6899664058523663 \t \n",
      "\n",
      "2 epoch without improvement\n",
      " 74%|███████▍  | 42476/57400 [1:36:38<34:22,  7.24it/s]\n",
      "Epoch 75 \t Training loss: 0.6885612603887032 \t Validation loss: 0.6916084794674889 \t \n",
      "\n",
      "3 epoch without improvement\n",
      " 75%|███████▌  | 43050/57400 [1:37:56<33:04,  7.23it/s]\n",
      "Epoch 76 \t Training loss: 0.6880003520212937 \t Validation loss: 0.6904605879621991 \t \n",
      "\n",
      "4 epoch without improvement\n",
      " 76%|███████▌  | 43624/57400 [1:39:15<28:42,  8.00it/s]\n",
      "Epoch 77 \t Training loss: 0.6881322586577944 \t Validation loss: 0.6894978749549995 \t \n",
      " 77%|███████▋  | 44198/57400 [1:40:33<29:36,  7.43it/s]\n",
      "Epoch 78 \t Training loss: 0.6879820462303294 \t Validation loss: 0.6905255317687988 \t \n",
      "\n",
      "5 epoch without improvement\n",
      " 78%|███████▊  | 44772/57400 [1:41:51<27:45,  7.58it/s]\n",
      "Epoch 79 \t Training loss: 0.6880150009530762 \t Validation loss: 0.6911575986167132 \t \n",
      "\n",
      "6 epoch without improvement\n",
      " 79%|███████▉  | 45346/57400 [1:43:10<23:18,  8.62it/s]\n",
      "Epoch 80 \t Training loss: 0.6873850808949421 \t Validation loss: 0.6905339885566194 \t \n",
      "\n",
      "7 epoch without improvement\n",
      " 80%|████████  | 45920/57400 [1:44:28<22:07,  8.65it/s]\n",
      "Epoch 81 \t Training loss: 0.6881300702119953 \t Validation loss: 0.6910855244782012 \t \n",
      "\n",
      "8 epoch without improvement\n",
      " 81%|████████  | 46494/57400 [1:45:47<23:33,  7.71it/s]\n",
      "Epoch 82 \t Training loss: 0.6879818531901994 \t Validation loss: 0.6908573467852706 \t \n",
      "\n",
      "9 epoch without improvement\n",
      " 82%|████████▏ | 47068/57400 [1:47:05<23:13,  7.41it/s]\n",
      "Epoch 83 \t Training loss: 0.6879603176374469 \t Validation loss: 0.6898186853376486 \t \n",
      " 83%|████████▎ | 47642/57400 [1:48:24<21:29,  7.57it/s]\n",
      "Epoch 84 \t Training loss: 0.6878704803538239 \t Validation loss: 0.6906145902003272 \t \n",
      "\n",
      "10 epoch without improvement\n",
      "Validation_loss hasn't improve in 10 epoch. Stopping training after 84 epochs...\n"
     ]
    },
    {
     "data": {
      "image/png": "[encoded data removed]",
      "text/plain": [
       "<Figure size 640x480 with 1 Axes>"
      ]
     },
     "metadata": {},
     "output_type": "display_data"
    }
   ],
   "source": [
    "learning_rate = 5e-5\n",
    "optimizer = SGD(model.parameters(), lr=learning_rate, momentum=0.9)\n",
    "num_epochs = 100\n",
    "\n",
    "train.train_function(model,num_epochs,dl_train['as'],optimizer,early_stop=10,dl_val=dl_val['as'],save_path=save_path)"
   ]
  },
  {
   "cell_type": "code",
   "execution_count": 24,
   "metadata": {},
   "outputs": [
    {
     "name": "stderr",
     "output_type": "stream",
     "text": [
      "Some weights of the model checkpoint at roberta-base were not used when initializing RobertaModel: ['lm_head.dense.bias', 'lm_head.layer_norm.weight', 'lm_head.bias', 'lm_head.dense.weight', 'lm_head.decoder.weight', 'lm_head.layer_norm.bias']\n",
      "- This IS expected if you are initializing RobertaModel from the checkpoint of a model trained on another task or with another architecture (e.g. initializing a BertForSequenceClassification model from a BertForPreTraining model).\n",
      "- This IS NOT expected if you are initializing RobertaModel from the checkpoint of a model that you expect to be exactly identical (initializing a BertForSequenceClassification model from a BertForSequenceClassification model).\n"
     ]
    },
    {
     "name": "stdout",
     "output_type": "stream",
     "text": [
      "Using scikit learn accuracy por género en el conjunto about\n",
      "GLOBAL: 0.6721938775510204\n",
      "MALE 0.6640625\n",
      "FEMALE 0.68 \n",
      "\n",
      "Using scikit learn accuracy por género en el conjunto to\n",
      "GLOBAL: 0.7133838383838383\n",
      "MALE 0.7274939172749392\n",
      "FEMALE 0.6981627296587927 \n",
      "\n",
      "Using scikit learn accuracy por género en el conjunto as\n",
      "GLOBAL: 0.7249022164276402\n",
      "MALE 0.6565656565656566\n",
      "FEMALE 0.7978436657681941 \n",
      "\n"
     ]
    }
   ],
   "source": [
    "\n",
    "model = st.SingleTaskDep(model_conf,vocab).to(device)\n",
    "model.load_state_dict(torch.load(save_path))\n",
    "for task in ['about','to','as']:\n",
    "    print(f\"Using scikit learn accuracy por género en el conjunto {task}\")\n",
    "    print(f\"GLOBAL: {train.eval_function_single_sk(model,dl_eval[task])}\")\n",
    "    print(f\"MALE {train.eval_function_single_sk(model,dl_eval[task],gender='male')}\")\n",
    "    print(f\"FEMALE {train.eval_function_single_sk(model,dl_eval[task],gender='female')}\",'\\n')"
   ]
  }
 ],
 "metadata": {
  "kernelspec": {
   "display_name": "tfg",
   "language": "python",
   "name": "python3"
  },
  "language_info": {
   "codemirror_mode": {
    "name": "ipython",
    "version": 3
   },
   "file_extension": ".py",
   "mimetype": "text/x-python",
   "name": "python",
   "nbconvert_exporter": "python",
   "pygments_lexer": "ipython3",
   "version": "3.9.13"
  },
  "orig_nbformat": 4,
  "vscode": {
   "interpreter": {
    "hash": "b2012626cca2d66e84dc87dc317222963c31dcd31e180f1257b027de73883164"
   }
  }
 },
 "nbformat": 4,
 "nbformat_minor": 2
}
