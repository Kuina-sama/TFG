{
 "cells": [
  {
   "cell_type": "code",
   "execution_count": 1,
   "metadata": {},
   "outputs": [],
   "source": [
    "import numpy as np\n",
    "import torch\n",
    "\n",
    "\n",
    "import json\n",
    "from torch.utils.data import DataLoader\n",
    "from torch.optim import SGD, AdamW\n",
    "from torch import nn"
   ]
  },
  {
   "cell_type": "code",
   "execution_count": 2,
   "metadata": {},
   "outputs": [],
   "source": [
    "import utils_generic as generic\n",
    "import rrnn_st as rrnn\n",
    "import model_confs as confs\n",
    "import singletask_dep as st\n",
    "\n",
    "import train_dep as train\n",
    "\n",
    "from gensim.models import KeyedVectors"
   ]
  },
  {
   "cell_type": "code",
   "execution_count": 3,
   "metadata": {},
   "outputs": [],
   "source": [
    "device = torch.device(\"cuda\") if torch.cuda.is_available() else torch.device(\"cpu\")\n",
    "torch.manual_seed(27)\n",
    "word2vec_path = r\"C:\\Users\\FarinhOso\\gensim-data\\word2vec-google-news-300\\word2vec-google-news-300.gz\"\n",
    "word2vec_model =  KeyedVectors.load_word2vec_format(word2vec_path, binary=True)\n",
    "encoding_type = 'brk'"
   ]
  },
  {
   "attachments": {},
   "cell_type": "markdown",
   "metadata": {},
   "source": [
    "# Datos ConvAI2"
   ]
  },
  {
   "cell_type": "code",
   "execution_count": 4,
   "metadata": {},
   "outputs": [],
   "source": [
    "with open('Datasets\\ConvAI2\\convai2_complete.json','r') as f:\n",
    "    data = json.load(f)"
   ]
  },
  {
   "cell_type": "code",
   "execution_count": 5,
   "metadata": {},
   "outputs": [],
   "source": [
    "convai_train = data['train']\n",
    "convai_val = data['validation']\n",
    "\n",
    "\n",
    "vocab = st.Vocabulary(data['train'],encoding_type)\n",
    "word_to_index = word2vec_model.key_to_index\n",
    "\n",
    "convai_train_token = generic.tokenize_dataset_with_dependencies_rrnn(convai_train,['about','to','as'],vocab,word_to_index) \n",
    "convai_val_token = generic.tokenize_dataset_with_dependencies_rrnn(convai_val,['about','to','as'],vocab,word_to_index) "
   ]
  },
  {
   "cell_type": "code",
   "execution_count": 6,
   "metadata": {},
   "outputs": [],
   "source": [
    "convai_train_dataset = {}\n",
    "for task in ['to','as','about']:\n",
    "    convai_train_dataset[task] = rrnn.DatasetSingleTaskSimple(convai_train_token,task,eval=False,deps=True)"
   ]
  },
  {
   "cell_type": "code",
   "execution_count": 7,
   "metadata": {},
   "outputs": [],
   "source": [
    "convai_val_dataset = {}\n",
    "for task in ['to','as','about']:\n",
    "    convai_val_dataset[task] = rrnn.DatasetSingleTaskSimple(convai_val_token,task,eval=False,deps=True)"
   ]
  },
  {
   "attachments": {},
   "cell_type": "markdown",
   "metadata": {},
   "source": [
    "# Datos md_gender"
   ]
  },
  {
   "cell_type": "code",
   "execution_count": 8,
   "metadata": {},
   "outputs": [],
   "source": [
    "with open('Datasets\\md_gender\\md_complete.json','r',encoding=\"utf8\") as f:\n",
    "    md_data = json.load(f)"
   ]
  },
  {
   "cell_type": "code",
   "execution_count": 9,
   "metadata": {},
   "outputs": [],
   "source": [
    "md_tokenized = generic.tokenize_dataset_with_dependencies_rrnn(md_data,['about','to','as'],vocab,word_to_index) \n",
    "\n",
    "\n",
    "md_dataset = {}\n",
    "for task in ['to','as','about']:\n",
    "    md_dataset[task] = rrnn.DatasetSingleTaskSimple(md_tokenized,task,eval=True,deps=True)"
   ]
  },
  {
   "attachments": {},
   "cell_type": "markdown",
   "metadata": {},
   "source": [
    "# Creación dataloaders"
   ]
  },
  {
   "cell_type": "code",
   "execution_count": 10,
   "metadata": {},
   "outputs": [],
   "source": [
    "dl_train = {}\n",
    "for task in ['to','as','about']:\n",
    "    dl_train[task] = DataLoader(convai_train_dataset[task],batch_size=128,shuffle=True,collate_fn=rrnn.collate_fn_dep)"
   ]
  },
  {
   "cell_type": "code",
   "execution_count": 11,
   "metadata": {},
   "outputs": [],
   "source": [
    "dl_val = {}\n",
    "for task in ['to','as','about']:\n",
    "    dl_val[task] = DataLoader(convai_val_dataset[task],batch_size=128,shuffle=True,collate_fn=rrnn.collate_fn_dep)"
   ]
  },
  {
   "cell_type": "code",
   "execution_count": 12,
   "metadata": {},
   "outputs": [],
   "source": [
    "dl_eval = {}\n",
    "for task in ['to','as','about']:\n",
    "    dl_eval[task] = DataLoader(md_dataset[task],batch_size=128,shuffle=False,collate_fn=rrnn.collate_fn_dep)"
   ]
  },
  {
   "attachments": {},
   "cell_type": "markdown",
   "metadata": {},
   "source": [
    "# ABOUT"
   ]
  },
  {
   "cell_type": "code",
   "execution_count": 14,
   "metadata": {},
   "outputs": [],
   "source": [
    "emb_dim = 20\n",
    "vocab_size = len(word_to_index)\n",
    "num_labels = 2\n",
    "lstm_hidden_dim = 128"
   ]
  },
  {
   "cell_type": "code",
   "execution_count": 15,
   "metadata": {},
   "outputs": [],
   "source": [
    "model = rrnn.SingleTaskRRNNDep(emb_dim,vocab,vocab_size,lstm_hidden_dim,emb_weights=word2vec_model.vectors).to(device)\n",
    "save_path='m1_rrnn_dep_about_w2v'"
   ]
  },
  {
   "cell_type": "code",
   "execution_count": 16,
   "metadata": {},
   "outputs": [
    {
     "name": "stdout",
     "output_type": "stream",
     "text": [
      "GLOBAL: 0.5127551020408163 \n",
      "\n",
      "Using scikit learn accuracy por género en el conjunto about\n",
      "MALE 0.010416666666666666\n",
      "FEMALE 0.995 \n",
      "\n",
      "GLOBAL: 0.48863636363636365 \n",
      "\n",
      "Using scikit learn accuracy por género en el conjunto to\n",
      "MALE 0.014598540145985401\n",
      "FEMALE 1.0 \n",
      "\n",
      "GLOBAL: 0.48239895697522817 \n",
      "\n",
      "Using scikit learn accuracy por género en el conjunto as\n",
      "MALE 0.015151515151515152\n",
      "FEMALE 0.9811320754716981 \n",
      "\n"
     ]
    }
   ],
   "source": [
    "for task in ['about','to','as']:\n",
    "    print(f\"GLOBAL: {train.eval_function_single_sk(model,dl_eval[task])}\",'\\n')\n",
    "    print(f\"Using scikit learn accuracy por género en el conjunto {task}\")\n",
    "    print(f\"MALE {train.eval_function_single_sk(model,dl_eval[task],gender='male')}\")\n",
    "    print(f\"FEMALE {train.eval_function_single_sk(model,dl_eval[task],gender='female')}\",'\\n')"
   ]
  },
  {
   "cell_type": "code",
   "execution_count": 17,
   "metadata": {},
   "outputs": [
    {
     "data": {
      "application/vnd.jupyter.widget-view+json": {
       "model_id": "beb276d780894d73a71798b8f57fc907",
       "version_major": 2,
       "version_minor": 0
      },
      "text/plain": [
       "  0%|          | 0/57400 [00:00<?, ?it/s]"
      ]
     },
     "metadata": {},
     "output_type": "display_data"
    },
    {
     "name": "stdout",
     "output_type": "stream",
     "text": [
      "Epoch 1 \t Training loss: 0.6929611402729247 \t Validation loss: 0.6908340050002276 \t \n",
      "  1%|          | 574/57400 [00:11<09:08, 103.60it/s]\n",
      "Epoch 2 \t Training loss: 0.6889936653994517 \t Validation loss: 0.6881104677410449 \t \n",
      "  2%|▏         | 1148/57400 [00:22<09:24, 99.61it/s]\n",
      "Epoch 3 \t Training loss: 0.6863900018070633 \t Validation loss: 0.6864522836976132 \t \n",
      "  3%|▎         | 1722/57400 [00:34<09:13, 100.51it/s]\n",
      "Epoch 4 \t Training loss: 0.6846593598663184 \t Validation loss: 0.6852562377008341 \t \n",
      "  4%|▍         | 2296/57400 [00:45<09:34, 95.99it/s]\n",
      "Epoch 5 \t Training loss: 0.6834898479931861 \t Validation loss: 0.6846452294769934 \t \n",
      "  5%|▌         | 2870/57400 [00:56<09:21, 97.08it/s]\n",
      "Epoch 6 \t Training loss: 0.6827353696997572 \t Validation loss: 0.6842115773993024 \t \n",
      "  6%|▌         | 3444/57400 [01:08<09:36, 93.66it/s]\n",
      "Epoch 7 \t Training loss: 0.6822166651591192 \t Validation loss: 0.6841062277050342 \t \n",
      "  7%|▋         | 4018/57400 [01:19<08:52, 100.16it/s]\n",
      "Epoch 8 \t Training loss: 0.6818688626073379 \t Validation loss: 0.6839713231991913 \t \n",
      "  8%|▊         | 4592/57400 [01:30<08:01, 109.65it/s]\n",
      "Epoch 9 \t Training loss: 0.6816212148616538 \t Validation loss: 0.6838218155553786 \t \n",
      "  9%|▉         | 5166/57400 [01:41<07:58, 109.21it/s]\n",
      "Epoch 10 \t Training loss: 0.6814615096157021 \t Validation loss: 0.6835594773292542 \t \n",
      " 10%|█         | 5740/57400 [01:52<08:12, 104.83it/s]\n",
      "Epoch 11 \t Training loss: 0.6813562323407429 \t Validation loss: 0.6837838686118691 \t \n",
      " 11%|█         | 6314/57400 [01:58<07:52, 108.08it/s]\n",
      "Epoch 12 \t Training loss: 0.681302775904692 \t Validation loss: 0.6836084026401326 \t \n",
      " 12%|█▏        | 6888/57400 [02:05<08:56, 94.20it/s]\n",
      "Epoch 13 \t Training loss: 0.6812241625702755 \t Validation loss: 0.6837157101954444 \t \n",
      " 13%|█▎        | 7462/57400 [02:11<08:22, 99.37it/s]\n",
      "Epoch 14 \t Training loss: 0.6812112905630251 \t Validation loss: 0.6837807994777874 \t \n",
      " 14%|█▍        | 8036/57400 [02:17<08:40, 94.75it/s]\n",
      "Epoch 15 \t Training loss: 0.6811928068926941 \t Validation loss: 0.6836678880756184 \t \n",
      " 15%|█▌        | 8610/57400 [02:24<07:55, 102.54it/s]\n",
      "Epoch 16 \t Training loss: 0.6811651066205228 \t Validation loss: 0.6837802468720129 \t \n",
      " 16%|█▌        | 9184/57400 [02:30<07:47, 103.17it/s]\n",
      "Epoch 17 \t Training loss: 0.6811529680411574 \t Validation loss: 0.6835854760671066 \t \n",
      " 17%|█▋        | 9758/57400 [02:35<07:30, 105.86it/s]\n",
      "Epoch 18 \t Training loss: 0.68116652269812 \t Validation loss: 0.6836994179224564 \t \n",
      " 18%|█▊        | 10332/57400 [02:41<07:39, 102.38it/s]\n",
      "Epoch 19 \t Training loss: 0.6811232852395819 \t Validation loss: 0.6835829554978063 \t \n",
      " 19%|█▉        | 10906/57400 [02:47<06:50, 113.37it/s]\n",
      "Epoch 20 \t Training loss: 0.6811132009436445 \t Validation loss: 0.6838605727179575 \t \n",
      " 20%|██        | 11480/57400 [02:53<07:49, 97.78it/s]\n",
      "Epoch 21 \t Training loss: 0.681126467649945 \t Validation loss: 0.6836536274117938 \t \n",
      " 21%|██        | 12054/57400 [02:59<07:21, 102.78it/s]\n",
      "Epoch 22 \t Training loss: 0.6811294144454318 \t Validation loss: 0.6836180181826575 \t \n",
      " 22%|██▏       | 12628/57400 [03:06<07:49, 95.40it/s]\n",
      "Epoch 23 \t Training loss: 0.681099513370401 \t Validation loss: 0.6838574399382381 \t \n",
      " 23%|██▎       | 13202/57400 [03:12<07:17, 101.11it/s]\n",
      "Epoch 24 \t Training loss: 0.6811368076020416 \t Validation loss: 0.6836903863034006 \t \n",
      " 24%|██▍       | 13776/57400 [03:17<06:50, 106.27it/s]\n",
      "Epoch 25 \t Training loss: 0.6810897315628437 \t Validation loss: 0.6838046120384992 \t \n",
      " 25%|██▌       | 14350/57400 [03:23<06:40, 107.61it/s]\n",
      "Epoch 26 \t Training loss: 0.6811064824410017 \t Validation loss: 0.6837492989281476 \t \n",
      " 26%|██▌       | 14924/57400 [03:29<07:13, 98.03it/s]\n",
      "Epoch 27 \t Training loss: 0.6810636705222446 \t Validation loss: 0.6836168321512514 \t \n",
      " 27%|██▋       | 15498/57400 [03:35<06:21, 109.96it/s]\n",
      "Epoch 28 \t Training loss: 0.6811164961251648 \t Validation loss: 0.683822993504799 \t \n",
      " 28%|██▊       | 16072/57400 [03:41<06:46, 101.72it/s]\n",
      "Epoch 29 \t Training loss: 0.6811215276294469 \t Validation loss: 0.683813363818799 \t \n",
      " 29%|██▉       | 16646/57400 [03:47<06:36, 102.81it/s]\n",
      "Epoch 30 \t Training loss: 0.6810514347478488 \t Validation loss: 0.6838060445704702 \t \n",
      " 30%|███       | 17220/57400 [03:53<06:49, 98.23it/s]\n",
      "Epoch 31 \t Training loss: 0.6810892413302165 \t Validation loss: 0.6839026636996511 \t \n",
      " 31%|███       | 17794/57400 [04:00<06:28, 102.06it/s]\n",
      "Epoch 32 \t Training loss: 0.6810377025230421 \t Validation loss: 0.683705536995904 \t \n",
      " 32%|███▏      | 18368/57400 [04:06<06:29, 100.27it/s]\n",
      "Epoch 33 \t Training loss: 0.6810969658429614 \t Validation loss: 0.6837883207757595 \t \n",
      " 33%|███▎      | 18942/57400 [04:11<06:06, 104.99it/s]\n",
      "Epoch 34 \t Training loss: 0.6810621318086099 \t Validation loss: 0.6835430456420123 \t \n",
      " 34%|███▍      | 19516/57400 [04:22<06:20, 99.60it/s]\n",
      "Epoch 35 \t Training loss: 0.681051631007045 \t Validation loss: 0.6837153687315473 \t \n",
      " 35%|███▌      | 20090/57400 [04:29<06:22, 97.42it/s]\n",
      "Epoch 36 \t Training loss: 0.6810975926262992 \t Validation loss: 0.6837871741440337 \t \n",
      " 36%|███▌      | 20664/57400 [04:35<06:02, 101.47it/s]\n",
      "Epoch 37 \t Training loss: 0.6810330668600594 \t Validation loss: 0.6836988481424623 \t \n",
      " 37%|███▋      | 21238/57400 [04:41<06:13, 96.85it/s]\n",
      "Epoch 38 \t Training loss: 0.6810619348225277 \t Validation loss: 0.6838241845874463 \t \n",
      " 38%|███▊      | 21812/57400 [04:47<05:55, 100.18it/s]\n",
      "Epoch 39 \t Training loss: 0.6810458924504522 \t Validation loss: 0.683601173303895 \t \n",
      " 39%|███▉      | 22386/57400 [04:53<05:42, 102.36it/s]\n",
      "Epoch 40 \t Training loss: 0.6810339337234298 \t Validation loss: 0.6836407709929903 \t \n",
      " 40%|████      | 22960/57400 [04:59<05:32, 103.71it/s]\n",
      "Epoch 41 \t Training loss: 0.6810364866505932 \t Validation loss: 0.6837672106290268 \t \n",
      " 41%|████      | 23534/57400 [05:05<05:48, 97.09it/s]\n",
      "Epoch 42 \t Training loss: 0.6810305702146338 \t Validation loss: 0.683685988692914 \t \n",
      " 42%|████▏     | 24108/57400 [05:11<05:10, 107.10it/s]\n",
      "Epoch 43 \t Training loss: 0.6810641803807913 \t Validation loss: 0.6835865095510321 \t \n",
      " 43%|████▎     | 24682/57400 [05:17<05:35, 97.65it/s]\n",
      "Epoch 44 \t Training loss: 0.6810197754396379 \t Validation loss: 0.6837983313253371 \t \n",
      " 44%|████▍     | 25256/57400 [05:23<05:18, 100.86it/s]\n",
      "Epoch 45 \t Training loss: 0.681043845124361 \t Validation loss: 0.6837445881407139 \t \n",
      " 45%|████▌     | 25830/57400 [05:30<05:29, 95.93it/s]\n",
      "Epoch 46 \t Training loss: 0.6809923904282706 \t Validation loss: 0.6837459277298491 \t \n",
      " 46%|████▌     | 26404/57400 [05:36<04:56, 104.54it/s]\n",
      "Epoch 47 \t Training loss: 0.6810231164149706 \t Validation loss: 0.6838506399574926 \t \n",
      " 47%|████▋     | 26978/57400 [05:42<05:05, 99.54it/s]\n",
      "Epoch 48 \t Training loss: 0.680992870484495 \t Validation loss: 0.6836718401666415 \t \n",
      " 48%|████▊     | 27552/57400 [05:47<04:32, 109.54it/s]\n",
      "Epoch 49 \t Training loss: 0.680996227347477 \t Validation loss: 0.6839829127667314 \t \n",
      " 49%|████▉     | 28126/57400 [05:54<04:53, 99.77it/s]\n",
      "Epoch 50 \t Training loss: 0.6810199761639905 \t Validation loss: 0.6836701863903111 \t \n",
      " 50%|█████     | 28700/57400 [05:59<04:26, 107.72it/s]\n",
      "Epoch 51 \t Training loss: 0.6809948828162217 \t Validation loss: 0.6836494581174042 \t \n",
      " 51%|█████     | 29274/57400 [06:05<04:44, 98.88it/s]\n",
      "Epoch 52 \t Training loss: 0.6809936195923476 \t Validation loss: 0.6837482280650381 \t \n",
      " 52%|█████▏    | 29848/57400 [06:11<04:30, 102.04it/s]\n",
      "Epoch 53 \t Training loss: 0.6810106909233519 \t Validation loss: 0.6837101730249696 \t \n",
      " 53%|█████▎    | 30422/57400 [06:18<04:35, 97.97it/s]\n",
      "Epoch 54 \t Training loss: 0.6810178337196855 \t Validation loss: 0.6836607698666848 \t \n",
      " 54%|█████▍    | 30996/57400 [06:24<04:16, 102.79it/s]\n",
      "Epoch 55 \t Training loss: 0.6809936129465336 \t Validation loss: 0.6838123313451218 \t \n",
      " 55%|█████▌    | 31570/57400 [06:30<04:09, 103.42it/s]\n",
      "Epoch 56 \t Training loss: 0.6809516755753693 \t Validation loss: 0.6837896169242212 \t \n",
      " 56%|█████▌    | 32144/57400 [06:36<03:56, 106.69it/s]\n",
      "Epoch 57 \t Training loss: 0.6809851178308812 \t Validation loss: 0.6836792826652527 \t \n",
      " 57%|█████▋    | 32718/57400 [06:42<04:05, 100.67it/s]\n",
      "Epoch 58 \t Training loss: 0.680988133472848 \t Validation loss: 0.6836757366940126 \t \n",
      " 58%|█████▊    | 33292/57400 [06:48<03:44, 107.30it/s]\n",
      "Epoch 59 \t Training loss: 0.6810039233039896 \t Validation loss: 0.6836754366502924 \t \n",
      " 59%|█████▉    | 33866/57400 [06:53<03:56, 99.47it/s]\n",
      "Epoch 60 \t Training loss: 0.6809772799239341 \t Validation loss: 0.6837061865855072 \t \n",
      " 60%|██████    | 34440/57400 [06:59<03:50, 99.61it/s]\n",
      "Epoch 61 \t Training loss: 0.6809480231813437 \t Validation loss: 0.6837753138299716 \t \n",
      " 61%|██████    | 35014/57400 [07:06<03:52, 96.36it/s]\n",
      "Epoch 62 \t Training loss: 0.6809873172838098 \t Validation loss: 0.6837743945040945 \t \n",
      " 62%|██████▏   | 35588/57400 [07:12<03:29, 104.30it/s]\n",
      "Epoch 63 \t Training loss: 0.6809686950897921 \t Validation loss: 0.6838426478838516 \t \n",
      " 63%|██████▎   | 36162/57400 [07:19<04:47, 73.88it/s]\n",
      "Epoch 64 \t Training loss: 0.6809954760589666 \t Validation loss: 0.6837438031778498 \t \n",
      " 64%|██████▍   | 36736/57400 [07:25<03:30, 98.04it/s]\n",
      "Epoch 65 \t Training loss: 0.6810086628078168 \t Validation loss: 0.6837529671394219 \t \n",
      " 65%|██████▌   | 37310/57400 [07:31<03:09, 106.25it/s]\n",
      "Epoch 66 \t Training loss: 0.6809490692740118 \t Validation loss: 0.6838508773658235 \t \n",
      " 66%|██████▌   | 37884/57400 [07:37<03:08, 103.52it/s]\n",
      "Epoch 67 \t Training loss: 0.6809405790388792 \t Validation loss: 0.6836287308547456 \t \n",
      " 67%|██████▋   | 38458/57400 [07:43<03:03, 103.33it/s]\n",
      "Epoch 68 \t Training loss: 0.6809993139127406 \t Validation loss: 0.6838930562391119 \t \n",
      " 68%|██████▊   | 39032/57400 [07:49<03:05, 98.89it/s]\n",
      "Epoch 69 \t Training loss: 0.6809619330778355 \t Validation loss: 0.6835909283767312 \t \n",
      " 69%|██████▉   | 39606/57400 [07:55<02:55, 101.27it/s]\n",
      "Epoch 70 \t Training loss: 0.6809536261217934 \t Validation loss: 0.6837170750407849 \t \n",
      " 70%|███████   | 40180/57400 [08:01<02:50, 100.97it/s]\n",
      "Epoch 71 \t Training loss: 0.6809787595521283 \t Validation loss: 0.6837311902288663 \t \n",
      " 71%|███████   | 40754/57400 [08:07<02:32, 109.51it/s]\n",
      "Epoch 72 \t Training loss: 0.6809529352686546 \t Validation loss: 0.683401920027652 \t \n",
      " 72%|███████▏  | 41328/57400 [08:18<02:27, 109.32it/s]\n",
      "Epoch 73 \t Training loss: 0.6809751080926703 \t Validation loss: 0.6836593393552102 \t \n",
      " 73%|███████▎  | 41902/57400 [08:24<02:21, 109.77it/s]\n",
      "Epoch 74 \t Training loss: 0.6809600608274081 \t Validation loss: 0.683786574056593 \t \n",
      " 74%|███████▍  | 42476/57400 [08:30<02:15, 110.09it/s]\n",
      "Epoch 75 \t Training loss: 0.6809368028665669 \t Validation loss: 0.6837931608749648 \t \n",
      " 75%|███████▌  | 43050/57400 [08:36<02:18, 103.36it/s]\n",
      "Epoch 76 \t Training loss: 0.680994471710318 \t Validation loss: 0.6836612315501197 \t \n",
      " 76%|███████▌  | 43624/57400 [08:42<02:21, 97.38it/s]\n",
      "Epoch 77 \t Training loss: 0.6809232098923328 \t Validation loss: 0.6835443822004027 \t \n",
      " 77%|███████▋  | 44198/57400 [08:48<02:14, 98.21it/s]\n",
      "Epoch 78 \t Training loss: 0.6810200611058013 \t Validation loss: 0.6838983964111846 \t \n",
      " 78%|███████▊  | 44772/57400 [08:54<02:02, 102.78it/s]\n",
      "Epoch 79 \t Training loss: 0.6809178277175185 \t Validation loss: 0.6837741853827137 \t \n",
      " 79%|███████▉  | 45346/57400 [09:00<01:55, 103.92it/s]\n",
      "Epoch 80 \t Training loss: 0.6809241438368887 \t Validation loss: 0.6836533465627896 \t \n",
      " 80%|████████  | 45920/57400 [09:06<01:52, 101.75it/s]\n",
      "Epoch 81 \t Training loss: 0.6809500497392661 \t Validation loss: 0.6836737454947779 \t \n",
      " 81%|████████  | 46494/57400 [09:13<01:49, 99.71it/s]\n",
      "Epoch 82 \t Training loss: 0.6809301289116464 \t Validation loss: 0.6836004944170936 \t \n",
      " 82%|████████▏ | 47068/57400 [09:19<01:37, 105.87it/s]\n",
      "Epoch 83 \t Training loss: 0.6809580492225673 \t Validation loss: 0.6837177640300686 \t \n",
      " 83%|████████▎ | 47642/57400 [09:25<01:40, 97.11it/s]\n",
      "Epoch 84 \t Training loss: 0.6809308295258246 \t Validation loss: 0.6838513350082656 \t \n",
      " 84%|████████▍ | 48216/57400 [09:31<01:31, 100.71it/s]\n",
      "Epoch 85 \t Training loss: 0.6809588366476916 \t Validation loss: 0.683439939709033 \t \n",
      " 85%|████████▌ | 48790/57400 [09:37<01:32, 93.48it/s]\n",
      "Epoch 86 \t Training loss: 0.6809207202042437 \t Validation loss: 0.6837531409021151 \t \n",
      " 86%|████████▌ | 49364/57400 [09:43<01:18, 102.30it/s]\n",
      "Epoch 87 \t Training loss: 0.6808977474942025 \t Validation loss: 0.683814828678713 \t \n",
      " 87%|████████▋ | 49938/57400 [09:49<01:10, 105.86it/s]\n",
      "Epoch 88 \t Training loss: 0.6809276851212106 \t Validation loss: 0.6836299350706198 \t \n",
      " 88%|████████▊ | 50512/57400 [09:55<01:04, 106.60it/s]\n",
      "Epoch 89 \t Training loss: 0.6808861810778907 \t Validation loss: 0.6836326112181453 \t \n",
      " 89%|████████▉ | 51086/57400 [10:01<01:01, 102.34it/s]\n",
      "Epoch 90 \t Training loss: 0.6809602957153985 \t Validation loss: 0.6837984808420731 \t \n",
      " 90%|█████████ | 51660/57400 [10:07<00:53, 107.88it/s]\n",
      "Epoch 91 \t Training loss: 0.6809370639224501 \t Validation loss: 0.6834709543292805 \t \n",
      " 91%|█████████ | 52234/57400 [10:13<00:53, 96.49it/s]\n",
      "Epoch 92 \t Training loss: 0.6809722846601067 \t Validation loss: 0.6837653760182656 \t \n",
      " 92%|█████████▏| 52808/57400 [10:19<00:44, 104.32it/s]\n",
      "Epoch 93 \t Training loss: 0.6809253370720335 \t Validation loss: 0.6838309128405684 \t \n",
      " 93%|█████████▎| 53382/57400 [10:25<00:41, 97.79it/s]\n",
      "Epoch 94 \t Training loss: 0.6809431796289902 \t Validation loss: 0.6837773636236029 \t \n",
      " 94%|█████████▍| 53956/57400 [10:31<00:33, 103.30it/s]\n",
      "Epoch 95 \t Training loss: 0.6809092032161739 \t Validation loss: 0.6838390948408741 \t \n",
      " 95%|█████████▌| 54530/57400 [10:37<00:29, 98.58it/s]\n",
      "Epoch 96 \t Training loss: 0.6809285462733345 \t Validation loss: 0.683450848369275 \t \n",
      " 96%|█████████▌| 55104/57400 [10:43<00:21, 105.44it/s]\n",
      "Epoch 97 \t Training loss: 0.6809506148411422 \t Validation loss: 0.6837115116038565 \t \n",
      " 97%|█████████▋| 55678/57400 [10:49<00:15, 108.17it/s]\n",
      "Epoch 98 \t Training loss: 0.6809257600157934 \t Validation loss: 0.6836760003687972 \t \n",
      " 98%|█████████▊| 56252/57400 [10:55<00:10, 106.66it/s]\n",
      "Epoch 99 \t Training loss: 0.6809693289343073 \t Validation loss: 0.6837960885742963 \t \n",
      " 99%|█████████▉| 56826/57400 [11:01<00:06, 95.07it/s]\n",
      "Epoch 100 \t Training loss: 0.6809550487413639 \t Validation loss: 0.6838092440265721 \t \n",
      "100%|██████████| 57400/57400 [11:07<00:00, 100.65it/s]\n"
     ]
    },
    {
     "data": {
      "image/png": "[encoded data removed]",
      "text/plain": [
       "<Figure size 640x480 with 1 Axes>"
      ]
     },
     "metadata": {},
     "output_type": "display_data"
    }
   ],
   "source": [
    "learning_rate = 5e-5\n",
    "optimizer = SGD(model.parameters(), lr=learning_rate, momentum=0.9)\n",
    "num_epochs = 100\n",
    "\n",
    "train.train_function(model,num_epochs,dl_train['about'],optimizer,early_stop=10,dl_val=dl_val['about'],save_path=save_path)"
   ]
  },
  {
   "cell_type": "code",
   "execution_count": 17,
   "metadata": {},
   "outputs": [],
   "source": [
    "del model\n",
    "torch.cuda.empty_cache() "
   ]
  },
  {
   "cell_type": "code",
   "execution_count": 16,
   "metadata": {},
   "outputs": [
    {
     "name": "stdout",
     "output_type": "stream",
     "text": [
      "GLOBAL: 0.4897959183673469 \n",
      "\n",
      "Using scikit learn accuracy por género en el conjunto about\n",
      "MALE 1.0\n",
      "FEMALE 0.0 \n",
      "\n",
      "GLOBAL: 0.5189393939393939 \n",
      "\n",
      "Using scikit learn accuracy por género en el conjunto to\n",
      "MALE 1.0\n",
      "FEMALE 0.0 \n",
      "\n",
      "GLOBAL: 0.516297262059974 \n",
      "\n",
      "Using scikit learn accuracy por género en el conjunto as\n",
      "MALE 1.0\n",
      "FEMALE 0.0 \n",
      "\n"
     ]
    }
   ],
   "source": [
    "model = rrnn.SingleTaskRRNNDep(emb_dim,vocab,vocab_size,lstm_hidden_dim,emb_weights=word2vec_model.vectors).to(device)\n",
    "model.load_state_dict(torch.load('m1_rrnn_dep_about_w2v'))\n",
    "\n",
    "for task in ['about','to','as']:\n",
    "    print(f\"GLOBAL: {train.eval_function_single_sk(model,dl_eval[task])}\",'\\n')\n",
    "    print(f\"Using scikit learn accuracy por género en el conjunto {task}\")\n",
    "    print(f\"MALE {train.eval_function_single_sk(model,dl_eval[task],gender='male')}\")\n",
    "    print(f\"FEMALE {train.eval_function_single_sk(model,dl_eval[task],gender='female')}\",'\\n')"
   ]
  },
  {
   "attachments": {},
   "cell_type": "markdown",
   "metadata": {},
   "source": [
    "# TO"
   ]
  },
  {
   "cell_type": "code",
   "execution_count": null,
   "metadata": {},
   "outputs": [],
   "source": [
    "emb_dim = 20\n",
    "vocab_size = len(word_to_index)\n",
    "num_labels = 2\n",
    "lstm_hidden_dim = 128"
   ]
  },
  {
   "cell_type": "code",
   "execution_count": null,
   "metadata": {},
   "outputs": [],
   "source": [
    "model = rrnn.SingleTaskRRNN2(emb_dim,vocab_size,lstm_hidden_dim,emb_weights=word2vec_model.vectors).to(device)\n",
    "save_path='m1_rrnn_dep_to_w2v'"
   ]
  },
  {
   "cell_type": "code",
   "execution_count": null,
   "metadata": {},
   "outputs": [],
   "source": [
    "learning_rate = 5e-5\n",
    "optimizer = SGD(model.parameters(), lr=learning_rate, momentum=0.9)\n",
    "num_epochs = 100\n",
    "\n",
    "train.train_function(model,num_epochs,dl_train['to'],optimizer,early_stop=10,dl_val=dl_val['to'],save_path=save_path)"
   ]
  },
  {
   "cell_type": "code",
   "execution_count": null,
   "metadata": {},
   "outputs": [],
   "source": [
    "del model\n",
    "torch.cuda.empty_cache() "
   ]
  },
  {
   "cell_type": "code",
   "execution_count": null,
   "metadata": {},
   "outputs": [],
   "source": [
    "model = rrnn.SingleTaskRRNN2(emb_dim,vocab_size,lstm_hidden_dim,emb_weights=word2vec_model.vectors).to(device)\n",
    "model.load_state_dict(torch.load('m1_rrnn_simple_to_w2v'))\n",
    "\n",
    "for task in ['about','to','as']:\n",
    "    print(f\"GLOBAL: {train.eval_function_single_sk(model,dl_eval[task])}\",'\\n')\n",
    "    print(f\"Using scikit learn accuracy por género en el conjunto {task}\")\n",
    "    print(f\"MALE {train.eval_function_single_sk(model,dl_eval[task],gender='male')}\")\n",
    "    print(f\"FEMALE {train.eval_function_single_sk(model,dl_eval[task],gender='female')}\",'\\n')"
   ]
  },
  {
   "attachments": {},
   "cell_type": "markdown",
   "metadata": {},
   "source": [
    "# AS"
   ]
  },
  {
   "cell_type": "code",
   "execution_count": null,
   "metadata": {},
   "outputs": [],
   "source": [
    "model = rrnn.SingleTaskRRNN2(emb_dim,vocab_size,lstm_hidden_dim,emb_weights=word2vec_model.vectors).to(device)\n",
    "save_path='m1_rrnn_dep_as_w2v'"
   ]
  },
  {
   "cell_type": "code",
   "execution_count": null,
   "metadata": {},
   "outputs": [],
   "source": [
    "learning_rate = 5e-5\n",
    "optimizer = SGD(model.parameters(), lr=learning_rate, momentum=0.9)\n",
    "num_epochs = 100\n",
    "\n",
    "train.train_function(model,num_epochs,dl_train['as'],optimizer,early_stop=10,dl_val=dl_val['as'],save_path=save_path)"
   ]
  },
  {
   "cell_type": "code",
   "execution_count": null,
   "metadata": {},
   "outputs": [],
   "source": [
    "del model\n",
    "torch.cuda.empty_cache() "
   ]
  },
  {
   "cell_type": "code",
   "execution_count": null,
   "metadata": {},
   "outputs": [],
   "source": [
    "model = rrnn.SingleTaskRRNN2(emb_dim,vocab_size,lstm_hidden_dim,emb_weights=word2vec_model.vectors).to(device)\n",
    "model.load_state_dict(torch.load(save_path))\n",
    "\n",
    "for task in ['about','to','as']:\n",
    "    print(f\"GLOBAL: {train.eval_function_single_sk(model,dl_eval[task])}\",'\\n')\n",
    "    print(f\"Using scikit learn accuracy por género en el conjunto {task}\")\n",
    "    print(f\"MALE {train.eval_function_single_sk(model,dl_eval[task],gender='male')}\")\n",
    "    print(f\"FEMALE {train.eval_function_single_sk(model,dl_eval[task],gender='female')}\",'\\n')"
   ]
  },
  {
   "attachments": {},
   "cell_type": "markdown",
   "metadata": {},
   "source": [
    "# AdamW"
   ]
  },
  {
   "attachments": {},
   "cell_type": "markdown",
   "metadata": {},
   "source": [
    "## ABOUT"
   ]
  },
  {
   "cell_type": "code",
   "execution_count": 20,
   "metadata": {},
   "outputs": [],
   "source": [
    "model = rrnn.SingleTaskRRNNDep(emb_dim,vocab,vocab_size,lstm_hidden_dim,emb_weights=word2vec_model.vectors).to(device)\n",
    "save_path='m1_rrnn_dep_about_adam_w2v'"
   ]
  },
  {
   "cell_type": "code",
   "execution_count": 21,
   "metadata": {},
   "outputs": [
    {
     "data": {
      "application/vnd.jupyter.widget-view+json": {
       "model_id": "159df90fd5fa4418996e7601b0a747fe",
       "version_major": 2,
       "version_minor": 0
      },
      "text/plain": [
       "  0%|          | 0/57400 [00:00<?, ?it/s]"
      ]
     },
     "metadata": {},
     "output_type": "display_data"
    },
    {
     "name": "stdout",
     "output_type": "stream",
     "text": [
      "Epoch 1 \t Training loss: 0.6180789686661564 \t Validation loss: 0.5300083407911204 \t \n",
      "  1%|          | 574/57400 [00:13<11:50, 80.00it/s]\n",
      "Epoch 2 \t Training loss: 0.4726200682672474 \t Validation loss: 0.44916815980006075 \t \n",
      "  2%|▏         | 1148/57400 [00:25<12:00, 78.04it/s]\n",
      "Epoch 3 \t Training loss: 0.446690633893013 \t Validation loss: 0.439537949986377 \t \n",
      "  3%|▎         | 1722/57400 [00:38<12:59, 71.39it/s]\n",
      "Epoch 4 \t Training loss: 0.43410542191944057 \t Validation loss: 0.4248960280822495 \t \n",
      "  4%|▍         | 2296/57400 [00:51<13:13, 69.47it/s]\n",
      "Epoch 5 \t Training loss: 0.42580637600571436 \t Validation loss: 0.4325853909476329 \t \n",
      "\n",
      "1 epoch without improvement\n",
      "  5%|▌         | 2870/57400 [00:59<12:52, 70.55it/s]\n",
      "Epoch 6 \t Training loss: 0.41866456496590937 \t Validation loss: 0.4200895029609486 \t \n",
      "  6%|▌         | 3444/57400 [01:11<11:37, 77.38it/s]\n",
      "Epoch 7 \t Training loss: 0.4142865007451187 \t Validation loss: 0.4107803449792377 \t \n",
      "  7%|▋         | 4018/57400 [01:24<12:08, 73.29it/s]\n",
      "Epoch 8 \t Training loss: 0.40922359208404396 \t Validation loss: 0.41065633852603073 \t \n",
      "  8%|▊         | 4592/57400 [01:37<12:36, 69.82it/s]\n",
      "Epoch 9 \t Training loss: 0.4050523040602016 \t Validation loss: 0.4066302927873902 \t \n",
      "  9%|▉         | 5166/57400 [01:51<12:42, 68.53it/s]\n",
      "Epoch 10 \t Training loss: 0.40361119843110804 \t Validation loss: 0.4042901159343073 \t \n",
      " 10%|█         | 5740/57400 [02:04<11:22, 75.74it/s]\n",
      "Epoch 11 \t Training loss: 0.4076656328468788 \t Validation loss: 0.4024953498678692 \t \n",
      " 11%|█         | 6314/57400 [02:18<10:40, 79.72it/s]\n",
      "Epoch 12 \t Training loss: 0.397900877513952 \t Validation loss: 0.4017438444040589 \t \n",
      " 12%|█▏        | 6888/57400 [02:31<09:43, 86.49it/s]\n",
      "Epoch 13 \t Training loss: 0.3956703163865136 \t Validation loss: 0.4039977743464001 \t \n",
      "\n",
      "1 epoch without improvement\n",
      " 13%|█▎        | 7462/57400 [02:39<09:51, 84.47it/s]\n",
      "Epoch 14 \t Training loss: 0.3935962950207215 \t Validation loss: 0.3987158961215262 \t \n",
      " 14%|█▍        | 8036/57400 [02:52<11:16, 72.98it/s]\n",
      "Epoch 15 \t Training loss: 0.39202084825844713 \t Validation loss: 0.39735642631175155 \t \n",
      " 15%|█▌        | 8610/57400 [03:05<11:31, 70.60it/s]\n",
      "Epoch 16 \t Training loss: 0.38848512269270963 \t Validation loss: 0.39695083892951577 \t \n",
      " 16%|█▌        | 9184/57400 [03:18<10:06, 79.54it/s]\n",
      "Epoch 17 \t Training loss: 0.38797685021099726 \t Validation loss: 0.3965058200440164 \t \n",
      " 17%|█▋        | 9758/57400 [03:31<09:39, 82.25it/s]\n",
      "Epoch 18 \t Training loss: 0.384285390169363 \t Validation loss: 0.39473504232147993 \t \n",
      " 18%|█▊        | 10332/57400 [03:44<09:24, 83.44it/s]\n",
      "Epoch 19 \t Training loss: 0.38246140683569557 \t Validation loss: 0.39499734619916493 \t \n",
      " 19%|█▉        | 10906/57400 [03:52<09:41, 79.96it/s]\n",
      "Epoch 20 \t Training loss: 0.38080250136943644 \t Validation loss: 0.40345367890293315 \t \n",
      "\n",
      "1 epoch without improvement\n",
      " 20%|██        | 11480/57400 [04:00<09:42, 78.77it/s]\n",
      "Epoch 21 \t Training loss: 0.37882235812393217 \t Validation loss: 0.3910922832408194 \t \n",
      " 21%|██        | 12054/57400 [04:12<10:48, 69.98it/s]\n",
      "Epoch 22 \t Training loss: 0.37738815300452166 \t Validation loss: 0.3912201377294831 \t \n",
      " 22%|██▏       | 12628/57400 [04:20<10:27, 71.40it/s]\n",
      "Epoch 23 \t Training loss: 0.37494001560925605 \t Validation loss: 0.39245631583666396 \t \n",
      "\n",
      "1 epoch without improvement\n",
      " 23%|██▎       | 13202/57400 [04:28<08:51, 83.14it/s]\n",
      "Epoch 24 \t Training loss: 0.37395032139605344 \t Validation loss: 0.38802268545506363 \t \n",
      " 24%|██▍       | 13776/57400 [04:41<10:17, 70.59it/s]\n",
      "Epoch 25 \t Training loss: 0.3717087682738952 \t Validation loss: 0.3884474291639813 \t \n",
      " 25%|██▌       | 14350/57400 [04:49<08:59, 79.76it/s]\n",
      "Epoch 26 \t Training loss: 0.36966912788484985 \t Validation loss: 0.3921093314380969 \t \n",
      "\n",
      "1 epoch without improvement\n",
      " 26%|██▌       | 14924/57400 [04:57<10:31, 67.27it/s]\n",
      "Epoch 27 \t Training loss: 0.36767535864372286 \t Validation loss: 0.3906047202773013 \t \n",
      "\n",
      "2 epoch without improvement\n",
      " 27%|██▋       | 15498/57400 [05:05<08:51, 78.78it/s]\n",
      "Epoch 28 \t Training loss: 0.36569621863057805 \t Validation loss: 0.38794751692626434 \t \n",
      " 28%|██▊       | 16072/57400 [05:18<08:32, 80.68it/s]\n",
      "Epoch 29 \t Training loss: 0.3652796127447268 \t Validation loss: 0.3886223950628507 \t \n",
      " 29%|██▉       | 16646/57400 [05:26<08:08, 83.46it/s]\n",
      "Epoch 30 \t Training loss: 0.36314104819339327 \t Validation loss: 0.3834527897632728 \t \n",
      " 30%|███       | 17220/57400 [05:39<08:15, 81.13it/s]\n",
      "Epoch 31 \t Training loss: 0.3607521334383961 \t Validation loss: 0.384745147773775 \t \n",
      "\n",
      "1 epoch without improvement\n",
      " 31%|███       | 17794/57400 [05:47<09:34, 68.97it/s]\n",
      "Epoch 32 \t Training loss: 0.36660972699678734 \t Validation loss: 0.3878131362341218 \t \n",
      "\n",
      "2 epoch without improvement\n",
      " 32%|███▏      | 18368/57400 [05:55<08:19, 78.13it/s]\n",
      "Epoch 33 \t Training loss: 0.3578972187970573 \t Validation loss: 0.38753024854902496 \t \n",
      "\n",
      "3 epoch without improvement\n",
      " 33%|███▎      | 18942/57400 [06:02<07:48, 82.06it/s]\n",
      "Epoch 34 \t Training loss: 0.3572360767823894 \t Validation loss: 0.38173731201786104 \t \n",
      " 34%|███▍      | 19516/57400 [06:16<09:26, 66.93it/s]\n",
      "Epoch 35 \t Training loss: 0.3558693318936052 \t Validation loss: 0.38168624195001893 \t \n",
      " 35%|███▌      | 20090/57400 [06:29<07:37, 81.59it/s]\n",
      "Epoch 36 \t Training loss: 0.3539555616391245 \t Validation loss: 0.3796242748276662 \t \n",
      " 36%|███▌      | 20664/57400 [06:43<07:26, 82.19it/s]\n",
      "Epoch 37 \t Training loss: 0.35233587104476705 \t Validation loss: 0.3808494215294466 \t \n",
      "\n",
      "1 epoch without improvement\n",
      " 37%|███▋      | 21238/57400 [06:50<07:23, 81.47it/s]\n",
      "Epoch 38 \t Training loss: 0.3516502518739019 \t Validation loss: 0.38154950182316666 \t \n",
      "\n",
      "2 epoch without improvement\n",
      " 38%|███▊      | 21812/57400 [06:58<08:06, 73.11it/s]\n",
      "Epoch 39 \t Training loss: 0.3489588482714281 \t Validation loss: 0.3860160142688428 \t \n",
      "\n",
      "3 epoch without improvement\n",
      " 39%|███▉      | 22386/57400 [07:05<07:13, 80.86it/s]\n",
      "Epoch 40 \t Training loss: 0.34812608169138637 \t Validation loss: 0.37845309356511647 \t \n",
      " 40%|████      | 22960/57400 [07:18<07:03, 81.24it/s]\n",
      "Epoch 41 \t Training loss: 0.3452788631882817 \t Validation loss: 0.3779838004354703 \t \n",
      " 41%|████      | 23534/57400 [07:31<06:57, 81.08it/s]\n",
      "Epoch 42 \t Training loss: 0.34502513758604536 \t Validation loss: 0.38875413496615524 \t \n",
      "\n",
      "1 epoch without improvement\n",
      " 42%|████▏     | 24108/57400 [07:39<06:49, 81.34it/s]\n",
      "Epoch 43 \t Training loss: 0.34290038420452057 \t Validation loss: 0.3759451175140122 \t \n",
      " 43%|████▎     | 24682/57400 [07:52<07:00, 77.80it/s]\n",
      "Epoch 44 \t Training loss: 0.3414820481727763 \t Validation loss: 0.37643625473572034 \t \n",
      " 44%|████▍     | 25256/57400 [08:00<06:41, 80.11it/s]\n",
      "Epoch 45 \t Training loss: 0.34012325705136154 \t Validation loss: 0.37834396301689793 \t \n",
      "\n",
      "1 epoch without improvement\n",
      " 45%|████▌     | 25830/57400 [08:08<07:46, 67.72it/s]\n",
      "Epoch 46 \t Training loss: 0.34117894583359 \t Validation loss: 0.3750609982821901 \t \n",
      " 46%|████▌     | 26404/57400 [08:21<06:56, 74.46it/s]\n",
      "Epoch 47 \t Training loss: 0.33773541001388835 \t Validation loss: 0.3726283665430748 \t \n",
      " 47%|████▋     | 26978/57400 [08:34<07:34, 67.00it/s]\n",
      "Epoch 48 \t Training loss: 0.33629197131465954 \t Validation loss: 0.37658517744581577 \t \n",
      "\n",
      "1 epoch without improvement\n",
      " 48%|████▊     | 27552/57400 [08:42<05:49, 85.29it/s]\n",
      "Epoch 49 \t Training loss: 0.33439998380606184 \t Validation loss: 0.3764309534582041 \t \n",
      "\n",
      "2 epoch without improvement\n",
      " 49%|████▉     | 28126/57400 [08:49<05:56, 82.01it/s]\n",
      "Epoch 50 \t Training loss: 0.33291923854409194 \t Validation loss: 0.37207887536388334 \t \n",
      " 50%|█████     | 28700/57400 [09:02<06:07, 78.10it/s]\n",
      "Epoch 51 \t Training loss: 0.3321282565853322 \t Validation loss: 0.3735473974276397 \t \n",
      "\n",
      "1 epoch without improvement\n",
      " 51%|█████     | 29274/57400 [09:11<05:53, 79.46it/s]\n",
      "Epoch 52 \t Training loss: 0.3307813742954141 \t Validation loss: 0.37332463365490154 \t \n",
      "\n",
      "2 epoch without improvement\n",
      " 52%|█████▏    | 29848/57400 [09:19<06:27, 71.18it/s]\n",
      "Epoch 53 \t Training loss: 0.3292408093862002 \t Validation loss: 0.3730691009658878 \t \n",
      " 53%|█████▎    | 30422/57400 [09:27<06:00, 74.90it/s]\n",
      "Epoch 54 \t Training loss: 0.32829374248869325 \t Validation loss: 0.3765701757649244 \t \n",
      "\n",
      "3 epoch without improvement\n",
      " 54%|█████▍    | 30996/57400 [09:34<05:05, 86.34it/s]\n",
      "Epoch 55 \t Training loss: 0.3265978523922714 \t Validation loss: 0.3722094883353023 \t \n",
      " 55%|█████▌    | 31570/57400 [09:42<06:23, 67.36it/s]\n",
      "Epoch 56 \t Training loss: 0.32575092550354134 \t Validation loss: 0.3704501385405912 \t \n",
      " 56%|█████▌    | 32144/57400 [09:55<05:47, 72.69it/s]\n",
      "Epoch 57 \t Training loss: 0.32430799056220966 \t Validation loss: 0.37579823146432134 \t \n",
      "\n",
      "1 epoch without improvement\n",
      " 57%|█████▋    | 32718/57400 [10:03<06:00, 68.40it/s]\n",
      "Epoch 58 \t Training loss: 0.32449766061551066 \t Validation loss: 0.3722069556430235 \t \n",
      "\n",
      "2 epoch without improvement\n",
      " 58%|█████▊    | 33292/57400 [10:11<04:45, 84.43it/s]\n",
      "Epoch 59 \t Training loss: 0.322402918873556 \t Validation loss: 0.3704844748569747 \t \n",
      " 59%|█████▉    | 33866/57400 [10:19<04:54, 79.88it/s]\n",
      "Epoch 60 \t Training loss: 0.32346453769489447 \t Validation loss: 0.3704525500030841 \t \n",
      " 60%|██████    | 34440/57400 [10:26<05:47, 66.02it/s]\n",
      "Epoch 61 \t Training loss: 0.319613685513415 \t Validation loss: 0.3690844943462792 \t \n",
      " 61%|██████    | 35014/57400 [10:39<04:32, 82.02it/s]\n",
      "Epoch 62 \t Training loss: 0.31924436908565745 \t Validation loss: 0.37201399570804533 \t \n",
      "\n",
      "1 epoch without improvement\n",
      " 62%|██████▏   | 35588/57400 [10:47<04:16, 85.01it/s]\n",
      "Epoch 63 \t Training loss: 0.318454709773695 \t Validation loss: 0.3710787892341614 \t \n",
      "\n",
      "2 epoch without improvement\n",
      " 63%|██████▎   | 36162/57400 [10:55<04:17, 82.58it/s]\n",
      "Epoch 64 \t Training loss: 0.31667568947380015 \t Validation loss: 0.37285289446176106 \t \n",
      "\n",
      "3 epoch without improvement\n",
      " 64%|██████▍   | 36736/57400 [11:02<04:08, 83.08it/s]\n",
      "Epoch 65 \t Training loss: 0.31929092804937 \t Validation loss: 0.39762757087157946 \t \n",
      "\n",
      "4 epoch without improvement\n",
      " 65%|██████▌   | 37310/57400 [11:10<04:05, 81.71it/s]\n",
      "Epoch 66 \t Training loss: 0.3340622942881717 \t Validation loss: 0.3694495780993316 \t \n",
      " 66%|██████▌   | 37884/57400 [11:18<04:11, 77.71it/s]\n",
      "Epoch 67 \t Training loss: 0.3157102767806435 \t Validation loss: 0.3695030379093299 \t \n",
      " 67%|██████▋   | 38458/57400 [11:26<04:11, 75.33it/s]\n",
      "Epoch 68 \t Training loss: 0.3135458457085729 \t Validation loss: 0.3722531656592579 \t \n",
      "\n",
      "5 epoch without improvement\n",
      " 68%|██████▊   | 39032/57400 [11:33<03:41, 82.88it/s]\n",
      "Epoch 69 \t Training loss: 0.31290949019197806 \t Validation loss: 0.37069056397777495 \t \n",
      "\n",
      "6 epoch without improvement\n",
      " 69%|██████▉   | 39606/57400 [11:42<03:50, 77.25it/s]\n",
      "Epoch 70 \t Training loss: 0.3118631629474487 \t Validation loss: 0.3706871422670655 \t \n",
      "\n",
      "7 epoch without improvement\n",
      " 70%|███████   | 40180/57400 [11:49<03:38, 78.84it/s]\n",
      "Epoch 71 \t Training loss: 0.31098433975974027 \t Validation loss: 0.369235023856163 \t \n",
      " 71%|███████   | 40754/57400 [11:57<03:15, 85.31it/s]\n",
      "Epoch 72 \t Training loss: 0.3104066649120859 \t Validation loss: 0.36959150534565166 \t \n",
      " 72%|███████▏  | 41328/57400 [12:05<03:24, 78.73it/s]\n",
      "Epoch 73 \t Training loss: 0.3097915573610246 \t Validation loss: 0.3704618452969244 \t \n",
      "\n",
      "8 epoch without improvement\n",
      " 73%|███████▎  | 41902/57400 [12:13<03:40, 70.44it/s]\n",
      "Epoch 74 \t Training loss: 0.3089505979719893 \t Validation loss: 0.3694455729702772 \t \n",
      " 74%|███████▍  | 42476/57400 [12:21<03:04, 80.91it/s]\n",
      "Epoch 75 \t Training loss: 0.30790439582971746 \t Validation loss: 0.37101531281309613 \t \n",
      "\n",
      "9 epoch without improvement\n",
      " 75%|███████▌  | 43050/57400 [12:29<03:02, 78.65it/s]\n",
      "Epoch 76 \t Training loss: 0.30619828569141416 \t Validation loss: 0.3698934508582293 \t \n",
      " 76%|███████▌  | 43624/57400 [12:37<03:02, 75.64it/s]\n",
      "Epoch 77 \t Training loss: 0.3067274252764024 \t Validation loss: 0.3725222334013147 \t \n",
      "\n",
      "10 epoch without improvement\n",
      "Validation_loss hasn't improve in 10 epoch. Stopping training after 77 epochs...\n"
     ]
    },
    {
     "data": {
      "image/png": "[encoded data removed]",
      "text/plain": [
       "<Figure size 640x480 with 1 Axes>"
      ]
     },
     "metadata": {},
     "output_type": "display_data"
    }
   ],
   "source": [
    "learning_rate = 5e-5\n",
    "optimizer = AdamW(model.parameters(), lr=learning_rate)\n",
    "num_epochs = 100\n",
    "\n",
    "train.train_function(model,num_epochs,dl_train['about'],optimizer,early_stop=10,dl_val=dl_val['about'],save_path=save_path)"
   ]
  },
  {
   "cell_type": "code",
   "execution_count": 17,
   "metadata": {},
   "outputs": [],
   "source": [
    "del model\n",
    "torch.cuda.empty_cache() "
   ]
  },
  {
   "cell_type": "code",
   "execution_count": 16,
   "metadata": {},
   "outputs": [
    {
     "name": "stdout",
     "output_type": "stream",
     "text": [
      "GLOBAL: 0.8099489795918368 \n",
      "\n",
      "Using scikit learn accuracy por género en el conjunto about\n",
      "MALE 0.8411458333333334\n",
      "FEMALE 0.78 \n",
      "\n",
      "GLOBAL: 0.7032828282828283 \n",
      "\n",
      "Using scikit learn accuracy por género en el conjunto to\n",
      "MALE 0.7420924574209246\n",
      "FEMALE 0.6614173228346457 \n",
      "\n",
      "GLOBAL: 0.6936114732724902 \n",
      "\n",
      "Using scikit learn accuracy por género en el conjunto as\n",
      "MALE 0.7222222222222222\n",
      "FEMALE 0.6630727762803235 \n",
      "\n"
     ]
    }
   ],
   "source": [
    "model = rrnn.SingleTaskRRNNDep(emb_dim,vocab,vocab_size,lstm_hidden_dim,emb_weights=word2vec_model.vectors).to(device)\n",
    "model.load_state_dict(torch.load('m1_rrnn_dep_about_adam_w2v'))\n",
    "\n",
    "for task in ['about','to','as']:\n",
    "    print(f\"GLOBAL: {train.eval_function_single_sk(model,dl_eval[task])}\",'\\n')\n",
    "    print(f\"Using scikit learn accuracy por género en el conjunto {task}\")\n",
    "    print(f\"MALE {train.eval_function_single_sk(model,dl_eval[task],gender='male')}\")\n",
    "    print(f\"FEMALE {train.eval_function_single_sk(model,dl_eval[task],gender='female')}\",'\\n')"
   ]
  },
  {
   "attachments": {},
   "cell_type": "markdown",
   "metadata": {},
   "source": [
    "## TO"
   ]
  },
  {
   "cell_type": "code",
   "execution_count": 18,
   "metadata": {},
   "outputs": [],
   "source": [
    "model = rrnn.SingleTaskRRNNDep(emb_dim,vocab,vocab_size,lstm_hidden_dim,emb_weights=word2vec_model.vectors).to(device)\n",
    "save_path='m1_rrnn_dep_to_adam_w2v'"
   ]
  },
  {
   "cell_type": "code",
   "execution_count": 19,
   "metadata": {},
   "outputs": [
    {
     "data": {
      "application/vnd.jupyter.widget-view+json": {
       "model_id": "2b097c20cb9448c28f2fd233ea8e96c3",
       "version_major": 2,
       "version_minor": 0
      },
      "text/plain": [
       "  0%|          | 0/57400 [00:00<?, ?it/s]"
      ]
     },
     "metadata": {},
     "output_type": "display_data"
    },
    {
     "name": "stdout",
     "output_type": "stream",
     "text": [
      "Epoch 1 \t Training loss: 0.6932515441748324 \t Validation loss: 0.6926658789990312 \t \n",
      "  1%|          | 574/57400 [00:14<14:40, 64.52it/s]\n",
      "Epoch 2 \t Training loss: 0.6931800435229045 \t Validation loss: 0.6917940448906462 \t \n",
      "  2%|▏         | 1148/57400 [00:28<14:21, 65.29it/s]\n",
      "Epoch 3 \t Training loss: 0.6931288875769239 \t Validation loss: 0.6943564505900367 \t \n",
      "\n",
      "1 epoch without improvement\n",
      "  3%|▎         | 1722/57400 [00:37<14:59, 61.88it/s]\n",
      "Epoch 4 \t Training loss: 0.6931151151657104 \t Validation loss: 0.6935531345464415 \t \n",
      "\n",
      "2 epoch without improvement\n",
      "  4%|▍         | 2296/57400 [00:46<13:09, 69.79it/s]\n",
      "Epoch 5 \t Training loss: 0.6930846390200824 \t Validation loss: 0.6920236035928888 \t \n",
      "  5%|▌         | 2870/57400 [00:54<13:48, 65.80it/s]\n",
      "Epoch 6 \t Training loss: 0.6929675687480886 \t Validation loss: 0.6927784418655654 \t \n",
      "  6%|▌         | 3444/57400 [01:03<12:16, 73.30it/s]\n",
      "Epoch 7 \t Training loss: 0.6929700497135468 \t Validation loss: 0.6925869119369378 \t \n",
      "  7%|▋         | 4018/57400 [01:11<12:00, 74.08it/s]\n",
      "Epoch 8 \t Training loss: 0.6928450195216136 \t Validation loss: 0.6929170004392075 \t \n",
      "\n",
      "3 epoch without improvement\n",
      "  8%|▊         | 4592/57400 [01:20<14:11, 62.01it/s]\n",
      "Epoch 9 \t Training loss: 0.6928561870852414 \t Validation loss: 0.6938986293340134 \t \n",
      "\n",
      "4 epoch without improvement\n",
      "  9%|▉         | 5166/57400 [01:29<13:56, 62.41it/s]\n",
      "Epoch 10 \t Training loss: 0.6927100541491957 \t Validation loss: 0.6929425869957876 \t \n",
      "\n",
      "5 epoch without improvement\n",
      " 10%|█         | 5740/57400 [01:38<11:51, 72.60it/s]\n",
      "Epoch 11 \t Training loss: 0.6926204906938799 \t Validation loss: 0.6951970852027505 \t \n",
      "\n",
      "6 epoch without improvement\n",
      " 11%|█         | 6314/57400 [01:47<11:33, 73.62it/s]\n",
      "Epoch 12 \t Training loss: 0.6926124355518859 \t Validation loss: 0.6939375754130088 \t \n",
      "\n",
      "7 epoch without improvement\n",
      " 12%|█▏        | 6888/57400 [01:56<12:02, 69.96it/s]\n",
      "Epoch 13 \t Training loss: 0.6924594224330025 \t Validation loss: 0.6931651719545914 \t \n",
      "\n",
      "8 epoch without improvement\n",
      " 13%|█▎        | 7462/57400 [02:05<13:02, 63.82it/s]\n",
      "Epoch 14 \t Training loss: 0.6925295303715231 \t Validation loss: 0.6932391433392541 \t \n",
      "\n",
      "9 epoch without improvement\n",
      " 14%|█▍        | 8036/57400 [02:13<12:17, 66.93it/s]\n",
      "Epoch 15 \t Training loss: 0.6925104677884836 \t Validation loss: 0.6932204446550143 \t \n",
      "\n",
      "10 epoch without improvement\n",
      "Validation_loss hasn't improve in 10 epoch. Stopping training after 15 epochs...\n"
     ]
    },
    {
     "data": {
      "image/png": "[encoded data removed]",
      "text/plain": [
       "<Figure size 640x480 with 1 Axes>"
      ]
     },
     "metadata": {},
     "output_type": "display_data"
    }
   ],
   "source": [
    "learning_rate = 5e-5\n",
    "optimizer = AdamW(model.parameters(), lr=learning_rate)\n",
    "num_epochs = 100\n",
    "\n",
    "train.train_function(model,num_epochs,dl_train['to'],optimizer,early_stop=10,dl_val=dl_val['to'],save_path=save_path)"
   ]
  },
  {
   "cell_type": "code",
   "execution_count": 20,
   "metadata": {},
   "outputs": [],
   "source": [
    "del model\n",
    "torch.cuda.empty_cache() "
   ]
  },
  {
   "cell_type": "code",
   "execution_count": 21,
   "metadata": {},
   "outputs": [
    {
     "name": "stdout",
     "output_type": "stream",
     "text": [
      "GLOBAL: 0.5165816326530612 \n",
      "\n",
      "Using scikit learn accuracy por género en el conjunto about\n",
      "MALE 0.018229166666666668\n",
      "FEMALE 0.995 \n",
      "\n",
      "GLOBAL: 0.48358585858585856 \n",
      "\n",
      "Using scikit learn accuracy por género en el conjunto to\n",
      "MALE 0.009732360097323601\n",
      "FEMALE 0.994750656167979 \n",
      "\n",
      "GLOBAL: 0.485006518904824 \n",
      "\n",
      "Using scikit learn accuracy por género en el conjunto as\n",
      "MALE 0.007575757575757576\n",
      "FEMALE 0.9946091644204852 \n",
      "\n"
     ]
    }
   ],
   "source": [
    "model = rrnn.SingleTaskRRNNDep(emb_dim,vocab,vocab_size,lstm_hidden_dim,emb_weights=word2vec_model.vectors).to(device)\n",
    "model.load_state_dict(torch.load(save_path))\n",
    "\n",
    "for task in ['about','to','as']:\n",
    "    print(f\"GLOBAL: {train.eval_function_single_sk(model,dl_eval[task])}\",'\\n')\n",
    "    print(f\"Using scikit learn accuracy por género en el conjunto {task}\")\n",
    "    print(f\"MALE {train.eval_function_single_sk(model,dl_eval[task],gender='male')}\")\n",
    "    print(f\"FEMALE {train.eval_function_single_sk(model,dl_eval[task],gender='female')}\",'\\n')"
   ]
  },
  {
   "attachments": {},
   "cell_type": "markdown",
   "metadata": {},
   "source": [
    "## AS"
   ]
  },
  {
   "cell_type": "code",
   "execution_count": 22,
   "metadata": {},
   "outputs": [],
   "source": [
    "model = rrnn.SingleTaskRRNNDep(emb_dim,vocab,vocab_size,lstm_hidden_dim,emb_weights=word2vec_model.vectors).to(device)\n",
    "save_path='m1_rrnn_dep_as_adam_w2v'"
   ]
  },
  {
   "cell_type": "code",
   "execution_count": 23,
   "metadata": {},
   "outputs": [
    {
     "data": {
      "application/vnd.jupyter.widget-view+json": {
       "model_id": "e833f21c012f429994f3deb332573394",
       "version_major": 2,
       "version_minor": 0
      },
      "text/plain": [
       "  0%|          | 0/57400 [00:00<?, ?it/s]"
      ]
     },
     "metadata": {},
     "output_type": "display_data"
    },
    {
     "name": "stdout",
     "output_type": "stream",
     "text": [
      "Epoch 1 \t Training loss: 0.6932432198773694 \t Validation loss: 0.6923362572314375 \t \n",
      "  1%|          | 574/57400 [00:13<13:56, 67.95it/s]\n",
      "Epoch 2 \t Training loss: 0.6931436141816582 \t Validation loss: 0.6935423612594604 \t \n",
      "\n",
      "1 epoch without improvement\n",
      "  2%|▏         | 1148/57400 [00:22<15:25, 60.77it/s]\n",
      "Epoch 3 \t Training loss: 0.6926809089316723 \t Validation loss: 0.6932477284285982 \t \n",
      "  3%|▎         | 1722/57400 [00:31<13:47, 67.30it/s]\n",
      "Epoch 4 \t Training loss: 0.6913794442128637 \t Validation loss: 0.6909625186758527 \t \n",
      "  4%|▍         | 2296/57400 [00:45<13:46, 66.64it/s]\n",
      "Epoch 5 \t Training loss: 0.6895828042503849 \t Validation loss: 0.691730433601444 \t \n",
      "  5%|▌         | 2870/57400 [00:54<14:58, 60.70it/s]\n",
      "Epoch 6 \t Training loss: 0.6882358340851521 \t Validation loss: 0.6916776218656766 \t \n",
      "  6%|▌         | 3444/57400 [01:03<14:40, 61.31it/s]\n",
      "Epoch 7 \t Training loss: 0.6883869037187889 \t Validation loss: 0.6912338976132668 \t \n",
      "  7%|▋         | 4018/57400 [01:12<12:32, 70.98it/s]\n",
      "Epoch 8 \t Training loss: 0.6880605467935887 \t Validation loss: 0.6926527609259395 \t \n",
      "\n",
      "1 epoch without improvement\n",
      "  8%|▊         | 4592/57400 [01:22<13:51, 63.53it/s]\n",
      "Epoch 9 \t Training loss: 0.6878224280030054 \t Validation loss: 0.6927521956168999 \t \n",
      "\n",
      "2 epoch without improvement\n",
      "  9%|▉         | 5166/57400 [01:33<15:18, 56.87it/s]\n",
      "Epoch 10 \t Training loss: 0.6875443269566792 \t Validation loss: 0.6919501827935041 \t \n",
      " 10%|█         | 5740/57400 [01:43<13:54, 61.89it/s]\n",
      "Epoch 11 \t Training loss: 0.6858926874419954 \t Validation loss: 0.693085850295374 \t \n",
      "\n",
      "3 epoch without improvement\n",
      " 11%|█         | 6314/57400 [01:54<14:06, 60.34it/s]\n",
      "Epoch 12 \t Training loss: 0.6859979918194149 \t Validation loss: 0.6927092610779455 \t \n",
      "\n",
      "4 epoch without improvement\n",
      " 12%|█▏        | 6888/57400 [02:04<13:37, 61.79it/s]\n",
      "Epoch 13 \t Training loss: 0.6868002889256029 \t Validation loss: 0.6912911978818602 \t \n",
      " 13%|█▎        | 7462/57400 [02:14<14:02, 59.24it/s]\n",
      "Epoch 14 \t Training loss: 0.68591300109953 \t Validation loss: 0.6928705704414239 \t \n",
      "\n",
      "5 epoch without improvement\n",
      " 14%|█▍        | 8036/57400 [02:25<13:50, 59.45it/s]\n",
      "Epoch 15 \t Training loss: 0.6870201528072357 \t Validation loss: 0.6919484603202949 \t \n",
      " 15%|█▌        | 8610/57400 [02:35<14:24, 56.42it/s]\n",
      "Epoch 16 \t Training loss: 0.6860863287066749 \t Validation loss: 0.6911469920206879 \t \n",
      " 16%|█▌        | 9184/57400 [02:45<13:40, 58.78it/s]\n",
      "Epoch 17 \t Training loss: 0.6850730137127202 \t Validation loss: 0.6925185888500537 \t \n",
      "\n",
      "6 epoch without improvement\n",
      " 17%|█▋        | 9758/57400 [02:55<14:12, 55.89it/s]\n",
      "Epoch 18 \t Training loss: 0.685427099362483 \t Validation loss: 0.6928903005890927 \t \n",
      "\n",
      "7 epoch without improvement\n",
      " 18%|█▊        | 10332/57400 [03:06<13:28, 58.23it/s]\n",
      "Epoch 19 \t Training loss: 0.685432127647699 \t Validation loss: 0.6963157461861432 \t \n",
      "\n",
      "8 epoch without improvement\n",
      " 19%|█▉        | 10906/57400 [03:16<13:35, 57.01it/s]\n",
      "Epoch 20 \t Training loss: 0.684628316126634 \t Validation loss: 0.6906489527831643 \t \n",
      " 20%|██        | 11480/57400 [03:31<13:01, 58.72it/s]\n",
      "Epoch 21 \t Training loss: 0.684586791418986 \t Validation loss: 0.693479943073402 \t \n",
      "\n",
      "1 epoch without improvement\n",
      " 21%|██        | 12054/57400 [03:42<11:55, 63.34it/s]\n",
      "Epoch 22 \t Training loss: 0.6844104791144461 \t Validation loss: 0.6906534009060618 \t \n",
      " 22%|██▏       | 12628/57400 [03:52<11:56, 62.53it/s]\n",
      "Epoch 23 \t Training loss: 0.6843751906725588 \t Validation loss: 0.6907177335124904 \t \n",
      " 23%|██▎       | 13202/57400 [04:02<13:19, 55.31it/s]\n",
      "Epoch 24 \t Training loss: 0.683205405905687 \t Validation loss: 0.6951562641030651 \t \n",
      "\n",
      "2 epoch without improvement\n",
      " 24%|██▍       | 13776/57400 [04:12<12:33, 57.89it/s]\n",
      "Epoch 25 \t Training loss: 0.6838586974227054 \t Validation loss: 0.6918183454012466 \t \n",
      "\n",
      "3 epoch without improvement\n",
      " 25%|██▌       | 14350/57400 [04:23<13:01, 55.09it/s]\n",
      "Epoch 26 \t Training loss: 0.6832705090270225 \t Validation loss: 0.6919974856457468 \t \n",
      "\n",
      "4 epoch without improvement\n",
      " 26%|██▌       | 14924/57400 [04:33<11:47, 60.02it/s]\n",
      "Epoch 27 \t Training loss: 0.6828099137191573 \t Validation loss: 0.6937469233900814 \t \n",
      "\n",
      "5 epoch without improvement\n",
      " 27%|██▋       | 15498/57400 [04:43<12:40, 55.07it/s]\n",
      "Epoch 28 \t Training loss: 0.6819866277822634 \t Validation loss: 0.6948101985252509 \t \n",
      "\n",
      "6 epoch without improvement\n",
      " 28%|██▊       | 16072/57400 [04:54<11:34, 59.52it/s]\n",
      "Epoch 29 \t Training loss: 0.6823682493241406 \t Validation loss: 0.6905825016862255 \t \n",
      " 29%|██▉       | 16646/57400 [05:09<12:04, 56.26it/s]\n",
      "Epoch 30 \t Training loss: 0.6818713839668845 \t Validation loss: 0.6926058025683387 \t \n",
      "\n",
      "1 epoch without improvement\n",
      " 30%|███       | 17220/57400 [05:19<10:30, 63.69it/s]\n",
      "Epoch 31 \t Training loss: 0.6822548241773133 \t Validation loss: 0.6920865006366018 \t \n",
      "\n",
      "2 epoch without improvement\n",
      " 31%|███       | 17794/57400 [05:30<11:00, 60.00it/s]\n",
      "Epoch 32 \t Training loss: 0.6816225054995109 \t Validation loss: 0.6937620276111668 \t \n",
      "\n",
      "3 epoch without improvement\n",
      " 32%|███▏      | 18368/57400 [05:40<10:41, 60.82it/s]\n",
      "Epoch 33 \t Training loss: 0.6814790804211687 \t Validation loss: 0.6946803402092497 \t \n",
      "\n",
      "4 epoch without improvement\n",
      " 33%|███▎      | 18942/57400 [05:50<10:59, 58.29it/s]\n",
      "Epoch 34 \t Training loss: 0.6814308876775284 \t Validation loss: 0.6911769610340313 \t \n",
      " 34%|███▍      | 19516/57400 [06:00<10:16, 61.44it/s]\n",
      "Epoch 35 \t Training loss: 0.6807120024950247 \t Validation loss: 0.691741556434308 \t \n",
      "\n",
      "5 epoch without improvement\n",
      " 35%|███▌      | 20090/57400 [06:10<11:20, 54.85it/s]\n",
      "Epoch 36 \t Training loss: 0.6800560623095842 \t Validation loss: 0.6916103332729663 \t \n",
      "\n",
      "6 epoch without improvement\n",
      " 36%|███▌      | 20664/57400 [06:21<10:17, 59.54it/s]\n",
      "Epoch 37 \t Training loss: 0.6804939818922235 \t Validation loss: 0.6917908908957142 \t \n",
      "\n",
      "7 epoch without improvement\n",
      " 37%|███▋      | 21238/57400 [06:31<10:31, 57.26it/s]\n",
      "Epoch 38 \t Training loss: 0.6803259238964174 \t Validation loss: 0.694536781917184 \t \n",
      "\n",
      "8 epoch without improvement\n",
      " 38%|███▊      | 21812/57400 [06:41<09:44, 60.94it/s]\n",
      "Epoch 39 \t Training loss: 0.680028499522691 \t Validation loss: 0.6920009053359597 \t \n",
      "\n",
      "9 epoch without improvement\n",
      " 39%|███▉      | 22386/57400 [06:51<09:59, 58.43it/s]\n",
      "Epoch 40 \t Training loss: 0.6795928400360334 \t Validation loss: 0.6970242100246882 \t \n",
      "\n",
      "10 epoch without improvement\n",
      "Validation_loss hasn't improve in 10 epoch. Stopping training after 40 epochs...\n"
     ]
    },
    {
     "data": {
      "image/png": "[encoded data removed]",
      "text/plain": [
       "<Figure size 640x480 with 1 Axes>"
      ]
     },
     "metadata": {},
     "output_type": "display_data"
    }
   ],
   "source": [
    "learning_rate = 5e-5\n",
    "optimizer = AdamW(model.parameters(), lr=learning_rate)\n",
    "num_epochs = 100\n",
    "\n",
    "train.train_function(model,num_epochs,dl_train['as'],optimizer,early_stop=10,dl_val=dl_val['as'],save_path=save_path)"
   ]
  },
  {
   "cell_type": "code",
   "execution_count": null,
   "metadata": {},
   "outputs": [],
   "source": [
    "del model\n",
    "torch.cuda.empty_cache() "
   ]
  },
  {
   "cell_type": "code",
   "execution_count": 15,
   "metadata": {},
   "outputs": [
    {
     "name": "stdout",
     "output_type": "stream",
     "text": [
      "GLOBAL: 0.7168367346938775 \n",
      "\n",
      "Using scikit learn accuracy por género en el conjunto about\n",
      "MALE 0.5651041666666666\n",
      "FEMALE 0.8625 \n",
      "\n",
      "GLOBAL: 0.6603535353535354 \n",
      "\n",
      "Using scikit learn accuracy por género en el conjunto to\n",
      "MALE 0.559610705596107\n",
      "FEMALE 0.7690288713910761 \n",
      "\n",
      "GLOBAL: 0.6870925684485006 \n",
      "\n",
      "Using scikit learn accuracy por género en el conjunto as\n",
      "MALE 0.5050505050505051\n",
      "FEMALE 0.8814016172506739 \n",
      "\n"
     ]
    }
   ],
   "source": [
    "model = rrnn.SingleTaskRRNNDep(emb_dim,vocab,vocab_size,lstm_hidden_dim,emb_weights=word2vec_model.vectors).to(device)\n",
    "save_path='m1_rrnn_dep_as_adam_w2v'\n",
    "model.load_state_dict(torch.load(save_path))\n",
    "\n",
    "for task in ['about','to','as']:\n",
    "    print(f\"GLOBAL: {train.eval_function_single_sk(model,dl_eval[task])}\",'\\n')\n",
    "    print(f\"Using scikit learn accuracy por género en el conjunto {task}\")\n",
    "    print(f\"MALE {train.eval_function_single_sk(model,dl_eval[task],gender='male')}\")\n",
    "    print(f\"FEMALE {train.eval_function_single_sk(model,dl_eval[task],gender='female')}\",'\\n')"
   ]
  }
 ],
 "metadata": {
  "kernelspec": {
   "display_name": "tfg",
   "language": "python",
   "name": "python3"
  },
  "language_info": {
   "codemirror_mode": {
    "name": "ipython",
    "version": 3
   },
   "file_extension": ".py",
   "mimetype": "text/x-python",
   "name": "python",
   "nbconvert_exporter": "python",
   "pygments_lexer": "ipython3",
   "version": "3.9.13"
  },
  "orig_nbformat": 4
 },
 "nbformat": 4,
 "nbformat_minor": 2
}
