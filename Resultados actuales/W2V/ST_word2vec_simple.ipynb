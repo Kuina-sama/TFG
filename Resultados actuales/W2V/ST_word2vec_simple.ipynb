{
 "cells": [
  {
   "cell_type": "code",
   "execution_count": 1,
   "metadata": {},
   "outputs": [],
   "source": [
    "import numpy as np\n",
    "import torch\n",
    "\n",
    "\n",
    "import json\n",
    "from torch.utils.data import DataLoader\n",
    "from torch.optim import SGD, AdamW\n",
    "from torch import nn"
   ]
  },
  {
   "cell_type": "code",
   "execution_count": 2,
   "metadata": {},
   "outputs": [],
   "source": [
    "import utils_generic as generic\n",
    "import rrnn_st as rrnn\n",
    "import model_confs as confs\n",
    "\n",
    "\n",
    "import train\n",
    "\n",
    "from gensim.models import KeyedVectors"
   ]
  },
  {
   "cell_type": "code",
   "execution_count": 3,
   "metadata": {},
   "outputs": [],
   "source": [
    "device = torch.device(\"cuda\") if torch.cuda.is_available() else torch.device(\"cpu\")\n",
    "torch.manual_seed(27)\n",
    "word2vec_path = r\"C:\\Users\\FarinhOso\\gensim-data\\word2vec-google-news-300\\word2vec-google-news-300.gz\"\n",
    "word2vec_model =  KeyedVectors.load_word2vec_format(word2vec_path, binary=True)"
   ]
  },
  {
   "attachments": {},
   "cell_type": "markdown",
   "metadata": {},
   "source": [
    "# Datos ConvAI2"
   ]
  },
  {
   "cell_type": "code",
   "execution_count": 4,
   "metadata": {},
   "outputs": [],
   "source": [
    "with open('Datasets\\ConvAI2\\convai2_complete.json','r') as f:\n",
    "    data = json.load(f)"
   ]
  },
  {
   "cell_type": "code",
   "execution_count": 5,
   "metadata": {},
   "outputs": [],
   "source": [
    "convai_train = data['train']\n",
    "convai_val = data['validation']\n",
    "\n",
    "\n",
    "word_to_index = word2vec_model.key_to_index\n",
    "\n",
    "convai_train_token = generic.tokenize_dataset_rrnn(convai_train,['about','to','as'],word_to_index) \n",
    "convai_val_token = generic.tokenize_dataset_rrnn(convai_val,['about','to','as'],word_to_index) "
   ]
  },
  {
   "cell_type": "code",
   "execution_count": 6,
   "metadata": {},
   "outputs": [],
   "source": [
    "convai_train_dataset = {}\n",
    "for task in ['to','as','about']:\n",
    "    convai_train_dataset[task] = rrnn.DatasetSingleTaskSimple(convai_train_token,task,eval=False)"
   ]
  },
  {
   "cell_type": "code",
   "execution_count": 7,
   "metadata": {},
   "outputs": [],
   "source": [
    "convai_val_dataset = {}\n",
    "for task in ['to','as','about']:\n",
    "    convai_val_dataset[task] = rrnn.DatasetSingleTaskSimple(convai_val_token,task,eval=False)"
   ]
  },
  {
   "attachments": {},
   "cell_type": "markdown",
   "metadata": {},
   "source": [
    "# Datos md_gender"
   ]
  },
  {
   "cell_type": "code",
   "execution_count": 8,
   "metadata": {},
   "outputs": [],
   "source": [
    "with open('Datasets\\md_gender\\md_complete.json','r',encoding=\"utf8\") as f:\n",
    "    md_data = json.load(f)"
   ]
  },
  {
   "cell_type": "code",
   "execution_count": 9,
   "metadata": {},
   "outputs": [],
   "source": [
    "md_tokenized = generic.tokenize_dataset_rrnn(md_data,['about','to','as'],word_to_index) \n",
    "\n",
    "\n",
    "md_dataset = {}\n",
    "for task in ['to','as','about']:\n",
    "    md_dataset[task] = rrnn.DatasetSingleTaskSimple(md_tokenized,task,eval=True)"
   ]
  },
  {
   "attachments": {},
   "cell_type": "markdown",
   "metadata": {},
   "source": [
    "# Creación dataloaders"
   ]
  },
  {
   "cell_type": "code",
   "execution_count": 11,
   "metadata": {},
   "outputs": [],
   "source": [
    "dl_train = {}\n",
    "for task in ['to','as','about']:\n",
    "    dl_train[task] = DataLoader(convai_train_dataset[task],batch_size=128,shuffle=True,collate_fn=rrnn.collate_fn)"
   ]
  },
  {
   "cell_type": "code",
   "execution_count": 12,
   "metadata": {},
   "outputs": [],
   "source": [
    "dl_val = {}\n",
    "for task in ['to','as','about']:\n",
    "    dl_val[task] = DataLoader(convai_val_dataset[task],batch_size=128,shuffle=True,collate_fn=rrnn.collate_fn)"
   ]
  },
  {
   "cell_type": "code",
   "execution_count": 10,
   "metadata": {},
   "outputs": [],
   "source": [
    "dl_eval = {}\n",
    "for task in ['to','as','about']:\n",
    "    dl_eval[task] = DataLoader(md_dataset[task],batch_size=128,shuffle=False,collate_fn=rrnn.collate_fn)"
   ]
  },
  {
   "attachments": {},
   "cell_type": "markdown",
   "metadata": {},
   "source": [
    "# ABOUT"
   ]
  },
  {
   "cell_type": "code",
   "execution_count": 11,
   "metadata": {},
   "outputs": [],
   "source": [
    "emb_dim = 20\n",
    "vocab_size = len(word_to_index)\n",
    "num_labels = 2\n",
    "lstm_hidden_dim = 128"
   ]
  },
  {
   "cell_type": "code",
   "execution_count": 14,
   "metadata": {},
   "outputs": [],
   "source": [
    "model = rrnn.SingleTaskRRNN2(emb_dim,vocab_size,lstm_hidden_dim,emb_weights=word2vec_model.vectors).to(device)\n",
    "save_path='m1_rrnn_simple_about_w2v'"
   ]
  },
  {
   "cell_type": "code",
   "execution_count": 14,
   "metadata": {},
   "outputs": [],
   "source": [
    "save_path='m1_rrnn_simple_about_w2v'"
   ]
  },
  {
   "cell_type": "code",
   "execution_count": 15,
   "metadata": {},
   "outputs": [
    {
     "name": "stdout",
     "output_type": "stream",
     "text": [
      "GLOBAL: 0.4897959183673469 \n",
      "\n",
      "Using scikit learn accuracy por género en el conjunto about\n",
      "MALE 1.0\n",
      "FEMALE 0.0 \n",
      "\n",
      "GLOBAL: 0.5189393939393939 \n",
      "\n",
      "Using scikit learn accuracy por género en el conjunto to\n",
      "MALE 1.0\n",
      "FEMALE 0.0 \n",
      "\n",
      "GLOBAL: 0.516297262059974 \n",
      "\n",
      "Using scikit learn accuracy por género en el conjunto as\n",
      "MALE 1.0\n",
      "FEMALE 0.0 \n",
      "\n"
     ]
    }
   ],
   "source": [
    "for task in ['about','to','as']:\n",
    "    print(f\"GLOBAL: {train.eval_function_single_sk(model,dl_eval[task])}\",'\\n')\n",
    "    print(f\"Using scikit learn accuracy por género en el conjunto {task}\")\n",
    "    print(f\"MALE {train.eval_function_single_sk(model,dl_eval[task],gender='male')}\")\n",
    "    print(f\"FEMALE {train.eval_function_single_sk(model,dl_eval[task],gender='female')}\",'\\n')"
   ]
  },
  {
   "cell_type": "code",
   "execution_count": 16,
   "metadata": {},
   "outputs": [
    {
     "data": {
      "application/vnd.jupyter.widget-view+json": {
       "model_id": "ddd5beff103b4dc680aa60ca43d9a852",
       "version_major": 2,
       "version_minor": 0
      },
      "text/plain": [
       "  0%|          | 0/57400 [00:00<?, ?it/s]"
      ]
     },
     "metadata": {},
     "output_type": "display_data"
    },
    {
     "name": "stdout",
     "output_type": "stream",
     "text": [
      "Epoch 1 \t Training loss: 0.6874145240318484 \t Validation loss: 0.6875186067516521 \t \n",
      "  1%|          | 574/57400 [00:18<04:44, 199.82it/s]\n",
      "Epoch 2 \t Training loss: 0.6859604933328329 \t Validation loss: 0.6865520830881797 \t \n",
      "  2%|▏         | 1148/57400 [00:27<04:25, 211.55it/s]\n",
      "Epoch 3 \t Training loss: 0.6848523422608392 \t Validation loss: 0.6857641460531849 \t \n",
      "  3%|▎         | 1722/57400 [00:37<04:16, 216.67it/s]\n",
      "Epoch 4 \t Training loss: 0.6840164444380106 \t Validation loss: 0.6852397837881314 \t \n",
      "  4%|▍         | 2296/57400 [00:47<04:16, 214.71it/s]\n",
      "Epoch 5 \t Training loss: 0.6833820653501703 \t Validation loss: 0.6847785377906541 \t \n",
      "  5%|▌         | 2870/57400 [00:56<04:25, 205.15it/s]\n",
      "Epoch 6 \t Training loss: 0.6828686631307369 \t Validation loss: 0.6844646809464794 \t \n",
      "  6%|▌         | 3444/57400 [01:06<04:20, 207.42it/s]\n",
      "Epoch 7 \t Training loss: 0.6824733263939515 \t Validation loss: 0.6842386399285268 \t \n",
      "  7%|▋         | 4018/57400 [01:15<04:17, 207.17it/s]\n",
      "Epoch 8 \t Training loss: 0.6821460909752065 \t Validation loss: 0.6840560072559422 \t \n",
      "  8%|▊         | 4592/57400 [01:24<04:18, 203.99it/s]\n",
      "Epoch 9 \t Training loss: 0.6819237153912255 \t Validation loss: 0.6838252019074004 \t \n",
      "  9%|▉         | 5166/57400 [01:33<04:06, 212.32it/s]\n",
      "Epoch 10 \t Training loss: 0.6817318835532624 \t Validation loss: 0.6837857022123822 \t \n",
      " 10%|█         | 5740/57400 [01:42<04:05, 210.07it/s]\n",
      "Epoch 11 \t Training loss: 0.6815911256270126 \t Validation loss: 0.6837526135525461 \t \n",
      " 11%|█         | 6314/57400 [01:50<04:01, 211.41it/s]\n",
      "Epoch 12 \t Training loss: 0.6814705354619109 \t Validation loss: 0.6837773878695601 \t \n",
      " 12%|█▏        | 6888/57400 [01:53<03:57, 213.09it/s]\n",
      "Epoch 13 \t Training loss: 0.6814075024078117 \t Validation loss: 0.68378524456994 \t \n",
      " 13%|█▎        | 7462/57400 [01:56<04:02, 205.62it/s]\n",
      "Epoch 14 \t Training loss: 0.6812833812386316 \t Validation loss: 0.6837707444772883 \t \n",
      " 14%|█▍        | 8036/57400 [01:59<03:57, 207.90it/s]\n",
      "Epoch 15 \t Training loss: 0.68125830720526 \t Validation loss: 0.6834954447665457 \t \n",
      " 15%|█▌        | 8610/57400 [02:07<03:51, 210.67it/s]\n",
      "Epoch 16 \t Training loss: 0.6812212806753165 \t Validation loss: 0.6838335859573493 \t \n",
      " 16%|█▌        | 9184/57400 [02:10<03:44, 214.80it/s]\n",
      "Epoch 17 \t Training loss: 0.681162507795706 \t Validation loss: 0.6837678117267156 \t \n",
      " 17%|█▋        | 9758/57400 [02:13<03:50, 206.88it/s]\n",
      "Epoch 18 \t Training loss: 0.681115763839529 \t Validation loss: 0.6837382649971266 \t \n",
      " 18%|█▊        | 10332/57400 [02:16<03:47, 206.99it/s]\n",
      "Epoch 19 \t Training loss: 0.6810887962683568 \t Validation loss: 0.6838143195136118 \t \n",
      " 19%|█▉        | 10906/57400 [02:19<03:43, 207.65it/s]\n",
      "Epoch 20 \t Training loss: 0.681089917126433 \t Validation loss: 0.68379484596899 \t \n",
      " 20%|██        | 11480/57400 [02:22<03:37, 210.85it/s]\n",
      "Epoch 21 \t Training loss: 0.6810342763982168 \t Validation loss: 0.6837763695393578 \t \n",
      " 21%|██        | 12054/57400 [02:25<03:40, 205.39it/s]\n",
      "Epoch 22 \t Training loss: 0.6810690787611108 \t Validation loss: 0.6835160336251986 \t \n",
      " 22%|██▏       | 12628/57400 [02:28<03:30, 212.45it/s]\n",
      "Epoch 23 \t Training loss: 0.681061219878313 \t Validation loss: 0.6838334273483794 \t \n",
      " 23%|██▎       | 13202/57400 [02:31<03:31, 209.19it/s]\n",
      "Epoch 24 \t Training loss: 0.6809998879449293 \t Validation loss: 0.6836164068367522 \t \n",
      " 24%|██▍       | 13776/57400 [02:34<03:24, 213.53it/s]\n",
      "Epoch 25 \t Training loss: 0.6810490541964873 \t Validation loss: 0.6837206341452517 \t \n",
      " 25%|██▌       | 14350/57400 [02:37<03:31, 203.34it/s]\n",
      "Epoch 26 \t Training loss: 0.6810285007704425 \t Validation loss: 0.6837516770524493 \t \n",
      " 26%|██▌       | 14924/57400 [02:40<03:29, 203.12it/s]\n",
      "Epoch 27 \t Training loss: 0.6810275055597883 \t Validation loss: 0.6835778800107665 \t \n",
      " 27%|██▋       | 15498/57400 [02:43<03:20, 209.50it/s]\n",
      "Epoch 28 \t Training loss: 0.6810335479546923 \t Validation loss: 0.6839388002783565 \t \n",
      " 28%|██▊       | 16072/57400 [02:46<03:15, 211.32it/s]\n",
      "Epoch 29 \t Training loss: 0.6809985809002188 \t Validation loss: 0.6838375340073796 \t \n",
      " 29%|██▉       | 16646/57400 [02:49<03:12, 212.22it/s]\n",
      "Epoch 30 \t Training loss: 0.6809816821526983 \t Validation loss: 0.6837192006030325 \t \n",
      " 30%|███       | 17220/57400 [02:52<03:16, 204.78it/s]\n",
      "Epoch 31 \t Training loss: 0.6809920936511369 \t Validation loss: 0.683840190960189 \t \n",
      " 31%|███       | 17794/57400 [02:55<03:12, 205.75it/s]\n",
      "Epoch 32 \t Training loss: 0.6810047649340347 \t Validation loss: 0.6836038848101083 \t \n",
      " 32%|███▏      | 18368/57400 [02:58<03:06, 209.11it/s]\n",
      "Epoch 33 \t Training loss: 0.6810094685089297 \t Validation loss: 0.6836201174784515 \t \n",
      " 33%|███▎      | 18942/57400 [03:01<03:05, 207.47it/s]\n",
      "Epoch 34 \t Training loss: 0.680992251177698 \t Validation loss: 0.683594925928924 \t \n",
      " 34%|███▍      | 19516/57400 [03:04<03:01, 209.12it/s]\n",
      "Epoch 35 \t Training loss: 0.6809539036883709 \t Validation loss: 0.6837720487077358 \t \n",
      " 35%|███▌      | 20090/57400 [03:07<03:09, 197.02it/s]\n",
      "Epoch 36 \t Training loss: 0.6809498740405571 \t Validation loss: 0.6838002336227288 \t \n",
      " 36%|███▌      | 20664/57400 [03:10<02:57, 207.33it/s]\n",
      "Epoch 37 \t Training loss: 0.6809507255354825 \t Validation loss: 0.6838742140996255 \t \n",
      " 37%|███▋      | 21238/57400 [03:13<02:59, 201.92it/s]\n",
      "Epoch 38 \t Training loss: 0.6809830033197636 \t Validation loss: 0.6836183616670511 \t \n",
      " 38%|███▊      | 21812/57400 [03:16<02:49, 210.27it/s]\n",
      "Epoch 39 \t Training loss: 0.6809264744408039 \t Validation loss: 0.6835740582417633 \t \n",
      " 39%|███▉      | 22386/57400 [03:19<02:49, 206.82it/s]\n",
      "Epoch 40 \t Training loss: 0.6809667686344439 \t Validation loss: 0.6836470820135989 \t \n",
      " 40%|████      | 22960/57400 [03:22<02:43, 210.24it/s]\n",
      "Epoch 41 \t Training loss: 0.6809711791704756 \t Validation loss: 0.683568658465046 \t \n",
      " 41%|████      | 23534/57400 [03:24<02:40, 211.08it/s]\n",
      "Epoch 42 \t Training loss: 0.68096894565775 \t Validation loss: 0.683747280452211 \t \n",
      " 42%|████▏     | 24108/57400 [03:27<02:39, 208.99it/s]\n",
      "Epoch 43 \t Training loss: 0.6808863928093728 \t Validation loss: 0.6837662983748872 \t \n",
      " 43%|████▎     | 24682/57400 [03:30<02:40, 203.75it/s]\n",
      "Epoch 44 \t Training loss: 0.6809018690411638 \t Validation loss: 0.6838442299325588 \t \n",
      " 44%|████▍     | 25256/57400 [03:33<02:39, 202.08it/s]\n",
      "Epoch 45 \t Training loss: 0.68092458048764 \t Validation loss: 0.6837746723223541 \t \n",
      " 45%|████▌     | 25830/57400 [03:36<02:35, 203.08it/s]\n",
      "Epoch 46 \t Training loss: 0.6809344380990138 \t Validation loss: 0.6838153166286016 \t \n",
      " 46%|████▌     | 26404/57400 [03:39<02:31, 204.12it/s]\n",
      "Epoch 47 \t Training loss: 0.6809494237866551 \t Validation loss: 0.6838439834319939 \t \n",
      " 47%|████▋     | 26978/57400 [03:42<02:26, 207.02it/s]\n",
      "Epoch 48 \t Training loss: 0.6809255075787003 \t Validation loss: 0.6837430970143463 \t \n",
      " 48%|████▊     | 27552/57400 [03:45<02:25, 204.71it/s]\n",
      "Epoch 49 \t Training loss: 0.6808988552683322 \t Validation loss: 0.6836130770586305 \t \n",
      " 49%|████▉     | 28126/57400 [03:48<02:20, 207.68it/s]\n",
      "Epoch 50 \t Training loss: 0.6809099173296619 \t Validation loss: 0.6836954819954048 \t \n",
      " 50%|█████     | 28700/57400 [03:51<02:22, 200.92it/s]\n",
      "Epoch 51 \t Training loss: 0.6809246391577173 \t Validation loss: 0.6837157293901606 \t \n",
      " 51%|█████     | 29274/57400 [03:54<02:16, 206.43it/s]\n",
      "Epoch 52 \t Training loss: 0.6809370685952881 \t Validation loss: 0.683917373923932 \t \n",
      " 52%|█████▏    | 29848/57400 [03:57<02:12, 208.52it/s]\n",
      "Epoch 53 \t Training loss: 0.6809005964716137 \t Validation loss: 0.6838784460294045 \t \n",
      " 53%|█████▎    | 30422/57400 [04:00<02:12, 203.96it/s]\n",
      "Epoch 54 \t Training loss: 0.6809151013761447 \t Validation loss: 0.683744056750152 \t \n",
      " 54%|█████▍    | 30996/57400 [04:03<02:05, 210.96it/s]\n",
      "Epoch 55 \t Training loss: 0.6809350235536954 \t Validation loss: 0.6839383921380771 \t \n",
      " 55%|█████▌    | 31570/57400 [04:06<02:02, 210.79it/s]\n",
      "Epoch 56 \t Training loss: 0.6809147355448494 \t Validation loss: 0.6836082622156305 \t \n",
      " 56%|█████▌    | 32144/57400 [04:09<01:59, 210.52it/s]\n",
      "Epoch 57 \t Training loss: 0.680914276879839 \t Validation loss: 0.6837909858105546 \t \n",
      " 57%|█████▋    | 32718/57400 [04:12<02:01, 203.80it/s]\n",
      "Epoch 58 \t Training loss: 0.6808948967514968 \t Validation loss: 0.6837340896412477 \t \n",
      " 58%|█████▊    | 33292/57400 [04:15<02:00, 200.41it/s]\n",
      "Epoch 59 \t Training loss: 0.6808959549935437 \t Validation loss: 0.6836042818376573 \t \n",
      " 59%|█████▉    | 33866/57400 [04:18<01:55, 203.51it/s]\n",
      "Epoch 60 \t Training loss: 0.6808955172005431 \t Validation loss: 0.6837327571238502 \t \n",
      " 60%|██████    | 34440/57400 [04:21<01:50, 207.54it/s]\n",
      "Epoch 61 \t Training loss: 0.6808761267919574 \t Validation loss: 0.6839947215581345 \t \n",
      " 61%|██████    | 35014/57400 [04:24<01:47, 208.33it/s]\n",
      "Epoch 62 \t Training loss: 0.680887594455626 \t Validation loss: 0.6837561857902398 \t \n",
      " 62%|██████▏   | 35588/57400 [04:27<01:46, 204.95it/s]\n",
      "Epoch 63 \t Training loss: 0.6808794481413705 \t Validation loss: 0.6836980369131443 \t \n",
      " 63%|██████▎   | 36162/57400 [04:30<01:41, 210.09it/s]\n",
      "Epoch 64 \t Training loss: 0.6808726543541154 \t Validation loss: 0.6838020924794472 \t \n",
      " 64%|██████▍   | 36736/57400 [04:33<01:40, 204.89it/s]\n",
      "Epoch 65 \t Training loss: 0.6809096602197308 \t Validation loss: 0.6837502717971802 \t \n",
      " 65%|██████▌   | 37310/57400 [04:36<01:39, 202.15it/s]\n",
      "Epoch 66 \t Training loss: 0.6808601614697884 \t Validation loss: 0.6837535934933161 \t \n",
      " 66%|██████▌   | 37884/57400 [04:39<01:36, 202.28it/s]\n",
      "Epoch 67 \t Training loss: 0.6808590063442337 \t Validation loss: 0.6840363185284501 \t \n",
      " 67%|██████▋   | 38458/57400 [04:42<01:31, 206.31it/s]\n",
      "Epoch 68 \t Training loss: 0.6809003184896728 \t Validation loss: 0.6840571407544411 \t \n",
      " 68%|██████▊   | 39032/57400 [04:45<01:30, 203.44it/s]\n",
      "Epoch 69 \t Training loss: 0.6809162189113138 \t Validation loss: 0.6838004811335419 \t \n",
      " 69%|██████▉   | 39606/57400 [04:48<01:24, 209.63it/s]\n",
      "Epoch 70 \t Training loss: 0.6809142559039884 \t Validation loss: 0.6838806453397719 \t \n",
      " 70%|███████   | 40180/57400 [04:51<01:24, 203.90it/s]\n",
      "Epoch 71 \t Training loss: 0.6809030371468242 \t Validation loss: 0.6838662462719416 \t \n",
      " 71%|███████   | 40754/57400 [04:54<01:19, 209.49it/s]\n",
      "Epoch 72 \t Training loss: 0.680893016816847 \t Validation loss: 0.683684789528281 \t \n",
      " 72%|███████▏  | 41328/57400 [04:57<01:16, 209.67it/s]\n",
      "Epoch 73 \t Training loss: 0.6809020121338476 \t Validation loss: 0.6836591706437579 \t \n",
      " 73%|███████▎  | 41902/57400 [05:00<01:15, 206.14it/s]\n",
      "Epoch 74 \t Training loss: 0.6808549769041015 \t Validation loss: 0.6837064441988023 \t \n",
      " 74%|███████▍  | 42476/57400 [05:03<01:14, 200.55it/s]\n",
      "Epoch 75 \t Training loss: 0.6808667543250094 \t Validation loss: 0.6836355985221216 \t \n",
      " 75%|███████▌  | 43050/57400 [05:06<01:11, 202.01it/s]\n",
      "Epoch 76 \t Training loss: 0.6808779950964327 \t Validation loss: 0.6836845076690286 \t \n",
      " 76%|███████▌  | 43624/57400 [05:09<01:07, 202.81it/s]\n",
      "Epoch 77 \t Training loss: 0.6808765370671342 \t Validation loss: 0.6837463712288161 \t \n",
      " 77%|███████▋  | 44198/57400 [05:12<01:04, 205.98it/s]\n",
      "Epoch 78 \t Training loss: 0.6808755247227406 \t Validation loss: 0.6838464666221101 \t \n",
      " 78%|███████▊  | 44772/57400 [05:15<01:00, 208.02it/s]\n",
      "Epoch 79 \t Training loss: 0.6808904630589568 \t Validation loss: 0.6835649730795521 \t \n",
      " 79%|███████▉  | 45346/57400 [05:18<00:59, 203.73it/s]\n",
      "Epoch 80 \t Training loss: 0.6808551427379302 \t Validation loss: 0.6836371522838787 \t \n",
      " 80%|████████  | 45920/57400 [05:21<00:56, 201.78it/s]\n",
      "Epoch 81 \t Training loss: 0.6809003630373951 \t Validation loss: 0.6837861053014206 \t \n",
      " 81%|████████  | 46494/57400 [05:24<00:53, 202.14it/s]\n",
      "Epoch 82 \t Training loss: 0.6808988616026237 \t Validation loss: 0.683689347768234 \t \n",
      " 82%|████████▏ | 47068/57400 [05:27<00:51, 201.41it/s]\n",
      "Epoch 83 \t Training loss: 0.6808818607795529 \t Validation loss: 0.6837322156308061 \t \n",
      " 83%|████████▎ | 47642/57400 [05:30<00:48, 202.31it/s]\n",
      "Epoch 84 \t Training loss: 0.6808937420413054 \t Validation loss: 0.6836302825960062 \t \n",
      " 84%|████████▍ | 48216/57400 [05:33<00:43, 209.94it/s]\n",
      "Epoch 85 \t Training loss: 0.6808732129140183 \t Validation loss: 0.6836120617591729 \t \n",
      " 85%|████████▌ | 48790/57400 [05:36<00:41, 205.20it/s]\n",
      "Epoch 86 \t Training loss: 0.6808483863333792 \t Validation loss: 0.683790996923285 \t \n",
      " 86%|████████▌ | 49364/57400 [05:39<00:40, 198.34it/s]\n",
      "Epoch 87 \t Training loss: 0.6808429328199047 \t Validation loss: 0.6838383422059527 \t \n",
      " 87%|████████▋ | 49938/57400 [05:42<00:37, 199.29it/s]\n",
      "Epoch 88 \t Training loss: 0.68084922744422 \t Validation loss: 0.6837332723504406 \t \n",
      " 88%|████████▊ | 50512/57400 [05:45<00:33, 205.60it/s]\n",
      "Epoch 89 \t Training loss: 0.6808599789175838 \t Validation loss: 0.6836428288686074 \t \n",
      " 89%|████████▉ | 51086/57400 [05:48<00:30, 206.60it/s]\n",
      "Epoch 90 \t Training loss: 0.6808425474665306 \t Validation loss: 0.6836338619054374 \t \n",
      " 90%|█████████ | 51660/57400 [05:51<00:27, 205.07it/s]\n",
      "Epoch 91 \t Training loss: 0.6808423562955358 \t Validation loss: 0.6837348291429423 \t \n",
      " 91%|█████████ | 52234/57400 [05:54<00:25, 200.94it/s]\n",
      "Epoch 92 \t Training loss: 0.6808766853518602 \t Validation loss: 0.6834288744603173 \t \n",
      " 92%|█████████▏| 52808/57400 [06:02<00:23, 198.89it/s]\n",
      "Epoch 93 \t Training loss: 0.6808659025185615 \t Validation loss: 0.6836507229481713 \t \n",
      " 93%|█████████▎| 53382/57400 [06:05<00:19, 201.33it/s]\n",
      "Epoch 94 \t Training loss: 0.6808328655538659 \t Validation loss: 0.6837554048683684 \t \n",
      " 94%|█████████▍| 53956/57400 [06:08<00:17, 198.46it/s]\n",
      "Epoch 95 \t Training loss: 0.6808693914670978 \t Validation loss: 0.6837035528684067 \t \n",
      " 95%|█████████▌| 54530/57400 [06:11<00:14, 204.58it/s]\n",
      "Epoch 96 \t Training loss: 0.6808303708814163 \t Validation loss: 0.683734986741664 \t \n",
      " 96%|█████████▌| 55104/57400 [06:14<00:11, 203.16it/s]\n",
      "Epoch 97 \t Training loss: 0.6808920163103097 \t Validation loss: 0.683473270828441 \t \n",
      " 97%|█████████▋| 55678/57400 [06:17<00:08, 208.95it/s]\n",
      "Epoch 98 \t Training loss: 0.6808515560751592 \t Validation loss: 0.6837551391730874 \t \n",
      " 98%|█████████▊| 56252/57400 [06:20<00:05, 207.58it/s]\n",
      "Epoch 99 \t Training loss: 0.6808702832522708 \t Validation loss: 0.6837984626576051 \t \n",
      " 99%|█████████▉| 56826/57400 [06:23<00:02, 199.90it/s]\n",
      "Epoch 100 \t Training loss: 0.6808644459430349 \t Validation loss: 0.683627654940395 \t \n",
      "100%|██████████| 57400/57400 [06:26<00:00, 198.78it/s]\n"
     ]
    },
    {
     "data": {
      "image/png": "[encoded data removed]",
      "text/plain": [
       "<Figure size 640x480 with 1 Axes>"
      ]
     },
     "metadata": {},
     "output_type": "display_data"
    }
   ],
   "source": [
    "learning_rate = 5e-5\n",
    "optimizer = SGD(model.parameters(), lr=learning_rate, momentum=0.9)\n",
    "num_epochs = 100\n",
    "\n",
    "train.train_function(model,num_epochs,dl_train['about'],optimizer,early_stop=10,dl_val=dl_val['about'],save_path=save_path)"
   ]
  },
  {
   "cell_type": "code",
   "execution_count": 15,
   "metadata": {},
   "outputs": [
    {
     "name": "stdout",
     "output_type": "stream",
     "text": [
      "GLOBAL: 0.4897959183673469 \n",
      "\n",
      "Using scikit learn accuracy por género en el conjunto about\n",
      "MALE 1.0\n",
      "FEMALE 0.0 \n",
      "\n",
      "GLOBAL: 0.5189393939393939 \n",
      "\n",
      "Using scikit learn accuracy por género en el conjunto to\n",
      "MALE 1.0\n",
      "FEMALE 0.0 \n",
      "\n",
      "GLOBAL: 0.516297262059974 \n",
      "\n",
      "Using scikit learn accuracy por género en el conjunto as\n",
      "MALE 1.0\n",
      "FEMALE 0.0 \n",
      "\n"
     ]
    }
   ],
   "source": [
    "model = rrnn.SingleTaskRRNN2(emb_dim,vocab_size,lstm_hidden_dim,emb_weights=word2vec_model.vectors).to(device)\n",
    "model.load_state_dict(torch.load(save_path))\n",
    "\n",
    "for task in ['about','to','as']:\n",
    "    print(f\"GLOBAL: {train.eval_function_single_sk(model,dl_eval[task])}\",'\\n')\n",
    "    print(f\"Using scikit learn accuracy por género en el conjunto {task}\")\n",
    "    print(f\"MALE {train.eval_function_single_sk(model,dl_eval[task],gender='male')}\")\n",
    "    print(f\"FEMALE {train.eval_function_single_sk(model,dl_eval[task],gender='female')}\",'\\n')"
   ]
  },
  {
   "attachments": {},
   "cell_type": "markdown",
   "metadata": {},
   "source": [
    "# TO"
   ]
  },
  {
   "cell_type": "code",
   "execution_count": 15,
   "metadata": {},
   "outputs": [],
   "source": [
    "emb_dim = 20\n",
    "vocab_size = len(word_to_index)\n",
    "num_labels = 2\n",
    "lstm_hidden_dim = 128"
   ]
  },
  {
   "cell_type": "code",
   "execution_count": 15,
   "metadata": {},
   "outputs": [
    {
     "ename": "RuntimeError",
     "evalue": "CUDA out of memory. Tried to allocate 3.35 GiB (GPU 0; 6.00 GiB total capacity; 3.36 GiB already allocated; 1014.00 MiB free; 3.38 GiB reserved in total by PyTorch) If reserved memory is >> allocated memory try setting max_split_size_mb to avoid fragmentation.  See documentation for Memory Management and PYTORCH_CUDA_ALLOC_CONF",
     "output_type": "error",
     "traceback": [
      "\u001b[1;31m---------------------------------------------------------------------------\u001b[0m",
      "\u001b[1;31mRuntimeError\u001b[0m                              Traceback (most recent call last)",
      "\u001b[1;32m~\\AppData\\Local\\Temp\\ipykernel_9160\\957094362.py\u001b[0m in \u001b[0;36m<module>\u001b[1;34m\u001b[0m\n\u001b[1;32m----> 1\u001b[1;33m \u001b[0mmodel\u001b[0m \u001b[1;33m=\u001b[0m \u001b[0mrrnn\u001b[0m\u001b[1;33m.\u001b[0m\u001b[0mSingleTaskRRNN2\u001b[0m\u001b[1;33m(\u001b[0m\u001b[0memb_dim\u001b[0m\u001b[1;33m,\u001b[0m\u001b[0mvocab_size\u001b[0m\u001b[1;33m,\u001b[0m\u001b[0mlstm_hidden_dim\u001b[0m\u001b[1;33m,\u001b[0m\u001b[0memb_weights\u001b[0m\u001b[1;33m=\u001b[0m\u001b[0mword2vec_model\u001b[0m\u001b[1;33m.\u001b[0m\u001b[0mvectors\u001b[0m\u001b[1;33m)\u001b[0m\u001b[1;33m.\u001b[0m\u001b[0mto\u001b[0m\u001b[1;33m(\u001b[0m\u001b[0mdevice\u001b[0m\u001b[1;33m)\u001b[0m\u001b[1;33m\u001b[0m\u001b[1;33m\u001b[0m\u001b[0m\n\u001b[0m\u001b[0;32m      2\u001b[0m \u001b[0msave_path\u001b[0m\u001b[1;33m=\u001b[0m\u001b[1;34m'm1_rrnn_simple_to_w2v'\u001b[0m\u001b[1;33m\u001b[0m\u001b[1;33m\u001b[0m\u001b[0m\n",
      "\u001b[1;32mc:\\Users\\kuina\\anaconda3\\envs\\tfg\\lib\\site-packages\\torch\\nn\\modules\\module.py\u001b[0m in \u001b[0;36mto\u001b[1;34m(self, *args, **kwargs)\u001b[0m\n\u001b[0;32m    925\u001b[0m             \u001b[1;32mreturn\u001b[0m \u001b[0mt\u001b[0m\u001b[1;33m.\u001b[0m\u001b[0mto\u001b[0m\u001b[1;33m(\u001b[0m\u001b[0mdevice\u001b[0m\u001b[1;33m,\u001b[0m \u001b[0mdtype\u001b[0m \u001b[1;32mif\u001b[0m \u001b[0mt\u001b[0m\u001b[1;33m.\u001b[0m\u001b[0mis_floating_point\u001b[0m\u001b[1;33m(\u001b[0m\u001b[1;33m)\u001b[0m \u001b[1;32mor\u001b[0m \u001b[0mt\u001b[0m\u001b[1;33m.\u001b[0m\u001b[0mis_complex\u001b[0m\u001b[1;33m(\u001b[0m\u001b[1;33m)\u001b[0m \u001b[1;32melse\u001b[0m \u001b[1;32mNone\u001b[0m\u001b[1;33m,\u001b[0m \u001b[0mnon_blocking\u001b[0m\u001b[1;33m)\u001b[0m\u001b[1;33m\u001b[0m\u001b[1;33m\u001b[0m\u001b[0m\n\u001b[0;32m    926\u001b[0m \u001b[1;33m\u001b[0m\u001b[0m\n\u001b[1;32m--> 927\u001b[1;33m         \u001b[1;32mreturn\u001b[0m \u001b[0mself\u001b[0m\u001b[1;33m.\u001b[0m\u001b[0m_apply\u001b[0m\u001b[1;33m(\u001b[0m\u001b[0mconvert\u001b[0m\u001b[1;33m)\u001b[0m\u001b[1;33m\u001b[0m\u001b[1;33m\u001b[0m\u001b[0m\n\u001b[0m\u001b[0;32m    928\u001b[0m \u001b[1;33m\u001b[0m\u001b[0m\n\u001b[0;32m    929\u001b[0m     def register_backward_hook(\n",
      "\u001b[1;32mc:\\Users\\kuina\\anaconda3\\envs\\tfg\\lib\\site-packages\\torch\\nn\\modules\\module.py\u001b[0m in \u001b[0;36m_apply\u001b[1;34m(self, fn)\u001b[0m\n\u001b[0;32m    577\u001b[0m     \u001b[1;32mdef\u001b[0m \u001b[0m_apply\u001b[0m\u001b[1;33m(\u001b[0m\u001b[0mself\u001b[0m\u001b[1;33m,\u001b[0m \u001b[0mfn\u001b[0m\u001b[1;33m)\u001b[0m\u001b[1;33m:\u001b[0m\u001b[1;33m\u001b[0m\u001b[1;33m\u001b[0m\u001b[0m\n\u001b[0;32m    578\u001b[0m         \u001b[1;32mfor\u001b[0m \u001b[0mmodule\u001b[0m \u001b[1;32min\u001b[0m \u001b[0mself\u001b[0m\u001b[1;33m.\u001b[0m\u001b[0mchildren\u001b[0m\u001b[1;33m(\u001b[0m\u001b[1;33m)\u001b[0m\u001b[1;33m:\u001b[0m\u001b[1;33m\u001b[0m\u001b[1;33m\u001b[0m\u001b[0m\n\u001b[1;32m--> 579\u001b[1;33m             \u001b[0mmodule\u001b[0m\u001b[1;33m.\u001b[0m\u001b[0m_apply\u001b[0m\u001b[1;33m(\u001b[0m\u001b[0mfn\u001b[0m\u001b[1;33m)\u001b[0m\u001b[1;33m\u001b[0m\u001b[1;33m\u001b[0m\u001b[0m\n\u001b[0m\u001b[0;32m    580\u001b[0m \u001b[1;33m\u001b[0m\u001b[0m\n\u001b[0;32m    581\u001b[0m         \u001b[1;32mdef\u001b[0m \u001b[0mcompute_should_use_set_data\u001b[0m\u001b[1;33m(\u001b[0m\u001b[0mtensor\u001b[0m\u001b[1;33m,\u001b[0m \u001b[0mtensor_applied\u001b[0m\u001b[1;33m)\u001b[0m\u001b[1;33m:\u001b[0m\u001b[1;33m\u001b[0m\u001b[1;33m\u001b[0m\u001b[0m\n",
      "\u001b[1;32mc:\\Users\\kuina\\anaconda3\\envs\\tfg\\lib\\site-packages\\torch\\nn\\modules\\module.py\u001b[0m in \u001b[0;36m_apply\u001b[1;34m(self, fn)\u001b[0m\n\u001b[0;32m    600\u001b[0m             \u001b[1;31m# `with torch.no_grad():`\u001b[0m\u001b[1;33m\u001b[0m\u001b[1;33m\u001b[0m\u001b[0m\n\u001b[0;32m    601\u001b[0m             \u001b[1;32mwith\u001b[0m \u001b[0mtorch\u001b[0m\u001b[1;33m.\u001b[0m\u001b[0mno_grad\u001b[0m\u001b[1;33m(\u001b[0m\u001b[1;33m)\u001b[0m\u001b[1;33m:\u001b[0m\u001b[1;33m\u001b[0m\u001b[1;33m\u001b[0m\u001b[0m\n\u001b[1;32m--> 602\u001b[1;33m                 \u001b[0mparam_applied\u001b[0m \u001b[1;33m=\u001b[0m \u001b[0mfn\u001b[0m\u001b[1;33m(\u001b[0m\u001b[0mparam\u001b[0m\u001b[1;33m)\u001b[0m\u001b[1;33m\u001b[0m\u001b[1;33m\u001b[0m\u001b[0m\n\u001b[0m\u001b[0;32m    603\u001b[0m             \u001b[0mshould_use_set_data\u001b[0m \u001b[1;33m=\u001b[0m \u001b[0mcompute_should_use_set_data\u001b[0m\u001b[1;33m(\u001b[0m\u001b[0mparam\u001b[0m\u001b[1;33m,\u001b[0m \u001b[0mparam_applied\u001b[0m\u001b[1;33m)\u001b[0m\u001b[1;33m\u001b[0m\u001b[1;33m\u001b[0m\u001b[0m\n\u001b[0;32m    604\u001b[0m             \u001b[1;32mif\u001b[0m \u001b[0mshould_use_set_data\u001b[0m\u001b[1;33m:\u001b[0m\u001b[1;33m\u001b[0m\u001b[1;33m\u001b[0m\u001b[0m\n",
      "\u001b[1;32mc:\\Users\\kuina\\anaconda3\\envs\\tfg\\lib\\site-packages\\torch\\nn\\modules\\module.py\u001b[0m in \u001b[0;36mconvert\u001b[1;34m(t)\u001b[0m\n\u001b[0;32m    923\u001b[0m                 return t.to(device, dtype if t.is_floating_point() or t.is_complex() else None,\n\u001b[0;32m    924\u001b[0m                             non_blocking, memory_format=convert_to_format)\n\u001b[1;32m--> 925\u001b[1;33m             \u001b[1;32mreturn\u001b[0m \u001b[0mt\u001b[0m\u001b[1;33m.\u001b[0m\u001b[0mto\u001b[0m\u001b[1;33m(\u001b[0m\u001b[0mdevice\u001b[0m\u001b[1;33m,\u001b[0m \u001b[0mdtype\u001b[0m \u001b[1;32mif\u001b[0m \u001b[0mt\u001b[0m\u001b[1;33m.\u001b[0m\u001b[0mis_floating_point\u001b[0m\u001b[1;33m(\u001b[0m\u001b[1;33m)\u001b[0m \u001b[1;32mor\u001b[0m \u001b[0mt\u001b[0m\u001b[1;33m.\u001b[0m\u001b[0mis_complex\u001b[0m\u001b[1;33m(\u001b[0m\u001b[1;33m)\u001b[0m \u001b[1;32melse\u001b[0m \u001b[1;32mNone\u001b[0m\u001b[1;33m,\u001b[0m \u001b[0mnon_blocking\u001b[0m\u001b[1;33m)\u001b[0m\u001b[1;33m\u001b[0m\u001b[1;33m\u001b[0m\u001b[0m\n\u001b[0m\u001b[0;32m    926\u001b[0m \u001b[1;33m\u001b[0m\u001b[0m\n\u001b[0;32m    927\u001b[0m         \u001b[1;32mreturn\u001b[0m \u001b[0mself\u001b[0m\u001b[1;33m.\u001b[0m\u001b[0m_apply\u001b[0m\u001b[1;33m(\u001b[0m\u001b[0mconvert\u001b[0m\u001b[1;33m)\u001b[0m\u001b[1;33m\u001b[0m\u001b[1;33m\u001b[0m\u001b[0m\n",
      "\u001b[1;31mRuntimeError\u001b[0m: CUDA out of memory. Tried to allocate 3.35 GiB (GPU 0; 6.00 GiB total capacity; 3.36 GiB already allocated; 1014.00 MiB free; 3.38 GiB reserved in total by PyTorch) If reserved memory is >> allocated memory try setting max_split_size_mb to avoid fragmentation.  See documentation for Memory Management and PYTORCH_CUDA_ALLOC_CONF"
     ]
    }
   ],
   "source": [
    "model = rrnn.SingleTaskRRNN2(emb_dim,vocab_size,lstm_hidden_dim,emb_weights=word2vec_model.vectors).to(device)\n",
    "save_path='m1_rrnn_simple_to_w2v'"
   ]
  },
  {
   "cell_type": "code",
   "execution_count": null,
   "metadata": {},
   "outputs": [],
   "source": [
    "learning_rate = 5e-5\n",
    "optimizer = SGD(model.parameters(), lr=learning_rate, momentum=0.9)\n",
    "num_epochs = 100\n",
    "\n",
    "train.train_function(model,num_epochs,dl_train['to'],optimizer,early_stop=10,dl_val=dl_val['to'],save_path=save_path)"
   ]
  },
  {
   "cell_type": "code",
   "execution_count": null,
   "metadata": {},
   "outputs": [],
   "source": [
    "model = rrnn.SingleTaskRRNN2(emb_dim,vocab_size,lstm_hidden_dim,emb_weights=word2vec_model.vectors).to(device)\n",
    "model.load_state_dict(torch.load('m1_rrnn_simple_to_w2v'))\n",
    "\n",
    "for task in ['about','to','as']:\n",
    "    print(f\"GLOBAL: {train.eval_function_single_sk(model,dl_eval[task])}\",'\\n')\n",
    "    print(f\"Using scikit learn accuracy por género en el conjunto {task}\")\n",
    "    print(f\"MALE {train.eval_function_single_sk(model,dl_eval[task],gender='male')}\")\n",
    "    print(f\"FEMALE {train.eval_function_single_sk(model,dl_eval[task],gender='female')}\",'\\n')"
   ]
  },
  {
   "attachments": {},
   "cell_type": "markdown",
   "metadata": {},
   "source": [
    "# AS"
   ]
  },
  {
   "cell_type": "code",
   "execution_count": 16,
   "metadata": {},
   "outputs": [],
   "source": [
    "model = rrnn.SingleTaskRRNN2(emb_dim,vocab_size,lstm_hidden_dim,emb_weights=word2vec_model.vectors).to(device)\n",
    "save_path='m1_rrnn_simple_as_w2v'"
   ]
  },
  {
   "cell_type": "code",
   "execution_count": 18,
   "metadata": {},
   "outputs": [
    {
     "data": {
      "application/vnd.jupyter.widget-view+json": {
       "model_id": "636fbb8ba9204761b6890cf9d828343a",
       "version_major": 2,
       "version_minor": 0
      },
      "text/plain": [
       "  0%|          | 0/57400 [00:00<?, ?it/s]"
      ]
     },
     "metadata": {},
     "output_type": "display_data"
    },
    {
     "name": "stdout",
     "output_type": "stream",
     "text": [
      "Epoch 1 \t Training loss: 0.6934500490331483 \t Validation loss: 0.6916101271823302 \t \n",
      "  1%|          | 574/57400 [00:32<25:21, 37.34it/s]\n",
      "Epoch 2 \t Training loss: 0.6934501663733027 \t Validation loss: 0.6921690793360694 \t \n",
      "  2%|▏         | 1148/57400 [00:49<26:20, 35.60it/s]\n",
      "Epoch 3 \t Training loss: 0.6932951671944263 \t Validation loss: 0.6922091397188478 \t \n",
      "  3%|▎         | 1722/57400 [01:04<23:37, 39.28it/s]\n",
      "Epoch 4 \t Training loss: 0.6932447795668546 \t Validation loss: 0.6923917612787021 \t \n",
      "  4%|▍         | 2296/57400 [01:19<25:47, 35.61it/s]\n",
      "Epoch 5 \t Training loss: 0.6933166429348524 \t Validation loss: 0.6925751991191152 \t \n",
      "  5%|▌         | 2870/57400 [01:36<25:53, 35.09it/s]\n",
      "Epoch 6 \t Training loss: 0.6932669861391446 \t Validation loss: 0.6923211823075505 \t \n",
      "  6%|▌         | 3444/57400 [01:55<26:36, 33.80it/s]\n",
      "Epoch 7 \t Training loss: 0.6932317801468879 \t Validation loss: 0.6924857396190449 \t \n",
      "  7%|▋         | 4018/57400 [02:13<26:06, 34.08it/s]\n",
      "Epoch 8 \t Training loss: 0.6931446598589628 \t Validation loss: 0.692433727999865 \t \n",
      "  8%|▊         | 4592/57400 [02:29<23:51, 36.88it/s]\n",
      "Epoch 9 \t Training loss: 0.6931937097049341 \t Validation loss: 0.6924265724117473 \t \n",
      "  9%|▉         | 5166/57400 [02:45<24:18, 35.82it/s]\n",
      "Epoch 10 \t Training loss: 0.6932238142041794 \t Validation loss: 0.6924300416041229 \t \n",
      " 10%|█         | 5740/57400 [03:01<22:31, 38.24it/s]\n",
      "Epoch 11 \t Training loss: 0.6931815392464296 \t Validation loss: 0.6925312310962354 \t \n",
      " 11%|█         | 6314/57400 [03:18<21:58, 38.74it/s]\n",
      "Epoch 12 \t Training loss: 0.6931785265120064 \t Validation loss: 0.6926062288930861 \t \n",
      " 12%|█▏        | 6888/57400 [03:34<21:52, 38.50it/s]\n",
      "Epoch 13 \t Training loss: 0.6931897813019436 \t Validation loss: 0.6924687856334751 \t \n",
      " 13%|█▎        | 7462/57400 [03:50<22:49, 36.45it/s]\n",
      "Epoch 14 \t Training loss: 0.6931445303694297 \t Validation loss: 0.6925878615702613 \t \n",
      " 14%|█▍        | 8036/57400 [04:07<20:55, 39.32it/s]\n",
      "Epoch 15 \t Training loss: 0.6931560125708165 \t Validation loss: 0.6925805301989539 \t \n",
      " 15%|█▌        | 8610/57400 [04:23<21:01, 38.66it/s]\n",
      "Epoch 16 \t Training loss: 0.6930955898678677 \t Validation loss: 0.6926922555697166 \t \n",
      "\n",
      "1 epoch without improvement\n",
      " 16%|█▌        | 9184/57400 [04:39<21:02, 38.21it/s]\n",
      "Epoch 17 \t Training loss: 0.6931394561865604 \t Validation loss: 0.6927582904443903 \t \n",
      "\n",
      "2 epoch without improvement\n",
      " 17%|█▋        | 9758/57400 [04:56<21:02, 37.73it/s]\n",
      "Epoch 18 \t Training loss: 0.6931659067341674 \t Validation loss: 0.6928938637345524 \t \n",
      "\n",
      "3 epoch without improvement\n",
      " 18%|█▊        | 10332/57400 [05:12<21:58, 35.70it/s]\n",
      "Epoch 19 \t Training loss: 0.6930941548912367 \t Validation loss: 0.6926916797282332 \t \n",
      "\n",
      "4 epoch without improvement\n",
      " 19%|█▉        | 10906/57400 [05:28<19:43, 39.28it/s]\n",
      "Epoch 20 \t Training loss: 0.6931327722629188 \t Validation loss: 0.692827969284381 \t \n",
      "\n",
      "5 epoch without improvement\n",
      " 20%|██        | 11480/57400 [05:45<21:27, 35.66it/s]\n",
      "Epoch 21 \t Training loss: 0.6931806779904648 \t Validation loss: 0.692848824848563 \t \n",
      "\n",
      "6 epoch without improvement\n",
      " 21%|██        | 12054/57400 [06:01<20:09, 37.48it/s]\n",
      "Epoch 22 \t Training loss: 0.6931706411497933 \t Validation loss: 0.6927626638089196 \t \n",
      "\n",
      "7 epoch without improvement\n",
      " 22%|██▏       | 12628/57400 [06:17<19:21, 38.55it/s]\n",
      "Epoch 23 \t Training loss: 0.693163715900029 \t Validation loss: 0.6927774184841221 \t \n",
      "\n",
      "8 epoch without improvement\n",
      " 23%|██▎       | 13202/57400 [06:33<19:32, 37.70it/s]\n",
      "Epoch 24 \t Training loss: 0.693188823785516 \t Validation loss: 0.692738768407854 \t \n",
      "\n",
      "9 epoch without improvement\n",
      " 24%|██▍       | 13776/57400 [06:50<20:02, 36.28it/s]\n",
      "Epoch 25 \t Training loss: 0.6931203366987381 \t Validation loss: 0.69288490384312 \t \n",
      "\n",
      "10 epoch without improvement\n",
      "Validation_loss hasn't improve in 10 epoch. Stopping training after 25 epochs...\n"
     ]
    },
    {
     "data": {
      "image/png": "[encoded data removed]",
      "text/plain": [
       "<Figure size 640x480 with 1 Axes>"
      ]
     },
     "metadata": {},
     "output_type": "display_data"
    }
   ],
   "source": [
    "learning_rate = 5e-5\n",
    "optimizer = SGD(model.parameters(), lr=learning_rate, momentum=0.9)\n",
    "num_epochs = 100\n",
    "\n",
    "train.train_function(model,num_epochs,dl_train['as'],optimizer,early_stop=10,dl_val=dl_val['as'],save_path=save_path)"
   ]
  },
  {
   "cell_type": "code",
   "execution_count": 17,
   "metadata": {},
   "outputs": [
    {
     "name": "stdout",
     "output_type": "stream",
     "text": [
      "GLOBAL: 0.5102040816326531 \n",
      "\n",
      "Using scikit learn accuracy por género en el conjunto about\n",
      "MALE 0.0\n",
      "FEMALE 1.0 \n",
      "\n",
      "GLOBAL: 0.4810606060606061 \n",
      "\n",
      "Using scikit learn accuracy por género en el conjunto to\n",
      "MALE 0.0\n",
      "FEMALE 1.0 \n",
      "\n",
      "GLOBAL: 0.48370273794002605 \n",
      "\n",
      "Using scikit learn accuracy por género en el conjunto as\n",
      "MALE 0.0\n",
      "FEMALE 1.0 \n",
      "\n"
     ]
    }
   ],
   "source": [
    "model = rrnn.SingleTaskRRNN2(emb_dim,vocab_size,lstm_hidden_dim,emb_weights=word2vec_model.vectors).to(device)\n",
    "model.load_state_dict(torch.load(save_path))\n",
    "\n",
    "for task in ['about','to','as']:\n",
    "    print(f\"GLOBAL: {train.eval_function_single_sk(model,dl_eval[task])}\",'\\n')\n",
    "    print(f\"Using scikit learn accuracy por género en el conjunto {task}\")\n",
    "    print(f\"MALE {train.eval_function_single_sk(model,dl_eval[task],gender='male')}\")\n",
    "    print(f\"FEMALE {train.eval_function_single_sk(model,dl_eval[task],gender='female')}\",'\\n')"
   ]
  },
  {
   "attachments": {},
   "cell_type": "markdown",
   "metadata": {},
   "source": [
    "# AdamW"
   ]
  },
  {
   "attachments": {},
   "cell_type": "markdown",
   "metadata": {},
   "source": [
    "## ABOUT"
   ]
  },
  {
   "cell_type": "code",
   "execution_count": 18,
   "metadata": {},
   "outputs": [],
   "source": [
    "model = rrnn.SingleTaskRRNN2(emb_dim,vocab_size,lstm_hidden_dim,emb_weights=word2vec_model.vectors).to(device)\n",
    "save_path='m1_rrnn_simple_about_adam_w2v'"
   ]
  },
  {
   "cell_type": "code",
   "execution_count": 20,
   "metadata": {},
   "outputs": [
    {
     "data": {
      "application/vnd.jupyter.widget-view+json": {
       "model_id": "02cc0c0d39ca4ab0883e96c957e47437",
       "version_major": 2,
       "version_minor": 0
      },
      "text/plain": [
       "  0%|          | 0/57400 [00:00<?, ?it/s]"
      ]
     },
     "metadata": {},
     "output_type": "display_data"
    },
    {
     "name": "stdout",
     "output_type": "stream",
     "text": [
      "Epoch 1 \t Training loss: 0.6256129473759322 \t Validation loss: 0.5326685521562221 \t \n",
      "  1%|          | 574/57400 [00:08<06:12, 152.40it/s]\n",
      "Epoch 2 \t Training loss: 0.48018206671555286 \t Validation loss: 0.45109148399304533 \t \n",
      "  2%|▏         | 1148/57400 [00:17<05:42, 164.20it/s]\n",
      "Epoch 3 \t Training loss: 0.4489126128082907 \t Validation loss: 0.4348704845218335 \t \n",
      "  3%|▎         | 1722/57400 [00:26<06:37, 140.15it/s]\n",
      "Epoch 4 \t Training loss: 0.4383363221165195 \t Validation loss: 0.43798921673984853 \t \n",
      "\n",
      "1 epoch without improvement\n",
      "  4%|▍         | 2296/57400 [00:30<06:45, 135.99it/s]\n",
      "Epoch 5 \t Training loss: 0.430972082066619 \t Validation loss: 0.42299278055207207 \t \n",
      "  5%|▌         | 2870/57400 [00:39<07:12, 126.03it/s]\n",
      "Epoch 6 \t Training loss: 0.4255151466729334 \t Validation loss: 0.4290856365430153 \t \n",
      "\n",
      "1 epoch without improvement\n",
      "  6%|▌         | 3444/57400 [00:44<06:27, 139.24it/s]\n",
      "Epoch 7 \t Training loss: 0.42136598895028077 \t Validation loss: 0.42847003371028575 \t \n",
      "\n",
      "2 epoch without improvement\n",
      "  7%|▋         | 4018/57400 [00:48<06:06, 145.57it/s]\n",
      "Epoch 8 \t Training loss: 0.41700379960628337 \t Validation loss: 0.4188357334015733 \t \n",
      "  8%|▊         | 4592/57400 [00:56<05:19, 165.37it/s]\n",
      "Epoch 9 \t Training loss: 0.4158500138060141 \t Validation loss: 0.41706191634727735 \t \n",
      "  9%|▉         | 5166/57400 [01:05<06:18, 137.99it/s]\n",
      "Epoch 10 \t Training loss: 0.41197065328887117 \t Validation loss: 0.4130994167368291 \t \n",
      " 10%|█         | 5740/57400 [01:14<05:41, 151.09it/s]\n",
      "Epoch 11 \t Training loss: 0.4082417586746947 \t Validation loss: 0.4130871942487814 \t \n",
      " 11%|█         | 6314/57400 [01:23<04:54, 173.24it/s]\n",
      "Epoch 12 \t Training loss: 0.40775169702149433 \t Validation loss: 0.410379456261457 \t \n",
      " 12%|█▏        | 6888/57400 [01:31<05:11, 162.34it/s]\n",
      "Epoch 13 \t Training loss: 0.4050033010464512 \t Validation loss: 0.4096843479043346 \t \n",
      " 13%|█▎        | 7462/57400 [01:41<05:33, 149.85it/s]\n",
      "Epoch 14 \t Training loss: 0.4040135124419209 \t Validation loss: 0.4091660774360269 \t \n",
      " 14%|█▍        | 8036/57400 [01:50<05:49, 141.32it/s]\n",
      "Epoch 15 \t Training loss: 0.4004039734809656 \t Validation loss: 0.4106590151786804 \t \n",
      "\n",
      "1 epoch without improvement\n",
      " 15%|█▌        | 8610/57400 [01:53<05:07, 158.92it/s]\n",
      "Epoch 16 \t Training loss: 0.39897064659549797 \t Validation loss: 0.40550652499926293 \t \n",
      " 16%|█▌        | 9184/57400 [02:02<05:31, 145.60it/s]\n",
      "Epoch 17 \t Training loss: 0.3971963727308067 \t Validation loss: 0.40681732104996504 \t \n",
      "\n",
      "1 epoch without improvement\n",
      " 17%|█▋        | 9758/57400 [02:06<04:57, 160.26it/s]\n",
      "Epoch 18 \t Training loss: 0.3974351648254262 \t Validation loss: 0.4030838800688921 \t \n",
      " 18%|█▊        | 10332/57400 [02:15<05:43, 137.01it/s]\n",
      "Epoch 19 \t Training loss: 0.3935162915169985 \t Validation loss: 0.4035089596853418 \t \n",
      " 19%|█▉        | 10906/57400 [02:19<04:52, 158.87it/s]\n",
      "Epoch 20 \t Training loss: 0.3906085399281273 \t Validation loss: 0.40134454329135055 \t \n",
      " 20%|██        | 11480/57400 [02:28<05:14, 146.04it/s]\n",
      "Epoch 21 \t Training loss: 0.39081494543922074 \t Validation loss: 0.3989157611030643 \t \n",
      " 21%|██        | 12054/57400 [02:37<05:15, 143.56it/s]\n",
      "Epoch 22 \t Training loss: 0.3881087850922076 \t Validation loss: 0.3999328855740822 \t \n",
      "\n",
      "1 epoch without improvement\n",
      " 22%|██▏       | 12628/57400 [02:41<04:43, 158.03it/s]\n",
      "Epoch 23 \t Training loss: 0.38533831561691667 \t Validation loss: 0.39973079855159177 \t \n",
      " 23%|██▎       | 13202/57400 [02:45<05:10, 142.28it/s]\n",
      "Epoch 24 \t Training loss: 0.3900885214892829 \t Validation loss: 0.416134732759605 \t \n",
      "\n",
      "2 epoch without improvement\n",
      " 24%|██▍       | 13776/57400 [02:49<04:49, 150.66it/s]\n",
      "Epoch 25 \t Training loss: 0.38538929638339253 \t Validation loss: 0.3973912500728995 \t \n",
      " 25%|██▌       | 14350/57400 [02:57<04:23, 163.10it/s]\n",
      "Epoch 26 \t Training loss: 0.3830728451445543 \t Validation loss: 0.3971168621111724 \t \n",
      " 26%|██▌       | 14924/57400 [03:06<04:59, 141.67it/s]\n",
      "Epoch 27 \t Training loss: 0.3819147148510305 \t Validation loss: 0.39658604183439483 \t \n",
      " 27%|██▋       | 15498/57400 [03:15<04:56, 141.25it/s]\n",
      "Epoch 28 \t Training loss: 0.37870552081887315 \t Validation loss: 0.4015933876320467 \t \n",
      "\n",
      "1 epoch without improvement\n",
      " 28%|██▊       | 16072/57400 [03:19<04:03, 169.53it/s]\n",
      "Epoch 29 \t Training loss: 0.37872002704737495 \t Validation loss: 0.3943197656485994 \t \n",
      " 29%|██▉       | 16646/57400 [03:28<05:09, 131.50it/s]\n",
      "Epoch 30 \t Training loss: 0.3786954438956357 \t Validation loss: 0.41334946579852344 \t \n",
      "\n",
      "1 epoch without improvement\n",
      " 30%|███       | 17220/57400 [03:32<04:40, 143.44it/s]\n",
      "Epoch 31 \t Training loss: 0.37739661870725477 \t Validation loss: 0.39400036430965035 \t \n",
      " 31%|███       | 17794/57400 [03:41<04:35, 143.91it/s]\n",
      "Epoch 32 \t Training loss: 0.3741959931283462 \t Validation loss: 0.3949372030920901 \t \n",
      " 32%|███▏      | 18368/57400 [03:45<05:02, 129.10it/s]\n",
      "Epoch 33 \t Training loss: 0.372015564180002 \t Validation loss: 0.3941875948744305 \t \n",
      " 33%|███▎      | 18942/57400 [03:50<04:48, 133.31it/s]\n",
      "Epoch 34 \t Training loss: 0.3718237459971099 \t Validation loss: 0.39050888459561234 \t \n",
      " 34%|███▍      | 19516/57400 [03:58<03:59, 158.14it/s]\n",
      "Epoch 35 \t Training loss: 0.37169705045763207 \t Validation loss: 0.3903291316355689 \t \n",
      " 35%|███▌      | 20090/57400 [04:08<04:13, 147.15it/s]\n",
      "Epoch 36 \t Training loss: 0.3688031806763041 \t Validation loss: 0.3921898057905294 \t \n",
      "\n",
      "1 epoch without improvement\n",
      " 36%|███▌      | 20664/57400 [04:12<04:48, 127.27it/s]\n",
      "Epoch 37 \t Training loss: 0.36738722872651 \t Validation loss: 0.394485037205583 \t \n",
      "\n",
      "2 epoch without improvement\n",
      " 37%|███▋      | 21238/57400 [04:16<03:42, 162.33it/s]\n",
      "Epoch 38 \t Training loss: 0.3749064670985999 \t Validation loss: 0.3891672552642176 \t \n",
      " 38%|███▊      | 21812/57400 [04:25<03:40, 161.22it/s]\n",
      "Epoch 39 \t Training loss: 0.365667872520274 \t Validation loss: 0.3897456122657 \t \n",
      " 39%|███▉      | 22386/57400 [04:29<03:31, 165.17it/s]\n",
      "Epoch 40 \t Training loss: 0.3638734036621732 \t Validation loss: 0.3881032977063777 \t \n",
      " 40%|████      | 22960/57400 [04:38<03:26, 167.18it/s]\n",
      "Epoch 41 \t Training loss: 0.36318482931067303 \t Validation loss: 0.3903540034415358 \t \n",
      "\n",
      "1 epoch without improvement\n",
      " 41%|████      | 23534/57400 [04:42<03:32, 159.44it/s]\n",
      "Epoch 42 \t Training loss: 0.3649824609791776 \t Validation loss: 0.38667006866406584 \t \n",
      " 42%|████▏     | 24108/57400 [04:51<03:22, 164.74it/s]\n",
      "Epoch 43 \t Training loss: 0.3711001257759353 \t Validation loss: 0.39228699924582144 \t \n",
      "\n",
      "1 epoch without improvement\n",
      " 43%|████▎     | 24682/57400 [04:54<03:21, 162.22it/s]\n",
      "Epoch 44 \t Training loss: 0.3624071628114903 \t Validation loss: 0.38793536919658467 \t \n",
      "\n",
      "2 epoch without improvement\n",
      " 44%|████▍     | 25256/57400 [04:59<03:58, 134.59it/s]\n",
      "Epoch 45 \t Training loss: 0.359174574371622 \t Validation loss: 0.38527520581827324 \t \n",
      " 45%|████▌     | 25830/57400 [05:08<03:33, 148.12it/s]\n",
      "Epoch 46 \t Training loss: 0.35711260173690446 \t Validation loss: 0.38604041731963723 \t \n",
      " 46%|████▌     | 26404/57400 [05:12<03:31, 146.85it/s]\n",
      "Epoch 47 \t Training loss: 0.35789471789415706 \t Validation loss: 0.39268609022690076 \t \n",
      "\n",
      "1 epoch without improvement\n",
      " 47%|████▋     | 26978/57400 [05:16<03:12, 158.22it/s]\n",
      "Epoch 48 \t Training loss: 0.3572199131242074 \t Validation loss: 0.38864682235960235 \t \n",
      "\n",
      "2 epoch without improvement\n",
      " 48%|████▊     | 27552/57400 [05:20<03:09, 157.48it/s]\n",
      "Epoch 49 \t Training loss: 0.3549551752490034 \t Validation loss: 0.3847251736511618 \t \n",
      " 49%|████▉     | 28126/57400 [05:29<03:25, 142.55it/s]\n",
      "Epoch 50 \t Training loss: 0.3546772107533877 \t Validation loss: 0.389721547142934 \t \n",
      "\n",
      "1 epoch without improvement\n",
      " 50%|█████     | 28700/57400 [05:33<02:58, 160.90it/s]\n",
      "Epoch 51 \t Training loss: 0.3530203857644094 \t Validation loss: 0.3821646399417166 \t \n",
      " 51%|█████     | 29274/57400 [05:42<03:13, 144.99it/s]\n",
      "Epoch 52 \t Training loss: 0.3531453880750759 \t Validation loss: 0.38177089873006786 \t \n",
      " 52%|█████▏    | 29848/57400 [05:51<03:28, 132.39it/s]\n",
      "Epoch 53 \t Training loss: 0.3543789041218857 \t Validation loss: 0.3823278803946608 \t \n",
      " 53%|█████▎    | 30422/57400 [05:55<02:46, 162.03it/s]\n",
      "Epoch 54 \t Training loss: 0.34977790674369924 \t Validation loss: 0.38105706744274853 \t \n",
      " 54%|█████▍    | 30996/57400 [06:05<02:52, 153.05it/s]\n",
      "Epoch 55 \t Training loss: 0.35109736331663893 \t Validation loss: 0.3835173350269512 \t \n",
      "\n",
      "1 epoch without improvement\n",
      " 55%|█████▌    | 31570/57400 [06:08<02:33, 168.00it/s]\n",
      "Epoch 56 \t Training loss: 0.3505831910135023 \t Validation loss: 0.3808087095365686 \t \n",
      " 56%|█████▌    | 32144/57400 [06:18<03:12, 131.32it/s]\n",
      "Epoch 57 \t Training loss: 0.35056340979989814 \t Validation loss: 0.3832313746719037 \t \n",
      "\n",
      "1 epoch without improvement\n",
      " 57%|█████▋    | 32718/57400 [06:21<02:32, 162.26it/s]\n",
      "Epoch 58 \t Training loss: 0.34687949101787824 \t Validation loss: 0.3794535878351179 \t \n",
      " 58%|█████▊    | 33292/57400 [06:30<02:36, 153.83it/s]\n",
      "Epoch 59 \t Training loss: 0.3458522797565427 \t Validation loss: 0.3804234811815165 \t \n",
      " 59%|█████▉    | 33866/57400 [06:34<02:51, 137.08it/s]\n",
      "Epoch 60 \t Training loss: 0.3493836712909908 \t Validation loss: 0.3887021188008583 \t \n",
      "\n",
      "1 epoch without improvement\n",
      " 60%|██████    | 34440/57400 [06:39<02:46, 138.22it/s]\n",
      "Epoch 61 \t Training loss: 0.34346570352332517 \t Validation loss: 0.3794491498147027 \t \n",
      " 61%|██████    | 35014/57400 [06:48<02:20, 159.63it/s]\n",
      "Epoch 62 \t Training loss: 0.34441315190613475 \t Validation loss: 0.37839264233233566 \t \n",
      " 62%|██████▏   | 35588/57400 [06:57<02:29, 145.70it/s]\n",
      "Epoch 63 \t Training loss: 0.34349560638961063 \t Validation loss: 0.3790126306525731 \t \n",
      " 63%|██████▎   | 36162/57400 [07:01<02:36, 136.05it/s]\n",
      "Epoch 64 \t Training loss: 0.34264375692564436 \t Validation loss: 0.3797610982999963 \t \n",
      "\n",
      "1 epoch without improvement\n",
      " 64%|██████▍   | 36736/57400 [07:06<02:12, 155.68it/s]\n",
      "Epoch 65 \t Training loss: 0.34222697868995133 \t Validation loss: 0.37877812628018653 \t \n",
      " 65%|██████▌   | 37310/57400 [07:09<02:05, 160.29it/s]\n",
      "Epoch 66 \t Training loss: 0.3403641039745733 \t Validation loss: 0.37797484205941023 \t \n",
      " 66%|██████▌   | 37884/57400 [07:18<02:09, 150.77it/s]\n",
      "Epoch 67 \t Training loss: 0.3400025904074779 \t Validation loss: 0.3770372488741147 \t \n",
      " 67%|██████▋   | 38458/57400 [07:27<01:50, 171.64it/s]\n",
      "Epoch 68 \t Training loss: 0.3389105345885097 \t Validation loss: 0.37585332383543757 \t \n",
      " 68%|██████▊   | 39032/57400 [07:36<01:53, 161.15it/s]\n",
      "Epoch 69 \t Training loss: 0.3376998453034341 \t Validation loss: 0.3797947279477524 \t \n",
      "\n",
      "1 epoch without improvement\n",
      " 69%|██████▉   | 39606/57400 [07:40<01:54, 155.68it/s]\n",
      "Epoch 70 \t Training loss: 0.33699054512412707 \t Validation loss: 0.3751199245452881 \t \n",
      " 70%|███████   | 40180/57400 [07:49<01:42, 168.05it/s]\n",
      "Epoch 71 \t Training loss: 0.33721607822262867 \t Validation loss: 0.3770521682197765 \t \n",
      "\n",
      "1 epoch without improvement\n",
      " 71%|███████   | 40754/57400 [07:53<01:48, 154.10it/s]\n",
      "Epoch 72 \t Training loss: 0.33573019860202014 \t Validation loss: 0.37609292945619355 \t \n",
      " 72%|███████▏  | 41328/57400 [07:57<01:39, 161.62it/s]\n",
      "Epoch 73 \t Training loss: 0.3351642206466987 \t Validation loss: 0.3741056896367316 \t \n",
      " 73%|███████▎  | 41902/57400 [08:05<01:41, 153.39it/s]\n",
      "Epoch 74 \t Training loss: 0.3364112929600041 \t Validation loss: 0.38238285355648755 \t \n",
      "\n",
      "1 epoch without improvement\n",
      " 74%|███████▍  | 42476/57400 [08:09<01:31, 163.86it/s]\n",
      "Epoch 75 \t Training loss: 0.3350363640367777 \t Validation loss: 0.37585171602540096 \t \n",
      "\n",
      "2 epoch without improvement\n",
      " 75%|███████▌  | 43050/57400 [08:14<01:47, 133.79it/s]\n",
      "Epoch 76 \t Training loss: 0.33365584006500576 \t Validation loss: 0.37985072651151885 \t \n",
      "\n",
      "3 epoch without improvement\n",
      " 76%|███████▌  | 43624/57400 [08:18<01:27, 158.16it/s]\n",
      "Epoch 77 \t Training loss: 0.3319221675551727 \t Validation loss: 0.3758314655999006 \t \n",
      "\n",
      "4 epoch without improvement\n",
      " 77%|███████▋  | 44198/57400 [08:22<01:23, 157.18it/s]\n",
      "Epoch 78 \t Training loss: 0.33180926249521536 \t Validation loss: 0.3750461011619891 \t \n",
      " 78%|███████▊  | 44772/57400 [08:26<01:29, 141.79it/s]\n",
      "Epoch 79 \t Training loss: 0.33104463915895505 \t Validation loss: 0.3736079461493735 \t \n",
      " 79%|███████▉  | 45346/57400 [08:35<01:16, 157.03it/s]\n",
      "Epoch 80 \t Training loss: 0.3312475343562585 \t Validation loss: 0.37361428192106344 \t \n",
      " 80%|████████  | 45920/57400 [08:39<01:27, 131.94it/s]\n",
      "Epoch 81 \t Training loss: 0.3309183942368222 \t Validation loss: 0.37496447512658976 \t \n",
      "\n",
      "1 epoch without improvement\n",
      " 81%|████████  | 46494/57400 [08:43<01:07, 161.29it/s]\n",
      "Epoch 82 \t Training loss: 0.3304125539932517 \t Validation loss: 0.37487597485720103 \t \n",
      "\n",
      "2 epoch without improvement\n",
      " 82%|████████▏ | 47068/57400 [08:47<01:10, 147.23it/s]\n",
      "Epoch 83 \t Training loss: 0.32932229552950176 \t Validation loss: 0.37398009280026967 \t \n",
      " 83%|████████▎ | 47642/57400 [08:51<01:11, 137.26it/s]\n",
      "Epoch 84 \t Training loss: 0.32865259586103285 \t Validation loss: 0.373558899608709 \t \n",
      " 84%|████████▍ | 48216/57400 [09:00<00:53, 170.35it/s]\n",
      "Epoch 85 \t Training loss: 0.3282753948498686 \t Validation loss: 0.3741367797730333 \t \n",
      " 85%|████████▌ | 48790/57400 [09:04<01:03, 134.54it/s]\n",
      "Epoch 86 \t Training loss: 0.32838731196803084 \t Validation loss: 0.3733196758617789 \t \n",
      " 86%|████████▌ | 49364/57400 [09:13<00:49, 161.50it/s]\n",
      "Epoch 87 \t Training loss: 0.3275936270840077 \t Validation loss: 0.38196097491151193 \t \n",
      "\n",
      "1 epoch without improvement\n",
      " 87%|████████▋ | 49938/57400 [09:17<00:45, 162.96it/s]\n",
      "Epoch 88 \t Training loss: 0.3272514929183684 \t Validation loss: 0.37210834379923546 \t \n",
      " 88%|████████▊ | 50512/57400 [09:25<00:43, 160.04it/s]\n",
      "Epoch 89 \t Training loss: 0.32799407133657343 \t Validation loss: 0.3742694097050166 \t \n",
      "\n",
      "1 epoch without improvement\n",
      " 89%|████████▉ | 51086/57400 [09:30<00:40, 156.22it/s]\n",
      "Epoch 90 \t Training loss: 0.3264423179398015 \t Validation loss: 0.3723805359864639 \t \n",
      " 90%|█████████ | 51660/57400 [09:34<00:37, 153.44it/s]\n",
      "Epoch 91 \t Training loss: 0.32700801074816377 \t Validation loss: 0.37296615086369594 \t \n",
      " 91%|█████████ | 52234/57400 [09:38<00:36, 140.50it/s]\n",
      "Epoch 92 \t Training loss: 0.3256456750195201 \t Validation loss: 0.37771219368708336 \t \n",
      "\n",
      "2 epoch without improvement\n",
      " 92%|█████████▏| 52808/57400 [09:42<00:29, 158.19it/s]\n",
      "Epoch 93 \t Training loss: 0.32559529974900886 \t Validation loss: 0.3745865170228279 \t \n",
      "\n",
      "3 epoch without improvement\n",
      " 93%|█████████▎| 53382/57400 [09:46<00:25, 158.89it/s]\n",
      "Epoch 94 \t Training loss: 0.325768888905281 \t Validation loss: 0.37176100631891673 \t \n",
      " 94%|█████████▍| 53956/57400 [09:55<00:25, 135.48it/s]\n",
      "Epoch 95 \t Training loss: 0.3247053299994834 \t Validation loss: 0.3732878257662563 \t \n",
      "\n",
      "1 epoch without improvement\n",
      " 95%|█████████▌| 54530/57400 [09:59<00:19, 144.99it/s]\n",
      "Epoch 96 \t Training loss: 0.32506785084873124 \t Validation loss: 0.37111964619765847 \t \n",
      " 96%|█████████▌| 55104/57400 [10:08<00:15, 146.85it/s]\n",
      "Epoch 97 \t Training loss: 0.3253237797200472 \t Validation loss: 0.37250262094756303 \t \n",
      "\n",
      "1 epoch without improvement\n",
      " 97%|█████████▋| 55678/57400 [10:12<00:12, 133.19it/s]\n",
      "Epoch 98 \t Training loss: 0.3244462262722258 \t Validation loss: 0.373120404401068 \t \n",
      "\n",
      "2 epoch without improvement\n",
      " 98%|█████████▊| 56252/57400 [10:16<00:08, 140.75it/s]\n",
      "Epoch 99 \t Training loss: 0.3241051691957467 \t Validation loss: 0.3730760181354264 \t \n",
      "\n",
      "3 epoch without improvement\n",
      " 99%|█████████▉| 56826/57400 [10:20<00:03, 161.05it/s]\n",
      "Epoch 100 \t Training loss: 0.3243982528664094 \t Validation loss: 0.3732866331682367 \t \n",
      "\n",
      "4 epoch without improvement\n",
      "100%|██████████| 57400/57400 [10:24<00:00, 149.65it/s]\n"
     ]
    },
    {
     "data": {
      "image/png": "[encoded data removed]",
      "text/plain": [
       "<Figure size 640x480 with 1 Axes>"
      ]
     },
     "metadata": {},
     "output_type": "display_data"
    }
   ],
   "source": [
    "learning_rate = 5e-5\n",
    "optimizer = AdamW(model.parameters(), lr=learning_rate)\n",
    "num_epochs = 100\n",
    "\n",
    "train.train_function(model,num_epochs,dl_train['about'],optimizer,early_stop=10,dl_val=dl_val['about'],save_path=save_path)"
   ]
  },
  {
   "cell_type": "code",
   "execution_count": 21,
   "metadata": {},
   "outputs": [
    {
     "name": "stdout",
     "output_type": "stream",
     "text": [
      "GLOBAL: 0.7436224489795918 \n",
      "\n",
      "Using scikit learn accuracy por género en el conjunto about\n",
      "MALE 0.7916666666666666\n",
      "FEMALE 0.6975 \n",
      "\n",
      "GLOBAL: 0.5593434343434344 \n",
      "\n",
      "Using scikit learn accuracy por género en el conjunto to\n",
      "MALE 0.6277372262773723\n",
      "FEMALE 0.48556430446194226 \n",
      "\n",
      "GLOBAL: 0.6427640156453716 \n",
      "\n",
      "Using scikit learn accuracy por género en el conjunto as\n",
      "MALE 0.6818181818181818\n",
      "FEMALE 0.601078167115903 \n",
      "\n"
     ]
    }
   ],
   "source": [
    "model = rrnn.SingleTaskRRNN2(emb_dim,vocab_size,lstm_hidden_dim,emb_weights=word2vec_model.vectors).to(device)\n",
    "model.load_state_dict(torch.load(save_path))\n",
    "\n",
    "for task in ['about','to','as']:\n",
    "    print(f\"GLOBAL: {train.eval_function_single_sk(model,dl_eval[task])}\",'\\n')\n",
    "    print(f\"Using scikit learn accuracy por género en el conjunto {task}\")\n",
    "    print(f\"MALE {train.eval_function_single_sk(model,dl_eval[task],gender='male')}\")\n",
    "    print(f\"FEMALE {train.eval_function_single_sk(model,dl_eval[task],gender='female')}\",'\\n')"
   ]
  },
  {
   "attachments": {},
   "cell_type": "markdown",
   "metadata": {},
   "source": [
    "## TO"
   ]
  },
  {
   "cell_type": "code",
   "execution_count": 16,
   "metadata": {},
   "outputs": [],
   "source": [
    "model = rrnn.SingleTaskRRNN2(emb_dim,vocab_size,lstm_hidden_dim,emb_weights=word2vec_model.vectors).to(device)\n",
    "save_path='m1_rrnn_simple_to_adam_w2v'"
   ]
  },
  {
   "cell_type": "code",
   "execution_count": 23,
   "metadata": {},
   "outputs": [
    {
     "data": {
      "application/vnd.jupyter.widget-view+json": {
       "model_id": "5c5f88009be24635a0bbcdc3f05202cd",
       "version_major": 2,
       "version_minor": 0
      },
      "text/plain": [
       "  0%|          | 0/57400 [00:00<?, ?it/s]"
      ]
     },
     "metadata": {},
     "output_type": "display_data"
    },
    {
     "name": "stdout",
     "output_type": "stream",
     "text": [
      "Epoch 1 \t Training loss: 0.693121461087403 \t Validation loss: 0.6923688407671653 \t \n",
      "  1%|          | 574/57400 [00:09<08:16, 114.41it/s]\n",
      "Epoch 2 \t Training loss: 0.6931243573123985 \t Validation loss: 0.6923588837607432 \t \n",
      "  2%|▏         | 1148/57400 [00:19<07:07, 131.45it/s]\n",
      "Epoch 3 \t Training loss: 0.6930652832943388 \t Validation loss: 0.6932740595381138 \t \n",
      "  3%|▎         | 1722/57400 [00:24<07:08, 129.79it/s]\n",
      "Epoch 4 \t Training loss: 0.69306499326686 \t Validation loss: 0.692774590799364 \t \n",
      "  4%|▍         | 2296/57400 [00:29<08:02, 114.28it/s]\n",
      "Epoch 5 \t Training loss: 0.6930949556079891 \t Validation loss: 0.692996817120051 \t \n",
      "  5%|▌         | 2870/57400 [00:34<07:29, 121.23it/s]\n",
      "Epoch 6 \t Training loss: 0.6930468870579989 \t Validation loss: 0.6930346842539512 \t \n",
      "  6%|▌         | 3444/57400 [00:39<07:54, 113.80it/s]\n",
      "Epoch 7 \t Training loss: 0.692985921994319 \t Validation loss: 0.6924911343445213 \t \n",
      "  7%|▋         | 4018/57400 [00:44<06:45, 131.61it/s]\n",
      "Epoch 8 \t Training loss: 0.6928837767669133 \t Validation loss: 0.6936439437381292 \t \n",
      "\n",
      "1 epoch without improvement\n",
      "  8%|▊         | 4592/57400 [00:49<06:45, 130.29it/s]\n",
      "Epoch 9 \t Training loss: 0.6929110837938063 \t Validation loss: 0.6922344999798273 \t \n",
      "  9%|▉         | 5166/57400 [00:59<08:03, 107.97it/s]\n",
      "Epoch 10 \t Training loss: 0.6928128947987374 \t Validation loss: 0.6935045466584674 \t \n",
      "\n",
      "1 epoch without improvement\n",
      " 10%|█         | 5740/57400 [01:04<06:51, 125.57it/s]\n",
      "Epoch 11 \t Training loss: 0.6926261371436435 \t Validation loss: 0.6935511564804335 \t \n",
      "\n",
      "2 epoch without improvement\n",
      " 11%|█         | 6314/57400 [01:09<06:12, 137.23it/s]\n",
      "Epoch 12 \t Training loss: 0.692627309818301 \t Validation loss: 0.6935928868035138 \t \n",
      "\n",
      "3 epoch without improvement\n",
      " 12%|█▏        | 6888/57400 [01:13<07:07, 118.20it/s]\n",
      "Epoch 13 \t Training loss: 0.6924104661476321 \t Validation loss: 0.6921819761648016 \t \n",
      " 13%|█▎        | 7462/57400 [01:23<07:17, 114.17it/s]\n",
      "Epoch 14 \t Training loss: 0.6923939219127548 \t Validation loss: 0.6927428437491595 \t \n",
      " 14%|█▍        | 8036/57400 [01:28<06:31, 126.08it/s]\n",
      "Epoch 15 \t Training loss: 0.6924192166079212 \t Validation loss: 0.6935544781765696 \t \n",
      "\n",
      "1 epoch without improvement\n",
      " 15%|█▌        | 8610/57400 [01:33<05:48, 140.08it/s]\n",
      "Epoch 16 \t Training loss: 0.6922894716262817 \t Validation loss: 0.6927395392272432 \t \n",
      " 16%|█▌        | 9184/57400 [01:38<06:49, 117.73it/s]\n",
      "Epoch 17 \t Training loss: 0.6920489467394892 \t Validation loss: 0.6935778310743429 \t \n",
      "\n",
      "2 epoch without improvement\n",
      " 17%|█▋        | 9758/57400 [01:43<06:10, 128.56it/s]\n",
      "Epoch 18 \t Training loss: 0.6920084460064094 \t Validation loss: 0.6930524524995836 \t \n",
      " 18%|█▊        | 10332/57400 [01:47<06:33, 119.53it/s]\n",
      "Epoch 19 \t Training loss: 0.6920257579366504 \t Validation loss: 0.6949382191997463 \t \n",
      "\n",
      "3 epoch without improvement\n",
      " 19%|█▉        | 10906/57400 [01:52<06:07, 126.47it/s]\n",
      "Epoch 20 \t Training loss: 0.6918458183675693 \t Validation loss: 0.6932218246540781 \t \n",
      "\n",
      "4 epoch without improvement\n",
      " 20%|██        | 11480/57400 [01:57<05:41, 134.49it/s]\n",
      "Epoch 21 \t Training loss: 0.691851788073882 \t Validation loss: 0.6958611668166468 \t \n",
      "\n",
      "5 epoch without improvement\n",
      " 21%|██        | 12054/57400 [02:02<06:43, 112.48it/s]\n",
      "Epoch 22 \t Training loss: 0.6916609227864999 \t Validation loss: 0.6937950758610741 \t \n",
      "\n",
      "6 epoch without improvement\n",
      " 22%|██▏       | 12628/57400 [02:07<05:41, 131.18it/s]\n",
      "Epoch 23 \t Training loss: 0.6918259709554266 \t Validation loss: 0.6936036115985805 \t \n",
      "\n",
      "7 epoch without improvement\n",
      " 23%|██▎       | 13202/57400 [02:12<06:19, 116.50it/s]\n",
      "Epoch 24 \t Training loss: 0.6917569624837683 \t Validation loss: 0.6944899942915318 \t \n",
      "\n",
      "8 epoch without improvement\n",
      " 24%|██▍       | 13776/57400 [02:17<05:24, 134.26it/s]\n",
      "Epoch 25 \t Training loss: 0.6916233318815663 \t Validation loss: 0.6934709084236016 \t \n",
      "\n",
      "9 epoch without improvement\n",
      " 25%|██▌       | 14350/57400 [02:22<05:14, 136.74it/s]\n",
      "Epoch 26 \t Training loss: 0.6917919577829513 \t Validation loss: 0.6940982745865644 \t \n",
      "\n",
      "10 epoch without improvement\n",
      "Validation_loss hasn't improve in 10 epoch. Stopping training after 26 epochs...\n"
     ]
    },
    {
     "data": {
      "image/png": "[encoded data removed]",
      "text/plain": [
       "<Figure size 640x480 with 1 Axes>"
      ]
     },
     "metadata": {},
     "output_type": "display_data"
    }
   ],
   "source": [
    "learning_rate = 5e-5\n",
    "optimizer = AdamW(model.parameters(), lr=learning_rate)\n",
    "num_epochs = 100\n",
    "\n",
    "train.train_function(model,num_epochs,dl_train['to'],optimizer,early_stop=10,dl_val=dl_val['to'],save_path=save_path)"
   ]
  },
  {
   "cell_type": "code",
   "execution_count": null,
   "metadata": {},
   "outputs": [],
   "source": [
    "del model\n",
    "torch.cuda.empty_cache() "
   ]
  },
  {
   "cell_type": "code",
   "execution_count": 20,
   "metadata": {},
   "outputs": [
    {
     "name": "stdout",
     "output_type": "stream",
     "text": [
      "GLOBAL: 0.5446428571428571 \n",
      "\n",
      "Using scikit learn accuracy por género en el conjunto about\n",
      "MALE 0.140625\n",
      "FEMALE 0.9325 \n",
      "\n",
      "GLOBAL: 0.5050505050505051 \n",
      "\n",
      "Using scikit learn accuracy por género en el conjunto to\n",
      "MALE 0.15815085158150852\n",
      "FEMALE 0.8792650918635171 \n",
      "\n",
      "GLOBAL: 0.5032594524119948 \n",
      "\n",
      "Using scikit learn accuracy por género en el conjunto as\n",
      "MALE 0.10353535353535354\n",
      "FEMALE 0.9299191374663073 \n",
      "\n"
     ]
    }
   ],
   "source": [
    "model = rrnn.SingleTaskRRNN2(emb_dim,vocab_size,lstm_hidden_dim,emb_weights=word2vec_model.vectors).to(device)\n",
    "model.load_state_dict(torch.load(save_path))\n",
    "\n",
    "for task in ['about','to','as']:\n",
    "    print(f\"GLOBAL: {train.eval_function_single_sk(model,dl_eval[task])}\",'\\n')\n",
    "    print(f\"Using scikit learn accuracy por género en el conjunto {task}\")\n",
    "    print(f\"MALE {train.eval_function_single_sk(model,dl_eval[task],gender='male')}\")\n",
    "    print(f\"FEMALE {train.eval_function_single_sk(model,dl_eval[task],gender='female')}\",'\\n')"
   ]
  },
  {
   "attachments": {},
   "cell_type": "markdown",
   "metadata": {},
   "source": [
    "## AS"
   ]
  },
  {
   "cell_type": "code",
   "execution_count": 22,
   "metadata": {},
   "outputs": [],
   "source": [
    "model = rrnn.SingleTaskRRNN2(emb_dim,vocab_size,lstm_hidden_dim,emb_weights=word2vec_model.vectors).to(device)\n",
    "save_path='m1_rrnn_simple_as_adam_w2v'"
   ]
  },
  {
   "cell_type": "code",
   "execution_count": 23,
   "metadata": {},
   "outputs": [
    {
     "data": {
      "application/vnd.jupyter.widget-view+json": {
       "model_id": "6681ec7cadbc41f28558516abed776bb",
       "version_major": 2,
       "version_minor": 0
      },
      "text/plain": [
       "  0%|          | 0/57400 [00:00<?, ?it/s]"
      ]
     },
     "metadata": {},
     "output_type": "display_data"
    },
    {
     "name": "stdout",
     "output_type": "stream",
     "text": [
      "Epoch 1 \t Training loss: 0.6931726204601314 \t Validation loss: 0.6928469649815964 \t \n",
      "  1%|          | 574/57400 [00:10<07:36, 124.54it/s]\n",
      "Epoch 2 \t Training loss: 0.6930691427470085 \t Validation loss: 0.6926653607416962 \t \n",
      "  2%|▏         | 1148/57400 [00:20<08:06, 115.56it/s]\n",
      "Epoch 3 \t Training loss: 0.692876933655257 \t Validation loss: 0.6925039412611622 \t \n",
      "  3%|▎         | 1722/57400 [00:30<07:15, 127.92it/s]\n",
      "Epoch 4 \t Training loss: 0.6918146585338207 \t Validation loss: 0.6930496854297186 \t \n",
      "  4%|▍         | 2296/57400 [00:34<07:20, 125.14it/s]\n",
      "Epoch 5 \t Training loss: 0.6893772690553699 \t Validation loss: 0.6928401286319151 \t \n",
      "  5%|▌         | 2870/57400 [00:39<08:03, 112.71it/s]\n",
      "Epoch 6 \t Training loss: 0.6889870350576859 \t Validation loss: 0.69051048614211 \t \n",
      "  6%|▌         | 3444/57400 [00:49<06:44, 133.41it/s]\n",
      "Epoch 7 \t Training loss: 0.6881371473809152 \t Validation loss: 0.694483491323762 \t \n",
      "\n",
      "1 epoch without improvement\n",
      "  7%|▋         | 4018/57400 [00:54<06:27, 137.89it/s]\n",
      "Epoch 8 \t Training loss: 0.6875190527181592 \t Validation loss: 0.6927009204686698 \t \n",
      "\n",
      "2 epoch without improvement\n",
      "  8%|▊         | 4592/57400 [00:58<07:30, 117.17it/s]\n",
      "Epoch 9 \t Training loss: 0.6874990757126426 \t Validation loss: 0.6914565047975314 \t \n",
      "  9%|▉         | 5166/57400 [01:03<06:34, 132.55it/s]\n",
      "Epoch 10 \t Training loss: 0.6873729616299739 \t Validation loss: 0.6929678492626902 \t \n",
      "\n",
      "3 epoch without improvement\n",
      " 10%|█         | 5740/57400 [01:08<06:08, 140.03it/s]\n",
      "Epoch 11 \t Training loss: 0.68714479951493 \t Validation loss: 0.6927406090801045 \t \n",
      "\n",
      "4 epoch without improvement\n",
      " 11%|█         | 6314/57400 [01:12<06:22, 133.42it/s]\n",
      "Epoch 12 \t Training loss: 0.6861842206130875 \t Validation loss: 0.6913038623535027 \t \n",
      " 12%|█▏        | 6888/57400 [01:17<06:34, 128.06it/s]\n",
      "Epoch 13 \t Training loss: 0.6865908365424086 \t Validation loss: 0.6935094928337355 \t \n",
      "\n",
      "5 epoch without improvement\n",
      " 13%|█▎        | 7462/57400 [01:22<06:57, 119.51it/s]\n",
      "Epoch 14 \t Training loss: 0.6865431459730926 \t Validation loss: 0.6922993063926697 \t \n",
      "\n",
      "6 epoch without improvement\n",
      " 14%|█▍        | 8036/57400 [01:27<06:11, 132.70it/s]\n",
      "Epoch 15 \t Training loss: 0.6866958163133482 \t Validation loss: 0.6929493910175258 \t \n",
      "\n",
      "7 epoch without improvement\n",
      " 15%|█▌        | 8610/57400 [01:32<06:40, 121.93it/s]\n",
      "Epoch 16 \t Training loss: 0.6864423778829675 \t Validation loss: 0.6925823486457436 \t \n",
      "\n",
      "8 epoch without improvement\n",
      " 16%|█▌        | 9184/57400 [01:37<06:20, 126.65it/s]\n",
      "Epoch 17 \t Training loss: 0.6858186624191364 \t Validation loss: 0.6926329812761081 \t \n",
      "\n",
      "9 epoch without improvement\n",
      " 17%|█▋        | 9758/57400 [01:42<06:23, 124.34it/s]\n",
      "Epoch 18 \t Training loss: 0.6857147652928423 \t Validation loss: 0.6932856056649807 \t \n",
      "\n",
      "10 epoch without improvement\n",
      "Validation_loss hasn't improve in 10 epoch. Stopping training after 18 epochs...\n"
     ]
    },
    {
     "data": {
      "image/png": "[encoded data removed]",
      "text/plain": [
       "<Figure size 640x480 with 1 Axes>"
      ]
     },
     "metadata": {},
     "output_type": "display_data"
    }
   ],
   "source": [
    "learning_rate = 5e-5\n",
    "optimizer = AdamW(model.parameters(), lr=learning_rate)\n",
    "num_epochs = 100\n",
    "\n",
    "train.train_function(model,num_epochs,dl_train['as'],optimizer,early_stop=10,dl_val=dl_val['as'],save_path=save_path)"
   ]
  },
  {
   "cell_type": "code",
   "execution_count": null,
   "metadata": {},
   "outputs": [],
   "source": [
    "del model\n",
    "torch.cuda.empty_cache() "
   ]
  },
  {
   "cell_type": "code",
   "execution_count": 30,
   "metadata": {},
   "outputs": [],
   "source": [
    "with torch.no_grad():\n",
    "    torch.cuda.empty_cache()"
   ]
  },
  {
   "cell_type": "code",
   "execution_count": 12,
   "metadata": {},
   "outputs": [
    {
     "name": "stdout",
     "output_type": "stream",
     "text": [
      "GLOBAL: 0.6632653061224489 \n",
      "\n",
      "Using scikit learn accuracy por género en el conjunto about\n",
      "MALE 0.4947916666666667\n",
      "FEMALE 0.825 \n",
      "\n",
      "GLOBAL: 0.5277777777777778 \n",
      "\n",
      "Using scikit learn accuracy por género en el conjunto to\n",
      "MALE 0.3722627737226277\n",
      "FEMALE 0.6955380577427821 \n",
      "\n",
      "GLOBAL: 0.5932203389830508 \n",
      "\n",
      "Using scikit learn accuracy por género en el conjunto as\n",
      "MALE 0.3888888888888889\n",
      "FEMALE 0.8113207547169812 \n",
      "\n"
     ]
    }
   ],
   "source": [
    "model = rrnn.SingleTaskRRNN2(emb_dim,vocab_size,lstm_hidden_dim,emb_weights=word2vec_model.vectors).to(device)\n",
    "save_path='m1_rrnn_simple_as_adam_w2v'\n",
    "model.load_state_dict(torch.load(save_path))\n",
    "\n",
    "for task in ['about','to','as']:\n",
    "    print(f\"GLOBAL: {train.eval_function_single_sk(model,dl_eval[task])}\",'\\n')\n",
    "    print(f\"Using scikit learn accuracy por género en el conjunto {task}\")\n",
    "    print(f\"MALE {train.eval_function_single_sk(model,dl_eval[task],gender='male')}\")\n",
    "    print(f\"FEMALE {train.eval_function_single_sk(model,dl_eval[task],gender='female')}\",'\\n')"
   ]
  }
 ],
 "metadata": {
  "kernelspec": {
   "display_name": "tfg",
   "language": "python",
   "name": "python3"
  },
  "language_info": {
   "codemirror_mode": {
    "name": "ipython",
    "version": 3
   },
   "file_extension": ".py",
   "mimetype": "text/x-python",
   "name": "python",
   "nbconvert_exporter": "python",
   "pygments_lexer": "ipython3",
   "version": "3.9.13"
  },
  "orig_nbformat": 4
 },
 "nbformat": 4,
 "nbformat_minor": 2
}
