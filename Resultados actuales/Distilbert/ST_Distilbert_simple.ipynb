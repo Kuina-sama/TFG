{
 "cells": [
  {
   "cell_type": "code",
   "execution_count": 1,
   "metadata": {},
   "outputs": [],
   "source": [
    "import numpy as np\n",
    "import torch\n",
    "\n",
    "\n",
    "import json\n",
    "from torch.utils.data import DataLoader\n",
    "from torch.optim import SGD \n",
    "from torch import nn"
   ]
  },
  {
   "cell_type": "code",
   "execution_count": 2,
   "metadata": {},
   "outputs": [],
   "source": [
    "import utils_generic as generic\n",
    "import singletask_simple as st\n",
    "import model_confs as confs\n",
    "\n",
    "\n",
    "import train"
   ]
  },
  {
   "cell_type": "code",
   "execution_count": 3,
   "metadata": {},
   "outputs": [
    {
     "data": {
      "text/plain": [
       "<torch._C.Generator at 0x12cb6c695d0>"
      ]
     },
     "execution_count": 3,
     "metadata": {},
     "output_type": "execute_result"
    }
   ],
   "source": [
    "device = torch.device(\"cuda\") if torch.cuda.is_available() else torch.device(\"cpu\")\n",
    "torch.manual_seed(27)"
   ]
  },
  {
   "cell_type": "code",
   "execution_count": 4,
   "metadata": {},
   "outputs": [],
   "source": [
    "model_conf = confs.distilbert_conf"
   ]
  },
  {
   "attachments": {},
   "cell_type": "markdown",
   "metadata": {},
   "source": [
    "# Datos ConvAI2"
   ]
  },
  {
   "cell_type": "code",
   "execution_count": 5,
   "metadata": {},
   "outputs": [],
   "source": [
    "with open('Datasets\\ConvAI2\\convai2_complete.json','r') as f:\n",
    "    data = json.load(f)"
   ]
  },
  {
   "cell_type": "code",
   "execution_count": 6,
   "metadata": {},
   "outputs": [],
   "source": [
    "convai_train = data['train']\n",
    "convai_val = data['validation']\n",
    "\n",
    "\n",
    "\n",
    "convai_train_token = generic.tokenize_dataset(convai_train,['about','to','as'],model_conf) \n",
    "convai_val_token = generic.tokenize_dataset(convai_val,['about','to','as'],model_conf) "
   ]
  },
  {
   "cell_type": "code",
   "execution_count": 7,
   "metadata": {},
   "outputs": [],
   "source": [
    "convai_train_dataset = {}\n",
    "for task in ['to','as','about']:\n",
    "    convai_train_dataset[task] = st.DatasetSingleTaskSimple(convai_train_token,task,eval=False)"
   ]
  },
  {
   "cell_type": "code",
   "execution_count": 8,
   "metadata": {},
   "outputs": [],
   "source": [
    "convai_val_dataset = {}\n",
    "for task in ['to','as','about']:\n",
    "    convai_val_dataset[task] = st.DatasetSingleTaskSimple(convai_val_token,task,eval=False)"
   ]
  },
  {
   "attachments": {},
   "cell_type": "markdown",
   "metadata": {},
   "source": [
    "## Datos md_gender"
   ]
  },
  {
   "cell_type": "code",
   "execution_count": 9,
   "metadata": {},
   "outputs": [],
   "source": [
    "with open('Datasets\\md_gender\\md_complete.json','r',encoding=\"utf8\") as f:\n",
    "    md_data = json.load(f)"
   ]
  },
  {
   "cell_type": "code",
   "execution_count": 10,
   "metadata": {},
   "outputs": [],
   "source": [
    "md_tokenized = generic.tokenize_dataset(md_data,['about','to','as'],model_conf) \n",
    "\n",
    "\n",
    "md_dataset = {}\n",
    "for task in ['to','as','about']:\n",
    "    md_dataset[task] = st.DatasetSingleTaskSimple(md_tokenized,task,eval=True)"
   ]
  },
  {
   "attachments": {},
   "cell_type": "markdown",
   "metadata": {},
   "source": [
    "# Creación dataloaders"
   ]
  },
  {
   "cell_type": "code",
   "execution_count": 11,
   "metadata": {},
   "outputs": [],
   "source": [
    "dl_train = {}\n",
    "for task in ['to','as','about']:\n",
    "    dl_train[task] = DataLoader(convai_train_dataset[task],batch_size=128,shuffle=True,collate_fn=st.collate_fn)"
   ]
  },
  {
   "cell_type": "code",
   "execution_count": 12,
   "metadata": {},
   "outputs": [],
   "source": [
    "dl_val = {}\n",
    "for task in ['to','as','about']:\n",
    "    dl_val[task] = DataLoader(convai_val_dataset[task],batch_size=128,shuffle=True,collate_fn=st.collate_fn)"
   ]
  },
  {
   "cell_type": "code",
   "execution_count": 13,
   "metadata": {},
   "outputs": [],
   "source": [
    "dl_eval = {}\n",
    "for task in ['to','as','about']:\n",
    "    dl_eval[task] = DataLoader(md_dataset[task],batch_size=128,shuffle=False,collate_fn=st.collate_fn)"
   ]
  },
  {
   "attachments": {},
   "cell_type": "markdown",
   "metadata": {},
   "source": [
    "# ABOUT"
   ]
  },
  {
   "cell_type": "code",
   "execution_count": 14,
   "metadata": {},
   "outputs": [
    {
     "name": "stderr",
     "output_type": "stream",
     "text": [
      "Some weights of the model checkpoint at distilbert-base-cased were not used when initializing DistilBertModel: ['vocab_transform.bias', 'vocab_transform.weight', 'vocab_layer_norm.bias', 'vocab_projector.bias', 'vocab_layer_norm.weight', 'vocab_projector.weight']\n",
      "- This IS expected if you are initializing DistilBertModel from the checkpoint of a model trained on another task or with another architecture (e.g. initializing a BertForSequenceClassification model from a BertForPreTraining model).\n",
      "- This IS NOT expected if you are initializing DistilBertModel from the checkpoint of a model that you expect to be exactly identical (initializing a BertForSequenceClassification model from a BertForSequenceClassification model).\n"
     ]
    }
   ],
   "source": [
    "model = st.SingleTaskSimple(model_conf).to(device)\n",
    "save_path='m1_distilbert_ABOUT'"
   ]
  },
  {
   "cell_type": "code",
   "execution_count": 16,
   "metadata": {},
   "outputs": [
    {
     "name": "stdout",
     "output_type": "stream",
     "text": [
      "Using scikit learn accuracy por género en el conjunto about\n",
      "GLOBAL: 0.4885204081632653\n",
      "MALE 0.9973958333333334\n",
      "FEMALE 0.0 \n",
      "\n",
      "Using scikit learn accuracy por género en el conjunto to\n",
      "GLOBAL: 0.5189393939393939\n",
      "MALE 1.0\n",
      "FEMALE 0.0 \n",
      "\n",
      "Using scikit learn accuracy por género en el conjunto as\n",
      "GLOBAL: 0.516297262059974\n",
      "MALE 1.0\n",
      "FEMALE 0.0 \n",
      "\n"
     ]
    }
   ],
   "source": [
    "for task in ['about','to','as']:\n",
    "    print(f\"Using scikit learn accuracy por género en el conjunto {task}\")\n",
    "    print(f\"GLOBAL: {train.eval_function_single_sk(model,dl_eval[task])}\")\n",
    "    print(f\"MALE {train.eval_function_single_sk(model,dl_eval[task],gender='male')}\")\n",
    "    print(f\"FEMALE {train.eval_function_single_sk(model,dl_eval[task],gender='female')}\",'\\n')"
   ]
  },
  {
   "cell_type": "code",
   "execution_count": 16,
   "metadata": {},
   "outputs": [
    {
     "data": {
      "application/vnd.jupyter.widget-view+json": {
       "model_id": "fb74b7f8fc8546f4a720ed68e4a8d262",
       "version_major": 2,
       "version_minor": 0
      },
      "text/plain": [
       "  0%|          | 0/57400 [00:00<?, ?it/s]"
      ]
     },
     "metadata": {},
     "output_type": "display_data"
    },
    {
     "name": "stdout",
     "output_type": "stream",
     "text": [
      "Epoch 1 \t Training loss: 0.6817112048951591 \t Validation loss: 0.6816308498382568 \t \n",
      "  1%|          | 574/57400 [01:56<3:04:26,  5.14it/s]\n",
      "Epoch 2 \t Training loss: 0.6758975176861062 \t Validation loss: 0.6730258091021393 \t \n",
      "  2%|▏         | 1148/57400 [03:56<3:10:58,  4.91it/s]\n",
      "Epoch 3 \t Training loss: 0.6544714012420136 \t Validation loss: 0.6283614231368243 \t \n",
      "  3%|▎         | 1722/57400 [05:57<3:08:03,  4.93it/s]\n",
      "Epoch 4 \t Training loss: 0.5698747286501662 \t Validation loss: 0.5007820967900551 \t \n",
      "  4%|▍         | 2296/57400 [08:00<3:13:31,  4.75it/s]\n",
      "Epoch 5 \t Training loss: 0.47325154266706326 \t Validation loss: 0.4344564928846844 \t \n",
      "  5%|▌         | 2870/57400 [10:01<3:00:27,  5.04it/s]\n",
      "Epoch 6 \t Training loss: 0.42492493852090335 \t Validation loss: 0.39405776535050346 \t \n",
      "  6%|▌         | 3444/57400 [12:02<3:03:45,  4.89it/s]\n",
      "Epoch 7 \t Training loss: 0.39939559336738717 \t Validation loss: 0.3753323368096756 \t \n",
      "  7%|▋         | 4018/57400 [14:04<3:04:21,  4.83it/s]\n",
      "Epoch 8 \t Training loss: 0.384207550890562 \t Validation loss: 0.363575923745915 \t \n",
      "  8%|▊         | 4592/57400 [16:04<2:28:41,  5.92it/s]\n",
      "Epoch 9 \t Training loss: 0.3717275111569345 \t Validation loss: 0.3570443088725462 \t \n",
      "  9%|▉         | 5166/57400 [18:05<3:09:32,  4.59it/s]\n",
      "Epoch 10 \t Training loss: 0.36251777862214873 \t Validation loss: 0.351699383582099 \t \n",
      " 10%|█         | 5740/57400 [20:07<3:01:10,  4.75it/s]\n",
      "Epoch 11 \t Training loss: 0.35397690023175515 \t Validation loss: 0.3441158866478225 \t \n",
      " 11%|█         | 6314/57400 [22:08<2:56:20,  4.83it/s]\n",
      "Epoch 12 \t Training loss: 0.34952794934399034 \t Validation loss: 0.3402448003574953 \t \n",
      " 12%|█▏        | 6888/57400 [24:08<2:51:01,  4.92it/s]\n",
      "Epoch 13 \t Training loss: 0.34282628553254263 \t Validation loss: 0.33780076392626357 \t \n",
      " 13%|█▎        | 7462/57400 [27:00<4:05:55,  3.38it/s]\n",
      "Epoch 14 \t Training loss: 0.33856189061436504 \t Validation loss: 0.3344521785186509 \t \n",
      " 14%|█▍        | 8036/57400 [29:49<4:13:25,  3.25it/s]\n",
      "Epoch 15 \t Training loss: 0.3325517697045612 \t Validation loss: 0.3312609832165605 \t \n",
      " 15%|█▌        | 8610/57400 [32:23<2:36:38,  5.19it/s]\n",
      "Epoch 16 \t Training loss: 0.3291525958359034 \t Validation loss: 0.3292061065213155 \t \n",
      " 16%|█▌        | 9184/57400 [34:45<3:13:45,  4.15it/s]\n",
      "Epoch 17 \t Training loss: 0.324917062831465 \t Validation loss: 0.325495071582875 \t \n",
      " 17%|█▋        | 9758/57400 [37:11<3:24:37,  3.88it/s]\n",
      "Epoch 18 \t Training loss: 0.31906556299131505 \t Validation loss: 0.3258574301913633 \t \n",
      " 18%|█▊        | 10332/57400 [39:39<3:13:23,  4.06it/s]\n",
      "Epoch 19 \t Training loss: 0.31833550710399805 \t Validation loss: 0.3207785315432791 \t \n",
      " 19%|█▉        | 10906/57400 [42:06<3:14:40,  3.98it/s]\n",
      "Epoch 20 \t Training loss: 0.3136364601111163 \t Validation loss: 0.3219812320450605 \t \n",
      "\n",
      "1 epoch without improvement\n",
      " 20%|██        | 11480/57400 [44:29<2:58:21,  4.29it/s]\n",
      "Epoch 21 \t Training loss: 0.31153586460115185 \t Validation loss: 0.321100988125397 \t \n",
      " 21%|██        | 12054/57400 [46:52<2:30:40,  5.02it/s]\n",
      "Epoch 22 \t Training loss: 0.3077540703195728 \t Validation loss: 0.31757653517238166 \t \n",
      " 22%|██▏       | 12628/57400 [49:24<3:37:51,  3.43it/s]\n",
      "Epoch 23 \t Training loss: 0.30508511310981956 \t Validation loss: 0.31579839147753636 \t \n",
      " 23%|██▎       | 13202/57400 [52:11<2:23:52,  5.12it/s]\n",
      "Epoch 24 \t Training loss: 0.3024193923076686 \t Validation loss: 0.31502403773493687 \t \n",
      " 24%|██▍       | 13776/57400 [54:31<3:33:16,  3.41it/s]\n",
      "Epoch 25 \t Training loss: 0.3008648499534936 \t Validation loss: 0.3120675536535554 \t \n",
      " 25%|██▌       | 14350/57400 [56:53<2:54:00,  4.12it/s]\n",
      "Epoch 26 \t Training loss: 0.2985011912389084 \t Validation loss: 0.3141613837520955 \t \n",
      "\n",
      "1 epoch without improvement\n",
      " 26%|██▌       | 14924/57400 [59:19<2:23:02,  4.95it/s]\n",
      "Epoch 27 \t Training loss: 0.29538316095332234 \t Validation loss: 0.31093114235643615 \t \n",
      " 27%|██▋       | 15498/57400 [1:01:45<2:19:13,  5.02it/s]\n",
      "Epoch 28 \t Training loss: 0.2937929409098542 \t Validation loss: 0.312244032146567 \t \n",
      "\n",
      "1 epoch without improvement\n",
      " 28%|██▊       | 16072/57400 [1:04:10<2:12:56,  5.18it/s]\n",
      "Epoch 29 \t Training loss: 0.29091166813926 \t Validation loss: 0.3099834355762449 \t \n",
      " 29%|██▉       | 16646/57400 [1:06:31<2:13:35,  5.08it/s]\n",
      "Epoch 30 \t Training loss: 0.28983066093423226 \t Validation loss: 0.3078558566206593 \t \n",
      " 30%|███       | 17220/57400 [1:08:57<2:42:48,  4.11it/s]\n",
      "Epoch 31 \t Training loss: 0.28624912662892393 \t Validation loss: 0.3086389588602519 \t \n",
      " 31%|███       | 17794/57400 [1:11:18<2:12:59,  4.96it/s]\n",
      "Epoch 32 \t Training loss: 0.28530628070598696 \t Validation loss: 0.3081890498682604 \t \n",
      " 32%|███▏      | 18368/57400 [1:27:59<2:28:59,  4.37it/s]\n",
      "Epoch 33 \t Training loss: 0.283543393197583 \t Validation loss: 0.3074621058116525 \t \n",
      " 33%|███▎      | 18942/57400 [1:30:48<3:09:31,  3.38it/s]\n",
      "Epoch 34 \t Training loss: 0.28280904385478656 \t Validation loss: 0.3077085227784464 \t \n",
      " 34%|███▍      | 19516/57400 [1:33:37<2:32:42,  4.13it/s]\n",
      "Epoch 35 \t Training loss: 0.27894210451986734 \t Validation loss: 0.3062624009483952 \t \n",
      " 35%|███▌      | 20090/57400 [1:36:09<2:36:14,  3.98it/s]\n",
      "Epoch 36 \t Training loss: 0.27811891928263244 \t Validation loss: 0.30536102996034137 \t \n",
      " 36%|███▌      | 20664/57400 [1:39:01<2:45:02,  3.71it/s]\n",
      "Epoch 37 \t Training loss: 0.27604168552243336 \t Validation loss: 0.3040802574763864 \t \n",
      " 37%|███▋      | 21238/57400 [1:41:51<2:34:56,  3.89it/s]\n",
      "Epoch 38 \t Training loss: 0.27587675874345396 \t Validation loss: 0.30943924946300055 \t \n",
      "\n",
      "1 epoch without improvement\n",
      " 38%|███▊      | 21812/57400 [1:44:32<2:05:08,  4.74it/s]\n",
      "Epoch 39 \t Training loss: 0.2729201043472473 \t Validation loss: 0.3028517736721847 \t \n",
      " 39%|███▉      | 22386/57400 [1:46:37<1:48:47,  5.36it/s]\n",
      "Epoch 40 \t Training loss: 0.2722885254575816 \t Validation loss: 0.3075843832250369 \t \n",
      "\n",
      "1 epoch without improvement\n",
      " 40%|████      | 22960/57400 [1:48:40<1:56:28,  4.93it/s]\n",
      "Epoch 41 \t Training loss: 0.27264729246029873 \t Validation loss: 0.3032349272299621 \t \n",
      " 41%|████      | 23534/57400 [1:50:39<1:50:20,  5.12it/s]\n",
      "Epoch 42 \t Training loss: 0.2680616209523603 \t Validation loss: 0.30176487741834024 \t \n",
      " 42%|████▏     | 24108/57400 [1:52:39<1:45:40,  5.25it/s]\n",
      "Epoch 43 \t Training loss: 0.26789967253648445 \t Validation loss: 0.3047691449775534 \t \n",
      "\n",
      "1 epoch without improvement\n",
      " 43%|████▎     | 24682/57400 [1:54:56<2:22:23,  3.83it/s]\n",
      "Epoch 44 \t Training loss: 0.2657450904829577 \t Validation loss: 0.3026171276124857 \t \n",
      " 44%|████▍     | 25256/57400 [1:57:16<1:54:02,  4.70it/s]\n",
      "Epoch 45 \t Training loss: 0.26408702472568807 \t Validation loss: 0.30119545631489514 \t \n",
      " 45%|████▌     | 25830/57400 [1:59:22<1:47:12,  4.91it/s]\n",
      "Epoch 46 \t Training loss: 0.26151022665488177 \t Validation loss: 0.30329747649572664 \t \n",
      "\n",
      "1 epoch without improvement\n",
      " 46%|████▌     | 26404/57400 [2:01:35<2:37:29,  3.28it/s]\n",
      "Epoch 47 \t Training loss: 0.26158391206625864 \t Validation loss: 0.30093683731757986 \t \n",
      " 47%|████▋     | 26978/57400 [2:04:22<2:03:33,  4.10it/s]\n",
      "Epoch 48 \t Training loss: 0.2620083418924634 \t Validation loss: 0.3005019067707708 \t \n",
      " 48%|████▊     | 27552/57400 [2:06:54<1:43:02,  4.83it/s]\n",
      "Epoch 49 \t Training loss: 0.25905978575816135 \t Validation loss: 0.30004978483006106 \t \n",
      " 49%|████▉     | 28126/57400 [2:09:25<1:51:36,  4.37it/s]\n",
      "Epoch 50 \t Training loss: 0.25811072989311784 \t Validation loss: 0.3007559963202072 \t \n",
      " 50%|█████     | 28700/57400 [2:12:06<1:58:14,  4.05it/s]\n",
      "Epoch 51 \t Training loss: 0.2588413944954656 \t Validation loss: 0.3001077417599953 \t \n",
      " 51%|█████     | 29274/57400 [2:15:06<2:26:26,  3.20it/s]\n",
      "Epoch 52 \t Training loss: 0.2564012741845244 \t Validation loss: 0.29895727664737376 \t \n",
      " 52%|█████▏    | 29848/57400 [2:17:17<1:29:25,  5.13it/s]\n",
      "Epoch 53 \t Training loss: 0.2538909120063333 \t Validation loss: 0.3016034857196323 \t \n",
      "\n",
      "1 epoch without improvement\n",
      " 53%|█████▎    | 30422/57400 [2:19:14<1:40:24,  4.48it/s]\n",
      "Epoch 54 \t Training loss: 0.2556955354865835 \t Validation loss: 0.3021821159932573 \t \n",
      "\n",
      "2 epoch without improvement\n",
      " 54%|█████▍    | 30996/57400 [2:21:16<1:56:15,  3.78it/s]\n",
      "Epoch 55 \t Training loss: 0.2527957575246432 \t Validation loss: 0.3007956051220328 \t \n",
      "\n",
      "3 epoch without improvement\n",
      " 55%|█████▌    | 31570/57400 [2:23:21<1:38:00,  4.39it/s]\n",
      "Epoch 56 \t Training loss: 0.2513187098793867 \t Validation loss: 0.2998358241077197 \t \n",
      " 56%|█████▌    | 32144/57400 [2:25:25<1:39:57,  4.21it/s]\n",
      "Epoch 57 \t Training loss: 0.2510786539378482 \t Validation loss: 0.3015297302755259 \t \n",
      "\n",
      "4 epoch without improvement\n",
      " 57%|█████▋    | 32718/57400 [2:27:21<1:18:04,  5.27it/s]\n",
      "Epoch 58 \t Training loss: 0.24987479748418523 \t Validation loss: 0.2999069657871279 \t \n",
      " 58%|█████▊    | 33292/57400 [2:29:18<1:13:49,  5.44it/s]\n",
      "Epoch 59 \t Training loss: 0.2509484926842231 \t Validation loss: 0.3003118545827219 \t \n",
      "\n",
      "5 epoch without improvement\n",
      " 59%|█████▉    | 33866/57400 [2:31:20<1:35:49,  4.09it/s]\n",
      "Epoch 60 \t Training loss: 0.2489911960470344 \t Validation loss: 0.3008869563118886 \t \n",
      "\n",
      "6 epoch without improvement\n",
      " 60%|██████    | 34440/57400 [2:33:20<1:46:44,  3.59it/s]\n",
      "Epoch 61 \t Training loss: 0.24598767878390354 \t Validation loss: 0.3011658840765387 \t \n",
      "\n",
      "7 epoch without improvement\n",
      " 61%|██████    | 35014/57400 [2:35:21<1:12:02,  5.18it/s]\n",
      "Epoch 62 \t Training loss: 0.2471557386764666 \t Validation loss: 0.2991600450822863 \t \n",
      " 62%|██████▏   | 35588/57400 [2:37:19<58:25,  6.22it/s]\n",
      "Epoch 63 \t Training loss: 0.2457986659133476 \t Validation loss: 0.29970897607884167 \t \n",
      " 63%|██████▎   | 36162/57400 [2:39:12<55:57,  6.33it/s]\n",
      "Epoch 64 \t Training loss: 0.2455487052686123 \t Validation loss: 0.2998726706383592 \t \n",
      " 64%|██████▍   | 36736/57400 [2:41:05<1:12:11,  4.77it/s]\n",
      "Epoch 65 \t Training loss: 0.24419870614382447 \t Validation loss: 0.3025194148896104 \t \n",
      "\n",
      "8 epoch without improvement\n",
      " 65%|██████▌   | 37310/57400 [2:43:04<1:05:31,  5.11it/s]\n",
      "Epoch 66 \t Training loss: 0.2430351406128149 \t Validation loss: 0.2987393441341691 \t \n",
      " 66%|██████▌   | 37884/57400 [2:45:06<1:05:21,  4.98it/s]\n",
      "Epoch 67 \t Training loss: 0.24388145437327827 \t Validation loss: 0.29868747142411894 \t \n",
      " 67%|██████▋   | 38458/57400 [2:47:16<1:24:15,  3.75it/s]\n",
      "Epoch 68 \t Training loss: 0.24363417486020914 \t Validation loss: 0.298102566246259 \t \n",
      " 68%|██████▊   | 39032/57400 [2:49:38<45:34,  6.72it/s]\n",
      "Epoch 69 \t Training loss: 0.23937696119841798 \t Validation loss: 0.29891891045085456 \t \n",
      " 69%|██████▉   | 39606/57400 [2:51:38<55:42,  5.32it/s]\n",
      "Epoch 70 \t Training loss: 0.2418625395005173 \t Validation loss: 0.29945999510207416 \t \n",
      "\n",
      "1 epoch without improvement\n",
      " 70%|███████   | 40180/57400 [2:54:05<1:18:11,  3.67it/s]\n",
      "Epoch 71 \t Training loss: 0.24048911072703189 \t Validation loss: 0.3022563482745219 \t \n",
      "\n",
      "2 epoch without improvement\n",
      " 71%|███████   | 40754/57400 [2:56:41<58:10,  4.77it/s]\n",
      "Epoch 72 \t Training loss: 0.2417312455899001 \t Validation loss: 0.299464981687271 \t \n",
      "\n",
      "3 epoch without improvement\n",
      " 72%|███████▏  | 41328/57400 [2:58:41<1:00:12,  4.45it/s]\n",
      "Epoch 73 \t Training loss: 0.2382401368395792 \t Validation loss: 0.30130384635117097 \t \n",
      "\n",
      "4 epoch without improvement\n",
      " 73%|███████▎  | 41902/57400 [3:00:43<50:30,  5.11it/s]\n",
      "Epoch 74 \t Training loss: 0.23843635889970882 \t Validation loss: 0.29891515788385425 \t \n",
      " 74%|███████▍  | 42476/57400 [3:02:38<1:04:48,  3.84it/s]\n",
      "Epoch 75 \t Training loss: 0.23750451055293714 \t Validation loss: 0.29855620431697977 \t \n",
      " 75%|███████▌  | 43050/57400 [3:04:33<37:03,  6.45it/s]\n",
      "Epoch 76 \t Training loss: 0.23740973802549498 \t Validation loss: 0.3002579088433314 \t \n",
      "\n",
      "5 epoch without improvement\n",
      " 76%|███████▌  | 43624/57400 [3:06:29<45:22,  5.06it/s]\n",
      "Epoch 77 \t Training loss: 0.23630186009386275 \t Validation loss: 0.3025116094593274 \t \n",
      "\n",
      "6 epoch without improvement\n",
      " 77%|███████▋  | 44198/57400 [3:08:28<36:24,  6.04it/s]\n",
      "Epoch 78 \t Training loss: 0.23971136449106065 \t Validation loss: 0.299895913671639 \t \n",
      "\n",
      "7 epoch without improvement\n",
      " 78%|███████▊  | 44772/57400 [3:10:28<41:49,  5.03it/s]\n",
      "Epoch 79 \t Training loss: 0.23622242197757815 \t Validation loss: 0.30010692522687427 \t \n",
      "\n",
      "8 epoch without improvement\n",
      " 79%|███████▉  | 45346/57400 [3:12:28<33:16,  6.04it/s]\n",
      "Epoch 80 \t Training loss: 0.23636470444318725 \t Validation loss: 0.30000286183114777 \t \n",
      "\n",
      "9 epoch without improvement\n",
      " 80%|████████  | 45920/57400 [3:14:26<38:58,  4.91it/s]\n",
      "Epoch 81 \t Training loss: 0.23451263271921188 \t Validation loss: 0.2983496623524165 \t \n",
      " 81%|████████  | 46494/57400 [3:16:26<36:05,  5.04it/s]\n",
      "Epoch 82 \t Training loss: 0.23605029591284563 \t Validation loss: 0.29961153536529866 \t \n",
      "\n",
      "10 epoch without improvement\n",
      "Validation_loss hasn't improve in 10 epoch. Stopping training after 82 epochs...\n"
     ]
    },
    {
     "data": {
      "image/png": "[encoded data removed]",
      "text/plain": [
       "<Figure size 640x480 with 1 Axes>"
      ]
     },
     "metadata": {},
     "output_type": "display_data"
    }
   ],
   "source": [
    "learning_rate = 5e-5\n",
    "optimizer = SGD(model.parameters(), lr=learning_rate, momentum=0.9)\n",
    "num_epochs = 100\n",
    "\n",
    "train.train_function(model,num_epochs,dl_train['about'],optimizer,early_stop=10,dl_val=dl_val['about'],save_path=save_path)"
   ]
  },
  {
   "cell_type": "code",
   "execution_count": 17,
   "metadata": {},
   "outputs": [
    {
     "name": "stderr",
     "output_type": "stream",
     "text": [
      "Some weights of the model checkpoint at distilbert-base-cased were not used when initializing DistilBertModel: ['vocab_transform.bias', 'vocab_transform.weight', 'vocab_layer_norm.bias', 'vocab_projector.bias', 'vocab_layer_norm.weight', 'vocab_projector.weight']\n",
      "- This IS expected if you are initializing DistilBertModel from the checkpoint of a model trained on another task or with another architecture (e.g. initializing a BertForSequenceClassification model from a BertForPreTraining model).\n",
      "- This IS NOT expected if you are initializing DistilBertModel from the checkpoint of a model that you expect to be exactly identical (initializing a BertForSequenceClassification model from a BertForSequenceClassification model).\n"
     ]
    },
    {
     "name": "stdout",
     "output_type": "stream",
     "text": [
      "Using scikit learn accuracy por género en el conjunto about\n",
      "GLOBAL: 0.8469387755102041\n",
      "MALE 0.8463541666666666\n",
      "FEMALE 0.8475 \n",
      "\n",
      "Using scikit learn accuracy por género en el conjunto to\n",
      "GLOBAL: 0.6654040404040404\n",
      "MALE 0.6763990267639902\n",
      "FEMALE 0.6535433070866141 \n",
      "\n",
      "Using scikit learn accuracy por género en el conjunto as\n",
      "GLOBAL: 0.6753585397653195\n",
      "MALE 0.6590909090909091\n",
      "FEMALE 0.692722371967655 \n",
      "\n"
     ]
    }
   ],
   "source": [
    "\n",
    "model = st.SingleTaskSimple(model_conf).to(device)\n",
    "model.load_state_dict(torch.load(save_path))\n",
    "\n",
    "for task in ['about','to','as']:\n",
    "   \n",
    "    print(f\"Using scikit learn accuracy por género en el conjunto {task}\")\n",
    "    print(f\"GLOBAL: {train.eval_function_single_sk(model,dl_eval[task])}\")\n",
    "    print(f\"MALE {train.eval_function_single_sk(model,dl_eval[task],gender='male')}\")\n",
    "    print(f\"FEMALE {train.eval_function_single_sk(model,dl_eval[task],gender='female')}\",'\\n')"
   ]
  },
  {
   "attachments": {},
   "cell_type": "markdown",
   "metadata": {},
   "source": [
    "# TO"
   ]
  },
  {
   "cell_type": "code",
   "execution_count": 14,
   "metadata": {},
   "outputs": [
    {
     "name": "stderr",
     "output_type": "stream",
     "text": [
      "Some weights of the model checkpoint at distilbert-base-cased were not used when initializing DistilBertModel: ['vocab_layer_norm.weight', 'vocab_layer_norm.bias', 'vocab_transform.bias', 'vocab_transform.weight', 'vocab_projector.weight', 'vocab_projector.bias']\n",
      "- This IS expected if you are initializing DistilBertModel from the checkpoint of a model trained on another task or with another architecture (e.g. initializing a BertForSequenceClassification model from a BertForPreTraining model).\n",
      "- This IS NOT expected if you are initializing DistilBertModel from the checkpoint of a model that you expect to be exactly identical (initializing a BertForSequenceClassification model from a BertForSequenceClassification model).\n"
     ]
    }
   ],
   "source": [
    "model = st.SingleTaskSimple(model_conf).to(device)\n",
    "save_path='m1_distilbert_TO'"
   ]
  },
  {
   "cell_type": "code",
   "execution_count": 15,
   "metadata": {},
   "outputs": [
    {
     "data": {
      "application/vnd.jupyter.widget-view+json": {
       "model_id": "652f2cdd10724a0ba9f01eaafedde9bc",
       "version_major": 2,
       "version_minor": 0
      },
      "text/plain": [
       "  0%|          | 0/57400 [00:00<?, ?it/s]"
      ]
     },
     "metadata": {},
     "output_type": "display_data"
    },
    {
     "name": "stdout",
     "output_type": "stream",
     "text": [
      "Epoch 1 \t Training loss: 0.6946276275746083 \t Validation loss: 0.6922617049540504 \t \n",
      "  1%|          | 574/57400 [02:04<3:09:40,  4.99it/s]\n",
      "Epoch 2 \t Training loss: 0.6944033790133141 \t Validation loss: 0.693892678972018 \t \n",
      "\n",
      "1 epoch without improvement\n",
      "  2%|▏         | 1148/57400 [04:02<3:16:50,  4.76it/s]\n",
      "Epoch 3 \t Training loss: 0.6939664893241709 \t Validation loss: 0.6937246393349211 \t \n",
      "\n",
      "2 epoch without improvement\n",
      "  3%|▎         | 1722/57400 [06:01<3:02:05,  5.10it/s]\n",
      "Epoch 4 \t Training loss: 0.6940685151346054 \t Validation loss: 0.6933761885610678 \t \n",
      "\n",
      "3 epoch without improvement\n",
      "  4%|▍         | 2296/57400 [08:01<3:11:48,  4.79it/s]\n",
      "Epoch 5 \t Training loss: 0.6939466834483662 \t Validation loss: 0.6935938364368374 \t \n",
      "\n",
      "4 epoch without improvement\n",
      "  5%|▌         | 2870/57400 [10:02<3:36:17,  4.20it/s]\n",
      "Epoch 6 \t Training loss: 0.6939515924204517 \t Validation loss: 0.6929537098286516 \t \n",
      "  6%|▌         | 3444/57400 [12:04<3:02:38,  4.92it/s]\n",
      "Epoch 7 \t Training loss: 0.69396902449455 \t Validation loss: 0.6931721911591998 \t \n",
      "  7%|▋         | 4018/57400 [14:04<2:56:05,  5.05it/s]\n",
      "Epoch 8 \t Training loss: 0.6937556735106877 \t Validation loss: 0.6926341420513088 \t \n",
      "  8%|▊         | 4592/57400 [16:03<2:58:01,  4.94it/s]\n",
      "Epoch 9 \t Training loss: 0.6940402823665831 \t Validation loss: 0.6937866079605232 \t \n",
      "\n",
      "5 epoch without improvement\n",
      "  9%|▉         | 5166/57400 [18:01<2:19:54,  6.22it/s]\n",
      "Epoch 10 \t Training loss: 0.6938744899703235 \t Validation loss: 0.6944706823866246 \t \n",
      "\n",
      "6 epoch without improvement\n",
      " 10%|█         | 5740/57400 [20:02<2:59:19,  4.80it/s]\n",
      "Epoch 11 \t Training loss: 0.6938509934870624 \t Validation loss: 0.6931729730913194 \t \n",
      " 11%|█         | 6314/57400 [22:03<2:51:10,  4.97it/s]\n",
      "Epoch 12 \t Training loss: 0.6937343452242609 \t Validation loss: 0.6937042111057347 \t \n",
      "\n",
      "7 epoch without improvement\n",
      " 12%|█▏        | 6888/57400 [24:03<2:16:13,  6.18it/s]\n",
      "Epoch 13 \t Training loss: 0.6937038018936064 \t Validation loss: 0.6932216064404633 \t \n",
      " 13%|█▎        | 7462/57400 [26:02<2:47:51,  4.96it/s]\n",
      "Epoch 14 \t Training loss: 0.6935456150084838 \t Validation loss: 0.6927081194974608 \t \n",
      " 14%|█▍        | 8036/57400 [28:00<2:47:47,  4.90it/s]\n",
      "Epoch 15 \t Training loss: 0.6936875333561715 \t Validation loss: 0.6921911108291755 \t \n",
      " 15%|█▌        | 8610/57400 [29:59<2:44:18,  4.95it/s]\n",
      "Epoch 16 \t Training loss: 0.6934940687247685 \t Validation loss: 0.6932236390598749 \t \n",
      "\n",
      "1 epoch without improvement\n",
      " 16%|█▌        | 9184/57400 [31:58<2:48:59,  4.76it/s]\n",
      "Epoch 17 \t Training loss: 0.6935497123605283 \t Validation loss: 0.6932904326309592 \t \n",
      "\n",
      "2 epoch without improvement\n",
      " 17%|█▋        | 9758/57400 [33:57<2:43:05,  4.87it/s]\n",
      "Epoch 18 \t Training loss: 0.6933051374731164 \t Validation loss: 0.6935164241467492 \t \n",
      "\n",
      "3 epoch without improvement\n",
      " 18%|█▊        | 10332/57400 [35:58<2:50:46,  4.59it/s]\n",
      "Epoch 19 \t Training loss: 0.6934883197840913 \t Validation loss: 0.6935316101979401 \t \n",
      "\n",
      "4 epoch without improvement\n",
      " 19%|█▉        | 10906/57400 [37:58<2:37:03,  4.93it/s]\n",
      "Epoch 20 \t Training loss: 0.69348546956059 \t Validation loss: 0.6929591813329923 \t \n",
      " 20%|██        | 11480/57400 [39:57<2:33:58,  4.97it/s]\n",
      "Epoch 21 \t Training loss: 0.6932156601018606 \t Validation loss: 0.6934854549876714 \t \n",
      "\n",
      "5 epoch without improvement\n",
      " 21%|██        | 12054/57400 [41:56<2:32:46,  4.95it/s]\n",
      "Epoch 22 \t Training loss: 0.6933305903178889 \t Validation loss: 0.6925876989202985 \t \n",
      " 22%|██▏       | 12628/57400 [43:55<2:03:46,  6.03it/s]\n",
      "Epoch 23 \t Training loss: 0.6933790021657112 \t Validation loss: 0.692560604063131 \t \n",
      " 23%|██▎       | 13202/57400 [45:54<2:01:07,  6.08it/s]\n",
      "Epoch 24 \t Training loss: 0.6933176217386532 \t Validation loss: 0.6932365086119053 \t \n",
      "\n",
      "6 epoch without improvement\n",
      " 24%|██▍       | 13776/57400 [47:55<2:27:33,  4.93it/s]\n",
      "Epoch 25 \t Training loss: 0.6933058829465394 \t Validation loss: 0.6927110330533173 \t \n",
      " 25%|██▌       | 14350/57400 [49:55<2:01:19,  5.91it/s]\n",
      "Epoch 26 \t Training loss: 0.6933829734549705 \t Validation loss: 0.6933683854038433 \t \n",
      "\n",
      "7 epoch without improvement\n",
      " 26%|██▌       | 14924/57400 [51:57<2:27:48,  4.79it/s]\n",
      "Epoch 27 \t Training loss: 0.6933035977210733 \t Validation loss: 0.6927460866459345 \t \n",
      " 27%|██▋       | 15498/57400 [53:58<2:25:48,  4.79it/s]\n",
      "Epoch 28 \t Training loss: 0.6933354464349847 \t Validation loss: 0.6938947711960745 \t \n",
      "\n",
      "8 epoch without improvement\n",
      " 28%|██▊       | 16072/57400 [55:59<2:26:03,  4.72it/s]\n",
      "Epoch 29 \t Training loss: 0.6933562428486056 \t Validation loss: 0.6930176787457224 \t \n",
      " 29%|██▉       | 16646/57400 [57:57<1:52:29,  6.04it/s]\n",
      "Epoch 30 \t Training loss: 0.6933340875736927 \t Validation loss: 0.6933460680104918 \t \n",
      "\n",
      "9 epoch without improvement\n",
      " 30%|███       | 17220/57400 [59:56<2:22:11,  4.71it/s]\n",
      "Epoch 31 \t Training loss: 0.6933381089142391 \t Validation loss: 0.6932509410179267 \t \n",
      "\n",
      "10 epoch without improvement\n",
      "Validation_loss hasn't improve in 10 epoch. Stopping training after 31 epochs...\n"
     ]
    },
    {
     "data": {
      "image/png": "[encoded data removed]",
      "text/plain": [
       "<Figure size 640x480 with 1 Axes>"
      ]
     },
     "metadata": {},
     "output_type": "display_data"
    }
   ],
   "source": [
    "learning_rate = 5e-5\n",
    "optimizer = SGD(model.parameters(), lr=learning_rate, momentum=0.9)\n",
    "num_epochs = 100\n",
    "\n",
    "train.train_function(model,num_epochs,dl_train['to'],optimizer,early_stop=10,dl_val=dl_val['to'],save_path=save_path)"
   ]
  },
  {
   "cell_type": "code",
   "execution_count": 20,
   "metadata": {},
   "outputs": [
    {
     "name": "stderr",
     "output_type": "stream",
     "text": [
      "Some weights of the model checkpoint at distilbert-base-cased were not used when initializing DistilBertModel: ['vocab_layer_norm.weight', 'vocab_layer_norm.bias', 'vocab_transform.bias', 'vocab_transform.weight', 'vocab_projector.weight', 'vocab_projector.bias']\n",
      "- This IS expected if you are initializing DistilBertModel from the checkpoint of a model trained on another task or with another architecture (e.g. initializing a BertForSequenceClassification model from a BertForPreTraining model).\n",
      "- This IS NOT expected if you are initializing DistilBertModel from the checkpoint of a model that you expect to be exactly identical (initializing a BertForSequenceClassification model from a BertForSequenceClassification model).\n"
     ]
    },
    {
     "name": "stdout",
     "output_type": "stream",
     "text": [
      "GLOBAL: 0.6721938775510204 \n",
      "\n",
      "Using scikit learn accuracy por género en el conjunto about\n",
      "MALE 0.5130208333333334\n",
      "FEMALE 0.825 \n",
      "\n",
      "GLOBAL: 0.6073232323232324 \n",
      "\n",
      "Using scikit learn accuracy por género en el conjunto to\n",
      "MALE 0.48661800486618007\n",
      "FEMALE 0.7375328083989501 \n",
      "\n",
      "GLOBAL: 0.6049543676662321 \n",
      "\n",
      "Using scikit learn accuracy por género en el conjunto as\n",
      "MALE 0.4090909090909091\n",
      "FEMALE 0.8140161725067385 \n",
      "\n"
     ]
    }
   ],
   "source": [
    "model = st.SingleTaskSimple(model_conf).to(device)\n",
    "model.load_state_dict(torch.load(save_path))\n",
    "\n",
    "for task in ['about','to','as']:\n",
    "    print(f\"GLOBAL: {train.eval_function_single_sk(model,dl_eval[task])}\",'\\n')\n",
    "    print(f\"Using scikit learn accuracy por género en el conjunto {task}\")\n",
    "    print(f\"MALE {train.eval_function_single_sk(model,dl_eval[task],gender='male')}\")\n",
    "    print(f\"FEMALE {train.eval_function_single_sk(model,dl_eval[task],gender='female')}\",'\\n')"
   ]
  },
  {
   "attachments": {},
   "cell_type": "markdown",
   "metadata": {},
   "source": [
    "# AS"
   ]
  },
  {
   "cell_type": "code",
   "execution_count": 16,
   "metadata": {},
   "outputs": [
    {
     "name": "stderr",
     "output_type": "stream",
     "text": [
      "Some weights of the model checkpoint at distilbert-base-cased were not used when initializing DistilBertModel: ['vocab_layer_norm.weight', 'vocab_layer_norm.bias', 'vocab_transform.bias', 'vocab_transform.weight', 'vocab_projector.weight', 'vocab_projector.bias']\n",
      "- This IS expected if you are initializing DistilBertModel from the checkpoint of a model trained on another task or with another architecture (e.g. initializing a BertForSequenceClassification model from a BertForPreTraining model).\n",
      "- This IS NOT expected if you are initializing DistilBertModel from the checkpoint of a model that you expect to be exactly identical (initializing a BertForSequenceClassification model from a BertForSequenceClassification model).\n"
     ]
    }
   ],
   "source": [
    "model = st.SingleTaskSimple(model_conf).to(device)\n",
    "save_path='m1_distilbert_AS'"
   ]
  },
  {
   "cell_type": "code",
   "execution_count": 17,
   "metadata": {},
   "outputs": [
    {
     "name": "stdout",
     "output_type": "stream",
     "text": [
      "GLOBAL: 0.4897959183673469 \n",
      "\n",
      "Using scikit learn accuracy por género en el conjunto about\n",
      "MALE 1.0\n",
      "FEMALE 0.0 \n",
      "\n",
      "GLOBAL: 0.5189393939393939 \n",
      "\n",
      "Using scikit learn accuracy por género en el conjunto to\n",
      "MALE 1.0\n",
      "FEMALE 0.0 \n",
      "\n",
      "GLOBAL: 0.516297262059974 \n",
      "\n",
      "Using scikit learn accuracy por género en el conjunto as\n",
      "MALE 1.0\n",
      "FEMALE 0.0 \n",
      "\n"
     ]
    }
   ],
   "source": [
    "\n",
    "for task in ['about','to','as']:\n",
    "    print(f\"GLOBAL: {train.eval_function_single_sk(model,dl_eval[task])}\",'\\n')\n",
    "    print(f\"Using scikit learn accuracy por género en el conjunto {task}\")\n",
    "    print(f\"MALE {train.eval_function_single_sk(model,dl_eval[task],gender='male')}\")\n",
    "    print(f\"FEMALE {train.eval_function_single_sk(model,dl_eval[task],gender='female')}\",'\\n')"
   ]
  },
  {
   "cell_type": "code",
   "execution_count": 18,
   "metadata": {},
   "outputs": [
    {
     "data": {
      "application/vnd.jupyter.widget-view+json": {
       "model_id": "0cd1df11d9e24aa588cf7e738c5c0116",
       "version_major": 2,
       "version_minor": 0
      },
      "text/plain": [
       "  0%|          | 0/57400 [00:00<?, ?it/s]"
      ]
     },
     "metadata": {},
     "output_type": "display_data"
    },
    {
     "name": "stdout",
     "output_type": "stream",
     "text": [
      "Epoch 1 \t Training loss: 0.6961090638454783 \t Validation loss: 0.6936873500630006 \t \n",
      "  1%|          | 574/57400 [02:00<3:04:49,  5.12it/s]\n",
      "Epoch 2 \t Training loss: 0.6948259084482227 \t Validation loss: 0.6933554916058556 \t \n",
      "  2%|▏         | 1148/57400 [03:59<3:03:45,  5.10it/s]\n",
      "Epoch 3 \t Training loss: 0.6940946155308846 \t Validation loss: 0.6935936545921584 \t \n",
      "  3%|▎         | 1722/57400 [05:56<2:30:43,  6.16it/s]\n",
      "Epoch 4 \t Training loss: 0.6938443077981264 \t Validation loss: 0.6939760931467606 \t \n",
      "  4%|▍         | 2296/57400 [07:54<2:41:38,  5.68it/s]\n",
      "Epoch 5 \t Training loss: 0.6938412246596107 \t Validation loss: 0.6923265952174946 \t \n",
      "  5%|▌         | 2870/57400 [09:53<3:02:41,  4.97it/s]\n",
      "Epoch 6 \t Training loss: 0.6932712497403812 \t Validation loss: 0.69339485188662 \t \n",
      "\n",
      "1 epoch without improvement\n",
      "  6%|▌         | 3444/57400 [11:54<2:31:09,  5.95it/s]\n",
      "Epoch 7 \t Training loss: 0.6930937581153697 \t Validation loss: 0.6936303205409292 \t \n",
      "\n",
      "2 epoch without improvement\n",
      "  7%|▋         | 4018/57400 [13:52<3:01:10,  4.91it/s]\n",
      "Epoch 8 \t Training loss: 0.6931833302933165 \t Validation loss: 0.6934508590374963 \t \n",
      "\n",
      "3 epoch without improvement\n",
      "  8%|▊         | 4592/57400 [15:50<2:57:27,  4.96it/s]\n",
      "Epoch 9 \t Training loss: 0.6930747523332722 \t Validation loss: 0.693605311846329 \t \n",
      "\n",
      "4 epoch without improvement\n",
      "  9%|▉         | 5166/57400 [17:49<2:55:39,  4.96it/s]\n",
      "Epoch 10 \t Training loss: 0.6929937700776688 \t Validation loss: 0.6918979681144326 \t \n",
      " 10%|█         | 5740/57400 [19:48<2:51:51,  5.01it/s]\n",
      "Epoch 11 \t Training loss: 0.6928285066466714 \t Validation loss: 0.6929883977114144 \t \n",
      "\n",
      "1 epoch without improvement\n",
      " 11%|█         | 6314/57400 [21:48<2:48:13,  5.06it/s]\n",
      "Epoch 12 \t Training loss: 0.6925616288226656 \t Validation loss: 0.6924770565356239 \t \n",
      " 12%|█▏        | 6888/57400 [23:48<2:55:52,  4.79it/s]\n",
      "Epoch 13 \t Training loss: 0.6925933504353833 \t Validation loss: 0.6922670663413355 \t \n",
      " 13%|█▎        | 7462/57400 [25:48<2:49:00,  4.92it/s]\n",
      "Epoch 14 \t Training loss: 0.6922196245359626 \t Validation loss: 0.6922639871047715 \t \n",
      " 14%|█▍        | 8036/57400 [27:47<2:42:12,  5.07it/s]\n",
      "Epoch 15 \t Training loss: 0.6922979402625187 \t Validation loss: 0.6919332399206647 \t \n",
      " 15%|█▌        | 8610/57400 [29:44<2:42:23,  5.01it/s]\n",
      "Epoch 16 \t Training loss: 0.6918510482078646 \t Validation loss: 0.6929069525104458 \t \n",
      "\n",
      "2 epoch without improvement\n",
      " 16%|█▌        | 9184/57400 [31:42<2:39:17,  5.05it/s]\n",
      "Epoch 17 \t Training loss: 0.6920052468776703 \t Validation loss: 0.6922182784242145 \t \n",
      " 17%|█▋        | 9758/57400 [33:43<2:48:20,  4.72it/s]\n",
      "Epoch 18 \t Training loss: 0.6916301507983058 \t Validation loss: 0.6926349755060874 \t \n",
      " 18%|█▊        | 10332/57400 [35:43<2:43:56,  4.78it/s]\n",
      "Epoch 19 \t Training loss: 0.691219911238873 \t Validation loss: 0.6923677537400844 \t \n",
      " 19%|█▉        | 10906/57400 [37:42<2:14:03,  5.78it/s]\n",
      "Epoch 20 \t Training loss: 0.6914937944777751 \t Validation loss: 0.6927629638526399 \t \n",
      " 20%|██        | 11480/57400 [39:39<2:29:03,  5.13it/s]\n",
      "Epoch 21 \t Training loss: 0.6911783483177942 \t Validation loss: 0.6933948246099181 \t \n",
      "\n",
      "3 epoch without improvement\n",
      " 21%|██        | 12054/57400 [41:37<2:28:58,  5.07it/s]\n",
      "Epoch 22 \t Training loss: 0.6912862919141192 \t Validation loss: 0.69196456165637 \t \n",
      " 22%|██▏       | 12628/57400 [43:35<2:01:05,  6.16it/s]\n",
      "Epoch 23 \t Training loss: 0.6908263604607732 \t Validation loss: 0.6924917566574226 \t \n",
      " 23%|██▎       | 13202/57400 [45:34<2:22:14,  5.18it/s]\n",
      "Epoch 24 \t Training loss: 0.6909959494859915 \t Validation loss: 0.6923069327564563 \t \n",
      " 24%|██▍       | 13776/57400 [47:33<1:55:05,  6.32it/s]\n",
      "Epoch 25 \t Training loss: 0.6909059868664692 \t Validation loss: 0.69125399347079 \t \n",
      " 25%|██▌       | 14350/57400 [49:31<1:59:28,  6.01it/s]\n",
      "Epoch 26 \t Training loss: 0.6909486492544101 \t Validation loss: 0.6919641595775798 \t \n",
      " 26%|██▌       | 14924/57400 [51:30<2:19:46,  5.06it/s]\n",
      "Epoch 27 \t Training loss: 0.6907151933331107 \t Validation loss: 0.6928349804070036 \t \n",
      "\n",
      "1 epoch without improvement\n",
      " 27%|██▋       | 15498/57400 [53:29<2:15:18,  5.16it/s]\n",
      "Epoch 28 \t Training loss: 0.6906363627636474 \t Validation loss: 0.6922754877704685 \t \n",
      "\n",
      "2 epoch without improvement\n",
      " 28%|██▊       | 16072/57400 [55:27<2:14:10,  5.13it/s]\n",
      "Epoch 29 \t Training loss: 0.6906222163177118 \t Validation loss: 0.6906299075837863 \t \n",
      " 29%|██▉       | 16646/57400 [57:25<2:12:51,  5.11it/s]\n",
      "Epoch 30 \t Training loss: 0.6905751049726266 \t Validation loss: 0.6917187116913877 \t \n",
      "\n",
      "1 epoch without improvement\n",
      " 30%|███       | 17220/57400 [59:24<2:16:33,  4.90it/s]\n",
      "Epoch 31 \t Training loss: 0.6907366468515961 \t Validation loss: 0.6906927137051598 \t \n",
      " 31%|███       | 17794/57400 [1:01:23<2:06:56,  5.20it/s]\n",
      "Epoch 32 \t Training loss: 0.6904240375196476 \t Validation loss: 0.6935842229148089 \t \n",
      "\n",
      "2 epoch without improvement\n",
      " 32%|███▏      | 18368/57400 [1:03:21<2:06:03,  5.16it/s]\n",
      "Epoch 33 \t Training loss: 0.6899107174383223 \t Validation loss: 0.6905290565248263 \t \n",
      " 33%|███▎      | 18942/57400 [1:05:19<2:28:21,  4.32it/s]\n",
      "Epoch 34 \t Training loss: 0.6901263724428436 \t Validation loss: 0.6913820697089373 \t \n",
      " 34%|███▍      | 19516/57400 [1:07:19<2:08:30,  4.91it/s]\n",
      "Epoch 35 \t Training loss: 0.6904296779466423 \t Validation loss: 0.690924472728018 \t \n",
      " 35%|███▌      | 20090/57400 [1:09:18<1:39:31,  6.25it/s]\n",
      "Epoch 36 \t Training loss: 0.6899526316529783 \t Validation loss: 0.692327082157135 \t \n",
      "\n",
      "1 epoch without improvement\n",
      " 36%|███▌      | 20664/57400 [1:11:18<1:47:02,  5.72it/s]\n",
      "Epoch 37 \t Training loss: 0.6898668724070027 \t Validation loss: 0.6907144552570278 \t \n",
      " 37%|███▋      | 21238/57400 [1:13:18<2:00:33,  5.00it/s]\n",
      "Epoch 38 \t Training loss: 0.6902097223735437 \t Validation loss: 0.6922407332113234 \t \n",
      "\n",
      "2 epoch without improvement\n",
      " 38%|███▊      | 21812/57400 [1:15:17<1:59:52,  4.95it/s]\n",
      "Epoch 39 \t Training loss: 0.6895715385571589 \t Validation loss: 0.6926596690032442 \t \n",
      "\n",
      "3 epoch without improvement\n",
      " 39%|███▉      | 22386/57400 [1:17:16<1:35:56,  6.08it/s]\n",
      "Epoch 40 \t Training loss: 0.6893991133269533 \t Validation loss: 0.6914853231381561 \t \n",
      " 40%|████      | 22960/57400 [1:19:13<1:36:13,  5.97it/s]\n",
      "Epoch 41 \t Training loss: 0.6895811846447323 \t Validation loss: 0.6918753920975378 \t \n",
      "\n",
      "4 epoch without improvement\n",
      " 41%|████      | 23534/57400 [1:21:12<1:56:01,  4.86it/s]\n",
      "Epoch 42 \t Training loss: 0.6894732223570554 \t Validation loss: 0.6917371679160554 \t \n",
      "\n",
      "5 epoch without improvement\n",
      " 42%|████▏     | 24108/57400 [1:23:11<1:30:31,  6.13it/s]\n",
      "Epoch 43 \t Training loss: 0.6894234510248962 \t Validation loss: 0.691483427912502 \t \n",
      " 43%|████▎     | 24682/57400 [1:25:09<1:46:07,  5.14it/s]\n",
      "Epoch 44 \t Training loss: 0.6892556703879859 \t Validation loss: 0.6921601214651334 \t \n",
      "\n",
      "6 epoch without improvement\n",
      " 44%|████▍     | 25256/57400 [1:27:07<1:52:55,  4.74it/s]\n",
      "Epoch 45 \t Training loss: 0.6890410909669324 \t Validation loss: 0.6925475253897199 \t \n",
      "\n",
      "7 epoch without improvement\n",
      " 45%|████▌     | 25830/57400 [1:29:05<1:54:59,  4.58it/s]\n",
      "Epoch 46 \t Training loss: 0.689169111048303 \t Validation loss: 0.6914102020910231 \t \n",
      " 46%|████▌     | 26404/57400 [1:31:04<1:26:37,  5.96it/s]\n",
      "Epoch 47 \t Training loss: 0.6893766963731122 \t Validation loss: 0.692218775466337 \t \n",
      "\n",
      "8 epoch without improvement\n",
      " 47%|████▋     | 26978/57400 [1:33:04<1:40:33,  5.04it/s]\n",
      "Epoch 48 \t Training loss: 0.6896250935381714 \t Validation loss: 0.6912977806592392 \t \n",
      " 48%|████▊     | 27552/57400 [1:35:03<1:37:42,  5.09it/s]\n",
      "Epoch 49 \t Training loss: 0.6896638586753752 \t Validation loss: 0.6918579582440652 \t \n",
      "\n",
      "9 epoch without improvement\n",
      " 49%|████▉     | 28126/57400 [1:37:02<1:48:19,  4.50it/s]\n",
      "Epoch 50 \t Training loss: 0.6890987558647316 \t Validation loss: 0.6928641341500363 \t \n",
      "\n",
      "10 epoch without improvement\n",
      "Validation_loss hasn't improve in 10 epoch. Stopping training after 50 epochs...\n"
     ]
    },
    {
     "data": {
      "image/png": "[encoded data removed]",
      "text/plain": [
       "<Figure size 640x480 with 1 Axes>"
      ]
     },
     "metadata": {},
     "output_type": "display_data"
    }
   ],
   "source": [
    "learning_rate = 5e-5\n",
    "optimizer = SGD(model.parameters(), lr=learning_rate, momentum=0.9)\n",
    "num_epochs = 100\n",
    "\n",
    "train.train_function(model,num_epochs,dl_train['as'],optimizer,early_stop=10,dl_val=dl_val['as'],save_path=save_path)"
   ]
  },
  {
   "cell_type": "code",
   "execution_count": 19,
   "metadata": {},
   "outputs": [
    {
     "name": "stderr",
     "output_type": "stream",
     "text": [
      "Some weights of the model checkpoint at distilbert-base-cased were not used when initializing DistilBertModel: ['vocab_layer_norm.weight', 'vocab_layer_norm.bias', 'vocab_transform.bias', 'vocab_transform.weight', 'vocab_projector.weight', 'vocab_projector.bias']\n",
      "- This IS expected if you are initializing DistilBertModel from the checkpoint of a model trained on another task or with another architecture (e.g. initializing a BertForSequenceClassification model from a BertForPreTraining model).\n",
      "- This IS NOT expected if you are initializing DistilBertModel from the checkpoint of a model that you expect to be exactly identical (initializing a BertForSequenceClassification model from a BertForSequenceClassification model).\n"
     ]
    },
    {
     "name": "stdout",
     "output_type": "stream",
     "text": [
      "GLOBAL: 0.6721938775510204 \n",
      "\n",
      "Using scikit learn accuracy por género en el conjunto about\n",
      "MALE 0.5130208333333334\n",
      "FEMALE 0.825 \n",
      "\n",
      "GLOBAL: 0.6073232323232324 \n",
      "\n",
      "Using scikit learn accuracy por género en el conjunto to\n",
      "MALE 0.48661800486618007\n",
      "FEMALE 0.7375328083989501 \n",
      "\n",
      "GLOBAL: 0.6049543676662321 \n",
      "\n",
      "Using scikit learn accuracy por género en el conjunto as\n",
      "MALE 0.4090909090909091\n",
      "FEMALE 0.8140161725067385 \n",
      "\n"
     ]
    }
   ],
   "source": [
    "model = st.SingleTaskSimple(model_conf).to(device)\n",
    "model.load_state_dict(torch.load(save_path))\n",
    "\n",
    "for task in ['about','to','as']:\n",
    "    print(f\"GLOBAL: {train.eval_function_single_sk(model,dl_eval[task])}\",'\\n')\n",
    "    print(f\"Using scikit learn accuracy por género en el conjunto {task}\")\n",
    "    print(f\"MALE {train.eval_function_single_sk(model,dl_eval[task],gender='male')}\")\n",
    "    print(f\"FEMALE {train.eval_function_single_sk(model,dl_eval[task],gender='female')}\",'\\n')"
   ]
  }
 ],
 "metadata": {
  "kernelspec": {
   "display_name": "tfg",
   "language": "python",
   "name": "python3"
  },
  "language_info": {
   "codemirror_mode": {
    "name": "ipython",
    "version": 3
   },
   "file_extension": ".py",
   "mimetype": "text/x-python",
   "name": "python",
   "nbconvert_exporter": "python",
   "pygments_lexer": "ipython3",
   "version": "3.9.13"
  },
  "orig_nbformat": 4,
  "vscode": {
   "interpreter": {
    "hash": "35e8332e99bdf485583869dfbdef293dcf2f9293b1663ec5daea0a573af457c3"
   }
  }
 },
 "nbformat": 4,
 "nbformat_minor": 2
}
