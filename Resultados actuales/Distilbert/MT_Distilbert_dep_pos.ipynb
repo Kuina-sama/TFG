{
 "cells": [
  {
   "cell_type": "code",
   "execution_count": 1,
   "metadata": {},
   "outputs": [],
   "source": [
    "import torch\n",
    "from torch.utils.data import DataLoader\n",
    "from torch.optim import SGD ,AdamW\n",
    "\n",
    "from datasets import load_dataset, load_metric\n",
    "\n",
    "import matplotlib.pyplot as plt\n",
    "\n",
    "import json\n"
   ]
  },
  {
   "cell_type": "code",
   "execution_count": 2,
   "metadata": {},
   "outputs": [],
   "source": [
    "import utils_generic as generic\n",
    "import multitask_dep as mt\n",
    "import model_confs as confs\n",
    "import train_dep as train"
   ]
  },
  {
   "cell_type": "code",
   "execution_count": 3,
   "metadata": {},
   "outputs": [],
   "source": [
    "device = torch.device(\"cuda\") if torch.cuda.is_available() else torch.device(\"cpu\")\n",
    "torch.manual_seed(27)\n",
    "tasks = ['to','as','about']"
   ]
  },
  {
   "cell_type": "code",
   "execution_count": 4,
   "metadata": {},
   "outputs": [],
   "source": [
    "model_conf = confs.distilbert_conf\n",
    "encoding_type = 'pos'"
   ]
  },
  {
   "attachments": {},
   "cell_type": "markdown",
   "metadata": {},
   "source": [
    "# Datos ConvAI"
   ]
  },
  {
   "cell_type": "code",
   "execution_count": 5,
   "metadata": {},
   "outputs": [],
   "source": [
    "with open('Datasets\\ConvAI2\\convai2_complete.json','r') as f:\n",
    "    data = json.load(f)"
   ]
  },
  {
   "cell_type": "code",
   "execution_count": 6,
   "metadata": {},
   "outputs": [],
   "source": [
    "vocab = mt.Vocabulary(data['train'],encoding_type)"
   ]
  },
  {
   "cell_type": "code",
   "execution_count": 7,
   "metadata": {},
   "outputs": [],
   "source": [
    "convai_train = data['train']\n",
    "convai_val = data['validation']\n",
    "\n",
    "\n",
    "\n",
    "convai_train_token = generic.tokenize_dataset_with_dependencies(convai_train,['about','to','as'],vocab,model_conf) \n",
    "convai_val_token = generic.tokenize_dataset_with_dependencies(convai_val,['about','to','as'],vocab,model_conf) "
   ]
  },
  {
   "cell_type": "code",
   "execution_count": 8,
   "metadata": {},
   "outputs": [],
   "source": [
    "convai_train_dataset = mt.DatasetMultitaskDep(convai_train_token,tasks,eval=False)\n",
    "convai_val_dataset = mt.DatasetMultitaskDep(convai_val_token,tasks,eval=False)"
   ]
  },
  {
   "attachments": {},
   "cell_type": "markdown",
   "metadata": {},
   "source": [
    "# Datos md_gender"
   ]
  },
  {
   "cell_type": "code",
   "execution_count": 9,
   "metadata": {},
   "outputs": [],
   "source": [
    "with open('Datasets\\md_gender\\md_complete.json','r',encoding=\"utf8\") as f:\n",
    "    md_data = json.load(f)"
   ]
  },
  {
   "cell_type": "code",
   "execution_count": 10,
   "metadata": {},
   "outputs": [],
   "source": [
    "md_tokenized = generic.tokenize_dataset_with_dependencies(md_data,['about','to','as'],vocab,model_conf) \n",
    "md_dataset = mt.DatasetMultitaskDep(md_tokenized,tasks,eval=True)"
   ]
  },
  {
   "attachments": {},
   "cell_type": "markdown",
   "metadata": {},
   "source": [
    "# Creación dataloaders"
   ]
  },
  {
   "cell_type": "code",
   "execution_count": 11,
   "metadata": {},
   "outputs": [],
   "source": [
    "dl_train =DataLoader(convai_train_dataset,batch_size=128,shuffle=True,collate_fn=mt.collate_fn)\n",
    "dl_val =DataLoader(convai_val_dataset,batch_size=128,shuffle=True,collate_fn=mt.collate_fn)\n",
    "dl_eval = DataLoader(md_dataset,batch_size=128,shuffle=False,collate_fn=mt.collate_fn)"
   ]
  },
  {
   "attachments": {},
   "cell_type": "markdown",
   "metadata": {},
   "source": [
    "# Modelo multitask"
   ]
  },
  {
   "cell_type": "code",
   "execution_count": 12,
   "metadata": {},
   "outputs": [
    {
     "name": "stderr",
     "output_type": "stream",
     "text": [
      "Some weights of the model checkpoint at distilbert-base-cased were not used when initializing DistilBertModel: ['vocab_projector.weight', 'vocab_projector.bias', 'vocab_layer_norm.bias', 'vocab_transform.bias', 'vocab_transform.weight', 'vocab_layer_norm.weight']\n",
      "- This IS expected if you are initializing DistilBertModel from the checkpoint of a model trained on another task or with another architecture (e.g. initializing a BertForSequenceClassification model from a BertForPreTraining model).\n",
      "- This IS NOT expected if you are initializing DistilBertModel from the checkpoint of a model that you expect to be exactly identical (initializing a BertForSequenceClassification model from a BertForSequenceClassification model).\n"
     ]
    }
   ],
   "source": [
    "model = mt.MultiWithDependencies(model_conf,vocab).to(device)\n",
    "save_path='m1_distilbert_multi_pos'"
   ]
  },
  {
   "cell_type": "code",
   "execution_count": 13,
   "metadata": {},
   "outputs": [
    {
     "name": "stdout",
     "output_type": "stream",
     "text": [
      "Accuracy evaluando en todas las etiquetas\n",
      "{'to': 0.5189393939393939, 'as': 0.516297262059974, 'about': 0.4897959183673469}\n",
      "Accuracy evaluando en etiquetas female\n",
      "{'to': 0.0, 'as': 0.0, 'about': 0.0}\n",
      "Accuracy evaluando en etiquetas male\n",
      "{'to': 1.0, 'as': 1.0, 'about': 1.0}\n"
     ]
    }
   ],
   "source": [
    "print(\"Accuracy evaluando en todas las etiquetas\")\n",
    "print(train.eval_function_multi(model,dl_eval,tasks))\n",
    "print(\"Accuracy evaluando en etiquetas female\")\n",
    "print(train.eval_function_multi(model,dl_eval,tasks,'female'))\n",
    "print(\"Accuracy evaluando en etiquetas male\")\n",
    "print(train.eval_function_multi(model,dl_eval,tasks,'male'))"
   ]
  },
  {
   "cell_type": "code",
   "execution_count": 14,
   "metadata": {},
   "outputs": [
    {
     "data": {
      "application/vnd.jupyter.widget-view+json": {
       "model_id": "db0187051821423399ebe25a5a2e7295",
       "version_major": 2,
       "version_minor": 0
      },
      "text/plain": [
       "  0%|          | 0/57400 [00:00<?, ?it/s]"
      ]
     },
     "metadata": {},
     "output_type": "display_data"
    },
    {
     "name": "stdout",
     "output_type": "stream",
     "text": [
      "Epoch 1 \t Training loss: 2.080132703747899 \t Validation loss: 2.0799105773537847 \t \n",
      "  1%|          | 574/57400 [02:37<6:11:11,  2.55it/s]\n",
      "Epoch 2 \t Training loss: 2.0726403417487593 \t Validation loss: 2.071834883447421 \t \n",
      "  2%|▏         | 1148/57400 [05:44<4:07:04,  3.79it/s]\n",
      "Epoch 3 \t Training loss: 2.0573489429227982 \t Validation loss: 2.050779657848811 \t \n",
      "  3%|▎         | 1722/57400 [08:24<3:20:21,  4.63it/s]\n",
      "Epoch 4 \t Training loss: 2.0283073770459934 \t Validation loss: 2.020742002180067 \t \n",
      "  4%|▍         | 2296/57400 [11:10<4:27:08,  3.44it/s]\n",
      "Epoch 5 \t Training loss: 2.0068980625697543 \t Validation loss: 2.0106402372909806 \t \n",
      "  5%|▌         | 2870/57400 [14:24<3:58:39,  3.81it/s]\n",
      "Epoch 6 \t Training loss: 1.9960336942705958 \t Validation loss: 2.008035700199968 \t \n",
      "  6%|▌         | 3444/57400 [17:41<4:59:21,  3.00it/s]\n",
      "Epoch 7 \t Training loss: 1.9905191865532241 \t Validation loss: 1.9953789630178678 \t \n",
      "  7%|▋         | 4018/57400 [21:01<4:12:42,  3.52it/s]\n",
      "Epoch 8 \t Training loss: 1.9862955553191048 \t Validation loss: 1.9945064217357311 \t \n",
      "  8%|▊         | 4592/57400 [24:05<4:59:34,  2.94it/s]\n",
      "Epoch 9 \t Training loss: 1.9834288933966633 \t Validation loss: 1.9952705108513267 \t \n",
      "  9%|▉         | 5166/57400 [26:40<3:09:52,  4.58it/s]\n",
      "Epoch 10 \t Training loss: 1.980057272138496 \t Validation loss: 1.985585527904963 \t \n",
      " 10%|█         | 5740/57400 [29:26<4:13:11,  3.40it/s]\n",
      "Epoch 11 \t Training loss: 1.9804689429362892 \t Validation loss: 1.9927682937201807 \t \n",
      "\n",
      "1 epoch without improvement\n",
      " 11%|█         | 6314/57400 [32:47<4:24:07,  3.22it/s]\n",
      "Epoch 12 \t Training loss: 1.9780242864678546 \t Validation loss: 1.9852057331699435 \t \n",
      " 12%|█▏        | 6888/57400 [36:44<5:21:14,  2.62it/s]\n",
      "Epoch 13 \t Training loss: 1.9757106395548645 \t Validation loss: 1.984650195655176 \t \n",
      " 13%|█▎        | 7462/57400 [39:45<3:53:51,  3.56it/s]\n",
      "Epoch 14 \t Training loss: 1.9756762046847194 \t Validation loss: 1.9862246291112091 \t \n",
      "\n",
      "1 epoch without improvement\n",
      " 14%|█▍        | 8036/57400 [42:25<3:03:15,  4.49it/s]\n",
      "Epoch 15 \t Training loss: 1.974324065841449 \t Validation loss: 1.9854278099738945 \t \n",
      " 15%|█▌        | 8610/57400 [45:32<3:35:18,  3.78it/s]\n",
      "Epoch 16 \t Training loss: 1.9733743335311837 \t Validation loss: 1.9778352450516263 \t \n",
      " 16%|█▌        | 9184/57400 [48:35<4:42:26,  2.85it/s]\n",
      "Epoch 17 \t Training loss: 1.973608215096105 \t Validation loss: 1.9876571833077123 \t \n",
      "\n",
      "1 epoch without improvement\n",
      " 17%|█▋        | 9758/57400 [51:48<4:27:13,  2.97it/s]\n",
      "Epoch 18 \t Training loss: 1.9734434070072107 \t Validation loss: 1.973572155176583 \t \n",
      " 18%|█▊        | 10332/57400 [55:01<4:25:36,  2.95it/s]\n",
      "Epoch 19 \t Training loss: 1.9715656739909475 \t Validation loss: 1.9766722735712083 \t \n",
      "\n",
      "1 epoch without improvement\n",
      " 19%|█▉        | 10906/57400 [58:14<4:21:09,  2.97it/s]\n",
      "Epoch 20 \t Training loss: 1.9685257386662818 \t Validation loss: 1.9796493316100816 \t \n",
      "\n",
      "2 epoch without improvement\n",
      " 20%|██        | 11480/57400 [1:01:20<3:40:12,  3.48it/s]\n",
      "Epoch 21 \t Training loss: 1.9723338663370351 \t Validation loss: 1.9810745130151004 \t \n",
      "\n",
      "3 epoch without improvement\n",
      " 21%|██        | 12054/57400 [1:04:01<3:40:30,  3.43it/s]\n",
      "Epoch 22 \t Training loss: 1.9679830057695769 \t Validation loss: 1.97538040047985 \t \n",
      "\n",
      "4 epoch without improvement\n",
      " 22%|██▏       | 12628/57400 [1:06:53<3:27:39,  3.59it/s]\n",
      "Epoch 23 \t Training loss: 1.9669699695882896 \t Validation loss: 1.9783377142275793 \t \n",
      "\n",
      "5 epoch without improvement\n",
      " 23%|██▎       | 13202/57400 [1:10:03<2:51:35,  4.29it/s]\n",
      "Epoch 24 \t Training loss: 1.9678628363675772 \t Validation loss: 1.9701843706227966 \t \n",
      " 24%|██▍       | 13776/57400 [1:13:07<3:57:39,  3.06it/s]\n",
      "Epoch 25 \t Training loss: 1.9668160782873838 \t Validation loss: 1.9698688882892414 \t \n",
      " 25%|██▌       | 14350/57400 [1:16:21<4:16:20,  2.80it/s]\n",
      "Epoch 26 \t Training loss: 1.965496203417562 \t Validation loss: 1.978432796769223 \t \n",
      "\n",
      "1 epoch without improvement\n",
      " 26%|██▌       | 14924/57400 [1:19:34<3:59:12,  2.96it/s]\n",
      "Epoch 27 \t Training loss: 1.9655665171686365 \t Validation loss: 1.9725196300926855 \t \n",
      "\n",
      "2 epoch without improvement\n",
      " 27%|██▋       | 15498/57400 [1:22:47<3:39:09,  3.19it/s]\n",
      "Epoch 28 \t Training loss: 1.9649893259337554 \t Validation loss: 1.9759550478498815 \t \n",
      "\n",
      "3 epoch without improvement\n",
      " 28%|██▊       | 16072/57400 [1:25:35<3:11:45,  3.59it/s]\n",
      "Epoch 29 \t Training loss: 1.965780549348439 \t Validation loss: 1.981224910687592 \t \n",
      "\n",
      "4 epoch without improvement\n",
      " 29%|██▉       | 16646/57400 [1:28:16<3:41:37,  3.06it/s]\n",
      "Epoch 30 \t Training loss: 1.9650866943784706 \t Validation loss: 1.980548363620952 \t \n",
      "\n",
      "5 epoch without improvement\n",
      " 30%|███       | 17220/57400 [1:31:12<2:27:52,  4.53it/s]\n",
      "Epoch 31 \t Training loss: 1.9624625650017105 \t Validation loss: 1.9755963733640767 \t \n",
      "\n",
      "6 epoch without improvement\n",
      " 31%|███       | 17794/57400 [1:33:28<2:27:19,  4.48it/s]\n",
      "Epoch 32 \t Training loss: 1.963631210842199 \t Validation loss: 1.9711320339623144 \t \n",
      "\n",
      "7 epoch without improvement\n",
      " 32%|███▏      | 18368/57400 [1:35:43<2:32:52,  4.26it/s]\n",
      "Epoch 33 \t Training loss: 1.9630379894884622 \t Validation loss: 1.9680816541283817 \t \n",
      " 33%|███▎      | 18942/57400 [1:37:59<2:22:31,  4.50it/s]\n",
      "Epoch 34 \t Training loss: 1.9635304715159878 \t Validation loss: 1.9786823846526065 \t \n",
      "\n",
      "1 epoch without improvement\n",
      " 34%|███▍      | 19516/57400 [1:40:13<2:21:33,  4.46it/s]\n",
      "Epoch 35 \t Training loss: 1.9623823629023722 \t Validation loss: 1.9710552914667938 \t \n",
      "\n",
      "2 epoch without improvement\n",
      " 35%|███▌      | 20090/57400 [1:42:29<1:59:10,  5.22it/s]\n",
      "Epoch 36 \t Training loss: 1.9626125867773847 \t Validation loss: 1.9678884279929985 \t \n",
      " 36%|███▌      | 20664/57400 [1:44:44<2:17:55,  4.44it/s]\n",
      "Epoch 37 \t Training loss: 1.9614581621482396 \t Validation loss: 1.9739908808368747 \t \n",
      "\n",
      "1 epoch without improvement\n",
      " 37%|███▋      | 21238/57400 [1:46:59<2:21:43,  4.25it/s]\n",
      "Epoch 38 \t Training loss: 1.960788286313778 \t Validation loss: 1.9706099801144357 \t \n",
      "\n",
      "2 epoch without improvement\n",
      " 38%|███▊      | 21812/57400 [1:49:14<2:14:59,  4.39it/s]\n",
      "Epoch 39 \t Training loss: 1.9632426662312152 \t Validation loss: 1.9674220246783758 \t \n",
      " 39%|███▉      | 22386/57400 [1:51:30<2:09:08,  4.52it/s]\n",
      "Epoch 40 \t Training loss: 1.9599728737974 \t Validation loss: 1.9790491613291077 \t \n",
      "\n",
      "1 epoch without improvement\n",
      " 40%|████      | 22960/57400 [1:53:45<2:10:54,  4.38it/s]\n",
      "Epoch 41 \t Training loss: 1.9603678249731296 \t Validation loss: 1.9795502282805362 \t \n",
      "\n",
      "2 epoch without improvement\n",
      " 41%|████      | 23534/57400 [1:56:00<2:07:17,  4.43it/s]\n",
      "Epoch 42 \t Training loss: 1.9606626812589294 \t Validation loss: 1.9724397315817364 \t \n",
      "\n",
      "3 epoch without improvement\n",
      " 42%|████▏     | 24108/57400 [1:58:14<2:00:59,  4.59it/s]\n",
      "Epoch 43 \t Training loss: 1.9594829875833066 \t Validation loss: 1.97834953009072 \t \n",
      "\n",
      "4 epoch without improvement\n",
      " 43%|████▎     | 24682/57400 [2:00:29<2:10:40,  4.17it/s]\n",
      "Epoch 44 \t Training loss: 1.957544200927123 \t Validation loss: 1.9745719695495347 \t \n",
      "\n",
      "5 epoch without improvement\n",
      " 44%|████▍     | 25256/57400 [2:02:44<2:03:50,  4.33it/s]\n",
      "Epoch 45 \t Training loss: 1.9580192322930392 \t Validation loss: 1.975475545656883 \t \n",
      "\n",
      "6 epoch without improvement\n",
      " 45%|████▌     | 25830/57400 [2:05:00<1:35:42,  5.50it/s]\n",
      "Epoch 46 \t Training loss: 1.9599407741001673 \t Validation loss: 1.9670446808055295 \t \n",
      " 46%|████▌     | 26404/57400 [2:07:15<1:58:32,  4.36it/s]\n",
      "Epoch 47 \t Training loss: 1.9602718808094384 \t Validation loss: 1.9757710594241902 \t \n",
      "\n",
      "1 epoch without improvement\n",
      " 47%|████▋     | 26978/57400 [2:09:30<1:53:33,  4.46it/s]\n",
      "Epoch 48 \t Training loss: 1.958413344227063 \t Validation loss: 1.9726098957708327 \t \n",
      "\n",
      "2 epoch without improvement\n",
      " 48%|████▊     | 27552/57400 [2:11:45<1:33:47,  5.30it/s]\n",
      "Epoch 49 \t Training loss: 1.9580275680129953 \t Validation loss: 1.962646074214224 \t \n",
      " 49%|████▉     | 28126/57400 [2:14:00<1:49:43,  4.45it/s]\n",
      "Epoch 50 \t Training loss: 1.956819617582115 \t Validation loss: 1.9622420638294544 \t \n",
      " 50%|█████     | 28700/57400 [2:16:16<1:29:39,  5.34it/s]\n",
      "Epoch 51 \t Training loss: 1.958762759738683 \t Validation loss: 1.9699500132415255 \t \n",
      "\n",
      "1 epoch without improvement\n",
      " 51%|█████     | 29274/57400 [2:18:30<1:49:58,  4.26it/s]\n",
      "Epoch 52 \t Training loss: 1.957187746460014 \t Validation loss: 1.9769662214537798 \t \n",
      "\n",
      "2 epoch without improvement\n",
      " 52%|█████▏    | 29848/57400 [2:20:45<1:25:13,  5.39it/s]\n",
      "Epoch 53 \t Training loss: 1.9559364121550051 \t Validation loss: 1.9779418322999598 \t \n",
      "\n",
      "3 epoch without improvement\n",
      " 53%|█████▎    | 30422/57400 [2:23:01<1:22:29,  5.45it/s]\n",
      "Epoch 54 \t Training loss: 1.9593053152752256 \t Validation loss: 1.9761767710669567 \t \n",
      "\n",
      "4 epoch without improvement\n",
      " 54%|█████▍    | 30996/57400 [2:25:16<1:43:23,  4.26it/s]\n",
      "Epoch 55 \t Training loss: 1.956075099079451 \t Validation loss: 1.9687969118861828 \t \n",
      "\n",
      "5 epoch without improvement\n",
      " 55%|█████▌    | 31570/57400 [2:27:31<1:41:37,  4.24it/s]\n",
      "Epoch 56 \t Training loss: 1.9561700976684118 \t Validation loss: 1.9755794112965213 \t \n",
      "\n",
      "6 epoch without improvement\n",
      " 56%|█████▌    | 32144/57400 [2:29:47<1:19:55,  5.27it/s]\n",
      "Epoch 57 \t Training loss: 1.954517176965388 \t Validation loss: 1.9771487975524644 \t \n",
      "\n",
      "7 epoch without improvement\n",
      " 57%|█████▋    | 32718/57400 [2:32:02<1:34:08,  4.37it/s]\n",
      "Epoch 58 \t Training loss: 1.9559018927584126 \t Validation loss: 1.9674844095262431 \t \n",
      "\n",
      "8 epoch without improvement\n",
      " 58%|█████▊    | 33292/57400 [2:34:17<1:32:07,  4.36it/s]\n",
      "Epoch 59 \t Training loss: 1.9567172793145795 \t Validation loss: 1.9640205068103338 \t \n",
      "\n",
      "9 epoch without improvement\n",
      " 59%|█████▉    | 33866/57400 [2:36:32<1:13:56,  5.30it/s]\n",
      "Epoch 60 \t Training loss: 1.9560502867250078 \t Validation loss: 1.9672788644241075 \t \n",
      "\n",
      "10 epoch without improvement\n",
      "Validation_loss hasn't improve in 10 epoch. Stopping training after 60 epochs...\n"
     ]
    },
    {
     "data": {
      "image/png": "[encoded data removed]",
      "text/plain": [
       "<Figure size 640x480 with 1 Axes>"
      ]
     },
     "metadata": {},
     "output_type": "display_data"
    }
   ],
   "source": [
    "learning_rate = 5e-5\n",
    "optimizer = SGD(model.parameters(), lr=learning_rate, momentum=0.9)\n",
    "num_epochs = 100\n",
    "train.train_function_multi(model,num_epochs,dl_train,optimizer,early_stop = 10,dl_val = dl_val,save_path=save_path)"
   ]
  },
  {
   "cell_type": "code",
   "execution_count": 15,
   "metadata": {},
   "outputs": [
    {
     "name": "stderr",
     "output_type": "stream",
     "text": [
      "Some weights of the model checkpoint at distilbert-base-cased were not used when initializing DistilBertModel: ['vocab_projector.weight', 'vocab_projector.bias', 'vocab_layer_norm.bias', 'vocab_transform.bias', 'vocab_transform.weight', 'vocab_layer_norm.weight']\n",
      "- This IS expected if you are initializing DistilBertModel from the checkpoint of a model trained on another task or with another architecture (e.g. initializing a BertForSequenceClassification model from a BertForPreTraining model).\n",
      "- This IS NOT expected if you are initializing DistilBertModel from the checkpoint of a model that you expect to be exactly identical (initializing a BertForSequenceClassification model from a BertForSequenceClassification model).\n"
     ]
    },
    {
     "name": "stdout",
     "output_type": "stream",
     "text": [
      "Accuracy evaluando en todas las etiquetas\n",
      "{'to': 0.6691919191919192, 'as': 0.7105606258148631, 'about': 0.8405612244897959}\n",
      "Accuracy evaluando en etiquetas female\n",
      "{'to': 0.6535433070866141, 'as': 0.7547169811320755, 'about': 0.8525}\n",
      "Accuracy evaluando en etiquetas male\n",
      "{'to': 0.683698296836983, 'as': 0.6691919191919192, 'about': 0.828125}\n"
     ]
    }
   ],
   "source": [
    "model = mt.MultiWithDependencies(model_conf,vocab).to(device)\n",
    "model.load_state_dict(torch.load(save_path))\n",
    "\n",
    "print(\"Accuracy evaluando en todas las etiquetas\")\n",
    "print(train.eval_function_multi(model,dl_eval,tasks))\n",
    "print(\"Accuracy evaluando en etiquetas female\")\n",
    "print(train.eval_function_multi(model,dl_eval,tasks,'female'))\n",
    "print(\"Accuracy evaluando en etiquetas male\")\n",
    "print(train.eval_function_multi(model,dl_eval,tasks,'male'))"
   ]
  }
 ],
 "metadata": {
  "kernelspec": {
   "display_name": "tfg",
   "language": "python",
   "name": "python3"
  },
  "language_info": {
   "codemirror_mode": {
    "name": "ipython",
    "version": 3
   },
   "file_extension": ".py",
   "mimetype": "text/x-python",
   "name": "python",
   "nbconvert_exporter": "python",
   "pygments_lexer": "ipython3",
   "version": "3.9.13"
  },
  "orig_nbformat": 4,
  "vscode": {
   "interpreter": {
    "hash": "35e8332e99bdf485583869dfbdef293dcf2f9293b1663ec5daea0a573af457c3"
   }
  }
 },
 "nbformat": 4,
 "nbformat_minor": 2
}
