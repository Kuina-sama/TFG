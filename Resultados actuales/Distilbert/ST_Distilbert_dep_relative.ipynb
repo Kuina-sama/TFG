{
 "cells": [
  {
   "cell_type": "code",
   "execution_count": 1,
   "metadata": {},
   "outputs": [],
   "source": [
    "import torch\n",
    "from torch.utils.data import DataLoader\n",
    "from torch.optim import AdamW, SGD \n",
    "\n",
    "\n",
    "import json\n",
    "\n"
   ]
  },
  {
   "cell_type": "code",
   "execution_count": 2,
   "metadata": {},
   "outputs": [],
   "source": [
    "import utils_generic as generic\n",
    "import singletask_dep as st\n",
    "import model_confs as confs\n",
    "\n",
    "\n",
    "import train_dep as train"
   ]
  },
  {
   "cell_type": "code",
   "execution_count": 3,
   "metadata": {},
   "outputs": [
    {
     "data": {
      "text/plain": [
       "<torch._C.Generator at 0x1dcde543490>"
      ]
     },
     "execution_count": 3,
     "metadata": {},
     "output_type": "execute_result"
    }
   ],
   "source": [
    "device = torch.device(\"cuda\") if torch.cuda.is_available() else torch.device(\"cpu\")\n",
    "torch.manual_seed(27)"
   ]
  },
  {
   "cell_type": "code",
   "execution_count": 4,
   "metadata": {},
   "outputs": [],
   "source": [
    "model_conf = confs.distilbert_conf\n",
    "encoding_type = 'relative'"
   ]
  },
  {
   "attachments": {},
   "cell_type": "markdown",
   "metadata": {},
   "source": [
    "# Datos ConvAI2"
   ]
  },
  {
   "cell_type": "code",
   "execution_count": 5,
   "metadata": {},
   "outputs": [],
   "source": [
    "with open('Datasets\\ConvAI2\\convai2_complete.json','r') as f:\n",
    "    data = json.load(f)"
   ]
  },
  {
   "cell_type": "code",
   "execution_count": 6,
   "metadata": {},
   "outputs": [],
   "source": [
    "vocab = st.Vocabulary(data['train'],encoding_type)"
   ]
  },
  {
   "cell_type": "code",
   "execution_count": 7,
   "metadata": {},
   "outputs": [],
   "source": [
    "convai_train = data['train']\n",
    "convai_val = data['validation']\n",
    "\n",
    "\n",
    "\n",
    "convai_train_token = generic.tokenize_dataset_with_dependencies(convai_train,['about','to','as'],vocab,model_conf) \n",
    "convai_val_token = generic.tokenize_dataset_with_dependencies(convai_val,['about','to','as'],vocab,model_conf) "
   ]
  },
  {
   "cell_type": "code",
   "execution_count": 8,
   "metadata": {},
   "outputs": [],
   "source": [
    "convai_train_dataset = {}\n",
    "for task in ['to','as','about']:\n",
    "    convai_train_dataset[task] = st.DatasetSingleTaskDep(convai_train_token,task,eval=False)"
   ]
  },
  {
   "cell_type": "code",
   "execution_count": 9,
   "metadata": {},
   "outputs": [],
   "source": [
    "convai_val_dataset = {}\n",
    "for task in ['to','as','about']:\n",
    "    convai_val_dataset[task] = st.DatasetSingleTaskDep(convai_val_token,task,eval=False)"
   ]
  },
  {
   "attachments": {},
   "cell_type": "markdown",
   "metadata": {},
   "source": [
    "# Datos md_gender"
   ]
  },
  {
   "cell_type": "code",
   "execution_count": 10,
   "metadata": {},
   "outputs": [],
   "source": [
    "with open('Datasets\\md_gender\\md_complete.json','r',encoding=\"utf8\") as f:\n",
    "    md_data = json.load(f)"
   ]
  },
  {
   "cell_type": "code",
   "execution_count": 11,
   "metadata": {},
   "outputs": [],
   "source": [
    "md_tokenized = generic.tokenize_dataset_with_dependencies(md_data,['about','to','as'],vocab,model_conf) \n",
    "\n",
    "\n",
    "md_dataset = {}\n",
    "for task in ['to','as','about']:\n",
    "    md_dataset[task] = st.DatasetSingleTaskDep(md_tokenized,task,eval=True)"
   ]
  },
  {
   "attachments": {},
   "cell_type": "markdown",
   "metadata": {},
   "source": [
    "# Creación dataloaders"
   ]
  },
  {
   "cell_type": "code",
   "execution_count": 12,
   "metadata": {},
   "outputs": [],
   "source": [
    "dl_train = {}\n",
    "for task in ['to','as','about']:\n",
    "    dl_train[task] = DataLoader(convai_train_dataset[task],batch_size=128,shuffle=True,collate_fn=st.collate_fn)"
   ]
  },
  {
   "cell_type": "code",
   "execution_count": 13,
   "metadata": {},
   "outputs": [],
   "source": [
    "dl_val = {}\n",
    "for task in ['to','as','about']:\n",
    "    dl_val[task] = DataLoader(convai_val_dataset[task],batch_size=128,shuffle=True,collate_fn=st.collate_fn)"
   ]
  },
  {
   "cell_type": "code",
   "execution_count": 14,
   "metadata": {},
   "outputs": [],
   "source": [
    "dl_eval = {}\n",
    "for task in ['to','as','about']:\n",
    "    dl_eval[task] = DataLoader(md_dataset[task],batch_size=128,shuffle=False,collate_fn=st.collate_fn)"
   ]
  },
  {
   "attachments": {},
   "cell_type": "markdown",
   "metadata": {},
   "source": [
    "# ABOUT"
   ]
  },
  {
   "cell_type": "code",
   "execution_count": 15,
   "metadata": {},
   "outputs": [
    {
     "name": "stderr",
     "output_type": "stream",
     "text": [
      "Some weights of the model checkpoint at distilbert-base-cased were not used when initializing DistilBertModel: ['vocab_transform.weight', 'vocab_projector.weight', 'vocab_projector.bias', 'vocab_layer_norm.weight', 'vocab_transform.bias', 'vocab_layer_norm.bias']\n",
      "- This IS expected if you are initializing DistilBertModel from the checkpoint of a model trained on another task or with another architecture (e.g. initializing a BertForSequenceClassification model from a BertForPreTraining model).\n",
      "- This IS NOT expected if you are initializing DistilBertModel from the checkpoint of a model that you expect to be exactly identical (initializing a BertForSequenceClassification model from a BertForSequenceClassification model).\n"
     ]
    }
   ],
   "source": [
    "model = st.SingleTaskDep(model_conf,vocab).to(device)\n",
    "save_path='m1_dep_distilbert_ABOUT_rel'"
   ]
  },
  {
   "cell_type": "code",
   "execution_count": 16,
   "metadata": {},
   "outputs": [
    {
     "name": "stdout",
     "output_type": "stream",
     "text": [
      "Using scikit learn accuracy por género en el conjunto about\n",
      "GLOBAL: 0.4885204081632653\n",
      "MALE 0.9713541666666666\n",
      "FEMALE 0.025 \n",
      "\n",
      "Using scikit learn accuracy por género en el conjunto to\n",
      "GLOBAL: 0.49747474747474746\n",
      "MALE 0.9343065693430657\n",
      "FEMALE 0.026246719160104987 \n",
      "\n",
      "Using scikit learn accuracy por género en el conjunto as\n",
      "GLOBAL: 0.5110821382007823\n",
      "MALE 0.9570707070707071\n",
      "FEMALE 0.03504043126684636 \n",
      "\n"
     ]
    }
   ],
   "source": [
    "for task in ['about','to','as']:\n",
    "    print(f\"Using scikit learn accuracy por género en el conjunto {task}\")\n",
    "    print(f\"GLOBAL: {train.eval_function_single_sk(model,dl_eval[task])}\")\n",
    "    print(f\"MALE {train.eval_function_single_sk(model,dl_eval[task],gender='male')}\")\n",
    "    print(f\"FEMALE {train.eval_function_single_sk(model,dl_eval[task],gender='female')}\",'\\n')"
   ]
  },
  {
   "cell_type": "code",
   "execution_count": 17,
   "metadata": {},
   "outputs": [
    {
     "data": {
      "application/vnd.jupyter.widget-view+json": {
       "model_id": "edf1371f151240beab0b38b0145ca2c3",
       "version_major": 2,
       "version_minor": 0
      },
      "text/plain": [
       "  0%|          | 0/57400 [00:00<?, ?it/s]"
      ]
     },
     "metadata": {},
     "output_type": "display_data"
    },
    {
     "name": "stdout",
     "output_type": "stream",
     "text": [
      "Epoch 1 \t Training loss: 0.6822128593921661 \t Validation loss: 0.681791733887236 \t \n",
      "  1%|          | 574/57400 [02:11<5:28:23,  2.88it/s]\n",
      "Epoch 2 \t Training loss: 0.676354795798192 \t Validation loss: 0.6750739267316915 \t \n",
      "  2%|▏         | 1148/57400 [05:24<5:09:14,  3.03it/s]\n",
      "Epoch 3 \t Training loss: 0.6615699522378968 \t Validation loss: 0.6463323902275603 \t \n",
      "  3%|▎         | 1722/57400 [08:37<5:03:59,  3.05it/s]\n",
      "Epoch 4 \t Training loss: 0.5960859315735954 \t Validation loss: 0.5324450115026054 \t \n",
      "  4%|▍         | 2296/57400 [11:18<4:13:09,  3.63it/s]\n",
      "Epoch 5 \t Training loss: 0.4888028932365391 \t Validation loss: 0.44557081491260203 \t \n",
      "  5%|▌         | 2870/57400 [14:04<4:14:26,  3.57it/s]\n",
      "Epoch 6 \t Training loss: 0.4356074277116862 \t Validation loss: 0.4036677247386868 \t \n",
      "  6%|▌         | 3444/57400 [17:13<4:53:50,  3.06it/s]\n",
      "Epoch 7 \t Training loss: 0.40484608133495475 \t Validation loss: 0.3878715780832 \t \n",
      "  7%|▋         | 4018/57400 [20:23<4:19:49,  3.42it/s]\n",
      "Epoch 8 \t Training loss: 0.38715277793930797 \t Validation loss: 0.3671239149772515 \t \n",
      "  8%|▊         | 4592/57400 [23:11<4:07:07,  3.56it/s]\n",
      "Epoch 9 \t Training loss: 0.37567740312748255 \t Validation loss: 0.36327224616277015 \t \n",
      "  9%|▉         | 5166/57400 [26:10<4:42:46,  3.08it/s]\n",
      "Epoch 10 \t Training loss: 0.3675585918725575 \t Validation loss: 0.35309897438954496 \t \n",
      " 10%|█         | 5740/57400 [29:07<3:50:17,  3.74it/s]\n",
      "Epoch 11 \t Training loss: 0.3560698639588489 \t Validation loss: 0.35047951290162943 \t \n",
      " 11%|█         | 6314/57400 [31:48<3:53:28,  3.65it/s]\n",
      "Epoch 12 \t Training loss: 0.35193080758799244 \t Validation loss: 0.35353253049365546 \t \n",
      "\n",
      "1 epoch without improvement\n",
      " 12%|█▏        | 6888/57400 [34:59<4:39:20,  3.01it/s]\n",
      "Epoch 13 \t Training loss: 0.3464705391368384 \t Validation loss: 0.34292605418269917 \t \n",
      " 13%|█▎        | 7462/57400 [38:12<4:25:24,  3.14it/s]\n",
      "Epoch 14 \t Training loss: 0.3409547293591167 \t Validation loss: 0.33953480473009207 \t \n",
      " 14%|█▍        | 8036/57400 [41:00<3:40:17,  3.73it/s]\n",
      "Epoch 15 \t Training loss: 0.3346769380860212 \t Validation loss: 0.33331345703642246 \t \n",
      " 15%|█▌        | 8610/57400 [43:47<2:25:25,  5.59it/s]\n",
      "Epoch 16 \t Training loss: 0.33234631306514506 \t Validation loss: 0.3306288201425035 \t \n",
      " 16%|█▌        | 9184/57400 [46:26<2:47:45,  4.79it/s]\n",
      "Epoch 17 \t Training loss: 0.3268723211118153 \t Validation loss: 0.3291532821574454 \t \n",
      " 17%|█▋        | 9758/57400 [48:31<2:40:31,  4.95it/s]\n",
      "Epoch 18 \t Training loss: 0.3226973583681658 \t Validation loss: 0.32524332808235945 \t \n",
      " 18%|█▊        | 10332/57400 [50:40<2:49:24,  4.63it/s]\n",
      "Epoch 19 \t Training loss: 0.3191128708032781 \t Validation loss: 0.32510149630449586 \t \n",
      " 19%|█▉        | 10906/57400 [53:13<4:49:53,  2.67it/s]\n",
      "Epoch 20 \t Training loss: 0.3164475481788456 \t Validation loss: 0.3233349131325544 \t \n",
      " 20%|██        | 11480/57400 [56:00<3:37:20,  3.52it/s]\n",
      "Epoch 21 \t Training loss: 0.31296686023369896 \t Validation loss: 0.3218316104957613 \t \n",
      " 21%|██        | 12054/57400 [58:55<3:59:50,  3.15it/s]\n",
      "Epoch 22 \t Training loss: 0.3110692230043511 \t Validation loss: 0.32034725961038624 \t \n",
      " 22%|██▏       | 12628/57400 [1:02:03<4:15:25,  2.92it/s]\n",
      "Epoch 23 \t Training loss: 0.3070163564036117 \t Validation loss: 0.31939784677351934 \t \n",
      " 23%|██▎       | 13202/57400 [1:05:09<3:17:53,  3.72it/s]\n",
      "Epoch 24 \t Training loss: 0.30428089045689083 \t Validation loss: 0.3153326943264169 \t \n",
      " 24%|██▍       | 13776/57400 [1:07:53<4:40:29,  2.59it/s]\n",
      "Epoch 25 \t Training loss: 0.30265819489021334 \t Validation loss: 0.31435149251404454 \t \n",
      " 25%|██▌       | 14350/57400 [1:10:48<3:55:58,  3.04it/s]\n",
      "Epoch 26 \t Training loss: 0.30061949846636543 \t Validation loss: 0.31334839432926503 \t \n",
      " 26%|██▌       | 14924/57400 [1:13:47<3:18:40,  3.56it/s]\n",
      "Epoch 27 \t Training loss: 0.29709057896706287 \t Validation loss: 0.3123718788058071 \t \n",
      " 27%|██▋       | 15498/57400 [1:16:30<2:27:57,  4.72it/s]\n",
      "Epoch 28 \t Training loss: 0.2964185564048614 \t Validation loss: 0.3127605654930664 \t \n",
      " 28%|██▊       | 16072/57400 [1:19:07<2:19:52,  4.92it/s]\n",
      "Epoch 29 \t Training loss: 0.2955765659281601 \t Validation loss: 0.31022044384883624 \t \n",
      " 29%|██▉       | 16646/57400 [1:21:53<3:01:49,  3.74it/s]\n",
      "Epoch 30 \t Training loss: 0.29218701784619056 \t Validation loss: 0.30936568773398965 \t \n",
      " 30%|███       | 17220/57400 [1:24:50<3:41:25,  3.02it/s]\n",
      "Epoch 31 \t Training loss: 0.2890372972299413 \t Validation loss: 0.30978707160990115 \t \n",
      " 31%|███       | 17794/57400 [1:27:58<3:39:34,  3.01it/s]\n",
      "Epoch 32 \t Training loss: 0.2860554922437003 \t Validation loss: 0.31010362808987246 \t \n",
      " 32%|███▏      | 18368/57400 [1:31:01<2:55:18,  3.71it/s]\n",
      "Epoch 33 \t Training loss: 0.2860536103101142 \t Validation loss: 0.30861632323871224 \t \n",
      " 33%|███▎      | 18942/57400 [1:34:00<3:50:39,  2.78it/s]\n",
      "Epoch 34 \t Training loss: 0.2834068884106048 \t Validation loss: 0.30830558098978916 \t \n",
      " 34%|███▍      | 19516/57400 [1:36:44<2:52:42,  3.66it/s]\n",
      "Epoch 35 \t Training loss: 0.28171743927620846 \t Validation loss: 0.3070337269770897 \t \n",
      " 35%|███▌      | 20090/57400 [1:39:40<2:42:59,  3.81it/s]\n",
      "Epoch 36 \t Training loss: 0.28009440248851575 \t Validation loss: 0.3096744607565767 \t \n",
      "\n",
      "1 epoch without improvement\n",
      " 36%|███▌      | 20664/57400 [1:42:48<2:36:48,  3.90it/s]\n",
      "Epoch 37 \t Training loss: 0.2774181517834032 \t Validation loss: 0.3066819219265954 \t \n",
      " 37%|███▋      | 21238/57400 [1:45:56<3:10:00,  3.17it/s]\n",
      "Epoch 38 \t Training loss: 0.2789238980007504 \t Validation loss: 0.30595598912845223 \t \n",
      " 38%|███▊      | 21812/57400 [1:49:04<3:23:51,  2.91it/s]\n",
      "Epoch 39 \t Training loss: 0.2747537259025441 \t Validation loss: 0.305438001024521 \t \n",
      " 39%|███▉      | 22386/57400 [1:51:54<2:19:20,  4.19it/s]\n",
      "Epoch 40 \t Training loss: 0.27492156975256854 \t Validation loss: 0.30435341672372007 \t \n",
      " 40%|████      | 22960/57400 [1:54:41<2:47:55,  3.42it/s]\n",
      "Epoch 41 \t Training loss: 0.2712411777690728 \t Validation loss: 0.30724867142863194 \t \n",
      "\n",
      "1 epoch without improvement\n",
      " 41%|████      | 23534/57400 [1:57:26<2:47:57,  3.36it/s]\n",
      "Epoch 42 \t Training loss: 0.27125101009520086 \t Validation loss: 0.3033078391168077 \t \n",
      " 42%|████▏     | 24108/57400 [2:00:26<2:24:28,  3.84it/s]\n",
      "Epoch 43 \t Training loss: 0.26895552325850997 \t Validation loss: 0.30524968343265985 \t \n",
      "\n",
      "1 epoch without improvement\n",
      " 43%|████▎     | 24682/57400 [2:03:34<3:05:10,  2.94it/s]\n",
      "Epoch 44 \t Training loss: 0.26783529671642425 \t Validation loss: 0.30444944687819075 \t \n",
      "\n",
      "2 epoch without improvement\n",
      " 44%|████▍     | 25256/57400 [2:06:41<2:16:53,  3.91it/s]\n",
      "Epoch 45 \t Training loss: 0.26606982231192056 \t Validation loss: 0.30433265107162927 \t \n",
      "\n",
      "3 epoch without improvement\n",
      " 45%|████▌     | 25830/57400 [2:09:37<2:30:34,  3.49it/s]\n",
      "Epoch 46 \t Training loss: 0.26318149050561396 \t Validation loss: 0.30393851965160695 \t \n",
      " 46%|████▌     | 26404/57400 [2:32:53<2:52:06,  3.00it/s]\n",
      "Epoch 47 \t Training loss: 0.2656194929435901 \t Validation loss: 0.3045989088082718 \t \n",
      "\n",
      "4 epoch without improvement\n",
      " 47%|████▋     | 26978/57400 [2:35:29<1:48:16,  4.68it/s]\n",
      "Epoch 48 \t Training loss: 0.26197983913824535 \t Validation loss: 0.30603600659612884 \t \n",
      "\n",
      "5 epoch without improvement\n",
      " 48%|████▊     | 27552/57400 [2:38:09<2:13:55,  3.71it/s]\n",
      "Epoch 49 \t Training loss: 0.2619335497453653 \t Validation loss: 0.30398297183594464 \t \n",
      " 49%|████▉     | 28126/57400 [2:41:19<2:38:25,  3.08it/s]\n",
      "Epoch 50 \t Training loss: 0.2602834852107311 \t Validation loss: 0.30205479137978314 \t \n",
      " 50%|█████     | 28700/57400 [2:44:29<2:48:52,  2.83it/s]\n",
      "Epoch 51 \t Training loss: 0.25900635940999517 \t Validation loss: 0.3026717358221442 \t \n",
      " 51%|█████     | 29274/57400 [2:47:17<2:06:05,  3.72it/s]\n",
      "Epoch 52 \t Training loss: 0.2587318483493469 \t Validation loss: 0.30343432901269296 \t \n",
      "\n",
      "1 epoch without improvement\n",
      " 52%|█████▏    | 29848/57400 [2:49:56<2:06:25,  3.63it/s]\n",
      "Epoch 53 \t Training loss: 0.2557093385827666 \t Validation loss: 0.3022398413237879 \t \n",
      " 53%|█████▎    | 30422/57400 [2:52:47<2:25:32,  3.09it/s]\n",
      "Epoch 54 \t Training loss: 0.25548784105100697 \t Validation loss: 0.30184629887847575 \t \n",
      " 54%|█████▍    | 30996/57400 [2:55:32<2:58:15,  2.47it/s]\n",
      "Epoch 55 \t Training loss: 0.2546310333684346 \t Validation loss: 0.30038068153090397 \t \n",
      " 55%|█████▌    | 31570/57400 [2:58:16<2:00:16,  3.58it/s]\n",
      "Epoch 56 \t Training loss: 0.2541295156298199 \t Validation loss: 0.30140495527598815 \t \n",
      "\n",
      "1 epoch without improvement\n",
      " 56%|█████▌    | 32144/57400 [3:00:56<1:48:39,  3.87it/s]\n",
      "Epoch 57 \t Training loss: 0.2538472527982051 \t Validation loss: 0.2992259801949485 \t \n",
      " 57%|█████▋    | 32718/57400 [3:03:56<2:13:08,  3.09it/s]\n",
      "Epoch 58 \t Training loss: 0.2514822443862825 \t Validation loss: 0.30070429004855076 \t \n",
      "\n",
      "1 epoch without improvement\n",
      " 58%|█████▊    | 33292/57400 [3:07:07<2:10:53,  3.07it/s]\n",
      "Epoch 59 \t Training loss: 0.2516550883287337 \t Validation loss: 0.3000615143169791 \t \n",
      " 59%|█████▉    | 33866/57400 [3:10:09<1:42:59,  3.81it/s]\n",
      "Epoch 60 \t Training loss: 0.25099058312977235 \t Validation loss: 0.30065235141980445 \t \n",
      "\n",
      "2 epoch without improvement\n",
      " 60%|██████    | 34440/57400 [3:12:47<1:47:04,  3.57it/s]\n",
      "Epoch 61 \t Training loss: 0.2506221340975695 \t Validation loss: 0.30070280321573806 \t \n",
      "\n",
      "3 epoch without improvement\n",
      " 61%|██████    | 35014/57400 [3:15:26<1:46:33,  3.50it/s]\n",
      "Epoch 62 \t Training loss: 0.2505050636438543 \t Validation loss: 0.3010384420217094 \t \n",
      "\n",
      "4 epoch without improvement\n",
      " 62%|██████▏   | 35588/57400 [3:18:09<1:37:56,  3.71it/s]\n",
      "Epoch 63 \t Training loss: 0.24921943712006048 \t Validation loss: 0.30076970160007477 \t \n",
      "\n",
      "5 epoch without improvement\n",
      " 63%|██████▎   | 36162/57400 [3:20:48<1:34:44,  3.74it/s]\n",
      "Epoch 64 \t Training loss: 0.24792489754717525 \t Validation loss: 0.3012963836475954 \t \n",
      "\n",
      "6 epoch without improvement\n",
      " 64%|██████▍   | 36736/57400 [3:23:33<1:39:35,  3.46it/s]\n",
      "Epoch 65 \t Training loss: 0.24675047247044302 \t Validation loss: 0.3003218224493124 \t \n",
      "\n",
      "7 epoch without improvement\n",
      " 65%|██████▌   | 37310/57400 [3:26:18<1:34:21,  3.55it/s]\n",
      "Epoch 66 \t Training loss: 0.2458749680620868 \t Validation loss: 0.30232572151442705 \t \n",
      "\n",
      "8 epoch without improvement\n",
      " 66%|██████▌   | 37884/57400 [3:29:22<1:34:23,  3.45it/s]\n",
      "Epoch 67 \t Training loss: 0.2444101287772431 \t Validation loss: 0.29994997558957437 \t \n",
      " 67%|██████▋   | 38458/57400 [3:32:00<1:23:01,  3.80it/s]\n",
      "Epoch 68 \t Training loss: 0.2453368793173534 \t Validation loss: 0.3008099157931441 \t \n",
      "\n",
      "9 epoch without improvement\n",
      " 68%|██████▊   | 39032/57400 [3:34:38<1:55:14,  2.66it/s]\n",
      "Epoch 69 \t Training loss: 0.24312524040609287 \t Validation loss: 0.30071001588288 \t \n",
      "\n",
      "10 epoch without improvement\n",
      "Validation_loss hasn't improve in 10 epoch. Stopping training after 69 epochs...\n"
     ]
    },
    {
     "data": {
      "image/png": "[encoded data removed]",
      "text/plain": [
       "<Figure size 640x480 with 1 Axes>"
      ]
     },
     "metadata": {},
     "output_type": "display_data"
    }
   ],
   "source": [
    "learning_rate = 5e-5\n",
    "optimizer = SGD(model.parameters(), lr=learning_rate, momentum=0.9)\n",
    "num_epochs = 100\n",
    "\n",
    "train.train_function(model,num_epochs,dl_train['about'],optimizer,early_stop=10,dl_val=dl_val['about'],save_path=save_path)"
   ]
  },
  {
   "cell_type": "code",
   "execution_count": 18,
   "metadata": {},
   "outputs": [
    {
     "name": "stderr",
     "output_type": "stream",
     "text": [
      "Some weights of the model checkpoint at distilbert-base-cased were not used when initializing DistilBertModel: ['vocab_transform.weight', 'vocab_projector.weight', 'vocab_projector.bias', 'vocab_layer_norm.weight', 'vocab_transform.bias', 'vocab_layer_norm.bias']\n",
      "- This IS expected if you are initializing DistilBertModel from the checkpoint of a model trained on another task or with another architecture (e.g. initializing a BertForSequenceClassification model from a BertForPreTraining model).\n",
      "- This IS NOT expected if you are initializing DistilBertModel from the checkpoint of a model that you expect to be exactly identical (initializing a BertForSequenceClassification model from a BertForSequenceClassification model).\n"
     ]
    },
    {
     "name": "stdout",
     "output_type": "stream",
     "text": [
      "Using scikit learn accuracy por género en el conjunto about\n",
      "GLOBAL: 0.8392857142857143\n",
      "MALE 0.8463541666666666\n",
      "FEMALE 0.8325 \n",
      "\n",
      "Using scikit learn accuracy por género en el conjunto to\n",
      "GLOBAL: 0.6540404040404041\n",
      "MALE 0.6788321167883211\n",
      "FEMALE 0.6272965879265092 \n",
      "\n",
      "Using scikit learn accuracy por género en el conjunto as\n",
      "GLOBAL: 0.6740547588005215\n",
      "MALE 0.6616161616161617\n",
      "FEMALE 0.6873315363881402 \n",
      "\n"
     ]
    }
   ],
   "source": [
    "model = st.SingleTaskDep(model_conf,vocab).to(device)\n",
    "model.load_state_dict(torch.load(save_path))\n",
    "for task in ['about','to','as']:\n",
    "    print(f\"Using scikit learn accuracy por género en el conjunto {task}\")\n",
    "    print(f\"GLOBAL: {train.eval_function_single_sk(model,dl_eval[task])}\")\n",
    "    print(f\"MALE {train.eval_function_single_sk(model,dl_eval[task],gender='male')}\")\n",
    "    print(f\"FEMALE {train.eval_function_single_sk(model,dl_eval[task],gender='female')}\",'\\n')"
   ]
  },
  {
   "attachments": {},
   "cell_type": "markdown",
   "metadata": {},
   "source": [
    "# TO"
   ]
  },
  {
   "cell_type": "code",
   "execution_count": 19,
   "metadata": {},
   "outputs": [
    {
     "name": "stderr",
     "output_type": "stream",
     "text": [
      "Some weights of the model checkpoint at distilbert-base-cased were not used when initializing DistilBertModel: ['vocab_transform.weight', 'vocab_projector.weight', 'vocab_projector.bias', 'vocab_layer_norm.weight', 'vocab_transform.bias', 'vocab_layer_norm.bias']\n",
      "- This IS expected if you are initializing DistilBertModel from the checkpoint of a model trained on another task or with another architecture (e.g. initializing a BertForSequenceClassification model from a BertForPreTraining model).\n",
      "- This IS NOT expected if you are initializing DistilBertModel from the checkpoint of a model that you expect to be exactly identical (initializing a BertForSequenceClassification model from a BertForSequenceClassification model).\n"
     ]
    }
   ],
   "source": [
    "model = st.SingleTaskDep(model_conf,vocab).to(device)\n",
    "save_path='m1_dep_distilbert_TO_rel'"
   ]
  },
  {
   "cell_type": "code",
   "execution_count": 20,
   "metadata": {},
   "outputs": [
    {
     "data": {
      "application/vnd.jupyter.widget-view+json": {
       "model_id": "34a03b01646244058c9a8f3f0cb3c8f7",
       "version_major": 2,
       "version_minor": 0
      },
      "text/plain": [
       "  0%|          | 0/57400 [00:00<?, ?it/s]"
      ]
     },
     "metadata": {},
     "output_type": "display_data"
    },
    {
     "name": "stdout",
     "output_type": "stream",
     "text": [
      "Epoch 1 \t Training loss: 0.6949056026619901 \t Validation loss: 0.6923265184386301 \t \n",
      "  1%|          | 574/57400 [02:40<4:41:41,  3.36it/s]\n",
      "Epoch 2 \t Training loss: 0.6945589339483905 \t Validation loss: 0.6927026843620558 \t \n",
      "  2%|▏         | 1148/57400 [05:24<4:30:42,  3.46it/s]\n",
      "Epoch 3 \t Training loss: 0.6944180413405654 \t Validation loss: 0.6934738482459116 \t \n",
      "\n",
      "1 epoch without improvement\n",
      "  3%|▎         | 1722/57400 [08:38<5:26:04,  2.85it/s]\n",
      "Epoch 4 \t Training loss: 0.6941784011777685 \t Validation loss: 0.6936562445204136 \t \n",
      "\n",
      "2 epoch without improvement\n",
      "  4%|▍         | 2296/57400 [11:53<5:19:21,  2.88it/s]\n",
      "Epoch 5 \t Training loss: 0.6941402960529726 \t Validation loss: 0.693395463086791 \t \n",
      "\n",
      "3 epoch without improvement\n",
      "  5%|▌         | 2870/57400 [14:34<4:08:36,  3.66it/s]\n",
      "Epoch 6 \t Training loss: 0.6941277048313659 \t Validation loss: 0.6930397152900696 \t \n",
      "  6%|▌         | 3444/57400 [17:18<4:32:13,  3.30it/s]\n",
      "Epoch 7 \t Training loss: 0.6939483132304215 \t Validation loss: 0.6935297927613986 \t \n",
      "\n",
      "4 epoch without improvement\n",
      "  7%|▋         | 4018/57400 [20:04<3:08:33,  4.72it/s]\n",
      "Epoch 8 \t Training loss: 0.6939069480223108 \t Validation loss: 0.692319850800401 \t \n",
      "  8%|▊         | 4592/57400 [22:44<3:48:00,  3.86it/s]\n",
      "Epoch 9 \t Training loss: 0.6937991147049628 \t Validation loss: 0.6934288275443902 \t \n",
      "\n",
      "1 epoch without improvement\n",
      "  9%|▉         | 5166/57400 [25:36<3:52:03,  3.75it/s]\n",
      "Epoch 10 \t Training loss: 0.6938314154380705 \t Validation loss: 0.692662957361189 \t \n",
      " 10%|█         | 5740/57400 [28:49<3:40:51,  3.90it/s]\n",
      "Epoch 11 \t Training loss: 0.6938322436726467 \t Validation loss: 0.6932570691836082 \t \n",
      " 11%|█         | 6314/57400 [32:01<3:59:37,  3.55it/s]\n",
      "Epoch 12 \t Training loss: 0.6938816640227514 \t Validation loss: 0.6935043688547813 \t \n",
      "\n",
      "2 epoch without improvement\n",
      " 12%|█▏        | 6888/57400 [34:40<3:58:03,  3.54it/s]\n",
      "Epoch 13 \t Training loss: 0.6937416045300221 \t Validation loss: 0.6931230264194941 \t \n",
      " 13%|█▎        | 7462/57400 [37:25<3:54:21,  3.55it/s]\n",
      "Epoch 14 \t Training loss: 0.6935929495075438 \t Validation loss: 0.6929300609281508 \t \n",
      " 14%|█▍        | 8036/57400 [40:25<2:59:44,  4.58it/s]\n",
      "Epoch 15 \t Training loss: 0.6935471562142986 \t Validation loss: 0.6929821321519755 \t \n",
      " 15%|█▌        | 8610/57400 [43:05<3:46:49,  3.58it/s]\n",
      "Epoch 16 \t Training loss: 0.6936190878057313 \t Validation loss: 0.6925932360907733 \t \n",
      " 16%|█▌        | 9184/57400 [45:48<4:08:03,  3.24it/s]\n",
      "Epoch 17 \t Training loss: 0.6935661316748696 \t Validation loss: 0.6934247592748222 \t \n",
      "\n",
      "3 epoch without improvement\n",
      " 17%|█▋        | 9758/57400 [48:37<3:38:55,  3.63it/s]\n",
      "Epoch 18 \t Training loss: 0.6935822444510377 \t Validation loss: 0.6922823705915677 \t \n",
      " 18%|█▊        | 10332/57400 [51:51<3:42:25,  3.53it/s]\n",
      "Epoch 19 \t Training loss: 0.6936228917035492 \t Validation loss: 0.6939172158807011 \t \n",
      "\n",
      "1 epoch without improvement\n",
      " 19%|█▉        | 10906/57400 [54:38<2:49:13,  4.58it/s]\n",
      "Epoch 20 \t Training loss: 0.6935379038912078 \t Validation loss: 0.6933793769044391 \t \n",
      "\n",
      "2 epoch without improvement\n",
      " 20%|██        | 11480/57400 [57:20<2:53:04,  4.42it/s]\n",
      "Epoch 21 \t Training loss: 0.6933352121700393 \t Validation loss: 0.6932233935695583 \t \n",
      " 21%|██        | 12054/57400 [1:00:13<3:42:42,  3.39it/s]\n",
      "Epoch 22 \t Training loss: 0.6934347775755029 \t Validation loss: 0.6926403924570246 \t \n",
      " 22%|██▏       | 12628/57400 [1:03:19<4:04:53,  3.05it/s]\n",
      "Epoch 23 \t Training loss: 0.6934083106210422 \t Validation loss: 0.692464861829402 \t \n",
      " 23%|██▎       | 13202/57400 [1:06:33<4:07:49,  2.97it/s]\n",
      "Epoch 24 \t Training loss: 0.6934105008321356 \t Validation loss: 0.6942821609771858 \t \n",
      "\n",
      "3 epoch without improvement\n",
      " 24%|██▍       | 13776/57400 [1:09:31<3:20:08,  3.63it/s]\n",
      "Epoch 25 \t Training loss: 0.693576032899398 \t Validation loss: 0.6928125539068448 \t \n",
      " 25%|██▌       | 14350/57400 [1:12:11<3:22:06,  3.55it/s]\n",
      "Epoch 26 \t Training loss: 0.6934742742714566 \t Validation loss: 0.6928868455401922 \t \n",
      " 26%|██▌       | 14924/57400 [1:15:21<3:05:27,  3.82it/s]\n",
      "Epoch 27 \t Training loss: 0.6934471369205036 \t Validation loss: 0.6936518479201753 \t \n",
      "\n",
      "4 epoch without improvement\n",
      " 27%|██▋       | 15498/57400 [1:18:35<3:46:35,  3.08it/s]\n",
      "Epoch 28 \t Training loss: 0.6933111394739317 \t Validation loss: 0.6934296519069348 \t \n",
      "\n",
      "5 epoch without improvement\n",
      " 28%|██▊       | 16072/57400 [1:21:30<3:12:15,  3.58it/s]\n",
      "Epoch 29 \t Training loss: 0.6934029375842224 \t Validation loss: 0.693434770834648 \t \n",
      "\n",
      "6 epoch without improvement\n",
      " 29%|██▉       | 16646/57400 [1:24:17<3:14:55,  3.48it/s]\n",
      "Epoch 30 \t Training loss: 0.6934561429331112 \t Validation loss: 0.6934491668717336 \t \n",
      "\n",
      "7 epoch without improvement\n",
      " 30%|███       | 17220/57400 [1:27:28<3:59:38,  2.79it/s]\n",
      "Epoch 31 \t Training loss: 0.6932886875257259 \t Validation loss: 0.6938724214747801 \t \n",
      "\n",
      "8 epoch without improvement\n",
      " 31%|███       | 17794/57400 [1:30:16<3:21:07,  3.28it/s]\n",
      "Epoch 32 \t Training loss: 0.6932603006578903 \t Validation loss: 0.6925949767484503 \t \n",
      " 32%|███▏      | 18368/57400 [1:33:16<2:55:17,  3.71it/s]\n",
      "Epoch 33 \t Training loss: 0.6932509712848929 \t Validation loss: 0.6937604789006508 \t \n",
      "\n",
      "9 epoch without improvement\n",
      " 33%|███▎      | 18942/57400 [1:35:55<2:18:35,  4.63it/s]\n",
      "Epoch 34 \t Training loss: 0.6933327664066274 \t Validation loss: 0.6927834466352301 \t \n",
      " 34%|███▍      | 19516/57400 [1:38:40<3:06:03,  3.39it/s]\n",
      "Epoch 35 \t Training loss: 0.6932064331159359 \t Validation loss: 0.6931121713024074 \t \n",
      " 35%|███▌      | 20090/57400 [1:41:50<3:30:14,  2.96it/s]\n",
      "Epoch 36 \t Training loss: 0.6932810037185921 \t Validation loss: 0.6921854281829576 \t \n",
      " 36%|███▌      | 20664/57400 [1:44:57<2:45:07,  3.71it/s]\n",
      "Epoch 37 \t Training loss: 0.6932181371213667 \t Validation loss: 0.6932970659207489 \t \n",
      "\n",
      "1 epoch without improvement\n",
      " 37%|███▋      | 21238/57400 [1:47:37<2:14:45,  4.47it/s]\n",
      "Epoch 38 \t Training loss: 0.6932120270222322 \t Validation loss: 0.6932268061880338 \t \n",
      "\n",
      "2 epoch without improvement\n",
      " 38%|███▊      | 21812/57400 [1:50:31<3:20:22,  2.96it/s]\n",
      "Epoch 39 \t Training loss: 0.6932283742710273 \t Validation loss: 0.6936684402368837 \t \n",
      "\n",
      "3 epoch without improvement\n",
      " 39%|███▉      | 22386/57400 [1:53:31<2:06:02,  4.63it/s]\n",
      "Epoch 40 \t Training loss: 0.6933130808823615 \t Validation loss: 0.6932882353410883 \t \n",
      "\n",
      "4 epoch without improvement\n",
      " 40%|████      | 22960/57400 [1:56:11<2:39:34,  3.60it/s]\n",
      "Epoch 41 \t Training loss: 0.6933594906787008 \t Validation loss: 0.6932481517226009 \t \n",
      "\n",
      "5 epoch without improvement\n",
      " 41%|████      | 23534/57400 [1:58:58<2:43:31,  3.45it/s]\n",
      "Epoch 42 \t Training loss: 0.6932773605664018 \t Validation loss: 0.6929749159489648 \t \n",
      " 42%|████▏     | 24108/57400 [2:02:05<3:04:23,  3.01it/s]\n",
      "Epoch 43 \t Training loss: 0.6932619981441763 \t Validation loss: 0.6930322141970618 \t \n",
      " 43%|████▎     | 24682/57400 [2:05:08<2:38:52,  3.43it/s]\n",
      "Epoch 44 \t Training loss: 0.6932126524556389 \t Validation loss: 0.6929790215977167 \t \n",
      " 44%|████▍     | 25256/57400 [2:07:47<2:26:01,  3.67it/s]\n",
      "Epoch 45 \t Training loss: 0.6933770127828113 \t Validation loss: 0.6932542677653037 \t \n",
      "\n",
      "6 epoch without improvement\n",
      " 45%|████▌     | 25830/57400 [2:10:41<2:50:15,  3.09it/s]\n",
      "Epoch 46 \t Training loss: 0.693124609437969 \t Validation loss: 0.693413481873981 \t \n",
      "\n",
      "7 epoch without improvement\n",
      " 46%|████▌     | 26404/57400 [2:13:38<2:16:00,  3.80it/s]\n",
      "Epoch 47 \t Training loss: 0.6932818466985683 \t Validation loss: 0.693132861185882 \t \n",
      " 47%|████▋     | 26978/57400 [2:16:19<2:12:14,  3.83it/s]\n",
      "Epoch 48 \t Training loss: 0.6932882095463184 \t Validation loss: 0.6926182074061895 \t \n",
      " 48%|████▊     | 27552/57400 [2:18:59<1:47:38,  4.62it/s]\n",
      "Epoch 49 \t Training loss: 0.6934233963074169 \t Validation loss: 0.6931081707194701 \t \n",
      " 49%|████▉     | 28126/57400 [2:21:43<2:21:52,  3.44it/s]\n",
      "Epoch 50 \t Training loss: 0.6931506055780404 \t Validation loss: 0.6939807039196209 \t \n",
      "\n",
      "8 epoch without improvement\n",
      " 50%|█████     | 28700/57400 [2:24:31<1:47:11,  4.46it/s]\n",
      "Epoch 51 \t Training loss: 0.6932251344366771 \t Validation loss: 0.6931388479168132 \t \n",
      " 51%|█████     | 29274/57400 [2:27:34<2:30:09,  3.12it/s]\n",
      "Epoch 52 \t Training loss: 0.693246655763234 \t Validation loss: 0.6930231007479005 \t \n",
      " 52%|█████▏    | 29848/57400 [2:30:16<2:05:23,  3.66it/s]\n",
      "Epoch 53 \t Training loss: 0.6932773730273031 \t Validation loss: 0.6927270919589673 \t \n",
      " 53%|█████▎    | 30422/57400 [2:33:02<2:09:46,  3.46it/s]\n",
      "Epoch 54 \t Training loss: 0.6932873696815677 \t Validation loss: 0.693288117142047 \t \n",
      "\n",
      "9 epoch without improvement\n",
      " 54%|█████▍    | 30996/57400 [2:35:58<2:00:18,  3.66it/s]\n",
      "Epoch 55 \t Training loss: 0.6932619641882202 \t Validation loss: 0.6933834431535106 \t \n",
      "\n",
      "10 epoch without improvement\n",
      "Validation_loss hasn't improve in 10 epoch. Stopping training after 55 epochs...\n"
     ]
    },
    {
     "data": {
      "image/png": "[encoded data removed]",
      "text/plain": [
       "<Figure size 640x480 with 1 Axes>"
      ]
     },
     "metadata": {},
     "output_type": "display_data"
    }
   ],
   "source": [
    "learning_rate = 5e-5\n",
    "optimizer = SGD(model.parameters(), lr=learning_rate, momentum=0.9)\n",
    "num_epochs = 100\n",
    "\n",
    "train.train_function(model,num_epochs,dl_train['to'],optimizer,early_stop=10,dl_val=dl_val['to'],save_path=save_path)"
   ]
  },
  {
   "cell_type": "code",
   "execution_count": 21,
   "metadata": {},
   "outputs": [
    {
     "name": "stderr",
     "output_type": "stream",
     "text": [
      "Some weights of the model checkpoint at distilbert-base-cased were not used when initializing DistilBertModel: ['vocab_transform.weight', 'vocab_projector.weight', 'vocab_projector.bias', 'vocab_layer_norm.weight', 'vocab_transform.bias', 'vocab_layer_norm.bias']\n",
      "- This IS expected if you are initializing DistilBertModel from the checkpoint of a model trained on another task or with another architecture (e.g. initializing a BertForSequenceClassification model from a BertForPreTraining model).\n",
      "- This IS NOT expected if you are initializing DistilBertModel from the checkpoint of a model that you expect to be exactly identical (initializing a BertForSequenceClassification model from a BertForSequenceClassification model).\n"
     ]
    },
    {
     "name": "stdout",
     "output_type": "stream",
     "text": [
      "Using scikit learn accuracy por género en el conjunto about\n",
      "GLOBAL: 0.47959183673469385\n",
      "MALE 0.19270833333333334\n",
      "FEMALE 0.755 \n",
      "\n",
      "Using scikit learn accuracy por género en el conjunto to\n",
      "GLOBAL: 0.46085858585858586\n",
      "MALE 0.20681265206812652\n",
      "FEMALE 0.7349081364829396 \n",
      "\n",
      "Using scikit learn accuracy por género en el conjunto as\n",
      "GLOBAL: 0.4758800521512386\n",
      "MALE 0.20707070707070707\n",
      "FEMALE 0.7628032345013477 \n",
      "\n"
     ]
    }
   ],
   "source": [
    "model = st.SingleTaskDep(model_conf,vocab).to(device)\n",
    "model.load_state_dict(torch.load(save_path))\n",
    "for task in ['about','to','as']:\n",
    "    print(f\"Using scikit learn accuracy por género en el conjunto {task}\")\n",
    "    print(f\"GLOBAL: {train.eval_function_single_sk(model,dl_eval[task])}\")\n",
    "    print(f\"MALE {train.eval_function_single_sk(model,dl_eval[task],gender='male')}\")\n",
    "    print(f\"FEMALE {train.eval_function_single_sk(model,dl_eval[task],gender='female')}\",'\\n')"
   ]
  },
  {
   "attachments": {},
   "cell_type": "markdown",
   "metadata": {},
   "source": [
    "# AS"
   ]
  },
  {
   "cell_type": "code",
   "execution_count": 15,
   "metadata": {},
   "outputs": [
    {
     "name": "stderr",
     "output_type": "stream",
     "text": [
      "Some weights of the model checkpoint at distilbert-base-cased were not used when initializing DistilBertModel: ['vocab_projector.bias', 'vocab_transform.weight', 'vocab_layer_norm.bias', 'vocab_layer_norm.weight', 'vocab_projector.weight', 'vocab_transform.bias']\n",
      "- This IS expected if you are initializing DistilBertModel from the checkpoint of a model trained on another task or with another architecture (e.g. initializing a BertForSequenceClassification model from a BertForPreTraining model).\n",
      "- This IS NOT expected if you are initializing DistilBertModel from the checkpoint of a model that you expect to be exactly identical (initializing a BertForSequenceClassification model from a BertForSequenceClassification model).\n"
     ]
    }
   ],
   "source": [
    "model = st.SingleTaskDep(model_conf,vocab).to(device)\n",
    "save_path='m1_dep_distilbert_AS_rel'"
   ]
  },
  {
   "cell_type": "code",
   "execution_count": 16,
   "metadata": {},
   "outputs": [
    {
     "data": {
      "application/vnd.jupyter.widget-view+json": {
       "model_id": "6c85a7f653204915bb7a189a04004bc2",
       "version_major": 2,
       "version_minor": 0
      },
      "text/plain": [
       "  0%|          | 0/57400 [00:00<?, ?it/s]"
      ]
     },
     "metadata": {},
     "output_type": "display_data"
    },
    {
     "name": "stdout",
     "output_type": "stream",
     "text": [
      "Epoch 1 \t Training loss: 0.6944131464908347 \t Validation loss: 0.6925634519528534 \t \n",
      "  1%|          | 574/57400 [02:15<3:04:44,  5.13it/s]\n",
      "Epoch 2 \t Training loss: 0.6941247835807268 \t Validation loss: 0.6943510669772908 \t \n",
      "\n",
      "1 epoch without improvement\n",
      "  2%|▏         | 1148/57400 [04:12<3:11:44,  4.89it/s]\n",
      "Epoch 3 \t Training loss: 0.6940314634751775 \t Validation loss: 0.6931248064768516 \t \n",
      "  3%|▎         | 1722/57400 [06:11<2:57:10,  5.24it/s]\n",
      "Epoch 4 \t Training loss: 0.6935354905261395 \t Validation loss: 0.6932250291614209 \t \n",
      "  4%|▍         | 2296/57400 [08:17<3:20:26,  4.58it/s]\n",
      "Epoch 5 \t Training loss: 0.6938592018981429 \t Validation loss: 0.6931741682149596 \t \n",
      "  5%|▌         | 2870/57400 [10:19<3:13:18,  4.70it/s]\n",
      "Epoch 6 \t Training loss: 0.6936686155272693 \t Validation loss: 0.6929586438809411 \t \n",
      "  6%|▌         | 3444/57400 [12:25<3:07:19,  4.80it/s]\n",
      "Epoch 7 \t Training loss: 0.69386574511744 \t Validation loss: 0.6928062954191434 \t \n",
      "  7%|▋         | 4018/57400 [14:22<2:51:22,  5.19it/s]\n",
      "Epoch 8 \t Training loss: 0.6933676296202563 \t Validation loss: 0.6926680187047538 \t \n",
      "  8%|▊         | 4592/57400 [16:18<2:56:35,  4.98it/s]\n",
      "Epoch 9 \t Training loss: 0.6932059795391269 \t Validation loss: 0.6928594981209707 \t \n",
      "  9%|▉         | 5166/57400 [18:15<2:50:37,  5.10it/s]\n",
      "Epoch 10 \t Training loss: 0.693336357326873 \t Validation loss: 0.6926957540592905 \t \n",
      " 10%|█         | 5740/57400 [20:14<3:15:15,  4.41it/s]\n",
      "Epoch 11 \t Training loss: 0.6932288734339671 \t Validation loss: 0.6935742608571457 \t \n",
      "\n",
      "2 epoch without improvement\n",
      " 11%|█         | 6314/57400 [22:20<2:58:55,  4.76it/s]\n",
      "Epoch 12 \t Training loss: 0.6929989559932869 \t Validation loss: 0.6941087498503217 \t \n",
      "\n",
      "3 epoch without improvement\n",
      " 12%|█▏        | 6888/57400 [24:22<2:45:18,  5.09it/s]\n",
      "Epoch 13 \t Training loss: 0.6929248732349184 \t Validation loss: 0.6923207489110655 \t \n",
      " 13%|█▎        | 7462/57400 [26:20<2:49:00,  4.92it/s]\n",
      "Epoch 14 \t Training loss: 0.6928829737656623 \t Validation loss: 0.6925638742366079 \t \n",
      " 14%|█▍        | 8036/57400 [28:18<2:45:49,  4.96it/s]\n",
      "Epoch 15 \t Training loss: 0.6929386447115642 \t Validation loss: 0.692040787915052 \t \n",
      " 15%|█▌        | 8610/57400 [30:15<2:38:44,  5.12it/s]\n",
      "Epoch 16 \t Training loss: 0.6927149754783418 \t Validation loss: 0.6929530359930911 \t \n",
      " 16%|█▌        | 9184/57400 [32:16<2:45:34,  4.85it/s]\n",
      "Epoch 17 \t Training loss: 0.6924155024285931 \t Validation loss: 0.6924320216906272 \t \n",
      " 17%|█▋        | 9758/57400 [34:21<2:53:20,  4.58it/s]\n",
      "Epoch 18 \t Training loss: 0.6925303075164038 \t Validation loss: 0.6924359555971824 \t \n",
      " 18%|█▊        | 10332/57400 [36:25<2:44:04,  4.78it/s]\n",
      "Epoch 19 \t Training loss: 0.6926243950057943 \t Validation loss: 0.6923516200760663 \t \n",
      " 19%|█▉        | 10906/57400 [38:30<2:43:27,  4.74it/s]\n",
      "Epoch 20 \t Training loss: 0.6923293479643632 \t Validation loss: 0.692548189122798 \t \n",
      " 20%|██        | 11480/57400 [40:33<2:39:15,  4.81it/s]\n",
      "Epoch 21 \t Training loss: 0.6921819790107447 \t Validation loss: 0.6925900538088912 \t \n",
      " 21%|██        | 12054/57400 [42:36<2:33:01,  4.94it/s]\n",
      "Epoch 22 \t Training loss: 0.6922776406234981 \t Validation loss: 0.6939135658538947 \t \n",
      "\n",
      "1 epoch without improvement\n",
      " 22%|██▏       | 12628/57400 [44:40<2:09:56,  5.74it/s]\n",
      "Epoch 23 \t Training loss: 0.6920624112625986 \t Validation loss: 0.6920896516007892 \t \n",
      " 23%|██▎       | 13202/57400 [46:45<2:06:05,  5.84it/s]\n",
      "Epoch 24 \t Training loss: 0.6921538654520121 \t Validation loss: 0.6931420140347239 \t \n",
      "\n",
      "2 epoch without improvement\n",
      " 24%|██▍       | 13776/57400 [48:48<2:30:32,  4.83it/s]\n",
      "Epoch 25 \t Training loss: 0.6919915930527013 \t Validation loss: 0.6923306826817788 \t \n",
      " 25%|██▌       | 14350/57400 [50:52<2:36:10,  4.59it/s]\n",
      "Epoch 26 \t Training loss: 0.6918888791928308 \t Validation loss: 0.6927383218781423 \t \n",
      " 26%|██▌       | 14924/57400 [52:55<2:25:50,  4.85it/s]\n",
      "Epoch 27 \t Training loss: 0.6917356757336792 \t Validation loss: 0.6923117223432509 \t \n",
      " 27%|██▋       | 15498/57400 [54:59<1:58:45,  5.88it/s]\n",
      "Epoch 28 \t Training loss: 0.6915670821267969 \t Validation loss: 0.6919079564385495 \t \n",
      " 28%|██▊       | 16072/57400 [57:06<2:28:45,  4.63it/s]\n",
      "Epoch 29 \t Training loss: 0.6919285253157599 \t Validation loss: 0.6922111551640397 \t \n",
      " 29%|██▉       | 16646/57400 [59:12<2:24:46,  4.69it/s]\n",
      "Epoch 30 \t Training loss: 0.6916863156112645 \t Validation loss: 0.6920884292004472 \t \n",
      " 30%|███       | 17220/57400 [1:01:15<2:21:41,  4.73it/s]\n",
      "Epoch 31 \t Training loss: 0.6915399480987509 \t Validation loss: 0.6917091951531879 \t \n",
      " 31%|███       | 17794/57400 [1:03:19<2:13:42,  4.94it/s]\n",
      "Epoch 32 \t Training loss: 0.6910979791385371 \t Validation loss: 0.6922175197278039 \t \n",
      " 32%|███▏      | 18368/57400 [1:05:24<2:15:54,  4.79it/s]\n",
      "Epoch 33 \t Training loss: 0.6911247527350116 \t Validation loss: 0.6920718752731712 \t \n",
      " 33%|███▎      | 18942/57400 [1:07:28<2:17:44,  4.65it/s]\n",
      "Epoch 34 \t Training loss: 0.6912881392427438 \t Validation loss: 0.6909914289490652 \t \n",
      " 34%|███▍      | 19516/57400 [1:09:31<2:23:13,  4.41it/s]\n",
      "Epoch 35 \t Training loss: 0.6911611538315484 \t Validation loss: 0.6923996897067054 \t \n",
      "\n",
      "1 epoch without improvement\n",
      " 35%|███▌      | 20090/57400 [1:11:35<2:08:41,  4.83it/s]\n",
      "Epoch 36 \t Training loss: 0.6912698741573905 \t Validation loss: 0.6906570933632932 \t \n",
      " 36%|███▌      | 20664/57400 [1:13:39<2:07:44,  4.79it/s]\n",
      "Epoch 37 \t Training loss: 0.6910127680683801 \t Validation loss: 0.6917399935803171 \t \n",
      "\n",
      "1 epoch without improvement\n",
      " 37%|███▋      | 21238/57400 [1:15:43<2:01:31,  4.96it/s]\n",
      "Epoch 38 \t Training loss: 0.6911475142327751 \t Validation loss: 0.6918339830333904 \t \n",
      "\n",
      "2 epoch without improvement\n",
      " 38%|███▊      | 21812/57400 [1:17:48<2:01:23,  4.89it/s]\n",
      "Epoch 39 \t Training loss: 0.6907538965811713 \t Validation loss: 0.6914063176866305 \t \n",
      " 39%|███▉      | 22386/57400 [1:19:52<2:03:47,  4.71it/s]\n",
      "Epoch 40 \t Training loss: 0.6906876333499204 \t Validation loss: 0.692013965824903 \t \n",
      "\n",
      "3 epoch without improvement\n",
      " 40%|████      | 22960/57400 [1:21:56<2:19:14,  4.12it/s]\n",
      "Epoch 41 \t Training loss: 0.6908038272051861 \t Validation loss: 0.6914814690412101 \t \n",
      " 41%|████      | 23534/57400 [1:24:00<1:56:08,  4.86it/s]\n",
      "Epoch 42 \t Training loss: 0.6906648456842642 \t Validation loss: 0.6907981320963068 \t \n",
      " 42%|████▏     | 24108/57400 [1:26:05<2:01:02,  4.58it/s]\n",
      "Epoch 43 \t Training loss: 0.690396988744935 \t Validation loss: 0.6913913781360045 \t \n",
      " 43%|████▎     | 24682/57400 [1:28:09<1:54:50,  4.75it/s]\n",
      "Epoch 44 \t Training loss: 0.6904444042398539 \t Validation loss: 0.6912978200589196 \t \n",
      " 44%|████▍     | 25256/57400 [1:30:12<1:54:14,  4.69it/s]\n",
      "Epoch 45 \t Training loss: 0.6901351914380901 \t Validation loss: 0.6904543072490369 \t \n",
      " 45%|████▌     | 25830/57400 [1:32:16<1:46:53,  4.92it/s]\n",
      "Epoch 46 \t Training loss: 0.6903867434956886 \t Validation loss: 0.6915838425442323 \t \n",
      "\n",
      "1 epoch without improvement\n",
      " 46%|████▌     | 26404/57400 [1:34:20<1:41:13,  5.10it/s]\n",
      "Epoch 47 \t Training loss: 0.6904409829955483 \t Validation loss: 0.6927957878274432 \t \n",
      "\n",
      "2 epoch without improvement\n",
      " 47%|████▋     | 26978/57400 [1:36:18<1:38:09,  5.17it/s]\n",
      "Epoch 48 \t Training loss: 0.6900745834830746 \t Validation loss: 0.6912226969912901 \t \n",
      " 48%|████▊     | 27552/57400 [1:38:16<1:38:52,  5.03it/s]\n",
      "Epoch 49 \t Training loss: 0.6902386604285822 \t Validation loss: 0.6914249102948076 \t \n",
      " 49%|████▉     | 28126/57400 [1:40:15<1:37:01,  5.03it/s]\n",
      "Epoch 50 \t Training loss: 0.6900447995405163 \t Validation loss: 0.6916255657955751 \t \n",
      "\n",
      "3 epoch without improvement\n",
      " 50%|█████     | 28700/57400 [1:42:13<1:33:31,  5.11it/s]\n",
      "Epoch 51 \t Training loss: 0.6902926861201429 \t Validation loss: 0.6921393426798158 \t \n",
      "\n",
      "4 epoch without improvement\n",
      " 51%|█████     | 29274/57400 [1:44:11<1:16:26,  6.13it/s]\n",
      "Epoch 52 \t Training loss: 0.689784657872097 \t Validation loss: 0.6916051527201119 \t \n",
      "\n",
      "5 epoch without improvement\n",
      " 52%|█████▏    | 29848/57400 [1:46:09<1:14:24,  6.17it/s]\n",
      "Epoch 53 \t Training loss: 0.6904055403500069 \t Validation loss: 0.691654963008428 \t \n",
      "\n",
      "6 epoch without improvement\n",
      " 53%|█████▎    | 30422/57400 [1:48:07<1:28:24,  5.09it/s]\n",
      "Epoch 54 \t Training loss: 0.6900655657364516 \t Validation loss: 0.692511214038073 \t \n",
      "\n",
      "7 epoch without improvement\n",
      " 54%|█████▍    | 30996/57400 [1:50:06<1:13:44,  5.97it/s]\n",
      "Epoch 55 \t Training loss: 0.6899292027701068 \t Validation loss: 0.6925512956360639 \t \n",
      "\n",
      "8 epoch without improvement\n",
      " 55%|█████▌    | 31570/57400 [1:52:04<1:27:34,  4.92it/s]\n",
      "Epoch 56 \t Training loss: 0.6898763781017543 \t Validation loss: 0.692034806235362 \t \n",
      "\n",
      "9 epoch without improvement\n",
      " 56%|█████▌    | 32144/57400 [1:54:02<1:20:47,  5.21it/s]\n",
      "Epoch 57 \t Training loss: 0.689643590084767 \t Validation loss: 0.6908530764660593 \t \n",
      " 57%|█████▋    | 32718/57400 [1:56:01<1:30:13,  4.56it/s]\n",
      "Epoch 58 \t Training loss: 0.689898620291454 \t Validation loss: 0.6927576438855316 \t \n",
      "\n",
      "10 epoch without improvement\n",
      "Validation_loss hasn't improve in 10 epoch. Stopping training after 58 epochs...\n"
     ]
    },
    {
     "data": {
      "image/png": "[encoded data removed]",
      "text/plain": [
       "<Figure size 640x480 with 1 Axes>"
      ]
     },
     "metadata": {},
     "output_type": "display_data"
    }
   ],
   "source": [
    "learning_rate = 5e-5\n",
    "optimizer = SGD(model.parameters(), lr=learning_rate, momentum=0.9)\n",
    "num_epochs = 100\n",
    "\n",
    "train.train_function(model,num_epochs,dl_train['as'],optimizer,early_stop=10,dl_val=dl_val['as'],save_path=save_path)"
   ]
  },
  {
   "cell_type": "code",
   "execution_count": 17,
   "metadata": {},
   "outputs": [
    {
     "name": "stderr",
     "output_type": "stream",
     "text": [
      "Some weights of the model checkpoint at distilbert-base-cased were not used when initializing DistilBertModel: ['vocab_projector.bias', 'vocab_transform.weight', 'vocab_layer_norm.bias', 'vocab_layer_norm.weight', 'vocab_projector.weight', 'vocab_transform.bias']\n",
      "- This IS expected if you are initializing DistilBertModel from the checkpoint of a model trained on another task or with another architecture (e.g. initializing a BertForSequenceClassification model from a BertForPreTraining model).\n",
      "- This IS NOT expected if you are initializing DistilBertModel from the checkpoint of a model that you expect to be exactly identical (initializing a BertForSequenceClassification model from a BertForSequenceClassification model).\n"
     ]
    },
    {
     "name": "stdout",
     "output_type": "stream",
     "text": [
      "Using scikit learn accuracy por género en el conjunto about\n",
      "GLOBAL: 0.6122448979591837\n",
      "MALE 0.5208333333333334\n",
      "FEMALE 0.7 \n",
      "\n",
      "Using scikit learn accuracy por género en el conjunto to\n",
      "GLOBAL: 0.5845959595959596\n",
      "MALE 0.4744525547445255\n",
      "FEMALE 0.7034120734908137 \n",
      "\n",
      "Using scikit learn accuracy por género en el conjunto as\n",
      "GLOBAL: 0.6166883963494133\n",
      "MALE 0.4722222222222222\n",
      "FEMALE 0.77088948787062 \n",
      "\n"
     ]
    }
   ],
   "source": [
    "model = st.SingleTaskDep(model_conf,vocab).to(device)\n",
    "model.load_state_dict(torch.load(save_path))\n",
    "for task in ['about','to','as']:\n",
    "    print(f\"Using scikit learn accuracy por género en el conjunto {task}\")\n",
    "    print(f\"GLOBAL: {train.eval_function_single_sk(model,dl_eval[task])}\")\n",
    "    print(f\"MALE {train.eval_function_single_sk(model,dl_eval[task],gender='male')}\")\n",
    "    print(f\"FEMALE {train.eval_function_single_sk(model,dl_eval[task],gender='female')}\",'\\n')"
   ]
  }
 ],
 "metadata": {
  "kernelspec": {
   "display_name": "tfg",
   "language": "python",
   "name": "python3"
  },
  "language_info": {
   "codemirror_mode": {
    "name": "ipython",
    "version": 3
   },
   "file_extension": ".py",
   "mimetype": "text/x-python",
   "name": "python",
   "nbconvert_exporter": "python",
   "pygments_lexer": "ipython3",
   "version": "3.9.13"
  },
  "orig_nbformat": 4,
  "vscode": {
   "interpreter": {
    "hash": "35e8332e99bdf485583869dfbdef293dcf2f9293b1663ec5daea0a573af457c3"
   }
  }
 },
 "nbformat": 4,
 "nbformat_minor": 2
}
