{
 "cells": [
  {
   "cell_type": "code",
   "execution_count": 1,
   "metadata": {},
   "outputs": [],
   "source": [
    "import torch\n",
    "from torch.utils.data import DataLoader\n",
    "from torch.optim import AdamW, SGD \n",
    "\n",
    "\n",
    "\n",
    "\n",
    "import json\n",
    "\n"
   ]
  },
  {
   "cell_type": "code",
   "execution_count": 2,
   "metadata": {},
   "outputs": [],
   "source": [
    "import utils_generic as generic\n",
    "import singletask_dep as st\n",
    "import model_confs as confs\n",
    "\n",
    "\n",
    "import train_dep as train"
   ]
  },
  {
   "cell_type": "code",
   "execution_count": 3,
   "metadata": {},
   "outputs": [
    {
     "data": {
      "text/plain": [
       "<torch._C.Generator at 0x1d95fba65f0>"
      ]
     },
     "execution_count": 3,
     "metadata": {},
     "output_type": "execute_result"
    }
   ],
   "source": [
    "device = torch.device(\"cuda\") if torch.cuda.is_available() else torch.device(\"cpu\")\n",
    "torch.manual_seed(27)"
   ]
  },
  {
   "cell_type": "code",
   "execution_count": 4,
   "metadata": {},
   "outputs": [],
   "source": [
    "model_conf = confs.distilbert_conf\n",
    "encoding_type = 'pos'"
   ]
  },
  {
   "attachments": {},
   "cell_type": "markdown",
   "metadata": {},
   "source": [
    "# Datos ConvAI2"
   ]
  },
  {
   "cell_type": "code",
   "execution_count": 5,
   "metadata": {},
   "outputs": [],
   "source": [
    "with open('Datasets\\ConvAI2\\convai2_complete.json','r') as f:\n",
    "    data = json.load(f)"
   ]
  },
  {
   "cell_type": "code",
   "execution_count": 6,
   "metadata": {},
   "outputs": [],
   "source": [
    "vocab = st.Vocabulary(data['train'],encoding_type)"
   ]
  },
  {
   "cell_type": "code",
   "execution_count": 7,
   "metadata": {},
   "outputs": [],
   "source": [
    "convai_train = data['train']\n",
    "convai_val = data['validation']\n",
    "\n",
    "\n",
    "\n",
    "convai_train_token = generic.tokenize_dataset_with_dependencies(convai_train,['about','to','as'],vocab,model_conf) \n",
    "convai_val_token = generic.tokenize_dataset_with_dependencies(convai_val,['about','to','as'],vocab,model_conf) "
   ]
  },
  {
   "cell_type": "code",
   "execution_count": 8,
   "metadata": {},
   "outputs": [],
   "source": [
    "convai_train_dataset = {}\n",
    "for task in ['to','as','about']:\n",
    "    convai_train_dataset[task] = st.DatasetSingleTaskDep(convai_train_token,task,eval=False)"
   ]
  },
  {
   "cell_type": "code",
   "execution_count": 9,
   "metadata": {},
   "outputs": [],
   "source": [
    "convai_val_dataset = {}\n",
    "for task in ['to','as','about']:\n",
    "    convai_val_dataset[task] = st.DatasetSingleTaskDep(convai_val_token,task,eval=False)"
   ]
  },
  {
   "attachments": {},
   "cell_type": "markdown",
   "metadata": {},
   "source": [
    "# Datos md_gender"
   ]
  },
  {
   "cell_type": "code",
   "execution_count": 10,
   "metadata": {},
   "outputs": [],
   "source": [
    "with open('Datasets\\md_gender\\md_complete.json','r',encoding=\"utf8\") as f:\n",
    "    md_data = json.load(f)"
   ]
  },
  {
   "cell_type": "code",
   "execution_count": 11,
   "metadata": {},
   "outputs": [],
   "source": [
    "md_tokenized = generic.tokenize_dataset_with_dependencies(md_data,['about','to','as'],vocab,model_conf) \n",
    "\n",
    "\n",
    "md_dataset = {}\n",
    "for task in ['to','as','about']:\n",
    "    md_dataset[task] = st.DatasetSingleTaskDep(md_tokenized,task,eval=True)"
   ]
  },
  {
   "attachments": {},
   "cell_type": "markdown",
   "metadata": {},
   "source": [
    "# Creación dataloaders"
   ]
  },
  {
   "cell_type": "code",
   "execution_count": 12,
   "metadata": {},
   "outputs": [],
   "source": [
    "dl_train = {}\n",
    "for task in ['to','as','about']:\n",
    "    dl_train[task] = DataLoader(convai_train_dataset[task],batch_size=128,shuffle=True,collate_fn=st.collate_fn)"
   ]
  },
  {
   "cell_type": "code",
   "execution_count": 13,
   "metadata": {},
   "outputs": [],
   "source": [
    "dl_val = {}\n",
    "for task in ['to','as','about']:\n",
    "    dl_val[task] = DataLoader(convai_val_dataset[task],batch_size=128,shuffle=True,collate_fn=st.collate_fn)"
   ]
  },
  {
   "cell_type": "code",
   "execution_count": 14,
   "metadata": {},
   "outputs": [],
   "source": [
    "dl_eval = {}\n",
    "for task in ['to','as','about']:\n",
    "    dl_eval[task] = DataLoader(md_dataset[task],batch_size=128,shuffle=False,collate_fn=st.collate_fn)"
   ]
  },
  {
   "attachments": {},
   "cell_type": "markdown",
   "metadata": {},
   "source": [
    "# ABOUT"
   ]
  },
  {
   "cell_type": "code",
   "execution_count": 15,
   "metadata": {},
   "outputs": [
    {
     "name": "stderr",
     "output_type": "stream",
     "text": [
      "Some weights of the model checkpoint at distilbert-base-cased were not used when initializing DistilBertModel: ['vocab_transform.weight', 'vocab_transform.bias', 'vocab_projector.bias', 'vocab_layer_norm.weight', 'vocab_projector.weight', 'vocab_layer_norm.bias']\n",
      "- This IS expected if you are initializing DistilBertModel from the checkpoint of a model trained on another task or with another architecture (e.g. initializing a BertForSequenceClassification model from a BertForPreTraining model).\n",
      "- This IS NOT expected if you are initializing DistilBertModel from the checkpoint of a model that you expect to be exactly identical (initializing a BertForSequenceClassification model from a BertForSequenceClassification model).\n"
     ]
    }
   ],
   "source": [
    "model = st.SingleTaskDep(model_conf,vocab).to(device)\n",
    "save_path='m1_distilbert_dep_pos_ABOUT'"
   ]
  },
  {
   "cell_type": "code",
   "execution_count": 16,
   "metadata": {},
   "outputs": [
    {
     "name": "stdout",
     "output_type": "stream",
     "text": [
      "Using scikit learn accuracy por género en el conjunto about\n",
      "GLOBAL: 0.4897959183673469\n",
      "MALE 1.0\n",
      "FEMALE 0.0 \n",
      "\n",
      "Using scikit learn accuracy por género en el conjunto to\n",
      "GLOBAL: 0.5189393939393939\n",
      "MALE 1.0\n",
      "FEMALE 0.0 \n",
      "\n",
      "Using scikit learn accuracy por género en el conjunto as\n",
      "GLOBAL: 0.516297262059974\n",
      "MALE 1.0\n",
      "FEMALE 0.0 \n",
      "\n"
     ]
    }
   ],
   "source": [
    "for task in ['about','to','as']:\n",
    "    print(f\"Using scikit learn accuracy por género en el conjunto {task}\")\n",
    "    print(f\"GLOBAL: {train.eval_function_single_sk(model,dl_eval[task])}\")\n",
    "    print(f\"MALE {train.eval_function_single_sk(model,dl_eval[task],gender='male')}\")\n",
    "    print(f\"FEMALE {train.eval_function_single_sk(model,dl_eval[task],gender='female')}\",'\\n')"
   ]
  },
  {
   "cell_type": "code",
   "execution_count": 17,
   "metadata": {},
   "outputs": [
    {
     "data": {
      "application/vnd.jupyter.widget-view+json": {
       "model_id": "5533ae0419724f46b95ed303d4405e69",
       "version_major": 2,
       "version_minor": 0
      },
      "text/plain": [
       "  0%|          | 0/57400 [00:00<?, ?it/s]"
      ]
     },
     "metadata": {},
     "output_type": "display_data"
    },
    {
     "name": "stdout",
     "output_type": "stream",
     "text": [
      "Epoch 1 \t Training loss: 0.6821679992127502 \t Validation loss: 0.6822190112986807 \t \n",
      "  1%|          | 574/57400 [01:57<3:09:05,  5.01it/s]\n",
      "Epoch 2 \t Training loss: 0.6769496071629408 \t Validation loss: 0.676071831735514 \t \n",
      "  2%|▏         | 1148/57400 [03:58<3:08:18,  4.98it/s]\n",
      "Epoch 3 \t Training loss: 0.6629272445984419 \t Validation loss: 0.6479795888318853 \t \n",
      "  3%|▎         | 1722/57400 [06:00<3:10:15,  4.88it/s]\n",
      "Epoch 4 \t Training loss: 0.6016739210185273 \t Validation loss: 0.5396004112090095 \t \n",
      "  4%|▍         | 2296/57400 [08:02<2:42:41,  5.64it/s]\n",
      "Epoch 5 \t Training loss: 0.49550044640431423 \t Validation loss: 0.4521917185540927 \t \n",
      "  5%|▌         | 2870/57400 [10:05<3:14:18,  4.68it/s]\n",
      "Epoch 6 \t Training loss: 0.43865203748388987 \t Validation loss: 0.40588564842434255 \t \n",
      "  6%|▌         | 3444/57400 [12:08<3:06:44,  4.82it/s]\n",
      "Epoch 7 \t Training loss: 0.4076432488625058 \t Validation loss: 0.38558683354975815 \t \n",
      "  7%|▋         | 4018/57400 [14:10<3:12:29,  4.62it/s]\n",
      "Epoch 8 \t Training loss: 0.3879251036961735 \t Validation loss: 0.36955098378456247 \t \n",
      "  8%|▊         | 4592/57400 [16:14<2:30:05,  5.86it/s]\n",
      "Epoch 9 \t Training loss: 0.3760956289045487 \t Validation loss: 0.35989678916284595 \t \n",
      "  9%|▉         | 5166/57400 [18:16<2:59:06,  4.86it/s]\n",
      "Epoch 10 \t Training loss: 0.36569528904733756 \t Validation loss: 0.3586907619136875 \t \n",
      " 10%|█         | 5740/57400 [20:18<2:54:26,  4.94it/s]\n",
      "Epoch 11 \t Training loss: 0.3593346724474887 \t Validation loss: 0.34939785074379487 \t \n",
      " 11%|█         | 6314/57400 [22:21<3:01:23,  4.69it/s]\n",
      "Epoch 12 \t Training loss: 0.35145743398923907 \t Validation loss: 0.34580517269797245 \t \n",
      " 12%|█▏        | 6888/57400 [24:25<3:02:56,  4.60it/s]\n",
      "Epoch 13 \t Training loss: 0.346495649800068 \t Validation loss: 0.3430505809137377 \t \n",
      " 13%|█▎        | 7462/57400 [26:28<2:47:31,  4.97it/s]\n",
      "Epoch 14 \t Training loss: 0.33978685793768654 \t Validation loss: 0.3363657563419665 \t \n",
      " 14%|█▍        | 8036/57400 [28:31<2:43:30,  5.03it/s]\n",
      "Epoch 15 \t Training loss: 0.3364878225980735 \t Validation loss: 0.33664497505810304 \t \n",
      " 15%|█▌        | 8610/57400 [30:33<2:46:18,  4.89it/s]\n",
      "Epoch 16 \t Training loss: 0.3312935485449402 \t Validation loss: 0.3319656010401451 \t \n",
      " 16%|█▌        | 9184/57400 [32:35<2:18:03,  5.82it/s]\n",
      "Epoch 17 \t Training loss: 0.3272948116583276 \t Validation loss: 0.32897540219759536 \t \n",
      " 17%|█▋        | 9758/57400 [34:38<2:49:10,  4.69it/s]\n",
      "Epoch 18 \t Training loss: 0.3233031844687794 \t Validation loss: 0.32835431447473623 \t \n",
      " 18%|█▊        | 10332/57400 [36:41<2:41:20,  4.86it/s]\n",
      "Epoch 19 \t Training loss: 0.32025275441723833 \t Validation loss: 0.3268257864451004 \t \n",
      " 19%|█▉        | 10906/57400 [38:46<2:38:36,  4.89it/s]\n",
      "Epoch 20 \t Training loss: 0.3163379721784841 \t Validation loss: 0.3236645240399797 \t \n",
      " 20%|██        | 11480/57400 [40:52<2:36:39,  4.89it/s]\n",
      "Epoch 21 \t Training loss: 0.31213619175792157 \t Validation loss: 0.32321913717156747 \t \n",
      " 21%|██        | 12054/57400 [42:54<2:36:04,  4.84it/s]\n",
      "Epoch 22 \t Training loss: 0.31051331594949816 \t Validation loss: 0.3202517785258212 \t \n",
      " 22%|██▏       | 12628/57400 [44:57<2:33:54,  4.85it/s]\n",
      "Epoch 23 \t Training loss: 0.3066181550094475 \t Validation loss: 0.3184923337677778 \t \n",
      " 23%|██▎       | 13202/57400 [47:00<2:03:16,  5.98it/s]\n",
      "Epoch 24 \t Training loss: 0.30432471368163305 \t Validation loss: 0.31683665261430255 \t \n",
      " 24%|██▍       | 13776/57400 [49:03<2:23:10,  5.08it/s]\n",
      "Epoch 25 \t Training loss: 0.3026847536919009 \t Validation loss: 0.31587391435089757 \t \n",
      " 25%|██▌       | 14350/57400 [51:05<2:26:12,  4.91it/s]\n",
      "Epoch 26 \t Training loss: 0.30033782817656984 \t Validation loss: 0.31459170756703714 \t \n",
      " 26%|██▌       | 14924/57400 [53:07<2:01:59,  5.80it/s]\n",
      "Epoch 27 \t Training loss: 0.2975212740046637 \t Validation loss: 0.31299210226131696 \t \n",
      " 27%|██▋       | 15498/57400 [55:11<2:25:57,  4.78it/s]\n",
      "Epoch 28 \t Training loss: 0.29804341251011096 \t Validation loss: 0.3113669902086258 \t \n",
      " 28%|██▊       | 16072/57400 [57:14<2:20:52,  4.89it/s]\n",
      "Epoch 29 \t Training loss: 0.29408900740877675 \t Validation loss: 0.31115663480960715 \t \n",
      " 29%|██▉       | 16646/57400 [59:18<2:19:04,  4.88it/s]\n",
      "Epoch 30 \t Training loss: 0.29118021245305964 \t Validation loss: 0.3097141071901483 \t \n",
      " 30%|███       | 17220/57400 [1:01:20<2:12:32,  5.05it/s]\n",
      "Epoch 31 \t Training loss: 0.2874643069786062 \t Validation loss: 0.3092791945752451 \t \n",
      " 31%|███       | 17794/57400 [1:03:23<2:12:47,  4.97it/s]\n",
      "Epoch 32 \t Training loss: 0.2874748570266916 \t Validation loss: 0.31167968981346844 \t \n",
      "\n",
      "1 epoch without improvement\n",
      " 32%|███▏      | 18368/57400 [1:05:26<2:13:25,  4.88it/s]\n",
      "Epoch 33 \t Training loss: 0.28540144512877647 \t Validation loss: 0.30824198485431026 \t \n",
      " 33%|███▎      | 18942/57400 [1:07:28<2:14:14,  4.77it/s]\n",
      "Epoch 34 \t Training loss: 0.2828306384410592 \t Validation loss: 0.31120912957999664 \t \n",
      "\n",
      "1 epoch without improvement\n",
      " 34%|███▍      | 19516/57400 [1:09:30<2:11:41,  4.79it/s]\n",
      "Epoch 35 \t Training loss: 0.28139547100258205 \t Validation loss: 0.3123887671252428 \t \n",
      "\n",
      "2 epoch without improvement\n",
      " 35%|███▌      | 20090/57400 [1:11:28<2:03:49,  5.02it/s]\n",
      "Epoch 36 \t Training loss: 0.2807604879504297 \t Validation loss: 0.3056713635638609 \t \n",
      " 36%|███▌      | 20664/57400 [1:13:26<2:01:50,  5.03it/s]\n",
      "Epoch 37 \t Training loss: 0.2786802009319179 \t Validation loss: 0.3086866127737498 \t \n",
      "\n",
      "1 epoch without improvement\n",
      " 37%|███▋      | 21238/57400 [1:15:24<1:37:03,  6.21it/s]\n",
      "Epoch 38 \t Training loss: 0.27675754210882486 \t Validation loss: 0.30443089139663565 \t \n",
      " 38%|███▊      | 21812/57400 [1:17:22<1:58:49,  4.99it/s]\n",
      "Epoch 39 \t Training loss: 0.274523263063788 \t Validation loss: 0.30750189645815706 \t \n",
      "\n",
      "1 epoch without improvement\n",
      " 39%|███▉      | 22386/57400 [1:19:25<1:40:22,  5.81it/s]\n",
      "Epoch 40 \t Training loss: 0.2736713636134352 \t Validation loss: 0.30418539754414964 \t \n",
      " 40%|████      | 22960/57400 [1:21:28<1:54:44,  5.00it/s]\n",
      "Epoch 41 \t Training loss: 0.27187179683185203 \t Validation loss: 0.3054039069151474 \t \n",
      "\n",
      "1 epoch without improvement\n",
      " 41%|████      | 23534/57400 [1:23:30<1:59:46,  4.71it/s]\n",
      "Epoch 42 \t Training loss: 0.2708834534841963 \t Validation loss: 0.3045997786319862 \t \n",
      " 42%|████▏     | 24108/57400 [1:25:33<1:53:23,  4.89it/s]\n",
      "Epoch 43 \t Training loss: 0.26904581144504014 \t Validation loss: 0.3058785220323983 \t \n",
      "\n",
      "2 epoch without improvement\n",
      " 43%|████▎     | 24682/57400 [1:27:37<1:54:37,  4.76it/s]\n",
      "Epoch 44 \t Training loss: 0.26671418077750486 \t Validation loss: 0.3031343054973473 \t \n",
      " 44%|████▍     | 25256/57400 [1:29:42<1:47:07,  5.00it/s]\n",
      "Epoch 45 \t Training loss: 0.2660270986968217 \t Validation loss: 0.30867560233099983 \t \n",
      "\n",
      "1 epoch without improvement\n",
      " 45%|████▌     | 25830/57400 [1:31:44<1:41:54,  5.16it/s]\n",
      "Epoch 46 \t Training loss: 0.2653492549726357 \t Validation loss: 0.3021096364926484 \t \n",
      " 46%|████▌     | 26404/57400 [1:33:47<1:28:27,  5.84it/s]\n",
      "Epoch 47 \t Training loss: 0.2652203547622269 \t Validation loss: 0.30176709390292733 \t \n",
      " 47%|████▋     | 26978/57400 [1:35:50<1:42:09,  4.96it/s]\n",
      "Epoch 48 \t Training loss: 0.2629347455781927 \t Validation loss: 0.3013857034808498 \t \n",
      " 48%|████▊     | 27552/57400 [1:37:52<1:25:13,  5.84it/s]\n",
      "Epoch 49 \t Training loss: 0.2611540636171032 \t Validation loss: 0.3032324442924079 \t \n",
      "\n",
      "1 epoch without improvement\n",
      " 49%|████▉     | 28126/57400 [1:39:54<1:37:55,  4.98it/s]\n",
      "Epoch 50 \t Training loss: 0.25975447745169494 \t Validation loss: 0.30201392810223465 \t \n",
      " 50%|█████     | 28700/57400 [1:41:56<1:21:00,  5.90it/s]\n",
      "Epoch 51 \t Training loss: 0.2591810297571408 \t Validation loss: 0.3007826739448612 \t \n",
      " 51%|█████     | 29274/57400 [1:44:00<1:37:04,  4.83it/s]\n",
      "Epoch 52 \t Training loss: 0.25986584405761975 \t Validation loss: 0.3012618230561079 \t \n",
      " 52%|█████▏    | 29848/57400 [1:46:03<1:33:55,  4.89it/s]\n",
      "Epoch 53 \t Training loss: 0.25646771358176806 \t Validation loss: 0.30055289147263864 \t \n",
      " 53%|█████▎    | 30422/57400 [1:48:05<1:32:42,  4.85it/s]\n",
      "Epoch 54 \t Training loss: 0.2552866624467049 \t Validation loss: 0.3016023792452731 \t \n",
      "\n",
      "1 epoch without improvement\n",
      " 54%|█████▍    | 30996/57400 [1:50:07<1:31:24,  4.81it/s]\n",
      "Epoch 55 \t Training loss: 0.25453927580799374 \t Validation loss: 0.3016207114619724 \t \n",
      "\n",
      "2 epoch without improvement\n",
      " 55%|█████▌    | 31570/57400 [1:52:10<1:26:24,  4.98it/s]\n",
      "Epoch 56 \t Training loss: 0.25435516352437515 \t Validation loss: 0.30098220807010845 \t \n",
      " 56%|█████▌    | 32144/57400 [1:54:13<1:28:58,  4.73it/s]\n",
      "Epoch 57 \t Training loss: 0.2531258202959436 \t Validation loss: 0.3017945668454898 \t \n",
      "\n",
      "3 epoch without improvement\n",
      " 57%|█████▋    | 32718/57400 [1:56:14<1:16:14,  5.40it/s]\n",
      "Epoch 58 \t Training loss: 0.25327776362048626 \t Validation loss: 0.3027946072614799 \t \n",
      "\n",
      "4 epoch without improvement\n",
      " 58%|█████▊    | 33292/57400 [1:58:16<1:22:05,  4.89it/s]\n",
      "Epoch 59 \t Training loss: 0.25120331970033744 \t Validation loss: 0.29965730567099685 \t \n",
      " 59%|█████▉    | 33866/57400 [2:00:19<1:20:23,  4.88it/s]\n",
      "Epoch 60 \t Training loss: 0.2509803132313054 \t Validation loss: 0.30073667936405896 \t \n",
      "\n",
      "1 epoch without improvement\n",
      " 60%|██████    | 34440/57400 [2:02:22<1:16:13,  5.02it/s]\n",
      "Epoch 61 \t Training loss: 0.2512657128092719 \t Validation loss: 0.30067918790599046 \t \n",
      "\n",
      "2 epoch without improvement\n",
      " 61%|██████    | 35014/57400 [2:04:22<1:14:28,  5.01it/s]\n",
      "Epoch 62 \t Training loss: 0.24899040210589715 \t Validation loss: 0.2998665601520215 \t \n",
      " 62%|██████▏   | 35588/57400 [2:06:19<1:09:58,  5.19it/s]\n",
      "Epoch 63 \t Training loss: 0.250655180018538 \t Validation loss: 0.3011572573144557 \t \n",
      "\n",
      "3 epoch without improvement\n",
      " 63%|██████▎   | 36162/57400 [2:08:16<1:10:20,  5.03it/s]\n",
      "Epoch 64 \t Training loss: 0.24557771928322855 \t Validation loss: 0.3006694582054171 \t \n",
      "\n",
      "4 epoch without improvement\n",
      " 64%|██████▍   | 36736/57400 [2:10:14<1:10:01,  4.92it/s]\n",
      "Epoch 65 \t Training loss: 0.24739598882634464 \t Validation loss: 0.3026204783532579 \t \n",
      "\n",
      "5 epoch without improvement\n",
      " 65%|██████▌   | 37310/57400 [2:12:17<1:09:16,  4.83it/s]\n",
      "Epoch 66 \t Training loss: 0.24643163237629867 \t Validation loss: 0.2999686194678484 \t \n",
      " 66%|██████▌   | 37884/57400 [2:14:17<1:13:55,  4.40it/s]\n",
      "Epoch 67 \t Training loss: 0.24637208133935928 \t Validation loss: 0.29846429041886735 \t \n",
      " 67%|██████▋   | 38458/57400 [2:16:15<1:00:36,  5.21it/s]\n",
      "Epoch 68 \t Training loss: 0.24294501177006067 \t Validation loss: 0.30007592980134284 \t \n",
      "\n",
      "1 epoch without improvement\n",
      " 68%|██████▊   | 39032/57400 [2:18:12<58:41,  5.22it/s]\n",
      "Epoch 69 \t Training loss: 0.2455006007118092 \t Validation loss: 0.2996799657910557 \t \n",
      "\n",
      "2 epoch without improvement\n",
      " 69%|██████▉   | 39606/57400 [2:20:08<56:24,  5.26it/s]\n",
      "Epoch 70 \t Training loss: 0.24347229725080916 \t Validation loss: 0.29978143385911393 \t \n",
      "\n",
      "3 epoch without improvement\n",
      " 70%|███████   | 40180/57400 [2:22:03<45:22,  6.32it/s]\n",
      "Epoch 71 \t Training loss: 0.24150574111253126 \t Validation loss: 0.29990785025944144 \t \n",
      "\n",
      "4 epoch without improvement\n",
      " 71%|███████   | 40754/57400 [2:23:59<56:01,  4.95it/s]\n",
      "Epoch 72 \t Training loss: 0.24247495022696486 \t Validation loss: 0.2998450009499566 \t \n",
      "\n",
      "5 epoch without improvement\n",
      " 72%|███████▏  | 41328/57400 [2:25:55<45:42,  5.86it/s]\n",
      "Epoch 73 \t Training loss: 0.24226623137549655 \t Validation loss: 0.29931804638797954 \t \n",
      " 73%|███████▎  | 41902/57400 [2:27:50<49:17,  5.24it/s]\n",
      "Epoch 74 \t Training loss: 0.24004841881450462 \t Validation loss: 0.30042897164821625 \t \n",
      "\n",
      "6 epoch without improvement\n",
      " 74%|███████▍  | 42476/57400 [2:29:46<38:47,  6.41it/s]\n",
      "Epoch 75 \t Training loss: 0.24006817798788954 \t Validation loss: 0.29980017800452347 \t \n",
      "\n",
      "7 epoch without improvement\n",
      " 75%|███████▌  | 43050/57400 [2:31:41<47:08,  5.07it/s]\n",
      "Epoch 76 \t Training loss: 0.24015080664008337 \t Validation loss: 0.3000927774582879 \t \n",
      "\n",
      "8 epoch without improvement\n",
      " 76%|███████▌  | 43624/57400 [2:33:37<45:36,  5.03it/s]\n",
      "Epoch 77 \t Training loss: 0.2397199748311101 \t Validation loss: 0.3006649499727508 \t \n",
      "\n",
      "9 epoch without improvement\n",
      " 77%|███████▋  | 44198/57400 [2:35:33<43:04,  5.11it/s]\n",
      "Epoch 78 \t Training loss: 0.2384870351399279 \t Validation loss: 0.30006189770617725 \t \n",
      "\n",
      "10 epoch without improvement\n",
      "Validation_loss hasn't improve in 10 epoch. Stopping training after 78 epochs...\n"
     ]
    },
    {
     "data": {
      "image/png": "[encoded data removed]",
      "text/plain": [
       "<Figure size 640x480 with 1 Axes>"
      ]
     },
     "metadata": {},
     "output_type": "display_data"
    }
   ],
   "source": [
    "learning_rate = 5e-5\n",
    "optimizer = SGD(model.parameters(), lr=learning_rate, momentum=0.9)\n",
    "num_epochs = 100\n",
    "\n",
    "train.train_function(model,num_epochs,dl_train['about'],optimizer,early_stop=10,dl_val=dl_val['about'],save_path=save_path)"
   ]
  },
  {
   "cell_type": "code",
   "execution_count": 18,
   "metadata": {},
   "outputs": [
    {
     "name": "stderr",
     "output_type": "stream",
     "text": [
      "Some weights of the model checkpoint at distilbert-base-cased were not used when initializing DistilBertModel: ['vocab_transform.weight', 'vocab_transform.bias', 'vocab_projector.bias', 'vocab_layer_norm.weight', 'vocab_projector.weight', 'vocab_layer_norm.bias']\n",
      "- This IS expected if you are initializing DistilBertModel from the checkpoint of a model trained on another task or with another architecture (e.g. initializing a BertForSequenceClassification model from a BertForPreTraining model).\n",
      "- This IS NOT expected if you are initializing DistilBertModel from the checkpoint of a model that you expect to be exactly identical (initializing a BertForSequenceClassification model from a BertForSequenceClassification model).\n"
     ]
    },
    {
     "name": "stdout",
     "output_type": "stream",
     "text": [
      "Using scikit learn accuracy por género en el conjunto about\n",
      "GLOBAL: 0.8380102040816326\n",
      "MALE 0.8333333333333334\n",
      "FEMALE 0.8425 \n",
      "\n",
      "Using scikit learn accuracy por género en el conjunto to\n",
      "GLOBAL: 0.6553030303030303\n",
      "MALE 0.6788321167883211\n",
      "FEMALE 0.6299212598425197 \n",
      "\n",
      "Using scikit learn accuracy por género en el conjunto as\n",
      "GLOBAL: 0.6753585397653195\n",
      "MALE 0.6590909090909091\n",
      "FEMALE 0.692722371967655 \n",
      "\n"
     ]
    }
   ],
   "source": [
    "model = st.SingleTaskDep(model_conf,vocab).to(device)\n",
    "model.load_state_dict(torch.load(save_path))\n",
    "for task in ['about','to','as']:\n",
    "    print(f\"Using scikit learn accuracy por género en el conjunto {task}\")\n",
    "    print(f\"GLOBAL: {train.eval_function_single_sk(model,dl_eval[task])}\")\n",
    "    print(f\"MALE {train.eval_function_single_sk(model,dl_eval[task],gender='male')}\")\n",
    "    print(f\"FEMALE {train.eval_function_single_sk(model,dl_eval[task],gender='female')}\",'\\n')"
   ]
  },
  {
   "attachments": {},
   "cell_type": "markdown",
   "metadata": {},
   "source": [
    "# TO"
   ]
  },
  {
   "cell_type": "code",
   "execution_count": 19,
   "metadata": {},
   "outputs": [
    {
     "name": "stderr",
     "output_type": "stream",
     "text": [
      "Some weights of the model checkpoint at distilbert-base-cased were not used when initializing DistilBertModel: ['vocab_transform.weight', 'vocab_transform.bias', 'vocab_projector.bias', 'vocab_layer_norm.weight', 'vocab_projector.weight', 'vocab_layer_norm.bias']\n",
      "- This IS expected if you are initializing DistilBertModel from the checkpoint of a model trained on another task or with another architecture (e.g. initializing a BertForSequenceClassification model from a BertForPreTraining model).\n",
      "- This IS NOT expected if you are initializing DistilBertModel from the checkpoint of a model that you expect to be exactly identical (initializing a BertForSequenceClassification model from a BertForSequenceClassification model).\n"
     ]
    }
   ],
   "source": [
    "model = st.SingleTaskDep(model_conf,vocab).to(device)\n",
    "save_path='m1_distilbert_dep_pos_TO'"
   ]
  },
  {
   "cell_type": "code",
   "execution_count": 20,
   "metadata": {},
   "outputs": [
    {
     "data": {
      "application/vnd.jupyter.widget-view+json": {
       "model_id": "47bf6127e8344a15bf95e7552e52c882",
       "version_major": 2,
       "version_minor": 0
      },
      "text/plain": [
       "  0%|          | 0/57400 [00:00<?, ?it/s]"
      ]
     },
     "metadata": {},
     "output_type": "display_data"
    },
    {
     "name": "stdout",
     "output_type": "stream",
     "text": [
      "Epoch 1 \t Training loss: 0.694886129076888 \t Validation loss: 0.6928499593573102 \t \n",
      "  1%|          | 574/57400 [02:02<3:20:41,  4.72it/s]\n",
      "Epoch 2 \t Training loss: 0.6942321089086633 \t Validation loss: 0.692422964815366 \t \n",
      "  2%|▏         | 1148/57400 [04:10<4:42:51,  3.31it/s]\n",
      "Epoch 3 \t Training loss: 0.694199254703854 \t Validation loss: 0.6930493490170624 \t \n",
      "  3%|▎         | 1722/57400 [06:56<4:25:26,  3.50it/s]\n",
      "Epoch 4 \t Training loss: 0.694178851120148 \t Validation loss: 0.6931685330504078 \t \n",
      "  4%|▍         | 2296/57400 [09:44<3:55:31,  3.90it/s]\n",
      "Epoch 5 \t Training loss: 0.6943656227937559 \t Validation loss: 0.6934286749969094 \t \n",
      "\n",
      "1 epoch without improvement\n",
      "  5%|▌         | 2870/57400 [12:24<4:25:00,  3.43it/s]\n",
      "Epoch 6 \t Training loss: 0.6940315770770614 \t Validation loss: 0.6940012109481682 \t \n",
      "\n",
      "2 epoch without improvement\n",
      "  6%|▌         | 3444/57400 [15:32<4:16:35,  3.50it/s]\n",
      "Epoch 7 \t Training loss: 0.6937829361975401 \t Validation loss: 0.6928747973199618 \t \n",
      "  7%|▋         | 4018/57400 [18:10<3:51:58,  3.84it/s]\n",
      "Epoch 8 \t Training loss: 0.6938656062822308 \t Validation loss: 0.6932318948083005 \t \n",
      "  8%|▊         | 4592/57400 [20:47<3:58:23,  3.69it/s]\n",
      "Epoch 9 \t Training loss: 0.6938896620522809 \t Validation loss: 0.6929159760475159 \t \n",
      "  9%|▉         | 5166/57400 [23:27<4:04:01,  3.57it/s]\n",
      "Epoch 10 \t Training loss: 0.6936778673311559 \t Validation loss: 0.6929271685875068 \t \n",
      " 10%|█         | 5740/57400 [26:37<4:34:35,  3.14it/s]\n",
      "Epoch 11 \t Training loss: 0.6938449958475624 \t Validation loss: 0.6932796148930566 \t \n",
      " 11%|█         | 6314/57400 [29:14<3:38:44,  3.89it/s]\n",
      "Epoch 12 \t Training loss: 0.6936191908158492 \t Validation loss: 0.6934754171613919 \t \n",
      "\n",
      "3 epoch without improvement\n",
      " 12%|█▏        | 6888/57400 [32:03<3:34:54,  3.92it/s]\n",
      "Epoch 13 \t Training loss: 0.6937358645196575 \t Validation loss: 0.6929773829751096 \t \n",
      " 13%|█▎        | 7462/57400 [35:02<3:40:45,  3.77it/s]\n",
      "Epoch 14 \t Training loss: 0.6935908662525203 \t Validation loss: 0.6922955997919632 \t \n",
      " 14%|█▍        | 8036/57400 [37:40<3:41:49,  3.71it/s]\n",
      "Epoch 15 \t Training loss: 0.6938579194637126 \t Validation loss: 0.6933339329089149 \t \n",
      "\n",
      "1 epoch without improvement\n",
      " 15%|█▌        | 8610/57400 [40:17<3:39:51,  3.70it/s]\n",
      "Epoch 16 \t Training loss: 0.6935990941856797 \t Validation loss: 0.6932328373698865 \t \n",
      " 16%|█▌        | 9184/57400 [43:07<4:31:01,  2.97it/s]\n",
      "Epoch 17 \t Training loss: 0.693538196410867 \t Validation loss: 0.6931499081142878 \t \n",
      " 17%|█▋        | 9758/57400 [46:08<3:36:02,  3.68it/s]\n",
      "Epoch 18 \t Training loss: 0.6934845914824084 \t Validation loss: 0.6940717282941786 \t \n",
      "\n",
      "2 epoch without improvement\n",
      " 18%|█▊        | 10332/57400 [48:45<3:31:30,  3.71it/s]\n",
      "Epoch 19 \t Training loss: 0.6935907785070067 \t Validation loss: 0.6927025025173769 \t \n",
      " 19%|█▉        | 10906/57400 [51:03<3:01:11,  4.28it/s]\n",
      "Epoch 20 \t Training loss: 0.6937508802173029 \t Validation loss: 0.6927389068118597 \t \n",
      " 20%|██        | 11480/57400 [53:17<2:16:06,  5.62it/s]\n",
      "Epoch 21 \t Training loss: 0.6935211874882103 \t Validation loss: 0.6931260682768741 \t \n",
      " 21%|██        | 12054/57400 [55:31<3:30:55,  3.58it/s]\n",
      "Epoch 22 \t Training loss: 0.6934803983891051 \t Validation loss: 0.6931302456532494 \t \n",
      " 22%|██▏       | 12628/57400 [57:45<2:51:12,  4.36it/s]\n",
      "Epoch 23 \t Training loss: 0.6935440636262661 \t Validation loss: 0.6919650263705496 \t \n",
      " 23%|██▎       | 13202/57400 [59:59<2:42:45,  4.53it/s]\n",
      "Epoch 24 \t Training loss: 0.6936276369186228 \t Validation loss: 0.6935297594232074 \t \n",
      "\n",
      "1 epoch without improvement\n",
      " 24%|██▍       | 13776/57400 [1:02:13<2:45:33,  4.39it/s]\n",
      "Epoch 25 \t Training loss: 0.6935590968730142 \t Validation loss: 0.6932421457969536 \t \n",
      "\n",
      "2 epoch without improvement\n",
      " 25%|██▌       | 14350/57400 [1:04:27<2:12:18,  5.42it/s]\n",
      "Epoch 26 \t Training loss: 0.6935889123831892 \t Validation loss: 0.6936098367480908 \t \n",
      "\n",
      "3 epoch without improvement\n",
      " 26%|██▌       | 14924/57400 [1:06:40<2:40:47,  4.40it/s]\n",
      "Epoch 27 \t Training loss: 0.6934674399862721 \t Validation loss: 0.6930479437617932 \t \n",
      "\n",
      "4 epoch without improvement\n",
      " 27%|██▋       | 15498/57400 [1:08:54<3:05:36,  3.76it/s]\n",
      "Epoch 28 \t Training loss: 0.6936233316772076 \t Validation loss: 0.6932442026623225 \t \n",
      "\n",
      "5 epoch without improvement\n",
      " 28%|██▊       | 16072/57400 [1:11:08<2:35:42,  4.42it/s]\n",
      "Epoch 29 \t Training loss: 0.6934558901844955 \t Validation loss: 0.6930138428332442 \t \n",
      "\n",
      "6 epoch without improvement\n",
      " 29%|██▉       | 16646/57400 [1:13:22<2:33:30,  4.42it/s]\n",
      "Epoch 30 \t Training loss: 0.6934491725125794 \t Validation loss: 0.6927211789761559 \t \n",
      " 30%|███       | 17220/57400 [1:15:36<2:05:13,  5.35it/s]\n",
      "Epoch 31 \t Training loss: 0.6934308869705799 \t Validation loss: 0.6934723460068137 \t \n",
      "\n",
      "7 epoch without improvement\n",
      " 31%|███       | 17794/57400 [1:17:50<2:35:09,  4.25it/s]\n",
      "Epoch 32 \t Training loss: 0.6934586083224427 \t Validation loss: 0.6935436755923902 \t \n",
      "\n",
      "8 epoch without improvement\n",
      " 32%|███▏      | 18368/57400 [1:20:04<2:26:19,  4.45it/s]\n",
      "Epoch 33 \t Training loss: 0.693390330786489 \t Validation loss: 0.6925730533519033 \t \n",
      " 33%|███▎      | 18942/57400 [1:22:18<2:22:58,  4.48it/s]\n",
      "Epoch 34 \t Training loss: 0.6932559905359554 \t Validation loss: 0.6921900470378035 \t \n",
      " 34%|███▍      | 19516/57400 [1:24:50<2:50:19,  3.71it/s]\n",
      "Epoch 35 \t Training loss: 0.6933055439061819 \t Validation loss: 0.6927473817841482 \t \n",
      " 35%|███▌      | 20090/57400 [1:27:29<2:18:04,  4.50it/s]\n",
      "Epoch 36 \t Training loss: 0.6932284396907594 \t Validation loss: 0.69262835231878 \t \n",
      " 36%|███▌      | 20664/57400 [1:30:22<2:47:34,  3.65it/s]\n",
      "Epoch 37 \t Training loss: 0.6932370177752465 \t Validation loss: 0.6929557970014669 \t \n",
      " 37%|███▋      | 21238/57400 [1:32:59<2:35:45,  3.87it/s]\n",
      "Epoch 38 \t Training loss: 0.6933958421393138 \t Validation loss: 0.6932061203455521 \t \n",
      "\n",
      "9 epoch without improvement\n",
      " 38%|███▊      | 21812/57400 [1:35:39<2:48:28,  3.52it/s]\n",
      "Epoch 39 \t Training loss: 0.6933998179975702 \t Validation loss: 0.6926676550153958 \t \n",
      " 39%|███▉      | 22386/57400 [1:38:37<2:37:12,  3.71it/s]\n",
      "Epoch 40 \t Training loss: 0.6934645621411061 \t Validation loss: 0.6933754227929196 \t \n",
      "\n",
      "10 epoch without improvement\n",
      "Validation_loss hasn't improve in 10 epoch. Stopping training after 40 epochs...\n"
     ]
    },
    {
     "data": {
      "image/png": "[encoded data removed]",
      "text/plain": [
       "<Figure size 640x480 with 1 Axes>"
      ]
     },
     "metadata": {},
     "output_type": "display_data"
    }
   ],
   "source": [
    "learning_rate = 5e-5\n",
    "optimizer = SGD(model.parameters(), lr=learning_rate, momentum=0.9)\n",
    "num_epochs = 100\n",
    "\n",
    "train.train_function(model,num_epochs,dl_train['to'],optimizer,early_stop=10,dl_val=dl_val['to'],save_path=save_path)"
   ]
  },
  {
   "cell_type": "code",
   "execution_count": 21,
   "metadata": {},
   "outputs": [
    {
     "name": "stderr",
     "output_type": "stream",
     "text": [
      "Some weights of the model checkpoint at distilbert-base-cased were not used when initializing DistilBertModel: ['vocab_transform.weight', 'vocab_transform.bias', 'vocab_projector.bias', 'vocab_layer_norm.weight', 'vocab_projector.weight', 'vocab_layer_norm.bias']\n",
      "- This IS expected if you are initializing DistilBertModel from the checkpoint of a model trained on another task or with another architecture (e.g. initializing a BertForSequenceClassification model from a BertForPreTraining model).\n",
      "- This IS NOT expected if you are initializing DistilBertModel from the checkpoint of a model that you expect to be exactly identical (initializing a BertForSequenceClassification model from a BertForSequenceClassification model).\n"
     ]
    },
    {
     "name": "stdout",
     "output_type": "stream",
     "text": [
      "Using scikit learn accuracy por género en el conjunto about\n",
      "GLOBAL: 0.45153061224489793\n",
      "MALE 0.20052083333333334\n",
      "FEMALE 0.6925 \n",
      "\n",
      "Using scikit learn accuracy por género en el conjunto to\n",
      "GLOBAL: 0.49242424242424243\n",
      "MALE 0.15571776155717762\n",
      "FEMALE 0.8556430446194225 \n",
      "\n",
      "Using scikit learn accuracy por género en el conjunto as\n",
      "GLOBAL: 0.4863102998696219\n",
      "MALE 0.12626262626262627\n",
      "FEMALE 0.8706199460916442 \n",
      "\n"
     ]
    }
   ],
   "source": [
    "model = st.SingleTaskDep(model_conf,vocab).to(device)\n",
    "model.load_state_dict(torch.load(save_path))\n",
    "for task in ['about','to','as']:\n",
    "    print(f\"Using scikit learn accuracy por género en el conjunto {task}\")\n",
    "    print(f\"GLOBAL: {train.eval_function_single_sk(model,dl_eval[task])}\")\n",
    "    print(f\"MALE {train.eval_function_single_sk(model,dl_eval[task],gender='male')}\")\n",
    "    print(f\"FEMALE {train.eval_function_single_sk(model,dl_eval[task],gender='female')}\",'\\n')"
   ]
  },
  {
   "attachments": {},
   "cell_type": "markdown",
   "metadata": {},
   "source": [
    "# AS"
   ]
  },
  {
   "cell_type": "code",
   "execution_count": 22,
   "metadata": {},
   "outputs": [
    {
     "name": "stderr",
     "output_type": "stream",
     "text": [
      "Some weights of the model checkpoint at distilbert-base-cased were not used when initializing DistilBertModel: ['vocab_transform.weight', 'vocab_transform.bias', 'vocab_projector.bias', 'vocab_layer_norm.weight', 'vocab_projector.weight', 'vocab_layer_norm.bias']\n",
      "- This IS expected if you are initializing DistilBertModel from the checkpoint of a model trained on another task or with another architecture (e.g. initializing a BertForSequenceClassification model from a BertForPreTraining model).\n",
      "- This IS NOT expected if you are initializing DistilBertModel from the checkpoint of a model that you expect to be exactly identical (initializing a BertForSequenceClassification model from a BertForSequenceClassification model).\n"
     ]
    }
   ],
   "source": [
    "model = st.SingleTaskDep(model_conf,vocab).to(device)\n",
    "save_path='m1_distilbert_dep_pos_AS'"
   ]
  },
  {
   "cell_type": "code",
   "execution_count": 23,
   "metadata": {},
   "outputs": [
    {
     "data": {
      "application/vnd.jupyter.widget-view+json": {
       "model_id": "b0fb3bfcd44e4f3f863ec24807fb87c5",
       "version_major": 2,
       "version_minor": 0
      },
      "text/plain": [
       "  0%|          | 0/57400 [00:00<?, ?it/s]"
      ]
     },
     "metadata": {},
     "output_type": "display_data"
    },
    {
     "name": "stdout",
     "output_type": "stream",
     "text": [
      "Epoch 1 \t Training loss: 0.6951115539472693 \t Validation loss: 0.6933904855938281 \t \n",
      "  1%|          | 574/57400 [02:35<4:08:18,  3.81it/s]\n",
      "Epoch 2 \t Training loss: 0.6943982047278706 \t Validation loss: 0.692224541963157 \t \n",
      "  2%|▏         | 1148/57400 [05:15<4:13:44,  3.69it/s]\n",
      "Epoch 3 \t Training loss: 0.6940246353166029 \t Validation loss: 0.6929270190707708 \t \n",
      "  3%|▎         | 1722/57400 [07:57<4:16:24,  3.62it/s]\n",
      "Epoch 4 \t Training loss: 0.6941486746591974 \t Validation loss: 0.6922305711245132 \t \n",
      "  4%|▍         | 2296/57400 [10:32<3:53:13,  3.94it/s]\n",
      "Epoch 5 \t Training loss: 0.694073945180049 \t Validation loss: 0.6925602989681696 \t \n",
      "  5%|▌         | 2870/57400 [13:18<5:08:47,  2.94it/s]\n",
      "Epoch 6 \t Training loss: 0.6938096149873235 \t Validation loss: 0.6923582018431971 \t \n",
      "  6%|▌         | 3444/57400 [16:10<3:04:45,  4.87it/s]\n",
      "Epoch 7 \t Training loss: 0.6934105689517297 \t Validation loss: 0.6928467760651799 \t \n",
      "  7%|▋         | 4018/57400 [18:44<3:07:42,  4.74it/s]\n",
      "Epoch 8 \t Training loss: 0.6938032202604341 \t Validation loss: 0.693554018513631 \t \n",
      "\n",
      "1 epoch without improvement\n",
      "  8%|▊         | 4592/57400 [21:19<3:43:47,  3.93it/s]\n",
      "Epoch 9 \t Training loss: 0.693627680947141 \t Validation loss: 0.6925400899628461 \t \n",
      "  9%|▉         | 5166/57400 [24:11<4:26:35,  3.27it/s]\n",
      "Epoch 10 \t Training loss: 0.6930508132803316 \t Validation loss: 0.6938658649638548 \t \n",
      "\n",
      "2 epoch without improvement\n",
      " 10%|█         | 5740/57400 [26:51<3:50:14,  3.74it/s]\n",
      "Epoch 11 \t Training loss: 0.6935552128100645 \t Validation loss: 0.6924981414261511 \t \n",
      " 11%|█         | 6314/57400 [29:25<3:48:43,  3.72it/s]\n",
      "Epoch 12 \t Training loss: 0.6931702036683153 \t Validation loss: 0.6932072366698313 \t \n",
      " 12%|█▏        | 6888/57400 [32:12<4:30:45,  3.11it/s]\n",
      "Epoch 13 \t Training loss: 0.6931985960397156 \t Validation loss: 0.6925402970637305 \t \n",
      " 13%|█▎        | 7462/57400 [34:59<2:53:15,  4.80it/s]\n",
      "Epoch 14 \t Training loss: 0.6930822098712057 \t Validation loss: 0.6920762496479487 \t \n",
      " 14%|█▍        | 8036/57400 [37:33<2:52:31,  4.77it/s]\n",
      "Epoch 15 \t Training loss: 0.6931096011130237 \t Validation loss: 0.6923172524419882 \t \n",
      " 15%|█▌        | 8610/57400 [40:45<4:19:57,  3.13it/s]\n",
      "Epoch 16 \t Training loss: 0.6927937044914592 \t Validation loss: 0.6925399707535566 \t \n",
      " 16%|█▌        | 9184/57400 [43:42<2:48:49,  4.76it/s]\n",
      "Epoch 17 \t Training loss: 0.6929985119698355 \t Validation loss: 0.692225992679596 \t \n",
      " 17%|█▋        | 9758/57400 [46:23<3:47:57,  3.48it/s]\n",
      "Epoch 18 \t Training loss: 0.6927551171297811 \t Validation loss: 0.6921664304652456 \t \n",
      " 18%|█▊        | 10332/57400 [49:18<4:16:56,  3.05it/s]\n",
      "Epoch 19 \t Training loss: 0.6929426203621389 \t Validation loss: 0.6918397889298907 \t \n",
      " 19%|█▉        | 10906/57400 [52:31<4:19:20,  2.99it/s]\n",
      "Epoch 20 \t Training loss: 0.6927581317333394 \t Validation loss: 0.6922235983913227 \t \n",
      " 20%|██        | 11480/57400 [55:23<3:21:39,  3.80it/s]\n",
      "Epoch 21 \t Training loss: 0.6929138870812459 \t Validation loss: 0.6918655260134552 \t \n",
      " 21%|██        | 12054/57400 [58:04<3:32:11,  3.56it/s]\n",
      "Epoch 22 \t Training loss: 0.6926088144139546 \t Validation loss: 0.6916080157635576 \t \n",
      " 22%|██▏       | 12628/57400 [1:01:02<2:47:12,  4.46it/s]\n",
      "Epoch 23 \t Training loss: 0.6925912431931246 \t Validation loss: 0.6921857736878476 \t \n",
      " 23%|██▎       | 13202/57400 [1:04:09<4:06:29,  2.99it/s]\n",
      "Epoch 24 \t Training loss: 0.6922764701294982 \t Validation loss: 0.6921736587912349 \t \n",
      " 24%|██▍       | 13776/57400 [1:06:56<3:16:24,  3.70it/s]\n",
      "Epoch 25 \t Training loss: 0.6923109524549093 \t Validation loss: 0.6911948606119318 \t \n",
      " 25%|██▌       | 14350/57400 [1:09:34<3:05:32,  3.87it/s]\n",
      "Epoch 26 \t Training loss: 0.6924418947214864 \t Validation loss: 0.6917073181120016 \t \n",
      " 26%|██▌       | 14924/57400 [1:12:11<3:11:50,  3.69it/s]\n",
      "Epoch 27 \t Training loss: 0.6921490803620541 \t Validation loss: 0.6923019865811881 \t \n",
      "\n",
      "1 epoch without improvement\n",
      " 27%|██▋       | 15498/57400 [1:14:55<3:21:21,  3.47it/s]\n",
      "Epoch 28 \t Training loss: 0.6921440647454212 \t Validation loss: 0.6921823641001168 \t \n",
      " 28%|██▊       | 16072/57400 [1:17:44<2:28:24,  4.64it/s]\n",
      "Epoch 29 \t Training loss: 0.6918799984122818 \t Validation loss: 0.6924479058233358 \t \n",
      "\n",
      "2 epoch without improvement\n",
      " 29%|██▉       | 16646/57400 [1:20:22<2:57:42,  3.82it/s]\n",
      "Epoch 30 \t Training loss: 0.6922880723709013 \t Validation loss: 0.6921595981565573 \t \n",
      " 30%|███       | 17220/57400 [1:23:07<4:23:31,  2.54it/s]\n",
      "Epoch 31 \t Training loss: 0.6920419860799969 \t Validation loss: 0.692332666809276 \t \n",
      "\n",
      "3 epoch without improvement\n",
      " 31%|███       | 17794/57400 [1:25:46<2:50:17,  3.88it/s]\n",
      "Epoch 32 \t Training loss: 0.6918872361191474 \t Validation loss: 0.6918072367118577 \t \n",
      " 32%|███▏      | 18368/57400 [1:28:23<2:17:17,  4.74it/s]\n",
      "Epoch 33 \t Training loss: 0.6918742299495259 \t Validation loss: 0.6921308091131307 \t \n",
      " 33%|███▎      | 18942/57400 [1:31:00<2:47:35,  3.82it/s]\n",
      "Epoch 34 \t Training loss: 0.6918316908206674 \t Validation loss: 0.6921477014735594 \t \n",
      " 34%|███▍      | 19516/57400 [1:34:01<3:17:37,  3.20it/s]\n",
      "Epoch 35 \t Training loss: 0.6915936334000232 \t Validation loss: 0.69284392110372 \t \n",
      "\n",
      "4 epoch without improvement\n",
      " 35%|███▌      | 20090/57400 [1:36:43<2:46:11,  3.74it/s]\n",
      "Epoch 36 \t Training loss: 0.6914604754813457 \t Validation loss: 0.6919361797429747 \t \n",
      " 36%|███▌      | 20664/57400 [1:39:20<2:46:58,  3.67it/s]\n",
      "Epoch 37 \t Training loss: 0.6913759401035641 \t Validation loss: 0.6919842695785781 \t \n",
      " 37%|███▋      | 21238/57400 [1:41:57<2:48:12,  3.58it/s]\n",
      "Epoch 38 \t Training loss: 0.6912580832371729 \t Validation loss: 0.6919627725067785 \t \n",
      " 38%|███▊      | 21812/57400 [1:44:50<3:16:07,  3.02it/s]\n",
      "Epoch 39 \t Training loss: 0.6913120317749861 \t Validation loss: 0.6910880733344514 \t \n",
      " 39%|███▉      | 22386/57400 [1:47:38<1:59:37,  4.88it/s]\n",
      "Epoch 40 \t Training loss: 0.6911267447139328 \t Validation loss: 0.690325346033452 \t \n",
      " 40%|████      | 22960/57400 [1:50:15<2:43:35,  3.51it/s]\n",
      "Epoch 41 \t Training loss: 0.6912262233084503 \t Validation loss: 0.6913482082092156 \t \n",
      "\n",
      "1 epoch without improvement\n",
      " 41%|████      | 23534/57400 [1:52:52<2:30:12,  3.76it/s]\n",
      "Epoch 42 \t Training loss: 0.6910520850158319 \t Validation loss: 0.6924417705859168 \t \n",
      "\n",
      "2 epoch without improvement\n",
      " 42%|████▏     | 24108/57400 [1:55:33<2:23:41,  3.86it/s]\n",
      "Epoch 43 \t Training loss: 0.6912324356908167 \t Validation loss: 0.6915519469875401 \t \n",
      "\n",
      "3 epoch without improvement\n",
      " 43%|████▎     | 24682/57400 [1:58:10<2:26:13,  3.73it/s]\n",
      "Epoch 44 \t Training loss: 0.6906483933485343 \t Validation loss: 0.6922085972155555 \t \n",
      "\n",
      "4 epoch without improvement\n",
      " 44%|████▍     | 25256/57400 [2:00:47<2:30:48,  3.55it/s]\n",
      "Epoch 45 \t Training loss: 0.6909172139309009 \t Validation loss: 0.691287371061616 \t \n",
      " 45%|████▌     | 25830/57400 [2:03:32<2:25:14,  3.62it/s]\n",
      "Epoch 46 \t Training loss: 0.6907155951971792 \t Validation loss: 0.6919366788055937 \t \n",
      "\n",
      "5 epoch without improvement\n",
      " 46%|████▌     | 26404/57400 [2:06:11<2:13:39,  3.86it/s]\n",
      "Epoch 47 \t Training loss: 0.6905591047599341 \t Validation loss: 0.6913950554395126 \t \n",
      "\n",
      "6 epoch without improvement\n",
      " 47%|████▋     | 26978/57400 [2:08:47<2:18:16,  3.67it/s]\n",
      "Epoch 48 \t Training loss: 0.690541443405251 \t Validation loss: 0.6901768728838129 \t \n",
      " 48%|████▊     | 27552/57400 [2:11:24<2:21:19,  3.52it/s]\n",
      "Epoch 49 \t Training loss: 0.6907581790814417 \t Validation loss: 0.6922602320121507 \t \n",
      "\n",
      "1 epoch without improvement\n",
      " 49%|████▉     | 28126/57400 [2:14:10<2:47:14,  2.92it/s]\n",
      "Epoch 50 \t Training loss: 0.6904295058823628 \t Validation loss: 0.6915074132256589 \t \n",
      "\n",
      "2 epoch without improvement\n",
      " 50%|█████     | 28700/57400 [2:16:47<2:06:07,  3.79it/s]\n",
      "Epoch 51 \t Training loss: 0.6902734380773551 \t Validation loss: 0.6906555739499755 \t \n",
      " 51%|█████     | 29274/57400 [2:19:25<2:11:57,  3.55it/s]\n",
      "Epoch 52 \t Training loss: 0.6903480700499505 \t Validation loss: 0.6909474548646959 \t \n",
      " 52%|█████▏    | 29848/57400 [2:22:28<2:32:09,  3.02it/s]\n",
      "Epoch 53 \t Training loss: 0.6904994326186097 \t Validation loss: 0.6912545561790466 \t \n",
      "\n",
      "3 epoch without improvement\n",
      " 53%|█████▎    | 30422/57400 [2:25:09<2:05:48,  3.57it/s]\n",
      "Epoch 54 \t Training loss: 0.6901734669657119 \t Validation loss: 0.6902806506318561 \t \n",
      " 54%|█████▍    | 30996/57400 [2:27:46<2:01:03,  3.64it/s]\n",
      "Epoch 55 \t Training loss: 0.6901625718804602 \t Validation loss: 0.6909213945017023 \t \n",
      " 55%|█████▌    | 31570/57400 [2:30:25<1:59:24,  3.61it/s]\n",
      "Epoch 56 \t Training loss: 0.6901541203779626 \t Validation loss: 0.6916991603576531 \t \n",
      "\n",
      "4 epoch without improvement\n",
      " 56%|█████▌    | 32144/57400 [2:33:21<1:57:27,  3.58it/s]\n",
      "Epoch 57 \t Training loss: 0.6898227699542295 \t Validation loss: 0.6921828005273464 \t \n",
      "\n",
      "5 epoch without improvement\n",
      " 57%|█████▋    | 32718/57400 [2:35:58<1:50:31,  3.72it/s]\n",
      "Epoch 58 \t Training loss: 0.6899479194592931 \t Validation loss: 0.6903934791936712 \t \n",
      " 58%|█████▊    | 33292/57400 [2:38:38<1:31:03,  4.41it/s]\n",
      "Epoch 59 \t Training loss: 0.6901657750589922 \t Validation loss: 0.6914164343122708 \t \n",
      "\n",
      "6 epoch without improvement\n",
      " 59%|█████▉    | 33866/57400 [2:41:40<1:41:03,  3.88it/s]\n",
      "Epoch 60 \t Training loss: 0.6902397337275515 \t Validation loss: 0.6909583887811435 \t \n",
      " 60%|██████    | 34440/57400 [2:44:17<1:40:04,  3.82it/s]\n",
      "Epoch 61 \t Training loss: 0.6902797736149632 \t Validation loss: 0.6914605377084118 \t \n",
      "\n",
      "7 epoch without improvement\n",
      " 61%|██████    | 35014/57400 [2:46:54<1:37:26,  3.83it/s]\n",
      "Epoch 62 \t Training loss: 0.6902164904082694 \t Validation loss: 0.6916823821552729 \t \n",
      "\n",
      "8 epoch without improvement\n",
      " 62%|██████▏   | 35588/57400 [2:49:33<1:45:01,  3.46it/s]\n",
      "Epoch 63 \t Training loss: 0.689684971907413 \t Validation loss: 0.6913938027317241 \t \n",
      "\n",
      "9 epoch without improvement\n",
      " 63%|██████▎   | 36162/57400 [2:52:15<1:39:22,  3.56it/s]\n",
      "Epoch 64 \t Training loss: 0.6901852692045817 \t Validation loss: 0.6904144327519304 \t \n",
      " 64%|██████▍   | 36736/57400 [2:54:52<1:36:37,  3.56it/s]\n",
      "Epoch 65 \t Training loss: 0.6898945614643629 \t Validation loss: 0.690287023277606 \t \n",
      " 65%|██████▌   | 37310/57400 [2:57:33<1:17:27,  4.32it/s]\n",
      "Epoch 66 \t Training loss: 0.6897026847671549 \t Validation loss: 0.6917067059015823 \t \n",
      "\n",
      "10 epoch without improvement\n",
      "Validation_loss hasn't improve in 10 epoch. Stopping training after 66 epochs...\n"
     ]
    },
    {
     "data": {
      "image/png": "[encoded data removed]",
      "text/plain": [
       "<Figure size 640x480 with 1 Axes>"
      ]
     },
     "metadata": {},
     "output_type": "display_data"
    }
   ],
   "source": [
    "learning_rate = 5e-5\n",
    "optimizer = SGD(model.parameters(), lr=learning_rate, momentum=0.9)\n",
    "num_epochs = 100\n",
    "\n",
    "train.train_function(model,num_epochs,dl_train['as'],optimizer,early_stop=10,dl_val=dl_val['as'],save_path=save_path)"
   ]
  },
  {
   "cell_type": "code",
   "execution_count": 24,
   "metadata": {},
   "outputs": [
    {
     "name": "stderr",
     "output_type": "stream",
     "text": [
      "Some weights of the model checkpoint at distilbert-base-cased were not used when initializing DistilBertModel: ['vocab_transform.weight', 'vocab_transform.bias', 'vocab_projector.bias', 'vocab_layer_norm.weight', 'vocab_projector.weight', 'vocab_layer_norm.bias']\n",
      "- This IS expected if you are initializing DistilBertModel from the checkpoint of a model trained on another task or with another architecture (e.g. initializing a BertForSequenceClassification model from a BertForPreTraining model).\n",
      "- This IS NOT expected if you are initializing DistilBertModel from the checkpoint of a model that you expect to be exactly identical (initializing a BertForSequenceClassification model from a BertForSequenceClassification model).\n"
     ]
    },
    {
     "name": "stdout",
     "output_type": "stream",
     "text": [
      "Using scikit learn accuracy por género en el conjunto about\n",
      "GLOBAL: 0.6403061224489796\n",
      "MALE 0.5885416666666666\n",
      "FEMALE 0.69 \n",
      "\n",
      "Using scikit learn accuracy por género en el conjunto to\n",
      "GLOBAL: 0.5972222222222222\n",
      "MALE 0.5571776155717761\n",
      "FEMALE 0.6404199475065617 \n",
      "\n",
      "Using scikit learn accuracy por género en el conjunto as\n",
      "GLOBAL: 0.6075619295958279\n",
      "MALE 0.4823232323232323\n",
      "FEMALE 0.7412398921832885 \n",
      "\n"
     ]
    }
   ],
   "source": [
    "model = st.SingleTaskDep(model_conf,vocab).to(device)\n",
    "model.load_state_dict(torch.load(save_path))\n",
    "for task in ['about','to','as']:\n",
    "    print(f\"Using scikit learn accuracy por género en el conjunto {task}\")\n",
    "    print(f\"GLOBAL: {train.eval_function_single_sk(model,dl_eval[task])}\")\n",
    "    print(f\"MALE {train.eval_function_single_sk(model,dl_eval[task],gender='male')}\")\n",
    "    print(f\"FEMALE {train.eval_function_single_sk(model,dl_eval[task],gender='female')}\",'\\n')"
   ]
  }
 ],
 "metadata": {
  "kernelspec": {
   "display_name": "tfg",
   "language": "python",
   "name": "python3"
  },
  "language_info": {
   "codemirror_mode": {
    "name": "ipython",
    "version": 3
   },
   "file_extension": ".py",
   "mimetype": "text/x-python",
   "name": "python",
   "nbconvert_exporter": "python",
   "pygments_lexer": "ipython3",
   "version": "3.9.13"
  },
  "orig_nbformat": 4,
  "vscode": {
   "interpreter": {
    "hash": "35e8332e99bdf485583869dfbdef293dcf2f9293b1663ec5daea0a573af457c3"
   }
  }
 },
 "nbformat": 4,
 "nbformat_minor": 2
}
