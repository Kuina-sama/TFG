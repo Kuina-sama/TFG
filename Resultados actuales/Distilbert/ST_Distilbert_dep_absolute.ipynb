{
 "cells": [
  {
   "cell_type": "code",
   "execution_count": 1,
   "metadata": {},
   "outputs": [],
   "source": [
    "import torch\n",
    "from torch.utils.data import DataLoader\n",
    "from torch.optim import AdamW, SGD \n",
    "\n",
    "\n",
    "import json\n",
    "\n"
   ]
  },
  {
   "cell_type": "code",
   "execution_count": 2,
   "metadata": {},
   "outputs": [],
   "source": [
    "import utils_generic as generic\n",
    "import singletask_dep as st\n",
    "import model_confs as confs\n",
    "\n",
    "\n",
    "import train_dep as train"
   ]
  },
  {
   "cell_type": "code",
   "execution_count": 3,
   "metadata": {},
   "outputs": [
    {
     "data": {
      "text/plain": [
       "<torch._C.Generator at 0x1e5029014b0>"
      ]
     },
     "execution_count": 3,
     "metadata": {},
     "output_type": "execute_result"
    }
   ],
   "source": [
    "device = torch.device(\"cuda\") if torch.cuda.is_available() else torch.device(\"cpu\")\n",
    "torch.manual_seed(27)"
   ]
  },
  {
   "cell_type": "code",
   "execution_count": 4,
   "metadata": {},
   "outputs": [],
   "source": [
    "model_conf = confs.distilbert_conf\n",
    "encoding_type = 'absolute'"
   ]
  },
  {
   "attachments": {},
   "cell_type": "markdown",
   "metadata": {},
   "source": [
    "# Datos ConvAI2"
   ]
  },
  {
   "cell_type": "code",
   "execution_count": 5,
   "metadata": {},
   "outputs": [],
   "source": [
    "with open('Datasets\\ConvAI2\\convai2_complete.json','r') as f:\n",
    "    data = json.load(f)"
   ]
  },
  {
   "cell_type": "code",
   "execution_count": 6,
   "metadata": {},
   "outputs": [],
   "source": [
    "vocab = st.Vocabulary(data['train'],encoding_type)"
   ]
  },
  {
   "cell_type": "code",
   "execution_count": 7,
   "metadata": {},
   "outputs": [],
   "source": [
    "convai_train = data['train']\n",
    "convai_val = data['validation']\n",
    "\n",
    "\n",
    "\n",
    "convai_train_token = generic.tokenize_dataset_with_dependencies(convai_train,['about','to','as'],vocab,model_conf) \n",
    "convai_val_token = generic.tokenize_dataset_with_dependencies(convai_val,['about','to','as'],vocab,model_conf) "
   ]
  },
  {
   "cell_type": "code",
   "execution_count": 8,
   "metadata": {},
   "outputs": [],
   "source": [
    "convai_train_dataset = {}\n",
    "for task in ['to','as','about']:\n",
    "    convai_train_dataset[task] = st.DatasetSingleTaskDep(convai_train_token,task,eval=False)"
   ]
  },
  {
   "cell_type": "code",
   "execution_count": 9,
   "metadata": {},
   "outputs": [],
   "source": [
    "convai_val_dataset = {}\n",
    "for task in ['to','as','about']:\n",
    "    convai_val_dataset[task] = st.DatasetSingleTaskDep(convai_val_token,task,eval=False)"
   ]
  },
  {
   "attachments": {},
   "cell_type": "markdown",
   "metadata": {},
   "source": [
    "# Datos md_gender"
   ]
  },
  {
   "cell_type": "code",
   "execution_count": 10,
   "metadata": {},
   "outputs": [],
   "source": [
    "with open('Datasets\\md_gender\\md_complete.json','r',encoding=\"utf8\") as f:\n",
    "    md_data = json.load(f)"
   ]
  },
  {
   "cell_type": "code",
   "execution_count": 11,
   "metadata": {},
   "outputs": [],
   "source": [
    "md_tokenized = generic.tokenize_dataset_with_dependencies(md_data,['about','to','as'],vocab,model_conf) \n",
    "\n",
    "\n",
    "md_dataset = {}\n",
    "for task in ['to','as','about']:\n",
    "    md_dataset[task] = st.DatasetSingleTaskDep(md_tokenized,task,eval=True)"
   ]
  },
  {
   "attachments": {},
   "cell_type": "markdown",
   "metadata": {},
   "source": [
    "# Creación dataloaders"
   ]
  },
  {
   "cell_type": "code",
   "execution_count": 12,
   "metadata": {},
   "outputs": [],
   "source": [
    "dl_train = {}\n",
    "for task in ['to','as','about']:\n",
    "    dl_train[task] = DataLoader(convai_train_dataset[task],batch_size=128,shuffle=True,collate_fn=st.collate_fn)"
   ]
  },
  {
   "cell_type": "code",
   "execution_count": 13,
   "metadata": {},
   "outputs": [],
   "source": [
    "dl_val = {}\n",
    "for task in ['to','as','about']:\n",
    "    dl_val[task] = DataLoader(convai_val_dataset[task],batch_size=128,shuffle=True,collate_fn=st.collate_fn)"
   ]
  },
  {
   "cell_type": "code",
   "execution_count": 14,
   "metadata": {},
   "outputs": [],
   "source": [
    "dl_eval = {}\n",
    "for task in ['to','as','about']:\n",
    "    dl_eval[task] = DataLoader(md_dataset[task],batch_size=128,shuffle=False,collate_fn=st.collate_fn)"
   ]
  },
  {
   "attachments": {},
   "cell_type": "markdown",
   "metadata": {},
   "source": [
    "# ABOUT"
   ]
  },
  {
   "cell_type": "code",
   "execution_count": 15,
   "metadata": {},
   "outputs": [
    {
     "name": "stderr",
     "output_type": "stream",
     "text": [
      "Some weights of the model checkpoint at distilbert-base-cased were not used when initializing DistilBertModel: ['vocab_layer_norm.bias', 'vocab_projector.weight', 'vocab_projector.bias', 'vocab_transform.bias', 'vocab_layer_norm.weight', 'vocab_transform.weight']\n",
      "- This IS expected if you are initializing DistilBertModel from the checkpoint of a model trained on another task or with another architecture (e.g. initializing a BertForSequenceClassification model from a BertForPreTraining model).\n",
      "- This IS NOT expected if you are initializing DistilBertModel from the checkpoint of a model that you expect to be exactly identical (initializing a BertForSequenceClassification model from a BertForSequenceClassification model).\n"
     ]
    }
   ],
   "source": [
    "model = st.SingleTaskDep(model_conf,vocab).to(device)\n",
    "save_path='m1_dep_distilbert_ABOUT_abs'"
   ]
  },
  {
   "cell_type": "code",
   "execution_count": 16,
   "metadata": {},
   "outputs": [
    {
     "name": "stdout",
     "output_type": "stream",
     "text": [
      "Using scikit learn accuracy por género en el conjunto about\n",
      "GLOBAL: 0.48086734693877553\n",
      "MALE 0.953125\n",
      "FEMALE 0.0275 \n",
      "\n",
      "Using scikit learn accuracy por género en el conjunto to\n",
      "GLOBAL: 0.5\n",
      "MALE 0.927007299270073\n",
      "FEMALE 0.03937007874015748 \n",
      "\n",
      "Using scikit learn accuracy por género en el conjunto as\n",
      "GLOBAL: 0.5123859191655802\n",
      "MALE 0.9621212121212122\n",
      "FEMALE 0.03234501347708895 \n",
      "\n"
     ]
    }
   ],
   "source": [
    "for task in ['about','to','as']:\n",
    "    print(f\"Using scikit learn accuracy por género en el conjunto {task}\")\n",
    "    print(f\"GLOBAL: {train.eval_function_single_sk(model,dl_eval[task])}\")\n",
    "    print(f\"MALE {train.eval_function_single_sk(model,dl_eval[task],gender='male')}\")\n",
    "    print(f\"FEMALE {train.eval_function_single_sk(model,dl_eval[task],gender='female')}\",'\\n')"
   ]
  },
  {
   "cell_type": "code",
   "execution_count": 17,
   "metadata": {},
   "outputs": [
    {
     "data": {
      "application/vnd.jupyter.widget-view+json": {
       "model_id": "29b3377023ed4eb4918e635d0a5d5dd5",
       "version_major": 2,
       "version_minor": 0
      },
      "text/plain": [
       "  0%|          | 0/57400 [00:00<?, ?it/s]"
      ]
     },
     "metadata": {},
     "output_type": "display_data"
    },
    {
     "name": "stdout",
     "output_type": "stream",
     "text": [
      "Epoch 1 \t Training loss: 0.6812456833776281 \t Validation loss: 0.6820811376733295 \t \n",
      "  1%|          | 574/57400 [02:00<3:12:44,  4.91it/s]\n",
      "Epoch 2 \t Training loss: 0.6763539764939285 \t Validation loss: 0.6752916564375667 \t \n",
      "  2%|▏         | 1148/57400 [04:03<3:16:46,  4.76it/s]\n",
      "Epoch 3 \t Training loss: 0.6623809770632288 \t Validation loss: 0.6454295414989277 \t \n",
      "  3%|▎         | 1722/57400 [06:08<3:09:51,  4.89it/s]\n",
      "Epoch 4 \t Training loss: 0.5981277451178754 \t Validation loss: 0.5317685028253976 \t \n",
      "  4%|▍         | 2296/57400 [08:12<3:08:35,  4.87it/s]\n",
      "Epoch 5 \t Training loss: 0.4905194067477349 \t Validation loss: 0.44647633271702264 \t \n",
      "  5%|▌         | 2870/57400 [10:16<2:33:59,  5.90it/s]\n",
      "Epoch 6 \t Training loss: 0.43556774675015375 \t Validation loss: 0.40645225522881845 \t \n",
      "  6%|▌         | 3444/57400 [12:21<3:14:47,  4.62it/s]\n",
      "Epoch 7 \t Training loss: 0.4065226735449834 \t Validation loss: 0.3804326239278761 \t \n",
      "  7%|▋         | 4018/57400 [14:23<3:02:41,  4.87it/s]\n",
      "Epoch 8 \t Training loss: 0.38753588430142155 \t Validation loss: 0.36857877545437573 \t \n",
      "  8%|▊         | 4592/57400 [16:25<3:10:00,  4.63it/s]\n",
      "Epoch 9 \t Training loss: 0.3757258607950775 \t Validation loss: 0.36552629379902857 \t \n",
      "  9%|▉         | 5166/57400 [18:26<2:59:57,  4.84it/s]\n",
      "Epoch 10 \t Training loss: 0.36600791535726407 \t Validation loss: 0.3538092283879296 \t \n",
      " 10%|█         | 5740/57400 [20:28<2:56:28,  4.88it/s]\n",
      "Epoch 11 \t Training loss: 0.35902793624986756 \t Validation loss: 0.3471555341098268 \t \n",
      " 11%|█         | 6314/57400 [22:29<2:48:38,  5.05it/s]\n",
      "Epoch 12 \t Training loss: 0.35133306736626274 \t Validation loss: 0.34468177137738565 \t \n",
      " 12%|█▏        | 6888/57400 [24:32<2:51:00,  4.92it/s]\n",
      "Epoch 13 \t Training loss: 0.3458582312387872 \t Validation loss: 0.3397680841765161 \t \n",
      " 13%|█▎        | 7462/57400 [26:34<2:20:28,  5.93it/s]\n",
      "Epoch 14 \t Training loss: 0.3398698073802094 \t Validation loss: 0.33638056961156554 \t \n",
      " 14%|█▍        | 8036/57400 [28:37<2:47:59,  4.90it/s]\n",
      "Epoch 15 \t Training loss: 0.3357209926438664 \t Validation loss: 0.33347057412236425 \t \n",
      " 15%|█▌        | 8610/57400 [30:39<2:17:14,  5.93it/s]\n",
      "Epoch 16 \t Training loss: 0.3310979881716522 \t Validation loss: 0.33143744099948363 \t \n",
      " 16%|█▌        | 9184/57400 [32:41<2:48:03,  4.78it/s]\n",
      "Epoch 17 \t Training loss: 0.32701318656525963 \t Validation loss: 0.3302641346798105 \t \n",
      " 17%|█▋        | 9758/57400 [34:44<2:48:37,  4.71it/s]\n",
      "Epoch 18 \t Training loss: 0.32317970428317266 \t Validation loss: 0.33552498383037116 \t \n",
      "\n",
      "1 epoch without improvement\n",
      " 18%|█▊        | 10332/57400 [36:46<2:41:54,  4.84it/s]\n",
      "Epoch 19 \t Training loss: 0.3209207189051947 \t Validation loss: 0.3242343194403891 \t \n",
      " 19%|█▉        | 10906/57400 [38:48<2:36:43,  4.94it/s]\n",
      "Epoch 20 \t Training loss: 0.31685896469637076 \t Validation loss: 0.3240285601656316 \t \n",
      " 20%|██        | 11480/57400 [40:51<2:47:59,  4.56it/s]\n",
      "Epoch 21 \t Training loss: 0.3126580776964746 \t Validation loss: 0.3214176883131771 \t \n",
      " 21%|██        | 12054/57400 [42:53<2:29:43,  5.05it/s]\n",
      "Epoch 22 \t Training loss: 0.3097368055883185 \t Validation loss: 0.3214796680515095 \t \n",
      " 22%|██▏       | 12628/57400 [44:54<2:32:50,  4.88it/s]\n",
      "Epoch 23 \t Training loss: 0.30704034696161125 \t Validation loss: 0.31684721677990285 \t \n",
      " 23%|██▎       | 13202/57400 [46:55<2:36:36,  4.70it/s]\n",
      "Epoch 24 \t Training loss: 0.3051624332363182 \t Validation loss: 0.3177329625113536 \t \n",
      " 24%|██▍       | 13776/57400 [48:57<2:31:47,  4.79it/s]\n",
      "Epoch 25 \t Training loss: 0.302758472825592 \t Validation loss: 0.3164648320210182 \t \n",
      " 25%|██▌       | 14350/57400 [50:59<2:28:28,  4.83it/s]\n",
      "Epoch 26 \t Training loss: 0.30049694088070233 \t Validation loss: 0.3138840261657359 \t \n",
      " 26%|██▌       | 14924/57400 [53:01<2:20:47,  5.03it/s]\n",
      "Epoch 27 \t Training loss: 0.2969552590560415 \t Validation loss: 0.31294641201778994 \t \n",
      " 27%|██▋       | 15498/57400 [55:00<2:20:04,  4.99it/s]\n",
      "Epoch 28 \t Training loss: 0.2947523207095442 \t Validation loss: 0.31328929000991884 \t \n",
      " 28%|██▊       | 16072/57400 [56:58<2:13:46,  5.15it/s]\n",
      "Epoch 29 \t Training loss: 0.29448947876380294 \t Validation loss: 0.3116251897003691 \t \n",
      " 29%|██▉       | 16646/57400 [58:55<1:46:51,  6.36it/s]\n",
      "Epoch 30 \t Training loss: 0.291924743780068 \t Validation loss: 0.3113427846613577 \t \n",
      " 30%|███       | 17220/57400 [1:00:53<2:20:52,  4.75it/s]\n",
      "Epoch 31 \t Training loss: 0.28964430856995466 \t Validation loss: 0.3098978162822077 \t \n",
      " 31%|███       | 17794/57400 [1:02:50<2:22:17,  4.64it/s]\n",
      "Epoch 32 \t Training loss: 0.28735476555724593 \t Validation loss: 0.3098465946771331 \t \n",
      " 32%|███▏      | 18368/57400 [1:04:48<2:09:13,  5.03it/s]\n",
      "Epoch 33 \t Training loss: 0.2851661898014022 \t Validation loss: 0.3097022579888166 \t \n",
      " 33%|███▎      | 18942/57400 [1:06:45<2:03:55,  5.17it/s]\n",
      "Epoch 34 \t Training loss: 0.2839109787282628 \t Validation loss: 0.30998523861674937 \t \n",
      " 34%|███▍      | 19516/57400 [1:08:43<1:44:26,  6.05it/s]\n",
      "Epoch 35 \t Training loss: 0.281078952296478 \t Validation loss: 0.3079136253918632 \t \n",
      " 35%|███▌      | 20090/57400 [1:10:40<1:41:08,  6.15it/s]\n",
      "Epoch 36 \t Training loss: 0.2796279822284752 \t Validation loss: 0.30660346630266155 \t \n",
      " 36%|███▌      | 20664/57400 [1:12:38<2:02:21,  5.00it/s]\n",
      "Epoch 37 \t Training loss: 0.2794513722901145 \t Validation loss: 0.3062287758467561 \t \n",
      " 37%|███▋      | 21238/57400 [1:14:35<1:34:40,  6.37it/s]\n",
      "Epoch 38 \t Training loss: 0.2782244604431378 \t Validation loss: 0.3059098649833162 \t \n",
      " 38%|███▊      | 21812/57400 [1:16:33<1:57:09,  5.06it/s]\n",
      "Epoch 39 \t Training loss: 0.27626532056605774 \t Validation loss: 0.3046934849629968 \t \n",
      " 39%|███▉      | 22386/57400 [1:18:31<1:52:30,  5.19it/s]\n",
      "Epoch 40 \t Training loss: 0.2737210002769992 \t Validation loss: 0.3048859529070935 \t \n",
      " 40%|████      | 22960/57400 [1:20:28<1:50:27,  5.20it/s]\n",
      "Epoch 41 \t Training loss: 0.27380314033205916 \t Validation loss: 0.3056696461418928 \t \n",
      " 41%|████      | 23534/57400 [1:22:25<1:51:35,  5.06it/s]\n",
      "Epoch 42 \t Training loss: 0.2700821012777734 \t Validation loss: 0.3044091649984909 \t \n",
      " 42%|████▏     | 24108/57400 [1:24:23<1:59:15,  4.65it/s]\n",
      "Epoch 43 \t Training loss: 0.26895406221782703 \t Validation loss: 0.3035015923491979 \t \n",
      " 43%|████▎     | 24682/57400 [1:26:20<1:51:22,  4.90it/s]\n",
      "Epoch 44 \t Training loss: 0.27007118994142953 \t Validation loss: 0.303461132665812 \t \n",
      " 44%|████▍     | 25256/57400 [1:28:18<1:42:26,  5.23it/s]\n",
      "Epoch 45 \t Training loss: 0.26706669453648324 \t Validation loss: 0.30237223258463003 \t \n",
      " 45%|████▌     | 25830/57400 [1:30:16<1:23:40,  6.29it/s]\n",
      "Epoch 46 \t Training loss: 0.2658990688284515 \t Validation loss: 0.3030908183526185 \t \n",
      " 46%|████▌     | 26404/57400 [1:32:13<1:41:59,  5.07it/s]\n",
      "Epoch 47 \t Training loss: 0.2652515801455086 \t Validation loss: 0.3036491254628715 \t \n",
      "\n",
      "1 epoch without improvement\n",
      " 47%|████▋     | 26978/57400 [1:34:10<1:38:52,  5.13it/s]\n",
      "Epoch 48 \t Training loss: 0.2648706331537576 \t Validation loss: 0.3024325426352226 \t \n",
      " 48%|████▊     | 27552/57400 [1:36:07<1:35:05,  5.23it/s]\n",
      "Epoch 49 \t Training loss: 0.26281095828328815 \t Validation loss: 0.30166085544279064 \t \n",
      " 49%|████▉     | 28126/57400 [1:38:05<1:36:04,  5.08it/s]\n",
      "Epoch 50 \t Training loss: 0.2603524405677975 \t Validation loss: 0.30398051087128913 \t \n",
      "\n",
      "1 epoch without improvement\n",
      " 50%|█████     | 28700/57400 [1:40:02<1:39:38,  4.80it/s]\n",
      "Epoch 51 \t Training loss: 0.25973629520537544 \t Validation loss: 0.3023789199226994 \t \n",
      " 51%|█████     | 29274/57400 [1:41:59<1:32:32,  5.07it/s]\n",
      "Epoch 52 \t Training loss: 0.25847142135224693 \t Validation loss: 0.3014171653884952 \t \n",
      " 52%|█████▏    | 29848/57400 [1:43:57<1:31:32,  5.02it/s]\n",
      "Epoch 53 \t Training loss: 0.2573439827779444 \t Validation loss: 0.3027117482181323 \t \n",
      "\n",
      "1 epoch without improvement\n",
      " 53%|█████▎    | 30422/57400 [1:45:54<1:28:42,  5.07it/s]\n",
      "Epoch 54 \t Training loss: 0.2563235488191299 \t Validation loss: 0.30140539776470704 \t \n",
      " 54%|█████▍    | 30996/57400 [1:47:52<1:27:59,  5.00it/s]\n",
      "Epoch 55 \t Training loss: 0.25512352528680077 \t Validation loss: 0.30189995164588346 \t \n",
      " 55%|█████▌    | 31570/57400 [1:49:49<1:24:02,  5.12it/s]\n",
      "Epoch 56 \t Training loss: 0.2553773024460165 \t Validation loss: 0.3051310143733429 \t \n",
      "\n",
      "1 epoch without improvement\n",
      " 56%|█████▌    | 32144/57400 [1:51:46<1:22:01,  5.13it/s]\n",
      "Epoch 57 \t Training loss: 0.253579567871235 \t Validation loss: 0.3011663588932005 \t \n",
      " 57%|█████▋    | 32718/57400 [1:53:44<1:19:22,  5.18it/s]\n",
      "Epoch 58 \t Training loss: 0.25374964640219455 \t Validation loss: 0.30082699429180665 \t \n",
      " 58%|█████▊    | 33292/57400 [1:55:41<1:05:11,  6.16it/s]\n",
      "Epoch 59 \t Training loss: 0.25248835658985563 \t Validation loss: 0.3010694533586502 \t \n",
      " 59%|█████▉    | 33866/57400 [1:57:38<1:18:45,  4.98it/s]\n",
      "Epoch 60 \t Training loss: 0.2512053778518368 \t Validation loss: 0.3014551976979789 \t \n",
      " 60%|██████    | 34440/57400 [1:59:35<1:16:56,  4.97it/s]\n",
      "Epoch 61 \t Training loss: 0.24950954922919488 \t Validation loss: 0.30035481084201293 \t \n",
      " 61%|██████    | 35014/57400 [2:01:33<1:11:55,  5.19it/s]\n",
      "Epoch 62 \t Training loss: 0.2498206303873544 \t Validation loss: 0.30505029453059374 \t \n",
      "\n",
      "1 epoch without improvement\n",
      " 62%|██████▏   | 35588/57400 [2:03:30<1:13:35,  4.94it/s]\n",
      "Epoch 63 \t Training loss: 0.24735014898644092 \t Validation loss: 0.3016967869411081 \t \n",
      "\n",
      "2 epoch without improvement\n",
      " 63%|██████▎   | 36162/57400 [2:05:27<1:07:36,  5.24it/s]\n",
      "Epoch 64 \t Training loss: 0.24667518061524069 \t Validation loss: 0.3014642704846495 \t \n",
      "\n",
      "3 epoch without improvement\n",
      " 64%|██████▍   | 36736/57400 [2:07:24<54:46,  6.29it/s]\n",
      "Epoch 65 \t Training loss: 0.24588302276275714 \t Validation loss: 0.2997334642430483 \t \n",
      " 65%|██████▌   | 37310/57400 [2:09:22<1:05:43,  5.09it/s]\n",
      "Epoch 66 \t Training loss: 0.24604083909182597 \t Validation loss: 0.3008013428267786 \t \n",
      "\n",
      "1 epoch without improvement\n",
      " 66%|██████▌   | 37884/57400 [2:11:19<53:20,  6.10it/s]\n",
      "Epoch 67 \t Training loss: 0.24605391849520314 \t Validation loss: 0.30188975950418895 \t \n",
      "\n",
      "2 epoch without improvement\n",
      " 67%|██████▋   | 38458/57400 [2:13:16<1:03:17,  4.99it/s]\n",
      "Epoch 68 \t Training loss: 0.24537297608233494 \t Validation loss: 0.30057944559444816 \t \n",
      " 68%|██████▊   | 39032/57400 [2:15:13<59:50,  5.12it/s]\n",
      "Epoch 69 \t Training loss: 0.24447108851907975 \t Validation loss: 0.30203989804801296 \t \n",
      "\n",
      "3 epoch without improvement\n",
      " 69%|██████▉   | 39606/57400 [2:17:10<1:20:55,  3.66it/s]\n",
      "Epoch 70 \t Training loss: 0.2425241458654819 \t Validation loss: 0.3006159781904544 \t \n",
      " 70%|███████   | 40180/57400 [2:19:07<57:25,  5.00it/s]\n",
      "Epoch 71 \t Training loss: 0.24224164853527985 \t Validation loss: 0.29980804682788204 \t \n",
      " 71%|███████   | 40754/57400 [2:21:05<54:38,  5.08it/s]\n",
      "Epoch 72 \t Training loss: 0.24154110190552702 \t Validation loss: 0.300886813614328 \t \n",
      "\n",
      "4 epoch without improvement\n",
      " 72%|███████▏  | 41328/57400 [2:23:02<52:51,  5.07it/s]\n",
      "Epoch 73 \t Training loss: 0.24183236836140995 \t Validation loss: 0.2998867216756788 \t \n",
      " 73%|███████▎  | 41902/57400 [2:24:59<53:03,  4.87it/s]\n",
      "Epoch 74 \t Training loss: 0.2417181122282241 \t Validation loss: 0.301059202117435 \t \n",
      "\n",
      "5 epoch without improvement\n",
      " 74%|███████▍  | 42476/57400 [2:26:57<47:59,  5.18it/s]\n",
      "Epoch 75 \t Training loss: 0.24147153204430272 \t Validation loss: 0.3001417345919852 \t \n",
      " 75%|███████▌  | 43050/57400 [2:28:54<48:51,  4.89it/s]\n",
      "Epoch 76 \t Training loss: 0.24072198572370648 \t Validation loss: 0.3002427162255271 \t \n",
      " 76%|███████▌  | 43624/57400 [2:30:51<45:30,  5.05it/s]\n",
      "Epoch 77 \t Training loss: 0.23880025811934721 \t Validation loss: 0.3015209989527525 \t \n",
      "\n",
      "6 epoch without improvement\n",
      " 77%|███████▋  | 44198/57400 [2:32:48<42:22,  5.19it/s]\n",
      "Epoch 78 \t Training loss: 0.23769537926706702 \t Validation loss: 0.30084435591253184 \t \n",
      "\n",
      "7 epoch without improvement\n",
      " 78%|███████▊  | 44772/57400 [2:34:45<33:10,  6.35it/s]\n",
      "Epoch 79 \t Training loss: 0.2401047553023395 \t Validation loss: 0.300903497611062 \t \n",
      "\n",
      "8 epoch without improvement\n",
      " 79%|███████▉  | 45346/57400 [2:36:43<32:39,  6.15it/s]\n",
      "Epoch 80 \t Training loss: 0.2374892194823521 \t Validation loss: 0.2995521893440667 \t \n",
      " 80%|████████  | 45920/57400 [2:38:40<42:49,  4.47it/s]\n",
      "Epoch 81 \t Training loss: 0.2385284429487451 \t Validation loss: 0.30104508945497416 \t \n",
      "\n",
      "1 epoch without improvement\n",
      " 81%|████████  | 46494/57400 [2:40:38<35:07,  5.17it/s]\n",
      "Epoch 82 \t Training loss: 0.23771693683407863 \t Validation loss: 0.30065746908470736 \t \n",
      "\n",
      "2 epoch without improvement\n",
      " 82%|████████▏ | 47068/57400 [2:42:35<34:01,  5.06it/s]\n",
      "Epoch 83 \t Training loss: 0.23717009755117552 \t Validation loss: 0.299745411185895 \t \n",
      " 83%|████████▎ | 47642/57400 [2:44:32<32:23,  5.02it/s]\n",
      "Epoch 84 \t Training loss: 0.23517388318266189 \t Validation loss: 0.3009789904295388 \t \n",
      "\n",
      "3 epoch without improvement\n",
      " 84%|████████▍ | 48216/57400 [2:46:29<35:00,  4.37it/s]\n",
      "Epoch 85 \t Training loss: 0.23673156254279074 \t Validation loss: 0.30272343906305604 \t \n",
      "\n",
      "4 epoch without improvement\n",
      " 85%|████████▌ | 48790/57400 [2:48:26<27:26,  5.23it/s]\n",
      "Epoch 86 \t Training loss: 0.23604684669641252 \t Validation loss: 0.2996014490471048 \t \n",
      " 86%|████████▌ | 49364/57400 [2:50:24<27:04,  4.95it/s]\n",
      "Epoch 87 \t Training loss: 0.2350472907831029 \t Validation loss: 0.3012559972072052 \t \n",
      "\n",
      "5 epoch without improvement\n",
      " 87%|████████▋ | 49938/57400 [2:52:21<24:08,  5.15it/s]\n",
      "Epoch 88 \t Training loss: 0.23562017521895598 \t Validation loss: 0.3015822336330252 \t \n",
      "\n",
      "6 epoch without improvement\n",
      " 88%|████████▊ | 50512/57400 [2:54:18<22:21,  5.13it/s]\n",
      "Epoch 89 \t Training loss: 0.23408106042117607 \t Validation loss: 0.30022908671427584 \t \n",
      " 89%|████████▉ | 51086/57400 [2:56:15<20:53,  5.04it/s]\n",
      "Epoch 90 \t Training loss: 0.23431929472171886 \t Validation loss: 0.3001570691496639 \t \n",
      " 90%|█████████ | 51660/57400 [2:58:13<18:33,  5.15it/s]\n",
      "Epoch 91 \t Training loss: 0.2347482100310849 \t Validation loss: 0.3007584343017158 \t \n",
      "\n",
      "7 epoch without improvement\n",
      " 91%|█████████ | 52234/57400 [3:00:10<16:30,  5.22it/s]\n",
      "Epoch 92 \t Training loss: 0.23450245025473604 \t Validation loss: 0.3003074155520585 \t \n",
      " 92%|█████████▏| 52808/57400 [3:02:07<15:06,  5.06it/s]\n",
      "Epoch 93 \t Training loss: 0.2332480902092382 \t Validation loss: 0.30072929899571305 \t \n",
      "\n",
      "8 epoch without improvement\n",
      " 93%|█████████▎| 53382/57400 [3:04:04<13:51,  4.83it/s]\n",
      "Epoch 94 \t Training loss: 0.2335102708964813 \t Validation loss: 0.30089148626489154 \t \n",
      "\n",
      "9 epoch without improvement\n",
      " 94%|█████████▍| 53956/57400 [3:06:01<09:21,  6.13it/s]\n",
      "Epoch 95 \t Training loss: 0.23428343997080567 \t Validation loss: 0.30036164315070135 \t \n",
      " 95%|█████████▌| 54530/57400 [3:07:59<09:15,  5.17it/s]\n",
      "Epoch 96 \t Training loss: 0.23388074613614365 \t Validation loss: 0.30095969342579276 \t \n",
      "\n",
      "10 epoch without improvement\n",
      "Validation_loss hasn't improve in 10 epoch. Stopping training after 96 epochs...\n"
     ]
    },
    {
     "data": {
      "image/png": "[encoded data removed]",
      "text/plain": [
       "<Figure size 640x480 with 1 Axes>"
      ]
     },
     "metadata": {},
     "output_type": "display_data"
    }
   ],
   "source": [
    "learning_rate = 5e-5\n",
    "optimizer = SGD(model.parameters(), lr=learning_rate, momentum=0.9)\n",
    "num_epochs = 100\n",
    "\n",
    "train.train_function(model,num_epochs,dl_train['about'],optimizer,early_stop=10,dl_val=dl_val['about'],save_path=save_path)"
   ]
  },
  {
   "cell_type": "code",
   "execution_count": 18,
   "metadata": {},
   "outputs": [
    {
     "name": "stderr",
     "output_type": "stream",
     "text": [
      "Some weights of the model checkpoint at distilbert-base-cased were not used when initializing DistilBertModel: ['vocab_layer_norm.bias', 'vocab_projector.weight', 'vocab_projector.bias', 'vocab_transform.bias', 'vocab_layer_norm.weight', 'vocab_transform.weight']\n",
      "- This IS expected if you are initializing DistilBertModel from the checkpoint of a model trained on another task or with another architecture (e.g. initializing a BertForSequenceClassification model from a BertForPreTraining model).\n",
      "- This IS NOT expected if you are initializing DistilBertModel from the checkpoint of a model that you expect to be exactly identical (initializing a BertForSequenceClassification model from a BertForSequenceClassification model).\n"
     ]
    },
    {
     "name": "stdout",
     "output_type": "stream",
     "text": [
      "Using scikit learn accuracy por género en el conjunto about\n",
      "GLOBAL: 0.8392857142857143\n",
      "MALE 0.8385416666666666\n",
      "FEMALE 0.84 \n",
      "\n",
      "Using scikit learn accuracy por género en el conjunto to\n",
      "GLOBAL: 0.6565656565656566\n",
      "MALE 0.6788321167883211\n",
      "FEMALE 0.6325459317585301 \n",
      "\n",
      "Using scikit learn accuracy por género en el conjunto as\n",
      "GLOBAL: 0.6766623207301173\n",
      "MALE 0.6641414141414141\n",
      "FEMALE 0.6900269541778976 \n",
      "\n"
     ]
    }
   ],
   "source": [
    "model = st.SingleTaskDep(model_conf,vocab).to(device)\n",
    "model.load_state_dict(torch.load(save_path))\n",
    "for task in ['about','to','as']:\n",
    "    print(f\"Using scikit learn accuracy por género en el conjunto {task}\")\n",
    "    print(f\"GLOBAL: {train.eval_function_single_sk(model,dl_eval[task])}\")\n",
    "    print(f\"MALE {train.eval_function_single_sk(model,dl_eval[task],gender='male')}\")\n",
    "    print(f\"FEMALE {train.eval_function_single_sk(model,dl_eval[task],gender='female')}\",'\\n')"
   ]
  },
  {
   "attachments": {},
   "cell_type": "markdown",
   "metadata": {},
   "source": [
    "# TO"
   ]
  },
  {
   "cell_type": "code",
   "execution_count": 19,
   "metadata": {},
   "outputs": [
    {
     "name": "stderr",
     "output_type": "stream",
     "text": [
      "Some weights of the model checkpoint at distilbert-base-cased were not used when initializing DistilBertModel: ['vocab_layer_norm.bias', 'vocab_projector.weight', 'vocab_projector.bias', 'vocab_transform.bias', 'vocab_layer_norm.weight', 'vocab_transform.weight']\n",
      "- This IS expected if you are initializing DistilBertModel from the checkpoint of a model trained on another task or with another architecture (e.g. initializing a BertForSequenceClassification model from a BertForPreTraining model).\n",
      "- This IS NOT expected if you are initializing DistilBertModel from the checkpoint of a model that you expect to be exactly identical (initializing a BertForSequenceClassification model from a BertForSequenceClassification model).\n"
     ]
    }
   ],
   "source": [
    "model = st.SingleTaskDep(model_conf,vocab).to(device)\n",
    "save_path='m1_dep_distilbert_TO_abs'"
   ]
  },
  {
   "cell_type": "code",
   "execution_count": 20,
   "metadata": {},
   "outputs": [
    {
     "data": {
      "application/vnd.jupyter.widget-view+json": {
       "model_id": "0e3eabebab36475a8a3c7bfad2b82f70",
       "version_major": 2,
       "version_minor": 0
      },
      "text/plain": [
       "  0%|          | 0/57400 [00:00<?, ?it/s]"
      ]
     },
     "metadata": {},
     "output_type": "display_data"
    },
    {
     "name": "stdout",
     "output_type": "stream",
     "text": [
      "Epoch 1 \t Training loss: 0.6944143202039007 \t Validation loss: 0.6931035316596597 \t \n",
      "  1%|          | 574/57400 [01:57<3:03:35,  5.16it/s]\n",
      "Epoch 2 \t Training loss: 0.6941189733739513 \t Validation loss: 0.6932535888785023 \t \n",
      "  2%|▏         | 1148/57400 [03:54<3:08:48,  4.97it/s]\n",
      "Epoch 3 \t Training loss: 0.6937905585308939 \t Validation loss: 0.6926175780215506 \t \n",
      "  3%|▎         | 1722/57400 [05:51<2:56:54,  5.25it/s]\n",
      "Epoch 4 \t Training loss: 0.6938664891370913 \t Validation loss: 0.6929795014656196 \t \n",
      "  4%|▍         | 2296/57400 [07:47<2:58:24,  5.15it/s]\n",
      "Epoch 5 \t Training loss: 0.6939261033352244 \t Validation loss: 0.6927525047528542 \t \n",
      "  5%|▌         | 2870/57400 [09:44<2:52:29,  5.27it/s]\n",
      "Epoch 6 \t Training loss: 0.6938868460962582 \t Validation loss: 0.6941171783511921 \t \n",
      "\n",
      "1 epoch without improvement\n",
      "  6%|▌         | 3444/57400 [11:41<2:59:26,  5.01it/s]\n",
      "Epoch 7 \t Training loss: 0.6933213458867024 \t Validation loss: 0.692838555675442 \t \n",
      "  7%|▋         | 4018/57400 [13:37<2:22:37,  6.24it/s]\n",
      "Epoch 8 \t Training loss: 0.6935562161203045 \t Validation loss: 0.6931029012647726 \t \n",
      "  8%|▊         | 4592/57400 [15:34<2:55:51,  5.01it/s]\n",
      "Epoch 9 \t Training loss: 0.6937921945433999 \t Validation loss: 0.6931396601563793 \t \n",
      "  9%|▉         | 5166/57400 [17:31<2:49:53,  5.12it/s]\n",
      "Epoch 10 \t Training loss: 0.6936581295749452 \t Validation loss: 0.6926398923841574 \t \n",
      " 10%|█         | 5740/57400 [19:28<2:57:21,  4.85it/s]\n",
      "Epoch 11 \t Training loss: 0.6935911117322769 \t Validation loss: 0.6942311737496974 \t \n",
      "\n",
      "2 epoch without improvement\n",
      " 11%|█         | 6314/57400 [21:25<2:49:05,  5.04it/s]\n",
      "Epoch 12 \t Training loss: 0.6935851640402232 \t Validation loss: 0.6927511399075136 \t \n",
      " 12%|█▏        | 6888/57400 [23:22<2:46:06,  5.07it/s]\n",
      "Epoch 13 \t Training loss: 0.6936809970942108 \t Validation loss: 0.693765201811063 \t \n",
      "\n",
      "3 epoch without improvement\n",
      " 13%|█▎        | 7462/57400 [25:19<2:41:18,  5.16it/s]\n",
      "Epoch 14 \t Training loss: 0.693505327356817 \t Validation loss: 0.6932270476373575 \t \n",
      " 14%|█▍        | 8036/57400 [27:16<2:41:56,  5.08it/s]\n",
      "Epoch 15 \t Training loss: 0.6934647647345938 \t Validation loss: 0.6928075077170033 \t \n",
      " 15%|█▌        | 8610/57400 [29:12<2:43:01,  4.99it/s]\n",
      "Epoch 16 \t Training loss: 0.6934810177997429 \t Validation loss: 0.6927978133751174 \t \n",
      " 16%|█▌        | 9184/57400 [31:09<2:59:53,  4.47it/s]\n",
      "Epoch 17 \t Training loss: 0.693620482284433 \t Validation loss: 0.694031960883383 \t \n",
      "\n",
      "4 epoch without improvement\n",
      " 17%|█▋        | 9758/57400 [33:06<2:09:23,  6.14it/s]\n",
      "Epoch 18 \t Training loss: 0.6936119334830639 \t Validation loss: 0.6933673236329677 \t \n",
      " 18%|█▊        | 10332/57400 [35:03<2:36:21,  5.02it/s]\n",
      "Epoch 19 \t Training loss: 0.6935483080169466 \t Validation loss: 0.6938535439766059 \t \n",
      "\n",
      "5 epoch without improvement\n",
      " 19%|█▉        | 10906/57400 [37:00<2:31:45,  5.11it/s]\n",
      "Epoch 20 \t Training loss: 0.6934905040762566 \t Validation loss: 0.6935896509784764 \t \n",
      " 20%|██        | 11480/57400 [38:57<2:34:51,  4.94it/s]\n",
      "Epoch 21 \t Training loss: 0.693248560308164 \t Validation loss: 0.6928881305759236 \t \n",
      " 21%|██        | 12054/57400 [40:55<2:45:46,  4.56it/s]\n",
      "Epoch 22 \t Training loss: 0.69356512597629 \t Validation loss: 0.6924069341966661 \t \n",
      " 22%|██▏       | 12628/57400 [43:02<2:28:44,  5.02it/s]\n",
      "Epoch 23 \t Training loss: 0.6933535070577149 \t Validation loss: 0.6933976967455977 \t \n",
      " 23%|██▎       | 13202/57400 [45:06<2:31:55,  4.85it/s]\n",
      "Epoch 24 \t Training loss: 0.6934518304228368 \t Validation loss: 0.6926551127837877 \t \n",
      " 24%|██▍       | 13776/57400 [47:10<2:30:00,  4.85it/s]\n",
      "Epoch 25 \t Training loss: 0.693268284565065 \t Validation loss: 0.6930803878832672 \t \n",
      " 25%|██▌       | 14350/57400 [49:14<2:30:39,  4.76it/s]\n",
      "Epoch 26 \t Training loss: 0.6934645752250526 \t Validation loss: 0.6930625822584507 \t \n",
      " 26%|██▌       | 14924/57400 [51:17<2:32:47,  4.63it/s]\n",
      "Epoch 27 \t Training loss: 0.693315407332643 \t Validation loss: 0.6931590660143707 \t \n",
      " 27%|██▋       | 15498/57400 [53:18<2:20:00,  4.99it/s]\n",
      "Epoch 28 \t Training loss: 0.6932462229545939 \t Validation loss: 0.6944484821820663 \t \n",
      "\n",
      "1 epoch without improvement\n",
      " 28%|██▊       | 16072/57400 [55:19<2:18:16,  4.98it/s]\n",
      "Epoch 29 \t Training loss: 0.6934016404043922 \t Validation loss: 0.6926322246001939 \t \n",
      " 29%|██▉       | 16646/57400 [57:21<2:16:13,  4.99it/s]\n",
      "Epoch 30 \t Training loss: 0.6933177495667328 \t Validation loss: 0.6940485491590985 \t \n",
      "\n",
      "2 epoch without improvement\n",
      " 30%|███       | 17220/57400 [59:22<1:53:53,  5.88it/s]\n",
      "Epoch 31 \t Training loss: 0.6934363271924261 \t Validation loss: 0.6932770438113455 \t \n",
      " 31%|███       | 17794/57400 [1:01:24<1:49:48,  6.01it/s]\n",
      "Epoch 32 \t Training loss: 0.6934624497068053 \t Validation loss: 0.6926531124923189 \t \n",
      " 32%|███▏      | 18368/57400 [1:03:26<2:11:53,  4.93it/s]\n",
      "Epoch 33 \t Training loss: 0.693234360695716 \t Validation loss: 0.6938456367638152 \t \n",
      "\n",
      "3 epoch without improvement\n",
      " 33%|███▎      | 18942/57400 [1:05:30<2:13:58,  4.78it/s]\n",
      "Epoch 34 \t Training loss: 0.6932193568359268 \t Validation loss: 0.6934512257575989 \t \n",
      "\n",
      "4 epoch without improvement\n",
      " 34%|███▍      | 19516/57400 [1:07:34<2:10:55,  4.82it/s]\n",
      "Epoch 35 \t Training loss: 0.6933354208901369 \t Validation loss: 0.6937936200933942 \t \n",
      "\n",
      "5 epoch without improvement\n",
      " 35%|███▌      | 20090/57400 [1:09:38<2:09:37,  4.80it/s]\n",
      "Epoch 36 \t Training loss: 0.6932502299651037 \t Validation loss: 0.6924387125645654 \t \n",
      " 36%|███▌      | 20664/57400 [1:11:42<2:12:48,  4.61it/s]\n",
      "Epoch 37 \t Training loss: 0.6934380150215136 \t Validation loss: 0.6930827700485618 \t \n",
      " 37%|███▋      | 21238/57400 [1:13:46<2:08:43,  4.68it/s]\n",
      "Epoch 38 \t Training loss: 0.6931963267018986 \t Validation loss: 0.692804963911994 \t \n",
      " 38%|███▊      | 21812/57400 [1:15:50<2:05:04,  4.74it/s]\n",
      "Epoch 39 \t Training loss: 0.6932166037036152 \t Validation loss: 0.6935665031610909 \t \n",
      "\n",
      "6 epoch without improvement\n",
      " 39%|███▉      | 22386/57400 [1:17:54<1:57:20,  4.97it/s]\n",
      "Epoch 40 \t Training loss: 0.6933721207367833 \t Validation loss: 0.6934514116432707 \t \n",
      "\n",
      "7 epoch without improvement\n",
      " 40%|████      | 22960/57400 [1:19:55<1:57:11,  4.90it/s]\n",
      "Epoch 41 \t Training loss: 0.6932358166481976 \t Validation loss: 0.6929291799917059 \t \n",
      " 41%|████      | 23534/57400 [1:21:56<1:33:57,  6.01it/s]\n",
      "Epoch 42 \t Training loss: 0.6932922221642338 \t Validation loss: 0.692655473442401 \t \n",
      " 42%|████▏     | 24108/57400 [1:23:58<1:50:27,  5.02it/s]\n",
      "Epoch 43 \t Training loss: 0.6932585004730092 \t Validation loss: 0.6927412920078989 \t \n",
      " 43%|████▎     | 24682/57400 [1:25:59<1:47:42,  5.06it/s]\n",
      "Epoch 44 \t Training loss: 0.6931538060567105 \t Validation loss: 0.6946151731377941 \t \n",
      "\n",
      "8 epoch without improvement\n",
      " 44%|████▍     | 25256/57400 [1:27:57<1:43:44,  5.16it/s]\n",
      "Epoch 45 \t Training loss: 0.6932576878145597 \t Validation loss: 0.693668558435925 \t \n",
      "\n",
      "9 epoch without improvement\n",
      " 45%|████▌     | 25830/57400 [1:29:55<1:42:29,  5.13it/s]\n",
      "Epoch 46 \t Training loss: 0.6933174286985231 \t Validation loss: 0.6933705190480766 \t \n",
      " 46%|████▌     | 26404/57400 [1:31:52<1:37:44,  5.28it/s]\n",
      "Epoch 47 \t Training loss: 0.6932700349063408 \t Validation loss: 0.6932039281069222 \t \n",
      " 47%|████▋     | 26978/57400 [1:33:49<1:40:59,  5.02it/s]\n",
      "Epoch 48 \t Training loss: 0.6934981308747667 \t Validation loss: 0.693076468120187 \t \n",
      " 48%|████▊     | 27552/57400 [1:35:46<1:19:34,  6.25it/s]\n",
      "Epoch 49 \t Training loss: 0.6933584462474863 \t Validation loss: 0.693016361382048 \t \n",
      " 49%|████▉     | 28126/57400 [1:37:43<1:38:49,  4.94it/s]\n",
      "Epoch 50 \t Training loss: 0.6932558431857969 \t Validation loss: 0.6929288870197231 \t \n",
      " 50%|█████     | 28700/57400 [1:39:40<1:14:53,  6.39it/s]\n",
      "Epoch 51 \t Training loss: 0.6931105203121797 \t Validation loss: 0.6928739406294742 \t \n",
      " 51%|█████     | 29274/57400 [1:41:38<1:35:12,  4.92it/s]\n",
      "Epoch 52 \t Training loss: 0.6932910747229014 \t Validation loss: 0.6930412650108337 \t \n",
      " 52%|█████▏    | 29848/57400 [1:43:35<1:29:11,  5.15it/s]\n",
      "Epoch 53 \t Training loss: 0.6931342652865818 \t Validation loss: 0.6931169305817556 \t \n",
      " 53%|█████▎    | 30422/57400 [1:45:32<1:12:57,  6.16it/s]\n",
      "Epoch 54 \t Training loss: 0.692977271013559 \t Validation loss: 0.693200764009508 \t \n",
      " 54%|█████▍    | 30996/57400 [1:47:29<1:24:56,  5.18it/s]\n",
      "Epoch 55 \t Training loss: 0.6931799194330953 \t Validation loss: 0.6925787582235822 \t \n",
      " 55%|█████▌    | 31570/57400 [1:49:27<1:24:17,  5.11it/s]\n",
      "Epoch 56 \t Training loss: 0.6930958078298004 \t Validation loss: 0.6930987642983258 \t \n",
      " 56%|█████▌    | 32144/57400 [1:51:24<1:24:05,  5.01it/s]\n",
      "Epoch 57 \t Training loss: 0.6931392827723499 \t Validation loss: 0.6925858269303532 \t \n",
      " 57%|█████▋    | 32718/57400 [1:53:21<1:26:36,  4.75it/s]\n",
      "Epoch 58 \t Training loss: 0.6931667874083701 \t Validation loss: 0.69383948233168 \t \n",
      "\n",
      "10 epoch without improvement\n",
      "Validation_loss hasn't improve in 10 epoch. Stopping training after 58 epochs...\n"
     ]
    },
    {
     "data": {
      "image/png": "[encoded data removed]",
      "text/plain": [
       "<Figure size 640x480 with 1 Axes>"
      ]
     },
     "metadata": {},
     "output_type": "display_data"
    }
   ],
   "source": [
    "learning_rate = 5e-5\n",
    "optimizer = SGD(model.parameters(), lr=learning_rate, momentum=0.9)\n",
    "num_epochs = 100\n",
    "\n",
    "train.train_function(model,num_epochs,dl_train['to'],optimizer,early_stop=10,dl_val=dl_val['to'],save_path=save_path)"
   ]
  },
  {
   "cell_type": "code",
   "execution_count": 21,
   "metadata": {},
   "outputs": [
    {
     "name": "stderr",
     "output_type": "stream",
     "text": [
      "Some weights of the model checkpoint at distilbert-base-cased were not used when initializing DistilBertModel: ['vocab_layer_norm.bias', 'vocab_projector.weight', 'vocab_projector.bias', 'vocab_transform.bias', 'vocab_layer_norm.weight', 'vocab_transform.weight']\n",
      "- This IS expected if you are initializing DistilBertModel from the checkpoint of a model trained on another task or with another architecture (e.g. initializing a BertForSequenceClassification model from a BertForPreTraining model).\n",
      "- This IS NOT expected if you are initializing DistilBertModel from the checkpoint of a model that you expect to be exactly identical (initializing a BertForSequenceClassification model from a BertForSequenceClassification model).\n"
     ]
    },
    {
     "name": "stdout",
     "output_type": "stream",
     "text": [
      "Using scikit learn accuracy por género en el conjunto about\n",
      "GLOBAL: 0.49744897959183676\n",
      "MALE 0.22135416666666666\n",
      "FEMALE 0.7625 \n",
      "\n",
      "Using scikit learn accuracy por género en el conjunto to\n",
      "GLOBAL: 0.48737373737373735\n",
      "MALE 0.22384428223844283\n",
      "FEMALE 0.7716535433070866 \n",
      "\n",
      "Using scikit learn accuracy por género en el conjunto as\n",
      "GLOBAL: 0.5032594524119948\n",
      "MALE 0.25\n",
      "FEMALE 0.7735849056603774 \n",
      "\n"
     ]
    }
   ],
   "source": [
    "model = st.SingleTaskDep(model_conf,vocab).to(device)\n",
    "model.load_state_dict(torch.load(save_path))\n",
    "for task in ['about','to','as']:\n",
    "    print(f\"Using scikit learn accuracy por género en el conjunto {task}\")\n",
    "    print(f\"GLOBAL: {train.eval_function_single_sk(model,dl_eval[task])}\")\n",
    "    print(f\"MALE {train.eval_function_single_sk(model,dl_eval[task],gender='male')}\")\n",
    "    print(f\"FEMALE {train.eval_function_single_sk(model,dl_eval[task],gender='female')}\",'\\n')"
   ]
  },
  {
   "attachments": {},
   "cell_type": "markdown",
   "metadata": {},
   "source": [
    "# AS"
   ]
  },
  {
   "cell_type": "code",
   "execution_count": 22,
   "metadata": {},
   "outputs": [
    {
     "name": "stderr",
     "output_type": "stream",
     "text": [
      "Some weights of the model checkpoint at distilbert-base-cased were not used when initializing DistilBertModel: ['vocab_layer_norm.bias', 'vocab_projector.weight', 'vocab_projector.bias', 'vocab_transform.bias', 'vocab_layer_norm.weight', 'vocab_transform.weight']\n",
      "- This IS expected if you are initializing DistilBertModel from the checkpoint of a model trained on another task or with another architecture (e.g. initializing a BertForSequenceClassification model from a BertForPreTraining model).\n",
      "- This IS NOT expected if you are initializing DistilBertModel from the checkpoint of a model that you expect to be exactly identical (initializing a BertForSequenceClassification model from a BertForSequenceClassification model).\n"
     ]
    }
   ],
   "source": [
    "model = st.SingleTaskDep(model_conf,vocab).to(device)\n",
    "save_path='m1_dep_distilbert_AS_abs'"
   ]
  },
  {
   "cell_type": "code",
   "execution_count": 23,
   "metadata": {},
   "outputs": [
    {
     "data": {
      "application/vnd.jupyter.widget-view+json": {
       "model_id": "e48ae3e7186540158d6040fd1ec39395",
       "version_major": 2,
       "version_minor": 0
      },
      "text/plain": [
       "  0%|          | 0/57400 [00:00<?, ?it/s]"
      ]
     },
     "metadata": {},
     "output_type": "display_data"
    },
    {
     "name": "stdout",
     "output_type": "stream",
     "text": [
      "Epoch 1 \t Training loss: 0.6951502343503441 \t Validation loss: 0.6937142226655605 \t \n",
      "  1%|          | 574/57400 [01:57<3:03:59,  5.15it/s]\n",
      "Epoch 2 \t Training loss: 0.694285354963163 \t Validation loss: 0.6913476263062429 \t \n",
      "  2%|▏         | 1148/57400 [03:54<3:02:14,  5.14it/s]\n",
      "Epoch 3 \t Training loss: 0.6942405358008806 \t Validation loss: 0.6935150532399194 \t \n",
      "\n",
      "1 epoch without improvement\n",
      "  3%|▎         | 1722/57400 [05:51<2:34:27,  6.01it/s]\n",
      "Epoch 4 \t Training loss: 0.6942841725274661 \t Validation loss: 0.6924290263046653 \t \n",
      "\n",
      "2 epoch without improvement\n",
      "  4%|▍         | 2296/57400 [07:48<3:04:47,  4.97it/s]\n",
      "Epoch 5 \t Training loss: 0.6941255998736059 \t Validation loss: 0.6922982021913691 \t \n",
      "  5%|▌         | 2870/57400 [09:45<2:59:39,  5.06it/s]\n",
      "Epoch 6 \t Training loss: 0.6933756110352506 \t Validation loss: 0.6930295168343237 \t \n",
      "\n",
      "3 epoch without improvement\n",
      "  6%|▌         | 3444/57400 [11:42<3:02:49,  4.92it/s]\n",
      "Epoch 7 \t Training loss: 0.6936439230051605 \t Validation loss: 0.6927140809721866 \t \n",
      "\n",
      "4 epoch without improvement\n",
      "  7%|▋         | 4018/57400 [13:42<3:05:06,  4.81it/s]\n",
      "Epoch 8 \t Training loss: 0.6933637227123207 \t Validation loss: 0.6935350844415568 \t \n",
      "\n",
      "5 epoch without improvement\n",
      "  8%|▊         | 4592/57400 [15:44<2:27:57,  5.95it/s]\n",
      "Epoch 9 \t Training loss: 0.6934068862361775 \t Validation loss: 0.6934252835936465 \t \n",
      "\n",
      "6 epoch without improvement\n",
      "  9%|▉         | 5166/57400 [17:45<2:56:24,  4.93it/s]\n",
      "Epoch 10 \t Training loss: 0.6934062981854748 \t Validation loss: 0.6930640733848183 \t \n",
      "\n",
      "7 epoch without improvement\n",
      " 10%|█         | 5740/57400 [19:46<2:49:35,  5.08it/s]\n",
      "Epoch 11 \t Training loss: 0.6932140712330981 \t Validation loss: 0.6925700316994877 \t \n",
      "\n",
      "8 epoch without improvement\n",
      " 11%|█         | 6314/57400 [21:47<2:52:47,  4.93it/s]\n",
      "Epoch 12 \t Training loss: 0.6931726251329694 \t Validation loss: 0.6925920530901117 \t \n",
      "\n",
      "9 epoch without improvement\n",
      " 12%|█▏        | 6888/57400 [23:49<2:17:55,  6.10it/s]\n",
      "Epoch 13 \t Training loss: 0.6929781766095643 \t Validation loss: 0.6924286616050591 \t \n",
      "\n",
      "10 epoch without improvement\n",
      "Validation_loss hasn't improve in 10 epoch. Stopping training after 13 epochs...\n"
     ]
    },
    {
     "data": {
      "image/png": "[encoded data removed]",
      "text/plain": [
       "<Figure size 640x480 with 1 Axes>"
      ]
     },
     "metadata": {},
     "output_type": "display_data"
    }
   ],
   "source": [
    "learning_rate = 5e-5\n",
    "optimizer = SGD(model.parameters(), lr=learning_rate, momentum=0.9)\n",
    "num_epochs = 100\n",
    "\n",
    "train.train_function(model,num_epochs,dl_train['as'],optimizer,early_stop=10,dl_val=dl_val['as'],save_path=save_path)"
   ]
  },
  {
   "cell_type": "code",
   "execution_count": 24,
   "metadata": {},
   "outputs": [
    {
     "name": "stderr",
     "output_type": "stream",
     "text": [
      "Some weights of the model checkpoint at distilbert-base-cased were not used when initializing DistilBertModel: ['vocab_layer_norm.bias', 'vocab_projector.weight', 'vocab_projector.bias', 'vocab_transform.bias', 'vocab_layer_norm.weight', 'vocab_transform.weight']\n",
      "- This IS expected if you are initializing DistilBertModel from the checkpoint of a model trained on another task or with another architecture (e.g. initializing a BertForSequenceClassification model from a BertForPreTraining model).\n",
      "- This IS NOT expected if you are initializing DistilBertModel from the checkpoint of a model that you expect to be exactly identical (initializing a BertForSequenceClassification model from a BertForSequenceClassification model).\n"
     ]
    },
    {
     "name": "stdout",
     "output_type": "stream",
     "text": [
      "Using scikit learn accuracy por género en el conjunto about\n",
      "GLOBAL: 0.48596938775510207\n",
      "MALE 0.052083333333333336\n",
      "FEMALE 0.9025 \n",
      "\n",
      "Using scikit learn accuracy por género en el conjunto to\n",
      "GLOBAL: 0.4659090909090909\n",
      "MALE 0.06569343065693431\n",
      "FEMALE 0.8976377952755905 \n",
      "\n",
      "Using scikit learn accuracy por género en el conjunto as\n",
      "GLOBAL: 0.4876140808344198\n",
      "MALE 0.08333333333333333\n",
      "FEMALE 0.9191374663072777 \n",
      "\n"
     ]
    }
   ],
   "source": [
    "model = st.SingleTaskDep(model_conf,vocab).to(device)\n",
    "model.load_state_dict(torch.load(save_path))\n",
    "for task in ['about','to','as']:\n",
    "    print(f\"Using scikit learn accuracy por género en el conjunto {task}\")\n",
    "    print(f\"GLOBAL: {train.eval_function_single_sk(model,dl_eval[task])}\")\n",
    "    print(f\"MALE {train.eval_function_single_sk(model,dl_eval[task],gender='male')}\")\n",
    "    print(f\"FEMALE {train.eval_function_single_sk(model,dl_eval[task],gender='female')}\",'\\n')"
   ]
  }
 ],
 "metadata": {
  "kernelspec": {
   "display_name": "tfg",
   "language": "python",
   "name": "python3"
  },
  "language_info": {
   "codemirror_mode": {
    "name": "ipython",
    "version": 3
   },
   "file_extension": ".py",
   "mimetype": "text/x-python",
   "name": "python",
   "nbconvert_exporter": "python",
   "pygments_lexer": "ipython3",
   "version": "3.9.13"
  },
  "orig_nbformat": 4,
  "vscode": {
   "interpreter": {
    "hash": "35e8332e99bdf485583869dfbdef293dcf2f9293b1663ec5daea0a573af457c3"
   }
  }
 },
 "nbformat": 4,
 "nbformat_minor": 2
}
