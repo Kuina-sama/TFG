{
 "cells": [
  {
   "cell_type": "code",
   "execution_count": 1,
   "metadata": {},
   "outputs": [],
   "source": [
    "import torch\n",
    "from torch.utils.data import DataLoader\n",
    "from torch.optim import SGD ,AdamW\n",
    "\n",
    "from datasets import load_dataset, load_metric\n",
    "\n",
    "import matplotlib.pyplot as plt\n",
    "\n",
    "import json\n"
   ]
  },
  {
   "cell_type": "code",
   "execution_count": 2,
   "metadata": {},
   "outputs": [],
   "source": [
    "import utils_generic as generic\n",
    "import multitask_simple as mt\n",
    "import model_confs as confs\n",
    "import train"
   ]
  },
  {
   "cell_type": "code",
   "execution_count": 3,
   "metadata": {},
   "outputs": [],
   "source": [
    "device = torch.device(\"cuda\") if torch.cuda.is_available() else torch.device(\"cpu\")\n",
    "torch.manual_seed(27)\n",
    "tasks = ['to','as','about']"
   ]
  },
  {
   "cell_type": "code",
   "execution_count": 4,
   "metadata": {},
   "outputs": [],
   "source": [
    "model_conf = confs.distilbert_conf"
   ]
  },
  {
   "attachments": {},
   "cell_type": "markdown",
   "metadata": {},
   "source": [
    "# Datos ConvAI"
   ]
  },
  {
   "cell_type": "code",
   "execution_count": 5,
   "metadata": {},
   "outputs": [],
   "source": [
    "with open('Datasets\\ConvAI2\\convai2_complete.json','r') as f:\n",
    "    data = json.load(f)"
   ]
  },
  {
   "cell_type": "code",
   "execution_count": 6,
   "metadata": {},
   "outputs": [],
   "source": [
    "convai_train = data['train']\n",
    "convai_val = data['validation']\n",
    "\n",
    "\n",
    "\n",
    "convai_train_token = generic.tokenize_dataset(convai_train,tasks,model_conf) \n",
    "convai_val_token = generic.tokenize_dataset(convai_val,tasks,model_conf) "
   ]
  },
  {
   "cell_type": "code",
   "execution_count": 7,
   "metadata": {},
   "outputs": [],
   "source": [
    "convai_train_dataset = mt.DatasetMultiTaskSimple(convai_train_token,tasks,eval=False)\n",
    "convai_val_dataset = mt.DatasetMultiTaskSimple(convai_val_token,tasks,eval=False)"
   ]
  },
  {
   "attachments": {},
   "cell_type": "markdown",
   "metadata": {},
   "source": [
    "# Datos md_gender"
   ]
  },
  {
   "cell_type": "code",
   "execution_count": 8,
   "metadata": {},
   "outputs": [],
   "source": [
    "with open('Datasets\\md_gender\\md_complete.json','r',encoding=\"utf8\") as f:\n",
    "    md_data = json.load(f)"
   ]
  },
  {
   "cell_type": "code",
   "execution_count": 9,
   "metadata": {},
   "outputs": [],
   "source": [
    "md_tokenized = generic.tokenize_dataset(md_data,tasks,model_conf) \n",
    "md_dataset = mt.DatasetMultiTaskSimple(md_tokenized,tasks,eval=True)"
   ]
  },
  {
   "attachments": {},
   "cell_type": "markdown",
   "metadata": {},
   "source": [
    "# Creación dataloaders"
   ]
  },
  {
   "cell_type": "code",
   "execution_count": 10,
   "metadata": {},
   "outputs": [],
   "source": [
    "dl_train =DataLoader(convai_train_dataset,batch_size=128,shuffle=True,collate_fn=mt.collate_fn)\n",
    "dl_val =DataLoader(convai_val_dataset,batch_size=128,shuffle=True,collate_fn=mt.collate_fn)\n",
    "dl_eval = DataLoader(md_dataset,batch_size=128,shuffle=False,collate_fn=mt.collate_fn)"
   ]
  },
  {
   "attachments": {},
   "cell_type": "markdown",
   "metadata": {},
   "source": [
    "# Modelo multitask"
   ]
  },
  {
   "cell_type": "code",
   "execution_count": 11,
   "metadata": {},
   "outputs": [
    {
     "name": "stderr",
     "output_type": "stream",
     "text": [
      "Some weights of the model checkpoint at distilbert-base-cased were not used when initializing DistilBertModel: ['vocab_layer_norm.weight', 'vocab_transform.weight', 'vocab_transform.bias', 'vocab_projector.bias', 'vocab_projector.weight', 'vocab_layer_norm.bias']\n",
      "- This IS expected if you are initializing DistilBertModel from the checkpoint of a model trained on another task or with another architecture (e.g. initializing a BertForSequenceClassification model from a BertForPreTraining model).\n",
      "- This IS NOT expected if you are initializing DistilBertModel from the checkpoint of a model that you expect to be exactly identical (initializing a BertForSequenceClassification model from a BertForSequenceClassification model).\n"
     ]
    }
   ],
   "source": [
    "model = mt.MultiTaskSimple(model_conf).to(device)\n",
    "save_path='m1_distilbert_multi'"
   ]
  },
  {
   "cell_type": "code",
   "execution_count": 12,
   "metadata": {},
   "outputs": [
    {
     "name": "stdout",
     "output_type": "stream",
     "text": [
      "Accuracy evaluando en todas las etiquetas\n",
      "{'to': 0.5189393939393939, 'as': 0.516297262059974, 'about': 0.4885204081632653}\n",
      "Accuracy evaluando en etiquetas female\n",
      "{'to': 0.0, 'as': 0.0, 'about': 0.0}\n",
      "Accuracy evaluando en etiquetas male\n",
      "{'to': 1.0, 'as': 1.0, 'about': 0.9973958333333334}\n"
     ]
    }
   ],
   "source": [
    "print(\"Accuracy evaluando en todas las etiquetas\")\n",
    "print(train.eval_function_multi(model,dl_eval,tasks))\n",
    "print(\"Accuracy evaluando en etiquetas female\")\n",
    "print(train.eval_function_multi(model,dl_eval,tasks,'female'))\n",
    "print(\"Accuracy evaluando en etiquetas male\")\n",
    "print(train.eval_function_multi(model,dl_eval,tasks,'male'))"
   ]
  },
  {
   "cell_type": "code",
   "execution_count": 13,
   "metadata": {},
   "outputs": [
    {
     "data": {
      "application/vnd.jupyter.widget-view+json": {
       "model_id": "e021982f4c3346cf8090bb71940f6024",
       "version_major": 2,
       "version_minor": 0
      },
      "text/plain": [
       "  0%|          | 0/57400 [00:00<?, ?it/s]"
      ]
     },
     "metadata": {},
     "output_type": "display_data"
    },
    {
     "name": "stdout",
     "output_type": "stream",
     "text": [
      "Epoch 1 \t Training loss: 2.079034400733921 \t Validation loss: 2.080376592733092 \t \n",
      "  1%|          | 574/57400 [01:53<3:05:16,  5.11it/s]\n",
      "Epoch 2 \t Training loss: 2.069307878873074 \t Validation loss: 2.065265081696591 \t \n",
      "  2%|▏         | 1148/57400 [03:54<3:15:32,  4.79it/s]\n",
      "Epoch 3 \t Training loss: 2.0483819825724026 \t Validation loss: 2.040248551611173 \t \n",
      "  3%|▎         | 1722/57400 [06:22<6:30:37,  2.38it/s]\n",
      "Epoch 4 \t Training loss: 2.0198208797684116 \t Validation loss: 2.0166282613398665 \t \n",
      "  4%|▍         | 2296/57400 [09:47<3:28:50,  4.40it/s]\n",
      "Epoch 5 \t Training loss: 2.0030763275947305 \t Validation loss: 2.0084483340635138 \t \n",
      "  5%|▌         | 2870/57400 [11:52<2:52:36,  5.27it/s]\n",
      "Epoch 6 \t Training loss: 1.9948368471258608 \t Validation loss: 2.0123018612295893 \t \n",
      "\n",
      "1 epoch without improvement\n",
      "  6%|▌         | 3444/57400 [13:46<2:51:25,  5.25it/s]\n",
      "Epoch 7 \t Training loss: 1.9905442956848012 \t Validation loss: 1.988166784836074 \t \n",
      "  7%|▋         | 4018/57400 [15:39<2:47:22,  5.32it/s]\n",
      "Epoch 8 \t Training loss: 1.9852449308289053 \t Validation loss: 1.992248549299725 \t \n",
      "\n",
      "1 epoch without improvement\n",
      "  8%|▊         | 4592/57400 [17:38<3:55:01,  3.74it/s]\n",
      "Epoch 9 \t Training loss: 1.9814864949482243 \t Validation loss: 1.986233189954596 \t \n",
      "  9%|▉         | 5166/57400 [19:38<2:46:58,  5.21it/s]\n",
      "Epoch 10 \t Training loss: 1.980459198511436 \t Validation loss: 1.9885472059249878 \t \n",
      "\n",
      "1 epoch without improvement\n",
      " 10%|█         | 5740/57400 [21:36<2:15:30,  6.35it/s]\n",
      "Epoch 11 \t Training loss: 1.9792120041332177 \t Validation loss: 1.987250790757648 \t \n",
      "\n",
      "2 epoch without improvement\n",
      " 11%|█         | 6314/57400 [23:37<2:19:03,  6.12it/s]\n",
      "Epoch 12 \t Training loss: 1.9776337061609541 \t Validation loss: 1.9933489540875968 \t \n",
      "\n",
      "3 epoch without improvement\n",
      " 12%|█▏        | 6888/57400 [25:39<2:41:46,  5.20it/s]\n",
      "Epoch 13 \t Training loss: 1.9767012664665329 \t Validation loss: 1.9810289993124492 \t \n",
      " 13%|█▎        | 7462/57400 [27:41<2:22:52,  5.83it/s]\n",
      "Epoch 14 \t Training loss: 1.9756657279742305 \t Validation loss: 1.9821826623658003 \t \n",
      "\n",
      "1 epoch without improvement\n",
      " 14%|█▍        | 8036/57400 [29:40<2:42:03,  5.08it/s]\n",
      "Epoch 15 \t Training loss: 1.9735137575179442 \t Validation loss: 1.977381389019853 \t \n",
      " 15%|█▌        | 8610/57400 [31:42<2:43:17,  4.98it/s]\n",
      "Epoch 16 \t Training loss: 1.975144333540355 \t Validation loss: 1.9828859486822354 \t \n",
      "\n",
      "1 epoch without improvement\n",
      " 16%|█▌        | 9184/57400 [33:41<2:44:55,  4.87it/s]\n",
      "Epoch 17 \t Training loss: 1.972164415523981 \t Validation loss: 1.982388781288923 \t \n",
      "\n",
      "2 epoch without improvement\n",
      " 17%|█▋        | 9758/57400 [35:42<2:16:05,  5.83it/s]\n",
      "Epoch 18 \t Training loss: 1.9717545110589536 \t Validation loss: 1.9787849915229667 \t \n",
      "\n",
      "3 epoch without improvement\n",
      " 18%|█▊        | 10332/57400 [37:46<2:45:48,  4.73it/s]\n",
      "Epoch 19 \t Training loss: 1.9709358026341695 \t Validation loss: 1.9746644860607083 \t \n",
      " 19%|█▉        | 10906/57400 [39:46<2:12:13,  5.86it/s]\n",
      "Epoch 20 \t Training loss: 1.970568926699901 \t Validation loss: 1.9807119288686978 \t \n",
      "\n",
      "1 epoch without improvement\n",
      " 20%|██        | 11480/57400 [41:46<2:36:07,  4.90it/s]\n",
      "Epoch 21 \t Training loss: 1.9688359006772058 \t Validation loss: 1.9814848273487415 \t \n",
      "\n",
      "2 epoch without improvement\n",
      " 21%|██        | 12054/57400 [43:48<2:37:59,  4.78it/s]\n",
      "Epoch 22 \t Training loss: 1.9671813006600436 \t Validation loss: 1.9733376482785758 \t \n",
      " 22%|██▏       | 12628/57400 [45:52<2:04:47,  5.98it/s]\n",
      "Epoch 23 \t Training loss: 1.967771257049946 \t Validation loss: 1.9774242296057232 \t \n",
      "\n",
      "1 epoch without improvement\n",
      " 23%|██▎       | 13202/57400 [47:52<2:48:56,  4.36it/s]\n",
      "Epoch 24 \t Training loss: 1.9676632565488383 \t Validation loss: 1.9809072886483143 \t \n",
      "\n",
      "2 epoch without improvement\n",
      " 24%|██▍       | 13776/57400 [49:53<2:32:51,  4.76it/s]\n",
      "Epoch 25 \t Training loss: 1.9660107738464967 \t Validation loss: 1.9842080585027144 \t \n",
      "\n",
      "3 epoch without improvement\n",
      " 25%|██▌       | 14350/57400 [51:56<2:46:38,  4.31it/s]\n",
      "Epoch 26 \t Training loss: 1.962943486843375 \t Validation loss: 1.9771404448202101 \t \n",
      "\n",
      "4 epoch without improvement\n",
      " 26%|██▌       | 14924/57400 [54:02<2:20:50,  5.03it/s]\n",
      "Epoch 27 \t Training loss: 1.9647476461290898 \t Validation loss: 1.9778386354446411 \t \n",
      "\n",
      "5 epoch without improvement\n",
      " 27%|██▋       | 15498/57400 [56:03<2:21:35,  4.93it/s]\n",
      "Epoch 28 \t Training loss: 1.965244371716569 \t Validation loss: 1.971428753965992 \t \n",
      " 28%|██▊       | 16072/57400 [58:04<2:10:59,  5.26it/s]\n",
      "Epoch 29 \t Training loss: 1.9642593131663493 \t Validation loss: 1.9807820279719466 \t \n",
      "\n",
      "1 epoch without improvement\n",
      " 29%|██▉       | 16646/57400 [1:00:06<2:21:20,  4.81it/s]\n",
      "Epoch 30 \t Training loss: 1.965883816783852 \t Validation loss: 1.9753681421279907 \t \n",
      "\n",
      "2 epoch without improvement\n",
      " 30%|███       | 17220/57400 [1:02:07<2:15:43,  4.93it/s]\n",
      "Epoch 31 \t Training loss: 1.9661185654198252 \t Validation loss: 1.9716099157171734 \t \n",
      " 31%|███       | 17794/57400 [1:04:06<2:05:31,  5.26it/s]\n",
      "Epoch 32 \t Training loss: 1.9631157650349447 \t Validation loss: 1.9854877641645527 \t \n",
      "\n",
      "3 epoch without improvement\n",
      " 32%|███▏      | 18368/57400 [1:06:04<2:17:28,  4.73it/s]\n",
      "Epoch 33 \t Training loss: 1.9620554297643256 \t Validation loss: 1.9813281418913502 \t \n",
      "\n",
      "4 epoch without improvement\n",
      " 33%|███▎      | 18942/57400 [1:08:04<2:04:44,  5.14it/s]\n",
      "Epoch 34 \t Training loss: 1.9638851820799532 \t Validation loss: 1.975926366903014 \t \n",
      "\n",
      "5 epoch without improvement\n",
      " 34%|███▍      | 19516/57400 [1:10:04<2:14:00,  4.71it/s]\n",
      "Epoch 35 \t Training loss: 1.961278541578233 \t Validation loss: 1.9682517920510243 \t \n",
      " 35%|███▌      | 20090/57400 [1:12:03<1:56:50,  5.32it/s]\n",
      "Epoch 36 \t Training loss: 1.9622921713137875 \t Validation loss: 1.9739845142526142 \t \n",
      "\n",
      "1 epoch without improvement\n",
      " 36%|███▌      | 20664/57400 [1:14:00<2:11:03,  4.67it/s]\n",
      "Epoch 37 \t Training loss: 1.9608807204492416 \t Validation loss: 1.972114738771471 \t \n",
      "\n",
      "2 epoch without improvement\n",
      " 37%|███▋      | 21238/57400 [1:16:01<2:16:07,  4.43it/s]\n",
      "Epoch 38 \t Training loss: 1.9617478612823354 \t Validation loss: 1.978707002381147 \t \n",
      "\n",
      "3 epoch without improvement\n",
      " 38%|███▊      | 21812/57400 [1:18:04<2:31:01,  3.93it/s]\n",
      "Epoch 39 \t Training loss: 1.9608359158246775 \t Validation loss: 1.966440111903821 \t \n",
      " 39%|███▉      | 22386/57400 [1:20:08<1:32:52,  6.28it/s]\n",
      "Epoch 40 \t Training loss: 1.9594663111590342 \t Validation loss: 1.9794100320945351 \t \n",
      "\n",
      "1 epoch without improvement\n",
      " 40%|████      | 22960/57400 [1:22:13<2:34:32,  3.71it/s]\n",
      "Epoch 41 \t Training loss: 1.9617608307961387 \t Validation loss: 1.9759974035166077 \t \n",
      "\n",
      "2 epoch without improvement\n",
      " 41%|████      | 23534/57400 [1:24:14<1:51:38,  5.06it/s]\n",
      "Epoch 42 \t Training loss: 1.9571744998988374 \t Validation loss: 1.9744461047447335 \t \n",
      "\n",
      "3 epoch without improvement\n",
      " 42%|████▏     | 24108/57400 [1:26:17<2:24:17,  3.85it/s]\n",
      "Epoch 43 \t Training loss: 1.9591668127721196 \t Validation loss: 1.971356371701774 \t \n",
      "\n",
      "4 epoch without improvement\n",
      " 43%|████▎     | 24682/57400 [1:28:22<1:48:50,  5.01it/s]\n",
      "Epoch 44 \t Training loss: 1.959820976656073 \t Validation loss: 1.9772084021972398 \t \n",
      "\n",
      "5 epoch without improvement\n",
      " 44%|████▍     | 25256/57400 [1:30:16<2:00:18,  4.45it/s]\n",
      "Epoch 45 \t Training loss: 1.9606700238450478 \t Validation loss: 1.9647667003890215 \t \n",
      " 45%|████▌     | 25830/57400 [1:32:19<1:31:05,  5.78it/s]\n",
      "Epoch 46 \t Training loss: 1.9587123045107213 \t Validation loss: 1.9688967587584156 \t \n",
      "\n",
      "1 epoch without improvement\n",
      " 46%|████▌     | 26404/57400 [1:34:19<1:41:09,  5.11it/s]\n",
      "Epoch 47 \t Training loss: 1.9586347862818516 \t Validation loss: 1.9715886964636333 \t \n",
      "\n",
      "2 epoch without improvement\n",
      " 47%|████▋     | 26978/57400 [1:36:23<1:40:13,  5.06it/s]\n",
      "Epoch 48 \t Training loss: 1.9560778028873615 \t Validation loss: 1.9674078226089478 \t \n",
      "\n",
      "3 epoch without improvement\n",
      " 48%|████▊     | 27552/57400 [1:38:23<1:47:39,  4.62it/s]\n",
      "Epoch 49 \t Training loss: 1.958063200168078 \t Validation loss: 1.9642927282947604 \t \n",
      " 49%|████▉     | 28126/57400 [1:40:30<1:25:49,  5.68it/s]\n",
      "Epoch 50 \t Training loss: 1.955384045527787 \t Validation loss: 1.9719407214956768 \t \n",
      "\n",
      "1 epoch without improvement\n",
      " 50%|█████     | 28700/57400 [1:42:35<1:37:39,  4.90it/s]\n",
      "Epoch 51 \t Training loss: 1.9574755199694882 \t Validation loss: 1.9673503475674128 \t \n",
      "\n",
      "2 epoch without improvement\n",
      " 51%|█████     | 29274/57400 [1:44:41<1:36:58,  4.83it/s]\n",
      "Epoch 52 \t Training loss: 1.9572430942532077 \t Validation loss: 1.975642353801404 \t \n",
      "\n",
      "3 epoch without improvement\n",
      " 52%|█████▏    | 29848/57400 [1:46:46<1:39:54,  4.60it/s]\n",
      "Epoch 53 \t Training loss: 1.956152459470237 \t Validation loss: 1.9711259906574832 \t \n",
      "\n",
      "4 epoch without improvement\n",
      " 53%|█████▎    | 30422/57400 [1:48:52<1:35:19,  4.72it/s]\n",
      "Epoch 54 \t Training loss: 1.956057687669681 \t Validation loss: 1.9716369519799442 \t \n",
      "\n",
      "5 epoch without improvement\n",
      " 54%|█████▍    | 30996/57400 [1:50:58<1:33:33,  4.70it/s]\n",
      "Epoch 55 \t Training loss: 1.9543161859495715 \t Validation loss: 1.9691881608154813 \t \n",
      "\n",
      "6 epoch without improvement\n",
      " 55%|█████▌    | 31570/57400 [1:53:03<1:56:24,  3.70it/s]\n",
      "Epoch 56 \t Training loss: 1.957650406850755 \t Validation loss: 1.9753226708557645 \t \n",
      "\n",
      "7 epoch without improvement\n",
      " 56%|█████▌    | 32144/57400 [1:55:09<1:47:36,  3.91it/s]\n",
      "Epoch 57 \t Training loss: 1.957654465158642 \t Validation loss: 1.9645513781046464 \t \n",
      " 57%|█████▋    | 32718/57400 [1:57:15<1:22:55,  4.96it/s]\n",
      "Epoch 58 \t Training loss: 1.954463870060153 \t Validation loss: 1.967726519552328 \t \n",
      "\n",
      "8 epoch without improvement\n",
      " 58%|█████▊    | 33292/57400 [1:59:20<1:26:56,  4.62it/s]\n",
      "Epoch 59 \t Training loss: 1.9532068180705613 \t Validation loss: 1.9610937389276795 \t \n",
      " 59%|█████▉    | 33866/57400 [2:01:26<1:18:19,  5.01it/s]\n",
      "Epoch 60 \t Training loss: 1.956004993425429 \t Validation loss: 1.9744688070426553 \t \n",
      "\n",
      "1 epoch without improvement\n",
      " 60%|██████    | 34440/57400 [2:03:32<1:22:48,  4.62it/s]\n",
      "Epoch 61 \t Training loss: 1.9560723921563152 \t Validation loss: 1.9716733593051716 \t \n",
      "\n",
      "2 epoch without improvement\n",
      " 61%|██████    | 35014/57400 [2:05:37<1:17:42,  4.80it/s]\n",
      "Epoch 62 \t Training loss: 1.9557879077017515 \t Validation loss: 1.9691160816257283 \t \n",
      "\n",
      "3 epoch without improvement\n",
      " 62%|██████▏   | 35588/57400 [2:07:43<1:15:29,  4.82it/s]\n",
      "Epoch 63 \t Training loss: 1.9573897360093917 \t Validation loss: 1.966518232377909 \t \n",
      "\n",
      "4 epoch without improvement\n",
      " 63%|██████▎   | 36162/57400 [2:09:48<1:19:11,  4.47it/s]\n",
      "Epoch 64 \t Training loss: 1.955811527547936 \t Validation loss: 1.9739754442441262 \t \n",
      "\n",
      "5 epoch without improvement\n",
      " 64%|██████▍   | 36736/57400 [2:11:54<1:15:44,  4.55it/s]\n",
      "Epoch 65 \t Training loss: 1.9558427909110065 \t Validation loss: 1.9647900977377164 \t \n",
      "\n",
      "6 epoch without improvement\n",
      " 65%|██████▌   | 37310/57400 [2:13:59<1:04:40,  5.18it/s]\n",
      "Epoch 66 \t Training loss: 1.9546747492165515 \t Validation loss: 1.9650973627122783 \t \n",
      "\n",
      "7 epoch without improvement\n",
      " 66%|██████▌   | 37884/57400 [2:16:08<1:12:38,  4.48it/s]\n",
      "Epoch 67 \t Training loss: 1.9525771782788666 \t Validation loss: 1.9649418430813288 \t \n",
      "\n",
      "8 epoch without improvement\n",
      " 67%|██████▋   | 38458/57400 [2:18:25<1:13:38,  4.29it/s]\n",
      "Epoch 68 \t Training loss: 1.9553125853737887 \t Validation loss: 1.9694994869878737 \t \n",
      "\n",
      "9 epoch without improvement\n",
      " 68%|██████▊   | 39032/57400 [2:20:41<1:10:16,  4.36it/s]\n",
      "Epoch 69 \t Training loss: 1.954860563892936 \t Validation loss: 1.9707127162965679 \t \n",
      "\n",
      "10 epoch without improvement\n",
      "Validation_loss hasn't improve in 10 epoch. Stopping training after 69 epochs...\n"
     ]
    },
    {
     "data": {
      "image/png": "[encoded data removed]",
      "text/plain": [
       "<Figure size 640x480 with 1 Axes>"
      ]
     },
     "metadata": {},
     "output_type": "display_data"
    }
   ],
   "source": [
    "learning_rate = 5e-5\n",
    "optimizer = SGD(model.parameters(), lr=learning_rate, momentum=0.9)\n",
    "num_epochs = 100\n",
    "train.train_function_multi(model,num_epochs,dl_train,optimizer,early_stop = 10,dl_val = dl_val,save_path=save_path)"
   ]
  },
  {
   "cell_type": "code",
   "execution_count": 14,
   "metadata": {},
   "outputs": [
    {
     "name": "stderr",
     "output_type": "stream",
     "text": [
      "Some weights of the model checkpoint at distilbert-base-cased were not used when initializing DistilBertModel: ['vocab_layer_norm.weight', 'vocab_transform.weight', 'vocab_transform.bias', 'vocab_projector.bias', 'vocab_projector.weight', 'vocab_layer_norm.bias']\n",
      "- This IS expected if you are initializing DistilBertModel from the checkpoint of a model trained on another task or with another architecture (e.g. initializing a BertForSequenceClassification model from a BertForPreTraining model).\n",
      "- This IS NOT expected if you are initializing DistilBertModel from the checkpoint of a model that you expect to be exactly identical (initializing a BertForSequenceClassification model from a BertForSequenceClassification model).\n"
     ]
    },
    {
     "name": "stdout",
     "output_type": "stream",
     "text": [
      "Accuracy evaluando en todas las etiquetas\n",
      "{'to': 0.6679292929292929, 'as': 0.7196870925684485, 'about': 0.8418367346938775}\n",
      "Accuracy evaluando en etiquetas female\n",
      "{'to': 0.6509186351706037, 'as': 0.7493261455525606, 'about': 0.85}\n",
      "Accuracy evaluando en etiquetas male\n",
      "{'to': 0.683698296836983, 'as': 0.6919191919191919, 'about': 0.8333333333333334}\n"
     ]
    }
   ],
   "source": [
    "model = mt.MultiTaskSimple(model_conf).to(device)\n",
    "model.load_state_dict(torch.load(save_path))\n",
    "\n",
    "print(\"Accuracy evaluando en todas las etiquetas\")\n",
    "print(train.eval_function_multi(model,dl_eval,tasks))\n",
    "print(\"Accuracy evaluando en etiquetas female\")\n",
    "print(train.eval_function_multi(model,dl_eval,tasks,'female'))\n",
    "print(\"Accuracy evaluando en etiquetas male\")\n",
    "print(train.eval_function_multi(model,dl_eval,tasks,'male'))"
   ]
  },
  {
   "cell_type": "code",
   "execution_count": 17,
   "metadata": {},
   "outputs": [],
   "source": [
    "del model\n",
    "torch.cuda.empty_cache()"
   ]
  },
  {
   "cell_type": "code",
   "execution_count": null,
   "metadata": {},
   "outputs": [],
   "source": [
    "model = mt.MultiTaskSimple(model_conf).to(device)\n",
    "save_path='m1_distilbert_multi-adamw'\n",
    "learning_rate = 0.001\n",
    "optimizer = AdamW(model.parameters(), lr=learning_rate)\n",
    "num_epochs = 100\n",
    "train.train_function_multi(model,num_epochs,dl_train,optimizer,early_stop = 10,dl_val = dl_val,save_path=save_path)"
   ]
  },
  {
   "cell_type": "code",
   "execution_count": null,
   "metadata": {},
   "outputs": [],
   "source": [
    "model = mt.MultiTaskSimple(model_conf).to(device)\n",
    "model.load_state_dict(torch.load(save_path))\n",
    "\n",
    "print(\"Accuracy evaluando en todas las etiquetas\")\n",
    "print(train.eval_function_multi(model,dl_eval,tasks))\n",
    "print(\"Accuracy evaluando en etiquetas female\")\n",
    "print(train.eval_function_multi(model,dl_eval,tasks,'female'))\n",
    "print(\"Accuracy evaluando en etiquetas male\")\n",
    "print(train.eval_function_multi(model,dl_eval,tasks,'male'))"
   ]
  }
 ],
 "metadata": {
  "kernelspec": {
   "display_name": "tfg",
   "language": "python",
   "name": "python3"
  },
  "language_info": {
   "codemirror_mode": {
    "name": "ipython",
    "version": 3
   },
   "file_extension": ".py",
   "mimetype": "text/x-python",
   "name": "python",
   "nbconvert_exporter": "python",
   "pygments_lexer": "ipython3",
   "version": "3.9.13"
  },
  "orig_nbformat": 4,
  "vscode": {
   "interpreter": {
    "hash": "35e8332e99bdf485583869dfbdef293dcf2f9293b1663ec5daea0a573af457c3"
   }
  }
 },
 "nbformat": 4,
 "nbformat_minor": 2
}
