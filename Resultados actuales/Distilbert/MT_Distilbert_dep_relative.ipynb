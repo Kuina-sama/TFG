{
 "cells": [
  {
   "cell_type": "code",
   "execution_count": 1,
   "metadata": {},
   "outputs": [],
   "source": [
    "import torch\n",
    "from torch.utils.data import DataLoader\n",
    "from torch.optim import SGD ,AdamW\n",
    "\n",
    "from datasets import load_dataset, load_metric\n",
    "\n",
    "import matplotlib.pyplot as plt\n",
    "\n",
    "import json\n"
   ]
  },
  {
   "cell_type": "code",
   "execution_count": 2,
   "metadata": {},
   "outputs": [],
   "source": [
    "import utils_generic as generic\n",
    "import multitask_dep as mt\n",
    "import model_confs as confs\n",
    "import train_dep as train"
   ]
  },
  {
   "cell_type": "code",
   "execution_count": 3,
   "metadata": {},
   "outputs": [],
   "source": [
    "device = torch.device(\"cuda\") if torch.cuda.is_available() else torch.device(\"cpu\")\n",
    "torch.manual_seed(27)\n",
    "tasks = ['to','as','about']"
   ]
  },
  {
   "cell_type": "code",
   "execution_count": 4,
   "metadata": {},
   "outputs": [],
   "source": [
    "model_conf = confs.distilbert_conf\n",
    "encoding_type = 'relative'"
   ]
  },
  {
   "attachments": {},
   "cell_type": "markdown",
   "metadata": {},
   "source": [
    "# Datos ConvAI"
   ]
  },
  {
   "cell_type": "code",
   "execution_count": 5,
   "metadata": {},
   "outputs": [],
   "source": [
    "with open('Datasets\\ConvAI2\\convai2_complete.json','r') as f:\n",
    "    data = json.load(f)"
   ]
  },
  {
   "cell_type": "code",
   "execution_count": 6,
   "metadata": {},
   "outputs": [],
   "source": [
    "vocab = mt.Vocabulary(data['train'],encoding_type)"
   ]
  },
  {
   "cell_type": "code",
   "execution_count": 7,
   "metadata": {},
   "outputs": [],
   "source": [
    "convai_train = data['train']\n",
    "convai_val = data['validation']\n",
    "\n",
    "\n",
    "\n",
    "convai_train_token = generic.tokenize_dataset_with_dependencies(convai_train,['about','to','as'],vocab,model_conf) \n",
    "convai_val_token = generic.tokenize_dataset_with_dependencies(convai_val,['about','to','as'],vocab,model_conf) "
   ]
  },
  {
   "cell_type": "code",
   "execution_count": 8,
   "metadata": {},
   "outputs": [],
   "source": [
    "convai_train_dataset = mt.DatasetMultitaskDep(convai_train_token,tasks,eval=False)\n",
    "convai_val_dataset = mt.DatasetMultitaskDep(convai_val_token,tasks,eval=False)"
   ]
  },
  {
   "attachments": {},
   "cell_type": "markdown",
   "metadata": {},
   "source": [
    "# Datos md_gender"
   ]
  },
  {
   "cell_type": "code",
   "execution_count": 9,
   "metadata": {},
   "outputs": [],
   "source": [
    "with open('Datasets\\md_gender\\md_complete.json','r',encoding=\"utf8\") as f:\n",
    "    md_data = json.load(f)"
   ]
  },
  {
   "cell_type": "code",
   "execution_count": 10,
   "metadata": {},
   "outputs": [],
   "source": [
    "md_tokenized = generic.tokenize_dataset_with_dependencies(md_data,['about','to','as'],vocab,model_conf) \n",
    "md_dataset = mt.DatasetMultitaskDep(md_tokenized,tasks,eval=True)"
   ]
  },
  {
   "attachments": {},
   "cell_type": "markdown",
   "metadata": {},
   "source": [
    "# Creación dataloaders"
   ]
  },
  {
   "cell_type": "code",
   "execution_count": 11,
   "metadata": {},
   "outputs": [],
   "source": [
    "dl_train =DataLoader(convai_train_dataset,batch_size=128,shuffle=True,collate_fn=mt.collate_fn)\n",
    "dl_val =DataLoader(convai_val_dataset,batch_size=128,shuffle=True,collate_fn=mt.collate_fn)\n",
    "dl_eval = DataLoader(md_dataset,batch_size=128,shuffle=False,collate_fn=mt.collate_fn)"
   ]
  },
  {
   "attachments": {},
   "cell_type": "markdown",
   "metadata": {},
   "source": [
    "# Modelo multitask"
   ]
  },
  {
   "cell_type": "code",
   "execution_count": 12,
   "metadata": {},
   "outputs": [
    {
     "name": "stderr",
     "output_type": "stream",
     "text": [
      "Some weights of the model checkpoint at distilbert-base-cased were not used when initializing DistilBertModel: ['vocab_layer_norm.bias', 'vocab_transform.weight', 'vocab_projector.bias', 'vocab_transform.bias', 'vocab_layer_norm.weight', 'vocab_projector.weight']\n",
      "- This IS expected if you are initializing DistilBertModel from the checkpoint of a model trained on another task or with another architecture (e.g. initializing a BertForSequenceClassification model from a BertForPreTraining model).\n",
      "- This IS NOT expected if you are initializing DistilBertModel from the checkpoint of a model that you expect to be exactly identical (initializing a BertForSequenceClassification model from a BertForSequenceClassification model).\n"
     ]
    }
   ],
   "source": [
    "model = mt.MultiWithDependencies(model_conf,vocab).to(device)\n",
    "save_path='m1_distilbert_multi_relative'"
   ]
  },
  {
   "cell_type": "code",
   "execution_count": 13,
   "metadata": {},
   "outputs": [
    {
     "name": "stdout",
     "output_type": "stream",
     "text": [
      "Accuracy evaluando en todas las etiquetas\n",
      "{'to': 0.5025252525252525, 'as': 0.516297262059974, 'about': 0.4744897959183674}\n",
      "Accuracy evaluando en etiquetas female\n",
      "{'to': 0.06561679790026247, 'as': 0.0646900269541779, 'about': 0.045}\n",
      "Accuracy evaluando en etiquetas male\n",
      "{'to': 0.9075425790754258, 'as': 0.9393939393939394, 'about': 0.921875}\n"
     ]
    }
   ],
   "source": [
    "print(\"Accuracy evaluando en todas las etiquetas\")\n",
    "print(train.eval_function_multi(model,dl_eval,tasks))\n",
    "print(\"Accuracy evaluando en etiquetas female\")\n",
    "print(train.eval_function_multi(model,dl_eval,tasks,'female'))\n",
    "print(\"Accuracy evaluando en etiquetas male\")\n",
    "print(train.eval_function_multi(model,dl_eval,tasks,'male'))"
   ]
  },
  {
   "cell_type": "code",
   "execution_count": 14,
   "metadata": {},
   "outputs": [
    {
     "data": {
      "application/vnd.jupyter.widget-view+json": {
       "model_id": "0ddac9821e4a4fc0b057b72e2ed465ef",
       "version_major": 2,
       "version_minor": 0
      },
      "text/plain": [
       "  0%|          | 0/57400 [00:00<?, ?it/s]"
      ]
     },
     "metadata": {},
     "output_type": "display_data"
    },
    {
     "name": "stdout",
     "output_type": "stream",
     "text": [
      "Epoch 1 \t Training loss: 2.0779801648668297 \t Validation loss: 2.07928789672205 \t \n",
      "  1%|          | 574/57400 [02:48<5:40:40,  2.78it/s]\n",
      "Epoch 2 \t Training loss: 2.07099332211325 \t Validation loss: 2.0721848293886347 \t \n",
      "  2%|▏         | 1148/57400 [05:54<4:10:58,  3.74it/s]\n",
      "Epoch 3 \t Training loss: 2.054018808158848 \t Validation loss: 2.0510855973777122 \t \n",
      "  3%|▎         | 1722/57400 [08:33<4:23:43,  3.52it/s]\n",
      "Epoch 4 \t Training loss: 2.024528670186365 \t Validation loss: 2.0168773845090704 \t \n",
      "  4%|▍         | 2296/57400 [11:27<4:44:34,  3.23it/s]\n",
      "Epoch 5 \t Training loss: 2.0064444560622503 \t Validation loss: 2.005667324793541 \t \n",
      "  5%|▌         | 2870/57400 [14:37<4:49:04,  3.14it/s]\n",
      "Epoch 6 \t Training loss: 1.9968166845600779 \t Validation loss: 2.007674267736532 \t \n",
      "\n",
      "1 epoch without improvement\n",
      "  6%|▌         | 3444/57400 [17:50<4:49:03,  3.11it/s]\n",
      "Epoch 7 \t Training loss: 1.9900100777373497 \t Validation loss: 1.9956875756635504 \t \n",
      "  7%|▋         | 4018/57400 [20:43<3:50:02,  3.87it/s]\n",
      "Epoch 8 \t Training loss: 1.986915879756316 \t Validation loss: 1.9949374805062503 \t \n",
      "  8%|▊         | 4592/57400 [23:25<3:58:30,  3.69it/s]\n",
      "Epoch 9 \t Training loss: 1.983679561664834 \t Validation loss: 1.9885386430611045 \t \n",
      "  9%|▉         | 5166/57400 [26:34<4:45:08,  3.05it/s]\n",
      "Epoch 10 \t Training loss: 1.982285508087703 \t Validation loss: 1.98938530380443 \t \n",
      " 10%|█         | 5740/57400 [29:30<3:55:16,  3.66it/s]\n",
      "Epoch 11 \t Training loss: 1.9778323698957623 \t Validation loss: 1.9926479145631952 \t \n",
      "\n",
      "1 epoch without improvement\n",
      " 11%|█         | 6314/57400 [32:09<3:49:43,  3.71it/s]\n",
      "Epoch 12 \t Training loss: 1.9780481798308236 \t Validation loss: 1.9817293296426028 \t \n",
      " 12%|█▏        | 6888/57400 [34:50<3:42:54,  3.78it/s]\n",
      "Epoch 13 \t Training loss: 1.97693313725734 \t Validation loss: 1.9832175505363334 \t \n",
      "\n",
      "1 epoch without improvement\n",
      " 13%|█▎        | 7462/57400 [37:31<3:48:06,  3.65it/s]\n",
      "Epoch 14 \t Training loss: 1.9746960943584242 \t Validation loss: 1.9797704078383365 \t \n",
      " 14%|█▍        | 8036/57400 [40:42<4:29:12,  3.06it/s]\n",
      "Epoch 15 \t Training loss: 1.975707908956016 \t Validation loss: 1.9898339408939167 \t \n",
      "\n",
      "1 epoch without improvement\n",
      " 15%|█▌        | 8610/57400 [43:31<3:39:20,  3.71it/s]\n",
      "Epoch 16 \t Training loss: 1.9722396143637468 \t Validation loss: 1.979326623981282 \t \n",
      " 16%|█▌        | 9184/57400 [46:12<3:40:50,  3.64it/s]\n",
      "Epoch 17 \t Training loss: 1.9720414471958572 \t Validation loss: 1.9862730604107097 \t \n",
      "\n",
      "1 epoch without improvement\n",
      " 17%|█▋        | 9758/57400 [49:13<3:23:36,  3.90it/s]\n",
      "Epoch 18 \t Training loss: 1.9708276893619046 \t Validation loss: 1.977532166545674 \t \n",
      " 18%|█▊        | 10332/57400 [51:57<3:30:06,  3.73it/s]\n",
      "Epoch 19 \t Training loss: 1.9708924359976208 \t Validation loss: 1.9718504841044797 \t \n",
      " 19%|█▉        | 10906/57400 [54:36<3:44:40,  3.45it/s]\n",
      "Epoch 20 \t Training loss: 1.9694128410326064 \t Validation loss: 1.976508207240347 \t \n",
      "\n",
      "1 epoch without improvement\n",
      " 20%|██        | 11480/57400 [57:43<4:08:33,  3.08it/s]\n",
      "Epoch 21 \t Training loss: 1.9692862098225319 \t Validation loss: 1.9799795251781658 \t \n",
      "\n",
      "2 epoch without improvement\n",
      " 21%|██        | 12054/57400 [1:00:29<3:36:26,  3.49it/s]\n",
      "Epoch 22 \t Training loss: 1.9694693146682367 \t Validation loss: 1.9818013461969666 \t \n",
      "\n",
      "3 epoch without improvement\n",
      " 22%|██▏       | 12628/57400 [1:03:08<3:22:49,  3.68it/s]\n",
      "Epoch 23 \t Training loss: 1.9674800131794468 \t Validation loss: 1.9791236529916019 \t \n",
      "\n",
      "4 epoch without improvement\n",
      " 23%|██▎       | 13202/57400 [1:05:20<2:44:14,  4.49it/s]\n",
      "Epoch 24 \t Training loss: 1.969444092350139 \t Validation loss: 1.9697061453835438 \t \n",
      " 24%|██▍       | 13776/57400 [1:07:37<3:28:12,  3.49it/s]\n",
      "Epoch 25 \t Training loss: 1.968054249519255 \t Validation loss: 1.9692300396450495 \t \n",
      " 25%|██▌       | 14350/57400 [1:10:19<3:21:03,  3.57it/s]\n",
      "Epoch 26 \t Training loss: 1.9667496330231324 \t Validation loss: 1.972000815100589 \t \n",
      "\n",
      "1 epoch without improvement\n",
      " 26%|██▌       | 14924/57400 [1:13:09<5:48:53,  2.03it/s]\n",
      "Epoch 27 \t Training loss: 1.9663641328180292 \t Validation loss: 1.9771687095448123 \t \n",
      "\n",
      "2 epoch without improvement\n",
      " 27%|██▋       | 15498/57400 [1:15:54<3:18:36,  3.52it/s]\n",
      "Epoch 28 \t Training loss: 1.965483699318424 \t Validation loss: 1.977599313703634 \t \n",
      "\n",
      "3 epoch without improvement\n",
      " 28%|██▊       | 16072/57400 [1:18:52<3:54:18,  2.94it/s]\n",
      "Epoch 29 \t Training loss: 1.9648204838357322 \t Validation loss: 1.971515734316939 \t \n",
      "\n",
      "4 epoch without improvement\n",
      " 29%|██▉       | 16646/57400 [1:22:05<2:50:22,  3.99it/s]\n",
      "Epoch 30 \t Training loss: 1.9663891813065533 \t Validation loss: 1.9690907991538613 \t \n",
      " 30%|███       | 17220/57400 [1:25:18<2:45:21,  4.05it/s]\n",
      "Epoch 31 \t Training loss: 1.9633221777889371 \t Validation loss: 1.9750508534706246 \t \n",
      "\n",
      "1 epoch without improvement\n",
      " 31%|███       | 17794/57400 [1:28:13<2:59:36,  3.68it/s]\n",
      "Epoch 32 \t Training loss: 1.963914949511817 \t Validation loss: 1.9721561670303345 \t \n",
      "\n",
      "2 epoch without improvement\n",
      " 32%|███▏      | 18368/57400 [1:30:56<2:58:09,  3.65it/s]\n",
      "Epoch 33 \t Training loss: 1.9641986464374157 \t Validation loss: 1.9773086491277663 \t \n",
      "\n",
      "3 epoch without improvement\n",
      " 33%|███▎      | 18942/57400 [1:33:45<3:15:45,  3.27it/s]\n",
      "Epoch 34 \t Training loss: 1.9634975072398835 \t Validation loss: 1.9738752902564356 \t \n",
      "\n",
      "4 epoch without improvement\n",
      " 34%|███▍      | 19516/57400 [1:36:40<3:00:08,  3.51it/s]\n",
      "Epoch 35 \t Training loss: 1.961477913507601 \t Validation loss: 1.9754602909088135 \t \n",
      "\n",
      "5 epoch without improvement\n",
      " 35%|███▌      | 20090/57400 [1:39:30<3:18:24,  3.13it/s]\n",
      "Epoch 36 \t Training loss: 1.9621481189329035 \t Validation loss: 1.9744165448819178 \t \n",
      "\n",
      "6 epoch without improvement\n",
      " 36%|███▌      | 20664/57400 [1:42:44<3:24:10,  3.00it/s]\n",
      "Epoch 37 \t Training loss: 1.9592420176346543 \t Validation loss: 1.9707751092264207 \t \n",
      "\n",
      "7 epoch without improvement\n",
      " 37%|███▋      | 21238/57400 [1:45:42<2:13:34,  4.51it/s]\n",
      "Epoch 38 \t Training loss: 1.9622706968194517 \t Validation loss: 1.9709429761110726 \t \n",
      "\n",
      "8 epoch without improvement\n",
      " 38%|███▊      | 21812/57400 [1:48:24<2:08:52,  4.60it/s]\n",
      "Epoch 39 \t Training loss: 1.9600002846651376 \t Validation loss: 1.9728506641872858 \t \n",
      "\n",
      "9 epoch without improvement\n",
      " 39%|███▉      | 22386/57400 [1:51:05<2:37:03,  3.72it/s]\n",
      "Epoch 40 \t Training loss: 1.961010061282314 \t Validation loss: 1.970706596212872 \t \n",
      "\n",
      "10 epoch without improvement\n",
      "Validation_loss hasn't improve in 10 epoch. Stopping training after 40 epochs...\n"
     ]
    },
    {
     "data": {
      "image/png": "[encoded data removed]",
      "text/plain": [
       "<Figure size 640x480 with 1 Axes>"
      ]
     },
     "metadata": {},
     "output_type": "display_data"
    }
   ],
   "source": [
    "learning_rate = 5e-5\n",
    "optimizer = SGD(model.parameters(), lr=learning_rate, momentum=0.9)\n",
    "num_epochs = 100\n",
    "train.train_function_multi(model,num_epochs,dl_train,optimizer,early_stop = 10,dl_val = dl_val,save_path=save_path)"
   ]
  },
  {
   "cell_type": "code",
   "execution_count": 15,
   "metadata": {},
   "outputs": [
    {
     "name": "stderr",
     "output_type": "stream",
     "text": [
      "Some weights of the model checkpoint at distilbert-base-cased were not used when initializing DistilBertModel: ['vocab_layer_norm.bias', 'vocab_transform.weight', 'vocab_projector.bias', 'vocab_transform.bias', 'vocab_layer_norm.weight', 'vocab_projector.weight']\n",
      "- This IS expected if you are initializing DistilBertModel from the checkpoint of a model trained on another task or with another architecture (e.g. initializing a BertForSequenceClassification model from a BertForPreTraining model).\n",
      "- This IS NOT expected if you are initializing DistilBertModel from the checkpoint of a model that you expect to be exactly identical (initializing a BertForSequenceClassification model from a BertForSequenceClassification model).\n"
     ]
    },
    {
     "name": "stdout",
     "output_type": "stream",
     "text": [
      "Accuracy evaluando en todas las etiquetas\n",
      "{'to': 0.6691919191919192, 'as': 0.7040417209908736, 'about': 0.8329081632653061}\n",
      "Accuracy evaluando en etiquetas female\n",
      "{'to': 0.6430446194225722, 'as': 0.738544474393531, 'about': 0.8325}\n",
      "Accuracy evaluando en etiquetas male\n",
      "{'to': 0.6934306569343066, 'as': 0.6717171717171717, 'about': 0.8333333333333334}\n"
     ]
    }
   ],
   "source": [
    "model = mt.MultiWithDependencies(model_conf,vocab).to(device)\n",
    "model.load_state_dict(torch.load(save_path))\n",
    "\n",
    "print(\"Accuracy evaluando en todas las etiquetas\")\n",
    "print(train.eval_function_multi(model,dl_eval,tasks))\n",
    "print(\"Accuracy evaluando en etiquetas female\")\n",
    "print(train.eval_function_multi(model,dl_eval,tasks,'female'))\n",
    "print(\"Accuracy evaluando en etiquetas male\")\n",
    "print(train.eval_function_multi(model,dl_eval,tasks,'male'))"
   ]
  },
  {
   "cell_type": "code",
   "execution_count": null,
   "metadata": {},
   "outputs": [],
   "source": [
    "del model\n",
    "torch.cuda.empty_cache()"
   ]
  },
  {
   "cell_type": "code",
   "execution_count": null,
   "metadata": {},
   "outputs": [],
   "source": [
    "model = mt.MultiWithDependencies(model_conf).to(device)\n",
    "save_path='m1_distilbert_multi_adamw'\n",
    "learning_rate = 5e-5\n",
    "optimizer = AdamW(model.parameters(), lr=learning_rate)\n",
    "num_epochs = 100\n",
    "train.train_function_multi(model,num_epochs,dl_train,optimizer,early_stop = 10,dl_val = dl_val,save_path=save_path)"
   ]
  },
  {
   "cell_type": "code",
   "execution_count": null,
   "metadata": {},
   "outputs": [],
   "source": [
    "model = mt.MultiWithDependencies(model_conf).to(device)\n",
    "model.load_state_dict(torch.load(save_path))\n",
    "\n",
    "print(\"Accuracy evaluando en todas las etiquetas\")\n",
    "print(train.eval_function_multi(model,dl_eval,tasks))\n",
    "print(\"Accuracy evaluando en etiquetas female\")\n",
    "print(train.eval_function_multi(model,dl_eval,tasks,'female'))\n",
    "print(\"Accuracy evaluando en etiquetas male\")\n",
    "print(train.eval_function_multi(model,dl_eval,tasks,'male'))"
   ]
  }
 ],
 "metadata": {
  "kernelspec": {
   "display_name": "tfg",
   "language": "python",
   "name": "python3"
  },
  "language_info": {
   "codemirror_mode": {
    "name": "ipython",
    "version": 3
   },
   "file_extension": ".py",
   "mimetype": "text/x-python",
   "name": "python",
   "nbconvert_exporter": "python",
   "pygments_lexer": "ipython3",
   "version": "3.9.13"
  },
  "orig_nbformat": 4,
  "vscode": {
   "interpreter": {
    "hash": "35e8332e99bdf485583869dfbdef293dcf2f9293b1663ec5daea0a573af457c3"
   }
  }
 },
 "nbformat": 4,
 "nbformat_minor": 2
}
