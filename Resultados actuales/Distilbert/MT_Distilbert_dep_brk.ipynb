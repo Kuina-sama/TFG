{
 "cells": [
  {
   "cell_type": "code",
   "execution_count": 1,
   "metadata": {},
   "outputs": [],
   "source": [
    "import torch\n",
    "from torch.utils.data import DataLoader\n",
    "from torch.optim import SGD ,AdamW\n",
    "\n",
    "from datasets import load_dataset, load_metric\n",
    "\n",
    "import matplotlib.pyplot as plt\n",
    "\n",
    "import json\n"
   ]
  },
  {
   "cell_type": "code",
   "execution_count": 2,
   "metadata": {},
   "outputs": [],
   "source": [
    "import utils_generic as generic\n",
    "import multitask_dep as mt\n",
    "import model_confs as confs\n",
    "import train_dep as train"
   ]
  },
  {
   "cell_type": "code",
   "execution_count": 3,
   "metadata": {},
   "outputs": [],
   "source": [
    "device = torch.device(\"cuda\") if torch.cuda.is_available() else torch.device(\"cpu\")\n",
    "torch.manual_seed(27)\n",
    "tasks = ['to','as','about']"
   ]
  },
  {
   "cell_type": "code",
   "execution_count": 4,
   "metadata": {},
   "outputs": [],
   "source": [
    "model_conf = confs.distilbert_conf\n",
    "encoding_type = 'brk'"
   ]
  },
  {
   "attachments": {},
   "cell_type": "markdown",
   "metadata": {},
   "source": [
    "# Datos ConvAI"
   ]
  },
  {
   "cell_type": "code",
   "execution_count": 5,
   "metadata": {},
   "outputs": [],
   "source": [
    "with open('Datasets\\ConvAI2\\convai2_complete.json','r') as f:\n",
    "    data = json.load(f)"
   ]
  },
  {
   "cell_type": "code",
   "execution_count": 6,
   "metadata": {},
   "outputs": [],
   "source": [
    "vocab = mt.Vocabulary(data['train'],encoding_type)"
   ]
  },
  {
   "cell_type": "code",
   "execution_count": 7,
   "metadata": {},
   "outputs": [],
   "source": [
    "convai_train = data['train']\n",
    "convai_val = data['validation']\n",
    "\n",
    "\n",
    "\n",
    "convai_train_token = generic.tokenize_dataset_with_dependencies(convai_train,['about','to','as'],vocab,model_conf) \n",
    "convai_val_token = generic.tokenize_dataset_with_dependencies(convai_val,['about','to','as'],vocab,model_conf) "
   ]
  },
  {
   "cell_type": "code",
   "execution_count": 8,
   "metadata": {},
   "outputs": [],
   "source": [
    "convai_train_dataset = mt.DatasetMultitaskDep(convai_train_token,tasks,eval=False)\n",
    "convai_val_dataset = mt.DatasetMultitaskDep(convai_val_token,tasks,eval=False)"
   ]
  },
  {
   "attachments": {},
   "cell_type": "markdown",
   "metadata": {},
   "source": [
    "# Datos md_gender"
   ]
  },
  {
   "cell_type": "code",
   "execution_count": 9,
   "metadata": {},
   "outputs": [],
   "source": [
    "with open('Datasets\\md_gender\\md_complete.json','r',encoding=\"utf8\") as f:\n",
    "    md_data = json.load(f)"
   ]
  },
  {
   "cell_type": "code",
   "execution_count": 10,
   "metadata": {},
   "outputs": [],
   "source": [
    "md_tokenized = generic.tokenize_dataset_with_dependencies(md_data,['about','to','as'],vocab,model_conf) \n",
    "md_dataset = mt.DatasetMultitaskDep(md_tokenized,tasks,eval=True)"
   ]
  },
  {
   "attachments": {},
   "cell_type": "markdown",
   "metadata": {},
   "source": [
    "# Creación dataloaders"
   ]
  },
  {
   "cell_type": "code",
   "execution_count": 11,
   "metadata": {},
   "outputs": [],
   "source": [
    "dl_train =DataLoader(convai_train_dataset,batch_size=128,shuffle=True,collate_fn=mt.collate_fn)\n",
    "dl_val =DataLoader(convai_val_dataset,batch_size=128,shuffle=True,collate_fn=mt.collate_fn)\n",
    "dl_eval = DataLoader(md_dataset,batch_size=128,shuffle=False,collate_fn=mt.collate_fn)"
   ]
  },
  {
   "attachments": {},
   "cell_type": "markdown",
   "metadata": {},
   "source": [
    "# Modelo multitask"
   ]
  },
  {
   "cell_type": "code",
   "execution_count": 12,
   "metadata": {},
   "outputs": [
    {
     "name": "stderr",
     "output_type": "stream",
     "text": [
      "Some weights of the model checkpoint at distilbert-base-cased were not used when initializing DistilBertModel: ['vocab_projector.weight', 'vocab_projector.bias', 'vocab_layer_norm.weight', 'vocab_transform.bias', 'vocab_layer_norm.bias', 'vocab_transform.weight']\n",
      "- This IS expected if you are initializing DistilBertModel from the checkpoint of a model trained on another task or with another architecture (e.g. initializing a BertForSequenceClassification model from a BertForPreTraining model).\n",
      "- This IS NOT expected if you are initializing DistilBertModel from the checkpoint of a model that you expect to be exactly identical (initializing a BertForSequenceClassification model from a BertForSequenceClassification model).\n"
     ]
    }
   ],
   "source": [
    "model = mt.MultiWithDependencies(model_conf,vocab).to(device)\n",
    "save_path='m1_distilbert_multi_brk'"
   ]
  },
  {
   "cell_type": "code",
   "execution_count": 13,
   "metadata": {},
   "outputs": [
    {
     "name": "stdout",
     "output_type": "stream",
     "text": [
      "Accuracy evaluando en todas las etiquetas\n",
      "{'to': 0.5189393939393939, 'as': 0.516297262059974, 'about': 0.4885204081632653}\n",
      "Accuracy evaluando en etiquetas female\n",
      "{'to': 0.0, 'as': 0.0, 'about': 0.0}\n",
      "Accuracy evaluando en etiquetas male\n",
      "{'to': 1.0, 'as': 1.0, 'about': 0.9973958333333334}\n"
     ]
    }
   ],
   "source": [
    "print(\"Accuracy evaluando en todas las etiquetas\")\n",
    "print(train.eval_function_multi(model,dl_eval,tasks))\n",
    "print(\"Accuracy evaluando en etiquetas female\")\n",
    "print(train.eval_function_multi(model,dl_eval,tasks,'female'))\n",
    "print(\"Accuracy evaluando en etiquetas male\")\n",
    "print(train.eval_function_multi(model,dl_eval,tasks,'male'))"
   ]
  },
  {
   "cell_type": "code",
   "execution_count": 14,
   "metadata": {},
   "outputs": [
    {
     "data": {
      "application/vnd.jupyter.widget-view+json": {
       "model_id": "e107e90e5cf44b669f55a7b2a6e68182",
       "version_major": 2,
       "version_minor": 0
      },
      "text/plain": [
       "  0%|          | 0/57400 [00:00<?, ?it/s]"
      ]
     },
     "metadata": {},
     "output_type": "display_data"
    },
    {
     "name": "stdout",
     "output_type": "stream",
     "text": [
      "Epoch 1 \t Training loss: 2.0788169816811326 \t Validation loss: 2.0793234372543075 \t \n",
      "  1%|          | 574/57400 [01:59<2:40:11,  5.91it/s]\n",
      "Epoch 2 \t Training loss: 2.0709447324899015 \t Validation loss: 2.073814480991687 \t \n",
      "  2%|▏         | 1148/57400 [04:01<3:23:12,  4.61it/s]\n",
      "Epoch 3 \t Training loss: 2.0557523538011293 \t Validation loss: 2.0497595415276995 \t \n",
      "  3%|▎         | 1722/57400 [06:04<3:12:47,  4.81it/s]\n",
      "Epoch 4 \t Training loss: 2.0269044180780336 \t Validation loss: 2.0266235541489164 \t \n",
      "  4%|▍         | 2296/57400 [08:07<3:14:53,  4.71it/s]\n",
      "Epoch 5 \t Training loss: 2.0056239538907175 \t Validation loss: 2.0090052960282665 \t \n",
      "  5%|▌         | 2870/57400 [10:12<3:08:50,  4.81it/s]\n",
      "Epoch 6 \t Training loss: 1.9981571828446738 \t Validation loss: 2.0029526241755082 \t \n",
      "  6%|▌         | 3444/57400 [12:15<3:03:54,  4.89it/s]\n",
      "Epoch 7 \t Training loss: 1.990696674024602 \t Validation loss: 1.9950273744130538 \t \n",
      "  7%|▋         | 4018/57400 [14:18<3:20:07,  4.45it/s]\n",
      "Epoch 8 \t Training loss: 1.986411373374354 \t Validation loss: 1.994434827465122 \t \n",
      "  8%|▊         | 4592/57400 [16:21<3:11:24,  4.60it/s]\n",
      "Epoch 9 \t Training loss: 1.9821682424910807 \t Validation loss: 1.9899722923666745 \t \n",
      "  9%|▉         | 5166/57400 [18:24<2:26:48,  5.93it/s]\n",
      "Epoch 10 \t Training loss: 1.9806466056910126 \t Validation loss: 1.9920502274723377 \t \n",
      "\n",
      "1 epoch without improvement\n",
      " 10%|█         | 5740/57400 [20:27<2:56:27,  4.88it/s]\n",
      "Epoch 11 \t Training loss: 1.9780038964872992 \t Validation loss: 1.9831830242932853 \t \n",
      " 11%|█         | 6314/57400 [22:31<2:50:26,  5.00it/s]\n",
      "Epoch 12 \t Training loss: 1.9773385005545534 \t Validation loss: 1.9896975937536208 \t \n",
      "\n",
      "1 epoch without improvement\n",
      " 12%|█▏        | 6888/57400 [24:33<2:49:53,  4.96it/s]\n",
      "Epoch 13 \t Training loss: 1.9770975511663882 \t Validation loss: 1.981252833948297 \t \n",
      " 13%|█▎        | 7462/57400 [26:36<2:47:31,  4.97it/s]\n",
      "Epoch 14 \t Training loss: 1.9752435937575763 \t Validation loss: 1.9780239715414532 \t \n",
      " 14%|█▍        | 8036/57400 [28:39<2:54:05,  4.73it/s]\n",
      "Epoch 15 \t Training loss: 1.9734959292910241 \t Validation loss: 1.972967038720341 \t \n",
      " 15%|█▌        | 8610/57400 [30:44<2:59:11,  4.54it/s]\n",
      "Epoch 16 \t Training loss: 1.9730544219033643 \t Validation loss: 1.9754024602599063 \t \n",
      "\n",
      "1 epoch without improvement\n",
      " 16%|█▌        | 9184/57400 [32:41<2:34:58,  5.19it/s]\n",
      "Epoch 17 \t Training loss: 1.9734602819751779 \t Validation loss: 1.981104986142304 \t \n",
      "\n",
      "2 epoch without improvement\n",
      " 17%|█▋        | 9758/57400 [34:42<2:36:11,  5.08it/s]\n",
      "Epoch 18 \t Training loss: 1.9704534884944611 \t Validation loss: 1.9838344545687658 \t \n",
      "\n",
      "3 epoch without improvement\n",
      " 18%|█▊        | 10332/57400 [36:39<2:39:44,  4.91it/s]\n",
      "Epoch 19 \t Training loss: 1.9688263325741067 \t Validation loss: 1.9806732525259763 \t \n",
      "\n",
      "4 epoch without improvement\n",
      " 19%|█▉        | 10906/57400 [38:43<2:37:23,  4.92it/s]\n",
      "Epoch 20 \t Training loss: 1.9707319107205195 \t Validation loss: 1.9811155937485776 \t \n",
      "\n",
      "5 epoch without improvement\n",
      " 20%|██        | 11480/57400 [40:46<2:41:05,  4.75it/s]\n",
      "Epoch 21 \t Training loss: 1.9686946268696404 \t Validation loss: 1.9767512446742947 \t \n",
      "\n",
      "6 epoch without improvement\n",
      " 21%|██        | 12054/57400 [42:49<2:52:07,  4.39it/s]\n",
      "Epoch 22 \t Training loss: 1.968715873744845 \t Validation loss: 1.9771971844010434 \t \n",
      "\n",
      "7 epoch without improvement\n",
      " 22%|██▏       | 12628/57400 [44:52<2:31:13,  4.93it/s]\n",
      "Epoch 23 \t Training loss: 1.9652546978578336 \t Validation loss: 1.971332903635704 \t \n",
      " 23%|██▎       | 13202/57400 [46:56<2:31:26,  4.86it/s]\n",
      "Epoch 24 \t Training loss: 1.9662738297043778 \t Validation loss: 1.9686494883844408 \t \n",
      " 24%|██▍       | 13776/57400 [48:58<2:31:21,  4.80it/s]\n",
      "Epoch 25 \t Training loss: 1.9675645363040086 \t Validation loss: 1.9685144101159047 \t \n",
      " 25%|██▌       | 14350/57400 [51:02<2:30:58,  4.75it/s]\n",
      "Epoch 26 \t Training loss: 1.9651937995638167 \t Validation loss: 1.977869795540632 \t \n",
      "\n",
      "1 epoch without improvement\n",
      " 26%|██▌       | 14924/57400 [53:05<2:28:53,  4.75it/s]\n",
      "Epoch 27 \t Training loss: 1.9656522141101054 \t Validation loss: 1.9725191391120522 \t \n",
      "\n",
      "2 epoch without improvement\n",
      " 27%|██▋       | 15498/57400 [55:08<2:20:22,  4.97it/s]\n",
      "Epoch 28 \t Training loss: 1.9653374313892804 \t Validation loss: 1.9756301156545089 \t \n",
      "\n",
      "3 epoch without improvement\n",
      " 28%|██▊       | 16072/57400 [57:10<2:25:56,  4.72it/s]\n",
      "Epoch 29 \t Training loss: 1.9635889586255941 \t Validation loss: 1.9766952708616095 \t \n",
      "\n",
      "4 epoch without improvement\n",
      " 29%|██▉       | 16646/57400 [59:13<2:18:54,  4.89it/s]\n",
      "Epoch 30 \t Training loss: 1.9645256844547152 \t Validation loss: 1.9734731144824271 \t \n",
      "\n",
      "5 epoch without improvement\n",
      " 30%|███       | 17220/57400 [1:01:16<1:56:23,  5.75it/s]\n",
      "Epoch 31 \t Training loss: 1.9650189361505808 \t Validation loss: 1.9720455125226812 \t \n",
      "\n",
      "6 epoch without improvement\n",
      " 31%|███       | 17794/57400 [1:03:19<1:50:44,  5.96it/s]\n",
      "Epoch 32 \t Training loss: 1.9617279805372816 \t Validation loss: 1.9697469210220595 \t \n",
      "\n",
      "7 epoch without improvement\n",
      " 32%|███▏      | 18368/57400 [1:05:22<2:23:48,  4.52it/s]\n",
      "Epoch 33 \t Training loss: 1.9643934705531556 \t Validation loss: 1.973966830867832 \t \n",
      "\n",
      "8 epoch without improvement\n",
      " 33%|███▎      | 18942/57400 [1:07:25<2:13:32,  4.80it/s]\n",
      "Epoch 34 \t Training loss: 1.9607337461946732 \t Validation loss: 1.9674253079850794 \t \n",
      " 34%|███▍      | 19516/57400 [1:09:28<1:48:34,  5.82it/s]\n",
      "Epoch 35 \t Training loss: 1.9633726359244423 \t Validation loss: 1.9703671305866566 \t \n",
      "\n",
      "1 epoch without improvement\n",
      " 35%|███▌      | 20090/57400 [1:11:31<2:07:23,  4.88it/s]\n",
      "Epoch 36 \t Training loss: 1.9621608207450096 \t Validation loss: 1.9725735490604983 \t \n",
      "\n",
      "2 epoch without improvement\n",
      " 36%|███▌      | 20664/57400 [1:13:34<2:05:57,  4.86it/s]\n",
      "Epoch 37 \t Training loss: 1.9615589214118931 \t Validation loss: 1.972509331622366 \t \n",
      "\n",
      "3 epoch without improvement\n",
      " 37%|███▋      | 21238/57400 [1:15:38<1:41:31,  5.94it/s]\n",
      "Epoch 38 \t Training loss: 1.9605613791153407 \t Validation loss: 1.9701225131244984 \t \n",
      "\n",
      "4 epoch without improvement\n",
      " 38%|███▊      | 21812/57400 [1:17:40<1:42:36,  5.78it/s]\n",
      "Epoch 39 \t Training loss: 1.9620964387983395 \t Validation loss: 1.968529980061418 \t \n",
      "\n",
      "5 epoch without improvement\n",
      " 39%|███▉      | 22386/57400 [1:19:43<2:02:50,  4.75it/s]\n",
      "Epoch 40 \t Training loss: 1.9616617709917474 \t Validation loss: 1.973794442112163 \t \n",
      "\n",
      "6 epoch without improvement\n",
      " 40%|████      | 22960/57400 [1:21:45<1:57:48,  4.87it/s]\n",
      "Epoch 41 \t Training loss: 1.9631227053416316 \t Validation loss: 1.977284932540635 \t \n",
      "\n",
      "7 epoch without improvement\n",
      " 41%|████      | 23534/57400 [1:23:45<1:57:03,  4.82it/s]\n",
      "Epoch 42 \t Training loss: 1.9585459618618264 \t Validation loss: 1.9693223096556582 \t \n",
      "\n",
      "8 epoch without improvement\n",
      " 42%|████▏     | 24108/57400 [1:25:43<2:02:54,  4.51it/s]\n",
      "Epoch 43 \t Training loss: 1.9592193689080482 \t Validation loss: 1.970542069208824 \t \n",
      "\n",
      "9 epoch without improvement\n",
      " 43%|████▎     | 24682/57400 [1:27:41<1:49:39,  4.97it/s]\n",
      "Epoch 44 \t Training loss: 1.9581660281490365 \t Validation loss: 1.9724368624768014 \t \n",
      "\n",
      "10 epoch without improvement\n",
      "Validation_loss hasn't improve in 10 epoch. Stopping training after 44 epochs...\n"
     ]
    },
    {
     "data": {
      "image/png": "[encoded data removed]",
      "text/plain": [
       "<Figure size 640x480 with 1 Axes>"
      ]
     },
     "metadata": {},
     "output_type": "display_data"
    }
   ],
   "source": [
    "learning_rate = 5e-5\n",
    "optimizer = SGD(model.parameters(), lr=learning_rate, momentum=0.9)\n",
    "num_epochs = 100\n",
    "train.train_function_multi(model,num_epochs,dl_train,optimizer,early_stop = 10,dl_val = dl_val,save_path=save_path)"
   ]
  },
  {
   "cell_type": "code",
   "execution_count": 15,
   "metadata": {},
   "outputs": [
    {
     "name": "stderr",
     "output_type": "stream",
     "text": [
      "Some weights of the model checkpoint at distilbert-base-cased were not used when initializing DistilBertModel: ['vocab_projector.weight', 'vocab_projector.bias', 'vocab_layer_norm.weight', 'vocab_transform.bias', 'vocab_layer_norm.bias', 'vocab_transform.weight']\n",
      "- This IS expected if you are initializing DistilBertModel from the checkpoint of a model trained on another task or with another architecture (e.g. initializing a BertForSequenceClassification model from a BertForPreTraining model).\n",
      "- This IS NOT expected if you are initializing DistilBertModel from the checkpoint of a model that you expect to be exactly identical (initializing a BertForSequenceClassification model from a BertForSequenceClassification model).\n"
     ]
    },
    {
     "name": "stdout",
     "output_type": "stream",
     "text": [
      "Accuracy evaluando en todas las etiquetas\n",
      "{'to': 0.6679292929292929, 'as': 0.7027379400260756, 'about': 0.8316326530612245}\n",
      "Accuracy evaluando en etiquetas female\n",
      "{'to': 0.6640419947506562, 'as': 0.7574123989218329, 'about': 0.8475}\n",
      "Accuracy evaluando en etiquetas male\n",
      "{'to': 0.6715328467153284, 'as': 0.6515151515151515, 'about': 0.8151041666666666}\n"
     ]
    }
   ],
   "source": [
    "model = mt.MultiWithDependencies(model_conf,vocab).to(device)\n",
    "model.load_state_dict(torch.load(save_path))\n",
    "\n",
    "print(\"Accuracy evaluando en todas las etiquetas\")\n",
    "print(train.eval_function_multi(model,dl_eval,tasks))\n",
    "print(\"Accuracy evaluando en etiquetas female\")\n",
    "print(train.eval_function_multi(model,dl_eval,tasks,'female'))\n",
    "print(\"Accuracy evaluando en etiquetas male\")\n",
    "print(train.eval_function_multi(model,dl_eval,tasks,'male'))"
   ]
  }
 ],
 "metadata": {
  "kernelspec": {
   "display_name": "tfg",
   "language": "python",
   "name": "python3"
  },
  "language_info": {
   "codemirror_mode": {
    "name": "ipython",
    "version": 3
   },
   "file_extension": ".py",
   "mimetype": "text/x-python",
   "name": "python",
   "nbconvert_exporter": "python",
   "pygments_lexer": "ipython3",
   "version": "3.9.13"
  },
  "orig_nbformat": 4,
  "vscode": {
   "interpreter": {
    "hash": "35e8332e99bdf485583869dfbdef293dcf2f9293b1663ec5daea0a573af457c3"
   }
  }
 },
 "nbformat": 4,
 "nbformat_minor": 2
}
