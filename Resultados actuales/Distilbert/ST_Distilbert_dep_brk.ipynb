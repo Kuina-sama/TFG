{
 "cells": [
  {
   "cell_type": "code",
   "execution_count": 1,
   "metadata": {},
   "outputs": [],
   "source": [
    "import torch\n",
    "from torch.utils.data import DataLoader\n",
    "from torch.optim import AdamW, SGD \n",
    "\n",
    "\n",
    "\n",
    "\n",
    "import json\n",
    "\n"
   ]
  },
  {
   "cell_type": "code",
   "execution_count": 2,
   "metadata": {},
   "outputs": [],
   "source": [
    "import utils_generic as generic\n",
    "import singletask_dep as st\n",
    "import model_confs as confs\n",
    "\n",
    "\n",
    "import train_dep as train"
   ]
  },
  {
   "cell_type": "code",
   "execution_count": 3,
   "metadata": {},
   "outputs": [
    {
     "data": {
      "text/plain": [
       "<torch._C.Generator at 0x2efd3096610>"
      ]
     },
     "execution_count": 3,
     "metadata": {},
     "output_type": "execute_result"
    }
   ],
   "source": [
    "device = torch.device(\"cuda\") if torch.cuda.is_available() else torch.device(\"cpu\")\n",
    "torch.manual_seed(27)"
   ]
  },
  {
   "cell_type": "code",
   "execution_count": 4,
   "metadata": {},
   "outputs": [],
   "source": [
    "model_conf = confs.distilbert_conf\n",
    "encoding_type = 'brk'"
   ]
  },
  {
   "attachments": {},
   "cell_type": "markdown",
   "metadata": {},
   "source": [
    "# Datos ConvAI2"
   ]
  },
  {
   "cell_type": "code",
   "execution_count": 5,
   "metadata": {},
   "outputs": [],
   "source": [
    "with open('Datasets\\ConvAI2\\convai2_complete.json','r') as f:\n",
    "    data = json.load(f)"
   ]
  },
  {
   "cell_type": "code",
   "execution_count": 6,
   "metadata": {},
   "outputs": [],
   "source": [
    "vocab = st.Vocabulary(data['train'],encoding_type)"
   ]
  },
  {
   "cell_type": "code",
   "execution_count": 7,
   "metadata": {},
   "outputs": [],
   "source": [
    "convai_train = data['train']\n",
    "convai_val = data['validation']\n",
    "\n",
    "\n",
    "\n",
    "convai_train_token = generic.tokenize_dataset_with_dependencies(convai_train,['about','to','as'],vocab,model_conf) \n",
    "convai_val_token = generic.tokenize_dataset_with_dependencies(convai_val,['about','to','as'],vocab,model_conf) "
   ]
  },
  {
   "cell_type": "code",
   "execution_count": 8,
   "metadata": {},
   "outputs": [],
   "source": [
    "convai_train_dataset = {}\n",
    "for task in ['to','as','about']:\n",
    "    convai_train_dataset[task] = st.DatasetSingleTaskDep(convai_train_token,task,eval=False)"
   ]
  },
  {
   "cell_type": "code",
   "execution_count": 9,
   "metadata": {},
   "outputs": [],
   "source": [
    "convai_val_dataset = {}\n",
    "for task in ['to','as','about']:\n",
    "    convai_val_dataset[task] = st.DatasetSingleTaskDep(convai_val_token,task,eval=False)"
   ]
  },
  {
   "attachments": {},
   "cell_type": "markdown",
   "metadata": {},
   "source": [
    "# Datos md_gender"
   ]
  },
  {
   "cell_type": "code",
   "execution_count": 10,
   "metadata": {},
   "outputs": [],
   "source": [
    "with open('Datasets\\md_gender\\md_complete.json','r',encoding=\"utf8\") as f:\n",
    "    md_data = json.load(f)"
   ]
  },
  {
   "cell_type": "code",
   "execution_count": 11,
   "metadata": {},
   "outputs": [],
   "source": [
    "md_tokenized = generic.tokenize_dataset_with_dependencies(md_data,['about','to','as'],vocab,model_conf) \n",
    "\n",
    "\n",
    "md_dataset = {}\n",
    "for task in ['to','as','about']:\n",
    "    md_dataset[task] = st.DatasetSingleTaskDep(md_tokenized,task,eval=True)"
   ]
  },
  {
   "attachments": {},
   "cell_type": "markdown",
   "metadata": {},
   "source": [
    "# Creación dataloaders"
   ]
  },
  {
   "cell_type": "code",
   "execution_count": 12,
   "metadata": {},
   "outputs": [],
   "source": [
    "dl_train = {}\n",
    "for task in ['to','as','about']:\n",
    "    dl_train[task] = DataLoader(convai_train_dataset[task],batch_size=128,shuffle=True,collate_fn=st.collate_fn)"
   ]
  },
  {
   "cell_type": "code",
   "execution_count": 13,
   "metadata": {},
   "outputs": [],
   "source": [
    "dl_val = {}\n",
    "for task in ['to','as','about']:\n",
    "    dl_val[task] = DataLoader(convai_val_dataset[task],batch_size=128,shuffle=True,collate_fn=st.collate_fn)"
   ]
  },
  {
   "cell_type": "code",
   "execution_count": 14,
   "metadata": {},
   "outputs": [],
   "source": [
    "dl_eval = {}\n",
    "for task in ['to','as','about']:\n",
    "    dl_eval[task] = DataLoader(md_dataset[task],batch_size=128,shuffle=False,collate_fn=st.collate_fn)"
   ]
  },
  {
   "attachments": {},
   "cell_type": "markdown",
   "metadata": {},
   "source": [
    "# ABOUT"
   ]
  },
  {
   "cell_type": "code",
   "execution_count": 15,
   "metadata": {},
   "outputs": [
    {
     "name": "stderr",
     "output_type": "stream",
     "text": [
      "Some weights of the model checkpoint at distilbert-base-cased were not used when initializing DistilBertModel: ['vocab_transform.bias', 'vocab_transform.weight', 'vocab_layer_norm.weight', 'vocab_projector.weight', 'vocab_layer_norm.bias', 'vocab_projector.bias']\n",
      "- This IS expected if you are initializing DistilBertModel from the checkpoint of a model trained on another task or with another architecture (e.g. initializing a BertForSequenceClassification model from a BertForPreTraining model).\n",
      "- This IS NOT expected if you are initializing DistilBertModel from the checkpoint of a model that you expect to be exactly identical (initializing a BertForSequenceClassification model from a BertForSequenceClassification model).\n"
     ]
    }
   ],
   "source": [
    "model = st.SingleTaskDep(model_conf,vocab).to(device)\n",
    "save_path='m1_distilbert_dep_brk_about'"
   ]
  },
  {
   "cell_type": "code",
   "execution_count": 16,
   "metadata": {},
   "outputs": [
    {
     "name": "stdout",
     "output_type": "stream",
     "text": [
      "Using scikit learn accuracy por género en el conjunto about\n",
      "GLOBAL: 0.4897959183673469\n",
      "MALE 1.0\n",
      "FEMALE 0.0 \n",
      "\n",
      "Using scikit learn accuracy por género en el conjunto to\n",
      "GLOBAL: 0.5189393939393939\n",
      "MALE 1.0\n",
      "FEMALE 0.0 \n",
      "\n",
      "Using scikit learn accuracy por género en el conjunto as\n",
      "GLOBAL: 0.516297262059974\n",
      "MALE 1.0\n",
      "FEMALE 0.0 \n",
      "\n"
     ]
    }
   ],
   "source": [
    "for task in ['about','to','as']:\n",
    "    print(f\"Using scikit learn accuracy por género en el conjunto {task}\")\n",
    "    print(f\"GLOBAL: {train.eval_function_single_sk(model,dl_eval[task])}\")\n",
    "    print(f\"MALE {train.eval_function_single_sk(model,dl_eval[task],gender='male')}\")\n",
    "    print(f\"FEMALE {train.eval_function_single_sk(model,dl_eval[task],gender='female')}\",'\\n')"
   ]
  },
  {
   "cell_type": "code",
   "execution_count": 17,
   "metadata": {},
   "outputs": [
    {
     "data": {
      "application/vnd.jupyter.widget-view+json": {
       "model_id": "26f2ca4263794defaa272e9249fbc07f",
       "version_major": 2,
       "version_minor": 0
      },
      "text/plain": [
       "  0%|          | 0/57400 [00:00<?, ?it/s]"
      ]
     },
     "metadata": {},
     "output_type": "display_data"
    },
    {
     "name": "stdout",
     "output_type": "stream",
     "text": [
      "Epoch 1 \t Training loss: 0.6818696458788284 \t Validation loss: 0.6822899630514242 \t \n",
      "  1%|          | 574/57400 [02:40<3:46:36,  4.18it/s]\n",
      "Epoch 2 \t Training loss: 0.6767281237794962 \t Validation loss: 0.6757951762716649 \t \n",
      "  2%|▏         | 1148/57400 [04:55<3:23:04,  4.62it/s]\n",
      "Epoch 3 \t Training loss: 0.6621792022567178 \t Validation loss: 0.6470782585063223 \t \n",
      "  3%|▎         | 1722/57400 [07:26<4:04:32,  3.79it/s]\n",
      "Epoch 4 \t Training loss: 0.5990668868561655 \t Validation loss: 0.5351735116061518 \t \n",
      "  4%|▍         | 2296/57400 [10:08<4:27:19,  3.44it/s]\n",
      "Epoch 5 \t Training loss: 0.4922822005657369 \t Validation loss: 0.44824110400878775 \t \n",
      "  5%|▌         | 2870/57400 [12:56<4:21:33,  3.47it/s]\n",
      "Epoch 6 \t Training loss: 0.4367959383576589 \t Validation loss: 0.40408331105264567 \t \n",
      "  6%|▌         | 3444/57400 [16:07<3:50:04,  3.91it/s]\n",
      "Epoch 7 \t Training loss: 0.40649882530086134 \t Validation loss: 0.3810830389038991 \t \n",
      "  7%|▋         | 4018/57400 [19:18<4:50:43,  3.06it/s]\n",
      "Epoch 8 \t Training loss: 0.3876751558498223 \t Validation loss: 0.3727257256790743 \t \n",
      "  8%|▊         | 4592/57400 [22:08<3:59:54,  3.67it/s]\n",
      "Epoch 9 \t Training loss: 0.37580615962216246 \t Validation loss: 0.3595070763159606 \t \n",
      "  9%|▉         | 5166/57400 [24:50<4:11:31,  3.46it/s]\n",
      "Epoch 10 \t Training loss: 0.366673121702588 \t Validation loss: 0.3535458556676315 \t \n",
      " 10%|█         | 5740/57400 [28:00<4:38:54,  3.09it/s]\n",
      "Epoch 11 \t Training loss: 0.35742110800556187 \t Validation loss: 0.34859158174466276 \t \n",
      " 11%|█         | 6314/57400 [30:55<4:01:47,  3.52it/s]\n",
      "Epoch 12 \t Training loss: 0.3516936359037921 \t Validation loss: 0.34365587719416213 \t \n",
      " 12%|█▏        | 6888/57400 [33:38<3:07:16,  4.50it/s]\n",
      "Epoch 13 \t Training loss: 0.3459172855530466 \t Validation loss: 0.34527391952983405 \t \n",
      "\n",
      "1 epoch without improvement\n",
      " 13%|█▎        | 7462/57400 [36:32<4:32:03,  3.06it/s]\n",
      "Epoch 14 \t Training loss: 0.34157222434099543 \t Validation loss: 0.33737713174294615 \t \n",
      " 14%|█▍        | 8036/57400 [39:43<3:34:17,  3.84it/s]\n",
      "Epoch 15 \t Training loss: 0.3351459491751335 \t Validation loss: 0.3443356762498112 \t \n",
      "\n",
      "1 epoch without improvement\n",
      " 15%|█▌        | 8610/57400 [43:14<4:23:46,  3.08it/s]\n",
      "Epoch 16 \t Training loss: 0.3325855429268049 \t Validation loss: 0.33281535465838546 \t \n",
      " 16%|█▌        | 9184/57400 [46:24<4:09:38,  3.22it/s]\n",
      "Epoch 17 \t Training loss: 0.32673056841623493 \t Validation loss: 0.32932136422496733 \t \n",
      " 17%|█▋        | 9758/57400 [49:08<3:26:17,  3.85it/s]\n",
      "Epoch 18 \t Training loss: 0.3223795582141195 \t Validation loss: 0.3285840378474381 \t \n",
      " 18%|█▊        | 10332/57400 [51:45<3:26:20,  3.80it/s]\n",
      "Epoch 19 \t Training loss: 0.32044377421979703 \t Validation loss: 0.32502078075530166 \t \n",
      " 19%|█▉        | 10906/57400 [54:23<3:23:07,  3.81it/s]\n",
      "Epoch 20 \t Training loss: 0.31679516724385454 \t Validation loss: 0.32209025096085114 \t \n",
      " 20%|██        | 11480/57400 [57:09<3:18:20,  3.86it/s]\n",
      "Epoch 21 \t Training loss: 0.314873625644408 \t Validation loss: 0.3288037438513869 \t \n",
      "\n",
      "1 epoch without improvement\n",
      " 21%|██        | 12054/57400 [1:00:20<4:00:37,  3.14it/s]\n",
      "Epoch 22 \t Training loss: 0.31197872228323376 \t Validation loss: 0.3209930059768386 \t \n",
      " 22%|██▏       | 12628/57400 [1:03:03<3:19:11,  3.75it/s]\n",
      "Epoch 23 \t Training loss: 0.30722928587152565 \t Validation loss: 0.3197228885808234 \t \n",
      " 23%|██▎       | 13202/57400 [1:05:41<3:30:20,  3.50it/s]\n",
      "Epoch 24 \t Training loss: 0.30455265157833333 \t Validation loss: 0.31866877387135717 \t \n",
      " 24%|██▍       | 13776/57400 [1:08:50<3:52:37,  3.13it/s]\n",
      "Epoch 25 \t Training loss: 0.301778096692695 \t Validation loss: 0.3169458409992315 \t \n",
      " 25%|██▌       | 14350/57400 [1:11:39<3:14:44,  3.68it/s]\n",
      "Epoch 26 \t Training loss: 0.301761593059588 \t Validation loss: 0.31328688688197376 \t \n",
      " 26%|██▌       | 14924/57400 [1:14:17<3:06:33,  3.79it/s]\n",
      "Epoch 27 \t Training loss: 0.29822306293436046 \t Validation loss: 0.31467773525391596 \t \n",
      "\n",
      "1 epoch without improvement\n",
      " 27%|██▋       | 15498/57400 [1:16:55<3:02:34,  3.83it/s]\n",
      "Epoch 28 \t Training loss: 0.2955873337564568 \t Validation loss: 0.3130842967558715 \t \n",
      " 28%|██▊       | 16072/57400 [1:19:33<3:06:10,  3.70it/s]\n",
      "Epoch 29 \t Training loss: 0.29405134604783006 \t Validation loss: 0.31130729565175913 \t \n",
      " 29%|██▉       | 16646/57400 [1:22:40<3:40:35,  3.08it/s]\n",
      "Epoch 30 \t Training loss: 0.29281635771956593 \t Validation loss: 0.31152660058716597 \t \n",
      " 30%|███       | 17220/57400 [1:25:28<2:58:20,  3.75it/s]\n",
      "Epoch 31 \t Training loss: 0.28996516426681224 \t Validation loss: 0.315601059188277 \t \n",
      "\n",
      "1 epoch without improvement\n",
      " 31%|███       | 17794/57400 [1:28:01<2:27:39,  4.47it/s]\n",
      "Epoch 32 \t Training loss: 0.28786409306193894 \t Validation loss: 0.3106849496647463 \t \n",
      " 32%|███▏      | 18368/57400 [1:30:16<2:26:47,  4.43it/s]\n",
      "Epoch 33 \t Training loss: 0.28628677181665907 \t Validation loss: 0.3106992128541914 \t \n",
      " 33%|███▎      | 18942/57400 [1:32:30<2:31:57,  4.22it/s]\n",
      "Epoch 34 \t Training loss: 0.2826333995064792 \t Validation loss: 0.308695622925031 \t \n",
      " 34%|███▍      | 19516/57400 [1:34:45<3:16:20,  3.22it/s]\n",
      "Epoch 35 \t Training loss: 0.28195604183532635 \t Validation loss: 0.3082072808075759 \t \n",
      " 35%|███▌      | 20090/57400 [1:36:59<2:22:54,  4.35it/s]\n",
      "Epoch 36 \t Training loss: 0.28154421763864546 \t Validation loss: 0.30723403368966057 \t \n",
      " 36%|███▌      | 20664/57400 [1:39:14<2:16:18,  4.49it/s]\n",
      "Epoch 37 \t Training loss: 0.27787958269854457 \t Validation loss: 0.3059979371600232 \t \n",
      " 37%|███▋      | 21238/57400 [1:41:28<2:18:16,  4.36it/s]\n",
      "Epoch 38 \t Training loss: 0.2759612631247434 \t Validation loss: 0.3064201277191356 \t \n",
      " 38%|███▊      | 21812/57400 [1:43:43<2:11:44,  4.50it/s]\n",
      "Epoch 39 \t Training loss: 0.2747174484285328 \t Validation loss: 0.30568303521406853 \t \n",
      " 39%|███▉      | 22386/57400 [1:45:57<2:15:26,  4.31it/s]\n",
      "Epoch 40 \t Training loss: 0.2743248435886064 \t Validation loss: 0.3045762294934968 \t \n",
      " 40%|████      | 22960/57400 [1:48:12<1:43:47,  5.53it/s]\n",
      "Epoch 41 \t Training loss: 0.27215941075092825 \t Validation loss: 0.30743665589114366 \t \n",
      "\n",
      "1 epoch without improvement\n",
      " 41%|████      | 23534/57400 [1:50:26<2:09:30,  4.36it/s]\n",
      "Epoch 42 \t Training loss: 0.27121047872907195 \t Validation loss: 0.3090079782877938 \t \n",
      "\n",
      "2 epoch without improvement\n",
      " 42%|████▏     | 24108/57400 [1:52:40<2:58:32,  3.11it/s]\n",
      "Epoch 43 \t Training loss: 0.2695764442613731 \t Validation loss: 0.3041509831860914 \t \n",
      " 43%|████▎     | 24682/57400 [1:54:55<1:59:36,  4.56it/s]\n",
      "Epoch 44 \t Training loss: 0.2678299193961695 \t Validation loss: 0.30341733133388776 \t \n",
      " 44%|████▍     | 25256/57400 [1:57:10<2:07:27,  4.20it/s]\n",
      "Epoch 45 \t Training loss: 0.2671979214827358 \t Validation loss: 0.3044959670406277 \t \n",
      "\n",
      "1 epoch without improvement\n",
      " 45%|████▌     | 25830/57400 [1:59:24<2:00:39,  4.36it/s]\n",
      "Epoch 46 \t Training loss: 0.2662689748385642 \t Validation loss: 0.308474371746435 \t \n",
      "\n",
      "2 epoch without improvement\n",
      " 46%|████▌     | 26404/57400 [2:01:39<1:57:27,  4.40it/s]\n",
      "Epoch 47 \t Training loss: 0.2646838489413677 \t Validation loss: 0.30288090013851554 \t \n",
      " 47%|████▋     | 26978/57400 [2:03:54<1:53:32,  4.47it/s]\n",
      "Epoch 48 \t Training loss: 0.2633023467369196 \t Validation loss: 0.3029000675779278 \t \n",
      " 48%|████▊     | 27552/57400 [2:06:08<1:51:41,  4.45it/s]\n",
      "Epoch 49 \t Training loss: 0.26062798500061035 \t Validation loss: 0.3031919255095013 \t \n",
      " 49%|████▉     | 28126/57400 [2:08:22<1:29:09,  5.47it/s]\n",
      "Epoch 50 \t Training loss: 0.2594223509993703 \t Validation loss: 0.3023890461456978 \t \n",
      " 50%|█████     | 28700/57400 [2:10:37<1:46:35,  4.49it/s]\n",
      "Epoch 51 \t Training loss: 0.260582040333374 \t Validation loss: 0.3019680946560229 \t \n",
      " 51%|█████     | 29274/57400 [2:12:52<1:43:40,  4.52it/s]\n",
      "Epoch 52 \t Training loss: 0.2589687194921829 \t Validation loss: 0.3022496298713199 \t \n",
      " 52%|█████▏    | 29848/57400 [2:15:06<1:38:44,  4.65it/s]\n",
      "Epoch 53 \t Training loss: 0.2566509662708754 \t Validation loss: 0.30502583667383354 \t \n",
      "\n",
      "1 epoch without improvement\n",
      " 53%|█████▎    | 30422/57400 [2:17:21<1:40:14,  4.49it/s]\n",
      "Epoch 54 \t Training loss: 0.25814946869368754 \t Validation loss: 0.303092131927862 \t \n",
      "\n",
      "2 epoch without improvement\n",
      " 54%|█████▍    | 30996/57400 [2:19:35<1:41:13,  4.35it/s]\n",
      "Epoch 55 \t Training loss: 0.25504251986170895 \t Validation loss: 0.3023475203978813 \t \n",
      " 55%|█████▌    | 31570/57400 [2:21:50<1:18:54,  5.46it/s]\n",
      "Epoch 56 \t Training loss: 0.2548705542700216 \t Validation loss: 0.3013813270855758 \t \n",
      " 56%|█████▌    | 32144/57400 [2:24:04<1:36:37,  4.36it/s]\n",
      "Epoch 57 \t Training loss: 0.25471432823752693 \t Validation loss: 0.30171340855501466 \t \n",
      " 57%|█████▋    | 32718/57400 [2:26:19<1:37:29,  4.22it/s]\n",
      "Epoch 58 \t Training loss: 0.25311952279004485 \t Validation loss: 0.30077338168176554 \t \n",
      " 58%|█████▊    | 33292/57400 [2:28:33<1:27:53,  4.57it/s]\n",
      "Epoch 59 \t Training loss: 0.2527781706238458 \t Validation loss: 0.3012302265328876 \t \n",
      " 59%|█████▉    | 33866/57400 [2:30:48<1:27:06,  4.50it/s]\n",
      "Epoch 60 \t Training loss: 0.2512618321211496 \t Validation loss: 0.3027634764626875 \t \n",
      "\n",
      "1 epoch without improvement\n",
      " 60%|██████    | 34440/57400 [2:33:02<1:22:23,  4.64it/s]\n",
      "Epoch 61 \t Training loss: 0.2495912999719485 \t Validation loss: 0.29984597912279226 \t \n",
      " 61%|██████    | 35014/57400 [2:35:34<1:45:16,  3.54it/s]\n",
      "Epoch 62 \t Training loss: 0.2498304212290651 \t Validation loss: 0.300297112030498 \t \n",
      " 62%|██████▏   | 35588/57400 [2:38:14<1:19:04,  4.60it/s]\n",
      "Epoch 63 \t Training loss: 0.24859868400188273 \t Validation loss: 0.29985432478330903 \t \n",
      " 63%|██████▎   | 36162/57400 [2:41:01<1:53:31,  3.12it/s]\n",
      "Epoch 64 \t Training loss: 0.2478875266290708 \t Validation loss: 0.3002158989340572 \t \n",
      " 64%|██████▍   | 36736/57400 [2:44:14<2:02:59,  2.80it/s]\n",
      "Epoch 65 \t Training loss: 0.24671924205088033 \t Validation loss: 0.3003962810261775 \t \n",
      " 65%|██████▌   | 37310/57400 [2:47:28<1:50:08,  3.04it/s]\n",
      "Epoch 66 \t Training loss: 0.24867471842296449 \t Validation loss: 0.30063915227429344 \t \n",
      " 66%|██████▌   | 37884/57400 [2:50:17<1:28:05,  3.69it/s]\n",
      "Epoch 67 \t Training loss: 0.24458380547134717 \t Validation loss: 0.3005017448784941 \t \n",
      " 67%|██████▋   | 38458/57400 [2:52:57<1:53:07,  2.79it/s]\n",
      "Epoch 68 \t Training loss: 0.24508616920132256 \t Validation loss: 0.302498478505571 \t \n",
      "\n",
      "1 epoch without improvement\n",
      " 68%|██████▊   | 39032/57400 [2:56:04<1:38:26,  3.11it/s]\n",
      "Epoch 69 \t Training loss: 0.24410099346670955 \t Validation loss: 0.30053163079892176 \t \n",
      " 69%|██████▉   | 39606/57400 [2:58:58<1:21:13,  3.65it/s]\n",
      "Epoch 70 \t Training loss: 0.24327716522100495 \t Validation loss: 0.3003627678095284 \t \n",
      " 70%|███████   | 40180/57400 [3:01:38<1:17:32,  3.70it/s]\n",
      "Epoch 71 \t Training loss: 0.24176047913704185 \t Validation loss: 0.30048624413498376 \t \n",
      " 71%|███████   | 40754/57400 [3:04:26<1:29:48,  3.09it/s]\n",
      "Epoch 72 \t Training loss: 0.242672510574919 \t Validation loss: 0.30134637098191147 \t \n",
      "\n",
      "2 epoch without improvement\n",
      " 72%|███████▏  | 41328/57400 [3:07:39<1:27:36,  3.06it/s]\n",
      "Epoch 73 \t Training loss: 0.2418161683848926 \t Validation loss: 0.30097941372354153 \t \n",
      "\n",
      "3 epoch without improvement\n",
      " 73%|███████▎  | 41902/57400 [3:10:52<1:06:52,  3.86it/s]\n",
      "Epoch 74 \t Training loss: 0.24026269128202146 \t Validation loss: 0.30046153144311094 \t \n",
      " 74%|███████▍  | 42476/57400 [3:13:36<1:07:35,  3.68it/s]\n",
      "Epoch 75 \t Training loss: 0.24064122026182633 \t Validation loss: 0.3007665743767205 \t \n",
      " 75%|███████▌  | 43050/57400 [3:16:13<1:03:41,  3.76it/s]\n",
      "Epoch 76 \t Training loss: 0.239870519354576 \t Validation loss: 0.30140228443226574 \t \n",
      "\n",
      "4 epoch without improvement\n",
      " 76%|███████▌  | 43624/57400 [3:18:58<1:05:11,  3.52it/s]\n",
      "Epoch 77 \t Training loss: 0.24040104111312574 \t Validation loss: 0.3006357426865626 \t \n",
      " 77%|███████▋  | 44198/57400 [3:22:05<59:05,  3.72it/s]\n",
      "Epoch 78 \t Training loss: 0.2394623911650754 \t Validation loss: 0.3023067566297822 \t \n",
      "\n",
      "5 epoch without improvement\n",
      " 78%|███████▊  | 44772/57400 [3:24:42<46:02,  4.57it/s]\n",
      "Epoch 79 \t Training loss: 0.23849811208943872 \t Validation loss: 0.3009997520406367 \t \n",
      "\n",
      "6 epoch without improvement\n",
      " 79%|███████▉  | 45346/57400 [3:27:19<52:46,  3.81it/s]\n",
      "Epoch 80 \t Training loss: 0.23912206972309938 \t Validation loss: 0.300183901342295 \t \n",
      " 80%|████████  | 45920/57400 [3:29:56<42:09,  4.54it/s]\n",
      "Epoch 81 \t Training loss: 0.238897041498784 \t Validation loss: 0.301023920966407 \t \n",
      "\n",
      "7 epoch without improvement\n",
      " 81%|████████  | 46494/57400 [3:32:39<54:48,  3.32it/s]\n",
      "Epoch 82 \t Training loss: 0.23677147760052714 \t Validation loss: 0.30040016871387676 \t \n",
      " 82%|████████▏ | 47068/57400 [3:35:45<47:21,  3.64it/s]\n",
      "Epoch 83 \t Training loss: 0.23699250357803153 \t Validation loss: 0.3002949543928696 \t \n",
      " 83%|████████▎ | 47642/57400 [3:38:22<34:04,  4.77it/s]\n",
      "Epoch 84 \t Training loss: 0.23742879195080402 \t Validation loss: 0.3007137285450758 \t \n",
      " 84%|████████▍ | 48216/57400 [3:41:00<44:37,  3.43it/s]\n",
      "Epoch 85 \t Training loss: 0.23616459369919027 \t Validation loss: 0.30069943504818414 \t \n",
      " 85%|████████▌ | 48790/57400 [3:43:44<40:02,  3.58it/s]\n",
      "Epoch 86 \t Training loss: 0.23608667598161132 \t Validation loss: 0.30047109116942194 \t \n",
      " 86%|████████▌ | 49364/57400 [3:46:23<39:17,  3.41it/s]\n",
      "Epoch 87 \t Training loss: 0.23592611994165993 \t Validation loss: 0.30095535390457867 \t \n",
      "\n",
      "8 epoch without improvement\n",
      " 87%|████████▋ | 49938/57400 [3:49:00<26:21,  4.72it/s]\n",
      "Epoch 88 \t Training loss: 0.23411327366837226 \t Validation loss: 0.3014655514793881 \t \n",
      "\n",
      "9 epoch without improvement\n",
      " 88%|████████▊ | 50512/57400 [3:51:37<34:45,  3.30it/s]\n",
      "Epoch 89 \t Training loss: 0.23665177426219816 \t Validation loss: 0.29963528604830725 \t \n",
      " 89%|████████▉ | 51086/57400 [3:54:20<34:04,  3.09it/s]\n",
      "Epoch 90 \t Training loss: 0.23621035118032416 \t Validation loss: 0.301320992789026 \t \n",
      "\n",
      "1 epoch without improvement\n",
      " 90%|█████████ | 51660/57400 [3:57:31<31:00,  3.09it/s]\n",
      "Epoch 91 \t Training loss: 0.23482980239059037 \t Validation loss: 0.3001598185401852 \t \n",
      " 91%|█████████ | 52234/57400 [4:00:14<32:11,  2.67it/s]\n",
      "Epoch 92 \t Training loss: 0.2322930621457017 \t Validation loss: 0.30199762976775735 \t \n",
      "\n",
      "2 epoch without improvement\n",
      " 92%|█████████▏| 52808/57400 [4:02:51<15:48,  4.84it/s]\n",
      "Epoch 93 \t Training loss: 0.23303715297984745 \t Validation loss: 0.3008085721630161 \t \n",
      "\n",
      "3 epoch without improvement\n",
      " 93%|█████████▎| 53382/57400 [4:05:09<14:58,  4.47it/s]\n",
      "Epoch 94 \t Training loss: 0.2331726594928665 \t Validation loss: 0.300480739797576 \t \n",
      " 94%|█████████▍| 53956/57400 [4:07:23<13:07,  4.37it/s]\n",
      "Epoch 95 \t Training loss: 0.2323660383760306 \t Validation loss: 0.3007699970976781 \t \n",
      "\n",
      "4 epoch without improvement\n",
      " 95%|█████████▌| 54530/57400 [4:09:37<15:00,  3.19it/s]\n",
      "Epoch 96 \t Training loss: 0.2330625476737471 \t Validation loss: 0.3006413253182072 \t \n",
      "\n",
      "5 epoch without improvement\n",
      " 96%|█████████▌| 55104/57400 [4:11:52<06:49,  5.61it/s]\n",
      "Epoch 97 \t Training loss: 0.2337168044173759 \t Validation loss: 0.3003777773198435 \t \n",
      " 97%|█████████▋| 55678/57400 [4:14:06<06:35,  4.36it/s]\n",
      "Epoch 98 \t Training loss: 0.23204773121906075 \t Validation loss: 0.3015817512395018 \t \n",
      "\n",
      "6 epoch without improvement\n",
      " 98%|█████████▊| 56252/57400 [4:16:51<07:01,  2.73it/s]\n",
      "Epoch 99 \t Training loss: 0.23458412615420096 \t Validation loss: 0.30093376868862215 \t \n",
      "\n",
      "7 epoch without improvement\n",
      " 99%|█████████▉| 56826/57400 [4:19:40<02:32,  3.76it/s]\n",
      "Epoch 100 \t Training loss: 0.2319228809313907 \t Validation loss: 0.30095917668383 \t \n",
      "\n",
      "8 epoch without improvement\n",
      "100%|██████████| 57400/57400 [4:22:27<00:00,  2.95it/s]\n"
     ]
    },
    {
     "data": {
      "image/png": "[encoded data removed]",
      "text/plain": [
       "<Figure size 640x480 with 1 Axes>"
      ]
     },
     "metadata": {},
     "output_type": "display_data"
    }
   ],
   "source": [
    "learning_rate = 5e-5\n",
    "optimizer = SGD(model.parameters(), lr=learning_rate, momentum=0.9)\n",
    "num_epochs = 100\n",
    "\n",
    "train.train_function(model,num_epochs,dl_train['about'],optimizer,early_stop=10,dl_val=dl_val['about'],save_path=save_path)"
   ]
  },
  {
   "cell_type": "code",
   "execution_count": 18,
   "metadata": {},
   "outputs": [
    {
     "name": "stderr",
     "output_type": "stream",
     "text": [
      "Some weights of the model checkpoint at distilbert-base-cased were not used when initializing DistilBertModel: ['vocab_transform.bias', 'vocab_transform.weight', 'vocab_layer_norm.weight', 'vocab_projector.weight', 'vocab_layer_norm.bias', 'vocab_projector.bias']\n",
      "- This IS expected if you are initializing DistilBertModel from the checkpoint of a model trained on another task or with another architecture (e.g. initializing a BertForSequenceClassification model from a BertForPreTraining model).\n",
      "- This IS NOT expected if you are initializing DistilBertModel from the checkpoint of a model that you expect to be exactly identical (initializing a BertForSequenceClassification model from a BertForSequenceClassification model).\n"
     ]
    },
    {
     "name": "stdout",
     "output_type": "stream",
     "text": [
      "Using scikit learn accuracy por género en el conjunto about\n",
      "GLOBAL: 0.8405612244897959\n",
      "MALE 0.8359375\n",
      "FEMALE 0.845 \n",
      "\n",
      "Using scikit learn accuracy por género en el conjunto to\n",
      "GLOBAL: 0.6553030303030303\n",
      "MALE 0.681265206812652\n",
      "FEMALE 0.6272965879265092 \n",
      "\n",
      "Using scikit learn accuracy por género en el conjunto as\n",
      "GLOBAL: 0.6779661016949152\n",
      "MALE 0.6691919191919192\n",
      "FEMALE 0.6873315363881402 \n",
      "\n"
     ]
    }
   ],
   "source": [
    "model = st.SingleTaskDep(model_conf,vocab).to(device)\n",
    "model.load_state_dict(torch.load(save_path))\n",
    "for task in ['about','to','as']:\n",
    "    print(f\"Using scikit learn accuracy por género en el conjunto {task}\")\n",
    "    print(f\"GLOBAL: {train.eval_function_single_sk(model,dl_eval[task])}\")\n",
    "    print(f\"MALE {train.eval_function_single_sk(model,dl_eval[task],gender='male')}\")\n",
    "    print(f\"FEMALE {train.eval_function_single_sk(model,dl_eval[task],gender='female')}\",'\\n')"
   ]
  },
  {
   "attachments": {},
   "cell_type": "markdown",
   "metadata": {},
   "source": [
    "# TO"
   ]
  },
  {
   "cell_type": "code",
   "execution_count": 19,
   "metadata": {},
   "outputs": [
    {
     "name": "stderr",
     "output_type": "stream",
     "text": [
      "Some weights of the model checkpoint at distilbert-base-cased were not used when initializing DistilBertModel: ['vocab_transform.bias', 'vocab_transform.weight', 'vocab_layer_norm.weight', 'vocab_projector.weight', 'vocab_layer_norm.bias', 'vocab_projector.bias']\n",
      "- This IS expected if you are initializing DistilBertModel from the checkpoint of a model trained on another task or with another architecture (e.g. initializing a BertForSequenceClassification model from a BertForPreTraining model).\n",
      "- This IS NOT expected if you are initializing DistilBertModel from the checkpoint of a model that you expect to be exactly identical (initializing a BertForSequenceClassification model from a BertForSequenceClassification model).\n"
     ]
    }
   ],
   "source": [
    "model = st.SingleTaskDep(model_conf,vocab).to(device)\n",
    "save_path='m1_distilbert_dep_brk_to'"
   ]
  },
  {
   "cell_type": "code",
   "execution_count": 20,
   "metadata": {},
   "outputs": [
    {
     "data": {
      "application/vnd.jupyter.widget-view+json": {
       "model_id": "ad4fd4ed6e9a4bb5bedaf37c504d297d",
       "version_major": 2,
       "version_minor": 0
      },
      "text/plain": [
       "  0%|          | 0/57400 [00:00<?, ?it/s]"
      ]
     },
     "metadata": {},
     "output_type": "display_data"
    },
    {
     "name": "stdout",
     "output_type": "stream",
     "text": [
      "Epoch 1 \t Training loss: 0.6948792987376555 \t Validation loss: 0.6934451339608532 \t \n",
      "  1%|          | 574/57400 [02:41<2:53:09,  5.47it/s]\n",
      "Epoch 2 \t Training loss: 0.6945311980588096 \t Validation loss: 0.6928529466612864 \t \n",
      "  2%|▏         | 1148/57400 [04:57<3:39:56,  4.26it/s]\n",
      "Epoch 3 \t Training loss: 0.6941756660099229 \t Validation loss: 0.6926712646322736 \t \n",
      "  3%|▎         | 1722/57400 [07:14<2:44:12,  5.65it/s]\n",
      "Epoch 4 \t Training loss: 0.694059441521608 \t Validation loss: 0.6946161419658338 \t \n",
      "\n",
      "1 epoch without improvement\n",
      "  4%|▍         | 2296/57400 [10:07<4:04:28,  3.76it/s]\n",
      "Epoch 5 \t Training loss: 0.6940335831783374 \t Validation loss: 0.6941187755536224 \t \n",
      "\n",
      "2 epoch without improvement\n",
      "  5%|▌         | 2870/57400 [12:36<3:35:36,  4.22it/s]\n",
      "Epoch 6 \t Training loss: 0.6939043488859715 \t Validation loss: 0.6932834821232294 \t \n",
      "  6%|▌         | 3444/57400 [14:58<3:44:13,  4.01it/s]\n",
      "Epoch 7 \t Training loss: 0.6937163346528176 \t Validation loss: 0.6924153788615082 \t \n",
      "  7%|▋         | 4018/57400 [17:27<3:47:33,  3.91it/s]\n",
      "Epoch 8 \t Training loss: 0.6939204828456719 \t Validation loss: 0.6933742913149171 \t \n",
      "  8%|▊         | 4592/57400 [20:59<5:31:48,  2.65it/s]\n",
      "Epoch 9 \t Training loss: 0.6937276963988248 \t Validation loss: 0.6944313897924909 \t \n",
      "\n",
      "1 epoch without improvement\n",
      "  9%|▉         | 5166/57400 [23:45<4:10:22,  3.48it/s]\n",
      "Epoch 10 \t Training loss: 0.6936009046508045 \t Validation loss: 0.6923357440253436 \t \n",
      " 10%|█         | 5740/57400 [26:46<3:56:19,  3.64it/s]\n",
      "Epoch 11 \t Training loss: 0.6936355356763049 \t Validation loss: 0.6932431994858435 \t \n",
      " 11%|█         | 6314/57400 [29:26<3:58:09,  3.58it/s]\n",
      "Epoch 12 \t Training loss: 0.6936703680492029 \t Validation loss: 0.6934811725454816 \t \n",
      "\n",
      "1 epoch without improvement\n",
      " 12%|█▏        | 6888/57400 [32:07<3:42:16,  3.79it/s]\n",
      "Epoch 13 \t Training loss: 0.6935512386132616 \t Validation loss: 0.6932749152183533 \t \n",
      " 13%|█▎        | 7462/57400 [34:47<3:48:00,  3.65it/s]\n",
      "Epoch 14 \t Training loss: 0.6937194270331685 \t Validation loss: 0.6927326665086261 \t \n",
      " 14%|█▍        | 8036/57400 [37:49<4:39:20,  2.95it/s]\n",
      "Epoch 15 \t Training loss: 0.6937181655745889 \t Validation loss: 0.6920559729559946 \t \n",
      " 15%|█▌        | 8610/57400 [40:35<3:39:51,  3.70it/s]\n",
      "Epoch 16 \t Training loss: 0.6936728565950427 \t Validation loss: 0.6933450991824522 \t \n",
      "\n",
      "1 epoch without improvement\n",
      " 16%|█▌        | 9184/57400 [43:13<3:32:22,  3.78it/s]\n",
      "Epoch 17 \t Training loss: 0.6935158920205013 \t Validation loss: 0.6936162295988051 \t \n",
      "\n",
      "2 epoch without improvement\n",
      " 17%|█▋        | 9758/57400 [45:51<2:56:07,  4.51it/s]\n",
      "Epoch 18 \t Training loss: 0.6935489683408771 \t Validation loss: 0.6934849316790953 \t \n",
      "\n",
      "3 epoch without improvement\n",
      " 18%|█▊        | 10332/57400 [48:31<3:46:09,  3.47it/s]\n",
      "Epoch 19 \t Training loss: 0.6935944590419012 \t Validation loss: 0.692822613958585 \t \n",
      " 19%|█▉        | 10906/57400 [51:16<3:18:15,  3.91it/s]\n",
      "Epoch 20 \t Training loss: 0.6937553067448248 \t Validation loss: 0.6934049998299551 \t \n",
      "\n",
      "4 epoch without improvement\n",
      " 20%|██        | 11480/57400 [53:54<3:35:48,  3.55it/s]\n",
      "Epoch 21 \t Training loss: 0.6934933997820478 \t Validation loss: 0.693075063875166 \t \n",
      "\n",
      "5 epoch without improvement\n",
      " 21%|██        | 12054/57400 [56:31<3:26:03,  3.67it/s]\n",
      "Epoch 22 \t Training loss: 0.6935434530421001 \t Validation loss: 0.6942324789903932 \t \n",
      "\n",
      "6 epoch without improvement\n",
      " 22%|██▏       | 12628/57400 [59:21<4:06:37,  3.03it/s]\n",
      "Epoch 23 \t Training loss: 0.693547632947616 \t Validation loss: 0.6923689124947887 \t \n",
      " 23%|██▎       | 13202/57400 [1:02:18<3:26:50,  3.56it/s]\n",
      "Epoch 24 \t Training loss: 0.6934761122544053 \t Validation loss: 0.6934899324077671 \t \n",
      "\n",
      "7 epoch without improvement\n",
      " 24%|██▍       | 13776/57400 [1:04:55<3:13:49,  3.75it/s]\n",
      "Epoch 25 \t Training loss: 0.6933145825248147 \t Validation loss: 0.693343292858641 \t \n",
      "\n",
      "8 epoch without improvement\n",
      " 25%|██▌       | 14350/57400 [1:07:33<3:06:16,  3.85it/s]\n",
      "Epoch 26 \t Training loss: 0.6933074826147498 \t Validation loss: 0.6932815828565824 \t \n",
      "\n",
      "9 epoch without improvement\n",
      " 26%|██▌       | 14924/57400 [1:10:11<3:20:25,  3.53it/s]\n",
      "Epoch 27 \t Training loss: 0.6932996246665197 \t Validation loss: 0.6929491061275288 \t \n",
      " 27%|██▋       | 15498/57400 [1:12:54<3:04:56,  3.78it/s]\n",
      "Epoch 28 \t Training loss: 0.6936919875053579 \t Validation loss: 0.6931626604775251 \t \n",
      "\n",
      "10 epoch without improvement\n",
      "Validation_loss hasn't improve in 10 epoch. Stopping training after 28 epochs...\n"
     ]
    },
    {
     "data": {
      "image/png": "[encoded data removed]",
      "text/plain": [
       "<Figure size 640x480 with 1 Axes>"
      ]
     },
     "metadata": {},
     "output_type": "display_data"
    }
   ],
   "source": [
    "learning_rate = 5e-5\n",
    "optimizer = SGD(model.parameters(), lr=learning_rate, momentum=0.9)\n",
    "num_epochs = 100\n",
    "\n",
    "train.train_function(model,num_epochs,dl_train['to'],optimizer,early_stop=10,dl_val=dl_val['to'],save_path=save_path)"
   ]
  },
  {
   "cell_type": "code",
   "execution_count": 21,
   "metadata": {},
   "outputs": [
    {
     "name": "stderr",
     "output_type": "stream",
     "text": [
      "Some weights of the model checkpoint at distilbert-base-cased were not used when initializing DistilBertModel: ['vocab_transform.bias', 'vocab_transform.weight', 'vocab_layer_norm.weight', 'vocab_projector.weight', 'vocab_layer_norm.bias', 'vocab_projector.bias']\n",
      "- This IS expected if you are initializing DistilBertModel from the checkpoint of a model trained on another task or with another architecture (e.g. initializing a BertForSequenceClassification model from a BertForPreTraining model).\n",
      "- This IS NOT expected if you are initializing DistilBertModel from the checkpoint of a model that you expect to be exactly identical (initializing a BertForSequenceClassification model from a BertForSequenceClassification model).\n"
     ]
    },
    {
     "name": "stdout",
     "output_type": "stream",
     "text": [
      "Using scikit learn accuracy por género en el conjunto about\n",
      "GLOBAL: 0.4961734693877551\n",
      "MALE 0.14583333333333334\n",
      "FEMALE 0.8325 \n",
      "\n",
      "Using scikit learn accuracy por género en el conjunto to\n",
      "GLOBAL: 0.51010101010101\n",
      "MALE 0.1654501216545012\n",
      "FEMALE 0.8818897637795275 \n",
      "\n",
      "Using scikit learn accuracy por género en el conjunto as\n",
      "GLOBAL: 0.516297262059974\n",
      "MALE 0.18686868686868688\n",
      "FEMALE 0.8679245283018868 \n",
      "\n"
     ]
    }
   ],
   "source": [
    "model = st.SingleTaskDep(model_conf,vocab).to(device)\n",
    "model.load_state_dict(torch.load(save_path))\n",
    "for task in ['about','to','as']:\n",
    "    print(f\"Using scikit learn accuracy por género en el conjunto {task}\")\n",
    "    print(f\"GLOBAL: {train.eval_function_single_sk(model,dl_eval[task])}\")\n",
    "    print(f\"MALE {train.eval_function_single_sk(model,dl_eval[task],gender='male')}\")\n",
    "    print(f\"FEMALE {train.eval_function_single_sk(model,dl_eval[task],gender='female')}\",'\\n')"
   ]
  },
  {
   "attachments": {},
   "cell_type": "markdown",
   "metadata": {},
   "source": [
    "# AS"
   ]
  },
  {
   "cell_type": "code",
   "execution_count": 22,
   "metadata": {},
   "outputs": [
    {
     "name": "stderr",
     "output_type": "stream",
     "text": [
      "Some weights of the model checkpoint at distilbert-base-cased were not used when initializing DistilBertModel: ['vocab_transform.bias', 'vocab_transform.weight', 'vocab_layer_norm.weight', 'vocab_projector.weight', 'vocab_layer_norm.bias', 'vocab_projector.bias']\n",
      "- This IS expected if you are initializing DistilBertModel from the checkpoint of a model trained on another task or with another architecture (e.g. initializing a BertForSequenceClassification model from a BertForPreTraining model).\n",
      "- This IS NOT expected if you are initializing DistilBertModel from the checkpoint of a model that you expect to be exactly identical (initializing a BertForSequenceClassification model from a BertForSequenceClassification model).\n"
     ]
    }
   ],
   "source": [
    "model = st.SingleTaskDep(model_conf,vocab).to(device)\n",
    "save_path='m1_distilbert_dep_brk_as'"
   ]
  },
  {
   "cell_type": "code",
   "execution_count": 23,
   "metadata": {},
   "outputs": [
    {
     "data": {
      "application/vnd.jupyter.widget-view+json": {
       "model_id": "d44434f11c66411a81142e3da05e775f",
       "version_major": 2,
       "version_minor": 0
      },
      "text/plain": [
       "  0%|          | 0/57400 [00:00<?, ?it/s]"
      ]
     },
     "metadata": {},
     "output_type": "display_data"
    },
    {
     "name": "stdout",
     "output_type": "stream",
     "text": [
      "Epoch 1 \t Training loss: 0.6944421470580616 \t Validation loss: 0.6934037279274504 \t \n",
      "  1%|          | 574/57400 [02:35<4:02:00,  3.91it/s]\n",
      "Epoch 2 \t Training loss: 0.6940314255732692 \t Validation loss: 0.692446343979593 \t \n",
      "  2%|▏         | 1148/57400 [05:11<4:12:58,  3.71it/s]\n",
      "Epoch 3 \t Training loss: 0.6938495616256568 \t Validation loss: 0.6926020989983769 \t \n",
      "  3%|▎         | 1722/57400 [07:47<4:16:29,  3.62it/s]\n",
      "Epoch 4 \t Training loss: 0.6937058335397301 \t Validation loss: 0.6932036917088396 \t \n",
      "  4%|▍         | 2296/57400 [10:30<4:57:32,  3.09it/s]\n",
      "Epoch 5 \t Training loss: 0.6934973682676043 \t Validation loss: 0.6930184930057849 \t \n",
      "  5%|▌         | 2870/57400 [13:38<4:23:02,  3.46it/s]\n",
      "Epoch 6 \t Training loss: 0.6931593741066364 \t Validation loss: 0.6920736583612733 \t \n",
      "  6%|▌         | 3444/57400 [16:14<3:55:22,  3.82it/s]\n",
      "Epoch 7 \t Training loss: 0.6931115129268128 \t Validation loss: 0.691993567903163 \t \n",
      "  7%|▋         | 4018/57400 [18:52<3:13:40,  4.59it/s]\n",
      "Epoch 8 \t Training loss: 0.6932110778130721 \t Validation loss: 0.692516677460428 \t \n",
      "  8%|▊         | 4592/57400 [21:45<4:04:48,  3.60it/s]\n",
      "Epoch 9 \t Training loss: 0.6926827137893916 \t Validation loss: 0.6929106954800881 \t \n",
      "  9%|▉         | 5166/57400 [24:25<3:55:42,  3.69it/s]\n",
      "Epoch 10 \t Training loss: 0.6929832155903872 \t Validation loss: 0.6926248012962988 \t \n",
      " 10%|█         | 5740/57400 [27:06<3:09:37,  4.54it/s]\n",
      "Epoch 11 \t Training loss: 0.6924832875512619 \t Validation loss: 0.6930778440782579 \t \n",
      "\n",
      "1 epoch without improvement\n",
      " 11%|█         | 6314/57400 [29:48<4:04:06,  3.49it/s]\n",
      "Epoch 12 \t Training loss: 0.6925467289075619 \t Validation loss: 0.6926211250030389 \t \n",
      " 12%|█▏        | 6888/57400 [32:56<4:41:51,  2.99it/s]\n",
      "Epoch 13 \t Training loss: 0.692583115051017 \t Validation loss: 0.6923877819109772 \t \n",
      " 13%|█▎        | 7462/57400 [35:45<3:50:37,  3.61it/s]\n",
      "Epoch 14 \t Training loss: 0.6924005224521983 \t Validation loss: 0.6921561885688264 \t \n",
      " 14%|█▍        | 8036/57400 [38:36<3:34:43,  3.83it/s]\n",
      "Epoch 15 \t Training loss: 0.6924803385751173 \t Validation loss: 0.6931261177790367 \t \n",
      "\n",
      "2 epoch without improvement\n",
      " 15%|█▌        | 8610/57400 [41:29<3:44:51,  3.62it/s]\n",
      "Epoch 16 \t Training loss: 0.6923088405398127 \t Validation loss: 0.6939828052359113 \t \n",
      "\n",
      "3 epoch without improvement\n",
      " 16%|█▌        | 9184/57400 [44:08<3:28:30,  3.85it/s]\n",
      "Epoch 17 \t Training loss: 0.6918310026673905 \t Validation loss: 0.6919797477075609 \t \n",
      " 17%|█▋        | 9758/57400 [46:59<4:19:07,  3.06it/s]\n",
      "Epoch 18 \t Training loss: 0.691951225547425 \t Validation loss: 0.6915785003516634 \t \n",
      " 18%|█▊        | 10332/57400 [49:59<3:31:20,  3.71it/s]\n",
      "Epoch 19 \t Training loss: 0.69177022441339 \t Validation loss: 0.6930981995695729 \t \n",
      "\n",
      "1 epoch without improvement\n",
      " 19%|█▉        | 10906/57400 [52:38<3:26:31,  3.75it/s]\n",
      "Epoch 20 \t Training loss: 0.6917933517424487 \t Validation loss: 0.6916336669760236 \t \n",
      " 20%|██        | 11480/57400 [55:16<3:32:27,  3.60it/s]\n",
      "Epoch 21 \t Training loss: 0.6915708444882769 \t Validation loss: 0.6911827891559924 \t \n",
      " 21%|██        | 12054/57400 [57:55<3:29:38,  3.61it/s]\n",
      "Epoch 22 \t Training loss: 0.6912356238124262 \t Validation loss: 0.6928191811351453 \t \n",
      "\n",
      "1 epoch without improvement\n",
      " 22%|██▏       | 12628/57400 [1:00:49<4:01:36,  3.09it/s]\n",
      "Epoch 23 \t Training loss: 0.6916264598793269 \t Validation loss: 0.691524387416193 \t \n",
      " 23%|██▎       | 13202/57400 [1:03:46<3:25:26,  3.59it/s]\n",
      "Epoch 24 \t Training loss: 0.6913615360284932 \t Validation loss: 0.6919093748270455 \t \n",
      " 24%|██▍       | 13776/57400 [1:06:25<3:18:28,  3.66it/s]\n",
      "Epoch 25 \t Training loss: 0.6912485539705496 \t Validation loss: 0.6928831409599822 \t \n",
      "\n",
      "2 epoch without improvement\n",
      " 25%|██▌       | 14350/57400 [1:09:18<3:52:45,  3.08it/s]\n",
      "Epoch 26 \t Training loss: 0.6913277173499197 \t Validation loss: 0.6910031468181287 \t \n",
      " 26%|██▌       | 14924/57400 [1:12:20<3:19:47,  3.54it/s]\n",
      "Epoch 27 \t Training loss: 0.6908126187864496 \t Validation loss: 0.6927393957719965 \t \n",
      "\n",
      "1 epoch without improvement\n",
      " 27%|██▋       | 15498/57400 [1:14:59<2:29:16,  4.68it/s]\n",
      "Epoch 28 \t Training loss: 0.6908798048512861 \t Validation loss: 0.6916958093643188 \t \n",
      " 28%|██▊       | 16072/57400 [1:17:38<2:33:33,  4.49it/s]\n",
      "Epoch 29 \t Training loss: 0.6908532530588556 \t Validation loss: 0.6908582065065029 \t \n",
      " 29%|██▉       | 16646/57400 [1:20:16<2:24:40,  4.69it/s]\n",
      "Epoch 30 \t Training loss: 0.690392757542042 \t Validation loss: 0.6912860829951399 \t \n",
      " 30%|███       | 17220/57400 [1:23:10<2:59:05,  3.74it/s]\n",
      "Epoch 31 \t Training loss: 0.6904119191892472 \t Validation loss: 0.6920466604879347 \t \n",
      "\n",
      "1 epoch without improvement\n",
      " 31%|███       | 17794/57400 [1:25:48<2:53:26,  3.81it/s]\n",
      "Epoch 32 \t Training loss: 0.6901299112349852 \t Validation loss: 0.6918197668204873 \t \n",
      " 32%|███▏      | 18368/57400 [1:28:26<2:50:30,  3.82it/s]\n",
      "Epoch 33 \t Training loss: 0.6902363743723893 \t Validation loss: 0.6913949382507195 \t \n",
      " 33%|███▎      | 18942/57400 [1:31:04<3:06:48,  3.43it/s]\n",
      "Epoch 34 \t Training loss: 0.6902319640440393 \t Validation loss: 0.6905724426447335 \t \n",
      " 34%|███▍      | 19516/57400 [1:33:50<2:58:20,  3.54it/s]\n",
      "Epoch 35 \t Training loss: 0.6902783379114463 \t Validation loss: 0.6913256291615761 \t \n",
      " 35%|███▌      | 20090/57400 [1:36:41<2:12:52,  4.68it/s]\n",
      "Epoch 36 \t Training loss: 0.6899133174053883 \t Validation loss: 0.6922555020300009 \t \n",
      "\n",
      "1 epoch without improvement\n",
      " 36%|███▌      | 20664/57400 [1:39:18<2:50:29,  3.59it/s]\n",
      "Epoch 37 \t Training loss: 0.6899367200165261 \t Validation loss: 0.6918744697409162 \t \n",
      "\n",
      "2 epoch without improvement\n",
      " 37%|███▋      | 21238/57400 [1:42:17<2:39:11,  3.79it/s]\n",
      "Epoch 38 \t Training loss: 0.6899156464516909 \t Validation loss: 0.6921862414327719 \t \n",
      "\n",
      "3 epoch without improvement\n",
      " 38%|███▊      | 21812/57400 [1:45:16<2:03:05,  4.82it/s]\n",
      "Epoch 39 \t Training loss: 0.6896068713390868 \t Validation loss: 0.6923194568035966 \t \n",
      "\n",
      "4 epoch without improvement\n",
      " 39%|███▉      | 22386/57400 [1:47:54<2:58:37,  3.27it/s]\n",
      "Epoch 40 \t Training loss: 0.6895624531063054 \t Validation loss: 0.6915470078840094 \t \n",
      " 40%|████      | 22960/57400 [1:50:31<2:28:41,  3.86it/s]\n",
      "Epoch 41 \t Training loss: 0.6893747679447878 \t Validation loss: 0.6902214622093459 \t \n",
      " 41%|████      | 23534/57400 [1:53:09<2:29:32,  3.77it/s]\n",
      "Epoch 42 \t Training loss: 0.6894616130544748 \t Validation loss: 0.6906014589940087 \t \n",
      " 42%|████▏     | 24108/57400 [1:56:00<2:50:46,  3.25it/s]\n",
      "Epoch 43 \t Training loss: 0.6894960021308075 \t Validation loss: 0.69211954282502 \t \n",
      "\n",
      "1 epoch without improvement\n",
      " 43%|████▎     | 24682/57400 [1:58:56<2:23:46,  3.79it/s]\n",
      "Epoch 44 \t Training loss: 0.6898127073610286 \t Validation loss: 0.6908000061067484 \t \n",
      " 44%|████▍     | 25256/57400 [2:01:34<2:20:11,  3.82it/s]\n",
      "Epoch 45 \t Training loss: 0.6892819850079274 \t Validation loss: 0.6910814067064706 \t \n",
      " 45%|████▌     | 25830/57400 [2:04:32<2:52:18,  3.05it/s]\n",
      "Epoch 46 \t Training loss: 0.6896742953032982 \t Validation loss: 0.6913826041302439 \t \n",
      "\n",
      "2 epoch without improvement\n",
      " 46%|████▌     | 26404/57400 [2:07:41<2:46:04,  3.11it/s]\n",
      "Epoch 47 \t Training loss: 0.6892443192337449 \t Validation loss: 0.6913439540539758 \t \n",
      "\n",
      "3 epoch without improvement\n",
      " 47%|████▋     | 26978/57400 [2:10:30<2:20:47,  3.60it/s]\n",
      "Epoch 48 \t Training loss: 0.6894045000707646 \t Validation loss: 0.6914505817122378 \t \n",
      "\n",
      "4 epoch without improvement\n",
      " 48%|████▊     | 27552/57400 [2:13:08<2:09:24,  3.84it/s]\n",
      "Epoch 49 \t Training loss: 0.6894423400898844 \t Validation loss: 0.6925906862242747 \t \n",
      "\n",
      "5 epoch without improvement\n",
      " 49%|████▉     | 28126/57400 [2:15:52<2:16:38,  3.57it/s]\n",
      "Epoch 50 \t Training loss: 0.6888287410088118 \t Validation loss: 0.6900766724247044 \t \n",
      " 50%|█████     | 28700/57400 [2:18:48<2:49:48,  2.82it/s]\n",
      "Epoch 51 \t Training loss: 0.6893377442185472 \t Validation loss: 0.6917541400860931 \t \n",
      "\n",
      "1 epoch without improvement\n",
      " 51%|█████     | 29274/57400 [2:21:26<2:08:16,  3.65it/s]\n",
      "Epoch 52 \t Training loss: 0.6890323351069194 \t Validation loss: 0.6925780328653627 \t \n",
      "\n",
      "2 epoch without improvement\n",
      " 52%|█████▏    | 29848/57400 [2:24:04<2:07:07,  3.61it/s]\n",
      "Epoch 53 \t Training loss: 0.6888795053709674 \t Validation loss: 0.6909353096606368 \t \n",
      " 53%|█████▎    | 30422/57400 [2:26:42<2:02:46,  3.66it/s]\n",
      "Epoch 54 \t Training loss: 0.688650173281128 \t Validation loss: 0.6931344634395534 \t \n",
      "\n",
      "3 epoch without improvement\n",
      " 54%|█████▍    | 30996/57400 [2:29:32<1:55:41,  3.80it/s]\n",
      "Epoch 55 \t Training loss: 0.688710623917264 \t Validation loss: 0.6909453495074127 \t \n",
      " 55%|█████▌    | 31570/57400 [2:32:26<1:58:09,  3.64it/s]\n",
      "Epoch 56 \t Training loss: 0.6889976663871925 \t Validation loss: 0.6914823883670872 \t \n",
      "\n",
      "4 epoch without improvement\n",
      " 56%|█████▌    | 32144/57400 [2:35:15<1:49:54,  3.83it/s]\n",
      "Epoch 57 \t Training loss: 0.6886460006444711 \t Validation loss: 0.6912874528917216 \t \n",
      "\n",
      "5 epoch without improvement\n",
      " 57%|█████▋    | 32718/57400 [2:38:25<2:12:32,  3.10it/s]\n",
      "Epoch 58 \t Training loss: 0.6884467983910431 \t Validation loss: 0.6922674643791328 \t \n",
      "\n",
      "6 epoch without improvement\n",
      " 58%|█████▊    | 33292/57400 [2:41:07<1:49:02,  3.68it/s]\n",
      "Epoch 59 \t Training loss: 0.6888782305169189 \t Validation loss: 0.6912308406021636 \t \n",
      "\n",
      "7 epoch without improvement\n",
      " 59%|█████▉    | 33866/57400 [2:43:45<1:24:15,  4.65it/s]\n",
      "Epoch 60 \t Training loss: 0.6884635134441096 \t Validation loss: 0.6917867630215014 \t \n",
      "\n",
      "8 epoch without improvement\n",
      " 60%|██████    | 34440/57400 [2:46:23<1:41:59,  3.75it/s]\n",
      "Epoch 61 \t Training loss: 0.6889144851978648 \t Validation loss: 0.6910639041561192 \t \n",
      " 61%|██████    | 35014/57400 [2:49:14<2:10:37,  2.86it/s]\n",
      "Epoch 62 \t Training loss: 0.6889451017363146 \t Validation loss: 0.6920354123842918 \t \n",
      "\n",
      "9 epoch without improvement\n",
      " 62%|██████▏   | 35588/57400 [2:52:23<1:38:02,  3.71it/s]\n",
      "Epoch 63 \t Training loss: 0.688912396127754 \t Validation loss: 0.6919716788550555 \t \n",
      "\n",
      "10 epoch without improvement\n",
      "Validation_loss hasn't improve in 10 epoch. Stopping training after 63 epochs...\n"
     ]
    },
    {
     "data": {
      "image/png": "[encoded data removed]",
      "text/plain": [
       "<Figure size 640x480 with 1 Axes>"
      ]
     },
     "metadata": {},
     "output_type": "display_data"
    }
   ],
   "source": [
    "learning_rate = 5e-5\n",
    "optimizer = SGD(model.parameters(), lr=learning_rate, momentum=0.9)\n",
    "num_epochs = 100\n",
    "\n",
    "train.train_function(model,num_epochs,dl_train['as'],optimizer,early_stop=10,dl_val=dl_val['as'],save_path=save_path)"
   ]
  },
  {
   "cell_type": "code",
   "execution_count": 24,
   "metadata": {},
   "outputs": [
    {
     "name": "stderr",
     "output_type": "stream",
     "text": [
      "Some weights of the model checkpoint at distilbert-base-cased were not used when initializing DistilBertModel: ['vocab_transform.bias', 'vocab_transform.weight', 'vocab_layer_norm.weight', 'vocab_projector.weight', 'vocab_layer_norm.bias', 'vocab_projector.bias']\n",
      "- This IS expected if you are initializing DistilBertModel from the checkpoint of a model trained on another task or with another architecture (e.g. initializing a BertForSequenceClassification model from a BertForPreTraining model).\n",
      "- This IS NOT expected if you are initializing DistilBertModel from the checkpoint of a model that you expect to be exactly identical (initializing a BertForSequenceClassification model from a BertForSequenceClassification model).\n"
     ]
    },
    {
     "name": "stdout",
     "output_type": "stream",
     "text": [
      "Using scikit learn accuracy por género en el conjunto about\n",
      "GLOBAL: 0.6964285714285714\n",
      "MALE 0.59375\n",
      "FEMALE 0.795 \n",
      "\n",
      "Using scikit learn accuracy por género en el conjunto to\n",
      "GLOBAL: 0.61489898989899\n",
      "MALE 0.5182481751824818\n",
      "FEMALE 0.7191601049868767 \n",
      "\n",
      "Using scikit learn accuracy por género en el conjunto as\n",
      "GLOBAL: 0.6453715775749674\n",
      "MALE 0.46464646464646464\n",
      "FEMALE 0.8382749326145552 \n",
      "\n"
     ]
    }
   ],
   "source": [
    "model = st.SingleTaskDep(model_conf,vocab).to(device)\n",
    "model.load_state_dict(torch.load(save_path))\n",
    "for task in ['about','to','as']:\n",
    "    print(f\"Using scikit learn accuracy por género en el conjunto {task}\")\n",
    "    print(f\"GLOBAL: {train.eval_function_single_sk(model,dl_eval[task])}\")\n",
    "    print(f\"MALE {train.eval_function_single_sk(model,dl_eval[task],gender='male')}\")\n",
    "    print(f\"FEMALE {train.eval_function_single_sk(model,dl_eval[task],gender='female')}\",'\\n')"
   ]
  }
 ],
 "metadata": {
  "kernelspec": {
   "display_name": "tfg",
   "language": "python",
   "name": "python3"
  },
  "language_info": {
   "codemirror_mode": {
    "name": "ipython",
    "version": 3
   },
   "file_extension": ".py",
   "mimetype": "text/x-python",
   "name": "python",
   "nbconvert_exporter": "python",
   "pygments_lexer": "ipython3",
   "version": "3.9.13"
  },
  "orig_nbformat": 4,
  "vscode": {
   "interpreter": {
    "hash": "35e8332e99bdf485583869dfbdef293dcf2f9293b1663ec5daea0a573af457c3"
   }
  }
 },
 "nbformat": 4,
 "nbformat_minor": 2
}
