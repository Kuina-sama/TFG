{
 "cells": [
  {
   "cell_type": "code",
   "execution_count": 1,
   "metadata": {},
   "outputs": [],
   "source": [
    "import torch\n",
    "from torch.utils.data import DataLoader\n",
    "from torch.optim import SGD ,AdamW\n",
    "\n",
    "from datasets import load_dataset, load_metric\n",
    "\n",
    "import matplotlib.pyplot as plt\n",
    "\n",
    "import json\n"
   ]
  },
  {
   "cell_type": "code",
   "execution_count": 2,
   "metadata": {},
   "outputs": [],
   "source": [
    "import utils_generic as generic\n",
    "import multitask_dep as mt\n",
    "import model_confs as confs\n",
    "import train_dep as train"
   ]
  },
  {
   "cell_type": "code",
   "execution_count": 3,
   "metadata": {},
   "outputs": [],
   "source": [
    "device = torch.device(\"cuda\") if torch.cuda.is_available() else torch.device(\"cpu\")\n",
    "torch.manual_seed(27)\n",
    "tasks = ['to','as','about']"
   ]
  },
  {
   "cell_type": "code",
   "execution_count": 4,
   "metadata": {},
   "outputs": [],
   "source": [
    "model_conf = confs.distilbert_conf\n",
    "encoding_type = 'absolute'"
   ]
  },
  {
   "attachments": {},
   "cell_type": "markdown",
   "metadata": {},
   "source": [
    "# Datos ConvAI"
   ]
  },
  {
   "cell_type": "code",
   "execution_count": 5,
   "metadata": {},
   "outputs": [],
   "source": [
    "with open('Datasets\\ConvAI2\\convai2_complete.json','r') as f:\n",
    "    data = json.load(f)"
   ]
  },
  {
   "cell_type": "code",
   "execution_count": 6,
   "metadata": {},
   "outputs": [],
   "source": [
    "vocab = mt.Vocabulary(data['train'],encoding_type)"
   ]
  },
  {
   "cell_type": "code",
   "execution_count": 7,
   "metadata": {},
   "outputs": [],
   "source": [
    "convai_train = data['train']\n",
    "convai_val = data['validation']\n",
    "\n",
    "\n",
    "\n",
    "convai_train_token = generic.tokenize_dataset_with_dependencies(convai_train,['about','to','as'],vocab,model_conf) \n",
    "convai_val_token = generic.tokenize_dataset_with_dependencies(convai_val,['about','to','as'],vocab,model_conf) "
   ]
  },
  {
   "cell_type": "code",
   "execution_count": 8,
   "metadata": {},
   "outputs": [],
   "source": [
    "convai_train_dataset = mt.DatasetMultitaskDep(convai_train_token,tasks,eval=False)\n",
    "convai_val_dataset = mt.DatasetMultitaskDep(convai_val_token,tasks,eval=False)"
   ]
  },
  {
   "attachments": {},
   "cell_type": "markdown",
   "metadata": {},
   "source": [
    "# Datos md_gender"
   ]
  },
  {
   "cell_type": "code",
   "execution_count": 9,
   "metadata": {},
   "outputs": [],
   "source": [
    "with open('Datasets\\md_gender\\md_complete.json','r',encoding=\"utf8\") as f:\n",
    "    md_data = json.load(f)"
   ]
  },
  {
   "cell_type": "code",
   "execution_count": 10,
   "metadata": {},
   "outputs": [],
   "source": [
    "md_tokenized = generic.tokenize_dataset_with_dependencies(md_data,['about','to','as'],vocab,model_conf) \n",
    "md_dataset = mt.DatasetMultitaskDep(md_tokenized,tasks,eval=True)"
   ]
  },
  {
   "attachments": {},
   "cell_type": "markdown",
   "metadata": {},
   "source": [
    "# Creación dataloaders"
   ]
  },
  {
   "cell_type": "code",
   "execution_count": 11,
   "metadata": {},
   "outputs": [],
   "source": [
    "dl_train =DataLoader(convai_train_dataset,batch_size=128,shuffle=True,collate_fn=mt.collate_fn)\n",
    "dl_val =DataLoader(convai_val_dataset,batch_size=128,shuffle=True,collate_fn=mt.collate_fn)\n",
    "dl_eval = DataLoader(md_dataset,batch_size=128,shuffle=False,collate_fn=mt.collate_fn)"
   ]
  },
  {
   "attachments": {},
   "cell_type": "markdown",
   "metadata": {},
   "source": [
    "# Modelo multitask"
   ]
  },
  {
   "cell_type": "code",
   "execution_count": 12,
   "metadata": {},
   "outputs": [
    {
     "name": "stderr",
     "output_type": "stream",
     "text": [
      "Some weights of the model checkpoint at distilbert-base-cased were not used when initializing DistilBertModel: ['vocab_layer_norm.weight', 'vocab_transform.bias', 'vocab_projector.weight', 'vocab_layer_norm.bias', 'vocab_transform.weight', 'vocab_projector.bias']\n",
      "- This IS expected if you are initializing DistilBertModel from the checkpoint of a model trained on another task or with another architecture (e.g. initializing a BertForSequenceClassification model from a BertForPreTraining model).\n",
      "- This IS NOT expected if you are initializing DistilBertModel from the checkpoint of a model that you expect to be exactly identical (initializing a BertForSequenceClassification model from a BertForSequenceClassification model).\n"
     ]
    }
   ],
   "source": [
    "model = mt.MultiWithDependencies(model_conf,vocab).to(device)\n",
    "save_path='m1_distilbert_multi_absolute'"
   ]
  },
  {
   "cell_type": "code",
   "execution_count": 13,
   "metadata": {},
   "outputs": [
    {
     "name": "stdout",
     "output_type": "stream",
     "text": [
      "Accuracy evaluando en todas las etiquetas\n",
      "{'to': 0.49873737373737376, 'as': 0.5110821382007823, 'about': 0.47831632653061223}\n",
      "Accuracy evaluando en etiquetas female\n",
      "{'to': 0.11548556430446194, 'as': 0.11859838274932614, 'about': 0.105}\n",
      "Accuracy evaluando en etiquetas male\n",
      "{'to': 0.8540145985401459, 'as': 0.8787878787878788, 'about': 0.8671875}\n"
     ]
    }
   ],
   "source": [
    "print(\"Accuracy evaluando en todas las etiquetas\")\n",
    "print(train.eval_function_multi(model,dl_eval,tasks))\n",
    "print(\"Accuracy evaluando en etiquetas female\")\n",
    "print(train.eval_function_multi(model,dl_eval,tasks,'female'))\n",
    "print(\"Accuracy evaluando en etiquetas male\")\n",
    "print(train.eval_function_multi(model,dl_eval,tasks,'male'))"
   ]
  },
  {
   "cell_type": "code",
   "execution_count": 14,
   "metadata": {},
   "outputs": [
    {
     "data": {
      "application/vnd.jupyter.widget-view+json": {
       "model_id": "84d753e156d042dbac51b82d981e2439",
       "version_major": 2,
       "version_minor": 0
      },
      "text/plain": [
       "  0%|          | 0/57400 [00:00<?, ?it/s]"
      ]
     },
     "metadata": {},
     "output_type": "display_data"
    },
    {
     "name": "stdout",
     "output_type": "stream",
     "text": [
      "Epoch 1 \t Training loss: 2.0779733470923394 \t Validation loss: 2.0806320966300316 \t \n",
      "  1%|          | 574/57400 [02:27<4:11:59,  3.76it/s]\n",
      "Epoch 2 \t Training loss: 2.071167820422076 \t Validation loss: 2.0713840217913613 \t \n",
      "  2%|▏         | 1148/57400 [05:06<4:26:54,  3.51it/s]\n",
      "Epoch 3 \t Training loss: 2.0555599275781717 \t Validation loss: 2.0471379676107633 \t \n",
      "  3%|▎         | 1722/57400 [07:52<5:18:34,  2.91it/s]\n",
      "Epoch 4 \t Training loss: 2.0257883136280737 \t Validation loss: 2.0224516937288186 \t \n",
      "  4%|▍         | 2296/57400 [11:03<5:12:39,  2.94it/s]\n",
      "Epoch 5 \t Training loss: 2.006513741581282 \t Validation loss: 2.007372433856382 \t \n",
      "  5%|▌         | 2870/57400 [14:14<4:57:25,  3.06it/s]\n",
      "Epoch 6 \t Training loss: 1.998073155248622 \t Validation loss: 1.9985270884077428 \t \n",
      "  6%|▌         | 3444/57400 [17:02<3:59:59,  3.75it/s]\n",
      "Epoch 7 \t Training loss: 1.989319955845743 \t Validation loss: 2.0015514765755604 \t \n",
      "\n",
      "1 epoch without improvement\n",
      "  7%|▋         | 4018/57400 [19:41<4:01:07,  3.69it/s]\n",
      "Epoch 8 \t Training loss: 1.9834606275741231 \t Validation loss: 1.9918623192835663 \t \n",
      "  8%|▊         | 4592/57400 [22:44<4:32:35,  3.23it/s]\n",
      "Epoch 9 \t Training loss: 1.9822391566499185 \t Validation loss: 1.9923996258590182 \t \n",
      "  9%|▉         | 5166/57400 [25:39<3:46:55,  3.84it/s]\n",
      "Epoch 10 \t Training loss: 1.9823764575067713 \t Validation loss: 1.9974436820563624 \t \n",
      "\n",
      "1 epoch without improvement\n",
      " 10%|█         | 5740/57400 [28:17<3:02:21,  4.72it/s]\n",
      "Epoch 11 \t Training loss: 1.9797550020317582 \t Validation loss: 1.9868945166216059 \t \n",
      " 11%|█         | 6314/57400 [31:10<4:38:50,  3.05it/s]\n",
      "Epoch 12 \t Training loss: 1.9758694834410107 \t Validation loss: 1.982217568462178 \t \n",
      " 12%|█▏        | 6888/57400 [34:20<4:33:14,  3.08it/s]\n",
      "Epoch 13 \t Training loss: 1.977623327683904 \t Validation loss: 1.987081937870737 \t \n",
      "\n",
      "1 epoch without improvement\n",
      " 13%|█▎        | 7462/57400 [37:32<4:20:59,  3.19it/s]\n",
      "Epoch 14 \t Training loss: 1.97632815135896 \t Validation loss: 1.9875246852131214 \t \n",
      "\n",
      "2 epoch without improvement\n",
      " 14%|█▍        | 8036/57400 [40:15<3:41:13,  3.72it/s]\n",
      "Epoch 15 \t Training loss: 1.9724035236062905 \t Validation loss: 1.988683045920679 \t \n",
      "\n",
      "3 epoch without improvement\n",
      " 15%|█▌        | 8610/57400 [42:55<3:48:59,  3.55it/s]\n",
      "Epoch 16 \t Training loss: 1.9756483971449557 \t Validation loss: 1.9791303691217454 \t \n",
      " 16%|█▌        | 9184/57400 [45:43<2:25:44,  5.51it/s]\n",
      "Epoch 17 \t Training loss: 1.9728953391832758 \t Validation loss: 1.9821377346071147 \t \n",
      "\n",
      "1 epoch without improvement\n",
      " 17%|█▋        | 9758/57400 [47:58<2:53:46,  4.57it/s]\n",
      "Epoch 18 \t Training loss: 1.9683853799042386 \t Validation loss: 1.9794109595023979 \t \n",
      " 18%|█▊        | 10332/57400 [50:12<3:01:35,  4.32it/s]\n",
      "Epoch 19 \t Training loss: 1.9693778269382305 \t Validation loss: 1.9761135234671123 \t \n",
      " 19%|█▉        | 10906/57400 [52:27<2:49:14,  4.58it/s]\n",
      "Epoch 20 \t Training loss: 1.9702016173339472 \t Validation loss: 1.9748750359325085 \t \n",
      " 20%|██        | 11480/57400 [54:41<2:49:10,  4.52it/s]\n",
      "Epoch 21 \t Training loss: 1.9696327933866389 \t Validation loss: 1.9799830893338737 \t \n",
      "\n",
      "1 epoch without improvement\n",
      " 21%|██        | 12054/57400 [56:55<2:51:04,  4.42it/s]\n",
      "Epoch 22 \t Training loss: 1.968536246736706 \t Validation loss: 1.9773887072579335 \t \n",
      "\n",
      "2 epoch without improvement\n",
      " 22%|██▏       | 12628/57400 [59:10<2:54:44,  4.27it/s]\n",
      "Epoch 23 \t Training loss: 1.9664523130094549 \t Validation loss: 1.9748156515218445 \t \n",
      " 23%|██▎       | 13202/57400 [1:01:24<2:40:52,  4.58it/s]\n",
      "Epoch 24 \t Training loss: 1.9673192461608595 \t Validation loss: 1.9857214709459725 \t \n",
      "\n",
      "1 epoch without improvement\n",
      " 24%|██▍       | 13776/57400 [1:03:39<2:44:01,  4.43it/s]\n",
      "Epoch 25 \t Training loss: 1.9676291984132774 \t Validation loss: 1.979687339168484 \t \n",
      "\n",
      "2 epoch without improvement\n",
      " 25%|██▌       | 14350/57400 [1:05:53<2:45:39,  4.33it/s]\n",
      "Epoch 26 \t Training loss: 1.9659066464012094 \t Validation loss: 1.9773634066015988 \t \n",
      "\n",
      "3 epoch without improvement\n",
      " 26%|██▌       | 14924/57400 [1:08:08<2:37:16,  4.50it/s]\n",
      "Epoch 27 \t Training loss: 1.966466556650421 \t Validation loss: 1.977533948623528 \t \n",
      "\n",
      "4 epoch without improvement\n",
      " 27%|██▋       | 15498/57400 [1:10:22<2:43:00,  4.28it/s]\n",
      "Epoch 28 \t Training loss: 1.964579725514721 \t Validation loss: 1.9719208862821935 \t \n",
      " 28%|██▊       | 16072/57400 [1:12:37<2:33:41,  4.48it/s]\n",
      "Epoch 29 \t Training loss: 1.9645269880726777 \t Validation loss: 1.9853918168504359 \t \n",
      "\n",
      "1 epoch without improvement\n",
      " 29%|██▉       | 16646/57400 [1:14:51<2:32:46,  4.45it/s]\n",
      "Epoch 30 \t Training loss: 1.9663563100718455 \t Validation loss: 1.9724378323150893 \t \n",
      " 30%|███       | 17220/57400 [1:17:05<2:28:35,  4.51it/s]\n",
      "Epoch 31 \t Training loss: 1.9635743405345425 \t Validation loss: 1.966688055103108 \t \n",
      " 31%|███       | 17794/57400 [1:19:19<2:27:10,  4.49it/s]\n",
      "Epoch 32 \t Training loss: 1.9634400427549143 \t Validation loss: 1.9735154580261747 \t \n",
      "\n",
      "1 epoch without improvement\n",
      " 32%|███▏      | 18368/57400 [1:21:33<2:00:07,  5.42it/s]\n",
      "Epoch 33 \t Training loss: 1.962612052827762 \t Validation loss: 1.978593595957352 \t \n",
      "\n",
      "2 epoch without improvement\n",
      " 33%|███▎      | 18942/57400 [1:23:48<2:25:41,  4.40it/s]\n",
      "Epoch 34 \t Training loss: 1.9643841608060777 \t Validation loss: 1.9696259943105408 \t \n",
      "\n",
      "3 epoch without improvement\n",
      " 34%|███▍      | 19516/57400 [1:26:02<2:18:59,  4.54it/s]\n",
      "Epoch 35 \t Training loss: 1.961296420064122 \t Validation loss: 1.976190158876322 \t \n",
      "\n",
      "4 epoch without improvement\n",
      " 35%|███▌      | 20090/57400 [1:28:16<2:21:29,  4.40it/s]\n",
      "Epoch 36 \t Training loss: 1.9622704831149935 \t Validation loss: 1.9754860926482638 \t \n",
      "\n",
      "5 epoch without improvement\n",
      " 36%|███▌      | 20664/57400 [1:30:31<2:15:40,  4.51it/s]\n",
      "Epoch 37 \t Training loss: 1.962033637724687 \t Validation loss: 1.9703190569150246 \t \n",
      "\n",
      "6 epoch without improvement\n",
      " 37%|███▋      | 21238/57400 [1:32:45<2:18:35,  4.35it/s]\n",
      "Epoch 38 \t Training loss: 1.962034444568049 \t Validation loss: 1.9807535288697582 \t \n",
      "\n",
      "7 epoch without improvement\n",
      " 38%|███▊      | 21812/57400 [1:34:59<2:15:09,  4.39it/s]\n",
      "Epoch 39 \t Training loss: 1.9601821938873583 \t Validation loss: 1.970155087567992 \t \n",
      "\n",
      "8 epoch without improvement\n",
      " 39%|███▉      | 22386/57400 [1:37:13<2:10:52,  4.46it/s]\n",
      "Epoch 40 \t Training loss: 1.9599369957471975 \t Validation loss: 1.973396206306199 \t \n",
      "\n",
      "9 epoch without improvement\n",
      " 40%|████      | 22960/57400 [1:39:27<2:17:07,  4.19it/s]\n",
      "Epoch 41 \t Training loss: 1.9600222476268063 \t Validation loss: 1.9730503155013261 \t \n",
      "\n",
      "10 epoch without improvement\n",
      "Validation_loss hasn't improve in 10 epoch. Stopping training after 41 epochs...\n"
     ]
    },
    {
     "data": {
      "image/png": "[encoded data removed]",
      "text/plain": [
       "<Figure size 640x480 with 1 Axes>"
      ]
     },
     "metadata": {},
     "output_type": "display_data"
    }
   ],
   "source": [
    "learning_rate = 5e-5\n",
    "optimizer = SGD(model.parameters(), lr=learning_rate, momentum=0.9)\n",
    "num_epochs = 100\n",
    "train.train_function_multi(model,num_epochs,dl_train,optimizer,early_stop = 10,dl_val = dl_val,save_path=save_path)"
   ]
  },
  {
   "cell_type": "code",
   "execution_count": 15,
   "metadata": {},
   "outputs": [
    {
     "name": "stderr",
     "output_type": "stream",
     "text": [
      "Some weights of the model checkpoint at distilbert-base-cased were not used when initializing DistilBertModel: ['vocab_layer_norm.weight', 'vocab_transform.bias', 'vocab_projector.weight', 'vocab_layer_norm.bias', 'vocab_transform.weight', 'vocab_projector.bias']\n",
      "- This IS expected if you are initializing DistilBertModel from the checkpoint of a model trained on another task or with another architecture (e.g. initializing a BertForSequenceClassification model from a BertForPreTraining model).\n",
      "- This IS NOT expected if you are initializing DistilBertModel from the checkpoint of a model that you expect to be exactly identical (initializing a BertForSequenceClassification model from a BertForSequenceClassification model).\n"
     ]
    },
    {
     "name": "stdout",
     "output_type": "stream",
     "text": [
      "Accuracy evaluando en todas las etiquetas\n",
      "{'to': 0.6616161616161617, 'as': 0.6988265971316818, 'about': 0.8316326530612245}\n",
      "Accuracy evaluando en etiquetas female\n",
      "{'to': 0.6640419947506562, 'as': 0.7654986522911051, 'about': 0.8525}\n",
      "Accuracy evaluando en etiquetas male\n",
      "{'to': 0.6593673965936739, 'as': 0.6363636363636364, 'about': 0.8098958333333334}\n"
     ]
    }
   ],
   "source": [
    "model = mt.MultiWithDependencies(model_conf,vocab).to(device)\n",
    "model.load_state_dict(torch.load(save_path))\n",
    "\n",
    "print(\"Accuracy evaluando en todas las etiquetas\")\n",
    "print(train.eval_function_multi(model,dl_eval,tasks))\n",
    "print(\"Accuracy evaluando en etiquetas female\")\n",
    "print(train.eval_function_multi(model,dl_eval,tasks,'female'))\n",
    "print(\"Accuracy evaluando en etiquetas male\")\n",
    "print(train.eval_function_multi(model,dl_eval,tasks,'male'))"
   ]
  }
 ],
 "metadata": {
  "kernelspec": {
   "display_name": "tfg",
   "language": "python",
   "name": "python3"
  },
  "language_info": {
   "codemirror_mode": {
    "name": "ipython",
    "version": 3
   },
   "file_extension": ".py",
   "mimetype": "text/x-python",
   "name": "python",
   "nbconvert_exporter": "python",
   "pygments_lexer": "ipython3",
   "version": "3.9.13"
  },
  "orig_nbformat": 4,
  "vscode": {
   "interpreter": {
    "hash": "35e8332e99bdf485583869dfbdef293dcf2f9293b1663ec5daea0a573af457c3"
   }
  }
 },
 "nbformat": 4,
 "nbformat_minor": 2
}
