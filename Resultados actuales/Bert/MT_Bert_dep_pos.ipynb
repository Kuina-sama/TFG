{
 "cells": [
  {
   "cell_type": "code",
   "execution_count": 1,
   "metadata": {},
   "outputs": [],
   "source": [
    "import torch\n",
    "from torch.utils.data import DataLoader\n",
    "from torch.optim import SGD ,AdamW\n",
    "\n",
    "from datasets import load_dataset, load_metric\n",
    "\n",
    "import matplotlib.pyplot as plt\n",
    "\n",
    "import json\n"
   ]
  },
  {
   "cell_type": "code",
   "execution_count": 2,
   "metadata": {},
   "outputs": [],
   "source": [
    "import utils_generic as generic\n",
    "import multitask_dep as mt\n",
    "import model_confs as confs\n",
    "import train_dep as train"
   ]
  },
  {
   "cell_type": "code",
   "execution_count": 3,
   "metadata": {},
   "outputs": [],
   "source": [
    "device = torch.device(\"cuda\") if torch.cuda.is_available() else torch.device(\"cpu\")\n",
    "torch.manual_seed(27)\n",
    "tasks = ['to','as','about']"
   ]
  },
  {
   "cell_type": "code",
   "execution_count": 4,
   "metadata": {},
   "outputs": [],
   "source": [
    "model_conf = confs.bert_conf\n",
    "encoding_type = 'pos'"
   ]
  },
  {
   "attachments": {},
   "cell_type": "markdown",
   "metadata": {},
   "source": [
    "# Datos ConvAI"
   ]
  },
  {
   "cell_type": "code",
   "execution_count": 5,
   "metadata": {},
   "outputs": [],
   "source": [
    "with open('Datasets\\ConvAI2\\convai2_complete.json','r') as f:\n",
    "    data = json.load(f)"
   ]
  },
  {
   "cell_type": "code",
   "execution_count": 6,
   "metadata": {},
   "outputs": [],
   "source": [
    "vocab = mt.Vocabulary(data['train'],encoding_type)"
   ]
  },
  {
   "cell_type": "code",
   "execution_count": 7,
   "metadata": {},
   "outputs": [],
   "source": [
    "convai_train = data['train']\n",
    "convai_val = data['validation']\n",
    "\n",
    "\n",
    "\n",
    "convai_train_token = generic.tokenize_dataset_with_dependencies(convai_train,['about','to','as'],vocab,model_conf) \n",
    "convai_val_token = generic.tokenize_dataset_with_dependencies(convai_val,['about','to','as'],vocab,model_conf) "
   ]
  },
  {
   "cell_type": "code",
   "execution_count": 8,
   "metadata": {},
   "outputs": [],
   "source": [
    "convai_train_dataset = mt.DatasetMultitaskDep(convai_train_token,tasks,eval=False)\n",
    "convai_val_dataset = mt.DatasetMultitaskDep(convai_val_token,tasks,eval=False)"
   ]
  },
  {
   "attachments": {},
   "cell_type": "markdown",
   "metadata": {},
   "source": [
    "# Datos md_gender"
   ]
  },
  {
   "cell_type": "code",
   "execution_count": 9,
   "metadata": {},
   "outputs": [],
   "source": [
    "with open('Datasets\\md_gender\\md_complete.json','r',encoding=\"utf8\") as f:\n",
    "    md_data = json.load(f)"
   ]
  },
  {
   "cell_type": "code",
   "execution_count": 10,
   "metadata": {},
   "outputs": [],
   "source": [
    "md_tokenized = generic.tokenize_dataset_with_dependencies(md_data,['about','to','as'],vocab,model_conf) \n",
    "md_dataset = mt.DatasetMultitaskDep(md_tokenized,tasks,eval=True)"
   ]
  },
  {
   "attachments": {},
   "cell_type": "markdown",
   "metadata": {},
   "source": [
    "# Creación dataloaders"
   ]
  },
  {
   "cell_type": "code",
   "execution_count": 11,
   "metadata": {},
   "outputs": [],
   "source": [
    "dl_train =DataLoader(convai_train_dataset,batch_size=128,shuffle=True,collate_fn=mt.collate_fn)\n",
    "dl_val =DataLoader(convai_val_dataset,batch_size=128,shuffle=True,collate_fn=mt.collate_fn)\n",
    "dl_eval = DataLoader(md_dataset,batch_size=128,shuffle=False,collate_fn=mt.collate_fn)"
   ]
  },
  {
   "attachments": {},
   "cell_type": "markdown",
   "metadata": {},
   "source": [
    "# Modelo multitask"
   ]
  },
  {
   "cell_type": "code",
   "execution_count": 12,
   "metadata": {},
   "outputs": [
    {
     "name": "stderr",
     "output_type": "stream",
     "text": [
      "Some weights of the model checkpoint at bert-base-cased were not used when initializing BertModel: ['cls.seq_relationship.bias', 'cls.predictions.transform.dense.weight', 'cls.seq_relationship.weight', 'cls.predictions.transform.LayerNorm.weight', 'cls.predictions.decoder.weight', 'cls.predictions.bias', 'cls.predictions.transform.LayerNorm.bias', 'cls.predictions.transform.dense.bias']\n",
      "- This IS expected if you are initializing BertModel from the checkpoint of a model trained on another task or with another architecture (e.g. initializing a BertForSequenceClassification model from a BertForPreTraining model).\n",
      "- This IS NOT expected if you are initializing BertModel from the checkpoint of a model that you expect to be exactly identical (initializing a BertForSequenceClassification model from a BertForSequenceClassification model).\n"
     ]
    }
   ],
   "source": [
    "model = mt.MultiWithDependencies(model_conf,vocab).to(device)\n",
    "save_path='m1_bert_multi_pos'"
   ]
  },
  {
   "cell_type": "code",
   "execution_count": 13,
   "metadata": {},
   "outputs": [
    {
     "name": "stdout",
     "output_type": "stream",
     "text": [
      "Accuracy evaluando en todas las etiquetas\n",
      "{'to': 0.5164141414141414, 'as': 0.5202086049543677, 'about': 0.5038265306122449}\n",
      "Accuracy evaluando en etiquetas female\n",
      "{'to': 0.04461942257217848, 'as': 0.07277628032345014, 'about': 0.065}\n",
      "Accuracy evaluando en etiquetas male\n",
      "{'to': 0.9537712895377128, 'as': 0.9393939393939394, 'about': 0.9609375}\n"
     ]
    }
   ],
   "source": [
    "print(\"Accuracy evaluando en todas las etiquetas\")\n",
    "print(train.eval_function_multi(model,dl_eval,tasks))\n",
    "print(\"Accuracy evaluando en etiquetas female\")\n",
    "print(train.eval_function_multi(model,dl_eval,tasks,'female'))\n",
    "print(\"Accuracy evaluando en etiquetas male\")\n",
    "print(train.eval_function_multi(model,dl_eval,tasks,'male'))"
   ]
  },
  {
   "cell_type": "code",
   "execution_count": 14,
   "metadata": {},
   "outputs": [
    {
     "data": {
      "application/vnd.jupyter.widget-view+json": {
       "model_id": "cd612a25aa3f4db5a0998cd0e493410b",
       "version_major": 2,
       "version_minor": 0
      },
      "text/plain": [
       "  0%|          | 0/57400 [00:00<?, ?it/s]"
      ]
     },
     "metadata": {},
     "output_type": "display_data"
    },
    {
     "name": "stdout",
     "output_type": "stream",
     "text": [
      "Epoch 1 \t Training loss: 2.07800274402007 \t Validation loss: 2.07636328470909 \t \n",
      "  1%|          | 574/57400 [01:27<2:19:01,  6.81it/s]\n",
      "Epoch 2 \t Training loss: 2.0673281851545857 \t Validation loss: 2.0622469085758017 \t \n",
      "  2%|▏         | 1148/57400 [03:02<2:20:52,  6.66it/s]\n",
      "Epoch 3 \t Training loss: 2.048929738458441 \t Validation loss: 2.0367930864883683 \t \n",
      "  3%|▎         | 1722/57400 [04:34<2:12:03,  7.03it/s]\n",
      "Epoch 4 \t Training loss: 2.018690070208772 \t Validation loss: 2.018612914166208 \t \n",
      "  4%|▍         | 2296/57400 [06:07<2:12:33,  6.93it/s]\n",
      "Epoch 5 \t Training loss: 2.002906844175651 \t Validation loss: 2.00453049651647 \t \n",
      "  5%|▌         | 2870/57400 [07:40<2:19:41,  6.51it/s]\n",
      "Epoch 6 \t Training loss: 1.9923566023231798 \t Validation loss: 1.9903646081180897 \t \n",
      "  6%|▌         | 3444/57400 [09:13<2:25:38,  6.17it/s]\n",
      "Epoch 7 \t Training loss: 1.9887796733852878 \t Validation loss: 1.9977570004382377 \t \n",
      "\n",
      "1 epoch without improvement\n",
      "  7%|▋         | 4018/57400 [10:45<2:21:22,  6.29it/s]\n",
      "Epoch 8 \t Training loss: 1.9842247202836678 \t Validation loss: 1.9899098125554748 \t \n",
      "  8%|▊         | 4592/57400 [12:18<2:17:55,  6.38it/s]\n",
      "Epoch 9 \t Training loss: 1.9821572557143634 \t Validation loss: 1.9867109282542084 \t \n",
      "  9%|▉         | 5166/57400 [13:51<2:05:28,  6.94it/s]\n",
      "Epoch 10 \t Training loss: 1.978241175932336 \t Validation loss: 1.9821957087112685 \t \n",
      " 10%|█         | 5740/57400 [15:24<2:08:26,  6.70it/s]\n",
      "Epoch 11 \t Training loss: 1.9793092446460125 \t Validation loss: 1.9898517980413921 \t \n",
      "\n",
      "1 epoch without improvement\n",
      " 11%|█         | 6314/57400 [16:56<2:03:15,  6.91it/s]\n",
      "Epoch 12 \t Training loss: 1.976818202264633 \t Validation loss: 1.9818767369803736 \t \n",
      " 12%|█▏        | 6888/57400 [18:25<2:07:58,  6.58it/s]\n",
      "Epoch 13 \t Training loss: 1.9758222123887066 \t Validation loss: 1.9847065937721122 \t \n",
      "\n",
      "1 epoch without improvement\n",
      " 13%|█▎        | 7462/57400 [19:53<2:05:10,  6.65it/s]\n",
      "Epoch 14 \t Training loss: 1.973105596540697 \t Validation loss: 1.9767551644373749 \t \n",
      " 14%|█▍        | 8036/57400 [21:21<2:00:22,  6.83it/s]\n",
      "Epoch 15 \t Training loss: 1.9726631111799633 \t Validation loss: 1.9849897946341564 \t \n",
      "\n",
      "1 epoch without improvement\n",
      " 15%|█▌        | 8610/57400 [22:49<2:04:57,  6.51it/s]\n",
      "Epoch 16 \t Training loss: 1.9705781542050298 \t Validation loss: 1.9746369891247506 \t \n",
      " 16%|█▌        | 9184/57400 [24:17<2:12:05,  6.08it/s]\n",
      "Epoch 17 \t Training loss: 1.9716799030735932 \t Validation loss: 1.9818405983811718 \t \n",
      "\n",
      "1 epoch without improvement\n",
      " 17%|█▋        | 9758/57400 [25:44<1:54:43,  6.92it/s]\n",
      "Epoch 18 \t Training loss: 1.968873019002456 \t Validation loss: 1.9827261961112588 \t \n",
      "\n",
      "2 epoch without improvement\n",
      " 18%|█▊        | 10332/57400 [27:12<2:07:10,  6.17it/s]\n",
      "Epoch 19 \t Training loss: 1.971266308312632 \t Validation loss: 1.973373845472174 \t \n",
      " 19%|█▉        | 10906/57400 [28:40<1:53:10,  6.85it/s]\n",
      "Epoch 20 \t Training loss: 1.9678514927937178 \t Validation loss: 1.982829750594446 \t \n",
      "\n",
      "1 epoch without improvement\n",
      " 20%|██        | 11480/57400 [30:07<1:45:31,  7.25it/s]\n",
      "Epoch 21 \t Training loss: 1.9680545203361777 \t Validation loss: 1.9852818998239807 \t \n",
      "\n",
      "2 epoch without improvement\n",
      " 21%|██        | 12054/57400 [31:35<1:45:02,  7.20it/s]\n",
      "Epoch 22 \t Training loss: 1.9678771821879344 \t Validation loss: 1.9783670619382696 \t \n",
      "\n",
      "3 epoch without improvement\n",
      " 22%|██▏       | 12628/57400 [33:02<1:54:55,  6.49it/s]\n",
      "Epoch 23 \t Training loss: 1.9654259810464307 \t Validation loss: 1.978452290518809 \t \n",
      "\n",
      "4 epoch without improvement\n",
      " 23%|██▎       | 13202/57400 [34:30<1:40:52,  7.30it/s]\n",
      "Epoch 24 \t Training loss: 1.9654575395251817 \t Validation loss: 1.9846334841291784 \t \n",
      "\n",
      "5 epoch without improvement\n",
      " 24%|██▍       | 13776/57400 [35:58<1:48:28,  6.70it/s]\n",
      "Epoch 25 \t Training loss: 1.9665424248482708 \t Validation loss: 1.983637838040368 \t \n",
      "\n",
      "6 epoch without improvement\n",
      " 25%|██▌       | 14350/57400 [37:26<1:45:39,  6.79it/s]\n",
      "Epoch 26 \t Training loss: 1.9674058485944927 \t Validation loss: 1.9798317400075622 \t \n",
      "\n",
      "7 epoch without improvement\n",
      " 26%|██▌       | 14924/57400 [38:53<1:40:46,  7.02it/s]\n",
      "Epoch 27 \t Training loss: 1.9643922556152742 \t Validation loss: 1.9756989438655013 \t \n",
      "\n",
      "8 epoch without improvement\n",
      " 27%|██▋       | 15498/57400 [40:21<1:46:10,  6.58it/s]\n",
      "Epoch 28 \t Training loss: 1.9643455922395925 \t Validation loss: 1.972980610394882 \t \n",
      " 28%|██▊       | 16072/57400 [41:48<1:37:22,  7.07it/s]\n",
      "Epoch 29 \t Training loss: 1.9635036124584981 \t Validation loss: 1.976836588423131 \t \n",
      "\n",
      "1 epoch without improvement\n",
      " 29%|██▉       | 16646/57400 [43:16<1:50:34,  6.14it/s]\n",
      "Epoch 30 \t Training loss: 1.9621643291117838 \t Validation loss: 1.9714902982873432 \t \n",
      " 30%|███       | 17220/57400 [44:43<1:42:36,  6.53it/s]\n",
      "Epoch 31 \t Training loss: 1.961805080910593 \t Validation loss: 1.978052187774141 \t \n",
      "\n",
      "1 epoch without improvement\n",
      " 31%|███       | 17794/57400 [46:11<1:33:07,  7.09it/s]\n",
      "Epoch 32 \t Training loss: 1.9650179421860166 \t Validation loss: 1.970574779025579 \t \n",
      " 32%|███▏      | 18368/57400 [47:38<1:34:36,  6.88it/s]\n",
      "Epoch 33 \t Training loss: 1.9616275759939532 \t Validation loss: 1.9716552698006065 \t \n",
      "\n",
      "1 epoch without improvement\n",
      " 33%|███▎      | 18942/57400 [49:06<1:33:37,  6.85it/s]\n",
      "Epoch 34 \t Training loss: 1.960763297429899 \t Validation loss: 1.976484533083641 \t \n",
      "\n",
      "2 epoch without improvement\n",
      " 34%|███▍      | 19516/57400 [50:33<1:30:27,  6.98it/s]\n",
      "Epoch 35 \t Training loss: 1.9635606505729595 \t Validation loss: 1.9711073576393774 \t \n",
      " 35%|███▌      | 20090/57400 [52:01<1:29:45,  6.93it/s]\n",
      "Epoch 36 \t Training loss: 1.9617390441562241 \t Validation loss: 1.9719821780414906 \t \n",
      "\n",
      "3 epoch without improvement\n",
      " 36%|███▌      | 20664/57400 [53:29<1:32:39,  6.61it/s]\n",
      "Epoch 37 \t Training loss: 1.9604102173748748 \t Validation loss: 1.9826735338922274 \t \n",
      "\n",
      "4 epoch without improvement\n",
      " 37%|███▋      | 21238/57400 [54:56<1:28:48,  6.79it/s]\n",
      "Epoch 38 \t Training loss: 1.958348310367571 \t Validation loss: 1.9702636448003479 \t \n",
      " 38%|███▊      | 21812/57400 [56:24<1:30:24,  6.56it/s]\n",
      "Epoch 39 \t Training loss: 1.960144366952185 \t Validation loss: 1.9789552688598633 \t \n",
      "\n",
      "1 epoch without improvement\n",
      " 39%|███▉      | 22386/57400 [57:52<1:24:46,  6.88it/s]\n",
      "Epoch 40 \t Training loss: 1.9600425607651368 \t Validation loss: 1.973006925340426 \t \n",
      "\n",
      "2 epoch without improvement\n",
      " 40%|████      | 22960/57400 [59:19<1:27:11,  6.58it/s]\n",
      "Epoch 41 \t Training loss: 1.9610000834232424 \t Validation loss: 1.9715025142087774 \t \n",
      "\n",
      "3 epoch without improvement\n",
      " 41%|████      | 23534/57400 [1:00:47<1:26:08,  6.55it/s]\n",
      "Epoch 42 \t Training loss: 1.9610659372100432 \t Validation loss: 1.9774250660912465 \t \n",
      "\n",
      "4 epoch without improvement\n",
      " 42%|████▏     | 24108/57400 [1:02:14<1:21:29,  6.81it/s]\n",
      "Epoch 43 \t Training loss: 1.9593328337220781 \t Validation loss: 1.971176163624909 \t \n",
      " 43%|████▎     | 24682/57400 [1:03:42<1:21:20,  6.70it/s]\n",
      "Epoch 44 \t Training loss: 1.9573433604805313 \t Validation loss: 1.9730360689809767 \t \n",
      "\n",
      "5 epoch without improvement\n",
      " 44%|████▍     | 25256/57400 [1:05:09<1:18:15,  6.85it/s]\n",
      "Epoch 45 \t Training loss: 1.9575883472007327 \t Validation loss: 1.960546095492476 \t \n",
      " 45%|████▌     | 25830/57400 [1:06:38<1:43:04,  5.10it/s]\n",
      "Epoch 46 \t Training loss: 1.9574120192162252 \t Validation loss: 1.9690606695110515 \t \n",
      "\n",
      "1 epoch without improvement\n",
      " 46%|████▌     | 26404/57400 [1:08:05<1:18:43,  6.56it/s]\n",
      "Epoch 47 \t Training loss: 1.9560581863134165 \t Validation loss: 1.9726986440561585 \t \n",
      "\n",
      "2 epoch without improvement\n",
      " 47%|████▋     | 26978/57400 [1:09:33<1:12:53,  6.96it/s]\n",
      "Epoch 48 \t Training loss: 1.9570339473697782 \t Validation loss: 1.972184797464791 \t \n",
      "\n",
      "3 epoch without improvement\n",
      " 48%|████▊     | 27552/57400 [1:11:00<1:12:36,  6.85it/s]\n",
      "Epoch 49 \t Training loss: 1.958412184532511 \t Validation loss: 1.9662795814417175 \t \n",
      "\n",
      "4 epoch without improvement\n",
      " 49%|████▉     | 28126/57400 [1:12:27<1:13:15,  6.66it/s]\n",
      "Epoch 50 \t Training loss: 1.957834739510606 \t Validation loss: 1.9693208326727658 \t \n",
      "\n",
      "5 epoch without improvement\n",
      " 50%|█████     | 28700/57400 [1:13:55<1:12:36,  6.59it/s]\n",
      "Epoch 51 \t Training loss: 1.955613504303457 \t Validation loss: 1.9796749535253493 \t \n",
      "\n",
      "6 epoch without improvement\n",
      " 51%|█████     | 29274/57400 [1:15:22<1:13:41,  6.36it/s]\n",
      "Epoch 52 \t Training loss: 1.9564306623844319 \t Validation loss: 1.9696309121988587 \t \n",
      "\n",
      "7 epoch without improvement\n",
      " 52%|█████▏    | 29848/57400 [1:16:49<1:11:01,  6.47it/s]\n",
      "Epoch 53 \t Training loss: 1.957295295876493 \t Validation loss: 1.9663321062669916 \t \n",
      "\n",
      "8 epoch without improvement\n",
      " 53%|█████▎    | 30422/57400 [1:18:17<1:03:12,  7.11it/s]\n",
      "Epoch 54 \t Training loss: 1.958645358941281 \t Validation loss: 1.9652282242047585 \t \n",
      "\n",
      "9 epoch without improvement\n",
      " 54%|█████▍    | 30996/57400 [1:19:44<1:04:08,  6.86it/s]\n",
      "Epoch 55 \t Training loss: 1.95543409515341 \t Validation loss: 1.9788056106890661 \t \n",
      "\n",
      "10 epoch without improvement\n",
      "Validation_loss hasn't improve in 10 epoch. Stopping training after 55 epochs...\n"
     ]
    },
    {
     "data": {
      "image/png": "[encoded data removed]",
      "text/plain": [
       "<Figure size 640x480 with 1 Axes>"
      ]
     },
     "metadata": {},
     "output_type": "display_data"
    }
   ],
   "source": [
    "learning_rate = 5e-5\n",
    "optimizer = SGD(model.parameters(), lr=learning_rate, momentum=0.9)\n",
    "num_epochs = 100\n",
    "train.train_function_multi(model,num_epochs,dl_train,optimizer,early_stop = 10,dl_val = dl_val,save_path=save_path)"
   ]
  },
  {
   "cell_type": "code",
   "execution_count": 15,
   "metadata": {},
   "outputs": [
    {
     "name": "stderr",
     "output_type": "stream",
     "text": [
      "Some weights of the model checkpoint at bert-base-cased were not used when initializing BertModel: ['cls.seq_relationship.bias', 'cls.predictions.transform.dense.weight', 'cls.seq_relationship.weight', 'cls.predictions.transform.LayerNorm.weight', 'cls.predictions.decoder.weight', 'cls.predictions.bias', 'cls.predictions.transform.LayerNorm.bias', 'cls.predictions.transform.dense.bias']\n",
      "- This IS expected if you are initializing BertModel from the checkpoint of a model trained on another task or with another architecture (e.g. initializing a BertForSequenceClassification model from a BertForPreTraining model).\n",
      "- This IS NOT expected if you are initializing BertModel from the checkpoint of a model that you expect to be exactly identical (initializing a BertForSequenceClassification model from a BertForSequenceClassification model).\n"
     ]
    },
    {
     "name": "stdout",
     "output_type": "stream",
     "text": [
      "Accuracy evaluando en todas las etiquetas\n",
      "{'to': 0.7121212121212122, 'as': 0.7431551499348109, 'about': 0.8507653061224489}\n",
      "Accuracy evaluando en etiquetas female\n",
      "{'to': 0.6929133858267716, 'as': 0.7439353099730458, 'about': 0.8525}\n",
      "Accuracy evaluando en etiquetas male\n",
      "{'to': 0.7299270072992701, 'as': 0.7424242424242424, 'about': 0.8489583333333334}\n"
     ]
    }
   ],
   "source": [
    "model = mt.MultiWithDependencies(model_conf,vocab).to(device)\n",
    "model.load_state_dict(torch.load(save_path))\n",
    "\n",
    "print(\"Accuracy evaluando en todas las etiquetas\")\n",
    "print(train.eval_function_multi(model,dl_eval,tasks))\n",
    "print(\"Accuracy evaluando en etiquetas female\")\n",
    "print(train.eval_function_multi(model,dl_eval,tasks,'female'))\n",
    "print(\"Accuracy evaluando en etiquetas male\")\n",
    "print(train.eval_function_multi(model,dl_eval,tasks,'male'))"
   ]
  }
 ],
 "metadata": {
  "kernelspec": {
   "display_name": "tfg",
   "language": "python",
   "name": "python3"
  },
  "language_info": {
   "codemirror_mode": {
    "name": "ipython",
    "version": 3
   },
   "file_extension": ".py",
   "mimetype": "text/x-python",
   "name": "python",
   "nbconvert_exporter": "python",
   "pygments_lexer": "ipython3",
   "version": "3.9.13"
  },
  "orig_nbformat": 4,
  "vscode": {
   "interpreter": {
    "hash": "35e8332e99bdf485583869dfbdef293dcf2f9293b1663ec5daea0a573af457c3"
   }
  }
 },
 "nbformat": 4,
 "nbformat_minor": 2
}
