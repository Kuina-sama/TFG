{
 "cells": [
  {
   "cell_type": "code",
   "execution_count": 1,
   "metadata": {},
   "outputs": [],
   "source": [
    "import torch\n",
    "from torch.utils.data import DataLoader\n",
    "from torch.optim import SGD ,AdamW\n",
    "\n",
    "from datasets import load_dataset, load_metric\n",
    "\n",
    "import matplotlib.pyplot as plt\n",
    "\n",
    "import json\n"
   ]
  },
  {
   "cell_type": "code",
   "execution_count": 2,
   "metadata": {},
   "outputs": [],
   "source": [
    "import utils_generic as generic\n",
    "import multitask_dep as mt\n",
    "import model_confs as confs\n",
    "import train_dep as train"
   ]
  },
  {
   "cell_type": "code",
   "execution_count": 3,
   "metadata": {},
   "outputs": [],
   "source": [
    "device = torch.device(\"cuda\") if torch.cuda.is_available() else torch.device(\"cpu\")\n",
    "torch.manual_seed(27)\n",
    "tasks = ['to','as','about']"
   ]
  },
  {
   "cell_type": "code",
   "execution_count": 4,
   "metadata": {},
   "outputs": [],
   "source": [
    "model_conf = confs.bert_conf\n",
    "encoding_type = 'brk'"
   ]
  },
  {
   "attachments": {},
   "cell_type": "markdown",
   "metadata": {},
   "source": [
    "# Datos ConvAI"
   ]
  },
  {
   "cell_type": "code",
   "execution_count": 5,
   "metadata": {},
   "outputs": [],
   "source": [
    "with open('Datasets\\ConvAI2\\convai2_complete.json','r') as f:\n",
    "    data = json.load(f)"
   ]
  },
  {
   "cell_type": "code",
   "execution_count": 6,
   "metadata": {},
   "outputs": [],
   "source": [
    "vocab = mt.Vocabulary(data['train'],encoding_type)"
   ]
  },
  {
   "cell_type": "code",
   "execution_count": 7,
   "metadata": {},
   "outputs": [],
   "source": [
    "convai_train = data['train']\n",
    "convai_val = data['validation']\n",
    "\n",
    "\n",
    "\n",
    "convai_train_token = generic.tokenize_dataset_with_dependencies(convai_train,['about','to','as'],vocab,model_conf) \n",
    "convai_val_token = generic.tokenize_dataset_with_dependencies(convai_val,['about','to','as'],vocab,model_conf) "
   ]
  },
  {
   "cell_type": "code",
   "execution_count": 8,
   "metadata": {},
   "outputs": [],
   "source": [
    "convai_train_dataset = mt.DatasetMultitaskDep(convai_train_token,tasks,eval=False)\n",
    "convai_val_dataset = mt.DatasetMultitaskDep(convai_val_token,tasks,eval=False)"
   ]
  },
  {
   "attachments": {},
   "cell_type": "markdown",
   "metadata": {},
   "source": [
    "# Datos md_gender"
   ]
  },
  {
   "cell_type": "code",
   "execution_count": 9,
   "metadata": {},
   "outputs": [],
   "source": [
    "with open('Datasets\\md_gender\\md_complete.json','r',encoding=\"utf8\") as f:\n",
    "    md_data = json.load(f)"
   ]
  },
  {
   "cell_type": "code",
   "execution_count": 10,
   "metadata": {},
   "outputs": [],
   "source": [
    "md_tokenized = generic.tokenize_dataset_with_dependencies(md_data,['about','to','as'],vocab,model_conf) \n",
    "md_dataset = mt.DatasetMultitaskDep(md_tokenized,tasks,eval=True)"
   ]
  },
  {
   "attachments": {},
   "cell_type": "markdown",
   "metadata": {},
   "source": [
    "# Creación dataloaders"
   ]
  },
  {
   "cell_type": "code",
   "execution_count": 11,
   "metadata": {},
   "outputs": [],
   "source": [
    "dl_train =DataLoader(convai_train_dataset,batch_size=128,shuffle=True,collate_fn=mt.collate_fn)\n",
    "dl_val =DataLoader(convai_val_dataset,batch_size=128,shuffle=True,collate_fn=mt.collate_fn)\n",
    "dl_eval = DataLoader(md_dataset,batch_size=128,shuffle=False,collate_fn=mt.collate_fn)"
   ]
  },
  {
   "attachments": {},
   "cell_type": "markdown",
   "metadata": {},
   "source": [
    "# Modelo multitask"
   ]
  },
  {
   "cell_type": "code",
   "execution_count": 12,
   "metadata": {},
   "outputs": [
    {
     "name": "stderr",
     "output_type": "stream",
     "text": [
      "Some weights of the model checkpoint at bert-base-cased were not used when initializing BertModel: ['cls.seq_relationship.bias', 'cls.predictions.transform.dense.weight', 'cls.predictions.transform.LayerNorm.bias', 'cls.seq_relationship.weight', 'cls.predictions.bias', 'cls.predictions.decoder.weight', 'cls.predictions.transform.dense.bias', 'cls.predictions.transform.LayerNorm.weight']\n",
      "- This IS expected if you are initializing BertModel from the checkpoint of a model trained on another task or with another architecture (e.g. initializing a BertForSequenceClassification model from a BertForPreTraining model).\n",
      "- This IS NOT expected if you are initializing BertModel from the checkpoint of a model that you expect to be exactly identical (initializing a BertForSequenceClassification model from a BertForSequenceClassification model).\n"
     ]
    }
   ],
   "source": [
    "model = mt.MultiWithDependencies(model_conf,vocab).to(device)\n",
    "save_path='m1_bert_multi_brk'"
   ]
  },
  {
   "cell_type": "code",
   "execution_count": 13,
   "metadata": {},
   "outputs": [
    {
     "name": "stdout",
     "output_type": "stream",
     "text": [
      "Accuracy evaluando en todas las etiquetas\n",
      "{'to': 0.5138888888888888, 'as': 0.5228161668839635, 'about': 0.49489795918367346}\n",
      "Accuracy evaluando en etiquetas female\n",
      "{'to': 0.007874015748031496, 'as': 0.0215633423180593, 'about': 0.02}\n",
      "Accuracy evaluando en etiquetas male\n",
      "{'to': 0.9829683698296837, 'as': 0.9924242424242424, 'about': 0.9895833333333334}\n"
     ]
    }
   ],
   "source": [
    "print(\"Accuracy evaluando en todas las etiquetas\")\n",
    "print(train.eval_function_multi(model,dl_eval,tasks))\n",
    "print(\"Accuracy evaluando en etiquetas female\")\n",
    "print(train.eval_function_multi(model,dl_eval,tasks,'female'))\n",
    "print(\"Accuracy evaluando en etiquetas male\")\n",
    "print(train.eval_function_multi(model,dl_eval,tasks,'male'))"
   ]
  },
  {
   "cell_type": "code",
   "execution_count": 14,
   "metadata": {},
   "outputs": [
    {
     "data": {
      "application/vnd.jupyter.widget-view+json": {
       "model_id": "c612fa26b053434883bb5a69c1b0e859",
       "version_major": 2,
       "version_minor": 0
      },
      "text/plain": [
       "  0%|          | 0/57400 [00:00<?, ?it/s]"
      ]
     },
     "metadata": {},
     "output_type": "display_data"
    },
    {
     "name": "stdout",
     "output_type": "stream",
     "text": [
      "Epoch 1 \t Training loss: 2.0792619787442144 \t Validation loss: 2.0767389838978394 \t \n",
      "  1%|          | 574/57400 [01:23<2:08:19,  7.38it/s]\n",
      "Epoch 2 \t Training loss: 2.067756075061572 \t Validation loss: 2.0651913254947987 \t \n",
      "  2%|▏         | 1148/57400 [02:49<2:14:57,  6.95it/s]\n",
      "Epoch 3 \t Training loss: 2.0494719162219908 \t Validation loss: 2.0383987911676957 \t \n",
      "  3%|▎         | 1722/57400 [04:15<2:19:03,  6.67it/s]\n",
      "Epoch 4 \t Training loss: 2.020738629721598 \t Validation loss: 2.017652735871784 \t \n",
      "  4%|▍         | 2296/57400 [05:41<2:16:56,  6.71it/s]\n",
      "Epoch 5 \t Training loss: 2.0013156076341554 \t Validation loss: 2.0002941398297325 \t \n",
      "  5%|▌         | 2870/57400 [07:08<2:16:12,  6.67it/s]\n",
      "Epoch 6 \t Training loss: 1.9942437503811374 \t Validation loss: 1.991139120974783 \t \n",
      "  6%|▌         | 3444/57400 [08:35<2:04:40,  7.21it/s]\n",
      "Epoch 7 \t Training loss: 1.986913641986116 \t Validation loss: 1.9932929620904438 \t \n",
      "\n",
      "1 epoch without improvement\n",
      "  7%|▋         | 4018/57400 [10:01<2:18:59,  6.40it/s]\n",
      "Epoch 8 \t Training loss: 1.986042572646191 \t Validation loss: 1.9895399909908489 \t \n",
      "  8%|▊         | 4592/57400 [11:27<2:09:36,  6.79it/s]\n",
      "Epoch 9 \t Training loss: 1.9819478041618959 \t Validation loss: 1.9921237331325725 \t \n",
      "\n",
      "1 epoch without improvement\n",
      "  9%|▉         | 5166/57400 [12:53<2:11:31,  6.62it/s]\n",
      "Epoch 10 \t Training loss: 1.980137364789584 \t Validation loss: 1.9864691859584744 \t \n",
      " 10%|█         | 5740/57400 [14:20<2:03:32,  6.97it/s]\n",
      "Epoch 11 \t Training loss: 1.9807395498927047 \t Validation loss: 1.9859023174997104 \t \n",
      " 11%|█         | 6314/57400 [15:47<2:07:22,  6.68it/s]\n",
      "Epoch 12 \t Training loss: 1.976193639044147 \t Validation loss: 1.9850049786648507 \t \n",
      " 12%|█▏        | 6888/57400 [17:13<2:02:03,  6.90it/s]\n",
      "Epoch 13 \t Training loss: 1.9747480370026431 \t Validation loss: 1.983645657361564 \t \n",
      " 13%|█▎        | 7462/57400 [18:38<1:59:50,  6.94it/s]\n",
      "Epoch 14 \t Training loss: 1.9730358568218112 \t Validation loss: 1.9819909576642312 \t \n",
      " 14%|█▍        | 8036/57400 [20:03<1:51:58,  7.35it/s]\n",
      "Epoch 15 \t Training loss: 1.9736129321703098 \t Validation loss: 1.9763271707599446 \t \n",
      " 15%|█▌        | 8610/57400 [21:28<1:48:38,  7.48it/s]\n",
      "Epoch 16 \t Training loss: 1.9722400087512744 \t Validation loss: 1.9808360216981273 \t \n",
      "\n",
      "1 epoch without improvement\n",
      " 16%|█▌        | 9184/57400 [22:52<1:55:40,  6.95it/s]\n",
      "Epoch 17 \t Training loss: 1.9697562057382139 \t Validation loss: 1.9825021675077534 \t \n",
      "\n",
      "2 epoch without improvement\n",
      " 17%|█▋        | 9758/57400 [24:17<1:47:36,  7.38it/s]\n",
      "Epoch 18 \t Training loss: 1.9709356520649448 \t Validation loss: 1.976632138430062 \t \n",
      " 18%|█▊        | 10332/57400 [25:41<1:52:48,  6.95it/s]\n",
      "Epoch 19 \t Training loss: 1.969018458904705 \t Validation loss: 1.9785493854749001 \t \n",
      "\n",
      "3 epoch without improvement\n",
      " 19%|█▉        | 10906/57400 [27:05<1:43:01,  7.52it/s]\n",
      "Epoch 20 \t Training loss: 1.9696637080521533 \t Validation loss: 1.9796093096167355 \t \n",
      "\n",
      "4 epoch without improvement\n",
      " 20%|██        | 11480/57400 [28:29<1:50:59,  6.90it/s]\n",
      "Epoch 21 \t Training loss: 1.9661492310749944 \t Validation loss: 1.9780090178473522 \t \n",
      "\n",
      "5 epoch without improvement\n",
      " 21%|██        | 12054/57400 [29:54<1:44:18,  7.25it/s]\n",
      "Epoch 22 \t Training loss: 1.9694749156357103 \t Validation loss: 1.976457557435763 \t \n",
      " 22%|██▏       | 12628/57400 [31:18<1:43:10,  7.23it/s]\n",
      "Epoch 23 \t Training loss: 1.9664817228134501 \t Validation loss: 1.9809389680118885 \t \n",
      "\n",
      "6 epoch without improvement\n",
      " 23%|██▎       | 13202/57400 [32:43<1:40:08,  7.36it/s]\n",
      "Epoch 24 \t Training loss: 1.9653814216939414 \t Validation loss: 1.9748594558845132 \t \n",
      " 24%|██▍       | 13776/57400 [34:07<1:34:37,  7.68it/s]\n",
      "Epoch 25 \t Training loss: 1.9660921188181701 \t Validation loss: 1.9712795544478854 \t \n",
      " 25%|██▌       | 14350/57400 [35:33<1:43:30,  6.93it/s]\n",
      "Epoch 26 \t Training loss: 1.9643728733062744 \t Validation loss: 1.9769192610756825 \t \n",
      "\n",
      "1 epoch without improvement\n",
      " 26%|██▌       | 14924/57400 [36:57<2:13:25,  5.31it/s]\n",
      "Epoch 27 \t Training loss: 1.9640651166646739 \t Validation loss: 1.976475052914377 \t \n",
      "\n",
      "2 epoch without improvement\n",
      " 27%|██▋       | 15498/57400 [38:21<1:35:12,  7.34it/s]\n",
      "Epoch 28 \t Training loss: 1.9654115770752005 \t Validation loss: 1.976177603511487 \t \n",
      "\n",
      "3 epoch without improvement\n",
      " 28%|██▊       | 16072/57400 [39:48<1:49:41,  6.28it/s]\n",
      "Epoch 29 \t Training loss: 1.9637811985580764 \t Validation loss: 1.978142289792077 \t \n",
      "\n",
      "4 epoch without improvement\n",
      " 29%|██▉       | 16646/57400 [41:16<1:42:12,  6.65it/s]\n",
      "Epoch 30 \t Training loss: 1.9638488290617275 \t Validation loss: 1.976654141636218 \t \n",
      "\n",
      "5 epoch without improvement\n",
      " 30%|███       | 17220/57400 [42:43<1:40:15,  6.68it/s]\n",
      "Epoch 31 \t Training loss: 1.9640065039076455 \t Validation loss: 1.9703876163999914 \t \n",
      " 31%|███       | 17794/57400 [44:10<1:32:23,  7.14it/s]\n",
      "Epoch 32 \t Training loss: 1.961705827754549 \t Validation loss: 1.9781053571377771 \t \n",
      "\n",
      "1 epoch without improvement\n",
      " 32%|███▏      | 18368/57400 [45:36<1:26:31,  7.52it/s]\n",
      "Epoch 33 \t Training loss: 1.9610802155338514 \t Validation loss: 1.9791732521380407 \t \n",
      "\n",
      "2 epoch without improvement\n",
      " 33%|███▎      | 18942/57400 [47:02<1:40:50,  6.36it/s]\n",
      "Epoch 34 \t Training loss: 1.961785140145531 \t Validation loss: 1.9701079231197551 \t \n",
      " 34%|███▍      | 19516/57400 [48:29<1:28:28,  7.14it/s]\n",
      "Epoch 35 \t Training loss: 1.9601289596707148 \t Validation loss: 1.9705743062294137 \t \n",
      " 35%|███▌      | 20090/57400 [49:56<1:37:38,  6.37it/s]\n",
      "Epoch 36 \t Training loss: 1.9596902871381114 \t Validation loss: 1.9669889029809984 \t \n",
      " 36%|███▌      | 20664/57400 [51:23<1:12:13,  8.48it/s]\n",
      "Epoch 37 \t Training loss: 1.9611058424158794 \t Validation loss: 1.9737569235138974 \t \n",
      "\n",
      "1 epoch without improvement\n",
      " 37%|███▋      | 21238/57400 [52:49<1:31:10,  6.61it/s]\n",
      "Epoch 38 \t Training loss: 1.9584632154541148 \t Validation loss: 1.9767654406822335 \t \n",
      "\n",
      "2 epoch without improvement\n",
      " 38%|███▊      | 21812/57400 [54:16<1:18:29,  7.56it/s]\n",
      "Epoch 39 \t Training loss: 1.9592505847120119 \t Validation loss: 1.9727515366117834 \t \n",
      "\n",
      "3 epoch without improvement\n",
      " 39%|███▉      | 22386/57400 [55:41<1:17:01,  7.58it/s]\n",
      "Epoch 40 \t Training loss: 1.9577377226709904 \t Validation loss: 1.9803043927176525 \t \n",
      "\n",
      "4 epoch without improvement\n",
      " 40%|████      | 22960/57400 [57:06<1:23:55,  6.84it/s]\n",
      "Epoch 41 \t Training loss: 1.9593450094764657 \t Validation loss: 1.9700160006345329 \t \n",
      "\n",
      "5 epoch without improvement\n",
      " 41%|████      | 23534/57400 [58:30<1:19:02,  7.14it/s]\n",
      "Epoch 42 \t Training loss: 1.9581613235357331 \t Validation loss: 1.9679323495444605 \t \n",
      " 42%|████▏     | 24108/57400 [59:55<1:16:42,  7.23it/s]\n",
      "Epoch 43 \t Training loss: 1.9591624630868227 \t Validation loss: 1.9801623275724507 \t \n",
      "\n",
      "6 epoch without improvement\n",
      " 43%|████▎     | 24682/57400 [1:01:19<1:12:22,  7.54it/s]\n",
      "Epoch 44 \t Training loss: 1.9562168777612028 \t Validation loss: 1.965343798621226 \t \n",
      " 44%|████▍     | 25256/57400 [1:02:44<1:15:53,  7.06it/s]\n",
      "Epoch 45 \t Training loss: 1.9595102547353154 \t Validation loss: 1.9747083065873485 \t \n",
      "\n",
      "1 epoch without improvement\n",
      " 45%|████▌     | 25830/57400 [1:04:09<1:18:13,  6.73it/s]\n",
      "Epoch 46 \t Training loss: 1.9588994369274233 \t Validation loss: 1.9699742531372328 \t \n",
      "\n",
      "2 epoch without improvement\n",
      " 46%|████▌     | 26404/57400 [1:05:33<1:07:58,  7.60it/s]\n",
      "Epoch 47 \t Training loss: 1.9564266532971053 \t Validation loss: 1.9734434576357824 \t \n",
      "\n",
      "3 epoch without improvement\n",
      " 47%|████▋     | 26978/57400 [1:06:57<1:10:29,  7.19it/s]\n",
      "Epoch 48 \t Training loss: 1.9555540311211908 \t Validation loss: 1.9660272295192136 \t \n",
      " 48%|████▊     | 27552/57400 [1:08:22<1:14:04,  6.72it/s]\n",
      "Epoch 49 \t Training loss: 1.9577382678354243 \t Validation loss: 1.970626034979093 \t \n",
      "\n",
      "4 epoch without improvement\n",
      " 49%|████▉     | 28126/57400 [1:09:46<1:08:00,  7.17it/s]\n",
      "Epoch 50 \t Training loss: 1.956749294900728 \t Validation loss: 1.9745245040473292 \t \n",
      "\n",
      "5 epoch without improvement\n",
      " 50%|█████     | 28700/57400 [1:11:11<57:47,  8.28it/s]\n",
      "Epoch 51 \t Training loss: 1.959034069074571 \t Validation loss: 1.9691725140911038 \t \n",
      "\n",
      "6 epoch without improvement\n",
      " 51%|█████     | 29274/57400 [1:12:35<1:04:31,  7.27it/s]\n",
      "Epoch 52 \t Training loss: 1.9579742285017352 \t Validation loss: 1.9745713048062081 \t \n",
      "\n",
      "7 epoch without improvement\n",
      " 52%|█████▏    | 29848/57400 [1:13:59<1:08:02,  6.75it/s]\n",
      "Epoch 53 \t Training loss: 1.958069540482365 \t Validation loss: 1.9777258270877902 \t \n",
      "\n",
      "8 epoch without improvement\n",
      " 53%|█████▎    | 30422/57400 [1:15:24<1:04:55,  6.93it/s]\n",
      "Epoch 54 \t Training loss: 1.9553475070498132 \t Validation loss: 1.9743487774315527 \t \n",
      "\n",
      "9 epoch without improvement\n",
      " 54%|█████▍    | 30996/57400 [1:16:48<1:01:55,  7.11it/s]\n",
      "Epoch 55 \t Training loss: 1.9563090819930367 \t Validation loss: 1.9722856747902047 \t \n",
      "\n",
      "10 epoch without improvement\n",
      "Validation_loss hasn't improve in 10 epoch. Stopping training after 55 epochs...\n"
     ]
    },
    {
     "data": {
      "image/png": "[encoded data removed]",
      "text/plain": [
       "<Figure size 640x480 with 1 Axes>"
      ]
     },
     "metadata": {},
     "output_type": "display_data"
    }
   ],
   "source": [
    "learning_rate = 5e-5\n",
    "optimizer = SGD(model.parameters(), lr=learning_rate, momentum=0.9)\n",
    "num_epochs = 100\n",
    "train.train_function_multi(model,num_epochs,dl_train,optimizer,early_stop = 10,dl_val = dl_val,save_path=save_path)"
   ]
  },
  {
   "cell_type": "code",
   "execution_count": 15,
   "metadata": {},
   "outputs": [
    {
     "name": "stderr",
     "output_type": "stream",
     "text": [
      "Some weights of the model checkpoint at bert-base-cased were not used when initializing BertModel: ['cls.seq_relationship.bias', 'cls.predictions.transform.dense.weight', 'cls.predictions.transform.LayerNorm.bias', 'cls.seq_relationship.weight', 'cls.predictions.bias', 'cls.predictions.decoder.weight', 'cls.predictions.transform.dense.bias', 'cls.predictions.transform.LayerNorm.weight']\n",
      "- This IS expected if you are initializing BertModel from the checkpoint of a model trained on another task or with another architecture (e.g. initializing a BertForSequenceClassification model from a BertForPreTraining model).\n",
      "- This IS NOT expected if you are initializing BertModel from the checkpoint of a model that you expect to be exactly identical (initializing a BertForSequenceClassification model from a BertForSequenceClassification model).\n"
     ]
    },
    {
     "name": "stdout",
     "output_type": "stream",
     "text": [
      "Accuracy evaluando en todas las etiquetas\n",
      "{'to': 0.7146464646464646, 'as': 0.7457627118644068, 'about': 0.8533163265306123}\n",
      "Accuracy evaluando en etiquetas female\n",
      "{'to': 0.7007874015748031, 'as': 0.7466307277628033, 'about': 0.855}\n",
      "Accuracy evaluando en etiquetas male\n",
      "{'to': 0.7274939172749392, 'as': 0.7449494949494949, 'about': 0.8515625}\n"
     ]
    }
   ],
   "source": [
    "model = mt.MultiWithDependencies(model_conf,vocab).to(device)\n",
    "model.load_state_dict(torch.load(save_path))\n",
    "\n",
    "print(\"Accuracy evaluando en todas las etiquetas\")\n",
    "print(train.eval_function_multi(model,dl_eval,tasks))\n",
    "print(\"Accuracy evaluando en etiquetas female\")\n",
    "print(train.eval_function_multi(model,dl_eval,tasks,'female'))\n",
    "print(\"Accuracy evaluando en etiquetas male\")\n",
    "print(train.eval_function_multi(model,dl_eval,tasks,'male'))"
   ]
  }
 ],
 "metadata": {
  "kernelspec": {
   "display_name": "tfg",
   "language": "python",
   "name": "python3"
  },
  "language_info": {
   "codemirror_mode": {
    "name": "ipython",
    "version": 3
   },
   "file_extension": ".py",
   "mimetype": "text/x-python",
   "name": "python",
   "nbconvert_exporter": "python",
   "pygments_lexer": "ipython3",
   "version": "3.9.13"
  },
  "orig_nbformat": 4,
  "vscode": {
   "interpreter": {
    "hash": "35e8332e99bdf485583869dfbdef293dcf2f9293b1663ec5daea0a573af457c3"
   }
  }
 },
 "nbformat": 4,
 "nbformat_minor": 2
}
