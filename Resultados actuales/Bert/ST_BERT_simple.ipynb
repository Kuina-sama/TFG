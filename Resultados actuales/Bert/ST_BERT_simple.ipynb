{
 "cells": [
  {
   "cell_type": "code",
   "execution_count": 1,
   "metadata": {},
   "outputs": [],
   "source": [
    "import numpy as np\n",
    "import torch\n",
    "\n",
    "\n",
    "import json\n",
    "from torch.utils.data import DataLoader\n",
    "from torch.optim import SGD \n",
    "from torch import nn"
   ]
  },
  {
   "cell_type": "code",
   "execution_count": 2,
   "metadata": {},
   "outputs": [],
   "source": [
    "import utils_generic as generic\n",
    "import singletask_simple as st\n",
    "import model_confs as confs\n",
    "\n",
    "\n",
    "import train"
   ]
  },
  {
   "cell_type": "code",
   "execution_count": 3,
   "metadata": {},
   "outputs": [
    {
     "data": {
      "text/plain": [
       "<torch._C.Generator at 0x244397bf790>"
      ]
     },
     "execution_count": 3,
     "metadata": {},
     "output_type": "execute_result"
    }
   ],
   "source": [
    "device = torch.device(\"cuda\") if torch.cuda.is_available() else torch.device(\"cpu\")\n",
    "torch.manual_seed(27)"
   ]
  },
  {
   "cell_type": "code",
   "execution_count": 4,
   "metadata": {},
   "outputs": [],
   "source": [
    "model_conf = confs.bert_conf"
   ]
  },
  {
   "attachments": {},
   "cell_type": "markdown",
   "metadata": {},
   "source": [
    "# Datos ConvAI2"
   ]
  },
  {
   "cell_type": "code",
   "execution_count": 5,
   "metadata": {},
   "outputs": [],
   "source": [
    "with open('Datasets\\ConvAI2\\convai2_complete.json','r') as f:\n",
    "    data = json.load(f)"
   ]
  },
  {
   "cell_type": "code",
   "execution_count": 6,
   "metadata": {},
   "outputs": [],
   "source": [
    "convai_train = data['train']\n",
    "convai_val = data['validation']\n",
    "\n",
    "\n",
    "\n",
    "convai_train_token = generic.tokenize_dataset(convai_train,['about','to','as'],model_conf) \n",
    "convai_val_token = generic.tokenize_dataset(convai_val,['about','to','as'],model_conf) "
   ]
  },
  {
   "cell_type": "code",
   "execution_count": 7,
   "metadata": {},
   "outputs": [],
   "source": [
    "convai_train_dataset = {}\n",
    "for task in ['to','as','about']:\n",
    "    convai_train_dataset[task] = st.DatasetSingleTaskSimple(convai_train_token,task,eval=False)"
   ]
  },
  {
   "cell_type": "code",
   "execution_count": 8,
   "metadata": {},
   "outputs": [],
   "source": [
    "convai_val_dataset = {}\n",
    "for task in ['to','as','about']:\n",
    "    convai_val_dataset[task] = st.DatasetSingleTaskSimple(convai_val_token,task,eval=False)"
   ]
  },
  {
   "attachments": {},
   "cell_type": "markdown",
   "metadata": {},
   "source": [
    "## Datos md_gender"
   ]
  },
  {
   "cell_type": "code",
   "execution_count": 9,
   "metadata": {},
   "outputs": [],
   "source": [
    "with open('Datasets\\md_gender\\md_complete.json','r',encoding=\"utf8\") as f:\n",
    "    md_data = json.load(f)"
   ]
  },
  {
   "cell_type": "code",
   "execution_count": 10,
   "metadata": {},
   "outputs": [],
   "source": [
    "md_tokenized = generic.tokenize_dataset(md_data,['about','to','as'],model_conf) \n",
    "\n",
    "\n",
    "md_dataset = {}\n",
    "for task in ['to','as','about']:\n",
    "    md_dataset[task] = st.DatasetSingleTaskSimple(md_tokenized,task,eval=True)"
   ]
  },
  {
   "attachments": {},
   "cell_type": "markdown",
   "metadata": {},
   "source": [
    "# Creación dataloaders"
   ]
  },
  {
   "cell_type": "code",
   "execution_count": 11,
   "metadata": {},
   "outputs": [],
   "source": [
    "dl_train = {}\n",
    "for task in ['to','as','about']:\n",
    "    dl_train[task] = DataLoader(convai_train_dataset[task],batch_size=128,shuffle=True,collate_fn=st.collate_fn)"
   ]
  },
  {
   "cell_type": "code",
   "execution_count": 12,
   "metadata": {},
   "outputs": [],
   "source": [
    "dl_val = {}\n",
    "for task in ['to','as','about']:\n",
    "    dl_val[task] = DataLoader(convai_val_dataset[task],batch_size=128,shuffle=True,collate_fn=st.collate_fn)"
   ]
  },
  {
   "cell_type": "code",
   "execution_count": 13,
   "metadata": {},
   "outputs": [],
   "source": [
    "dl_eval = {}\n",
    "for task in ['to','as','about']:\n",
    "    dl_eval[task] = DataLoader(md_dataset[task],batch_size=128,shuffle=False,collate_fn=st.collate_fn)"
   ]
  },
  {
   "attachments": {},
   "cell_type": "markdown",
   "metadata": {},
   "source": [
    "# ABOUT"
   ]
  },
  {
   "cell_type": "code",
   "execution_count": 14,
   "metadata": {},
   "outputs": [
    {
     "data": {
      "application/vnd.jupyter.widget-view+json": {
       "model_id": "145e77eeff8644179c4d0d954a72ece9",
       "version_major": 2,
       "version_minor": 0
      },
      "text/plain": [
       "Downloading (…)\"pytorch_model.bin\";:   0%|          | 0.00/436M [00:00<?, ?B/s]"
      ]
     },
     "metadata": {},
     "output_type": "display_data"
    },
    {
     "name": "stderr",
     "output_type": "stream",
     "text": [
      "Some weights of the model checkpoint at bert-base-cased were not used when initializing BertModel: ['cls.seq_relationship.weight', 'cls.predictions.transform.dense.weight', 'cls.predictions.transform.LayerNorm.bias', 'cls.predictions.transform.LayerNorm.weight', 'cls.predictions.bias', 'cls.predictions.decoder.weight', 'cls.seq_relationship.bias', 'cls.predictions.transform.dense.bias']\n",
      "- This IS expected if you are initializing BertModel from the checkpoint of a model trained on another task or with another architecture (e.g. initializing a BertForSequenceClassification model from a BertForPreTraining model).\n",
      "- This IS NOT expected if you are initializing BertModel from the checkpoint of a model that you expect to be exactly identical (initializing a BertForSequenceClassification model from a BertForSequenceClassification model).\n"
     ]
    }
   ],
   "source": [
    "model = st.SingleTaskSimple(model_conf).to(device)\n",
    "save_path='m1_bert_ABOUT'"
   ]
  },
  {
   "cell_type": "code",
   "execution_count": 15,
   "metadata": {},
   "outputs": [
    {
     "name": "stdout",
     "output_type": "stream",
     "text": [
      "GLOBAL: 0.5025510204081632 \n",
      "\n",
      "Using scikit learn accuracy por género en el conjunto about\n",
      "MALE 0.9635416666666666\n",
      "FEMALE 0.06 \n",
      "\n",
      "GLOBAL: 0.5227272727272727 \n",
      "\n",
      "Using scikit learn accuracy por género en el conjunto to\n",
      "MALE 0.975669099756691\n",
      "FEMALE 0.03412073490813648 \n",
      "\n",
      "GLOBAL: 0.5176010430247718 \n",
      "\n",
      "Using scikit learn accuracy por género en el conjunto as\n",
      "MALE 0.9494949494949495\n",
      "FEMALE 0.05660377358490566 \n",
      "\n"
     ]
    }
   ],
   "source": [
    "for task in ['about','to','as']:\n",
    "    print(f\"GLOBAL: {train.eval_function_single_sk(model,dl_eval[task])}\",'\\n')\n",
    "    print(f\"Using scikit learn accuracy por género en el conjunto {task}\")\n",
    "    print(f\"MALE {train.eval_function_single_sk(model,dl_eval[task],gender='male')}\")\n",
    "    print(f\"FEMALE {train.eval_function_single_sk(model,dl_eval[task],gender='female')}\",'\\n')"
   ]
  },
  {
   "cell_type": "code",
   "execution_count": 16,
   "metadata": {},
   "outputs": [
    {
     "data": {
      "application/vnd.jupyter.widget-view+json": {
       "model_id": "3c9c49e6ab0348daa96d9643a8ca8454",
       "version_major": 2,
       "version_minor": 0
      },
      "text/plain": [
       "  0%|          | 0/57400 [00:00<?, ?it/s]"
      ]
     },
     "metadata": {},
     "output_type": "display_data"
    },
    {
     "name": "stdout",
     "output_type": "stream",
     "text": [
      "Epoch 1 \t Training loss: 0.6808553941366149 \t Validation loss: 0.6766693541559122 \t \n",
      "  1%|          | 574/57400 [01:22<1:53:44,  8.33it/s]\n",
      "Epoch 2 \t Training loss: 0.6698202467961594 \t Validation loss: 0.6601083713062739 \t \n",
      "  2%|▏         | 1148/57400 [02:46<2:10:20,  7.19it/s]\n",
      "Epoch 3 \t Training loss: 0.6404032520300835 \t Validation loss: 0.6060810129521257 \t \n",
      "  3%|▎         | 1722/57400 [04:10<1:59:19,  7.78it/s]\n",
      "Epoch 4 \t Training loss: 0.5580775114717383 \t Validation loss: 0.4991677191297887 \t \n",
      "  4%|▍         | 2296/57400 [05:35<2:15:37,  6.77it/s]\n",
      "Epoch 5 \t Training loss: 0.47007232224276674 \t Validation loss: 0.4305276446423288 \t \n",
      "  5%|▌         | 2870/57400 [06:59<2:09:18,  7.03it/s]\n",
      "Epoch 6 \t Training loss: 0.42126089100846015 \t Validation loss: 0.3934437233512684 \t \n",
      "  6%|▌         | 3444/57400 [08:25<2:06:19,  7.12it/s]\n",
      "Epoch 7 \t Training loss: 0.3955204304087037 \t Validation loss: 0.37299240443666104 \t \n",
      "  7%|▋         | 4018/57400 [09:54<2:12:06,  6.73it/s]\n",
      "Epoch 8 \t Training loss: 0.38072722142997106 \t Validation loss: 0.3610192714101177 \t \n",
      "  8%|▊         | 4592/57400 [11:19<2:04:48,  7.05it/s]\n",
      "Epoch 9 \t Training loss: 0.36916912264005647 \t Validation loss: 0.35326138037746235 \t \n",
      "  9%|▉         | 5166/57400 [12:44<2:00:50,  7.20it/s]\n",
      "Epoch 10 \t Training loss: 0.3603633503569128 \t Validation loss: 0.3451837831634586 \t \n",
      " 10%|█         | 5740/57400 [14:09<2:03:03,  7.00it/s]\n",
      "Epoch 11 \t Training loss: 0.3513373230236748 \t Validation loss: 0.33896186670004314 \t \n",
      " 11%|█         | 6314/57400 [15:34<2:00:11,  7.08it/s]\n",
      "Epoch 12 \t Training loss: 0.345242942719094 \t Validation loss: 0.3365591148198661 \t \n",
      " 12%|█▏        | 6888/57400 [16:55<1:43:32,  8.13it/s]\n",
      "Epoch 13 \t Training loss: 0.3402294504362116 \t Validation loss: 0.33138439488613 \t \n",
      " 13%|█▎        | 7462/57400 [18:16<1:56:40,  7.13it/s]\n",
      "Epoch 14 \t Training loss: 0.3341631737476027 \t Validation loss: 0.3313147966134346 \t \n",
      " 14%|█▍        | 8036/57400 [19:38<1:51:40,  7.37it/s]\n",
      "Epoch 15 \t Training loss: 0.3293888652470054 \t Validation loss: 0.3262644299006058 \t \n",
      " 15%|█▌        | 8610/57400 [20:59<1:36:13,  8.45it/s]\n",
      "Epoch 16 \t Training loss: 0.3245617661118923 \t Validation loss: 0.32316638301994843 \t \n",
      " 16%|█▌        | 9184/57400 [22:21<1:48:45,  7.39it/s]\n",
      "Epoch 17 \t Training loss: 0.3212086942812707 \t Validation loss: 0.3210096177408251 \t \n",
      " 17%|█▋        | 9758/57400 [23:42<1:43:05,  7.70it/s]\n",
      "Epoch 18 \t Training loss: 0.3161567067954598 \t Validation loss: 0.3176256395497565 \t \n",
      " 18%|█▊        | 10332/57400 [25:04<1:29:01,  8.81it/s]\n",
      "Epoch 19 \t Training loss: 0.31351696242957994 \t Validation loss: 0.315755811535706 \t \n",
      " 19%|█▉        | 10906/57400 [26:26<1:43:51,  7.46it/s]\n",
      "Epoch 20 \t Training loss: 0.3094265548453929 \t Validation loss: 0.31571648812900155 \t \n",
      " 20%|██        | 11480/57400 [27:47<1:43:57,  7.36it/s]\n",
      "Epoch 21 \t Training loss: 0.3057482539569044 \t Validation loss: 0.31157282525199953 \t \n",
      " 21%|██        | 12054/57400 [29:09<1:30:48,  8.32it/s]\n",
      "Epoch 22 \t Training loss: 0.3035777142135108 \t Validation loss: 0.3103125363083209 \t \n",
      " 22%|██▏       | 12628/57400 [30:31<1:44:16,  7.16it/s]\n",
      "Epoch 23 \t Training loss: 0.29924252011427066 \t Validation loss: 0.31295631952204944 \t \n",
      "\n",
      "1 epoch without improvement\n",
      " 23%|██▎       | 13202/57400 [31:52<1:23:19,  8.84it/s]\n",
      "Epoch 24 \t Training loss: 0.2986732685244042 \t Validation loss: 0.3071580602455947 \t \n",
      " 24%|██▍       | 13776/57400 [33:14<1:40:48,  7.21it/s]\n",
      "Epoch 25 \t Training loss: 0.2951199949981859 \t Validation loss: 0.3082070585529683 \t \n",
      "\n",
      "1 epoch without improvement\n",
      " 25%|██▌       | 14350/57400 [34:35<1:36:30,  7.43it/s]\n",
      "Epoch 26 \t Training loss: 0.29196911276632903 \t Validation loss: 0.3050741937200902 \t \n",
      " 26%|██▌       | 14924/57400 [35:57<1:26:36,  8.17it/s]\n",
      "Epoch 27 \t Training loss: 0.29104948363133837 \t Validation loss: 0.30358088698427554 \t \n",
      " 27%|██▋       | 15498/57400 [37:19<1:33:53,  7.44it/s]\n",
      "Epoch 28 \t Training loss: 0.28717480895826625 \t Validation loss: 0.3033236578359442 \t \n",
      " 28%|██▊       | 16072/57400 [38:40<1:46:17,  6.48it/s]\n",
      "Epoch 29 \t Training loss: 0.28593685724594037 \t Validation loss: 0.30284281176025585 \t \n",
      " 29%|██▉       | 16646/57400 [40:02<1:31:18,  7.44it/s]\n",
      "Epoch 30 \t Training loss: 0.28289580537259373 \t Validation loss: 0.3014832250142502 \t \n",
      " 30%|███       | 17220/57400 [41:24<1:31:45,  7.30it/s]\n",
      "Epoch 31 \t Training loss: 0.28091967287586955 \t Validation loss: 0.3001077927775302 \t \n",
      " 31%|███       | 17794/57400 [42:46<1:29:49,  7.35it/s]\n",
      "Epoch 32 \t Training loss: 0.27977226308517755 \t Validation loss: 0.30083044125872144 \t \n",
      " 32%|███▏      | 18368/57400 [44:07<1:32:09,  7.06it/s]\n",
      "Epoch 33 \t Training loss: 0.27633381544089897 \t Validation loss: 0.30045893182188776 \t \n",
      " 33%|███▎      | 18942/57400 [45:28<1:22:50,  7.74it/s]\n",
      "Epoch 34 \t Training loss: 0.2756180744553277 \t Validation loss: 0.3006910206907887 \t \n",
      " 34%|███▍      | 19516/57400 [46:49<1:25:47,  7.36it/s]\n",
      "Epoch 35 \t Training loss: 0.2737842326795598 \t Validation loss: 0.29896759759571595 \t \n",
      " 35%|███▌      | 20090/57400 [48:11<1:31:42,  6.78it/s]\n",
      "Epoch 36 \t Training loss: 0.27134763439046383 \t Validation loss: 0.2991285394814055 \t \n",
      " 36%|███▌      | 20664/57400 [49:32<1:21:26,  7.52it/s]\n",
      "Epoch 37 \t Training loss: 0.2700441029273259 \t Validation loss: 0.2987789857690617 \t \n",
      " 37%|███▋      | 21238/57400 [50:53<1:21:50,  7.36it/s]\n",
      "Epoch 38 \t Training loss: 0.2663980624038168 \t Validation loss: 0.299861168962414 \t \n",
      "\n",
      "1 epoch without improvement\n",
      " 38%|███▊      | 21812/57400 [52:15<1:24:41,  7.00it/s]\n",
      "Epoch 39 \t Training loss: 0.26614992086895667 \t Validation loss: 0.29972986725427336 \t \n",
      " 39%|███▉      | 22386/57400 [53:36<1:24:10,  6.93it/s]\n",
      "Epoch 40 \t Training loss: 0.26519609608716666 \t Validation loss: 0.2967701306787588 \t \n",
      " 40%|████      | 22960/57400 [54:58<1:13:19,  7.83it/s]\n",
      "Epoch 41 \t Training loss: 0.2634849379079267 \t Validation loss: 0.29818794207047605 \t \n",
      "\n",
      "1 epoch without improvement\n",
      " 41%|████      | 23534/57400 [56:19<1:20:11,  7.04it/s]\n",
      "Epoch 42 \t Training loss: 0.26203098303868794 \t Validation loss: 0.29718028488805737 \t \n",
      " 42%|████▏     | 24108/57400 [57:40<1:17:16,  7.18it/s]\n",
      "Epoch 43 \t Training loss: 0.26037525307737575 \t Validation loss: 0.29979391345533274 \t \n",
      "\n",
      "2 epoch without improvement\n",
      " 43%|████▎     | 24682/57400 [59:01<1:17:18,  7.05it/s]\n",
      "Epoch 44 \t Training loss: 0.25999205377770634 \t Validation loss: 0.2930408248961982 \t \n",
      " 44%|████▍     | 25256/57400 [1:00:23<1:01:30,  8.71it/s]\n",
      "Epoch 45 \t Training loss: 0.25611685065857626 \t Validation loss: 0.2954355162584176 \t \n",
      "\n",
      "1 epoch without improvement\n",
      " 45%|████▌     | 25830/57400 [1:01:44<1:05:48,  7.99it/s]\n",
      "Epoch 46 \t Training loss: 0.25537356678461365 \t Validation loss: 0.294863821086237 \t \n",
      "\n",
      "2 epoch without improvement\n",
      " 46%|████▌     | 26404/57400 [1:03:05<1:09:30,  7.43it/s]\n",
      "Epoch 47 \t Training loss: 0.255210260377113 \t Validation loss: 0.2932137369604434 \t \n",
      " 47%|████▋     | 26978/57400 [1:04:27<1:01:48,  8.20it/s]\n",
      "Epoch 48 \t Training loss: 0.2550110657300268 \t Validation loss: 0.29271186357837614 \t \n",
      " 48%|████▊     | 27552/57400 [1:05:48<1:07:38,  7.35it/s]\n",
      "Epoch 49 \t Training loss: 0.25304625037966705 \t Validation loss: 0.2938690763913979 \t \n",
      "\n",
      "1 epoch without improvement\n",
      " 49%|████▉     | 28126/57400 [1:07:09<1:07:29,  7.23it/s]\n",
      "Epoch 50 \t Training loss: 0.2522172222257907 \t Validation loss: 0.2938469792321577 \t \n",
      "\n",
      "2 epoch without improvement\n",
      " 50%|█████     | 28700/57400 [1:08:45<1:24:11,  5.68it/s]\n",
      "Epoch 51 \t Training loss: 0.25076794575004213 \t Validation loss: 0.29376960305844324 \t \n",
      "\n",
      "3 epoch without improvement\n",
      " 51%|█████     | 29274/57400 [1:10:17<1:13:56,  6.34it/s]\n",
      "Epoch 52 \t Training loss: 0.24920708918457246 \t Validation loss: 0.29364331849550795 \t \n",
      " 52%|█████▏    | 29848/57400 [1:11:47<1:11:31,  6.42it/s]\n",
      "Epoch 53 \t Training loss: 0.24888197664911324 \t Validation loss: 0.292743523747234 \t \n",
      " 53%|█████▎    | 30422/57400 [1:13:18<1:09:54,  6.43it/s]\n",
      "Epoch 54 \t Training loss: 0.24726926561328177 \t Validation loss: 0.2929405133097859 \t \n",
      " 54%|█████▍    | 30996/57400 [1:14:49<1:12:03,  6.11it/s]\n",
      "Epoch 55 \t Training loss: 0.24627560101942733 \t Validation loss: 0.29344055637464683 \t \n",
      " 55%|█████▌    | 31570/57400 [1:16:20<1:08:41,  6.27it/s]\n",
      "Epoch 56 \t Training loss: 0.24378574578552295 \t Validation loss: 0.2944184559381614 \t \n",
      "\n",
      "4 epoch without improvement\n",
      " 56%|█████▌    | 32144/57400 [1:17:51<1:06:25,  6.34it/s]\n",
      "Epoch 57 \t Training loss: 0.24360174677928564 \t Validation loss: 0.2951193512496302 \t \n",
      "\n",
      "5 epoch without improvement\n",
      " 57%|█████▋    | 32718/57400 [1:19:22<1:04:04,  6.42it/s]\n",
      "Epoch 58 \t Training loss: 0.24280596010464825 \t Validation loss: 0.293277672286761 \t \n",
      " 58%|█████▊    | 33292/57400 [1:20:53<1:02:06,  6.47it/s]\n",
      "Epoch 59 \t Training loss: 0.24285414119215376 \t Validation loss: 0.2946214466276815 \t \n",
      "\n",
      "6 epoch without improvement\n",
      " 59%|█████▉    | 33866/57400 [1:22:24<1:02:33,  6.27it/s]\n",
      "Epoch 60 \t Training loss: 0.24201725418143988 \t Validation loss: 0.29338437520851524 \t \n",
      " 60%|██████    | 34440/57400 [1:23:48<55:41,  6.87it/s]\n",
      "Epoch 61 \t Training loss: 0.24001738718525872 \t Validation loss: 0.29297254752304597 \t \n",
      " 61%|██████    | 35014/57400 [1:25:11<1:01:35,  6.06it/s]\n",
      "Epoch 62 \t Training loss: 0.23846063856359972 \t Validation loss: 0.293375784815368 \t \n",
      " 62%|██████▏   | 35588/57400 [1:26:35<52:12,  6.96it/s]\n",
      "Epoch 63 \t Training loss: 0.23830792341601972 \t Validation loss: 0.29426241830243904 \t \n",
      "\n",
      "7 epoch without improvement\n",
      " 63%|██████▎   | 36162/57400 [1:28:00<1:03:10,  5.60it/s]\n",
      "Epoch 64 \t Training loss: 0.23780789314558282 \t Validation loss: 0.29315083208730663 \t \n",
      " 64%|██████▍   | 36736/57400 [1:29:25<44:33,  7.73it/s]\n",
      "Epoch 65 \t Training loss: 0.23767744697864046 \t Validation loss: 0.2933556210186522 \t \n",
      " 65%|██████▌   | 37310/57400 [1:30:49<47:36,  7.03it/s]\n",
      "Epoch 66 \t Training loss: 0.23483732475117108 \t Validation loss: 0.2940699890003366 \t \n",
      "\n",
      "8 epoch without improvement\n",
      " 66%|██████▌   | 37884/57400 [1:32:13<48:12,  6.75it/s]\n",
      "Epoch 67 \t Training loss: 0.23694201024048003 \t Validation loss: 0.293112389364485 \t \n",
      " 67%|██████▋   | 38458/57400 [1:33:37<47:16,  6.68it/s]\n",
      "Epoch 68 \t Training loss: 0.23458341078164271 \t Validation loss: 0.2936423675993742 \t \n",
      " 68%|██████▊   | 39032/57400 [1:35:02<45:46,  6.69it/s]\n",
      "Epoch 69 \t Training loss: 0.23423492669643842 \t Validation loss: 0.29377023698919913 \t \n",
      "\n",
      "9 epoch without improvement\n",
      " 69%|██████▉   | 39606/57400 [1:36:26<42:13,  7.02it/s]\n",
      "Epoch 70 \t Training loss: 0.23380543848415286 \t Validation loss: 0.294193493612742 \t \n",
      "\n",
      "10 epoch without improvement\n",
      "Validation_loss hasn't improve in 10 epoch. Stopping training after 70 epochs...\n"
     ]
    },
    {
     "data": {
      "image/png": "[encoded data removed]",
      "text/plain": [
       "<Figure size 640x480 with 1 Axes>"
      ]
     },
     "metadata": {},
     "output_type": "display_data"
    }
   ],
   "source": [
    "learning_rate = 5e-5\n",
    "optimizer = SGD(model.parameters(), lr=learning_rate, momentum=0.9)\n",
    "num_epochs = 100\n",
    "\n",
    "train.train_function(model,num_epochs,dl_train['about'],optimizer,early_stop=10,dl_val=dl_val['about'],save_path=save_path)"
   ]
  },
  {
   "cell_type": "code",
   "execution_count": 17,
   "metadata": {},
   "outputs": [
    {
     "name": "stderr",
     "output_type": "stream",
     "text": [
      "Some weights of the model checkpoint at bert-base-cased were not used when initializing BertModel: ['cls.seq_relationship.weight', 'cls.predictions.transform.dense.weight', 'cls.predictions.transform.LayerNorm.bias', 'cls.predictions.transform.LayerNorm.weight', 'cls.predictions.bias', 'cls.predictions.decoder.weight', 'cls.seq_relationship.bias', 'cls.predictions.transform.dense.bias']\n",
      "- This IS expected if you are initializing BertModel from the checkpoint of a model trained on another task or with another architecture (e.g. initializing a BertForSequenceClassification model from a BertForPreTraining model).\n",
      "- This IS NOT expected if you are initializing BertModel from the checkpoint of a model that you expect to be exactly identical (initializing a BertForSequenceClassification model from a BertForSequenceClassification model).\n"
     ]
    },
    {
     "name": "stdout",
     "output_type": "stream",
     "text": [
      "GLOBAL: 0.8558673469387755 \n",
      "\n",
      "Using scikit learn accuracy por género en el conjunto about\n",
      "MALE 0.8645833333333334\n",
      "FEMALE 0.8475 \n",
      "\n",
      "GLOBAL: 0.6881313131313131 \n",
      "\n",
      "Using scikit learn accuracy por género en el conjunto to\n",
      "MALE 0.6982968369829684\n",
      "FEMALE 0.6771653543307087 \n",
      "\n",
      "GLOBAL: 0.6870925684485006 \n",
      "\n",
      "Using scikit learn accuracy por género en el conjunto as\n",
      "MALE 0.7045454545454546\n",
      "FEMALE 0.6684636118598383 \n",
      "\n"
     ]
    }
   ],
   "source": [
    "model = st.SingleTaskSimple(model_conf).to(device)\n",
    "model.load_state_dict(torch.load(save_path))\n",
    "\n",
    "for task in ['about','to','as']:\n",
    "    print(f\"GLOBAL: {train.eval_function_single_sk(model,dl_eval[task])}\",'\\n')\n",
    "    print(f\"Using scikit learn accuracy por género en el conjunto {task}\")\n",
    "    print(f\"MALE {train.eval_function_single_sk(model,dl_eval[task],gender='male')}\")\n",
    "    print(f\"FEMALE {train.eval_function_single_sk(model,dl_eval[task],gender='female')}\",'\\n')"
   ]
  },
  {
   "attachments": {},
   "cell_type": "markdown",
   "metadata": {},
   "source": [
    "# TO"
   ]
  },
  {
   "cell_type": "code",
   "execution_count": 14,
   "metadata": {},
   "outputs": [
    {
     "name": "stderr",
     "output_type": "stream",
     "text": [
      "Some weights of the model checkpoint at bert-base-cased were not used when initializing BertModel: ['cls.predictions.bias', 'cls.predictions.transform.LayerNorm.bias', 'cls.predictions.transform.dense.weight', 'cls.predictions.transform.dense.bias', 'cls.predictions.transform.LayerNorm.weight', 'cls.seq_relationship.bias', 'cls.seq_relationship.weight', 'cls.predictions.decoder.weight']\n",
      "- This IS expected if you are initializing BertModel from the checkpoint of a model trained on another task or with another architecture (e.g. initializing a BertForSequenceClassification model from a BertForPreTraining model).\n",
      "- This IS NOT expected if you are initializing BertModel from the checkpoint of a model that you expect to be exactly identical (initializing a BertForSequenceClassification model from a BertForSequenceClassification model).\n"
     ]
    }
   ],
   "source": [
    "model = st.SingleTaskSimple(model_conf).to(device)\n",
    "save_path='m1_bert_TO'"
   ]
  },
  {
   "cell_type": "code",
   "execution_count": 16,
   "metadata": {},
   "outputs": [
    {
     "data": {
      "application/vnd.jupyter.widget-view+json": {
       "model_id": "1f6672f23f34415eb857e2cb00dcdc6c",
       "version_major": 2,
       "version_minor": 0
      },
      "text/plain": [
       "  0%|          | 0/57400 [00:00<?, ?it/s]"
      ]
     },
     "metadata": {},
     "output_type": "display_data"
    },
    {
     "name": "stdout",
     "output_type": "stream",
     "text": [
      "Epoch 1 \t Training loss: 0.693862137167296 \t Validation loss: 0.6942407761589956 \t \n",
      "  1%|          | 574/57400 [01:23<2:26:30,  6.46it/s]\n",
      "Epoch 2 \t Training loss: 0.693786780074083 \t Validation loss: 0.693226303084422 \t \n",
      "  2%|▏         | 1148/57400 [02:45<1:48:14,  8.66it/s]\n",
      "Epoch 3 \t Training loss: 0.6936131817538563 \t Validation loss: 0.6927743028786223 \t \n",
      "  3%|▎         | 1722/57400 [04:07<2:08:00,  7.25it/s]\n",
      "Epoch 4 \t Training loss: 0.6937310396586561 \t Validation loss: 0.6927815180713848 \t \n",
      "  4%|▍         | 2296/57400 [05:29<1:58:35,  7.74it/s]\n",
      "Epoch 5 \t Training loss: 0.6935868564383079 \t Validation loss: 0.6926904320716858 \t \n",
      "  5%|▌         | 2870/57400 [06:52<1:53:58,  7.97it/s]\n",
      "Epoch 6 \t Training loss: 0.6936948894415998 \t Validation loss: 0.6932581450979588 \t \n",
      "  6%|▌         | 3444/57400 [08:14<2:04:44,  7.21it/s]\n",
      "Epoch 7 \t Training loss: 0.6937115758345933 \t Validation loss: 0.6918289873559597 \t \n",
      "  7%|▋         | 4018/57400 [09:37<2:02:51,  7.24it/s]\n",
      "Epoch 8 \t Training loss: 0.6934797108588734 \t Validation loss: 0.693291789394314 \t \n",
      "\n",
      "1 epoch without improvement\n",
      "  8%|▊         | 4592/57400 [10:59<2:09:48,  6.78it/s]\n",
      "Epoch 9 \t Training loss: 0.6934604973950868 \t Validation loss: 0.6936277524899628 \t \n",
      "\n",
      "2 epoch without improvement\n",
      "  9%|▉         | 5166/57400 [12:21<2:12:01,  6.59it/s]\n",
      "Epoch 10 \t Training loss: 0.6933392886500741 \t Validation loss: 0.6932109917624522 \t \n",
      "\n",
      "3 epoch without improvement\n",
      " 10%|█         | 5740/57400 [13:44<2:00:32,  7.14it/s]\n",
      "Epoch 11 \t Training loss: 0.6932431141673896 \t Validation loss: 0.6937752204426264 \t \n",
      "\n",
      "4 epoch without improvement\n",
      " 11%|█         | 6314/57400 [15:06<1:36:37,  8.81it/s]\n",
      "Epoch 12 \t Training loss: 0.6935996000982743 \t Validation loss: 0.6925897891238585 \t \n",
      " 12%|█▏        | 6888/57400 [16:26<1:53:42,  7.40it/s]\n",
      "Epoch 13 \t Training loss: 0.6933959396458669 \t Validation loss: 0.6934692334320586 \t \n",
      "\n",
      "5 epoch without improvement\n",
      " 13%|█▎        | 7462/57400 [17:47<1:49:56,  7.57it/s]\n",
      "Epoch 14 \t Training loss: 0.6934199945851901 \t Validation loss: 0.6922015578059827 \t \n",
      " 14%|█▍        | 8036/57400 [19:07<1:52:22,  7.32it/s]\n",
      "Epoch 15 \t Training loss: 0.6932321991446957 \t Validation loss: 0.6929198190317316 \t \n",
      "\n",
      "6 epoch without improvement\n",
      " 15%|█▌        | 8610/57400 [20:28<1:47:00,  7.60it/s]\n",
      "Epoch 16 \t Training loss: 0.693363284296275 \t Validation loss: 0.693069231712212 \t \n",
      "\n",
      "7 epoch without improvement\n",
      " 16%|█▌        | 9184/57400 [21:48<1:46:31,  7.54it/s]\n",
      "Epoch 17 \t Training loss: 0.6936774253845215 \t Validation loss: 0.6930669727971999 \t \n",
      "\n",
      "8 epoch without improvement\n",
      " 17%|█▋        | 9758/57400 [23:08<1:50:16,  7.20it/s]\n",
      "Epoch 18 \t Training loss: 0.6935477230814692 \t Validation loss: 0.6924694089566247 \t \n",
      " 18%|█▊        | 10332/57400 [24:28<1:36:06,  8.16it/s]\n",
      "Epoch 19 \t Training loss: 0.6931506396378374 \t Validation loss: 0.6925360459392353 \t \n",
      " 19%|█▉        | 10906/57400 [25:49<1:50:27,  7.01it/s]\n",
      "Epoch 20 \t Training loss: 0.6933202100755446 \t Validation loss: 0.6925400505631657 \t \n",
      " 20%|██        | 11480/57400 [27:09<1:46:05,  7.21it/s]\n",
      "Epoch 21 \t Training loss: 0.6936197823971406 \t Validation loss: 0.6924453246391425 \t \n",
      " 21%|██        | 12054/57400 [28:29<1:39:36,  7.59it/s]\n",
      "Epoch 22 \t Training loss: 0.6931647717537365 \t Validation loss: 0.6936235458163892 \t \n",
      "\n",
      "9 epoch without improvement\n",
      " 22%|██▏       | 12628/57400 [29:50<1:24:28,  8.83it/s]\n",
      "Epoch 23 \t Training loss: 0.693242625492375 \t Validation loss: 0.6935671042587798 \t \n",
      "\n",
      "10 epoch without improvement\n",
      "Validation_loss hasn't improve in 10 epoch. Stopping training after 23 epochs...\n"
     ]
    },
    {
     "data": {
      "image/png": "[encoded data removed]",
      "text/plain": [
       "<Figure size 640x480 with 1 Axes>"
      ]
     },
     "metadata": {},
     "output_type": "display_data"
    }
   ],
   "source": [
    "learning_rate = 5e-5\n",
    "optimizer = SGD(model.parameters(), lr=learning_rate, momentum=0.9)\n",
    "num_epochs = 100\n",
    "\n",
    "train.train_function(model,num_epochs,dl_train['to'],optimizer,early_stop=10,dl_val=dl_val['to'],save_path=save_path)"
   ]
  },
  {
   "cell_type": "code",
   "execution_count": 17,
   "metadata": {},
   "outputs": [
    {
     "name": "stderr",
     "output_type": "stream",
     "text": [
      "Some weights of the model checkpoint at bert-base-cased were not used when initializing BertModel: ['cls.predictions.bias', 'cls.predictions.transform.LayerNorm.bias', 'cls.predictions.transform.dense.weight', 'cls.predictions.transform.dense.bias', 'cls.predictions.transform.LayerNorm.weight', 'cls.seq_relationship.bias', 'cls.seq_relationship.weight', 'cls.predictions.decoder.weight']\n",
      "- This IS expected if you are initializing BertModel from the checkpoint of a model trained on another task or with another architecture (e.g. initializing a BertForSequenceClassification model from a BertForPreTraining model).\n",
      "- This IS NOT expected if you are initializing BertModel from the checkpoint of a model that you expect to be exactly identical (initializing a BertForSequenceClassification model from a BertForSequenceClassification model).\n"
     ]
    },
    {
     "name": "stdout",
     "output_type": "stream",
     "text": [
      "GLOBAL: 0.4961734693877551 \n",
      "\n",
      "Using scikit learn accuracy por género en el conjunto about\n",
      "MALE 0.15104166666666666\n",
      "FEMALE 0.8275 \n",
      "\n",
      "GLOBAL: 0.48737373737373735 \n",
      "\n",
      "Using scikit learn accuracy por género en el conjunto to\n",
      "MALE 0.17761557177615572\n",
      "FEMALE 0.821522309711286 \n",
      "\n",
      "GLOBAL: 0.4771838331160365 \n",
      "\n",
      "Using scikit learn accuracy por género en el conjunto as\n",
      "MALE 0.12626262626262627\n",
      "FEMALE 0.8517520215633423 \n",
      "\n"
     ]
    }
   ],
   "source": [
    "model = st.SingleTaskSimple(model_conf).to(device)\n",
    "model.load_state_dict(torch.load(save_path))\n",
    "\n",
    "for task in ['about','to','as']:\n",
    "    print(f\"GLOBAL: {train.eval_function_single_sk(model,dl_eval[task])}\",'\\n')\n",
    "    print(f\"Using scikit learn accuracy por género en el conjunto {task}\")\n",
    "    print(f\"MALE {train.eval_function_single_sk(model,dl_eval[task],gender='male')}\")\n",
    "    print(f\"FEMALE {train.eval_function_single_sk(model,dl_eval[task],gender='female')}\",'\\n')"
   ]
  },
  {
   "attachments": {},
   "cell_type": "markdown",
   "metadata": {},
   "source": [
    "# AS"
   ]
  },
  {
   "cell_type": "code",
   "execution_count": 18,
   "metadata": {},
   "outputs": [
    {
     "name": "stderr",
     "output_type": "stream",
     "text": [
      "Some weights of the model checkpoint at bert-base-cased were not used when initializing BertModel: ['cls.predictions.bias', 'cls.predictions.transform.LayerNorm.bias', 'cls.predictions.transform.dense.weight', 'cls.predictions.transform.dense.bias', 'cls.predictions.transform.LayerNorm.weight', 'cls.seq_relationship.bias', 'cls.seq_relationship.weight', 'cls.predictions.decoder.weight']\n",
      "- This IS expected if you are initializing BertModel from the checkpoint of a model trained on another task or with another architecture (e.g. initializing a BertForSequenceClassification model from a BertForPreTraining model).\n",
      "- This IS NOT expected if you are initializing BertModel from the checkpoint of a model that you expect to be exactly identical (initializing a BertForSequenceClassification model from a BertForSequenceClassification model).\n"
     ]
    }
   ],
   "source": [
    "model = st.SingleTaskSimple(model_conf).to(device)\n",
    "save_path='m1_bert_AS'"
   ]
  },
  {
   "cell_type": "code",
   "execution_count": 19,
   "metadata": {},
   "outputs": [
    {
     "name": "stdout",
     "output_type": "stream",
     "text": [
      "GLOBAL: 0.48086734693877553 \n",
      "\n",
      "Using scikit learn accuracy por género en el conjunto about\n",
      "MALE 0.2994791666666667\n",
      "FEMALE 0.655 \n",
      "\n",
      "GLOBAL: 0.5126262626262627 \n",
      "\n",
      "Using scikit learn accuracy por género en el conjunto to\n",
      "MALE 0.26520681265206814\n",
      "FEMALE 0.7795275590551181 \n",
      "\n",
      "GLOBAL: 0.4915254237288136 \n",
      "\n",
      "Using scikit learn accuracy por género en el conjunto as\n",
      "MALE 0.2676767676767677\n",
      "FEMALE 0.7304582210242587 \n",
      "\n"
     ]
    }
   ],
   "source": [
    "\n",
    "for task in ['about','to','as']:\n",
    "    print(f\"GLOBAL: {train.eval_function_single_sk(model,dl_eval[task])}\",'\\n')\n",
    "    print(f\"Using scikit learn accuracy por género en el conjunto {task}\")\n",
    "    print(f\"MALE {train.eval_function_single_sk(model,dl_eval[task],gender='male')}\")\n",
    "    print(f\"FEMALE {train.eval_function_single_sk(model,dl_eval[task],gender='female')}\",'\\n')"
   ]
  },
  {
   "cell_type": "code",
   "execution_count": 20,
   "metadata": {},
   "outputs": [
    {
     "data": {
      "application/vnd.jupyter.widget-view+json": {
       "model_id": "b0f8e3a2fe6146b4a4f1700848f7cc88",
       "version_major": 2,
       "version_minor": 0
      },
      "text/plain": [
       "  0%|          | 0/57400 [00:00<?, ?it/s]"
      ]
     },
     "metadata": {},
     "output_type": "display_data"
    },
    {
     "name": "stdout",
     "output_type": "stream",
     "text": [
      "Epoch 1 \t Training loss: 0.6962949969004255 \t Validation loss: 0.6961972955930031 \t \n",
      "  1%|          | 574/57400 [01:21<2:04:48,  7.59it/s]\n",
      "Epoch 2 \t Training loss: 0.6956871692934934 \t Validation loss: 0.6935090968164347 \t \n",
      "  2%|▏         | 1148/57400 [02:42<2:17:36,  6.81it/s]\n",
      "Epoch 3 \t Training loss: 0.6946348802345556 \t Validation loss: 0.6938213827246327 \t \n",
      "  3%|▎         | 1722/57400 [04:04<2:33:16,  6.05it/s]\n",
      "Epoch 4 \t Training loss: 0.6945944302796486 \t Validation loss: 0.6928143784151239 \t \n",
      "  4%|▍         | 2296/57400 [05:27<2:29:16,  6.15it/s]\n",
      "Epoch 5 \t Training loss: 0.6941404512950352 \t Validation loss: 0.6929093649831869 \t \n",
      "  5%|▌         | 2870/57400 [06:49<2:00:09,  7.56it/s]\n",
      "Epoch 6 \t Training loss: 0.6940073360549448 \t Validation loss: 0.6919483198957929 \t \n",
      "  6%|▌         | 3444/57400 [08:11<2:07:35,  7.05it/s]\n",
      "Epoch 7 \t Training loss: 0.6939978702350776 \t Validation loss: 0.6933557643728742 \t \n",
      "\n",
      "1 epoch without improvement\n",
      "  7%|▋         | 4018/57400 [09:33<2:00:56,  7.36it/s]\n",
      "Epoch 8 \t Training loss: 0.6937251265456037 \t Validation loss: 0.6921581433991254 \t \n",
      "  8%|▊         | 4592/57400 [10:55<2:01:50,  7.22it/s]\n",
      "Epoch 9 \t Training loss: 0.6939484629689193 \t Validation loss: 0.6922251743785406 \t \n",
      "  9%|▉         | 5166/57400 [12:17<2:00:57,  7.20it/s]\n",
      "Epoch 10 \t Training loss: 0.6935114188684404 \t Validation loss: 0.6922805915444584 \t \n",
      " 10%|█         | 5740/57400 [13:40<1:45:40,  8.15it/s]\n",
      "Epoch 11 \t Training loss: 0.6934716611166034 \t Validation loss: 0.6930159037396059 \t \n",
      "\n",
      "2 epoch without improvement\n",
      " 11%|█         | 6314/57400 [15:02<1:58:18,  7.20it/s]\n",
      "Epoch 12 \t Training loss: 0.6932362644099193 \t Validation loss: 0.6928099666611623 \t \n",
      " 12%|█▏        | 6888/57400 [16:22<1:56:07,  7.25it/s]\n",
      "Epoch 13 \t Training loss: 0.6932092120007771 \t Validation loss: 0.6928353733935598 \t \n",
      " 13%|█▎        | 7462/57400 [17:42<1:58:39,  7.01it/s]\n",
      "Epoch 14 \t Training loss: 0.6931715457073903 \t Validation loss: 0.693375018693633 \t \n",
      "\n",
      "3 epoch without improvement\n",
      " 14%|█▍        | 8036/57400 [19:06<1:50:14,  7.46it/s]\n",
      "Epoch 15 \t Training loss: 0.6926489476542855 \t Validation loss: 0.6928438503863448 \t \n",
      " 15%|█▌        | 8610/57400 [20:28<1:30:43,  8.96it/s]\n",
      "Epoch 16 \t Training loss: 0.6928453284481261 \t Validation loss: 0.6928416046045595 \t \n",
      " 16%|█▌        | 9184/57400 [21:50<1:52:23,  7.15it/s]\n",
      "Epoch 17 \t Training loss: 0.6926858757431084 \t Validation loss: 0.6931312579219624 \t \n",
      "\n",
      "4 epoch without improvement\n",
      " 17%|█▋        | 9758/57400 [23:13<1:55:56,  6.85it/s]\n",
      "Epoch 18 \t Training loss: 0.6928147801331112 \t Validation loss: 0.6923594596022267 \t \n",
      " 18%|█▊        | 10332/57400 [24:35<1:54:45,  6.84it/s]\n",
      "Epoch 19 \t Training loss: 0.6926328984287142 \t Validation loss: 0.6926284917330338 \t \n",
      " 19%|█▉        | 10906/57400 [25:57<1:48:30,  7.14it/s]\n",
      "Epoch 20 \t Training loss: 0.6926171920856117 \t Validation loss: 0.6925821708420575 \t \n",
      " 20%|██        | 11480/57400 [27:20<1:43:44,  7.38it/s]\n",
      "Epoch 21 \t Training loss: 0.6926755057810076 \t Validation loss: 0.6926452790276479 \t \n",
      " 21%|██        | 12054/57400 [28:43<1:42:52,  7.35it/s]\n",
      "Epoch 22 \t Training loss: 0.6922280143569987 \t Validation loss: 0.6915349748175023 \t \n",
      " 22%|██▏       | 12628/57400 [30:06<1:45:59,  7.04it/s]\n",
      "Epoch 23 \t Training loss: 0.6922569799298609 \t Validation loss: 0.6927363599761057 \t \n",
      "\n",
      "1 epoch without improvement\n",
      " 23%|██▎       | 13202/57400 [31:28<1:42:49,  7.16it/s]\n",
      "Epoch 24 \t Training loss: 0.6922509189474458 \t Validation loss: 0.6913789763288983 \t \n",
      " 24%|██▍       | 13776/57400 [32:51<1:23:15,  8.73it/s]\n",
      "Epoch 25 \t Training loss: 0.6923845055211296 \t Validation loss: 0.6916378504138881 \t \n",
      " 25%|██▌       | 14350/57400 [34:12<1:34:03,  7.63it/s]\n",
      "Epoch 26 \t Training loss: 0.6922790368674939 \t Validation loss: 0.6913590986849898 \t \n",
      " 26%|██▌       | 14924/57400 [35:32<1:19:53,  8.86it/s]\n",
      "Epoch 27 \t Training loss: 0.6918508111392164 \t Validation loss: 0.6913349194041754 \t \n",
      " 27%|██▋       | 15498/57400 [36:53<1:19:52,  8.74it/s]\n",
      "Epoch 28 \t Training loss: 0.6918741471883727 \t Validation loss: 0.6934544636031329 \t \n",
      "\n",
      "1 epoch without improvement\n",
      " 28%|██▊       | 16072/57400 [38:14<1:37:32,  7.06it/s]\n",
      "Epoch 29 \t Training loss: 0.6918133291633287 \t Validation loss: 0.692070190179146 \t \n",
      " 29%|██▉       | 16646/57400 [39:34<1:34:05,  7.22it/s]\n",
      "Epoch 30 \t Training loss: 0.69157822082267 \t Validation loss: 0.6917290586536213 \t \n",
      " 30%|███       | 17220/57400 [40:55<1:31:30,  7.32it/s]\n",
      "Epoch 31 \t Training loss: 0.6919203620754468 \t Validation loss: 0.6924163456690513 \t \n",
      "\n",
      "2 epoch without improvement\n",
      " 31%|███       | 17794/57400 [42:16<1:28:16,  7.48it/s]\n",
      "Epoch 32 \t Training loss: 0.6915729254588018 \t Validation loss: 0.6908386238550736 \t \n",
      " 32%|███▏      | 18368/57400 [43:37<1:26:59,  7.48it/s]\n",
      "Epoch 33 \t Training loss: 0.6918677693875409 \t Validation loss: 0.6923848814883474 \t \n",
      "\n",
      "1 epoch without improvement\n",
      " 33%|███▎      | 18942/57400 [44:57<1:30:26,  7.09it/s]\n",
      "Epoch 34 \t Training loss: 0.6912407157520799 \t Validation loss: 0.6910504819983143 \t \n",
      " 34%|███▍      | 19516/57400 [46:18<1:29:55,  7.02it/s]\n",
      "Epoch 35 \t Training loss: 0.6911493848217489 \t Validation loss: 0.6921909794969073 \t \n",
      "\n",
      "2 epoch without improvement\n",
      " 35%|███▌      | 20090/57400 [47:38<1:22:46,  7.51it/s]\n",
      "Epoch 36 \t Training loss: 0.6912373954410752 \t Validation loss: 0.6915308418920485 \t \n",
      " 36%|███▌      | 20664/57400 [48:59<1:21:38,  7.50it/s]\n",
      "Epoch 37 \t Training loss: 0.6905878546553622 \t Validation loss: 0.6912189297756907 \t \n",
      " 37%|███▋      | 21238/57400 [50:19<1:18:01,  7.72it/s]\n",
      "Epoch 38 \t Training loss: 0.6909579721892752 \t Validation loss: 0.692042495234538 \t \n",
      "\n",
      "3 epoch without improvement\n",
      " 38%|███▊      | 21812/57400 [51:39<1:07:12,  8.83it/s]\n",
      "Epoch 39 \t Training loss: 0.6909912282581528 \t Validation loss: 0.6911440148191937 \t \n",
      " 39%|███▉      | 22386/57400 [53:00<1:19:19,  7.36it/s]\n",
      "Epoch 40 \t Training loss: 0.6906293502875737 \t Validation loss: 0.6919655860480616 \t \n",
      "\n",
      "4 epoch without improvement\n",
      " 40%|████      | 22960/57400 [54:20<1:04:02,  8.96it/s]\n",
      "Epoch 41 \t Training loss: 0.6904664682386644 \t Validation loss: 0.689963759002039 \t \n",
      " 41%|████      | 23534/57400 [55:41<1:03:12,  8.93it/s]\n",
      "Epoch 42 \t Training loss: 0.6906614907942582 \t Validation loss: 0.6915655893794561 \t \n",
      "\n",
      "1 epoch without improvement\n",
      " 42%|████▏     | 24108/57400 [57:02<1:03:53,  8.69it/s]\n",
      "Epoch 43 \t Training loss: 0.6903656530047958 \t Validation loss: 0.691913781529766 \t \n",
      "\n",
      "2 epoch without improvement\n",
      " 43%|████▎     | 24682/57400 [58:22<1:15:05,  7.26it/s]\n",
      "Epoch 44 \t Training loss: 0.6906812235661085 \t Validation loss: 0.6911962325290099 \t \n",
      "\n",
      "3 epoch without improvement\n",
      " 44%|████▍     | 25256/57400 [59:42<1:21:39,  6.56it/s]\n",
      "Epoch 45 \t Training loss: 0.6901526087667884 \t Validation loss: 0.6919712636430385 \t \n",
      "\n",
      "4 epoch without improvement\n",
      " 45%|████▌     | 25830/57400 [1:01:03<1:10:55,  7.42it/s]\n",
      "Epoch 46 \t Training loss: 0.6900363809555665 \t Validation loss: 0.6921790949368881 \t \n",
      "\n",
      "5 epoch without improvement\n",
      " 46%|████▌     | 26404/57400 [1:02:23<1:09:01,  7.48it/s]\n",
      "Epoch 47 \t Training loss: 0.6902071687194944 \t Validation loss: 0.6919312275062173 \t \n",
      "\n",
      "6 epoch without improvement\n",
      " 47%|████▋     | 26978/57400 [1:03:44<59:04,  8.58it/s]\n",
      "Epoch 48 \t Training loss: 0.6905849554189821 \t Validation loss: 0.6914778988240129 \t \n",
      "\n",
      "7 epoch without improvement\n",
      " 48%|████▊     | 27552/57400 [1:05:04<1:06:26,  7.49it/s]\n",
      "Epoch 49 \t Training loss: 0.6903056917705602 \t Validation loss: 0.6921485682665292 \t \n",
      "\n",
      "8 epoch without improvement\n",
      " 49%|████▉     | 28126/57400 [1:06:25<1:04:50,  7.52it/s]\n",
      "Epoch 50 \t Training loss: 0.6904221568581119 \t Validation loss: 0.6913552961107028 \t \n",
      "\n",
      "9 epoch without improvement\n",
      " 50%|█████     | 28700/57400 [1:07:45<55:20,  8.64it/s]\n",
      "Epoch 51 \t Training loss: 0.6902020981710547 \t Validation loss: 0.6910399279351962 \t \n",
      "\n",
      "10 epoch without improvement\n",
      "Validation_loss hasn't improve in 10 epoch. Stopping training after 51 epochs...\n"
     ]
    },
    {
     "data": {
      "image/png": "[encoded data removed]",
      "text/plain": [
       "<Figure size 640x480 with 1 Axes>"
      ]
     },
     "metadata": {},
     "output_type": "display_data"
    }
   ],
   "source": [
    "learning_rate = 5e-5\n",
    "optimizer = SGD(model.parameters(), lr=learning_rate, momentum=0.9)\n",
    "num_epochs = 100\n",
    "\n",
    "train.train_function(model,num_epochs,dl_train['as'],optimizer,early_stop=10,dl_val=dl_val['as'],save_path=save_path)"
   ]
  },
  {
   "cell_type": "code",
   "execution_count": 21,
   "metadata": {},
   "outputs": [
    {
     "name": "stderr",
     "output_type": "stream",
     "text": [
      "Some weights of the model checkpoint at bert-base-cased were not used when initializing BertModel: ['cls.predictions.bias', 'cls.predictions.transform.LayerNorm.bias', 'cls.predictions.transform.dense.weight', 'cls.predictions.transform.dense.bias', 'cls.predictions.transform.LayerNorm.weight', 'cls.seq_relationship.bias', 'cls.seq_relationship.weight', 'cls.predictions.decoder.weight']\n",
      "- This IS expected if you are initializing BertModel from the checkpoint of a model trained on another task or with another architecture (e.g. initializing a BertForSequenceClassification model from a BertForPreTraining model).\n",
      "- This IS NOT expected if you are initializing BertModel from the checkpoint of a model that you expect to be exactly identical (initializing a BertForSequenceClassification model from a BertForSequenceClassification model).\n"
     ]
    },
    {
     "name": "stdout",
     "output_type": "stream",
     "text": [
      "GLOBAL: 0.6415816326530612 \n",
      "\n",
      "Using scikit learn accuracy por género en el conjunto about\n",
      "MALE 0.6354166666666666\n",
      "FEMALE 0.6475 \n",
      "\n",
      "GLOBAL: 0.61489898989899 \n",
      "\n",
      "Using scikit learn accuracy por género en el conjunto to\n",
      "MALE 0.6423357664233577\n",
      "FEMALE 0.5853018372703412 \n",
      "\n",
      "GLOBAL: 0.6258148631029987 \n",
      "\n",
      "Using scikit learn accuracy por género en el conjunto as\n",
      "MALE 0.6060606060606061\n",
      "FEMALE 0.6469002695417789 \n",
      "\n"
     ]
    }
   ],
   "source": [
    "model = st.SingleTaskSimple(model_conf).to(device)\n",
    "model.load_state_dict(torch.load(save_path))\n",
    "\n",
    "for task in ['about','to','as']:\n",
    "    print(f\"GLOBAL: {train.eval_function_single_sk(model,dl_eval[task])}\",'\\n')\n",
    "    print(f\"Using scikit learn accuracy por género en el conjunto {task}\")\n",
    "    print(f\"MALE {train.eval_function_single_sk(model,dl_eval[task],gender='male')}\")\n",
    "    print(f\"FEMALE {train.eval_function_single_sk(model,dl_eval[task],gender='female')}\",'\\n')"
   ]
  }
 ],
 "metadata": {
  "kernelspec": {
   "display_name": "tfg",
   "language": "python",
   "name": "python3"
  },
  "language_info": {
   "codemirror_mode": {
    "name": "ipython",
    "version": 3
   },
   "file_extension": ".py",
   "mimetype": "text/x-python",
   "name": "python",
   "nbconvert_exporter": "python",
   "pygments_lexer": "ipython3",
   "version": "3.9.13"
  },
  "orig_nbformat": 4,
  "vscode": {
   "interpreter": {
    "hash": "b2012626cca2d66e84dc87dc317222963c31dcd31e180f1257b027de73883164"
   }
  }
 },
 "nbformat": 4,
 "nbformat_minor": 2
}
