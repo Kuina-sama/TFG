{
 "cells": [
  {
   "cell_type": "code",
   "execution_count": 1,
   "metadata": {},
   "outputs": [],
   "source": [
    "import torch\n",
    "from torch.utils.data import DataLoader\n",
    "from torch.optim import AdamW, SGD \n",
    "\n",
    "\n",
    "\n",
    "\n",
    "import json\n",
    "\n"
   ]
  },
  {
   "cell_type": "code",
   "execution_count": 2,
   "metadata": {},
   "outputs": [],
   "source": [
    "import utils_generic as generic\n",
    "import singletask_dep as st\n",
    "import model_confs as confs\n",
    "\n",
    "\n",
    "import train_dep as train"
   ]
  },
  {
   "cell_type": "code",
   "execution_count": 3,
   "metadata": {},
   "outputs": [
    {
     "data": {
      "text/plain": [
       "<torch._C.Generator at 0x1da14133810>"
      ]
     },
     "execution_count": 3,
     "metadata": {},
     "output_type": "execute_result"
    }
   ],
   "source": [
    "device = torch.device(\"cuda\") if torch.cuda.is_available() else torch.device(\"cpu\")\n",
    "torch.manual_seed(27)"
   ]
  },
  {
   "cell_type": "code",
   "execution_count": 4,
   "metadata": {},
   "outputs": [],
   "source": [
    "model_conf = confs.bert_conf\n",
    "encoding_type = 'absolute'"
   ]
  },
  {
   "attachments": {},
   "cell_type": "markdown",
   "metadata": {},
   "source": [
    "# Datos ConvAI2"
   ]
  },
  {
   "cell_type": "code",
   "execution_count": 5,
   "metadata": {},
   "outputs": [],
   "source": [
    "with open('Datasets\\ConvAI2\\convai2_complete.json','r') as f:\n",
    "    data = json.load(f)"
   ]
  },
  {
   "cell_type": "code",
   "execution_count": 6,
   "metadata": {},
   "outputs": [],
   "source": [
    "vocab = st.Vocabulary(data['train'],encoding_type)"
   ]
  },
  {
   "cell_type": "code",
   "execution_count": 7,
   "metadata": {},
   "outputs": [],
   "source": [
    "convai_train = data['train']\n",
    "convai_val = data['validation']\n",
    "\n",
    "\n",
    "\n",
    "convai_train_token = generic.tokenize_dataset_with_dependencies(convai_train,['about','to','as'],vocab,model_conf) \n",
    "convai_val_token = generic.tokenize_dataset_with_dependencies(convai_val,['about','to','as'],vocab,model_conf) "
   ]
  },
  {
   "cell_type": "code",
   "execution_count": 8,
   "metadata": {},
   "outputs": [],
   "source": [
    "convai_train_dataset = {}\n",
    "for task in ['to','as','about']:\n",
    "    convai_train_dataset[task] = st.DatasetSingleTaskDep(convai_train_token,task,eval=False)"
   ]
  },
  {
   "cell_type": "code",
   "execution_count": 9,
   "metadata": {},
   "outputs": [],
   "source": [
    "convai_val_dataset = {}\n",
    "for task in ['to','as','about']:\n",
    "    convai_val_dataset[task] = st.DatasetSingleTaskDep(convai_val_token,task,eval=False)"
   ]
  },
  {
   "attachments": {},
   "cell_type": "markdown",
   "metadata": {},
   "source": [
    "# Datos md_gender"
   ]
  },
  {
   "cell_type": "code",
   "execution_count": 10,
   "metadata": {},
   "outputs": [],
   "source": [
    "with open('Datasets\\md_gender\\md_complete.json','r',encoding=\"utf8\") as f:\n",
    "    md_data = json.load(f)"
   ]
  },
  {
   "cell_type": "code",
   "execution_count": 11,
   "metadata": {},
   "outputs": [],
   "source": [
    "md_tokenized = generic.tokenize_dataset_with_dependencies(md_data,['about','to','as'],vocab,model_conf) \n",
    "\n",
    "\n",
    "md_dataset = {}\n",
    "for task in ['to','as','about']:\n",
    "    md_dataset[task] = st.DatasetSingleTaskDep(md_tokenized,task,eval=True)"
   ]
  },
  {
   "attachments": {},
   "cell_type": "markdown",
   "metadata": {},
   "source": [
    "# Creación dataloaders"
   ]
  },
  {
   "cell_type": "code",
   "execution_count": 12,
   "metadata": {},
   "outputs": [],
   "source": [
    "dl_train = {}\n",
    "for task in ['to','as','about']:\n",
    "    dl_train[task] = DataLoader(convai_train_dataset[task],batch_size=128,shuffle=True,collate_fn=st.collate_fn)"
   ]
  },
  {
   "cell_type": "code",
   "execution_count": 13,
   "metadata": {},
   "outputs": [],
   "source": [
    "dl_val = {}\n",
    "for task in ['to','as','about']:\n",
    "    dl_val[task] = DataLoader(convai_val_dataset[task],batch_size=128,shuffle=True,collate_fn=st.collate_fn)"
   ]
  },
  {
   "cell_type": "code",
   "execution_count": 14,
   "metadata": {},
   "outputs": [],
   "source": [
    "dl_eval = {}\n",
    "for task in ['to','as','about']:\n",
    "    dl_eval[task] = DataLoader(md_dataset[task],batch_size=128,shuffle=False,collate_fn=st.collate_fn)"
   ]
  },
  {
   "attachments": {},
   "cell_type": "markdown",
   "metadata": {},
   "source": [
    "# ABOUT"
   ]
  },
  {
   "cell_type": "code",
   "execution_count": 15,
   "metadata": {},
   "outputs": [
    {
     "name": "stderr",
     "output_type": "stream",
     "text": [
      "Some weights of the model checkpoint at bert-base-cased were not used when initializing BertModel: ['cls.seq_relationship.weight', 'cls.predictions.transform.LayerNorm.weight', 'cls.predictions.transform.dense.weight', 'cls.predictions.decoder.weight', 'cls.predictions.transform.LayerNorm.bias', 'cls.predictions.transform.dense.bias', 'cls.predictions.bias', 'cls.seq_relationship.bias']\n",
      "- This IS expected if you are initializing BertModel from the checkpoint of a model trained on another task or with another architecture (e.g. initializing a BertForSequenceClassification model from a BertForPreTraining model).\n",
      "- This IS NOT expected if you are initializing BertModel from the checkpoint of a model that you expect to be exactly identical (initializing a BertForSequenceClassification model from a BertForSequenceClassification model).\n"
     ]
    }
   ],
   "source": [
    "model = st.SingleTaskDep(model_conf,vocab).to(device)\n",
    "save_path='m1_dep_bert_about_abs'"
   ]
  },
  {
   "cell_type": "code",
   "execution_count": 16,
   "metadata": {},
   "outputs": [
    {
     "name": "stdout",
     "output_type": "stream",
     "text": [
      "Using scikit learn accuracy por género en el conjunto about\n",
      "GLOBAL: 0.49362244897959184\n",
      "MALE 0.984375\n",
      "FEMALE 0.0225 \n",
      "\n",
      "Using scikit learn accuracy por género en el conjunto to\n",
      "GLOBAL: 0.5202020202020202\n",
      "MALE 0.9902676399026764\n",
      "FEMALE 0.013123359580052493 \n",
      "\n",
      "Using scikit learn accuracy por género en el conjunto as\n",
      "GLOBAL: 0.5202086049543677\n",
      "MALE 0.9772727272727273\n",
      "FEMALE 0.03234501347708895 \n",
      "\n"
     ]
    }
   ],
   "source": [
    "for task in ['about','to','as']:\n",
    "    print(f\"Using scikit learn accuracy por género en el conjunto {task}\")\n",
    "    print(f\"GLOBAL: {train.eval_function_single_sk(model,dl_eval[task])}\")\n",
    "    print(f\"MALE {train.eval_function_single_sk(model,dl_eval[task],gender='male')}\")\n",
    "    print(f\"FEMALE {train.eval_function_single_sk(model,dl_eval[task],gender='female')}\",'\\n')"
   ]
  },
  {
   "cell_type": "code",
   "execution_count": 17,
   "metadata": {},
   "outputs": [
    {
     "data": {
      "application/vnd.jupyter.widget-view+json": {
       "model_id": "f707098bbc3e4d7eba29cbff04bbc276",
       "version_major": 2,
       "version_minor": 0
      },
      "text/plain": [
       "  0%|          | 0/57400 [00:00<?, ?it/s]"
      ]
     },
     "metadata": {},
     "output_type": "display_data"
    },
    {
     "name": "stdout",
     "output_type": "stream",
     "text": [
      "Epoch 1 \t Training loss: 0.681216700359504 \t Validation loss: 0.6797408219111167 \t \n",
      "  1%|          | 574/57400 [01:39<2:32:04,  6.23it/s]\n",
      "Epoch 2 \t Training loss: 0.6717321011870581 \t Validation loss: 0.6665090120444863 \t \n",
      "  2%|▏         | 1148/57400 [03:18<2:44:00,  5.72it/s]\n",
      "Epoch 3 \t Training loss: 0.6507888257711191 \t Validation loss: 0.6273309214640472 \t \n",
      "  3%|▎         | 1722/57400 [04:57<2:31:44,  6.12it/s]\n",
      "Epoch 4 \t Training loss: 0.5851014794892135 \t Validation loss: 0.5288999100862923 \t \n",
      "  4%|▍         | 2296/57400 [06:36<2:28:50,  6.17it/s]\n",
      "Epoch 5 \t Training loss: 0.4907847197940541 \t Validation loss: 0.4455516606064166 \t \n",
      "  5%|▌         | 2870/57400 [08:14<2:29:15,  6.09it/s]\n",
      "Epoch 6 \t Training loss: 0.4336690688278617 \t Validation loss: 0.4031126281972659 \t \n",
      "  6%|▌         | 3444/57400 [09:53<2:12:29,  6.79it/s]\n",
      "Epoch 7 \t Training loss: 0.40405064447416245 \t Validation loss: 0.3804406220630064 \t \n",
      "  7%|▋         | 4018/57400 [11:30<2:22:49,  6.23it/s]\n",
      "Epoch 8 \t Training loss: 0.3853588923033106 \t Validation loss: 0.36582603141412895 \t \n",
      "  8%|▊         | 4592/57400 [13:09<2:31:18,  5.82it/s]\n",
      "Epoch 9 \t Training loss: 0.37293425747534126 \t Validation loss: 0.3557476469520795 \t \n",
      "  9%|▉         | 5166/57400 [14:47<2:22:01,  6.13it/s]\n",
      "Epoch 10 \t Training loss: 0.3634456891942938 \t Validation loss: 0.3493819327677711 \t \n",
      " 10%|█         | 5740/57400 [16:25<2:07:44,  6.74it/s]\n",
      "Epoch 11 \t Training loss: 0.3549634216917932 \t Validation loss: 0.3437356981685606 \t \n",
      " 11%|█         | 6314/57400 [18:03<2:19:33,  6.10it/s]\n",
      "Epoch 12 \t Training loss: 0.34878107900195837 \t Validation loss: 0.3374393880367279 \t \n",
      " 12%|█▏        | 6888/57400 [19:40<2:07:31,  6.60it/s]\n",
      "Epoch 13 \t Training loss: 0.34345511723478495 \t Validation loss: 0.3334265492730222 \t \n",
      " 13%|█▎        | 7462/57400 [21:17<2:24:07,  5.78it/s]\n",
      "Epoch 14 \t Training loss: 0.33705244589765726 \t Validation loss: 0.3299658917269464 \t \n",
      " 14%|█▍        | 8036/57400 [22:55<2:21:38,  5.81it/s]\n",
      "Epoch 15 \t Training loss: 0.3323559303368841 \t Validation loss: 0.3277378163095248 \t \n",
      " 15%|█▌        | 8610/57400 [24:32<2:09:38,  6.27it/s]\n",
      "Epoch 16 \t Training loss: 0.32756712308432584 \t Validation loss: 0.32390367328110387 \t \n",
      " 16%|█▌        | 9184/57400 [26:09<2:08:00,  6.28it/s]\n",
      "Epoch 17 \t Training loss: 0.3228584891412316 \t Validation loss: 0.3231175274161969 \t \n",
      " 17%|█▋        | 9758/57400 [27:47<2:03:41,  6.42it/s]\n",
      "Epoch 18 \t Training loss: 0.3186367857643121 \t Validation loss: 0.3207046505758318 \t \n",
      " 18%|█▊        | 10332/57400 [29:24<2:14:21,  5.84it/s]\n",
      "Epoch 19 \t Training loss: 0.3170725621205174 \t Validation loss: 0.31862085224208186 \t \n",
      " 19%|█▉        | 10906/57400 [31:01<2:12:38,  5.84it/s]\n",
      "Epoch 20 \t Training loss: 0.3128191662582371 \t Validation loss: 0.31547619629714446 \t \n",
      " 20%|██        | 11480/57400 [32:37<1:47:58,  7.09it/s]\n",
      "Epoch 21 \t Training loss: 0.30993590576619634 \t Validation loss: 0.3149870154211077 \t \n",
      " 21%|██        | 12054/57400 [34:06<1:59:47,  6.31it/s]\n",
      "Epoch 22 \t Training loss: 0.30574659987609143 \t Validation loss: 0.31384081507133227 \t \n",
      " 22%|██▏       | 12628/57400 [35:35<1:51:22,  6.70it/s]\n",
      "Epoch 23 \t Training loss: 0.3040272398796646 \t Validation loss: 0.31189935768054705 \t \n",
      " 23%|██▎       | 13202/57400 [37:04<1:41:23,  7.27it/s]\n",
      "Epoch 24 \t Training loss: 0.2998534931123049 \t Validation loss: 0.31134161908747787 \t \n",
      " 24%|██▍       | 13776/57400 [38:34<1:44:32,  6.95it/s]\n",
      "Epoch 25 \t Training loss: 0.29711602462085696 \t Validation loss: 0.3097501470375869 \t \n",
      " 25%|██▌       | 14350/57400 [40:03<1:53:17,  6.33it/s]\n",
      "Epoch 26 \t Training loss: 0.2939670124847299 \t Validation loss: 0.3101764154636254 \t \n",
      " 26%|██▌       | 14924/57400 [41:32<1:45:31,  6.71it/s]\n",
      "Epoch 27 \t Training loss: 0.293707024319039 \t Validation loss: 0.30717324023529635 \t \n",
      " 27%|██▋       | 15498/57400 [43:02<1:43:25,  6.75it/s]\n",
      "Epoch 28 \t Training loss: 0.28936100891346717 \t Validation loss: 0.3062294724129014 \t \n",
      " 28%|██▊       | 16072/57400 [44:31<1:41:22,  6.79it/s]\n",
      "Epoch 29 \t Training loss: 0.28888588712813545 \t Validation loss: 0.3039619753421363 \t \n",
      " 29%|██▉       | 16646/57400 [46:00<1:40:26,  6.76it/s]\n",
      "Epoch 30 \t Training loss: 0.28643680257456644 \t Validation loss: 0.3120528954570576 \t \n",
      "\n",
      "1 epoch without improvement\n",
      " 30%|███       | 17220/57400 [47:29<1:37:58,  6.83it/s]\n",
      "Epoch 31 \t Training loss: 0.2836859809812353 \t Validation loss: 0.3047207240330971 \t \n",
      " 31%|███       | 17794/57400 [48:58<1:35:01,  6.95it/s]\n",
      "Epoch 32 \t Training loss: 0.2818944250405458 \t Validation loss: 0.3016427305795379 \t \n",
      " 32%|███▏      | 18368/57400 [50:27<1:38:11,  6.63it/s]\n",
      "Epoch 33 \t Training loss: 0.27930904197983625 \t Validation loss: 0.30497749553898634 \t \n",
      "\n",
      "1 epoch without improvement\n",
      " 33%|███▎      | 18942/57400 [51:56<1:34:48,  6.76it/s]\n",
      "Epoch 34 \t Training loss: 0.2782098354726303 \t Validation loss: 0.30002074903350767 \t \n",
      " 34%|███▍      | 19516/57400 [53:25<1:44:28,  6.04it/s]\n",
      "Epoch 35 \t Training loss: 0.2774435391046029 \t Validation loss: 0.3016313094708879 \t \n",
      "\n",
      "1 epoch without improvement\n",
      " 35%|███▌      | 20090/57400 [54:54<1:34:34,  6.57it/s]\n",
      "Epoch 36 \t Training loss: 0.27514777555802145 \t Validation loss: 0.29892574478003936 \t \n",
      " 36%|███▌      | 20664/57400 [56:24<1:32:42,  6.60it/s]\n",
      "Epoch 37 \t Training loss: 0.27272976594831055 \t Validation loss: 0.30002697418301794 \t \n",
      "\n",
      "1 epoch without improvement\n",
      " 37%|███▋      | 21238/57400 [57:53<1:31:34,  6.58it/s]\n",
      "Epoch 38 \t Training loss: 0.27170503710620497 \t Validation loss: 0.29846175444328177 \t \n",
      " 38%|███▊      | 21812/57400 [59:23<1:32:52,  6.39it/s]\n",
      "Epoch 39 \t Training loss: 0.2687375676081571 \t Validation loss: 0.3003879234952442 \t \n",
      "\n",
      "1 epoch without improvement\n",
      " 39%|███▉      | 22386/57400 [1:00:51<1:28:17,  6.61it/s]\n",
      "Epoch 40 \t Training loss: 0.2672324824675866 \t Validation loss: 0.29879391243902303 \t \n",
      " 40%|████      | 22960/57400 [1:02:20<1:24:09,  6.82it/s]\n",
      "Epoch 41 \t Training loss: 0.2665084665349136 \t Validation loss: 0.2975952405545671 \t \n",
      " 41%|████      | 23534/57400 [1:03:50<1:16:57,  7.33it/s]\n",
      "Epoch 42 \t Training loss: 0.2651574540792442 \t Validation loss: 0.2964502085568541 \t \n",
      " 42%|████▏     | 24108/57400 [1:05:20<1:14:46,  7.42it/s]\n",
      "Epoch 43 \t Training loss: 0.2641144344252161 \t Validation loss: 0.2961778009341935 \t \n",
      " 43%|████▎     | 24682/57400 [1:06:49<1:22:34,  6.60it/s]\n",
      "Epoch 44 \t Training loss: 0.26155934867024005 \t Validation loss: 0.2967590214842457 \t \n",
      " 44%|████▍     | 25256/57400 [1:08:18<1:23:26,  6.42it/s]\n",
      "Epoch 45 \t Training loss: 0.25962096042541677 \t Validation loss: 0.29557510073912346 \t \n",
      " 45%|████▌     | 25830/57400 [1:09:48<1:18:17,  6.72it/s]\n",
      "Epoch 46 \t Training loss: 0.2591942444910986 \t Validation loss: 0.29656606407488806 \t \n",
      " 46%|████▌     | 26404/57400 [1:11:17<1:15:49,  6.81it/s]\n",
      "Epoch 47 \t Training loss: 0.25846230667019554 \t Validation loss: 0.295821357329013 \t \n",
      " 47%|████▋     | 26978/57400 [1:12:46<1:12:50,  6.96it/s]\n",
      "Epoch 48 \t Training loss: 0.25677304526706607 \t Validation loss: 0.29617979137574213 \t \n",
      " 48%|████▊     | 27552/57400 [1:14:15<1:13:47,  6.74it/s]\n",
      "Epoch 49 \t Training loss: 0.2534848919676987 \t Validation loss: 0.297000126313355 \t \n",
      "\n",
      "1 epoch without improvement\n",
      " 49%|████▉     | 28126/57400 [1:15:44<1:08:44,  7.10it/s]\n",
      "Epoch 50 \t Training loss: 0.2545881483976434 \t Validation loss: 0.2951341324438483 \t \n",
      " 50%|█████     | 28700/57400 [1:17:14<1:15:23,  6.34it/s]\n",
      "Epoch 51 \t Training loss: 0.25329877473803347 \t Validation loss: 0.29643867303759364 \t \n",
      "\n",
      "1 epoch without improvement\n",
      " 51%|█████     | 29274/57400 [1:18:43<1:09:35,  6.74it/s]\n",
      "Epoch 52 \t Training loss: 0.25146122757046896 \t Validation loss: 0.29654055151898984 \t \n",
      "\n",
      "2 epoch without improvement\n",
      " 52%|█████▏    | 29848/57400 [1:20:11<1:17:24,  5.93it/s]\n",
      "Epoch 53 \t Training loss: 0.2518800688901014 \t Validation loss: 0.29415806193472976 \t \n",
      " 53%|█████▎    | 30422/57400 [1:21:41<1:12:03,  6.24it/s]\n",
      "Epoch 54 \t Training loss: 0.25100704209833613 \t Validation loss: 0.29496836308705604 \t \n",
      " 54%|█████▍    | 30996/57400 [1:23:09<1:06:35,  6.61it/s]\n",
      "Epoch 55 \t Training loss: 0.2501122111694738 \t Validation loss: 0.29420533801539467 \t \n",
      " 55%|█████▌    | 31570/57400 [1:24:38<1:01:10,  7.04it/s]\n",
      "Epoch 56 \t Training loss: 0.24900249947342723 \t Validation loss: 0.29410368936546777 \t \n",
      " 56%|█████▌    | 32144/57400 [1:26:07<1:03:09,  6.67it/s]\n",
      "Epoch 57 \t Training loss: 0.24811470368390298 \t Validation loss: 0.29459760603258167 \t \n",
      " 57%|█████▋    | 32718/57400 [1:27:36<1:04:29,  6.38it/s]\n",
      "Epoch 58 \t Training loss: 0.244097418537954 \t Validation loss: 0.2955861629570945 \t \n",
      "\n",
      "1 epoch without improvement\n",
      " 58%|█████▊    | 33292/57400 [1:29:05<57:39,  6.97it/s]\n",
      "Epoch 59 \t Training loss: 0.2436337581079596 \t Validation loss: 0.29545554518699646 \t \n",
      "\n",
      "2 epoch without improvement\n",
      " 59%|█████▉    | 33866/57400 [1:30:34<1:01:00,  6.43it/s]\n",
      "Epoch 60 \t Training loss: 0.24383467373532286 \t Validation loss: 0.2958638544304896 \t \n",
      "\n",
      "3 epoch without improvement\n",
      " 60%|██████    | 34440/57400 [1:32:02<59:11,  6.47it/s]\n",
      "Epoch 61 \t Training loss: 0.24460132749757701 \t Validation loss: 0.2947037745330293 \t \n",
      " 61%|██████    | 35014/57400 [1:33:31<56:23,  6.62it/s]\n",
      "Epoch 62 \t Training loss: 0.24196495146909242 \t Validation loss: 0.29518402178408737 \t \n",
      "\n",
      "4 epoch without improvement\n",
      " 62%|██████▏   | 35588/57400 [1:35:00<56:06,  6.48it/s]\n",
      "Epoch 63 \t Training loss: 0.2430535099933164 \t Validation loss: 0.29510190527317887 \t \n",
      " 63%|██████▎   | 36162/57400 [1:36:28<51:15,  6.91it/s]\n",
      "Epoch 64 \t Training loss: 0.2406210378591192 \t Validation loss: 0.2951118961229163 \t \n",
      "\n",
      "5 epoch without improvement\n",
      " 64%|██████▍   | 36736/57400 [1:37:57<51:37,  6.67it/s]\n",
      "Epoch 65 \t Training loss: 0.24011579249378695 \t Validation loss: 0.2949560436151795 \t \n",
      " 65%|██████▌   | 37310/57400 [1:39:26<49:40,  6.74it/s]\n",
      "Epoch 66 \t Training loss: 0.2392339744971812 \t Validation loss: 0.2944164541313204 \t \n",
      " 66%|██████▌   | 37884/57400 [1:40:55<49:15,  6.60it/s]\n",
      "Epoch 67 \t Training loss: 0.23870132237880487 \t Validation loss: 0.29470951653133004 \t \n",
      " 67%|██████▋   | 38458/57400 [1:42:24<45:21,  6.96it/s]\n",
      "Epoch 68 \t Training loss: 0.23726473995305936 \t Validation loss: 0.29613490326929903 \t \n",
      "\n",
      "6 epoch without improvement\n",
      " 68%|██████▊   | 39032/57400 [1:43:53<45:29,  6.73it/s]\n",
      "Epoch 69 \t Training loss: 0.23619061004928596 \t Validation loss: 0.2971381365747775 \t \n",
      "\n",
      "7 epoch without improvement\n",
      " 69%|██████▉   | 39606/57400 [1:45:23<44:53,  6.61it/s]\n",
      "Epoch 70 \t Training loss: 0.23703375341896396 \t Validation loss: 0.29450118516461327 \t \n",
      " 70%|███████   | 40180/57400 [1:46:52<45:05,  6.37it/s]\n",
      "Epoch 71 \t Training loss: 0.23545350266769788 \t Validation loss: 0.29395925720869487 \t \n",
      " 71%|███████   | 40754/57400 [1:48:22<42:14,  6.57it/s]\n",
      "Epoch 72 \t Training loss: 0.2360319565553283 \t Validation loss: 0.2953891251551903 \t \n",
      "\n",
      "1 epoch without improvement\n",
      " 72%|███████▏  | 41328/57400 [1:49:50<37:59,  7.05it/s]\n",
      "Epoch 73 \t Training loss: 0.23478745416014452 \t Validation loss: 0.2933993384999744 \t \n",
      " 73%|███████▎  | 41902/57400 [1:51:20<37:05,  6.96it/s]\n",
      "Epoch 74 \t Training loss: 0.23407731680296856 \t Validation loss: 0.2937514701132047 \t \n",
      " 74%|███████▍  | 42476/57400 [1:52:49<38:35,  6.45it/s]\n",
      "Epoch 75 \t Training loss: 0.23465725941784707 \t Validation loss: 0.29351897613476896 \t \n",
      " 75%|███████▌  | 43050/57400 [1:54:18<36:13,  6.60it/s]\n",
      "Epoch 76 \t Training loss: 0.23355318912230302 \t Validation loss: 0.2954936090667369 \t \n",
      "\n",
      "1 epoch without improvement\n",
      " 76%|███████▌  | 43624/57400 [1:55:48<36:57,  6.21it/s]\n",
      "Epoch 77 \t Training loss: 0.23267865261445894 \t Validation loss: 0.295391769227335 \t \n",
      "\n",
      "2 epoch without improvement\n",
      " 77%|███████▋  | 44198/57400 [1:57:27<36:38,  6.00it/s]\n",
      "Epoch 78 \t Training loss: 0.2325321250053233 \t Validation loss: 0.2939922599974325 \t \n",
      " 78%|███████▊  | 44772/57400 [1:59:05<34:31,  6.10it/s]\n",
      "Epoch 79 \t Training loss: 0.2317499030472302 \t Validation loss: 0.29505180302312817 \t \n",
      "\n",
      "3 epoch without improvement\n",
      " 79%|███████▉  | 45346/57400 [2:00:43<31:02,  6.47it/s]\n",
      "Epoch 80 \t Training loss: 0.23023208814838622 \t Validation loss: 0.2950370127366761 \t \n",
      "\n",
      "4 epoch without improvement\n",
      " 80%|████████  | 45920/57400 [2:02:22<31:35,  6.06it/s]\n",
      "Epoch 81 \t Training loss: 0.23032919447284958 \t Validation loss: 0.2954678202079514 \t \n",
      "\n",
      "5 epoch without improvement\n",
      " 81%|████████  | 46494/57400 [2:04:00<31:02,  5.86it/s]\n",
      "Epoch 82 \t Training loss: 0.2309893358771394 \t Validation loss: 0.295184108917996 \t \n",
      "\n",
      "6 epoch without improvement\n",
      " 82%|████████▏ | 47068/57400 [2:05:39<27:11,  6.33it/s]\n",
      "Epoch 83 \t Training loss: 0.23048923136049862 \t Validation loss: 0.2965052890575538 \t \n",
      "\n",
      "7 epoch without improvement\n",
      " 83%|████████▎ | 47642/57400 [2:07:18<27:04,  6.01it/s]\n",
      "Epoch 84 \t Training loss: 0.22831773262094537 \t Validation loss: 0.2937825391605749 \t \n",
      " 84%|████████▍ | 48216/57400 [2:08:56<24:55,  6.14it/s]\n",
      "Epoch 85 \t Training loss: 0.22881271670660075 \t Validation loss: 0.29563416313316865 \t \n",
      "\n",
      "8 epoch without improvement\n",
      " 85%|████████▌ | 48790/57400 [2:10:35<28:23,  5.05it/s]\n",
      "Epoch 86 \t Training loss: 0.22907254767023313 \t Validation loss: 0.29640293298131326 \t \n",
      "\n",
      "9 epoch without improvement\n",
      " 86%|████████▌ | 49364/57400 [2:12:07<21:14,  6.30it/s]\n",
      "Epoch 87 \t Training loss: 0.22713874623127514 \t Validation loss: 0.2961220397787579 \t \n",
      "\n",
      "10 epoch without improvement\n",
      "Validation_loss hasn't improve in 10 epoch. Stopping training after 87 epochs...\n"
     ]
    },
    {
     "data": {
      "image/png": "[encoded data removed]",
      "text/plain": [
       "<Figure size 640x480 with 1 Axes>"
      ]
     },
     "metadata": {},
     "output_type": "display_data"
    }
   ],
   "source": [
    "learning_rate = 5e-5\n",
    "optimizer = SGD(model.parameters(), lr=learning_rate, momentum=0.9)\n",
    "num_epochs = 100\n",
    "\n",
    "train.train_function(model,num_epochs,dl_train['about'],optimizer,early_stop=10,dl_val=dl_val['about'],save_path=save_path)"
   ]
  },
  {
   "cell_type": "code",
   "execution_count": 18,
   "metadata": {},
   "outputs": [
    {
     "name": "stderr",
     "output_type": "stream",
     "text": [
      "Some weights of the model checkpoint at bert-base-cased were not used when initializing BertModel: ['cls.seq_relationship.weight', 'cls.predictions.transform.LayerNorm.weight', 'cls.predictions.transform.dense.weight', 'cls.predictions.decoder.weight', 'cls.predictions.transform.LayerNorm.bias', 'cls.predictions.transform.dense.bias', 'cls.predictions.bias', 'cls.seq_relationship.bias']\n",
      "- This IS expected if you are initializing BertModel from the checkpoint of a model trained on another task or with another architecture (e.g. initializing a BertForSequenceClassification model from a BertForPreTraining model).\n",
      "- This IS NOT expected if you are initializing BertModel from the checkpoint of a model that you expect to be exactly identical (initializing a BertForSequenceClassification model from a BertForSequenceClassification model).\n"
     ]
    },
    {
     "name": "stdout",
     "output_type": "stream",
     "text": [
      "Using scikit learn accuracy por género en el conjunto about\n",
      "GLOBAL: 0.8558673469387755\n",
      "MALE 0.8697916666666666\n",
      "FEMALE 0.8425 \n",
      "\n",
      "Using scikit learn accuracy por género en el conjunto to\n",
      "GLOBAL: 0.6856060606060606\n",
      "MALE 0.7031630170316302\n",
      "FEMALE 0.6666666666666666 \n",
      "\n",
      "Using scikit learn accuracy por género en el conjunto as\n",
      "GLOBAL: 0.681877444589309\n",
      "MALE 0.702020202020202\n",
      "FEMALE 0.660377358490566 \n",
      "\n"
     ]
    }
   ],
   "source": [
    "model = st.SingleTaskDep(model_conf,vocab).to(device)\n",
    "model.load_state_dict(torch.load(save_path))\n",
    "for task in ['about','to','as']:\n",
    "    print(f\"Using scikit learn accuracy por género en el conjunto {task}\")\n",
    "    print(f\"GLOBAL: {train.eval_function_single_sk(model,dl_eval[task])}\")\n",
    "    print(f\"MALE {train.eval_function_single_sk(model,dl_eval[task],gender='male')}\")\n",
    "    print(f\"FEMALE {train.eval_function_single_sk(model,dl_eval[task],gender='female')}\",'\\n')"
   ]
  },
  {
   "attachments": {},
   "cell_type": "markdown",
   "metadata": {},
   "source": [
    "# TO"
   ]
  },
  {
   "cell_type": "code",
   "execution_count": 19,
   "metadata": {},
   "outputs": [
    {
     "name": "stderr",
     "output_type": "stream",
     "text": [
      "Some weights of the model checkpoint at bert-base-cased were not used when initializing BertModel: ['cls.seq_relationship.weight', 'cls.predictions.transform.LayerNorm.weight', 'cls.predictions.transform.dense.weight', 'cls.predictions.decoder.weight', 'cls.predictions.transform.LayerNorm.bias', 'cls.predictions.transform.dense.bias', 'cls.predictions.bias', 'cls.seq_relationship.bias']\n",
      "- This IS expected if you are initializing BertModel from the checkpoint of a model trained on another task or with another architecture (e.g. initializing a BertForSequenceClassification model from a BertForPreTraining model).\n",
      "- This IS NOT expected if you are initializing BertModel from the checkpoint of a model that you expect to be exactly identical (initializing a BertForSequenceClassification model from a BertForSequenceClassification model).\n"
     ]
    }
   ],
   "source": [
    "model = st.SingleTaskDep(model_conf,vocab).to(device)\n",
    "save_path='m1_dep_bert_to_abs'"
   ]
  },
  {
   "cell_type": "code",
   "execution_count": 20,
   "metadata": {},
   "outputs": [
    {
     "data": {
      "application/vnd.jupyter.widget-view+json": {
       "model_id": "b86de50bdfdd4cea88e5115cc20c9474",
       "version_major": 2,
       "version_minor": 0
      },
      "text/plain": [
       "  0%|          | 0/57400 [00:00<?, ?it/s]"
      ]
     },
     "metadata": {},
     "output_type": "display_data"
    },
    {
     "name": "stdout",
     "output_type": "stream",
     "text": [
      "Epoch 1 \t Training loss: 0.6954724291268126 \t Validation loss: 0.6923597606561952 \t \n",
      "  1%|          | 574/57400 [01:29<2:35:09,  6.10it/s]\n",
      "Epoch 2 \t Training loss: 0.6950350187796749 \t Validation loss: 0.6937920531984103 \t \n",
      "\n",
      "1 epoch without improvement\n",
      "  2%|▏         | 1148/57400 [02:59<2:16:49,  6.85it/s]\n",
      "Epoch 3 \t Training loss: 0.6945310842492439 \t Validation loss: 0.6929561839265338 \t \n",
      "  3%|▎         | 1722/57400 [04:28<2:24:42,  6.41it/s]\n",
      "Epoch 4 \t Training loss: 0.6942335874984489 \t Validation loss: 0.6940407621658454 \t \n",
      "\n",
      "2 epoch without improvement\n",
      "  4%|▍         | 2296/57400 [05:58<2:26:13,  6.28it/s]\n",
      "Epoch 5 \t Training loss: 0.6940571338665195 \t Validation loss: 0.6942763075990191 \t \n",
      "\n",
      "3 epoch without improvement\n",
      "  5%|▌         | 2870/57400 [07:28<2:22:02,  6.40it/s]\n",
      "Epoch 6 \t Training loss: 0.6941742910533001 \t Validation loss: 0.6937854077856419 \t \n",
      "\n",
      "4 epoch without improvement\n",
      "  6%|▌         | 3444/57400 [08:57<2:10:44,  6.88it/s]\n",
      "Epoch 7 \t Training loss: 0.69395623369084 \t Validation loss: 0.6945385599540452 \t \n",
      "\n",
      "5 epoch without improvement\n",
      "  7%|▋         | 4018/57400 [10:26<2:15:22,  6.57it/s]\n",
      "Epoch 8 \t Training loss: 0.694177438884662 \t Validation loss: 0.6941390209278818 \t \n",
      "\n",
      "6 epoch without improvement\n",
      "  8%|▊         | 4592/57400 [11:56<2:13:52,  6.57it/s]\n",
      "Epoch 9 \t Training loss: 0.6937129912891454 \t Validation loss: 0.6934196908595198 \t \n",
      "\n",
      "7 epoch without improvement\n",
      "  9%|▉         | 5166/57400 [13:26<2:10:24,  6.68it/s]\n",
      "Epoch 10 \t Training loss: 0.6942561053855909 \t Validation loss: 0.6931759502928135 \t \n",
      " 10%|█         | 5740/57400 [14:57<2:22:02,  6.06it/s]\n",
      "Epoch 11 \t Training loss: 0.6938811927929988 \t Validation loss: 0.6925279619330067 \t \n",
      " 11%|█         | 6314/57400 [16:35<2:17:08,  6.21it/s]\n",
      "Epoch 12 \t Training loss: 0.693839216377677 \t Validation loss: 0.6936134483854649 \t \n",
      "\n",
      "8 epoch without improvement\n",
      " 12%|█▏        | 6888/57400 [18:13<2:20:53,  5.98it/s]\n",
      "Epoch 13 \t Training loss: 0.6939273357183676 \t Validation loss: 0.6933058803364381 \t \n",
      " 13%|█▎        | 7462/57400 [19:52<2:20:00,  5.94it/s]\n",
      "Epoch 14 \t Training loss: 0.6936063010518144 \t Validation loss: 0.6929636779478041 \t \n",
      " 14%|█▍        | 8036/57400 [21:31<2:17:24,  5.99it/s]\n",
      "Epoch 15 \t Training loss: 0.6937921085631806 \t Validation loss: 0.6922787549132008 \t \n",
      " 15%|█▌        | 8610/57400 [23:10<2:17:43,  5.90it/s]\n",
      "Epoch 16 \t Training loss: 0.6937447659645346 \t Validation loss: 0.694146351288941 \t \n",
      "\n",
      "1 epoch without improvement\n",
      " 16%|█▌        | 9184/57400 [24:49<2:10:10,  6.17it/s]\n",
      "Epoch 17 \t Training loss: 0.6937682479100775 \t Validation loss: 0.6935494481506994 \t \n",
      "\n",
      "2 epoch without improvement\n",
      " 17%|█▋        | 9758/57400 [26:27<1:59:04,  6.67it/s]\n",
      "Epoch 18 \t Training loss: 0.6937864269113707 \t Validation loss: 0.692314970291267 \t \n",
      " 18%|█▊        | 10332/57400 [28:05<2:53:21,  4.53it/s]\n",
      "Epoch 19 \t Training loss: 0.6937025603724689 \t Validation loss: 0.6929152961504661 \t \n",
      " 19%|█▉        | 10906/57400 [29:43<1:56:37,  6.64it/s]\n",
      "Epoch 20 \t Training loss: 0.6935280277961637 \t Validation loss: 0.6931138836731345 \t \n",
      " 20%|██        | 11480/57400 [31:14<1:43:20,  7.41it/s]\n",
      "Epoch 21 \t Training loss: 0.6935188608302472 \t Validation loss: 0.6931625998626321 \t \n",
      " 21%|██        | 12054/57400 [32:43<1:55:52,  6.52it/s]\n",
      "Epoch 22 \t Training loss: 0.6935450363034571 \t Validation loss: 0.6929131705882186 \t \n",
      " 22%|██▏       | 12628/57400 [34:12<1:56:31,  6.40it/s]\n",
      "Epoch 23 \t Training loss: 0.6936725812091229 \t Validation loss: 0.6929054603738299 \t \n",
      " 23%|██▎       | 13202/57400 [35:42<1:50:52,  6.64it/s]\n",
      "Epoch 24 \t Training loss: 0.6933576104325284 \t Validation loss: 0.693711911217641 \t \n",
      "\n",
      "3 epoch without improvement\n",
      " 24%|██▍       | 13776/57400 [37:12<1:37:19,  7.47it/s]\n",
      "Epoch 25 \t Training loss: 0.6933797877217004 \t Validation loss: 0.69317100714829 \t \n",
      " 25%|██▌       | 14350/57400 [38:41<1:49:09,  6.57it/s]\n",
      "Epoch 26 \t Training loss: 0.6935808830975655 \t Validation loss: 0.6930347489098371 \t \n",
      " 26%|██▌       | 14924/57400 [40:10<1:46:01,  6.68it/s]\n",
      "Epoch 27 \t Training loss: 0.6937435647336448 \t Validation loss: 0.692356787495694 \t \n",
      " 27%|██▋       | 15498/57400 [41:40<1:41:19,  6.89it/s]\n",
      "Epoch 28 \t Training loss: 0.6933594250512871 \t Validation loss: 0.693208046888901 \t \n",
      " 28%|██▊       | 16072/57400 [43:10<1:43:17,  6.67it/s]\n",
      "Epoch 29 \t Training loss: 0.6934519584585981 \t Validation loss: 0.6925397596116794 \t \n",
      " 29%|██▉       | 16646/57400 [44:39<2:22:28,  4.77it/s]\n",
      "Epoch 30 \t Training loss: 0.693606806964409 \t Validation loss: 0.6943715063192076 \t \n",
      "\n",
      "4 epoch without improvement\n",
      " 30%|███       | 17220/57400 [46:08<1:41:33,  6.59it/s]\n",
      "Epoch 31 \t Training loss: 0.6934585113350938 \t Validation loss: 0.692141774347273 \t \n",
      " 31%|███       | 17794/57400 [47:38<1:52:46,  5.85it/s]\n",
      "Epoch 32 \t Training loss: 0.6935980802836734 \t Validation loss: 0.6929534895945404 \t \n",
      " 32%|███▏      | 18368/57400 [49:08<1:36:31,  6.74it/s]\n",
      "Epoch 33 \t Training loss: 0.6933143979996339 \t Validation loss: 0.6929544654943175 \t \n",
      " 33%|███▎      | 18942/57400 [50:38<1:39:08,  6.47it/s]\n",
      "Epoch 34 \t Training loss: 0.6934037309282748 \t Validation loss: 0.6932587926670656 \t \n",
      "\n",
      "1 epoch without improvement\n",
      " 34%|███▍      | 19516/57400 [52:07<1:25:12,  7.41it/s]\n",
      "Epoch 35 \t Training loss: 0.6935204429493549 \t Validation loss: 0.6927018741429862 \t \n",
      " 35%|███▌      | 20090/57400 [53:37<1:47:00,  5.81it/s]\n",
      "Epoch 36 \t Training loss: 0.6934267244064849 \t Validation loss: 0.6929575608948529 \t \n",
      " 36%|███▌      | 20664/57400 [55:07<1:29:22,  6.85it/s]\n",
      "Epoch 37 \t Training loss: 0.6934408027328265 \t Validation loss: 0.6926432181212862 \t \n",
      " 37%|███▋      | 21238/57400 [56:36<1:32:17,  6.53it/s]\n",
      "Epoch 38 \t Training loss: 0.6934682553445836 \t Validation loss: 0.692566892858279 \t \n",
      " 38%|███▊      | 21812/57400 [58:06<1:25:52,  6.91it/s]\n",
      "Epoch 39 \t Training loss: 0.693404954588787 \t Validation loss: 0.6933806366839651 \t \n",
      "\n",
      "2 epoch without improvement\n",
      " 39%|███▉      | 22386/57400 [59:35<1:27:09,  6.70it/s]\n",
      "Epoch 40 \t Training loss: 0.693381321762497 \t Validation loss: 0.6936952865729897 \t \n",
      "\n",
      "3 epoch without improvement\n",
      " 40%|████      | 22960/57400 [1:01:04<1:29:55,  6.38it/s]\n",
      "Epoch 41 \t Training loss: 0.6935602388107818 \t Validation loss: 0.6934242400072389 \t \n",
      "\n",
      "4 epoch without improvement\n",
      " 41%|████      | 23534/57400 [1:02:34<1:24:57,  6.64it/s]\n",
      "Epoch 42 \t Training loss: 0.6933083730499919 \t Validation loss: 0.693377164460845 \t \n",
      "\n",
      "5 epoch without improvement\n",
      " 42%|████▏     | 24108/57400 [1:04:03<1:26:27,  6.42it/s]\n",
      "Epoch 43 \t Training loss: 0.6932486524149931 \t Validation loss: 0.6931830311225633 \t \n",
      "\n",
      "6 epoch without improvement\n",
      " 43%|████▎     | 24682/57400 [1:05:32<1:20:12,  6.80it/s]\n",
      "Epoch 44 \t Training loss: 0.6935608355841155 \t Validation loss: 0.6924411614062422 \t \n",
      " 44%|████▍     | 25256/57400 [1:07:02<1:23:26,  6.42it/s]\n",
      "Epoch 45 \t Training loss: 0.6933471312298592 \t Validation loss: 0.6926678227165998 \t \n",
      " 45%|████▌     | 25830/57400 [1:08:31<1:09:45,  7.54it/s]\n",
      "Epoch 46 \t Training loss: 0.6933920982615043 \t Validation loss: 0.6927476808176203 \t \n",
      " 46%|████▌     | 26404/57400 [1:10:00<1:15:14,  6.87it/s]\n",
      "Epoch 47 \t Training loss: 0.6931811168218739 \t Validation loss: 0.6933544136710086 \t \n",
      "\n",
      "7 epoch without improvement\n",
      " 47%|████▋     | 26978/57400 [1:11:30<1:16:00,  6.67it/s]\n",
      "Epoch 48 \t Training loss: 0.6933065636232755 \t Validation loss: 0.6931059895935705 \t \n",
      " 48%|████▊     | 27552/57400 [1:13:00<1:09:35,  7.15it/s]\n",
      "Epoch 49 \t Training loss: 0.693384675302572 \t Validation loss: 0.6933218038688271 \t \n",
      "\n",
      "8 epoch without improvement\n",
      " 49%|████▉     | 28126/57400 [1:14:30<1:18:46,  6.19it/s]\n",
      "Epoch 50 \t Training loss: 0.6933030611754295 \t Validation loss: 0.6935015755184626 \t \n",
      "\n",
      "9 epoch without improvement\n",
      " 50%|█████     | 28700/57400 [1:16:00<1:05:50,  7.26it/s]\n",
      "Epoch 51 \t Training loss: 0.6930123675575655 \t Validation loss: 0.6932108210305036 \t \n",
      "\n",
      "10 epoch without improvement\n",
      "Validation_loss hasn't improve in 10 epoch. Stopping training after 51 epochs...\n"
     ]
    },
    {
     "data": {
      "image/png": "[encoded data removed]",
      "text/plain": [
       "<Figure size 640x480 with 1 Axes>"
      ]
     },
     "metadata": {},
     "output_type": "display_data"
    }
   ],
   "source": [
    "learning_rate = 5e-5\n",
    "optimizer = SGD(model.parameters(), lr=learning_rate, momentum=0.9)\n",
    "num_epochs = 100\n",
    "\n",
    "train.train_function(model,num_epochs,dl_train['to'],optimizer,early_stop=10,dl_val=dl_val['to'],save_path=save_path)"
   ]
  },
  {
   "cell_type": "code",
   "execution_count": 21,
   "metadata": {},
   "outputs": [
    {
     "name": "stderr",
     "output_type": "stream",
     "text": [
      "Some weights of the model checkpoint at bert-base-cased were not used when initializing BertModel: ['cls.seq_relationship.weight', 'cls.predictions.transform.LayerNorm.weight', 'cls.predictions.transform.dense.weight', 'cls.predictions.decoder.weight', 'cls.predictions.transform.LayerNorm.bias', 'cls.predictions.transform.dense.bias', 'cls.predictions.bias', 'cls.seq_relationship.bias']\n",
      "- This IS expected if you are initializing BertModel from the checkpoint of a model trained on another task or with another architecture (e.g. initializing a BertForSequenceClassification model from a BertForPreTraining model).\n",
      "- This IS NOT expected if you are initializing BertModel from the checkpoint of a model that you expect to be exactly identical (initializing a BertForSequenceClassification model from a BertForSequenceClassification model).\n"
     ]
    },
    {
     "name": "stdout",
     "output_type": "stream",
     "text": [
      "Using scikit learn accuracy por género en el conjunto about\n",
      "GLOBAL: 0.5076530612244898\n",
      "MALE 0.15104166666666666\n",
      "FEMALE 0.85 \n",
      "\n",
      "Using scikit learn accuracy por género en el conjunto to\n",
      "GLOBAL: 0.5113636363636364\n",
      "MALE 0.17274939172749393\n",
      "FEMALE 0.8766404199475065 \n",
      "\n",
      "Using scikit learn accuracy por género en el conjunto as\n",
      "GLOBAL: 0.48239895697522817\n",
      "MALE 0.13636363636363635\n",
      "FEMALE 0.8517520215633423 \n",
      "\n"
     ]
    }
   ],
   "source": [
    "model = st.SingleTaskDep(model_conf,vocab).to(device)\n",
    "model.load_state_dict(torch.load(save_path))\n",
    "for task in ['about','to','as']:\n",
    "    print(f\"Using scikit learn accuracy por género en el conjunto {task}\")\n",
    "    print(f\"GLOBAL: {train.eval_function_single_sk(model,dl_eval[task])}\")\n",
    "    print(f\"MALE {train.eval_function_single_sk(model,dl_eval[task],gender='male')}\")\n",
    "    print(f\"FEMALE {train.eval_function_single_sk(model,dl_eval[task],gender='female')}\",'\\n')"
   ]
  },
  {
   "attachments": {},
   "cell_type": "markdown",
   "metadata": {},
   "source": [
    "# AS"
   ]
  },
  {
   "cell_type": "code",
   "execution_count": 15,
   "metadata": {},
   "outputs": [
    {
     "name": "stderr",
     "output_type": "stream",
     "text": [
      "Some weights of the model checkpoint at bert-base-cased were not used when initializing BertModel: ['cls.predictions.transform.dense.bias', 'cls.seq_relationship.bias', 'cls.predictions.bias', 'cls.predictions.transform.LayerNorm.weight', 'cls.seq_relationship.weight', 'cls.predictions.transform.LayerNorm.bias', 'cls.predictions.transform.dense.weight', 'cls.predictions.decoder.weight']\n",
      "- This IS expected if you are initializing BertModel from the checkpoint of a model trained on another task or with another architecture (e.g. initializing a BertForSequenceClassification model from a BertForPreTraining model).\n",
      "- This IS NOT expected if you are initializing BertModel from the checkpoint of a model that you expect to be exactly identical (initializing a BertForSequenceClassification model from a BertForSequenceClassification model).\n"
     ]
    }
   ],
   "source": [
    "model = st.SingleTaskDep(model_conf,vocab).to(device)\n",
    "save_path='m1_dep_bert_as_abs'"
   ]
  },
  {
   "cell_type": "code",
   "execution_count": 16,
   "metadata": {},
   "outputs": [
    {
     "data": {
      "application/vnd.jupyter.widget-view+json": {
       "model_id": "d37ea13631e548b1acc14dbc24bcd191",
       "version_major": 2,
       "version_minor": 0
      },
      "text/plain": [
       "  0%|          | 0/57400 [00:00<?, ?it/s]"
      ]
     },
     "metadata": {},
     "output_type": "display_data"
    },
    {
     "name": "stdout",
     "output_type": "stream",
     "text": [
      "Epoch 1 \t Training loss: 0.6953937690640161 \t Validation loss: 0.6949668961056208 \t \n",
      "  1%|          | 574/57400 [01:24<2:14:50,  7.02it/s]\n",
      "Epoch 2 \t Training loss: 0.6945552002469837 \t Validation loss: 0.6936671127707271 \t \n",
      "  2%|▏         | 1148/57400 [02:50<2:08:42,  7.28it/s]\n",
      "Epoch 3 \t Training loss: 0.6943750897558724 \t Validation loss: 0.6932668140379049 \t \n",
      "  3%|▎         | 1722/57400 [04:15<2:20:31,  6.60it/s]\n",
      "Epoch 4 \t Training loss: 0.6941549585879057 \t Validation loss: 0.6939883555396128 \t \n",
      "  4%|▍         | 2296/57400 [05:39<2:13:02,  6.90it/s]\n",
      "Epoch 5 \t Training loss: 0.6939874531292334 \t Validation loss: 0.6926764027547028 \t \n",
      "  5%|▌         | 2870/57400 [07:04<1:48:40,  8.36it/s]\n",
      "Epoch 6 \t Training loss: 0.6939075714827415 \t Validation loss: 0.6929175944651588 \t \n",
      "  6%|▌         | 3444/57400 [08:29<2:03:08,  7.30it/s]\n",
      "Epoch 7 \t Training loss: 0.6936643648022974 \t Validation loss: 0.6936032933703924 \t \n",
      "  7%|▋         | 4018/57400 [09:53<2:04:45,  7.13it/s]\n",
      "Epoch 8 \t Training loss: 0.6936161616745726 \t Validation loss: 0.6929744330503173 \t \n",
      "  8%|▊         | 4592/57400 [11:18<2:06:10,  6.98it/s]\n",
      "Epoch 9 \t Training loss: 0.6934204393355273 \t Validation loss: 0.6929175570859747 \t \n",
      "  9%|▉         | 5166/57400 [12:43<2:08:57,  6.75it/s]\n",
      "Epoch 10 \t Training loss: 0.6933929664748055 \t Validation loss: 0.6931501020819454 \t \n",
      " 10%|█         | 5740/57400 [14:08<2:10:17,  6.61it/s]\n",
      "Epoch 11 \t Training loss: 0.6934517642762188 \t Validation loss: 0.6934203273158962 \t \n",
      " 11%|█         | 6314/57400 [15:33<2:02:53,  6.93it/s]\n",
      "Epoch 12 \t Training loss: 0.6933220865834465 \t Validation loss: 0.6928259952593658 \t \n",
      " 12%|█▏        | 6888/57400 [16:56<1:37:23,  8.64it/s]\n",
      "Epoch 13 \t Training loss: 0.6930879205984521 \t Validation loss: 0.692207358651242 \t \n",
      " 13%|█▎        | 7462/57400 [18:19<1:37:07,  8.57it/s]\n",
      "Epoch 14 \t Training loss: 0.6930336592920151 \t Validation loss: 0.6925917611283771 \t \n",
      " 14%|█▍        | 8036/57400 [19:43<1:35:20,  8.63it/s]\n",
      "Epoch 15 \t Training loss: 0.6930054245510168 \t Validation loss: 0.6923512190075244 \t \n",
      " 15%|█▌        | 8610/57400 [21:06<1:57:53,  6.90it/s]\n",
      "Epoch 16 \t Training loss: 0.6929197181600312 \t Validation loss: 0.6928665627867489 \t \n",
      " 16%|█▌        | 9184/57400 [22:29<1:53:21,  7.09it/s]\n",
      "Epoch 17 \t Training loss: 0.6928597899471841 \t Validation loss: 0.6923024816028143 \t \n",
      " 17%|█▋        | 9758/57400 [23:52<1:49:13,  7.27it/s]\n",
      "Epoch 18 \t Training loss: 0.6928491761667803 \t Validation loss: 0.6935551075612084 \t \n",
      "\n",
      "1 epoch without improvement\n",
      " 18%|█▊        | 10332/57400 [25:15<1:32:07,  8.51it/s]\n",
      "Epoch 19 \t Training loss: 0.6925915171252726 \t Validation loss: 0.6921987796233873 \t \n",
      " 19%|█▉        | 10906/57400 [26:39<1:47:17,  7.22it/s]\n",
      "Epoch 20 \t Training loss: 0.6928009110460713 \t Validation loss: 0.692830493894674 \t \n",
      " 20%|██        | 11480/57400 [28:02<1:44:12,  7.34it/s]\n",
      "Epoch 21 \t Training loss: 0.6923988794823557 \t Validation loss: 0.6916079591896575 \t \n",
      " 21%|██        | 12054/57400 [29:26<1:49:21,  6.91it/s]\n",
      "Epoch 22 \t Training loss: 0.6925984278373186 \t Validation loss: 0.6925006731081818 \t \n",
      " 22%|██▏       | 12628/57400 [30:49<1:55:22,  6.47it/s]\n",
      "Epoch 23 \t Training loss: 0.6924014609657514 \t Validation loss: 0.6928408479286452 \t \n",
      "\n",
      "1 epoch without improvement\n",
      " 23%|██▎       | 13202/57400 [32:15<1:45:09,  7.00it/s]\n",
      "Epoch 24 \t Training loss: 0.6919730554889719 \t Validation loss: 0.6914533518128476 \t \n",
      " 24%|██▍       | 13776/57400 [33:39<1:54:17,  6.36it/s]\n",
      "Epoch 25 \t Training loss: 0.6922027553830828 \t Validation loss: 0.6927324260695505 \t \n",
      "\n",
      "1 epoch without improvement\n",
      " 25%|██▌       | 14350/57400 [35:06<1:49:55,  6.53it/s]\n",
      "Epoch 26 \t Training loss: 0.6920855324650476 \t Validation loss: 0.6908041642884076 \t \n",
      " 26%|██▌       | 14924/57400 [36:33<1:49:13,  6.48it/s]\n",
      "Epoch 27 \t Training loss: 0.6919643936049232 \t Validation loss: 0.6917082081406803 \t \n",
      " 27%|██▋       | 15498/57400 [37:59<1:39:31,  7.02it/s]\n",
      "Epoch 28 \t Training loss: 0.6920078065544886 \t Validation loss: 0.6913551324504917 \t \n",
      " 28%|██▊       | 16072/57400 [39:24<1:42:44,  6.70it/s]\n",
      "Epoch 29 \t Training loss: 0.6919532145149616 \t Validation loss: 0.6928758823265464 \t \n",
      "\n",
      "1 epoch without improvement\n",
      " 29%|██▉       | 16646/57400 [40:49<1:51:37,  6.09it/s]\n",
      "Epoch 30 \t Training loss: 0.6916416506526362 \t Validation loss: 0.6934882826724295 \t \n",
      "\n",
      "2 epoch without improvement\n",
      " 30%|███       | 17220/57400 [42:14<1:37:08,  6.89it/s]\n",
      "Epoch 31 \t Training loss: 0.6918644142898533 \t Validation loss: 0.6916853694592492 \t \n",
      " 31%|███       | 17794/57400 [43:39<1:34:17,  7.00it/s]\n",
      "Epoch 32 \t Training loss: 0.6917919397146445 \t Validation loss: 0.6925028279676275 \t \n",
      "\n",
      "3 epoch without improvement\n",
      " 32%|███▏      | 18368/57400 [45:04<1:34:27,  6.89it/s]\n",
      "Epoch 33 \t Training loss: 0.6917115790503365 \t Validation loss: 0.6932852298526441 \t \n",
      "\n",
      "4 epoch without improvement\n",
      " 33%|███▎      | 18942/57400 [46:29<1:17:19,  8.29it/s]\n",
      "Epoch 34 \t Training loss: 0.6910903115305751 \t Validation loss: 0.6918816071445659 \t \n",
      "\n",
      "5 epoch without improvement\n",
      " 34%|███▍      | 19516/57400 [47:54<1:30:16,  6.99it/s]\n",
      "Epoch 35 \t Training loss: 0.691187380290613 \t Validation loss: 0.6920940492112758 \t \n",
      "\n",
      "6 epoch without improvement\n",
      " 35%|███▌      | 20090/57400 [49:19<1:13:25,  8.47it/s]\n",
      "Epoch 36 \t Training loss: 0.6911518510418071 \t Validation loss: 0.6928238474716575 \t \n",
      "\n",
      "7 epoch without improvement\n",
      " 36%|███▌      | 20664/57400 [50:44<1:23:25,  7.34it/s]\n",
      "Epoch 37 \t Training loss: 0.6910621542548468 \t Validation loss: 0.6917267391237162 \t \n",
      " 37%|███▋      | 21238/57400 [52:08<1:29:31,  6.73it/s]\n",
      "Epoch 38 \t Training loss: 0.6908522980346081 \t Validation loss: 0.6924262279171055 \t \n",
      "\n",
      "8 epoch without improvement\n",
      " 38%|███▊      | 21812/57400 [53:31<1:26:16,  6.88it/s]\n",
      "Epoch 39 \t Training loss: 0.6910872742897127 \t Validation loss: 0.6913720803745722 \t \n",
      " 39%|███▉      | 22386/57400 [54:54<1:20:18,  7.27it/s]\n",
      "Epoch 40 \t Training loss: 0.690841081977306 \t Validation loss: 0.6914748216079454 \t \n",
      " 40%|████      | 22960/57400 [56:17<1:18:22,  7.32it/s]\n",
      "Epoch 41 \t Training loss: 0.690679768859717 \t Validation loss: 0.6923866504329746 \t \n",
      "\n",
      "9 epoch without improvement\n",
      " 41%|████      | 23534/57400 [57:41<1:18:47,  7.16it/s]\n",
      "Epoch 42 \t Training loss: 0.6907398142050367 \t Validation loss: 0.6919299071117982 \t \n",
      "\n",
      "10 epoch without improvement\n",
      "Validation_loss hasn't improve in 10 epoch. Stopping training after 42 epochs...\n"
     ]
    },
    {
     "data": {
      "image/png": "[encoded data removed]",
      "text/plain": [
       "<Figure size 640x480 with 1 Axes>"
      ]
     },
     "metadata": {},
     "output_type": "display_data"
    }
   ],
   "source": [
    "learning_rate = 5e-5\n",
    "optimizer = SGD(model.parameters(), lr=learning_rate, momentum=0.9)\n",
    "num_epochs = 100\n",
    "\n",
    "train.train_function(model,num_epochs,dl_train['as'],optimizer,early_stop=10,dl_val=dl_val['as'],save_path=save_path)"
   ]
  },
  {
   "cell_type": "code",
   "execution_count": 17,
   "metadata": {},
   "outputs": [
    {
     "name": "stderr",
     "output_type": "stream",
     "text": [
      "Some weights of the model checkpoint at bert-base-cased were not used when initializing BertModel: ['cls.predictions.transform.dense.bias', 'cls.seq_relationship.bias', 'cls.predictions.bias', 'cls.predictions.transform.LayerNorm.weight', 'cls.seq_relationship.weight', 'cls.predictions.transform.LayerNorm.bias', 'cls.predictions.transform.dense.weight', 'cls.predictions.decoder.weight']\n",
      "- This IS expected if you are initializing BertModel from the checkpoint of a model trained on another task or with another architecture (e.g. initializing a BertForSequenceClassification model from a BertForPreTraining model).\n",
      "- This IS NOT expected if you are initializing BertModel from the checkpoint of a model that you expect to be exactly identical (initializing a BertForSequenceClassification model from a BertForSequenceClassification model).\n"
     ]
    },
    {
     "name": "stdout",
     "output_type": "stream",
     "text": [
      "Using scikit learn accuracy por género en el conjunto about\n",
      "GLOBAL: 0.6352040816326531\n",
      "MALE 0.40625\n",
      "FEMALE 0.855 \n",
      "\n",
      "Using scikit learn accuracy por género en el conjunto to\n",
      "GLOBAL: 0.577020202020202\n",
      "MALE 0.3746958637469586\n",
      "FEMALE 0.7952755905511811 \n",
      "\n",
      "Using scikit learn accuracy por género en el conjunto as\n",
      "GLOBAL: 0.5945241199478487\n",
      "MALE 0.3611111111111111\n",
      "FEMALE 0.8436657681940701 \n",
      "\n"
     ]
    }
   ],
   "source": [
    "save_path='m1_dep_bert_as_abs'\n",
    "model = st.SingleTaskDep(model_conf,vocab).to(device)\n",
    "model.load_state_dict(torch.load(save_path))\n",
    "for task in ['about','to','as']:\n",
    "    print(f\"Using scikit learn accuracy por género en el conjunto {task}\")\n",
    "    print(f\"GLOBAL: {train.eval_function_single_sk(model,dl_eval[task])}\")\n",
    "    print(f\"MALE {train.eval_function_single_sk(model,dl_eval[task],gender='male')}\")\n",
    "    print(f\"FEMALE {train.eval_function_single_sk(model,dl_eval[task],gender='female')}\",'\\n')"
   ]
  }
 ],
 "metadata": {
  "kernelspec": {
   "display_name": "tfg",
   "language": "python",
   "name": "python3"
  },
  "language_info": {
   "codemirror_mode": {
    "name": "ipython",
    "version": 3
   },
   "file_extension": ".py",
   "mimetype": "text/x-python",
   "name": "python",
   "nbconvert_exporter": "python",
   "pygments_lexer": "ipython3",
   "version": "3.9.13"
  },
  "orig_nbformat": 4,
  "vscode": {
   "interpreter": {
    "hash": "b2012626cca2d66e84dc87dc317222963c31dcd31e180f1257b027de73883164"
   }
  }
 },
 "nbformat": 4,
 "nbformat_minor": 2
}
