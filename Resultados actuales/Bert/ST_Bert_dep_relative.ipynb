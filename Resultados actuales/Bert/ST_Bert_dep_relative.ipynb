{
 "cells": [
  {
   "cell_type": "code",
   "execution_count": 1,
   "metadata": {},
   "outputs": [],
   "source": [
    "import torch\n",
    "from torch.utils.data import DataLoader\n",
    "from torch.optim import AdamW, SGD \n",
    "\n",
    "\n",
    "\n",
    "\n",
    "import json\n",
    "\n"
   ]
  },
  {
   "cell_type": "code",
   "execution_count": 2,
   "metadata": {},
   "outputs": [],
   "source": [
    "import utils_generic as generic\n",
    "import singletask_dep as st\n",
    "import model_confs as confs\n",
    "\n",
    "\n",
    "import train_dep as train"
   ]
  },
  {
   "cell_type": "code",
   "execution_count": 3,
   "metadata": {},
   "outputs": [
    {
     "data": {
      "text/plain": [
       "<torch._C.Generator at 0x1be6cf67810>"
      ]
     },
     "execution_count": 3,
     "metadata": {},
     "output_type": "execute_result"
    }
   ],
   "source": [
    "device = torch.device(\"cuda\") if torch.cuda.is_available() else torch.device(\"cpu\")\n",
    "torch.manual_seed(27)"
   ]
  },
  {
   "cell_type": "code",
   "execution_count": 4,
   "metadata": {},
   "outputs": [],
   "source": [
    "model_conf = confs.bert_conf\n",
    "encoding_type = 'relative'"
   ]
  },
  {
   "attachments": {},
   "cell_type": "markdown",
   "metadata": {},
   "source": [
    "# Datos ConvAI2"
   ]
  },
  {
   "cell_type": "code",
   "execution_count": 5,
   "metadata": {},
   "outputs": [],
   "source": [
    "with open('Datasets\\ConvAI2\\convai2_complete.json','r') as f:\n",
    "    data = json.load(f)"
   ]
  },
  {
   "cell_type": "code",
   "execution_count": 6,
   "metadata": {},
   "outputs": [],
   "source": [
    "vocab = st.Vocabulary(data['train'],encoding_type)"
   ]
  },
  {
   "cell_type": "code",
   "execution_count": 7,
   "metadata": {},
   "outputs": [],
   "source": [
    "convai_train = data['train']\n",
    "convai_val = data['validation']\n",
    "\n",
    "\n",
    "\n",
    "convai_train_token = generic.tokenize_dataset_with_dependencies(convai_train,['about','to','as'],vocab,model_conf) \n",
    "convai_val_token = generic.tokenize_dataset_with_dependencies(convai_val,['about','to','as'],vocab,model_conf) "
   ]
  },
  {
   "cell_type": "code",
   "execution_count": 8,
   "metadata": {},
   "outputs": [],
   "source": [
    "convai_train_dataset = {}\n",
    "for task in ['to','as','about']:\n",
    "    convai_train_dataset[task] = st.DatasetSingleTaskDep(convai_train_token,task,eval=False)"
   ]
  },
  {
   "cell_type": "code",
   "execution_count": 9,
   "metadata": {},
   "outputs": [],
   "source": [
    "convai_val_dataset = {}\n",
    "for task in ['to','as','about']:\n",
    "    convai_val_dataset[task] = st.DatasetSingleTaskDep(convai_val_token,task,eval=False)"
   ]
  },
  {
   "attachments": {},
   "cell_type": "markdown",
   "metadata": {},
   "source": [
    "# Datos md_gender"
   ]
  },
  {
   "cell_type": "code",
   "execution_count": 10,
   "metadata": {},
   "outputs": [],
   "source": [
    "with open('Datasets\\md_gender\\md_complete.json','r',encoding=\"utf8\") as f:\n",
    "    md_data = json.load(f)"
   ]
  },
  {
   "cell_type": "code",
   "execution_count": 11,
   "metadata": {},
   "outputs": [],
   "source": [
    "md_tokenized = generic.tokenize_dataset_with_dependencies(md_data,['about','to','as'],vocab,model_conf) \n",
    "\n",
    "\n",
    "md_dataset = {}\n",
    "for task in ['to','as','about']:\n",
    "    md_dataset[task] = st.DatasetSingleTaskDep(md_tokenized,task,eval=True)"
   ]
  },
  {
   "attachments": {},
   "cell_type": "markdown",
   "metadata": {},
   "source": [
    "# Creación dataloaders"
   ]
  },
  {
   "cell_type": "code",
   "execution_count": 12,
   "metadata": {},
   "outputs": [],
   "source": [
    "dl_train = {}\n",
    "for task in ['to','as','about']:\n",
    "    dl_train[task] = DataLoader(convai_train_dataset[task],batch_size=128,shuffle=True,collate_fn=st.collate_fn)"
   ]
  },
  {
   "cell_type": "code",
   "execution_count": 13,
   "metadata": {},
   "outputs": [],
   "source": [
    "dl_val = {}\n",
    "for task in ['to','as','about']:\n",
    "    dl_val[task] = DataLoader(convai_val_dataset[task],batch_size=128,shuffle=True,collate_fn=st.collate_fn)"
   ]
  },
  {
   "cell_type": "code",
   "execution_count": 14,
   "metadata": {},
   "outputs": [],
   "source": [
    "dl_eval = {}\n",
    "for task in ['to','as','about']:\n",
    "    dl_eval[task] = DataLoader(md_dataset[task],batch_size=128,shuffle=False,collate_fn=st.collate_fn)"
   ]
  },
  {
   "attachments": {},
   "cell_type": "markdown",
   "metadata": {},
   "source": [
    "# ABOUT"
   ]
  },
  {
   "cell_type": "code",
   "execution_count": 15,
   "metadata": {},
   "outputs": [
    {
     "name": "stderr",
     "output_type": "stream",
     "text": [
      "Some weights of the model checkpoint at bert-base-cased were not used when initializing BertModel: ['cls.predictions.transform.dense.weight', 'cls.predictions.transform.LayerNorm.weight', 'cls.predictions.transform.dense.bias', 'cls.predictions.bias', 'cls.predictions.decoder.weight', 'cls.seq_relationship.weight', 'cls.predictions.transform.LayerNorm.bias', 'cls.seq_relationship.bias']\n",
      "- This IS expected if you are initializing BertModel from the checkpoint of a model trained on another task or with another architecture (e.g. initializing a BertForSequenceClassification model from a BertForPreTraining model).\n",
      "- This IS NOT expected if you are initializing BertModel from the checkpoint of a model that you expect to be exactly identical (initializing a BertForSequenceClassification model from a BertForSequenceClassification model).\n"
     ]
    }
   ],
   "source": [
    "model = st.SingleTaskDep(model_conf,vocab).to(device)\n",
    "save_path='m1_dep_bert_about_rel'"
   ]
  },
  {
   "cell_type": "code",
   "execution_count": 16,
   "metadata": {},
   "outputs": [
    {
     "name": "stdout",
     "output_type": "stream",
     "text": [
      "Using scikit learn accuracy por género en el conjunto about\n",
      "GLOBAL: 0.49489795918367346\n",
      "MALE 0.9453125\n",
      "FEMALE 0.0625 \n",
      "\n",
      "Using scikit learn accuracy por género en el conjunto to\n",
      "GLOBAL: 0.5164141414141414\n",
      "MALE 0.9440389294403893\n",
      "FEMALE 0.05511811023622047 \n",
      "\n",
      "Using scikit learn accuracy por género en el conjunto as\n",
      "GLOBAL: 0.5202086049543677\n",
      "MALE 0.9267676767676768\n",
      "FEMALE 0.0862533692722372 \n",
      "\n"
     ]
    }
   ],
   "source": [
    "for task in ['about','to','as']:\n",
    "    print(f\"Using scikit learn accuracy por género en el conjunto {task}\")\n",
    "    print(f\"GLOBAL: {train.eval_function_single_sk(model,dl_eval[task])}\")\n",
    "    print(f\"MALE {train.eval_function_single_sk(model,dl_eval[task],gender='male')}\")\n",
    "    print(f\"FEMALE {train.eval_function_single_sk(model,dl_eval[task],gender='female')}\",'\\n')"
   ]
  },
  {
   "cell_type": "code",
   "execution_count": 17,
   "metadata": {},
   "outputs": [
    {
     "data": {
      "application/vnd.jupyter.widget-view+json": {
       "model_id": "9aa15c06670246a1879667e6fe9db35f",
       "version_major": 2,
       "version_minor": 0
      },
      "text/plain": [
       "  0%|          | 0/57400 [00:00<?, ?it/s]"
      ]
     },
     "metadata": {},
     "output_type": "display_data"
    },
    {
     "name": "stdout",
     "output_type": "stream",
     "text": [
      "Epoch 1 \t Training loss: 0.6812034288765246 \t Validation loss: 0.6779673847101503 \t \n",
      "  1%|          | 574/57400 [01:35<2:34:33,  6.13it/s]\n",
      "Epoch 2 \t Training loss: 0.6714254414162985 \t Validation loss: 0.6653873142549547 \t \n",
      "  2%|▏         | 1148/57400 [03:03<2:12:31,  7.07it/s]\n",
      "Epoch 3 \t Training loss: 0.6502908099611462 \t Validation loss: 0.6271094235323244 \t \n",
      "  3%|▎         | 1722/57400 [04:39<2:38:19,  5.86it/s]\n",
      "Epoch 4 \t Training loss: 0.5848708332415657 \t Validation loss: 0.5289282238079329 \t \n",
      "  4%|▍         | 2296/57400 [06:16<2:18:51,  6.61it/s]\n",
      "Epoch 5 \t Training loss: 0.49093486218086935 \t Validation loss: 0.4439104861122067 \t \n",
      "  5%|▌         | 2870/57400 [07:53<2:32:38,  5.95it/s]\n",
      "Epoch 6 \t Training loss: 0.43242039814435645 \t Validation loss: 0.4025177475759539 \t \n",
      "  6%|▌         | 3444/57400 [09:30<2:28:17,  6.06it/s]\n",
      "Epoch 7 \t Training loss: 0.4035016942626508 \t Validation loss: 0.38012119369991754 \t \n",
      "  7%|▋         | 4018/57400 [11:07<2:21:47,  6.27it/s]\n",
      "Epoch 8 \t Training loss: 0.385030440804435 \t Validation loss: 0.36456425664788583 \t \n",
      "  8%|▊         | 4592/57400 [12:43<2:23:08,  6.15it/s]\n",
      "Epoch 9 \t Training loss: 0.3720600951320203 \t Validation loss: 0.3562844491611093 \t \n",
      "  9%|▉         | 5166/57400 [14:20<2:21:53,  6.14it/s]\n",
      "Epoch 10 \t Training loss: 0.3629013314479735 \t Validation loss: 0.3484720246771635 \t \n",
      " 10%|█         | 5740/57400 [15:57<2:24:01,  5.98it/s]\n",
      "Epoch 11 \t Training loss: 0.3551413069255261 \t Validation loss: 0.34300029757669415 \t \n",
      " 11%|█         | 6314/57400 [17:34<2:18:13,  6.16it/s]\n",
      "Epoch 12 \t Training loss: 0.3505145176362493 \t Validation loss: 0.3371438879077717 \t \n",
      " 12%|█▏        | 6888/57400 [19:06<2:10:02,  6.47it/s]\n",
      "Epoch 13 \t Training loss: 0.3426727142431595 \t Validation loss: 0.33360494193384205 \t \n",
      " 13%|█▎        | 7462/57400 [20:35<2:08:37,  6.47it/s]\n",
      "Epoch 14 \t Training loss: 0.33670923363040967 \t Validation loss: 0.3288813872357546 \t \n",
      " 14%|█▍        | 8036/57400 [22:05<2:01:40,  6.76it/s]\n",
      "Epoch 15 \t Training loss: 0.3324036151430333 \t Validation loss: 0.32797225046966033 \t \n",
      " 15%|█▌        | 8610/57400 [23:34<2:03:12,  6.60it/s]\n",
      "Epoch 16 \t Training loss: 0.32961329197322864 \t Validation loss: 0.32910787200523633 \t \n",
      "\n",
      "1 epoch without improvement\n",
      " 16%|█▌        | 9184/57400 [25:03<2:05:05,  6.42it/s]\n",
      "Epoch 17 \t Training loss: 0.32436553098079635 \t Validation loss: 0.32278592859284355 \t \n",
      " 17%|█▋        | 9758/57400 [26:33<1:58:27,  6.70it/s]\n",
      "Epoch 18 \t Training loss: 0.31988270741721897 \t Validation loss: 0.3229022465519986 \t \n",
      " 18%|█▊        | 10332/57400 [28:02<1:51:52,  7.01it/s]\n",
      "Epoch 19 \t Training loss: 0.3164156658983812 \t Validation loss: 0.3168005844799139 \t \n",
      " 19%|█▉        | 10906/57400 [29:31<1:58:27,  6.54it/s]\n",
      "Epoch 20 \t Training loss: 0.3139882250478043 \t Validation loss: 0.3157805398864261 \t \n",
      " 20%|██        | 11480/57400 [31:00<1:52:33,  6.80it/s]\n",
      "Epoch 21 \t Training loss: 0.3089995247146394 \t Validation loss: 0.31507696867999385 \t \n",
      " 21%|██        | 12054/57400 [32:29<1:41:30,  7.45it/s]\n",
      "Epoch 22 \t Training loss: 0.3065393464542432 \t Validation loss: 0.3137710036362632 \t \n",
      " 22%|██▏       | 12628/57400 [33:59<1:51:06,  6.72it/s]\n",
      "Epoch 23 \t Training loss: 0.304874388858001 \t Validation loss: 0.31118705565646543 \t \n",
      " 23%|██▎       | 13202/57400 [35:28<1:51:54,  6.58it/s]\n",
      "Epoch 24 \t Training loss: 0.301183496410423 \t Validation loss: 0.30961229134414153 \t \n",
      " 24%|██▍       | 13776/57400 [36:57<1:54:11,  6.37it/s]\n",
      "Epoch 25 \t Training loss: 0.3002480608557159 \t Validation loss: 0.3084457147929628 \t \n",
      " 25%|██▌       | 14350/57400 [38:27<1:49:32,  6.55it/s]\n",
      "Epoch 26 \t Training loss: 0.29582164776657516 \t Validation loss: 0.307219213348324 \t \n",
      " 26%|██▌       | 14924/57400 [39:56<1:35:54,  7.38it/s]\n",
      "Epoch 27 \t Training loss: 0.2933653501943013 \t Validation loss: 0.30827182177769935 \t \n",
      "\n",
      "1 epoch without improvement\n",
      " 27%|██▋       | 15498/57400 [41:25<1:33:56,  7.43it/s]\n",
      "Epoch 28 \t Training loss: 0.29022511899575126 \t Validation loss: 0.306181205026174 \t \n",
      " 28%|██▊       | 16072/57400 [42:54<1:45:05,  6.55it/s]\n",
      "Epoch 29 \t Training loss: 0.28718430265940026 \t Validation loss: 0.30498442710456203 \t \n",
      " 29%|██▉       | 16646/57400 [44:23<1:39:14,  6.84it/s]\n",
      "Epoch 30 \t Training loss: 0.2857828936977669 \t Validation loss: 0.3053529835858588 \t \n",
      " 30%|███       | 17220/57400 [45:52<1:35:05,  7.04it/s]\n",
      "Epoch 31 \t Training loss: 0.28524933706073397 \t Validation loss: 0.30260489855782463 \t \n",
      " 31%|███       | 17794/57400 [47:21<1:36:00,  6.88it/s]\n",
      "Epoch 32 \t Training loss: 0.28190459967801795 \t Validation loss: 0.3014982559923398 \t \n",
      " 32%|███▏      | 18368/57400 [48:50<1:36:37,  6.73it/s]\n",
      "Epoch 33 \t Training loss: 0.27876955904196365 \t Validation loss: 0.30228882573418697 \t \n",
      " 33%|███▎      | 18942/57400 [50:19<1:35:11,  6.73it/s]\n",
      "Epoch 34 \t Training loss: 0.27841146861426924 \t Validation loss: 0.3018089169162815 \t \n",
      " 34%|███▍      | 19516/57400 [51:48<1:34:58,  6.65it/s]\n",
      "Epoch 35 \t Training loss: 0.27762270646124354 \t Validation loss: 0.3005924391544471 \t \n",
      " 35%|███▌      | 20090/57400 [53:17<1:31:17,  6.81it/s]\n",
      "Epoch 36 \t Training loss: 0.2745829738339065 \t Validation loss: 0.29967184415308096 \t \n",
      " 36%|███▌      | 20664/57400 [54:46<1:31:04,  6.72it/s]\n",
      "Epoch 37 \t Training loss: 0.2745625022084871 \t Validation loss: 0.3007929928727069 \t \n",
      "\n",
      "1 epoch without improvement\n",
      " 37%|███▋      | 21238/57400 [56:22<1:37:31,  6.18it/s]\n",
      "Epoch 38 \t Training loss: 0.271369644495876 \t Validation loss: 0.30233827233314514 \t \n",
      "\n",
      "2 epoch without improvement\n",
      " 38%|███▊      | 21812/57400 [57:58<1:36:55,  6.12it/s]\n",
      "Epoch 39 \t Training loss: 0.26915198413960195 \t Validation loss: 0.29882754537008577 \t \n",
      " 39%|███▉      | 22386/57400 [59:35<1:36:11,  6.07it/s]\n",
      "Epoch 40 \t Training loss: 0.2676994774867018 \t Validation loss: 0.301145496762405 \t \n",
      "\n",
      "1 epoch without improvement\n",
      " 40%|████      | 22960/57400 [1:01:12<1:38:39,  5.82it/s]\n",
      "Epoch 41 \t Training loss: 0.2660285332840494 \t Validation loss: 0.3001328661280163 \t \n",
      "\n",
      "2 epoch without improvement\n",
      " 41%|████      | 23534/57400 [1:02:48<1:32:35,  6.10it/s]\n",
      "Epoch 42 \t Training loss: 0.2637138965471489 \t Validation loss: 0.29807644147994156 \t \n",
      " 42%|████▏     | 24108/57400 [1:04:38<2:18:23,  4.01it/s]\n",
      "Epoch 43 \t Training loss: 0.2632475509616556 \t Validation loss: 0.2992595494803736 \t \n",
      "\n",
      "1 epoch without improvement\n",
      " 43%|████▎     | 24682/57400 [1:06:20<1:31:16,  5.97it/s]\n",
      "Epoch 44 \t Training loss: 0.2623679091186889 \t Validation loss: 0.2979701696816137 \t \n",
      " 44%|████▍     | 25256/57400 [1:07:59<1:31:04,  5.88it/s]\n",
      "Epoch 45 \t Training loss: 0.26012892821213096 \t Validation loss: 0.2957449315463082 \t \n",
      " 45%|████▌     | 25830/57400 [1:09:38<1:32:47,  5.67it/s]\n",
      "Epoch 46 \t Training loss: 0.2582870485059891 \t Validation loss: 0.296952625957586 \t \n",
      "\n",
      "1 epoch without improvement\n",
      " 46%|████▌     | 26404/57400 [1:11:17<1:23:06,  6.22it/s]\n",
      "Epoch 47 \t Training loss: 0.25688081182773104 \t Validation loss: 0.2971856149576478 \t \n",
      "\n",
      "2 epoch without improvement\n",
      " 47%|████▋     | 26978/57400 [1:12:55<1:27:52,  5.77it/s]\n",
      "Epoch 48 \t Training loss: 0.2555980216646859 \t Validation loss: 0.2977185125573207 \t \n",
      "\n",
      "3 epoch without improvement\n",
      " 48%|████▊     | 27552/57400 [1:14:33<1:24:03,  5.92it/s]\n",
      "Epoch 49 \t Training loss: 0.254621386761657 \t Validation loss: 0.2971756672960217 \t \n",
      "\n",
      "4 epoch without improvement\n",
      " 49%|████▉     | 28126/57400 [1:16:12<1:21:51,  5.96it/s]\n",
      "Epoch 50 \t Training loss: 0.25417918909198317 \t Validation loss: 0.2963259818695359 \t \n",
      " 50%|█████     | 28700/57400 [1:17:50<1:19:36,  6.01it/s]\n",
      "Epoch 51 \t Training loss: 0.25090091104395296 \t Validation loss: 0.29482446951886354 \t \n",
      " 51%|█████     | 29274/57400 [1:19:30<1:15:47,  6.19it/s]\n",
      "Epoch 52 \t Training loss: 0.2531714017538659 \t Validation loss: 0.2952217959751517 \t \n",
      " 52%|█████▏    | 29848/57400 [1:21:01<1:01:56,  7.41it/s]\n",
      "Epoch 53 \t Training loss: 0.2501700761426201 \t Validation loss: 0.2958409723083852 \t \n",
      "\n",
      "1 epoch without improvement\n",
      " 53%|█████▎    | 30422/57400 [1:22:31<1:08:36,  6.55it/s]\n",
      "Epoch 54 \t Training loss: 0.25095438783280943 \t Validation loss: 0.29679245539640975 \t \n",
      "\n",
      "2 epoch without improvement\n",
      " 54%|█████▍    | 30996/57400 [1:24:01<1:09:25,  6.34it/s]\n",
      "Epoch 55 \t Training loss: 0.24880562052909505 \t Validation loss: 0.2973144476191472 \t \n",
      "\n",
      "3 epoch without improvement\n",
      " 55%|█████▌    | 31570/57400 [1:25:30<1:11:14,  6.04it/s]\n",
      "Epoch 56 \t Training loss: 0.2488861123443896 \t Validation loss: 0.2954340155346919 \t \n",
      " 56%|█████▌    | 32144/57400 [1:27:01<58:12,  7.23it/s]\n",
      "Epoch 57 \t Training loss: 0.24674932142064132 \t Validation loss: 0.29485890446072915 \t \n",
      " 57%|█████▋    | 32718/57400 [1:28:31<1:02:24,  6.59it/s]\n",
      "Epoch 58 \t Training loss: 0.24519058441555044 \t Validation loss: 0.2960347513021049 \t \n",
      "\n",
      "4 epoch without improvement\n",
      " 58%|█████▊    | 33292/57400 [1:30:01<57:07,  7.03it/s]\n",
      "Epoch 59 \t Training loss: 0.2439632149160116 \t Validation loss: 0.2963892736677396 \t \n",
      "\n",
      "5 epoch without improvement\n",
      " 59%|█████▉    | 33866/57400 [1:31:30<1:00:31,  6.48it/s]\n",
      "Epoch 60 \t Training loss: 0.24360338733482859 \t Validation loss: 0.2964324372804771 \t \n",
      "\n",
      "6 epoch without improvement\n",
      " 60%|██████    | 34440/57400 [1:33:00<57:53,  6.61it/s]\n",
      "Epoch 61 \t Training loss: 0.24358428139823654 \t Validation loss: 0.29514213739815404 \t \n",
      " 61%|██████    | 35014/57400 [1:34:30<56:01,  6.66it/s]\n",
      "Epoch 62 \t Training loss: 0.24271434023716723 \t Validation loss: 0.2952846619537321 \t \n",
      " 62%|██████▏   | 35588/57400 [1:36:00<56:23,  6.45it/s]\n",
      "Epoch 63 \t Training loss: 0.24217106331827748 \t Validation loss: 0.29505079226978753 \t \n",
      " 63%|██████▎   | 36162/57400 [1:37:30<54:43,  6.47it/s]\n",
      "Epoch 64 \t Training loss: 0.24138649579020743 \t Validation loss: 0.2982178085436255 \t \n",
      "\n",
      "7 epoch without improvement\n",
      " 64%|██████▍   | 36736/57400 [1:39:00<51:08,  6.73it/s]\n",
      "Epoch 65 \t Training loss: 0.23934523521140477 \t Validation loss: 0.2943399121700707 \t \n",
      " 65%|██████▌   | 37310/57400 [1:40:31<50:34,  6.62it/s]\n",
      "Epoch 66 \t Training loss: 0.2387077969593038 \t Validation loss: 0.2935934137489836 \t \n",
      " 66%|██████▌   | 37884/57400 [1:42:01<46:10,  7.04it/s]\n",
      "Epoch 67 \t Training loss: 0.23833661270733494 \t Validation loss: 0.2955840942213091 \t \n",
      "\n",
      "1 epoch without improvement\n",
      " 67%|██████▋   | 38458/57400 [1:43:31<49:59,  6.32it/s]\n",
      "Epoch 68 \t Training loss: 0.23647039510854861 \t Validation loss: 0.29416741178197375 \t \n",
      " 68%|██████▊   | 39032/57400 [1:45:01<43:32,  7.03it/s]\n",
      "Epoch 69 \t Training loss: 0.23747337305795024 \t Validation loss: 0.2949935081651655 \t \n",
      "\n",
      "2 epoch without improvement\n",
      " 69%|██████▉   | 39606/57400 [1:46:32<40:51,  7.26it/s]\n",
      "Epoch 70 \t Training loss: 0.2362247216628819 \t Validation loss: 0.29932966550527995 \t \n",
      "\n",
      "3 epoch without improvement\n",
      " 70%|███████   | 40180/57400 [1:48:02<41:50,  6.86it/s]\n",
      "Epoch 71 \t Training loss: 0.23613092919831077 \t Validation loss: 0.29484914798857803 \t \n",
      "\n",
      "4 epoch without improvement\n",
      " 71%|███████   | 40754/57400 [1:49:33<40:31,  6.85it/s]\n",
      "Epoch 72 \t Training loss: 0.2367305918126156 \t Validation loss: 0.2942787588147794 \t \n",
      " 72%|███████▏  | 41328/57400 [1:51:03<41:36,  6.44it/s]\n",
      "Epoch 73 \t Training loss: 0.2354251239124283 \t Validation loss: 0.29439850479869517 \t \n",
      " 73%|███████▎  | 41902/57400 [1:52:33<40:25,  6.39it/s]\n",
      "Epoch 74 \t Training loss: 0.23516457351346465 \t Validation loss: 0.29501625895500183 \t \n",
      "\n",
      "5 epoch without improvement\n",
      " 74%|███████▍  | 42476/57400 [1:54:03<33:59,  7.32it/s]\n",
      "Epoch 75 \t Training loss: 0.23394316377747765 \t Validation loss: 0.29339667270749303 \t \n",
      " 75%|███████▌  | 43050/57400 [1:55:33<33:12,  7.20it/s]\n",
      "Epoch 76 \t Training loss: 0.2338000594505242 \t Validation loss: 0.2953545261742705 \t \n",
      "\n",
      "1 epoch without improvement\n",
      " 76%|███████▌  | 43624/57400 [1:57:03<36:29,  6.29it/s]\n",
      "Epoch 77 \t Training loss: 0.2320581852403252 \t Validation loss: 0.29432116499391653 \t \n",
      " 77%|███████▋  | 44198/57400 [1:58:32<34:25,  6.39it/s]\n",
      "Epoch 78 \t Training loss: 0.2308147730052679 \t Validation loss: 0.29523378231767883 \t \n",
      "\n",
      "2 epoch without improvement\n",
      " 78%|███████▊  | 44772/57400 [2:00:02<32:14,  6.53it/s]\n",
      "Epoch 79 \t Training loss: 0.23147872269465117 \t Validation loss: 0.2945827841758728 \t \n",
      "\n",
      "3 epoch without improvement\n",
      " 79%|███████▉  | 45346/57400 [2:01:32<29:29,  6.81it/s]\n",
      "Epoch 80 \t Training loss: 0.23197573625875267 \t Validation loss: 0.29455536730208637 \t \n",
      "\n",
      "4 epoch without improvement\n",
      " 80%|████████  | 45920/57400 [2:03:02<31:08,  6.14it/s]\n",
      "Epoch 81 \t Training loss: 0.2302719569450264 \t Validation loss: 0.29493830188856285 \t \n",
      "\n",
      "5 epoch without improvement\n",
      " 81%|████████  | 46494/57400 [2:04:32<28:14,  6.44it/s]\n",
      "Epoch 82 \t Training loss: 0.2310735313578765 \t Validation loss: 0.29481973107588494 \t \n",
      "\n",
      "6 epoch without improvement\n",
      " 82%|████████▏ | 47068/57400 [2:06:02<23:49,  7.23it/s]\n",
      "Epoch 83 \t Training loss: 0.22998693854083999 \t Validation loss: 0.29375985643621216 \t \n",
      " 83%|████████▎ | 47642/57400 [2:07:32<22:24,  7.26it/s]\n",
      "Epoch 84 \t Training loss: 0.22946653530676606 \t Validation loss: 0.29460381628093074 \t \n",
      "\n",
      "7 epoch without improvement\n",
      " 84%|████████▍ | 48216/57400 [2:09:03<23:48,  6.43it/s]\n",
      "Epoch 85 \t Training loss: 0.22928301847251034 \t Validation loss: 0.29449327896207067 \t \n",
      "\n",
      "8 epoch without improvement\n",
      " 85%|████████▌ | 48790/57400 [2:10:33<22:32,  6.37it/s]\n",
      "Epoch 86 \t Training loss: 0.22934199582772388 \t Validation loss: 0.2936116868661622 \t \n",
      " 86%|████████▌ | 49364/57400 [2:12:03<20:14,  6.62it/s]\n",
      "Epoch 87 \t Training loss: 0.22822356917197695 \t Validation loss: 0.29421421254085284 \t \n",
      " 87%|████████▋ | 49938/57400 [2:13:33<18:30,  6.72it/s]\n",
      "Epoch 88 \t Training loss: 0.22844109660864706 \t Validation loss: 0.29509716493598487 \t \n",
      "\n",
      "9 epoch without improvement\n",
      " 88%|████████▊ | 50512/57400 [2:15:02<18:08,  6.33it/s]\n",
      "Epoch 89 \t Training loss: 0.22723265869692227 \t Validation loss: 0.2950066663956238 \t \n",
      "\n",
      "10 epoch without improvement\n",
      "Validation_loss hasn't improve in 10 epoch. Stopping training after 89 epochs...\n"
     ]
    },
    {
     "data": {
      "image/png": "[encoded data removed]",
      "text/plain": [
       "<Figure size 640x480 with 1 Axes>"
      ]
     },
     "metadata": {},
     "output_type": "display_data"
    }
   ],
   "source": [
    "learning_rate = 5e-5\n",
    "optimizer = SGD(model.parameters(), lr=learning_rate, momentum=0.9)\n",
    "num_epochs = 100\n",
    "\n",
    "train.train_function(model,num_epochs,dl_train['about'],optimizer,early_stop=10,dl_val=dl_val['about'],save_path=save_path)"
   ]
  },
  {
   "cell_type": "code",
   "execution_count": 18,
   "metadata": {},
   "outputs": [
    {
     "name": "stderr",
     "output_type": "stream",
     "text": [
      "Some weights of the model checkpoint at bert-base-cased were not used when initializing BertModel: ['cls.predictions.transform.dense.weight', 'cls.predictions.transform.LayerNorm.weight', 'cls.predictions.transform.dense.bias', 'cls.predictions.bias', 'cls.predictions.decoder.weight', 'cls.seq_relationship.weight', 'cls.predictions.transform.LayerNorm.bias', 'cls.seq_relationship.bias']\n",
      "- This IS expected if you are initializing BertModel from the checkpoint of a model trained on another task or with another architecture (e.g. initializing a BertForSequenceClassification model from a BertForPreTraining model).\n",
      "- This IS NOT expected if you are initializing BertModel from the checkpoint of a model that you expect to be exactly identical (initializing a BertForSequenceClassification model from a BertForSequenceClassification model).\n"
     ]
    },
    {
     "name": "stdout",
     "output_type": "stream",
     "text": [
      "Using scikit learn accuracy por género en el conjunto about\n",
      "GLOBAL: 0.8571428571428571\n",
      "MALE 0.8697916666666666\n",
      "FEMALE 0.845 \n",
      "\n",
      "Using scikit learn accuracy por género en el conjunto to\n",
      "GLOBAL: 0.6830808080808081\n",
      "MALE 0.6958637469586375\n",
      "FEMALE 0.6692913385826772 \n",
      "\n",
      "Using scikit learn accuracy por género en el conjunto as\n",
      "GLOBAL: 0.6831812255541069\n",
      "MALE 0.702020202020202\n",
      "FEMALE 0.6630727762803235 \n",
      "\n"
     ]
    }
   ],
   "source": [
    "model = st.SingleTaskDep(model_conf,vocab).to(device)\n",
    "model.load_state_dict(torch.load(save_path))\n",
    "for task in ['about','to','as']:\n",
    "    print(f\"Using scikit learn accuracy por género en el conjunto {task}\")\n",
    "    print(f\"GLOBAL: {train.eval_function_single_sk(model,dl_eval[task])}\")\n",
    "    print(f\"MALE {train.eval_function_single_sk(model,dl_eval[task],gender='male')}\")\n",
    "    print(f\"FEMALE {train.eval_function_single_sk(model,dl_eval[task],gender='female')}\",'\\n')"
   ]
  },
  {
   "attachments": {},
   "cell_type": "markdown",
   "metadata": {},
   "source": [
    "# TO"
   ]
  },
  {
   "cell_type": "code",
   "execution_count": 19,
   "metadata": {},
   "outputs": [
    {
     "name": "stderr",
     "output_type": "stream",
     "text": [
      "Some weights of the model checkpoint at bert-base-cased were not used when initializing BertModel: ['cls.predictions.transform.dense.weight', 'cls.predictions.transform.LayerNorm.weight', 'cls.predictions.transform.dense.bias', 'cls.predictions.bias', 'cls.predictions.decoder.weight', 'cls.seq_relationship.weight', 'cls.predictions.transform.LayerNorm.bias', 'cls.seq_relationship.bias']\n",
      "- This IS expected if you are initializing BertModel from the checkpoint of a model trained on another task or with another architecture (e.g. initializing a BertForSequenceClassification model from a BertForPreTraining model).\n",
      "- This IS NOT expected if you are initializing BertModel from the checkpoint of a model that you expect to be exactly identical (initializing a BertForSequenceClassification model from a BertForSequenceClassification model).\n"
     ]
    }
   ],
   "source": [
    "model = st.SingleTaskDep(model_conf,vocab).to(device)\n",
    "save_path='m1_dep_bert_to_rel'"
   ]
  },
  {
   "cell_type": "code",
   "execution_count": 20,
   "metadata": {},
   "outputs": [
    {
     "data": {
      "application/vnd.jupyter.widget-view+json": {
       "model_id": "47250acc378c4b478fe0e8a7282b0e8b",
       "version_major": 2,
       "version_minor": 0
      },
      "text/plain": [
       "  0%|          | 0/57400 [00:00<?, ?it/s]"
      ]
     },
     "metadata": {},
     "output_type": "display_data"
    },
    {
     "name": "stdout",
     "output_type": "stream",
     "text": [
      "Epoch 1 \t Training loss: 0.6970976978436579 \t Validation loss: 0.6921285966695365 \t \n",
      "  1%|          | 574/57400 [01:30<2:33:55,  6.15it/s]\n",
      "Epoch 2 \t Training loss: 0.6952031033587373 \t Validation loss: 0.6930658049502615 \t \n",
      "  2%|▏         | 1148/57400 [03:01<2:27:01,  6.38it/s]\n",
      "Epoch 3 \t Training loss: 0.6946423924966141 \t Validation loss: 0.6932257626016262 \t \n",
      "\n",
      "1 epoch without improvement\n",
      "  3%|▎         | 1722/57400 [04:31<2:25:11,  6.39it/s]\n",
      "Epoch 4 \t Training loss: 0.694419562089734 \t Validation loss: 0.6927058312852504 \t \n",
      "  4%|▍         | 2296/57400 [06:02<2:17:45,  6.67it/s]\n",
      "Epoch 5 \t Training loss: 0.6948011670170761 \t Validation loss: 0.6924761493327254 \t \n",
      "  5%|▌         | 2870/57400 [07:32<2:25:25,  6.25it/s]\n",
      "Epoch 6 \t Training loss: 0.6937913769005898 \t Validation loss: 0.6927009760323217 \t \n",
      "  6%|▌         | 3444/57400 [09:03<2:18:14,  6.51it/s]\n",
      "Epoch 7 \t Training loss: 0.6941237869163008 \t Validation loss: 0.6927896263235707 \t \n",
      "  7%|▋         | 4018/57400 [10:33<2:19:52,  6.36it/s]\n",
      "Epoch 8 \t Training loss: 0.694101445870117 \t Validation loss: 0.6930285843752199 \t \n",
      "  8%|▊         | 4592/57400 [12:03<2:13:34,  6.59it/s]\n",
      "Epoch 9 \t Training loss: 0.6938487726429198 \t Validation loss: 0.6935563703714791 \t \n",
      "\n",
      "2 epoch without improvement\n",
      "  9%|▉         | 5166/57400 [13:34<2:13:29,  6.52it/s]\n",
      "Epoch 10 \t Training loss: 0.6938954465065268 \t Validation loss: 0.692304453607333 \t \n",
      " 10%|█         | 5740/57400 [15:04<2:13:49,  6.43it/s]\n",
      "Epoch 11 \t Training loss: 0.6939715265396995 \t Validation loss: 0.692988834138644 \t \n",
      " 11%|█         | 6314/57400 [16:34<2:10:57,  6.50it/s]\n",
      "Epoch 12 \t Training loss: 0.6937238565720748 \t Validation loss: 0.6926932173260187 \t \n",
      " 12%|█▏        | 6888/57400 [18:04<2:08:34,  6.55it/s]\n",
      "Epoch 13 \t Training loss: 0.6938500039876546 \t Validation loss: 0.6926153615369635 \t \n",
      " 13%|█▎        | 7462/57400 [19:35<2:00:46,  6.89it/s]\n",
      "Epoch 14 \t Training loss: 0.6938278661580036 \t Validation loss: 0.6932263505660882 \t \n",
      "\n",
      "3 epoch without improvement\n",
      " 14%|█▍        | 8036/57400 [21:05<2:05:29,  6.56it/s]\n",
      "Epoch 15 \t Training loss: 0.6937400386100863 \t Validation loss: 0.6922524925005638 \t \n",
      " 15%|█▌        | 8610/57400 [22:35<2:01:20,  6.70it/s]\n",
      "Epoch 16 \t Training loss: 0.6937080692331135 \t Validation loss: 0.6924324985277854 \t \n",
      " 16%|█▌        | 9184/57400 [24:06<2:04:10,  6.47it/s]\n",
      "Epoch 17 \t Training loss: 0.6938864573161361 \t Validation loss: 0.6913875048443422 \t \n",
      " 17%|█▋        | 9758/57400 [25:37<2:01:56,  6.51it/s]\n",
      "Epoch 18 \t Training loss: 0.6937552992682839 \t Validation loss: 0.6933482491363914 \t \n",
      "\n",
      "1 epoch without improvement\n",
      " 18%|█▊        | 10332/57400 [27:07<2:00:04,  6.53it/s]\n",
      "Epoch 19 \t Training loss: 0.6936140329372592 \t Validation loss: 0.6924244710954569 \t \n",
      "\n",
      "2 epoch without improvement\n",
      " 19%|█▉        | 10906/57400 [28:37<1:58:08,  6.56it/s]\n",
      "Epoch 20 \t Training loss: 0.6938611182809291 \t Validation loss: 0.6924936054116588 \t \n",
      "\n",
      "3 epoch without improvement\n",
      " 20%|██        | 11480/57400 [30:07<1:55:54,  6.60it/s]\n",
      "Epoch 21 \t Training loss: 0.6937520614069098 \t Validation loss: 0.692913671671334 \t \n",
      "\n",
      "4 epoch without improvement\n",
      " 21%|██        | 12054/57400 [31:38<1:44:36,  7.22it/s]\n",
      "Epoch 22 \t Training loss: 0.6936911417216789 \t Validation loss: 0.6922813623638476 \t \n",
      " 22%|██▏       | 12628/57400 [33:08<1:52:41,  6.62it/s]\n",
      "Epoch 23 \t Training loss: 0.6934764639633458 \t Validation loss: 0.6922404230651209 \t \n",
      " 23%|██▎       | 13202/57400 [34:39<1:51:47,  6.59it/s]\n",
      "Epoch 24 \t Training loss: 0.6936947008666261 \t Validation loss: 0.6922736076985375 \t \n",
      " 24%|██▍       | 13776/57400 [36:09<1:53:50,  6.39it/s]\n",
      "Epoch 25 \t Training loss: 0.6934164552738442 \t Validation loss: 0.6928834864648722 \t \n",
      "\n",
      "5 epoch without improvement\n",
      " 25%|██▌       | 14350/57400 [37:39<1:47:17,  6.69it/s]\n",
      "Epoch 26 \t Training loss: 0.6933464482686246 \t Validation loss: 0.6934518258450395 \t \n",
      "\n",
      "6 epoch without improvement\n",
      " 26%|██▌       | 14924/57400 [39:10<1:47:35,  6.58it/s]\n",
      "Epoch 27 \t Training loss: 0.6936601167771874 \t Validation loss: 0.6931743773363405 \t \n",
      "\n",
      "7 epoch without improvement\n",
      " 27%|██▋       | 15498/57400 [40:40<1:48:24,  6.44it/s]\n",
      "Epoch 28 \t Training loss: 0.6933500086596619 \t Validation loss: 0.6926563159894135 \t \n",
      "\n",
      "8 epoch without improvement\n",
      " 28%|██▊       | 16072/57400 [42:11<1:46:16,  6.48it/s]\n",
      "Epoch 29 \t Training loss: 0.6934314062786434 \t Validation loss: 0.6929354718175985 \t \n",
      "\n",
      "9 epoch without improvement\n",
      " 29%|██▉       | 16646/57400 [43:42<1:44:37,  6.49it/s]\n",
      "Epoch 30 \t Training loss: 0.6932084288331274 \t Validation loss: 0.6919127167281458 \t \n",
      " 30%|███       | 17220/57400 [45:12<1:44:28,  6.41it/s]\n",
      "Epoch 31 \t Training loss: 0.6933001480243762 \t Validation loss: 0.694147536310099 \t \n",
      "\n",
      "10 epoch without improvement\n",
      "Validation_loss hasn't improve in 10 epoch. Stopping training after 31 epochs...\n"
     ]
    },
    {
     "data": {
      "image/png": "[encoded data removed]",
      "text/plain": [
       "<Figure size 640x480 with 1 Axes>"
      ]
     },
     "metadata": {},
     "output_type": "display_data"
    }
   ],
   "source": [
    "learning_rate = 5e-5\n",
    "optimizer = SGD(model.parameters(), lr=learning_rate, momentum=0.9)\n",
    "num_epochs = 100\n",
    "\n",
    "train.train_function(model,num_epochs,dl_train['to'],optimizer,early_stop=10,dl_val=dl_val['to'],save_path=save_path)"
   ]
  },
  {
   "cell_type": "code",
   "execution_count": 21,
   "metadata": {},
   "outputs": [
    {
     "name": "stderr",
     "output_type": "stream",
     "text": [
      "Some weights of the model checkpoint at bert-base-cased were not used when initializing BertModel: ['cls.predictions.transform.dense.weight', 'cls.predictions.transform.LayerNorm.weight', 'cls.predictions.transform.dense.bias', 'cls.predictions.bias', 'cls.predictions.decoder.weight', 'cls.seq_relationship.weight', 'cls.predictions.transform.LayerNorm.bias', 'cls.seq_relationship.bias']\n",
      "- This IS expected if you are initializing BertModel from the checkpoint of a model trained on another task or with another architecture (e.g. initializing a BertForSequenceClassification model from a BertForPreTraining model).\n",
      "- This IS NOT expected if you are initializing BertModel from the checkpoint of a model that you expect to be exactly identical (initializing a BertForSequenceClassification model from a BertForSequenceClassification model).\n"
     ]
    },
    {
     "name": "stdout",
     "output_type": "stream",
     "text": [
      "Using scikit learn accuracy por género en el conjunto about\n",
      "GLOBAL: 0.42346938775510207\n",
      "MALE 0.20833333333333334\n",
      "FEMALE 0.63 \n",
      "\n",
      "Using scikit learn accuracy por género en el conjunto to\n",
      "GLOBAL: 0.4671717171717172\n",
      "MALE 0.2822384428223844\n",
      "FEMALE 0.6666666666666666 \n",
      "\n",
      "Using scikit learn accuracy por género en el conjunto as\n",
      "GLOBAL: 0.4758800521512386\n",
      "MALE 0.29545454545454547\n",
      "FEMALE 0.6684636118598383 \n",
      "\n"
     ]
    }
   ],
   "source": [
    "model = st.SingleTaskDep(model_conf,vocab).to(device)\n",
    "model.load_state_dict(torch.load(save_path))\n",
    "for task in ['about','to','as']:\n",
    "    print(f\"Using scikit learn accuracy por género en el conjunto {task}\")\n",
    "    print(f\"GLOBAL: {train.eval_function_single_sk(model,dl_eval[task])}\")\n",
    "    print(f\"MALE {train.eval_function_single_sk(model,dl_eval[task],gender='male')}\")\n",
    "    print(f\"FEMALE {train.eval_function_single_sk(model,dl_eval[task],gender='female')}\",'\\n')"
   ]
  },
  {
   "attachments": {},
   "cell_type": "markdown",
   "metadata": {},
   "source": [
    "# AS"
   ]
  },
  {
   "cell_type": "code",
   "execution_count": 22,
   "metadata": {},
   "outputs": [
    {
     "name": "stderr",
     "output_type": "stream",
     "text": [
      "Some weights of the model checkpoint at bert-base-cased were not used when initializing BertModel: ['cls.predictions.transform.dense.weight', 'cls.predictions.transform.LayerNorm.weight', 'cls.predictions.transform.dense.bias', 'cls.predictions.bias', 'cls.predictions.decoder.weight', 'cls.seq_relationship.weight', 'cls.predictions.transform.LayerNorm.bias', 'cls.seq_relationship.bias']\n",
      "- This IS expected if you are initializing BertModel from the checkpoint of a model trained on another task or with another architecture (e.g. initializing a BertForSequenceClassification model from a BertForPreTraining model).\n",
      "- This IS NOT expected if you are initializing BertModel from the checkpoint of a model that you expect to be exactly identical (initializing a BertForSequenceClassification model from a BertForSequenceClassification model).\n"
     ]
    }
   ],
   "source": [
    "model = st.SingleTaskDep(model_conf,vocab).to(device)\n",
    "save_path='m1_dep_bert_as_rel'"
   ]
  },
  {
   "cell_type": "code",
   "execution_count": 23,
   "metadata": {},
   "outputs": [
    {
     "data": {
      "application/vnd.jupyter.widget-view+json": {
       "model_id": "fb9648b7845f4154bd5e102864c1fca1",
       "version_major": 2,
       "version_minor": 0
      },
      "text/plain": [
       "  0%|          | 0/57400 [00:00<?, ?it/s]"
      ]
     },
     "metadata": {},
     "output_type": "display_data"
    },
    {
     "name": "stdout",
     "output_type": "stream",
     "text": [
      "Epoch 1 \t Training loss: 0.6952176867669467 \t Validation loss: 0.6928464841034453 \t \n",
      "  1%|          | 574/57400 [01:30<2:25:38,  6.50it/s]\n",
      "Epoch 2 \t Training loss: 0.6948801173150332 \t Validation loss: 0.6926758723743891 \t \n",
      "  2%|▏         | 1148/57400 [03:01<2:29:20,  6.28it/s]\n",
      "Epoch 3 \t Training loss: 0.6944378800300771 \t Validation loss: 0.6929055715011339 \t \n",
      "  3%|▎         | 1722/57400 [04:32<2:23:06,  6.48it/s]\n",
      "Epoch 4 \t Training loss: 0.6941467093673732 \t Validation loss: 0.6935819660202932 \t \n",
      "  4%|▍         | 2296/57400 [06:02<2:20:56,  6.52it/s]\n",
      "Epoch 5 \t Training loss: 0.6939274542007712 \t Validation loss: 0.6930953567310915 \t \n",
      "  5%|▌         | 2870/57400 [07:33<2:25:16,  6.26it/s]\n",
      "Epoch 6 \t Training loss: 0.6940410251401443 \t Validation loss: 0.6919830320245128 \t \n",
      "  6%|▌         | 3444/57400 [09:03<2:13:17,  6.75it/s]\n",
      "Epoch 7 \t Training loss: 0.6935986441394594 \t Validation loss: 0.6926869497460834 \t \n",
      "  7%|▋         | 4018/57400 [10:34<2:15:45,  6.55it/s]\n",
      "Epoch 8 \t Training loss: 0.693678410314932 \t Validation loss: 0.6932001416966066 \t \n",
      "\n",
      "1 epoch without improvement\n",
      "  8%|▊         | 4592/57400 [12:04<2:19:32,  6.31it/s]\n",
      "Epoch 9 \t Training loss: 0.6935728864179671 \t Validation loss: 0.6924498566126419 \t \n",
      "  9%|▉         | 5166/57400 [13:35<2:00:21,  7.23it/s]\n",
      "Epoch 10 \t Training loss: 0.6933750094852381 \t Validation loss: 0.693397371445672 \t \n",
      "\n",
      "2 epoch without improvement\n",
      " 10%|█         | 5740/57400 [15:05<2:15:55,  6.33it/s]\n",
      "Epoch 11 \t Training loss: 0.6931962670972538 \t Validation loss: 0.6929755988767592 \t \n",
      " 11%|█         | 6314/57400 [16:35<2:08:34,  6.62it/s]\n",
      "Epoch 12 \t Training loss: 0.6932221325017018 \t Validation loss: 0.6928754681247776 \t \n",
      " 12%|█▏        | 6888/57400 [18:05<2:08:38,  6.54it/s]\n",
      "Epoch 13 \t Training loss: 0.6930471764624326 \t Validation loss: 0.6932980943534334 \t \n",
      "\n",
      "3 epoch without improvement\n",
      " 13%|█▎        | 7462/57400 [19:36<2:06:07,  6.60it/s]\n",
      "Epoch 14 \t Training loss: 0.6931930277821079 \t Validation loss: 0.6919792607679205 \t \n",
      " 14%|█▍        | 8036/57400 [21:07<2:09:12,  6.37it/s]\n",
      "Epoch 15 \t Training loss: 0.6928762444635717 \t Validation loss: 0.6934769274824757 \t \n",
      "\n",
      "1 epoch without improvement\n",
      " 15%|█▌        | 8610/57400 [22:38<2:03:48,  6.57it/s]\n",
      "Epoch 16 \t Training loss: 0.6929960464766632 \t Validation loss: 0.692499531527697 \t \n",
      " 16%|█▌        | 9184/57400 [24:08<1:58:37,  6.77it/s]\n",
      "Epoch 17 \t Training loss: 0.6928825808319066 \t Validation loss: 0.6916911177716013 \t \n",
      " 17%|█▋        | 9758/57400 [25:39<1:59:36,  6.64it/s]\n",
      "Epoch 18 \t Training loss: 0.6930073228654962 \t Validation loss: 0.6931592791767444 \t \n",
      "\n",
      "1 epoch without improvement\n",
      " 18%|█▊        | 10332/57400 [27:10<1:55:38,  6.78it/s]\n",
      "Epoch 19 \t Training loss: 0.6928087582986945 \t Validation loss: 0.693015913842088 \t \n",
      "\n",
      "2 epoch without improvement\n",
      " 19%|█▉        | 10906/57400 [28:40<1:56:17,  6.66it/s]\n",
      "Epoch 20 \t Training loss: 0.6925462670234853 \t Validation loss: 0.6932675686933226 \t \n",
      "\n",
      "3 epoch without improvement\n",
      " 20%|██        | 11480/57400 [30:10<1:50:42,  6.91it/s]\n",
      "Epoch 21 \t Training loss: 0.6925879689874549 \t Validation loss: 0.6922718720921015 \t \n",
      " 21%|██        | 12054/57400 [31:41<1:54:50,  6.58it/s]\n",
      "Epoch 22 \t Training loss: 0.6925769486701447 \t Validation loss: 0.6924933902287888 \t \n",
      " 22%|██▏       | 12628/57400 [33:11<2:03:58,  6.02it/s]\n",
      "Epoch 23 \t Training loss: 0.6925209561291472 \t Validation loss: 0.6928841107982701 \t \n",
      "\n",
      "4 epoch without improvement\n",
      " 23%|██▎       | 13202/57400 [34:42<1:56:17,  6.33it/s]\n",
      "Epoch 24 \t Training loss: 0.6921478313643757 \t Validation loss: 0.6912847201702959 \t \n",
      " 24%|██▍       | 13776/57400 [36:12<1:40:01,  7.27it/s]\n",
      "Epoch 25 \t Training loss: 0.6922889858588109 \t Validation loss: 0.6930090865846408 \t \n",
      "\n",
      "1 epoch without improvement\n",
      " 25%|██▌       | 14350/57400 [37:43<1:59:48,  5.99it/s]\n",
      "Epoch 26 \t Training loss: 0.6921303618037327 \t Validation loss: 0.6916703672732337 \t \n",
      " 26%|██▌       | 14924/57400 [39:14<1:52:14,  6.31it/s]\n",
      "Epoch 27 \t Training loss: 0.6922570542799056 \t Validation loss: 0.6912698109271163 \t \n",
      " 27%|██▋       | 15498/57400 [40:44<1:39:42,  7.00it/s]\n",
      "Epoch 28 \t Training loss: 0.6917933215247629 \t Validation loss: 0.6921991998866454 \t \n",
      " 28%|██▊       | 16072/57400 [42:14<1:34:06,  7.32it/s]\n",
      "Epoch 29 \t Training loss: 0.6922196207976923 \t Validation loss: 0.6918022622496395 \t \n",
      " 29%|██▉       | 16646/57400 [43:44<1:38:14,  6.91it/s]\n",
      "Epoch 30 \t Training loss: 0.691831425195787 \t Validation loss: 0.6915198837296438 \t \n",
      " 30%|███       | 17220/57400 [45:15<1:43:12,  6.49it/s]\n",
      "Epoch 31 \t Training loss: 0.6916542454048317 \t Validation loss: 0.6929944551597207 \t \n",
      "\n",
      "1 epoch without improvement\n",
      " 31%|███       | 17794/57400 [46:45<1:39:16,  6.65it/s]\n",
      "Epoch 32 \t Training loss: 0.6918381041350681 \t Validation loss: 0.692004065392381 \t \n",
      " 32%|███▏      | 18368/57400 [48:15<1:38:28,  6.61it/s]\n",
      "Epoch 33 \t Training loss: 0.691594763811457 \t Validation loss: 0.6922469280533872 \t \n",
      " 33%|███▎      | 18942/57400 [49:45<1:37:36,  6.57it/s]\n",
      "Epoch 34 \t Training loss: 0.6917015198838835 \t Validation loss: 0.6912821783857831 \t \n",
      " 34%|███▍      | 19516/57400 [51:15<1:33:52,  6.73it/s]\n",
      "Epoch 35 \t Training loss: 0.6917752744013425 \t Validation loss: 0.6921773290230055 \t \n",
      " 35%|███▌      | 20090/57400 [52:46<1:30:35,  6.86it/s]\n",
      "Epoch 36 \t Training loss: 0.6913792891784828 \t Validation loss: 0.6919241769839142 \t \n",
      " 36%|███▌      | 20664/57400 [54:17<1:32:31,  6.62it/s]\n",
      "Epoch 37 \t Training loss: 0.6916123740764445 \t Validation loss: 0.6921231271856922 \t \n",
      " 37%|███▋      | 21238/57400 [55:47<1:31:52,  6.56it/s]\n",
      "Epoch 38 \t Training loss: 0.6912260066964485 \t Validation loss: 0.6912752602059963 \t \n",
      " 38%|███▊      | 21812/57400 [57:17<1:28:48,  6.68it/s]\n",
      "Epoch 39 \t Training loss: 0.6911385684478574 \t Validation loss: 0.6927170399892129 \t \n",
      "\n",
      "2 epoch without improvement\n",
      " 39%|███▉      | 22386/57400 [58:47<1:20:39,  7.23it/s]\n",
      "Epoch 40 \t Training loss: 0.6916226471550373 \t Validation loss: 0.691877613633366 \t \n",
      " 40%|████      | 22960/57400 [1:00:18<1:25:28,  6.72it/s]\n",
      "Epoch 41 \t Training loss: 0.691252354130097 \t Validation loss: 0.6922608452328181 \t \n",
      " 41%|████      | 23534/57400 [1:01:48<1:25:04,  6.63it/s]\n",
      "Epoch 42 \t Training loss: 0.6912521239149446 \t Validation loss: 0.6918515401371454 \t \n",
      " 42%|████▏     | 24108/57400 [1:03:29<1:32:16,  6.01it/s]\n",
      "Epoch 43 \t Training loss: 0.6909035474373488 \t Validation loss: 0.6912104366189342 \t \n",
      " 43%|████▎     | 24682/57400 [1:05:09<1:32:46,  5.88it/s]\n",
      "Epoch 44 \t Training loss: 0.6910928984136947 \t Validation loss: 0.6920159580343861 \t \n",
      " 44%|████▍     | 25256/57400 [1:06:48<1:28:31,  6.05it/s]\n",
      "Epoch 45 \t Training loss: 0.6908149689124436 \t Validation loss: 0.6924461873911195 \t \n",
      "\n",
      "1 epoch without improvement\n",
      " 45%|████▌     | 25830/57400 [1:08:28<1:34:35,  5.56it/s]\n",
      "Epoch 46 \t Training loss: 0.6911159604268622 \t Validation loss: 0.6924036993818768 \t \n",
      "\n",
      "2 epoch without improvement\n",
      " 46%|████▌     | 26404/57400 [1:10:07<1:30:03,  5.74it/s]\n",
      "Epoch 47 \t Training loss: 0.6905782555038505 \t Validation loss: 0.6924187116703745 \t \n",
      "\n",
      "3 epoch without improvement\n",
      " 47%|████▋     | 26978/57400 [1:11:46<1:17:10,  6.57it/s]\n",
      "Epoch 48 \t Training loss: 0.6905153915026462 \t Validation loss: 0.6922592985427986 \t \n",
      "\n",
      "4 epoch without improvement\n",
      " 48%|████▊     | 27552/57400 [1:13:25<1:20:45,  6.16it/s]\n",
      "Epoch 49 \t Training loss: 0.6908079277762968 \t Validation loss: 0.6922061120049429 \t \n",
      " 49%|████▉     | 28126/57400 [1:15:05<1:15:49,  6.43it/s]\n",
      "Epoch 50 \t Training loss: 0.690903304865136 \t Validation loss: 0.6930257890184047 \t \n",
      "\n",
      "5 epoch without improvement\n",
      " 50%|█████     | 28700/57400 [1:16:43<1:18:35,  6.09it/s]\n",
      "Epoch 51 \t Training loss: 0.6903119153677378 \t Validation loss: 0.6911391423920453 \t \n",
      " 51%|█████     | 29274/57400 [1:18:22<1:08:08,  6.88it/s]\n",
      "Epoch 52 \t Training loss: 0.6906844695270684 \t Validation loss: 0.6923237129793329 \t \n",
      "\n",
      "1 epoch without improvement\n",
      " 52%|█████▏    | 29848/57400 [1:19:53<1:10:53,  6.48it/s]\n",
      "Epoch 53 \t Training loss: 0.6903789273953188 \t Validation loss: 0.6915405049162396 \t \n",
      " 53%|█████▎    | 30422/57400 [1:21:24<1:04:03,  7.02it/s]\n",
      "Epoch 54 \t Training loss: 0.6905305812375471 \t Validation loss: 0.6907197428961932 \t \n",
      " 54%|█████▍    | 30996/57400 [1:22:55<1:04:46,  6.79it/s]\n",
      "Epoch 55 \t Training loss: 0.6902456487097391 \t Validation loss: 0.6909696055670916 \t \n",
      " 55%|█████▌    | 31570/57400 [1:24:26<1:06:14,  6.50it/s]\n",
      "Epoch 56 \t Training loss: 0.6902647826314388 \t Validation loss: 0.6903800014722146 \t \n",
      " 56%|█████▌    | 32144/57400 [1:25:56<58:32,  7.19it/s]\n",
      "Epoch 57 \t Training loss: 0.6899962796982158 \t Validation loss: 0.6913387179374695 \t \n",
      " 57%|█████▋    | 32718/57400 [1:27:27<56:56,  7.22it/s]\n",
      "Epoch 58 \t Training loss: 0.6903130104732845 \t Validation loss: 0.6921888296887025 \t \n",
      "\n",
      "1 epoch without improvement\n",
      " 58%|█████▊    | 33292/57400 [1:28:58<55:00,  7.30it/s]\n",
      "Epoch 59 \t Training loss: 0.6900757902175292 \t Validation loss: 0.6919683015952676 \t \n",
      "\n",
      "2 epoch without improvement\n",
      " 59%|█████▉    | 33866/57400 [1:30:29<54:43,  7.17it/s]\n",
      "Epoch 60 \t Training loss: 0.6899939266646781 \t Validation loss: 0.6902191558126676 \t \n",
      " 60%|██████    | 34440/57400 [1:32:01<54:10,  7.06it/s]\n",
      "Epoch 61 \t Training loss: 0.6898654001515087 \t Validation loss: 0.691407668388496 \t \n",
      "\n",
      "1 epoch without improvement\n",
      " 61%|██████    | 35014/57400 [1:33:31<56:13,  6.64it/s]\n",
      "Epoch 62 \t Training loss: 0.6895798663852106 \t Validation loss: 0.6925575460417795 \t \n",
      "\n",
      "2 epoch without improvement\n",
      " 62%|██████▏   | 35588/57400 [1:35:02<57:28,  6.32it/s]\n",
      "Epoch 63 \t Training loss: 0.6897673263159363 \t Validation loss: 0.6904550235150224 \t \n",
      " 63%|██████▎   | 36162/57400 [1:36:32<52:28,  6.75it/s]\n",
      "Epoch 64 \t Training loss: 0.6895798409442038 \t Validation loss: 0.6911089187961513 \t \n",
      " 64%|██████▍   | 36736/57400 [1:38:03<43:11,  7.97it/s]\n",
      "Epoch 65 \t Training loss: 0.6895664550286137 \t Validation loss: 0.6915148264270717 \t \n",
      "\n",
      "3 epoch without improvement\n",
      " 65%|██████▌   | 37310/57400 [1:39:42<54:25,  6.15it/s]\n",
      "Epoch 66 \t Training loss: 0.6897874771510267 \t Validation loss: 0.6914127974186913 \t \n",
      "\n",
      "4 epoch without improvement\n",
      " 66%|██████▌   | 37884/57400 [1:41:21<55:46,  5.83it/s]\n",
      "Epoch 67 \t Training loss: 0.6899068812460019 \t Validation loss: 0.6919052317991095 \t \n",
      "\n",
      "5 epoch without improvement\n",
      " 67%|██████▋   | 38458/57400 [1:43:02<52:33,  6.01it/s]\n",
      "Epoch 68 \t Training loss: 0.6898852622052103 \t Validation loss: 0.6908318854994693 \t \n",
      " 68%|██████▊   | 39032/57400 [1:44:42<49:57,  6.13it/s]\n",
      "Epoch 69 \t Training loss: 0.6894858050637129 \t Validation loss: 0.6915531673673856 \t \n",
      "\n",
      "6 epoch without improvement\n",
      " 69%|██████▉   | 39606/57400 [1:46:22<51:09,  5.80it/s]\n",
      "Epoch 70 \t Training loss: 0.6894405794683649 \t Validation loss: 0.6913150821701955 \t \n",
      "\n",
      "7 epoch without improvement\n",
      " 70%|███████   | 40180/57400 [1:48:03<47:27,  6.05it/s]\n",
      "Epoch 71 \t Training loss: 0.6891798373921822 \t Validation loss: 0.6922376994359292 \t \n",
      "\n",
      "8 epoch without improvement\n",
      " 71%|███████   | 40754/57400 [1:49:43<46:56,  5.91it/s]\n",
      "Epoch 72 \t Training loss: 0.6896297404159653 \t Validation loss: 0.6896785548177816 \t \n",
      " 72%|███████▏  | 41328/57400 [1:51:24<44:43,  5.99it/s]\n",
      "Epoch 73 \t Training loss: 0.6890741302161266 \t Validation loss: 0.6919282422227374 \t \n",
      "\n",
      "1 epoch without improvement\n",
      " 73%|███████▎  | 41902/57400 [1:53:04<46:09,  5.60it/s]\n",
      "Epoch 74 \t Training loss: 0.6896614843544644 \t Validation loss: 0.6927324543565007 \t \n",
      "\n",
      "2 epoch without improvement\n",
      " 74%|███████▍  | 42476/57400 [1:54:37<37:26,  6.64it/s]\n",
      "Epoch 75 \t Training loss: 0.6889575299277954 \t Validation loss: 0.6916024533368773 \t \n",
      "\n",
      "3 epoch without improvement\n",
      " 75%|███████▌  | 43050/57400 [1:56:07<36:19,  6.59it/s]\n",
      "Epoch 76 \t Training loss: 0.6892970053784108 \t Validation loss: 0.6923369027800479 \t \n",
      "\n",
      "4 epoch without improvement\n",
      " 76%|███████▌  | 43624/57400 [1:57:38<34:27,  6.66it/s]\n",
      "Epoch 77 \t Training loss: 0.689281928518508 \t Validation loss: 0.6908747917514736 \t \n",
      "\n",
      "5 epoch without improvement\n",
      " 77%|███████▋  | 44198/57400 [1:59:09<33:55,  6.48it/s]\n",
      "Epoch 78 \t Training loss: 0.689598178821989 \t Validation loss: 0.6913996348946782 \t \n",
      "\n",
      "6 epoch without improvement\n",
      " 78%|███████▊  | 44772/57400 [2:00:40<32:02,  6.57it/s]\n",
      "Epoch 79 \t Training loss: 0.6895705406466428 \t Validation loss: 0.6915896878404132 \t \n",
      "\n",
      "7 epoch without improvement\n",
      " 79%|███████▉  | 45346/57400 [2:02:10<30:04,  6.68it/s]\n",
      "Epoch 80 \t Training loss: 0.6891489586555999 \t Validation loss: 0.6893747822713043 \t \n",
      " 80%|████████  | 45920/57400 [2:03:41<30:45,  6.22it/s]\n",
      "Epoch 81 \t Training loss: 0.6895825139113835 \t Validation loss: 0.6912980706004773 \t \n",
      "\n",
      "1 epoch without improvement\n",
      " 81%|████████  | 46494/57400 [2:05:12<27:29,  6.61it/s]\n",
      "Epoch 82 \t Training loss: 0.6895935671462414 \t Validation loss: 0.6925664806770067 \t \n",
      "\n",
      "2 epoch without improvement\n",
      " 82%|████████▏ | 47068/57400 [2:06:42<25:50,  6.66it/s]\n",
      "Epoch 83 \t Training loss: 0.6893487873808433 \t Validation loss: 0.6918480891292378 \t \n",
      "\n",
      "3 epoch without improvement\n",
      " 83%|████████▎ | 47642/57400 [2:08:13<28:01,  5.80it/s]\n",
      "Epoch 84 \t Training loss: 0.6898230770116068 \t Validation loss: 0.6927423588300156 \t \n",
      "\n",
      "4 epoch without improvement\n",
      " 84%|████████▍ | 48216/57400 [2:09:44<21:26,  7.14it/s]\n",
      "Epoch 85 \t Training loss: 0.6893450261616125 \t Validation loss: 0.6913687859551382 \t \n",
      "\n",
      "5 epoch without improvement\n",
      " 85%|████████▌ | 48790/57400 [2:11:14<22:53,  6.27it/s]\n",
      "Epoch 86 \t Training loss: 0.6890211764736043 \t Validation loss: 0.6896849133200564 \t \n",
      " 86%|████████▌ | 49364/57400 [2:12:45<22:42,  5.90it/s]\n",
      "Epoch 87 \t Training loss: 0.6891447569435066 \t Validation loss: 0.6921192336890657 \t \n",
      "\n",
      "6 epoch without improvement\n",
      " 87%|████████▋ | 49938/57400 [2:14:15<18:54,  6.58it/s]\n",
      "Epoch 88 \t Training loss: 0.6893643400394958 \t Validation loss: 0.6908259017992828 \t \n",
      "\n",
      "7 epoch without improvement\n",
      " 88%|████████▊ | 50512/57400 [2:15:46<17:26,  6.58it/s]\n",
      "Epoch 89 \t Training loss: 0.6891127237044145 \t Validation loss: 0.691570669917737 \t \n",
      "\n",
      "8 epoch without improvement\n",
      " 89%|████████▉ | 51086/57400 [2:17:17<16:01,  6.57it/s]\n",
      "Epoch 90 \t Training loss: 0.6889013472542115 \t Validation loss: 0.6913648611408169 \t \n",
      "\n",
      "9 epoch without improvement\n",
      " 90%|█████████ | 51660/57400 [2:18:48<15:10,  6.30it/s]\n",
      "Epoch 91 \t Training loss: 0.6890994351915366 \t Validation loss: 0.6904785835136802 \t \n",
      "\n",
      "10 epoch without improvement\n",
      "Validation_loss hasn't improve in 10 epoch. Stopping training after 91 epochs...\n"
     ]
    },
    {
     "data": {
      "image/png": "[encoded data removed]",
      "text/plain": [
       "<Figure size 640x480 with 1 Axes>"
      ]
     },
     "metadata": {},
     "output_type": "display_data"
    }
   ],
   "source": [
    "learning_rate = 5e-5\n",
    "optimizer = SGD(model.parameters(), lr=learning_rate, momentum=0.9)\n",
    "num_epochs = 100\n",
    "\n",
    "train.train_function(model,num_epochs,dl_train['as'],optimizer,early_stop=10,dl_val=dl_val['as'],save_path=save_path)"
   ]
  },
  {
   "cell_type": "code",
   "execution_count": 24,
   "metadata": {},
   "outputs": [
    {
     "name": "stderr",
     "output_type": "stream",
     "text": [
      "Some weights of the model checkpoint at bert-base-cased were not used when initializing BertModel: ['cls.predictions.transform.dense.weight', 'cls.predictions.transform.LayerNorm.weight', 'cls.predictions.transform.dense.bias', 'cls.predictions.bias', 'cls.predictions.decoder.weight', 'cls.seq_relationship.weight', 'cls.predictions.transform.LayerNorm.bias', 'cls.seq_relationship.bias']\n",
      "- This IS expected if you are initializing BertModel from the checkpoint of a model trained on another task or with another architecture (e.g. initializing a BertForSequenceClassification model from a BertForPreTraining model).\n",
      "- This IS NOT expected if you are initializing BertModel from the checkpoint of a model that you expect to be exactly identical (initializing a BertForSequenceClassification model from a BertForSequenceClassification model).\n"
     ]
    },
    {
     "name": "stdout",
     "output_type": "stream",
     "text": [
      "Using scikit learn accuracy por género en el conjunto about\n",
      "GLOBAL: 0.701530612244898\n",
      "MALE 0.71875\n",
      "FEMALE 0.685 \n",
      "\n",
      "Using scikit learn accuracy por género en el conjunto to\n",
      "GLOBAL: 0.6388888888888888\n",
      "MALE 0.6642335766423357\n",
      "FEMALE 0.6115485564304461 \n",
      "\n",
      "Using scikit learn accuracy por género en el conjunto as\n",
      "GLOBAL: 0.6558018252933507\n",
      "MALE 0.6237373737373737\n",
      "FEMALE 0.6900269541778976 \n",
      "\n"
     ]
    }
   ],
   "source": [
    "model = st.SingleTaskDep(model_conf,vocab).to(device)\n",
    "model.load_state_dict(torch.load(save_path))\n",
    "for task in ['about','to','as']:\n",
    "    print(f\"Using scikit learn accuracy por género en el conjunto {task}\")\n",
    "    print(f\"GLOBAL: {train.eval_function_single_sk(model,dl_eval[task])}\")\n",
    "    print(f\"MALE {train.eval_function_single_sk(model,dl_eval[task],gender='male')}\")\n",
    "    print(f\"FEMALE {train.eval_function_single_sk(model,dl_eval[task],gender='female')}\",'\\n')"
   ]
  }
 ],
 "metadata": {
  "kernelspec": {
   "display_name": "tfg",
   "language": "python",
   "name": "python3"
  },
  "language_info": {
   "codemirror_mode": {
    "name": "ipython",
    "version": 3
   },
   "file_extension": ".py",
   "mimetype": "text/x-python",
   "name": "python",
   "nbconvert_exporter": "python",
   "pygments_lexer": "ipython3",
   "version": "3.9.13"
  },
  "orig_nbformat": 4,
  "vscode": {
   "interpreter": {
    "hash": "b2012626cca2d66e84dc87dc317222963c31dcd31e180f1257b027de73883164"
   }
  }
 },
 "nbformat": 4,
 "nbformat_minor": 2
}
