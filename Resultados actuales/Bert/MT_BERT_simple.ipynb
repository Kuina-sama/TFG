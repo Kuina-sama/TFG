{
 "cells": [
  {
   "cell_type": "code",
   "execution_count": 2,
   "metadata": {},
   "outputs": [],
   "source": [
    "import torch\n",
    "from torch.utils.data import DataLoader\n",
    "from torch.optim import SGD ,AdamW\n",
    "\n",
    "from datasets import load_dataset, load_metric\n",
    "\n",
    "import matplotlib.pyplot as plt\n",
    "\n",
    "import json\n"
   ]
  },
  {
   "cell_type": "code",
   "execution_count": 4,
   "metadata": {},
   "outputs": [],
   "source": [
    "import utils_generic as generic\n",
    "import multitask_simple as mt\n",
    "import model_confs as confs\n",
    "import train"
   ]
  },
  {
   "cell_type": "code",
   "execution_count": 3,
   "metadata": {},
   "outputs": [],
   "source": [
    "device = torch.device(\"cuda\") if torch.cuda.is_available() else torch.device(\"cpu\")\n",
    "torch.manual_seed(27)\n",
    "tasks = ['to','as','about']"
   ]
  },
  {
   "cell_type": "code",
   "execution_count": 5,
   "metadata": {},
   "outputs": [],
   "source": [
    "model_conf = confs.bert_conf"
   ]
  },
  {
   "attachments": {},
   "cell_type": "markdown",
   "metadata": {},
   "source": [
    "# Datos ConvAI"
   ]
  },
  {
   "cell_type": "code",
   "execution_count": 6,
   "metadata": {},
   "outputs": [],
   "source": [
    "with open('Datasets\\ConvAI2\\convai2_complete.json','r') as f:\n",
    "    data = json.load(f)"
   ]
  },
  {
   "cell_type": "code",
   "execution_count": 7,
   "metadata": {},
   "outputs": [],
   "source": [
    "convai_train = data['train']\n",
    "convai_val = data['validation']\n",
    "\n",
    "\n",
    "\n",
    "convai_train_token = generic.tokenize_dataset(convai_train,tasks,model_conf) \n",
    "convai_val_token = generic.tokenize_dataset(convai_val,tasks,model_conf) "
   ]
  },
  {
   "cell_type": "code",
   "execution_count": 8,
   "metadata": {},
   "outputs": [],
   "source": [
    "convai_train_dataset = mt.DatasetMultiTaskSimple(convai_train_token,tasks,eval=False)\n",
    "convai_val_dataset = mt.DatasetMultiTaskSimple(convai_val_token,tasks,eval=False)"
   ]
  },
  {
   "attachments": {},
   "cell_type": "markdown",
   "metadata": {},
   "source": [
    "# Datos md_gender"
   ]
  },
  {
   "cell_type": "code",
   "execution_count": 9,
   "metadata": {},
   "outputs": [],
   "source": [
    "with open('Datasets\\md_gender\\md_complete.json','r',encoding=\"utf8\") as f:\n",
    "    md_data = json.load(f)"
   ]
  },
  {
   "cell_type": "code",
   "execution_count": 10,
   "metadata": {},
   "outputs": [],
   "source": [
    "md_tokenized = generic.tokenize_dataset(md_data,tasks,model_conf) \n",
    "md_dataset = mt.DatasetMultiTaskSimple(md_tokenized,tasks,eval=True)"
   ]
  },
  {
   "attachments": {},
   "cell_type": "markdown",
   "metadata": {},
   "source": [
    "# Creación dataloaders"
   ]
  },
  {
   "cell_type": "code",
   "execution_count": 11,
   "metadata": {},
   "outputs": [],
   "source": [
    "dl_train =DataLoader(convai_train_dataset,batch_size=128,shuffle=True,collate_fn=mt.collate_fn)\n",
    "dl_val =DataLoader(convai_val_dataset,batch_size=128,shuffle=True,collate_fn=mt.collate_fn)\n",
    "dl_eval = DataLoader(md_dataset,batch_size=128,shuffle=False,collate_fn=mt.collate_fn)"
   ]
  },
  {
   "attachments": {},
   "cell_type": "markdown",
   "metadata": {},
   "source": [
    "# Modelo multitask"
   ]
  },
  {
   "attachments": {},
   "cell_type": "markdown",
   "metadata": {},
   "source": [
    "## SGD"
   ]
  },
  {
   "cell_type": "code",
   "execution_count": 11,
   "metadata": {},
   "outputs": [
    {
     "name": "stderr",
     "output_type": "stream",
     "text": [
      "Some weights of the model checkpoint at bert-base-cased were not used when initializing BertModel: ['cls.predictions.transform.dense.bias', 'cls.predictions.transform.LayerNorm.bias', 'cls.predictions.transform.LayerNorm.weight', 'cls.seq_relationship.weight', 'cls.predictions.transform.dense.weight', 'cls.seq_relationship.bias', 'cls.predictions.bias', 'cls.predictions.decoder.weight']\n",
      "- This IS expected if you are initializing BertModel from the checkpoint of a model trained on another task or with another architecture (e.g. initializing a BertForSequenceClassification model from a BertForPreTraining model).\n",
      "- This IS NOT expected if you are initializing BertModel from the checkpoint of a model that you expect to be exactly identical (initializing a BertForSequenceClassification model from a BertForSequenceClassification model).\n"
     ]
    }
   ],
   "source": [
    "model = mt.MultiTaskSimple(model_conf).to(device)\n",
    "save_path='m1_bert_multi'"
   ]
  },
  {
   "cell_type": "code",
   "execution_count": 12,
   "metadata": {},
   "outputs": [
    {
     "name": "stdout",
     "output_type": "stream",
     "text": [
      "Accuracy evaluando en todas las etiquetas\n",
      "{'to': 0.5, 'as': 0.5071707953063885, 'about': 0.49362244897959184}\n",
      "Accuracy evaluando en etiquetas female\n",
      "{'to': 0.06036745406824147, 'as': 0.07547169811320754, 'about': 0.07}\n",
      "Accuracy evaluando en etiquetas male\n",
      "{'to': 0.9075425790754258, 'as': 0.9116161616161617, 'about': 0.9348958333333334}\n"
     ]
    }
   ],
   "source": [
    "print(\"Accuracy evaluando en todas las etiquetas\")\n",
    "print(train.eval_function_multi(model,dl_eval,tasks))\n",
    "print(\"Accuracy evaluando en etiquetas female\")\n",
    "print(train.eval_function_multi(model,dl_eval,tasks,'female'))\n",
    "print(\"Accuracy evaluando en etiquetas male\")\n",
    "print(train.eval_function_multi(model,dl_eval,tasks,'male'))"
   ]
  },
  {
   "cell_type": "code",
   "execution_count": 13,
   "metadata": {},
   "outputs": [
    {
     "data": {
      "application/vnd.jupyter.widget-view+json": {
       "model_id": "b2140150b33d47be8e361a4cbda8c47f",
       "version_major": 2,
       "version_minor": 0
      },
      "text/plain": [
       "  0%|          | 0/57400 [00:00<?, ?it/s]"
      ]
     },
     "metadata": {},
     "output_type": "display_data"
    },
    {
     "name": "stdout",
     "output_type": "stream",
     "text": [
      "Epoch 1 \t Training loss: 2.0792603226904256 \t Validation loss: 2.076592065520206 \t \n",
      "  1%|          | 574/57400 [01:23<2:08:21,  7.38it/s]\n",
      "Epoch 2 \t Training loss: 2.064993056270719 \t Validation loss: 2.062073505530923 \t \n",
      "  2%|▏         | 1148/57400 [02:48<2:15:46,  6.90it/s]\n",
      "Epoch 3 \t Training loss: 2.0451181040823667 \t Validation loss: 2.0313145043486256 \t \n",
      "  3%|▎         | 1722/57400 [04:13<1:59:16,  7.78it/s]\n",
      "Epoch 4 \t Training loss: 2.016648127434561 \t Validation loss: 2.0129350060123508 \t \n",
      "  4%|▍         | 2296/57400 [05:37<2:05:24,  7.32it/s]\n",
      "Epoch 5 \t Training loss: 1.999811537589761 \t Validation loss: 1.9974227194058694 \t \n",
      "  5%|▌         | 2870/57400 [07:01<2:09:35,  7.01it/s]\n",
      "Epoch 6 \t Training loss: 1.99265161727779 \t Validation loss: 1.9974948491080333 \t \n",
      "  6%|▌         | 3444/57400 [08:27<2:00:11,  7.48it/s]\n",
      "Epoch 7 \t Training loss: 1.9866648183467082 \t Validation loss: 1.9914141246827983 \t \n",
      "  7%|▋         | 4018/57400 [09:54<2:08:31,  6.92it/s]\n",
      "Epoch 8 \t Training loss: 1.982407881823151 \t Validation loss: 1.9880905292801938 \t \n",
      "  8%|▊         | 4592/57400 [11:18<2:04:32,  7.07it/s]\n",
      "Epoch 9 \t Training loss: 1.9819644878550273 \t Validation loss: 1.9883621203697335 \t \n",
      "  9%|▉         | 5166/57400 [12:42<2:05:11,  6.95it/s]\n",
      "Epoch 10 \t Training loss: 1.9770755761591814 \t Validation loss: 1.9845558910046595 \t \n",
      " 10%|█         | 5740/57400 [14:07<2:27:34,  5.83it/s]\n",
      "Epoch 11 \t Training loss: 1.9785709738316022 \t Validation loss: 1.9864341768167786 \t \n",
      "\n",
      "1 epoch without improvement\n",
      " 11%|█         | 6314/57400 [15:31<1:42:26,  8.31it/s]\n",
      "Epoch 12 \t Training loss: 1.9755021589142936 \t Validation loss: 1.9810245037078857 \t \n",
      " 12%|█▏        | 6888/57400 [16:55<1:52:10,  7.50it/s]\n",
      "Epoch 13 \t Training loss: 1.9761260087481773 \t Validation loss: 1.9810113502761064 \t \n",
      " 13%|█▎        | 7462/57400 [18:19<1:56:46,  7.13it/s]\n",
      "Epoch 14 \t Training loss: 1.9723101117054345 \t Validation loss: 1.9746232840974451 \t \n",
      " 14%|█▍        | 8036/57400 [19:44<1:53:45,  7.23it/s]\n",
      "Epoch 15 \t Training loss: 1.9722721981669968 \t Validation loss: 1.9758335392353898 \t \n",
      "\n",
      "1 epoch without improvement\n",
      " 15%|█▌        | 8610/57400 [21:08<1:56:33,  6.98it/s]\n",
      "Epoch 16 \t Training loss: 1.971675722856555 \t Validation loss: 1.9818801576808347 \t \n",
      "\n",
      "2 epoch without improvement\n",
      " 16%|█▌        | 9184/57400 [22:33<1:53:30,  7.08it/s]\n",
      "Epoch 17 \t Training loss: 1.9736154928855365 \t Validation loss: 1.9832966287257308 \t \n",
      "\n",
      "3 epoch without improvement\n",
      " 17%|█▋        | 9758/57400 [23:55<1:47:41,  7.37it/s]\n",
      "Epoch 18 \t Training loss: 1.9699462045775888 \t Validation loss: 1.9807456145852298 \t \n",
      "\n",
      "4 epoch without improvement\n",
      " 18%|█▊        | 10332/57400 [25:18<1:52:55,  6.95it/s]\n",
      "Epoch 19 \t Training loss: 1.968926697657914 \t Validation loss: 1.977285502320629 \t \n",
      "\n",
      "5 epoch without improvement\n",
      " 19%|█▉        | 10906/57400 [26:43<1:51:11,  6.97it/s]\n",
      "Epoch 20 \t Training loss: 1.9681630603943137 \t Validation loss: 1.974027950884932 \t \n",
      " 20%|██        | 11480/57400 [28:08<1:38:18,  7.78it/s]\n",
      "Epoch 21 \t Training loss: 1.9687382128180526 \t Validation loss: 1.9731703632968967 \t \n",
      " 21%|██        | 12054/57400 [29:33<1:49:11,  6.92it/s]\n",
      "Epoch 22 \t Training loss: 1.9665232849038021 \t Validation loss: 1.976691648111505 \t \n",
      "\n",
      "1 epoch without improvement\n",
      " 22%|██▏       | 12628/57400 [30:57<1:52:16,  6.65it/s]\n",
      "Epoch 23 \t Training loss: 1.9678068171394827 \t Validation loss: 1.981675232871104 \t \n",
      "\n",
      "2 epoch without improvement\n",
      " 23%|██▎       | 13202/57400 [32:21<1:39:59,  7.37it/s]\n",
      "Epoch 24 \t Training loss: 1.9659482234446428 \t Validation loss: 1.9765289052058075 \t \n",
      "\n",
      "3 epoch without improvement\n",
      " 24%|██▍       | 13776/57400 [33:45<1:44:38,  6.95it/s]\n",
      "Epoch 25 \t Training loss: 1.9657562730204352 \t Validation loss: 1.9808613607438945 \t \n",
      "\n",
      "4 epoch without improvement\n",
      " 25%|██▌       | 14350/57400 [35:09<1:42:43,  6.98it/s]\n",
      "Epoch 26 \t Training loss: 1.9645439434134586 \t Validation loss: 1.9766066680520267 \t \n",
      "\n",
      "5 epoch without improvement\n",
      " 26%|██▌       | 14924/57400 [36:34<1:37:05,  7.29it/s]\n",
      "Epoch 27 \t Training loss: 1.9644503439760375 \t Validation loss: 1.9775999663239818 \t \n",
      "\n",
      "6 epoch without improvement\n",
      " 27%|██▋       | 15498/57400 [37:58<1:38:45,  7.07it/s]\n",
      "Epoch 28 \t Training loss: 1.9634101122929244 \t Validation loss: 1.9791375540070615 \t \n",
      "\n",
      "7 epoch without improvement\n",
      " 28%|██▊       | 16072/57400 [39:21<1:20:53,  8.52it/s]\n",
      "Epoch 29 \t Training loss: 1.9645632962316586 \t Validation loss: 1.977955787868823 \t \n",
      "\n",
      "8 epoch without improvement\n",
      " 29%|██▉       | 16646/57400 [40:44<1:31:43,  7.40it/s]\n",
      "Epoch 30 \t Training loss: 1.9661827469536652 \t Validation loss: 1.973349443936752 \t \n",
      " 30%|███       | 17220/57400 [42:07<1:39:18,  6.74it/s]\n",
      "Epoch 31 \t Training loss: 1.959309663714432 \t Validation loss: 1.9711708800267365 \t \n",
      " 31%|███       | 17794/57400 [43:31<1:33:53,  7.03it/s]\n",
      "Epoch 32 \t Training loss: 1.9612814071701794 \t Validation loss: 1.9762711969472595 \t \n",
      "\n",
      "1 epoch without improvement\n",
      " 32%|███▏      | 18368/57400 [44:54<1:35:04,  6.84it/s]\n",
      "Epoch 33 \t Training loss: 1.9619506537291231 \t Validation loss: 1.981216848906824 \t \n",
      "\n",
      "2 epoch without improvement\n",
      " 33%|███▎      | 18942/57400 [46:17<1:33:56,  6.82it/s]\n",
      "Epoch 34 \t Training loss: 1.9630230289303052 \t Validation loss: 1.9721818778474451 \t \n",
      "\n",
      "3 epoch without improvement\n",
      " 34%|███▍      | 19516/57400 [47:40<1:22:29,  7.65it/s]\n",
      "Epoch 35 \t Training loss: 1.960700419098658 \t Validation loss: 1.9757651211851734 \t \n",
      "\n",
      "4 epoch without improvement\n",
      " 35%|███▌      | 20090/57400 [49:03<1:26:27,  7.19it/s]\n",
      "Epoch 36 \t Training loss: 1.9606522045484402 \t Validation loss: 1.9692300840959711 \t \n",
      " 36%|███▌      | 20664/57400 [50:27<1:12:27,  8.45it/s]\n",
      "Epoch 37 \t Training loss: 1.9611829081063488 \t Validation loss: 1.9726518069283436 \t \n",
      "\n",
      "1 epoch without improvement\n",
      " 37%|███▋      | 21238/57400 [51:50<1:21:58,  7.35it/s]\n",
      "Epoch 38 \t Training loss: 1.9610631451374148 \t Validation loss: 1.9727405451111875 \t \n",
      "\n",
      "2 epoch without improvement\n",
      " 38%|███▊      | 21812/57400 [53:12<1:09:01,  8.59it/s]\n",
      "Epoch 39 \t Training loss: 1.9587483316763767 \t Validation loss: 1.9744995084859558 \t \n",
      "\n",
      "3 epoch without improvement\n",
      " 39%|███▉      | 22386/57400 [54:34<1:20:01,  7.29it/s]\n",
      "Epoch 40 \t Training loss: 1.9608860724063701 \t Validation loss: 1.9702077720124842 \t \n",
      " 40%|████      | 22960/57400 [55:55<1:18:45,  7.29it/s]\n",
      "Epoch 41 \t Training loss: 1.9614313323738684 \t Validation loss: 1.970527418589188 \t \n",
      "\n",
      "4 epoch without improvement\n",
      " 41%|████      | 23534/57400 [57:17<1:12:13,  7.81it/s]\n",
      "Epoch 42 \t Training loss: 1.960869797223121 \t Validation loss: 1.9729527679540344 \t \n",
      "\n",
      "5 epoch without improvement\n",
      " 42%|████▏     | 24108/57400 [58:38<1:19:17,  7.00it/s]\n",
      "Epoch 43 \t Training loss: 1.9595492889241475 \t Validation loss: 1.974771970409458 \t \n",
      "\n",
      "6 epoch without improvement\n",
      " 43%|████▎     | 24682/57400 [1:00:00<1:20:52,  6.74it/s]\n",
      "Epoch 44 \t Training loss: 1.9571239956579973 \t Validation loss: 1.9728181018667705 \t \n",
      "\n",
      "7 epoch without improvement\n",
      " 44%|████▍     | 25256/57400 [1:01:22<1:12:25,  7.40it/s]\n",
      "Epoch 45 \t Training loss: 1.957852407407262 \t Validation loss: 1.9655069718926639 \t \n",
      " 45%|████▌     | 25830/57400 [1:02:43<1:15:11,  7.00it/s]\n",
      "Epoch 46 \t Training loss: 1.9596692811736662 \t Validation loss: 1.9686739444732666 \t \n",
      "\n",
      "1 epoch without improvement\n",
      " 46%|████▌     | 26404/57400 [1:04:05<1:11:17,  7.25it/s]\n",
      "Epoch 47 \t Training loss: 1.956689788904755 \t Validation loss: 1.9657439256118516 \t \n",
      " 47%|████▋     | 26978/57400 [1:05:26<1:12:32,  6.99it/s]\n",
      "Epoch 48 \t Training loss: 1.9571320260858702 \t Validation loss: 1.9758088245230205 \t \n",
      "\n",
      "2 epoch without improvement\n",
      " 48%|████▊     | 27552/57400 [1:06:48<1:08:26,  7.27it/s]\n",
      "Epoch 49 \t Training loss: 1.9555791691205227 \t Validation loss: 1.9721573348772727 \t \n",
      "\n",
      "3 epoch without improvement\n",
      " 49%|████▉     | 28126/57400 [1:08:09<1:06:00,  7.39it/s]\n",
      "Epoch 50 \t Training loss: 1.9564121442389406 \t Validation loss: 1.9687087252988653 \t \n",
      "\n",
      "4 epoch without improvement\n",
      " 50%|█████     | 28700/57400 [1:09:30<54:16,  8.81it/s]\n",
      "Epoch 51 \t Training loss: 1.9567174890730854 \t Validation loss: 1.9667064355591597 \t \n",
      "\n",
      "5 epoch without improvement\n",
      " 51%|█████     | 29274/57400 [1:10:52<56:41,  8.27it/s]\n",
      "Epoch 52 \t Training loss: 1.9582400699941123 \t Validation loss: 1.9749227277303145 \t \n",
      "\n",
      "6 epoch without improvement\n",
      " 52%|█████▏    | 29848/57400 [1:12:13<59:15,  7.75it/s]\n",
      "Epoch 53 \t Training loss: 1.9561052156242345 \t Validation loss: 1.9678117925837888 \t \n",
      "\n",
      "7 epoch without improvement\n",
      " 53%|█████▎    | 30422/57400 [1:13:35<1:02:58,  7.14it/s]\n",
      "Epoch 54 \t Training loss: 1.9540835432059258 \t Validation loss: 1.9779779830221402 \t \n",
      "\n",
      "8 epoch without improvement\n",
      " 54%|█████▍    | 30996/57400 [1:14:56<1:01:06,  7.20it/s]\n",
      "Epoch 55 \t Training loss: 1.9546428922992134 \t Validation loss: 1.968766380164583 \t \n",
      "\n",
      "9 epoch without improvement\n",
      " 55%|█████▌    | 31570/57400 [1:16:18<1:00:33,  7.11it/s]\n",
      "Epoch 56 \t Training loss: 1.9524520178705143 \t Validation loss: 1.970009706788144 \t \n",
      "\n",
      "10 epoch without improvement\n",
      "Validation_loss hasn't improve in 10 epoch. Stopping training after 56 epochs...\n"
     ]
    },
    {
     "data": {
      "image/png": "[encoded data removed]",
      "text/plain": [
       "<Figure size 640x480 with 1 Axes>"
      ]
     },
     "metadata": {},
     "output_type": "display_data"
    }
   ],
   "source": [
    "learning_rate = 5e-5\n",
    "optimizer = SGD(model.parameters(), lr=learning_rate, momentum=0.9)\n",
    "num_epochs = 100\n",
    "train.train_function_multi(model,num_epochs,dl_train,optimizer,early_stop = 10,dl_val = dl_val,save_path=save_path)"
   ]
  },
  {
   "cell_type": "code",
   "execution_count": 14,
   "metadata": {},
   "outputs": [
    {
     "name": "stderr",
     "output_type": "stream",
     "text": [
      "Some weights of the model checkpoint at bert-base-cased were not used when initializing BertModel: ['cls.predictions.transform.dense.bias', 'cls.predictions.transform.LayerNorm.bias', 'cls.predictions.transform.LayerNorm.weight', 'cls.seq_relationship.weight', 'cls.predictions.transform.dense.weight', 'cls.seq_relationship.bias', 'cls.predictions.bias', 'cls.predictions.decoder.weight']\n",
      "- This IS expected if you are initializing BertModel from the checkpoint of a model trained on another task or with another architecture (e.g. initializing a BertForSequenceClassification model from a BertForPreTraining model).\n",
      "- This IS NOT expected if you are initializing BertModel from the checkpoint of a model that you expect to be exactly identical (initializing a BertForSequenceClassification model from a BertForSequenceClassification model).\n"
     ]
    },
    {
     "name": "stdout",
     "output_type": "stream",
     "text": [
      "Accuracy evaluando en todas las etiquetas\n",
      "{'to': 0.7058080808080808, 'as': 0.7444589308996089, 'about': 0.8507653061224489}\n",
      "Accuracy evaluando en etiquetas female\n",
      "{'to': 0.7086614173228346, 'as': 0.7654986522911051, 'about': 0.865}\n",
      "Accuracy evaluando en etiquetas male\n",
      "{'to': 0.7031630170316302, 'as': 0.7247474747474747, 'about': 0.8359375}\n"
     ]
    }
   ],
   "source": [
    "model = mt.MultiTaskSimple(model_conf).to(device)\n",
    "model.load_state_dict(torch.load(save_path))\n",
    "\n",
    "print(\"Accuracy evaluando en todas las etiquetas\")\n",
    "print(train.eval_function_multi(model,dl_eval,tasks))\n",
    "print(\"Accuracy evaluando en etiquetas female\")\n",
    "print(train.eval_function_multi(model,dl_eval,tasks,'female'))\n",
    "print(\"Accuracy evaluando en etiquetas male\")\n",
    "print(train.eval_function_multi(model,dl_eval,tasks,'male'))"
   ]
  },
  {
   "attachments": {},
   "cell_type": "markdown",
   "metadata": {},
   "source": [
    "## AdamW"
   ]
  },
  {
   "cell_type": "code",
   "execution_count": 12,
   "metadata": {},
   "outputs": [
    {
     "name": "stderr",
     "output_type": "stream",
     "text": [
      "Some weights of the model checkpoint at bert-base-cased were not used when initializing BertModel: ['cls.predictions.transform.LayerNorm.bias', 'cls.predictions.decoder.weight', 'cls.seq_relationship.weight', 'cls.seq_relationship.bias', 'cls.predictions.transform.dense.bias', 'cls.predictions.transform.dense.weight', 'cls.predictions.bias', 'cls.predictions.transform.LayerNorm.weight']\n",
      "- This IS expected if you are initializing BertModel from the checkpoint of a model trained on another task or with another architecture (e.g. initializing a BertForSequenceClassification model from a BertForPreTraining model).\n",
      "- This IS NOT expected if you are initializing BertModel from the checkpoint of a model that you expect to be exactly identical (initializing a BertForSequenceClassification model from a BertForSequenceClassification model).\n"
     ]
    }
   ],
   "source": [
    "model = mt.MultiTaskSimple(model_conf).to(device)\n",
    "save_path='m1_bert_multi_adamW'"
   ]
  },
  {
   "cell_type": "code",
   "execution_count": 16,
   "metadata": {},
   "outputs": [
    {
     "data": {
      "application/vnd.jupyter.widget-view+json": {
       "model_id": "94273ef1151345e894206cc2e149ee66",
       "version_major": 2,
       "version_minor": 0
      },
      "text/plain": [
       "  0%|          | 0/57400 [00:00<?, ?it/s]"
      ]
     },
     "metadata": {},
     "output_type": "display_data"
    },
    {
     "name": "stdout",
     "output_type": "stream",
     "text": [
      "Epoch 1 \t Training loss: 2.1080343091944784 \t Validation loss: 2.0826136217278948 \t \n",
      "  1%|          | 574/57400 [01:37<2:39:33,  5.94it/s]\n",
      "Epoch 2 \t Training loss: 2.07943141252737 \t Validation loss: 2.0881049633026123 \t \n",
      "\n",
      "1 epoch without improvement\n",
      "  2%|▏         | 1148/57400 [03:13<2:28:18,  6.32it/s]\n",
      "Epoch 3 \t Training loss: 2.0779026593065426 \t Validation loss: 2.0812389163647667 \t \n",
      "  3%|▎         | 1722/57400 [04:50<2:30:53,  6.15it/s]\n",
      "Epoch 4 \t Training loss: 2.0765600308308616 \t Validation loss: 2.0794335825968595 \t \n",
      "  4%|▍         | 2296/57400 [06:26<2:49:39,  5.41it/s]\n",
      "Epoch 5 \t Training loss: 2.076820541341961 \t Validation loss: 2.0796392408467956 \t \n",
      "  5%|▌         | 2870/57400 [08:02<2:24:49,  6.28it/s]\n",
      "Epoch 6 \t Training loss: 2.076510706014334 \t Validation loss: 2.082412012552811 \t \n",
      "\n",
      "1 epoch without improvement\n",
      "  6%|▌         | 3444/57400 [09:39<2:25:41,  6.17it/s]\n",
      "Epoch 7 \t Training loss: 2.0764200188972395 \t Validation loss: 2.0833435624332752 \t \n",
      "\n",
      "2 epoch without improvement\n",
      "  7%|▋         | 4018/57400 [11:15<2:14:06,  6.63it/s]\n",
      "Epoch 8 \t Training loss: 2.0765467662013783 \t Validation loss: 2.0818230984574657 \t \n",
      "\n",
      "3 epoch without improvement\n",
      "  8%|▊         | 4592/57400 [12:53<2:43:39,  5.38it/s]\n",
      "Epoch 9 \t Training loss: 2.0767284320206594 \t Validation loss: 2.0821451575069103 \t \n",
      "\n",
      "4 epoch without improvement\n",
      "  9%|▉         | 5166/57400 [14:32<2:22:19,  6.12it/s]\n",
      "Epoch 10 \t Training loss: 2.0764267012632684 \t Validation loss: 2.0808943570670433 \t \n",
      "\n",
      "5 epoch without improvement\n",
      " 10%|█         | 5740/57400 [16:12<2:17:16,  6.27it/s]\n",
      "Epoch 11 \t Training loss: 2.0765762860766688 \t Validation loss: 2.080041731818248 \t \n",
      " 11%|█         | 6314/57400 [17:51<2:17:26,  6.20it/s]\n",
      "Epoch 12 \t Training loss: 2.076399922786274 \t Validation loss: 2.080571320097325 \t \n",
      "\n",
      "6 epoch without improvement\n",
      " 12%|█▏        | 6888/57400 [19:30<2:27:49,  5.69it/s]\n",
      "Epoch 13 \t Training loss: 2.0766035991263307 \t Validation loss: 2.0804087994462352 \t \n",
      " 13%|█▎        | 7462/57400 [21:08<2:07:56,  6.51it/s]\n",
      "Epoch 14 \t Training loss: 2.07622359521713 \t Validation loss: 2.080212568832656 \t \n",
      " 14%|█▍        | 8036/57400 [22:46<2:17:00,  6.00it/s]\n",
      "Epoch 15 \t Training loss: 2.076525905821797 \t Validation loss: 2.0796629978438554 \t \n",
      " 15%|█▌        | 8610/57400 [24:25<2:08:52,  6.31it/s]\n",
      "Epoch 16 \t Training loss: 2.0759285376877736 \t Validation loss: 2.081445770748591 \t \n",
      "\n",
      "7 epoch without improvement\n",
      " 16%|█▌        | 9184/57400 [26:03<2:00:22,  6.68it/s]\n",
      "Epoch 17 \t Training loss: 2.076412509127361 \t Validation loss: 2.0843853182711842 \t \n",
      "\n",
      "8 epoch without improvement\n",
      " 17%|█▋        | 9758/57400 [27:42<2:14:38,  5.90it/s]\n",
      "Epoch 18 \t Training loss: 2.076456246475725 \t Validation loss: 2.082216141587597 \t \n",
      "\n",
      "9 epoch without improvement\n",
      " 18%|█▊        | 10332/57400 [29:19<2:21:44,  5.53it/s]\n",
      "Epoch 19 \t Training loss: 2.076234842011322 \t Validation loss: 2.0819785312070684 \t \n",
      "\n",
      "10 epoch without improvement\n",
      "Validation_loss hasn't improve in 10 epoch. Stopping training after 19 epochs...\n"
     ]
    },
    {
     "data": {
      "image/png": "[encoded data removed]",
      "text/plain": [
       "<Figure size 640x480 with 1 Axes>"
      ]
     },
     "metadata": {},
     "output_type": "display_data"
    }
   ],
   "source": [
    "learning_rate = 0.001\n",
    "optimizer = AdamW(model.parameters(), lr=learning_rate)\n",
    "num_epochs = 100\n",
    "train.train_function_multi(model,num_epochs,dl_train,optimizer,early_stop = 10,dl_val = dl_val,save_path=save_path)"
   ]
  },
  {
   "cell_type": "code",
   "execution_count": 13,
   "metadata": {},
   "outputs": [
    {
     "name": "stderr",
     "output_type": "stream",
     "text": [
      "Some weights of the model checkpoint at bert-base-cased were not used when initializing BertModel: ['cls.predictions.transform.LayerNorm.bias', 'cls.predictions.decoder.weight', 'cls.seq_relationship.weight', 'cls.seq_relationship.bias', 'cls.predictions.transform.dense.bias', 'cls.predictions.transform.dense.weight', 'cls.predictions.bias', 'cls.predictions.transform.LayerNorm.weight']\n",
      "- This IS expected if you are initializing BertModel from the checkpoint of a model trained on another task or with another architecture (e.g. initializing a BertForSequenceClassification model from a BertForPreTraining model).\n",
      "- This IS NOT expected if you are initializing BertModel from the checkpoint of a model that you expect to be exactly identical (initializing a BertForSequenceClassification model from a BertForSequenceClassification model).\n"
     ]
    },
    {
     "name": "stdout",
     "output_type": "stream",
     "text": [
      "Accuracy evaluando en todas las etiquetas\n",
      "{'to': 0.5189393939393939, 'as': 0.516297262059974, 'about': 0.4897959183673469}\n",
      "Accuracy evaluando en etiquetas female\n",
      "{'to': 0.0, 'as': 0.0, 'about': 0.0}\n",
      "Accuracy evaluando en etiquetas male\n",
      "{'to': 1.0, 'as': 1.0, 'about': 1.0}\n"
     ]
    }
   ],
   "source": [
    "model = mt.MultiTaskSimple(model_conf).to(device)\n",
    "model.load_state_dict(torch.load(save_path))\n",
    "\n",
    "print(\"Accuracy evaluando en todas las etiquetas\")\n",
    "print(train.eval_function_multi(model,dl_eval,tasks))\n",
    "print(\"Accuracy evaluando en etiquetas female\")\n",
    "print(train.eval_function_multi(model,dl_eval,tasks,'female'))\n",
    "print(\"Accuracy evaluando en etiquetas male\")\n",
    "print(train.eval_function_multi(model,dl_eval,tasks,'male'))"
   ]
  }
 ],
 "metadata": {
  "kernelspec": {
   "display_name": "tfg",
   "language": "python",
   "name": "python3"
  },
  "language_info": {
   "codemirror_mode": {
    "name": "ipython",
    "version": 3
   },
   "file_extension": ".py",
   "mimetype": "text/x-python",
   "name": "python",
   "nbconvert_exporter": "python",
   "pygments_lexer": "ipython3",
   "version": "3.9.13"
  },
  "orig_nbformat": 4,
  "vscode": {
   "interpreter": {
    "hash": "b2012626cca2d66e84dc87dc317222963c31dcd31e180f1257b027de73883164"
   }
  }
 },
 "nbformat": 4,
 "nbformat_minor": 2
}
