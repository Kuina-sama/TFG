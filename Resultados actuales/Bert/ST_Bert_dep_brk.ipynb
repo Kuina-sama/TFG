{
 "cells": [
  {
   "cell_type": "code",
   "execution_count": 1,
   "metadata": {},
   "outputs": [],
   "source": [
    "import torch\n",
    "from torch.utils.data import DataLoader\n",
    "from torch.optim import AdamW, SGD \n",
    "\n",
    "\n",
    "\n",
    "\n",
    "import json\n",
    "\n"
   ]
  },
  {
   "cell_type": "code",
   "execution_count": 2,
   "metadata": {},
   "outputs": [],
   "source": [
    "import utils_generic as generic\n",
    "import singletask_dep as st\n",
    "import model_confs as confs\n",
    "\n",
    "\n",
    "import train_dep as train"
   ]
  },
  {
   "cell_type": "code",
   "execution_count": 3,
   "metadata": {},
   "outputs": [
    {
     "data": {
      "text/plain": [
       "<torch._C.Generator at 0x1ca61f7d850>"
      ]
     },
     "execution_count": 3,
     "metadata": {},
     "output_type": "execute_result"
    }
   ],
   "source": [
    "device = torch.device(\"cuda\") if torch.cuda.is_available() else torch.device(\"cpu\")\n",
    "torch.manual_seed(27)"
   ]
  },
  {
   "cell_type": "code",
   "execution_count": 4,
   "metadata": {},
   "outputs": [],
   "source": [
    "model_conf = confs.bert_conf\n",
    "encoding_type = 'brk'"
   ]
  },
  {
   "attachments": {},
   "cell_type": "markdown",
   "metadata": {},
   "source": [
    "# Datos ConvAI2"
   ]
  },
  {
   "cell_type": "code",
   "execution_count": 5,
   "metadata": {},
   "outputs": [],
   "source": [
    "with open('Datasets\\ConvAI2\\convai2_complete.json','r') as f:\n",
    "    data = json.load(f)"
   ]
  },
  {
   "cell_type": "code",
   "execution_count": 6,
   "metadata": {},
   "outputs": [],
   "source": [
    "vocab = st.Vocabulary(data['train'],encoding_type)"
   ]
  },
  {
   "cell_type": "code",
   "execution_count": 7,
   "metadata": {},
   "outputs": [],
   "source": [
    "convai_train = data['train']\n",
    "convai_val = data['validation']\n",
    "\n",
    "\n",
    "\n",
    "convai_train_token = generic.tokenize_dataset_with_dependencies(convai_train,['about','to','as'],vocab,model_conf) \n",
    "convai_val_token = generic.tokenize_dataset_with_dependencies(convai_val,['about','to','as'],vocab,model_conf) "
   ]
  },
  {
   "cell_type": "code",
   "execution_count": 8,
   "metadata": {},
   "outputs": [],
   "source": [
    "convai_train_dataset = {}\n",
    "for task in ['to','as','about']:\n",
    "    convai_train_dataset[task] = st.DatasetSingleTaskDep(convai_train_token,task,eval=False)"
   ]
  },
  {
   "cell_type": "code",
   "execution_count": 9,
   "metadata": {},
   "outputs": [],
   "source": [
    "convai_val_dataset = {}\n",
    "for task in ['to','as','about']:\n",
    "    convai_val_dataset[task] = st.DatasetSingleTaskDep(convai_val_token,task,eval=False)"
   ]
  },
  {
   "attachments": {},
   "cell_type": "markdown",
   "metadata": {},
   "source": [
    "# Datos md_gender"
   ]
  },
  {
   "cell_type": "code",
   "execution_count": 10,
   "metadata": {},
   "outputs": [],
   "source": [
    "with open('Datasets\\md_gender\\md_complete.json','r',encoding=\"utf8\") as f:\n",
    "    md_data = json.load(f)"
   ]
  },
  {
   "cell_type": "code",
   "execution_count": 11,
   "metadata": {},
   "outputs": [],
   "source": [
    "md_tokenized = generic.tokenize_dataset_with_dependencies(md_data,['about','to','as'],vocab,model_conf) \n",
    "\n",
    "\n",
    "md_dataset = {}\n",
    "for task in ['to','as','about']:\n",
    "    md_dataset[task] = st.DatasetSingleTaskDep(md_tokenized,task,eval=True)"
   ]
  },
  {
   "attachments": {},
   "cell_type": "markdown",
   "metadata": {},
   "source": [
    "# Creación dataloaders"
   ]
  },
  {
   "cell_type": "code",
   "execution_count": 12,
   "metadata": {},
   "outputs": [],
   "source": [
    "dl_train = {}\n",
    "for task in ['to','as','about']:\n",
    "    dl_train[task] = DataLoader(convai_train_dataset[task],batch_size=128,shuffle=True,collate_fn=st.collate_fn)"
   ]
  },
  {
   "cell_type": "code",
   "execution_count": 13,
   "metadata": {},
   "outputs": [],
   "source": [
    "dl_val = {}\n",
    "for task in ['to','as','about']:\n",
    "    dl_val[task] = DataLoader(convai_val_dataset[task],batch_size=128,shuffle=True,collate_fn=st.collate_fn)"
   ]
  },
  {
   "cell_type": "code",
   "execution_count": 14,
   "metadata": {},
   "outputs": [],
   "source": [
    "dl_eval = {}\n",
    "for task in ['to','as','about']:\n",
    "    dl_eval[task] = DataLoader(md_dataset[task],batch_size=128,shuffle=False,collate_fn=st.collate_fn)"
   ]
  },
  {
   "attachments": {},
   "cell_type": "markdown",
   "metadata": {},
   "source": [
    "# ABOUT"
   ]
  },
  {
   "cell_type": "code",
   "execution_count": 15,
   "metadata": {},
   "outputs": [
    {
     "name": "stderr",
     "output_type": "stream",
     "text": [
      "Some weights of the model checkpoint at bert-base-cased were not used when initializing BertModel: ['cls.predictions.transform.LayerNorm.weight', 'cls.seq_relationship.bias', 'cls.seq_relationship.weight', 'cls.predictions.transform.dense.bias', 'cls.predictions.transform.LayerNorm.bias', 'cls.predictions.transform.dense.weight', 'cls.predictions.decoder.weight', 'cls.predictions.bias']\n",
      "- This IS expected if you are initializing BertModel from the checkpoint of a model trained on another task or with another architecture (e.g. initializing a BertForSequenceClassification model from a BertForPreTraining model).\n",
      "- This IS NOT expected if you are initializing BertModel from the checkpoint of a model that you expect to be exactly identical (initializing a BertForSequenceClassification model from a BertForSequenceClassification model).\n"
     ]
    }
   ],
   "source": [
    "model = st.SingleTaskDep(model_conf,vocab).to(device)\n",
    "save_path='m1_dep_bert_about_brk'"
   ]
  },
  {
   "cell_type": "code",
   "execution_count": 16,
   "metadata": {},
   "outputs": [
    {
     "name": "stdout",
     "output_type": "stream",
     "text": [
      "Using scikit learn accuracy por género en el conjunto about\n",
      "GLOBAL: 0.49362244897959184\n",
      "MALE 0.9921875\n",
      "FEMALE 0.015 \n",
      "\n",
      "Using scikit learn accuracy por género en el conjunto to\n",
      "GLOBAL: 0.5151515151515151\n",
      "MALE 0.9854014598540146\n",
      "FEMALE 0.007874015748031496 \n",
      "\n",
      "Using scikit learn accuracy por género en el conjunto as\n",
      "GLOBAL: 0.5267275097783573\n",
      "MALE 0.9974747474747475\n",
      "FEMALE 0.02425876010781671 \n",
      "\n"
     ]
    }
   ],
   "source": [
    "for task in ['about','to','as']:\n",
    "    print(f\"Using scikit learn accuracy por género en el conjunto {task}\")\n",
    "    print(f\"GLOBAL: {train.eval_function_single_sk(model,dl_eval[task])}\")\n",
    "    print(f\"MALE {train.eval_function_single_sk(model,dl_eval[task],gender='male')}\")\n",
    "    print(f\"FEMALE {train.eval_function_single_sk(model,dl_eval[task],gender='female')}\",'\\n')"
   ]
  },
  {
   "cell_type": "code",
   "execution_count": 17,
   "metadata": {},
   "outputs": [
    {
     "data": {
      "application/vnd.jupyter.widget-view+json": {
       "model_id": "e739b90d60084e088d7f2821cf51e46e",
       "version_major": 2,
       "version_minor": 0
      },
      "text/plain": [
       "  0%|          | 0/57400 [00:00<?, ?it/s]"
      ]
     },
     "metadata": {},
     "output_type": "display_data"
    },
    {
     "name": "stdout",
     "output_type": "stream",
     "text": [
      "Epoch 1 \t Training loss: 0.6813032668642051 \t Validation loss: 0.6784954919653424 \t \n",
      "  1%|          | 574/57400 [01:30<2:14:54,  7.02it/s]\n",
      "Epoch 2 \t Training loss: 0.6716555547008116 \t Validation loss: 0.6649419099597608 \t \n",
      "  2%|▏         | 1148/57400 [02:55<2:06:16,  7.42it/s]\n",
      "Epoch 3 \t Training loss: 0.6498463431094166 \t Validation loss: 0.6258309089531333 \t \n",
      "  3%|▎         | 1722/57400 [04:21<2:12:54,  6.98it/s]\n",
      "Epoch 4 \t Training loss: 0.5834268691336236 \t Validation loss: 0.526428418644404 \t \n",
      "  4%|▍         | 2296/57400 [05:47<2:00:36,  7.61it/s]\n",
      "Epoch 5 \t Training loss: 0.4892965083753606 \t Validation loss: 0.44445458862741116 \t \n",
      "  5%|▌         | 2870/57400 [07:13<2:14:14,  6.77it/s]\n",
      "Epoch 6 \t Training loss: 0.4318097951312514 \t Validation loss: 0.4031022706274259 \t \n",
      "  6%|▌         | 3444/57400 [08:39<1:48:46,  8.27it/s]\n",
      "Epoch 7 \t Training loss: 0.40248912069232623 \t Validation loss: 0.3796283572407092 \t \n",
      "  7%|▋         | 4018/57400 [10:05<1:53:52,  7.81it/s]\n",
      "Epoch 8 \t Training loss: 0.38420435718750706 \t Validation loss: 0.3669855306714268 \t \n",
      "  8%|▊         | 4592/57400 [11:31<1:48:17,  8.13it/s]\n",
      "Epoch 9 \t Training loss: 0.37275287363587356 \t Validation loss: 0.3566269945290129 \t \n",
      "  9%|▉         | 5166/57400 [12:58<2:03:02,  7.08it/s]\n",
      "Epoch 10 \t Training loss: 0.363767629041489 \t Validation loss: 0.3511517406520197 \t \n",
      " 10%|█         | 5740/57400 [14:24<2:04:07,  6.94it/s]\n",
      "Epoch 11 \t Training loss: 0.35519986706120626 \t Validation loss: 0.34328599072108834 \t \n",
      " 11%|█         | 6314/57400 [15:48<1:41:59,  8.35it/s]\n",
      "Epoch 12 \t Training loss: 0.34943445945866014 \t Validation loss: 0.3380898206920947 \t \n",
      " 12%|█▏        | 6888/57400 [17:12<1:56:19,  7.24it/s]\n",
      "Epoch 13 \t Training loss: 0.3435480122678371 \t Validation loss: 0.33527644534232254 \t \n",
      " 13%|█▎        | 7462/57400 [18:36<1:53:22,  7.34it/s]\n",
      "Epoch 14 \t Training loss: 0.3368460343118744 \t Validation loss: 0.33122118221501173 \t \n",
      " 14%|█▍        | 8036/57400 [20:00<2:03:39,  6.65it/s]\n",
      "Epoch 15 \t Training loss: 0.3316711759266122 \t Validation loss: 0.3277988451517234 \t \n",
      " 15%|█▌        | 8610/57400 [21:24<1:54:24,  7.11it/s]\n",
      "Epoch 16 \t Training loss: 0.3275126618063824 \t Validation loss: 0.3251372810642598 \t \n",
      " 16%|█▌        | 9184/57400 [22:48<2:06:15,  6.36it/s]\n",
      "Epoch 17 \t Training loss: 0.3233752931348123 \t Validation loss: 0.3215596842563758 \t \n",
      " 17%|█▋        | 9758/57400 [24:13<1:49:55,  7.22it/s]\n",
      "Epoch 18 \t Training loss: 0.3192852956700408 \t Validation loss: 0.3202470134375459 \t \n",
      " 18%|█▊        | 10332/57400 [25:37<1:45:13,  7.46it/s]\n",
      "Epoch 19 \t Training loss: 0.3156346223391722 \t Validation loss: 0.31815160053261254 \t \n",
      " 19%|█▉        | 10906/57400 [27:02<1:31:47,  8.44it/s]\n",
      "Epoch 20 \t Training loss: 0.3111746236162734 \t Validation loss: 0.3155852924969237 \t \n",
      " 20%|██        | 11480/57400 [28:26<1:49:37,  6.98it/s]\n",
      "Epoch 21 \t Training loss: 0.3095919920280835 \t Validation loss: 0.31485666789240757 \t \n",
      " 21%|██        | 12054/57400 [29:50<1:51:11,  6.80it/s]\n",
      "Epoch 22 \t Training loss: 0.307927113454724 \t Validation loss: 0.3127721467260587 \t \n",
      " 22%|██▏       | 12628/57400 [31:15<1:45:10,  7.09it/s]\n",
      "Epoch 23 \t Training loss: 0.30306936257911476 \t Validation loss: 0.3110906128155983 \t \n",
      " 23%|██▎       | 13202/57400 [32:38<1:44:35,  7.04it/s]\n",
      "Epoch 24 \t Training loss: 0.3011189261224212 \t Validation loss: 0.31236129898135945 \t \n",
      "\n",
      "1 epoch without improvement\n",
      " 24%|██▍       | 13776/57400 [34:02<1:37:46,  7.44it/s]\n",
      "Epoch 25 \t Training loss: 0.29771017509055053 \t Validation loss: 0.3100453850071309 \t \n",
      " 25%|██▌       | 14350/57400 [35:26<1:45:29,  6.80it/s]\n",
      "Epoch 26 \t Training loss: 0.2963101401769326 \t Validation loss: 0.3096886860617137 \t \n",
      " 26%|██▌       | 14924/57400 [36:51<1:48:38,  6.52it/s]\n",
      "Epoch 27 \t Training loss: 0.294271080102447 \t Validation loss: 0.307420309064752 \t \n",
      " 27%|██▋       | 15498/57400 [38:15<1:44:25,  6.69it/s]\n",
      "Epoch 28 \t Training loss: 0.2912389948600676 \t Validation loss: 0.30551470790879204 \t \n",
      " 28%|██▊       | 16072/57400 [39:39<1:34:14,  7.31it/s]\n",
      "Epoch 29 \t Training loss: 0.2874862650078348 \t Validation loss: 0.305585802106534 \t \n",
      " 29%|██▉       | 16646/57400 [41:03<1:19:41,  8.52it/s]\n",
      "Epoch 30 \t Training loss: 0.28523836043445905 \t Validation loss: 0.3043326836521343 \t \n",
      " 30%|███       | 17220/57400 [42:28<1:38:45,  6.78it/s]\n",
      "Epoch 31 \t Training loss: 0.2845213377153832 \t Validation loss: 0.3030677248360747 \t \n",
      " 31%|███       | 17794/57400 [43:52<1:31:40,  7.20it/s]\n",
      "Epoch 32 \t Training loss: 0.2813306141398094 \t Validation loss: 0.30532329037027844 \t \n",
      "\n",
      "1 epoch without improvement\n",
      " 32%|███▏      | 18368/57400 [45:16<1:30:37,  7.18it/s]\n",
      "Epoch 33 \t Training loss: 0.28010578430176614 \t Validation loss: 0.30279417007656423 \t \n",
      " 33%|███▎      | 18942/57400 [46:40<1:31:17,  7.02it/s]\n",
      "Epoch 34 \t Training loss: 0.27758251857466815 \t Validation loss: 0.3028527078992229 \t \n",
      " 34%|███▍      | 19516/57400 [48:04<1:47:59,  5.85it/s]\n",
      "Epoch 35 \t Training loss: 0.2752720481790732 \t Validation loss: 0.30160109774541044 \t \n",
      " 35%|███▌      | 20090/57400 [49:29<1:27:13,  7.13it/s]\n",
      "Epoch 36 \t Training loss: 0.2745142408520087 \t Validation loss: 0.301869333800623 \t \n",
      " 36%|███▌      | 20664/57400 [50:52<1:46:48,  5.73it/s]\n",
      "Epoch 37 \t Training loss: 0.27125507268652266 \t Validation loss: 0.30057046246730673 \t \n",
      " 37%|███▋      | 21238/57400 [52:17<1:25:35,  7.04it/s]\n",
      "Epoch 38 \t Training loss: 0.2713868730419189 \t Validation loss: 0.30254305722349784 \t \n",
      "\n",
      "1 epoch without improvement\n",
      " 38%|███▊      | 21812/57400 [53:40<1:24:31,  7.02it/s]\n",
      "Epoch 39 \t Training loss: 0.2702984154639759 \t Validation loss: 0.2980085719945067 \t \n",
      " 39%|███▉      | 22386/57400 [55:05<1:19:48,  7.31it/s]\n",
      "Epoch 40 \t Training loss: 0.26945941352678093 \t Validation loss: 0.2995502158241757 \t \n",
      "\n",
      "1 epoch without improvement\n",
      " 40%|████      | 22960/57400 [56:28<1:24:07,  6.82it/s]\n",
      "Epoch 41 \t Training loss: 0.26480852070066574 \t Validation loss: 0.2992204516115835 \t \n",
      "\n",
      "2 epoch without improvement\n",
      " 41%|████      | 23534/57400 [57:52<1:26:06,  6.56it/s]\n",
      "Epoch 42 \t Training loss: 0.2647080897038822 \t Validation loss: 0.29791338261911426 \t \n",
      " 42%|████▏     | 24108/57400 [59:16<1:22:14,  6.75it/s]\n",
      "Epoch 43 \t Training loss: 0.2603181067607544 \t Validation loss: 0.2995686856871944 \t \n",
      "\n",
      "1 epoch without improvement\n",
      " 43%|████▎     | 24682/57400 [1:00:40<1:15:49,  7.19it/s]\n",
      "Epoch 44 \t Training loss: 0.2605717542487154 \t Validation loss: 0.2996687846163572 \t \n",
      "\n",
      "2 epoch without improvement\n",
      " 44%|████▍     | 25256/57400 [1:02:04<1:18:42,  6.81it/s]\n",
      "Epoch 45 \t Training loss: 0.2601026545314423 \t Validation loss: 0.2975182644391464 \t \n",
      " 45%|████▌     | 25830/57400 [1:03:28<1:14:37,  7.05it/s]\n",
      "Epoch 46 \t Training loss: 0.2589588221357259 \t Validation loss: 0.29610144990985676 \t \n",
      " 46%|████▌     | 26404/57400 [1:04:53<1:12:21,  7.14it/s]\n",
      "Epoch 47 \t Training loss: 0.2595851416423761 \t Validation loss: 0.297350964303744 \t \n",
      "\n",
      "1 epoch without improvement\n",
      " 47%|████▋     | 26978/57400 [1:06:16<1:11:25,  7.10it/s]\n",
      "Epoch 48 \t Training loss: 0.25676030657848 \t Validation loss: 0.29768678217621175 \t \n",
      "\n",
      "2 epoch without improvement\n",
      " 48%|████▊     | 27552/57400 [1:07:40<1:19:43,  6.24it/s]\n",
      "Epoch 49 \t Training loss: 0.2559504375277081 \t Validation loss: 0.301051989197731 \t \n",
      "\n",
      "3 epoch without improvement\n",
      " 49%|████▉     | 28126/57400 [1:09:04<1:05:07,  7.49it/s]\n",
      "Epoch 50 \t Training loss: 0.25445721725501663 \t Validation loss: 0.2961145692457587 \t \n",
      " 50%|█████     | 28700/57400 [1:10:29<1:19:50,  5.99it/s]\n",
      "Epoch 51 \t Training loss: 0.2530264823538501 \t Validation loss: 0.2981819212436676 \t \n",
      "\n",
      "4 epoch without improvement\n",
      " 51%|█████     | 29274/57400 [1:11:53<1:06:52,  7.01it/s]\n",
      "Epoch 52 \t Training loss: 0.2535262709347213 \t Validation loss: 0.29640267940901094 \t \n",
      " 52%|█████▏    | 29848/57400 [1:13:17<1:08:48,  6.67it/s]\n",
      "Epoch 53 \t Training loss: 0.2504965709684618 \t Validation loss: 0.29560829825320484 \t \n",
      " 53%|█████▎    | 30422/57400 [1:14:41<1:06:12,  6.79it/s]\n",
      "Epoch 54 \t Training loss: 0.2503026170909197 \t Validation loss: 0.2966614969201007 \t \n",
      "\n",
      "1 epoch without improvement\n",
      " 54%|█████▍    | 30996/57400 [1:16:05<1:03:03,  6.98it/s]\n",
      "Epoch 55 \t Training loss: 0.24900089424973165 \t Validation loss: 0.2953394035161552 \t \n",
      " 55%|█████▌    | 31570/57400 [1:17:29<1:02:42,  6.87it/s]\n",
      "Epoch 56 \t Training loss: 0.24666436699313155 \t Validation loss: 0.2950280073840739 \t \n",
      " 56%|█████▌    | 32144/57400 [1:18:53<59:12,  7.11it/s]\n",
      "Epoch 57 \t Training loss: 0.24509309447704708 \t Validation loss: 0.29558235659437665 \t \n",
      " 57%|█████▋    | 32718/57400 [1:20:17<56:47,  7.24it/s]\n",
      "Epoch 58 \t Training loss: 0.24501816882956318 \t Validation loss: 0.29553687749272683 \t \n",
      " 58%|█████▊    | 33292/57400 [1:21:41<54:23,  7.39it/s]\n",
      "Epoch 59 \t Training loss: 0.2455889724117123 \t Validation loss: 0.29624272276789454 \t \n",
      "\n",
      "1 epoch without improvement\n",
      " 59%|█████▉    | 33866/57400 [1:23:05<53:43,  7.30it/s]\n",
      "Epoch 60 \t Training loss: 0.24492415006983156 \t Validation loss: 0.2963315253540621 \t \n",
      "\n",
      "2 epoch without improvement\n",
      " 60%|██████    | 34440/57400 [1:24:28<56:33,  6.76it/s]\n",
      "Epoch 61 \t Training loss: 0.2419674364454032 \t Validation loss: 0.29669398170406536 \t \n",
      "\n",
      "3 epoch without improvement\n",
      " 61%|██████    | 35014/57400 [1:25:52<51:35,  7.23it/s]\n",
      "Epoch 62 \t Training loss: 0.24322645342827673 \t Validation loss: 0.2947479034379377 \t \n",
      " 62%|██████▏   | 35588/57400 [1:27:16<52:20,  6.95it/s]\n",
      "Epoch 63 \t Training loss: 0.24100268806106953 \t Validation loss: 0.29566677243022593 \t \n",
      " 63%|██████▎   | 36162/57400 [1:28:40<50:09,  7.06it/s]\n",
      "Epoch 64 \t Training loss: 0.2404676706169956 \t Validation loss: 0.29559568909265227 \t \n",
      " 64%|██████▍   | 36736/57400 [1:30:04<49:01,  7.03it/s]\n",
      "Epoch 65 \t Training loss: 0.24023194219073352 \t Validation loss: 0.29599513972209673 \t \n",
      "\n",
      "1 epoch without improvement\n",
      " 65%|██████▌   | 37310/57400 [1:31:28<43:14,  7.74it/s]\n",
      "Epoch 66 \t Training loss: 0.23985856026411057 \t Validation loss: 0.29499250094769364 \t \n",
      " 66%|██████▌   | 37884/57400 [1:32:51<46:23,  7.01it/s]\n",
      "Epoch 67 \t Training loss: 0.23810810625605053 \t Validation loss: 0.2947405447899285 \t \n",
      " 67%|██████▋   | 38458/57400 [1:34:15<43:42,  7.22it/s]\n",
      "Epoch 68 \t Training loss: 0.23815137242658213 \t Validation loss: 0.2940762684506885 \t \n",
      " 68%|██████▊   | 39032/57400 [1:35:40<42:13,  7.25it/s]\n",
      "Epoch 69 \t Training loss: 0.23793427342425655 \t Validation loss: 0.2953586088398756 \t \n",
      "\n",
      "1 epoch without improvement\n",
      " 69%|██████▉   | 39606/57400 [1:37:03<36:10,  8.20it/s]\n",
      "Epoch 70 \t Training loss: 0.23591106400568726 \t Validation loss: 0.2937166546866045 \t \n",
      " 70%|███████   | 40180/57400 [1:38:27<42:51,  6.70it/s]\n",
      "Epoch 71 \t Training loss: 0.23660657931287946 \t Validation loss: 0.29424697261745647 \t \n",
      " 71%|███████   | 40754/57400 [1:39:51<38:15,  7.25it/s]\n",
      "Epoch 72 \t Training loss: 0.2354891812655984 \t Validation loss: 0.2943598862926839 \t \n",
      " 72%|███████▏  | 41328/57400 [1:41:14<38:23,  6.98it/s]\n",
      "Epoch 73 \t Training loss: 0.234832607521205 \t Validation loss: 0.2941984549417334 \t \n",
      " 73%|███████▎  | 41902/57400 [1:42:38<31:57,  8.08it/s]\n",
      "Epoch 74 \t Training loss: 0.23264970604447122 \t Validation loss: 0.29825150764594643 \t \n",
      "\n",
      "1 epoch without improvement\n",
      " 74%|███████▍  | 42476/57400 [1:44:02<34:46,  7.15it/s]\n",
      "Epoch 75 \t Training loss: 0.23283738036760054 \t Validation loss: 0.294565013909744 \t \n",
      " 75%|███████▌  | 43050/57400 [1:45:26<33:00,  7.25it/s]\n",
      "Epoch 76 \t Training loss: 0.23230897941551973 \t Validation loss: 0.2959440933950877 \t \n",
      "\n",
      "2 epoch without improvement\n",
      " 76%|███████▌  | 43624/57400 [1:46:50<32:59,  6.96it/s]\n",
      "Epoch 77 \t Training loss: 0.2340967685944735 \t Validation loss: 0.29477426839076865 \t \n",
      "\n",
      "3 epoch without improvement\n",
      " 77%|███████▋  | 44198/57400 [1:48:13<31:02,  7.09it/s]\n",
      "Epoch 78 \t Training loss: 0.23226931600309 \t Validation loss: 0.2958685748152814 \t \n",
      "\n",
      "4 epoch without improvement\n",
      " 78%|███████▊  | 44772/57400 [1:49:37<30:53,  6.81it/s]\n",
      "Epoch 79 \t Training loss: 0.2321575289715458 \t Validation loss: 0.2944309986748938 \t \n",
      " 79%|███████▉  | 45346/57400 [1:51:01<28:58,  6.93it/s]\n",
      "Epoch 80 \t Training loss: 0.23197075561052416 \t Validation loss: 0.29598412574347804 \t \n",
      "\n",
      "5 epoch without improvement\n",
      " 80%|████████  | 45920/57400 [1:52:24<27:47,  6.89it/s]\n",
      "Epoch 81 \t Training loss: 0.23079853323174687 \t Validation loss: 0.2948982235738787 \t \n",
      "\n",
      "6 epoch without improvement\n",
      " 81%|████████  | 46494/57400 [1:53:48<25:39,  7.09it/s]\n",
      "Epoch 82 \t Training loss: 0.2302679163030631 \t Validation loss: 0.2952837666212502 \t \n",
      "\n",
      "7 epoch without improvement\n",
      " 82%|████████▏ | 47068/57400 [1:55:12<24:11,  7.12it/s]\n",
      "Epoch 83 \t Training loss: 0.23081372811974965 \t Validation loss: 0.29573395721993206 \t \n",
      "\n",
      "8 epoch without improvement\n",
      " 83%|████████▎ | 47642/57400 [1:56:36<23:27,  6.93it/s]\n",
      "Epoch 84 \t Training loss: 0.22995570940630777 \t Validation loss: 0.2953642091508639 \t \n",
      "\n",
      "9 epoch without improvement\n",
      " 84%|████████▍ | 48216/57400 [1:57:59<22:37,  6.76it/s]\n",
      "Epoch 85 \t Training loss: 0.22618124016174457 \t Validation loss: 0.2969020248974784 \t \n",
      "\n",
      "10 epoch without improvement\n",
      "Validation_loss hasn't improve in 10 epoch. Stopping training after 85 epochs...\n"
     ]
    },
    {
     "data": {
      "image/png": "[encoded data removed]",
      "text/plain": [
       "<Figure size 640x480 with 1 Axes>"
      ]
     },
     "metadata": {},
     "output_type": "display_data"
    }
   ],
   "source": [
    "learning_rate = 5e-5\n",
    "optimizer = SGD(model.parameters(), lr=learning_rate, momentum=0.9)\n",
    "num_epochs = 100\n",
    "\n",
    "train.train_function(model,num_epochs,dl_train['about'],optimizer,early_stop=10,dl_val=dl_val['about'],save_path=save_path)"
   ]
  },
  {
   "cell_type": "code",
   "execution_count": 18,
   "metadata": {},
   "outputs": [
    {
     "name": "stderr",
     "output_type": "stream",
     "text": [
      "Some weights of the model checkpoint at bert-base-cased were not used when initializing BertModel: ['cls.predictions.transform.LayerNorm.weight', 'cls.seq_relationship.bias', 'cls.seq_relationship.weight', 'cls.predictions.transform.dense.bias', 'cls.predictions.transform.LayerNorm.bias', 'cls.predictions.transform.dense.weight', 'cls.predictions.decoder.weight', 'cls.predictions.bias']\n",
      "- This IS expected if you are initializing BertModel from the checkpoint of a model trained on another task or with another architecture (e.g. initializing a BertForSequenceClassification model from a BertForPreTraining model).\n",
      "- This IS NOT expected if you are initializing BertModel from the checkpoint of a model that you expect to be exactly identical (initializing a BertForSequenceClassification model from a BertForSequenceClassification model).\n"
     ]
    },
    {
     "name": "stdout",
     "output_type": "stream",
     "text": [
      "Using scikit learn accuracy por género en el conjunto about\n",
      "GLOBAL: 0.8558673469387755\n",
      "MALE 0.8671875\n",
      "FEMALE 0.845 \n",
      "\n",
      "Using scikit learn accuracy por género en el conjunto to\n",
      "GLOBAL: 0.6818181818181818\n",
      "MALE 0.6885644768856448\n",
      "FEMALE 0.6745406824146981 \n",
      "\n",
      "Using scikit learn accuracy por género en el conjunto as\n",
      "GLOBAL: 0.681877444589309\n",
      "MALE 0.696969696969697\n",
      "FEMALE 0.6657681940700808 \n",
      "\n"
     ]
    }
   ],
   "source": [
    "model = st.SingleTaskDep(model_conf,vocab).to(device)\n",
    "model.load_state_dict(torch.load(save_path))\n",
    "for task in ['about','to','as']:\n",
    "    print(f\"Using scikit learn accuracy por género en el conjunto {task}\")\n",
    "    print(f\"GLOBAL: {train.eval_function_single_sk(model,dl_eval[task])}\")\n",
    "    print(f\"MALE {train.eval_function_single_sk(model,dl_eval[task],gender='male')}\")\n",
    "    print(f\"FEMALE {train.eval_function_single_sk(model,dl_eval[task],gender='female')}\",'\\n')"
   ]
  },
  {
   "attachments": {},
   "cell_type": "markdown",
   "metadata": {},
   "source": [
    "# TO"
   ]
  },
  {
   "cell_type": "code",
   "execution_count": 19,
   "metadata": {},
   "outputs": [
    {
     "name": "stderr",
     "output_type": "stream",
     "text": [
      "Some weights of the model checkpoint at bert-base-cased were not used when initializing BertModel: ['cls.predictions.transform.LayerNorm.weight', 'cls.seq_relationship.bias', 'cls.seq_relationship.weight', 'cls.predictions.transform.dense.bias', 'cls.predictions.transform.LayerNorm.bias', 'cls.predictions.transform.dense.weight', 'cls.predictions.decoder.weight', 'cls.predictions.bias']\n",
      "- This IS expected if you are initializing BertModel from the checkpoint of a model trained on another task or with another architecture (e.g. initializing a BertForSequenceClassification model from a BertForPreTraining model).\n",
      "- This IS NOT expected if you are initializing BertModel from the checkpoint of a model that you expect to be exactly identical (initializing a BertForSequenceClassification model from a BertForSequenceClassification model).\n"
     ]
    }
   ],
   "source": [
    "model = st.SingleTaskDep(model_conf,vocab).to(device)\n",
    "save_path='m1_dep_bert_to_brk'"
   ]
  },
  {
   "cell_type": "code",
   "execution_count": 20,
   "metadata": {},
   "outputs": [
    {
     "data": {
      "application/vnd.jupyter.widget-view+json": {
       "model_id": "95572331245e46d19260159909221792",
       "version_major": 2,
       "version_minor": 0
      },
      "text/plain": [
       "  0%|          | 0/57400 [00:00<?, ?it/s]"
      ]
     },
     "metadata": {},
     "output_type": "display_data"
    },
    {
     "name": "stdout",
     "output_type": "stream",
     "text": [
      "Epoch 1 \t Training loss: 0.6958340546602987 \t Validation loss: 0.6932706085302062 \t \n",
      "  1%|          | 574/57400 [01:24<2:17:37,  6.88it/s]\n",
      "Epoch 2 \t Training loss: 0.6945391245419971 \t Validation loss: 0.693907716516721 \t \n",
      "  2%|▏         | 1148/57400 [02:48<2:14:21,  6.98it/s]\n",
      "Epoch 3 \t Training loss: 0.6941380978461342 \t Validation loss: 0.69294051800744 \t \n",
      "  3%|▎         | 1722/57400 [04:13<2:08:50,  7.20it/s]\n",
      "Epoch 4 \t Training loss: 0.6942742173056985 \t Validation loss: 0.6944654371778843 \t \n",
      "\n",
      "1 epoch without improvement\n",
      "  4%|▍         | 2296/57400 [05:37<2:17:48,  6.66it/s]\n",
      "Epoch 5 \t Training loss: 0.6941698198742152 \t Validation loss: 0.6935698905233609 \t \n",
      "  5%|▌         | 2870/57400 [07:01<2:14:12,  6.77it/s]\n",
      "Epoch 6 \t Training loss: 0.694261377385269 \t Validation loss: 0.6930846733562017 \t \n",
      "  6%|▌         | 3444/57400 [08:25<1:55:49,  7.76it/s]\n",
      "Epoch 7 \t Training loss: 0.6939340485097639 \t Validation loss: 0.6930385434021384 \t \n",
      "  7%|▋         | 4018/57400 [09:49<2:03:06,  7.23it/s]\n",
      "Epoch 8 \t Training loss: 0.6939286145183683 \t Validation loss: 0.6930887133388196 \t \n",
      "  8%|▊         | 4592/57400 [11:13<2:06:39,  6.95it/s]\n",
      "Epoch 9 \t Training loss: 0.6936998063055896 \t Validation loss: 0.692502829988124 \t \n",
      "  9%|▉         | 5166/57400 [12:38<2:05:52,  6.92it/s]\n",
      "Epoch 10 \t Training loss: 0.6939121199194147 \t Validation loss: 0.6924263996593023 \t \n",
      " 10%|█         | 5740/57400 [14:02<1:58:16,  7.28it/s]\n",
      "Epoch 11 \t Training loss: 0.693596137940676 \t Validation loss: 0.6934267141051211 \t \n",
      "\n",
      "1 epoch without improvement\n",
      " 11%|█         | 6314/57400 [15:26<1:53:58,  7.47it/s]\n",
      "Epoch 12 \t Training loss: 0.6937272378376552 \t Validation loss: 0.6927226337335878 \t \n",
      " 12%|█▏        | 6888/57400 [16:51<1:58:44,  7.09it/s]\n",
      "Epoch 13 \t Training loss: 0.6939057078511042 \t Validation loss: 0.693313969393908 \t \n",
      " 13%|█▎        | 7462/57400 [18:15<2:01:07,  6.87it/s]\n",
      "Epoch 14 \t Training loss: 0.6936373729323676 \t Validation loss: 0.6928691581144171 \t \n",
      " 14%|█▍        | 8036/57400 [19:39<1:58:46,  6.93it/s]\n",
      "Epoch 15 \t Training loss: 0.6935734247289053 \t Validation loss: 0.6931698898137626 \t \n",
      " 15%|█▌        | 8610/57400 [21:03<1:33:54,  8.66it/s]\n",
      "Epoch 16 \t Training loss: 0.6937747693227974 \t Validation loss: 0.692828184467251 \t \n",
      " 16%|█▌        | 9184/57400 [22:28<1:57:22,  6.85it/s]\n",
      "Epoch 17 \t Training loss: 0.6937042122726241 \t Validation loss: 0.6931641243271909 \t \n",
      " 17%|█▋        | 9758/57400 [23:52<1:51:06,  7.15it/s]\n",
      "Epoch 18 \t Training loss: 0.6936244036262459 \t Validation loss: 0.6937682830681235 \t \n",
      "\n",
      "2 epoch without improvement\n",
      " 18%|█▊        | 10332/57400 [25:16<1:48:44,  7.21it/s]\n",
      "Epoch 19 \t Training loss: 0.6934873376573835 \t Validation loss: 0.6934818170838437 \t \n",
      "\n",
      "3 epoch without improvement\n",
      " 19%|█▉        | 10906/57400 [26:40<1:38:31,  7.87it/s]\n",
      "Epoch 20 \t Training loss: 0.6933862390418501 \t Validation loss: 0.6933301303346279 \t \n",
      " 20%|██        | 11480/57400 [28:04<1:58:39,  6.45it/s]\n",
      "Epoch 21 \t Training loss: 0.6936166512841547 \t Validation loss: 0.6933484330015668 \t \n",
      " 21%|██        | 12054/57400 [29:28<1:44:47,  7.21it/s]\n",
      "Epoch 22 \t Training loss: 0.6935448542704565 \t Validation loss: 0.6924484311524084 \t \n",
      " 22%|██▏       | 12628/57400 [30:52<1:43:29,  7.21it/s]\n",
      "Epoch 23 \t Training loss: 0.693735601075435 \t Validation loss: 0.6931114095752522 \t \n",
      " 23%|██▎       | 13202/57400 [32:16<1:44:00,  7.08it/s]\n",
      "Epoch 24 \t Training loss: 0.6935651703163307 \t Validation loss: 0.6930328951043597 \t \n",
      " 24%|██▍       | 13776/57400 [33:40<1:40:10,  7.26it/s]\n",
      "Epoch 25 \t Training loss: 0.6934830029251684 \t Validation loss: 0.6936051542476073 \t \n",
      "\n",
      "4 epoch without improvement\n",
      " 25%|██▌       | 14350/57400 [35:04<1:36:10,  7.46it/s]\n",
      "Epoch 26 \t Training loss: 0.6936849042098281 \t Validation loss: 0.6929739592439037 \t \n",
      " 26%|██▌       | 14924/57400 [36:27<1:49:40,  6.46it/s]\n",
      "Epoch 27 \t Training loss: 0.6934210257247765 \t Validation loss: 0.6936848315141969 \t \n",
      "\n",
      "5 epoch without improvement\n",
      " 27%|██▋       | 15498/57400 [37:51<1:36:04,  7.27it/s]\n",
      "Epoch 28 \t Training loss: 0.6934206790001965 \t Validation loss: 0.6931982697066614 \t \n",
      " 28%|██▊       | 16072/57400 [39:15<1:46:20,  6.48it/s]\n",
      "Epoch 29 \t Training loss: 0.6933338681579883 \t Validation loss: 0.6931891522165072 \t \n",
      " 29%|██▉       | 16646/57400 [40:39<1:37:06,  6.99it/s]\n",
      "Epoch 30 \t Training loss: 0.6934087362646641 \t Validation loss: 0.693480064303188 \t \n",
      "\n",
      "6 epoch without improvement\n",
      " 30%|███       | 17220/57400 [42:03<1:33:36,  7.15it/s]\n",
      "Epoch 31 \t Training loss: 0.6933237635092453 \t Validation loss: 0.6934089872796657 \t \n",
      " 31%|███       | 17794/57400 [43:27<1:35:26,  6.92it/s]\n",
      "Epoch 32 \t Training loss: 0.6935418080992815 \t Validation loss: 0.6943815865759122 \t \n",
      "\n",
      "7 epoch without improvement\n",
      " 32%|███▏      | 18368/57400 [44:54<1:24:34,  7.69it/s]\n",
      "Epoch 33 \t Training loss: 0.6932919233102832 \t Validation loss: 0.6921533507815862 \t \n",
      " 33%|███▎      | 18942/57400 [46:21<1:38:32,  6.50it/s]\n",
      "Epoch 34 \t Training loss: 0.6935793078319537 \t Validation loss: 0.6935034939798258 \t \n",
      "\n",
      "1 epoch without improvement\n",
      " 34%|███▍      | 19516/57400 [47:48<1:28:18,  7.15it/s]\n",
      "Epoch 35 \t Training loss: 0.6935530699503962 \t Validation loss: 0.6928307009955584 \t \n",
      " 35%|███▌      | 20090/57400 [49:15<1:32:36,  6.71it/s]\n",
      "Epoch 36 \t Training loss: 0.6932768163365354 \t Validation loss: 0.6931238396693085 \t \n",
      " 36%|███▌      | 20664/57400 [50:46<1:24:14,  7.27it/s]\n",
      "Epoch 37 \t Training loss: 0.6933181425004886 \t Validation loss: 0.6930839126392946 \t \n",
      " 37%|███▋      | 21238/57400 [52:20<1:33:32,  6.44it/s]\n",
      "Epoch 38 \t Training loss: 0.6931911428630975 \t Validation loss: 0.6930013612165289 \t \n",
      " 38%|███▊      | 21812/57400 [53:52<1:29:36,  6.62it/s]\n",
      "Epoch 39 \t Training loss: 0.6936353328751355 \t Validation loss: 0.693750588570611 \t \n",
      "\n",
      "2 epoch without improvement\n",
      " 39%|███▉      | 22386/57400 [55:24<1:20:00,  7.29it/s]\n",
      "Epoch 40 \t Training loss: 0.6933415323392024 \t Validation loss: 0.694233429633965 \t \n",
      "\n",
      "3 epoch without improvement\n",
      " 40%|████      | 22960/57400 [56:55<1:28:33,  6.48it/s]\n",
      "Epoch 41 \t Training loss: 0.6932420275767921 \t Validation loss: 0.6928983573186196 \t \n",
      " 41%|████      | 23534/57400 [58:28<1:19:56,  7.06it/s]\n",
      "Epoch 42 \t Training loss: 0.6934567929767981 \t Validation loss: 0.693009078502655 \t \n",
      " 42%|████▏     | 24108/57400 [59:58<1:27:55,  6.31it/s]\n",
      "Epoch 43 \t Training loss: 0.6933771635597176 \t Validation loss: 0.6942149804810346 \t \n",
      "\n",
      "4 epoch without improvement\n",
      " 43%|████▎     | 24682/57400 [1:01:30<1:22:58,  6.57it/s]\n",
      "Epoch 44 \t Training loss: 0.6933806975751804 \t Validation loss: 0.6932272345332776 \t \n",
      "\n",
      "5 epoch without improvement\n",
      " 44%|████▍     | 25256/57400 [1:03:00<1:20:38,  6.64it/s]\n",
      "Epoch 45 \t Training loss: 0.6932747539535217 \t Validation loss: 0.6933218745862023 \t \n",
      "\n",
      "6 epoch without improvement\n",
      " 45%|████▌     | 25830/57400 [1:04:29<1:20:47,  6.51it/s]\n",
      "Epoch 46 \t Training loss: 0.6931381305543388 \t Validation loss: 0.6936590004775484 \t \n",
      "\n",
      "7 epoch without improvement\n",
      " 46%|████▌     | 26404/57400 [1:05:58<1:10:56,  7.28it/s]\n",
      "Epoch 47 \t Training loss: 0.6931893062300798 \t Validation loss: 0.6920909113803152 \t \n",
      " 47%|████▋     | 26978/57400 [1:07:28<1:21:12,  6.24it/s]\n",
      "Epoch 48 \t Training loss: 0.6933172481192944 \t Validation loss: 0.6930261011851035 \t \n",
      " 48%|████▊     | 27552/57400 [1:08:57<1:11:22,  6.97it/s]\n",
      "Epoch 49 \t Training loss: 0.693568031962325 \t Validation loss: 0.6935424148026159 \t \n",
      "\n",
      "1 epoch without improvement\n",
      " 49%|████▉     | 28126/57400 [1:10:27<1:12:13,  6.76it/s]\n",
      "Epoch 50 \t Training loss: 0.6934123907355066 \t Validation loss: 0.6924302830534467 \t \n",
      " 50%|█████     | 28700/57400 [1:11:55<1:14:14,  6.44it/s]\n",
      "Epoch 51 \t Training loss: 0.6932200443661587 \t Validation loss: 0.6929760262117548 \t \n",
      " 51%|█████     | 29274/57400 [1:13:25<1:11:26,  6.56it/s]\n",
      "Epoch 52 \t Training loss: 0.6932817523072405 \t Validation loss: 0.693765098765745 \t \n",
      "\n",
      "2 epoch without improvement\n",
      " 52%|█████▏    | 29848/57400 [1:14:54<1:09:42,  6.59it/s]\n",
      "Epoch 53 \t Training loss: 0.6933837431233104 \t Validation loss: 0.6934302105741986 \t \n",
      "\n",
      "3 epoch without improvement\n",
      " 53%|█████▎    | 30422/57400 [1:16:24<1:11:24,  6.30it/s]\n",
      "Epoch 54 \t Training loss: 0.6931806035365793 \t Validation loss: 0.6930817133289272 \t \n",
      " 54%|█████▍    | 30996/57400 [1:17:53<1:09:12,  6.36it/s]\n",
      "Epoch 55 \t Training loss: 0.6931682219696377 \t Validation loss: 0.6941800925691249 \t \n",
      "\n",
      "4 epoch without improvement\n",
      " 55%|█████▌    | 31570/57400 [1:19:21<1:00:54,  7.07it/s]\n",
      "Epoch 56 \t Training loss: 0.6931779836320711 \t Validation loss: 0.6938912999832024 \t \n",
      "\n",
      "5 epoch without improvement\n",
      " 56%|█████▌    | 32144/57400 [1:20:47<59:28,  7.08it/s]\n",
      "Epoch 57 \t Training loss: 0.6931485172348155 \t Validation loss: 0.6931804610511004 \t \n",
      "\n",
      "6 epoch without improvement\n",
      " 57%|█████▋    | 32718/57400 [1:22:16<1:04:36,  6.37it/s]\n",
      "Epoch 58 \t Training loss: 0.6932620060360806 \t Validation loss: 0.6929568476596121 \t \n",
      " 58%|█████▊    | 33292/57400 [1:23:45<59:37,  6.74it/s]\n",
      "Epoch 59 \t Training loss: 0.6930911693631149 \t Validation loss: 0.693416771242174 \t \n",
      "\n",
      "7 epoch without improvement\n",
      " 59%|█████▉    | 33866/57400 [1:25:14<1:00:15,  6.51it/s]\n",
      "Epoch 60 \t Training loss: 0.6932881949047593 \t Validation loss: 0.6933283714924828 \t \n",
      "\n",
      "8 epoch without improvement\n",
      " 60%|██████    | 34440/57400 [1:26:45<53:50,  7.11it/s]\n",
      "Epoch 61 \t Training loss: 0.6931787510159124 \t Validation loss: 0.6932786703109741 \t \n",
      "\n",
      "9 epoch without improvement\n",
      " 61%|██████    | 35014/57400 [1:28:15<57:34,  6.48it/s]\n",
      "Epoch 62 \t Training loss: 0.6931051141501304 \t Validation loss: 0.6929580013630754 \t \n",
      " 62%|██████▏   | 35588/57400 [1:29:44<53:49,  6.75it/s]\n",
      "Epoch 63 \t Training loss: 0.6931849589331225 \t Validation loss: 0.6925098592952147 \t \n",
      " 63%|██████▎   | 36162/57400 [1:31:12<54:24,  6.51it/s]\n",
      "Epoch 64 \t Training loss: 0.6932425351508403 \t Validation loss: 0.693278515742997 \t \n",
      "\n",
      "10 epoch without improvement\n",
      "Validation_loss hasn't improve in 10 epoch. Stopping training after 64 epochs...\n"
     ]
    },
    {
     "data": {
      "image/png": "[encoded data removed]",
      "text/plain": [
       "<Figure size 640x480 with 1 Axes>"
      ]
     },
     "metadata": {},
     "output_type": "display_data"
    }
   ],
   "source": [
    "learning_rate = 5e-5\n",
    "optimizer = SGD(model.parameters(), lr=learning_rate, momentum=0.9)\n",
    "num_epochs = 100\n",
    "\n",
    "train.train_function(model,num_epochs,dl_train['to'],optimizer,early_stop=10,dl_val=dl_val['to'],save_path=save_path)"
   ]
  },
  {
   "cell_type": "code",
   "execution_count": 21,
   "metadata": {},
   "outputs": [
    {
     "name": "stderr",
     "output_type": "stream",
     "text": [
      "Some weights of the model checkpoint at bert-base-cased were not used when initializing BertModel: ['cls.predictions.transform.LayerNorm.weight', 'cls.seq_relationship.bias', 'cls.seq_relationship.weight', 'cls.predictions.transform.dense.bias', 'cls.predictions.transform.LayerNorm.bias', 'cls.predictions.transform.dense.weight', 'cls.predictions.decoder.weight', 'cls.predictions.bias']\n",
      "- This IS expected if you are initializing BertModel from the checkpoint of a model trained on another task or with another architecture (e.g. initializing a BertForSequenceClassification model from a BertForPreTraining model).\n",
      "- This IS NOT expected if you are initializing BertModel from the checkpoint of a model that you expect to be exactly identical (initializing a BertForSequenceClassification model from a BertForSequenceClassification model).\n"
     ]
    },
    {
     "name": "stdout",
     "output_type": "stream",
     "text": [
      "Using scikit learn accuracy por género en el conjunto about\n",
      "GLOBAL: 0.4744897959183674\n",
      "MALE 0.2265625\n",
      "FEMALE 0.7125 \n",
      "\n",
      "Using scikit learn accuracy por género en el conjunto to\n",
      "GLOBAL: 0.49873737373737376\n",
      "MALE 0.24817518248175183\n",
      "FEMALE 0.7690288713910761 \n",
      "\n",
      "Using scikit learn accuracy por género en el conjunto as\n",
      "GLOBAL: 0.5202086049543677\n",
      "MALE 0.29545454545454547\n",
      "FEMALE 0.7601078167115903 \n",
      "\n"
     ]
    }
   ],
   "source": [
    "model = st.SingleTaskDep(model_conf,vocab).to(device)\n",
    "model.load_state_dict(torch.load(save_path))\n",
    "for task in ['about','to','as']:\n",
    "    print(f\"Using scikit learn accuracy por género en el conjunto {task}\")\n",
    "    print(f\"GLOBAL: {train.eval_function_single_sk(model,dl_eval[task])}\")\n",
    "    print(f\"MALE {train.eval_function_single_sk(model,dl_eval[task],gender='male')}\")\n",
    "    print(f\"FEMALE {train.eval_function_single_sk(model,dl_eval[task],gender='female')}\",'\\n')"
   ]
  },
  {
   "attachments": {},
   "cell_type": "markdown",
   "metadata": {},
   "source": [
    "# AS"
   ]
  },
  {
   "cell_type": "code",
   "execution_count": 15,
   "metadata": {},
   "outputs": [
    {
     "name": "stderr",
     "output_type": "stream",
     "text": [
      "Some weights of the model checkpoint at bert-base-cased were not used when initializing BertModel: ['cls.predictions.transform.dense.bias', 'cls.predictions.decoder.weight', 'cls.predictions.transform.LayerNorm.bias', 'cls.seq_relationship.weight', 'cls.predictions.bias', 'cls.predictions.transform.LayerNorm.weight', 'cls.seq_relationship.bias', 'cls.predictions.transform.dense.weight']\n",
      "- This IS expected if you are initializing BertModel from the checkpoint of a model trained on another task or with another architecture (e.g. initializing a BertForSequenceClassification model from a BertForPreTraining model).\n",
      "- This IS NOT expected if you are initializing BertModel from the checkpoint of a model that you expect to be exactly identical (initializing a BertForSequenceClassification model from a BertForSequenceClassification model).\n"
     ]
    }
   ],
   "source": [
    "model = st.SingleTaskDep(model_conf,vocab).to(device)\n",
    "save_path='m1_dep_bert_as_brk'"
   ]
  },
  {
   "cell_type": "code",
   "execution_count": 16,
   "metadata": {},
   "outputs": [
    {
     "data": {
      "application/vnd.jupyter.widget-view+json": {
       "model_id": "bbffcf7e5b074d43b4addcb17e02eede",
       "version_major": 2,
       "version_minor": 0
      },
      "text/plain": [
       "  0%|          | 0/57400 [00:00<?, ?it/s]"
      ]
     },
     "metadata": {},
     "output_type": "display_data"
    },
    {
     "name": "stdout",
     "output_type": "stream",
     "text": [
      "Epoch 1 \t Training loss: 0.6952989284169798 \t Validation loss: 0.6946648419913599 \t \n",
      "  1%|          | 574/57400 [01:34<3:00:33,  5.25it/s]\n",
      "Epoch 2 \t Training loss: 0.6945307386669133 \t Validation loss: 0.6941697132789483 \t \n",
      "  2%|▏         | 1148/57400 [03:18<2:28:19,  6.32it/s]\n",
      "Epoch 3 \t Training loss: 0.6945906605454687 \t Validation loss: 0.6938778404462136 \t \n",
      "  3%|▎         | 1722/57400 [04:45<1:49:39,  8.46it/s]\n",
      "Epoch 4 \t Training loss: 0.6944457258289284 \t Validation loss: 0.693402610592923 \t \n",
      "  4%|▍         | 2296/57400 [06:11<2:00:02,  7.65it/s]\n",
      "Epoch 5 \t Training loss: 0.6939637294422043 \t Validation loss: 0.6931713587146694 \t \n",
      "  5%|▌         | 2870/57400 [07:37<1:50:22,  8.23it/s]\n",
      "Epoch 6 \t Training loss: 0.6935347234538208 \t Validation loss: 0.6924031881962792 \t \n",
      "  6%|▌         | 3444/57400 [09:02<2:12:14,  6.80it/s]\n",
      "Epoch 7 \t Training loss: 0.6935602704822394 \t Validation loss: 0.6927029985492512 \t \n",
      "  7%|▋         | 4018/57400 [10:31<2:07:22,  6.98it/s]\n",
      "Epoch 8 \t Training loss: 0.6934934051817718 \t Validation loss: 0.6940024656764532 \t \n",
      "\n",
      "1 epoch without improvement\n",
      "  8%|▊         | 4592/57400 [11:57<2:09:19,  6.81it/s]\n",
      "Epoch 9 \t Training loss: 0.693416985173674 \t Validation loss: 0.6924852223719581 \t \n",
      "  9%|▉         | 5166/57400 [13:23<2:09:44,  6.71it/s]\n",
      "Epoch 10 \t Training loss: 0.693446072448006 \t Validation loss: 0.6927125332719188 \t \n",
      " 10%|█         | 5740/57400 [14:48<2:05:27,  6.86it/s]\n",
      "Epoch 11 \t Training loss: 0.6934187009359486 \t Validation loss: 0.6934580459433087 \t \n",
      "\n",
      "2 epoch without improvement\n",
      " 11%|█         | 6314/57400 [16:14<2:06:19,  6.74it/s]\n",
      "Epoch 12 \t Training loss: 0.6931643884771792 \t Validation loss: 0.6933989676378541 \t \n",
      " 12%|█▏        | 6888/57400 [17:39<2:09:27,  6.50it/s]\n",
      "Epoch 13 \t Training loss: 0.6929894779201999 \t Validation loss: 0.6920891161692344 \t \n",
      " 13%|█▎        | 7462/57400 [19:04<1:55:18,  7.22it/s]\n",
      "Epoch 14 \t Training loss: 0.6932178437709808 \t Validation loss: 0.692714549727359 \t \n",
      " 14%|█▍        | 8036/57400 [20:27<1:54:06,  7.21it/s]\n",
      "Epoch 15 \t Training loss: 0.6929399290151297 \t Validation loss: 0.6918960062123961 \t \n",
      " 15%|█▌        | 8610/57400 [21:51<1:55:40,  7.03it/s]\n",
      "Epoch 16 \t Training loss: 0.6928592785310247 \t Validation loss: 0.6923422944747796 \t \n",
      " 16%|█▌        | 9184/57400 [23:15<2:01:42,  6.60it/s]\n",
      "Epoch 17 \t Training loss: 0.6927873585697666 \t Validation loss: 0.6925850106497943 \t \n",
      " 17%|█▋        | 9758/57400 [24:39<1:51:41,  7.11it/s]\n",
      "Epoch 18 \t Training loss: 0.6929329987810049 \t Validation loss: 0.6927846114514238 \t \n",
      " 18%|█▊        | 10332/57400 [26:03<1:51:40,  7.02it/s]\n",
      "Epoch 19 \t Training loss: 0.6926748442109869 \t Validation loss: 0.69159774456994 \t \n",
      " 19%|█▉        | 10906/57400 [27:28<1:32:36,  8.37it/s]\n",
      "Epoch 20 \t Training loss: 0.6927946001187434 \t Validation loss: 0.6921909734354181 \t \n",
      " 20%|██        | 11480/57400 [28:52<1:42:25,  7.47it/s]\n",
      "Epoch 21 \t Training loss: 0.6926427550016795 \t Validation loss: 0.692847994424529 \t \n",
      "\n",
      "1 epoch without improvement\n",
      " 21%|██        | 12054/57400 [30:16<2:03:47,  6.11it/s]\n",
      "Epoch 22 \t Training loss: 0.6926024226984496 \t Validation loss: 0.6914578827760988 \t \n",
      " 22%|██▏       | 12628/57400 [31:40<1:42:44,  7.26it/s]\n",
      "Epoch 23 \t Training loss: 0.6921411145231865 \t Validation loss: 0.6914300433659958 \t \n",
      " 23%|██▎       | 13202/57400 [33:04<1:28:15,  8.35it/s]\n",
      "Epoch 24 \t Training loss: 0.6921965630419994 \t Validation loss: 0.6924690614312382 \t \n",
      "\n",
      "1 epoch without improvement\n",
      " 24%|██▍       | 13776/57400 [34:29<1:44:36,  6.95it/s]\n",
      "Epoch 25 \t Training loss: 0.6922054411226864 \t Validation loss: 0.6917275523735305 \t \n",
      " 25%|██▌       | 14350/57400 [35:53<1:30:18,  7.94it/s]\n",
      "Epoch 26 \t Training loss: 0.692280571946699 \t Validation loss: 0.6930774581634392 \t \n",
      "\n",
      "2 epoch without improvement\n",
      " 26%|██▌       | 14924/57400 [37:17<1:39:12,  7.14it/s]\n",
      "Epoch 27 \t Training loss: 0.6916167978002634 \t Validation loss: 0.6930759579448377 \t \n",
      "\n",
      "3 epoch without improvement\n",
      " 27%|██▋       | 15498/57400 [38:40<1:45:11,  6.64it/s]\n",
      "Epoch 28 \t Training loss: 0.6921333840915135 \t Validation loss: 0.6931672379121943 \t \n",
      "\n",
      "4 epoch without improvement\n",
      " 28%|██▊       | 16072/57400 [40:04<1:39:03,  6.95it/s]\n",
      "Epoch 29 \t Training loss: 0.6918384408909269 \t Validation loss: 0.6930655998698736 \t \n",
      "\n",
      "5 epoch without improvement\n",
      " 29%|██▉       | 16646/57400 [41:28<1:36:20,  7.05it/s]\n",
      "Epoch 30 \t Training loss: 0.6915623327580894 \t Validation loss: 0.6907767067521305 \t \n",
      " 30%|███       | 17220/57400 [42:52<1:28:07,  7.60it/s]\n",
      "Epoch 31 \t Training loss: 0.6914671689583449 \t Validation loss: 0.6917459904137304 \t \n",
      " 31%|███       | 17794/57400 [44:16<1:38:39,  6.69it/s]\n",
      "Epoch 32 \t Training loss: 0.6915031996545892 \t Validation loss: 0.6908042744054632 \t \n",
      " 32%|███▏      | 18368/57400 [45:40<1:28:31,  7.35it/s]\n",
      "Epoch 33 \t Training loss: 0.69169968989668 \t Validation loss: 0.6913301197148985 \t \n",
      " 33%|███▎      | 18942/57400 [47:04<1:30:43,  7.07it/s]\n",
      "Epoch 34 \t Training loss: 0.6913733566471923 \t Validation loss: 0.6918617406133878 \t \n",
      "\n",
      "1 epoch without improvement\n",
      " 34%|███▍      | 19516/57400 [48:28<1:34:00,  6.72it/s]\n",
      "Epoch 35 \t Training loss: 0.6912179475046616 \t Validation loss: 0.6906897435754032 \t \n",
      " 35%|███▌      | 20090/57400 [49:52<1:26:31,  7.19it/s]\n",
      "Epoch 36 \t Training loss: 0.6913676647151389 \t Validation loss: 0.691490571377641 \t \n",
      " 36%|███▌      | 20664/57400 [51:16<1:23:12,  7.36it/s]\n",
      "Epoch 37 \t Training loss: 0.6913079062820727 \t Validation loss: 0.6922119471986415 \t \n",
      "\n",
      "1 epoch without improvement\n",
      " 37%|███▋      | 21238/57400 [52:39<1:21:43,  7.38it/s]\n",
      "Epoch 38 \t Training loss: 0.6911904014361445 \t Validation loss: 0.6915091023606769 \t \n",
      " 38%|███▊      | 21812/57400 [54:03<1:23:13,  7.13it/s]\n",
      "Epoch 39 \t Training loss: 0.6910503963560177 \t Validation loss: 0.691748493808811 \t \n",
      "\n",
      "2 epoch without improvement\n",
      " 39%|███▉      | 22386/57400 [55:27<1:07:06,  8.70it/s]\n",
      "Epoch 40 \t Training loss: 0.6912200962832581 \t Validation loss: 0.6910552665338678 \t \n",
      " 40%|████      | 22960/57400 [56:52<1:23:49,  6.85it/s]\n",
      "Epoch 41 \t Training loss: 0.6910181779686998 \t Validation loss: 0.6908730046223786 \t \n",
      " 41%|████      | 23534/57400 [58:15<1:16:23,  7.39it/s]\n",
      "Epoch 42 \t Training loss: 0.6907100087674237 \t Validation loss: 0.6908358274880102 \t \n",
      " 42%|████▏     | 24108/57400 [59:39<1:14:30,  7.45it/s]\n",
      "Epoch 43 \t Training loss: 0.6905790157226736 \t Validation loss: 0.6907546772795209 \t \n",
      " 43%|████▎     | 24682/57400 [1:01:04<1:18:01,  6.99it/s]\n",
      "Epoch 44 \t Training loss: 0.6902712952176868 \t Validation loss: 0.6911687780234773 \t \n",
      " 44%|████▍     | 25256/57400 [1:02:28<1:18:52,  6.79it/s]\n",
      "Epoch 45 \t Training loss: 0.6901637783033923 \t Validation loss: 0.6922020204996658 \t \n",
      "\n",
      "3 epoch without improvement\n",
      " 45%|████▌     | 25830/57400 [1:03:51<1:20:57,  6.50it/s]\n",
      "Epoch 46 \t Training loss: 0.6905053756378253 \t Validation loss: 0.6921269267292346 \t \n",
      "\n",
      "4 epoch without improvement\n",
      " 46%|████▌     | 26404/57400 [1:05:16<1:11:49,  7.19it/s]\n",
      "Epoch 47 \t Training loss: 0.6904632542606846 \t Validation loss: 0.6924012131610159 \t \n",
      "\n",
      "5 epoch without improvement\n",
      " 47%|████▋     | 26978/57400 [1:06:39<1:10:39,  7.18it/s]\n",
      "Epoch 48 \t Training loss: 0.6901764755465012 \t Validation loss: 0.6906856278241691 \t \n",
      " 48%|████▊     | 27552/57400 [1:08:04<1:00:34,  8.21it/s]\n",
      "Epoch 49 \t Training loss: 0.6900624020174405 \t Validation loss: 0.6914514525462006 \t \n",
      " 49%|████▉     | 28126/57400 [1:09:28<1:03:49,  7.64it/s]\n",
      "Epoch 50 \t Training loss: 0.689818241039635 \t Validation loss: 0.6916343256578608 \t \n",
      " 50%|█████     | 28700/57400 [1:10:52<1:06:03,  7.24it/s]\n",
      "Epoch 51 \t Training loss: 0.6901456002366667 \t Validation loss: 0.6904614345502045 \t \n",
      " 51%|█████     | 29274/57400 [1:12:17<1:04:45,  7.24it/s]\n",
      "Epoch 52 \t Training loss: 0.6901258834563065 \t Validation loss: 0.6930129295688564 \t \n",
      "\n",
      "1 epoch without improvement\n",
      " 52%|█████▏    | 29848/57400 [1:13:41<59:05,  7.77it/s]\n",
      "Epoch 53 \t Training loss: 0.6900693360936766 \t Validation loss: 0.6909058498123944 \t \n",
      " 53%|█████▎    | 30422/57400 [1:15:05<1:03:41,  7.06it/s]\n",
      "Epoch 54 \t Training loss: 0.6901539886039308 \t Validation loss: 0.6905424392829507 \t \n",
      " 54%|█████▍    | 30996/57400 [1:16:29<1:01:12,  7.19it/s]\n",
      "Epoch 55 \t Training loss: 0.690141170386238 \t Validation loss: 0.6921456415774458 \t \n",
      "\n",
      "2 epoch without improvement\n",
      " 55%|█████▌    | 31570/57400 [1:17:52<58:39,  7.34it/s]\n",
      "Epoch 56 \t Training loss: 0.689804394174536 \t Validation loss: 0.6912541591514976 \t \n",
      " 56%|█████▌    | 32144/57400 [1:19:16<51:44,  8.13it/s]\n",
      "Epoch 57 \t Training loss: 0.6896798110174385 \t Validation loss: 0.6916480569516198 \t \n",
      "\n",
      "3 epoch without improvement\n",
      " 57%|█████▋    | 32718/57400 [1:20:40<1:00:29,  6.80it/s]\n",
      "Epoch 58 \t Training loss: 0.6896104653745578 \t Validation loss: 0.6910556009260275 \t \n",
      " 58%|█████▊    | 33292/57400 [1:22:05<57:34,  6.98it/s]\n",
      "Epoch 59 \t Training loss: 0.6894680864927245 \t Validation loss: 0.691617549475977 \t \n",
      "\n",
      "4 epoch without improvement\n",
      " 59%|█████▉    | 33866/57400 [1:23:29<53:53,  7.28it/s]\n",
      "Epoch 60 \t Training loss: 0.6896225877547514 \t Validation loss: 0.6910277887926264 \t \n",
      " 60%|██████    | 34440/57400 [1:24:53<53:54,  7.10it/s]\n",
      "Epoch 61 \t Training loss: 0.6897604089580762 \t Validation loss: 0.6919178184816392 \t \n",
      "\n",
      "5 epoch without improvement\n",
      " 61%|██████    | 35014/57400 [1:26:17<50:48,  7.34it/s]\n",
      "Epoch 62 \t Training loss: 0.6900994574151388 \t Validation loss: 0.6902457122075356 \t \n",
      " 62%|██████▏   | 35588/57400 [1:27:41<50:55,  7.14it/s]\n",
      "Epoch 63 \t Training loss: 0.6893478033850002 \t Validation loss: 0.6914679317151086 \t \n",
      "\n",
      "1 epoch without improvement\n",
      " 63%|██████▎   | 36162/57400 [1:29:05<49:35,  7.14it/s]\n",
      "Epoch 64 \t Training loss: 0.6892245268572498 \t Validation loss: 0.6917350332615739 \t \n",
      "\n",
      "2 epoch without improvement\n",
      " 64%|██████▍   | 36736/57400 [1:30:30<50:16,  6.85it/s]\n",
      "Epoch 65 \t Training loss: 0.6894456827266706 \t Validation loss: 0.6922228972790605 \t \n",
      "\n",
      "3 epoch without improvement\n",
      " 65%|██████▌   | 37310/57400 [1:31:54<50:09,  6.68it/s]\n",
      "Epoch 66 \t Training loss: 0.6895593258354307 \t Validation loss: 0.6922038328849663 \t \n",
      "\n",
      "4 epoch without improvement\n",
      " 66%|██████▌   | 37884/57400 [1:33:18<47:20,  6.87it/s]\n",
      "Epoch 67 \t Training loss: 0.6891446196659101 \t Validation loss: 0.6915438953092543 \t \n",
      "\n",
      "5 epoch without improvement\n",
      " 67%|██████▋   | 38458/57400 [1:34:42<43:52,  7.20it/s]\n",
      "Epoch 68 \t Training loss: 0.6892342950616565 \t Validation loss: 0.6903973383418585 \t \n",
      " 68%|██████▊   | 39032/57400 [1:36:06<42:07,  7.27it/s]\n",
      "Epoch 69 \t Training loss: 0.689060965793058 \t Validation loss: 0.6923143398963799 \t \n",
      "\n",
      "6 epoch without improvement\n",
      " 69%|██████▉   | 39606/57400 [1:37:30<41:37,  7.13it/s]\n",
      "Epoch 70 \t Training loss: 0.6890752110954776 \t Validation loss: 0.6907853181079283 \t \n",
      " 70%|███████   | 40180/57400 [1:38:54<53:19,  5.38it/s]\n",
      "Epoch 71 \t Training loss: 0.6890867411674938 \t Validation loss: 0.6903835716894118 \t \n",
      " 71%|███████   | 40754/57400 [1:40:18<40:41,  6.82it/s]\n",
      "Epoch 72 \t Training loss: 0.6888790729776908 \t Validation loss: 0.691514496075905 \t \n",
      "\n",
      "7 epoch without improvement\n",
      " 72%|███████▏  | 41328/57400 [1:41:42<39:32,  6.77it/s]\n",
      "Epoch 73 \t Training loss: 0.6893437498537921 \t Validation loss: 0.6919501827935041 \t \n",
      "\n",
      "8 epoch without improvement\n",
      " 73%|███████▎  | 41902/57400 [1:43:06<36:39,  7.04it/s]\n",
      "Epoch 74 \t Training loss: 0.6884239661776645 \t Validation loss: 0.6917117652246507 \t \n",
      "\n",
      "9 epoch without improvement\n",
      " 74%|███████▍  | 42476/57400 [1:44:30<34:37,  7.18it/s]\n",
      "Epoch 75 \t Training loss: 0.6885985561779567 \t Validation loss: 0.6910964301076986 \t \n",
      " 75%|███████▌  | 43050/57400 [1:45:54<32:44,  7.30it/s]\n",
      "Epoch 76 \t Training loss: 0.6893354084225897 \t Validation loss: 0.6922275434106083 \t \n",
      "\n",
      "10 epoch without improvement\n",
      "Validation_loss hasn't improve in 10 epoch. Stopping training after 76 epochs...\n"
     ]
    },
    {
     "data": {
      "image/png": "[encoded data removed]",
      "text/plain": [
       "<Figure size 640x480 with 1 Axes>"
      ]
     },
     "metadata": {},
     "output_type": "display_data"
    }
   ],
   "source": [
    "learning_rate = 5e-5\n",
    "optimizer = SGD(model.parameters(), lr=learning_rate, momentum=0.9)\n",
    "num_epochs = 100\n",
    "\n",
    "train.train_function(model,num_epochs,dl_train['as'],optimizer,early_stop=10,dl_val=dl_val['as'],save_path=save_path)"
   ]
  },
  {
   "cell_type": "code",
   "execution_count": 18,
   "metadata": {},
   "outputs": [
    {
     "name": "stderr",
     "output_type": "stream",
     "text": [
      "Some weights of the model checkpoint at bert-base-cased were not used when initializing BertModel: ['cls.predictions.transform.dense.bias', 'cls.predictions.decoder.weight', 'cls.predictions.transform.LayerNorm.bias', 'cls.seq_relationship.weight', 'cls.predictions.bias', 'cls.predictions.transform.LayerNorm.weight', 'cls.seq_relationship.bias', 'cls.predictions.transform.dense.weight']\n",
      "- This IS expected if you are initializing BertModel from the checkpoint of a model trained on another task or with another architecture (e.g. initializing a BertForSequenceClassification model from a BertForPreTraining model).\n",
      "- This IS NOT expected if you are initializing BertModel from the checkpoint of a model that you expect to be exactly identical (initializing a BertForSequenceClassification model from a BertForSequenceClassification model).\n"
     ]
    },
    {
     "name": "stdout",
     "output_type": "stream",
     "text": [
      "Using scikit learn accuracy por género en el conjunto about\n",
      "GLOBAL: 0.7423469387755102\n",
      "MALE 0.6354166666666666\n",
      "FEMALE 0.845 \n",
      "\n",
      "Using scikit learn accuracy por género en el conjunto to\n",
      "GLOBAL: 0.6830808080808081\n",
      "MALE 0.6058394160583942\n",
      "FEMALE 0.7664041994750657 \n",
      "\n",
      "Using scikit learn accuracy por género en el conjunto as\n",
      "GLOBAL: 0.6714471968709257\n",
      "MALE 0.5454545454545454\n",
      "FEMALE 0.8059299191374663 \n",
      "\n"
     ]
    }
   ],
   "source": [
    "save_path='m1_dep_bert_as_brk'\n",
    "model = st.SingleTaskDep(model_conf,vocab).to(device)\n",
    "model.load_state_dict(torch.load(save_path))\n",
    "for task in ['about','to','as']:\n",
    "    print(f\"Using scikit learn accuracy por género en el conjunto {task}\")\n",
    "    print(f\"GLOBAL: {train.eval_function_single_sk(model,dl_eval[task])}\")\n",
    "    print(f\"MALE {train.eval_function_single_sk(model,dl_eval[task],gender='male')}\")\n",
    "    print(f\"FEMALE {train.eval_function_single_sk(model,dl_eval[task],gender='female')}\",'\\n')"
   ]
  }
 ],
 "metadata": {
  "kernelspec": {
   "display_name": "tfg",
   "language": "python",
   "name": "python3"
  },
  "language_info": {
   "codemirror_mode": {
    "name": "ipython",
    "version": 3
   },
   "file_extension": ".py",
   "mimetype": "text/x-python",
   "name": "python",
   "nbconvert_exporter": "python",
   "pygments_lexer": "ipython3",
   "version": "3.9.13"
  },
  "orig_nbformat": 4,
  "vscode": {
   "interpreter": {
    "hash": "b2012626cca2d66e84dc87dc317222963c31dcd31e180f1257b027de73883164"
   }
  }
 },
 "nbformat": 4,
 "nbformat_minor": 2
}
