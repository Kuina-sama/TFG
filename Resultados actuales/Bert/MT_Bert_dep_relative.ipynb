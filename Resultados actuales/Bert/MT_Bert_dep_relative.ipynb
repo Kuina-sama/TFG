{
 "cells": [
  {
   "cell_type": "code",
   "execution_count": 1,
   "metadata": {},
   "outputs": [],
   "source": [
    "import torch\n",
    "from torch.utils.data import DataLoader\n",
    "from torch.optim import SGD ,AdamW\n",
    "\n",
    "from datasets import load_dataset, load_metric\n",
    "\n",
    "import matplotlib.pyplot as plt\n",
    "\n",
    "import json\n"
   ]
  },
  {
   "cell_type": "code",
   "execution_count": 2,
   "metadata": {},
   "outputs": [],
   "source": [
    "import utils_generic as generic\n",
    "import multitask_dep as mt\n",
    "import model_confs as confs\n",
    "import train_dep as train"
   ]
  },
  {
   "cell_type": "code",
   "execution_count": 3,
   "metadata": {},
   "outputs": [],
   "source": [
    "device = torch.device(\"cuda\") if torch.cuda.is_available() else torch.device(\"cpu\")\n",
    "torch.manual_seed(27)\n",
    "tasks = ['to','as','about']"
   ]
  },
  {
   "cell_type": "code",
   "execution_count": 4,
   "metadata": {},
   "outputs": [],
   "source": [
    "model_conf = confs.bert_conf\n",
    "encoding_type = 'relative'"
   ]
  },
  {
   "attachments": {},
   "cell_type": "markdown",
   "metadata": {},
   "source": [
    "# Datos ConvAI"
   ]
  },
  {
   "cell_type": "code",
   "execution_count": 5,
   "metadata": {},
   "outputs": [],
   "source": [
    "with open('Datasets\\ConvAI2\\convai2_complete.json','r') as f:\n",
    "    data = json.load(f)"
   ]
  },
  {
   "cell_type": "code",
   "execution_count": 6,
   "metadata": {},
   "outputs": [],
   "source": [
    "vocab = mt.Vocabulary(data['train'],encoding_type)"
   ]
  },
  {
   "cell_type": "code",
   "execution_count": 7,
   "metadata": {},
   "outputs": [],
   "source": [
    "convai_train = data['train']\n",
    "convai_val = data['validation']\n",
    "\n",
    "\n",
    "\n",
    "convai_train_token = generic.tokenize_dataset_with_dependencies(convai_train,['about','to','as'],vocab,model_conf) \n",
    "convai_val_token = generic.tokenize_dataset_with_dependencies(convai_val,['about','to','as'],vocab,model_conf) "
   ]
  },
  {
   "cell_type": "code",
   "execution_count": 8,
   "metadata": {},
   "outputs": [],
   "source": [
    "convai_train_dataset = mt.DatasetMultitaskDep(convai_train_token,tasks,eval=False)\n",
    "convai_val_dataset = mt.DatasetMultitaskDep(convai_val_token,tasks,eval=False)"
   ]
  },
  {
   "attachments": {},
   "cell_type": "markdown",
   "metadata": {},
   "source": [
    "# Datos md_gender"
   ]
  },
  {
   "cell_type": "code",
   "execution_count": 9,
   "metadata": {},
   "outputs": [],
   "source": [
    "with open('Datasets\\md_gender\\md_complete.json','r',encoding=\"utf8\") as f:\n",
    "    md_data = json.load(f)"
   ]
  },
  {
   "cell_type": "code",
   "execution_count": 10,
   "metadata": {},
   "outputs": [],
   "source": [
    "md_tokenized = generic.tokenize_dataset_with_dependencies(md_data,['about','to','as'],vocab,model_conf) \n",
    "md_dataset = mt.DatasetMultitaskDep(md_tokenized,tasks,eval=True)"
   ]
  },
  {
   "attachments": {},
   "cell_type": "markdown",
   "metadata": {},
   "source": [
    "# Creación dataloaders"
   ]
  },
  {
   "cell_type": "code",
   "execution_count": 11,
   "metadata": {},
   "outputs": [],
   "source": [
    "dl_train =DataLoader(convai_train_dataset,batch_size=128,shuffle=True,collate_fn=mt.collate_fn)\n",
    "dl_val =DataLoader(convai_val_dataset,batch_size=128,shuffle=True,collate_fn=mt.collate_fn)\n",
    "dl_eval = DataLoader(md_dataset,batch_size=128,shuffle=False,collate_fn=mt.collate_fn)"
   ]
  },
  {
   "attachments": {},
   "cell_type": "markdown",
   "metadata": {},
   "source": [
    "# Modelo multitask"
   ]
  },
  {
   "cell_type": "code",
   "execution_count": 12,
   "metadata": {},
   "outputs": [
    {
     "name": "stderr",
     "output_type": "stream",
     "text": [
      "Some weights of the model checkpoint at bert-base-cased were not used when initializing BertModel: ['cls.predictions.transform.dense.bias', 'cls.seq_relationship.weight', 'cls.predictions.transform.LayerNorm.weight', 'cls.predictions.decoder.weight', 'cls.seq_relationship.bias', 'cls.predictions.transform.dense.weight', 'cls.predictions.bias', 'cls.predictions.transform.LayerNorm.bias']\n",
      "- This IS expected if you are initializing BertModel from the checkpoint of a model trained on another task or with another architecture (e.g. initializing a BertForSequenceClassification model from a BertForPreTraining model).\n",
      "- This IS NOT expected if you are initializing BertModel from the checkpoint of a model that you expect to be exactly identical (initializing a BertForSequenceClassification model from a BertForSequenceClassification model).\n"
     ]
    }
   ],
   "source": [
    "model = mt.MultiWithDependencies(model_conf,vocab).to(device)\n",
    "save_path='m1_bert_multi_rel'"
   ]
  },
  {
   "cell_type": "code",
   "execution_count": 13,
   "metadata": {},
   "outputs": [
    {
     "name": "stdout",
     "output_type": "stream",
     "text": [
      "Accuracy evaluando en todas las etiquetas\n",
      "{'to': 0.5138888888888888, 'as': 0.5097783572359843, 'about': 0.5025510204081632}\n",
      "Accuracy evaluando en etiquetas female\n",
      "{'to': 0.07874015748031496, 'as': 0.08355795148247978, 'about': 0.0925}\n",
      "Accuracy evaluando en etiquetas male\n",
      "{'to': 0.9172749391727494, 'as': 0.9090909090909091, 'about': 0.9296875}\n"
     ]
    }
   ],
   "source": [
    "print(\"Accuracy evaluando en todas las etiquetas\")\n",
    "print(train.eval_function_multi(model,dl_eval,tasks))\n",
    "print(\"Accuracy evaluando en etiquetas female\")\n",
    "print(train.eval_function_multi(model,dl_eval,tasks,'female'))\n",
    "print(\"Accuracy evaluando en etiquetas male\")\n",
    "print(train.eval_function_multi(model,dl_eval,tasks,'male'))"
   ]
  },
  {
   "cell_type": "code",
   "execution_count": 14,
   "metadata": {},
   "outputs": [
    {
     "data": {
      "application/vnd.jupyter.widget-view+json": {
       "model_id": "d4cd3785f9b648f492d540c56626f360",
       "version_major": 2,
       "version_minor": 0
      },
      "text/plain": [
       "  0%|          | 0/57400 [00:00<?, ?it/s]"
      ]
     },
     "metadata": {},
     "output_type": "display_data"
    },
    {
     "name": "stdout",
     "output_type": "stream",
     "text": [
      "Epoch 1 \t Training loss: 2.078563467135413 \t Validation loss: 2.0743047261642196 \t \n",
      "  1%|          | 574/57400 [01:35<2:34:30,  6.13it/s]\n",
      "Epoch 2 \t Training loss: 2.0675428665473485 \t Validation loss: 2.061829647775424 \t \n",
      "  2%|▏         | 1148/57400 [03:25<2:51:56,  5.45it/s]\n",
      "Epoch 3 \t Training loss: 2.0495104964186504 \t Validation loss: 2.0368867445800265 \t \n",
      "  3%|▎         | 1722/57400 [05:14<2:54:57,  5.30it/s]\n",
      "Epoch 4 \t Training loss: 2.022365223655302 \t Validation loss: 2.0155205443754034 \t \n",
      "  4%|▍         | 2296/57400 [07:03<2:56:02,  5.22it/s]\n",
      "Epoch 5 \t Training loss: 2.0025537583055395 \t Validation loss: 2.008407889786413 \t \n",
      "  5%|▌         | 2870/57400 [08:53<2:48:52,  5.38it/s]\n",
      "Epoch 6 \t Training loss: 1.9922365357236165 \t Validation loss: 2.0006444393578224 \t \n",
      "  6%|▌         | 3444/57400 [10:42<2:21:19,  6.36it/s]\n",
      "Epoch 7 \t Training loss: 1.9880012585310987 \t Validation loss: 1.990150894148875 \t \n",
      "  7%|▋         | 4018/57400 [12:31<2:37:15,  5.66it/s]\n",
      "Epoch 8 \t Training loss: 1.9833679195065117 \t Validation loss: 1.9862456685405667 \t \n",
      "  8%|▊         | 4592/57400 [14:21<2:48:13,  5.23it/s]\n",
      "Epoch 9 \t Training loss: 1.9790421724319458 \t Validation loss: 1.9961920330079936 \t \n",
      "\n",
      "1 epoch without improvement\n",
      "  9%|▉         | 5166/57400 [16:09<2:50:02,  5.12it/s]\n",
      "Epoch 10 \t Training loss: 1.9795302513999806 \t Validation loss: 1.9902015641584234 \t \n",
      "\n",
      "2 epoch without improvement\n",
      " 10%|█         | 5740/57400 [17:48<2:10:19,  6.61it/s]\n",
      "Epoch 11 \t Training loss: 1.977111455663156 \t Validation loss: 1.980960124630039 \t \n",
      " 11%|█         | 6314/57400 [19:20<2:12:16,  6.44it/s]\n",
      "Epoch 12 \t Training loss: 1.9771127559582116 \t Validation loss: 1.9738802263292217 \t \n",
      " 12%|█▏        | 6888/57400 [20:51<2:08:50,  6.53it/s]\n",
      "Epoch 13 \t Training loss: 1.9773749329071841 \t Validation loss: 1.9806196406736212 \t \n",
      "\n",
      "1 epoch without improvement\n",
      " 13%|█▎        | 7462/57400 [22:22<2:15:11,  6.16it/s]\n",
      "Epoch 14 \t Training loss: 1.9745642401615502 \t Validation loss: 1.98045329724328 \t \n",
      "\n",
      "2 epoch without improvement\n",
      " 14%|█▍        | 8036/57400 [23:52<1:59:30,  6.88it/s]\n",
      "Epoch 15 \t Training loss: 1.9739842865525223 \t Validation loss: 1.9843915923167084 \t \n",
      "\n",
      "3 epoch without improvement\n",
      " 15%|█▌        | 8610/57400 [25:24<2:04:08,  6.55it/s]\n",
      "Epoch 16 \t Training loss: 1.974572313994896 \t Validation loss: 1.982798756179163 \t \n",
      "\n",
      "4 epoch without improvement\n",
      " 16%|█▌        | 9184/57400 [26:54<2:04:14,  6.47it/s]\n",
      "Epoch 17 \t Training loss: 1.9713209755329304 \t Validation loss: 1.9802426766541044 \t \n",
      "\n",
      "5 epoch without improvement\n",
      " 17%|█▋        | 9758/57400 [28:25<1:57:09,  6.78it/s]\n",
      "Epoch 18 \t Training loss: 1.9718929489730543 \t Validation loss: 1.9755848120834867 \t \n",
      "\n",
      "6 epoch without improvement\n",
      " 18%|█▊        | 10332/57400 [29:56<2:00:03,  6.53it/s]\n",
      "Epoch 19 \t Training loss: 1.9713506675763413 \t Validation loss: 1.978036207667852 \t \n",
      "\n",
      "7 epoch without improvement\n",
      " 19%|█▉        | 10906/57400 [31:27<2:01:39,  6.37it/s]\n",
      "Epoch 20 \t Training loss: 1.9690613960555206 \t Validation loss: 1.9764010784989696 \t \n",
      "\n",
      "8 epoch without improvement\n",
      " 20%|██        | 11480/57400 [32:58<2:02:39,  6.24it/s]\n",
      "Epoch 21 \t Training loss: 1.9676893014941066 \t Validation loss: 1.9820102271387132 \t \n",
      "\n",
      "9 epoch without improvement\n",
      " 21%|██        | 12054/57400 [34:29<1:55:33,  6.54it/s]\n",
      "Epoch 22 \t Training loss: 1.965998841287367 \t Validation loss: 1.9775946968692844 \t \n",
      "\n",
      "10 epoch without improvement\n",
      "Validation_loss hasn't improve in 10 epoch. Stopping training after 22 epochs...\n"
     ]
    },
    {
     "data": {
      "image/png": "[encoded data removed]",
      "text/plain": [
       "<Figure size 640x480 with 1 Axes>"
      ]
     },
     "metadata": {},
     "output_type": "display_data"
    }
   ],
   "source": [
    "learning_rate = 5e-5\n",
    "optimizer = SGD(model.parameters(), lr=learning_rate, momentum=0.9)\n",
    "num_epochs = 100\n",
    "train.train_function_multi(model,num_epochs,dl_train,optimizer,early_stop = 10,dl_val = dl_val,save_path=save_path)"
   ]
  },
  {
   "cell_type": "code",
   "execution_count": 15,
   "metadata": {},
   "outputs": [
    {
     "name": "stderr",
     "output_type": "stream",
     "text": [
      "Some weights of the model checkpoint at bert-base-cased were not used when initializing BertModel: ['cls.predictions.transform.dense.bias', 'cls.seq_relationship.weight', 'cls.predictions.transform.LayerNorm.weight', 'cls.predictions.decoder.weight', 'cls.seq_relationship.bias', 'cls.predictions.transform.dense.weight', 'cls.predictions.bias', 'cls.predictions.transform.LayerNorm.bias']\n",
      "- This IS expected if you are initializing BertModel from the checkpoint of a model trained on another task or with another architecture (e.g. initializing a BertForSequenceClassification model from a BertForPreTraining model).\n",
      "- This IS NOT expected if you are initializing BertModel from the checkpoint of a model that you expect to be exactly identical (initializing a BertForSequenceClassification model from a BertForSequenceClassification model).\n"
     ]
    },
    {
     "name": "stdout",
     "output_type": "stream",
     "text": [
      "Accuracy evaluando en todas las etiquetas\n",
      "{'to': 0.6843434343434344, 'as': 0.7079530638852672, 'about': 0.8341836734693877}\n",
      "Accuracy evaluando en etiquetas female\n",
      "{'to': 0.6640419947506562, 'as': 0.7196765498652291, 'about': 0.835}\n",
      "Accuracy evaluando en etiquetas male\n",
      "{'to': 0.7031630170316302, 'as': 0.696969696969697, 'about': 0.8333333333333334}\n"
     ]
    }
   ],
   "source": [
    "model = mt.MultiWithDependencies(model_conf,vocab).to(device)\n",
    "model.load_state_dict(torch.load(save_path))\n",
    "\n",
    "print(\"Accuracy evaluando en todas las etiquetas\")\n",
    "print(train.eval_function_multi(model,dl_eval,tasks))\n",
    "print(\"Accuracy evaluando en etiquetas female\")\n",
    "print(train.eval_function_multi(model,dl_eval,tasks,'female'))\n",
    "print(\"Accuracy evaluando en etiquetas male\")\n",
    "print(train.eval_function_multi(model,dl_eval,tasks,'male'))"
   ]
  }
 ],
 "metadata": {
  "kernelspec": {
   "display_name": "tfg",
   "language": "python",
   "name": "python3"
  },
  "language_info": {
   "codemirror_mode": {
    "name": "ipython",
    "version": 3
   },
   "file_extension": ".py",
   "mimetype": "text/x-python",
   "name": "python",
   "nbconvert_exporter": "python",
   "pygments_lexer": "ipython3",
   "version": "3.9.13"
  },
  "orig_nbformat": 4,
  "vscode": {
   "interpreter": {
    "hash": "35e8332e99bdf485583869dfbdef293dcf2f9293b1663ec5daea0a573af457c3"
   }
  }
 },
 "nbformat": 4,
 "nbformat_minor": 2
}
