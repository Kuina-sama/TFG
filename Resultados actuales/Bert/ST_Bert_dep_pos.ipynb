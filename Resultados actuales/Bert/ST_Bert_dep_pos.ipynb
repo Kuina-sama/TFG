{
 "cells": [
  {
   "cell_type": "code",
   "execution_count": 1,
   "metadata": {},
   "outputs": [],
   "source": [
    "import torch\n",
    "from torch.utils.data import DataLoader\n",
    "from torch.optim import AdamW, SGD \n",
    "\n",
    "\n",
    "\n",
    "\n",
    "import json\n",
    "\n"
   ]
  },
  {
   "cell_type": "code",
   "execution_count": 2,
   "metadata": {},
   "outputs": [],
   "source": [
    "import utils_generic as generic\n",
    "import singletask_dep as st\n",
    "import model_confs as confs\n",
    "\n",
    "\n",
    "import train_dep as train"
   ]
  },
  {
   "cell_type": "code",
   "execution_count": 3,
   "metadata": {},
   "outputs": [
    {
     "data": {
      "text/plain": [
       "<torch._C.Generator at 0x2713ec16810>"
      ]
     },
     "execution_count": 3,
     "metadata": {},
     "output_type": "execute_result"
    }
   ],
   "source": [
    "device = torch.device(\"cuda\") if torch.cuda.is_available() else torch.device(\"cpu\")\n",
    "torch.manual_seed(27)"
   ]
  },
  {
   "cell_type": "code",
   "execution_count": 4,
   "metadata": {},
   "outputs": [],
   "source": [
    "model_conf = confs.bert_conf\n",
    "encoding_type = 'pos'"
   ]
  },
  {
   "attachments": {},
   "cell_type": "markdown",
   "metadata": {},
   "source": [
    "# Datos ConvAI2"
   ]
  },
  {
   "cell_type": "code",
   "execution_count": 5,
   "metadata": {},
   "outputs": [],
   "source": [
    "with open('Datasets\\ConvAI2\\convai2_complete.json','r') as f:\n",
    "    data = json.load(f)"
   ]
  },
  {
   "cell_type": "code",
   "execution_count": 6,
   "metadata": {},
   "outputs": [],
   "source": [
    "vocab = st.Vocabulary(data['train'],encoding_type)"
   ]
  },
  {
   "cell_type": "code",
   "execution_count": 7,
   "metadata": {},
   "outputs": [],
   "source": [
    "convai_train = data['train']\n",
    "convai_val = data['validation']\n",
    "\n",
    "\n",
    "\n",
    "convai_train_token = generic.tokenize_dataset_with_dependencies(convai_train,['about','to','as'],vocab,model_conf) \n",
    "convai_val_token = generic.tokenize_dataset_with_dependencies(convai_val,['about','to','as'],vocab,model_conf) "
   ]
  },
  {
   "cell_type": "code",
   "execution_count": 8,
   "metadata": {},
   "outputs": [],
   "source": [
    "convai_train_dataset = {}\n",
    "for task in ['to','as','about']:\n",
    "    convai_train_dataset[task] = st.DatasetSingleTaskDep(convai_train_token,task,eval=False)"
   ]
  },
  {
   "cell_type": "code",
   "execution_count": 9,
   "metadata": {},
   "outputs": [],
   "source": [
    "convai_val_dataset = {}\n",
    "for task in ['to','as','about']:\n",
    "    convai_val_dataset[task] = st.DatasetSingleTaskDep(convai_val_token,task,eval=False)"
   ]
  },
  {
   "attachments": {},
   "cell_type": "markdown",
   "metadata": {},
   "source": [
    "# Datos md_gender"
   ]
  },
  {
   "cell_type": "code",
   "execution_count": 10,
   "metadata": {},
   "outputs": [],
   "source": [
    "with open('Datasets\\md_gender\\md_complete.json','r',encoding=\"utf8\") as f:\n",
    "    md_data = json.load(f)"
   ]
  },
  {
   "cell_type": "code",
   "execution_count": 11,
   "metadata": {},
   "outputs": [],
   "source": [
    "md_tokenized = generic.tokenize_dataset_with_dependencies(md_data,['about','to','as'],vocab,model_conf) \n",
    "\n",
    "\n",
    "md_dataset = {}\n",
    "for task in ['to','as','about']:\n",
    "    md_dataset[task] = st.DatasetSingleTaskDep(md_tokenized,task,eval=True)"
   ]
  },
  {
   "attachments": {},
   "cell_type": "markdown",
   "metadata": {},
   "source": [
    "# Creación dataloaders"
   ]
  },
  {
   "cell_type": "code",
   "execution_count": 12,
   "metadata": {},
   "outputs": [],
   "source": [
    "dl_train = {}\n",
    "for task in ['to','as','about']:\n",
    "    dl_train[task] = DataLoader(convai_train_dataset[task],batch_size=128,shuffle=True,collate_fn=st.collate_fn)"
   ]
  },
  {
   "cell_type": "code",
   "execution_count": 13,
   "metadata": {},
   "outputs": [],
   "source": [
    "dl_val = {}\n",
    "for task in ['to','as','about']:\n",
    "    dl_val[task] = DataLoader(convai_val_dataset[task],batch_size=128,shuffle=True,collate_fn=st.collate_fn)"
   ]
  },
  {
   "cell_type": "code",
   "execution_count": 14,
   "metadata": {},
   "outputs": [],
   "source": [
    "dl_eval = {}\n",
    "for task in ['to','as','about']:\n",
    "    dl_eval[task] = DataLoader(md_dataset[task],batch_size=128,shuffle=False,collate_fn=st.collate_fn)"
   ]
  },
  {
   "attachments": {},
   "cell_type": "markdown",
   "metadata": {},
   "source": [
    "# ABOUT"
   ]
  },
  {
   "cell_type": "code",
   "execution_count": 15,
   "metadata": {},
   "outputs": [
    {
     "name": "stderr",
     "output_type": "stream",
     "text": [
      "Some weights of the model checkpoint at bert-base-cased were not used when initializing BertModel: ['cls.predictions.bias', 'cls.predictions.transform.LayerNorm.weight', 'cls.predictions.transform.LayerNorm.bias', 'cls.seq_relationship.weight', 'cls.predictions.transform.dense.bias', 'cls.seq_relationship.bias', 'cls.predictions.transform.dense.weight', 'cls.predictions.decoder.weight']\n",
      "- This IS expected if you are initializing BertModel from the checkpoint of a model trained on another task or with another architecture (e.g. initializing a BertForSequenceClassification model from a BertForPreTraining model).\n",
      "- This IS NOT expected if you are initializing BertModel from the checkpoint of a model that you expect to be exactly identical (initializing a BertForSequenceClassification model from a BertForSequenceClassification model).\n"
     ]
    }
   ],
   "source": [
    "model = st.SingleTaskDep(model_conf,vocab).to(device)\n",
    "save_path='m1_dep_bert_about_pos'"
   ]
  },
  {
   "cell_type": "code",
   "execution_count": 16,
   "metadata": {},
   "outputs": [
    {
     "name": "stdout",
     "output_type": "stream",
     "text": [
      "Using scikit learn accuracy por género en el conjunto about\n",
      "GLOBAL: 0.49489795918367346\n",
      "MALE 0.9921875\n",
      "FEMALE 0.0175 \n",
      "\n",
      "Using scikit learn accuracy por género en el conjunto to\n",
      "GLOBAL: 0.5202020202020202\n",
      "MALE 0.9854014598540146\n",
      "FEMALE 0.01837270341207349 \n",
      "\n",
      "Using scikit learn accuracy por género en el conjunto as\n",
      "GLOBAL: 0.5176010430247718\n",
      "MALE 0.9823232323232324\n",
      "FEMALE 0.0215633423180593 \n",
      "\n"
     ]
    }
   ],
   "source": [
    "for task in ['about','to','as']:\n",
    "    print(f\"Using scikit learn accuracy por género en el conjunto {task}\")\n",
    "    print(f\"GLOBAL: {train.eval_function_single_sk(model,dl_eval[task])}\")\n",
    "    print(f\"MALE {train.eval_function_single_sk(model,dl_eval[task],gender='male')}\")\n",
    "    print(f\"FEMALE {train.eval_function_single_sk(model,dl_eval[task],gender='female')}\",'\\n')"
   ]
  },
  {
   "cell_type": "code",
   "execution_count": 17,
   "metadata": {},
   "outputs": [
    {
     "data": {
      "application/vnd.jupyter.widget-view+json": {
       "model_id": "7726baaac5ac474189e3b6479bfd723e",
       "version_major": 2,
       "version_minor": 0
      },
      "text/plain": [
       "  0%|          | 0/57400 [00:00<?, ?it/s]"
      ]
     },
     "metadata": {},
     "output_type": "display_data"
    },
    {
     "name": "stdout",
     "output_type": "stream",
     "text": [
      "Epoch 1 \t Training loss: 0.6814840634317764 \t Validation loss: 0.6785167920387397 \t \n",
      "  1%|          | 574/57400 [01:27<2:14:16,  7.05it/s]\n",
      "Epoch 2 \t Training loss: 0.6718538430509667 \t Validation loss: 0.665443111274202 \t \n",
      "  2%|▏         | 1148/57400 [02:51<2:12:19,  7.09it/s]\n",
      "Epoch 3 \t Training loss: 0.6502987782921941 \t Validation loss: 0.6264585418216253 \t \n",
      "  3%|▎         | 1722/57400 [04:16<2:08:17,  7.23it/s]\n",
      "Epoch 4 \t Training loss: 0.5844076270114255 \t Validation loss: 0.5283687437995005 \t \n",
      "  4%|▍         | 2296/57400 [05:42<2:15:36,  6.77it/s]\n",
      "Epoch 5 \t Training loss: 0.489255964392569 \t Validation loss: 0.4455430255097858 \t \n",
      "  5%|▌         | 2870/57400 [07:07<2:07:13,  7.14it/s]\n",
      "Epoch 6 \t Training loss: 0.432343442836705 \t Validation loss: 0.40369123826592657 \t \n",
      "  6%|▌         | 3444/57400 [08:33<2:07:03,  7.08it/s]\n",
      "Epoch 7 \t Training loss: 0.4019493297105882 \t Validation loss: 0.37914933289511726 \t \n",
      "  7%|▋         | 4018/57400 [09:58<2:09:33,  6.87it/s]\n",
      "Epoch 8 \t Training loss: 0.3848090010860656 \t Validation loss: 0.3651050071595079 \t \n",
      "  8%|▊         | 4592/57400 [11:24<1:59:18,  7.38it/s]\n",
      "Epoch 9 \t Training loss: 0.3710191713756385 \t Validation loss: 0.35453845686831714 \t \n",
      "  9%|▉         | 5166/57400 [12:50<2:05:30,  6.94it/s]\n",
      "Epoch 10 \t Training loss: 0.3626448966900231 \t Validation loss: 0.34864625006409017 \t \n",
      " 10%|█         | 5740/57400 [14:16<2:02:36,  7.02it/s]\n",
      "Epoch 11 \t Training loss: 0.35447505108674643 \t Validation loss: 0.34239528012477743 \t \n",
      " 11%|█         | 6314/57400 [15:41<2:03:51,  6.87it/s]\n",
      "Epoch 12 \t Training loss: 0.34915924007365096 \t Validation loss: 0.3383210306450472 \t \n",
      " 12%|█▏        | 6888/57400 [17:05<2:01:14,  6.94it/s]\n",
      "Epoch 13 \t Training loss: 0.3420236490225543 \t Validation loss: 0.3344306422997329 \t \n",
      " 13%|█▎        | 7462/57400 [18:29<1:58:40,  7.01it/s]\n",
      "Epoch 14 \t Training loss: 0.33671849937492965 \t Validation loss: 0.3296014211945615 \t \n",
      " 14%|█▍        | 8036/57400 [19:54<1:35:50,  8.58it/s]\n",
      "Epoch 15 \t Training loss: 0.33314757547519763 \t Validation loss: 0.32872567894095084 \t \n",
      " 15%|█▌        | 8610/57400 [21:18<1:49:24,  7.43it/s]\n",
      "Epoch 16 \t Training loss: 0.3282552694038647 \t Validation loss: 0.3252068962586128 \t \n",
      " 16%|█▌        | 9184/57400 [22:41<2:00:59,  6.64it/s]\n",
      "Epoch 17 \t Training loss: 0.32345695450953904 \t Validation loss: 0.3236371748528238 \t \n",
      " 17%|█▋        | 9758/57400 [24:05<1:53:18,  7.01it/s]\n",
      "Epoch 18 \t Training loss: 0.3202401645715228 \t Validation loss: 0.32055621126950795 \t \n",
      " 18%|█▊        | 10332/57400 [25:29<1:51:45,  7.02it/s]\n",
      "Epoch 19 \t Training loss: 0.316937378812127 \t Validation loss: 0.3178218752145767 \t \n",
      " 19%|█▉        | 10906/57400 [26:53<1:50:24,  7.02it/s]\n",
      "Epoch 20 \t Training loss: 0.31200649643816597 \t Validation loss: 0.3157751156111895 \t \n",
      " 20%|██        | 11480/57400 [28:17<1:42:06,  7.50it/s]\n",
      "Epoch 21 \t Training loss: 0.30923719405608724 \t Validation loss: 0.3148254360687935 \t \n",
      " 21%|██        | 12054/57400 [29:41<1:40:41,  7.51it/s]\n",
      "Epoch 22 \t Training loss: 0.3071162882374554 \t Validation loss: 0.3156447680824894 \t \n",
      " 22%|██▏       | 12628/57400 [31:05<1:28:36,  8.42it/s]\n",
      "Epoch 23 \t Training loss: 0.3021459370488074 \t Validation loss: 0.3119124681767771 \t \n",
      " 23%|██▎       | 13202/57400 [32:29<1:48:37,  6.78it/s]\n",
      "Epoch 24 \t Training loss: 0.30001391556100976 \t Validation loss: 0.3110747852567899 \t \n",
      " 24%|██▍       | 13776/57400 [33:52<1:36:44,  7.52it/s]\n",
      "Epoch 25 \t Training loss: 0.2978944643708887 \t Validation loss: 0.3093452387947147 \t \n",
      " 25%|██▌       | 14350/57400 [35:17<1:44:14,  6.88it/s]\n",
      "Epoch 26 \t Training loss: 0.29462470290760545 \t Validation loss: 0.3083849132566129 \t \n",
      " 26%|██▌       | 14924/57400 [36:41<1:22:11,  8.61it/s]\n",
      "Epoch 27 \t Training loss: 0.29444099183905 \t Validation loss: 0.30954728338678006 \t \n",
      "\n",
      "1 epoch without improvement\n",
      " 27%|██▋       | 15498/57400 [38:05<1:37:27,  7.17it/s]\n",
      "Epoch 28 \t Training loss: 0.2904976499672551 \t Validation loss: 0.3052680636361494 \t \n",
      " 28%|██▊       | 16072/57400 [39:31<1:36:33,  7.13it/s]\n",
      "Epoch 29 \t Training loss: 0.286878850324021 \t Validation loss: 0.30565726453975095 \t \n",
      " 29%|██▉       | 16646/57400 [40:58<1:32:54,  7.31it/s]\n",
      "Epoch 30 \t Training loss: 0.28596300174861833 \t Validation loss: 0.30786679205247913 \t \n",
      "\n",
      "1 epoch without improvement\n",
      " 30%|███       | 17220/57400 [42:24<1:21:27,  8.22it/s]\n",
      "Epoch 31 \t Training loss: 0.2849451856953757 \t Validation loss: 0.3027432437165309 \t \n",
      " 31%|███       | 17794/57400 [43:50<1:38:16,  6.72it/s]\n",
      "Epoch 32 \t Training loss: 0.2817617368718888 \t Validation loss: 0.304005130367764 \t \n",
      "\n",
      "1 epoch without improvement\n",
      " 32%|███▏      | 18368/57400 [45:15<1:35:43,  6.80it/s]\n",
      "Epoch 33 \t Training loss: 0.2799623125988847 \t Validation loss: 0.3007367258354769 \t \n",
      " 33%|███▎      | 18942/57400 [46:41<1:34:01,  6.82it/s]\n",
      "Epoch 34 \t Training loss: 0.27768398390414406 \t Validation loss: 0.30323426349688387 \t \n",
      "\n",
      "1 epoch without improvement\n",
      " 34%|███▍      | 19516/57400 [48:07<1:36:40,  6.53it/s]\n",
      "Epoch 35 \t Training loss: 0.27606309428551473 \t Validation loss: 0.3007911852860855 \t \n",
      " 35%|███▌      | 20090/57400 [49:33<1:28:56,  6.99it/s]\n",
      "Epoch 36 \t Training loss: 0.2735695888771828 \t Validation loss: 0.30000433780379215 \t \n",
      " 36%|███▌      | 20664/57400 [50:59<1:27:59,  6.96it/s]\n",
      "Epoch 37 \t Training loss: 0.2731356920629013 \t Validation loss: 0.2995705112057217 \t \n",
      " 37%|███▋      | 21238/57400 [52:25<1:26:32,  6.96it/s]\n",
      "Epoch 38 \t Training loss: 0.2709859036921624 \t Validation loss: 0.2989897697658862 \t \n",
      " 38%|███▊      | 21812/57400 [53:51<1:25:32,  6.93it/s]\n",
      "Epoch 39 \t Training loss: 0.2687981578583086 \t Validation loss: 0.29758514211339465 \t \n",
      " 39%|███▉      | 22386/57400 [55:16<1:18:58,  7.39it/s]\n",
      "Epoch 40 \t Training loss: 0.2687105239735663 \t Validation loss: 0.2994977864673582 \t \n",
      "\n",
      "1 epoch without improvement\n",
      " 40%|████      | 22960/57400 [56:39<1:20:42,  7.11it/s]\n",
      "Epoch 41 \t Training loss: 0.26556351799063566 \t Validation loss: 0.29972019488528623 \t \n",
      "\n",
      "2 epoch without improvement\n",
      " 41%|████      | 23534/57400 [58:03<1:17:10,  7.31it/s]\n",
      "Epoch 42 \t Training loss: 0.2653387440465884 \t Validation loss: 0.29769730264857663 \t \n",
      " 42%|████▏     | 24108/57400 [59:27<1:20:47,  6.87it/s]\n",
      "Epoch 43 \t Training loss: 0.26219670887296626 \t Validation loss: 0.30071011690770166 \t \n",
      "\n",
      "3 epoch without improvement\n",
      " 43%|████▎     | 24682/57400 [1:00:50<1:17:43,  7.02it/s]\n",
      "Epoch 44 \t Training loss: 0.26195431830367977 \t Validation loss: 0.2971930112374031 \t \n",
      " 44%|████▍     | 25256/57400 [1:02:14<1:07:46,  7.91it/s]\n",
      "Epoch 45 \t Training loss: 0.26020222764708856 \t Validation loss: 0.2958235280998683 \t \n",
      " 45%|████▌     | 25830/57400 [1:03:38<1:12:19,  7.27it/s]\n",
      "Epoch 46 \t Training loss: 0.2591748649338812 \t Validation loss: 0.29823137794510796 \t \n",
      "\n",
      "1 epoch without improvement\n",
      " 46%|████▌     | 26404/57400 [1:05:02<1:03:30,  8.14it/s]\n",
      "Epoch 47 \t Training loss: 0.25699165307686306 \t Validation loss: 0.29623276424610007 \t \n",
      " 47%|████▋     | 26978/57400 [1:06:25<1:12:39,  6.98it/s]\n",
      "Epoch 48 \t Training loss: 0.2548487520539802 \t Validation loss: 0.29758845345448637 \t \n",
      "\n",
      "2 epoch without improvement\n",
      " 48%|████▊     | 27552/57400 [1:07:49<1:08:05,  7.31it/s]\n",
      "Epoch 49 \t Training loss: 0.25564142796843725 \t Validation loss: 0.29649425462140877 \t \n",
      " 49%|████▉     | 28126/57400 [1:09:12<1:12:01,  6.77it/s]\n",
      "Epoch 50 \t Training loss: 0.2544248034522093 \t Validation loss: 0.29540775564767546 \t \n",
      " 50%|█████     | 28700/57400 [1:10:36<1:08:58,  6.94it/s]\n",
      "Epoch 51 \t Training loss: 0.25228159137407663 \t Validation loss: 0.2973534689616349 \t \n",
      "\n",
      "1 epoch without improvement\n",
      " 51%|█████     | 29274/57400 [1:12:00<1:03:21,  7.40it/s]\n",
      "Epoch 52 \t Training loss: 0.2514357075925903 \t Validation loss: 0.303713260818336 \t \n",
      "\n",
      "2 epoch without improvement\n",
      " 52%|█████▏    | 29848/57400 [1:13:23<1:04:57,  7.07it/s]\n",
      "Epoch 53 \t Training loss: 0.24929973020993873 \t Validation loss: 0.2958864347409394 \t \n",
      " 53%|█████▎    | 30422/57400 [1:14:47<1:03:31,  7.08it/s]\n",
      "Epoch 54 \t Training loss: 0.24962200426889214 \t Validation loss: 0.29600214806653685 \t \n",
      " 54%|█████▍    | 30996/57400 [1:16:10<55:36,  7.91it/s]\n",
      "Epoch 55 \t Training loss: 0.2480205981132253 \t Validation loss: 0.29524976697008487 \t \n",
      " 55%|█████▌    | 31570/57400 [1:17:34<57:20,  7.51it/s]\n",
      "Epoch 56 \t Training loss: 0.2479393123438134 \t Validation loss: 0.2945134745816053 \t \n",
      " 56%|█████▌    | 32144/57400 [1:18:59<1:01:47,  6.81it/s]\n",
      "Epoch 57 \t Training loss: 0.24795776592625973 \t Validation loss: 0.2924468615802668 \t \n",
      " 57%|█████▋    | 32718/57400 [1:20:23<47:39,  8.63it/s]\n",
      "Epoch 58 \t Training loss: 0.24654358827901635 \t Validation loss: 0.29447362281508366 \t \n",
      "\n",
      "1 epoch without improvement\n",
      " 58%|█████▊    | 33292/57400 [1:21:46<56:55,  7.06it/s]\n",
      "Epoch 59 \t Training loss: 0.24662462580390923 \t Validation loss: 0.2940944501404035 \t \n",
      "\n",
      "2 epoch without improvement\n",
      " 59%|█████▉    | 33866/57400 [1:23:10<57:56,  6.77it/s]\n",
      "Epoch 60 \t Training loss: 0.2433811554925367 \t Validation loss: 0.2946165560160653 \t \n",
      "\n",
      "3 epoch without improvement\n",
      " 60%|██████    | 34440/57400 [1:24:33<53:44,  7.12it/s]\n",
      "Epoch 61 \t Training loss: 0.24362788239059133 \t Validation loss: 0.29540467716879765 \t \n",
      "\n",
      "4 epoch without improvement\n",
      " 61%|██████    | 35014/57400 [1:25:56<52:27,  7.11it/s]\n",
      "Epoch 62 \t Training loss: 0.2421594406461882 \t Validation loss: 0.29521269868996186 \t \n",
      "\n",
      "5 epoch without improvement\n",
      " 62%|██████▏   | 35588/57400 [1:27:20<52:36,  6.91it/s]\n",
      "Epoch 63 \t Training loss: 0.24179012868358699 \t Validation loss: 0.2961800843477249 \t \n",
      "\n",
      "6 epoch without improvement\n",
      " 63%|██████▎   | 36162/57400 [1:28:43<48:27,  7.31it/s]\n",
      "Epoch 64 \t Training loss: 0.24026642946156476 \t Validation loss: 0.2932975418486838 \t \n",
      " 64%|██████▍   | 36736/57400 [1:30:08<1:07:22,  5.11it/s]\n",
      "Epoch 65 \t Training loss: 0.2395765159136327 \t Validation loss: 0.2956537425012912 \t \n",
      "\n",
      "7 epoch without improvement\n",
      " 65%|██████▌   | 37310/57400 [1:31:34<48:29,  6.91it/s]\n",
      "Epoch 66 \t Training loss: 0.23978274677740571 \t Validation loss: 0.2948539090358605 \t \n",
      "\n",
      "8 epoch without improvement\n",
      " 66%|██████▌   | 37884/57400 [1:32:59<42:38,  7.63it/s]\n",
      "Epoch 67 \t Training loss: 0.23764885588182388 \t Validation loss: 0.29534921984551316 \t \n",
      "\n",
      "9 epoch without improvement\n",
      " 67%|██████▋   | 38458/57400 [1:34:25<44:49,  7.04it/s]\n",
      "Epoch 68 \t Training loss: 0.23737908614221764 \t Validation loss: 0.29364904837083006 \t \n",
      "\n",
      "10 epoch without improvement\n",
      "Validation_loss hasn't improve in 10 epoch. Stopping training after 68 epochs...\n"
     ]
    },
    {
     "data": {
      "image/png": "[encoded data removed]",
      "text/plain": [
       "<Figure size 640x480 with 1 Axes>"
      ]
     },
     "metadata": {},
     "output_type": "display_data"
    }
   ],
   "source": [
    "learning_rate = 5e-5\n",
    "optimizer = SGD(model.parameters(), lr=learning_rate, momentum=0.9)\n",
    "num_epochs = 100\n",
    "\n",
    "train.train_function(model,num_epochs,dl_train['about'],optimizer,early_stop=10,dl_val=dl_val['about'],save_path=save_path)"
   ]
  },
  {
   "cell_type": "code",
   "execution_count": 18,
   "metadata": {},
   "outputs": [
    {
     "name": "stderr",
     "output_type": "stream",
     "text": [
      "Some weights of the model checkpoint at bert-base-cased were not used when initializing BertModel: ['cls.predictions.bias', 'cls.predictions.transform.LayerNorm.weight', 'cls.predictions.transform.LayerNorm.bias', 'cls.seq_relationship.weight', 'cls.predictions.transform.dense.bias', 'cls.seq_relationship.bias', 'cls.predictions.transform.dense.weight', 'cls.predictions.decoder.weight']\n",
      "- This IS expected if you are initializing BertModel from the checkpoint of a model trained on another task or with another architecture (e.g. initializing a BertForSequenceClassification model from a BertForPreTraining model).\n",
      "- This IS NOT expected if you are initializing BertModel from the checkpoint of a model that you expect to be exactly identical (initializing a BertForSequenceClassification model from a BertForSequenceClassification model).\n"
     ]
    },
    {
     "name": "stdout",
     "output_type": "stream",
     "text": [
      "Using scikit learn accuracy por género en el conjunto about\n",
      "GLOBAL: 0.8545918367346939\n",
      "MALE 0.8671875\n",
      "FEMALE 0.8425 \n",
      "\n",
      "Using scikit learn accuracy por género en el conjunto to\n",
      "GLOBAL: 0.6843434343434344\n",
      "MALE 0.708029197080292\n",
      "FEMALE 0.6587926509186351 \n",
      "\n",
      "Using scikit learn accuracy por género en el conjunto as\n",
      "GLOBAL: 0.6805736636245111\n",
      "MALE 0.7045454545454546\n",
      "FEMALE 0.6549865229110512 \n",
      "\n"
     ]
    }
   ],
   "source": [
    "model = st.SingleTaskDep(model_conf,vocab).to(device)\n",
    "model.load_state_dict(torch.load(save_path))\n",
    "for task in ['about','to','as']:\n",
    "    print(f\"Using scikit learn accuracy por género en el conjunto {task}\")\n",
    "    print(f\"GLOBAL: {train.eval_function_single_sk(model,dl_eval[task])}\")\n",
    "    print(f\"MALE {train.eval_function_single_sk(model,dl_eval[task],gender='male')}\")\n",
    "    print(f\"FEMALE {train.eval_function_single_sk(model,dl_eval[task],gender='female')}\",'\\n')"
   ]
  },
  {
   "attachments": {},
   "cell_type": "markdown",
   "metadata": {},
   "source": [
    "# TO"
   ]
  },
  {
   "cell_type": "code",
   "execution_count": 15,
   "metadata": {},
   "outputs": [
    {
     "name": "stderr",
     "output_type": "stream",
     "text": [
      "Some weights of the model checkpoint at bert-base-cased were not used when initializing BertModel: ['cls.predictions.transform.LayerNorm.weight', 'cls.predictions.transform.LayerNorm.bias', 'cls.predictions.transform.dense.bias', 'cls.seq_relationship.weight', 'cls.predictions.bias', 'cls.seq_relationship.bias', 'cls.predictions.decoder.weight', 'cls.predictions.transform.dense.weight']\n",
      "- This IS expected if you are initializing BertModel from the checkpoint of a model trained on another task or with another architecture (e.g. initializing a BertForSequenceClassification model from a BertForPreTraining model).\n",
      "- This IS NOT expected if you are initializing BertModel from the checkpoint of a model that you expect to be exactly identical (initializing a BertForSequenceClassification model from a BertForSequenceClassification model).\n"
     ]
    }
   ],
   "source": [
    "model = st.SingleTaskDep(model_conf,vocab).to(device)\n",
    "save_path='m1_dep_bert_to_pos'"
   ]
  },
  {
   "cell_type": "code",
   "execution_count": 16,
   "metadata": {},
   "outputs": [
    {
     "data": {
      "application/vnd.jupyter.widget-view+json": {
       "model_id": "f538df2d737a450f8928362f28d1061a",
       "version_major": 2,
       "version_minor": 0
      },
      "text/plain": [
       "  0%|          | 0/57400 [00:00<?, ?it/s]"
      ]
     },
     "metadata": {},
     "output_type": "display_data"
    },
    {
     "name": "stdout",
     "output_type": "stream",
     "text": [
      "Epoch 1 \t Training loss: 0.6957441842514464 \t Validation loss: 0.6942237716610149 \t \n",
      "  1%|          | 574/57400 [01:25<2:17:55,  6.87it/s]\n",
      "Epoch 2 \t Training loss: 0.6947356608894228 \t Validation loss: 0.6939229884390103 \t \n",
      "  2%|▏         | 1148/57400 [02:52<2:10:50,  7.17it/s]\n",
      "Epoch 3 \t Training loss: 0.6946462878782159 \t Validation loss: 0.6926888550742197 \t \n",
      "  3%|▎         | 1722/57400 [04:18<2:06:01,  7.36it/s]\n",
      "Epoch 4 \t Training loss: 0.6942889211692876 \t Validation loss: 0.6931716466354112 \t \n",
      "  4%|▍         | 2296/57400 [05:45<1:51:27,  8.24it/s]\n",
      "Epoch 5 \t Training loss: 0.6943104954546753 \t Validation loss: 0.6933562280768055 \t \n",
      "  5%|▌         | 2870/57400 [07:12<2:03:14,  7.37it/s]\n",
      "Epoch 6 \t Training loss: 0.6938981447070318 \t Validation loss: 0.693276546769223 \t \n",
      "  6%|▌         | 3444/57400 [08:39<2:02:04,  7.37it/s]\n",
      "Epoch 7 \t Training loss: 0.6941488004104601 \t Validation loss: 0.6924820865614939 \t \n",
      "  7%|▋         | 4018/57400 [10:06<2:06:38,  7.03it/s]\n",
      "Epoch 8 \t Training loss: 0.6938790938580077 \t Validation loss: 0.6926232636985132 \t \n",
      "  8%|▊         | 4592/57400 [11:33<2:11:34,  6.69it/s]\n",
      "Epoch 9 \t Training loss: 0.6938873154568755 \t Validation loss: 0.6931862699783454 \t \n",
      "  9%|▉         | 5166/57400 [12:59<2:00:18,  7.24it/s]\n",
      "Epoch 10 \t Training loss: 0.6938720454530019 \t Validation loss: 0.6934721712338723 \t \n",
      " 10%|█         | 5740/57400 [14:26<2:06:16,  6.82it/s]\n",
      "Epoch 11 \t Training loss: 0.6938477101433983 \t Validation loss: 0.6922840061834303 \t \n",
      " 11%|█         | 6314/57400 [15:53<2:01:13,  7.02it/s]\n",
      "Epoch 12 \t Training loss: 0.6938687627323828 \t Validation loss: 0.6932231107000577 \t \n",
      " 12%|█▏        | 6888/57400 [17:17<1:43:40,  8.12it/s]\n",
      "Epoch 13 \t Training loss: 0.6937726227248587 \t Validation loss: 0.6928424107826362 \t \n",
      " 13%|█▎        | 7462/57400 [18:41<1:56:56,  7.12it/s]\n",
      "Epoch 14 \t Training loss: 0.6939032284432587 \t Validation loss: 0.6926010200532816 \t \n",
      " 14%|█▍        | 8036/57400 [20:07<1:48:20,  7.59it/s]\n",
      "Epoch 15 \t Training loss: 0.6936461327383328 \t Validation loss: 0.694094377048945 \t \n",
      "\n",
      "1 epoch without improvement\n",
      " 15%|█▌        | 8610/57400 [21:32<1:59:38,  6.80it/s]\n",
      "Epoch 16 \t Training loss: 0.6938427385552834 \t Validation loss: 0.6932314199916387 \t \n",
      " 16%|█▌        | 9184/57400 [22:56<1:35:46,  8.39it/s]\n",
      "Epoch 17 \t Training loss: 0.6937162695446081 \t Validation loss: 0.6936715649346173 \t \n",
      "\n",
      "2 epoch without improvement\n",
      " 17%|█▋        | 9758/57400 [24:21<1:53:26,  7.00it/s]\n",
      "Epoch 18 \t Training loss: 0.6936627268168154 \t Validation loss: 0.692845918364444 \t \n",
      " 18%|█▊        | 10332/57400 [25:46<1:52:27,  6.98it/s]\n",
      "Epoch 19 \t Training loss: 0.6938597631579076 \t Validation loss: 0.692827988479097 \t \n",
      " 19%|█▉        | 10906/57400 [27:11<2:01:19,  6.39it/s]\n",
      "Epoch 20 \t Training loss: 0.6938285212898919 \t Validation loss: 0.6928225887023797 \t \n",
      " 20%|██        | 11480/57400 [28:36<1:54:56,  6.66it/s]\n",
      "Epoch 21 \t Training loss: 0.6933962947815553 \t Validation loss: 0.6924192046715041 \t \n",
      " 21%|██        | 12054/57400 [30:01<1:47:32,  7.03it/s]\n",
      "Epoch 22 \t Training loss: 0.6934863200171069 \t Validation loss: 0.6930352742389098 \t \n",
      " 22%|██▏       | 12628/57400 [31:26<1:49:43,  6.80it/s]\n",
      "Epoch 23 \t Training loss: 0.6936865040857202 \t Validation loss: 0.6926231364072379 \t \n",
      " 23%|██▎       | 13202/57400 [32:51<1:45:18,  7.00it/s]\n",
      "Epoch 24 \t Training loss: 0.6935572622129726 \t Validation loss: 0.6926288261251935 \t \n",
      " 24%|██▍       | 13776/57400 [34:16<2:04:08,  5.86it/s]\n",
      "Epoch 25 \t Training loss: 0.6935367046332941 \t Validation loss: 0.6930552215899451 \t \n",
      " 25%|██▌       | 14350/57400 [35:41<1:48:59,  6.58it/s]\n",
      "Epoch 26 \t Training loss: 0.693833905541523 \t Validation loss: 0.6928761571140613 \t \n",
      " 26%|██▌       | 14924/57400 [37:06<1:32:15,  7.67it/s]\n",
      "Epoch 27 \t Training loss: 0.6933637554221868 \t Validation loss: 0.6930720876839201 \t \n",
      " 27%|██▋       | 15498/57400 [38:32<1:39:03,  7.05it/s]\n",
      "Epoch 28 \t Training loss: 0.6935606751500106 \t Validation loss: 0.6928127317105309 \t \n",
      " 28%|██▊       | 16072/57400 [39:57<1:42:01,  6.75it/s]\n",
      "Epoch 29 \t Training loss: 0.6933678932721606 \t Validation loss: 0.6926255801976737 \t \n",
      " 29%|██▉       | 16646/57400 [41:22<1:33:55,  7.23it/s]\n",
      "Epoch 30 \t Training loss: 0.6932259625674125 \t Validation loss: 0.6920150114318072 \t \n",
      " 30%|███       | 17220/57400 [42:47<1:31:56,  7.28it/s]\n",
      "Epoch 31 \t Training loss: 0.693458692225845 \t Validation loss: 0.6933131894822848 \t \n",
      "\n",
      "1 epoch without improvement\n",
      " 31%|███       | 17794/57400 [44:12<1:18:40,  8.39it/s]\n",
      "Epoch 32 \t Training loss: 0.6933459339449215 \t Validation loss: 0.6930489398665347 \t \n",
      "\n",
      "2 epoch without improvement\n",
      " 32%|███▏      | 18368/57400 [45:38<1:30:59,  7.15it/s]\n",
      "Epoch 33 \t Training loss: 0.693615965726899 \t Validation loss: 0.6934920195805825 \t \n",
      "\n",
      "3 epoch without improvement\n",
      " 33%|███▎      | 18942/57400 [47:03<1:15:28,  8.49it/s]\n",
      "Epoch 34 \t Training loss: 0.6935072855874637 \t Validation loss: 0.6923355460166931 \t \n",
      " 34%|███▍      | 19516/57400 [48:29<1:31:23,  6.91it/s]\n",
      "Epoch 35 \t Training loss: 0.6934427615865182 \t Validation loss: 0.6933933658114935 \t \n",
      "\n",
      "4 epoch without improvement\n",
      " 35%|███▌      | 20090/57400 [49:53<1:27:41,  7.09it/s]\n",
      "Epoch 36 \t Training loss: 0.6934212901035668 \t Validation loss: 0.6926261711928804 \t \n",
      " 36%|███▌      | 20664/57400 [51:19<1:30:37,  6.76it/s]\n",
      "Epoch 37 \t Training loss: 0.6933288969852368 \t Validation loss: 0.6930317211959321 \t \n",
      "\n",
      "5 epoch without improvement\n",
      " 37%|███▋      | 21238/57400 [52:44<1:23:46,  7.19it/s]\n",
      "Epoch 38 \t Training loss: 0.6933734159436375 \t Validation loss: 0.6926037366107359 \t \n",
      " 38%|███▊      | 21812/57400 [54:10<1:41:04,  5.87it/s]\n",
      "Epoch 39 \t Training loss: 0.6934164469665767 \t Validation loss: 0.6928032303260545 \t \n",
      " 39%|███▉      | 22386/57400 [55:35<1:29:08,  6.55it/s]\n",
      "Epoch 40 \t Training loss: 0.6934370689275788 \t Validation loss: 0.692252465223862 \t \n",
      " 40%|████      | 22960/57400 [57:00<1:12:12,  7.95it/s]\n",
      "Epoch 41 \t Training loss: 0.6931520222786827 \t Validation loss: 0.6938077383122202 \t \n",
      "\n",
      "6 epoch without improvement\n",
      " 41%|████      | 23534/57400 [58:26<1:29:27,  6.31it/s]\n",
      "Epoch 42 \t Training loss: 0.6932961382101637 \t Validation loss: 0.6925195112066754 \t \n",
      " 42%|████▏     | 24108/57400 [59:51<1:16:57,  7.21it/s]\n",
      "Epoch 43 \t Training loss: 0.6933105662724698 \t Validation loss: 0.6929408412868694 \t \n",
      " 43%|████▎     | 24682/57400 [1:01:16<1:20:44,  6.75it/s]\n",
      "Epoch 44 \t Training loss: 0.693353120873614 \t Validation loss: 0.6923161260152267 \t \n",
      " 44%|████▍     | 25256/57400 [1:02:41<1:15:57,  7.05it/s]\n",
      "Epoch 45 \t Training loss: 0.693191442443934 \t Validation loss: 0.6928045093002966 \t \n",
      " 45%|████▌     | 25830/57400 [1:04:06<1:12:24,  7.27it/s]\n",
      "Epoch 46 \t Training loss: 0.6934028492156636 \t Validation loss: 0.6927076810497349 \t \n",
      " 46%|████▌     | 26404/57400 [1:05:32<1:15:15,  6.86it/s]\n",
      "Epoch 47 \t Training loss: 0.6933038761183775 \t Validation loss: 0.6926324327113265 \t \n",
      " 47%|████▋     | 26978/57400 [1:06:57<1:12:28,  7.00it/s]\n",
      "Epoch 48 \t Training loss: 0.6934148263225157 \t Validation loss: 0.6924982555841995 \t \n",
      " 48%|████▊     | 27552/57400 [1:08:22<1:15:28,  6.59it/s]\n",
      "Epoch 49 \t Training loss: 0.6932097875905785 \t Validation loss: 0.6933377395241948 \t \n",
      "\n",
      "7 epoch without improvement\n",
      " 49%|████▉     | 28126/57400 [1:09:48<1:07:23,  7.24it/s]\n",
      "Epoch 50 \t Training loss: 0.6932712588783756 \t Validation loss: 0.6925748111838002 \t \n",
      " 50%|█████     | 28700/57400 [1:11:13<1:06:52,  7.15it/s]\n",
      "Epoch 51 \t Training loss: 0.6934315191536415 \t Validation loss: 0.6920193878270812 \t \n",
      " 51%|█████     | 29274/57400 [1:12:38<1:10:44,  6.63it/s]\n",
      "Epoch 52 \t Training loss: 0.6934699132675077 \t Validation loss: 0.6921017079030053 \t \n",
      " 52%|█████▏    | 29848/57400 [1:14:03<1:06:45,  6.88it/s]\n",
      "Epoch 53 \t Training loss: 0.6933018828933663 \t Validation loss: 0.6934937733714863 \t \n",
      "\n",
      "8 epoch without improvement\n",
      " 53%|█████▎    | 30422/57400 [1:15:28<1:08:05,  6.60it/s]\n",
      "Epoch 54 \t Training loss: 0.6932127346975878 \t Validation loss: 0.6932608313479666 \t \n",
      "\n",
      "9 epoch without improvement\n",
      " 54%|█████▍    | 30996/57400 [1:16:54<1:07:24,  6.53it/s]\n",
      "Epoch 55 \t Training loss: 0.6932096471977566 \t Validation loss: 0.6928015442217811 \t \n",
      " 55%|█████▌    | 31570/57400 [1:18:19<1:00:47,  7.08it/s]\n",
      "Epoch 56 \t Training loss: 0.6931967800710259 \t Validation loss: 0.6925845600790896 \t \n",
      " 56%|█████▌    | 32144/57400 [1:19:44<1:00:42,  6.93it/s]\n",
      "Epoch 57 \t Training loss: 0.6929487980616633 \t Validation loss: 0.6923222006377527 \t \n",
      " 57%|█████▋    | 32718/57400 [1:21:10<52:02,  7.90it/s]\n",
      "Epoch 58 \t Training loss: 0.693416814147803 \t Validation loss: 0.6926071855981472 \t \n",
      " 58%|█████▊    | 33292/57400 [1:22:35<54:10,  7.42it/s]\n",
      "Epoch 59 \t Training loss: 0.6933005671260248 \t Validation loss: 0.6930647633843503 \t \n",
      "\n",
      "10 epoch without improvement\n",
      "Validation_loss hasn't improve in 10 epoch. Stopping training after 59 epochs...\n"
     ]
    },
    {
     "data": {
      "image/png": "[encoded data removed]",
      "text/plain": [
       "<Figure size 640x480 with 1 Axes>"
      ]
     },
     "metadata": {},
     "output_type": "display_data"
    }
   ],
   "source": [
    "learning_rate = 5e-5\n",
    "optimizer = SGD(model.parameters(), lr=learning_rate, momentum=0.9)\n",
    "num_epochs = 100\n",
    "\n",
    "train.train_function(model,num_epochs,dl_train['to'],optimizer,early_stop=10,dl_val=dl_val['to'],save_path=save_path)"
   ]
  },
  {
   "cell_type": "code",
   "execution_count": 17,
   "metadata": {},
   "outputs": [
    {
     "name": "stderr",
     "output_type": "stream",
     "text": [
      "Some weights of the model checkpoint at bert-base-cased were not used when initializing BertModel: ['cls.predictions.transform.LayerNorm.weight', 'cls.predictions.transform.LayerNorm.bias', 'cls.predictions.transform.dense.bias', 'cls.seq_relationship.weight', 'cls.predictions.bias', 'cls.seq_relationship.bias', 'cls.predictions.decoder.weight', 'cls.predictions.transform.dense.weight']\n",
      "- This IS expected if you are initializing BertModel from the checkpoint of a model trained on another task or with another architecture (e.g. initializing a BertForSequenceClassification model from a BertForPreTraining model).\n",
      "- This IS NOT expected if you are initializing BertModel from the checkpoint of a model that you expect to be exactly identical (initializing a BertForSequenceClassification model from a BertForSequenceClassification model).\n"
     ]
    },
    {
     "name": "stdout",
     "output_type": "stream",
     "text": [
      "Using scikit learn accuracy por género en el conjunto about\n",
      "GLOBAL: 0.5369897959183674\n",
      "MALE 0.1640625\n",
      "FEMALE 0.895 \n",
      "\n",
      "Using scikit learn accuracy por género en el conjunto to\n",
      "GLOBAL: 0.5025252525252525\n",
      "MALE 0.13381995133819952\n",
      "FEMALE 0.9002624671916011 \n",
      "\n",
      "Using scikit learn accuracy por género en el conjunto as\n",
      "GLOBAL: 0.5136897001303781\n",
      "MALE 0.14898989898989898\n",
      "FEMALE 0.9029649595687331 \n",
      "\n"
     ]
    }
   ],
   "source": [
    "model = st.SingleTaskDep(model_conf,vocab).to(device)\n",
    "model.load_state_dict(torch.load(save_path))\n",
    "for task in ['about','to','as']:\n",
    "    print(f\"Using scikit learn accuracy por género en el conjunto {task}\")\n",
    "    print(f\"GLOBAL: {train.eval_function_single_sk(model,dl_eval[task])}\")\n",
    "    print(f\"MALE {train.eval_function_single_sk(model,dl_eval[task],gender='male')}\")\n",
    "    print(f\"FEMALE {train.eval_function_single_sk(model,dl_eval[task],gender='female')}\",'\\n')"
   ]
  },
  {
   "attachments": {},
   "cell_type": "markdown",
   "metadata": {},
   "source": [
    "# AS"
   ]
  },
  {
   "cell_type": "code",
   "execution_count": 18,
   "metadata": {},
   "outputs": [
    {
     "name": "stderr",
     "output_type": "stream",
     "text": [
      "Some weights of the model checkpoint at bert-base-cased were not used when initializing BertModel: ['cls.predictions.transform.LayerNorm.weight', 'cls.predictions.transform.LayerNorm.bias', 'cls.predictions.transform.dense.bias', 'cls.seq_relationship.weight', 'cls.predictions.bias', 'cls.seq_relationship.bias', 'cls.predictions.decoder.weight', 'cls.predictions.transform.dense.weight']\n",
      "- This IS expected if you are initializing BertModel from the checkpoint of a model trained on another task or with another architecture (e.g. initializing a BertForSequenceClassification model from a BertForPreTraining model).\n",
      "- This IS NOT expected if you are initializing BertModel from the checkpoint of a model that you expect to be exactly identical (initializing a BertForSequenceClassification model from a BertForSequenceClassification model).\n"
     ]
    }
   ],
   "source": [
    "model = st.SingleTaskDep(model_conf,vocab).to(device)\n",
    "save_path='m1_dep_bert_as_pos'"
   ]
  },
  {
   "cell_type": "code",
   "execution_count": 19,
   "metadata": {},
   "outputs": [
    {
     "data": {
      "application/vnd.jupyter.widget-view+json": {
       "model_id": "63cb97368b4b48b082afd723fe5a5abb",
       "version_major": 2,
       "version_minor": 0
      },
      "text/plain": [
       "  0%|          | 0/57400 [00:00<?, ?it/s]"
      ]
     },
     "metadata": {},
     "output_type": "display_data"
    },
    {
     "name": "stdout",
     "output_type": "stream",
     "text": [
      "Epoch 1 \t Training loss: 0.6945153027253699 \t Validation loss: 0.6933044366917368 \t \n",
      "  1%|          | 574/57400 [01:27<2:16:41,  6.93it/s]\n",
      "Epoch 2 \t Training loss: 0.6946542920343551 \t Validation loss: 0.6944583846350848 \t \n",
      "\n",
      "1 epoch without improvement\n",
      "  2%|▏         | 1148/57400 [02:53<2:23:15,  6.54it/s]\n",
      "Epoch 3 \t Training loss: 0.6944301258188507 \t Validation loss: 0.6935979340036037 \t \n",
      "  3%|▎         | 1722/57400 [04:21<2:16:58,  6.77it/s]\n",
      "Epoch 4 \t Training loss: 0.693705680686007 \t Validation loss: 0.6929515206207664 \t \n",
      "  4%|▍         | 2296/57400 [05:48<2:02:27,  7.50it/s]\n",
      "Epoch 5 \t Training loss: 0.6936304033425627 \t Validation loss: 0.6923148702766936 \t \n",
      "  5%|▌         | 2870/57400 [07:16<1:59:40,  7.59it/s]\n",
      "Epoch 6 \t Training loss: 0.6937496668370343 \t Validation loss: 0.693273533198793 \t \n",
      "  6%|▌         | 3444/57400 [08:43<1:59:19,  7.54it/s]\n",
      "Epoch 7 \t Training loss: 0.693642351477819 \t Validation loss: 0.6927063929832588 \t \n",
      "  7%|▋         | 4018/57400 [10:10<2:15:55,  6.55it/s]\n",
      "Epoch 8 \t Training loss: 0.693454331325737 \t Validation loss: 0.6925307391053539 \t \n",
      "  8%|▊         | 4592/57400 [11:38<2:06:27,  6.96it/s]\n",
      "Epoch 9 \t Training loss: 0.6934333616017464 \t Validation loss: 0.6921025666139894 \t \n",
      "  9%|▉         | 5166/57400 [13:07<1:51:34,  7.80it/s]\n",
      "Epoch 10 \t Training loss: 0.6930041500084907 \t Validation loss: 0.691730647774066 \t \n",
      " 10%|█         | 5740/57400 [14:35<2:06:49,  6.79it/s]\n",
      "Epoch 11 \t Training loss: 0.6933317528161438 \t Validation loss: 0.6920041997553938 \t \n",
      " 11%|█         | 6314/57400 [16:00<2:03:38,  6.89it/s]\n",
      "Epoch 12 \t Training loss: 0.6929385977755025 \t Validation loss: 0.692846977104575 \t \n",
      "\n",
      "1 epoch without improvement\n",
      " 12%|█▏        | 6888/57400 [17:26<2:00:19,  7.00it/s]\n",
      "Epoch 13 \t Training loss: 0.6931893143296657 \t Validation loss: 0.6929810885655678 \t \n",
      "\n",
      "2 epoch without improvement\n",
      " 13%|█▎        | 7462/57400 [18:51<1:41:20,  8.21it/s]\n",
      "Epoch 14 \t Training loss: 0.6926901891879503 \t Validation loss: 0.6918494246773801 \t \n",
      " 14%|█▍        | 8036/57400 [20:16<1:56:33,  7.06it/s]\n",
      "Epoch 15 \t Training loss: 0.692570495273178 \t Validation loss: 0.6922815543110088 \t \n",
      " 15%|█▌        | 8610/57400 [21:41<1:55:57,  7.01it/s]\n",
      "Epoch 16 \t Training loss: 0.692975944239088 \t Validation loss: 0.6929159518015586 \t \n",
      "\n",
      "3 epoch without improvement\n",
      " 16%|█▌        | 9184/57400 [23:06<1:59:32,  6.72it/s]\n",
      "Epoch 17 \t Training loss: 0.6924292113930506 \t Validation loss: 0.6928529567637686 \t \n",
      "\n",
      "4 epoch without improvement\n",
      " 17%|█▋        | 9758/57400 [24:31<2:07:58,  6.20it/s]\n",
      "Epoch 18 \t Training loss: 0.6924499361564889 \t Validation loss: 0.6917312670562227 \t \n",
      " 18%|█▊        | 10332/57400 [25:57<1:41:28,  7.73it/s]\n",
      "Epoch 19 \t Training loss: 0.6924888361829499 \t Validation loss: 0.6934491800049604 \t \n",
      "\n",
      "5 epoch without improvement\n",
      " 19%|█▉        | 10906/57400 [27:22<1:46:13,  7.29it/s]\n",
      "Epoch 20 \t Training loss: 0.6924286921888279 \t Validation loss: 0.692470726320299 \t \n",
      " 20%|██        | 11480/57400 [28:47<1:52:48,  6.78it/s]\n",
      "Epoch 21 \t Training loss: 0.6919281281245295 \t Validation loss: 0.6910861053709256 \t \n",
      " 21%|██        | 12054/57400 [30:13<1:45:22,  7.17it/s]\n",
      "Epoch 22 \t Training loss: 0.6919486604708828 \t Validation loss: 0.6927087549435891 \t \n",
      "\n",
      "1 epoch without improvement\n",
      " 22%|██▏       | 12628/57400 [31:38<1:44:12,  7.16it/s]\n",
      "Epoch 23 \t Training loss: 0.6917819720319754 \t Validation loss: 0.6914120983269255 \t \n",
      " 23%|██▎       | 13202/57400 [33:03<1:35:49,  7.69it/s]\n",
      "Epoch 24 \t Training loss: 0.6917167917568925 \t Validation loss: 0.6911455584784686 \t \n",
      " 24%|██▍       | 13776/57400 [34:28<1:42:04,  7.12it/s]\n",
      "Epoch 25 \t Training loss: 0.6918134630141773 \t Validation loss: 0.6922420041035797 \t \n",
      "\n",
      "2 epoch without improvement\n",
      " 25%|██▌       | 14350/57400 [35:53<1:36:14,  7.46it/s]\n",
      "Epoch 26 \t Training loss: 0.6918716249980993 \t Validation loss: 0.6913707791748693 \t \n",
      " 26%|██▌       | 14924/57400 [37:19<1:43:37,  6.83it/s]\n",
      "Epoch 27 \t Training loss: 0.691281695295294 \t Validation loss: 0.6911797917495339 \t \n",
      " 27%|██▋       | 15498/57400 [38:44<1:39:53,  6.99it/s]\n",
      "Epoch 28 \t Training loss: 0.6914265735224149 \t Validation loss: 0.6918602919174452 \t \n",
      " 28%|██▊       | 16072/57400 [40:09<1:38:15,  7.01it/s]\n",
      "Epoch 29 \t Training loss: 0.691506134404538 \t Validation loss: 0.6918581703961906 \t \n",
      " 29%|██▉       | 16646/57400 [41:34<1:41:28,  6.69it/s]\n",
      "Epoch 30 \t Training loss: 0.6910166245096652 \t Validation loss: 0.6915368548894333 \t \n",
      " 30%|███       | 17220/57400 [43:00<1:38:56,  6.77it/s]\n",
      "Epoch 31 \t Training loss: 0.6911966185951898 \t Validation loss: 0.6932534343105251 \t \n",
      "\n",
      "3 epoch without improvement\n",
      " 31%|███       | 17794/57400 [44:25<1:24:55,  7.77it/s]\n",
      "Epoch 32 \t Training loss: 0.6909598319788013 \t Validation loss: 0.6914743043608584 \t \n",
      " 32%|███▏      | 18368/57400 [45:50<1:34:00,  6.92it/s]\n",
      "Epoch 33 \t Training loss: 0.6909564203916941 \t Validation loss: 0.6916390313940534 \t \n",
      " 33%|███▎      | 18942/57400 [47:15<1:27:42,  7.31it/s]\n",
      "Epoch 34 \t Training loss: 0.6908622713246827 \t Validation loss: 0.6922945198366197 \t \n",
      "\n",
      "4 epoch without improvement\n",
      " 34%|███▍      | 19516/57400 [48:40<1:28:46,  7.11it/s]\n",
      "Epoch 35 \t Training loss: 0.6909946052662587 \t Validation loss: 0.6928502705137608 \t \n",
      "\n",
      "5 epoch without improvement\n",
      " 35%|███▌      | 20090/57400 [50:05<1:13:54,  8.41it/s]\n",
      "Epoch 36 \t Training loss: 0.6907033892251058 \t Validation loss: 0.6908528198630123 \t \n",
      " 36%|███▌      | 20664/57400 [51:31<1:19:37,  7.69it/s]\n",
      "Epoch 37 \t Training loss: 0.6908138135792071 \t Validation loss: 0.6918672212099625 \t \n",
      "\n",
      "1 epoch without improvement\n",
      " 37%|███▋      | 21238/57400 [52:56<1:24:32,  7.13it/s]\n",
      "Epoch 38 \t Training loss: 0.6907501907091107 \t Validation loss: 0.6928133206852412 \t \n",
      "\n",
      "2 epoch without improvement\n",
      " 38%|███▊      | 21812/57400 [54:21<1:29:46,  6.61it/s]\n",
      "Epoch 39 \t Training loss: 0.6904813816530779 \t Validation loss: 0.6909154441397068 \t \n",
      " 39%|███▉      | 22386/57400 [55:46<1:24:08,  6.94it/s]\n",
      "Epoch 40 \t Training loss: 0.6902986727525133 \t Validation loss: 0.6924352241774737 \t \n",
      "\n",
      "3 epoch without improvement\n",
      " 40%|████      | 22960/57400 [57:11<1:23:13,  6.90it/s]\n",
      "Epoch 41 \t Training loss: 0.6910916398626586 \t Validation loss: 0.6932103926852599 \t \n",
      "\n",
      "4 epoch without improvement\n",
      " 41%|████      | 23534/57400 [58:37<1:22:54,  6.81it/s]\n",
      "Epoch 42 \t Training loss: 0.6901514122087365 \t Validation loss: 0.6922484424154637 \t \n",
      "\n",
      "5 epoch without improvement\n",
      " 42%|████▏     | 24108/57400 [1:00:02<1:16:10,  7.28it/s]\n",
      "Epoch 43 \t Training loss: 0.6899780815902072 \t Validation loss: 0.6917819501989979 \t \n",
      " 43%|████▎     | 24682/57400 [1:01:26<1:16:46,  7.10it/s]\n",
      "Epoch 44 \t Training loss: 0.6900980788240865 \t Validation loss: 0.6924440709211058 \t \n",
      "\n",
      "6 epoch without improvement\n",
      " 44%|████▍     | 25256/57400 [1:02:51<1:19:58,  6.70it/s]\n",
      "Epoch 45 \t Training loss: 0.6900487850559713 \t Validation loss: 0.6923230512667511 \t \n",
      "\n",
      "7 epoch without improvement\n",
      " 45%|████▌     | 25830/57400 [1:04:17<1:18:22,  6.71it/s]\n",
      "Epoch 46 \t Training loss: 0.6901205767737864 \t Validation loss: 0.6903377609737849 \t \n",
      " 46%|████▌     | 26404/57400 [1:05:42<1:13:45,  7.00it/s]\n",
      "Epoch 47 \t Training loss: 0.6902561379849703 \t Validation loss: 0.6914446424629729 \t \n",
      "\n",
      "1 epoch without improvement\n",
      " 47%|████▋     | 26978/57400 [1:07:07<59:36,  8.51it/s]\n",
      "Epoch 48 \t Training loss: 0.6899426053002321 \t Validation loss: 0.6915919699911344 \t \n",
      "\n",
      "2 epoch without improvement\n",
      " 48%|████▊     | 27552/57400 [1:08:33<1:13:32,  6.76it/s]\n",
      "Epoch 49 \t Training loss: 0.6899547753433732 \t Validation loss: 0.692420710951595 \t \n",
      "\n",
      "3 epoch without improvement\n",
      " 49%|████▉     | 28126/57400 [1:09:58<1:07:17,  7.25it/s]\n",
      "Epoch 50 \t Training loss: 0.6898238272617088 \t Validation loss: 0.6920122251672259 \t \n",
      "\n",
      "4 epoch without improvement\n",
      " 50%|█████     | 28700/57400 [1:11:23<1:01:52,  7.73it/s]\n",
      "Epoch 51 \t Training loss: 0.6901502524103437 \t Validation loss: 0.6922303791773521 \t \n",
      "\n",
      "5 epoch without improvement\n",
      " 51%|█████     | 29274/57400 [1:12:48<1:04:34,  7.26it/s]\n",
      "Epoch 52 \t Training loss: 0.6896363477050635 \t Validation loss: 0.6925031037653907 \t \n",
      "\n",
      "6 epoch without improvement\n",
      " 52%|█████▏    | 29848/57400 [1:14:13<1:03:37,  7.22it/s]\n",
      "Epoch 53 \t Training loss: 0.6894533589534227 \t Validation loss: 0.6920594512406042 \t \n",
      "\n",
      "7 epoch without improvement\n",
      " 53%|█████▎    | 30422/57400 [1:15:39<1:02:47,  7.16it/s]\n",
      "Epoch 54 \t Training loss: 0.6898021031339825 \t Validation loss: 0.6921057600086018 \t \n",
      "\n",
      "8 epoch without improvement\n",
      " 54%|█████▍    | 30996/57400 [1:17:03<1:02:06,  7.09it/s]\n",
      "Epoch 55 \t Training loss: 0.6893822876833873 \t Validation loss: 0.6911011419053805 \t \n",
      " 55%|█████▌    | 31570/57400 [1:18:29<1:02:57,  6.84it/s]\n",
      "Epoch 56 \t Training loss: 0.6895257917846122 \t Validation loss: 0.6926578687409223 \t \n",
      "\n",
      "9 epoch without improvement\n",
      " 56%|█████▌    | 32144/57400 [1:19:54<1:01:50,  6.81it/s]\n",
      "Epoch 57 \t Training loss: 0.690075903196368 \t Validation loss: 0.6911142902859186 \t \n",
      " 57%|█████▋    | 32718/57400 [1:21:20<59:15,  6.94it/s]\n",
      "Epoch 58 \t Training loss: 0.6892596645222309 \t Validation loss: 0.6914102394702071 \t \n",
      "\n",
      "10 epoch without improvement\n",
      "Validation_loss hasn't improve in 10 epoch. Stopping training after 58 epochs...\n"
     ]
    },
    {
     "data": {
      "image/png": "[encoded data removed]",
      "text/plain": [
       "<Figure size 640x480 with 1 Axes>"
      ]
     },
     "metadata": {},
     "output_type": "display_data"
    }
   ],
   "source": [
    "learning_rate = 5e-5\n",
    "optimizer = SGD(model.parameters(), lr=learning_rate, momentum=0.9)\n",
    "num_epochs = 100\n",
    "\n",
    "train.train_function(model,num_epochs,dl_train['as'],optimizer,early_stop=10,dl_val=dl_val['as'],save_path=save_path)"
   ]
  },
  {
   "cell_type": "code",
   "execution_count": 20,
   "metadata": {},
   "outputs": [
    {
     "name": "stderr",
     "output_type": "stream",
     "text": [
      "Some weights of the model checkpoint at bert-base-cased were not used when initializing BertModel: ['cls.predictions.transform.LayerNorm.weight', 'cls.predictions.transform.LayerNorm.bias', 'cls.predictions.transform.dense.bias', 'cls.seq_relationship.weight', 'cls.predictions.bias', 'cls.seq_relationship.bias', 'cls.predictions.decoder.weight', 'cls.predictions.transform.dense.weight']\n",
      "- This IS expected if you are initializing BertModel from the checkpoint of a model trained on another task or with another architecture (e.g. initializing a BertForSequenceClassification model from a BertForPreTraining model).\n",
      "- This IS NOT expected if you are initializing BertModel from the checkpoint of a model that you expect to be exactly identical (initializing a BertForSequenceClassification model from a BertForSequenceClassification model).\n"
     ]
    },
    {
     "name": "stdout",
     "output_type": "stream",
     "text": [
      "Using scikit learn accuracy por género en el conjunto about\n",
      "GLOBAL: 0.6772959183673469\n",
      "MALE 0.703125\n",
      "FEMALE 0.6525 \n",
      "\n",
      "Using scikit learn accuracy por género en el conjunto to\n",
      "GLOBAL: 0.63510101010101\n",
      "MALE 0.7104622871046229\n",
      "FEMALE 0.5538057742782152 \n",
      "\n",
      "Using scikit learn accuracy por género en el conjunto as\n",
      "GLOBAL: 0.6401564537157758\n",
      "MALE 0.6111111111111112\n",
      "FEMALE 0.6711590296495957 \n",
      "\n"
     ]
    }
   ],
   "source": [
    "model = st.SingleTaskDep(model_conf,vocab).to(device)\n",
    "model.load_state_dict(torch.load(save_path))\n",
    "for task in ['about','to','as']:\n",
    "    print(f\"Using scikit learn accuracy por género en el conjunto {task}\")\n",
    "    print(f\"GLOBAL: {train.eval_function_single_sk(model,dl_eval[task])}\")\n",
    "    print(f\"MALE {train.eval_function_single_sk(model,dl_eval[task],gender='male')}\")\n",
    "    print(f\"FEMALE {train.eval_function_single_sk(model,dl_eval[task],gender='female')}\",'\\n')"
   ]
  }
 ],
 "metadata": {
  "kernelspec": {
   "display_name": "tfg",
   "language": "python",
   "name": "python3"
  },
  "language_info": {
   "codemirror_mode": {
    "name": "ipython",
    "version": 3
   },
   "file_extension": ".py",
   "mimetype": "text/x-python",
   "name": "python",
   "nbconvert_exporter": "python",
   "pygments_lexer": "ipython3",
   "version": "3.9.13"
  },
  "orig_nbformat": 4,
  "vscode": {
   "interpreter": {
    "hash": "b2012626cca2d66e84dc87dc317222963c31dcd31e180f1257b027de73883164"
   }
  }
 },
 "nbformat": 4,
 "nbformat_minor": 2
}
