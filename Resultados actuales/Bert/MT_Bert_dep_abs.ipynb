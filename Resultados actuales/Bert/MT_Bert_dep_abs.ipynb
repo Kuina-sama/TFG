{
 "cells": [
  {
   "cell_type": "code",
   "execution_count": 1,
   "metadata": {},
   "outputs": [],
   "source": [
    "import torch\n",
    "from torch.utils.data import DataLoader\n",
    "from torch.optim import SGD ,AdamW\n",
    "\n",
    "from datasets import load_dataset, load_metric\n",
    "\n",
    "import matplotlib.pyplot as plt\n",
    "\n",
    "import json\n"
   ]
  },
  {
   "cell_type": "code",
   "execution_count": 2,
   "metadata": {},
   "outputs": [],
   "source": [
    "import utils_generic as generic\n",
    "import multitask_dep as mt\n",
    "import model_confs as confs\n",
    "import train_dep as train"
   ]
  },
  {
   "cell_type": "code",
   "execution_count": 3,
   "metadata": {},
   "outputs": [],
   "source": [
    "device = torch.device(\"cuda\") if torch.cuda.is_available() else torch.device(\"cpu\")\n",
    "torch.manual_seed(27)\n",
    "tasks = ['to','as','about']"
   ]
  },
  {
   "cell_type": "code",
   "execution_count": 4,
   "metadata": {},
   "outputs": [],
   "source": [
    "model_conf = confs.bert_conf\n",
    "encoding_type = 'absolute'"
   ]
  },
  {
   "attachments": {},
   "cell_type": "markdown",
   "metadata": {},
   "source": [
    "# Datos ConvAI"
   ]
  },
  {
   "cell_type": "code",
   "execution_count": 5,
   "metadata": {},
   "outputs": [],
   "source": [
    "with open('Datasets\\ConvAI2\\convai2_complete.json','r') as f:\n",
    "    data = json.load(f)"
   ]
  },
  {
   "cell_type": "code",
   "execution_count": 6,
   "metadata": {},
   "outputs": [],
   "source": [
    "vocab = mt.Vocabulary(data['train'],encoding_type)"
   ]
  },
  {
   "cell_type": "code",
   "execution_count": 7,
   "metadata": {},
   "outputs": [],
   "source": [
    "convai_train = data['train']\n",
    "convai_val = data['validation']\n",
    "\n",
    "\n",
    "\n",
    "convai_train_token = generic.tokenize_dataset_with_dependencies(convai_train,['about','to','as'],vocab,model_conf) \n",
    "convai_val_token = generic.tokenize_dataset_with_dependencies(convai_val,['about','to','as'],vocab,model_conf) "
   ]
  },
  {
   "cell_type": "code",
   "execution_count": 8,
   "metadata": {},
   "outputs": [],
   "source": [
    "convai_train_dataset = mt.DatasetMultitaskDep(convai_train_token,tasks,eval=False)\n",
    "convai_val_dataset = mt.DatasetMultitaskDep(convai_val_token,tasks,eval=False)"
   ]
  },
  {
   "attachments": {},
   "cell_type": "markdown",
   "metadata": {},
   "source": [
    "# Datos md_gender"
   ]
  },
  {
   "cell_type": "code",
   "execution_count": 9,
   "metadata": {},
   "outputs": [],
   "source": [
    "with open('Datasets\\md_gender\\md_complete.json','r',encoding=\"utf8\") as f:\n",
    "    md_data = json.load(f)"
   ]
  },
  {
   "cell_type": "code",
   "execution_count": 10,
   "metadata": {},
   "outputs": [],
   "source": [
    "md_tokenized = generic.tokenize_dataset_with_dependencies(md_data,['about','to','as'],vocab,model_conf) \n",
    "md_dataset = mt.DatasetMultitaskDep(md_tokenized,tasks,eval=True)"
   ]
  },
  {
   "attachments": {},
   "cell_type": "markdown",
   "metadata": {},
   "source": [
    "# Creación dataloaders"
   ]
  },
  {
   "cell_type": "code",
   "execution_count": 11,
   "metadata": {},
   "outputs": [],
   "source": [
    "dl_train =DataLoader(convai_train_dataset,batch_size=128,shuffle=True,collate_fn=mt.collate_fn)\n",
    "dl_val =DataLoader(convai_val_dataset,batch_size=128,shuffle=True,collate_fn=mt.collate_fn)\n",
    "dl_eval = DataLoader(md_dataset,batch_size=128,shuffle=False,collate_fn=mt.collate_fn)"
   ]
  },
  {
   "attachments": {},
   "cell_type": "markdown",
   "metadata": {},
   "source": [
    "# Modelo multitask"
   ]
  },
  {
   "cell_type": "code",
   "execution_count": 12,
   "metadata": {},
   "outputs": [
    {
     "name": "stderr",
     "output_type": "stream",
     "text": [
      "Some weights of the model checkpoint at bert-base-cased were not used when initializing BertModel: ['cls.predictions.transform.dense.bias', 'cls.predictions.transform.dense.weight', 'cls.seq_relationship.weight', 'cls.predictions.decoder.weight', 'cls.predictions.transform.LayerNorm.bias', 'cls.predictions.bias', 'cls.predictions.transform.LayerNorm.weight', 'cls.seq_relationship.bias']\n",
      "- This IS expected if you are initializing BertModel from the checkpoint of a model trained on another task or with another architecture (e.g. initializing a BertForSequenceClassification model from a BertForPreTraining model).\n",
      "- This IS NOT expected if you are initializing BertModel from the checkpoint of a model that you expect to be exactly identical (initializing a BertForSequenceClassification model from a BertForSequenceClassification model).\n"
     ]
    }
   ],
   "source": [
    "model = mt.MultiWithDependencies(model_conf,vocab).to(device)\n",
    "save_path='m1_bert_multi_abs'"
   ]
  },
  {
   "cell_type": "code",
   "execution_count": 13,
   "metadata": {},
   "outputs": [
    {
     "name": "stdout",
     "output_type": "stream",
     "text": [
      "Accuracy evaluando en todas las etiquetas\n",
      "{'to': 0.5176767676767676, 'as': 0.5241199478487614, 'about': 0.49489795918367346}\n",
      "Accuracy evaluando en etiquetas female\n",
      "{'to': 0.007874015748031496, 'as': 0.02425876010781671, 'about': 0.02}\n",
      "Accuracy evaluando en etiquetas male\n",
      "{'to': 0.9902676399026764, 'as': 0.9924242424242424, 'about': 0.9895833333333334}\n"
     ]
    }
   ],
   "source": [
    "print(\"Accuracy evaluando en todas las etiquetas\")\n",
    "print(train.eval_function_multi(model,dl_eval,tasks))\n",
    "print(\"Accuracy evaluando en etiquetas female\")\n",
    "print(train.eval_function_multi(model,dl_eval,tasks,'female'))\n",
    "print(\"Accuracy evaluando en etiquetas male\")\n",
    "print(train.eval_function_multi(model,dl_eval,tasks,'male'))"
   ]
  },
  {
   "cell_type": "code",
   "execution_count": 14,
   "metadata": {},
   "outputs": [
    {
     "data": {
      "application/vnd.jupyter.widget-view+json": {
       "model_id": "9ee118562e7c4a20980198636b122518",
       "version_major": 2,
       "version_minor": 0
      },
      "text/plain": [
       "  0%|          | 0/57400 [00:00<?, ?it/s]"
      ]
     },
     "metadata": {},
     "output_type": "display_data"
    },
    {
     "name": "stdout",
     "output_type": "stream",
     "text": [
      "Epoch 1 \t Training loss: 2.0794375682126356 \t Validation loss: 2.076592590849278 \t \n",
      "  1%|          | 574/57400 [01:25<2:20:04,  6.76it/s]\n",
      "Epoch 2 \t Training loss: 2.0670485670973613 \t Validation loss: 2.0625913628077104 \t \n",
      "  2%|▏         | 1148/57400 [02:51<2:01:47,  7.70it/s]\n",
      "Epoch 3 \t Training loss: 2.0491097338938964 \t Validation loss: 2.0394064773947504 \t \n",
      "  3%|▎         | 1722/57400 [04:17<2:11:23,  7.06it/s]\n",
      "Epoch 4 \t Training loss: 2.0196261403868006 \t Validation loss: 2.0130458544876615 \t \n",
      "  4%|▍         | 2296/57400 [05:44<2:21:27,  6.49it/s]\n",
      "Epoch 5 \t Training loss: 1.999940815910645 \t Validation loss: 2.001727684069488 \t \n",
      "  5%|▌         | 2870/57400 [07:11<2:10:11,  6.98it/s]\n",
      "Epoch 6 \t Training loss: 1.9929626440752675 \t Validation loss: 1.9966358148445518 \t \n",
      "  6%|▌         | 3444/57400 [08:38<2:12:05,  6.81it/s]\n",
      "Epoch 7 \t Training loss: 1.9878698969551911 \t Validation loss: 1.990818203505823 \t \n",
      "  7%|▋         | 4018/57400 [10:04<2:07:17,  6.99it/s]\n",
      "Epoch 8 \t Training loss: 1.9850817819090254 \t Validation loss: 1.9912657798346827 \t \n",
      "  8%|▊         | 4592/57400 [11:31<2:10:21,  6.75it/s]\n",
      "Epoch 9 \t Training loss: 1.9829551403115435 \t Validation loss: 1.987643730842461 \t \n",
      "  9%|▉         | 5166/57400 [12:58<2:04:08,  7.01it/s]\n",
      "Epoch 10 \t Training loss: 1.9790925192500657 \t Validation loss: 1.9861936932903226 \t \n",
      " 10%|█         | 5740/57400 [14:24<2:13:49,  6.43it/s]\n",
      "Epoch 11 \t Training loss: 1.977961478748388 \t Validation loss: 1.9831652621091422 \t \n",
      " 11%|█         | 6314/57400 [15:50<1:57:48,  7.23it/s]\n",
      "Epoch 12 \t Training loss: 1.9752312312973501 \t Validation loss: 1.98502770520873 \t \n",
      "\n",
      "1 epoch without improvement\n",
      " 12%|█▏        | 6888/57400 [17:15<2:06:33,  6.65it/s]\n",
      "Epoch 13 \t Training loss: 1.9746175634736383 \t Validation loss: 1.985089356616392 \t \n",
      "\n",
      "2 epoch without improvement\n",
      " 13%|█▎        | 7462/57400 [18:40<1:53:17,  7.35it/s]\n",
      "Epoch 14 \t Training loss: 1.9731917364672087 \t Validation loss: 1.9911829334194378 \t \n",
      "\n",
      "3 epoch without improvement\n",
      " 14%|█▍        | 8036/57400 [20:04<2:33:02,  5.38it/s]\n",
      "Epoch 15 \t Training loss: 1.9746880003799545 \t Validation loss: 1.9810916043944278 \t \n",
      " 15%|█▌        | 8610/57400 [21:30<1:59:40,  6.79it/s]\n",
      "Epoch 16 \t Training loss: 1.9716326035688978 \t Validation loss: 1.987534294694157 \t \n",
      "\n",
      "1 epoch without improvement\n",
      " 16%|█▌        | 9184/57400 [22:54<1:52:10,  7.16it/s]\n",
      "Epoch 17 \t Training loss: 1.9708708582854852 \t Validation loss: 1.9790670669684975 \t \n",
      " 17%|█▋        | 9758/57400 [24:20<1:51:46,  7.10it/s]\n",
      "Epoch 18 \t Training loss: 1.9700510628547403 \t Validation loss: 1.9763283507298615 \t \n",
      " 18%|█▊        | 10332/57400 [25:45<1:47:05,  7.33it/s]\n",
      "Epoch 19 \t Training loss: 1.969728283350476 \t Validation loss: 1.9817954988802893 \t \n",
      "\n",
      "1 epoch without improvement\n",
      " 19%|█▉        | 10906/57400 [27:10<1:51:12,  6.97it/s]\n",
      "Epoch 20 \t Training loss: 1.9695922935881265 \t Validation loss: 1.98479425907135 \t \n",
      "\n",
      "2 epoch without improvement\n",
      " 20%|██        | 11480/57400 [28:35<1:48:13,  7.07it/s]\n",
      "Epoch 21 \t Training loss: 1.967618104057445 \t Validation loss: 1.9815820778830577 \t \n",
      "\n",
      "3 epoch without improvement\n",
      " 21%|██        | 12054/57400 [29:59<1:44:39,  7.22it/s]\n",
      "Epoch 22 \t Training loss: 1.966804823185924 \t Validation loss: 1.9773960558034607 \t \n",
      "\n",
      "4 epoch without improvement\n",
      " 22%|██▏       | 12628/57400 [31:24<1:42:32,  7.28it/s]\n",
      "Epoch 23 \t Training loss: 1.9652446558251198 \t Validation loss: 1.9770066233004553 \t \n",
      " 23%|██▎       | 13202/57400 [32:49<1:26:48,  8.49it/s]\n",
      "Epoch 24 \t Training loss: 1.9652788389850577 \t Validation loss: 1.9786563303511022 \t \n",
      "\n",
      "5 epoch without improvement\n",
      " 24%|██▍       | 13776/57400 [34:14<1:41:04,  7.19it/s]\n",
      "Epoch 25 \t Training loss: 1.9669699679268362 \t Validation loss: 1.9847230365720845 \t \n",
      "\n",
      "6 epoch without improvement\n",
      " 25%|██▌       | 14350/57400 [35:39<1:41:03,  7.10it/s]\n",
      "Epoch 26 \t Training loss: 1.9666274364401655 \t Validation loss: 1.9783764390622156 \t \n",
      "\n",
      "7 epoch without improvement\n",
      " 26%|██▌       | 14924/57400 [37:04<1:42:44,  6.89it/s]\n",
      "Epoch 27 \t Training loss: 1.965723385378874 \t Validation loss: 1.9723167096154164 \t \n",
      " 27%|██▋       | 15498/57400 [38:29<1:43:32,  6.74it/s]\n",
      "Epoch 28 \t Training loss: 1.9647952166583895 \t Validation loss: 1.9730390936641369 \t \n",
      " 28%|██▊       | 16072/57400 [39:54<1:50:49,  6.22it/s]\n",
      "Epoch 29 \t Training loss: 1.9656822833034635 \t Validation loss: 1.9813341023558277 \t \n",
      "\n",
      "1 epoch without improvement\n",
      " 29%|██▉       | 16646/57400 [41:19<1:42:16,  6.64it/s]\n",
      "Epoch 30 \t Training loss: 1.9641351161933527 \t Validation loss: 1.9719670344207247 \t \n",
      " 30%|███       | 17220/57400 [42:44<1:34:30,  7.09it/s]\n",
      "Epoch 31 \t Training loss: 1.9621539643417252 \t Validation loss: 1.9789042088945032 \t \n",
      "\n",
      "1 epoch without improvement\n",
      " 31%|███       | 17794/57400 [44:09<1:32:39,  7.12it/s]\n",
      "Epoch 32 \t Training loss: 1.9633133617012344 \t Validation loss: 1.9761482760057612 \t \n",
      "\n",
      "2 epoch without improvement\n",
      " 32%|███▏      | 18368/57400 [45:34<1:35:46,  6.79it/s]\n",
      "Epoch 33 \t Training loss: 1.9606721289066487 \t Validation loss: 1.9679118617106293 \t \n",
      " 33%|███▎      | 18942/57400 [46:59<1:34:01,  6.82it/s]\n",
      "Epoch 34 \t Training loss: 1.9618261456489563 \t Validation loss: 1.9658128407041906 \t \n",
      " 34%|███▍      | 19516/57400 [48:24<1:29:12,  7.08it/s]\n",
      "Epoch 35 \t Training loss: 1.9623604138553765 \t Validation loss: 1.9724785574411943 \t \n",
      "\n",
      "1 epoch without improvement\n",
      " 35%|███▌      | 20090/57400 [49:50<1:29:16,  6.97it/s]\n",
      "Epoch 36 \t Training loss: 1.9614994673363424 \t Validation loss: 1.972338151123564 \t \n",
      "\n",
      "2 epoch without improvement\n",
      " 36%|███▌      | 20664/57400 [51:14<1:25:49,  7.13it/s]\n",
      "Epoch 37 \t Training loss: 1.9622440207295302 \t Validation loss: 1.9741826481738334 \t \n",
      "\n",
      "3 epoch without improvement\n",
      " 37%|███▋      | 21238/57400 [52:39<1:19:19,  7.60it/s]\n",
      "Epoch 38 \t Training loss: 1.961844002328268 \t Validation loss: 1.9772145788548356 \t \n",
      "\n",
      "4 epoch without improvement\n",
      " 38%|███▊      | 21812/57400 [54:04<1:23:08,  7.13it/s]\n",
      "Epoch 39 \t Training loss: 1.95955241224907 \t Validation loss: 1.9691252627615201 \t \n",
      "\n",
      "5 epoch without improvement\n",
      " 39%|███▉      | 22386/57400 [55:29<1:19:57,  7.30it/s]\n",
      "Epoch 40 \t Training loss: 1.959404894076158 \t Validation loss: 1.9713170265747328 \t \n",
      "\n",
      "6 epoch without improvement\n",
      " 40%|████      | 22960/57400 [56:53<1:24:00,  6.83it/s]\n",
      "Epoch 41 \t Training loss: 1.9585889332801207 \t Validation loss: 1.9778844906111894 \t \n",
      "\n",
      "7 epoch without improvement\n",
      " 41%|████      | 23534/57400 [58:18<1:13:29,  7.68it/s]\n",
      "Epoch 42 \t Training loss: 1.957850241702608 \t Validation loss: 1.9676706447439678 \t \n",
      "\n",
      "8 epoch without improvement\n",
      " 42%|████▏     | 24108/57400 [59:42<1:24:19,  6.58it/s]\n",
      "Epoch 43 \t Training loss: 1.9607773221743647 \t Validation loss: 1.9762877124851033 \t \n",
      "\n",
      "9 epoch without improvement\n",
      " 43%|████▎     | 24682/57400 [1:01:07<1:18:45,  6.92it/s]\n",
      "Epoch 44 \t Training loss: 1.9585410165454453 \t Validation loss: 1.9759310079833208 \t \n",
      "\n",
      "10 epoch without improvement\n",
      "Validation_loss hasn't improve in 10 epoch. Stopping training after 44 epochs...\n"
     ]
    },
    {
     "data": {
      "image/png": "[encoded data removed]",
      "text/plain": [
       "<Figure size 640x480 with 1 Axes>"
      ]
     },
     "metadata": {},
     "output_type": "display_data"
    }
   ],
   "source": [
    "learning_rate = 5e-5\n",
    "optimizer = SGD(model.parameters(), lr=learning_rate, momentum=0.9)\n",
    "num_epochs = 100\n",
    "train.train_function_multi(model,num_epochs,dl_train,optimizer,early_stop = 10,dl_val = dl_val,save_path=save_path)"
   ]
  },
  {
   "cell_type": "code",
   "execution_count": 15,
   "metadata": {},
   "outputs": [
    {
     "name": "stderr",
     "output_type": "stream",
     "text": [
      "Some weights of the model checkpoint at bert-base-cased were not used when initializing BertModel: ['cls.predictions.transform.dense.bias', 'cls.predictions.transform.dense.weight', 'cls.seq_relationship.weight', 'cls.predictions.decoder.weight', 'cls.predictions.transform.LayerNorm.bias', 'cls.predictions.bias', 'cls.predictions.transform.LayerNorm.weight', 'cls.seq_relationship.bias']\n",
      "- This IS expected if you are initializing BertModel from the checkpoint of a model trained on another task or with another architecture (e.g. initializing a BertForSequenceClassification model from a BertForPreTraining model).\n",
      "- This IS NOT expected if you are initializing BertModel from the checkpoint of a model that you expect to be exactly identical (initializing a BertForSequenceClassification model from a BertForSequenceClassification model).\n"
     ]
    },
    {
     "name": "stdout",
     "output_type": "stream",
     "text": [
      "Accuracy evaluando en todas las etiquetas\n",
      "{'to': 0.7083333333333334, 'as': 0.7431551499348109, 'about': 0.8507653061224489}\n",
      "Accuracy evaluando en etiquetas female\n",
      "{'to': 0.6850393700787402, 'as': 0.738544474393531, 'about': 0.85}\n",
      "Accuracy evaluando en etiquetas male\n",
      "{'to': 0.7299270072992701, 'as': 0.7474747474747475, 'about': 0.8515625}\n"
     ]
    }
   ],
   "source": [
    "model = mt.MultiWithDependencies(model_conf,vocab).to(device)\n",
    "model.load_state_dict(torch.load(save_path))\n",
    "\n",
    "print(\"Accuracy evaluando en todas las etiquetas\")\n",
    "print(train.eval_function_multi(model,dl_eval,tasks))\n",
    "print(\"Accuracy evaluando en etiquetas female\")\n",
    "print(train.eval_function_multi(model,dl_eval,tasks,'female'))\n",
    "print(\"Accuracy evaluando en etiquetas male\")\n",
    "print(train.eval_function_multi(model,dl_eval,tasks,'male'))"
   ]
  }
 ],
 "metadata": {
  "kernelspec": {
   "display_name": "tfg",
   "language": "python",
   "name": "python3"
  },
  "language_info": {
   "codemirror_mode": {
    "name": "ipython",
    "version": 3
   },
   "file_extension": ".py",
   "mimetype": "text/x-python",
   "name": "python",
   "nbconvert_exporter": "python",
   "pygments_lexer": "ipython3",
   "version": "3.9.13"
  },
  "orig_nbformat": 4,
  "vscode": {
   "interpreter": {
    "hash": "35e8332e99bdf485583869dfbdef293dcf2f9293b1663ec5daea0a573af457c3"
   }
  }
 },
 "nbformat": 4,
 "nbformat_minor": 2
}
