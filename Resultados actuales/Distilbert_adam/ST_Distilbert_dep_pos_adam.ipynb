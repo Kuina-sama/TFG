{
 "cells": [
  {
   "cell_type": "code",
   "execution_count": 1,
   "metadata": {},
   "outputs": [],
   "source": [
    "import torch\n",
    "from torch.utils.data import DataLoader\n",
    "from torch.optim import AdamW, SGD \n",
    "\n",
    "import json"
   ]
  },
  {
   "cell_type": "code",
   "execution_count": 2,
   "metadata": {},
   "outputs": [],
   "source": [
    "import utils_generic as generic\n",
    "import singletask_dep as st\n",
    "import model_confs as confs\n",
    "\n",
    "\n",
    "import train_dep as train"
   ]
  },
  {
   "cell_type": "code",
   "execution_count": 3,
   "metadata": {},
   "outputs": [
    {
     "data": {
      "text/plain": [
       "<torch._C.Generator at 0x204d33545b0>"
      ]
     },
     "execution_count": 3,
     "metadata": {},
     "output_type": "execute_result"
    }
   ],
   "source": [
    "device = torch.device(\"cuda\") if torch.cuda.is_available() else torch.device(\"cpu\")\n",
    "torch.manual_seed(27)"
   ]
  },
  {
   "cell_type": "code",
   "execution_count": 4,
   "metadata": {},
   "outputs": [],
   "source": [
    "model_conf = confs.distilbert_conf\n",
    "encoding_type = 'pos'"
   ]
  },
  {
   "attachments": {},
   "cell_type": "markdown",
   "metadata": {},
   "source": [
    "# Datos ConvAI2"
   ]
  },
  {
   "cell_type": "code",
   "execution_count": 5,
   "metadata": {},
   "outputs": [],
   "source": [
    "with open('Datasets\\ConvAI2\\convai2_complete.json','r') as f:\n",
    "    data = json.load(f)"
   ]
  },
  {
   "cell_type": "code",
   "execution_count": 6,
   "metadata": {},
   "outputs": [],
   "source": [
    "vocab = st.Vocabulary(data['train'],encoding_type)"
   ]
  },
  {
   "cell_type": "code",
   "execution_count": 7,
   "metadata": {},
   "outputs": [],
   "source": [
    "convai_train = data['train']\n",
    "convai_val = data['validation']\n",
    "\n",
    "\n",
    "\n",
    "convai_train_token = generic.tokenize_dataset_with_dependencies(convai_train,['about','to','as'],vocab,model_conf) \n",
    "convai_val_token = generic.tokenize_dataset_with_dependencies(convai_val,['about','to','as'],vocab,model_conf) "
   ]
  },
  {
   "cell_type": "code",
   "execution_count": 8,
   "metadata": {},
   "outputs": [],
   "source": [
    "convai_train_dataset = {}\n",
    "for task in ['to','as','about']:\n",
    "    convai_train_dataset[task] = st.DatasetSingleTaskDep(convai_train_token,task,eval=False)"
   ]
  },
  {
   "cell_type": "code",
   "execution_count": 9,
   "metadata": {},
   "outputs": [],
   "source": [
    "convai_val_dataset = {}\n",
    "for task in ['to','as','about']:\n",
    "    convai_val_dataset[task] = st.DatasetSingleTaskDep(convai_val_token,task,eval=False)"
   ]
  },
  {
   "attachments": {},
   "cell_type": "markdown",
   "metadata": {},
   "source": [
    "# Datos md_gender"
   ]
  },
  {
   "cell_type": "code",
   "execution_count": 10,
   "metadata": {},
   "outputs": [],
   "source": [
    "with open('Datasets\\md_gender\\md_complete.json','r',encoding=\"utf8\") as f:\n",
    "    md_data = json.load(f)"
   ]
  },
  {
   "cell_type": "code",
   "execution_count": 11,
   "metadata": {},
   "outputs": [],
   "source": [
    "md_tokenized = generic.tokenize_dataset_with_dependencies(md_data,['about','to','as'],vocab,model_conf) \n",
    "\n",
    "\n",
    "md_dataset = {}\n",
    "for task in ['to','as','about']:\n",
    "    md_dataset[task] = st.DatasetSingleTaskDep(md_tokenized,task,eval=True)"
   ]
  },
  {
   "attachments": {},
   "cell_type": "markdown",
   "metadata": {},
   "source": [
    "# Creación dataloaders"
   ]
  },
  {
   "cell_type": "code",
   "execution_count": 12,
   "metadata": {},
   "outputs": [],
   "source": [
    "dl_train = {}\n",
    "for task in ['to','as','about']:\n",
    "    dl_train[task] = DataLoader(convai_train_dataset[task],batch_size=128,shuffle=True,collate_fn=st.collate_fn)"
   ]
  },
  {
   "cell_type": "code",
   "execution_count": 13,
   "metadata": {},
   "outputs": [],
   "source": [
    "dl_val = {}\n",
    "for task in ['to','as','about']:\n",
    "    dl_val[task] = DataLoader(convai_val_dataset[task],batch_size=128,shuffle=True,collate_fn=st.collate_fn)"
   ]
  },
  {
   "cell_type": "code",
   "execution_count": 14,
   "metadata": {},
   "outputs": [],
   "source": [
    "dl_eval = {}\n",
    "for task in ['to','as','about']:\n",
    "    dl_eval[task] = DataLoader(md_dataset[task],batch_size=128,shuffle=False,collate_fn=st.collate_fn)"
   ]
  },
  {
   "attachments": {},
   "cell_type": "markdown",
   "metadata": {},
   "source": [
    "# ABOUT"
   ]
  },
  {
   "cell_type": "code",
   "execution_count": 15,
   "metadata": {},
   "outputs": [
    {
     "name": "stderr",
     "output_type": "stream",
     "text": [
      "Some weights of the model checkpoint at distilbert-base-cased were not used when initializing DistilBertModel: ['vocab_layer_norm.weight', 'vocab_layer_norm.bias', 'vocab_projector.weight', 'vocab_transform.bias', 'vocab_transform.weight', 'vocab_projector.bias']\n",
      "- This IS expected if you are initializing DistilBertModel from the checkpoint of a model trained on another task or with another architecture (e.g. initializing a BertForSequenceClassification model from a BertForPreTraining model).\n",
      "- This IS NOT expected if you are initializing DistilBertModel from the checkpoint of a model that you expect to be exactly identical (initializing a BertForSequenceClassification model from a BertForSequenceClassification model).\n"
     ]
    }
   ],
   "source": [
    "model = st.SingleTaskDep(model_conf,vocab).to(device)\n",
    "save_path='m1_distilbert_dep_pos_ABOUT_adam'"
   ]
  },
  {
   "cell_type": "code",
   "execution_count": 16,
   "metadata": {},
   "outputs": [
    {
     "data": {
      "application/vnd.jupyter.widget-view+json": {
       "model_id": "a3d0c53c26ed40019725cfa1bd26bd88",
       "version_major": 2,
       "version_minor": 0
      },
      "text/plain": [
       "  0%|          | 0/57400 [00:00<?, ?it/s]"
      ]
     },
     "metadata": {},
     "output_type": "display_data"
    },
    {
     "name": "stdout",
     "output_type": "stream",
     "text": [
      "Epoch 1 \t Training loss: 0.5815106933021379 \t Validation loss: 0.42263308874631333 \t \n",
      "  1%|          | 574/57400 [02:32<4:37:58,  3.41it/s]\n",
      "Epoch 2 \t Training loss: 0.3919932511002345 \t Validation loss: 0.35924638681492566 \t \n",
      "  2%|▏         | 1148/57400 [05:28<5:44:37,  2.72it/s]\n",
      "Epoch 3 \t Training loss: 0.35164804585303994 \t Validation loss: 0.34548155887652254 \t \n",
      "  3%|▎         | 1722/57400 [08:57<5:42:06,  2.71it/s]\n",
      "Epoch 4 \t Training loss: 0.3345177336644628 \t Validation loss: 0.33296803119829144 \t \n",
      "  4%|▍         | 2296/57400 [12:27<4:20:59,  3.52it/s]\n",
      "Epoch 5 \t Training loss: 0.31935371243060673 \t Validation loss: 0.3259073543851658 \t \n",
      "  5%|▌         | 2870/57400 [15:22<4:32:14,  3.34it/s]\n",
      "Epoch 6 \t Training loss: 0.30895453460436667 \t Validation loss: 0.3200524535219548 \t \n",
      "  6%|▌         | 3444/57400 [18:20<4:28:53,  3.34it/s]\n",
      "Epoch 7 \t Training loss: 0.29986689107343295 \t Validation loss: 0.3157919812000404 \t \n",
      "  7%|▋         | 4018/57400 [21:34<4:23:58,  3.37it/s]\n",
      "Epoch 8 \t Training loss: 0.2918717984746142 \t Validation loss: 0.31185329086699726 \t \n",
      "  8%|▊         | 4592/57400 [24:27<4:22:36,  3.35it/s]\n",
      "Epoch 9 \t Training loss: 0.28304112694820044 \t Validation loss: 0.31204578785573023 \t \n",
      "  9%|▉         | 5166/57400 [27:32<5:07:11,  2.83it/s]\n",
      "Epoch 10 \t Training loss: 0.2788560672400305 \t Validation loss: 0.30770201450687346 \t \n",
      " 10%|█         | 5740/57400 [31:02<3:55:18,  3.66it/s]\n",
      "Epoch 11 \t Training loss: 0.2707058327071343 \t Validation loss: 0.307032370718859 \t \n",
      " 11%|█         | 6314/57400 [34:07<4:14:41,  3.34it/s]\n",
      "Epoch 12 \t Training loss: 0.26430784100958693 \t Validation loss: 0.30808474401296193 \t \n",
      "\n",
      "1 epoch without improvement\n",
      " 12%|█▏        | 6888/57400 [37:03<4:10:32,  3.36it/s]\n",
      "Epoch 13 \t Training loss: 0.2581238487300557 \t Validation loss: 0.30324007772793204 \t \n",
      " 13%|█▎        | 7462/57400 [40:28<3:14:58,  4.27it/s]\n",
      "Epoch 14 \t Training loss: 0.25276020182238224 \t Validation loss: 0.30125792173005767 \t \n",
      " 14%|█▍        | 8036/57400 [43:37<4:03:02,  3.39it/s]\n",
      "Epoch 15 \t Training loss: 0.24780845603149526 \t Validation loss: 0.30322735011577606 \t \n",
      "\n",
      "1 epoch without improvement\n",
      " 15%|█▌        | 8610/57400 [47:05<4:51:17,  2.79it/s]\n",
      "Epoch 16 \t Training loss: 0.24442862776409874 \t Validation loss: 0.3026753105854584 \t \n",
      "\n",
      "2 epoch without improvement\n",
      " 16%|█▌        | 9184/57400 [50:28<3:57:28,  3.38it/s]\n",
      "Epoch 17 \t Training loss: 0.23844472421430546 \t Validation loss: 0.3008015181048442 \t \n",
      " 17%|█▋        | 9758/57400 [53:19<3:03:21,  4.33it/s]\n",
      "Epoch 18 \t Training loss: 0.23356981742932406 \t Validation loss: 0.3016065669766927 \t \n",
      " 18%|█▊        | 10332/57400 [56:32<3:44:06,  3.50it/s]\n",
      "Epoch 19 \t Training loss: 0.23003527541557256 \t Validation loss: 0.2998232260598975 \t \n",
      " 19%|█▉        | 10906/57400 [59:57<3:42:37,  3.48it/s]\n",
      "Epoch 20 \t Training loss: 0.22740651049265048 \t Validation loss: 0.29977216306379284 \t \n",
      " 20%|██        | 11480/57400 [1:02:54<3:31:17,  3.62it/s]\n",
      "Epoch 21 \t Training loss: 0.22112611299607812 \t Validation loss: 0.2996039564831782 \t \n",
      " 21%|██        | 12054/57400 [1:06:23<3:32:29,  3.56it/s]\n",
      "Epoch 22 \t Training loss: 0.21800665243265935 \t Validation loss: 0.30390839506003814 \t \n",
      "\n",
      "1 epoch without improvement\n",
      " 22%|██▏       | 12628/57400 [1:09:48<3:39:57,  3.39it/s]\n",
      "Epoch 23 \t Training loss: 0.21475763341171816 \t Validation loss: 0.3002899256298098 \t \n",
      " 23%|██▎       | 13202/57400 [1:12:39<2:58:12,  4.13it/s]\n",
      "Epoch 24 \t Training loss: 0.20924271458844274 \t Validation loss: 0.3019757013199693 \t \n",
      "\n",
      "2 epoch without improvement\n",
      " 24%|██▍       | 13776/57400 [1:15:57<3:36:07,  3.36it/s]\n",
      "Epoch 25 \t Training loss: 0.20675484333771446 \t Validation loss: 0.30304076080605136 \t \n",
      "\n",
      "3 epoch without improvement\n",
      " 25%|██▌       | 14350/57400 [1:19:21<3:31:22,  3.39it/s]\n",
      "Epoch 26 \t Training loss: 0.20256358771893204 \t Validation loss: 0.30324525019880066 \t \n",
      "\n",
      "4 epoch without improvement\n",
      " 26%|██▌       | 14924/57400 [1:22:17<4:12:03,  2.81it/s]\n",
      "Epoch 27 \t Training loss: 0.20086075181225865 \t Validation loss: 0.3070532252727929 \t \n",
      "\n",
      "5 epoch without improvement\n",
      " 27%|██▋       | 15498/57400 [1:25:46<3:21:06,  3.47it/s]\n",
      "Epoch 28 \t Training loss: 0.1963108946222046 \t Validation loss: 0.3051460284297749 \t \n",
      "\n",
      "6 epoch without improvement\n",
      " 28%|██▊       | 16072/57400 [1:29:11<3:23:12,  3.39it/s]\n",
      "Epoch 29 \t Training loss: 0.19200968504834673 \t Validation loss: 0.312941728001934 \t \n",
      "\n",
      "7 epoch without improvement\n",
      " 29%|██▉       | 16646/57400 [1:32:02<3:19:41,  3.40it/s]\n",
      "Epoch 30 \t Training loss: 0.1922920521751098 \t Validation loss: 0.3113062083721161 \t \n",
      "\n",
      "8 epoch without improvement\n",
      " 30%|███       | 17220/57400 [1:35:09<3:11:50,  3.49it/s]\n",
      "Epoch 31 \t Training loss: 0.18846168166565147 \t Validation loss: 0.31034795434798224 \t \n",
      "\n",
      "9 epoch without improvement\n",
      " 31%|███       | 17794/57400 [1:38:35<2:38:47,  4.16it/s]\n",
      "Epoch 32 \t Training loss: 0.18532402401965253 \t Validation loss: 0.3096072049969334 \t \n",
      "\n",
      "10 epoch without improvement\n",
      "Validation_loss hasn't improve in 10 epoch. Stopping training after 32 epochs...\n"
     ]
    },
    {
     "data": {
      "image/png": "[encoded data removed]",
      "text/plain": [
       "<Figure size 640x480 with 1 Axes>"
      ]
     },
     "metadata": {},
     "output_type": "display_data"
    }
   ],
   "source": [
    "learning_rate = 1e-6\n",
    "optimizer = AdamW(model.parameters(), lr=learning_rate,weight_decay=0.1)\n",
    "num_epochs = 100\n",
    "\n",
    "train.train_function(model,num_epochs,dl_train['about'],optimizer,early_stop=10,dl_val=dl_val['about'],save_path=save_path)"
   ]
  },
  {
   "cell_type": "code",
   "execution_count": 17,
   "metadata": {},
   "outputs": [
    {
     "name": "stderr",
     "output_type": "stream",
     "text": [
      "Some weights of the model checkpoint at distilbert-base-cased were not used when initializing DistilBertModel: ['vocab_layer_norm.weight', 'vocab_layer_norm.bias', 'vocab_projector.weight', 'vocab_transform.bias', 'vocab_transform.weight', 'vocab_projector.bias']\n",
      "- This IS expected if you are initializing DistilBertModel from the checkpoint of a model trained on another task or with another architecture (e.g. initializing a BertForSequenceClassification model from a BertForPreTraining model).\n",
      "- This IS NOT expected if you are initializing DistilBertModel from the checkpoint of a model that you expect to be exactly identical (initializing a BertForSequenceClassification model from a BertForSequenceClassification model).\n"
     ]
    },
    {
     "name": "stdout",
     "output_type": "stream",
     "text": [
      "Using scikit learn accuracy por género en el conjunto about\n",
      "GLOBAL: 0.8392857142857143\n",
      "MALE 0.8463541666666666\n",
      "FEMALE 0.8325 \n",
      "\n",
      "Using scikit learn accuracy por género en el conjunto to\n",
      "GLOBAL: 0.6679292929292929\n",
      "MALE 0.683698296836983\n",
      "FEMALE 0.6509186351706037 \n",
      "\n",
      "Using scikit learn accuracy por género en el conjunto as\n",
      "GLOBAL: 0.6831812255541069\n",
      "MALE 0.6742424242424242\n",
      "FEMALE 0.692722371967655 \n",
      "\n"
     ]
    }
   ],
   "source": [
    "model = st.SingleTaskDep(model_conf,vocab).to(device)\n",
    "model.load_state_dict(torch.load(save_path))\n",
    "for task in ['about','to','as']:\n",
    "    print(f\"Using scikit learn accuracy por género en el conjunto {task}\")\n",
    "    print(f\"GLOBAL: {train.eval_function_single_sk(model,dl_eval[task])}\")\n",
    "    print(f\"MALE {train.eval_function_single_sk(model,dl_eval[task],gender='male')}\")\n",
    "    print(f\"FEMALE {train.eval_function_single_sk(model,dl_eval[task],gender='female')}\",'\\n')"
   ]
  },
  {
   "attachments": {},
   "cell_type": "markdown",
   "metadata": {},
   "source": [
    "# TO"
   ]
  },
  {
   "cell_type": "code",
   "execution_count": 18,
   "metadata": {},
   "outputs": [
    {
     "name": "stderr",
     "output_type": "stream",
     "text": [
      "Some weights of the model checkpoint at distilbert-base-cased were not used when initializing DistilBertModel: ['vocab_layer_norm.weight', 'vocab_layer_norm.bias', 'vocab_projector.weight', 'vocab_transform.bias', 'vocab_transform.weight', 'vocab_projector.bias']\n",
      "- This IS expected if you are initializing DistilBertModel from the checkpoint of a model trained on another task or with another architecture (e.g. initializing a BertForSequenceClassification model from a BertForPreTraining model).\n",
      "- This IS NOT expected if you are initializing DistilBertModel from the checkpoint of a model that you expect to be exactly identical (initializing a BertForSequenceClassification model from a BertForSequenceClassification model).\n"
     ]
    }
   ],
   "source": [
    "model = st.SingleTaskDep(model_conf,vocab).to(device)\n",
    "save_path='m1_distilbert_dep_pos_TO_adam'"
   ]
  },
  {
   "cell_type": "code",
   "execution_count": 19,
   "metadata": {},
   "outputs": [
    {
     "data": {
      "application/vnd.jupyter.widget-view+json": {
       "model_id": "2bbffa15dab74ffbb2d831efecab9150",
       "version_major": 2,
       "version_minor": 0
      },
      "text/plain": [
       "  0%|          | 0/57400 [00:00<?, ?it/s]"
      ]
     },
     "metadata": {},
     "output_type": "display_data"
    },
    {
     "name": "stdout",
     "output_type": "stream",
     "text": [
      "Epoch 1 \t Training loss: 0.6948288818269657 \t Validation loss: 0.6910807268094208 \t \n",
      "  1%|          | 574/57400 [02:47<4:51:41,  3.25it/s]\n",
      "Epoch 2 \t Training loss: 0.693983902810758 \t Validation loss: 0.6931134371434228 \t \n",
      "\n",
      "1 epoch without improvement\n",
      "  2%|▏         | 1148/57400 [06:11<5:22:39,  2.91it/s]\n",
      "Epoch 3 \t Training loss: 0.6937209494437906 \t Validation loss: 0.6934922852758634 \t \n",
      "\n",
      "2 epoch without improvement\n",
      "  3%|▎         | 1722/57400 [09:00<5:53:18,  2.63it/s]\n",
      "Epoch 4 \t Training loss: 0.6932800313529237 \t Validation loss: 0.6955175531112542 \t \n",
      "\n",
      "3 epoch without improvement\n",
      "  4%|▍         | 2296/57400 [12:54<4:07:59,  3.70it/s]\n",
      "Epoch 5 \t Training loss: 0.6932422203053996 \t Validation loss: 0.6937090714099043 \t \n",
      "\n",
      "4 epoch without improvement\n",
      "  5%|▌         | 2870/57400 [16:22<4:23:38,  3.45it/s]\n",
      "Epoch 6 \t Training loss: 0.6929612433868834 \t Validation loss: 0.6938304022207098 \t \n",
      "\n",
      "5 epoch without improvement\n",
      "  6%|▌         | 3444/57400 [19:26<4:35:18,  3.27it/s]\n",
      "Epoch 7 \t Training loss: 0.6930476209012474 \t Validation loss: 0.6932095127590632 \t \n",
      "\n",
      "6 epoch without improvement\n",
      "  7%|▋         | 4018/57400 [22:20<3:40:46,  4.03it/s]\n",
      "Epoch 8 \t Training loss: 0.6927177856192771 \t Validation loss: 0.6933459083912736 \t \n",
      "\n",
      "7 epoch without improvement\n",
      "  8%|▊         | 4592/57400 [25:34<4:13:29,  3.47it/s]\n",
      "Epoch 9 \t Training loss: 0.6926920100371596 \t Validation loss: 0.692377657203351 \t \n",
      "\n",
      "8 epoch without improvement\n",
      "  9%|▉         | 5166/57400 [28:58<3:24:42,  4.25it/s]\n",
      "Epoch 10 \t Training loss: 0.6926142173569377 \t Validation loss: 0.6953177330857616 \t \n",
      "\n",
      "9 epoch without improvement\n",
      " 10%|█         | 5740/57400 [32:23<4:18:03,  3.34it/s]\n",
      "Epoch 11 \t Training loss: 0.692324281154194 \t Validation loss: 0.6938532611071053 \t \n",
      "\n",
      "10 epoch without improvement\n",
      "Validation_loss hasn't improve in 10 epoch. Stopping training after 11 epochs...\n"
     ]
    },
    {
     "data": {
      "image/png": "[encoded data removed]",
      "text/plain": [
       "<Figure size 640x480 with 1 Axes>"
      ]
     },
     "metadata": {},
     "output_type": "display_data"
    }
   ],
   "source": [
    "learning_rate = 1e-6\n",
    "optimizer = AdamW(model.parameters(), lr=learning_rate,weight_decay=0.1)\n",
    "num_epochs = 100\n",
    "\n",
    "train.train_function(model,num_epochs,dl_train['to'],optimizer,early_stop=10,dl_val=dl_val['to'],save_path=save_path)"
   ]
  },
  {
   "cell_type": "code",
   "execution_count": 20,
   "metadata": {},
   "outputs": [
    {
     "name": "stderr",
     "output_type": "stream",
     "text": [
      "Some weights of the model checkpoint at distilbert-base-cased were not used when initializing DistilBertModel: ['vocab_layer_norm.weight', 'vocab_layer_norm.bias', 'vocab_projector.weight', 'vocab_transform.bias', 'vocab_transform.weight', 'vocab_projector.bias']\n",
      "- This IS expected if you are initializing DistilBertModel from the checkpoint of a model trained on another task or with another architecture (e.g. initializing a BertForSequenceClassification model from a BertForPreTraining model).\n",
      "- This IS NOT expected if you are initializing DistilBertModel from the checkpoint of a model that you expect to be exactly identical (initializing a BertForSequenceClassification model from a BertForSequenceClassification model).\n"
     ]
    },
    {
     "name": "stdout",
     "output_type": "stream",
     "text": [
      "Using scikit learn accuracy por género en el conjunto about\n",
      "GLOBAL: 0.49489795918367346\n",
      "MALE 0.044270833333333336\n",
      "FEMALE 0.9275 \n",
      "\n",
      "Using scikit learn accuracy por género en el conjunto to\n",
      "GLOBAL: 0.48358585858585856\n",
      "MALE 0.06569343065693431\n",
      "FEMALE 0.9343832020997376 \n",
      "\n",
      "Using scikit learn accuracy por género en el conjunto as\n",
      "GLOBAL: 0.4810951760104302\n",
      "MALE 0.050505050505050504\n",
      "FEMALE 0.9407008086253369 \n",
      "\n"
     ]
    }
   ],
   "source": [
    "model = st.SingleTaskDep(model_conf,vocab).to(device)\n",
    "model.load_state_dict(torch.load(save_path))\n",
    "for task in ['about','to','as']:\n",
    "    print(f\"Using scikit learn accuracy por género en el conjunto {task}\")\n",
    "    print(f\"GLOBAL: {train.eval_function_single_sk(model,dl_eval[task])}\")\n",
    "    print(f\"MALE {train.eval_function_single_sk(model,dl_eval[task],gender='male')}\")\n",
    "    print(f\"FEMALE {train.eval_function_single_sk(model,dl_eval[task],gender='female')}\",'\\n')"
   ]
  },
  {
   "attachments": {},
   "cell_type": "markdown",
   "metadata": {},
   "source": [
    "# AS"
   ]
  },
  {
   "cell_type": "code",
   "execution_count": 21,
   "metadata": {},
   "outputs": [
    {
     "name": "stderr",
     "output_type": "stream",
     "text": [
      "Some weights of the model checkpoint at distilbert-base-cased were not used when initializing DistilBertModel: ['vocab_layer_norm.weight', 'vocab_layer_norm.bias', 'vocab_projector.weight', 'vocab_transform.bias', 'vocab_transform.weight', 'vocab_projector.bias']\n",
      "- This IS expected if you are initializing DistilBertModel from the checkpoint of a model trained on another task or with another architecture (e.g. initializing a BertForSequenceClassification model from a BertForPreTraining model).\n",
      "- This IS NOT expected if you are initializing DistilBertModel from the checkpoint of a model that you expect to be exactly identical (initializing a BertForSequenceClassification model from a BertForSequenceClassification model).\n"
     ]
    }
   ],
   "source": [
    "model = st.SingleTaskDep(model_conf,vocab).to(device)\n",
    "save_path='m1_distilbert_dep_pos_AS'"
   ]
  },
  {
   "cell_type": "code",
   "execution_count": 22,
   "metadata": {},
   "outputs": [
    {
     "data": {
      "application/vnd.jupyter.widget-view+json": {
       "model_id": "3714e3d0b7b04909bd411e4b0647f24f",
       "version_major": 2,
       "version_minor": 0
      },
      "text/plain": [
       "  0%|          | 0/57400 [00:00<?, ?it/s]"
      ]
     },
     "metadata": {},
     "output_type": "display_data"
    },
    {
     "name": "stdout",
     "output_type": "stream",
     "text": [
      "Epoch 1 \t Training loss: 0.6944758613765862 \t Validation loss: 0.6922246005575535 \t \n",
      "  1%|          | 574/57400 [03:24<5:43:40,  2.76it/s]\n",
      "Epoch 2 \t Training loss: 0.6929443421471825 \t Validation loss: 0.6916837934720315 \t \n",
      "  2%|▏         | 1148/57400 [06:10<4:13:58,  3.69it/s]\n",
      "Epoch 3 \t Training loss: 0.6915371118937635 \t Validation loss: 0.6918534444550336 \t \n",
      "  3%|▎         | 1722/57400 [09:09<9:19:39,  1.66it/s]\n",
      "Epoch 4 \t Training loss: 0.6901076728873967 \t Validation loss: 0.6917748461335392 \t \n",
      "  4%|▍         | 2296/57400 [12:44<5:34:00,  2.75it/s]\n",
      "Epoch 5 \t Training loss: 0.6886778582886952 \t Validation loss: 0.690820271685972 \t \n",
      "  5%|▌         | 2870/57400 [15:39<4:35:52,  3.29it/s]\n",
      "Epoch 6 \t Training loss: 0.6879472920495874 \t Validation loss: 0.6904090218624827 \t \n",
      "  6%|▌         | 3444/57400 [19:01<5:47:35,  2.59it/s]\n",
      "Epoch 7 \t Training loss: 0.6866304516169253 \t Validation loss: 0.693850787009223 \t \n",
      "\n",
      "1 epoch without improvement\n",
      "  7%|▋         | 4018/57400 [22:30<4:31:55,  3.27it/s]\n",
      "Epoch 8 \t Training loss: 0.6862479098374835 \t Validation loss: 0.6930548073881764 \t \n",
      "\n",
      "2 epoch without improvement\n",
      "  8%|▊         | 4592/57400 [25:21<4:18:21,  3.41it/s]\n",
      "Epoch 9 \t Training loss: 0.6845537578810382 \t Validation loss: 0.6916042788554047 \t \n",
      "\n",
      "3 epoch without improvement\n",
      "  9%|▉         | 5166/57400 [28:13<4:17:05,  3.39it/s]\n",
      "Epoch 10 \t Training loss: 0.6836268709719389 \t Validation loss: 0.6913000143180459 \t \n",
      " 10%|█         | 5740/57400 [31:29<5:08:01,  2.80it/s]\n",
      "Epoch 11 \t Training loss: 0.6824922957279126 \t Validation loss: 0.6898543410382029 \t \n",
      " 11%|█         | 6314/57400 [34:58<3:58:54,  3.56it/s]\n",
      "Epoch 12 \t Training loss: 0.6811109103184544 \t Validation loss: 0.6909967559879109 \t \n",
      "\n",
      "1 epoch without improvement\n",
      " 12%|█▏        | 6888/57400 [38:15<4:22:03,  3.21it/s]\n",
      "Epoch 13 \t Training loss: 0.6800424291489432 \t Validation loss: 0.6931941610271648 \t \n",
      "\n",
      "2 epoch without improvement\n",
      " 13%|█▎        | 7462/57400 [41:43<3:54:55,  3.54it/s]\n",
      "Epoch 14 \t Training loss: 0.6781172674499738 \t Validation loss: 0.6910943328324011 \t \n",
      "\n",
      "3 epoch without improvement\n",
      " 14%|█▍        | 8036/57400 [45:11<5:13:15,  2.63it/s]\n",
      "Epoch 15 \t Training loss: 0.6787142178322796 \t Validation loss: 0.6904507501650665 \t \n",
      " 15%|█▌        | 8610/57400 [48:54<4:45:55,  2.84it/s]\n",
      "Epoch 16 \t Training loss: 0.6766257805276 \t Validation loss: 0.694105672634254 \t \n",
      "\n",
      "4 epoch without improvement\n",
      " 16%|█▌        | 9184/57400 [52:23<4:59:00,  2.69it/s]\n",
      "Epoch 17 \t Training loss: 0.6763390981777204 \t Validation loss: 0.6941405999458442 \t \n",
      "\n",
      "5 epoch without improvement\n",
      " 17%|█▋        | 9758/57400 [55:34<3:57:04,  3.35it/s]\n",
      "Epoch 18 \t Training loss: 0.6755519183255239 \t Validation loss: 0.6921124619952703 \t \n",
      "\n",
      "6 epoch without improvement\n",
      " 18%|█▊        | 10332/57400 [58:31<4:44:09,  2.76it/s]\n",
      "Epoch 19 \t Training loss: 0.6757364754892807 \t Validation loss: 0.6965277285899146 \t \n",
      "\n",
      "7 epoch without improvement\n",
      " 19%|█▉        | 10906/57400 [1:01:23<3:53:19,  3.32it/s]\n",
      "Epoch 20 \t Training loss: 0.6742907565229861 \t Validation loss: 0.6943133463293819 \t \n",
      "\n",
      "8 epoch without improvement\n",
      " 20%|██        | 11480/57400 [1:04:46<4:00:50,  3.18it/s]\n",
      "Epoch 21 \t Training loss: 0.6735310280364565 \t Validation loss: 0.6938555634627908 \t \n",
      "\n",
      "9 epoch without improvement\n",
      " 21%|██        | 12054/57400 [1:08:02<4:36:03,  2.74it/s]\n",
      "Epoch 22 \t Training loss: 0.6733755574201458 \t Validation loss: 0.6977686094025434 \t \n",
      "\n",
      "10 epoch without improvement\n",
      "Validation_loss hasn't improve in 10 epoch. Stopping training after 22 epochs...\n"
     ]
    },
    {
     "data": {
      "image/png": "[encoded data removed]",
      "text/plain": [
       "<Figure size 640x480 with 1 Axes>"
      ]
     },
     "metadata": {},
     "output_type": "display_data"
    }
   ],
   "source": [
    "learning_rate = 1e-6\n",
    "optimizer = AdamW(model.parameters(), lr=learning_rate,weight_decay=0.1)\n",
    "num_epochs = 100\n",
    "\n",
    "train.train_function(model,num_epochs,dl_train['as'],optimizer,early_stop=10,dl_val=dl_val['as'],save_path=save_path)"
   ]
  },
  {
   "cell_type": "code",
   "execution_count": 23,
   "metadata": {},
   "outputs": [
    {
     "name": "stderr",
     "output_type": "stream",
     "text": [
      "Some weights of the model checkpoint at distilbert-base-cased were not used when initializing DistilBertModel: ['vocab_layer_norm.weight', 'vocab_layer_norm.bias', 'vocab_projector.weight', 'vocab_transform.bias', 'vocab_transform.weight', 'vocab_projector.bias']\n",
      "- This IS expected if you are initializing DistilBertModel from the checkpoint of a model trained on another task or with another architecture (e.g. initializing a BertForSequenceClassification model from a BertForPreTraining model).\n",
      "- This IS NOT expected if you are initializing DistilBertModel from the checkpoint of a model that you expect to be exactly identical (initializing a BertForSequenceClassification model from a BertForSequenceClassification model).\n"
     ]
    },
    {
     "name": "stdout",
     "output_type": "stream",
     "text": [
      "Using scikit learn accuracy por género en el conjunto about\n",
      "GLOBAL: 0.673469387755102\n",
      "MALE 0.6458333333333334\n",
      "FEMALE 0.7 \n",
      "\n",
      "Using scikit learn accuracy por género en el conjunto to\n",
      "GLOBAL: 0.6477272727272727\n",
      "MALE 0.6472019464720195\n",
      "FEMALE 0.6482939632545932 \n",
      "\n",
      "Using scikit learn accuracy por género en el conjunto as\n",
      "GLOBAL: 0.6857887874837028\n",
      "MALE 0.6111111111111112\n",
      "FEMALE 0.7654986522911051 \n",
      "\n"
     ]
    }
   ],
   "source": [
    "model = st.SingleTaskDep(model_conf,vocab).to(device)\n",
    "model.load_state_dict(torch.load(save_path))\n",
    "for task in ['about','to','as']:\n",
    "    print(f\"Using scikit learn accuracy por género en el conjunto {task}\")\n",
    "    print(f\"GLOBAL: {train.eval_function_single_sk(model,dl_eval[task])}\")\n",
    "    print(f\"MALE {train.eval_function_single_sk(model,dl_eval[task],gender='male')}\")\n",
    "    print(f\"FEMALE {train.eval_function_single_sk(model,dl_eval[task],gender='female')}\",'\\n')"
   ]
  }
 ],
 "metadata": {
  "kernelspec": {
   "display_name": "tfg",
   "language": "python",
   "name": "python3"
  },
  "language_info": {
   "codemirror_mode": {
    "name": "ipython",
    "version": 3
   },
   "file_extension": ".py",
   "mimetype": "text/x-python",
   "name": "python",
   "nbconvert_exporter": "python",
   "pygments_lexer": "ipython3",
   "version": "3.9.13"
  },
  "orig_nbformat": 4,
  "vscode": {
   "interpreter": {
    "hash": "35e8332e99bdf485583869dfbdef293dcf2f9293b1663ec5daea0a573af457c3"
   }
  }
 },
 "nbformat": 4,
 "nbformat_minor": 2
}
