{
 "cells": [
  {
   "cell_type": "code",
   "execution_count": 1,
   "metadata": {},
   "outputs": [],
   "source": [
    "import torch\n",
    "from torch.utils.data import DataLoader\n",
    "from torch.optim import SGD ,AdamW\n",
    "\n",
    "from datasets import load_dataset, load_metric\n",
    "\n",
    "import matplotlib.pyplot as plt\n",
    "\n",
    "import json\n"
   ]
  },
  {
   "cell_type": "code",
   "execution_count": 2,
   "metadata": {},
   "outputs": [],
   "source": [
    "import utils_generic as generic\n",
    "import multitask_dep as mt\n",
    "import model_confs as confs\n",
    "import train_dep as train"
   ]
  },
  {
   "cell_type": "code",
   "execution_count": 3,
   "metadata": {},
   "outputs": [],
   "source": [
    "device = torch.device(\"cuda\") if torch.cuda.is_available() else torch.device(\"cpu\")\n",
    "torch.manual_seed(27)\n",
    "tasks = ['to','as','about']"
   ]
  },
  {
   "cell_type": "code",
   "execution_count": 4,
   "metadata": {},
   "outputs": [],
   "source": [
    "model_conf = confs.distilbert_conf\n",
    "encoding_type = 'brk'"
   ]
  },
  {
   "attachments": {},
   "cell_type": "markdown",
   "metadata": {},
   "source": [
    "# Datos ConvAI"
   ]
  },
  {
   "cell_type": "code",
   "execution_count": 5,
   "metadata": {},
   "outputs": [],
   "source": [
    "with open('Datasets\\ConvAI2\\convai2_complete.json','r') as f:\n",
    "    data = json.load(f)"
   ]
  },
  {
   "cell_type": "code",
   "execution_count": 6,
   "metadata": {},
   "outputs": [],
   "source": [
    "vocab = mt.Vocabulary(data['train'],encoding_type)"
   ]
  },
  {
   "cell_type": "code",
   "execution_count": 7,
   "metadata": {},
   "outputs": [],
   "source": [
    "convai_train = data['train']\n",
    "convai_val = data['validation']\n",
    "\n",
    "\n",
    "\n",
    "convai_train_token = generic.tokenize_dataset_with_dependencies(convai_train,['about','to','as'],vocab,model_conf) \n",
    "convai_val_token = generic.tokenize_dataset_with_dependencies(convai_val,['about','to','as'],vocab,model_conf) "
   ]
  },
  {
   "cell_type": "code",
   "execution_count": 8,
   "metadata": {},
   "outputs": [],
   "source": [
    "convai_train_dataset = mt.DatasetMultitaskDep(convai_train_token,tasks,eval=False)\n",
    "convai_val_dataset = mt.DatasetMultitaskDep(convai_val_token,tasks,eval=False)"
   ]
  },
  {
   "attachments": {},
   "cell_type": "markdown",
   "metadata": {},
   "source": [
    "# Datos md_gender"
   ]
  },
  {
   "cell_type": "code",
   "execution_count": 9,
   "metadata": {},
   "outputs": [],
   "source": [
    "with open('Datasets\\md_gender\\md_complete.json','r',encoding=\"utf8\") as f:\n",
    "    md_data = json.load(f)"
   ]
  },
  {
   "cell_type": "code",
   "execution_count": 10,
   "metadata": {},
   "outputs": [],
   "source": [
    "md_tokenized = generic.tokenize_dataset_with_dependencies(md_data,['about','to','as'],vocab,model_conf) \n",
    "md_dataset = mt.DatasetMultitaskDep(md_tokenized,tasks,eval=True)"
   ]
  },
  {
   "attachments": {},
   "cell_type": "markdown",
   "metadata": {},
   "source": [
    "# Creación dataloaders"
   ]
  },
  {
   "cell_type": "code",
   "execution_count": 11,
   "metadata": {},
   "outputs": [],
   "source": [
    "dl_train =DataLoader(convai_train_dataset,batch_size=128,shuffle=True,collate_fn=mt.collate_fn)\n",
    "dl_val =DataLoader(convai_val_dataset,batch_size=128,shuffle=True,collate_fn=mt.collate_fn)\n",
    "dl_eval = DataLoader(md_dataset,batch_size=128,shuffle=False,collate_fn=mt.collate_fn)"
   ]
  },
  {
   "attachments": {},
   "cell_type": "markdown",
   "metadata": {},
   "source": [
    "# Modelo multitask"
   ]
  },
  {
   "cell_type": "code",
   "execution_count": 12,
   "metadata": {},
   "outputs": [
    {
     "name": "stderr",
     "output_type": "stream",
     "text": [
      "Some weights of the model checkpoint at distilbert-base-cased were not used when initializing DistilBertModel: ['vocab_layer_norm.weight', 'vocab_projector.bias', 'vocab_projector.weight', 'vocab_transform.weight', 'vocab_layer_norm.bias', 'vocab_transform.bias']\n",
      "- This IS expected if you are initializing DistilBertModel from the checkpoint of a model trained on another task or with another architecture (e.g. initializing a BertForSequenceClassification model from a BertForPreTraining model).\n",
      "- This IS NOT expected if you are initializing DistilBertModel from the checkpoint of a model that you expect to be exactly identical (initializing a BertForSequenceClassification model from a BertForSequenceClassification model).\n"
     ]
    }
   ],
   "source": [
    "model = mt.MultiWithDependencies(model_conf,vocab).to(device)\n",
    "save_path='m1_distilbert_multi_brk_adam'"
   ]
  },
  {
   "cell_type": "code",
   "execution_count": 13,
   "metadata": {},
   "outputs": [
    {
     "data": {
      "application/vnd.jupyter.widget-view+json": {
       "model_id": "10ee15f40c1c46b7ac0865d2b4f7db79",
       "version_major": 2,
       "version_minor": 0
      },
      "text/plain": [
       "  0%|          | 0/57400 [00:00<?, ?it/s]"
      ]
     },
     "metadata": {},
     "output_type": "display_data"
    },
    {
     "name": "stdout",
     "output_type": "stream",
     "text": [
      "Epoch 1 \t Training loss: 2.0491920788529026 \t Validation loss: 2.0100766177904807 \t \n",
      "  1%|          | 574/57400 [02:46<4:19:05,  3.66it/s]\n",
      "Epoch 2 \t Training loss: 1.9900328728795467 \t Validation loss: 1.994971224817179 \t \n",
      "  2%|▏         | 1148/57400 [06:11<4:57:47,  3.15it/s]\n",
      "Epoch 3 \t Training loss: 1.9754772628641295 \t Validation loss: 1.9857320563267853 \t \n",
      "  3%|▎         | 1722/57400 [09:12<2:43:24,  5.68it/s]\n",
      "Epoch 4 \t Training loss: 1.9717803402229468 \t Validation loss: 1.9872546680903032 \t \n",
      "\n",
      "1 epoch without improvement\n",
      "  4%|▍         | 2296/57400 [11:37<3:38:26,  4.20it/s]\n",
      "Epoch 5 \t Training loss: 1.9681523539878765 \t Validation loss: 1.9784106521283167 \t \n",
      "  5%|▌         | 2870/57400 [14:03<3:47:57,  3.99it/s]\n",
      "Epoch 6 \t Training loss: 1.9639177928818228 \t Validation loss: 1.9772408938003798 \t \n",
      "  6%|▌         | 3444/57400 [17:10<4:31:03,  3.32it/s]\n",
      "Epoch 7 \t Training loss: 1.9602602342279947 \t Validation loss: 1.9719700833498421 \t \n",
      "  7%|▋         | 4018/57400 [20:31<4:34:58,  3.24it/s]\n",
      "Epoch 8 \t Training loss: 1.959197495664869 \t Validation loss: 1.9728766033204936 \t \n",
      "\n",
      "1 epoch without improvement\n",
      "  8%|▊         | 4592/57400 [23:59<4:08:25,  3.54it/s]\n",
      "Epoch 9 \t Training loss: 1.9549264887068745 \t Validation loss: 1.9728887808524955 \t \n",
      "\n",
      "2 epoch without improvement\n",
      "  9%|▉         | 5166/57400 [27:23<4:27:41,  3.25it/s]\n",
      "Epoch 10 \t Training loss: 1.954856677337806 \t Validation loss: 1.9739519175836595 \t \n",
      "\n",
      "3 epoch without improvement\n",
      " 10%|█         | 5740/57400 [30:30<3:50:02,  3.74it/s]\n",
      "Epoch 11 \t Training loss: 1.9508558636343023 \t Validation loss: 1.9740957809706865 \t \n",
      "\n",
      "4 epoch without improvement\n",
      " 11%|█         | 6314/57400 [33:35<4:19:19,  3.28it/s]\n",
      "Epoch 12 \t Training loss: 1.9501190519914395 \t Validation loss: 1.9655322604260201 \t \n",
      " 12%|█▏        | 6888/57400 [36:45<5:24:39,  2.59it/s]\n",
      "Epoch 13 \t Training loss: 1.949300327782847 \t Validation loss: 1.9644689559936523 \t \n",
      " 13%|█▎        | 7462/57400 [39:59<4:21:16,  3.19it/s]\n",
      "Epoch 14 \t Training loss: 1.9458559388067664 \t Validation loss: 1.9628799891067763 \t \n",
      " 14%|█▍        | 8036/57400 [43:28<4:19:58,  3.16it/s]\n",
      "Epoch 15 \t Training loss: 1.9439292001807316 \t Validation loss: 1.963145468194606 \t \n",
      "\n",
      "1 epoch without improvement\n",
      " 15%|█▌        | 8610/57400 [46:46<2:43:15,  4.98it/s]\n",
      "Epoch 16 \t Training loss: 1.9457578598829928 \t Validation loss: 1.964249956405769 \t \n",
      "\n",
      "2 epoch without improvement\n",
      " 16%|█▌        | 9184/57400 [49:41<4:00:45,  3.34it/s]\n",
      "Epoch 17 \t Training loss: 1.9431197441828791 \t Validation loss: 1.9610268261473058 \t \n",
      " 17%|█▋        | 9758/57400 [52:36<3:48:30,  3.47it/s]\n",
      "Epoch 18 \t Training loss: 1.94006046912396 \t Validation loss: 1.9637896287239205 \t \n",
      "\n",
      "1 epoch without improvement\n",
      " 18%|█▊        | 10332/57400 [55:30<3:44:15,  3.50it/s]\n",
      "Epoch 19 \t Training loss: 1.9406962054116386 \t Validation loss: 1.9684760550321159 \t \n",
      "\n",
      "2 epoch without improvement\n",
      " 19%|█▉        | 10906/57400 [58:28<3:54:29,  3.30it/s]\n",
      "Epoch 20 \t Training loss: 1.9388222910385928 \t Validation loss: 1.9677726030349731 \t \n",
      "\n",
      "3 epoch without improvement\n",
      " 20%|██        | 11480/57400 [1:01:23<4:02:29,  3.16it/s]\n",
      "Epoch 21 \t Training loss: 1.9366033336842101 \t Validation loss: 1.9713794639555073 \t \n",
      "\n",
      "4 epoch without improvement\n",
      " 21%|██        | 12054/57400 [1:04:19<4:01:22,  3.13it/s]\n",
      "Epoch 22 \t Training loss: 1.9352198938874834 \t Validation loss: 1.9731506392107172 \t \n",
      "\n",
      "5 epoch without improvement\n",
      " 22%|██▏       | 12628/57400 [1:07:16<3:52:44,  3.21it/s]\n",
      "Epoch 23 \t Training loss: 1.935697110064769 \t Validation loss: 1.9676550182245545 \t \n",
      "\n",
      "6 epoch without improvement\n",
      " 23%|██▎       | 13202/57400 [1:10:12<3:21:16,  3.66it/s]\n",
      "Epoch 24 \t Training loss: 1.9350564095616756 \t Validation loss: 1.9645825422416299 \t \n",
      "\n",
      "7 epoch without improvement\n",
      " 24%|██▍       | 13776/57400 [1:13:08<3:26:55,  3.51it/s]\n",
      "Epoch 25 \t Training loss: 1.9344959005661542 \t Validation loss: 1.9665822235204407 \t \n",
      "\n",
      "8 epoch without improvement\n",
      " 25%|██▌       | 14350/57400 [1:16:03<4:11:46,  2.85it/s]\n",
      "Epoch 26 \t Training loss: 1.9328514242006096 \t Validation loss: 1.960168476832115 \t \n",
      " 26%|██▌       | 14924/57400 [1:19:07<3:36:12,  3.27it/s]\n",
      "Epoch 27 \t Training loss: 1.929756382408873 \t Validation loss: 1.9644090725203691 \t \n",
      "\n",
      "1 epoch without improvement\n",
      " 27%|██▋       | 15498/57400 [1:22:28<3:44:18,  3.11it/s]\n",
      "Epoch 28 \t Training loss: 1.9308407722034522 \t Validation loss: 1.9591753907122855 \t \n",
      " 28%|██▊       | 16072/57400 [1:24:55<2:37:32,  4.37it/s]\n",
      "Epoch 29 \t Training loss: 1.9291796864948205 \t Validation loss: 1.971815810365192 \t \n",
      "\n",
      "1 epoch without improvement\n",
      " 29%|██▉       | 16646/57400 [1:27:17<2:34:38,  4.39it/s]\n",
      "Epoch 30 \t Training loss: 1.928798075960073 \t Validation loss: 1.9644007420135756 \t \n",
      "\n",
      "2 epoch without improvement\n",
      " 30%|███       | 17220/57400 [1:29:36<2:29:12,  4.49it/s]\n",
      "Epoch 31 \t Training loss: 1.9254412717520153 \t Validation loss: 1.9633001270940749 \t \n",
      "\n",
      "3 epoch without improvement\n",
      " 31%|███       | 17794/57400 [1:31:59<3:21:02,  3.28it/s]\n",
      "Epoch 32 \t Training loss: 1.9274767421263852 \t Validation loss: 1.9651454990192996 \t \n",
      "\n",
      "4 epoch without improvement\n",
      " 32%|███▏      | 18368/57400 [1:34:23<2:49:22,  3.84it/s]\n",
      "Epoch 33 \t Training loss: 1.9264947904942342 \t Validation loss: 1.9578485913195853 \t \n",
      " 33%|███▎      | 18942/57400 [1:36:47<2:32:18,  4.21it/s]\n",
      "Epoch 34 \t Training loss: 1.9239797054267511 \t Validation loss: 1.965292094117504 \t \n",
      "\n",
      "1 epoch without improvement\n",
      " 34%|███▍      | 19516/57400 [1:39:11<2:57:01,  3.57it/s]\n",
      "Epoch 35 \t Training loss: 1.9239458369045723 \t Validation loss: 1.965587056289285 \t \n",
      "\n",
      "2 epoch without improvement\n",
      " 35%|███▌      | 20090/57400 [1:41:39<2:19:56,  4.44it/s]\n",
      "Epoch 36 \t Training loss: 1.9232300455561913 \t Validation loss: 1.9648741665533034 \t \n",
      "\n",
      "3 epoch without improvement\n",
      " 36%|███▌      | 20664/57400 [1:43:59<2:22:54,  4.28it/s]\n",
      "Epoch 37 \t Training loss: 1.9223209345382266 \t Validation loss: 1.9607908503483917 \t \n",
      "\n",
      "4 epoch without improvement\n",
      " 37%|███▋      | 21238/57400 [1:46:19<2:18:12,  4.36it/s]\n",
      "Epoch 38 \t Training loss: 1.9214198608016304 \t Validation loss: 1.9616897995189084 \t \n",
      "\n",
      "5 epoch without improvement\n",
      " 38%|███▊      | 21812/57400 [1:48:43<2:20:35,  4.22it/s]\n",
      "Epoch 39 \t Training loss: 1.9195184873786952 \t Validation loss: 1.964961140842761 \t \n",
      "\n",
      "6 epoch without improvement\n",
      " 39%|███▉      | 22386/57400 [1:51:05<2:16:54,  4.26it/s]\n",
      "Epoch 40 \t Training loss: 1.9205607967094263 \t Validation loss: 1.963473734209093 \t \n",
      "\n",
      "7 epoch without improvement\n",
      " 40%|████      | 22960/57400 [1:53:29<2:16:56,  4.19it/s]\n",
      "Epoch 41 \t Training loss: 1.918990018891125 \t Validation loss: 1.9637862565153736 \t \n",
      "\n",
      "8 epoch without improvement\n",
      " 41%|████      | 23534/57400 [1:55:49<2:13:22,  4.23it/s]\n",
      "Epoch 42 \t Training loss: 1.9204763122136586 \t Validation loss: 1.9625151884757865 \t \n",
      "\n",
      "9 epoch without improvement\n",
      " 42%|████▏     | 24108/57400 [1:58:08<2:04:32,  4.46it/s]\n",
      "Epoch 43 \t Training loss: 1.9168914984327576 \t Validation loss: 1.968273261846122 \t \n",
      "\n",
      "10 epoch without improvement\n",
      "Validation_loss hasn't improve in 10 epoch. Stopping training after 43 epochs...\n"
     ]
    },
    {
     "data": {
      "image/png": "[encoded data removed]",
      "text/plain": [
       "<Figure size 640x480 with 1 Axes>"
      ]
     },
     "metadata": {},
     "output_type": "display_data"
    }
   ],
   "source": [
    "learning_rate = 1e-6\n",
    "optimizer = AdamW(model.parameters(), lr=learning_rate,weight_decay=0.1)\n",
    "num_epochs = 100\n",
    "train.train_function_multi(model,num_epochs,dl_train,optimizer,early_stop = 10,dl_val = dl_val,save_path=save_path)"
   ]
  },
  {
   "cell_type": "code",
   "execution_count": 14,
   "metadata": {},
   "outputs": [
    {
     "name": "stderr",
     "output_type": "stream",
     "text": [
      "Some weights of the model checkpoint at distilbert-base-cased were not used when initializing DistilBertModel: ['vocab_layer_norm.weight', 'vocab_projector.bias', 'vocab_projector.weight', 'vocab_transform.weight', 'vocab_layer_norm.bias', 'vocab_transform.bias']\n",
      "- This IS expected if you are initializing DistilBertModel from the checkpoint of a model trained on another task or with another architecture (e.g. initializing a BertForSequenceClassification model from a BertForPreTraining model).\n",
      "- This IS NOT expected if you are initializing DistilBertModel from the checkpoint of a model that you expect to be exactly identical (initializing a BertForSequenceClassification model from a BertForSequenceClassification model).\n"
     ]
    },
    {
     "name": "stdout",
     "output_type": "stream",
     "text": [
      "Accuracy evaluando en todas las etiquetas\n",
      "{'to': 0.6755050505050505, 'as': 0.7262059973924381, 'about': 0.8163265306122449}\n",
      "Accuracy evaluando en etiquetas female\n",
      "{'to': 0.6561679790026247, 'as': 0.7466307277628033, 'about': 0.8025}\n",
      "Accuracy evaluando en etiquetas male\n",
      "{'to': 0.6934306569343066, 'as': 0.7070707070707071, 'about': 0.8307291666666666}\n"
     ]
    }
   ],
   "source": [
    "model = mt.MultiWithDependencies(model_conf,vocab).to(device)\n",
    "model.load_state_dict(torch.load(save_path))\n",
    "\n",
    "print(\"Accuracy evaluando en todas las etiquetas\")\n",
    "print(train.eval_function_multi(model,dl_eval,tasks))\n",
    "print(\"Accuracy evaluando en etiquetas female\")\n",
    "print(train.eval_function_multi(model,dl_eval,tasks,'female'))\n",
    "print(\"Accuracy evaluando en etiquetas male\")\n",
    "print(train.eval_function_multi(model,dl_eval,tasks,'male'))"
   ]
  }
 ],
 "metadata": {
  "kernelspec": {
   "display_name": "tfg",
   "language": "python",
   "name": "python3"
  },
  "language_info": {
   "codemirror_mode": {
    "name": "ipython",
    "version": 3
   },
   "file_extension": ".py",
   "mimetype": "text/x-python",
   "name": "python",
   "nbconvert_exporter": "python",
   "pygments_lexer": "ipython3",
   "version": "3.9.13"
  },
  "orig_nbformat": 4,
  "vscode": {
   "interpreter": {
    "hash": "35e8332e99bdf485583869dfbdef293dcf2f9293b1663ec5daea0a573af457c3"
   }
  }
 },
 "nbformat": 4,
 "nbformat_minor": 2
}
