{
 "cells": [
  {
   "cell_type": "code",
   "execution_count": 1,
   "metadata": {},
   "outputs": [],
   "source": [
    "import torch\n",
    "from torch.utils.data import DataLoader\n",
    "from torch.optim import SGD ,AdamW\n",
    "\n",
    "from datasets import load_dataset, load_metric\n",
    "\n",
    "import matplotlib.pyplot as plt\n",
    "\n",
    "import json\n"
   ]
  },
  {
   "cell_type": "code",
   "execution_count": 2,
   "metadata": {},
   "outputs": [],
   "source": [
    "import utils_generic as generic\n",
    "import multitask_dep as mt\n",
    "import model_confs as confs\n",
    "import train_dep as train"
   ]
  },
  {
   "cell_type": "code",
   "execution_count": 3,
   "metadata": {},
   "outputs": [],
   "source": [
    "device = torch.device(\"cuda\") if torch.cuda.is_available() else torch.device(\"cpu\")\n",
    "torch.manual_seed(27)\n",
    "tasks = ['to','as','about']"
   ]
  },
  {
   "cell_type": "code",
   "execution_count": 4,
   "metadata": {},
   "outputs": [],
   "source": [
    "model_conf = confs.distilbert_conf\n",
    "encoding_type = 'relative'"
   ]
  },
  {
   "attachments": {},
   "cell_type": "markdown",
   "metadata": {},
   "source": [
    "# Datos ConvAI"
   ]
  },
  {
   "cell_type": "code",
   "execution_count": 5,
   "metadata": {},
   "outputs": [],
   "source": [
    "with open('Datasets\\ConvAI2\\convai2_complete.json','r') as f:\n",
    "    data = json.load(f)"
   ]
  },
  {
   "cell_type": "code",
   "execution_count": 6,
   "metadata": {},
   "outputs": [],
   "source": [
    "vocab = mt.Vocabulary(data['train'],encoding_type)"
   ]
  },
  {
   "cell_type": "code",
   "execution_count": 7,
   "metadata": {},
   "outputs": [],
   "source": [
    "convai_train = data['train']\n",
    "convai_val = data['validation']\n",
    "\n",
    "\n",
    "\n",
    "convai_train_token = generic.tokenize_dataset_with_dependencies(convai_train,['about','to','as'],vocab,model_conf) \n",
    "convai_val_token = generic.tokenize_dataset_with_dependencies(convai_val,['about','to','as'],vocab,model_conf) "
   ]
  },
  {
   "cell_type": "code",
   "execution_count": 8,
   "metadata": {},
   "outputs": [],
   "source": [
    "convai_train_dataset = mt.DatasetMultitaskDep(convai_train_token,tasks,eval=False)\n",
    "convai_val_dataset = mt.DatasetMultitaskDep(convai_val_token,tasks,eval=False)"
   ]
  },
  {
   "attachments": {},
   "cell_type": "markdown",
   "metadata": {},
   "source": [
    "# Datos md_gender"
   ]
  },
  {
   "cell_type": "code",
   "execution_count": 9,
   "metadata": {},
   "outputs": [],
   "source": [
    "with open('Datasets\\md_gender\\md_complete.json','r',encoding=\"utf8\") as f:\n",
    "    md_data = json.load(f)"
   ]
  },
  {
   "cell_type": "code",
   "execution_count": 10,
   "metadata": {},
   "outputs": [],
   "source": [
    "md_tokenized = generic.tokenize_dataset_with_dependencies(md_data,['about','to','as'],vocab,model_conf) \n",
    "md_dataset = mt.DatasetMultitaskDep(md_tokenized,tasks,eval=True)"
   ]
  },
  {
   "attachments": {},
   "cell_type": "markdown",
   "metadata": {},
   "source": [
    "# Creación dataloaders"
   ]
  },
  {
   "cell_type": "code",
   "execution_count": 11,
   "metadata": {},
   "outputs": [],
   "source": [
    "dl_train =DataLoader(convai_train_dataset,batch_size=128,shuffle=True,collate_fn=mt.collate_fn)\n",
    "dl_val =DataLoader(convai_val_dataset,batch_size=128,shuffle=True,collate_fn=mt.collate_fn)\n",
    "dl_eval = DataLoader(md_dataset,batch_size=128,shuffle=False,collate_fn=mt.collate_fn)"
   ]
  },
  {
   "attachments": {},
   "cell_type": "markdown",
   "metadata": {},
   "source": [
    "# Modelo multitask"
   ]
  },
  {
   "cell_type": "code",
   "execution_count": 12,
   "metadata": {},
   "outputs": [
    {
     "name": "stderr",
     "output_type": "stream",
     "text": [
      "Some weights of the model checkpoint at distilbert-base-cased were not used when initializing DistilBertModel: ['vocab_layer_norm.bias', 'vocab_projector.bias', 'vocab_projector.weight', 'vocab_transform.weight', 'vocab_layer_norm.weight', 'vocab_transform.bias']\n",
      "- This IS expected if you are initializing DistilBertModel from the checkpoint of a model trained on another task or with another architecture (e.g. initializing a BertForSequenceClassification model from a BertForPreTraining model).\n",
      "- This IS NOT expected if you are initializing DistilBertModel from the checkpoint of a model that you expect to be exactly identical (initializing a BertForSequenceClassification model from a BertForSequenceClassification model).\n"
     ]
    },
    {
     "data": {
      "application/vnd.jupyter.widget-view+json": {
       "model_id": "527a6f5607ae447e8c1e7717494a2cd2",
       "version_major": 2,
       "version_minor": 0
      },
      "text/plain": [
       "  0%|          | 0/57400 [00:00<?, ?it/s]"
      ]
     },
     "metadata": {},
     "output_type": "display_data"
    },
    {
     "name": "stdout",
     "output_type": "stream",
     "text": [
      "Epoch 1 \t Training loss: 2.0480798298058196 \t Validation loss: 2.0070728750552163 \t \n",
      "  1%|          | 574/57400 [03:24<4:35:26,  3.44it/s]\n",
      "Epoch 2 \t Training loss: 1.9873725315004276 \t Validation loss: 1.9936131986521057 \t \n",
      "  2%|▏         | 1148/57400 [06:14<3:44:40,  4.17it/s]\n",
      "Epoch 3 \t Training loss: 1.9776125107908082 \t Validation loss: 1.9858162706181155 \t \n",
      "  3%|▎         | 1722/57400 [08:36<3:38:40,  4.24it/s]\n",
      "Epoch 4 \t Training loss: 1.9702940624765404 \t Validation loss: 1.9814938589677973 \t \n",
      "  4%|▍         | 2296/57400 [11:01<3:49:50,  4.00it/s]\n",
      "Epoch 5 \t Training loss: 1.967048790812077 \t Validation loss: 1.979230704954115 \t \n",
      "  5%|▌         | 2870/57400 [13:27<3:49:09,  3.97it/s]\n",
      "Epoch 6 \t Training loss: 1.9641088810116571 \t Validation loss: 1.980542087959031 \t \n",
      "\n",
      "1 epoch without improvement\n",
      "  6%|▌         | 3444/57400 [15:54<4:37:07,  3.24it/s]\n",
      "Epoch 7 \t Training loss: 1.9599467601094926 \t Validation loss: 1.9741522861739336 \t \n",
      "  7%|▋         | 4018/57400 [18:55<4:23:46,  3.37it/s]\n",
      "Epoch 8 \t Training loss: 1.9590278161942751 \t Validation loss: 1.9662728006556882 \t \n",
      "  8%|▊         | 4592/57400 [22:02<4:46:46,  3.07it/s]\n",
      "Epoch 9 \t Training loss: 1.9568355118771463 \t Validation loss: 1.97224855220924 \t \n",
      "\n",
      "1 epoch without improvement\n",
      "  9%|▉         | 5166/57400 [24:59<4:32:00,  3.20it/s]\n",
      "Epoch 10 \t Training loss: 1.954694230797399 \t Validation loss: 1.9675998182620031 \t \n",
      "\n",
      "2 epoch without improvement\n",
      " 10%|█         | 5740/57400 [28:00<4:43:10,  3.04it/s]\n",
      "Epoch 11 \t Training loss: 1.9493741781454053 \t Validation loss: 1.9685134160316597 \t \n",
      "\n",
      "3 epoch without improvement\n",
      " 11%|█         | 6314/57400 [31:10<4:22:39,  3.24it/s]\n",
      "Epoch 12 \t Training loss: 1.9479476765888493 \t Validation loss: 1.974363666469768 \t \n",
      "\n",
      "4 epoch without improvement\n",
      " 12%|█▏        | 6888/57400 [34:06<4:01:25,  3.49it/s]\n",
      "Epoch 13 \t Training loss: 1.9482747337128643 \t Validation loss: 1.967358526536974 \t \n",
      "\n",
      "5 epoch without improvement\n",
      " 13%|█▎        | 7462/57400 [37:05<4:21:15,  3.19it/s]\n",
      "Epoch 14 \t Training loss: 1.9444410800933838 \t Validation loss: 1.9652924820528193 \t \n",
      " 14%|█▍        | 8036/57400 [40:05<4:15:09,  3.22it/s]\n",
      "Epoch 15 \t Training loss: 1.9458820298573696 \t Validation loss: 1.9676655793594102 \t \n",
      "\n",
      "1 epoch without improvement\n",
      " 15%|█▌        | 8610/57400 [43:00<3:59:42,  3.39it/s]\n",
      "Epoch 16 \t Training loss: 1.942485906105839 \t Validation loss: 1.9634356781587763 \t \n",
      " 16%|█▌        | 9184/57400 [46:07<5:57:33,  2.25it/s]\n",
      "Epoch 17 \t Training loss: 1.9416844122085837 \t Validation loss: 1.9726186404793948 \t \n",
      "\n",
      "1 epoch without improvement\n",
      " 17%|█▋        | 9758/57400 [48:52<3:52:44,  3.41it/s]\n",
      "Epoch 18 \t Training loss: 1.940627862352112 \t Validation loss: 1.9628408541113644 \t \n",
      " 18%|█▊        | 10332/57400 [51:37<3:21:07,  3.90it/s]\n",
      "Epoch 19 \t Training loss: 1.940321385237398 \t Validation loss: 1.95973383572142 \t \n",
      " 19%|█▉        | 10906/57400 [54:09<3:36:33,  3.58it/s]\n",
      "Epoch 20 \t Training loss: 1.9388960055773266 \t Validation loss: 1.9661002017683902 \t \n",
      "\n",
      "1 epoch without improvement\n",
      " 20%|██        | 11480/57400 [56:51<3:32:17,  3.61it/s]\n",
      "Epoch 21 \t Training loss: 1.9383599376013885 \t Validation loss: 1.9615171905291282 \t \n",
      "\n",
      "2 epoch without improvement\n",
      " 21%|██        | 12054/57400 [59:35<3:30:24,  3.59it/s]\n",
      "Epoch 22 \t Training loss: 1.9367041679209533 \t Validation loss: 1.9647914009579157 \t \n",
      "\n",
      "3 epoch without improvement\n",
      " 22%|██▏       | 12628/57400 [1:02:18<2:53:14,  4.31it/s]\n",
      "Epoch 23 \t Training loss: 1.9363352178696556 \t Validation loss: 1.9630913936485679 \t \n",
      "\n",
      "4 epoch without improvement\n",
      " 23%|██▎       | 13202/57400 [1:05:02<2:49:44,  4.34it/s]\n",
      "Epoch 24 \t Training loss: 1.9322954943786514 \t Validation loss: 1.9655126050367193 \t \n",
      "\n",
      "5 epoch without improvement\n",
      " 24%|██▍       | 13776/57400 [1:07:45<3:18:51,  3.66it/s]\n",
      "Epoch 25 \t Training loss: 1.9340431605066573 \t Validation loss: 1.9593177185220234 \t \n",
      " 25%|██▌       | 14350/57400 [1:10:28<3:20:06,  3.59it/s]\n",
      "Epoch 26 \t Training loss: 1.9328065977694682 \t Validation loss: 1.9685784073199255 \t \n",
      "\n",
      "1 epoch without improvement\n",
      " 26%|██▌       | 14924/57400 [1:13:01<3:06:37,  3.79it/s]\n",
      "Epoch 27 \t Training loss: 1.9319475899590017 \t Validation loss: 1.9590427107730155 \t \n",
      " 27%|██▋       | 15498/57400 [1:15:42<2:40:22,  4.35it/s]\n",
      "Epoch 28 \t Training loss: 1.9305781186250028 \t Validation loss: 1.9612730478836318 \t \n",
      "\n",
      "1 epoch without improvement\n",
      " 28%|██▊       | 16072/57400 [1:18:25<3:10:43,  3.61it/s]\n",
      "Epoch 29 \t Training loss: 1.9275744142017297 \t Validation loss: 1.9625292167825215 \t \n",
      "\n",
      "2 epoch without improvement\n",
      " 29%|██▉       | 16646/57400 [1:21:09<3:13:32,  3.51it/s]\n",
      "Epoch 30 \t Training loss: 1.9294153036556176 \t Validation loss: 1.9740896891739408 \t \n",
      "\n",
      "3 epoch without improvement\n",
      " 30%|███       | 17220/57400 [1:23:51<3:09:03,  3.54it/s]\n",
      "Epoch 31 \t Training loss: 1.9263482376258132 \t Validation loss: 1.9571900266711995 \t \n",
      " 31%|███       | 17794/57400 [1:26:35<3:08:15,  3.51it/s]\n",
      "Epoch 32 \t Training loss: 1.9258981953514578 \t Validation loss: 1.9703025575411521 \t \n",
      "\n",
      "1 epoch without improvement\n",
      " 32%|███▏      | 18368/57400 [1:29:19<3:00:36,  3.60it/s]\n",
      "Epoch 33 \t Training loss: 1.9276209942970541 \t Validation loss: 1.956448761083312 \t \n",
      " 33%|███▎      | 18942/57400 [1:31:52<2:53:09,  3.70it/s]\n",
      "Epoch 34 \t Training loss: 1.9266269564213239 \t Validation loss: 1.9669288033145969 \t \n",
      "\n",
      "1 epoch without improvement\n",
      " 34%|███▍      | 19516/57400 [1:34:31<3:09:17,  3.34it/s]\n",
      "Epoch 35 \t Training loss: 1.9261920348277075 \t Validation loss: 1.9603072808960738 \t \n",
      "\n",
      "2 epoch without improvement\n",
      " 35%|███▌      | 20090/57400 [1:37:08<2:31:50,  4.10it/s]\n",
      "Epoch 36 \t Training loss: 1.9228669110075522 \t Validation loss: 1.9659299810053938 \t \n",
      "\n",
      "3 epoch without improvement\n",
      " 36%|███▌      | 20664/57400 [1:39:32<2:33:00,  4.00it/s]\n",
      "Epoch 37 \t Training loss: 1.923610505119018 \t Validation loss: 1.9619944964425038 \t \n",
      "\n",
      "4 epoch without improvement\n",
      " 37%|███▋      | 21238/57400 [1:41:59<2:17:26,  4.39it/s]\n",
      "Epoch 38 \t Training loss: 1.9249808665767365 \t Validation loss: 1.9619616472114951 \t \n",
      "\n",
      "5 epoch without improvement\n",
      " 38%|███▊      | 21812/57400 [1:44:20<2:11:02,  4.53it/s]\n",
      "Epoch 39 \t Training loss: 1.9203555567339323 \t Validation loss: 1.9624178551011167 \t \n",
      "\n",
      "6 epoch without improvement\n",
      " 39%|███▉      | 22386/57400 [1:46:52<2:30:50,  3.87it/s]\n",
      "Epoch 40 \t Training loss: 1.9210089627874023 \t Validation loss: 1.9672526828313277 \t \n",
      "\n",
      "7 epoch without improvement\n",
      " 40%|████      | 22960/57400 [1:49:15<3:02:02,  3.15it/s]\n",
      "Epoch 41 \t Training loss: 1.9215443005545214 \t Validation loss: 1.9651515180781736 \t \n",
      "\n",
      "8 epoch without improvement\n",
      " 41%|████      | 23534/57400 [1:52:02<2:25:57,  3.87it/s]\n",
      "Epoch 42 \t Training loss: 1.9159976098595597 \t Validation loss: 1.955726766990403 \t \n",
      " 42%|████▏     | 24108/57400 [1:54:30<2:22:09,  3.90it/s]\n",
      "Epoch 43 \t Training loss: 1.9172463757651192 \t Validation loss: 1.9709734371152974 \t \n",
      "\n",
      "1 epoch without improvement\n",
      " 43%|████▎     | 24682/57400 [1:56:52<2:21:45,  3.85it/s]\n",
      "Epoch 44 \t Training loss: 1.919095655143884 \t Validation loss: 1.9746634313615703 \t \n",
      "\n",
      "2 epoch without improvement\n",
      " 44%|████▍     | 25256/57400 [1:59:15<2:16:42,  3.92it/s]\n",
      "Epoch 45 \t Training loss: 1.917994598686072 \t Validation loss: 1.960417800030466 \t \n",
      "\n",
      "3 epoch without improvement\n",
      " 45%|████▌     | 25830/57400 [2:01:49<2:42:30,  3.24it/s]\n",
      "Epoch 46 \t Training loss: 1.9178602369404836 \t Validation loss: 1.9679353014897492 \t \n",
      "\n",
      "4 epoch without improvement\n",
      " 46%|████▌     | 26404/57400 [2:04:20<2:01:52,  4.24it/s]\n",
      "Epoch 47 \t Training loss: 1.9191015352355478 \t Validation loss: 1.9752460718154907 \t \n",
      "\n",
      "5 epoch without improvement\n",
      " 47%|████▋     | 26978/57400 [2:06:58<2:13:55,  3.79it/s]\n",
      "Epoch 48 \t Training loss: 1.9181525624172198 \t Validation loss: 1.9692128977533114 \t \n",
      "\n",
      "6 epoch without improvement\n",
      " 48%|████▊     | 27552/57400 [2:09:37<2:08:37,  3.87it/s]\n",
      "Epoch 49 \t Training loss: 1.9126444359274275 \t Validation loss: 1.9663495896226268 \t \n",
      "\n",
      "7 epoch without improvement\n",
      " 49%|████▉     | 28126/57400 [2:12:03<1:52:02,  4.35it/s]\n",
      "Epoch 50 \t Training loss: 1.912215584869584 \t Validation loss: 1.9688199819144556 \t \n",
      "\n",
      "8 epoch without improvement\n",
      " 50%|█████     | 28700/57400 [2:14:58<2:27:44,  3.24it/s]\n",
      "Epoch 51 \t Training loss: 1.9153944777279366 \t Validation loss: 1.9590873556622004 \t \n",
      "\n",
      "9 epoch without improvement\n",
      " 51%|█████     | 29274/57400 [2:18:09<1:49:46,  4.27it/s]\n",
      "Epoch 52 \t Training loss: 1.913138252932851 \t Validation loss: 1.9594771700390314 \t \n",
      "\n",
      "10 epoch without improvement\n",
      "Validation_loss hasn't improve in 10 epoch. Stopping training after 52 epochs...\n"
     ]
    },
    {
     "data": {
      "image/png": "[encoded data removed]",
      "text/plain": [
       "<Figure size 640x480 with 1 Axes>"
      ]
     },
     "metadata": {},
     "output_type": "display_data"
    }
   ],
   "source": [
    "model = mt.MultiWithDependencies(model_conf,vocab).to(device)\n",
    "save_path='m1_distilbert_multi_adamw'\n",
    "learning_rate = 1e-6\n",
    "optimizer = AdamW(model.parameters(), lr=learning_rate,weight_decay=0.1)\n",
    "num_epochs = 100\n",
    "train.train_function_multi(model,num_epochs,dl_train,optimizer,early_stop = 10,dl_val = dl_val,save_path=save_path)"
   ]
  },
  {
   "cell_type": "code",
   "execution_count": 14,
   "metadata": {},
   "outputs": [
    {
     "name": "stderr",
     "output_type": "stream",
     "text": [
      "Some weights of the model checkpoint at distilbert-base-cased were not used when initializing DistilBertModel: ['vocab_layer_norm.bias', 'vocab_projector.bias', 'vocab_projector.weight', 'vocab_transform.weight', 'vocab_layer_norm.weight', 'vocab_transform.bias']\n",
      "- This IS expected if you are initializing DistilBertModel from the checkpoint of a model trained on another task or with another architecture (e.g. initializing a BertForSequenceClassification model from a BertForPreTraining model).\n",
      "- This IS NOT expected if you are initializing DistilBertModel from the checkpoint of a model that you expect to be exactly identical (initializing a BertForSequenceClassification model from a BertForSequenceClassification model).\n"
     ]
    },
    {
     "name": "stdout",
     "output_type": "stream",
     "text": [
      "Accuracy evaluando en todas las etiquetas\n",
      "{'to': 0.678030303030303, 'as': 0.7288135593220338, 'about': 0.8125}\n",
      "Accuracy evaluando en etiquetas female\n",
      "{'to': 0.6561679790026247, 'as': 0.7547169811320755, 'about': 0.8}\n",
      "Accuracy evaluando en etiquetas male\n",
      "{'to': 0.6982968369829684, 'as': 0.7045454545454546, 'about': 0.8255208333333334}\n"
     ]
    }
   ],
   "source": [
    "model = mt.MultiWithDependencies(model_conf,vocab).to(device)\n",
    "model.load_state_dict(torch.load(save_path))\n",
    "\n",
    "print(\"Accuracy evaluando en todas las etiquetas\")\n",
    "print(train.eval_function_multi(model,dl_eval,tasks))\n",
    "print(\"Accuracy evaluando en etiquetas female\")\n",
    "print(train.eval_function_multi(model,dl_eval,tasks,'female'))\n",
    "print(\"Accuracy evaluando en etiquetas male\")\n",
    "print(train.eval_function_multi(model,dl_eval,tasks,'male'))"
   ]
  }
 ],
 "metadata": {
  "kernelspec": {
   "display_name": "tfg",
   "language": "python",
   "name": "python3"
  },
  "language_info": {
   "codemirror_mode": {
    "name": "ipython",
    "version": 3
   },
   "file_extension": ".py",
   "mimetype": "text/x-python",
   "name": "python",
   "nbconvert_exporter": "python",
   "pygments_lexer": "ipython3",
   "version": "3.9.13"
  },
  "orig_nbformat": 4,
  "vscode": {
   "interpreter": {
    "hash": "35e8332e99bdf485583869dfbdef293dcf2f9293b1663ec5daea0a573af457c3"
   }
  }
 },
 "nbformat": 4,
 "nbformat_minor": 2
}
