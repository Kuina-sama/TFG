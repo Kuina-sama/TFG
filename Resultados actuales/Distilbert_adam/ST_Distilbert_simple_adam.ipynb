{
 "cells": [
  {
   "cell_type": "code",
   "execution_count": 1,
   "metadata": {},
   "outputs": [],
   "source": [
    "import numpy as np\n",
    "import torch\n",
    "\n",
    "\n",
    "import json\n",
    "from torch.utils.data import DataLoader\n",
    "from torch.optim import SGD,AdamW \n",
    "from torch import nn"
   ]
  },
  {
   "cell_type": "code",
   "execution_count": 2,
   "metadata": {},
   "outputs": [],
   "source": [
    "import utils_generic as generic\n",
    "import singletask_simple as st\n",
    "import model_confs as confs\n",
    "\n",
    "\n",
    "import train"
   ]
  },
  {
   "cell_type": "code",
   "execution_count": 3,
   "metadata": {},
   "outputs": [
    {
     "data": {
      "text/plain": [
       "<torch._C.Generator at 0x25885db4550>"
      ]
     },
     "execution_count": 3,
     "metadata": {},
     "output_type": "execute_result"
    }
   ],
   "source": [
    "device = torch.device(\"cuda\") if torch.cuda.is_available() else torch.device(\"cpu\")\n",
    "torch.manual_seed(27)"
   ]
  },
  {
   "cell_type": "code",
   "execution_count": 4,
   "metadata": {},
   "outputs": [],
   "source": [
    "model_conf = confs.distilbert_conf"
   ]
  },
  {
   "attachments": {},
   "cell_type": "markdown",
   "metadata": {},
   "source": [
    "# Datos ConvAI2"
   ]
  },
  {
   "cell_type": "code",
   "execution_count": 5,
   "metadata": {},
   "outputs": [],
   "source": [
    "with open('Datasets\\ConvAI2\\convai2_complete.json','r') as f:\n",
    "    data = json.load(f)"
   ]
  },
  {
   "cell_type": "code",
   "execution_count": 6,
   "metadata": {},
   "outputs": [],
   "source": [
    "convai_train = data['train']\n",
    "convai_val = data['validation']\n",
    "\n",
    "\n",
    "\n",
    "convai_train_token = generic.tokenize_dataset(convai_train,['about','to','as'],model_conf) \n",
    "convai_val_token = generic.tokenize_dataset(convai_val,['about','to','as'],model_conf) "
   ]
  },
  {
   "cell_type": "code",
   "execution_count": 7,
   "metadata": {},
   "outputs": [],
   "source": [
    "convai_train_dataset = {}\n",
    "for task in ['to','as','about']:\n",
    "    convai_train_dataset[task] = st.DatasetSingleTaskSimple(convai_train_token,task,eval=False)"
   ]
  },
  {
   "cell_type": "code",
   "execution_count": 8,
   "metadata": {},
   "outputs": [],
   "source": [
    "convai_val_dataset = {}\n",
    "for task in ['to','as','about']:\n",
    "    convai_val_dataset[task] = st.DatasetSingleTaskSimple(convai_val_token,task,eval=False)"
   ]
  },
  {
   "cell_type": "code",
   "execution_count": 7,
   "metadata": {},
   "outputs": [],
   "source": [
    "convai_test = data['test']\n",
    "convai_test_token = generic.tokenize_dataset(convai_test,['about','to','as'],model_conf) \n",
    "\n",
    "convai_test_dataset = {}\n",
    "for task in ['to','as','about']:\n",
    "    convai_test_dataset[task] = st.DatasetSingleTaskSimple(convai_test_token,task,eval=True)"
   ]
  },
  {
   "attachments": {},
   "cell_type": "markdown",
   "metadata": {},
   "source": [
    "## Datos md_gender"
   ]
  },
  {
   "cell_type": "code",
   "execution_count": 8,
   "metadata": {},
   "outputs": [],
   "source": [
    "with open('Datasets\\md_gender\\md_complete.json','r',encoding=\"utf8\") as f:\n",
    "    md_data = json.load(f)"
   ]
  },
  {
   "cell_type": "code",
   "execution_count": 9,
   "metadata": {},
   "outputs": [],
   "source": [
    "md_tokenized = generic.tokenize_dataset(md_data,['about','to','as'],model_conf) \n",
    "\n",
    "\n",
    "md_dataset = {}\n",
    "for task in ['to','as','about']:\n",
    "    md_dataset[task] = st.DatasetSingleTaskSimple(md_tokenized,task,eval=True)"
   ]
  },
  {
   "attachments": {},
   "cell_type": "markdown",
   "metadata": {},
   "source": [
    "# Creación dataloaders"
   ]
  },
  {
   "cell_type": "code",
   "execution_count": 11,
   "metadata": {},
   "outputs": [],
   "source": [
    "dl_train = {}\n",
    "for task in ['to','as','about']:\n",
    "    dl_train[task] = DataLoader(convai_train_dataset[task],batch_size=128,shuffle=True,collate_fn=st.collate_fn)"
   ]
  },
  {
   "cell_type": "code",
   "execution_count": 12,
   "metadata": {},
   "outputs": [],
   "source": [
    "dl_val = {}\n",
    "for task in ['to','as','about']:\n",
    "    dl_val[task] = DataLoader(convai_val_dataset[task],batch_size=128,shuffle=True,collate_fn=st.collate_fn)"
   ]
  },
  {
   "cell_type": "code",
   "execution_count": 10,
   "metadata": {},
   "outputs": [],
   "source": [
    "dl_eval = {}\n",
    "for task in ['to','as','about']:\n",
    "    dl_eval[task] = DataLoader(md_dataset[task],batch_size=128,shuffle=False,collate_fn=st.collate_fn)"
   ]
  },
  {
   "cell_type": "code",
   "execution_count": 11,
   "metadata": {},
   "outputs": [],
   "source": [
    "dl_test = {}\n",
    "for task in ['to','as','about']:\n",
    "    dl_test[task] = DataLoader(convai_test_dataset[task],batch_size=128,shuffle=False,collate_fn=st.collate_fn)"
   ]
  },
  {
   "attachments": {},
   "cell_type": "markdown",
   "metadata": {},
   "source": [
    "# ABOUT"
   ]
  },
  {
   "cell_type": "code",
   "execution_count": 19,
   "metadata": {},
   "outputs": [
    {
     "name": "stderr",
     "output_type": "stream",
     "text": [
      "Some weights of the model checkpoint at distilbert-base-cased were not used when initializing DistilBertModel: ['vocab_transform.weight', 'vocab_layer_norm.bias', 'vocab_transform.bias', 'vocab_layer_norm.weight', 'vocab_projector.weight', 'vocab_projector.bias']\n",
      "- This IS expected if you are initializing DistilBertModel from the checkpoint of a model trained on another task or with another architecture (e.g. initializing a BertForSequenceClassification model from a BertForPreTraining model).\n",
      "- This IS NOT expected if you are initializing DistilBertModel from the checkpoint of a model that you expect to be exactly identical (initializing a BertForSequenceClassification model from a BertForSequenceClassification model).\n"
     ]
    }
   ],
   "source": [
    "model = st.SingleTaskSimple(model_conf).to(device)\n",
    "save_path='m1_distilbert_ABOUT_adam'"
   ]
  },
  {
   "cell_type": "code",
   "execution_count": 15,
   "metadata": {},
   "outputs": [
    {
     "data": {
      "application/vnd.jupyter.widget-view+json": {
       "model_id": "16b97e554864483fbbb769539be5c57d",
       "version_major": 2,
       "version_minor": 0
      },
      "text/plain": [
       "  0%|          | 0/57400 [00:00<?, ?it/s]"
      ]
     },
     "metadata": {},
     "output_type": "display_data"
    },
    {
     "name": "stdout",
     "output_type": "stream",
     "text": [
      "Epoch 1 \t Training loss: 0.5787377603585712 \t Validation loss: 0.4205701310755843 \t \n",
      "  1%|          | 574/57400 [02:08<3:27:09,  4.57it/s]\n",
      "Epoch 2 \t Training loss: 0.3901936617462477 \t Validation loss: 0.3591900589102406 \t \n",
      "  2%|▏         | 1148/57400 [04:17<3:33:55,  4.38it/s]\n",
      "Epoch 3 \t Training loss: 0.3526358843265095 \t Validation loss: 0.3432380380266804 \t \n",
      "  3%|▎         | 1722/57400 [06:26<3:17:59,  4.69it/s]\n",
      "Epoch 4 \t Training loss: 0.3332088539045862 \t Validation loss: 0.3327018184176946 \t \n",
      "  4%|▍         | 2296/57400 [08:35<3:25:12,  4.48it/s]\n",
      "Epoch 5 \t Training loss: 0.31924703961257733 \t Validation loss: 0.3246030951455488 \t \n",
      "  5%|▌         | 2870/57400 [10:45<3:48:28,  3.98it/s]\n",
      "Epoch 6 \t Training loss: 0.3078252978700794 \t Validation loss: 0.32068962641691756 \t \n",
      "  6%|▌         | 3444/57400 [12:54<3:14:24,  4.63it/s]\n",
      "Epoch 7 \t Training loss: 0.29832570667570063 \t Validation loss: 0.3150208299442873 \t \n",
      "  7%|▋         | 4018/57400 [15:02<3:12:05,  4.63it/s]\n",
      "Epoch 8 \t Training loss: 0.2896058598358041 \t Validation loss: 0.31160913231009146 \t \n",
      "  8%|▊         | 4592/57400 [17:12<3:14:09,  4.53it/s]\n",
      "Epoch 9 \t Training loss: 0.28352243572681207 \t Validation loss: 0.31027173793922036 \t \n",
      "  9%|▉         | 5166/57400 [19:21<2:35:01,  5.62it/s]\n",
      "Epoch 10 \t Training loss: 0.27617017314720654 \t Validation loss: 0.30611720428628436 \t \n",
      " 10%|█         | 5740/57400 [21:30<3:10:08,  4.53it/s]\n",
      "Epoch 11 \t Training loss: 0.26854519195569104 \t Validation loss: 0.3037492736416348 \t \n",
      " 11%|█         | 6314/57400 [23:38<3:03:26,  4.64it/s]\n",
      "Epoch 12 \t Training loss: 0.2656403766743813 \t Validation loss: 0.3036106170739158 \t \n",
      " 12%|█▏        | 6888/57400 [25:48<2:31:41,  5.55it/s]\n",
      "Epoch 13 \t Training loss: 0.25856572441523085 \t Validation loss: 0.30196734050572926 \t \n",
      " 13%|█▎        | 7462/57400 [27:57<3:03:44,  4.53it/s]\n",
      "Epoch 14 \t Training loss: 0.25284089023435574 \t Validation loss: 0.3011609391640809 \t \n",
      " 14%|█▍        | 8036/57400 [30:07<3:01:59,  4.52it/s]\n",
      "Epoch 15 \t Training loss: 0.24642404778909185 \t Validation loss: 0.30113564305386303 \t \n",
      " 15%|█▌        | 8610/57400 [32:16<2:58:01,  4.57it/s]\n",
      "Epoch 16 \t Training loss: 0.24170021850369117 \t Validation loss: 0.3025135152925879 \t \n",
      "\n",
      "1 epoch without improvement\n",
      " 16%|█▌        | 9184/57400 [34:28<3:12:41,  4.17it/s]\n",
      "Epoch 17 \t Training loss: 0.23805709231242486 \t Validation loss: 0.3001470394053702 \t \n",
      " 17%|█▋        | 9758/57400 [36:43<3:12:28,  4.13it/s]\n",
      "Epoch 18 \t Training loss: 0.23485348791610905 \t Validation loss: 0.30355409671694544 \t \n",
      "\n",
      "1 epoch without improvement\n",
      " 18%|█▊        | 10332/57400 [38:58<3:10:50,  4.11it/s]\n",
      "Epoch 19 \t Training loss: 0.23096036203594988 \t Validation loss: 0.30023584577996854 \t \n",
      " 19%|█▉        | 10906/57400 [41:12<2:58:42,  4.34it/s]\n",
      "Epoch 20 \t Training loss: 0.22553669509416258 \t Validation loss: 0.3008018560328726 \t \n",
      " 20%|██        | 11480/57400 [43:29<3:03:15,  4.18it/s]\n",
      "Epoch 21 \t Training loss: 0.22076099729392587 \t Validation loss: 0.3008634417744006 \t \n",
      " 21%|██        | 12054/57400 [45:47<2:58:45,  4.23it/s]\n",
      "Epoch 22 \t Training loss: 0.2161585904190557 \t Validation loss: 0.3003243983297025 \t \n",
      " 22%|██▏       | 12628/57400 [48:04<2:23:22,  5.20it/s]\n",
      "Epoch 23 \t Training loss: 0.21423781114120932 \t Validation loss: 0.30231427451816656 \t \n",
      "\n",
      "2 epoch without improvement\n",
      " 23%|██▎       | 13202/57400 [50:19<2:18:13,  5.33it/s]\n",
      "Epoch 24 \t Training loss: 0.2104589819311057 \t Validation loss: 0.3021527013536227 \t \n",
      "\n",
      "3 epoch without improvement\n",
      " 24%|██▍       | 13776/57400 [52:30<2:38:18,  4.59it/s]\n",
      "Epoch 25 \t Training loss: 0.20715637113055285 \t Validation loss: 0.3029847991163448 \t \n",
      "\n",
      "4 epoch without improvement\n",
      " 25%|██▌       | 14350/57400 [54:39<2:11:28,  5.46it/s]\n",
      "Epoch 26 \t Training loss: 0.20097601182680927 \t Validation loss: 0.3050793333578918 \t \n",
      "\n",
      "5 epoch without improvement\n",
      " 26%|██▌       | 14924/57400 [56:48<2:36:40,  4.52it/s]\n",
      "Epoch 27 \t Training loss: 0.19891471700022445 \t Validation loss: 0.30464326830233557 \t \n",
      "\n",
      "6 epoch without improvement\n",
      " 27%|██▋       | 15498/57400 [58:56<2:34:39,  4.52it/s]\n",
      "Epoch 28 \t Training loss: 0.19593443377560024 \t Validation loss: 0.3069055615845373 \t \n",
      "\n",
      "7 epoch without improvement\n",
      " 28%|██▊       | 16072/57400 [1:01:05<2:35:57,  4.42it/s]\n",
      "Epoch 29 \t Training loss: 0.19337337117525344 \t Validation loss: 0.3073809369135711 \t \n",
      "\n",
      "8 epoch without improvement\n",
      " 29%|██▉       | 16646/57400 [1:03:14<2:04:19,  5.46it/s]\n",
      "Epoch 30 \t Training loss: 0.19030465340105499 \t Validation loss: 0.31320131759522324 \t \n",
      "\n",
      "9 epoch without improvement\n",
      " 30%|███       | 17220/57400 [1:05:24<2:34:17,  4.34it/s]\n",
      "Epoch 31 \t Training loss: 0.18673509164658159 \t Validation loss: 0.31013620733204533 \t \n",
      "\n",
      "10 epoch without improvement\n",
      "Validation_loss hasn't improve in 10 epoch. Stopping training after 31 epochs...\n"
     ]
    },
    {
     "data": {
      "image/png": "[encoded data removed]",
      "text/plain": [
       "<Figure size 640x480 with 1 Axes>"
      ]
     },
     "metadata": {},
     "output_type": "display_data"
    }
   ],
   "source": [
    "learning_rate = 1e-6\n",
    "optimizer = AdamW(model.parameters(), lr=learning_rate,weight_decay=0.1)\n",
    "num_epochs = 100\n",
    "\n",
    "train.train_function(model,num_epochs,dl_train['about'],optimizer,early_stop=10,dl_val=dl_val['about'],save_path=save_path)"
   ]
  },
  {
   "cell_type": "code",
   "execution_count": 16,
   "metadata": {},
   "outputs": [
    {
     "name": "stderr",
     "output_type": "stream",
     "text": [
      "Some weights of the model checkpoint at distilbert-base-cased were not used when initializing DistilBertModel: ['vocab_projector.weight', 'vocab_layer_norm.bias', 'vocab_layer_norm.weight', 'vocab_transform.bias', 'vocab_transform.weight', 'vocab_projector.bias']\n",
      "- This IS expected if you are initializing DistilBertModel from the checkpoint of a model trained on another task or with another architecture (e.g. initializing a BertForSequenceClassification model from a BertForPreTraining model).\n",
      "- This IS NOT expected if you are initializing DistilBertModel from the checkpoint of a model that you expect to be exactly identical (initializing a BertForSequenceClassification model from a BertForSequenceClassification model).\n"
     ]
    },
    {
     "name": "stdout",
     "output_type": "stream",
     "text": [
      "Using scikit learn accuracy por género en el conjunto about\n",
      "GLOBAL: 0.8290816326530612\n",
      "MALE 0.8072916666666666\n",
      "FEMALE 0.85 \n",
      "\n",
      "Using scikit learn accuracy por género en el conjunto to\n",
      "GLOBAL: 0.6603535353535354\n",
      "MALE 0.635036496350365\n",
      "FEMALE 0.6876640419947506 \n",
      "\n",
      "Using scikit learn accuracy por género en el conjunto as\n",
      "GLOBAL: 0.6766623207301173\n",
      "MALE 0.6338383838383839\n",
      "FEMALE 0.7223719676549866 \n",
      "\n"
     ]
    }
   ],
   "source": [
    "\n",
    "model = st.SingleTaskSimple(model_conf).to(device)\n",
    "model.load_state_dict(torch.load(save_path))\n",
    "\n",
    "for task in ['about','to','as']:\n",
    "   \n",
    "    print(f\"Using scikit learn accuracy por género en el conjunto {task}\")\n",
    "    print(f\"GLOBAL: {train.eval_function_single_sk(model,dl_eval[task])}\")\n",
    "    print(f\"MALE {train.eval_function_single_sk(model,dl_eval[task],gender='male')}\")\n",
    "    print(f\"FEMALE {train.eval_function_single_sk(model,dl_eval[task],gender='female')}\",'\\n')"
   ]
  },
  {
   "cell_type": "code",
   "execution_count": 20,
   "metadata": {},
   "outputs": [
    {
     "name": "stderr",
     "output_type": "stream",
     "text": [
      "Some weights of the model checkpoint at distilbert-base-cased were not used when initializing DistilBertModel: ['vocab_transform.weight', 'vocab_layer_norm.bias', 'vocab_transform.bias', 'vocab_layer_norm.weight', 'vocab_projector.weight', 'vocab_projector.bias']\n",
      "- This IS expected if you are initializing DistilBertModel from the checkpoint of a model trained on another task or with another architecture (e.g. initializing a BertForSequenceClassification model from a BertForPreTraining model).\n",
      "- This IS NOT expected if you are initializing DistilBertModel from the checkpoint of a model that you expect to be exactly identical (initializing a BertForSequenceClassification model from a BertForSequenceClassification model).\n"
     ]
    },
    {
     "name": "stdout",
     "output_type": "stream",
     "text": [
      "Using scikit learn accuracy por género en el conjunto about\n",
      "GLOBAL: 0.8703185392509662\n",
      "MALE 0.8970691676436108\n",
      "FEMALE 0.8350833848054354 \n",
      "\n",
      "Using scikit learn accuracy por género en el conjunto to\n",
      "GLOBAL: 0.5040650406504065\n",
      "MALE 0.596\n",
      "FEMALE 0.43286978508217444 \n",
      "\n",
      "Using scikit learn accuracy por género en el conjunto as\n",
      "GLOBAL: 0.5111288817806211\n",
      "MALE 0.5996077332586158\n",
      "FEMALE 0.4385348720521826 \n",
      "\n"
     ]
    }
   ],
   "source": [
    "\n",
    "model = st.SingleTaskSimple(model_conf).to(device)\n",
    "model.load_state_dict(torch.load(save_path))\n",
    "\n",
    "for task in ['about','to','as']:\n",
    "   \n",
    "    print(f\"Using scikit learn accuracy por género en el conjunto {task}\")\n",
    "    print(f\"GLOBAL: {train.eval_function_single_sk(model,dl_test[task])}\")\n",
    "    print(f\"MALE {train.eval_function_single_sk(model,dl_test[task],gender='male')}\")\n",
    "    print(f\"FEMALE {train.eval_function_single_sk(model,dl_test[task],gender='female')}\",'\\n')"
   ]
  },
  {
   "attachments": {},
   "cell_type": "markdown",
   "metadata": {},
   "source": [
    "# TO"
   ]
  },
  {
   "cell_type": "code",
   "execution_count": 29,
   "metadata": {},
   "outputs": [
    {
     "name": "stderr",
     "output_type": "stream",
     "text": [
      "Some weights of the model checkpoint at distilbert-base-cased were not used when initializing DistilBertModel: ['vocab_transform.weight', 'vocab_layer_norm.bias', 'vocab_transform.bias', 'vocab_layer_norm.weight', 'vocab_projector.weight', 'vocab_projector.bias']\n",
      "- This IS expected if you are initializing DistilBertModel from the checkpoint of a model trained on another task or with another architecture (e.g. initializing a BertForSequenceClassification model from a BertForPreTraining model).\n",
      "- This IS NOT expected if you are initializing DistilBertModel from the checkpoint of a model that you expect to be exactly identical (initializing a BertForSequenceClassification model from a BertForSequenceClassification model).\n"
     ]
    }
   ],
   "source": [
    "model = st.SingleTaskSimple(model_conf).to(device)\n",
    "save_path='m1_distilbert_TO_adam'"
   ]
  },
  {
   "cell_type": "code",
   "execution_count": 18,
   "metadata": {},
   "outputs": [
    {
     "data": {
      "application/vnd.jupyter.widget-view+json": {
       "model_id": "93106d6bc7734001a70582599bb418f8",
       "version_major": 2,
       "version_minor": 0
      },
      "text/plain": [
       "  0%|          | 0/57400 [00:00<?, ?it/s]"
      ]
     },
     "metadata": {},
     "output_type": "display_data"
    },
    {
     "name": "stdout",
     "output_type": "stream",
     "text": [
      "Epoch 1 \t Training loss: 0.6953010200831118 \t Validation loss: 0.6936414433737933 \t \n",
      "  1%|          | 574/57400 [02:09<3:23:39,  4.65it/s]\n",
      "Epoch 2 \t Training loss: 0.6941195333876261 \t Validation loss: 0.6931308851403705 \t \n",
      "  2%|▏         | 1148/57400 [04:17<3:23:39,  4.60it/s]\n",
      "Epoch 3 \t Training loss: 0.693442328881719 \t Validation loss: 0.6939917085534435 \t \n",
      "  3%|▎         | 1722/57400 [06:24<3:20:14,  4.63it/s]\n",
      "Epoch 4 \t Training loss: 0.693187739583258 \t Validation loss: 0.6935343883805356 \t \n",
      "  4%|▍         | 2296/57400 [08:32<3:17:28,  4.65it/s]\n",
      "Epoch 5 \t Training loss: 0.693251896506818 \t Validation loss: 0.6935173434726263 \t \n",
      "  5%|▌         | 2870/57400 [10:41<2:43:28,  5.56it/s]\n",
      "Epoch 6 \t Training loss: 0.6931047845592897 \t Validation loss: 0.6928112830145884 \t \n",
      "  6%|▌         | 3444/57400 [12:49<3:18:45,  4.52it/s]\n",
      "Epoch 7 \t Training loss: 0.6929542408795307 \t Validation loss: 0.6933054459297051 \t \n",
      "  7%|▋         | 4018/57400 [14:56<3:14:39,  4.57it/s]\n",
      "Epoch 8 \t Training loss: 0.6928972466897466 \t Validation loss: 0.6934464028326132 \t \n",
      "  8%|▊         | 4592/57400 [17:03<2:44:25,  5.35it/s]\n",
      "Epoch 9 \t Training loss: 0.692953289385872 \t Validation loss: 0.6932883060584634 \t \n",
      "  9%|▉         | 5166/57400 [19:11<3:06:47,  4.66it/s]\n",
      "Epoch 10 \t Training loss: 0.6926666690289767 \t Validation loss: 0.6931074696072077 \t \n",
      " 10%|█         | 5740/57400 [21:20<3:06:09,  4.63it/s]\n",
      "Epoch 11 \t Training loss: 0.6925931750481967 \t Validation loss: 0.6944904862824133 \t \n",
      "\n",
      "1 epoch without improvement\n",
      " 11%|█         | 6314/57400 [23:29<3:16:22,  4.34it/s]\n",
      "Epoch 12 \t Training loss: 0.6922429683731823 \t Validation loss: 0.6959558988021592 \t \n",
      "\n",
      "2 epoch without improvement\n",
      " 12%|█▏        | 6888/57400 [25:43<3:04:02,  4.57it/s]\n",
      "Epoch 13 \t Training loss: 0.6923454549254441 \t Validation loss: 0.693127253298032 \t \n",
      " 13%|█▎        | 7462/57400 [27:57<3:09:43,  4.39it/s]\n",
      "Epoch 14 \t Training loss: 0.6920306914151754 \t Validation loss: 0.6930494429701466 \t \n",
      " 14%|█▍        | 8036/57400 [30:12<2:42:17,  5.07it/s]\n",
      "Epoch 15 \t Training loss: 0.6920500227383205 \t Validation loss: 0.6928682185835757 \t \n",
      " 15%|█▌        | 8610/57400 [32:27<3:03:45,  4.43it/s]\n",
      "Epoch 16 \t Training loss: 0.6917511980708052 \t Validation loss: 0.6948948947049803 \t \n",
      "\n",
      "3 epoch without improvement\n",
      " 16%|█▌        | 9184/57400 [34:43<3:05:46,  4.33it/s]\n",
      "Epoch 17 \t Training loss: 0.6914909906711313 \t Validation loss: 0.6941078901290894 \t \n",
      "\n",
      "4 epoch without improvement\n",
      " 17%|█▋        | 9758/57400 [36:55<2:55:12,  4.53it/s]\n",
      "Epoch 18 \t Training loss: 0.6915545001470254 \t Validation loss: 0.6930191526978703 \t \n",
      " 18%|█▊        | 10332/57400 [39:04<2:26:55,  5.34it/s]\n",
      "Epoch 19 \t Training loss: 0.691306368918369 \t Validation loss: 0.6929632273770995 \t \n",
      " 19%|█▉        | 10906/57400 [41:13<2:42:13,  4.78it/s]\n",
      "Epoch 20 \t Training loss: 0.6909168115476283 \t Validation loss: 0.6942815952381846 \t \n",
      "\n",
      "5 epoch without improvement\n",
      " 20%|██        | 11480/57400 [43:21<2:17:41,  5.56it/s]\n",
      "Epoch 21 \t Training loss: 0.6910720735476823 \t Validation loss: 0.6935260285765438 \t \n",
      " 21%|██        | 12054/57400 [45:29<2:43:52,  4.61it/s]\n",
      "Epoch 22 \t Training loss: 0.6909478234081734 \t Validation loss: 0.6934789055484837 \t \n",
      " 22%|██▏       | 12628/57400 [47:39<2:47:06,  4.47it/s]\n",
      "Epoch 23 \t Training loss: 0.6906673461718011 \t Validation loss: 0.6951210488707332 \t \n",
      "\n",
      "6 epoch without improvement\n",
      " 23%|██▎       | 13202/57400 [49:48<2:42:08,  4.54it/s]\n",
      "Epoch 24 \t Training loss: 0.6901490448451624 \t Validation loss: 0.6936646124063912 \t \n",
      " 24%|██▍       | 13776/57400 [51:57<2:36:14,  4.65it/s]\n",
      "Epoch 25 \t Training loss: 0.6904597158839063 \t Validation loss: 0.6939055707495091 \t \n",
      "\n",
      "7 epoch without improvement\n",
      " 25%|██▌       | 14350/57400 [54:05<2:32:35,  4.70it/s]\n",
      "Epoch 26 \t Training loss: 0.6903274814218594 \t Validation loss: 0.695239222655862 \t \n",
      "\n",
      "8 epoch without improvement\n",
      " 26%|██▌       | 14924/57400 [56:13<2:29:10,  4.75it/s]\n",
      "Epoch 27 \t Training loss: 0.6896638707209132 \t Validation loss: 0.6942388960870646 \t \n",
      "\n",
      "9 epoch without improvement\n",
      " 27%|██▋       | 15498/57400 [58:22<2:31:41,  4.60it/s]\n",
      "Epoch 28 \t Training loss: 0.6894093035405521 \t Validation loss: 0.6959582153013197 \t \n",
      "\n",
      "10 epoch without improvement\n",
      "Validation_loss hasn't improve in 10 epoch. Stopping training after 28 epochs...\n"
     ]
    },
    {
     "data": {
      "image/png": "[encoded data removed]",
      "text/plain": [
       "<Figure size 640x480 with 1 Axes>"
      ]
     },
     "metadata": {},
     "output_type": "display_data"
    }
   ],
   "source": [
    "learning_rate = 1e-6\n",
    "optimizer = AdamW(model.parameters(), lr=learning_rate,weight_decay=0.1)\n",
    "num_epochs = 100\n",
    "\n",
    "train.train_function(model,num_epochs,dl_train['to'],optimizer,early_stop=10,dl_val=dl_val['to'],save_path=save_path)"
   ]
  },
  {
   "cell_type": "code",
   "execution_count": 19,
   "metadata": {},
   "outputs": [
    {
     "name": "stderr",
     "output_type": "stream",
     "text": [
      "Some weights of the model checkpoint at distilbert-base-cased were not used when initializing DistilBertModel: ['vocab_projector.weight', 'vocab_layer_norm.bias', 'vocab_layer_norm.weight', 'vocab_transform.bias', 'vocab_transform.weight', 'vocab_projector.bias']\n",
      "- This IS expected if you are initializing DistilBertModel from the checkpoint of a model trained on another task or with another architecture (e.g. initializing a BertForSequenceClassification model from a BertForPreTraining model).\n",
      "- This IS NOT expected if you are initializing DistilBertModel from the checkpoint of a model that you expect to be exactly identical (initializing a BertForSequenceClassification model from a BertForSequenceClassification model).\n"
     ]
    },
    {
     "name": "stdout",
     "output_type": "stream",
     "text": [
      "GLOBAL: 0.48086734693877553 \n",
      "\n",
      "Using scikit learn accuracy por género en el conjunto about\n",
      "MALE 0.6041666666666666\n",
      "FEMALE 0.3625 \n",
      "\n",
      "GLOBAL: 0.5113636363636364 \n",
      "\n",
      "Using scikit learn accuracy por género en el conjunto to\n",
      "MALE 0.6520681265206812\n",
      "FEMALE 0.35958005249343833 \n",
      "\n",
      "GLOBAL: 0.49282920469361147 \n",
      "\n",
      "Using scikit learn accuracy por género en el conjunto as\n",
      "MALE 0.49242424242424243\n",
      "FEMALE 0.49326145552560646 \n",
      "\n"
     ]
    }
   ],
   "source": [
    "model = st.SingleTaskSimple(model_conf).to(device)\n",
    "model.load_state_dict(torch.load(save_path))\n",
    "\n",
    "for task in ['about','to','as']:\n",
    "    print(f\"GLOBAL: {train.eval_function_single_sk(model,dl_eval[task])}\",'\\n')\n",
    "    print(f\"Using scikit learn accuracy por género en el conjunto {task}\")\n",
    "    print(f\"MALE {train.eval_function_single_sk(model,dl_eval[task],gender='male')}\")\n",
    "    print(f\"FEMALE {train.eval_function_single_sk(model,dl_eval[task],gender='female')}\",'\\n')"
   ]
  },
  {
   "cell_type": "code",
   "execution_count": 31,
   "metadata": {},
   "outputs": [
    {
     "name": "stderr",
     "output_type": "stream",
     "text": [
      "Some weights of the model checkpoint at distilbert-base-cased were not used when initializing DistilBertModel: ['vocab_transform.weight', 'vocab_layer_norm.bias', 'vocab_transform.bias', 'vocab_layer_norm.weight', 'vocab_projector.weight', 'vocab_projector.bias']\n",
      "- This IS expected if you are initializing DistilBertModel from the checkpoint of a model trained on another task or with another architecture (e.g. initializing a BertForSequenceClassification model from a BertForPreTraining model).\n",
      "- This IS NOT expected if you are initializing DistilBertModel from the checkpoint of a model that you expect to be exactly identical (initializing a BertForSequenceClassification model from a BertForSequenceClassification model).\n"
     ]
    },
    {
     "name": "stdout",
     "output_type": "stream",
     "text": [
      "Using scikit learn accuracy por género en el conjunto about\n",
      "GLOBAL: 0.5615087298413968\n",
      "MALE 0.4044548651817116\n",
      "FEMALE 0.7683755404570722 \n",
      "\n",
      "Using scikit learn accuracy por género en el conjunto to\n",
      "GLOBAL: 0.5073970411835266\n",
      "MALE 0.3320235756385069\n",
      "FEMALE 0.6645521441258564 \n",
      "\n",
      "Using scikit learn accuracy por género en el conjunto as\n",
      "GLOBAL: 0.5140610422497668\n",
      "MALE 0.3426395939086294\n",
      "FEMALE 0.6805240614764424 \n",
      "\n"
     ]
    }
   ],
   "source": [
    "model = st.SingleTaskSimple(model_conf).to(device)\n",
    "model.load_state_dict(torch.load(save_path))\n",
    "\n",
    "for task in ['about','to','as']:\n",
    "   \n",
    "    print(f\"Using scikit learn accuracy por género en el conjunto {task}\")\n",
    "    print(f\"GLOBAL: {train.eval_function_single_sk(model,dl_test[task])}\")\n",
    "    print(f\"MALE {train.eval_function_single_sk(model,dl_test[task],gender='male')}\")\n",
    "    print(f\"FEMALE {train.eval_function_single_sk(model,dl_test[task],gender='female')}\",'\\n')"
   ]
  },
  {
   "attachments": {},
   "cell_type": "markdown",
   "metadata": {},
   "source": [
    "# AS"
   ]
  },
  {
   "cell_type": "code",
   "execution_count": 20,
   "metadata": {},
   "outputs": [
    {
     "name": "stderr",
     "output_type": "stream",
     "text": [
      "Some weights of the model checkpoint at distilbert-base-cased were not used when initializing DistilBertModel: ['vocab_projector.weight', 'vocab_layer_norm.bias', 'vocab_layer_norm.weight', 'vocab_transform.bias', 'vocab_transform.weight', 'vocab_projector.bias']\n",
      "- This IS expected if you are initializing DistilBertModel from the checkpoint of a model trained on another task or with another architecture (e.g. initializing a BertForSequenceClassification model from a BertForPreTraining model).\n",
      "- This IS NOT expected if you are initializing DistilBertModel from the checkpoint of a model that you expect to be exactly identical (initializing a BertForSequenceClassification model from a BertForSequenceClassification model).\n"
     ]
    }
   ],
   "source": [
    "model = st.SingleTaskSimple(model_conf).to(device)\n",
    "save_path='m1_distilbert_AS_adam'"
   ]
  },
  {
   "cell_type": "code",
   "execution_count": 21,
   "metadata": {},
   "outputs": [
    {
     "data": {
      "application/vnd.jupyter.widget-view+json": {
       "model_id": "8eb297b703c64fcdb8fb9c03f2fc85fa",
       "version_major": 2,
       "version_minor": 0
      },
      "text/plain": [
       "  0%|          | 0/57400 [00:00<?, ?it/s]"
      ]
     },
     "metadata": {},
     "output_type": "display_data"
    },
    {
     "name": "stdout",
     "output_type": "stream",
     "text": [
      "Epoch 1 \t Training loss: 0.6953757495622601 \t Validation loss: 0.6921219492362718 \t \n",
      "  1%|          | 574/57400 [02:07<2:53:20,  5.46it/s]\n",
      "Epoch 2 \t Training loss: 0.6938062067231234 \t Validation loss: 0.6918491559513544 \t \n",
      "  2%|▏         | 1148/57400 [04:15<3:25:59,  4.55it/s]\n",
      "Epoch 3 \t Training loss: 0.6923914565234234 \t Validation loss: 0.6921710968017578 \t \n",
      "  3%|▎         | 1722/57400 [06:24<3:26:23,  4.50it/s]\n",
      "Epoch 4 \t Training loss: 0.69126322356666 \t Validation loss: 0.6932954959950205 \t \n",
      "\n",
      "1 epoch without improvement\n",
      "  4%|▍         | 2296/57400 [08:30<3:18:08,  4.63it/s]\n",
      "Epoch 5 \t Training loss: 0.6900827700875778 \t Validation loss: 0.6926951317463891 \t \n",
      "  5%|▌         | 2870/57400 [10:33<3:08:56,  4.81it/s]\n",
      "Epoch 6 \t Training loss: 0.6887615184958388 \t Validation loss: 0.6936347393666283 \t \n",
      "\n",
      "2 epoch without improvement\n",
      "  6%|▌         | 3444/57400 [12:36<3:08:13,  4.78it/s]\n",
      "Epoch 7 \t Training loss: 0.6881769851940435 \t Validation loss: 0.6913180987713701 \t \n",
      "  7%|▋         | 4018/57400 [14:40<3:02:45,  4.87it/s]\n",
      "Epoch 8 \t Training loss: 0.6872689715661239 \t Validation loss: 0.6904056435924465 \t \n",
      "  8%|▊         | 4592/57400 [16:44<3:08:38,  4.67it/s]\n",
      "Epoch 9 \t Training loss: 0.6853994219352975 \t Validation loss: 0.6925550860873724 \t \n",
      "\n",
      "1 epoch without improvement\n",
      "  9%|▉         | 5166/57400 [18:47<2:58:52,  4.87it/s]\n",
      "Epoch 10 \t Training loss: 0.6848724590361326 \t Validation loss: 0.6930611416444941 \t \n",
      "\n",
      "2 epoch without improvement\n",
      " 10%|█         | 5740/57400 [20:50<2:57:36,  4.85it/s]\n",
      "Epoch 11 \t Training loss: 0.6836685716898184 \t Validation loss: 0.692674887382378 \t \n",
      "\n",
      "3 epoch without improvement\n",
      " 11%|█         | 6314/57400 [22:53<2:54:49,  4.87it/s]\n",
      "Epoch 12 \t Training loss: 0.6823120035153233 \t Validation loss: 0.6908413343510386 \t \n",
      " 12%|█▏        | 6888/57400 [24:56<2:52:48,  4.87it/s]\n",
      "Epoch 13 \t Training loss: 0.6809167007328326 \t Validation loss: 0.690959949614638 \t \n",
      " 13%|█▎        | 7462/57400 [27:00<2:53:57,  4.78it/s]\n",
      "Epoch 14 \t Training loss: 0.679873652989856 \t Validation loss: 0.6890254101510775 \t \n",
      " 14%|█▍        | 8036/57400 [29:03<2:51:12,  4.81it/s]\n",
      "Epoch 15 \t Training loss: 0.6786793489074042 \t Validation loss: 0.6907089888039282 \t \n",
      "\n",
      "1 epoch without improvement\n",
      " 15%|█▌        | 8610/57400 [31:06<3:18:53,  4.09it/s]\n",
      "Epoch 16 \t Training loss: 0.678497116740157 \t Validation loss: 0.6909744608200202 \t \n",
      "\n",
      "2 epoch without improvement\n",
      " 16%|█▌        | 9184/57400 [33:10<2:18:12,  5.81it/s]\n",
      "Epoch 17 \t Training loss: 0.6777585577674028 \t Validation loss: 0.691037141670615 \t \n",
      "\n",
      "3 epoch without improvement\n",
      " 17%|█▋        | 9758/57400 [35:13<2:53:48,  4.57it/s]\n",
      "Epoch 18 \t Training loss: 0.6769494701968668 \t Validation loss: 0.6915098600468393 \t \n",
      "\n",
      "4 epoch without improvement\n",
      " 18%|█▊        | 10332/57400 [37:16<2:18:34,  5.66it/s]\n",
      "Epoch 19 \t Training loss: 0.6758034165935649 \t Validation loss: 0.6961768330153772 \t \n",
      "\n",
      "5 epoch without improvement\n",
      " 19%|█▉        | 10906/57400 [39:19<2:14:01,  5.78it/s]\n",
      "Epoch 20 \t Training loss: 0.676198686768369 \t Validation loss: 0.6957356303425158 \t \n",
      "\n",
      "6 epoch without improvement\n",
      " 20%|██        | 11480/57400 [41:22<2:39:49,  4.79it/s]\n",
      "Epoch 21 \t Training loss: 0.6742835169469853 \t Validation loss: 0.6959543763580969 \t \n",
      "\n",
      "7 epoch without improvement\n",
      " 21%|██        | 12054/57400 [43:25<2:38:23,  4.77it/s]\n",
      "Epoch 22 \t Training loss: 0.6738401837257558 \t Validation loss: 0.692619964227838 \t \n",
      "\n",
      "8 epoch without improvement\n",
      " 22%|██▏       | 12628/57400 [45:29<3:16:28,  3.80it/s]\n",
      "Epoch 23 \t Training loss: 0.6738254131963444 \t Validation loss: 0.6951906529523558 \t \n",
      "\n",
      "9 epoch without improvement\n",
      " 23%|██▎       | 13202/57400 [47:34<2:41:21,  4.57it/s]\n",
      "Epoch 24 \t Training loss: 0.6726824527002793 \t Validation loss: 0.6935875900721146 \t \n",
      "\n",
      "10 epoch without improvement\n",
      "Validation_loss hasn't improve in 10 epoch. Stopping training after 24 epochs...\n"
     ]
    },
    {
     "data": {
      "image/png": "[encoded data removed]",
      "text/plain": [
       "<Figure size 640x480 with 1 Axes>"
      ]
     },
     "metadata": {},
     "output_type": "display_data"
    }
   ],
   "source": [
    "learning_rate = 1e-6\n",
    "optimizer = AdamW(model.parameters(), lr=learning_rate,weight_decay=0.1)\n",
    "num_epochs = 100\n",
    "\n",
    "train.train_function(model,num_epochs,dl_train['as'],optimizer,early_stop=10,dl_val=dl_val['as'],save_path=save_path)"
   ]
  },
  {
   "cell_type": "code",
   "execution_count": 22,
   "metadata": {},
   "outputs": [
    {
     "name": "stderr",
     "output_type": "stream",
     "text": [
      "Some weights of the model checkpoint at distilbert-base-cased were not used when initializing DistilBertModel: ['vocab_projector.weight', 'vocab_layer_norm.bias', 'vocab_layer_norm.weight', 'vocab_transform.bias', 'vocab_transform.weight', 'vocab_projector.bias']\n",
      "- This IS expected if you are initializing DistilBertModel from the checkpoint of a model trained on another task or with another architecture (e.g. initializing a BertForSequenceClassification model from a BertForPreTraining model).\n",
      "- This IS NOT expected if you are initializing DistilBertModel from the checkpoint of a model that you expect to be exactly identical (initializing a BertForSequenceClassification model from a BertForSequenceClassification model).\n"
     ]
    },
    {
     "name": "stdout",
     "output_type": "stream",
     "text": [
      "GLOBAL: 0.6543367346938775 \n",
      "\n",
      "Using scikit learn accuracy por género en el conjunto about\n",
      "MALE 0.5963541666666666\n",
      "FEMALE 0.71 \n",
      "\n",
      "GLOBAL: 0.6414141414141414 \n",
      "\n",
      "Using scikit learn accuracy por género en el conjunto to\n",
      "MALE 0.6180048661800487\n",
      "FEMALE 0.6666666666666666 \n",
      "\n",
      "GLOBAL: 0.6962190352020861 \n",
      "\n",
      "Using scikit learn accuracy por género en el conjunto as\n",
      "MALE 0.6212121212121212\n",
      "FEMALE 0.7762803234501348 \n",
      "\n"
     ]
    }
   ],
   "source": [
    "model = st.SingleTaskSimple(model_conf).to(device)\n",
    "model.load_state_dict(torch.load(save_path))\n",
    "\n",
    "for task in ['about','to','as']:\n",
    "    print(f\"GLOBAL: {train.eval_function_single_sk(model,dl_eval[task])}\",'\\n')\n",
    "    print(f\"Using scikit learn accuracy por género en el conjunto {task}\")\n",
    "    print(f\"MALE {train.eval_function_single_sk(model,dl_eval[task],gender='male')}\")\n",
    "    print(f\"FEMALE {train.eval_function_single_sk(model,dl_eval[task],gender='female')}\",'\\n')"
   ]
  },
  {
   "cell_type": "code",
   "execution_count": 12,
   "metadata": {},
   "outputs": [
    {
     "name": "stderr",
     "output_type": "stream",
     "text": [
      "Some weights of the model checkpoint at distilbert-base-cased were not used when initializing DistilBertModel: ['vocab_transform.bias', 'vocab_transform.weight', 'vocab_projector.weight', 'vocab_layer_norm.bias', 'vocab_projector.bias', 'vocab_layer_norm.weight']\n",
      "- This IS expected if you are initializing DistilBertModel from the checkpoint of a model trained on another task or with another architecture (e.g. initializing a BertForSequenceClassification model from a BertForPreTraining model).\n",
      "- This IS NOT expected if you are initializing DistilBertModel from the checkpoint of a model that you expect to be exactly identical (initializing a BertForSequenceClassification model from a BertForSequenceClassification model).\n"
     ]
    },
    {
     "name": "stdout",
     "output_type": "stream",
     "text": [
      "Using scikit learn accuracy por género en el conjunto about\n",
      "GLOBAL: 0.6129548180727709\n",
      "MALE 0.5101992966002344\n",
      "FEMALE 0.7483014206300185 \n",
      "\n",
      "Using scikit learn accuracy por género en el conjunto to\n",
      "GLOBAL: 0.5061975209916033\n",
      "MALE 0.40300230946882215\n",
      "FEMALE 0.5978370221327968 \n",
      "\n",
      "Using scikit learn accuracy por género en el conjunto as\n",
      "GLOBAL: 0.5288551246168199\n",
      "MALE 0.42332135949157224\n",
      "FEMALE 0.6194801917739087 \n",
      "\n"
     ]
    }
   ],
   "source": [
    "\n",
    "model = st.SingleTaskSimple(model_conf).to(device)\n",
    "model.load_state_dict(torch.load('m1_distilbert_AS_adam'))\n",
    "\n",
    "for task in ['about','to','as']:\n",
    "   \n",
    "    print(f\"Using scikit learn accuracy por género en el conjunto {task}\")\n",
    "    print(f\"GLOBAL: {train.eval_function_single_sk(model,dl_test[task])}\")\n",
    "    print(f\"MALE {train.eval_function_single_sk(model,dl_test[task],gender='male')}\")\n",
    "    print(f\"FEMALE {train.eval_function_single_sk(model,dl_test[task],gender='female')}\",'\\n')"
   ]
  }
 ],
 "metadata": {
  "kernelspec": {
   "display_name": "tfg",
   "language": "python",
   "name": "python3"
  },
  "language_info": {
   "codemirror_mode": {
    "name": "ipython",
    "version": 3
   },
   "file_extension": ".py",
   "mimetype": "text/x-python",
   "name": "python",
   "nbconvert_exporter": "python",
   "pygments_lexer": "ipython3",
   "version": "3.9.13"
  },
  "orig_nbformat": 4,
  "vscode": {
   "interpreter": {
    "hash": "35e8332e99bdf485583869dfbdef293dcf2f9293b1663ec5daea0a573af457c3"
   }
  }
 },
 "nbformat": 4,
 "nbformat_minor": 2
}
