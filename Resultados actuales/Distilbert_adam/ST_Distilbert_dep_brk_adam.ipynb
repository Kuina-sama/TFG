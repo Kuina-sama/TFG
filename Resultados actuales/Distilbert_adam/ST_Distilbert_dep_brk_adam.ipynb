{
 "cells": [
  {
   "cell_type": "code",
   "execution_count": 1,
   "metadata": {},
   "outputs": [],
   "source": [
    "import torch\n",
    "from torch.utils.data import DataLoader\n",
    "from torch.optim import AdamW, SGD \n",
    "\n",
    "\n",
    "import json\n",
    "\n"
   ]
  },
  {
   "cell_type": "code",
   "execution_count": 2,
   "metadata": {},
   "outputs": [],
   "source": [
    "import utils_generic as generic\n",
    "import singletask_dep as st\n",
    "import model_confs as confs\n",
    "\n",
    "\n",
    "import train_dep as train"
   ]
  },
  {
   "cell_type": "code",
   "execution_count": 15,
   "metadata": {},
   "outputs": [
    {
     "data": {
      "text/plain": [
       "<torch._C.Generator at 0x230829855b0>"
      ]
     },
     "execution_count": 15,
     "metadata": {},
     "output_type": "execute_result"
    }
   ],
   "source": [
    "device = torch.device(\"cuda\") if torch.cuda.is_available() else torch.device(\"cpu\")\n",
    "torch.manual_seed(27)"
   ]
  },
  {
   "cell_type": "code",
   "execution_count": 3,
   "metadata": {},
   "outputs": [],
   "source": [
    "model_conf = confs.distilbert_conf\n",
    "encoding_type = 'brk'"
   ]
  },
  {
   "attachments": {},
   "cell_type": "markdown",
   "metadata": {},
   "source": [
    "# Datos ConvAI2"
   ]
  },
  {
   "cell_type": "code",
   "execution_count": 4,
   "metadata": {},
   "outputs": [],
   "source": [
    "with open('Datasets\\ConvAI2\\convai2_complete.json','r') as f:\n",
    "    data = json.load(f)"
   ]
  },
  {
   "cell_type": "code",
   "execution_count": 5,
   "metadata": {},
   "outputs": [],
   "source": [
    "vocab = st.Vocabulary(data['train'],encoding_type)"
   ]
  },
  {
   "cell_type": "code",
   "execution_count": 6,
   "metadata": {},
   "outputs": [],
   "source": [
    "convai_train = data['train']\n",
    "convai_val = data['validation']\n",
    "\n",
    "\n",
    "\n",
    "convai_train_token = generic.tokenize_dataset_with_dependencies(convai_train,['about','to','as'],vocab,model_conf) \n",
    "convai_val_token = generic.tokenize_dataset_with_dependencies(convai_val,['about','to','as'],vocab,model_conf) "
   ]
  },
  {
   "cell_type": "code",
   "execution_count": 7,
   "metadata": {},
   "outputs": [],
   "source": [
    "convai_train_dataset = {}\n",
    "for task in ['to','as','about']:\n",
    "    convai_train_dataset[task] = st.DatasetSingleTaskDep(convai_train_token,task,eval=False)"
   ]
  },
  {
   "cell_type": "code",
   "execution_count": 8,
   "metadata": {},
   "outputs": [],
   "source": [
    "convai_val_dataset = {}\n",
    "for task in ['to','as','about']:\n",
    "    convai_val_dataset[task] = st.DatasetSingleTaskDep(convai_val_token,task,eval=False)"
   ]
  },
  {
   "attachments": {},
   "cell_type": "markdown",
   "metadata": {},
   "source": [
    "# Datos md_gender"
   ]
  },
  {
   "cell_type": "code",
   "execution_count": 9,
   "metadata": {},
   "outputs": [],
   "source": [
    "with open('Datasets\\md_gender\\md_complete.json','r',encoding=\"utf8\") as f:\n",
    "    md_data = json.load(f)"
   ]
  },
  {
   "cell_type": "code",
   "execution_count": 10,
   "metadata": {},
   "outputs": [],
   "source": [
    "md_tokenized = generic.tokenize_dataset_with_dependencies(md_data,['about','to','as'],vocab,model_conf) \n",
    "\n",
    "\n",
    "md_dataset = {}\n",
    "for task in ['to','as','about']:\n",
    "    md_dataset[task] = st.DatasetSingleTaskDep(md_tokenized,task,eval=True)"
   ]
  },
  {
   "attachments": {},
   "cell_type": "markdown",
   "metadata": {},
   "source": [
    "# Creación dataloaders"
   ]
  },
  {
   "cell_type": "code",
   "execution_count": 11,
   "metadata": {},
   "outputs": [],
   "source": [
    "dl_train = {}\n",
    "for task in ['to','as','about']:\n",
    "    dl_train[task] = DataLoader(convai_train_dataset[task],batch_size=128,shuffle=True,collate_fn=st.collate_fn)"
   ]
  },
  {
   "cell_type": "code",
   "execution_count": 12,
   "metadata": {},
   "outputs": [],
   "source": [
    "dl_val = {}\n",
    "for task in ['to','as','about']:\n",
    "    dl_val[task] = DataLoader(convai_val_dataset[task],batch_size=128,shuffle=True,collate_fn=st.collate_fn)"
   ]
  },
  {
   "cell_type": "code",
   "execution_count": 13,
   "metadata": {},
   "outputs": [],
   "source": [
    "dl_eval = {}\n",
    "for task in ['to','as','about']:\n",
    "    dl_eval[task] = DataLoader(md_dataset[task],batch_size=128,shuffle=False,collate_fn=st.collate_fn)"
   ]
  },
  {
   "attachments": {},
   "cell_type": "markdown",
   "metadata": {},
   "source": [
    "# ABOUT"
   ]
  },
  {
   "cell_type": "code",
   "execution_count": 16,
   "metadata": {},
   "outputs": [
    {
     "name": "stderr",
     "output_type": "stream",
     "text": [
      "Some weights of the model checkpoint at distilbert-base-cased were not used when initializing DistilBertModel: ['vocab_layer_norm.bias', 'vocab_layer_norm.weight', 'vocab_projector.bias', 'vocab_projector.weight', 'vocab_transform.weight', 'vocab_transform.bias']\n",
      "- This IS expected if you are initializing DistilBertModel from the checkpoint of a model trained on another task or with another architecture (e.g. initializing a BertForSequenceClassification model from a BertForPreTraining model).\n",
      "- This IS NOT expected if you are initializing DistilBertModel from the checkpoint of a model that you expect to be exactly identical (initializing a BertForSequenceClassification model from a BertForSequenceClassification model).\n"
     ]
    }
   ],
   "source": [
    "model = st.SingleTaskDep(model_conf,vocab).to(device)\n",
    "save_path='m1_distilbert_dep_brk_about_adam'"
   ]
  },
  {
   "cell_type": "code",
   "execution_count": 17,
   "metadata": {},
   "outputs": [
    {
     "data": {
      "application/vnd.jupyter.widget-view+json": {
       "model_id": "1e7a3db1edbe4d608dd07ee77f854098",
       "version_major": 2,
       "version_minor": 0
      },
      "text/plain": [
       "  0%|          | 0/57400 [00:00<?, ?it/s]"
      ]
     },
     "metadata": {},
     "output_type": "display_data"
    },
    {
     "name": "stdout",
     "output_type": "stream",
     "text": [
      "Epoch 1 \t Training loss: 0.579703727977201 \t Validation loss: 0.41898246387303884 \t \n",
      "  1%|          | 574/57400 [02:22<2:53:30,  5.46it/s]\n",
      "Epoch 2 \t Training loss: 0.3905256958581014 \t Validation loss: 0.35930480189242603 \t \n",
      "  2%|▏         | 1148/57400 [04:41<3:31:21,  4.44it/s]\n",
      "Epoch 3 \t Training loss: 0.35237260401664294 \t Validation loss: 0.34239763854923894 \t \n",
      "  3%|▎         | 1722/57400 [06:57<2:54:46,  5.31it/s]\n",
      "Epoch 4 \t Training loss: 0.33341942636705024 \t Validation loss: 0.33214784552485255 \t \n",
      "  4%|▍         | 2296/57400 [09:47<3:25:47,  4.46it/s]\n",
      "Epoch 5 \t Training loss: 0.3201371582439137 \t Validation loss: 0.3272280445543386 \t \n",
      "  5%|▌         | 2870/57400 [12:14<3:35:30,  4.22it/s]\n",
      "Epoch 6 \t Training loss: 0.30832466820598897 \t Validation loss: 0.319235319555816 \t \n",
      "  6%|▌         | 3444/57400 [14:44<3:34:06,  4.20it/s]\n",
      "Epoch 7 \t Training loss: 0.29868163321595576 \t Validation loss: 0.31670741787401296 \t \n",
      "  7%|▋         | 4018/57400 [17:12<3:14:25,  4.58it/s]\n",
      "Epoch 8 \t Training loss: 0.2899077423306292 \t Validation loss: 0.3134648514501119 \t \n",
      "  8%|▊         | 4592/57400 [19:37<3:15:02,  4.51it/s]\n",
      "Epoch 9 \t Training loss: 0.28144479999870375 \t Validation loss: 0.31047401842424427 \t \n",
      "  9%|▉         | 5166/57400 [21:50<3:17:58,  4.40it/s]\n",
      "Epoch 10 \t Training loss: 0.2760518422213996 \t Validation loss: 0.3087982209557194 \t \n",
      " 10%|█         | 5740/57400 [24:04<2:35:53,  5.52it/s]\n",
      "Epoch 11 \t Training loss: 0.27117686708318234 \t Validation loss: 0.306926909897287 \t \n",
      " 11%|█         | 6314/57400 [26:16<3:11:38,  4.44it/s]\n",
      "Epoch 12 \t Training loss: 0.2648821432883316 \t Validation loss: 0.3040448050882857 \t \n",
      " 12%|█▏        | 6888/57400 [28:29<3:06:54,  4.50it/s]\n",
      "Epoch 13 \t Training loss: 0.25843968499412934 \t Validation loss: 0.30315581873311837 \t \n",
      " 13%|█▎        | 7462/57400 [30:42<3:08:50,  4.41it/s]\n",
      "Epoch 14 \t Training loss: 0.25287414238324146 \t Validation loss: 0.301588498434778 \t \n",
      " 14%|█▍        | 8036/57400 [32:55<2:31:29,  5.43it/s]\n",
      "Epoch 15 \t Training loss: 0.24695676043370043 \t Validation loss: 0.30357022937071526 \t \n",
      "\n",
      "1 epoch without improvement\n",
      " 15%|█▌        | 8610/57400 [35:08<2:31:31,  5.37it/s]\n",
      "Epoch 16 \t Training loss: 0.24226633028390102 \t Validation loss: 0.30226195843543036 \t \n",
      "\n",
      "2 epoch without improvement\n",
      " 16%|█▌        | 9184/57400 [37:22<2:56:54,  4.54it/s]\n",
      "Epoch 17 \t Training loss: 0.23785061609869634 \t Validation loss: 0.29928928866224774 \t \n",
      " 17%|█▋        | 9758/57400 [39:35<3:00:20,  4.40it/s]\n",
      "Epoch 18 \t Training loss: 0.23496292365344976 \t Validation loss: 0.30041379974050036 \t \n",
      "\n",
      "1 epoch without improvement\n",
      " 18%|█▊        | 10332/57400 [41:48<2:55:14,  4.48it/s]\n",
      "Epoch 19 \t Training loss: 0.23178042379250094 \t Validation loss: 0.29905260291139957 \t \n",
      " 19%|█▉        | 10906/57400 [44:01<2:47:40,  4.62it/s]\n",
      "Epoch 20 \t Training loss: 0.22544991483308296 \t Validation loss: 0.29941433567111775 \t \n",
      "\n",
      "1 epoch without improvement\n",
      " 20%|██        | 11480/57400 [46:13<2:56:05,  4.35it/s]\n",
      "Epoch 21 \t Training loss: 0.22113168649764842 \t Validation loss: 0.30224577577437384 \t \n",
      "\n",
      "2 epoch without improvement\n",
      " 21%|██        | 12054/57400 [48:26<3:02:03,  4.15it/s]\n",
      "Epoch 22 \t Training loss: 0.2174113076374921 \t Validation loss: 0.302506848412045 \t \n",
      "\n",
      "3 epoch without improvement\n",
      " 22%|██▏       | 12628/57400 [51:07<3:19:02,  3.75it/s]\n",
      "Epoch 23 \t Training loss: 0.21415350909380548 \t Validation loss: 0.3012741208076477 \t \n",
      "\n",
      "4 epoch without improvement\n",
      " 23%|██▎       | 13202/57400 [54:26<3:10:40,  3.86it/s]\n",
      "Epoch 24 \t Training loss: 0.2097830487356784 \t Validation loss: 0.3028442783881042 \t \n",
      "\n",
      "5 epoch without improvement\n",
      " 24%|██▍       | 13776/57400 [57:42<3:37:25,  3.34it/s]\n",
      "Epoch 25 \t Training loss: 0.2062976113699039 \t Validation loss: 0.3044014777672493 \t \n",
      "\n",
      "6 epoch without improvement\n",
      " 25%|██▌       | 14350/57400 [1:00:34<4:11:40,  2.85it/s]\n",
      "Epoch 26 \t Training loss: 0.20367621943250766 \t Validation loss: 0.30327736699985247 \t \n",
      "\n",
      "7 epoch without improvement\n",
      " 26%|██▌       | 14924/57400 [1:03:38<3:50:14,  3.07it/s]\n",
      "Epoch 27 \t Training loss: 0.20063238806425487 \t Validation loss: 0.30631698743771696 \t \n",
      "\n",
      "8 epoch without improvement\n",
      " 27%|██▋       | 15498/57400 [1:06:57<4:00:32,  2.90it/s]\n",
      "Epoch 28 \t Training loss: 0.19798731741589537 \t Validation loss: 0.3071928504159895 \t \n",
      "\n",
      "9 epoch without improvement\n",
      " 28%|██▊       | 16072/57400 [1:10:08<3:21:13,  3.42it/s]\n",
      "Epoch 29 \t Training loss: 0.1924824830053783 \t Validation loss: 0.31036909505472343 \t \n",
      "\n",
      "10 epoch without improvement\n",
      "Validation_loss hasn't improve in 10 epoch. Stopping training after 29 epochs...\n"
     ]
    },
    {
     "data": {
      "image/png": "[encoded data removed]",
      "text/plain": [
       "<Figure size 640x480 with 1 Axes>"
      ]
     },
     "metadata": {},
     "output_type": "display_data"
    }
   ],
   "source": [
    "learning_rate = 1e-6\n",
    "optimizer = AdamW(model.parameters(), lr=learning_rate,weight_decay=0.1)\n",
    "num_epochs = 100\n",
    "\n",
    "train.train_function(model,num_epochs,dl_train['about'],optimizer,early_stop=10,dl_val=dl_val['about'],save_path=save_path)"
   ]
  },
  {
   "cell_type": "code",
   "execution_count": 18,
   "metadata": {},
   "outputs": [
    {
     "name": "stderr",
     "output_type": "stream",
     "text": [
      "Some weights of the model checkpoint at distilbert-base-cased were not used when initializing DistilBertModel: ['vocab_layer_norm.bias', 'vocab_layer_norm.weight', 'vocab_projector.bias', 'vocab_projector.weight', 'vocab_transform.weight', 'vocab_transform.bias']\n",
      "- This IS expected if you are initializing DistilBertModel from the checkpoint of a model trained on another task or with another architecture (e.g. initializing a BertForSequenceClassification model from a BertForPreTraining model).\n",
      "- This IS NOT expected if you are initializing DistilBertModel from the checkpoint of a model that you expect to be exactly identical (initializing a BertForSequenceClassification model from a BertForSequenceClassification model).\n"
     ]
    },
    {
     "name": "stdout",
     "output_type": "stream",
     "text": [
      "Using scikit learn accuracy por género en el conjunto about\n",
      "GLOBAL: 0.8392857142857143\n",
      "MALE 0.8489583333333334\n",
      "FEMALE 0.83 \n",
      "\n",
      "Using scikit learn accuracy por género en el conjunto to\n",
      "GLOBAL: 0.6704545454545454\n",
      "MALE 0.6861313868613139\n",
      "FEMALE 0.6535433070866141 \n",
      "\n",
      "Using scikit learn accuracy por género en el conjunto as\n",
      "GLOBAL: 0.6779661016949152\n",
      "MALE 0.6641414141414141\n",
      "FEMALE 0.692722371967655 \n",
      "\n"
     ]
    }
   ],
   "source": [
    "model = st.SingleTaskDep(model_conf,vocab).to(device)\n",
    "model.load_state_dict(torch.load(save_path))\n",
    "for task in ['about','to','as']:\n",
    "    print(f\"Using scikit learn accuracy por género en el conjunto {task}\")\n",
    "    print(f\"GLOBAL: {train.eval_function_single_sk(model,dl_eval[task])}\")\n",
    "    print(f\"MALE {train.eval_function_single_sk(model,dl_eval[task],gender='male')}\")\n",
    "    print(f\"FEMALE {train.eval_function_single_sk(model,dl_eval[task],gender='female')}\",'\\n')"
   ]
  },
  {
   "attachments": {},
   "cell_type": "markdown",
   "metadata": {},
   "source": [
    "# TO"
   ]
  },
  {
   "cell_type": "code",
   "execution_count": 43,
   "metadata": {},
   "outputs": [
    {
     "name": "stderr",
     "output_type": "stream",
     "text": [
      "Some weights of the model checkpoint at distilbert-base-cased were not used when initializing DistilBertModel: ['vocab_projector.bias', 'vocab_transform.bias', 'vocab_layer_norm.weight', 'vocab_layer_norm.bias', 'vocab_projector.weight', 'vocab_transform.weight']\n",
      "- This IS expected if you are initializing DistilBertModel from the checkpoint of a model trained on another task or with another architecture (e.g. initializing a BertForSequenceClassification model from a BertForPreTraining model).\n",
      "- This IS NOT expected if you are initializing DistilBertModel from the checkpoint of a model that you expect to be exactly identical (initializing a BertForSequenceClassification model from a BertForSequenceClassification model).\n"
     ]
    }
   ],
   "source": [
    "model = st.SingleTaskDep(model_conf,vocab).to(device)\n",
    "save_path='m1_distilbert_dep_brk_to_adam_4'"
   ]
  },
  {
   "cell_type": "code",
   "execution_count": 44,
   "metadata": {},
   "outputs": [
    {
     "data": {
      "application/vnd.jupyter.widget-view+json": {
       "model_id": "ceb814b7a7e4422cba340f5c392fe133",
       "version_major": 2,
       "version_minor": 0
      },
      "text/plain": [
       "  0%|          | 0/57400 [00:00<?, ?it/s]"
      ]
     },
     "metadata": {},
     "output_type": "display_data"
    },
    {
     "name": "stdout",
     "output_type": "stream",
     "text": [
      "Epoch 1 \t Training loss: 0.6944572968142373 \t Validation loss: 0.6944769065258867 \t \n",
      "  1%|          | 574/57400 [03:56<5:16:41,  2.99it/s]\n",
      "Epoch 2 \t Training loss: 0.6942241843984518 \t Validation loss: 0.6931388368040828 \t \n",
      "  2%|▏         | 1148/57400 [07:58<7:43:19,  2.02it/s]\n",
      "Epoch 3 \t Training loss: 0.6936678606043294 \t Validation loss: 0.6945536823595985 \t \n",
      "\n",
      "1 epoch without improvement\n",
      "  3%|▎         | 1722/57400 [11:40<4:49:57,  3.20it/s]\n",
      "Epoch 4 \t Training loss: 0.6934277202401843 \t Validation loss: 0.6929846618135097 \t \n",
      "  4%|▍         | 2296/57400 [15:09<5:18:03,  2.89it/s]\n",
      "Epoch 5 \t Training loss: 0.6930079192234664 \t Validation loss: 0.6929745795363087 \t \n",
      "  5%|▌         | 2870/57400 [18:32<4:11:56,  3.61it/s]\n",
      "Epoch 6 \t Training loss: 0.6930479931706751 \t Validation loss: 0.6934823373616752 \t \n",
      "  6%|▌         | 3444/57400 [21:55<5:07:09,  2.93it/s]\n",
      "Epoch 7 \t Training loss: 0.6928883754625553 \t Validation loss: 0.6937210074925827 \t \n",
      "  7%|▋         | 4018/57400 [25:09<4:04:00,  3.65it/s]\n",
      "Epoch 8 \t Training loss: 0.6927184341053514 \t Validation loss: 0.6937709905333438 \t \n",
      "  8%|▊         | 4592/57400 [27:58<4:16:08,  3.44it/s]\n",
      "Epoch 9 \t Training loss: 0.692657134051107 \t Validation loss: 0.6932513491582062 \t \n",
      "  9%|▉         | 5166/57400 [30:53<4:15:24,  3.41it/s]\n",
      "Epoch 10 \t Training loss: 0.6924201457757984 \t Validation loss: 0.6944566934795703 \t \n",
      "\n",
      "1 epoch without improvement\n",
      " 10%|█         | 5740/57400 [33:51<3:27:54,  4.14it/s]\n",
      "Epoch 11 \t Training loss: 0.6924757626206202 \t Validation loss: 0.6942502219798201 \t \n",
      "\n",
      "2 epoch without improvement\n",
      " 11%|█         | 6314/57400 [36:47<4:16:03,  3.33it/s]\n",
      "Epoch 12 \t Training loss: 0.6924424787223962 \t Validation loss: 0.6942310080689899 \t \n",
      "\n",
      "3 epoch without improvement\n",
      " 12%|█▏        | 6888/57400 [39:43<4:08:26,  3.39it/s]\n",
      "Epoch 13 \t Training loss: 0.692154216953271 \t Validation loss: 0.6944880010718006 \t \n",
      "\n",
      "4 epoch without improvement\n",
      " 13%|█▎        | 7462/57400 [42:34<3:58:22,  3.49it/s]\n",
      "Epoch 14 \t Training loss: 0.6921887717595915 \t Validation loss: 0.6934602199974707 \t \n",
      " 14%|█▍        | 8036/57400 [45:23<3:18:19,  4.15it/s]\n",
      "Epoch 15 \t Training loss: 0.6917510581971876 \t Validation loss: 0.693600119170496 \t \n",
      " 15%|█▌        | 8610/57400 [48:18<3:21:00,  4.05it/s]\n",
      "Epoch 16 \t Training loss: 0.6917026821744566 \t Validation loss: 0.6927924499673358 \t \n",
      " 16%|█▌        | 9184/57400 [51:20<3:36:09,  3.72it/s]\n",
      "Epoch 17 \t Training loss: 0.6912735618573033 \t Validation loss: 0.6953615606841395 \t \n",
      "\n",
      "1 epoch without improvement\n",
      " 17%|█▋        | 9758/57400 [54:44<3:39:22,  3.62it/s]\n",
      "Epoch 18 \t Training loss: 0.6913597399972458 \t Validation loss: 0.6937852087667433 \t \n",
      " 18%|█▊        | 10332/57400 [58:00<3:47:43,  3.44it/s]\n",
      "Epoch 19 \t Training loss: 0.6913008434431893 \t Validation loss: 0.6938170204728337 \t \n",
      "\n",
      "2 epoch without improvement\n",
      " 19%|█▉        | 10906/57400 [1:00:47<3:41:48,  3.49it/s]\n",
      "Epoch 20 \t Training loss: 0.691359403137546 \t Validation loss: 0.6952807903289795 \t \n",
      "\n",
      "3 epoch without improvement\n",
      " 20%|██        | 11480/57400 [1:03:41<3:55:16,  3.25it/s]\n",
      "Epoch 21 \t Training loss: 0.6903337519550988 \t Validation loss: 0.6942978895316689 \t \n",
      "\n",
      "4 epoch without improvement\n",
      " 21%|██        | 12054/57400 [1:06:52<3:55:48,  3.20it/s]\n",
      "Epoch 22 \t Training loss: 0.6904405396989829 \t Validation loss: 0.6937085864907604 \t \n",
      " 22%|██▏       | 12628/57400 [1:09:46<3:38:09,  3.42it/s]\n",
      "Epoch 23 \t Training loss: 0.6903015493515892 \t Validation loss: 0.6939126394562802 \t \n",
      "\n",
      "5 epoch without improvement\n",
      " 23%|██▎       | 13202/57400 [1:12:40<3:34:19,  3.44it/s]\n",
      "Epoch 24 \t Training loss: 0.6901744689260211 \t Validation loss: 0.6947695026963444 \t \n",
      "\n",
      "6 epoch without improvement\n",
      " 24%|██▍       | 13776/57400 [1:15:32<3:32:28,  3.42it/s]\n",
      "Epoch 25 \t Training loss: 0.6896314344755033 \t Validation loss: 0.6957808803703825 \t \n",
      "\n",
      "7 epoch without improvement\n",
      " 25%|██▌       | 14350/57400 [1:18:21<4:17:41,  2.78it/s]\n",
      "Epoch 26 \t Training loss: 0.6894675649001624 \t Validation loss: 0.6956136145834195 \t \n",
      "\n",
      "8 epoch without improvement\n",
      " 26%|██▌       | 14924/57400 [1:21:34<3:54:43,  3.02it/s]\n",
      "Epoch 27 \t Training loss: 0.6889361331064111 \t Validation loss: 0.6981749544709416 \t \n",
      "\n",
      "9 epoch without improvement\n",
      " 27%|██▋       | 15498/57400 [1:24:58<4:14:09,  2.75it/s]\n",
      "Epoch 28 \t Training loss: 0.6888906679502348 \t Validation loss: 0.6978191935409934 \t \n",
      "\n",
      "10 epoch without improvement\n",
      "Validation_loss hasn't improve in 10 epoch. Stopping training after 28 epochs...\n"
     ]
    },
    {
     "data": {
      "image/png": "[encoded data removed]",
      "text/plain": [
       "<Figure size 640x480 with 1 Axes>"
      ]
     },
     "metadata": {},
     "output_type": "display_data"
    }
   ],
   "source": [
    "learning_rate = 1e-6\n",
    "optimizer = AdamW(model.parameters(), lr=learning_rate,weight_decay=0.1)\n",
    "num_epochs = 100\n",
    "\n",
    "train.train_function(model,num_epochs,dl_train['to'],optimizer,early_stop=10,dl_val=dl_val['to'],save_path=save_path)"
   ]
  },
  {
   "cell_type": "code",
   "execution_count": 45,
   "metadata": {},
   "outputs": [
    {
     "name": "stderr",
     "output_type": "stream",
     "text": [
      "Some weights of the model checkpoint at distilbert-base-cased were not used when initializing DistilBertModel: ['vocab_projector.bias', 'vocab_transform.bias', 'vocab_layer_norm.weight', 'vocab_layer_norm.bias', 'vocab_projector.weight', 'vocab_transform.weight']\n",
      "- This IS expected if you are initializing DistilBertModel from the checkpoint of a model trained on another task or with another architecture (e.g. initializing a BertForSequenceClassification model from a BertForPreTraining model).\n",
      "- This IS NOT expected if you are initializing DistilBertModel from the checkpoint of a model that you expect to be exactly identical (initializing a BertForSequenceClassification model from a BertForSequenceClassification model).\n"
     ]
    },
    {
     "name": "stdout",
     "output_type": "stream",
     "text": [
      "Using scikit learn accuracy por género en el conjunto about\n",
      "GLOBAL: 0.5548469387755102\n",
      "MALE 0.5052083333333334\n",
      "FEMALE 0.6025 \n",
      "\n",
      "Using scikit learn accuracy por género en el conjunto to\n",
      "GLOBAL: 0.5744949494949495\n",
      "MALE 0.5012165450121655\n",
      "FEMALE 0.6535433070866141 \n",
      "\n",
      "Using scikit learn accuracy por género en el conjunto as\n",
      "GLOBAL: 0.5684485006518905\n",
      "MALE 0.4823232323232323\n",
      "FEMALE 0.660377358490566 \n",
      "\n"
     ]
    }
   ],
   "source": [
    "model = st.SingleTaskDep(model_conf,vocab).to(device)\n",
    "model.load_state_dict(torch.load(save_path))\n",
    "for task in ['about','to','as']:\n",
    "    print(f\"Using scikit learn accuracy por género en el conjunto {task}\")\n",
    "    print(f\"GLOBAL: {train.eval_function_single_sk(model,dl_eval[task])}\")\n",
    "    print(f\"MALE {train.eval_function_single_sk(model,dl_eval[task],gender='male')}\")\n",
    "    print(f\"FEMALE {train.eval_function_single_sk(model,dl_eval[task],gender='female')}\",'\\n')"
   ]
  },
  {
   "attachments": {},
   "cell_type": "markdown",
   "metadata": {},
   "source": [
    "# AS"
   ]
  },
  {
   "cell_type": "code",
   "execution_count": 46,
   "metadata": {},
   "outputs": [
    {
     "name": "stderr",
     "output_type": "stream",
     "text": [
      "Some weights of the model checkpoint at distilbert-base-cased were not used when initializing DistilBertModel: ['vocab_projector.bias', 'vocab_transform.bias', 'vocab_layer_norm.weight', 'vocab_layer_norm.bias', 'vocab_projector.weight', 'vocab_transform.weight']\n",
      "- This IS expected if you are initializing DistilBertModel from the checkpoint of a model trained on another task or with another architecture (e.g. initializing a BertForSequenceClassification model from a BertForPreTraining model).\n",
      "- This IS NOT expected if you are initializing DistilBertModel from the checkpoint of a model that you expect to be exactly identical (initializing a BertForSequenceClassification model from a BertForSequenceClassification model).\n"
     ]
    }
   ],
   "source": [
    "model = st.SingleTaskDep(model_conf,vocab).to(device)\n",
    "save_path='m1_distilbert_dep_brk_as_adam_4'"
   ]
  },
  {
   "cell_type": "code",
   "execution_count": 47,
   "metadata": {},
   "outputs": [
    {
     "data": {
      "application/vnd.jupyter.widget-view+json": {
       "model_id": "896e75fe281840bb8f0f45bfd8d264ab",
       "version_major": 2,
       "version_minor": 0
      },
      "text/plain": [
       "  0%|          | 0/57400 [00:00<?, ?it/s]"
      ]
     },
     "metadata": {},
     "output_type": "display_data"
    },
    {
     "name": "stdout",
     "output_type": "stream",
     "text": [
      "Epoch 1 \t Training loss: 0.6960051535313968 \t Validation loss: 0.6932586037506492 \t \n",
      "  1%|          | 574/57400 [02:54<4:42:45,  3.35it/s]\n",
      "Epoch 2 \t Training loss: 0.6947521853945396 \t Validation loss: 0.693148611965826 \t \n",
      "  2%|▏         | 1148/57400 [05:53<4:39:05,  3.36it/s]\n",
      "Epoch 3 \t Training loss: 0.6929715804314364 \t Validation loss: 0.6905792830354076 \t \n",
      "  3%|▎         | 1722/57400 [08:45<3:47:04,  4.09it/s]\n",
      "Epoch 4 \t Training loss: 0.6918955986300412 \t Validation loss: 0.6920604059251688 \t \n",
      "\n",
      "1 epoch without improvement\n",
      "  4%|▍         | 2296/57400 [11:49<5:09:14,  2.97it/s]\n",
      "Epoch 5 \t Training loss: 0.6898440358323087 \t Validation loss: 0.6905036427206912 \t \n",
      "  5%|▌         | 2870/57400 [15:16<4:22:20,  3.46it/s]\n",
      "Epoch 6 \t Training loss: 0.6889152141605935 \t Validation loss: 0.6922920932204036 \t \n",
      "\n",
      "1 epoch without improvement\n",
      "  6%|▌         | 3444/57400 [18:44<4:07:32,  3.63it/s]\n",
      "Epoch 7 \t Training loss: 0.6874165704233721 \t Validation loss: 0.6924061633772769 \t \n",
      "\n",
      "2 epoch without improvement\n",
      "  7%|▋         | 4018/57400 [22:12<5:24:04,  2.75it/s]\n",
      "Epoch 8 \t Training loss: 0.6863962160585649 \t Validation loss: 0.6916381868265443 \t \n",
      "\n",
      "3 epoch without improvement\n",
      "  8%|▊         | 4592/57400 [25:40<5:27:34,  2.69it/s]\n",
      "Epoch 9 \t Training loss: 0.6851253148155345 \t Validation loss: 0.6905867113905438 \t \n",
      "  9%|▉         | 5166/57400 [29:08<4:10:41,  3.47it/s]\n",
      "Epoch 10 \t Training loss: 0.6838888266360719 \t Validation loss: 0.69218184685303 \t \n",
      "\n",
      "4 epoch without improvement\n",
      " 10%|█         | 5740/57400 [32:35<4:04:41,  3.52it/s]\n",
      "Epoch 11 \t Training loss: 0.6810844516712614 \t Validation loss: 0.6894467028520875 \t \n",
      " 11%|█         | 6314/57400 [36:02<5:23:49,  2.63it/s]\n",
      "Epoch 12 \t Training loss: 0.6798256025081728 \t Validation loss: 0.6907328347028312 \t \n",
      "\n",
      "1 epoch without improvement\n",
      " 12%|█▏        | 6888/57400 [39:29<4:00:31,  3.50it/s]\n",
      "Epoch 13 \t Training loss: 0.6808532018487047 \t Validation loss: 0.6920584874638056 \t \n",
      "\n",
      "2 epoch without improvement\n",
      " 13%|█▎        | 7462/57400 [42:57<4:51:57,  2.85it/s]\n",
      "Epoch 14 \t Training loss: 0.6789105311295712 \t Validation loss: 0.6964688614263372 \t \n",
      "\n",
      "3 epoch without improvement\n",
      " 14%|█▍        | 8036/57400 [46:24<3:53:11,  3.53it/s]\n",
      "Epoch 15 \t Training loss: 0.6787311868800519 \t Validation loss: 0.6932202325028888 \t \n",
      "\n",
      "4 epoch without improvement\n",
      " 15%|█▌        | 8610/57400 [49:51<4:52:18,  2.78it/s]\n",
      "Epoch 16 \t Training loss: 0.6771888398542637 \t Validation loss: 0.6937639359700478 \t \n",
      "\n",
      "5 epoch without improvement\n",
      " 16%|█▌        | 9184/57400 [53:18<3:47:27,  3.53it/s]\n",
      "Epoch 17 \t Training loss: 0.6769685561440963 \t Validation loss: 0.6930202872066175 \t \n",
      "\n",
      "6 epoch without improvement\n",
      " 17%|█▋        | 9758/57400 [56:38<3:35:10,  3.69it/s]\n",
      "Epoch 18 \t Training loss: 0.6763457965352394 \t Validation loss: 0.695158190646414 \t \n",
      "\n",
      "7 epoch without improvement\n",
      " 18%|█▊        | 10332/57400 [59:01<2:39:59,  4.90it/s]\n",
      "Epoch 19 \t Training loss: 0.6760648209666541 \t Validation loss: 0.6938231506590116 \t \n",
      "\n",
      "8 epoch without improvement\n",
      " 19%|█▉        | 10906/57400 [1:01:24<3:13:43,  4.00it/s]\n",
      "Epoch 20 \t Training loss: 0.6750895262595253 \t Validation loss: 0.6923847703610436 \t \n",
      "\n",
      "9 epoch without improvement\n",
      " 20%|██        | 11480/57400 [1:03:48<3:20:09,  3.82it/s]\n",
      "Epoch 21 \t Training loss: 0.6743510462058131 \t Validation loss: 0.6923092684503329 \t \n",
      "\n",
      "10 epoch without improvement\n",
      "Validation_loss hasn't improve in 10 epoch. Stopping training after 21 epochs...\n"
     ]
    },
    {
     "data": {
      "image/png": "[encoded data removed]",
      "text/plain": [
       "<Figure size 640x480 with 1 Axes>"
      ]
     },
     "metadata": {},
     "output_type": "display_data"
    }
   ],
   "source": [
    "learning_rate = 1e-6\n",
    "optimizer = AdamW(model.parameters(), lr=learning_rate,weight_decay=0.1)\n",
    "num_epochs = 100\n",
    "\n",
    "train.train_function(model,num_epochs,dl_train['as'],optimizer,early_stop=10,dl_val=dl_val['as'],save_path=save_path)"
   ]
  },
  {
   "cell_type": "code",
   "execution_count": 48,
   "metadata": {},
   "outputs": [
    {
     "name": "stderr",
     "output_type": "stream",
     "text": [
      "Some weights of the model checkpoint at distilbert-base-cased were not used when initializing DistilBertModel: ['vocab_projector.bias', 'vocab_transform.bias', 'vocab_layer_norm.weight', 'vocab_layer_norm.bias', 'vocab_projector.weight', 'vocab_transform.weight']\n",
      "- This IS expected if you are initializing DistilBertModel from the checkpoint of a model trained on another task or with another architecture (e.g. initializing a BertForSequenceClassification model from a BertForPreTraining model).\n",
      "- This IS NOT expected if you are initializing DistilBertModel from the checkpoint of a model that you expect to be exactly identical (initializing a BertForSequenceClassification model from a BertForSequenceClassification model).\n"
     ]
    },
    {
     "name": "stdout",
     "output_type": "stream",
     "text": [
      "Using scikit learn accuracy por género en el conjunto about\n",
      "GLOBAL: 0.6696428571428571\n",
      "MALE 0.578125\n",
      "FEMALE 0.7575 \n",
      "\n",
      "Using scikit learn accuracy por género en el conjunto to\n",
      "GLOBAL: 0.6439393939393939\n",
      "MALE 0.5985401459854015\n",
      "FEMALE 0.6929133858267716 \n",
      "\n",
      "Using scikit learn accuracy por género en el conjunto as\n",
      "GLOBAL: 0.7092568448500652\n",
      "MALE 0.6085858585858586\n",
      "FEMALE 0.816711590296496 \n",
      "\n"
     ]
    }
   ],
   "source": [
    "model = st.SingleTaskDep(model_conf,vocab).to(device)\n",
    "model.load_state_dict(torch.load(save_path))\n",
    "for task in ['about','to','as']:\n",
    "    print(f\"Using scikit learn accuracy por género en el conjunto {task}\")\n",
    "    print(f\"GLOBAL: {train.eval_function_single_sk(model,dl_eval[task])}\")\n",
    "    print(f\"MALE {train.eval_function_single_sk(model,dl_eval[task],gender='male')}\")\n",
    "    print(f\"FEMALE {train.eval_function_single_sk(model,dl_eval[task],gender='female')}\",'\\n')"
   ]
  }
 ],
 "metadata": {
  "kernelspec": {
   "display_name": "tfg",
   "language": "python",
   "name": "python3"
  },
  "language_info": {
   "codemirror_mode": {
    "name": "ipython",
    "version": 3
   },
   "file_extension": ".py",
   "mimetype": "text/x-python",
   "name": "python",
   "nbconvert_exporter": "python",
   "pygments_lexer": "ipython3",
   "version": "3.9.13"
  },
  "orig_nbformat": 4,
  "vscode": {
   "interpreter": {
    "hash": "35e8332e99bdf485583869dfbdef293dcf2f9293b1663ec5daea0a573af457c3"
   }
  }
 },
 "nbformat": 4,
 "nbformat_minor": 2
}
