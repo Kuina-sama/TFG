{
 "cells": [
  {
   "cell_type": "code",
   "execution_count": 1,
   "metadata": {},
   "outputs": [],
   "source": [
    "import torch\n",
    "from torch.utils.data import DataLoader\n",
    "from torch.optim import SGD ,AdamW\n",
    "\n",
    "from datasets import load_dataset, load_metric\n",
    "\n",
    "import matplotlib.pyplot as plt\n",
    "\n",
    "import json\n"
   ]
  },
  {
   "cell_type": "code",
   "execution_count": 2,
   "metadata": {},
   "outputs": [],
   "source": [
    "import utils_generic as generic\n",
    "import multitask_simple as mt\n",
    "import model_confs as confs\n",
    "import train"
   ]
  },
  {
   "cell_type": "code",
   "execution_count": 3,
   "metadata": {},
   "outputs": [],
   "source": [
    "device = torch.device(\"cuda\") if torch.cuda.is_available() else torch.device(\"cpu\")\n",
    "torch.manual_seed(27)\n",
    "tasks = ['to','as','about']"
   ]
  },
  {
   "cell_type": "code",
   "execution_count": 4,
   "metadata": {},
   "outputs": [],
   "source": [
    "model_conf = confs.distilbert_conf"
   ]
  },
  {
   "attachments": {},
   "cell_type": "markdown",
   "metadata": {},
   "source": [
    "# Datos ConvAI"
   ]
  },
  {
   "cell_type": "code",
   "execution_count": 5,
   "metadata": {},
   "outputs": [],
   "source": [
    "with open('Datasets\\ConvAI2\\convai2_complete.json','r') as f:\n",
    "    data = json.load(f)"
   ]
  },
  {
   "cell_type": "code",
   "execution_count": 6,
   "metadata": {},
   "outputs": [],
   "source": [
    "convai_train = data['train']\n",
    "convai_val = data['validation']\n",
    "\n",
    "\n",
    "\n",
    "convai_train_token = generic.tokenize_dataset(convai_train,tasks,model_conf) \n",
    "convai_val_token = generic.tokenize_dataset(convai_val,tasks,model_conf) "
   ]
  },
  {
   "cell_type": "code",
   "execution_count": 7,
   "metadata": {},
   "outputs": [],
   "source": [
    "convai_train_dataset = mt.DatasetMultiTaskSimple(convai_train_token,tasks,eval=False)\n",
    "convai_val_dataset = mt.DatasetMultiTaskSimple(convai_val_token,tasks,eval=False)"
   ]
  },
  {
   "attachments": {},
   "cell_type": "markdown",
   "metadata": {},
   "source": [
    "# Datos md_gender"
   ]
  },
  {
   "cell_type": "code",
   "execution_count": 8,
   "metadata": {},
   "outputs": [],
   "source": [
    "with open('Datasets\\md_gender\\md_complete.json','r',encoding=\"utf8\") as f:\n",
    "    md_data = json.load(f)"
   ]
  },
  {
   "cell_type": "code",
   "execution_count": 9,
   "metadata": {},
   "outputs": [],
   "source": [
    "md_tokenized = generic.tokenize_dataset(md_data,tasks,model_conf) \n",
    "md_dataset = mt.DatasetMultiTaskSimple(md_tokenized,tasks,eval=True)"
   ]
  },
  {
   "attachments": {},
   "cell_type": "markdown",
   "metadata": {},
   "source": [
    "# Creación dataloaders"
   ]
  },
  {
   "cell_type": "code",
   "execution_count": 10,
   "metadata": {},
   "outputs": [],
   "source": [
    "dl_train =DataLoader(convai_train_dataset,batch_size=128,shuffle=True,collate_fn=mt.collate_fn)\n",
    "dl_val =DataLoader(convai_val_dataset,batch_size=128,shuffle=True,collate_fn=mt.collate_fn)\n",
    "dl_eval = DataLoader(md_dataset,batch_size=128,shuffle=False,collate_fn=mt.collate_fn)"
   ]
  },
  {
   "attachments": {},
   "cell_type": "markdown",
   "metadata": {},
   "source": [
    "# Modelo multitask"
   ]
  },
  {
   "cell_type": "code",
   "execution_count": 11,
   "metadata": {},
   "outputs": [
    {
     "name": "stderr",
     "output_type": "stream",
     "text": [
      "Some weights of the model checkpoint at distilbert-base-cased were not used when initializing DistilBertModel: ['vocab_projector.bias', 'vocab_layer_norm.weight', 'vocab_transform.bias', 'vocab_layer_norm.bias', 'vocab_transform.weight', 'vocab_projector.weight']\n",
      "- This IS expected if you are initializing DistilBertModel from the checkpoint of a model trained on another task or with another architecture (e.g. initializing a BertForSequenceClassification model from a BertForPreTraining model).\n",
      "- This IS NOT expected if you are initializing DistilBertModel from the checkpoint of a model that you expect to be exactly identical (initializing a BertForSequenceClassification model from a BertForSequenceClassification model).\n"
     ]
    },
    {
     "data": {
      "application/vnd.jupyter.widget-view+json": {
       "model_id": "99560e25379943b39694fbc211961a2b",
       "version_major": 2,
       "version_minor": 0
      },
      "text/plain": [
       "  0%|          | 0/57400 [00:00<?, ?it/s]"
      ]
     },
     "metadata": {},
     "output_type": "display_data"
    },
    {
     "name": "stdout",
     "output_type": "stream",
     "text": [
      "Epoch 1 \t Training loss: 2.0506196127951353 \t Validation loss: 2.010968351768235 \t \n",
      "  1%|          | 574/57400 [02:14<3:22:56,  4.67it/s]\n",
      "Epoch 2 \t Training loss: 1.9908825358447297 \t Validation loss: 1.9882923101974745 \t \n",
      "  2%|▏         | 1148/57400 [04:21<3:30:24,  4.46it/s]\n",
      "Epoch 3 \t Training loss: 1.978911323414447 \t Validation loss: 1.973922470868644 \t \n",
      "  3%|▎         | 1722/57400 [06:30<3:19:18,  4.66it/s]\n",
      "Epoch 4 \t Training loss: 1.972869459552632 \t Validation loss: 1.9766545093665688 \t \n",
      "\n",
      "1 epoch without improvement\n",
      "  4%|▍         | 2296/57400 [08:39<3:25:26,  4.47it/s]\n",
      "Epoch 5 \t Training loss: 1.968968317899139 \t Validation loss: 1.9800002191026331 \t \n",
      "\n",
      "2 epoch without improvement\n",
      "  5%|▌         | 2870/57400 [10:49<3:49:35,  3.96it/s]\n",
      "Epoch 6 \t Training loss: 1.964999890493599 \t Validation loss: 1.9779508012836262 \t \n",
      "\n",
      "3 epoch without improvement\n",
      "  6%|▌         | 3444/57400 [12:58<3:12:11,  4.68it/s]\n",
      "Epoch 7 \t Training loss: 1.9611735786295104 \t Validation loss: 1.9712829367589142 \t \n",
      "  7%|▋         | 4018/57400 [15:03<3:04:32,  4.82it/s]\n",
      "Epoch 8 \t Training loss: 1.958532130676695 \t Validation loss: 1.9769339298797866 \t \n",
      "\n",
      "1 epoch without improvement\n",
      "  8%|▊         | 4592/57400 [17:07<3:02:39,  4.82it/s]\n",
      "Epoch 9 \t Training loss: 1.9571689230224396 \t Validation loss: 1.9751486859079135 \t \n",
      "\n",
      "2 epoch without improvement\n",
      "  9%|▉         | 5166/57400 [19:10<2:27:10,  5.92it/s]\n",
      "Epoch 10 \t Training loss: 1.9554135222052864 \t Validation loss: 1.975539938878205 \t \n",
      "\n",
      "3 epoch without improvement\n",
      " 10%|█         | 5740/57400 [21:14<3:02:49,  4.71it/s]\n",
      "Epoch 11 \t Training loss: 1.9528632951115066 \t Validation loss: 1.9723233146182562 \t \n",
      "\n",
      "4 epoch without improvement\n",
      " 11%|█         | 6314/57400 [23:18<2:55:41,  4.85it/s]\n",
      "Epoch 12 \t Training loss: 1.9514179877703197 \t Validation loss: 1.9692254733231107 \t \n",
      " 12%|█▏        | 6888/57400 [25:22<2:26:01,  5.77it/s]\n",
      "Epoch 13 \t Training loss: 1.9469956973703897 \t Validation loss: 1.9667491306692868 \t \n",
      " 13%|█▎        | 7462/57400 [27:27<2:59:09,  4.65it/s]\n",
      "Epoch 14 \t Training loss: 1.948415183024124 \t Validation loss: 1.973634762279058 \t \n",
      "\n",
      "1 epoch without improvement\n",
      " 14%|█▍        | 8036/57400 [29:33<2:53:28,  4.74it/s]\n",
      "Epoch 15 \t Training loss: 1.947187925880379 \t Validation loss: 1.9714134628489866 \t \n",
      "\n",
      "2 epoch without improvement\n",
      " 15%|█▌        | 8610/57400 [31:38<2:56:15,  4.61it/s]\n",
      "Epoch 16 \t Training loss: 1.9440218930875799 \t Validation loss: 1.9631717811196536 \t \n",
      " 16%|█▌        | 9184/57400 [33:43<2:51:49,  4.68it/s]\n",
      "Epoch 17 \t Training loss: 1.9454371216820507 \t Validation loss: 1.9739816997010828 \t \n",
      "\n",
      "1 epoch without improvement\n",
      " 17%|█▋        | 9758/57400 [35:46<2:47:05,  4.75it/s]\n",
      "Epoch 18 \t Training loss: 1.9416049484176503 \t Validation loss: 1.9623195741136195 \t \n",
      " 18%|█▊        | 10332/57400 [37:50<2:53:22,  4.52it/s]\n",
      "Epoch 19 \t Training loss: 1.9422712415352932 \t Validation loss: 1.9682330256801541 \t \n",
      "\n",
      "1 epoch without improvement\n",
      " 19%|█▉        | 10906/57400 [39:53<2:43:17,  4.75it/s]\n",
      "Epoch 20 \t Training loss: 1.9369126124249103 \t Validation loss: 1.9715607408749856 \t \n",
      "\n",
      "2 epoch without improvement\n",
      " 20%|██        | 11480/57400 [41:56<2:40:18,  4.77it/s]\n",
      "Epoch 21 \t Training loss: 1.9380871238193444 \t Validation loss: 1.960471892760972 \t \n",
      " 21%|██        | 12054/57400 [44:00<2:36:59,  4.81it/s]\n",
      "Epoch 22 \t Training loss: 1.9378536769321986 \t Validation loss: 1.9691994856979886 \t \n",
      "\n",
      "1 epoch without improvement\n",
      " 22%|██▏       | 12628/57400 [46:03<2:10:33,  5.72it/s]\n",
      "Epoch 23 \t Training loss: 1.9372388730896475 \t Validation loss: 1.966628751512301 \t \n",
      "\n",
      "2 epoch without improvement\n",
      " 23%|██▎       | 13202/57400 [48:07<2:07:23,  5.78it/s]\n",
      "Epoch 24 \t Training loss: 1.9375936318357647 \t Validation loss: 1.972196055670916 \t \n",
      "\n",
      "3 epoch without improvement\n",
      " 24%|██▍       | 13776/57400 [50:10<2:31:50,  4.79it/s]\n",
      "Epoch 25 \t Training loss: 1.933251866064836 \t Validation loss: 1.9600689491983188 \t \n",
      " 25%|██▌       | 14350/57400 [52:13<2:05:25,  5.72it/s]\n",
      "Epoch 26 \t Training loss: 1.9320884045823525 \t Validation loss: 1.9679108191344699 \t \n",
      "\n",
      "1 epoch without improvement\n",
      " 26%|██▌       | 14924/57400 [54:17<2:30:10,  4.71it/s]\n",
      "Epoch 27 \t Training loss: 1.932564867498152 \t Validation loss: 1.9615326149988983 \t \n",
      "\n",
      "2 epoch without improvement\n",
      " 27%|██▋       | 15498/57400 [56:20<2:28:48,  4.69it/s]\n",
      "Epoch 28 \t Training loss: 1.9301762190430007 \t Validation loss: 1.9606973054045338 \t \n",
      " 28%|██▊       | 16072/57400 [58:23<2:28:35,  4.64it/s]\n",
      "Epoch 29 \t Training loss: 1.9281053406020905 \t Validation loss: 1.9636691424806239 \t \n",
      "\n",
      "3 epoch without improvement\n",
      " 29%|██▉       | 16646/57400 [1:00:27<1:58:45,  5.72it/s]\n",
      "Epoch 30 \t Training loss: 1.9287728727486906 \t Validation loss: 1.964750657647343 \t \n",
      "\n",
      "4 epoch without improvement\n",
      " 30%|███       | 17220/57400 [1:02:31<2:27:00,  4.56it/s]\n",
      "Epoch 31 \t Training loss: 1.9289049520725157 \t Validation loss: 1.9516136787705503 \t \n",
      " 31%|███       | 17794/57400 [1:04:34<2:12:35,  4.98it/s]\n",
      "Epoch 32 \t Training loss: 1.9259400961706448 \t Validation loss: 1.9729226868031389 \t \n",
      "\n",
      "1 epoch without improvement\n",
      " 32%|███▏      | 18368/57400 [1:06:37<2:16:59,  4.75it/s]\n",
      "Epoch 33 \t Training loss: 1.92720548969528 \t Validation loss: 1.9641563427650321 \t \n",
      "\n",
      "2 epoch without improvement\n",
      " 33%|███▎      | 18942/57400 [1:08:41<2:25:32,  4.40it/s]\n",
      "Epoch 34 \t Training loss: 1.9247218470124834 \t Validation loss: 1.959915536945149 \t \n",
      "\n",
      "3 epoch without improvement\n",
      " 34%|███▍      | 19516/57400 [1:10:44<2:08:07,  4.93it/s]\n",
      "Epoch 35 \t Training loss: 1.9260187645407087 \t Validation loss: 1.9662499831894698 \t \n",
      "\n",
      "4 epoch without improvement\n",
      " 35%|███▌      | 20090/57400 [1:12:47<2:10:02,  4.78it/s]\n",
      "Epoch 36 \t Training loss: 1.9240938468677242 \t Validation loss: 1.9619921344821736 \t \n",
      "\n",
      "5 epoch without improvement\n",
      " 36%|███▌      | 20664/57400 [1:14:50<2:07:17,  4.81it/s]\n",
      "Epoch 37 \t Training loss: 1.921848745088544 \t Validation loss: 1.9676208273839142 \t \n",
      "\n",
      "6 epoch without improvement\n",
      " 37%|███▋      | 21238/57400 [1:16:54<2:10:44,  4.61it/s]\n",
      "Epoch 38 \t Training loss: 1.9232928331305341 \t Validation loss: 1.9666282908391144 \t \n",
      "\n",
      "7 epoch without improvement\n",
      " 38%|███▊      | 21812/57400 [1:18:57<2:04:50,  4.75it/s]\n",
      "Epoch 39 \t Training loss: 1.9220869672007677 \t Validation loss: 1.9668679095930972 \t \n",
      "\n",
      "8 epoch without improvement\n",
      " 39%|███▉      | 22386/57400 [1:21:01<2:02:45,  4.75it/s]\n",
      "Epoch 40 \t Training loss: 1.9196370588777787 \t Validation loss: 1.9596162266650443 \t \n",
      "\n",
      "9 epoch without improvement\n",
      " 40%|████      | 22960/57400 [1:23:04<1:37:42,  5.88it/s]\n",
      "Epoch 41 \t Training loss: 1.9216227336212317 \t Validation loss: 1.9597905571177854 \t \n",
      "\n",
      "10 epoch without improvement\n",
      "Validation_loss hasn't improve in 10 epoch. Stopping training after 41 epochs...\n"
     ]
    },
    {
     "data": {
      "image/png": "[encoded data removed]",
      "text/plain": [
       "<Figure size 640x480 with 1 Axes>"
      ]
     },
     "metadata": {},
     "output_type": "display_data"
    }
   ],
   "source": [
    "model = mt.MultiTaskSimple(model_conf).to(device)\n",
    "save_path='m1_distilbert_multi-adamw'\n",
    "learning_rate = 1e-6\n",
    "optimizer = AdamW(model.parameters(), lr=learning_rate,weight_decay=0.1)\n",
    "num_epochs = 100\n",
    "train.train_function_multi(model,num_epochs,dl_train,optimizer,early_stop = 10,dl_val = dl_val,save_path=save_path)"
   ]
  },
  {
   "cell_type": "code",
   "execution_count": 12,
   "metadata": {},
   "outputs": [
    {
     "name": "stderr",
     "output_type": "stream",
     "text": [
      "Some weights of the model checkpoint at distilbert-base-cased were not used when initializing DistilBertModel: ['vocab_projector.bias', 'vocab_layer_norm.weight', 'vocab_transform.bias', 'vocab_layer_norm.bias', 'vocab_transform.weight', 'vocab_projector.weight']\n",
      "- This IS expected if you are initializing DistilBertModel from the checkpoint of a model trained on another task or with another architecture (e.g. initializing a BertForSequenceClassification model from a BertForPreTraining model).\n",
      "- This IS NOT expected if you are initializing DistilBertModel from the checkpoint of a model that you expect to be exactly identical (initializing a BertForSequenceClassification model from a BertForSequenceClassification model).\n"
     ]
    },
    {
     "name": "stdout",
     "output_type": "stream",
     "text": [
      "Accuracy evaluando en todas las etiquetas\n",
      "{'to': 0.6616161616161617, 'as': 0.7196870925684485, 'about': 0.8099489795918368}\n",
      "Accuracy evaluando en etiquetas female\n",
      "{'to': 0.6509186351706037, 'as': 0.7601078167115903, 'about': 0.8075}\n",
      "Accuracy evaluando en etiquetas male\n",
      "{'to': 0.6715328467153284, 'as': 0.6818181818181818, 'about': 0.8125}\n"
     ]
    }
   ],
   "source": [
    "model = mt.MultiTaskSimple(model_conf).to(device)\n",
    "model.load_state_dict(torch.load(save_path))\n",
    "\n",
    "print(\"Accuracy evaluando en todas las etiquetas\")\n",
    "print(train.eval_function_multi(model,dl_eval,tasks))\n",
    "print(\"Accuracy evaluando en etiquetas female\")\n",
    "print(train.eval_function_multi(model,dl_eval,tasks,'female'))\n",
    "print(\"Accuracy evaluando en etiquetas male\")\n",
    "print(train.eval_function_multi(model,dl_eval,tasks,'male'))"
   ]
  }
 ],
 "metadata": {
  "kernelspec": {
   "display_name": "tfg",
   "language": "python",
   "name": "python3"
  },
  "language_info": {
   "codemirror_mode": {
    "name": "ipython",
    "version": 3
   },
   "file_extension": ".py",
   "mimetype": "text/x-python",
   "name": "python",
   "nbconvert_exporter": "python",
   "pygments_lexer": "ipython3",
   "version": "3.9.13"
  },
  "orig_nbformat": 4,
  "vscode": {
   "interpreter": {
    "hash": "35e8332e99bdf485583869dfbdef293dcf2f9293b1663ec5daea0a573af457c3"
   }
  }
 },
 "nbformat": 4,
 "nbformat_minor": 2
}
