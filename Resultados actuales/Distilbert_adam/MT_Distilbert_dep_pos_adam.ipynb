{
 "cells": [
  {
   "cell_type": "code",
   "execution_count": 1,
   "metadata": {},
   "outputs": [],
   "source": [
    "import torch\n",
    "from torch.utils.data import DataLoader\n",
    "from torch.optim import SGD ,AdamW\n",
    "\n",
    "from datasets import load_dataset, load_metric\n",
    "\n",
    "import matplotlib.pyplot as plt\n",
    "\n",
    "import json\n"
   ]
  },
  {
   "cell_type": "code",
   "execution_count": 2,
   "metadata": {},
   "outputs": [],
   "source": [
    "import utils_generic as generic\n",
    "import multitask_dep as mt\n",
    "import model_confs as confs\n",
    "import train_dep as train"
   ]
  },
  {
   "cell_type": "code",
   "execution_count": 3,
   "metadata": {},
   "outputs": [],
   "source": [
    "device = torch.device(\"cuda\") if torch.cuda.is_available() else torch.device(\"cpu\")\n",
    "torch.manual_seed(27)\n",
    "tasks = ['to','as','about']"
   ]
  },
  {
   "cell_type": "code",
   "execution_count": 4,
   "metadata": {},
   "outputs": [],
   "source": [
    "model_conf = confs.distilbert_conf\n",
    "encoding_type = 'pos'"
   ]
  },
  {
   "attachments": {},
   "cell_type": "markdown",
   "metadata": {},
   "source": [
    "# Datos ConvAI"
   ]
  },
  {
   "cell_type": "code",
   "execution_count": 5,
   "metadata": {},
   "outputs": [],
   "source": [
    "with open('Datasets\\ConvAI2\\convai2_complete.json','r') as f:\n",
    "    data = json.load(f)"
   ]
  },
  {
   "cell_type": "code",
   "execution_count": 6,
   "metadata": {},
   "outputs": [],
   "source": [
    "vocab = mt.Vocabulary(data['train'],encoding_type)"
   ]
  },
  {
   "cell_type": "code",
   "execution_count": 7,
   "metadata": {},
   "outputs": [],
   "source": [
    "convai_train = data['train']\n",
    "convai_val = data['validation']\n",
    "\n",
    "\n",
    "\n",
    "convai_train_token = generic.tokenize_dataset_with_dependencies(convai_train,['about','to','as'],vocab,model_conf) \n",
    "convai_val_token = generic.tokenize_dataset_with_dependencies(convai_val,['about','to','as'],vocab,model_conf) "
   ]
  },
  {
   "cell_type": "code",
   "execution_count": 8,
   "metadata": {},
   "outputs": [],
   "source": [
    "convai_train_dataset = mt.DatasetMultitaskDep(convai_train_token,tasks,eval=False)\n",
    "convai_val_dataset = mt.DatasetMultitaskDep(convai_val_token,tasks,eval=False)"
   ]
  },
  {
   "attachments": {},
   "cell_type": "markdown",
   "metadata": {},
   "source": [
    "# Datos md_gender"
   ]
  },
  {
   "cell_type": "code",
   "execution_count": 9,
   "metadata": {},
   "outputs": [],
   "source": [
    "with open('Datasets\\md_gender\\md_complete.json','r',encoding=\"utf8\") as f:\n",
    "    md_data = json.load(f)"
   ]
  },
  {
   "cell_type": "code",
   "execution_count": 10,
   "metadata": {},
   "outputs": [],
   "source": [
    "md_tokenized = generic.tokenize_dataset_with_dependencies(md_data,['about','to','as'],vocab,model_conf) \n",
    "md_dataset = mt.DatasetMultitaskDep(md_tokenized,tasks,eval=True)"
   ]
  },
  {
   "attachments": {},
   "cell_type": "markdown",
   "metadata": {},
   "source": [
    "# Creación dataloaders"
   ]
  },
  {
   "cell_type": "code",
   "execution_count": 11,
   "metadata": {},
   "outputs": [],
   "source": [
    "dl_train =DataLoader(convai_train_dataset,batch_size=128,shuffle=True,collate_fn=mt.collate_fn)\n",
    "dl_val =DataLoader(convai_val_dataset,batch_size=128,shuffle=True,collate_fn=mt.collate_fn)\n",
    "dl_eval = DataLoader(md_dataset,batch_size=128,shuffle=False,collate_fn=mt.collate_fn)"
   ]
  },
  {
   "attachments": {},
   "cell_type": "markdown",
   "metadata": {},
   "source": [
    "# Modelo multitask"
   ]
  },
  {
   "cell_type": "code",
   "execution_count": 12,
   "metadata": {},
   "outputs": [
    {
     "name": "stderr",
     "output_type": "stream",
     "text": [
      "Some weights of the model checkpoint at distilbert-base-cased were not used when initializing DistilBertModel: ['vocab_transform.bias', 'vocab_layer_norm.bias', 'vocab_projector.bias', 'vocab_layer_norm.weight', 'vocab_transform.weight', 'vocab_projector.weight']\n",
      "- This IS expected if you are initializing DistilBertModel from the checkpoint of a model trained on another task or with another architecture (e.g. initializing a BertForSequenceClassification model from a BertForPreTraining model).\n",
      "- This IS NOT expected if you are initializing DistilBertModel from the checkpoint of a model that you expect to be exactly identical (initializing a BertForSequenceClassification model from a BertForSequenceClassification model).\n"
     ]
    }
   ],
   "source": [
    "model = mt.MultiWithDependencies(model_conf,vocab).to(device)\n",
    "save_path='m1_distilbert_multi_pos_adam'"
   ]
  },
  {
   "cell_type": "code",
   "execution_count": 13,
   "metadata": {},
   "outputs": [
    {
     "data": {
      "application/vnd.jupyter.widget-view+json": {
       "model_id": "a0c7db76de654e4696605feed1c0b747",
       "version_major": 2,
       "version_minor": 0
      },
      "text/plain": [
       "  0%|          | 0/57400 [00:00<?, ?it/s]"
      ]
     },
     "metadata": {},
     "output_type": "display_data"
    },
    {
     "name": "stdout",
     "output_type": "stream",
     "text": [
      "Epoch 1 \t Training loss: 2.0503949462744417 \t Validation loss: 2.0122879581936335 \t \n",
      "  1%|          | 574/57400 [02:20<3:57:42,  3.98it/s]\n",
      "Epoch 2 \t Training loss: 1.9897300742229103 \t Validation loss: 1.992592154923132 \t \n",
      "  2%|▏         | 1148/57400 [04:44<3:53:13,  4.02it/s]\n",
      "Epoch 3 \t Training loss: 1.9759552318875382 \t Validation loss: 1.9884565583730147 \t \n",
      "  3%|▎         | 1722/57400 [07:07<3:52:21,  3.99it/s]\n",
      "Epoch 4 \t Training loss: 1.9749800648008073 \t Validation loss: 1.9820868261789872 \t \n",
      "  4%|▍         | 2296/57400 [09:32<3:38:55,  4.20it/s]\n",
      "Epoch 5 \t Training loss: 1.9656986274370334 \t Validation loss: 1.9726766832804277 \t \n",
      "  5%|▌         | 2870/57400 [11:55<3:40:30,  4.12it/s]\n",
      "Epoch 6 \t Training loss: 1.9656861085924953 \t Validation loss: 1.9790341591430922 \t \n",
      "\n",
      "1 epoch without improvement\n",
      "  6%|▌         | 3444/57400 [14:19<3:36:03,  4.16it/s]\n",
      "Epoch 7 \t Training loss: 1.9592697632852747 \t Validation loss: 1.9722128318527998 \t \n",
      "  7%|▋         | 4018/57400 [16:42<3:43:35,  3.98it/s]\n",
      "Epoch 8 \t Training loss: 1.9561219157242193 \t Validation loss: 1.969407077563011 \t \n",
      "  8%|▊         | 4592/57400 [19:06<3:44:59,  3.91it/s]\n",
      "Epoch 9 \t Training loss: 1.9569790880439173 \t Validation loss: 1.97590336557162 \t \n",
      "\n",
      "1 epoch without improvement\n",
      "  9%|▉         | 5166/57400 [21:29<3:29:04,  4.16it/s]\n",
      "Epoch 10 \t Training loss: 1.9535561228878406 \t Validation loss: 1.9637738769337283 \t \n",
      " 10%|█         | 5740/57400 [23:53<3:25:21,  4.19it/s]\n",
      "Epoch 11 \t Training loss: 1.9541951590298776 \t Validation loss: 1.9701576051065477 \t \n",
      "\n",
      "1 epoch without improvement\n",
      " 11%|█         | 6314/57400 [26:16<3:31:35,  4.02it/s]\n",
      "Epoch 12 \t Training loss: 1.9510312157225527 \t Validation loss: 1.9642839290327945 \t \n",
      " 12%|█▏        | 6888/57400 [28:39<3:37:28,  3.87it/s]\n",
      "Epoch 13 \t Training loss: 1.949107899275391 \t Validation loss: 1.9675981675164174 \t \n",
      "\n",
      "2 epoch without improvement\n",
      " 13%|█▎        | 7462/57400 [31:02<2:39:32,  5.22it/s]\n",
      "Epoch 14 \t Training loss: 1.9463887173124306 \t Validation loss: 1.9666589316675218 \t \n",
      "\n",
      "3 epoch without improvement\n",
      " 14%|█▍        | 8036/57400 [33:25<2:44:46,  4.99it/s]\n",
      "Epoch 15 \t Training loss: 1.9445372568605668 \t Validation loss: 1.9599989228329415 \t \n",
      " 15%|█▌        | 8610/57400 [35:49<3:21:26,  4.04it/s]\n",
      "Epoch 16 \t Training loss: 1.9463594701231979 \t Validation loss: 1.9706152010772189 \t \n",
      "\n",
      "1 epoch without improvement\n",
      " 16%|█▌        | 9184/57400 [38:12<3:09:48,  4.23it/s]\n",
      "Epoch 17 \t Training loss: 1.9415863137627312 \t Validation loss: 1.9676234802957309 \t \n",
      "\n",
      "2 epoch without improvement\n",
      " 17%|█▋        | 9758/57400 [40:35<2:30:24,  5.28it/s]\n",
      "Epoch 18 \t Training loss: 1.942788946088598 \t Validation loss: 1.9676078315508567 \t \n",
      "\n",
      "3 epoch without improvement\n",
      " 18%|█▊        | 10332/57400 [42:58<3:10:17,  4.12it/s]\n",
      "Epoch 19 \t Training loss: 1.937845244224894 \t Validation loss: 1.9688130900011225 \t \n",
      "\n",
      "4 epoch without improvement\n",
      " 19%|█▉        | 10906/57400 [45:48<3:26:05,  3.76it/s]\n",
      "Epoch 20 \t Training loss: 1.9360927295601742 \t Validation loss: 1.9597323344925703 \t \n",
      " 20%|██        | 11480/57400 [48:29<2:46:21,  4.60it/s]\n",
      "Epoch 21 \t Training loss: 1.9363449384111144 \t Validation loss: 1.961316341060703 \t \n",
      "\n",
      "1 epoch without improvement\n",
      " 21%|██        | 12054/57400 [51:08<3:19:19,  3.79it/s]\n",
      "Epoch 22 \t Training loss: 1.937337379006974 \t Validation loss: 1.968867231223543 \t \n",
      "\n",
      "2 epoch without improvement\n",
      " 22%|██▏       | 12628/57400 [53:48<3:23:07,  3.67it/s]\n",
      "Epoch 23 \t Training loss: 1.934936990513619 \t Validation loss: 1.9632025856082722 \t \n",
      "\n",
      "3 epoch without improvement\n",
      " 23%|██▎       | 13202/57400 [56:28<2:44:45,  4.47it/s]\n",
      "Epoch 24 \t Training loss: 1.9340600834490946 \t Validation loss: 1.960750713186749 \t \n",
      "\n",
      "4 epoch without improvement\n",
      " 24%|██▍       | 13776/57400 [59:08<2:42:25,  4.48it/s]\n",
      "Epoch 25 \t Training loss: 1.9337764706345801 \t Validation loss: 1.9593085131402743 \t \n",
      " 25%|██▌       | 14350/57400 [1:01:49<3:18:40,  3.61it/s]\n",
      "Epoch 26 \t Training loss: 1.9349595287535664 \t Validation loss: 1.9624480453588196 \t \n",
      "\n",
      "1 epoch without improvement\n",
      " 26%|██▌       | 14924/57400 [1:04:28<3:11:34,  3.70it/s]\n",
      "Epoch 27 \t Training loss: 1.933276938436754 \t Validation loss: 1.9619950722839872 \t \n",
      "\n",
      "2 epoch without improvement\n",
      " 27%|██▋       | 15498/57400 [1:07:08<3:18:11,  3.52it/s]\n",
      "Epoch 28 \t Training loss: 1.9297585915190003 \t Validation loss: 1.9665109565702534 \t \n",
      "\n",
      "3 epoch without improvement\n",
      " 28%|██▊       | 16072/57400 [1:09:48<3:08:34,  3.65it/s]\n",
      "Epoch 29 \t Training loss: 1.9291425480244466 \t Validation loss: 1.9728718349489116 \t \n",
      "\n",
      "4 epoch without improvement\n",
      " 29%|██▉       | 16646/57400 [1:12:28<3:06:44,  3.64it/s]\n",
      "Epoch 30 \t Training loss: 1.929051930273036 \t Validation loss: 1.9575668391534837 \t \n",
      " 30%|███       | 17220/57400 [1:15:08<3:02:18,  3.67it/s]\n",
      "Epoch 31 \t Training loss: 1.9280334191870607 \t Validation loss: 1.9627828759662176 \t \n",
      "\n",
      "1 epoch without improvement\n",
      " 31%|███       | 17794/57400 [1:17:48<2:27:13,  4.48it/s]\n",
      "Epoch 32 \t Training loss: 1.9259870982751615 \t Validation loss: 1.965254498740374 \t \n",
      "\n",
      "2 epoch without improvement\n",
      " 32%|███▏      | 18368/57400 [1:20:27<2:55:26,  3.71it/s]\n",
      "Epoch 33 \t Training loss: 1.9250026957913973 \t Validation loss: 1.9741659305863462 \t \n",
      "\n",
      "3 epoch without improvement\n",
      " 33%|███▎      | 18942/57400 [1:23:10<3:06:44,  3.43it/s]\n",
      "Epoch 34 \t Training loss: 1.9257292620811728 \t Validation loss: 1.9687542612269773 \t \n",
      "\n",
      "4 epoch without improvement\n",
      " 34%|███▍      | 19516/57400 [1:25:49<2:51:01,  3.69it/s]\n",
      "Epoch 35 \t Training loss: 1.9244228717757434 \t Validation loss: 1.9660684617899231 \t \n",
      "\n",
      "5 epoch without improvement\n",
      " 35%|███▌      | 20090/57400 [1:28:29<2:49:49,  3.66it/s]\n",
      "Epoch 36 \t Training loss: 1.9234224607720192 \t Validation loss: 1.9659175064604162 \t \n",
      "\n",
      "6 epoch without improvement\n",
      " 36%|███▌      | 20664/57400 [1:31:09<2:52:42,  3.55it/s]\n",
      "Epoch 37 \t Training loss: 1.9217884837542676 \t Validation loss: 1.959414005279541 \t \n",
      "\n",
      "7 epoch without improvement\n",
      " 37%|███▋      | 21238/57400 [1:33:49<2:45:51,  3.63it/s]\n",
      "Epoch 38 \t Training loss: 1.9205785111267808 \t Validation loss: 1.9651885638802737 \t \n",
      "\n",
      "8 epoch without improvement\n",
      " 38%|███▊      | 21812/57400 [1:36:28<2:10:36,  4.54it/s]\n",
      "Epoch 39 \t Training loss: 1.9231076178235045 \t Validation loss: 1.9546517012482982 \t \n",
      " 39%|███▉      | 22386/57400 [1:39:08<2:40:10,  3.64it/s]\n",
      "Epoch 40 \t Training loss: 1.922422336369026 \t Validation loss: 1.9679465374704135 \t \n",
      "\n",
      "1 epoch without improvement\n",
      " 40%|████      | 22960/57400 [1:41:48<2:41:43,  3.55it/s]\n",
      "Epoch 41 \t Training loss: 1.9179988237623553 \t Validation loss: 1.9684253607766102 \t \n",
      "\n",
      "2 epoch without improvement\n",
      " 41%|████      | 23534/57400 [1:44:27<2:34:27,  3.65it/s]\n",
      "Epoch 42 \t Training loss: 1.9194964627355648 \t Validation loss: 1.9628257488800307 \t \n",
      "\n",
      "3 epoch without improvement\n",
      " 42%|████▏     | 24108/57400 [1:47:13<2:00:09,  4.62it/s]\n",
      "Epoch 43 \t Training loss: 1.9156299860635286 \t Validation loss: 1.966256664971174 \t \n",
      "\n",
      "4 epoch without improvement\n",
      " 43%|████▎     | 24682/57400 [1:49:53<2:32:18,  3.58it/s]\n",
      "Epoch 44 \t Training loss: 1.9169798078021936 \t Validation loss: 1.9652665833295402 \t \n",
      "\n",
      "5 epoch without improvement\n",
      " 44%|████▍     | 25256/57400 [1:52:33<2:32:07,  3.52it/s]\n",
      "Epoch 45 \t Training loss: 1.9169215616033468 \t Validation loss: 1.9646944312726038 \t \n",
      "\n",
      "6 epoch without improvement\n",
      " 45%|████▌     | 25830/57400 [1:55:13<1:52:06,  4.69it/s]\n",
      "Epoch 46 \t Training loss: 1.9143612910230816 \t Validation loss: 1.9668387194811288 \t \n",
      "\n",
      "7 epoch without improvement\n",
      " 46%|████▌     | 26404/57400 [1:57:53<2:24:36,  3.57it/s]\n",
      "Epoch 47 \t Training loss: 1.9162143886297007 \t Validation loss: 1.9681086520017204 \t \n",
      "\n",
      "8 epoch without improvement\n",
      " 47%|████▋     | 26978/57400 [2:00:33<2:16:05,  3.73it/s]\n",
      "Epoch 48 \t Training loss: 1.9164419429642814 \t Validation loss: 1.964311765412153 \t \n",
      "\n",
      "9 epoch without improvement\n",
      " 48%|████▊     | 27552/57400 [2:03:13<2:17:29,  3.62it/s]\n",
      "Epoch 49 \t Training loss: 1.9132260977183484 \t Validation loss: 1.9691250687938626 \t \n",
      "\n",
      "10 epoch without improvement\n",
      "Validation_loss hasn't improve in 10 epoch. Stopping training after 49 epochs...\n"
     ]
    },
    {
     "data": {
      "image/png": "[encoded data removed]",
      "text/plain": [
       "<Figure size 640x480 with 1 Axes>"
      ]
     },
     "metadata": {},
     "output_type": "display_data"
    }
   ],
   "source": [
    "learning_rate = 1e-6\n",
    "optimizer = AdamW(model.parameters(), lr=learning_rate,weight_decay=0.1)\n",
    "num_epochs = 100\n",
    "train.train_function_multi(model,num_epochs,dl_train,optimizer,early_stop = 10,dl_val = dl_val,save_path=save_path)"
   ]
  },
  {
   "cell_type": "code",
   "execution_count": 14,
   "metadata": {},
   "outputs": [
    {
     "name": "stderr",
     "output_type": "stream",
     "text": [
      "Some weights of the model checkpoint at distilbert-base-cased were not used when initializing DistilBertModel: ['vocab_transform.bias', 'vocab_layer_norm.bias', 'vocab_projector.bias', 'vocab_layer_norm.weight', 'vocab_transform.weight', 'vocab_projector.weight']\n",
      "- This IS expected if you are initializing DistilBertModel from the checkpoint of a model trained on another task or with another architecture (e.g. initializing a BertForSequenceClassification model from a BertForPreTraining model).\n",
      "- This IS NOT expected if you are initializing DistilBertModel from the checkpoint of a model that you expect to be exactly identical (initializing a BertForSequenceClassification model from a BertForSequenceClassification model).\n"
     ]
    },
    {
     "name": "stdout",
     "output_type": "stream",
     "text": [
      "Accuracy evaluando en todas las etiquetas\n",
      "{'to': 0.6792929292929293, 'as': 0.7262059973924381, 'about': 0.8214285714285714}\n",
      "Accuracy evaluando en etiquetas female\n",
      "{'to': 0.6614173228346457, 'as': 0.7466307277628033, 'about': 0.805}\n",
      "Accuracy evaluando en etiquetas male\n",
      "{'to': 0.6958637469586375, 'as': 0.7070707070707071, 'about': 0.8385416666666666}\n"
     ]
    }
   ],
   "source": [
    "model = mt.MultiWithDependencies(model_conf,vocab).to(device)\n",
    "model.load_state_dict(torch.load(save_path))\n",
    "\n",
    "print(\"Accuracy evaluando en todas las etiquetas\")\n",
    "print(train.eval_function_multi(model,dl_eval,tasks))\n",
    "print(\"Accuracy evaluando en etiquetas female\")\n",
    "print(train.eval_function_multi(model,dl_eval,tasks,'female'))\n",
    "print(\"Accuracy evaluando en etiquetas male\")\n",
    "print(train.eval_function_multi(model,dl_eval,tasks,'male'))"
   ]
  }
 ],
 "metadata": {
  "kernelspec": {
   "display_name": "tfg",
   "language": "python",
   "name": "python3"
  },
  "language_info": {
   "codemirror_mode": {
    "name": "ipython",
    "version": 3
   },
   "file_extension": ".py",
   "mimetype": "text/x-python",
   "name": "python",
   "nbconvert_exporter": "python",
   "pygments_lexer": "ipython3",
   "version": "3.9.13"
  },
  "orig_nbformat": 4,
  "vscode": {
   "interpreter": {
    "hash": "35e8332e99bdf485583869dfbdef293dcf2f9293b1663ec5daea0a573af457c3"
   }
  }
 },
 "nbformat": 4,
 "nbformat_minor": 2
}
