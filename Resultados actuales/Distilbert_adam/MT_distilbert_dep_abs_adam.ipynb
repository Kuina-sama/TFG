{
 "cells": [
  {
   "cell_type": "code",
   "execution_count": 1,
   "metadata": {},
   "outputs": [],
   "source": [
    "import torch\n",
    "from torch.utils.data import DataLoader\n",
    "from torch.optim import SGD ,AdamW\n",
    "\n",
    "from datasets import load_dataset, load_metric\n",
    "\n",
    "import matplotlib.pyplot as plt\n",
    "\n",
    "import json\n"
   ]
  },
  {
   "cell_type": "code",
   "execution_count": 2,
   "metadata": {},
   "outputs": [],
   "source": [
    "import utils_generic as generic\n",
    "import multitask_dep as mt\n",
    "import model_confs as confs\n",
    "import train_dep as train"
   ]
  },
  {
   "cell_type": "code",
   "execution_count": 3,
   "metadata": {},
   "outputs": [],
   "source": [
    "device = torch.device(\"cuda\") if torch.cuda.is_available() else torch.device(\"cpu\")\n",
    "torch.manual_seed(27)\n",
    "tasks = ['to','as','about']"
   ]
  },
  {
   "cell_type": "code",
   "execution_count": 4,
   "metadata": {},
   "outputs": [],
   "source": [
    "model_conf = confs.distilbert_conf\n",
    "encoding_type = 'absolute'"
   ]
  },
  {
   "attachments": {},
   "cell_type": "markdown",
   "metadata": {},
   "source": [
    "# Datos ConvAI"
   ]
  },
  {
   "cell_type": "code",
   "execution_count": 5,
   "metadata": {},
   "outputs": [],
   "source": [
    "with open('Datasets\\ConvAI2\\convai2_complete.json','r') as f:\n",
    "    data = json.load(f)"
   ]
  },
  {
   "cell_type": "code",
   "execution_count": 6,
   "metadata": {},
   "outputs": [],
   "source": [
    "vocab = mt.Vocabulary(data['train'],encoding_type)"
   ]
  },
  {
   "cell_type": "code",
   "execution_count": 7,
   "metadata": {},
   "outputs": [],
   "source": [
    "convai_train = data['train']\n",
    "convai_val = data['validation']\n",
    "\n",
    "\n",
    "\n",
    "convai_train_token = generic.tokenize_dataset_with_dependencies(convai_train,['about','to','as'],vocab,model_conf) \n",
    "convai_val_token = generic.tokenize_dataset_with_dependencies(convai_val,['about','to','as'],vocab,model_conf) "
   ]
  },
  {
   "cell_type": "code",
   "execution_count": 8,
   "metadata": {},
   "outputs": [],
   "source": [
    "convai_train_dataset = mt.DatasetMultitaskDep(convai_train_token,tasks,eval=False)\n",
    "convai_val_dataset = mt.DatasetMultitaskDep(convai_val_token,tasks,eval=False)"
   ]
  },
  {
   "attachments": {},
   "cell_type": "markdown",
   "metadata": {},
   "source": [
    "# Datos md_gender"
   ]
  },
  {
   "cell_type": "code",
   "execution_count": 9,
   "metadata": {},
   "outputs": [],
   "source": [
    "with open('Datasets\\md_gender\\md_complete.json','r',encoding=\"utf8\") as f:\n",
    "    md_data = json.load(f)"
   ]
  },
  {
   "cell_type": "code",
   "execution_count": 10,
   "metadata": {},
   "outputs": [],
   "source": [
    "md_tokenized = generic.tokenize_dataset_with_dependencies(md_data,['about','to','as'],vocab,model_conf) \n",
    "md_dataset = mt.DatasetMultitaskDep(md_tokenized,tasks,eval=True)"
   ]
  },
  {
   "attachments": {},
   "cell_type": "markdown",
   "metadata": {},
   "source": [
    "# Creación dataloaders"
   ]
  },
  {
   "cell_type": "code",
   "execution_count": 11,
   "metadata": {},
   "outputs": [],
   "source": [
    "dl_train =DataLoader(convai_train_dataset,batch_size=128,shuffle=True,collate_fn=mt.collate_fn)\n",
    "dl_val =DataLoader(convai_val_dataset,batch_size=128,shuffle=True,collate_fn=mt.collate_fn)\n",
    "dl_eval = DataLoader(md_dataset,batch_size=128,shuffle=False,collate_fn=mt.collate_fn)"
   ]
  },
  {
   "attachments": {},
   "cell_type": "markdown",
   "metadata": {},
   "source": [
    "# Modelo multitask"
   ]
  },
  {
   "cell_type": "code",
   "execution_count": 12,
   "metadata": {},
   "outputs": [
    {
     "name": "stderr",
     "output_type": "stream",
     "text": [
      "Some weights of the model checkpoint at distilbert-base-cased were not used when initializing DistilBertModel: ['vocab_transform.weight', 'vocab_projector.weight', 'vocab_layer_norm.bias', 'vocab_layer_norm.weight', 'vocab_projector.bias', 'vocab_transform.bias']\n",
      "- This IS expected if you are initializing DistilBertModel from the checkpoint of a model trained on another task or with another architecture (e.g. initializing a BertForSequenceClassification model from a BertForPreTraining model).\n",
      "- This IS NOT expected if you are initializing DistilBertModel from the checkpoint of a model that you expect to be exactly identical (initializing a BertForSequenceClassification model from a BertForSequenceClassification model).\n"
     ]
    }
   ],
   "source": [
    "model = mt.MultiWithDependencies(model_conf,vocab).to(device)\n",
    "save_path='m1_distilbert_multi_absolute_adam'"
   ]
  },
  {
   "cell_type": "code",
   "execution_count": 13,
   "metadata": {},
   "outputs": [
    {
     "data": {
      "application/vnd.jupyter.widget-view+json": {
       "model_id": "d94900ea74144c05a5b7f72fe1766004",
       "version_major": 2,
       "version_minor": 0
      },
      "text/plain": [
       "  0%|          | 0/57400 [00:00<?, ?it/s]"
      ]
     },
     "metadata": {},
     "output_type": "display_data"
    },
    {
     "name": "stdout",
     "output_type": "stream",
     "text": [
      "Epoch 1 \t Training loss: 2.050750990985578 \t Validation loss: 2.013630426536172 \t \n",
      "  1%|          | 574/57400 [02:28<3:30:51,  4.49it/s]\n",
      "Epoch 2 \t Training loss: 1.99151623622881 \t Validation loss: 1.9925016225394556 \t \n",
      "  2%|▏         | 1148/57400 [04:44<3:40:24,  4.25it/s]\n",
      "Epoch 3 \t Training loss: 1.9777472860306398 \t Validation loss: 1.9860490742376296 \t \n",
      "  3%|▎         | 1722/57400 [07:00<3:44:45,  4.13it/s]\n",
      "Epoch 4 \t Training loss: 1.9735604512151526 \t Validation loss: 1.984293739674455 \t \n",
      "  4%|▍         | 2296/57400 [09:15<3:32:00,  4.33it/s]\n",
      "Epoch 5 \t Training loss: 1.9680204410170845 \t Validation loss: 1.9721543748499983 \t \n",
      "  5%|▌         | 2870/57400 [11:31<2:49:40,  5.36it/s]\n",
      "Epoch 6 \t Training loss: 1.9642960805095446 \t Validation loss: 1.9808232764066276 \t \n",
      "\n",
      "1 epoch without improvement\n",
      "  6%|▌         | 3444/57400 [13:46<3:28:32,  4.31it/s]\n",
      "Epoch 7 \t Training loss: 1.959172145414851 \t Validation loss: 1.9814728619688649 \t \n",
      "\n",
      "2 epoch without improvement\n",
      "  7%|▋         | 4018/57400 [16:01<3:26:39,  4.31it/s]\n",
      "Epoch 8 \t Training loss: 1.9599112911922176 \t Validation loss: 1.9759800171448012 \t \n",
      "\n",
      "3 epoch without improvement\n",
      "  8%|▊         | 4592/57400 [18:16<3:19:34,  4.41it/s]\n",
      "Epoch 9 \t Training loss: 1.9575823985741114 \t Validation loss: 1.9669711327148696 \t \n",
      "  9%|▉         | 5166/57400 [20:31<2:52:26,  5.05it/s]\n",
      "Epoch 10 \t Training loss: 1.954338345378118 \t Validation loss: 1.9729367090483843 \t \n",
      "\n",
      "1 epoch without improvement\n",
      " 10%|█         | 5740/57400 [22:46<3:12:35,  4.47it/s]\n",
      "Epoch 11 \t Training loss: 1.9540781968562029 \t Validation loss: 1.9737716872813338 \t \n",
      "\n",
      "2 epoch without improvement\n",
      " 11%|█         | 6314/57400 [25:01<3:23:41,  4.18it/s]\n",
      "Epoch 12 \t Training loss: 1.9494028006281172 \t Validation loss: 1.97052131668996 \t \n",
      "\n",
      "3 epoch without improvement\n",
      " 12%|█▏        | 6888/57400 [27:16<3:21:36,  4.18it/s]\n",
      "Epoch 13 \t Training loss: 1.9489126776568981 \t Validation loss: 1.974149758532896 \t \n",
      "\n",
      "4 epoch without improvement\n",
      " 13%|█▎        | 7462/57400 [29:30<2:35:49,  5.34it/s]\n",
      "Epoch 14 \t Training loss: 1.9452324031952781 \t Validation loss: 1.9724063731856265 \t \n",
      "\n",
      "5 epoch without improvement\n",
      " 14%|█▍        | 8036/57400 [31:42<3:02:46,  4.50it/s]\n",
      "Epoch 15 \t Training loss: 1.9449267447617826 \t Validation loss: 1.9614713394035728 \t \n",
      " 15%|█▌        | 8610/57400 [33:55<2:56:29,  4.61it/s]\n",
      "Epoch 16 \t Training loss: 1.944251404406717 \t Validation loss: 1.9606545719049744 \t \n",
      " 16%|█▌        | 9184/57400 [36:09<2:55:05,  4.59it/s]\n",
      "Epoch 17 \t Training loss: 1.9422694301356007 \t Validation loss: 1.9645382630622994 \t \n",
      "\n",
      "1 epoch without improvement\n",
      " 17%|█▋        | 9758/57400 [38:21<2:58:48,  4.44it/s]\n",
      "Epoch 18 \t Training loss: 1.9410095320761411 \t Validation loss: 1.9613974538900085 \t \n",
      " 18%|█▊        | 10332/57400 [40:34<3:00:12,  4.35it/s]\n",
      "Epoch 19 \t Training loss: 1.9416108177098663 \t Validation loss: 1.9691653009188377 \t \n",
      "\n",
      "2 epoch without improvement\n",
      " 19%|█▉        | 10906/57400 [42:47<2:58:52,  4.33it/s]\n",
      "Epoch 20 \t Training loss: 1.938804450558453 \t Validation loss: 1.9738229796037836 \t \n",
      "\n",
      "3 epoch without improvement\n",
      " 20%|██        | 11480/57400 [45:00<2:49:24,  4.52it/s]\n",
      "Epoch 21 \t Training loss: 1.9343814768857657 \t Validation loss: 1.9693940009100963 \t \n",
      "\n",
      "4 epoch without improvement\n",
      " 21%|██        | 12054/57400 [47:07<2:38:39,  4.76it/s]\n",
      "Epoch 22 \t Training loss: 1.9357420889342702 \t Validation loss: 1.9745138499696375 \t \n",
      "\n",
      "5 epoch without improvement\n",
      " 22%|██▏       | 12628/57400 [49:14<2:51:39,  4.35it/s]\n",
      "Epoch 23 \t Training loss: 1.9367580930945765 \t Validation loss: 1.9666397692793507 \t \n",
      "\n",
      "6 epoch without improvement\n",
      " 23%|██▎       | 13202/57400 [51:21<2:35:06,  4.75it/s]\n",
      "Epoch 24 \t Training loss: 1.9316589232105827 \t Validation loss: 1.9625286106335915 \t \n",
      "\n",
      "7 epoch without improvement\n",
      " 24%|██▍       | 13776/57400 [53:28<2:38:11,  4.60it/s]\n",
      "Epoch 25 \t Training loss: 1.9339438161783518 \t Validation loss: 1.9671934903678248 \t \n",
      "\n",
      "8 epoch without improvement\n",
      " 25%|██▌       | 14350/57400 [55:35<2:35:48,  4.60it/s]\n",
      "Epoch 26 \t Training loss: 1.9316393662412823 \t Validation loss: 1.9617748806032085 \t \n",
      "\n",
      "9 epoch without improvement\n",
      " 26%|██▌       | 14924/57400 [57:43<2:33:39,  4.61it/s]\n",
      "Epoch 27 \t Training loss: 1.9319521869931902 \t Validation loss: 1.9617415909039773 \t \n",
      "\n",
      "10 epoch without improvement\n",
      "Validation_loss hasn't improve in 10 epoch. Stopping training after 27 epochs...\n"
     ]
    },
    {
     "data": {
      "image/png": "[encoded data removed]",
      "text/plain": [
       "<Figure size 640x480 with 1 Axes>"
      ]
     },
     "metadata": {},
     "output_type": "display_data"
    }
   ],
   "source": [
    "learning_rate = 1e-6\n",
    "optimizer = AdamW(model.parameters(), lr=learning_rate,weight_decay=0.1)\n",
    "num_epochs = 100\n",
    "train.train_function_multi(model,num_epochs,dl_train,optimizer,early_stop = 10,dl_val = dl_val,save_path=save_path)"
   ]
  },
  {
   "cell_type": "code",
   "execution_count": 14,
   "metadata": {},
   "outputs": [
    {
     "name": "stderr",
     "output_type": "stream",
     "text": [
      "Some weights of the model checkpoint at distilbert-base-cased were not used when initializing DistilBertModel: ['vocab_transform.weight', 'vocab_projector.weight', 'vocab_layer_norm.bias', 'vocab_layer_norm.weight', 'vocab_projector.bias', 'vocab_transform.bias']\n",
      "- This IS expected if you are initializing DistilBertModel from the checkpoint of a model trained on another task or with another architecture (e.g. initializing a BertForSequenceClassification model from a BertForPreTraining model).\n",
      "- This IS NOT expected if you are initializing DistilBertModel from the checkpoint of a model that you expect to be exactly identical (initializing a BertForSequenceClassification model from a BertForSequenceClassification model).\n"
     ]
    },
    {
     "name": "stdout",
     "output_type": "stream",
     "text": [
      "Accuracy evaluando en todas las etiquetas\n",
      "{'to': 0.6641414141414141, 'as': 0.7235984354628422, 'about': 0.8227040816326531}\n",
      "Accuracy evaluando en etiquetas female\n",
      "{'to': 0.6299212598425197, 'as': 0.7358490566037735, 'about': 0.805}\n",
      "Accuracy evaluando en etiquetas male\n",
      "{'to': 0.6958637469586375, 'as': 0.7121212121212122, 'about': 0.8411458333333334}\n"
     ]
    }
   ],
   "source": [
    "model = mt.MultiWithDependencies(model_conf,vocab).to(device)\n",
    "model.load_state_dict(torch.load(save_path))\n",
    "\n",
    "print(\"Accuracy evaluando en todas las etiquetas\")\n",
    "print(train.eval_function_multi(model,dl_eval,tasks))\n",
    "print(\"Accuracy evaluando en etiquetas female\")\n",
    "print(train.eval_function_multi(model,dl_eval,tasks,'female'))\n",
    "print(\"Accuracy evaluando en etiquetas male\")\n",
    "print(train.eval_function_multi(model,dl_eval,tasks,'male'))"
   ]
  }
 ],
 "metadata": {
  "kernelspec": {
   "display_name": "tfg",
   "language": "python",
   "name": "python3"
  },
  "language_info": {
   "codemirror_mode": {
    "name": "ipython",
    "version": 3
   },
   "file_extension": ".py",
   "mimetype": "text/x-python",
   "name": "python",
   "nbconvert_exporter": "python",
   "pygments_lexer": "ipython3",
   "version": "3.9.13"
  },
  "orig_nbformat": 4,
  "vscode": {
   "interpreter": {
    "hash": "35e8332e99bdf485583869dfbdef293dcf2f9293b1663ec5daea0a573af457c3"
   }
  }
 },
 "nbformat": 4,
 "nbformat_minor": 2
}
