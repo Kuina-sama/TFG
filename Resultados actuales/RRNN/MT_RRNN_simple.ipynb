{
 "cells": [
  {
   "attachments": {},
   "cell_type": "markdown",
   "metadata": {},
   "source": [
    "En esta v2 simplemente he añadido una capa lineal más entre la capa lstm y la capa lineal de salida. Quedaría probar si un dropout me cambia en algo"
   ]
  },
  {
   "cell_type": "code",
   "execution_count": 1,
   "metadata": {},
   "outputs": [],
   "source": [
    "import numpy as np\n",
    "import torch\n",
    "\n",
    "\n",
    "import json\n",
    "from torch.utils.data import DataLoader\n",
    "from torch.optim import SGD,AdamW\n",
    "from torch import nn"
   ]
  },
  {
   "cell_type": "code",
   "execution_count": 2,
   "metadata": {},
   "outputs": [],
   "source": [
    "import utils_generic as generic\n",
    "import rrnn_mt as rrnn\n",
    "import model_confs as confs\n",
    "\n",
    "\n",
    "import train"
   ]
  },
  {
   "cell_type": "code",
   "execution_count": 3,
   "metadata": {},
   "outputs": [],
   "source": [
    "device = torch.device(\"cuda\") if torch.cuda.is_available() else torch.device(\"cpu\")\n",
    "torch.manual_seed(27)\n",
    "tasks = ['to','as','about']"
   ]
  },
  {
   "attachments": {},
   "cell_type": "markdown",
   "metadata": {},
   "source": [
    "# Datos ConvAI2"
   ]
  },
  {
   "cell_type": "code",
   "execution_count": 4,
   "metadata": {},
   "outputs": [],
   "source": [
    "with open('Datasets\\ConvAI2\\convai2_complete.json','r') as f:\n",
    "    data = json.load(f)"
   ]
  },
  {
   "cell_type": "code",
   "execution_count": 5,
   "metadata": {},
   "outputs": [],
   "source": [
    "convai_train = data['train']\n",
    "convai_val = data['validation']\n",
    "\n",
    "\n",
    "word_to_index = generic.create_word_to_index(convai_train)\n",
    "\n",
    "convai_train_token = generic.tokenize_dataset_rrnn(convai_train,['about','to','as'],word_to_index) \n",
    "convai_val_token = generic.tokenize_dataset_rrnn(convai_val,['about','to','as'],word_to_index) "
   ]
  },
  {
   "cell_type": "code",
   "execution_count": 6,
   "metadata": {},
   "outputs": [],
   "source": [
    "convai_train_dataset =rrnn.DatasetMultiTaskSimple(convai_train_token,tasks,eval=False)"
   ]
  },
  {
   "cell_type": "code",
   "execution_count": 7,
   "metadata": {},
   "outputs": [],
   "source": [
    "convai_val_dataset = rrnn.DatasetMultiTaskSimple(convai_val_token,tasks,eval=False)"
   ]
  },
  {
   "attachments": {},
   "cell_type": "markdown",
   "metadata": {},
   "source": [
    "# Datos md_gender"
   ]
  },
  {
   "cell_type": "code",
   "execution_count": 8,
   "metadata": {},
   "outputs": [],
   "source": [
    "with open('Datasets\\md_gender\\md_complete.json','r',encoding=\"utf8\") as f:\n",
    "    md_data = json.load(f)"
   ]
  },
  {
   "cell_type": "code",
   "execution_count": 9,
   "metadata": {},
   "outputs": [],
   "source": [
    "md_tokenized = generic.tokenize_dataset_rrnn(md_data,['about','to','as'],word_to_index) \n",
    "\n",
    "\n",
    "md_dataset  = rrnn.DatasetMultiTaskSimple(md_tokenized,tasks,eval=True)"
   ]
  },
  {
   "attachments": {},
   "cell_type": "markdown",
   "metadata": {},
   "source": [
    "# Creación dataloaders"
   ]
  },
  {
   "cell_type": "code",
   "execution_count": 10,
   "metadata": {},
   "outputs": [],
   "source": [
    "dl_train =  DataLoader(convai_train_dataset,batch_size=128,shuffle=True,collate_fn=rrnn.collate_fn)\n",
    "dl_val = DataLoader(convai_val_dataset,batch_size=128,shuffle=True,collate_fn=rrnn.collate_fn)\n",
    "dl_eval  = DataLoader(md_dataset,batch_size=128,shuffle=False,collate_fn=rrnn.collate_fn)"
   ]
  },
  {
   "attachments": {},
   "cell_type": "markdown",
   "metadata": {},
   "source": [
    "# MultiTask SGD"
   ]
  },
  {
   "cell_type": "code",
   "execution_count": 11,
   "metadata": {},
   "outputs": [],
   "source": [
    "emb_dim = 20\n",
    "vocab_size = len(word_to_index)\n",
    "num_labels = 2\n",
    "lstm_hidden_dim = 128"
   ]
  },
  {
   "cell_type": "code",
   "execution_count": 12,
   "metadata": {},
   "outputs": [],
   "source": [
    "model = rrnn.MultiTaskRRNN(emb_dim,vocab_size,lstm_hidden_dim).to(device)\n",
    "save_path='m1_rrnn_multi_sgd'"
   ]
  },
  {
   "cell_type": "code",
   "execution_count": 13,
   "metadata": {},
   "outputs": [
    {
     "name": "stdout",
     "output_type": "stream",
     "text": [
      "Accuracy evaluando en todas las etiquetas\n",
      "{'to': 0.4810606060606061, 'as': 0.48370273794002605, 'about': 0.5102040816326531}\n",
      "Accuracy evaluando en etiquetas female\n",
      "{'to': 1.0, 'as': 0.9973045822102425, 'about': 1.0}\n",
      "Accuracy evaluando en etiquetas male\n",
      "{'to': 0.0, 'as': 0.0025252525252525255, 'about': 0.0}\n"
     ]
    }
   ],
   "source": [
    "print(\"Accuracy evaluando en todas las etiquetas\")\n",
    "print(train.eval_function_multi(model,dl_eval,tasks))\n",
    "print(\"Accuracy evaluando en etiquetas female\")\n",
    "print(train.eval_function_multi(model,dl_eval,tasks,'female'))\n",
    "print(\"Accuracy evaluando en etiquetas male\")\n",
    "print(train.eval_function_multi(model,dl_eval,tasks,'male'))"
   ]
  },
  {
   "cell_type": "code",
   "execution_count": null,
   "metadata": {},
   "outputs": [],
   "source": []
  },
  {
   "cell_type": "code",
   "execution_count": 14,
   "metadata": {},
   "outputs": [
    {
     "data": {
      "application/vnd.jupyter.widget-view+json": {
       "model_id": "b975dafc3517479692fd4b319bbf649a",
       "version_major": 2,
       "version_minor": 0
      },
      "text/plain": [
       "  0%|          | 0/57400 [00:00<?, ?it/s]"
      ]
     },
     "metadata": {},
     "output_type": "display_data"
    },
    {
     "name": "stdout",
     "output_type": "stream",
     "text": [
      "Epoch 1 \t Training loss: 2.0803643651955634 \t Validation loss: 2.0793403164815096 \t \n",
      "  1%|          | 574/57400 [00:05<07:56, 119.28it/s]\n",
      "Epoch 2 \t Training loss: 2.077473421545394 \t Validation loss: 2.0800128144732977 \t \n",
      "  2%|▏         | 1148/57400 [00:10<07:37, 123.01it/s]\n",
      "Epoch 3 \t Training loss: 2.076287329819975 \t Validation loss: 2.0802332546751376 \t \n",
      "  3%|▎         | 1722/57400 [00:15<07:23, 125.54it/s]\n",
      "Epoch 4 \t Training loss: 2.076133737165338 \t Validation loss: 2.0807040060980846 \t \n",
      "\n",
      "1 epoch without improvement\n",
      "  4%|▍         | 2296/57400 [00:20<07:12, 127.28it/s]\n",
      "Epoch 5 \t Training loss: 2.0759270041661813 \t Validation loss: 2.0808647244663563 \t \n",
      "\n",
      "2 epoch without improvement\n",
      "  5%|▌         | 2870/57400 [00:25<07:10, 126.55it/s]\n",
      "Epoch 6 \t Training loss: 2.0756812432086424 \t Validation loss: 2.0813243146670066 \t \n",
      "\n",
      "3 epoch without improvement\n",
      "  6%|▌         | 3444/57400 [00:29<06:41, 134.27it/s]\n",
      "Epoch 7 \t Training loss: 2.075405606824762 \t Validation loss: 2.080792920064118 \t \n",
      "\n",
      "4 epoch without improvement\n",
      "  7%|▋         | 4018/57400 [00:34<06:58, 127.51it/s]\n",
      "Epoch 8 \t Training loss: 2.0759235728493137 \t Validation loss: 2.0804960970151223 \t \n",
      "\n",
      "5 epoch without improvement\n",
      "  8%|▊         | 4592/57400 [00:39<07:11, 122.46it/s]\n",
      "Epoch 9 \t Training loss: 2.075982263694657 \t Validation loss: 2.0812434220718123 \t \n",
      "\n",
      "6 epoch without improvement\n",
      "  9%|▉         | 5166/57400 [00:44<06:54, 126.04it/s]\n",
      "Epoch 10 \t Training loss: 2.075717563828525 \t Validation loss: 2.0808113591145663 \t \n",
      "\n",
      "7 epoch without improvement\n",
      " 10%|█         | 5740/57400 [00:49<07:05, 121.40it/s]\n",
      "Epoch 11 \t Training loss: 2.0757743315414268 \t Validation loss: 2.0816682758977856 \t \n",
      "\n",
      "8 epoch without improvement\n",
      " 11%|█         | 6314/57400 [00:54<07:04, 120.33it/s]\n",
      "Epoch 12 \t Training loss: 2.0758736764927774 \t Validation loss: 2.0815913313526218 \t \n",
      "\n",
      "9 epoch without improvement\n",
      " 12%|█▏        | 6888/57400 [01:00<07:23, 113.95it/s]\n",
      "Epoch 13 \t Training loss: 2.076232189500789 \t Validation loss: 2.081714209863695 \t \n",
      "\n",
      "10 epoch without improvement\n",
      "Validation_loss hasn't improve in 10 epoch. Stopping training after 13 epochs...\n"
     ]
    },
    {
     "data": {
      "image/png": "[encoded data removed]",
      "text/plain": [
       "<Figure size 640x480 with 1 Axes>"
      ]
     },
     "metadata": {},
     "output_type": "display_data"
    }
   ],
   "source": [
    "learning_rate = 5e-5\n",
    "optimizer = SGD(model.parameters(), lr=learning_rate, momentum=0.9)\n",
    "num_epochs = 100\n",
    "\n",
    "train.train_function_multi(model,num_epochs,dl_train,optimizer,early_stop = 10,dl_val = dl_val,save_path=save_path)"
   ]
  },
  {
   "cell_type": "code",
   "execution_count": 15,
   "metadata": {},
   "outputs": [
    {
     "name": "stdout",
     "output_type": "stream",
     "text": [
      "Accuracy evaluando en todas las etiquetas\n",
      "{'to': 0.5214646464646465, 'as': 0.5228161668839635, 'about': 0.48596938775510207}\n",
      "Accuracy evaluando en etiquetas female\n",
      "{'to': 0.03937007874015748, 'as': 0.05121293800539083, 'about': 0.0275}\n",
      "Accuracy evaluando en etiquetas male\n",
      "{'to': 0.9683698296836983, 'as': 0.9646464646464646, 'about': 0.9635416666666666}\n"
     ]
    }
   ],
   "source": [
    "model = rrnn.MultiTaskRRNN(emb_dim,vocab_size,lstm_hidden_dim).to(device)\n",
    "model.load_state_dict(torch.load(save_path))\n",
    "\n",
    "print(\"Accuracy evaluando en todas las etiquetas\")\n",
    "print(train.eval_function_multi(model,dl_eval,tasks))\n",
    "print(\"Accuracy evaluando en etiquetas female\")\n",
    "print(train.eval_function_multi(model,dl_eval,tasks,'female'))\n",
    "print(\"Accuracy evaluando en etiquetas male\")\n",
    "print(train.eval_function_multi(model,dl_eval,tasks,'male'))"
   ]
  },
  {
   "attachments": {},
   "cell_type": "markdown",
   "metadata": {},
   "source": [
    "# AdamW"
   ]
  },
  {
   "cell_type": "code",
   "execution_count": 16,
   "metadata": {},
   "outputs": [],
   "source": [
    "model = rrnn.MultiTaskRRNN(emb_dim,vocab_size,lstm_hidden_dim).to(device)\n",
    "save_path='m1_rrnn_multi_adamw'"
   ]
  },
  {
   "cell_type": "code",
   "execution_count": 17,
   "metadata": {},
   "outputs": [
    {
     "data": {
      "application/vnd.jupyter.widget-view+json": {
       "model_id": "449ae198ee684c2e9454195eb5226b08",
       "version_major": 2,
       "version_minor": 0
      },
      "text/plain": [
       "  0%|          | 0/57400 [00:00<?, ?it/s]"
      ]
     },
     "metadata": {},
     "output_type": "display_data"
    },
    {
     "name": "stdout",
     "output_type": "stream",
     "text": [
      "Epoch 1 \t Training loss: 2.075826116555244 \t Validation loss: 2.0812666618217857 \t \n",
      "  1%|          | 574/57400 [00:05<08:34, 110.49it/s]\n",
      "Epoch 2 \t Training loss: 2.073845778192793 \t Validation loss: 2.0795846470331742 \t \n",
      "  2%|▏         | 1148/57400 [00:11<08:29, 110.40it/s]\n",
      "Epoch 3 \t Training loss: 2.0703362421706992 \t Validation loss: 2.074846869808132 \t \n",
      "  3%|▎         | 1722/57400 [00:16<08:15, 112.33it/s]\n",
      "Epoch 4 \t Training loss: 2.067095810943364 \t Validation loss: 2.072924537173772 \t \n",
      "  4%|▍         | 2296/57400 [00:22<08:11, 112.09it/s]\n",
      "Epoch 5 \t Training loss: 2.065446422490509 \t Validation loss: 2.0686801490137134 \t \n",
      "  5%|▌         | 2870/57400 [00:27<08:09, 111.34it/s]\n",
      "Epoch 6 \t Training loss: 2.063266361631998 \t Validation loss: 2.070373325024621 \t \n",
      "\n",
      "1 epoch without improvement\n",
      "  6%|▌         | 3444/57400 [00:32<08:03, 111.58it/s]\n",
      "Epoch 7 \t Training loss: 2.0614801055462935 \t Validation loss: 2.066296941142971 \t \n",
      "  7%|▋         | 4018/57400 [00:38<08:06, 109.74it/s]\n",
      "Epoch 8 \t Training loss: 2.060102761622505 \t Validation loss: 2.0662000745029774 \t \n",
      "  8%|▊         | 4592/57400 [00:43<07:47, 113.07it/s]\n",
      "Epoch 9 \t Training loss: 2.0585092173220803 \t Validation loss: 2.064273616014901 \t \n",
      "  9%|▉         | 5166/57400 [00:49<07:28, 116.36it/s]\n",
      "Epoch 10 \t Training loss: 2.0561199235999212 \t Validation loss: 2.0681559716240834 \t \n",
      "\n",
      "1 epoch without improvement\n",
      " 10%|█         | 5740/57400 [00:54<07:47, 110.45it/s]\n",
      "Epoch 11 \t Training loss: 2.054024365720849 \t Validation loss: 2.06621230254739 \t \n",
      "\n",
      "2 epoch without improvement\n",
      " 11%|█         | 6314/57400 [01:00<07:45, 109.84it/s]\n",
      "Epoch 12 \t Training loss: 2.053219348919101 \t Validation loss: 2.0606318611209677 \t \n",
      " 12%|█▏        | 6888/57400 [01:06<07:36, 110.68it/s]\n",
      "Epoch 13 \t Training loss: 2.051973433652406 \t Validation loss: 2.0638831146692826 \t \n",
      "\n",
      "1 epoch without improvement\n",
      " 13%|█▎        | 7462/57400 [01:11<07:21, 113.02it/s]\n",
      "Epoch 14 \t Training loss: 2.05064086091643 \t Validation loss: 2.0557208990646623 \t \n",
      " 14%|█▍        | 8036/57400 [01:17<07:23, 111.33it/s]\n",
      "Epoch 15 \t Training loss: 2.048212242251074 \t Validation loss: 2.0613522731651694 \t \n",
      "\n",
      "1 epoch without improvement\n",
      " 15%|█▌        | 8610/57400 [01:22<07:11, 113.19it/s]\n",
      "Epoch 16 \t Training loss: 2.047628753484334 \t Validation loss: 2.0547377335823187 \t \n",
      " 16%|█▌        | 9184/57400 [01:27<06:48, 117.94it/s]\n",
      "Epoch 17 \t Training loss: 2.0451809518843995 \t Validation loss: 2.0533377073578913 \t \n",
      " 17%|█▋        | 9758/57400 [01:33<07:25, 106.89it/s]\n",
      "Epoch 18 \t Training loss: 2.0434519164653606 \t Validation loss: 2.0541181806790627 \t \n",
      " 18%|█▊        | 10332/57400 [01:39<07:16, 107.78it/s]\n",
      "Epoch 19 \t Training loss: 2.04290768784513 \t Validation loss: 2.049736313900705 \t \n",
      " 19%|█▉        | 10906/57400 [01:44<06:56, 111.55it/s]\n",
      "Epoch 20 \t Training loss: 2.0400235756764427 \t Validation loss: 2.0558804374630166 \t \n",
      "\n",
      "1 epoch without improvement\n",
      " 20%|██        | 11480/57400 [01:50<07:18, 104.67it/s]\n",
      "Epoch 21 \t Training loss: 2.038300690127582 \t Validation loss: 2.04961573067358 \t \n",
      " 21%|██        | 12054/57400 [01:56<06:47, 111.40it/s]\n",
      "Epoch 22 \t Training loss: 2.037479429710202 \t Validation loss: 2.0513133335921725 \t \n",
      "\n",
      "1 epoch without improvement\n",
      " 22%|██▏       | 12628/57400 [02:01<06:47, 109.94it/s]\n",
      "Epoch 23 \t Training loss: 2.0362803225733264 \t Validation loss: 2.052400574845783 \t \n",
      "\n",
      "2 epoch without improvement\n",
      " 23%|██▎       | 13202/57400 [02:07<06:42, 109.82it/s]\n",
      "Epoch 24 \t Training loss: 2.034884778257031 \t Validation loss: 2.042788299463563 \t \n",
      " 24%|██▍       | 13776/57400 [02:12<06:40, 108.82it/s]\n",
      "Epoch 25 \t Training loss: 2.0348948477037276 \t Validation loss: 2.0450088795969044 \t \n",
      "\n",
      "1 epoch without improvement\n",
      " 25%|██▌       | 14350/57400 [02:18<07:09, 100.26it/s]\n",
      "Epoch 26 \t Training loss: 2.033725509867851 \t Validation loss: 2.04310295945507 \t \n",
      " 26%|██▌       | 14924/57400 [02:24<06:31, 108.56it/s]\n",
      "Epoch 27 \t Training loss: 2.0330233773288 \t Validation loss: 2.0460899260084506 \t \n",
      "\n",
      "2 epoch without improvement\n",
      " 27%|██▋       | 15498/57400 [02:30<06:38, 105.12it/s]\n",
      "Epoch 28 \t Training loss: 2.031405207795133 \t Validation loss: 2.049511713496709 \t \n",
      "\n",
      "3 epoch without improvement\n",
      " 28%|██▊       | 16072/57400 [02:36<06:20, 108.62it/s]\n",
      "Epoch 29 \t Training loss: 2.029290068232639 \t Validation loss: 2.0473592887490484 \t \n",
      "\n",
      "4 epoch without improvement\n",
      " 29%|██▉       | 16646/57400 [02:41<06:06, 111.07it/s]\n",
      "Epoch 30 \t Training loss: 2.029560873525068 \t Validation loss: 2.0410564693353943 \t \n",
      " 30%|███       | 17220/57400 [02:47<05:58, 112.03it/s]\n",
      "Epoch 31 \t Training loss: 2.02832789994283 \t Validation loss: 2.042561898797245 \t \n",
      "\n",
      "1 epoch without improvement\n",
      " 31%|███       | 17794/57400 [02:53<06:03, 109.00it/s]\n",
      "Epoch 32 \t Training loss: 2.0259867518205676 \t Validation loss: 2.0434127742961303 \t \n",
      "\n",
      "2 epoch without improvement\n",
      " 32%|███▏      | 18368/57400 [02:58<05:53, 110.38it/s]\n",
      "Epoch 33 \t Training loss: 2.0270428836137993 \t Validation loss: 2.039179274591349 \t \n",
      " 33%|███▎      | 18942/57400 [03:04<05:49, 110.06it/s]\n",
      "Epoch 34 \t Training loss: 2.0255687814140986 \t Validation loss: 2.038453267792524 \t \n",
      " 34%|███▍      | 19516/57400 [03:09<05:35, 113.07it/s]\n",
      "Epoch 35 \t Training loss: 2.0253782139422585 \t Validation loss: 2.0439238386639094 \t \n",
      "\n",
      "1 epoch without improvement\n",
      " 35%|███▌      | 20090/57400 [03:15<05:46, 107.68it/s]\n",
      "Epoch 36 \t Training loss: 2.0259427446936895 \t Validation loss: 2.042366035914017 \t \n",
      "\n",
      "2 epoch without improvement\n",
      " 36%|███▌      | 20664/57400 [03:21<05:35, 109.41it/s]\n",
      "Epoch 37 \t Training loss: 2.0241118276991497 \t Validation loss: 2.039359959505372 \t \n",
      " 37%|███▋      | 21238/57400 [03:26<05:32, 108.75it/s]\n",
      "Epoch 38 \t Training loss: 2.0232072707252637 \t Validation loss: 2.038868392928172 \t \n",
      " 38%|███▊      | 21812/57400 [03:32<05:10, 114.57it/s]\n",
      "Epoch 39 \t Training loss: 2.0236216278857055 \t Validation loss: 2.0427807630118675 \t \n",
      "\n",
      "3 epoch without improvement\n",
      " 39%|███▉      | 22386/57400 [03:38<05:23, 108.18it/s]\n",
      "Epoch 40 \t Training loss: 2.0207100113925205 \t Validation loss: 2.040980585550858 \t \n",
      "\n",
      "4 epoch without improvement\n",
      " 40%|████      | 22960/57400 [03:43<05:06, 112.23it/s]\n",
      "Epoch 41 \t Training loss: 2.020713495460537 \t Validation loss: 2.03946151975858 \t \n",
      "\n",
      "5 epoch without improvement\n",
      " 41%|████      | 23534/57400 [03:49<05:06, 110.57it/s]\n",
      "Epoch 42 \t Training loss: 2.020841900479918 \t Validation loss: 2.0423608068692483 \t \n",
      "\n",
      "6 epoch without improvement\n",
      " 42%|████▏     | 24108/57400 [03:54<05:01, 110.47it/s]\n",
      "Epoch 43 \t Training loss: 2.0190552734747165 \t Validation loss: 2.042602147086192 \t \n",
      "\n",
      "7 epoch without improvement\n",
      " 43%|████▎     | 24682/57400 [04:00<04:44, 114.93it/s]\n",
      "Epoch 44 \t Training loss: 2.0198580387992724 \t Validation loss: 2.038063089726335 \t \n",
      " 44%|████▍     | 25256/57400 [04:06<05:00, 106.98it/s]\n",
      "Epoch 45 \t Training loss: 2.01883409725249 \t Validation loss: 2.0317325127326837 \t \n",
      " 45%|████▌     | 25830/57400 [04:11<04:43, 111.19it/s]\n",
      "Epoch 46 \t Training loss: 2.019478096986897 \t Validation loss: 2.040508472313315 \t \n",
      "\n",
      "1 epoch without improvement\n",
      " 46%|████▌     | 26404/57400 [04:17<04:44, 109.02it/s]\n",
      "Epoch 47 \t Training loss: 2.016943275305452 \t Validation loss: 2.0345854900651057 \t \n",
      "\n",
      "2 epoch without improvement\n",
      " 47%|████▋     | 26978/57400 [04:23<04:40, 108.65it/s]\n",
      "Epoch 48 \t Training loss: 2.0168272464532886 \t Validation loss: 2.042257832268537 \t \n",
      "\n",
      "3 epoch without improvement\n",
      " 48%|████▊     | 27552/57400 [04:28<04:29, 110.93it/s]\n",
      "Epoch 49 \t Training loss: 2.0171499229474352 \t Validation loss: 2.035222295987404 \t \n",
      "\n",
      "4 epoch without improvement\n",
      " 49%|████▉     | 28126/57400 [04:34<04:35, 106.31it/s]\n",
      "Epoch 50 \t Training loss: 2.0176718436467107 \t Validation loss: 2.0384236432738225 \t \n",
      "\n",
      "5 epoch without improvement\n",
      " 50%|█████     | 28700/57400 [04:40<04:21, 109.86it/s]\n",
      "Epoch 51 \t Training loss: 2.0154061334058384 \t Validation loss: 2.037000858177573 \t \n",
      "\n",
      "6 epoch without improvement\n",
      " 51%|█████     | 29274/57400 [04:45<04:17, 109.21it/s]\n",
      "Epoch 52 \t Training loss: 2.0149909552796794 \t Validation loss: 2.040020871970613 \t \n",
      "\n",
      "7 epoch without improvement\n",
      " 52%|█████▏    | 29848/57400 [04:51<04:10, 110.12it/s]\n",
      "Epoch 53 \t Training loss: 2.0145251892169593 \t Validation loss: 2.0345539703207502 \t \n",
      "\n",
      "8 epoch without improvement\n",
      " 53%|█████▎    | 30422/57400 [04:56<04:02, 111.07it/s]\n",
      "Epoch 54 \t Training loss: 2.013948306181705 \t Validation loss: 2.0340191671403787 \t \n",
      "\n",
      "9 epoch without improvement\n",
      " 54%|█████▍    | 30996/57400 [05:02<03:55, 111.97it/s]\n",
      "Epoch 55 \t Training loss: 2.0137264045273384 \t Validation loss: 2.0355171349089023 \t \n",
      "\n",
      "10 epoch without improvement\n",
      "Validation_loss hasn't improve in 10 epoch. Stopping training after 55 epochs...\n"
     ]
    },
    {
     "data": {
      "image/png": "[encoded data removed]",
      "text/plain": [
       "<Figure size 640x480 with 1 Axes>"
      ]
     },
     "metadata": {},
     "output_type": "display_data"
    }
   ],
   "source": [
    "learning_rate = 5e-5\n",
    "optimizer = AdamW(model.parameters(), lr=learning_rate)\n",
    "num_epochs = 100\n",
    "\n",
    "train.train_function_multi(model,num_epochs,dl_train,optimizer,early_stop = 10,dl_val = dl_val,save_path=save_path)"
   ]
  },
  {
   "cell_type": "code",
   "execution_count": 18,
   "metadata": {},
   "outputs": [
    {
     "name": "stdout",
     "output_type": "stream",
     "text": [
      "Accuracy evaluando en todas las etiquetas\n",
      "{'to': 0.5416666666666666, 'as': 0.5671447196870926, 'about': 0.6288265306122449}\n",
      "Accuracy evaluando en etiquetas female\n",
      "{'to': 0.32020997375328086, 'as': 0.32075471698113206, 'about': 0.42}\n",
      "Accuracy evaluando en etiquetas male\n",
      "{'to': 0.7469586374695864, 'as': 0.797979797979798, 'about': 0.8463541666666666}\n"
     ]
    }
   ],
   "source": [
    "model = rrnn.MultiTaskRRNN(emb_dim,vocab_size,lstm_hidden_dim).to(device)\n",
    "model.load_state_dict(torch.load(save_path))\n",
    "\n",
    "print(\"Accuracy evaluando en todas las etiquetas\")\n",
    "print(train.eval_function_multi(model,dl_eval,tasks))\n",
    "print(\"Accuracy evaluando en etiquetas female\")\n",
    "print(train.eval_function_multi(model,dl_eval,tasks,'female'))\n",
    "print(\"Accuracy evaluando en etiquetas male\")\n",
    "print(train.eval_function_multi(model,dl_eval,tasks,'male'))"
   ]
  }
 ],
 "metadata": {
  "kernelspec": {
   "display_name": "tfg",
   "language": "python",
   "name": "python3"
  },
  "language_info": {
   "codemirror_mode": {
    "name": "ipython",
    "version": 3
   },
   "file_extension": ".py",
   "mimetype": "text/x-python",
   "name": "python",
   "nbconvert_exporter": "python",
   "pygments_lexer": "ipython3",
   "version": "3.9.13"
  },
  "orig_nbformat": 4
 },
 "nbformat": 4,
 "nbformat_minor": 2
}
