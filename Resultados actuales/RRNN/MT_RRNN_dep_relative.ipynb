{
 "cells": [
  {
   "attachments": {},
   "cell_type": "markdown",
   "metadata": {},
   "source": [
    "En esta v2 simplemente he añadido una capa lineal más entre la capa lstm y la capa lineal de salida. Quedaría probar si un dropout me cambia en algo"
   ]
  },
  {
   "cell_type": "code",
   "execution_count": 1,
   "metadata": {},
   "outputs": [],
   "source": [
    "import numpy as np\n",
    "import torch\n",
    "\n",
    "\n",
    "import json\n",
    "from torch.utils.data import DataLoader\n",
    "from torch.optim import SGD,AdamW\n",
    "from torch import nn"
   ]
  },
  {
   "cell_type": "code",
   "execution_count": 2,
   "metadata": {},
   "outputs": [],
   "source": [
    "import utils_generic as generic\n",
    "import rrnn_mt as rrnn\n",
    "import multitask_dep as mt\n",
    "\n",
    "import train_dep as train"
   ]
  },
  {
   "cell_type": "code",
   "execution_count": 3,
   "metadata": {},
   "outputs": [],
   "source": [
    "device = torch.device(\"cuda\") if torch.cuda.is_available() else torch.device(\"cpu\")\n",
    "torch.manual_seed(27)\n",
    "tasks = ['to','as','about']\n",
    "encoding_type = 'relative'"
   ]
  },
  {
   "attachments": {},
   "cell_type": "markdown",
   "metadata": {},
   "source": [
    "# Datos ConvAI2"
   ]
  },
  {
   "cell_type": "code",
   "execution_count": 4,
   "metadata": {},
   "outputs": [],
   "source": [
    "with open('Datasets\\ConvAI2\\convai2_complete.json','r') as f:\n",
    "    data = json.load(f)"
   ]
  },
  {
   "cell_type": "code",
   "execution_count": 5,
   "metadata": {},
   "outputs": [],
   "source": [
    "vocab = mt.Vocabulary(data['train'],encoding_type)"
   ]
  },
  {
   "cell_type": "code",
   "execution_count": 6,
   "metadata": {},
   "outputs": [],
   "source": [
    "convai_train = data['train']\n",
    "convai_val = data['validation']\n",
    "\n",
    "\n",
    "word_to_index = generic.create_word_to_index(convai_train)\n",
    "\n",
    "convai_train_token = generic.tokenize_dataset_with_dependencies_rrnn(convai_train,['about','to','as'],vocab,word_to_index) \n",
    "convai_val_token = generic.tokenize_dataset_with_dependencies_rrnn(convai_val,['about','to','as'],vocab,word_to_index) "
   ]
  },
  {
   "cell_type": "code",
   "execution_count": 7,
   "metadata": {},
   "outputs": [],
   "source": [
    "convai_train_dataset =rrnn.DatasetMultiTaskSimple(convai_train_token,tasks,eval=False,deps=True)"
   ]
  },
  {
   "cell_type": "code",
   "execution_count": 8,
   "metadata": {},
   "outputs": [],
   "source": [
    "convai_val_dataset = rrnn.DatasetMultiTaskSimple(convai_val_token,tasks,eval=False,deps=True)"
   ]
  },
  {
   "attachments": {},
   "cell_type": "markdown",
   "metadata": {},
   "source": [
    "# Datos md_gender"
   ]
  },
  {
   "cell_type": "code",
   "execution_count": 9,
   "metadata": {},
   "outputs": [],
   "source": [
    "with open('Datasets\\md_gender\\md_complete.json','r',encoding=\"utf8\") as f:\n",
    "    md_data = json.load(f)"
   ]
  },
  {
   "cell_type": "code",
   "execution_count": 10,
   "metadata": {},
   "outputs": [],
   "source": [
    "md_tokenized = generic.tokenize_dataset_with_dependencies_rrnn(md_data,['about','to','as'],vocab,word_to_index) \n",
    "\n",
    "\n",
    "md_dataset  = rrnn.DatasetMultiTaskSimple(md_tokenized,tasks,eval=True,deps=True)"
   ]
  },
  {
   "attachments": {},
   "cell_type": "markdown",
   "metadata": {},
   "source": [
    "# Creación dataloaders"
   ]
  },
  {
   "cell_type": "code",
   "execution_count": 11,
   "metadata": {},
   "outputs": [],
   "source": [
    "dl_train =  DataLoader(convai_train_dataset,batch_size=128,shuffle=True,collate_fn=rrnn.collate_fn_dep)\n",
    "dl_val = DataLoader(convai_val_dataset,batch_size=128,shuffle=True,collate_fn=rrnn.collate_fn_dep)\n",
    "dl_eval  = DataLoader(md_dataset,batch_size=128,shuffle=False,collate_fn=rrnn.collate_fn_dep)"
   ]
  },
  {
   "attachments": {},
   "cell_type": "markdown",
   "metadata": {},
   "source": [
    "# MultiTask SGD"
   ]
  },
  {
   "cell_type": "code",
   "execution_count": 12,
   "metadata": {},
   "outputs": [],
   "source": [
    "emb_dim = 20\n",
    "vocab_size = len(word_to_index)\n",
    "num_labels = 2\n",
    "lstm_hidden_dim = 128"
   ]
  },
  {
   "cell_type": "code",
   "execution_count": 13,
   "metadata": {},
   "outputs": [],
   "source": [
    "model = rrnn.MultiTaskRRNNDep(emb_dim,vocab,vocab_size,lstm_hidden_dim).to(device)\n",
    "save_path='m1_rrnn_multi_sgd_relative'"
   ]
  },
  {
   "cell_type": "code",
   "execution_count": 14,
   "metadata": {},
   "outputs": [
    {
     "name": "stdout",
     "output_type": "stream",
     "text": [
      "Accuracy evaluando en todas las etiquetas\n",
      "{'to': 0.4898989898989899, 'as': 0.48370273794002605, 'about': 0.4872448979591837}\n",
      "Accuracy evaluando en etiquetas female\n",
      "{'to': 0.7847769028871391, 'as': 0.7951482479784366, 'about': 0.7575}\n",
      "Accuracy evaluando en etiquetas male\n",
      "{'to': 0.21654501216545013, 'as': 0.1919191919191919, 'about': 0.20572916666666666}\n"
     ]
    }
   ],
   "source": [
    "print(\"Accuracy evaluando en todas las etiquetas\")\n",
    "print(train.eval_function_multi(model,dl_eval,tasks))\n",
    "print(\"Accuracy evaluando en etiquetas female\")\n",
    "print(train.eval_function_multi(model,dl_eval,tasks,'female'))\n",
    "print(\"Accuracy evaluando en etiquetas male\")\n",
    "print(train.eval_function_multi(model,dl_eval,tasks,'male'))"
   ]
  },
  {
   "cell_type": "code",
   "execution_count": 15,
   "metadata": {},
   "outputs": [
    {
     "data": {
      "application/vnd.jupyter.widget-view+json": {
       "model_id": "e92cd37a4a6d431f901d8c81cc1518ea",
       "version_major": 2,
       "version_minor": 0
      },
      "text/plain": [
       "  0%|          | 0/57400 [00:00<?, ?it/s]"
      ]
     },
     "metadata": {},
     "output_type": "display_data"
    },
    {
     "name": "stdout",
     "output_type": "stream",
     "text": [
      "Epoch 1 \t Training loss: 2.078428089411001 \t Validation loss: 2.080163834458691 \t \n",
      "  1%|          | 574/57400 [00:06<09:46, 96.88it/s]\n",
      "Epoch 2 \t Training loss: 2.076493870505888 \t Validation loss: 2.081261331752195 \t \n",
      "\n",
      "1 epoch without improvement\n",
      "  2%|▏         | 1148/57400 [00:13<10:03, 93.16it/s]\n",
      "Epoch 3 \t Training loss: 2.0759703622877805 \t Validation loss: 2.0820649599624894 \t \n",
      "\n",
      "2 epoch without improvement\n",
      "  3%|▎         | 1722/57400 [00:19<09:32, 97.17it/s]\n",
      "Epoch 4 \t Training loss: 2.0763506665047036 \t Validation loss: 2.0803861860501565 \t \n",
      "  4%|▍         | 2296/57400 [00:26<09:24, 97.65it/s]\n",
      "Epoch 5 \t Training loss: 2.076000391813936 \t Validation loss: 2.0814981056472 \t \n",
      "\n",
      "3 epoch without improvement\n",
      "  5%|▌         | 2870/57400 [00:32<09:25, 96.37it/s]\n",
      "Epoch 6 \t Training loss: 2.0761704760561424 \t Validation loss: 2.0826487702838445 \t \n",
      "\n",
      "4 epoch without improvement\n",
      "  6%|▌         | 3444/57400 [00:38<09:07, 98.62it/s]\n",
      "Epoch 7 \t Training loss: 2.0758562420303397 \t Validation loss: 2.082159814188036 \t \n",
      "\n",
      "5 epoch without improvement\n",
      "  7%|▋         | 4018/57400 [00:45<09:01, 98.49it/s]\n",
      "Epoch 8 \t Training loss: 2.0760682920961013 \t Validation loss: 2.08197788464821 \t \n",
      "\n",
      "6 epoch without improvement\n",
      "  8%|▊         | 4592/57400 [00:52<09:15, 95.01it/s]\n",
      "Epoch 9 \t Training loss: 2.0759343577594294 \t Validation loss: 2.082221891920445 \t \n",
      "\n",
      "7 epoch without improvement\n",
      "  9%|▉         | 5166/57400 [00:58<09:03, 96.09it/s]\n",
      "Epoch 10 \t Training loss: 2.0759405200905086 \t Validation loss: 2.0820640386161156 \t \n",
      "\n",
      "8 epoch without improvement\n",
      " 10%|█         | 5740/57400 [01:04<09:08, 94.15it/s]\n",
      "Epoch 11 \t Training loss: 2.0758880156673207 \t Validation loss: 2.0816775499764137 \t \n",
      "\n",
      "9 epoch without improvement\n",
      " 11%|█         | 6314/57400 [01:11<08:47, 96.86it/s]\n",
      "Epoch 12 \t Training loss: 2.0762930119909893 \t Validation loss: 2.0813750574144265 \t \n",
      "\n",
      "10 epoch without improvement\n",
      "Validation_loss hasn't improve in 10 epoch. Stopping training after 12 epochs...\n"
     ]
    },
    {
     "data": {
      "image/png": "[encoded data removed]",
      "text/plain": [
       "<Figure size 640x480 with 1 Axes>"
      ]
     },
     "metadata": {},
     "output_type": "display_data"
    }
   ],
   "source": [
    "learning_rate = 5e-5\n",
    "optimizer = SGD(model.parameters(), lr=learning_rate, momentum=0.9)\n",
    "num_epochs = 100\n",
    "\n",
    "train.train_function_multi(model,num_epochs,dl_train,optimizer,early_stop = 10,dl_val = dl_val,save_path=save_path)"
   ]
  },
  {
   "cell_type": "code",
   "execution_count": 16,
   "metadata": {},
   "outputs": [
    {
     "name": "stdout",
     "output_type": "stream",
     "text": [
      "Accuracy evaluando en todas las etiquetas\n",
      "{'to': 0.5227272727272727, 'as': 0.5189048239895697, 'about': 0.49107142857142855}\n",
      "Accuracy evaluando en etiquetas female\n",
      "{'to': 0.010498687664041995, 'as': 0.01078167115902965, 'about': 0.0025}\n",
      "Accuracy evaluando en etiquetas male\n",
      "{'to': 0.9975669099756691, 'as': 0.9949494949494949, 'about': 1.0}\n"
     ]
    }
   ],
   "source": [
    "model = rrnn.MultiTaskRRNNDep(emb_dim,vocab,vocab_size,lstm_hidden_dim).to(device)\n",
    "model.load_state_dict(torch.load(save_path))\n",
    "\n",
    "print(\"Accuracy evaluando en todas las etiquetas\")\n",
    "print(train.eval_function_multi(model,dl_eval,tasks))\n",
    "print(\"Accuracy evaluando en etiquetas female\")\n",
    "print(train.eval_function_multi(model,dl_eval,tasks,'female'))\n",
    "print(\"Accuracy evaluando en etiquetas male\")\n",
    "print(train.eval_function_multi(model,dl_eval,tasks,'male'))"
   ]
  },
  {
   "attachments": {},
   "cell_type": "markdown",
   "metadata": {},
   "source": [
    "# AdamW"
   ]
  },
  {
   "cell_type": "code",
   "execution_count": 17,
   "metadata": {},
   "outputs": [],
   "source": [
    "model = rrnn.MultiTaskRRNNDep(emb_dim,vocab,vocab_size,lstm_hidden_dim).to(device)\n",
    "save_path='m1_rrnn_multi_adamw_relative'"
   ]
  },
  {
   "cell_type": "code",
   "execution_count": 18,
   "metadata": {},
   "outputs": [
    {
     "data": {
      "application/vnd.jupyter.widget-view+json": {
       "model_id": "3c6cc363a5a842b3b24015b2e1601bec",
       "version_major": 2,
       "version_minor": 0
      },
      "text/plain": [
       "  0%|          | 0/57400 [00:00<?, ?it/s]"
      ]
     },
     "metadata": {},
     "output_type": "display_data"
    },
    {
     "name": "stdout",
     "output_type": "stream",
     "text": [
      "Epoch 1 \t Training loss: 2.075622198473701 \t Validation loss: 2.0791774765919833 \t \n",
      "  1%|          | 574/57400 [00:06<10:35, 89.37it/s]\n",
      "Epoch 2 \t Training loss: 2.074046771285426 \t Validation loss: 2.0781575744434937 \t \n",
      "  2%|▏         | 1148/57400 [00:13<10:35, 88.56it/s]\n",
      "Epoch 3 \t Training loss: 2.0705523636282943 \t Validation loss: 2.074967655084901 \t \n",
      "  3%|▎         | 1722/57400 [00:20<10:36, 87.51it/s]\n",
      "Epoch 4 \t Training loss: 2.0667932984720956 \t Validation loss: 2.0708855774443027 \t \n",
      "  4%|▍         | 2296/57400 [00:28<10:26, 87.89it/s]\n",
      "Epoch 5 \t Training loss: 2.0647309885623146 \t Validation loss: 2.067056554858967 \t \n",
      "  5%|▌         | 2870/57400 [00:35<10:13, 88.86it/s]\n",
      "Epoch 6 \t Training loss: 2.064842998773794 \t Validation loss: 2.0690536822302867 \t \n",
      "\n",
      "1 epoch without improvement\n",
      "  6%|▌         | 3444/57400 [00:42<10:08, 88.65it/s]\n",
      "Epoch 7 \t Training loss: 2.0623560628824533 \t Validation loss: 2.066162529638258 \t \n",
      "  7%|▋         | 4018/57400 [00:49<09:53, 89.88it/s]\n",
      "Epoch 8 \t Training loss: 2.0612140412114637 \t Validation loss: 2.0607974933365645 \t \n",
      "  8%|▊         | 4592/57400 [00:56<09:56, 88.59it/s]\n",
      "Epoch 9 \t Training loss: 2.058403060411327 \t Validation loss: 2.059601173562519 \t \n",
      "  9%|▉         | 5166/57400 [01:03<09:48, 88.81it/s]\n",
      "Epoch 10 \t Training loss: 2.057027985202311 \t Validation loss: 2.0595791178234553 \t \n",
      " 10%|█         | 5740/57400 [01:10<09:54, 86.91it/s]\n",
      "Epoch 11 \t Training loss: 2.0560202307817415 \t Validation loss: 2.058324652203059 \t \n",
      " 11%|█         | 6314/57400 [01:17<09:45, 87.31it/s]\n",
      "Epoch 12 \t Training loss: 2.0545559772631017 \t Validation loss: 2.0574290954460532 \t \n",
      " 12%|█▏        | 6888/57400 [01:24<09:53, 85.14it/s]\n",
      "Epoch 13 \t Training loss: 2.052879242946877 \t Validation loss: 2.054300279940589 \t \n",
      " 13%|█▎        | 7462/57400 [01:31<09:35, 86.74it/s]\n",
      "Epoch 14 \t Training loss: 2.050646850456344 \t Validation loss: 2.0570251093072405 \t \n",
      "\n",
      "1 epoch without improvement\n",
      " 14%|█▍        | 8036/57400 [01:38<09:08, 90.06it/s]\n",
      "Epoch 15 \t Training loss: 2.048352876399037 \t Validation loss: 2.0620015394889704 \t \n",
      "\n",
      "2 epoch without improvement\n",
      " 15%|█▌        | 8610/57400 [01:45<09:07, 89.08it/s]\n",
      "Epoch 16 \t Training loss: 2.047136494091579 \t Validation loss: 2.0515633397183177 \t \n",
      " 16%|█▌        | 9184/57400 [01:52<09:06, 88.19it/s]\n",
      "Epoch 17 \t Training loss: 2.0465792733202415 \t Validation loss: 2.0521858021364374 \t \n",
      " 17%|█▋        | 9758/57400 [01:59<09:21, 84.92it/s]\n",
      "Epoch 18 \t Training loss: 2.0437156069984836 \t Validation loss: 2.0530821913379733 \t \n",
      "\n",
      "1 epoch without improvement\n",
      " 18%|█▊        | 10332/57400 [02:07<09:04, 86.43it/s]\n",
      "Epoch 19 \t Training loss: 2.0426661309880245 \t Validation loss: 2.0503741058252625 \t \n",
      " 19%|█▉        | 10906/57400 [02:14<09:13, 84.04it/s]\n",
      "Epoch 20 \t Training loss: 2.040842445054536 \t Validation loss: 2.0554069442264105 \t \n",
      "\n",
      "1 epoch without improvement\n",
      " 20%|██        | 11480/57400 [02:21<09:13, 82.89it/s]\n",
      "Epoch 21 \t Training loss: 2.0405171592476474 \t Validation loss: 2.0494213164862938 \t \n",
      " 21%|██        | 12054/57400 [02:28<08:42, 86.73it/s]\n",
      "Epoch 22 \t Training loss: 2.0385055328080046 \t Validation loss: 2.0488839654599205 \t \n",
      " 22%|██▏       | 12628/57400 [02:36<08:35, 86.90it/s]\n",
      "Epoch 23 \t Training loss: 2.0362553901788667 \t Validation loss: 2.0493548562971213 \t \n",
      " 23%|██▎       | 13202/57400 [02:43<08:45, 84.18it/s]\n",
      "Epoch 24 \t Training loss: 2.036749168970859 \t Validation loss: 2.041593939571057 \t \n",
      " 24%|██▍       | 13776/57400 [02:50<08:28, 85.84it/s]\n",
      "Epoch 25 \t Training loss: 2.034489743177899 \t Validation loss: 2.0496634265123785 \t \n",
      "\n",
      "1 epoch without improvement\n",
      " 25%|██▌       | 14350/57400 [02:57<08:26, 85.06it/s]\n",
      "Epoch 26 \t Training loss: 2.0350426460392383 \t Validation loss: 2.043678012944884 \t \n",
      "\n",
      "2 epoch without improvement\n",
      " 26%|██▌       | 14924/57400 [03:05<07:56, 89.15it/s]\n",
      "Epoch 27 \t Training loss: 2.0331979921470538 \t Validation loss: 2.0478766045327914 \t \n",
      "\n",
      "3 epoch without improvement\n",
      " 27%|██▋       | 15498/57400 [03:11<07:55, 88.06it/s]\n",
      "Epoch 28 \t Training loss: 2.0335282930513707 \t Validation loss: 2.0412911156476556 \t \n",
      " 28%|██▊       | 16072/57400 [03:18<07:42, 89.33it/s]\n",
      "Epoch 29 \t Training loss: 2.0299127292965347 \t Validation loss: 2.0484624515145513 \t \n",
      "\n",
      "1 epoch without improvement\n",
      " 29%|██▉       | 16646/57400 [03:25<08:02, 84.44it/s]\n",
      "Epoch 30 \t Training loss: 2.0294793574236825 \t Validation loss: 2.042360451261876 \t \n",
      "\n",
      "2 epoch without improvement\n",
      " 30%|███       | 17220/57400 [03:32<07:40, 87.31it/s]\n",
      "Epoch 31 \t Training loss: 2.0302426806725693 \t Validation loss: 2.0414717520697643 \t \n",
      " 31%|███       | 17794/57400 [03:39<07:33, 87.27it/s]\n",
      "Epoch 32 \t Training loss: 2.029181385289501 \t Validation loss: 2.0420170254626515 \t \n",
      " 32%|███▏      | 18368/57400 [03:47<07:34, 85.91it/s]\n",
      "Epoch 33 \t Training loss: 2.026924089272263 \t Validation loss: 2.0454697669562645 \t \n",
      "\n",
      "3 epoch without improvement\n",
      " 33%|███▎      | 18942/57400 [03:54<07:20, 87.33it/s]\n",
      "Epoch 34 \t Training loss: 2.026486645799896 \t Validation loss: 2.0387363373223 \t \n",
      " 34%|███▍      | 19516/57400 [04:01<07:04, 89.32it/s]\n",
      "Epoch 35 \t Training loss: 2.0262825183752105 \t Validation loss: 2.0397675279843606 \t \n",
      "\n",
      "1 epoch without improvement\n",
      " 35%|███▌      | 20090/57400 [04:08<07:11, 86.46it/s]\n",
      "Epoch 36 \t Training loss: 2.0265852171369545 \t Validation loss: 2.038763824155775 \t \n",
      " 36%|███▌      | 20664/57400 [04:15<06:57, 87.91it/s]\n",
      "Epoch 37 \t Training loss: 2.024742671421596 \t Validation loss: 2.0426768630237904 \t \n",
      "\n",
      "2 epoch without improvement\n",
      " 37%|███▋      | 21238/57400 [04:22<07:00, 85.93it/s]\n",
      "Epoch 38 \t Training loss: 2.0242271730708743 \t Validation loss: 2.038093033483473 \t \n",
      " 38%|███▊      | 21812/57400 [04:29<06:40, 88.85it/s]\n",
      "Epoch 39 \t Training loss: 2.02348399224597 \t Validation loss: 2.03675705901647 \t \n",
      " 39%|███▉      | 22386/57400 [04:36<06:40, 87.47it/s]\n",
      "Epoch 40 \t Training loss: 2.024203070780126 \t Validation loss: 2.038318605746253 \t \n",
      "\n",
      "1 epoch without improvement\n",
      " 40%|████      | 22960/57400 [04:43<06:32, 87.78it/s]\n",
      "Epoch 41 \t Training loss: 2.0221599824337178 \t Validation loss: 2.0324403148586465 \t \n",
      " 41%|████      | 23534/57400 [04:51<06:40, 84.64it/s]\n",
      "Epoch 42 \t Training loss: 2.020886038653942 \t Validation loss: 2.0372051970433382 \t \n",
      "\n",
      "1 epoch without improvement\n",
      " 42%|████▏     | 24108/57400 [04:58<06:18, 87.90it/s]\n",
      "Epoch 43 \t Training loss: 2.02174469506699 \t Validation loss: 2.0325797533584855 \t \n",
      " 43%|████▎     | 24682/57400 [05:05<06:13, 87.51it/s]\n",
      "Epoch 44 \t Training loss: 2.0211219206088926 \t Validation loss: 2.044489129114959 \t \n",
      "\n",
      "2 epoch without improvement\n",
      " 44%|████▍     | 25256/57400 [05:12<06:03, 88.41it/s]\n",
      "Epoch 45 \t Training loss: 2.018956803070959 \t Validation loss: 2.0358719906564486 \t \n",
      "\n",
      "3 epoch without improvement\n",
      " 45%|████▌     | 25830/57400 [05:19<06:11, 85.04it/s]\n",
      "Epoch 46 \t Training loss: 2.018630254974764 \t Validation loss: 2.0358156854823486 \t \n",
      "\n",
      "4 epoch without improvement\n",
      " 46%|████▌     | 26404/57400 [05:26<05:56, 86.91it/s]\n",
      "Epoch 47 \t Training loss: 2.0202946394993453 \t Validation loss: 2.039880875813759 \t \n",
      "\n",
      "5 epoch without improvement\n",
      " 47%|████▋     | 26978/57400 [05:33<05:41, 89.00it/s]\n",
      "Epoch 48 \t Training loss: 2.0172920044290894 \t Validation loss: 2.0432957915936485 \t \n",
      "\n",
      "6 epoch without improvement\n",
      " 48%|████▊     | 27552/57400 [05:40<05:43, 86.85it/s]\n",
      "Epoch 49 \t Training loss: 2.0169495439695564 \t Validation loss: 2.035336672249487 \t \n",
      "\n",
      "7 epoch without improvement\n",
      " 49%|████▉     | 28126/57400 [05:47<05:40, 85.90it/s]\n",
      "Epoch 50 \t Training loss: 2.0167256290488957 \t Validation loss: 2.030922471466711 \t \n",
      " 50%|█████     | 28700/57400 [05:55<05:27, 87.57it/s]\n",
      "Epoch 51 \t Training loss: 2.015271841025934 \t Validation loss: 2.0295688439223727 \t \n",
      " 51%|█████     | 29274/57400 [06:02<05:14, 89.31it/s]\n",
      "Epoch 52 \t Training loss: 2.01555102772829 \t Validation loss: 2.0339283054157837 \t \n",
      "\n",
      "1 epoch without improvement\n",
      " 52%|█████▏    | 29848/57400 [06:09<05:12, 88.19it/s]\n",
      "Epoch 53 \t Training loss: 2.0151537112658033 \t Validation loss: 2.0346888222936856 \t \n",
      "\n",
      "2 epoch without improvement\n",
      " 53%|█████▎    | 30422/57400 [06:16<05:03, 88.82it/s]\n",
      "Epoch 54 \t Training loss: 2.0142075093365714 \t Validation loss: 2.0408095828557418 \t \n",
      "\n",
      "3 epoch without improvement\n",
      " 54%|█████▍    | 30996/57400 [06:23<05:11, 84.84it/s]\n",
      "Epoch 55 \t Training loss: 2.014195172213511 \t Validation loss: 2.0439891754570656 \t \n",
      "\n",
      "4 epoch without improvement\n",
      " 55%|█████▌    | 31570/57400 [06:30<04:56, 87.14it/s]\n",
      "Epoch 56 \t Training loss: 2.0134858189974927 \t Validation loss: 2.0420919858803184 \t \n",
      "\n",
      "5 epoch without improvement\n",
      " 56%|█████▌    | 32144/57400 [06:37<04:38, 90.83it/s]\n",
      "Epoch 57 \t Training loss: 2.0113310957204176 \t Validation loss: 2.035225346937018 \t \n",
      "\n",
      "6 epoch without improvement\n",
      " 57%|█████▋    | 32718/57400 [06:44<04:31, 90.95it/s]\n",
      "Epoch 58 \t Training loss: 2.013045134860049 \t Validation loss: 2.027433445898153 \t \n",
      " 58%|█████▊    | 33292/57400 [06:51<04:36, 87.09it/s]\n",
      "Epoch 59 \t Training loss: 2.0120297018243876 \t Validation loss: 2.0333730245040633 \t \n",
      "\n",
      "1 epoch without improvement\n",
      " 59%|█████▉    | 33866/57400 [06:59<04:27, 87.89it/s]\n",
      "Epoch 60 \t Training loss: 2.013134036745344 \t Validation loss: 2.03672266410569 \t \n",
      "\n",
      "2 epoch without improvement\n",
      " 60%|██████    | 34440/57400 [07:06<04:23, 87.19it/s]\n",
      "Epoch 61 \t Training loss: 2.0110267795336787 \t Validation loss: 2.029858223462509 \t \n",
      "\n",
      "3 epoch without improvement\n",
      " 61%|██████    | 35014/57400 [07:13<04:13, 88.22it/s]\n",
      "Epoch 62 \t Training loss: 2.0128387416281353 \t Validation loss: 2.032724239058414 \t \n",
      "\n",
      "4 epoch without improvement\n",
      " 62%|██████▏   | 35588/57400 [07:20<04:21, 83.41it/s]\n",
      "Epoch 63 \t Training loss: 2.0117330374618025 \t Validation loss: 2.0386863542815385 \t \n",
      "\n",
      "5 epoch without improvement\n",
      " 63%|██████▎   | 36162/57400 [07:27<03:59, 88.70it/s]\n",
      "Epoch 64 \t Training loss: 2.012964562879622 \t Validation loss: 2.0322637315523826 \t \n",
      "\n",
      "6 epoch without improvement\n",
      " 64%|██████▍   | 36736/57400 [07:34<04:02, 85.36it/s]\n",
      "Epoch 65 \t Training loss: 2.01036868298926 \t Validation loss: 2.028379276647406 \t \n",
      " 65%|██████▌   | 37310/57400 [07:41<03:43, 89.93it/s]\n",
      "Epoch 66 \t Training loss: 2.010195882685924 \t Validation loss: 2.0297288268299427 \t \n",
      "\n",
      "7 epoch without improvement\n",
      " 66%|██████▌   | 37884/57400 [07:48<03:39, 88.83it/s]\n",
      "Epoch 67 \t Training loss: 2.0086174295754384 \t Validation loss: 2.0305834543907038 \t \n",
      "\n",
      "8 epoch without improvement\n",
      " 67%|██████▋   | 38458/57400 [07:55<03:35, 87.85it/s]\n",
      "Epoch 68 \t Training loss: 2.0090646396945995 \t Validation loss: 2.031216124356803 \t \n",
      "\n",
      "9 epoch without improvement\n",
      " 68%|██████▊   | 39032/57400 [08:02<03:39, 83.69it/s]\n",
      "Epoch 69 \t Training loss: 2.009148777569628 \t Validation loss: 2.0292798886864873 \t \n",
      "\n",
      "10 epoch without improvement\n",
      "Validation_loss hasn't improve in 10 epoch. Stopping training after 69 epochs...\n"
     ]
    },
    {
     "data": {
      "image/png": "[encoded data removed]",
      "text/plain": [
       "<Figure size 640x480 with 1 Axes>"
      ]
     },
     "metadata": {},
     "output_type": "display_data"
    }
   ],
   "source": [
    "learning_rate = 5e-5\n",
    "optimizer = AdamW(model.parameters(), lr=learning_rate)\n",
    "num_epochs = 100\n",
    "\n",
    "train.train_function_multi(model,num_epochs,dl_train,optimizer,early_stop = 10,dl_val = dl_val,save_path=save_path)"
   ]
  },
  {
   "cell_type": "code",
   "execution_count": 19,
   "metadata": {},
   "outputs": [
    {
     "name": "stdout",
     "output_type": "stream",
     "text": [
      "Accuracy evaluando en todas las etiquetas\n",
      "{'to': 0.5921717171717171, 'as': 0.6010430247718384, 'about': 0.6556122448979592}\n",
      "Accuracy evaluando en etiquetas female\n",
      "{'to': 0.49868766404199477, 'as': 0.5822102425876011, 'about': 0.5825}\n",
      "Accuracy evaluando en etiquetas male\n",
      "{'to': 0.6788321167883211, 'as': 0.6186868686868687, 'about': 0.7317708333333334}\n"
     ]
    }
   ],
   "source": [
    "model =  rrnn.MultiTaskRRNNDep(emb_dim,vocab,vocab_size,lstm_hidden_dim).to(device)\n",
    "model.load_state_dict(torch.load(save_path))\n",
    "\n",
    "print(\"Accuracy evaluando en todas las etiquetas\")\n",
    "print(train.eval_function_multi(model,dl_eval,tasks))\n",
    "print(\"Accuracy evaluando en etiquetas female\")\n",
    "print(train.eval_function_multi(model,dl_eval,tasks,'female'))\n",
    "print(\"Accuracy evaluando en etiquetas male\")\n",
    "print(train.eval_function_multi(model,dl_eval,tasks,'male'))"
   ]
  }
 ],
 "metadata": {
  "kernelspec": {
   "display_name": "tfg",
   "language": "python",
   "name": "python3"
  },
  "language_info": {
   "codemirror_mode": {
    "name": "ipython",
    "version": 3
   },
   "file_extension": ".py",
   "mimetype": "text/x-python",
   "name": "python",
   "nbconvert_exporter": "python",
   "pygments_lexer": "ipython3",
   "version": "3.9.13"
  },
  "orig_nbformat": 4
 },
 "nbformat": 4,
 "nbformat_minor": 2
}
