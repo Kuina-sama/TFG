{
 "cells": [
  {
   "attachments": {},
   "cell_type": "markdown",
   "metadata": {},
   "source": [
    "En esta v2 simplemente he añadido una capa lineal más entre la capa lstm y la capa lineal de salida. Quedaría probar si un dropout me cambia en algo"
   ]
  },
  {
   "cell_type": "code",
   "execution_count": 1,
   "metadata": {},
   "outputs": [],
   "source": [
    "import numpy as np\n",
    "import torch\n",
    "\n",
    "\n",
    "import json\n",
    "from torch.utils.data import DataLoader\n",
    "from torch.optim import SGD,AdamW\n",
    "from torch import nn"
   ]
  },
  {
   "cell_type": "code",
   "execution_count": 2,
   "metadata": {},
   "outputs": [],
   "source": [
    "import utils_generic as generic\n",
    "import rrnn_mt as rrnn\n",
    "import multitask_dep as mt\n",
    "\n",
    "import train_dep as train"
   ]
  },
  {
   "cell_type": "code",
   "execution_count": 3,
   "metadata": {},
   "outputs": [],
   "source": [
    "device = torch.device(\"cuda\") if torch.cuda.is_available() else torch.device(\"cpu\")\n",
    "torch.manual_seed(27)\n",
    "tasks = ['to','as','about']\n",
    "encoding_type = 'brk'"
   ]
  },
  {
   "attachments": {},
   "cell_type": "markdown",
   "metadata": {},
   "source": [
    "# Datos ConvAI2"
   ]
  },
  {
   "cell_type": "code",
   "execution_count": 4,
   "metadata": {},
   "outputs": [],
   "source": [
    "with open('Datasets\\ConvAI2\\convai2_complete.json','r') as f:\n",
    "    data = json.load(f)"
   ]
  },
  {
   "cell_type": "code",
   "execution_count": 5,
   "metadata": {},
   "outputs": [],
   "source": [
    "vocab = mt.Vocabulary(data['train'],encoding_type)"
   ]
  },
  {
   "cell_type": "code",
   "execution_count": 6,
   "metadata": {},
   "outputs": [],
   "source": [
    "convai_train = data['train']\n",
    "convai_val = data['validation']\n",
    "\n",
    "\n",
    "word_to_index = generic.create_word_to_index(convai_train)\n",
    "\n",
    "convai_train_token = generic.tokenize_dataset_with_dependencies_rrnn(convai_train,['about','to','as'],vocab,word_to_index) \n",
    "convai_val_token = generic.tokenize_dataset_with_dependencies_rrnn(convai_val,['about','to','as'],vocab,word_to_index) "
   ]
  },
  {
   "cell_type": "code",
   "execution_count": 7,
   "metadata": {},
   "outputs": [],
   "source": [
    "convai_train_dataset =rrnn.DatasetMultiTaskSimple(convai_train_token,tasks,eval=False,deps=True)"
   ]
  },
  {
   "cell_type": "code",
   "execution_count": 8,
   "metadata": {},
   "outputs": [],
   "source": [
    "convai_val_dataset = rrnn.DatasetMultiTaskSimple(convai_val_token,tasks,eval=False,deps=True)"
   ]
  },
  {
   "attachments": {},
   "cell_type": "markdown",
   "metadata": {},
   "source": [
    "# Datos md_gender"
   ]
  },
  {
   "cell_type": "code",
   "execution_count": 9,
   "metadata": {},
   "outputs": [],
   "source": [
    "with open('Datasets\\md_gender\\md_complete.json','r',encoding=\"utf8\") as f:\n",
    "    md_data = json.load(f)"
   ]
  },
  {
   "cell_type": "code",
   "execution_count": 10,
   "metadata": {},
   "outputs": [],
   "source": [
    "md_tokenized = generic.tokenize_dataset_with_dependencies_rrnn(md_data,['about','to','as'],vocab,word_to_index) \n",
    "\n",
    "\n",
    "md_dataset  = rrnn.DatasetMultiTaskSimple(md_tokenized,tasks,eval=True,deps=True)"
   ]
  },
  {
   "attachments": {},
   "cell_type": "markdown",
   "metadata": {},
   "source": [
    "# Creación dataloaders"
   ]
  },
  {
   "cell_type": "code",
   "execution_count": 11,
   "metadata": {},
   "outputs": [],
   "source": [
    "dl_train =  DataLoader(convai_train_dataset,batch_size=128,shuffle=True,collate_fn=rrnn.collate_fn_dep)\n",
    "dl_val = DataLoader(convai_val_dataset,batch_size=128,shuffle=True,collate_fn=rrnn.collate_fn_dep)\n",
    "dl_eval  = DataLoader(md_dataset,batch_size=128,shuffle=False,collate_fn=rrnn.collate_fn_dep)"
   ]
  },
  {
   "attachments": {},
   "cell_type": "markdown",
   "metadata": {},
   "source": [
    "# MultiTask SGD"
   ]
  },
  {
   "cell_type": "code",
   "execution_count": 12,
   "metadata": {},
   "outputs": [],
   "source": [
    "emb_dim = 20\n",
    "vocab_size = len(word_to_index)\n",
    "num_labels = 2\n",
    "lstm_hidden_dim = 128"
   ]
  },
  {
   "cell_type": "code",
   "execution_count": 13,
   "metadata": {},
   "outputs": [],
   "source": [
    "model = rrnn.MultiTaskRRNNDep(emb_dim,vocab,vocab_size,lstm_hidden_dim).to(device)\n",
    "save_path='m1_rrnn_multi_sgd_brk'"
   ]
  },
  {
   "cell_type": "code",
   "execution_count": 14,
   "metadata": {},
   "outputs": [
    {
     "name": "stdout",
     "output_type": "stream",
     "text": [
      "Accuracy evaluando en todas las etiquetas\n",
      "{'to': 0.4810606060606061, 'as': 0.48370273794002605, 'about': 0.5102040816326531}\n",
      "Accuracy evaluando en etiquetas female\n",
      "{'to': 1.0, 'as': 1.0, 'about': 1.0}\n",
      "Accuracy evaluando en etiquetas male\n",
      "{'to': 0.0, 'as': 0.0, 'about': 0.0}\n"
     ]
    }
   ],
   "source": [
    "print(\"Accuracy evaluando en todas las etiquetas\")\n",
    "print(train.eval_function_multi(model,dl_eval,tasks))\n",
    "print(\"Accuracy evaluando en etiquetas female\")\n",
    "print(train.eval_function_multi(model,dl_eval,tasks,'female'))\n",
    "print(\"Accuracy evaluando en etiquetas male\")\n",
    "print(train.eval_function_multi(model,dl_eval,tasks,'male'))"
   ]
  },
  {
   "cell_type": "code",
   "execution_count": 15,
   "metadata": {},
   "outputs": [
    {
     "data": {
      "application/vnd.jupyter.widget-view+json": {
       "model_id": "e9cdd408779d4daeaa49d64a2bd354f2",
       "version_major": 2,
       "version_minor": 0
      },
      "text/plain": [
       "  0%|          | 0/57400 [00:00<?, ?it/s]"
      ]
     },
     "metadata": {},
     "output_type": "display_data"
    },
    {
     "name": "stdout",
     "output_type": "stream",
     "text": [
      "Epoch 1 \t Training loss: 2.079492896691432 \t Validation loss: 2.079225257291632 \t \n",
      "  1%|          | 574/57400 [00:06<09:46, 96.91it/s]\n",
      "Epoch 2 \t Training loss: 2.0767134639859615 \t Validation loss: 2.0801143040091303 \t \n",
      "  2%|▏         | 1148/57400 [00:13<09:50, 95.19it/s]\n",
      "Epoch 3 \t Training loss: 2.076389545762996 \t Validation loss: 2.080298387398154 \t \n",
      "\n",
      "1 epoch without improvement\n",
      "  3%|▎         | 1722/57400 [00:19<09:30, 97.55it/s]\n",
      "Epoch 4 \t Training loss: 2.0763373802763243 \t Validation loss: 2.081337613574529 \t \n",
      "\n",
      "2 epoch without improvement\n",
      "  4%|▍         | 2296/57400 [00:25<09:34, 95.98it/s]\n",
      "Epoch 5 \t Training loss: 2.075989999422213 \t Validation loss: 2.0810509697865633 \t \n",
      "\n",
      "3 epoch without improvement\n",
      "  5%|▌         | 2870/57400 [00:32<09:18, 97.56it/s]\n",
      "Epoch 6 \t Training loss: 2.076217273386513 \t Validation loss: 2.0827506154270496 \t \n",
      "\n",
      "4 epoch without improvement\n",
      "  6%|▌         | 3444/57400 [00:38<09:10, 97.95it/s]\n",
      "Epoch 7 \t Training loss: 2.075975746227889 \t Validation loss: 2.0812212329799844 \t \n",
      "\n",
      "5 epoch without improvement\n",
      "  7%|▋         | 4018/57400 [00:45<09:02, 98.48it/s]\n",
      "Epoch 8 \t Training loss: 2.075892797745894 \t Validation loss: 2.082444393028647 \t \n",
      "\n",
      "6 epoch without improvement\n",
      "  8%|▊         | 4592/57400 [00:51<09:01, 97.58it/s]\n",
      "Epoch 9 \t Training loss: 2.076057510508893 \t Validation loss: 2.0816077499066368 \t \n",
      "\n",
      "7 epoch without improvement\n",
      "  9%|▉         | 5166/57400 [00:58<08:56, 97.42it/s]\n",
      "Epoch 10 \t Training loss: 2.0760453752524346 \t Validation loss: 2.0813678199962036 \t \n",
      "\n",
      "8 epoch without improvement\n",
      " 10%|█         | 5740/57400 [01:04<08:51, 97.15it/s]\n",
      "Epoch 11 \t Training loss: 2.075953715354308 \t Validation loss: 2.0811848276752536 \t \n",
      "\n",
      "9 epoch without improvement\n",
      " 11%|█         | 6314/57400 [01:11<08:50, 96.24it/s]\n",
      "Epoch 12 \t Training loss: 2.076213298358984 \t Validation loss: 2.0823200274321993 \t \n",
      "\n",
      "10 epoch without improvement\n",
      "Validation_loss hasn't improve in 10 epoch. Stopping training after 12 epochs...\n"
     ]
    },
    {
     "data": {
      "image/png": "[encoded data removed]",
      "text/plain": [
       "<Figure size 640x480 with 1 Axes>"
      ]
     },
     "metadata": {},
     "output_type": "display_data"
    }
   ],
   "source": [
    "learning_rate = 5e-5\n",
    "optimizer = SGD(model.parameters(), lr=learning_rate, momentum=0.9)\n",
    "num_epochs = 100\n",
    "\n",
    "train.train_function_multi(model,num_epochs,dl_train,optimizer,early_stop = 10,dl_val = dl_val,save_path=save_path)"
   ]
  },
  {
   "cell_type": "code",
   "execution_count": 16,
   "metadata": {},
   "outputs": [
    {
     "name": "stdout",
     "output_type": "stream",
     "text": [
      "Accuracy evaluando en todas las etiquetas\n",
      "{'to': 0.5214646464646465, 'as': 0.5189048239895697, 'about': 0.4923469387755102}\n",
      "Accuracy evaluando en etiquetas female\n",
      "{'to': 0.015748031496062992, 'as': 0.02425876010781671, 'about': 0.0125}\n",
      "Accuracy evaluando en etiquetas male\n",
      "{'to': 0.9902676399026764, 'as': 0.9823232323232324, 'about': 0.9921875}\n"
     ]
    }
   ],
   "source": [
    "model = rrnn.MultiTaskRRNNDep(emb_dim,vocab,vocab_size,lstm_hidden_dim).to(device)\n",
    "model.load_state_dict(torch.load(save_path))\n",
    "\n",
    "print(\"Accuracy evaluando en todas las etiquetas\")\n",
    "print(train.eval_function_multi(model,dl_eval,tasks))\n",
    "print(\"Accuracy evaluando en etiquetas female\")\n",
    "print(train.eval_function_multi(model,dl_eval,tasks,'female'))\n",
    "print(\"Accuracy evaluando en etiquetas male\")\n",
    "print(train.eval_function_multi(model,dl_eval,tasks,'male'))"
   ]
  },
  {
   "attachments": {},
   "cell_type": "markdown",
   "metadata": {},
   "source": [
    "# AdamW"
   ]
  },
  {
   "cell_type": "code",
   "execution_count": 17,
   "metadata": {},
   "outputs": [],
   "source": [
    "model = rrnn.MultiTaskRRNNDep(emb_dim,vocab,vocab_size,lstm_hidden_dim).to(device)\n",
    "save_path='m1_rrnn_multi_adamw_brk'"
   ]
  },
  {
   "cell_type": "code",
   "execution_count": 18,
   "metadata": {},
   "outputs": [
    {
     "data": {
      "application/vnd.jupyter.widget-view+json": {
       "model_id": "199f3c1dd4b548d7903fcfe73d6fe4e7",
       "version_major": 2,
       "version_minor": 0
      },
      "text/plain": [
       "  0%|          | 0/57400 [00:00<?, ?it/s]"
      ]
     },
     "metadata": {},
     "output_type": "display_data"
    },
    {
     "name": "stdout",
     "output_type": "stream",
     "text": [
      "Epoch 1 \t Training loss: 2.075726660286508 \t Validation loss: 2.079708180185092 \t \n",
      "  1%|          | 574/57400 [00:07<11:02, 85.81it/s]\n",
      "Epoch 2 \t Training loss: 2.0731007134872863 \t Validation loss: 2.076421325489626 \t \n",
      "  2%|▏         | 1148/57400 [00:14<10:48, 86.69it/s]\n",
      "Epoch 3 \t Training loss: 2.069788922000845 \t Validation loss: 2.072224091675322 \t \n",
      "  3%|▎         | 1722/57400 [00:21<10:52, 85.40it/s]\n",
      "Epoch 4 \t Training loss: 2.0666150062341724 \t Validation loss: 2.075035774101645 \t \n",
      "\n",
      "1 epoch without improvement\n",
      "  4%|▍         | 2296/57400 [00:29<10:29, 87.53it/s]\n",
      "Epoch 5 \t Training loss: 2.064611343141217 \t Validation loss: 2.071179458650492 \t \n",
      "  5%|▌         | 2870/57400 [00:36<10:36, 85.71it/s]\n",
      "Epoch 6 \t Training loss: 2.063843169694163 \t Validation loss: 2.0685923948126326 \t \n",
      "  6%|▌         | 3444/57400 [00:43<10:27, 85.96it/s]\n",
      "Epoch 7 \t Training loss: 2.0619932180497704 \t Validation loss: 2.068799265360428 \t \n",
      "  7%|▋         | 4018/57400 [00:50<10:34, 84.17it/s]\n",
      "Epoch 8 \t Training loss: 2.059799649158837 \t Validation loss: 2.072224778644109 \t \n",
      "\n",
      "1 epoch without improvement\n",
      "  8%|▊         | 4592/57400 [00:57<10:08, 86.78it/s]\n",
      "Epoch 9 \t Training loss: 2.058569586650835 \t Validation loss: 2.062669729782363 \t \n",
      "  9%|▉         | 5166/57400 [01:05<10:16, 84.79it/s]\n",
      "Epoch 10 \t Training loss: 2.0572159219701946 \t Validation loss: 2.0659410711062156 \t \n",
      "\n",
      "1 epoch without improvement\n",
      " 10%|█         | 5740/57400 [01:12<09:57, 86.50it/s]\n",
      "Epoch 11 \t Training loss: 2.0554714177959057 \t Validation loss: 2.0623628163741805 \t \n",
      " 11%|█         | 6314/57400 [01:19<09:53, 86.09it/s]\n",
      "Epoch 12 \t Training loss: 2.0540914066161844 \t Validation loss: 2.0641457913285595 \t \n",
      "\n",
      "1 epoch without improvement\n",
      " 12%|█▏        | 6888/57400 [01:26<09:40, 87.01it/s]\n",
      "Epoch 13 \t Training loss: 2.05090031038178 \t Validation loss: 2.0613583386954613 \t \n",
      " 13%|█▎        | 7462/57400 [01:34<09:36, 86.57it/s]\n",
      "Epoch 14 \t Training loss: 2.0483215916447524 \t Validation loss: 2.059953463279595 \t \n",
      " 14%|█▍        | 8036/57400 [01:41<09:27, 86.95it/s]\n",
      "Epoch 15 \t Training loss: 2.046066915324341 \t Validation loss: 2.056099572424161 \t \n",
      " 15%|█▌        | 8610/57400 [01:48<09:23, 86.55it/s]\n",
      "Epoch 16 \t Training loss: 2.0452971954794297 \t Validation loss: 2.0530061479342185 \t \n",
      " 16%|█▌        | 9184/57400 [01:56<09:20, 86.10it/s]\n",
      "Epoch 17 \t Training loss: 2.042337187283546 \t Validation loss: 2.0542918665934415 \t \n",
      "\n",
      "1 epoch without improvement\n",
      " 17%|█▋        | 9758/57400 [02:03<09:11, 86.39it/s]\n",
      "Epoch 18 \t Training loss: 2.042478708440003 \t Validation loss: 2.0584627794007124 \t \n",
      "\n",
      "2 epoch without improvement\n",
      " 18%|█▊        | 10332/57400 [02:10<09:00, 87.10it/s]\n",
      "Epoch 19 \t Training loss: 2.0406992692980617 \t Validation loss: 2.0479198492179482 \t \n",
      " 19%|█▉        | 10906/57400 [02:17<08:58, 86.34it/s]\n",
      "Epoch 20 \t Training loss: 2.0385944097714974 \t Validation loss: 2.0520834538896207 \t \n",
      "\n",
      "1 epoch without improvement\n",
      " 20%|██        | 11480/57400 [02:24<08:46, 87.14it/s]\n",
      "Epoch 21 \t Training loss: 2.037614004952567 \t Validation loss: 2.052809020220223 \t \n",
      "\n",
      "2 epoch without improvement\n",
      " 21%|██        | 12054/57400 [02:31<09:18, 81.18it/s]\n",
      "Epoch 22 \t Training loss: 2.035272197440942 \t Validation loss: 2.0582939123703263 \t \n",
      "\n",
      "3 epoch without improvement\n",
      " 22%|██▏       | 12628/57400 [02:39<08:56, 83.52it/s]\n",
      "Epoch 23 \t Training loss: 2.033925057288246 \t Validation loss: 2.0492428056264327 \t \n",
      "\n",
      "4 epoch without improvement\n",
      " 23%|██▎       | 13202/57400 [02:46<08:33, 86.03it/s]\n",
      "Epoch 24 \t Training loss: 2.0325577535280366 \t Validation loss: 2.0448023121235734 \t \n",
      " 24%|██▍       | 13776/57400 [02:53<08:43, 83.26it/s]\n",
      "Epoch 25 \t Training loss: 2.031183499077056 \t Validation loss: 2.0481858900037864 \t \n",
      "\n",
      "1 epoch without improvement\n",
      " 25%|██▌       | 14350/57400 [03:01<08:31, 84.10it/s]\n",
      "Epoch 26 \t Training loss: 2.031467142420779 \t Validation loss: 2.0462480419773166 \t \n",
      "\n",
      "2 epoch without improvement\n",
      " 26%|██▌       | 14924/57400 [03:08<08:17, 85.40it/s]\n",
      "Epoch 27 \t Training loss: 2.029793941393131 \t Validation loss: 2.0406729003130377 \t \n",
      " 27%|██▋       | 15498/57400 [03:15<08:07, 85.98it/s]\n",
      "Epoch 28 \t Training loss: 2.0289029225655133 \t Validation loss: 2.048331090959452 \t \n",
      "\n",
      "1 epoch without improvement\n",
      " 28%|██▊       | 16072/57400 [03:22<07:58, 86.38it/s]\n",
      "Epoch 29 \t Training loss: 2.0284090760692903 \t Validation loss: 2.0532349772372487 \t \n",
      "\n",
      "2 epoch without improvement\n",
      " 29%|██▉       | 16646/57400 [03:29<07:51, 86.51it/s]\n",
      "Epoch 30 \t Training loss: 2.0277343195074526 \t Validation loss: 2.042872913813187 \t \n",
      "\n",
      "3 epoch without improvement\n",
      " 30%|███       | 17220/57400 [03:37<07:44, 86.46it/s]\n",
      "Epoch 31 \t Training loss: 2.02619166947408 \t Validation loss: 2.043952881279638 \t \n",
      "\n",
      "4 epoch without improvement\n",
      " 31%|███       | 17794/57400 [03:44<07:49, 84.36it/s]\n",
      "Epoch 32 \t Training loss: 2.0258670717166276 \t Validation loss: 2.0461982791706665 \t \n",
      "\n",
      "5 epoch without improvement\n",
      " 32%|███▏      | 18368/57400 [03:51<07:32, 86.28it/s]\n",
      "Epoch 33 \t Training loss: 2.0249804920851147 \t Validation loss: 2.0427093425039518 \t \n",
      "\n",
      "6 epoch without improvement\n",
      " 33%|███▎      | 18942/57400 [03:59<07:31, 85.10it/s]\n",
      "Epoch 34 \t Training loss: 2.0248261702600674 \t Validation loss: 2.0476327306133206 \t \n",
      "\n",
      "7 epoch without improvement\n",
      " 34%|███▍      | 19516/57400 [04:06<07:20, 86.07it/s]\n",
      "Epoch 35 \t Training loss: 2.0240398279881227 \t Validation loss: 2.0440900467209895 \t \n",
      "\n",
      "8 epoch without improvement\n",
      " 35%|███▌      | 20090/57400 [04:13<07:08, 87.12it/s]\n",
      "Epoch 36 \t Training loss: 2.0214840096879088 \t Validation loss: 2.045976475133734 \t \n",
      "\n",
      "9 epoch without improvement\n",
      " 36%|███▌      | 20664/57400 [04:20<07:01, 87.15it/s]\n",
      "Epoch 37 \t Training loss: 2.0209897771114256 \t Validation loss: 2.041614475896803 \t \n",
      " 37%|███▋      | 21238/57400 [04:27<07:03, 85.42it/s]\n",
      "Epoch 38 \t Training loss: 2.020989434436639 \t Validation loss: 2.0415268914174227 \t \n",
      " 38%|███▊      | 21812/57400 [04:34<06:52, 86.34it/s]\n",
      "Epoch 39 \t Training loss: 2.019843901491331 \t Validation loss: 2.045608437667459 \t \n",
      "\n",
      "10 epoch without improvement\n",
      "Validation_loss hasn't improve in 10 epoch. Stopping training after 39 epochs...\n"
     ]
    },
    {
     "data": {
      "image/png": "[encoded data removed]",
      "text/plain": [
       "<Figure size 640x480 with 1 Axes>"
      ]
     },
     "metadata": {},
     "output_type": "display_data"
    }
   ],
   "source": [
    "learning_rate = 5e-5\n",
    "optimizer = AdamW(model.parameters(), lr=learning_rate)\n",
    "num_epochs = 100\n",
    "\n",
    "train.train_function_multi(model,num_epochs,dl_train,optimizer,early_stop = 10,dl_val = dl_val,save_path=save_path)"
   ]
  },
  {
   "cell_type": "code",
   "execution_count": 19,
   "metadata": {},
   "outputs": [
    {
     "name": "stdout",
     "output_type": "stream",
     "text": [
      "Accuracy evaluando en todas las etiquetas\n",
      "{'to': 0.5214646464646465, 'as': 0.5840938722294654, 'about': 0.6466836734693877}\n",
      "Accuracy evaluando en etiquetas female\n",
      "{'to': 0.5879265091863517, 'as': 0.6657681940700808, 'about': 0.66}\n",
      "Accuracy evaluando en etiquetas male\n",
      "{'to': 0.45985401459854014, 'as': 0.5075757575757576, 'about': 0.6328125}\n"
     ]
    }
   ],
   "source": [
    "model =  rrnn.MultiTaskRRNNDep(emb_dim,vocab,vocab_size,lstm_hidden_dim).to(device)\n",
    "model.load_state_dict(torch.load(save_path))\n",
    "\n",
    "print(\"Accuracy evaluando en todas las etiquetas\")\n",
    "print(train.eval_function_multi(model,dl_eval,tasks))\n",
    "print(\"Accuracy evaluando en etiquetas female\")\n",
    "print(train.eval_function_multi(model,dl_eval,tasks,'female'))\n",
    "print(\"Accuracy evaluando en etiquetas male\")\n",
    "print(train.eval_function_multi(model,dl_eval,tasks,'male'))"
   ]
  }
 ],
 "metadata": {
  "kernelspec": {
   "display_name": "tfg",
   "language": "python",
   "name": "python3"
  },
  "language_info": {
   "codemirror_mode": {
    "name": "ipython",
    "version": 3
   },
   "file_extension": ".py",
   "mimetype": "text/x-python",
   "name": "python",
   "nbconvert_exporter": "python",
   "pygments_lexer": "ipython3",
   "version": "3.9.13"
  },
  "orig_nbformat": 4
 },
 "nbformat": 4,
 "nbformat_minor": 2
}
