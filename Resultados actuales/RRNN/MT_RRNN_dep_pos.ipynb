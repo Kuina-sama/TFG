{
 "cells": [
  {
   "attachments": {},
   "cell_type": "markdown",
   "metadata": {},
   "source": [
    "En esta v2 simplemente he añadido una capa lineal más entre la capa lstm y la capa lineal de salida. Quedaría probar si un dropout me cambia en algo"
   ]
  },
  {
   "cell_type": "code",
   "execution_count": 1,
   "metadata": {},
   "outputs": [],
   "source": [
    "import numpy as np\n",
    "import torch\n",
    "\n",
    "\n",
    "import json\n",
    "from torch.utils.data import DataLoader\n",
    "from torch.optim import SGD,AdamW\n",
    "from torch import nn"
   ]
  },
  {
   "cell_type": "code",
   "execution_count": 2,
   "metadata": {},
   "outputs": [],
   "source": [
    "import utils_generic as generic\n",
    "import rrnn_mt as rrnn\n",
    "import multitask_dep as mt\n",
    "\n",
    "import train_dep as train"
   ]
  },
  {
   "cell_type": "code",
   "execution_count": 3,
   "metadata": {},
   "outputs": [],
   "source": [
    "device = torch.device(\"cuda\") if torch.cuda.is_available() else torch.device(\"cpu\")\n",
    "torch.manual_seed(27)\n",
    "tasks = ['to','as','about']\n",
    "encoding_type = 'pos'"
   ]
  },
  {
   "attachments": {},
   "cell_type": "markdown",
   "metadata": {},
   "source": [
    "# Datos ConvAI2"
   ]
  },
  {
   "cell_type": "code",
   "execution_count": 4,
   "metadata": {},
   "outputs": [],
   "source": [
    "with open('Datasets\\ConvAI2\\convai2_complete.json','r') as f:\n",
    "    data = json.load(f)"
   ]
  },
  {
   "cell_type": "code",
   "execution_count": 5,
   "metadata": {},
   "outputs": [],
   "source": [
    "vocab = mt.Vocabulary(data['train'],encoding_type)"
   ]
  },
  {
   "cell_type": "code",
   "execution_count": 6,
   "metadata": {},
   "outputs": [],
   "source": [
    "convai_train = data['train']\n",
    "convai_val = data['validation']\n",
    "\n",
    "\n",
    "word_to_index = generic.create_word_to_index(convai_train)\n",
    "\n",
    "convai_train_token = generic.tokenize_dataset_with_dependencies_rrnn(convai_train,['about','to','as'],vocab,word_to_index) \n",
    "convai_val_token = generic.tokenize_dataset_with_dependencies_rrnn(convai_val,['about','to','as'],vocab,word_to_index) "
   ]
  },
  {
   "cell_type": "code",
   "execution_count": 7,
   "metadata": {},
   "outputs": [],
   "source": [
    "convai_train_dataset =rrnn.DatasetMultiTaskSimple(convai_train_token,tasks,eval=False,deps=True)"
   ]
  },
  {
   "cell_type": "code",
   "execution_count": 8,
   "metadata": {},
   "outputs": [],
   "source": [
    "convai_val_dataset = rrnn.DatasetMultiTaskSimple(convai_val_token,tasks,eval=False,deps=True)"
   ]
  },
  {
   "attachments": {},
   "cell_type": "markdown",
   "metadata": {},
   "source": [
    "# Datos md_gender"
   ]
  },
  {
   "cell_type": "code",
   "execution_count": 9,
   "metadata": {},
   "outputs": [],
   "source": [
    "with open('Datasets\\md_gender\\md_complete.json','r',encoding=\"utf8\") as f:\n",
    "    md_data = json.load(f)"
   ]
  },
  {
   "cell_type": "code",
   "execution_count": 10,
   "metadata": {},
   "outputs": [],
   "source": [
    "md_tokenized = generic.tokenize_dataset_with_dependencies_rrnn(md_data,['about','to','as'],vocab,word_to_index) \n",
    "\n",
    "\n",
    "md_dataset  = rrnn.DatasetMultiTaskSimple(md_tokenized,tasks,eval=True,deps=True)"
   ]
  },
  {
   "attachments": {},
   "cell_type": "markdown",
   "metadata": {},
   "source": [
    "# Creación dataloaders"
   ]
  },
  {
   "cell_type": "code",
   "execution_count": 11,
   "metadata": {},
   "outputs": [],
   "source": [
    "dl_train =  DataLoader(convai_train_dataset,batch_size=128,shuffle=True,collate_fn=rrnn.collate_fn_dep)\n",
    "dl_val = DataLoader(convai_val_dataset,batch_size=128,shuffle=True,collate_fn=rrnn.collate_fn_dep)\n",
    "dl_eval  = DataLoader(md_dataset,batch_size=128,shuffle=False,collate_fn=rrnn.collate_fn_dep)"
   ]
  },
  {
   "attachments": {},
   "cell_type": "markdown",
   "metadata": {},
   "source": [
    "# MultiTask SGD"
   ]
  },
  {
   "cell_type": "code",
   "execution_count": 12,
   "metadata": {},
   "outputs": [],
   "source": [
    "emb_dim = 20\n",
    "vocab_size = len(word_to_index)\n",
    "num_labels = 2\n",
    "lstm_hidden_dim = 128"
   ]
  },
  {
   "cell_type": "code",
   "execution_count": 13,
   "metadata": {},
   "outputs": [],
   "source": [
    "model = rrnn.MultiTaskRRNNDep(emb_dim,vocab,vocab_size,lstm_hidden_dim).to(device)\n",
    "save_path='m1_rrnn_multi_sgd_pos'"
   ]
  },
  {
   "cell_type": "code",
   "execution_count": 14,
   "metadata": {},
   "outputs": [
    {
     "name": "stdout",
     "output_type": "stream",
     "text": [
      "Accuracy evaluando en todas las etiquetas\n",
      "{'to': 0.4810606060606061, 'as': 0.48370273794002605, 'about': 0.5102040816326531}\n",
      "Accuracy evaluando en etiquetas female\n",
      "{'to': 1.0, 'as': 1.0, 'about': 1.0}\n",
      "Accuracy evaluando en etiquetas male\n",
      "{'to': 0.0, 'as': 0.0, 'about': 0.0}\n"
     ]
    }
   ],
   "source": [
    "print(\"Accuracy evaluando en todas las etiquetas\")\n",
    "print(train.eval_function_multi(model,dl_eval,tasks))\n",
    "print(\"Accuracy evaluando en etiquetas female\")\n",
    "print(train.eval_function_multi(model,dl_eval,tasks,'female'))\n",
    "print(\"Accuracy evaluando en etiquetas male\")\n",
    "print(train.eval_function_multi(model,dl_eval,tasks,'male'))"
   ]
  },
  {
   "cell_type": "code",
   "execution_count": 15,
   "metadata": {},
   "outputs": [
    {
     "data": {
      "application/vnd.jupyter.widget-view+json": {
       "model_id": "5244d268edd14a54ae95a19a14f934a5",
       "version_major": 2,
       "version_minor": 0
      },
      "text/plain": [
       "  0%|          | 0/57400 [00:00<?, ?it/s]"
      ]
     },
     "metadata": {},
     "output_type": "display_data"
    },
    {
     "name": "stdout",
     "output_type": "stream",
     "text": [
      "Epoch 1 \t Training loss: 2.080086060517341 \t Validation loss: 2.0793455778542214 \t \n",
      "  1%|          | 574/57400 [00:06<10:32, 89.82it/s]\n",
      "Epoch 2 \t Training loss: 2.076522957157175 \t Validation loss: 2.0805866475832664 \t \n",
      "\n",
      "1 epoch without improvement\n",
      "  2%|▏         | 1148/57400 [00:13<09:56, 94.29it/s]\n",
      "Epoch 3 \t Training loss: 2.076360614457612 \t Validation loss: 2.0812257548510016 \t \n",
      "\n",
      "2 epoch without improvement\n",
      "  3%|▎         | 1722/57400 [00:20<09:58, 93.04it/s]\n",
      "Epoch 4 \t Training loss: 2.075935541129694 \t Validation loss: 2.0818960383786993 \t \n",
      "\n",
      "3 epoch without improvement\n",
      "  4%|▍         | 2296/57400 [00:27<09:47, 93.73it/s]\n",
      "Epoch 5 \t Training loss: 2.0761667789067126 \t Validation loss: 2.081216210025852 \t \n",
      "\n",
      "4 epoch without improvement\n",
      "  5%|▌         | 2870/57400 [00:34<10:10, 89.34it/s]\n",
      "Epoch 6 \t Training loss: 2.0758300334319006 \t Validation loss: 2.0809422064635714 \t \n",
      "\n",
      "5 epoch without improvement\n",
      "  6%|▌         | 3444/57400 [00:41<09:46, 92.01it/s]\n",
      "Epoch 7 \t Training loss: 2.0759959935311243 \t Validation loss: 2.081775980480647 \t \n",
      "\n",
      "6 epoch without improvement\n",
      "  7%|▋         | 4018/57400 [00:48<09:40, 92.00it/s]\n",
      "Epoch 8 \t Training loss: 2.0758311524208413 \t Validation loss: 2.0819993019104004 \t \n",
      "\n",
      "7 epoch without improvement\n",
      "  8%|▊         | 4592/57400 [00:54<09:24, 93.58it/s]\n",
      "Epoch 9 \t Training loss: 2.0759668719893134 \t Validation loss: 2.080551551560224 \t \n",
      "\n",
      "8 epoch without improvement\n",
      "  9%|▉         | 5166/57400 [01:01<09:26, 92.26it/s]\n",
      "Epoch 10 \t Training loss: 2.0762802852570803 \t Validation loss: 2.081803867372416 \t \n",
      "\n",
      "9 epoch without improvement\n",
      " 10%|█         | 5740/57400 [01:08<09:23, 91.70it/s]\n",
      "Epoch 11 \t Training loss: 2.076170829530377 \t Validation loss: 2.0815504122588595 \t \n",
      "\n",
      "10 epoch without improvement\n",
      "Validation_loss hasn't improve in 10 epoch. Stopping training after 11 epochs...\n"
     ]
    },
    {
     "data": {
      "image/png": "[encoded data removed]",
      "text/plain": [
       "<Figure size 640x480 with 1 Axes>"
      ]
     },
     "metadata": {},
     "output_type": "display_data"
    }
   ],
   "source": [
    "learning_rate = 5e-5\n",
    "optimizer = SGD(model.parameters(), lr=learning_rate, momentum=0.9)\n",
    "num_epochs = 100\n",
    "\n",
    "train.train_function_multi(model,num_epochs,dl_train,optimizer,early_stop = 10,dl_val = dl_val,save_path=save_path)"
   ]
  },
  {
   "cell_type": "code",
   "execution_count": 16,
   "metadata": {},
   "outputs": [
    {
     "name": "stdout",
     "output_type": "stream",
     "text": [
      "Accuracy evaluando en todas las etiquetas\n",
      "{'to': 0.5164141414141414, 'as': 0.5202086049543677, 'about': 0.49107142857142855}\n",
      "Accuracy evaluando en etiquetas female\n",
      "{'to': 0.07874015748031496, 'as': 0.0862533692722372, 'about': 0.07}\n",
      "Accuracy evaluando en etiquetas male\n",
      "{'to': 0.9221411192214112, 'as': 0.9267676767676768, 'about': 0.9296875}\n"
     ]
    }
   ],
   "source": [
    "model = rrnn.MultiTaskRRNNDep(emb_dim,vocab,vocab_size,lstm_hidden_dim).to(device)\n",
    "model.load_state_dict(torch.load(save_path))\n",
    "\n",
    "print(\"Accuracy evaluando en todas las etiquetas\")\n",
    "print(train.eval_function_multi(model,dl_eval,tasks))\n",
    "print(\"Accuracy evaluando en etiquetas female\")\n",
    "print(train.eval_function_multi(model,dl_eval,tasks,'female'))\n",
    "print(\"Accuracy evaluando en etiquetas male\")\n",
    "print(train.eval_function_multi(model,dl_eval,tasks,'male'))"
   ]
  },
  {
   "attachments": {},
   "cell_type": "markdown",
   "metadata": {},
   "source": [
    "# AdamW"
   ]
  },
  {
   "cell_type": "code",
   "execution_count": 17,
   "metadata": {},
   "outputs": [],
   "source": [
    "model = rrnn.MultiTaskRRNNDep(emb_dim,vocab,vocab_size,lstm_hidden_dim).to(device)\n",
    "save_path='m1_rrnn_multi_adamw_pos'"
   ]
  },
  {
   "cell_type": "code",
   "execution_count": 18,
   "metadata": {},
   "outputs": [
    {
     "data": {
      "application/vnd.jupyter.widget-view+json": {
       "model_id": "9d83dac7cab2483ba6a3be9dfc6c4ea0",
       "version_major": 2,
       "version_minor": 0
      },
      "text/plain": [
       "  0%|          | 0/57400 [00:00<?, ?it/s]"
      ]
     },
     "metadata": {},
     "output_type": "display_data"
    },
    {
     "name": "stdout",
     "output_type": "stream",
     "text": [
      "Epoch 1 \t Training loss: 2.075275519999062 \t Validation loss: 2.0797467716669633 \t \n",
      "  1%|          | 574/57400 [00:07<11:39, 81.28it/s]\n",
      "Epoch 2 \t Training loss: 2.071742973676542 \t Validation loss: 2.073868472697371 \t \n",
      "  2%|▏         | 1148/57400 [00:15<11:35, 80.83it/s]\n",
      "Epoch 3 \t Training loss: 2.0674384732694993 \t Validation loss: 2.0740991164061984 \t \n",
      "  3%|▎         | 1722/57400 [00:22<11:23, 81.44it/s]\n",
      "Epoch 4 \t Training loss: 2.064152840537892 \t Validation loss: 2.074428849301096 \t \n",
      "  4%|▍         | 2296/57400 [00:31<11:51, 77.42it/s]\n",
      "Epoch 5 \t Training loss: 2.0612636164921088 \t Validation loss: 2.0705402139889992 \t \n",
      "  5%|▌         | 2870/57400 [00:38<11:07, 81.70it/s]\n",
      "Epoch 6 \t Training loss: 2.060963401395685 \t Validation loss: 2.0700870812949486 \t \n",
      "  6%|▌         | 3444/57400 [00:46<11:19, 79.42it/s]\n",
      "Epoch 7 \t Training loss: 2.0580990835764683 \t Validation loss: 2.066698296595428 \t \n",
      "  7%|▋         | 4018/57400 [00:53<10:49, 82.13it/s]\n",
      "Epoch 8 \t Training loss: 2.0566087770129746 \t Validation loss: 2.0679224628513144 \t \n",
      "\n",
      "1 epoch without improvement\n",
      "  8%|▊         | 4592/57400 [01:01<10:42, 82.18it/s]\n",
      "Epoch 9 \t Training loss: 2.0542256611980214 \t Validation loss: 2.0627311205459855 \t \n",
      "  9%|▉         | 5166/57400 [01:09<10:34, 82.27it/s]\n",
      "Epoch 10 \t Training loss: 2.0527549944688217 \t Validation loss: 2.0649340839709267 \t \n",
      "\n",
      "1 epoch without improvement\n",
      " 10%|█         | 5740/57400 [01:16<10:35, 81.30it/s]\n",
      "Epoch 11 \t Training loss: 2.05242266181454 \t Validation loss: 2.0602240602848894 \t \n",
      " 11%|█         | 6314/57400 [01:24<10:36, 80.28it/s]\n",
      "Epoch 12 \t Training loss: 2.0508102427791637 \t Validation loss: 2.0577246617462674 \t \n",
      " 12%|█▏        | 6888/57400 [01:31<10:34, 79.63it/s]\n",
      "Epoch 13 \t Training loss: 2.047941234261317 \t Validation loss: 2.057489960880603 \t \n",
      " 13%|█▎        | 7462/57400 [01:40<10:17, 80.85it/s]\n",
      "Epoch 14 \t Training loss: 2.0472593068661173 \t Validation loss: 2.060744382567325 \t \n",
      "\n",
      "1 epoch without improvement\n",
      " 14%|█▍        | 8036/57400 [01:47<10:08, 81.10it/s]\n",
      "Epoch 15 \t Training loss: 2.0456716017440635 \t Validation loss: 2.06284251051434 \t \n",
      "\n",
      "2 epoch without improvement\n",
      " 15%|█▌        | 8610/57400 [01:55<10:08, 80.22it/s]\n",
      "Epoch 16 \t Training loss: 2.04299282300763 \t Validation loss: 2.057470329737259 \t \n",
      " 16%|█▌        | 9184/57400 [02:02<09:47, 82.11it/s]\n",
      "Epoch 17 \t Training loss: 2.0413880902715675 \t Validation loss: 2.0555662098577465 \t \n",
      " 17%|█▋        | 9758/57400 [02:10<09:35, 82.79it/s]\n",
      "Epoch 18 \t Training loss: 2.0396375585516155 \t Validation loss: 2.052920729427014 \t \n",
      " 18%|█▊        | 10332/57400 [02:18<09:43, 80.73it/s]\n",
      "Epoch 19 \t Training loss: 2.037865398445196 \t Validation loss: 2.048888604519731 \t \n",
      " 19%|█▉        | 10906/57400 [02:26<09:23, 82.48it/s]\n",
      "Epoch 20 \t Training loss: 2.0376269950268577 \t Validation loss: 2.053437897714518 \t \n",
      "\n",
      "1 epoch without improvement\n",
      " 20%|██        | 11480/57400 [02:33<09:23, 81.47it/s]\n",
      "Epoch 21 \t Training loss: 2.0365706746586523 \t Validation loss: 2.048699281983456 \t \n",
      " 21%|██        | 12054/57400 [02:41<09:22, 80.61it/s]\n",
      "Epoch 22 \t Training loss: 2.03551282263799 \t Validation loss: 2.048290038512925 \t \n",
      " 22%|██▏       | 12628/57400 [02:49<09:12, 81.10it/s]\n",
      "Epoch 23 \t Training loss: 2.034168021811841 \t Validation loss: 2.0477407463526323 \t \n",
      " 23%|██▎       | 13202/57400 [02:57<09:19, 78.95it/s]\n",
      "Epoch 24 \t Training loss: 2.0337192871014 \t Validation loss: 2.044574955762443 \t \n",
      " 24%|██▍       | 13776/57400 [03:05<09:04, 80.15it/s]\n",
      "Epoch 25 \t Training loss: 2.032809814301933 \t Validation loss: 2.0553483397273693 \t \n",
      "\n",
      "1 epoch without improvement\n",
      " 25%|██▌       | 14350/57400 [03:12<08:57, 80.04it/s]\n",
      "Epoch 26 \t Training loss: 2.0315669976460393 \t Validation loss: 2.0477073556285794 \t \n",
      "\n",
      "2 epoch without improvement\n",
      " 26%|██▌       | 14924/57400 [03:20<08:51, 79.99it/s]\n",
      "Epoch 27 \t Training loss: 2.0291841889923043 \t Validation loss: 2.0464034040095442 \t \n",
      "\n",
      "3 epoch without improvement\n",
      " 27%|██▋       | 15498/57400 [03:28<08:37, 81.04it/s]\n",
      "Epoch 28 \t Training loss: 2.027920288075969 \t Validation loss: 2.0445410033403815 \t \n",
      " 28%|██▊       | 16072/57400 [03:35<08:33, 80.43it/s]\n",
      "Epoch 29 \t Training loss: 2.028217435921526 \t Validation loss: 2.046636444027141 \t \n",
      "\n",
      "1 epoch without improvement\n",
      " 29%|██▉       | 16646/57400 [03:43<08:34, 79.20it/s]\n",
      "Epoch 30 \t Training loss: 2.027846771250203 \t Validation loss: 2.046611870749522 \t \n",
      "\n",
      "2 epoch without improvement\n",
      " 30%|███       | 17220/57400 [03:51<08:24, 79.61it/s]\n",
      "Epoch 31 \t Training loss: 2.0253947709495597 \t Validation loss: 2.0415120225841714 \t \n",
      " 31%|███       | 17794/57400 [03:58<08:03, 81.85it/s]\n",
      "Epoch 32 \t Training loss: 2.0250332222582985 \t Validation loss: 2.0446351705971413 \t \n",
      "\n",
      "1 epoch without improvement\n",
      " 32%|███▏      | 18368/57400 [04:06<08:17, 78.44it/s]\n",
      "Epoch 33 \t Training loss: 2.0233356620376535 \t Validation loss: 2.042673771664248 \t \n",
      "\n",
      "2 epoch without improvement\n",
      " 33%|███▎      | 18942/57400 [04:14<07:52, 81.43it/s]\n",
      "Epoch 34 \t Training loss: 2.022883045133398 \t Validation loss: 2.047844098786176 \t \n",
      "\n",
      "3 epoch without improvement\n",
      " 34%|███▍      | 19516/57400 [04:22<07:45, 81.40it/s]\n",
      "Epoch 35 \t Training loss: 2.0225507700069443 \t Validation loss: 2.0394257973816434 \t \n",
      " 35%|███▌      | 20090/57400 [04:30<07:53, 78.82it/s]\n",
      "Epoch 36 \t Training loss: 2.0219470844036196 \t Validation loss: 2.0438879243398116 \t \n",
      "\n",
      "1 epoch without improvement\n",
      " 36%|███▌      | 20664/57400 [04:37<07:45, 78.96it/s]\n",
      "Epoch 37 \t Training loss: 2.0191738894176816 \t Validation loss: 2.0535547309002635 \t \n",
      "\n",
      "2 epoch without improvement\n",
      " 37%|███▋      | 21238/57400 [04:45<07:32, 79.90it/s]\n",
      "Epoch 38 \t Training loss: 2.0218614636813306 \t Validation loss: 2.040256663904352 \t \n",
      " 38%|███▊      | 21812/57400 [04:53<07:21, 80.58it/s]\n",
      "Epoch 39 \t Training loss: 2.020778949460086 \t Validation loss: 2.0376293376340704 \t \n",
      " 39%|███▉      | 22386/57400 [05:00<07:19, 79.71it/s]\n",
      "Epoch 40 \t Training loss: 2.019183071232839 \t Validation loss: 2.046210103115793 \t \n",
      "\n",
      "1 epoch without improvement\n",
      " 40%|████      | 22960/57400 [05:08<07:08, 80.44it/s]\n",
      "Epoch 41 \t Training loss: 2.0193353689921443 \t Validation loss: 2.037937651246281 \t \n",
      " 41%|████      | 23534/57400 [05:15<07:00, 80.47it/s]\n",
      "Epoch 42 \t Training loss: 2.0171784744030092 \t Validation loss: 2.0483587555966136 \t \n",
      "\n",
      "2 epoch without improvement\n",
      " 42%|████▏     | 24108/57400 [05:24<15:47, 35.14it/s]\n",
      "Epoch 43 \t Training loss: 2.018482990796558 \t Validation loss: 2.0344712148278448 \t \n",
      " 43%|████▎     | 24682/57400 [05:31<06:47, 80.24it/s]\n",
      "Epoch 44 \t Training loss: 2.016967362643119 \t Validation loss: 2.0403925099615323 \t \n",
      "\n",
      "1 epoch without improvement\n",
      " 44%|████▍     | 25256/57400 [05:39<06:35, 81.33it/s]\n",
      "Epoch 45 \t Training loss: 2.0152514302772095 \t Validation loss: 2.0332749617301813 \t \n",
      " 45%|████▌     | 25830/57400 [05:47<06:27, 81.50it/s]\n",
      "Epoch 46 \t Training loss: 2.015755735415615 \t Validation loss: 2.0437818563590615 \t \n",
      "\n",
      "1 epoch without improvement\n",
      " 46%|████▌     | 26404/57400 [05:54<06:23, 80.72it/s]\n",
      "Epoch 47 \t Training loss: 2.0150303554036477 \t Validation loss: 2.035536481162249 \t \n",
      "\n",
      "2 epoch without improvement\n",
      " 47%|████▋     | 26978/57400 [06:02<06:15, 81.06it/s]\n",
      "Epoch 48 \t Training loss: 2.0139816706604243 \t Validation loss: 2.039037722652241 \t \n",
      "\n",
      "3 epoch without improvement\n",
      " 48%|████▊     | 27552/57400 [06:09<06:08, 81.01it/s]\n",
      "Epoch 49 \t Training loss: 2.014315180246838 \t Validation loss: 2.041370662592225 \t \n",
      "\n",
      "4 epoch without improvement\n",
      " 49%|████▉     | 28126/57400 [06:17<06:05, 80.11it/s]\n",
      "Epoch 50 \t Training loss: 2.0131982907600934 \t Validation loss: 2.035015718411591 \t \n",
      "\n",
      "5 epoch without improvement\n",
      " 50%|█████     | 28700/57400 [06:25<05:53, 81.28it/s]\n",
      "Epoch 51 \t Training loss: 2.0138904435709377 \t Validation loss: 2.034028610940707 \t \n",
      " 51%|█████     | 29274/57400 [06:32<05:48, 80.73it/s]\n",
      "Epoch 52 \t Training loss: 2.0117368426057105 \t Validation loss: 2.033141576637656 \t \n",
      " 52%|█████▏    | 29848/57400 [06:41<05:37, 81.72it/s]\n",
      "Epoch 53 \t Training loss: 2.0111068831918963 \t Validation loss: 2.036357315920167 \t \n",
      "\n",
      "1 epoch without improvement\n",
      " 53%|█████▎    | 30422/57400 [06:48<05:31, 81.27it/s]\n",
      "Epoch 54 \t Training loss: 2.012284117708638 \t Validation loss: 2.0365407224428855 \t \n",
      "\n",
      "2 epoch without improvement\n",
      " 54%|█████▍    | 30996/57400 [06:56<05:23, 81.63it/s]\n",
      "Epoch 55 \t Training loss: 2.0110868468932575 \t Validation loss: 2.0433011782371393 \t \n",
      "\n",
      "3 epoch without improvement\n",
      " 55%|█████▌    | 31570/57400 [07:04<05:19, 80.88it/s]\n",
      "Epoch 56 \t Training loss: 2.0108361092594027 \t Validation loss: 2.0359074018769343 \t \n",
      "\n",
      "4 epoch without improvement\n",
      " 56%|█████▌    | 32144/57400 [07:11<05:09, 81.72it/s]\n",
      "Epoch 57 \t Training loss: 2.0108903019270414 \t Validation loss: 2.0301247370445124 \t \n",
      " 57%|█████▋    | 32718/57400 [07:19<05:25, 75.89it/s]\n",
      "Epoch 58 \t Training loss: 2.0098278869319874 \t Validation loss: 2.0471873404616017 \t \n",
      "\n",
      "1 epoch without improvement\n",
      " 58%|█████▊    | 33292/57400 [07:26<05:01, 79.91it/s]\n",
      "Epoch 59 \t Training loss: 2.010285809895718 \t Validation loss: 2.0374786671945606 \t \n",
      "\n",
      "2 epoch without improvement\n",
      " 59%|█████▉    | 33866/57400 [07:34<04:51, 80.64it/s]\n",
      "Epoch 60 \t Training loss: 2.0092157243851587 \t Validation loss: 2.040368162979514 \t \n",
      "\n",
      "3 epoch without improvement\n",
      " 60%|██████    | 34440/57400 [07:42<04:44, 80.60it/s]\n",
      "Epoch 61 \t Training loss: 2.008704074376136 \t Validation loss: 2.043140126486956 \t \n",
      "\n",
      "4 epoch without improvement\n",
      " 61%|██████    | 35014/57400 [07:49<04:41, 79.65it/s]\n",
      "Epoch 62 \t Training loss: 2.0071776066922977 \t Validation loss: 2.0364239518925293 \t \n",
      "\n",
      "5 epoch without improvement\n",
      " 62%|██████▏   | 35588/57400 [07:57<04:27, 81.58it/s]\n",
      "Epoch 63 \t Training loss: 2.0084558899809672 \t Validation loss: 2.032869064201743 \t \n",
      "\n",
      "6 epoch without improvement\n",
      " 63%|██████▎   | 36162/57400 [08:05<04:19, 81.98it/s]\n",
      "Epoch 64 \t Training loss: 2.0069071422055207 \t Validation loss: 2.0382519455279335 \t \n",
      "\n",
      "7 epoch without improvement\n",
      " 64%|██████▍   | 36736/57400 [08:13<04:14, 81.17it/s]\n",
      "Epoch 65 \t Training loss: 2.0080075668956345 \t Validation loss: 2.0370678800647544 \t \n",
      "\n",
      "8 epoch without improvement\n",
      " 65%|██████▌   | 37310/57400 [08:20<04:05, 81.94it/s]\n",
      "Epoch 66 \t Training loss: 2.0051758262338537 \t Validation loss: 2.0375938799421665 \t \n",
      "\n",
      "9 epoch without improvement\n",
      " 66%|██████▌   | 37884/57400 [08:28<04:01, 80.93it/s]\n",
      "Epoch 67 \t Training loss: 2.0060174083045137 \t Validation loss: 2.038242263309026 \t \n",
      "\n",
      "10 epoch without improvement\n",
      "Validation_loss hasn't improve in 10 epoch. Stopping training after 67 epochs...\n"
     ]
    },
    {
     "data": {
      "image/png": "[encoded data removed]",
      "text/plain": [
       "<Figure size 640x480 with 1 Axes>"
      ]
     },
     "metadata": {},
     "output_type": "display_data"
    }
   ],
   "source": [
    "learning_rate = 5e-5\n",
    "optimizer = AdamW(model.parameters(), lr=learning_rate)\n",
    "num_epochs = 100\n",
    "\n",
    "train.train_function_multi(model,num_epochs,dl_train,optimizer,early_stop = 10,dl_val = dl_val,save_path=save_path)"
   ]
  },
  {
   "cell_type": "code",
   "execution_count": 19,
   "metadata": {},
   "outputs": [
    {
     "name": "stdout",
     "output_type": "stream",
     "text": [
      "Accuracy evaluando en todas las etiquetas\n",
      "{'to': 0.5643939393939394, 'as': 0.560625814863103, 'about': 0.6619897959183674}\n",
      "Accuracy evaluando en etiquetas female\n",
      "{'to': 0.4094488188976378, 'as': 0.444743935309973, 'about': 0.525}\n",
      "Accuracy evaluando en etiquetas male\n",
      "{'to': 0.708029197080292, 'as': 0.6691919191919192, 'about': 0.8046875}\n"
     ]
    }
   ],
   "source": [
    "model =  rrnn.MultiTaskRRNNDep(emb_dim,vocab,vocab_size,lstm_hidden_dim).to(device)\n",
    "model.load_state_dict(torch.load(save_path))\n",
    "\n",
    "print(\"Accuracy evaluando en todas las etiquetas\")\n",
    "print(train.eval_function_multi(model,dl_eval,tasks))\n",
    "print(\"Accuracy evaluando en etiquetas female\")\n",
    "print(train.eval_function_multi(model,dl_eval,tasks,'female'))\n",
    "print(\"Accuracy evaluando en etiquetas male\")\n",
    "print(train.eval_function_multi(model,dl_eval,tasks,'male'))"
   ]
  }
 ],
 "metadata": {
  "kernelspec": {
   "display_name": "tfg",
   "language": "python",
   "name": "python3"
  },
  "language_info": {
   "codemirror_mode": {
    "name": "ipython",
    "version": 3
   },
   "file_extension": ".py",
   "mimetype": "text/x-python",
   "name": "python",
   "nbconvert_exporter": "python",
   "pygments_lexer": "ipython3",
   "version": "3.9.13"
  },
  "orig_nbformat": 4
 },
 "nbformat": 4,
 "nbformat_minor": 2
}
