{
 "cells": [
  {
   "attachments": {},
   "cell_type": "markdown",
   "metadata": {},
   "source": [
    "En esta v2 simplemente he añadido una capa lineal más entre la capa lstm y la capa lineal de salida. Quedaría probar si un dropout me cambia en algo"
   ]
  },
  {
   "cell_type": "code",
   "execution_count": 1,
   "metadata": {},
   "outputs": [],
   "source": [
    "import numpy as np\n",
    "import torch\n",
    "\n",
    "\n",
    "import json\n",
    "from torch.utils.data import DataLoader\n",
    "from torch.optim import SGD,AdamW\n",
    "from torch import nn"
   ]
  },
  {
   "cell_type": "code",
   "execution_count": 2,
   "metadata": {},
   "outputs": [],
   "source": [
    "import utils_generic as generic\n",
    "import rrnn_mt as rrnn\n",
    "import multitask_dep as mt\n",
    "\n",
    "import train_dep as train"
   ]
  },
  {
   "cell_type": "code",
   "execution_count": 3,
   "metadata": {},
   "outputs": [],
   "source": [
    "device = torch.device(\"cuda\") if torch.cuda.is_available() else torch.device(\"cpu\")\n",
    "torch.manual_seed(27)\n",
    "tasks = ['to','as','about']\n",
    "encoding_type = 'absolute'"
   ]
  },
  {
   "attachments": {},
   "cell_type": "markdown",
   "metadata": {},
   "source": [
    "# Datos ConvAI2"
   ]
  },
  {
   "cell_type": "code",
   "execution_count": 4,
   "metadata": {},
   "outputs": [],
   "source": [
    "with open('Datasets\\ConvAI2\\convai2_complete.json','r') as f:\n",
    "    data = json.load(f)"
   ]
  },
  {
   "cell_type": "code",
   "execution_count": 5,
   "metadata": {},
   "outputs": [],
   "source": [
    "vocab = mt.Vocabulary(data['train'],encoding_type)"
   ]
  },
  {
   "cell_type": "code",
   "execution_count": 6,
   "metadata": {},
   "outputs": [],
   "source": [
    "convai_train = data['train']\n",
    "convai_val = data['validation']\n",
    "\n",
    "\n",
    "word_to_index = generic.create_word_to_index(convai_train)\n",
    "\n",
    "convai_train_token = generic.tokenize_dataset_with_dependencies_rrnn(convai_train,['about','to','as'],vocab,word_to_index) \n",
    "convai_val_token = generic.tokenize_dataset_with_dependencies_rrnn(convai_val,['about','to','as'],vocab,word_to_index) "
   ]
  },
  {
   "cell_type": "code",
   "execution_count": 7,
   "metadata": {},
   "outputs": [],
   "source": [
    "convai_train_dataset =rrnn.DatasetMultiTaskSimple(convai_train_token,tasks,eval=False,deps=True)"
   ]
  },
  {
   "cell_type": "code",
   "execution_count": 8,
   "metadata": {},
   "outputs": [],
   "source": [
    "convai_val_dataset = rrnn.DatasetMultiTaskSimple(convai_val_token,tasks,eval=False,deps=True)"
   ]
  },
  {
   "attachments": {},
   "cell_type": "markdown",
   "metadata": {},
   "source": [
    "# Datos md_gender"
   ]
  },
  {
   "cell_type": "code",
   "execution_count": 9,
   "metadata": {},
   "outputs": [],
   "source": [
    "with open('Datasets\\md_gender\\md_complete.json','r',encoding=\"utf8\") as f:\n",
    "    md_data = json.load(f)"
   ]
  },
  {
   "cell_type": "code",
   "execution_count": 10,
   "metadata": {},
   "outputs": [],
   "source": [
    "md_tokenized = generic.tokenize_dataset_with_dependencies_rrnn(md_data,['about','to','as'],vocab,word_to_index) \n",
    "\n",
    "\n",
    "md_dataset  = rrnn.DatasetMultiTaskSimple(md_tokenized,tasks,eval=True,deps=True)"
   ]
  },
  {
   "attachments": {},
   "cell_type": "markdown",
   "metadata": {},
   "source": [
    "# Creación dataloaders"
   ]
  },
  {
   "cell_type": "code",
   "execution_count": 11,
   "metadata": {},
   "outputs": [],
   "source": [
    "dl_train =  DataLoader(convai_train_dataset,batch_size=128,shuffle=True,collate_fn=rrnn.collate_fn_dep)\n",
    "dl_val = DataLoader(convai_val_dataset,batch_size=128,shuffle=True,collate_fn=rrnn.collate_fn_dep)\n",
    "dl_eval  = DataLoader(md_dataset,batch_size=128,shuffle=False,collate_fn=rrnn.collate_fn_dep)"
   ]
  },
  {
   "attachments": {},
   "cell_type": "markdown",
   "metadata": {},
   "source": [
    "# MultiTask SGD"
   ]
  },
  {
   "cell_type": "code",
   "execution_count": 12,
   "metadata": {},
   "outputs": [],
   "source": [
    "emb_dim = 20\n",
    "vocab_size = len(word_to_index)\n",
    "num_labels = 2\n",
    "lstm_hidden_dim = 128"
   ]
  },
  {
   "cell_type": "code",
   "execution_count": 13,
   "metadata": {},
   "outputs": [],
   "source": [
    "model = rrnn.MultiTaskRRNNDep(emb_dim,vocab,vocab_size,lstm_hidden_dim).to(device)\n",
    "save_path='m1_rrnn_multi_sgd_absolute'"
   ]
  },
  {
   "cell_type": "code",
   "execution_count": 14,
   "metadata": {},
   "outputs": [
    {
     "name": "stdout",
     "output_type": "stream",
     "text": [
      "Accuracy evaluando en todas las etiquetas\n",
      "{'to': 0.4810606060606061, 'as': 0.48370273794002605, 'about': 0.5102040816326531}\n",
      "Accuracy evaluando en etiquetas female\n",
      "{'to': 1.0, 'as': 1.0, 'about': 1.0}\n",
      "Accuracy evaluando en etiquetas male\n",
      "{'to': 0.0, 'as': 0.0, 'about': 0.0}\n"
     ]
    }
   ],
   "source": [
    "print(\"Accuracy evaluando en todas las etiquetas\")\n",
    "print(train.eval_function_multi(model,dl_eval,tasks))\n",
    "print(\"Accuracy evaluando en etiquetas female\")\n",
    "print(train.eval_function_multi(model,dl_eval,tasks,'female'))\n",
    "print(\"Accuracy evaluando en etiquetas male\")\n",
    "print(train.eval_function_multi(model,dl_eval,tasks,'male'))"
   ]
  },
  {
   "cell_type": "code",
   "execution_count": 15,
   "metadata": {},
   "outputs": [
    {
     "data": {
      "application/vnd.jupyter.widget-view+json": {
       "model_id": "fab0449af7bd4cc69723ab78ac842b13",
       "version_major": 2,
       "version_minor": 0
      },
      "text/plain": [
       "  0%|          | 0/57400 [00:00<?, ?it/s]"
      ]
     },
     "metadata": {},
     "output_type": "display_data"
    },
    {
     "name": "stdout",
     "output_type": "stream",
     "text": [
      "Epoch 1 \t Training loss: 2.0821444390127466 \t Validation loss: 2.0799792540275446 \t \n",
      "  1%|          | 574/57400 [00:06<10:02, 94.24it/s]\n",
      "Epoch 2 \t Training loss: 2.077252000051093 \t Validation loss: 2.0807770308801685 \t \n",
      "  2%|▏         | 1148/57400 [00:13<09:57, 94.09it/s]\n",
      "Epoch 3 \t Training loss: 2.0762345039055323 \t Validation loss: 2.080663600210416 \t \n",
      "  3%|▎         | 1722/57400 [00:19<09:37, 96.42it/s]\n",
      "Epoch 4 \t Training loss: 2.0758611404106593 \t Validation loss: 2.081698846008818 \t \n",
      "\n",
      "1 epoch without improvement\n",
      "  4%|▍         | 2296/57400 [00:26<09:11, 99.84it/s]\n",
      "Epoch 5 \t Training loss: 2.076538311479814 \t Validation loss: 2.080524804228443 \t \n",
      "  5%|▌         | 2870/57400 [00:32<09:04, 100.13it/s]\n",
      "Epoch 6 \t Training loss: 2.0760855471215596 \t Validation loss: 2.0813957634618725 \t \n",
      "\n",
      "2 epoch without improvement\n",
      "  6%|▌         | 3444/57400 [00:38<09:12, 97.68it/s]\n",
      "Epoch 7 \t Training loss: 2.0757824631102824 \t Validation loss: 2.0833770824690996 \t \n",
      "\n",
      "3 epoch without improvement\n",
      "  7%|▋         | 4018/57400 [00:45<09:06, 97.62it/s]\n",
      "Epoch 8 \t Training loss: 2.0758607233858273 \t Validation loss: 2.0828683982461187 \t \n",
      "\n",
      "4 epoch without improvement\n",
      "  8%|▊         | 4592/57400 [00:51<08:56, 98.43it/s]\n",
      "Epoch 9 \t Training loss: 2.076071957262551 \t Validation loss: 2.082275536100743 \t \n",
      "\n",
      "5 epoch without improvement\n",
      "  9%|▉         | 5166/57400 [00:58<08:53, 97.94it/s]\n",
      "Epoch 10 \t Training loss: 2.075891195273981 \t Validation loss: 2.082814382294477 \t \n",
      "\n",
      "6 epoch without improvement\n",
      " 10%|█         | 5740/57400 [01:04<08:37, 99.80it/s]\n",
      "Epoch 11 \t Training loss: 2.0761736785077884 \t Validation loss: 2.0819236100730247 \t \n",
      "\n",
      "7 epoch without improvement\n",
      " 11%|█         | 6314/57400 [01:11<09:05, 93.69it/s]\n",
      "Epoch 12 \t Training loss: 2.075842085615683 \t Validation loss: 2.0816756305048023 \t \n",
      "\n",
      "8 epoch without improvement\n",
      " 12%|█▏        | 6888/57400 [01:17<08:49, 95.37it/s]\n",
      "Epoch 13 \t Training loss: 2.075927813294042 \t Validation loss: 2.0818104824777377 \t \n",
      "\n",
      "9 epoch without improvement\n",
      " 13%|█▎        | 7462/57400 [01:23<08:26, 98.65it/s]\n",
      "Epoch 14 \t Training loss: 2.07596110508417 \t Validation loss: 2.0827413615533863 \t \n",
      "\n",
      "10 epoch without improvement\n",
      "Validation_loss hasn't improve in 10 epoch. Stopping training after 14 epochs...\n"
     ]
    },
    {
     "data": {
      "image/png": "[encoded data removed]",
      "text/plain": [
       "<Figure size 640x480 with 1 Axes>"
      ]
     },
     "metadata": {},
     "output_type": "display_data"
    }
   ],
   "source": [
    "learning_rate = 5e-5\n",
    "optimizer = SGD(model.parameters(), lr=learning_rate, momentum=0.9)\n",
    "num_epochs = 100\n",
    "\n",
    "train.train_function_multi(model,num_epochs,dl_train,optimizer,early_stop = 10,dl_val = dl_val,save_path=save_path)"
   ]
  },
  {
   "cell_type": "code",
   "execution_count": 18,
   "metadata": {},
   "outputs": [
    {
     "name": "stdout",
     "output_type": "stream",
     "text": [
      "Accuracy evaluando en todas las etiquetas\n",
      "{'to': 0.5277777777777778, 'as': 0.5123859191655802, 'about': 0.4872448979591837}\n",
      "Accuracy evaluando en etiquetas female\n",
      "{'to': 0.14435695538057744, 'as': 0.15363881401617252, 'about': 0.1425}\n",
      "Accuracy evaluando en etiquetas male\n",
      "{'to': 0.8832116788321168, 'as': 0.8484848484848485, 'about': 0.8463541666666666}\n"
     ]
    }
   ],
   "source": [
    "model = rrnn.MultiTaskRRNNDep(emb_dim,vocab,vocab_size,lstm_hidden_dim).to(device)\n",
    "model.load_state_dict(torch.load(save_path))\n",
    "\n",
    "print(\"Accuracy evaluando en todas las etiquetas\")\n",
    "print(train.eval_function_multi(model,dl_eval,tasks))\n",
    "print(\"Accuracy evaluando en etiquetas female\")\n",
    "print(train.eval_function_multi(model,dl_eval,tasks,'female'))\n",
    "print(\"Accuracy evaluando en etiquetas male\")\n",
    "print(train.eval_function_multi(model,dl_eval,tasks,'male'))"
   ]
  },
  {
   "attachments": {},
   "cell_type": "markdown",
   "metadata": {},
   "source": [
    "# AdamW"
   ]
  },
  {
   "cell_type": "code",
   "execution_count": 19,
   "metadata": {},
   "outputs": [],
   "source": [
    "model = rrnn.MultiTaskRRNNDep(emb_dim,vocab,vocab_size,lstm_hidden_dim).to(device)\n",
    "save_path='m1_rrnn_multi_adamw_absolute'"
   ]
  },
  {
   "cell_type": "code",
   "execution_count": 20,
   "metadata": {},
   "outputs": [
    {
     "data": {
      "application/vnd.jupyter.widget-view+json": {
       "model_id": "cec422846f004fcdae2e50c9705fc2c1",
       "version_major": 2,
       "version_minor": 0
      },
      "text/plain": [
       "  0%|          | 0/57400 [00:00<?, ?it/s]"
      ]
     },
     "metadata": {},
     "output_type": "display_data"
    },
    {
     "name": "stdout",
     "output_type": "stream",
     "text": [
      "Epoch 1 \t Training loss: 2.0759999972187266 \t Validation loss: 2.0794473219726046 \t \n",
      "  1%|          | 574/57400 [00:07<10:45, 88.04it/s]\n",
      "Epoch 2 \t Training loss: 2.0735027794223213 \t Validation loss: 2.075009891542338 \t \n",
      "  2%|▏         | 1148/57400 [00:14<11:00, 85.12it/s]\n",
      "Epoch 3 \t Training loss: 2.0703815176096527 \t Validation loss: 2.069464049096835 \t \n",
      "  3%|▎         | 1722/57400 [00:22<10:33, 87.84it/s]\n",
      "Epoch 4 \t Training loss: 2.0672136154739698 \t Validation loss: 2.0690967915421825 \t \n",
      "  4%|▍         | 2296/57400 [00:29<10:38, 86.25it/s]\n",
      "Epoch 5 \t Training loss: 2.0649843141176976 \t Validation loss: 2.0677841921984137 \t \n",
      "  5%|▌         | 2870/57400 [00:36<10:42, 84.88it/s]\n",
      "Epoch 6 \t Training loss: 2.0627930313867973 \t Validation loss: 2.068189026945728 \t \n",
      "  6%|▌         | 3444/57400 [00:43<10:17, 87.44it/s]\n",
      "Epoch 7 \t Training loss: 2.061829336844255 \t Validation loss: 2.065968428627919 \t \n",
      "  7%|▋         | 4018/57400 [00:50<10:02, 88.64it/s]\n",
      "Epoch 8 \t Training loss: 2.0597848983591858 \t Validation loss: 2.0628691891492426 \t \n",
      "  8%|▊         | 4592/57400 [00:57<09:58, 88.17it/s]\n",
      "Epoch 9 \t Training loss: 2.057671240397862 \t Validation loss: 2.0655545743845276 \t \n",
      "\n",
      "1 epoch without improvement\n",
      "  9%|▉         | 5166/57400 [01:04<10:26, 83.40it/s]\n",
      "Epoch 10 \t Training loss: 2.0573757280456064 \t Validation loss: 2.0594985202207403 \t \n",
      " 10%|█         | 5740/57400 [01:11<09:54, 86.83it/s]\n",
      "Epoch 11 \t Training loss: 2.055652794106912 \t Validation loss: 2.0594017081341502 \t \n",
      " 11%|█         | 6314/57400 [01:18<10:05, 84.32it/s]\n",
      "Epoch 12 \t Training loss: 2.0551169869791757 \t Validation loss: 2.058162123469983 \t \n",
      " 12%|█▏        | 6888/57400 [01:26<09:50, 85.48it/s]\n",
      "Epoch 13 \t Training loss: 2.052804024377351 \t Validation loss: 2.0570071915448724 \t \n",
      " 13%|█▎        | 7462/57400 [01:32<09:30, 87.57it/s]\n",
      "Epoch 14 \t Training loss: 2.0514131591295115 \t Validation loss: 2.055210586321556 \t \n",
      " 14%|█▍        | 8036/57400 [01:39<09:18, 88.40it/s]\n",
      "Epoch 15 \t Training loss: 2.048989390662323 \t Validation loss: 2.0497238999706204 \t \n",
      " 15%|█▌        | 8610/57400 [01:46<09:11, 88.42it/s]\n",
      "Epoch 16 \t Training loss: 2.046857985885301 \t Validation loss: 2.0515277830220886 \t \n",
      "\n",
      "1 epoch without improvement\n",
      " 16%|█▌        | 9184/57400 [01:53<09:02, 88.89it/s]\n",
      "Epoch 17 \t Training loss: 2.0448656119536026 \t Validation loss: 2.0527197284213567 \t \n",
      "\n",
      "2 epoch without improvement\n",
      " 17%|█▋        | 9758/57400 [02:00<08:58, 88.47it/s]\n",
      "Epoch 18 \t Training loss: 2.045135591088272 \t Validation loss: 2.051317012916177 \t \n",
      "\n",
      "3 epoch without improvement\n",
      " 18%|█▊        | 10332/57400 [02:07<08:50, 88.79it/s]\n",
      "Epoch 19 \t Training loss: 2.042609567218541 \t Validation loss: 2.050822124642841 \t \n",
      "\n",
      "4 epoch without improvement\n",
      " 19%|█▉        | 10906/57400 [02:14<08:49, 87.83it/s]\n",
      "Epoch 20 \t Training loss: 2.0419069379048898 \t Validation loss: 2.048145722534697 \t \n",
      " 20%|██        | 11480/57400 [02:22<09:05, 84.23it/s]\n",
      "Epoch 21 \t Training loss: 2.041588182233352 \t Validation loss: 2.0468931299144937 \t \n",
      " 21%|██        | 12054/57400 [02:29<08:30, 88.81it/s]\n",
      "Epoch 22 \t Training loss: 2.03921678028871 \t Validation loss: 2.056048526602276 \t \n",
      "\n",
      "1 epoch without improvement\n",
      " 22%|██▏       | 12628/57400 [02:36<08:43, 85.59it/s]\n",
      "Epoch 23 \t Training loss: 2.037820109506933 \t Validation loss: 2.0432888814958474 \t \n",
      " 23%|██▎       | 13202/57400 [02:43<08:29, 86.81it/s]\n",
      "Epoch 24 \t Training loss: 2.037070372794148 \t Validation loss: 2.0424828024233803 \t \n",
      " 24%|██▍       | 13776/57400 [02:50<08:10, 89.00it/s]\n",
      "Epoch 25 \t Training loss: 2.0373550009644403 \t Validation loss: 2.046659994933565 \t \n",
      "\n",
      "1 epoch without improvement\n",
      " 25%|██▌       | 14350/57400 [02:57<08:36, 83.29it/s]\n",
      "Epoch 26 \t Training loss: 2.035421911847716 \t Validation loss: 2.04732822361639 \t \n",
      "\n",
      "2 epoch without improvement\n",
      " 26%|██▌       | 14924/57400 [03:04<07:54, 89.61it/s]\n",
      "Epoch 27 \t Training loss: 2.0342156473767883 \t Validation loss: 2.0467440718311374 \t \n",
      "\n",
      "3 epoch without improvement\n",
      " 27%|██▋       | 15498/57400 [03:11<07:50, 89.08it/s]\n",
      "Epoch 28 \t Training loss: 2.0325183664880146 \t Validation loss: 2.0462216522734042 \t \n",
      "\n",
      "4 epoch without improvement\n",
      " 28%|██▊       | 16072/57400 [03:19<08:01, 85.92it/s]\n",
      "Epoch 29 \t Training loss: 2.0322917944878234 \t Validation loss: 2.040842050212925 \t \n",
      " 29%|██▉       | 16646/57400 [03:26<07:27, 91.15it/s]\n",
      "Epoch 30 \t Training loss: 2.032073104838461 \t Validation loss: 2.042439850710206 \t \n",
      "\n",
      "1 epoch without improvement\n",
      " 30%|███       | 17220/57400 [03:33<07:27, 89.86it/s]\n",
      "Epoch 31 \t Training loss: 2.0306795434669334 \t Validation loss: 2.044104600356797 \t \n",
      "\n",
      "2 epoch without improvement\n",
      " 31%|███       | 17794/57400 [03:40<07:41, 85.74it/s]\n",
      "Epoch 32 \t Training loss: 2.030105565275465 \t Validation loss: 2.0474351947590455 \t \n",
      "\n",
      "3 epoch without improvement\n",
      " 32%|███▏      | 18368/57400 [03:47<07:26, 87.46it/s]\n",
      "Epoch 33 \t Training loss: 2.0276707813714854 \t Validation loss: 2.038768287432396 \t \n",
      " 33%|███▎      | 18942/57400 [03:54<07:09, 89.50it/s]\n",
      "Epoch 34 \t Training loss: 2.0271655402117075 \t Validation loss: 2.0481011746293407 \t \n",
      "\n",
      "1 epoch without improvement\n",
      " 34%|███▍      | 19516/57400 [04:01<07:06, 88.73it/s]\n",
      "Epoch 35 \t Training loss: 2.0256408251536433 \t Validation loss: 2.0458695545034895 \t \n",
      "\n",
      "2 epoch without improvement\n",
      " 35%|███▌      | 20090/57400 [04:08<06:56, 89.54it/s]\n",
      "Epoch 36 \t Training loss: 2.0266013421663422 \t Validation loss: 2.0372482295763694 \t \n",
      " 36%|███▌      | 20664/57400 [04:15<06:47, 90.15it/s]\n",
      "Epoch 37 \t Training loss: 2.0258033956800188 \t Validation loss: 2.04045572725393 \t \n",
      "\n",
      "1 epoch without improvement\n",
      " 37%|███▋      | 21238/57400 [04:22<06:42, 89.78it/s]\n",
      "Epoch 38 \t Training loss: 2.024519565005751 \t Validation loss: 2.041979207830914 \t \n",
      "\n",
      "2 epoch without improvement\n",
      " 38%|███▊      | 21812/57400 [04:29<06:41, 88.67it/s]\n",
      "Epoch 39 \t Training loss: 2.023910502108132 \t Validation loss: 2.044310949616513 \t \n",
      "\n",
      "3 epoch without improvement\n",
      " 39%|███▉      | 22386/57400 [04:37<06:50, 85.27it/s]\n",
      "Epoch 40 \t Training loss: 2.022983590692593 \t Validation loss: 2.038394182415332 \t \n",
      "\n",
      "4 epoch without improvement\n",
      " 40%|████      | 22960/57400 [04:44<06:27, 88.77it/s]\n",
      "Epoch 41 \t Training loss: 2.0229863883726273 \t Validation loss: 2.034604478690584 \t \n",
      " 41%|████      | 23534/57400 [04:50<06:19, 89.28it/s]\n",
      "Epoch 42 \t Training loss: 2.0222217592212797 \t Validation loss: 2.0368991827560685 \t \n",
      "\n",
      "1 epoch without improvement\n",
      " 42%|████▏     | 24108/57400 [04:58<06:14, 88.92it/s]\n",
      "Epoch 43 \t Training loss: 2.020719397151096 \t Validation loss: 2.037791959309982 \t \n",
      "\n",
      "2 epoch without improvement\n",
      " 43%|████▎     | 24682/57400 [05:05<06:10, 88.35it/s]\n",
      "Epoch 44 \t Training loss: 2.0218761291238074 \t Validation loss: 2.035850175356461 \t \n",
      "\n",
      "3 epoch without improvement\n",
      " 44%|████▍     | 25256/57400 [05:12<06:14, 85.78it/s]\n",
      "Epoch 45 \t Training loss: 2.019845105422083 \t Validation loss: 2.031039242017067 \t \n",
      " 45%|████▌     | 25830/57400 [05:19<06:02, 87.11it/s]\n",
      "Epoch 46 \t Training loss: 2.0184502977527394 \t Validation loss: 2.032724822981883 \t \n",
      "\n",
      "1 epoch without improvement\n",
      " 46%|████▌     | 26404/57400 [05:26<05:48, 89.07it/s]\n",
      "Epoch 47 \t Training loss: 2.019679847079287 \t Validation loss: 2.035911729780294 \t \n",
      "\n",
      "2 epoch without improvement\n",
      " 47%|████▋     | 26978/57400 [05:33<05:43, 88.58it/s]\n",
      "Epoch 48 \t Training loss: 2.0191525285252294 \t Validation loss: 2.039429705021745 \t \n",
      "\n",
      "3 epoch without improvement\n",
      " 48%|████▊     | 27552/57400 [05:40<05:43, 86.98it/s]\n",
      "Epoch 49 \t Training loss: 2.018567064705626 \t Validation loss: 2.0331452276747104 \t \n",
      "\n",
      "4 epoch without improvement\n",
      " 49%|████▉     | 28126/57400 [05:47<05:20, 91.24it/s]\n",
      "Epoch 50 \t Training loss: 2.019542068762231 \t Validation loss: 2.0324602733224126 \t \n",
      "\n",
      "5 epoch without improvement\n",
      " 50%|█████     | 28700/57400 [05:54<05:28, 87.38it/s]\n",
      "Epoch 51 \t Training loss: 2.016243498915164 \t Validation loss: 2.0334991216659546 \t \n",
      "\n",
      "6 epoch without improvement\n",
      " 51%|█████     | 29274/57400 [06:01<05:20, 87.77it/s]\n",
      "Epoch 52 \t Training loss: 2.0162169530416616 \t Validation loss: 2.035457962650364 \t \n",
      "\n",
      "7 epoch without improvement\n",
      " 52%|█████▏    | 29848/57400 [06:08<05:10, 88.63it/s]\n",
      "Epoch 53 \t Training loss: 2.016920394183036 \t Validation loss: 2.027068059323198 \t \n",
      " 53%|█████▎    | 30422/57400 [06:15<05:05, 88.25it/s]\n",
      "Epoch 54 \t Training loss: 2.0178461506807013 \t Validation loss: 2.032255839493315 \t \n",
      "\n",
      "1 epoch without improvement\n",
      " 54%|█████▍    | 30996/57400 [06:22<04:57, 88.71it/s]\n",
      "Epoch 55 \t Training loss: 2.0145986591066634 \t Validation loss: 2.034764108011278 \t \n",
      "\n",
      "2 epoch without improvement\n",
      " 55%|█████▌    | 31570/57400 [06:30<05:06, 84.29it/s]\n",
      "Epoch 56 \t Training loss: 2.0140575351200036 \t Validation loss: 2.036288612979954 \t \n",
      "\n",
      "3 epoch without improvement\n",
      " 56%|█████▌    | 32144/57400 [06:37<04:51, 86.51it/s]\n",
      "Epoch 57 \t Training loss: 2.012482061618712 \t Validation loss: 2.0337429127450717 \t \n",
      "\n",
      "4 epoch without improvement\n",
      " 57%|█████▋    | 32718/57400 [06:44<04:41, 87.81it/s]\n",
      "Epoch 58 \t Training loss: 2.0133820903010484 \t Validation loss: 2.0304062507920344 \t \n",
      "\n",
      "5 epoch without improvement\n",
      " 58%|█████▊    | 33292/57400 [06:51<04:31, 88.63it/s]\n",
      "Epoch 59 \t Training loss: 2.011224192609355 \t Validation loss: 2.037181322857485 \t \n",
      "\n",
      "6 epoch without improvement\n",
      " 59%|█████▉    | 33866/57400 [06:58<04:28, 87.80it/s]\n",
      "Epoch 60 \t Training loss: 2.0126291787582824 \t Validation loss: 2.0321492663884566 \t \n",
      "\n",
      "7 epoch without improvement\n",
      " 60%|██████    | 34440/57400 [07:05<04:26, 86.24it/s]\n",
      "Epoch 61 \t Training loss: 2.013131902192943 \t Validation loss: 2.032408809257766 \t \n",
      "\n",
      "8 epoch without improvement\n",
      " 61%|██████    | 35014/57400 [07:12<04:11, 89.14it/s]\n",
      "Epoch 62 \t Training loss: 2.0120485763516576 \t Validation loss: 2.030426546678705 \t \n",
      "\n",
      "9 epoch without improvement\n",
      " 62%|██████▏   | 35588/57400 [07:19<04:07, 88.09it/s]\n",
      "Epoch 63 \t Training loss: 2.011825867853929 \t Validation loss: 2.0387572676448498 \t \n",
      "\n",
      "10 epoch without improvement\n",
      "Validation_loss hasn't improve in 10 epoch. Stopping training after 63 epochs...\n"
     ]
    },
    {
     "data": {
      "image/png": "[encoded data removed]",
      "text/plain": [
       "<Figure size 640x480 with 1 Axes>"
      ]
     },
     "metadata": {},
     "output_type": "display_data"
    }
   ],
   "source": [
    "learning_rate = 5e-5\n",
    "optimizer = AdamW(model.parameters(), lr=learning_rate)\n",
    "num_epochs = 100\n",
    "\n",
    "train.train_function_multi(model,num_epochs,dl_train,optimizer,early_stop = 10,dl_val = dl_val,save_path=save_path)"
   ]
  },
  {
   "cell_type": "code",
   "execution_count": 21,
   "metadata": {},
   "outputs": [
    {
     "name": "stdout",
     "output_type": "stream",
     "text": [
      "Accuracy evaluando en todas las etiquetas\n",
      "{'to': 0.5921717171717171, 'as': 0.5958279009126467, 'about': 0.6632653061224489}\n",
      "Accuracy evaluando en etiquetas female\n",
      "{'to': 0.5275590551181102, 'as': 0.5633423180592992, 'about': 0.5825}\n",
      "Accuracy evaluando en etiquetas male\n",
      "{'to': 0.6520681265206812, 'as': 0.6262626262626263, 'about': 0.7473958333333334}\n"
     ]
    }
   ],
   "source": [
    "model =  rrnn.MultiTaskRRNNDep(emb_dim,vocab,vocab_size,lstm_hidden_dim).to(device)\n",
    "model.load_state_dict(torch.load(save_path))\n",
    "\n",
    "print(\"Accuracy evaluando en todas las etiquetas\")\n",
    "print(train.eval_function_multi(model,dl_eval,tasks))\n",
    "print(\"Accuracy evaluando en etiquetas female\")\n",
    "print(train.eval_function_multi(model,dl_eval,tasks,'female'))\n",
    "print(\"Accuracy evaluando en etiquetas male\")\n",
    "print(train.eval_function_multi(model,dl_eval,tasks,'male'))"
   ]
  }
 ],
 "metadata": {
  "kernelspec": {
   "display_name": "tfg",
   "language": "python",
   "name": "python3"
  },
  "language_info": {
   "codemirror_mode": {
    "name": "ipython",
    "version": 3
   },
   "file_extension": ".py",
   "mimetype": "text/x-python",
   "name": "python",
   "nbconvert_exporter": "python",
   "pygments_lexer": "ipython3",
   "version": "3.9.13"
  },
  "orig_nbformat": 4
 },
 "nbformat": 4,
 "nbformat_minor": 2
}
