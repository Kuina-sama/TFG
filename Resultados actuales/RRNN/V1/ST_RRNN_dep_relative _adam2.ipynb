{
 "cells": [
  {
   "cell_type": "code",
   "execution_count": 1,
   "metadata": {},
   "outputs": [],
   "source": [
    "import numpy as np\n",
    "import torch\n",
    "\n",
    "\n",
    "import json\n",
    "from torch.utils.data import DataLoader\n",
    "from torch.optim import SGD, AdamW\n",
    "from torch import nn"
   ]
  },
  {
   "cell_type": "code",
   "execution_count": 2,
   "metadata": {},
   "outputs": [],
   "source": [
    "import utils_generic as generic\n",
    "import rrnn_st as rrnn\n",
    "import model_confs as confs\n",
    "\n",
    "import singletask_dep as st\n",
    "import train_dep as train"
   ]
  },
  {
   "cell_type": "code",
   "execution_count": 3,
   "metadata": {},
   "outputs": [
    {
     "data": {
      "text/plain": [
       "<torch._C.Generator at 0x27126d91550>"
      ]
     },
     "execution_count": 3,
     "metadata": {},
     "output_type": "execute_result"
    }
   ],
   "source": [
    "device = torch.device(\"cuda\") if torch.cuda.is_available() else torch.device(\"cpu\")\n",
    "torch.manual_seed(27)"
   ]
  },
  {
   "cell_type": "code",
   "execution_count": 4,
   "metadata": {},
   "outputs": [],
   "source": [
    "encoding_type = 'relative'"
   ]
  },
  {
   "attachments": {},
   "cell_type": "markdown",
   "metadata": {},
   "source": [
    "# Datos ConvAI2"
   ]
  },
  {
   "cell_type": "code",
   "execution_count": 5,
   "metadata": {},
   "outputs": [],
   "source": [
    "with open('Datasets\\ConvAI2\\convai2_complete.json','r') as f:\n",
    "    data = json.load(f)"
   ]
  },
  {
   "cell_type": "code",
   "execution_count": 6,
   "metadata": {},
   "outputs": [],
   "source": [
    "vocab_dep = st.Vocabulary(data['train'],encoding_type)"
   ]
  },
  {
   "cell_type": "code",
   "execution_count": 7,
   "metadata": {},
   "outputs": [],
   "source": [
    "convai_train = data['train']\n",
    "convai_val = data['validation']\n",
    "\n",
    "\n",
    "word_to_index = generic.create_word_to_index(convai_train)\n",
    "\n",
    "convai_train_token = generic.tokenize_dataset_with_dependencies_rrnn(convai_train,['about','to','as'],vocab_dep,word_to_index) \n",
    "convai_val_token = generic.tokenize_dataset_with_dependencies_rrnn(convai_val,['about','to','as'],vocab_dep,word_to_index) "
   ]
  },
  {
   "cell_type": "code",
   "execution_count": 8,
   "metadata": {},
   "outputs": [],
   "source": [
    "convai_train_dataset = {}\n",
    "for task in ['to','as','about']:\n",
    "    convai_train_dataset[task] = rrnn.DatasetSingleTaskSimple(convai_train_token,task,eval=False,deps=True)"
   ]
  },
  {
   "cell_type": "code",
   "execution_count": 9,
   "metadata": {},
   "outputs": [],
   "source": [
    "convai_val_dataset = {}\n",
    "for task in ['to','as','about']:\n",
    "    convai_val_dataset[task] = rrnn.DatasetSingleTaskSimple(convai_val_token,task,eval=False,deps=True)"
   ]
  },
  {
   "attachments": {},
   "cell_type": "markdown",
   "metadata": {},
   "source": [
    "# Datos md_gender"
   ]
  },
  {
   "cell_type": "code",
   "execution_count": 10,
   "metadata": {},
   "outputs": [],
   "source": [
    "with open('Datasets\\md_gender\\md_complete.json','r',encoding=\"utf8\") as f:\n",
    "    md_data = json.load(f)"
   ]
  },
  {
   "cell_type": "code",
   "execution_count": 11,
   "metadata": {},
   "outputs": [],
   "source": [
    "md_tokenized = generic.tokenize_dataset_with_dependencies_rrnn(md_data,['about','to','as'],vocab_dep,word_to_index) \n",
    "\n",
    "\n",
    "md_dataset = {}\n",
    "for task in ['to','as','about']:\n",
    "    md_dataset[task] = rrnn.DatasetSingleTaskSimple(md_tokenized,task,eval=True,deps=True)"
   ]
  },
  {
   "attachments": {},
   "cell_type": "markdown",
   "metadata": {},
   "source": [
    "# Creación dataloaders"
   ]
  },
  {
   "cell_type": "code",
   "execution_count": 12,
   "metadata": {},
   "outputs": [],
   "source": [
    "dl_train = {}\n",
    "for task in ['to','as','about']:\n",
    "    dl_train[task] = DataLoader(convai_train_dataset[task],batch_size=128,shuffle=True,collate_fn=rrnn.collate_fn_dep)"
   ]
  },
  {
   "cell_type": "code",
   "execution_count": 13,
   "metadata": {},
   "outputs": [],
   "source": [
    "dl_val = {}\n",
    "for task in ['to','as','about']:\n",
    "    dl_val[task] = DataLoader(convai_val_dataset[task],batch_size=128,shuffle=True,collate_fn=rrnn.collate_fn_dep)"
   ]
  },
  {
   "cell_type": "code",
   "execution_count": 14,
   "metadata": {},
   "outputs": [],
   "source": [
    "dl_eval = {}\n",
    "for task in ['to','as','about']:\n",
    "    dl_eval[task] = DataLoader(md_dataset[task],batch_size=128,shuffle=False,collate_fn=rrnn.collate_fn_dep)"
   ]
  },
  {
   "attachments": {},
   "cell_type": "markdown",
   "metadata": {},
   "source": [
    "# ABOUT"
   ]
  },
  {
   "cell_type": "code",
   "execution_count": 15,
   "metadata": {},
   "outputs": [],
   "source": [
    "emb_dim = 20\n",
    "vocab_size = len(word_to_index)\n",
    "num_labels = 2\n",
    "lstm_hidden_dim = 128"
   ]
  },
  {
   "cell_type": "code",
   "execution_count": 16,
   "metadata": {},
   "outputs": [],
   "source": [
    "model = rrnn.SingleTaskRRNNDep(emb_dim,vocab_dep,vocab_size,lstm_hidden_dim).to(device)\n",
    "save_path='m1_rrnn_dep_about_adam2'"
   ]
  },
  {
   "cell_type": "code",
   "execution_count": 17,
   "metadata": {},
   "outputs": [
    {
     "name": "stdout",
     "output_type": "stream",
     "text": [
      "GLOBAL: 0.5 \n",
      "\n",
      "Using scikit learn accuracy por género en el conjunto about\n",
      "MALE 0.9453125\n",
      "FEMALE 0.0725 \n",
      "\n",
      "GLOBAL: 0.5252525252525253 \n",
      "\n",
      "Using scikit learn accuracy por género en el conjunto to\n",
      "MALE 0.9610705596107056\n",
      "FEMALE 0.05511811023622047 \n",
      "\n",
      "GLOBAL: 0.516297262059974 \n",
      "\n",
      "Using scikit learn accuracy por género en el conjunto as\n",
      "MALE 0.9393939393939394\n",
      "FEMALE 0.0646900269541779 \n",
      "\n"
     ]
    }
   ],
   "source": [
    "for task in ['about','to','as']:\n",
    "    print(f\"GLOBAL: {train.eval_function_single_sk(model,dl_eval[task])}\",'\\n')\n",
    "    print(f\"Using scikit learn accuracy por género en el conjunto {task}\")\n",
    "    print(f\"MALE {train.eval_function_single_sk(model,dl_eval[task],gender='male')}\")\n",
    "    print(f\"FEMALE {train.eval_function_single_sk(model,dl_eval[task],gender='female')}\",'\\n')"
   ]
  },
  {
   "cell_type": "code",
   "execution_count": 18,
   "metadata": {},
   "outputs": [
    {
     "data": {
      "application/vnd.jupyter.widget-view+json": {
       "model_id": "3830f13e41ef4e67a2d83a97ebf69187",
       "version_major": 2,
       "version_minor": 0
      },
      "text/plain": [
       "  0%|          | 0/57400 [00:00<?, ?it/s]"
      ]
     },
     "metadata": {},
     "output_type": "display_data"
    },
    {
     "name": "stdout",
     "output_type": "stream",
     "text": [
      "Epoch 1 \t Training loss: 0.6240636654431811 \t Validation loss: 0.5662035310672502 \t \n",
      "  1%|          | 574/57400 [00:09<14:19, 66.09it/s]\n",
      "Epoch 2 \t Training loss: 0.5092611909431863 \t Validation loss: 0.4995294157731331 \t \n",
      "  2%|▏         | 1148/57400 [00:18<13:04, 71.66it/s]\n",
      "Epoch 3 \t Training loss: 0.43954457462041635 \t Validation loss: 0.4603053578885935 \t \n",
      "  3%|▎         | 1722/57400 [00:26<12:56, 71.70it/s]\n",
      "Epoch 4 \t Training loss: 0.3962629742219473 \t Validation loss: 0.4383487928721864 \t \n",
      "  4%|▍         | 2296/57400 [00:35<14:19, 64.14it/s]\n",
      "Epoch 5 \t Training loss: 0.36064739216391634 \t Validation loss: 0.4226073622703552 \t \n",
      "  5%|▌         | 2870/57400 [00:44<13:04, 69.51it/s]\n",
      "Epoch 6 \t Training loss: 0.3336572247047873 \t Validation loss: 0.41636922702950946 \t \n",
      "  6%|▌         | 3444/57400 [00:53<13:40, 65.75it/s]\n",
      "Epoch 7 \t Training loss: 0.3105725690930147 \t Validation loss: 0.4288485504813113 \t \n",
      "\n",
      "1 epoch without improvement\n",
      "  7%|▋         | 4018/57400 [01:02<13:29, 65.98it/s]\n",
      "Epoch 8 \t Training loss: 0.2869889175175374 \t Validation loss: 0.4376407321226799 \t \n",
      "\n",
      "2 epoch without improvement\n",
      "  8%|▊         | 4592/57400 [01:11<13:05, 67.21it/s]\n",
      "Epoch 9 \t Training loss: 0.2660040854109704 \t Validation loss: 0.4388560576964233 \t \n",
      "\n",
      "3 epoch without improvement\n",
      "  9%|▉         | 5166/57400 [01:20<12:04, 72.12it/s]\n",
      "Epoch 10 \t Training loss: 0.24362815898366091 \t Validation loss: 0.4394302999569198 \t \n",
      "\n",
      "4 epoch without improvement\n",
      " 10%|█         | 5740/57400 [01:28<11:50, 72.75it/s]\n",
      "Epoch 11 \t Training loss: 0.22019639400966493 \t Validation loss: 0.4690372852955834 \t \n",
      "\n",
      "5 epoch without improvement\n",
      " 11%|█         | 6314/57400 [01:37<12:26, 68.48it/s]\n",
      "Epoch 12 \t Training loss: 0.1959689758743974 \t Validation loss: 0.4735651996176122 \t \n",
      "\n",
      "6 epoch without improvement\n",
      " 12%|█▏        | 6888/57400 [01:47<12:40, 66.45it/s]\n",
      "Epoch 13 \t Training loss: 0.1693414949425837 \t Validation loss: 0.5171934411687366 \t \n",
      "\n",
      "7 epoch without improvement\n",
      " 13%|█▎        | 7462/57400 [01:56<12:49, 64.87it/s]\n",
      "Epoch 14 \t Training loss: 0.14518826675539648 \t Validation loss: 0.5932425593925734 \t \n",
      "\n",
      "8 epoch without improvement\n",
      " 14%|█▍        | 8036/57400 [02:05<12:33, 65.48it/s]\n",
      "Epoch 15 \t Training loss: 0.12030819857992776 \t Validation loss: 0.7045278190556219 \t \n",
      "\n",
      "9 epoch without improvement\n",
      " 15%|█▌        | 8610/57400 [02:14<11:48, 68.90it/s]\n",
      "Epoch 16 \t Training loss: 0.09830999781315958 \t Validation loss: 0.7734940365209417 \t \n",
      "\n",
      "10 epoch without improvement\n",
      "Validation_loss hasn't improve in 10 epoch. Stopping training after 16 epochs...\n"
     ]
    },
    {
     "data": {
      "image/png": "[encoded data removed]",
      "text/plain": [
       "<Figure size 640x480 with 1 Axes>"
      ]
     },
     "metadata": {},
     "output_type": "display_data"
    }
   ],
   "source": [
    "learning_rate = 0.001\n",
    "optimizer = AdamW(model.parameters(), lr=learning_rate)\n",
    "num_epochs = 100\n",
    "\n",
    "train.train_function(model,num_epochs,dl_train['about'],optimizer,early_stop=10,dl_val=dl_val['about'],save_path=save_path)"
   ]
  },
  {
   "cell_type": "code",
   "execution_count": 19,
   "metadata": {},
   "outputs": [
    {
     "name": "stdout",
     "output_type": "stream",
     "text": [
      "GLOBAL: 0.7487244897959183 \n",
      "\n",
      "Using scikit learn accuracy por género en el conjunto about\n",
      "MALE 0.7578125\n",
      "FEMALE 0.74 \n",
      "\n",
      "GLOBAL: 0.6502525252525253 \n",
      "\n",
      "Using scikit learn accuracy por género en el conjunto to\n",
      "MALE 0.6253041362530414\n",
      "FEMALE 0.6771653543307087 \n",
      "\n",
      "GLOBAL: 0.6297262059973925 \n",
      "\n",
      "Using scikit learn accuracy por género en el conjunto as\n",
      "MALE 0.5959595959595959\n",
      "FEMALE 0.6657681940700808 \n",
      "\n"
     ]
    }
   ],
   "source": [
    "model = rrnn.SingleTaskRRNNDep(emb_dim,vocab_dep,vocab_size,lstm_hidden_dim).to(device)\n",
    "model.load_state_dict(torch.load(save_path))\n",
    "\n",
    "for task in ['about','to','as']:\n",
    "    print(f\"GLOBAL: {train.eval_function_single_sk(model,dl_eval[task])}\",'\\n')\n",
    "    print(f\"Using scikit learn accuracy por género en el conjunto {task}\")\n",
    "    print(f\"MALE {train.eval_function_single_sk(model,dl_eval[task],gender='male')}\")\n",
    "    print(f\"FEMALE {train.eval_function_single_sk(model,dl_eval[task],gender='female')}\",'\\n')"
   ]
  },
  {
   "attachments": {},
   "cell_type": "markdown",
   "metadata": {},
   "source": [
    "# TO"
   ]
  },
  {
   "cell_type": "code",
   "execution_count": 20,
   "metadata": {},
   "outputs": [],
   "source": [
    "emb_dim = 20\n",
    "vocab_size = len(word_to_index)\n",
    "num_labels = 2\n",
    "lstm_hidden_dim = 128"
   ]
  },
  {
   "cell_type": "code",
   "execution_count": 21,
   "metadata": {},
   "outputs": [],
   "source": [
    "model = rrnn.SingleTaskRRNNDep(emb_dim,vocab_dep,vocab_size,lstm_hidden_dim).to(device)\n",
    "save_path='m1_rrnn_dep_to_adam2'"
   ]
  },
  {
   "cell_type": "code",
   "execution_count": 22,
   "metadata": {},
   "outputs": [
    {
     "data": {
      "application/vnd.jupyter.widget-view+json": {
       "model_id": "8c05ae54b3464ee6baf8fa54a547905a",
       "version_major": 2,
       "version_minor": 0
      },
      "text/plain": [
       "  0%|          | 0/57400 [00:00<?, ?it/s]"
      ]
     },
     "metadata": {},
     "output_type": "display_data"
    },
    {
     "name": "stdout",
     "output_type": "stream",
     "text": [
      "Epoch 1 \t Training loss: 0.6937770454102692 \t Validation loss: 0.6925030300172709 \t \n",
      "  1%|          | 574/57400 [00:09<15:12, 62.28it/s]\n",
      "Epoch 2 \t Training loss: 0.6932923003563898 \t Validation loss: 0.6923541123584166 \t \n",
      "  2%|▏         | 1148/57400 [00:18<13:39, 68.64it/s]\n",
      "Epoch 3 \t Training loss: 0.6932663953885799 \t Validation loss: 0.6948856014316365 \t \n",
      "\n",
      "1 epoch without improvement\n",
      "  3%|▎         | 1722/57400 [00:27<14:07, 65.66it/s]\n",
      "Epoch 4 \t Training loss: 0.6930657654273801 \t Validation loss: 0.693768933667975 \t \n",
      "\n",
      "2 epoch without improvement\n",
      "  4%|▍         | 2296/57400 [00:37<14:33, 63.05it/s]\n",
      "Epoch 5 \t Training loss: 0.692807674407959 \t Validation loss: 0.6936612412080927 \t \n",
      "\n",
      "3 epoch without improvement\n",
      "  5%|▌         | 2870/57400 [00:46<13:59, 64.95it/s]\n",
      "Epoch 6 \t Training loss: 0.6925084966815722 \t Validation loss: 0.694187403735468 \t \n",
      "\n",
      "4 epoch without improvement\n",
      "  6%|▌         | 3444/57400 [00:56<14:02, 64.02it/s]\n",
      "Epoch 7 \t Training loss: 0.692292914469483 \t Validation loss: 0.6927931541103428 \t \n",
      "  7%|▋         | 4018/57400 [01:05<14:23, 61.82it/s]\n",
      "Epoch 8 \t Training loss: 0.691686484248796 \t Validation loss: 0.6949193366503311 \t \n",
      "\n",
      "5 epoch without improvement\n",
      "  8%|▊         | 4592/57400 [01:15<14:27, 60.91it/s]\n",
      "Epoch 9 \t Training loss: 0.6912900246809583 \t Validation loss: 0.6937469536975279 \t \n",
      "\n",
      "6 epoch without improvement\n",
      "  9%|▉         | 5166/57400 [01:25<13:23, 64.97it/s]\n",
      "Epoch 10 \t Training loss: 0.690379100290325 \t Validation loss: 0.6951943292456159 \t \n",
      "\n",
      "7 epoch without improvement\n",
      " 10%|█         | 5740/57400 [01:35<14:06, 61.02it/s]\n",
      "Epoch 11 \t Training loss: 0.6890320784123517 \t Validation loss: 0.6975023594953246 \t \n",
      "\n",
      "8 epoch without improvement\n",
      " 11%|█         | 6314/57400 [01:45<13:10, 64.65it/s]\n",
      "Epoch 12 \t Training loss: 0.6883848118449752 \t Validation loss: 0.6967406384015488 \t \n",
      "\n",
      "9 epoch without improvement\n",
      " 12%|█▏        | 6888/57400 [01:54<13:54, 60.52it/s]\n",
      "Epoch 13 \t Training loss: 0.6870422217904067 \t Validation loss: 0.6961568432339167 \t \n",
      "\n",
      "10 epoch without improvement\n",
      "Validation_loss hasn't improve in 10 epoch. Stopping training after 13 epochs...\n"
     ]
    },
    {
     "data": {
      "image/png": "[encoded data removed]",
      "text/plain": [
       "<Figure size 640x480 with 1 Axes>"
      ]
     },
     "metadata": {},
     "output_type": "display_data"
    }
   ],
   "source": [
    "learning_rate = 0.001\n",
    "optimizer = AdamW(model.parameters(), lr=learning_rate)\n",
    "num_epochs = 100\n",
    "\n",
    "train.train_function(model,num_epochs,dl_train['to'],optimizer,early_stop=10,dl_val=dl_val['to'],save_path=save_path)"
   ]
  },
  {
   "cell_type": "code",
   "execution_count": 23,
   "metadata": {},
   "outputs": [
    {
     "name": "stdout",
     "output_type": "stream",
     "text": [
      "GLOBAL: 0.5063775510204082 \n",
      "\n",
      "Using scikit learn accuracy por género en el conjunto about\n",
      "MALE 0.036458333333333336\n",
      "FEMALE 0.9575 \n",
      "\n",
      "GLOBAL: 0.476010101010101 \n",
      "\n",
      "Using scikit learn accuracy por género en el conjunto to\n",
      "MALE 0.0267639902676399\n",
      "FEMALE 0.9606299212598425 \n",
      "\n",
      "GLOBAL: 0.4810951760104302 \n",
      "\n",
      "Using scikit learn accuracy por género en el conjunto as\n",
      "MALE 0.03535353535353535\n",
      "FEMALE 0.9568733153638814 \n",
      "\n"
     ]
    }
   ],
   "source": [
    "model = rrnn.SingleTaskRRNNDep(emb_dim,vocab_dep,vocab_size,lstm_hidden_dim).to(device)\n",
    "model.load_state_dict(torch.load(save_path))\n",
    "\n",
    "for task in ['about','to','as']:\n",
    "    print(f\"GLOBAL: {train.eval_function_single_sk(model,dl_eval[task])}\",'\\n')\n",
    "    print(f\"Using scikit learn accuracy por género en el conjunto {task}\")\n",
    "    print(f\"MALE {train.eval_function_single_sk(model,dl_eval[task],gender='male')}\")\n",
    "    print(f\"FEMALE {train.eval_function_single_sk(model,dl_eval[task],gender='female')}\",'\\n')"
   ]
  },
  {
   "attachments": {},
   "cell_type": "markdown",
   "metadata": {},
   "source": [
    "# AS"
   ]
  },
  {
   "cell_type": "code",
   "execution_count": 24,
   "metadata": {},
   "outputs": [],
   "source": [
    "model = rrnn.SingleTaskRRNNDep(emb_dim,vocab_dep,vocab_size,lstm_hidden_dim).to(device)\n",
    "save_path='m1_rrnn_dep_as_adam2'"
   ]
  },
  {
   "cell_type": "code",
   "execution_count": 25,
   "metadata": {},
   "outputs": [
    {
     "data": {
      "application/vnd.jupyter.widget-view+json": {
       "model_id": "ca680cf6e7034fbbb3a2ec90bfe6e545",
       "version_major": 2,
       "version_minor": 0
      },
      "text/plain": [
       "  0%|          | 0/57400 [00:00<?, ?it/s]"
      ]
     },
     "metadata": {},
     "output_type": "display_data"
    },
    {
     "name": "stdout",
     "output_type": "stream",
     "text": [
      "Epoch 1 \t Training loss: 0.6938842880808933 \t Validation loss: 0.6935328517929983 \t \n",
      "  1%|          | 574/57400 [00:10<15:33, 60.87it/s]\n",
      "Epoch 2 \t Training loss: 0.693089187249074 \t Validation loss: 0.6939104502483949 \t \n",
      "  2%|▏         | 1148/57400 [00:20<14:32, 64.45it/s]\n",
      "Epoch 3 \t Training loss: 0.692360914438859 \t Validation loss: 0.6928512443930416 \t \n",
      "  3%|▎         | 1722/57400 [00:29<15:17, 60.67it/s]\n",
      "Epoch 4 \t Training loss: 0.6905464847744134 \t Validation loss: 0.6922487828691127 \t \n",
      "  4%|▍         | 2296/57400 [00:39<15:19, 59.90it/s]\n",
      "Epoch 5 \t Training loss: 0.6873313423233165 \t Validation loss: 0.6965653744794554 \t \n",
      "\n",
      "1 epoch without improvement\n",
      "  5%|▌         | 2870/57400 [00:49<14:15, 63.73it/s]\n",
      "Epoch 6 \t Training loss: 0.6833286997748584 \t Validation loss: 0.697085416923135 \t \n",
      "\n",
      "2 epoch without improvement\n",
      "  6%|▌         | 3444/57400 [00:59<15:19, 58.69it/s]\n",
      "Epoch 7 \t Training loss: 0.6793509783022079 \t Validation loss: 0.6915137424307355 \t \n",
      "  7%|▋         | 4018/57400 [01:09<14:47, 60.18it/s]\n",
      "Epoch 8 \t Training loss: 0.6761932822677732 \t Validation loss: 0.6982141712964591 \t \n",
      "\n",
      "1 epoch without improvement\n",
      "  8%|▊         | 4592/57400 [01:19<14:38, 60.12it/s]\n",
      "Epoch 9 \t Training loss: 0.6729129454192384 \t Validation loss: 0.698045528541177 \t \n",
      "\n",
      "2 epoch without improvement\n",
      "  9%|▉         | 5166/57400 [01:29<14:30, 59.98it/s]\n",
      "Epoch 10 \t Training loss: 0.6701945529582193 \t Validation loss: 0.6993605545011617 \t \n",
      "\n",
      "3 epoch without improvement\n",
      " 10%|█         | 5740/57400 [01:39<14:28, 59.47it/s]\n",
      "Epoch 11 \t Training loss: 0.6678907534802001 \t Validation loss: 0.7028094530105591 \t \n",
      "\n",
      "4 epoch without improvement\n",
      " 11%|█         | 6314/57400 [01:49<14:11, 59.96it/s]\n",
      "Epoch 12 \t Training loss: 0.6639579766095723 \t Validation loss: 0.7056022953178923 \t \n",
      "\n",
      "5 epoch without improvement\n",
      " 12%|█▏        | 6888/57400 [01:59<14:00, 60.11it/s]\n",
      "Epoch 13 \t Training loss: 0.66143182709242 \t Validation loss: 0.7060117580122867 \t \n",
      "\n",
      "6 epoch without improvement\n",
      " 13%|█▎        | 7462/57400 [02:10<13:55, 59.80it/s]\n",
      "Epoch 14 \t Training loss: 0.6592613675660788 \t Validation loss: 0.7107567090099141 \t \n",
      "\n",
      "7 epoch without improvement\n",
      " 14%|█▍        | 8036/57400 [02:20<14:19, 57.43it/s]\n",
      "Epoch 15 \t Training loss: 0.6556904846575202 \t Validation loss: 0.7105849304441678 \t \n",
      "\n",
      "8 epoch without improvement\n",
      " 15%|█▌        | 8610/57400 [02:30<13:35, 59.80it/s]\n",
      "Epoch 16 \t Training loss: 0.653642176335697 \t Validation loss: 0.7052924026877193 \t \n",
      "\n",
      "9 epoch without improvement\n",
      " 16%|█▌        | 9184/57400 [02:40<13:29, 59.56it/s]\n",
      "Epoch 17 \t Training loss: 0.650316994156987 \t Validation loss: 0.7122171652519097 \t \n",
      "\n",
      "10 epoch without improvement\n",
      "Validation_loss hasn't improve in 10 epoch. Stopping training after 17 epochs...\n"
     ]
    },
    {
     "data": {
      "image/png": "[encoded data removed]",
      "text/plain": [
       "<Figure size 640x480 with 1 Axes>"
      ]
     },
     "metadata": {},
     "output_type": "display_data"
    }
   ],
   "source": [
    "learning_rate = 0.001\n",
    "optimizer = AdamW(model.parameters(), lr=learning_rate)\n",
    "num_epochs = 100\n",
    "\n",
    "train.train_function(model,num_epochs,dl_train['as'],optimizer,early_stop=10,dl_val=dl_val['as'],save_path=save_path)"
   ]
  },
  {
   "cell_type": "code",
   "execution_count": 26,
   "metadata": {},
   "outputs": [
    {
     "name": "stdout",
     "output_type": "stream",
     "text": [
      "GLOBAL: 0.48086734693877553 \n",
      "\n",
      "Using scikit learn accuracy por género en el conjunto about\n",
      "MALE 0.3567708333333333\n",
      "FEMALE 0.6 \n",
      "\n",
      "GLOBAL: 0.5151515151515151 \n",
      "\n",
      "Using scikit learn accuracy por género en el conjunto to\n",
      "MALE 0.43552311435523117\n",
      "FEMALE 0.6010498687664042 \n",
      "\n",
      "GLOBAL: 0.5814863102998696 \n",
      "\n",
      "Using scikit learn accuracy por género en el conjunto as\n",
      "MALE 0.48737373737373735\n",
      "FEMALE 0.6819407008086253 \n",
      "\n"
     ]
    }
   ],
   "source": [
    "model = rrnn.SingleTaskRRNNDep(emb_dim,vocab_dep,vocab_size,lstm_hidden_dim).to(device)\n",
    "model.load_state_dict(torch.load(save_path))\n",
    "\n",
    "for task in ['about','to','as']:\n",
    "    print(f\"GLOBAL: {train.eval_function_single_sk(model,dl_eval[task])}\",'\\n')\n",
    "    print(f\"Using scikit learn accuracy por género en el conjunto {task}\")\n",
    "    print(f\"MALE {train.eval_function_single_sk(model,dl_eval[task],gender='male')}\")\n",
    "    print(f\"FEMALE {train.eval_function_single_sk(model,dl_eval[task],gender='female')}\",'\\n')"
   ]
  }
 ],
 "metadata": {
  "kernelspec": {
   "display_name": "tfg",
   "language": "python",
   "name": "python3"
  },
  "language_info": {
   "codemirror_mode": {
    "name": "ipython",
    "version": 3
   },
   "file_extension": ".py",
   "mimetype": "text/x-python",
   "name": "python",
   "nbconvert_exporter": "python",
   "pygments_lexer": "ipython3",
   "version": "3.9.13"
  },
  "orig_nbformat": 4
 },
 "nbformat": 4,
 "nbformat_minor": 2
}
