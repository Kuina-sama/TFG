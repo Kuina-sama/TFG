{
 "cells": [
  {
   "cell_type": "code",
   "execution_count": 22,
   "metadata": {},
   "outputs": [],
   "source": [
    "import json\n",
    "import matplotlib.pyplot as plt\n",
    "from datasets import load_dataset"
   ]
  },
  {
   "attachments": {},
   "cell_type": "markdown",
   "metadata": {},
   "source": [
    "# MD_GENDER"
   ]
  },
  {
   "attachments": {},
   "cell_type": "markdown",
   "metadata": {},
   "source": [
    "Análisis de la distribución de muestras de md_gender. Lo haré desde el dataset ya preprocesado por mi (luego comprobar con el paper que coiciden los números principales)"
   ]
  },
  {
   "cell_type": "code",
   "execution_count": 2,
   "metadata": {},
   "outputs": [],
   "source": [
    "with open('Datasets\\md_gender\\md_complete.json','r',encoding=\"utf8\") as f:\n",
    "    md_data = json.load(f)"
   ]
  },
  {
   "attachments": {},
   "cell_type": "markdown",
   "metadata": {},
   "source": [
    "Primero debo separar el dataset por dimensión"
   ]
  },
  {
   "cell_type": "code",
   "execution_count": 6,
   "metadata": {},
   "outputs": [],
   "source": [
    "md_about = {text:item['label_about'] for text,item in md_data.items() if len(item['label_about']) > 0}\n",
    "md_to = {text:item['label_to'] for text,item in md_data.items() if len(item['label_to']) > 0}\n",
    "md_as = {text:item['label_as'] for text,item in md_data.items() if len(item['label_as']) > 0}"
   ]
  },
  {
   "cell_type": "code",
   "execution_count": 10,
   "metadata": {},
   "outputs": [
    {
     "name": "stdout",
     "output_type": "stream",
     "text": [
      "Número de muestras por dimensión: \n",
      "ABOUT \t784\n",
      "TO \t792\n",
      "AS \t767\n"
     ]
    }
   ],
   "source": [
    "print('Número de muestras por dimensión: ')\n",
    "print(f'ABOUT \\t{len(md_about)}')\n",
    "print(f'TO \\t{len(md_to)}')\n",
    "print(f'AS \\t{len(md_as)}')"
   ]
  },
  {
   "attachments": {},
   "cell_type": "markdown",
   "metadata": {},
   "source": [
    "En el about y en el to me sale que tengo una oración de menos. Analizo este punto individualmente para cada dimensión"
   ]
  },
  {
   "attachments": {},
   "cell_type": "markdown",
   "metadata": {},
   "source": [
    "Analizo cuantas muestras tengo por género en cada dimensión"
   ]
  },
  {
   "attachments": {},
   "cell_type": "markdown",
   "metadata": {},
   "source": [
    "### ABOUT"
   ]
  },
  {
   "cell_type": "code",
   "execution_count": 21,
   "metadata": {},
   "outputs": [
    {
     "name": "stdout",
     "output_type": "stream",
     "text": [
      "El siguiente texto tiene más de una etiqueta: \n",
      "never heard of it. where is she from?\n",
      "Sus etiquetas son ['ABOUT:female', 'ABOUT:female']\n",
      "Etiquetas male: 384\n",
      "Etiquetas female: 400\n"
     ]
    }
   ],
   "source": [
    "male = 0\n",
    "female = 0\n",
    "for text, label in md_about.items():\n",
    "    if len(label)>1:\n",
    "        print('El siguiente texto tiene más de una etiqueta: ')\n",
    "        print(text)\n",
    "        print(f\"Sus etiquetas son {label}\")\n",
    "    if label[0] == 'ABOUT:female':\n",
    "        female+=1\n",
    "    elif label[0] == 'ABOUT:male':\n",
    "        male +=1\n",
    "\n",
    "print(f'Etiquetas male: {male}')\n",
    "print(f'Etiquetas female: {female}')"
   ]
  },
  {
   "cell_type": "code",
   "execution_count": 45,
   "metadata": {},
   "outputs": [
    {
     "data": {
      "image/png": "[encoded data removed]",
      "text/plain": [
       "<Figure size 640x480 with 2 Axes>"
      ]
     },
     "metadata": {},
     "output_type": "display_data"
    }
   ],
   "source": [
    "f =plt.figure()\n",
    "\n",
    "f.add_subplot(1,2,1)\n",
    "plt.pie([male,female],labels=['male','female'])\n",
    "plt.title('About')\n",
    "f.add_subplot(1,2,2)\n",
    "plt.bar(['male','female'],[male,female])\n",
    "plt.title('About')\n",
    "plt.show()"
   ]
  },
  {
   "attachments": {},
   "cell_type": "markdown",
   "metadata": {},
   "source": [
    "Tengo que entrar en huggingface y comprobar esa muestra concreta, si trae también dos etiquetas podré asumir que esa es la que falta. En huggingface la etiqueta ABOUT:female es la 0, mientras que ABOUT:male es la 1 y class_type=0 se refiere a la dimensión about"
   ]
  },
  {
   "cell_type": "code",
   "execution_count": 34,
   "metadata": {},
   "outputs": [
    {
     "name": "stderr",
     "output_type": "stream",
     "text": [
      "Reusing dataset md_gender_bias (C:\\Users\\kuina\\.cache\\huggingface\\datasets\\md_gender_bias\\new_data\\1.0.0\\8ae77b51acf93383161cc954b146159291beca6c979b54ce228c46db86116c05)\n"
     ]
    },
    {
     "data": {
      "application/vnd.jupyter.widget-view+json": {
       "model_id": "e149d3536eab45aab1c7f862f4c0b972",
       "version_major": 2,
       "version_minor": 0
      },
      "text/plain": [
       "  0%|          | 0/1 [00:00<?, ?it/s]"
      ]
     },
     "metadata": {},
     "output_type": "display_data"
    }
   ],
   "source": [
    "md_h = load_dataset('md_gender_bias','new_data')\n",
    "md_h_train = md_h['train']"
   ]
  },
  {
   "cell_type": "code",
   "execution_count": 35,
   "metadata": {},
   "outputs": [
    {
     "name": "stdout",
     "output_type": "stream",
     "text": [
      "[0]\n",
      "{'text': 'never heard of it. where is she from?', 'original': 'Never heard of it. Where is he from?', 'labels': [0], 'class_type': 0, 'turker_gender': 0, 'episode_done': True, 'confidence': 'certain'}\n",
      "[0]\n",
      "{'text': 'never heard of it. where is she from?', 'original': 'Never heard of it. Where is he from?', 'labels': [0], 'class_type': 0, 'turker_gender': 1, 'episode_done': True, 'confidence': 'certain'}\n"
     ]
    }
   ],
   "source": [
    "for item in md_h_train:\n",
    "    if item['text'] == 'never heard of it. where is she from?':\n",
    "        print(item['labels'])\n",
    "        print(item)"
   ]
  },
  {
   "attachments": {},
   "cell_type": "markdown",
   "metadata": {},
   "source": [
    "Se puede ver que esa muestra que \"falta\" en mis datos procesados es implemente que está repetida en huggingface y por tanto tiene la misma etiqueta. La única diferencia es quien anotó la muestra, por lo demás el grado de confianza de quien anotó es la misma, por lo que puedo considerarlas iguales."
   ]
  },
  {
   "attachments": {},
   "cell_type": "markdown",
   "metadata": {},
   "source": [
    "### TO"
   ]
  },
  {
   "cell_type": "code",
   "execution_count": 51,
   "metadata": {},
   "outputs": [
    {
     "name": "stdout",
     "output_type": "stream",
     "text": [
      "El siguiente texto tiene más de una etiqueta: \n",
      "hello ma'am, how are you?\n",
      "Sus etiquetas son ['PARTNER:female', 'PARTNER:female']\n",
      "Etiquetas male: 411\n",
      "Etiquetas female: 381\n"
     ]
    }
   ],
   "source": [
    "male = 0\n",
    "female = 0\n",
    "for text, label in md_to.items():\n",
    "    if len(label)>1:\n",
    "        print('El siguiente texto tiene más de una etiqueta: ')\n",
    "        print(text)\n",
    "        print(f\"Sus etiquetas son {label}\")\n",
    "    if label[0] == 'PARTNER:female':\n",
    "        female+=1\n",
    "    elif label[0] == 'PARTNER:male':\n",
    "        male +=1\n",
    "\n",
    "print(f'Etiquetas male: {male}')\n",
    "print(f'Etiquetas female: {female}')"
   ]
  },
  {
   "cell_type": "code",
   "execution_count": 52,
   "metadata": {},
   "outputs": [
    {
     "data": {
      "image/png": "[encoded data removed]",
      "text/plain": [
       "<Figure size 640x480 with 2 Axes>"
      ]
     },
     "metadata": {},
     "output_type": "display_data"
    }
   ],
   "source": [
    "f =plt.figure()\n",
    "\n",
    "f.add_subplot(1,2,1)\n",
    "plt.pie([male,female],labels=['male','female'])\n",
    "plt.title('TO')\n",
    "f.add_subplot(1,2,2)\n",
    "plt.bar(['male','female'],[male,female])\n",
    "plt.title('TO')\n",
    "plt.show()"
   ]
  },
  {
   "attachments": {},
   "cell_type": "markdown",
   "metadata": {},
   "source": [
    "Debo hacer la misma comprobación que con el about. En huggingface la etiqueta partner:female es 2, y la dimensión de partner (to) tiene class_type 1"
   ]
  },
  {
   "cell_type": "code",
   "execution_count": 48,
   "metadata": {},
   "outputs": [
    {
     "name": "stdout",
     "output_type": "stream",
     "text": [
      "[2]\n",
      "{'text': \"hello ma'am, how are you?\", 'original': 'hello sir, how are you ', 'labels': [2], 'class_type': 1, 'turker_gender': 0, 'episode_done': True, 'confidence': 'certain'}\n",
      "[2]\n",
      "{'text': \"hello ma'am, how are you?\", 'original': 'hello madam how are you', 'labels': [2], 'class_type': 1, 'turker_gender': 0, 'episode_done': True, 'confidence': 'certain'}\n"
     ]
    }
   ],
   "source": [
    "for item in md_h_train:\n",
    "    if item['text'] == \"hello ma'am, how are you?\":\n",
    "        print(item['labels'])\n",
    "        print(item)"
   ]
  },
  {
   "attachments": {},
   "cell_type": "markdown",
   "metadata": {},
   "source": [
    "Aquí lo que cambia es como se reescribió la muestra durante el proceso de anotación. CONSULTAR"
   ]
  },
  {
   "attachments": {},
   "cell_type": "markdown",
   "metadata": {},
   "source": [
    "### AS"
   ]
  },
  {
   "cell_type": "code",
   "execution_count": 53,
   "metadata": {},
   "outputs": [
    {
     "name": "stdout",
     "output_type": "stream",
     "text": [
      "Etiquetas male: 396\n",
      "Etiquetas female: 371\n"
     ]
    }
   ],
   "source": [
    "male = 0\n",
    "female = 0\n",
    "for text, label in md_as.items():\n",
    "    if len(label)>1:\n",
    "        print('El siguiente texto tiene más de una etiqueta: ')\n",
    "        print(text)\n",
    "        print(f\"Sus etiquetas son {label}\")\n",
    "    if label[0] == 'SELF:female':\n",
    "        female+=1\n",
    "    elif label[0] == 'SELF:male':\n",
    "        male +=1\n",
    "\n",
    "print(f'Etiquetas male: {male}')\n",
    "print(f'Etiquetas female: {female}')"
   ]
  },
  {
   "cell_type": "code",
   "execution_count": 54,
   "metadata": {},
   "outputs": [
    {
     "data": {
      "image/png": "[encoded data removed]",
      "text/plain": [
       "<Figure size 640x480 with 2 Axes>"
      ]
     },
     "metadata": {},
     "output_type": "display_data"
    }
   ],
   "source": [
    "f =plt.figure()\n",
    "\n",
    "f.add_subplot(1,2,1)\n",
    "plt.pie([male,female],labels=['male','female'])\n",
    "plt.title('As')\n",
    "f.add_subplot(1,2,2)\n",
    "plt.bar(['male','female'],[male,female])\n",
    "plt.title('As')\n",
    "plt.show()"
   ]
  },
  {
   "attachments": {},
   "cell_type": "markdown",
   "metadata": {},
   "source": [
    "# Convai TRAIN"
   ]
  },
  {
   "cell_type": "code",
   "execution_count": 55,
   "metadata": {},
   "outputs": [],
   "source": [
    "with open('Datasets\\ConvAI2\\convai2_complete.json','r') as f:\n",
    "    data = json.load(f)"
   ]
  },
  {
   "cell_type": "code",
   "execution_count": 59,
   "metadata": {},
   "outputs": [],
   "source": [
    "convai_train = data['train']"
   ]
  },
  {
   "cell_type": "code",
   "execution_count": 60,
   "metadata": {},
   "outputs": [],
   "source": [
    "convai_about = {text:item['label_about'] for text,item in convai_train.items() if len(item['label_about']) > 0}\n",
    "convai_to = {text:item['label_to'] for text,item in convai_train.items() if len(item['label_to']) > 0}\n",
    "convai_as = {text:item['label_as'] for text,item in convai_train.items() if len(item['label_as']) > 0}"
   ]
  },
  {
   "cell_type": "code",
   "execution_count": 61,
   "metadata": {},
   "outputs": [
    {
     "name": "stdout",
     "output_type": "stream",
     "text": [
      "Número de muestras por dimensión: \n",
      "ABOUT \t73398\n",
      "TO \t73398\n",
      "AS \t73398\n"
     ]
    }
   ],
   "source": [
    "print('Número de muestras por dimensión: ')\n",
    "print(f'ABOUT \\t{len(convai_about)}')\n",
    "print(f'TO \\t{len(convai_to)}')\n",
    "print(f'AS \\t{len(convai_as)}')"
   ]
  },
  {
   "attachments": {},
   "cell_type": "markdown",
   "metadata": {},
   "source": [
    "Me da las mismas en todas las dimensiones (seguramente por como hice la unión entre parlai y huggingface), pero debo tener en cuenta la presencia de la etiqueta desconocido. Voy a analizar distribución por dimensión"
   ]
  },
  {
   "attachments": {},
   "cell_type": "markdown",
   "metadata": {},
   "source": [
    "### ABOUT"
   ]
  },
  {
   "cell_type": "code",
   "execution_count": 63,
   "metadata": {},
   "outputs": [
    {
     "name": "stdout",
     "output_type": "stream",
     "text": [
      "Etiquetas male: 42396\n",
      "Etiquetas female: 31002\n",
      "Etiquetas desconocidas: 0\n"
     ]
    }
   ],
   "source": [
    "male = 0\n",
    "female = 0\n",
    "unk = 0\n",
    "for text, item in convai_about.items():\n",
    "    for label in item:\n",
    "        if label == 'ABOUT:male':\n",
    "            male+=1\n",
    "        elif label == 'ABOUT:female':\n",
    "            female += 1\n",
    "        elif label == 'ABOUT:unknown':\n",
    "            unk += 1\n",
    "\n",
    "print(f'Etiquetas male: {male}')\n",
    "print(f'Etiquetas female: {female}')\n",
    "print(f'Etiquetas desconocidas: {unk}')"
   ]
  },
  {
   "cell_type": "code",
   "execution_count": 64,
   "metadata": {},
   "outputs": [
    {
     "data": {
      "image/png": "[encoded data removed]",
      "text/plain": [
       "<Figure size 640x480 with 2 Axes>"
      ]
     },
     "metadata": {},
     "output_type": "display_data"
    }
   ],
   "source": [
    "f =plt.figure()\n",
    "\n",
    "f.add_subplot(1,2,1)\n",
    "plt.pie([male,female,unk],labels=['male','female','unk'])\n",
    "plt.title('About')\n",
    "f.add_subplot(1,2,2)\n",
    "plt.bar(['male','female','unk'],[male,female,unk])\n",
    "plt.title('About')\n",
    "plt.show()"
   ]
  },
  {
   "attachments": {},
   "cell_type": "markdown",
   "metadata": {},
   "source": [
    "### TO"
   ]
  },
  {
   "attachments": {},
   "cell_type": "markdown",
   "metadata": {},
   "source": [
    "Debo tener en cuenta que aquí puede haber muestras con varias etiquetas"
   ]
  },
  {
   "cell_type": "code",
   "execution_count": 67,
   "metadata": {},
   "outputs": [
    {
     "name": "stdout",
     "output_type": "stream",
     "text": [
      "Etiquetas male: 12363\n",
      "Etiquetas female: 12750\n",
      "Etiquetas desconocidas: 48935\n"
     ]
    }
   ],
   "source": [
    "male = 0\n",
    "female = 0\n",
    "unk = 0\n",
    "for text, item in convai_to.items():\n",
    "    for label in item:\n",
    "        if label == 'PARTNER:male':\n",
    "            male+=1\n",
    "        elif label == 'PARTNER:female':\n",
    "            female += 1\n",
    "        elif label == 'PARTNER:unknown':\n",
    "            unk += 1\n",
    "\n",
    "print(f'Etiquetas male: {male}')\n",
    "print(f'Etiquetas female: {female}')\n",
    "print(f'Etiquetas desconocidas: {unk}')"
   ]
  },
  {
   "attachments": {},
   "cell_type": "markdown",
   "metadata": {},
   "source": [
    "En male y female me salen como 10.000 menos, en desconocido me salen la mitad. ¿Podría ser porque al unir huggingface con parlai me quedé con la intersección de ambos conjuntos? "
   ]
  },
  {
   "attachments": {},
   "cell_type": "markdown",
   "metadata": {},
   "source": [
    "### AS"
   ]
  },
  {
   "cell_type": "code",
   "execution_count": 72,
   "metadata": {},
   "outputs": [
    {
     "name": "stdout",
     "output_type": "stream",
     "text": [
      "Etiquetas male: 12572\n",
      "Etiquetas female: 12897\n",
      "Etiquetas desconocidas: 48566\n"
     ]
    }
   ],
   "source": [
    "male = 0\n",
    "female = 0\n",
    "unk = 0\n",
    "for text, item in convai_as.items():\n",
    "    for label in item:\n",
    "        if label == 'SELF:male':\n",
    "            male+=1\n",
    "        elif label == 'SELF:female':\n",
    "            female += 1\n",
    "        elif label == 'SELF:unknown':\n",
    "            unk += 1\n",
    "\n",
    "print(f'Etiquetas male: {male}')\n",
    "print(f'Etiquetas female: {female}')\n",
    "print(f'Etiquetas desconocidas: {unk}')"
   ]
  },
  {
   "cell_type": "markdown",
   "metadata": {},
   "source": []
  }
 ],
 "metadata": {
  "kernelspec": {
   "display_name": "tfg",
   "language": "python",
   "name": "python3"
  },
  "language_info": {
   "codemirror_mode": {
    "name": "ipython",
    "version": 3
   },
   "file_extension": ".py",
   "mimetype": "text/x-python",
   "name": "python",
   "nbconvert_exporter": "python",
   "pygments_lexer": "ipython3",
   "version": "3.9.13"
  },
  "orig_nbformat": 4
 },
 "nbformat": 4,
 "nbformat_minor": 2
}
