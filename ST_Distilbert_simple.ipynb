{
 "cells": [
  {
   "cell_type": "code",
   "execution_count": 1,
   "metadata": {},
   "outputs": [],
   "source": [
    "import numpy as np\n",
    "import torch\n",
    "\n",
    "\n",
    "import json\n",
    "from torch.utils.data import DataLoader\n",
    "from torch.optim import SGD \n",
    "from torch import nn"
   ]
  },
  {
   "cell_type": "code",
   "execution_count": 2,
   "metadata": {},
   "outputs": [],
   "source": [
    "import utils_generic as generic\n",
    "import singletask_simple as st\n",
    "import model_confs as confs"
   ]
  },
  {
   "cell_type": "code",
   "execution_count": 3,
   "metadata": {},
   "outputs": [
    {
     "data": {
      "text/plain": [
       "<torch._C.Generator at 0x14d2eba1590>"
      ]
     },
     "execution_count": 3,
     "metadata": {},
     "output_type": "execute_result"
    }
   ],
   "source": [
    "device = torch.device(\"cuda\") if torch.cuda.is_available() else torch.device(\"cpu\")\n",
    "torch.manual_seed(27)"
   ]
  },
  {
   "attachments": {},
   "cell_type": "markdown",
   "metadata": {},
   "source": [
    "# Datos ConvAI2"
   ]
  },
  {
   "cell_type": "code",
   "execution_count": 4,
   "metadata": {},
   "outputs": [],
   "source": [
    "with open('Datasets\\ConvAI2\\convai2_complete.json','r') as f:\n",
    "    data = json.load(f)"
   ]
  },
  {
   "cell_type": "code",
   "execution_count": 5,
   "metadata": {},
   "outputs": [],
   "source": [
    "convai_train = data['train']\n",
    "convai_val = data['validation']\n",
    "\n",
    "\n",
    "\n",
    "convai_train_token = generic.tokenize_dataset(convai_train,['about','to','as'],\"distilbert-base-uncased\") \n",
    "convai_val_token = generic.tokenize_dataset(convai_val,['about','to','as'],\"distilbert-base-uncased\") "
   ]
  },
  {
   "cell_type": "code",
   "execution_count": 6,
   "metadata": {},
   "outputs": [],
   "source": [
    "convai_train_dataset = {}\n",
    "for task in ['to','as','about']:\n",
    "    convai_train_dataset[task] = st.DatasetSingleTaskSimple(convai_train_token,task,eval=False)"
   ]
  },
  {
   "cell_type": "code",
   "execution_count": 7,
   "metadata": {},
   "outputs": [],
   "source": [
    "convai_val_dataset = {}\n",
    "for task in ['to','as','about']:\n",
    "    convai_val_dataset[task] = st.DatasetSingleTaskSimple(convai_val_token,task,eval=False)"
   ]
  },
  {
   "attachments": {},
   "cell_type": "markdown",
   "metadata": {},
   "source": [
    "## Datos md_gender"
   ]
  },
  {
   "cell_type": "code",
   "execution_count": 8,
   "metadata": {},
   "outputs": [],
   "source": [
    "with open('Datasets\\md_gender\\md_complete.json','r',encoding=\"utf8\") as f:\n",
    "    md_data = json.load(f)"
   ]
  },
  {
   "cell_type": "code",
   "execution_count": 9,
   "metadata": {},
   "outputs": [],
   "source": [
    "md_tokenized = generic.tokenize_dataset(md_data,['about','to','as'],\"distilbert-base-uncased\") \n",
    "\n",
    "\n",
    "md_dataset = {}\n",
    "for task in ['to','as','about']:\n",
    "    md_dataset[task] = st.DatasetSingleTaskSimple(md_tokenized,task,eval=True)"
   ]
  },
  {
   "attachments": {},
   "cell_type": "markdown",
   "metadata": {},
   "source": [
    "# Creación dataloaders"
   ]
  },
  {
   "cell_type": "code",
   "execution_count": 10,
   "metadata": {},
   "outputs": [],
   "source": [
    "dl_train = {}\n",
    "for task in ['to','as','about']:\n",
    "    dl_train[task] = DataLoader(convai_train_dataset[task],batch_size=128,shuffle=True,collate_fn=st.collate_fn)"
   ]
  },
  {
   "cell_type": "code",
   "execution_count": 11,
   "metadata": {},
   "outputs": [],
   "source": [
    "dl_val = {}\n",
    "for task in ['to','as','about']:\n",
    "    dl_val[task] = DataLoader(convai_val_dataset[task],batch_size=128,shuffle=True,collate_fn=st.collate_fn)"
   ]
  },
  {
   "cell_type": "code",
   "execution_count": 12,
   "metadata": {},
   "outputs": [],
   "source": [
    "dl_eval = {}\n",
    "for task in ['to','as','about']:\n",
    "    dl_eval[task] = DataLoader(md_dataset[task],batch_size=128,shuffle=False,collate_fn=st.collate_fn)"
   ]
  },
  {
   "attachments": {},
   "cell_type": "markdown",
   "metadata": {},
   "source": [
    "# ABOUT"
   ]
  },
  {
   "cell_type": "code",
   "execution_count": 13,
   "metadata": {},
   "outputs": [
    {
     "name": "stderr",
     "output_type": "stream",
     "text": [
      "Some weights of the model checkpoint at distilbert-base-uncased were not used when initializing DistilBertModel: ['vocab_transform.bias', 'vocab_transform.weight', 'vocab_layer_norm.weight', 'vocab_layer_norm.bias', 'vocab_projector.weight', 'vocab_projector.bias']\n",
      "- This IS expected if you are initializing DistilBertModel from the checkpoint of a model trained on another task or with another architecture (e.g. initializing a BertForSequenceClassification model from a BertForPreTraining model).\n",
      "- This IS NOT expected if you are initializing DistilBertModel from the checkpoint of a model that you expect to be exactly identical (initializing a BertForSequenceClassification model from a BertForSequenceClassification model).\n"
     ]
    }
   ],
   "source": [
    "model = st.SingleTaskSimple(confs.distilbert_conf).to(device)"
   ]
  },
  {
   "cell_type": "code",
   "execution_count": 14,
   "metadata": {},
   "outputs": [
    {
     "data": {
      "application/vnd.jupyter.widget-view+json": {
       "model_id": "943f485a0135419c911e5fb9b2f4e597",
       "version_major": 2,
       "version_minor": 0
      },
      "text/plain": [
       "  0%|          | 0/57400 [00:00<?, ?it/s]"
      ]
     },
     "metadata": {},
     "output_type": "display_data"
    },
    {
     "name": "stdout",
     "output_type": "stream",
     "text": [
      "Epoch 1 \t Training loss: 0.7203086409003893 \t Validation loss: 0.6730697609610476 \n",
      "  1%|          | 574/57400 [01:57<2:34:58,  6.11it/s]\n",
      "Epoch 2 \t Training loss: 0.6387234277218476 \t Validation loss: 0.5701241584147437 \n",
      "  2%|▏         | 1148/57400 [03:53<2:37:25,  5.96it/s]\n",
      "Epoch 3 \t Training loss: 0.49597744108907854 \t Validation loss: 0.4242690362162509 \n",
      "  3%|▎         | 1722/57400 [05:48<3:05:02,  5.01it/s]\n",
      "Epoch 4 \t Training loss: 0.40533645025321413 \t Validation loss: 0.37274685300002663 \n",
      "  4%|▍         | 2296/57400 [07:42<2:57:43,  5.17it/s]\n",
      "Epoch 5 \t Training loss: 0.3700523220963179 \t Validation loss: 0.35183492959555934 \n",
      "  5%|▌         | 2870/57400 [09:36<3:36:25,  4.20it/s]\n",
      "Epoch 6 \t Training loss: 0.3498835803272417 \t Validation loss: 0.3326016553377701 \n",
      "  6%|▌         | 3444/57400 [11:31<2:56:30,  5.09it/s]\n",
      "Epoch 7 \t Training loss: 0.33602347069189525 \t Validation loss: 0.3213327299740355 \n",
      "  7%|▋         | 4018/57400 [13:27<2:27:10,  6.05it/s]\n",
      "Epoch 8 \t Training loss: 0.32762329259608264 \t Validation loss: 0.3129177479925802 \n",
      "  8%|▊         | 4592/57400 [15:23<2:53:17,  5.08it/s]\n",
      "Epoch 9 \t Training loss: 0.3170533873893658 \t Validation loss: 0.3061248430256116 \n",
      "  9%|▉         | 5166/57400 [17:17<2:20:59,  6.17it/s]\n",
      "Epoch 10 \t Training loss: 0.31241304832364625 \t Validation loss: 0.30180471201064224 \n",
      " 10%|█         | 5740/57400 [19:11<2:43:28,  5.27it/s]\n",
      "Epoch 11 \t Training loss: 0.3057199166211517 \t Validation loss: 0.2973670520014682 \n",
      " 11%|█         | 6314/57400 [21:06<2:23:31,  5.93it/s]\n",
      "Epoch 12 \t Training loss: 0.29986690348241385 \t Validation loss: 0.29122822618080396 \n",
      " 12%|█▏        | 6888/57400 [23:00<2:18:53,  6.06it/s]\n",
      "Epoch 13 \t Training loss: 0.2956236685765745 \t Validation loss: 0.2899123925273701 \n",
      " 13%|█▎        | 7462/57400 [24:54<2:16:23,  6.10it/s]\n",
      "Epoch 14 \t Training loss: 0.2899563646898037 \t Validation loss: 0.2870223087779546 \n",
      " 14%|█▍        | 8036/57400 [26:48<2:43:49,  5.02it/s]\n",
      "Epoch 15 \t Training loss: 0.28868377460523764 \t Validation loss: 0.2837997556237851 \n",
      " 15%|█▌        | 8610/57400 [28:42<2:18:55,  5.85it/s]\n",
      "Epoch 16 \t Training loss: 0.2847215748466681 \t Validation loss: 0.28150651692333867 \n",
      " 16%|█▌        | 9184/57400 [30:37<2:14:08,  5.99it/s]\n",
      "Epoch 17 \t Training loss: 0.279083254289544 \t Validation loss: 0.2817052079964492 \n",
      " 17%|█▋        | 9758/57400 [32:31<2:14:24,  5.91it/s]\n",
      "Epoch 18 \t Training loss: 0.278387319984544 \t Validation loss: 0.2783364017130965 \n",
      " 18%|█▊        | 10332/57400 [34:25<2:37:17,  4.99it/s]\n",
      "Epoch 19 \t Training loss: 0.27482244831863595 \t Validation loss: 0.2808691871873403 \n",
      "\n",
      "1 epoch without improvement\n",
      " 19%|█▉        | 10906/57400 [36:18<2:05:42,  6.16it/s]\n",
      "Epoch 20 \t Training loss: 0.2725915937369709 \t Validation loss: 0.2763015882948698 \n",
      " 20%|██        | 11480/57400 [38:13<2:32:43,  5.01it/s]\n",
      "Epoch 21 \t Training loss: 0.2702689277274268 \t Validation loss: 0.2741126951019643 \n",
      " 21%|██        | 12054/57400 [40:07<2:31:36,  4.99it/s]\n",
      "Epoch 22 \t Training loss: 0.26847394859541585 \t Validation loss: 0.2717382834624436 \n",
      " 22%|██▏       | 12628/57400 [42:01<2:03:43,  6.03it/s]\n",
      "Epoch 23 \t Training loss: 0.26575328505724566 \t Validation loss: 0.27250981583433637 \n",
      " 23%|██▎       | 13202/57400 [43:54<2:31:16,  4.87it/s]\n",
      "Epoch 24 \t Training loss: 0.2609215295688616 \t Validation loss: 0.26955167368306954 \n",
      " 24%|██▍       | 13776/57400 [45:49<1:58:13,  6.15it/s]\n",
      "Epoch 25 \t Training loss: 0.26042686911617835 \t Validation loss: 0.2718202259580968 \n",
      "\n",
      "1 epoch without improvement\n",
      " 25%|██▌       | 14350/57400 [47:43<2:20:46,  5.10it/s]\n",
      "Epoch 26 \t Training loss: 0.2597637944676319 \t Validation loss: 0.27358381248126595 \n",
      "\n",
      "2 epoch without improvement\n",
      " 26%|██▌       | 14924/57400 [49:37<2:19:47,  5.06it/s]\n",
      "Epoch 27 \t Training loss: 0.25568333618628436 \t Validation loss: 0.26899369566117304 \n",
      " 27%|██▋       | 15498/57400 [51:31<2:16:37,  5.11it/s]\n",
      "Epoch 28 \t Training loss: 0.2538118863848236 \t Validation loss: 0.2669591320268178 \n",
      " 28%|██▊       | 16072/57400 [53:25<1:52:25,  6.13it/s]\n",
      "Epoch 29 \t Training loss: 0.25330554893830926 \t Validation loss: 0.2668633503934084 \n",
      " 29%|██▉       | 16646/57400 [55:19<2:12:06,  5.14it/s]\n",
      "Epoch 30 \t Training loss: 0.2511075761831181 \t Validation loss: 0.26606174545773004 \n",
      " 30%|███       | 17220/57400 [57:14<1:55:00,  5.82it/s]\n",
      "Epoch 31 \t Training loss: 0.24978104825634576 \t Validation loss: 0.2645683859364461 \n",
      " 31%|███       | 17794/57400 [59:08<1:48:13,  6.10it/s]\n",
      "Epoch 32 \t Training loss: 0.24791522024244797 \t Validation loss: 0.263382557590129 \n",
      " 32%|███▏      | 18368/57400 [1:01:02<1:44:42,  6.21it/s]\n",
      "Epoch 33 \t Training loss: 0.24565817397542117 \t Validation loss: 0.2634219792434725 \n",
      " 33%|███▎      | 18942/57400 [1:02:56<1:43:12,  6.21it/s]\n",
      "Epoch 34 \t Training loss: 0.24626788868202149 \t Validation loss: 0.2625225327782712 \n",
      " 34%|███▍      | 19516/57400 [1:04:51<1:47:29,  5.87it/s]\n",
      "Epoch 35 \t Training loss: 0.24410523714348414 \t Validation loss: 0.262500085820586 \n",
      " 35%|███▌      | 20090/57400 [1:06:47<1:52:43,  5.52it/s]\n",
      "Epoch 36 \t Training loss: 0.24133150123760674 \t Validation loss: 0.2624280313819142 \n",
      " 36%|███▌      | 20664/57400 [1:08:43<1:59:28,  5.12it/s]\n",
      "Epoch 37 \t Training loss: 0.24186502486623124 \t Validation loss: 0.2614162051576679 \n",
      " 37%|███▋      | 21238/57400 [1:10:36<1:40:55,  5.97it/s]\n",
      "Epoch 38 \t Training loss: 0.24025380001354715 \t Validation loss: 0.2647562585139679 \n",
      "\n",
      "1 epoch without improvement\n",
      " 38%|███▊      | 21812/57400 [1:12:30<1:58:20,  5.01it/s]\n",
      "Epoch 39 \t Training loss: 0.23754776064111796 \t Validation loss: 0.2625948301816391 \n",
      "\n",
      "2 epoch without improvement\n",
      " 39%|███▉      | 22386/57400 [1:14:26<1:55:24,  5.06it/s]\n",
      "Epoch 40 \t Training loss: 0.23590219860656336 \t Validation loss: 0.26143875314017473 \n",
      " 40%|████      | 22960/57400 [1:16:20<1:51:48,  5.13it/s]\n",
      "Epoch 41 \t Training loss: 0.2337974212959876 \t Validation loss: 0.2627844451847723 \n",
      "\n",
      "3 epoch without improvement\n",
      " 41%|████      | 23534/57400 [1:18:13<1:51:53,  5.04it/s]\n",
      "Epoch 42 \t Training loss: 0.23332657735106838 \t Validation loss: 0.26020719565577427 \n",
      " 42%|████▏     | 24108/57400 [1:20:07<1:29:39,  6.19it/s]\n",
      "Epoch 43 \t Training loss: 0.23210345392962367 \t Validation loss: 0.2618478986166291 \n",
      "\n",
      "1 epoch without improvement\n",
      " 43%|████▎     | 24682/57400 [1:22:03<1:50:16,  4.95it/s]\n",
      "Epoch 44 \t Training loss: 0.23214401704509083 \t Validation loss: 0.26150717169551524 \n",
      "\n",
      "2 epoch without improvement\n",
      " 44%|████▍     | 25256/57400 [1:23:59<1:45:55,  5.06it/s]\n",
      "Epoch 45 \t Training loss: 0.22906453527172682 \t Validation loss: 0.2600077635655969 \n",
      " 45%|████▌     | 25830/57400 [1:25:56<1:50:11,  4.77it/s]\n",
      "Epoch 46 \t Training loss: 0.22899647671015422 \t Validation loss: 0.260671186750218 \n",
      " 46%|████▌     | 26404/57400 [1:27:52<1:44:31,  4.94it/s]\n",
      "Epoch 47 \t Training loss: 0.22790200356718554 \t Validation loss: 0.25886802552110055 \n",
      " 47%|████▋     | 26978/57400 [1:29:48<1:22:22,  6.15it/s]\n",
      "Epoch 48 \t Training loss: 0.22734643983612493 \t Validation loss: 0.2592574908571728 \n",
      " 48%|████▊     | 27552/57400 [1:31:44<1:37:19,  5.11it/s]\n",
      "Epoch 49 \t Training loss: 0.22742386863206737 \t Validation loss: 0.25896595216403573 \n",
      " 49%|████▉     | 28126/57400 [1:33:39<1:20:14,  6.08it/s]\n",
      "Epoch 50 \t Training loss: 0.22557454258982312 \t Validation loss: 0.25818592890844505 \n",
      " 50%|█████     | 28700/57400 [1:35:32<1:17:07,  6.20it/s]\n",
      "Epoch 51 \t Training loss: 0.22468173982841627 \t Validation loss: 0.25884739650508104 \n",
      " 51%|█████     | 29274/57400 [1:37:27<1:36:16,  4.87it/s]\n",
      "Epoch 52 \t Training loss: 0.22507814499663142 \t Validation loss: 0.26020872251967253 \n",
      "\n",
      "1 epoch without improvement\n",
      " 52%|█████▏    | 29848/57400 [1:39:23<1:16:11,  6.03it/s]\n",
      "Epoch 53 \t Training loss: 0.22247901043565846 \t Validation loss: 0.2581599594677909 \n",
      " 53%|█████▎    | 30422/57400 [1:41:19<1:30:09,  4.99it/s]\n",
      "Epoch 54 \t Training loss: 0.22217363555256914 \t Validation loss: 0.2596458022372197 \n",
      "\n",
      "1 epoch without improvement\n",
      " 54%|█████▍    | 30996/57400 [1:43:14<1:10:25,  6.25it/s]\n",
      "Epoch 55 \t Training loss: 0.2228829261914986 \t Validation loss: 0.25728574319411135 \n",
      " 55%|█████▌    | 31570/57400 [1:45:08<1:14:36,  5.77it/s]\n",
      "Epoch 56 \t Training loss: 0.22108448600519826 \t Validation loss: 0.2583607498366954 \n",
      "\n",
      "1 epoch without improvement\n",
      " 56%|█████▌    | 32144/57400 [1:47:02<1:21:02,  5.19it/s]\n",
      "Epoch 57 \t Training loss: 0.21978177951863004 \t Validation loss: 0.2615225557553566 \n",
      "\n",
      "2 epoch without improvement\n",
      " 57%|█████▋    | 32718/57400 [1:48:56<1:09:47,  5.89it/s]\n",
      "Epoch 58 \t Training loss: 0.21772691600985228 \t Validation loss: 0.258911258840965 \n",
      "\n",
      "3 epoch without improvement\n",
      " 58%|█████▊    | 33292/57400 [1:50:51<1:26:59,  4.62it/s]\n",
      "Epoch 59 \t Training loss: 0.21937565582087232 \t Validation loss: 0.25918725309735635 \n",
      "\n",
      "4 epoch without improvement\n",
      " 59%|█████▉    | 33866/57400 [1:52:44<1:15:23,  5.20it/s]\n",
      "Epoch 60 \t Training loss: 0.21674242784441142 \t Validation loss: 0.2569006385944657 \n",
      " 60%|██████    | 34440/57400 [1:54:39<1:21:58,  4.67it/s]\n",
      "Epoch 61 \t Training loss: 0.21692567564001897 \t Validation loss: 0.25845913134389004 \n",
      "\n",
      "1 epoch without improvement\n",
      " 61%|██████    | 35014/57400 [1:56:35<1:18:58,  4.72it/s]\n",
      "Epoch 62 \t Training loss: 0.21565109483560202 \t Validation loss: 0.25815544290057685 \n",
      "\n",
      "2 epoch without improvement\n",
      " 62%|██████▏   | 35588/57400 [1:58:31<1:13:02,  4.98it/s]\n",
      "Epoch 63 \t Training loss: 0.21456647869394216 \t Validation loss: 0.25728218232171013 \n",
      " 63%|██████▎   | 36162/57400 [2:00:26<59:13,  5.98it/s]\n",
      "Epoch 64 \t Training loss: 0.21477525531986033 \t Validation loss: 0.2580492471234273 \n",
      "\n",
      "3 epoch without improvement\n",
      " 64%|██████▍   | 36736/57400 [2:02:19<1:05:38,  5.25it/s]\n",
      "Epoch 65 \t Training loss: 0.21166686682543273 \t Validation loss: 0.2585643848120156 \n",
      "\n",
      "4 epoch without improvement\n",
      " 65%|██████▌   | 37310/57400 [2:04:13<56:39,  5.91it/s]\n",
      "Epoch 66 \t Training loss: 0.21286355550903893 \t Validation loss: 0.25986007714675646 \n",
      "\n",
      "5 epoch without improvement\n",
      " 66%|██████▌   | 37884/57400 [2:06:09<55:16,  5.88it/s]\n",
      "Epoch 67 \t Training loss: 0.21346144541734602 \t Validation loss: 0.25749350957951306 \n",
      " 67%|██████▋   | 38458/57400 [2:08:03<51:02,  6.19it/s]\n",
      "Epoch 68 \t Training loss: 0.21089855552965756 \t Validation loss: 0.25747861927848753 \n",
      " 68%|██████▊   | 39032/57400 [2:09:57<1:04:48,  4.72it/s]\n",
      "Epoch 69 \t Training loss: 0.21154681455590585 \t Validation loss: 0.2588225105556391 \n",
      "\n",
      "6 epoch without improvement\n",
      " 69%|██████▉   | 39606/57400 [2:11:50<1:00:35,  4.89it/s]\n",
      "Epoch 70 \t Training loss: 0.20784303312309943 \t Validation loss: 0.25825026201999796 \n",
      "\n",
      "7 epoch without improvement\n",
      " 70%|███████   | 40180/57400 [2:13:45<48:33,  5.91it/s]\n",
      "Epoch 71 \t Training loss: 0.21047166573980544 \t Validation loss: 0.2581479958558487 \n",
      "\n",
      "8 epoch without improvement\n",
      " 71%|███████   | 40754/57400 [2:15:41<47:35,  5.83it/s]\n",
      "Epoch 72 \t Training loss: 0.20981701907380532 \t Validation loss: 0.2595237932972989 \n",
      "\n",
      "9 epoch without improvement\n",
      " 72%|███████▏  | 41328/57400 [2:17:36<53:56,  4.97it/s]\n",
      "Epoch 73 \t Training loss: 0.20755461752674306 \t Validation loss: 0.25841767075708355 \n",
      "\n",
      "10 epoch without improvement\n",
      "Validation_loss hasn't improve in 10 epoch. Stopping training after 73 epochs...\n"
     ]
    },
    {
     "data": {
      "image/png": "[encoded data removed]",
      "text/plain": [
       "<Figure size 640x480 with 1 Axes>"
      ]
     },
     "metadata": {},
     "output_type": "display_data"
    }
   ],
   "source": [
    "learning_rate = 5e-5\n",
    "optimizer = SGD(model.parameters(), lr=learning_rate, momentum=0.9)\n",
    "num_epochs = 100\n",
    "\n",
    "st.train_function_early_stop(model,num_epochs,dl_train['about'],optimizer,early_stop=10,dl_val=dl_val['about'],save_path='m1_distilbert_simple_ABOUT_best')"
   ]
  },
  {
   "attachments": {},
   "cell_type": "markdown",
   "metadata": {},
   "source": [
    "# TO"
   ]
  },
  {
   "cell_type": "code",
   "execution_count": 15,
   "metadata": {},
   "outputs": [
    {
     "name": "stderr",
     "output_type": "stream",
     "text": [
      "Some weights of the model checkpoint at distilbert-base-uncased were not used when initializing DistilBertModel: ['vocab_transform.bias', 'vocab_transform.weight', 'vocab_layer_norm.weight', 'vocab_layer_norm.bias', 'vocab_projector.weight', 'vocab_projector.bias']\n",
      "- This IS expected if you are initializing DistilBertModel from the checkpoint of a model trained on another task or with another architecture (e.g. initializing a BertForSequenceClassification model from a BertForPreTraining model).\n",
      "- This IS NOT expected if you are initializing DistilBertModel from the checkpoint of a model that you expect to be exactly identical (initializing a BertForSequenceClassification model from a BertForSequenceClassification model).\n"
     ]
    }
   ],
   "source": [
    "model = st.SingleTaskSimple(confs.distilbert_conf).to(device)"
   ]
  },
  {
   "cell_type": "code",
   "execution_count": 16,
   "metadata": {},
   "outputs": [
    {
     "data": {
      "application/vnd.jupyter.widget-view+json": {
       "model_id": "2e7ed52497824514baeaf0e42372469b",
       "version_major": 2,
       "version_minor": 0
      },
      "text/plain": [
       "  0%|          | 0/57400 [00:00<?, ?it/s]"
      ]
     },
     "metadata": {},
     "output_type": "display_data"
    },
    {
     "name": "stdout",
     "output_type": "stream",
     "text": [
      "Epoch 1 \t Training loss: 0.7581102906203852 \t Validation loss: 0.7034161666692313 \n",
      "  1%|          | 574/57400 [01:54<2:36:22,  6.06it/s]\n",
      "Epoch 2 \t Training loss: 0.7048714131843753 \t Validation loss: 0.6964034690695294 \n",
      "  2%|▏         | 1148/57400 [03:46<3:05:05,  5.07it/s]\n",
      "Epoch 3 \t Training loss: 0.7010612649784687 \t Validation loss: 0.6944824588500847 \n",
      "  3%|▎         | 1722/57400 [05:40<2:38:05,  5.87it/s]\n",
      "Epoch 4 \t Training loss: 0.6996747016491375 \t Validation loss: 0.6946983296992415 \n",
      "  4%|▍         | 2296/57400 [07:33<3:08:06,  4.88it/s]\n",
      "Epoch 5 \t Training loss: 0.698621836481194 \t Validation loss: 0.6935090776217185 \n",
      "  5%|▌         | 2870/57400 [09:27<2:29:25,  6.08it/s]\n",
      "Epoch 6 \t Training loss: 0.6977685088687657 \t Validation loss: 0.695036353701252 \n",
      "\n",
      "1 epoch without improvement\n",
      "  6%|▌         | 3444/57400 [11:20<3:04:51,  4.86it/s]\n",
      "Epoch 7 \t Training loss: 0.6978648293516777 \t Validation loss: 0.6948442418696517 \n",
      "\n",
      "2 epoch without improvement\n",
      "  7%|▋         | 4018/57400 [13:13<2:23:50,  6.19it/s]\n",
      "Epoch 8 \t Training loss: 0.696694676469012 \t Validation loss: 0.6932125869443861 \n",
      "  8%|▊         | 4592/57400 [15:06<2:22:25,  6.18it/s]\n",
      "Epoch 9 \t Training loss: 0.6974813918411109 \t Validation loss: 0.6944029058440256 \n",
      "\n",
      "1 epoch without improvement\n",
      "  9%|▉         | 5166/57400 [16:58<2:22:25,  6.11it/s]\n",
      "Epoch 10 \t Training loss: 0.696782215650904 \t Validation loss: 0.6932624174376666 \n",
      " 10%|█         | 5740/57400 [18:52<2:55:31,  4.91it/s]\n",
      "Epoch 11 \t Training loss: 0.6962255491819946 \t Validation loss: 0.6940796213634943 \n",
      " 11%|█         | 6314/57400 [20:45<2:20:24,  6.06it/s]\n",
      "Epoch 12 \t Training loss: 0.6963772997000491 \t Validation loss: 0.692351207894794 \n",
      " 12%|█▏        | 6888/57400 [22:38<2:16:44,  6.16it/s]\n",
      "Epoch 13 \t Training loss: 0.6960134651602768 \t Validation loss: 0.6941468705565242 \n",
      "\n",
      "1 epoch without improvement\n",
      " 13%|█▎        | 7462/57400 [24:30<2:16:35,  6.09it/s]\n",
      "Epoch 14 \t Training loss: 0.6957129899425374 \t Validation loss: 0.6934264928607617 \n",
      "\n",
      "2 epoch without improvement\n",
      " 14%|█▍        | 8036/57400 [26:24<2:15:50,  6.06it/s]\n",
      "Epoch 15 \t Training loss: 0.695667691762439 \t Validation loss: 0.6933536499233569 \n",
      "\n",
      "3 epoch without improvement\n",
      " 15%|█▌        | 8610/57400 [28:18<2:12:03,  6.16it/s]\n",
      "Epoch 16 \t Training loss: 0.6957264731569988 \t Validation loss: 0.6938111600229295 \n",
      "\n",
      "4 epoch without improvement\n",
      " 16%|█▌        | 9184/57400 [30:10<2:14:18,  5.98it/s]\n",
      "Epoch 17 \t Training loss: 0.6955865704639448 \t Validation loss: 0.6922378883523456 \n",
      " 17%|█▋        | 9758/57400 [32:03<2:32:12,  5.22it/s]\n",
      "Epoch 18 \t Training loss: 0.6955615684961193 \t Validation loss: 0.6950509740134417 \n",
      "\n",
      "1 epoch without improvement\n",
      " 18%|█▊        | 10332/57400 [33:56<2:30:25,  5.22it/s]\n",
      "Epoch 19 \t Training loss: 0.6950579993816203 \t Validation loss: 0.6926432373160023 \n",
      " 19%|█▉        | 10906/57400 [35:49<2:35:19,  4.99it/s]\n",
      "Epoch 20 \t Training loss: 0.6954448545020632 \t Validation loss: 0.693953938403372 \n",
      "\n",
      "2 epoch without improvement\n",
      " 20%|██        | 11480/57400 [37:42<2:02:58,  6.22it/s]\n",
      "Epoch 21 \t Training loss: 0.6950474441674528 \t Validation loss: 0.6931468369597096 \n",
      " 21%|██        | 12054/57400 [39:35<2:06:11,  5.99it/s]\n",
      "Epoch 22 \t Training loss: 0.6954182890026411 \t Validation loss: 0.6931691816297628 \n",
      " 22%|██▏       | 12628/57400 [41:27<2:32:13,  4.90it/s]\n",
      "Epoch 23 \t Training loss: 0.6951987108910125 \t Validation loss: 0.6930789775767568 \n",
      " 23%|██▎       | 13202/57400 [43:21<2:24:16,  5.11it/s]\n",
      "Epoch 24 \t Training loss: 0.6952363678387233 \t Validation loss: 0.6937495419534586 \n",
      "\n",
      "3 epoch without improvement\n",
      " 24%|██▍       | 13776/57400 [45:15<1:58:01,  6.16it/s]\n",
      "Epoch 25 \t Training loss: 0.6951123810395962 \t Validation loss: 0.6930232280391758 \n",
      " 25%|██▌       | 14350/57400 [47:07<1:53:33,  6.32it/s]\n",
      "Epoch 26 \t Training loss: 0.6947523797846007 \t Validation loss: 0.693103220503209 \n",
      " 26%|██▌       | 14924/57400 [49:00<2:27:32,  4.80it/s]\n",
      "Epoch 27 \t Training loss: 0.69464731257967 \t Validation loss: 0.6930662141007892 \n",
      " 27%|██▋       | 15498/57400 [50:52<2:37:40,  4.43it/s]\n",
      "Epoch 28 \t Training loss: 0.6949188368661063 \t Validation loss: 0.6930061629263021 \n",
      " 28%|██▊       | 16072/57400 [52:46<2:25:03,  4.75it/s]\n",
      "Epoch 29 \t Training loss: 0.6947585729564109 \t Validation loss: 0.693974270658978 \n",
      "\n",
      "4 epoch without improvement\n",
      " 29%|██▉       | 16646/57400 [54:39<2:30:11,  4.52it/s]\n",
      "Epoch 30 \t Training loss: 0.6949227581040784 \t Validation loss: 0.6945063067694842 \n",
      "\n",
      "5 epoch without improvement\n",
      " 30%|███       | 17220/57400 [56:31<2:17:55,  4.86it/s]\n",
      "Epoch 31 \t Training loss: 0.694699909836573 \t Validation loss: 0.6941348970946619 \n",
      "\n",
      "6 epoch without improvement\n",
      " 31%|███       | 17794/57400 [58:24<1:48:21,  6.09it/s]\n",
      "Epoch 32 \t Training loss: 0.6944958644461549 \t Validation loss: 0.6927992257021242 \n",
      " 32%|███▏      | 18368/57400 [1:00:18<1:46:21,  6.12it/s]\n",
      "Epoch 33 \t Training loss: 0.6946554472637508 \t Validation loss: 0.6936619887917729 \n",
      "\n",
      "7 epoch without improvement\n",
      " 33%|███▎      | 18942/57400 [1:02:11<2:17:45,  4.65it/s]\n",
      "Epoch 34 \t Training loss: 0.6945507237720158 \t Validation loss: 0.693785851284609 \n",
      "\n",
      "8 epoch without improvement\n",
      " 34%|███▍      | 19516/57400 [1:04:04<2:09:31,  4.87it/s]\n",
      "Epoch 35 \t Training loss: 0.6946207672253718 \t Validation loss: 0.6933841624502408 \n",
      "\n",
      "9 epoch without improvement\n",
      " 35%|███▌      | 20090/57400 [1:05:57<1:41:43,  6.11it/s]\n",
      "Epoch 36 \t Training loss: 0.6943981875941313 \t Validation loss: 0.6944422691555346 \n",
      "\n",
      "10 epoch without improvement\n",
      "Validation_loss hasn't improve in 10 epoch. Stopping training after 36 epochs...\n"
     ]
    },
    {
     "data": {
      "image/png": "[encoded data removed]",
      "text/plain": [
       "<Figure size 640x480 with 1 Axes>"
      ]
     },
     "metadata": {},
     "output_type": "display_data"
    }
   ],
   "source": [
    "learning_rate = 5e-5\n",
    "optimizer = SGD(model.parameters(), lr=learning_rate, momentum=0.9)\n",
    "num_epochs = 100\n",
    "\n",
    "st.train_function_early_stop(model,num_epochs,dl_train['to'],optimizer,early_stop=10,dl_val=dl_val['to'],save_path='m1_distilbert_simple_TO_best')"
   ]
  },
  {
   "attachments": {},
   "cell_type": "markdown",
   "metadata": {},
   "source": [
    "# AS"
   ]
  },
  {
   "cell_type": "code",
   "execution_count": 17,
   "metadata": {},
   "outputs": [
    {
     "name": "stderr",
     "output_type": "stream",
     "text": [
      "Some weights of the model checkpoint at distilbert-base-uncased were not used when initializing DistilBertModel: ['vocab_transform.bias', 'vocab_transform.weight', 'vocab_layer_norm.weight', 'vocab_layer_norm.bias', 'vocab_projector.weight', 'vocab_projector.bias']\n",
      "- This IS expected if you are initializing DistilBertModel from the checkpoint of a model trained on another task or with another architecture (e.g. initializing a BertForSequenceClassification model from a BertForPreTraining model).\n",
      "- This IS NOT expected if you are initializing DistilBertModel from the checkpoint of a model that you expect to be exactly identical (initializing a BertForSequenceClassification model from a BertForSequenceClassification model).\n"
     ]
    }
   ],
   "source": [
    "model = st.SingleTaskSimple(confs.distilbert_conf).to(device)"
   ]
  },
  {
   "cell_type": "code",
   "execution_count": 18,
   "metadata": {},
   "outputs": [
    {
     "data": {
      "application/vnd.jupyter.widget-view+json": {
       "model_id": "ab51187b8a1a4e068912bb22f27065e6",
       "version_major": 2,
       "version_minor": 0
      },
      "text/plain": [
       "  0%|          | 0/57400 [00:00<?, ?it/s]"
      ]
     },
     "metadata": {},
     "output_type": "display_data"
    },
    {
     "name": "stdout",
     "output_type": "stream",
     "text": [
      "Epoch 1 \t Training loss: 0.7475430695437388 \t Validation loss: 0.7024668758198366 \n",
      "  1%|          | 574/57400 [01:53<3:08:21,  5.03it/s]\n",
      "Epoch 2 \t Training loss: 0.703012781068423 \t Validation loss: 0.695638993028867 \n",
      "  2%|▏         | 1148/57400 [03:46<3:09:00,  4.96it/s]\n",
      "Epoch 3 \t Training loss: 0.7005558344129902 \t Validation loss: 0.6948552071037939 \n",
      "  3%|▎         | 1722/57400 [05:40<3:00:03,  5.15it/s]\n",
      "Epoch 4 \t Training loss: 0.698376042502267 \t Validation loss: 0.6950489060353424 \n",
      "  4%|▍         | 2296/57400 [07:32<2:24:53,  6.34it/s]\n",
      "Epoch 5 \t Training loss: 0.6974357130843173 \t Validation loss: 0.6956399062932548 \n",
      "  5%|▌         | 2870/57400 [09:26<2:24:27,  6.29it/s]\n",
      "Epoch 6 \t Training loss: 0.6963600121724065 \t Validation loss: 0.6959948044712261 \n",
      "\n",
      "1 epoch without improvement\n",
      "  6%|▌         | 3444/57400 [11:20<2:52:27,  5.21it/s]\n",
      "Epoch 7 \t Training loss: 0.6958500275628492 \t Validation loss: 0.6940077937255471 \n",
      "  7%|▋         | 4018/57400 [13:13<2:23:27,  6.20it/s]\n",
      "Epoch 8 \t Training loss: 0.6959709513685844 \t Validation loss: 0.6944339719869322 \n",
      "  8%|▊         | 4592/57400 [15:06<2:52:19,  5.11it/s]\n",
      "Epoch 9 \t Training loss: 0.6950712154135886 \t Validation loss: 0.6928235807661283 \n",
      "  9%|▉         | 5166/57400 [16:59<2:54:38,  4.98it/s]\n",
      "Epoch 10 \t Training loss: 0.6947792428918832 \t Validation loss: 0.6911362833895925 \n",
      " 10%|█         | 5740/57400 [18:52<2:49:14,  5.09it/s]\n",
      "Epoch 11 \t Training loss: 0.6948493631874643 \t Validation loss: 0.6926761643361237 \n",
      "\n",
      "1 epoch without improvement\n",
      " 11%|█         | 6314/57400 [20:46<2:20:30,  6.06it/s]\n",
      "Epoch 12 \t Training loss: 0.6944226834416805 \t Validation loss: 0.6920132758253712 \n",
      " 12%|█▏        | 6888/57400 [22:38<2:53:47,  4.84it/s]\n",
      "Epoch 13 \t Training loss: 0.6940247250350926 \t Validation loss: 0.6919095597024691 \n",
      " 13%|█▎        | 7462/57400 [24:31<2:16:51,  6.08it/s]\n",
      "Epoch 14 \t Training loss: 0.6939656342986569 \t Validation loss: 0.6919282361612482 \n",
      " 14%|█▍        | 8036/57400 [26:24<2:13:35,  6.16it/s]\n",
      "Epoch 15 \t Training loss: 0.6931390498573357 \t Validation loss: 0.6922155174158388 \n",
      "\n",
      "2 epoch without improvement\n",
      " 15%|█▌        | 8610/57400 [28:18<2:39:52,  5.09it/s]\n",
      "Epoch 16 \t Training loss: 0.6935688985141728 \t Validation loss: 0.691228813033993 \n",
      " 16%|█▌        | 9184/57400 [30:11<2:07:30,  6.30it/s]\n",
      "Epoch 17 \t Training loss: 0.6926436888423946 \t Validation loss: 0.692774884781595 \n",
      "\n",
      "3 epoch without improvement\n",
      " 17%|█▋        | 9758/57400 [32:04<2:29:01,  5.33it/s]\n",
      "Epoch 18 \t Training loss: 0.6930486199540128 \t Validation loss: 0.6911688578330865 \n",
      " 18%|█▊        | 10332/57400 [33:57<2:04:52,  6.28it/s]\n",
      "Epoch 19 \t Training loss: 0.6922014881094158 \t Validation loss: 0.6904033553802361 \n",
      " 19%|█▉        | 10906/57400 [35:50<2:04:19,  6.23it/s]\n",
      "Epoch 20 \t Training loss: 0.6929948155472918 \t Validation loss: 0.691031459024397 \n",
      " 20%|██        | 11480/57400 [37:44<2:35:00,  4.94it/s]\n",
      "Epoch 21 \t Training loss: 0.6918245692078661 \t Validation loss: 0.691285243478872 \n",
      " 21%|██        | 12054/57400 [39:37<2:25:03,  5.21it/s]\n",
      "Epoch 22 \t Training loss: 0.6922512190474865 \t Validation loss: 0.6913048816939532 \n",
      " 22%|██▏       | 12628/57400 [41:29<2:30:24,  4.96it/s]\n",
      "Epoch 23 \t Training loss: 0.6914286304018639 \t Validation loss: 0.6916342357457694 \n",
      "\n",
      "1 epoch without improvement\n",
      " 23%|██▎       | 13202/57400 [43:23<2:20:41,  5.24it/s]\n",
      "Epoch 24 \t Training loss: 0.6913317299678351 \t Validation loss: 0.6914068369542138 \n",
      "\n",
      "2 epoch without improvement\n",
      " 24%|██▍       | 13776/57400 [45:19<2:30:37,  4.83it/s]\n",
      "Epoch 25 \t Training loss: 0.6912139939721869 \t Validation loss: 0.6942834237874564 \n",
      "\n",
      "3 epoch without improvement\n",
      " 25%|██▌       | 14350/57400 [47:13<2:18:56,  5.16it/s]\n",
      "Epoch 26 \t Training loss: 0.6910587673818608 \t Validation loss: 0.691428317862042 \n",
      "\n",
      "4 epoch without improvement\n",
      " 26%|██▌       | 14924/57400 [49:05<1:59:23,  5.93it/s]\n",
      "Epoch 27 \t Training loss: 0.6904624930034531 \t Validation loss: 0.6909457000635438 \n",
      " 27%|██▋       | 15498/57400 [50:58<1:53:05,  6.17it/s]\n",
      "Epoch 28 \t Training loss: 0.6906152788147278 \t Validation loss: 0.6904612789719792 \n",
      " 28%|██▊       | 16072/57400 [52:51<2:15:36,  5.08it/s]\n",
      "Epoch 29 \t Training loss: 0.6903003607892824 \t Validation loss: 0.6909092391951609 \n",
      " 29%|██▉       | 16646/57400 [54:45<2:10:33,  5.20it/s]\n",
      "Epoch 30 \t Training loss: 0.6906814050799047 \t Validation loss: 0.6906329797486127 \n",
      " 30%|███       | 17220/57400 [56:38<2:14:56,  4.96it/s]\n",
      "Epoch 31 \t Training loss: 0.6905402184986487 \t Validation loss: 0.6921729081768101 \n",
      "\n",
      "5 epoch without improvement\n",
      " 31%|███       | 17794/57400 [58:31<1:54:05,  5.79it/s]\n",
      "Epoch 32 \t Training loss: 0.6909306509361866 \t Validation loss: 0.6917565545793307 \n",
      "\n",
      "6 epoch without improvement\n",
      " 32%|███▏      | 18368/57400 [1:00:24<2:08:52,  5.05it/s]\n",
      "Epoch 33 \t Training loss: 0.6901354668240098 \t Validation loss: 0.6917587468179606 \n",
      "\n",
      "7 epoch without improvement\n",
      " 33%|███▎      | 18942/57400 [1:02:18<2:09:40,  4.94it/s]\n",
      "Epoch 34 \t Training loss: 0.6892315160729744 \t Validation loss: 0.6908453187700045 \n",
      " 34%|███▍      | 19516/57400 [1:04:11<2:10:59,  4.82it/s]\n",
      "Epoch 35 \t Training loss: 0.6898178773889974 \t Validation loss: 0.6915673593343314 \n",
      "\n",
      "8 epoch without improvement\n",
      " 35%|███▌      | 20090/57400 [1:06:04<1:44:40,  5.94it/s]\n",
      "Epoch 36 \t Training loss: 0.6890911871132535 \t Validation loss: 0.6909001378689782 \n",
      " 36%|███▌      | 20664/57400 [1:07:56<2:04:27,  4.92it/s]\n",
      "Epoch 37 \t Training loss: 0.6894456128417823 \t Validation loss: 0.6918262849419804 \n",
      "\n",
      "9 epoch without improvement\n",
      " 37%|███▋      | 21238/57400 [1:09:49<1:55:21,  5.22it/s]\n",
      "Epoch 38 \t Training loss: 0.6894287568766896 \t Validation loss: 0.6919007937786943 \n",
      "\n",
      "10 epoch without improvement\n",
      "Validation_loss hasn't improve in 10 epoch. Stopping training after 38 epochs...\n"
     ]
    },
    {
     "data": {
      "image/png": "[encoded data removed]",
      "text/plain": [
       "<Figure size 640x480 with 1 Axes>"
      ]
     },
     "metadata": {},
     "output_type": "display_data"
    }
   ],
   "source": [
    "learning_rate = 5e-5\n",
    "optimizer = SGD(model.parameters(), lr=learning_rate, momentum=0.9)\n",
    "num_epochs = 100\n",
    "\n",
    "st.train_function_early_stop(model,num_epochs,dl_train['as'],optimizer,early_stop=10,dl_val=dl_val['as'],save_path='m1_distilbert_simple_AS_best')"
   ]
  }
 ],
 "metadata": {
  "kernelspec": {
   "display_name": "tfg",
   "language": "python",
   "name": "python3"
  },
  "language_info": {
   "codemirror_mode": {
    "name": "ipython",
    "version": 3
   },
   "file_extension": ".py",
   "mimetype": "text/x-python",
   "name": "python",
   "nbconvert_exporter": "python",
   "pygments_lexer": "ipython3",
   "version": "3.9.13"
  },
  "orig_nbformat": 4,
  "vscode": {
   "interpreter": {
    "hash": "35e8332e99bdf485583869dfbdef293dcf2f9293b1663ec5daea0a573af457c3"
   }
  }
 },
 "nbformat": 4,
 "nbformat_minor": 2
}
